{
 "cells": [
  {
   "cell_type": "markdown",
   "metadata": {},
   "source": [
    "# Part 1: Classifying movie reviews"
   ]
  },
  {
   "cell_type": "markdown",
   "metadata": {},
   "source": [
    "IMDB dataset"
   ]
  },
  {
   "cell_type": "code",
   "execution_count": 16,
   "metadata": {},
   "outputs": [],
   "source": [
    "import numpy as np\n",
    "from keras import models, layers, optimizers, losses, metrics"
   ]
  },
  {
   "cell_type": "code",
   "execution_count": 1,
   "metadata": {},
   "outputs": [
    {
     "name": "stderr",
     "output_type": "stream",
     "text": [
      "Using TensorFlow backend.\n"
     ]
    }
   ],
   "source": [
    "from keras.datasets import imdb\n",
    "\n",
    "(train_data, train_labels), (test_data, test_labels) = imdb.load_data(num_words=10000)"
   ]
  },
  {
   "cell_type": "code",
   "execution_count": 4,
   "metadata": {},
   "outputs": [
    {
     "data": {
      "text/plain": [
       "[1, 14, 22, 16, 43, 530, 973, 1622, 1385, 65]"
      ]
     },
     "execution_count": 4,
     "metadata": {},
     "output_type": "execute_result"
    }
   ],
   "source": [
    "train_data[0][:10]"
   ]
  },
  {
   "cell_type": "markdown",
   "metadata": {},
   "source": [
    "#### Preparing the data"
   ]
  },
  {
   "cell_type": "code",
   "execution_count": 8,
   "metadata": {},
   "outputs": [],
   "source": [
    "def vectorize_sequences(sequences, dimension=10000):\n",
    "    results = np.zeros((len(sequences), dimension))\n",
    "    for i, sequence in enumerate(sequences):\n",
    "        results[i, sequence] = 1.\n",
    "    return results\n",
    "\n",
    "x_train = vectorize_sequences(train_data)\n",
    "x_test = vectorize_sequences(test_data)"
   ]
  },
  {
   "cell_type": "code",
   "execution_count": 9,
   "metadata": {},
   "outputs": [],
   "source": [
    "y_train = np.asarray(train_labels).astype('float32')\n",
    "y_test = np.asarray(test_labels).astype('float32')"
   ]
  },
  {
   "cell_type": "code",
   "execution_count": 10,
   "metadata": {},
   "outputs": [
    {
     "data": {
      "text/plain": [
       "array([1., 0., 0., 1., 0., 0., 1., 0., 1., 0.], dtype=float32)"
      ]
     },
     "execution_count": 10,
     "metadata": {},
     "output_type": "execute_result"
    }
   ],
   "source": [
    "y_train[:10]"
   ]
  },
  {
   "cell_type": "code",
   "execution_count": 13,
   "metadata": {},
   "outputs": [
    {
     "data": {
      "text/plain": [
       "array([0., 1., 1., ..., 0., 0., 0.])"
      ]
     },
     "execution_count": 13,
     "metadata": {},
     "output_type": "execute_result"
    }
   ],
   "source": [
    "x_train[1]"
   ]
  },
  {
   "cell_type": "markdown",
   "metadata": {},
   "source": [
    "### Building the network"
   ]
  },
  {
   "cell_type": "markdown",
   "metadata": {},
   "source": [
    "#### 3 hidden layers"
   ]
  },
  {
   "cell_type": "code",
   "execution_count": 17,
   "metadata": {},
   "outputs": [],
   "source": [
    "model = models.Sequential()\n",
    "model.add(layers.Dense(16, activation='relu', input_shape=(10000,)))\n",
    "model.add(layers.Dense(16, activation='relu'))\n",
    "model.add(layers.Dense(16, activation='relu'))\n",
    "model.add(layers.Dense(1, activation='sigmoid'))\n",
    "\n",
    "model.compile(optimizer=optimizers.RMSprop(lr=0.001),\n",
    "              loss=losses.binary_crossentropy,\n",
    "              metrics=[metrics.binary_accuracy])"
   ]
  },
  {
   "cell_type": "code",
   "execution_count": 24,
   "metadata": {},
   "outputs": [],
   "source": [
    "x_val = x_train[:5000]\n",
    "partial_x_train = x_train[5000:]\n",
    "y_val = y_train[:5000]\n",
    "partial_y_train = y_train[5000:]"
   ]
  },
  {
   "cell_type": "code",
   "execution_count": 25,
   "metadata": {},
   "outputs": [
    {
     "name": "stdout",
     "output_type": "stream",
     "text": [
      "Train on 25000 samples, validate on 5000 samples\n",
      "Epoch 1/10\n",
      "25000/25000 [==============================] - 18s 726us/step - loss: 0.1928 - binary_accuracy: 0.9289 - val_loss: 0.1860 - val_binary_accuracy: 0.9294\n",
      "Epoch 2/10\n",
      "25000/25000 [==============================] - 16s 639us/step - loss: 0.1623 - binary_accuracy: 0.9421 - val_loss: 0.1181 - val_binary_accuracy: 0.9632\n",
      "Epoch 3/10\n",
      "25000/25000 [==============================] - 12s 498us/step - loss: 0.1393 - binary_accuracy: 0.9489 - val_loss: 0.0991 - val_binary_accuracy: 0.9718\n",
      "Epoch 4/10\n",
      "25000/25000 [==============================] - 15s 595us/step - loss: 0.1232 - binary_accuracy: 0.9561 - val_loss: 0.0862 - val_binary_accuracy: 0.9762\n",
      "Epoch 5/10\n",
      "25000/25000 [==============================] - 12s 498us/step - loss: 0.1073 - binary_accuracy: 0.9622 - val_loss: 0.0756 - val_binary_accuracy: 0.9796\n",
      "Epoch 6/10\n",
      "25000/25000 [==============================] - 11s 454us/step - loss: 0.1007 - binary_accuracy: 0.9637 - val_loss: 0.0645 - val_binary_accuracy: 0.9836\n",
      "Epoch 7/10\n",
      "25000/25000 [==============================] - 14s 554us/step - loss: 0.0899 - binary_accuracy: 0.9689 - val_loss: 0.0618 - val_binary_accuracy: 0.9832\n",
      "Epoch 8/10\n",
      "25000/25000 [==============================] - 12s 492us/step - loss: 0.0723 - binary_accuracy: 0.9760 - val_loss: 0.0473 - val_binary_accuracy: 0.9880\n",
      "Epoch 9/10\n",
      "25000/25000 [==============================] - 13s 515us/step - loss: 0.0658 - binary_accuracy: 0.9780 - val_loss: 0.0543 - val_binary_accuracy: 0.9830\n",
      "Epoch 10/10\n",
      "25000/25000 [==============================] - 11s 429us/step - loss: 0.0581 - binary_accuracy: 0.9812 - val_loss: 0.0335 - val_binary_accuracy: 0.9920\n",
      "25000/25000 [==============================] - 21s 830us/step\n"
     ]
    }
   ],
   "source": [
    "history = model.fit(x_train, y_train, epochs=10, batch_size=512, validation_data=(x_val, y_val))\n",
    "results = model.evaluate(x_test, y_test)"
   ]
  },
  {
   "cell_type": "code",
   "execution_count": 37,
   "metadata": {},
   "outputs": [
    {
     "name": "stdout",
     "output_type": "stream",
     "text": [
      "Test accuracy: 0.85732\n"
     ]
    }
   ],
   "source": [
    "print('Test accuracy: {}'.format(results[1]))"
   ]
  },
  {
   "cell_type": "markdown",
   "metadata": {},
   "source": [
    "#### 2 hidden layers"
   ]
  },
  {
   "cell_type": "code",
   "execution_count": 30,
   "metadata": {},
   "outputs": [],
   "source": [
    "model_2 = models.Sequential()\n",
    "model_2.add(layers.Dense(16, activation='relu', input_shape=(10000,)))\n",
    "model_2.add(layers.Dense(16, activation='relu'))\n",
    "model_2.add(layers.Dense(1, activation='sigmoid'))\n",
    "\n",
    "model_2.compile(optimizer=optimizers.RMSprop(lr=0.001),\n",
    "              loss=losses.binary_crossentropy,\n",
    "              metrics=[metrics.binary_accuracy])"
   ]
  },
  {
   "cell_type": "code",
   "execution_count": 31,
   "metadata": {},
   "outputs": [
    {
     "name": "stdout",
     "output_type": "stream",
     "text": [
      "Train on 25000 samples, validate on 5000 samples\n",
      "Epoch 1/10\n",
      "25000/25000 [==============================] - 26s 1ms/step - loss: 0.4825 - binary_accuracy: 0.8094 - val_loss: 0.3077 - val_binary_accuracy: 0.9090\n",
      "Epoch 2/10\n",
      "25000/25000 [==============================] - 18s 715us/step - loss: 0.2716 - binary_accuracy: 0.9068 - val_loss: 0.2088 - val_binary_accuracy: 0.9340\n",
      "Epoch 3/10\n",
      "25000/25000 [==============================] - 17s 696us/step - loss: 0.2079 - binary_accuracy: 0.9253 - val_loss: 0.1649 - val_binary_accuracy: 0.9478\n",
      "Epoch 4/10\n",
      "25000/25000 [==============================] - 16s 629us/step - loss: 0.1741 - binary_accuracy: 0.9390 - val_loss: 0.1426 - val_binary_accuracy: 0.9550\n",
      "Epoch 5/10\n",
      "25000/25000 [==============================] - 16s 636us/step - loss: 0.1509 - binary_accuracy: 0.9475 - val_loss: 0.1269 - val_binary_accuracy: 0.9576\n",
      "Epoch 6/10\n",
      "25000/25000 [==============================] - 17s 695us/step - loss: 0.1331 - binary_accuracy: 0.9532 - val_loss: 0.1074 - val_binary_accuracy: 0.9664\n",
      "Epoch 7/10\n",
      "25000/25000 [==============================] - 14s 569us/step - loss: 0.1160 - binary_accuracy: 0.9602 - val_loss: 0.0943 - val_binary_accuracy: 0.9742\n",
      "Epoch 8/10\n",
      "25000/25000 [==============================] - 15s 580us/step - loss: 0.1045 - binary_accuracy: 0.9646 - val_loss: 0.0903 - val_binary_accuracy: 0.9712\n",
      "Epoch 9/10\n",
      "25000/25000 [==============================] - 13s 531us/step - loss: 0.0922 - binary_accuracy: 0.9694 - val_loss: 0.0682 - val_binary_accuracy: 0.9830\n",
      "Epoch 10/10\n",
      "25000/25000 [==============================] - 12s 479us/step - loss: 0.0816 - binary_accuracy: 0.9734 - val_loss: 0.0593 - val_binary_accuracy: 0.9852\n",
      "25000/25000 [==============================] - 24s 953us/step\n"
     ]
    }
   ],
   "source": [
    "history_2 = model_2.fit(x_train, y_train, epochs=10, batch_size=512, validation_data=(x_val, y_val))\n",
    "results_2 = model_2.evaluate(x_test, y_test)"
   ]
  },
  {
   "cell_type": "code",
   "execution_count": 38,
   "metadata": {},
   "outputs": [
    {
     "name": "stdout",
     "output_type": "stream",
     "text": [
      "Test accuracy: 0.86496\n"
     ]
    }
   ],
   "source": [
    "print('Test accuracy: {}'.format(results_2[1]))"
   ]
  },
  {
   "cell_type": "markdown",
   "metadata": {},
   "source": [
    "#### 1 hidden layer"
   ]
  },
  {
   "cell_type": "code",
   "execution_count": 33,
   "metadata": {},
   "outputs": [],
   "source": [
    "model_1 = models.Sequential()\n",
    "model_1.add(layers.Dense(16, activation='relu', input_shape=(10000,)))\n",
    "model_1.add(layers.Dense(1, activation='sigmoid'))\n",
    "\n",
    "model_1.compile(optimizer=optimizers.RMSprop(lr=0.001),\n",
    "              loss=losses.binary_crossentropy,\n",
    "              metrics=[metrics.binary_accuracy])"
   ]
  },
  {
   "cell_type": "code",
   "execution_count": 34,
   "metadata": {},
   "outputs": [
    {
     "name": "stdout",
     "output_type": "stream",
     "text": [
      "Train on 25000 samples, validate on 5000 samples\n",
      "Epoch 1/10\n",
      "25000/25000 [==============================] - 19s 774us/step - loss: 0.4323 - binary_accuracy: 0.8325 - val_loss: 0.2869 - val_binary_accuracy: 0.9136\n",
      "Epoch 2/10\n",
      "25000/25000 [==============================] - 14s 575us/step - loss: 0.2634 - binary_accuracy: 0.9103 - val_loss: 0.2130 - val_binary_accuracy: 0.9320\n",
      "Epoch 3/10\n",
      "25000/25000 [==============================] - 12s 474us/step - loss: 0.2104 - binary_accuracy: 0.9259 - val_loss: 0.1756 - val_binary_accuracy: 0.9466\n",
      "Epoch 4/10\n",
      "25000/25000 [==============================] - 11s 457us/step - loss: 0.1796 - binary_accuracy: 0.9400 - val_loss: 0.1658 - val_binary_accuracy: 0.9422\n",
      "Epoch 5/10\n",
      "25000/25000 [==============================] - 11s 450us/step - loss: 0.1594 - binary_accuracy: 0.9456 - val_loss: 0.1340 - val_binary_accuracy: 0.9608\n",
      "Epoch 6/10\n",
      "25000/25000 [==============================] - 13s 518us/step - loss: 0.1422 - binary_accuracy: 0.9528 - val_loss: 0.1197 - val_binary_accuracy: 0.9644\n",
      "Epoch 7/10\n",
      "25000/25000 [==============================] - 11s 437us/step - loss: 0.1302 - binary_accuracy: 0.9571 - val_loss: 0.1113 - val_binary_accuracy: 0.9680\n",
      "Epoch 8/10\n",
      "25000/25000 [==============================] - 9s 372us/step - loss: 0.1178 - binary_accuracy: 0.9607 - val_loss: 0.1004 - val_binary_accuracy: 0.9708\n",
      "Epoch 9/10\n",
      "25000/25000 [==============================] - 8s 314us/step - loss: 0.1077 - binary_accuracy: 0.9653 - val_loss: 0.0894 - val_binary_accuracy: 0.9744\n",
      "Epoch 10/10\n",
      "25000/25000 [==============================] - 8s 304us/step - loss: 0.1006 - binary_accuracy: 0.9675 - val_loss: 0.0831 - val_binary_accuracy: 0.9780\n",
      "25000/25000 [==============================] - 22s 895us/step\n"
     ]
    }
   ],
   "source": [
    "history_1 = model_1.fit(x_train, y_train, epochs=10, batch_size=512, validation_data=(x_val, y_val))\n",
    "results_1 = model_1.evaluate(x_test, y_test)"
   ]
  },
  {
   "cell_type": "code",
   "execution_count": 39,
   "metadata": {},
   "outputs": [
    {
     "name": "stdout",
     "output_type": "stream",
     "text": [
      "Test accuracy: 0.8714\n"
     ]
    }
   ],
   "source": [
    "print('Test accuracy: {}'.format(results_1[1]))"
   ]
  },
  {
   "cell_type": "markdown",
   "metadata": {},
   "source": [
    "According to the test accuracy, the model with **1 hidden layer** was the best. Continue experimenting with this model."
   ]
  },
  {
   "cell_type": "markdown",
   "metadata": {},
   "source": [
    "### Experimenting with the number of hidden units"
   ]
  },
  {
   "cell_type": "markdown",
   "metadata": {},
   "source": [
    "#### 1 hidden layer of 32 units"
   ]
  },
  {
   "cell_type": "code",
   "execution_count": 40,
   "metadata": {},
   "outputs": [],
   "source": [
    "model = models.Sequential()\n",
    "model.add(layers.Dense(32, activation='relu', input_shape=(10000,)))\n",
    "model.add(layers.Dense(1, activation='sigmoid'))\n",
    "\n",
    "model.compile(optimizer=optimizers.RMSprop(lr=0.001),\n",
    "              loss=losses.binary_crossentropy,\n",
    "              metrics=[metrics.binary_accuracy])"
   ]
  },
  {
   "cell_type": "code",
   "execution_count": 41,
   "metadata": {},
   "outputs": [
    {
     "name": "stdout",
     "output_type": "stream",
     "text": [
      "Train on 25000 samples, validate on 5000 samples\n",
      "Epoch 1/10\n",
      "25000/25000 [==============================] - 26s 1ms/step - loss: 0.4239 - binary_accuracy: 0.8245 - val_loss: 0.2623 - val_binary_accuracy: 0.9208\n",
      "Epoch 2/10\n",
      "25000/25000 [==============================] - 22s 862us/step - loss: 0.2496 - binary_accuracy: 0.9120 - val_loss: 0.2056 - val_binary_accuracy: 0.9296\n",
      "Epoch 3/10\n",
      "25000/25000 [==============================] - 20s 795us/step - loss: 0.1979 - binary_accuracy: 0.9304 - val_loss: 0.1746 - val_binary_accuracy: 0.9402\n",
      "Epoch 4/10\n",
      "25000/25000 [==============================] - 16s 655us/step - loss: 0.1691 - binary_accuracy: 0.9410 - val_loss: 0.1382 - val_binary_accuracy: 0.9598\n",
      "Epoch 5/10\n",
      "25000/25000 [==============================] - 15s 584us/step - loss: 0.1477 - binary_accuracy: 0.9496 - val_loss: 0.1192 - val_binary_accuracy: 0.9658\n",
      "Epoch 6/10\n",
      "25000/25000 [==============================] - 15s 594us/step - loss: 0.1314 - binary_accuracy: 0.9544 - val_loss: 0.1059 - val_binary_accuracy: 0.9700\n",
      "Epoch 7/10\n",
      "25000/25000 [==============================] - 19s 751us/step - loss: 0.1176 - binary_accuracy: 0.9605 - val_loss: 0.0916 - val_binary_accuracy: 0.9748\n",
      "Epoch 8/10\n",
      "25000/25000 [==============================] - 18s 736us/step - loss: 0.1065 - binary_accuracy: 0.9655 - val_loss: 0.0829 - val_binary_accuracy: 0.9782\n",
      "Epoch 9/10\n",
      "25000/25000 [==============================] - 17s 679us/step - loss: 0.0966 - binary_accuracy: 0.9683 - val_loss: 0.0789 - val_binary_accuracy: 0.9780\n",
      "Epoch 10/10\n",
      "25000/25000 [==============================] - 16s 639us/step - loss: 0.0883 - binary_accuracy: 0.9710 - val_loss: 0.0669 - val_binary_accuracy: 0.9832\n",
      "25000/25000 [==============================] - 25s 1ms/step\n"
     ]
    }
   ],
   "source": [
    "history = model.fit(x_train, y_train, epochs=10, batch_size=512, validation_data=(x_val, y_val))\n",
    "results = model.evaluate(x_test, y_test)"
   ]
  },
  {
   "cell_type": "code",
   "execution_count": 42,
   "metadata": {},
   "outputs": [
    {
     "name": "stdout",
     "output_type": "stream",
     "text": [
      "Test accuracy: 0.86556\n"
     ]
    }
   ],
   "source": [
    "print('Test accuracy: {}'.format(results[1]))"
   ]
  },
  {
   "cell_type": "markdown",
   "metadata": {},
   "source": [
    "#### 1 hidden layer of 64 units"
   ]
  },
  {
   "cell_type": "code",
   "execution_count": 43,
   "metadata": {},
   "outputs": [],
   "source": [
    "model = models.Sequential()\n",
    "model.add(layers.Dense(64, activation='relu', input_shape=(10000,)))\n",
    "model.add(layers.Dense(1, activation='sigmoid'))\n",
    "\n",
    "model.compile(optimizer=optimizers.RMSprop(lr=0.001),\n",
    "              loss=losses.binary_crossentropy,\n",
    "              metrics=[metrics.binary_accuracy])"
   ]
  },
  {
   "cell_type": "code",
   "execution_count": 44,
   "metadata": {},
   "outputs": [
    {
     "name": "stdout",
     "output_type": "stream",
     "text": [
      "Train on 25000 samples, validate on 5000 samples\n",
      "Epoch 1/10\n",
      "25000/25000 [==============================] - 25s 993us/step - loss: 0.4105 - binary_accuracy: 0.8245 - val_loss: 0.2627 - val_binary_accuracy: 0.9084\n",
      "Epoch 2/10\n",
      "25000/25000 [==============================] - 19s 756us/step - loss: 0.2384 - binary_accuracy: 0.9134 - val_loss: 0.2385 - val_binary_accuracy: 0.9050\n",
      "Epoch 3/10\n",
      "25000/25000 [==============================] - 16s 660us/step - loss: 0.1903 - binary_accuracy: 0.9307 - val_loss: 0.1431 - val_binary_accuracy: 0.9584\n",
      "Epoch 4/10\n",
      "25000/25000 [==============================] - 14s 574us/step - loss: 0.1591 - binary_accuracy: 0.9432 - val_loss: 0.1292 - val_binary_accuracy: 0.9596\n",
      "Epoch 5/10\n",
      "25000/25000 [==============================] - 15s 586us/step - loss: 0.1423 - binary_accuracy: 0.9488 - val_loss: 0.1243 - val_binary_accuracy: 0.9598\n",
      "Epoch 6/10\n",
      "25000/25000 [==============================] - 16s 637us/step - loss: 0.1229 - binary_accuracy: 0.9579 - val_loss: 0.1188 - val_binary_accuracy: 0.9596\n",
      "Epoch 7/10\n",
      "25000/25000 [==============================] - 16s 623us/step - loss: 0.1110 - binary_accuracy: 0.9612 - val_loss: 0.0808 - val_binary_accuracy: 0.9766\n",
      "Epoch 8/10\n",
      "25000/25000 [==============================] - 14s 542us/step - loss: 0.1003 - binary_accuracy: 0.9661 - val_loss: 0.0756 - val_binary_accuracy: 0.9788\n",
      "Epoch 9/10\n",
      "25000/25000 [==============================] - 15s 604us/step - loss: 0.0879 - binary_accuracy: 0.9698 - val_loss: 0.0644 - val_binary_accuracy: 0.9820\n",
      "Epoch 10/10\n",
      "25000/25000 [==============================] - 16s 639us/step - loss: 0.0804 - binary_accuracy: 0.9728 - val_loss: 0.0563 - val_binary_accuracy: 0.9854\n",
      "25000/25000 [==============================] - 25s 985us/step\n"
     ]
    }
   ],
   "source": [
    "history = model.fit(x_train, y_train, epochs=10, batch_size=512, validation_data=(x_val, y_val))\n",
    "results = model.evaluate(x_test, y_test)"
   ]
  },
  {
   "cell_type": "code",
   "execution_count": 45,
   "metadata": {},
   "outputs": [
    {
     "name": "stdout",
     "output_type": "stream",
     "text": [
      "Test accuracy: 0.8608\n"
     ]
    }
   ],
   "source": [
    "print('Test accuracy: {}'.format(results[1]))"
   ]
  },
  {
   "cell_type": "markdown",
   "metadata": {},
   "source": [
    "Having **32 hidden units** seems to work better"
   ]
  },
  {
   "cell_type": "markdown",
   "metadata": {},
   "source": [
    "### Experimenting with the loss function"
   ]
  },
  {
   "cell_type": "markdown",
   "metadata": {},
   "source": [
    "**Binary crossentropy** was used before. Accuracy: 0.86556"
   ]
  },
  {
   "cell_type": "markdown",
   "metadata": {},
   "source": [
    "#### MSE (1 hidden layer of 32 units)"
   ]
  },
  {
   "cell_type": "code",
   "execution_count": 48,
   "metadata": {},
   "outputs": [],
   "source": [
    "model = models.Sequential()\n",
    "model.add(layers.Dense(32, activation='relu', input_shape=(10000,)))\n",
    "model.add(layers.Dense(1, activation='sigmoid'))\n",
    "\n",
    "model.compile(optimizer=optimizers.RMSprop(lr=0.001),\n",
    "              loss=losses.mse,\n",
    "              metrics=[metrics.binary_accuracy])"
   ]
  },
  {
   "cell_type": "code",
   "execution_count": 49,
   "metadata": {},
   "outputs": [
    {
     "name": "stdout",
     "output_type": "stream",
     "text": [
      "Train on 25000 samples, validate on 5000 samples\n",
      "Epoch 1/10\n",
      "25000/25000 [==============================] - 22s 864us/step - loss: 0.1363 - binary_accuracy: 0.8280 - val_loss: 0.0798 - val_binary_accuracy: 0.9210\n",
      "Epoch 2/10\n",
      "25000/25000 [==============================] - 17s 686us/step - loss: 0.0755 - binary_accuracy: 0.9144 - val_loss: 0.0588 - val_binary_accuracy: 0.9374\n",
      "Epoch 3/10\n",
      "25000/25000 [==============================] - 15s 597us/step - loss: 0.0592 - binary_accuracy: 0.9321 - val_loss: 0.0479 - val_binary_accuracy: 0.9496\n",
      "Epoch 4/10\n",
      "25000/25000 [==============================] - 13s 515us/step - loss: 0.0501 - binary_accuracy: 0.9421 - val_loss: 0.0384 - val_binary_accuracy: 0.9642\n",
      "Epoch 5/10\n",
      "25000/25000 [==============================] - 14s 548us/step - loss: 0.0429 - binary_accuracy: 0.9514 - val_loss: 0.0402 - val_binary_accuracy: 0.9566\n",
      "Epoch 6/10\n",
      "25000/25000 [==============================] - 14s 542us/step - loss: 0.0376 - binary_accuracy: 0.9596 - val_loss: 0.0300 - val_binary_accuracy: 0.9696\n",
      "Epoch 7/10\n",
      "25000/25000 [==============================] - 17s 694us/step - loss: 0.0339 - binary_accuracy: 0.9633 - val_loss: 0.0260 - val_binary_accuracy: 0.9770\n",
      "Epoch 8/10\n",
      "25000/25000 [==============================] - 18s 704us/step - loss: 0.0303 - binary_accuracy: 0.9684 - val_loss: 0.0249 - val_binary_accuracy: 0.9764\n",
      "Epoch 9/10\n",
      "25000/25000 [==============================] - 19s 771us/step - loss: 0.0272 - binary_accuracy: 0.9729 - val_loss: 0.0215 - val_binary_accuracy: 0.9820\n",
      "Epoch 10/10\n",
      "25000/25000 [==============================] - 22s 877us/step - loss: 0.0248 - binary_accuracy: 0.9750 - val_loss: 0.0204 - val_binary_accuracy: 0.9820\n",
      "25000/25000 [==============================] - 26s 1ms/step\n"
     ]
    }
   ],
   "source": [
    "history = model.fit(x_train, y_train, epochs=10, batch_size=512, validation_data=(x_val, y_val))\n",
    "results = model.evaluate(x_test, y_test)"
   ]
  },
  {
   "cell_type": "code",
   "execution_count": 50,
   "metadata": {},
   "outputs": [
    {
     "name": "stdout",
     "output_type": "stream",
     "text": [
      "Test accuracy: 0.86652\n"
     ]
    }
   ],
   "source": [
    "print('Test accuracy: {}'.format(results[1]))"
   ]
  },
  {
   "cell_type": "markdown",
   "metadata": {},
   "source": [
    "The model using the **mse** loss function performs a little better"
   ]
  },
  {
   "cell_type": "markdown",
   "metadata": {},
   "source": [
    "### Experimenting with activation"
   ]
  },
  {
   "cell_type": "markdown",
   "metadata": {},
   "source": [
    "**Relu** was used before. Accuracy: 0.86652"
   ]
  },
  {
   "cell_type": "markdown",
   "metadata": {},
   "source": [
    "#### Tanh activation"
   ]
  },
  {
   "cell_type": "code",
   "execution_count": 51,
   "metadata": {},
   "outputs": [],
   "source": [
    "model = models.Sequential()\n",
    "model.add(layers.Dense(32, activation='tanh', input_shape=(10000,)))\n",
    "model.add(layers.Dense(1, activation='sigmoid'))\n",
    "\n",
    "model.compile(optimizer=optimizers.RMSprop(lr=0.001),\n",
    "              loss=losses.mse,\n",
    "              metrics=[metrics.binary_accuracy])"
   ]
  },
  {
   "cell_type": "code",
   "execution_count": 52,
   "metadata": {},
   "outputs": [
    {
     "name": "stdout",
     "output_type": "stream",
     "text": [
      "Train on 25000 samples, validate on 5000 samples\n",
      "Epoch 1/10\n",
      "25000/25000 [==============================] - 21s 838us/step - loss: 0.1335 - binary_accuracy: 0.8290 - val_loss: 0.0760 - val_binary_accuracy: 0.9232\n",
      "Epoch 2/10\n",
      "25000/25000 [==============================] - 16s 642us/step - loss: 0.0735 - binary_accuracy: 0.9121 - val_loss: 0.0525 - val_binary_accuracy: 0.9434\n",
      "Epoch 3/10\n",
      "25000/25000 [==============================] - 16s 638us/step - loss: 0.0552 - binary_accuracy: 0.9339 - val_loss: 0.0519 - val_binary_accuracy: 0.9362\n",
      "Epoch 4/10\n",
      "25000/25000 [==============================] - 14s 553us/step - loss: 0.0454 - binary_accuracy: 0.9469 - val_loss: 0.0322 - val_binary_accuracy: 0.9694\n",
      "Epoch 5/10\n",
      "25000/25000 [==============================] - 15s 588us/step - loss: 0.0386 - binary_accuracy: 0.9550 - val_loss: 0.0351 - val_binary_accuracy: 0.9594\n",
      "Epoch 6/10\n",
      "25000/25000 [==============================] - 13s 527us/step - loss: 0.0333 - binary_accuracy: 0.9623 - val_loss: 0.0317 - val_binary_accuracy: 0.9634\n",
      "Epoch 7/10\n",
      "25000/25000 [==============================] - 13s 523us/step - loss: 0.0289 - binary_accuracy: 0.9675 - val_loss: 0.0223 - val_binary_accuracy: 0.9772\n",
      "Epoch 8/10\n",
      "25000/25000 [==============================] - 12s 491us/step - loss: 0.0260 - binary_accuracy: 0.9712 - val_loss: 0.0180 - val_binary_accuracy: 0.9824\n",
      "Epoch 9/10\n",
      "25000/25000 [==============================] - 10s 416us/step - loss: 0.0229 - binary_accuracy: 0.9753 - val_loss: 0.0187 - val_binary_accuracy: 0.9812\n",
      "Epoch 10/10\n",
      "25000/25000 [==============================] - 10s 407us/step - loss: 0.0210 - binary_accuracy: 0.9774 - val_loss: 0.0191 - val_binary_accuracy: 0.9788\n",
      "25000/25000 [==============================] - 23s 906us/step\n"
     ]
    }
   ],
   "source": [
    "history = model.fit(x_train, y_train, epochs=10, batch_size=512, validation_data=(x_val, y_val))\n",
    "results = model.evaluate(x_test, y_test)"
   ]
  },
  {
   "cell_type": "code",
   "execution_count": 53,
   "metadata": {},
   "outputs": [
    {
     "name": "stdout",
     "output_type": "stream",
     "text": [
      "Test accuracy: 0.85852\n"
     ]
    }
   ],
   "source": [
    "print('Test accuracy: {}'.format(results[1]))"
   ]
  },
  {
   "cell_type": "markdown",
   "metadata": {},
   "source": [
    "The model that uses the **relu** activation works a little better"
   ]
  },
  {
   "cell_type": "markdown",
   "metadata": {},
   "source": [
    "  "
   ]
  },
  {
   "cell_type": "markdown",
   "metadata": {},
   "source": [
    "# Part 2: classifying newswires"
   ]
  },
  {
   "cell_type": "markdown",
   "metadata": {},
   "source": [
    "Reuters dataset"
   ]
  },
  {
   "cell_type": "code",
   "execution_count": 63,
   "metadata": {},
   "outputs": [],
   "source": [
    "from keras.datasets import reuters\n",
    "\n",
    "(train_data, train_labels), (test_data, test_labels) = reuters.load_data(\n",
    "    num_words=10000)"
   ]
  },
  {
   "cell_type": "code",
   "execution_count": 64,
   "metadata": {},
   "outputs": [],
   "source": [
    "def vectorize_sequences(sequences, dimension=10000):\n",
    "    results = np.zeros((len(sequences), dimension))\n",
    "    for i, sequence in enumerate(sequences):\n",
    "        results[i, sequence] = 1.\n",
    "    return results\n",
    "\n",
    "x_train = vectorize_sequences(train_data)\n",
    "x_test = vectorize_sequences(test_data)"
   ]
  },
  {
   "cell_type": "code",
   "execution_count": 65,
   "metadata": {},
   "outputs": [],
   "source": [
    "from keras.utils.np_utils import to_categorical\n",
    "\n",
    "one_hot_train_labels = to_categorical(train_labels)\n",
    "one_hot_test_labels = to_categorical(test_labels)"
   ]
  },
  {
   "cell_type": "code",
   "execution_count": 66,
   "metadata": {},
   "outputs": [],
   "source": [
    "model = models.Sequential()\n",
    "model.add(layers.Dense(64, activation='relu', input_shape=(10000,)))\n",
    "model.add(layers.Dense(64, activation='relu'))\n",
    "model.add(layers.Dense(46, activation='softmax'))\n",
    "\n",
    "model.compile(optimizer=optimizers.RMSprop(lr=0.001),\n",
    "              loss=losses.categorical_crossentropy,\n",
    "              metrics=[metrics.binary_accuracy])"
   ]
  },
  {
   "cell_type": "code",
   "execution_count": 67,
   "metadata": {},
   "outputs": [],
   "source": [
    "x_val = x_train[:1000]\n",
    "partial_x_train = x_train[1000:]\n",
    "\n",
    "y_val = one_hot_train_labels[:1000]\n",
    "partial_y_train = one_hot_train_labels[1000:]"
   ]
  },
  {
   "cell_type": "code",
   "execution_count": 68,
   "metadata": {},
   "outputs": [
    {
     "name": "stdout",
     "output_type": "stream",
     "text": [
      "Train on 7982 samples, validate on 1000 samples\n",
      "Epoch 1/9\n",
      "7982/7982 [==============================] - 5s 566us/step - loss: 2.5353 - binary_accuracy: 0.9805 - val_loss: 1.7273 - val_binary_accuracy: 0.9852\n",
      "Epoch 2/9\n",
      "7982/7982 [==============================] - 3s 403us/step - loss: 1.4522 - binary_accuracy: 0.9878 - val_loss: 1.3517 - val_binary_accuracy: 0.9890\n",
      "Epoch 3/9\n",
      "7982/7982 [==============================] - 2s 311us/step - loss: 1.1012 - binary_accuracy: 0.9906 - val_loss: 1.1743 - val_binary_accuracy: 0.9902\n",
      "Epoch 4/9\n",
      "7982/7982 [==============================] - 2s 300us/step - loss: 0.8745 - binary_accuracy: 0.9922 - val_loss: 1.0851 - val_binary_accuracy: 0.9907\n",
      "Epoch 5/9\n",
      "7982/7982 [==============================] - 2s 305us/step - loss: 0.7074 - binary_accuracy: 0.9933 - val_loss: 0.9864 - val_binary_accuracy: 0.9908\n",
      "Epoch 6/9\n",
      "7982/7982 [==============================] - 2s 310us/step - loss: 0.5697 - binary_accuracy: 0.9944 - val_loss: 0.9403 - val_binary_accuracy: 0.9916\n",
      "Epoch 7/9\n",
      "7982/7982 [==============================] - 3s 316us/step - loss: 0.4607 - binary_accuracy: 0.9952 - val_loss: 0.9083 - val_binary_accuracy: 0.9917\n",
      "Epoch 8/9\n",
      "7982/7982 [==============================] - 3s 315us/step - loss: 0.3712 - binary_accuracy: 0.9960 - val_loss: 0.9349 - val_binary_accuracy: 0.9917\n",
      "Epoch 9/9\n",
      "7982/7982 [==============================] - 3s 318us/step - loss: 0.3041 - binary_accuracy: 0.9965 - val_loss: 0.8905 - val_binary_accuracy: 0.9921\n"
     ]
    }
   ],
   "source": [
    "history = model.fit(partial_x_train,\n",
    "                    partial_y_train,\n",
    "                    epochs=9,\n",
    "                    batch_size=512,\n",
    "                    validation_data=(x_val, y_val)\n",
    "                   )"
   ]
  },
  {
   "cell_type": "code",
   "execution_count": 70,
   "metadata": {},
   "outputs": [
    {
     "name": "stdout",
     "output_type": "stream",
     "text": [
      "2246/2246 [==============================] - 1s 316us/step\n"
     ]
    }
   ],
   "source": [
    "results = model.evaluate(x_test, one_hot_test_labels)"
   ]
  },
  {
   "cell_type": "code",
   "execution_count": 71,
   "metadata": {},
   "outputs": [
    {
     "data": {
      "text/plain": [
       "0.9911920869339819"
      ]
     },
     "execution_count": 71,
     "metadata": {},
     "output_type": "execute_result"
    }
   ],
   "source": [
    "results[1]"
   ]
  },
  {
   "cell_type": "markdown",
   "metadata": {},
   "source": [
    "#### Using less hidden units (32)"
   ]
  },
  {
   "cell_type": "code",
   "execution_count": 72,
   "metadata": {},
   "outputs": [
    {
     "name": "stdout",
     "output_type": "stream",
     "text": [
      "Train on 7982 samples, validate on 1000 samples\n",
      "Epoch 1/9\n",
      "7982/7982 [==============================] - 7s 835us/step - loss: 3.0975 - binary_accuracy: 0.9785 - val_loss: 2.3174 - val_binary_accuracy: 0.9797\n",
      "Epoch 2/9\n",
      "7982/7982 [==============================] - 3s 343us/step - loss: 1.8980 - binary_accuracy: 0.9827 - val_loss: 1.6703 - val_binary_accuracy: 0.9854\n",
      "Epoch 3/9\n",
      "7982/7982 [==============================] - 2s 311us/step - loss: 1.4047 - binary_accuracy: 0.9878 - val_loss: 1.4038 - val_binary_accuracy: 0.9884\n",
      "Epoch 4/9\n",
      "7982/7982 [==============================] - 2s 274us/step - loss: 1.1582 - binary_accuracy: 0.9905 - val_loss: 1.2635 - val_binary_accuracy: 0.9899\n",
      "Epoch 5/9\n",
      "7982/7982 [==============================] - 3s 324us/step - loss: 0.9933 - binary_accuracy: 0.9916 - val_loss: 1.1801 - val_binary_accuracy: 0.9904\n",
      "Epoch 6/9\n",
      "7982/7982 [==============================] - 3s 350us/step - loss: 0.8638 - binary_accuracy: 0.9925 - val_loss: 1.1192 - val_binary_accuracy: 0.9908\n",
      "Epoch 7/9\n",
      "7982/7982 [==============================] - 2s 287us/step - loss: 0.7564 - binary_accuracy: 0.9932 - val_loss: 1.0798 - val_binary_accuracy: 0.9906\n",
      "Epoch 8/9\n",
      "7982/7982 [==============================] - 2s 285us/step - loss: 0.6665 - binary_accuracy: 0.9939 - val_loss: 1.0446 - val_binary_accuracy: 0.9911\n",
      "Epoch 9/9\n",
      "7982/7982 [==============================] - 2s 296us/step - loss: 0.5832 - binary_accuracy: 0.9944 - val_loss: 1.0100 - val_binary_accuracy: 0.9913\n",
      "2246/2246 [==============================] - 1s 573us/step\n"
     ]
    }
   ],
   "source": [
    "model = models.Sequential()\n",
    "model.add(layers.Dense(32, activation='relu', input_shape=(10000,)))\n",
    "model.add(layers.Dense(32, activation='relu'))\n",
    "model.add(layers.Dense(46, activation='softmax'))\n",
    "\n",
    "model.compile(optimizer=optimizers.RMSprop(lr=0.001),\n",
    "              loss=losses.categorical_crossentropy,\n",
    "              metrics=[metrics.binary_accuracy])\n",
    "\n",
    "history = model.fit(partial_x_train,\n",
    "                    partial_y_train,\n",
    "                    epochs=9,\n",
    "                    batch_size=512,\n",
    "                    validation_data=(x_val, y_val)\n",
    "                   )\n",
    "results = model.evaluate(x_test, one_hot_test_labels)"
   ]
  },
  {
   "cell_type": "code",
   "execution_count": 73,
   "metadata": {},
   "outputs": [
    {
     "data": {
      "text/plain": [
       "0.9907274944168696"
      ]
     },
     "execution_count": 73,
     "metadata": {},
     "output_type": "execute_result"
    }
   ],
   "source": [
    "results[1]"
   ]
  },
  {
   "cell_type": "markdown",
   "metadata": {},
   "source": [
    "#### Using less hidden units (16)"
   ]
  },
  {
   "cell_type": "code",
   "execution_count": 76,
   "metadata": {},
   "outputs": [
    {
     "name": "stdout",
     "output_type": "stream",
     "text": [
      "Train on 7982 samples, validate on 1000 samples\n",
      "Epoch 1/9\n",
      "7982/7982 [==============================] - 3s 394us/step - loss: 3.4649 - binary_accuracy: 0.9783 - val_loss: 3.0572 - val_binary_accuracy: 0.9784\n",
      "Epoch 2/9\n",
      "7982/7982 [==============================] - 2s 282us/step - loss: 2.7043 - binary_accuracy: 0.9789 - val_loss: 2.3974 - val_binary_accuracy: 0.9796\n",
      "Epoch 3/9\n",
      "7982/7982 [==============================] - 2s 272us/step - loss: 2.0849 - binary_accuracy: 0.9813 - val_loss: 1.9039 - val_binary_accuracy: 0.9828\n",
      "Epoch 4/9\n",
      "7982/7982 [==============================] - 2s 297us/step - loss: 1.6596 - binary_accuracy: 0.9850 - val_loss: 1.6010 - val_binary_accuracy: 0.9860\n",
      "Epoch 5/9\n",
      "7982/7982 [==============================] - 2s 255us/step - loss: 1.3896 - binary_accuracy: 0.9880 - val_loss: 1.4155 - val_binary_accuracy: 0.9877\n",
      "Epoch 6/9\n",
      "7982/7982 [==============================] - 2s 259us/step - loss: 1.2076 - binary_accuracy: 0.9897 - val_loss: 1.3008 - val_binary_accuracy: 0.9897\n",
      "Epoch 7/9\n",
      "7982/7982 [==============================] - 2s 274us/step - loss: 1.0746 - binary_accuracy: 0.9910 - val_loss: 1.2263 - val_binary_accuracy: 0.9901\n",
      "Epoch 8/9\n",
      "7982/7982 [==============================] - 2s 276us/step - loss: 0.9698 - binary_accuracy: 0.9917 - val_loss: 1.1678 - val_binary_accuracy: 0.9904\n",
      "Epoch 9/9\n",
      "7982/7982 [==============================] - 2s 257us/step - loss: 0.8831 - binary_accuracy: 0.9922 - val_loss: 1.1398 - val_binary_accuracy: 0.9905\n",
      "2246/2246 [==============================] - 1s 337us/step\n"
     ]
    }
   ],
   "source": [
    "model = models.Sequential()\n",
    "model.add(layers.Dense(16, activation='relu', input_shape=(10000,)))\n",
    "model.add(layers.Dense(16, activation='relu'))\n",
    "model.add(layers.Dense(46, activation='softmax'))\n",
    "\n",
    "model.compile(optimizer=optimizers.RMSprop(lr=0.001),\n",
    "              loss=losses.categorical_crossentropy,\n",
    "              metrics=[metrics.binary_accuracy])\n",
    "\n",
    "history = model.fit(partial_x_train,\n",
    "                    partial_y_train,\n",
    "                    epochs=9,\n",
    "                    batch_size=512,\n",
    "                    validation_data=(x_val, y_val)\n",
    "                   )\n",
    "results = model.evaluate(x_test, one_hot_test_labels)"
   ]
  },
  {
   "cell_type": "code",
   "execution_count": 77,
   "metadata": {},
   "outputs": [
    {
     "data": {
      "text/plain": [
       "0.9902822586541078"
      ]
     },
     "execution_count": 77,
     "metadata": {},
     "output_type": "execute_result"
    }
   ],
   "source": [
    "results[1]"
   ]
  },
  {
   "cell_type": "markdown",
   "metadata": {},
   "source": [
    "#### Using more hidden units (128)"
   ]
  },
  {
   "cell_type": "code",
   "execution_count": 74,
   "metadata": {},
   "outputs": [
    {
     "name": "stdout",
     "output_type": "stream",
     "text": [
      "Train on 7982 samples, validate on 1000 samples\n",
      "Epoch 1/9\n",
      "7982/7982 [==============================] - 4s 525us/step - loss: 2.2531 - binary_accuracy: 0.9822 - val_loss: 1.4524 - val_binary_accuracy: 0.9874\n",
      "Epoch 2/9\n",
      "7982/7982 [==============================] - 4s 456us/step - loss: 1.1717 - binary_accuracy: 0.9901 - val_loss: 1.1415 - val_binary_accuracy: 0.9901\n",
      "Epoch 3/9\n",
      "7982/7982 [==============================] - 3s 386us/step - loss: 0.8202 - binary_accuracy: 0.9925 - val_loss: 1.0116 - val_binary_accuracy: 0.9907\n",
      "Epoch 4/9\n",
      "7982/7982 [==============================] - 3s 365us/step - loss: 0.5955 - binary_accuracy: 0.9941 - val_loss: 0.9961 - val_binary_accuracy: 0.9903\n",
      "Epoch 5/9\n",
      "7982/7982 [==============================] - 4s 440us/step - loss: 0.4333 - binary_accuracy: 0.9954 - val_loss: 0.9036 - val_binary_accuracy: 0.9915\n",
      "Epoch 6/9\n",
      "7982/7982 [==============================] - 3s 423us/step - loss: 0.3378 - binary_accuracy: 0.9963 - val_loss: 0.8720 - val_binary_accuracy: 0.9921\n",
      "Epoch 7/9\n",
      "7982/7982 [==============================] - 3s 401us/step - loss: 0.2604 - binary_accuracy: 0.9971 - val_loss: 0.8659 - val_binary_accuracy: 0.9923\n",
      "Epoch 8/9\n",
      "7982/7982 [==============================] - 3s 411us/step - loss: 0.2148 - binary_accuracy: 0.9975 - val_loss: 0.9802 - val_binary_accuracy: 0.9917\n",
      "Epoch 9/9\n",
      "7982/7982 [==============================] - 3s 410us/step - loss: 0.1816 - binary_accuracy: 0.9978 - val_loss: 1.0121 - val_binary_accuracy: 0.9911\n",
      "2246/2246 [==============================] - 1s 440us/step\n"
     ]
    }
   ],
   "source": [
    "model = models.Sequential()\n",
    "model.add(layers.Dense(128, activation='relu', input_shape=(10000,)))\n",
    "model.add(layers.Dense(128, activation='relu'))\n",
    "model.add(layers.Dense(46, activation='softmax'))\n",
    "\n",
    "model.compile(optimizer=optimizers.RMSprop(lr=0.001),\n",
    "              loss=losses.categorical_crossentropy,\n",
    "              metrics=[metrics.binary_accuracy])\n",
    "\n",
    "history = model.fit(partial_x_train,\n",
    "                    partial_y_train,\n",
    "                    epochs=9,\n",
    "                    batch_size=512,\n",
    "                    validation_data=(x_val, y_val)\n",
    "                   )\n",
    "results = model.evaluate(x_test, one_hot_test_labels)"
   ]
  },
  {
   "cell_type": "code",
   "execution_count": 75,
   "metadata": {},
   "outputs": [
    {
     "data": {
      "text/plain": [
       "0.9903596871576453"
      ]
     },
     "execution_count": 75,
     "metadata": {},
     "output_type": "execute_result"
    }
   ],
   "source": [
    "results[1]"
   ]
  },
  {
   "cell_type": "markdown",
   "metadata": {},
   "source": [
    "To avoid overloading the model, let's continue using 32 units"
   ]
  },
  {
   "cell_type": "markdown",
   "metadata": {},
   "source": [
    "#### Using 1 hidden layer"
   ]
  },
  {
   "cell_type": "code",
   "execution_count": 78,
   "metadata": {},
   "outputs": [
    {
     "name": "stdout",
     "output_type": "stream",
     "text": [
      "Train on 7982 samples, validate on 1000 samples\n",
      "Epoch 1/9\n",
      "7982/7982 [==============================] - 3s 397us/step - loss: 3.1273 - binary_accuracy: 0.9784 - val_loss: 2.4809 - val_binary_accuracy: 0.9789\n",
      "Epoch 2/9\n",
      "7982/7982 [==============================] - 2s 291us/step - loss: 2.0967 - binary_accuracy: 0.9805 - val_loss: 1.8341 - val_binary_accuracy: 0.9826\n",
      "Epoch 3/9\n",
      "7982/7982 [==============================] - 2s 282us/step - loss: 1.5477 - binary_accuracy: 0.9849 - val_loss: 1.4802 - val_binary_accuracy: 0.9860\n",
      "Epoch 4/9\n",
      "7982/7982 [==============================] - 2s 283us/step - loss: 1.2207 - binary_accuracy: 0.9883 - val_loss: 1.2708 - val_binary_accuracy: 0.9879\n",
      "Epoch 5/9\n",
      "7982/7982 [==============================] - 2s 286us/step - loss: 1.0067 - binary_accuracy: 0.9906 - val_loss: 1.1436 - val_binary_accuracy: 0.9898\n",
      "Epoch 6/9\n",
      "7982/7982 [==============================] - 2s 291us/step - loss: 0.8518 - binary_accuracy: 0.9922 - val_loss: 1.0562 - val_binary_accuracy: 0.9906\n",
      "Epoch 7/9\n",
      "7982/7982 [==============================] - 2s 296us/step - loss: 0.7326 - binary_accuracy: 0.9931 - val_loss: 0.9945 - val_binary_accuracy: 0.9912\n",
      "Epoch 8/9\n",
      "7982/7982 [==============================] - 2s 266us/step - loss: 0.6362 - binary_accuracy: 0.9939 - val_loss: 0.9438 - val_binary_accuracy: 0.9914\n",
      "Epoch 9/9\n",
      "7982/7982 [==============================] - 2s 270us/step - loss: 0.5560 - binary_accuracy: 0.9945 - val_loss: 0.9087 - val_binary_accuracy: 0.9915\n",
      "2246/2246 [==============================] - 1s 275us/step\n"
     ]
    }
   ],
   "source": [
    "model = models.Sequential()\n",
    "model.add(layers.Dense(32, activation='relu', input_shape=(10000,)))\n",
    "model.add(layers.Dense(46, activation='softmax'))\n",
    "\n",
    "model.compile(optimizer=optimizers.RMSprop(lr=0.001),\n",
    "              loss=losses.categorical_crossentropy,\n",
    "              metrics=[metrics.binary_accuracy])\n",
    "\n",
    "history = model.fit(partial_x_train,\n",
    "                    partial_y_train,\n",
    "                    epochs=9,\n",
    "                    batch_size=512,\n",
    "                    validation_data=(x_val, y_val)\n",
    "                   )\n",
    "results = model.evaluate(x_test, one_hot_test_labels)"
   ]
  },
  {
   "cell_type": "code",
   "execution_count": 79,
   "metadata": {},
   "outputs": [
    {
     "data": {
      "text/plain": [
       "0.9912695226558913"
      ]
     },
     "execution_count": 79,
     "metadata": {},
     "output_type": "execute_result"
    }
   ],
   "source": [
    "results[1]"
   ]
  },
  {
   "cell_type": "markdown",
   "metadata": {},
   "source": [
    "#### Using 3 hidden layers"
   ]
  },
  {
   "cell_type": "code",
   "execution_count": 80,
   "metadata": {},
   "outputs": [
    {
     "name": "stdout",
     "output_type": "stream",
     "text": [
      "Train on 7982 samples, validate on 1000 samples\n",
      "Epoch 1/9\n",
      "7982/7982 [==============================] - 4s 465us/step - loss: 3.1505 - binary_accuracy: 0.9783 - val_loss: 2.3734 - val_binary_accuracy: 0.9791\n",
      "Epoch 2/9\n",
      "7982/7982 [==============================] - 2s 309us/step - loss: 1.9585 - binary_accuracy: 0.9824 - val_loss: 1.6551 - val_binary_accuracy: 0.9859\n",
      "Epoch 3/9\n",
      "7982/7982 [==============================] - 3s 326us/step - loss: 1.4305 - binary_accuracy: 0.9883 - val_loss: 1.3745 - val_binary_accuracy: 0.9890\n",
      "Epoch 4/9\n",
      "7982/7982 [==============================] - 2s 289us/step - loss: 1.1689 - binary_accuracy: 0.9904 - val_loss: 1.2751 - val_binary_accuracy: 0.9897\n",
      "Epoch 5/9\n",
      "7982/7982 [==============================] - 2s 286us/step - loss: 0.9978 - binary_accuracy: 0.9915 - val_loss: 1.1999 - val_binary_accuracy: 0.9900\n",
      "Epoch 6/9\n",
      "7982/7982 [==============================] - 2s 284us/step - loss: 0.8617 - binary_accuracy: 0.9924 - val_loss: 1.1271 - val_binary_accuracy: 0.9905\n",
      "Epoch 7/9\n",
      "7982/7982 [==============================] - 2s 280us/step - loss: 0.7428 - binary_accuracy: 0.9932 - val_loss: 1.1048 - val_binary_accuracy: 0.9904\n",
      "Epoch 8/9\n",
      "7982/7982 [==============================] - 2s 292us/step - loss: 0.6402 - binary_accuracy: 0.9940 - val_loss: 1.0687 - val_binary_accuracy: 0.9908\n",
      "Epoch 9/9\n",
      "7982/7982 [==============================] - 2s 301us/step - loss: 0.5560 - binary_accuracy: 0.9946 - val_loss: 1.0676 - val_binary_accuracy: 0.9908\n",
      "2246/2246 [==============================] - 1s 254us/step\n"
     ]
    }
   ],
   "source": [
    "model = models.Sequential()\n",
    "model.add(layers.Dense(32, activation='relu', input_shape=(10000,)))\n",
    "model.add(layers.Dense(32, activation='relu'))\n",
    "model.add(layers.Dense(32, activation='relu'))\n",
    "model.add(layers.Dense(46, activation='softmax'))\n",
    "\n",
    "model.compile(optimizer=optimizers.RMSprop(lr=0.001),\n",
    "              loss=losses.categorical_crossentropy,\n",
    "              metrics=[metrics.binary_accuracy])\n",
    "\n",
    "history = model.fit(partial_x_train,\n",
    "                    partial_y_train,\n",
    "                    epochs=9,\n",
    "                    batch_size=512,\n",
    "                    validation_data=(x_val, y_val)\n",
    "                   )\n",
    "results = model.evaluate(x_test, one_hot_test_labels)"
   ]
  },
  {
   "cell_type": "code",
   "execution_count": 81,
   "metadata": {},
   "outputs": [
    {
     "data": {
      "text/plain": [
       "0.9906307068767021"
      ]
     },
     "execution_count": 81,
     "metadata": {},
     "output_type": "execute_result"
    }
   ],
   "source": [
    "results[1]"
   ]
  },
  {
   "cell_type": "code",
   "execution_count": null,
   "metadata": {},
   "outputs": [],
   "source": []
  }
 ],
 "metadata": {
  "kernelspec": {
   "display_name": "Python 3",
   "language": "python",
   "name": "python3"
  },
  "language_info": {
   "codemirror_mode": {
    "name": "ipython",
    "version": 3
   },
   "file_extension": ".py",
   "mimetype": "text/x-python",
   "name": "python",
   "nbconvert_exporter": "python",
   "pygments_lexer": "ipython3",
   "version": "3.6.4"
  }
 },
 "nbformat": 4,
 "nbformat_minor": 2
}
