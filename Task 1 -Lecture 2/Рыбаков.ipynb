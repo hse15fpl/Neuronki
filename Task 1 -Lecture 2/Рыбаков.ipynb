{
 "cells": [
  {
   "cell_type": "markdown",
   "metadata": {},
   "source": [
    "The following experiments will help convince you that the architecture choices you’ve made are all fairly reasonable, although there’s still room for improvement:\n",
    "\n",
    "* You used two hidden layers. Try using one or three hidden layers, and see how doing so affects validation and test accuracy.\n",
    "* Try using layers with more hidden units or fewer hidden units: 32 units, 64 units, and so on.\n",
    "* Try using the ```mse``` loss function instead of ```binary_crossentropy```.\n",
    "* Try using the ```tanh``` activation (an activation that was popular in the early days of neural networks) instead of relu."
   ]
  },
  {
   "cell_type": "code",
   "execution_count": 3,
   "metadata": {},
   "outputs": [],
   "source": [
    "import numpy as np\n",
    "from pickle import dump, load\n",
    "from keras import models\n",
    "from keras import layers\n",
    "from keras import optimizers"
   ]
  },
  {
   "cell_type": "markdown",
   "metadata": {},
   "source": [
    "download imdb sentiment dataset"
   ]
  },
  {
   "cell_type": "code",
   "execution_count": 1,
   "metadata": {},
   "outputs": [
    {
     "name": "stderr",
     "output_type": "stream",
     "text": [
      "Using TensorFlow backend.\n"
     ]
    },
    {
     "name": "stdout",
     "output_type": "stream",
     "text": [
      "Downloading data from https://s3.amazonaws.com/text-datasets/imdb.npz\n",
      "17465344/17464789 [==============================] - 24s 1us/step\n"
     ]
    }
   ],
   "source": [
    "from keras.datasets import imdb\n",
    "\n",
    "(train_data, train_labels), (test_data, test_labels) = imdb.load_data(\n",
    "    num_words=10000)"
   ]
  },
  {
   "cell_type": "code",
   "execution_count": 8,
   "metadata": {},
   "outputs": [],
   "source": [
    "def vectorize_sequences(sequences, dimension=10000):\n",
    "    results = np.zeros((len(sequences), dimension))\n",
    "    for i, sequence in enumerate(sequences):\n",
    "        results[i, sequence] = 1.\n",
    "    return results\n",
    "\n",
    "x_train = vectorize_sequences(train_data)\n",
    "x_test = vectorize_sequences(test_data)\n",
    "\n",
    "y_train = np.asarray(train_labels).astype('float32')\n",
    "y_test = np.asarray(test_labels).astype('float32')"
   ]
  },
  {
   "cell_type": "markdown",
   "metadata": {},
   "source": [
    "1 layer"
   ]
  },
  {
   "cell_type": "code",
   "execution_count": 10,
   "metadata": {},
   "outputs": [],
   "source": [
    "model1 = models.Sequential()\n",
    "model1.add(layers.Dense(16, activation='relu', input_shape=(10000,)))\n",
    "model1.add(layers.Dense(1, activation='sigmoid'))"
   ]
  },
  {
   "cell_type": "markdown",
   "metadata": {},
   "source": [
    "3 layers"
   ]
  },
  {
   "cell_type": "code",
   "execution_count": 12,
   "metadata": {},
   "outputs": [],
   "source": [
    "model3 = models.Sequential()\n",
    "model3.add(layers.Dense(16, activation='relu', input_shape=(10000,)))\n",
    "model3.add(layers.Dense(16, activation='relu'))\n",
    "model3.add(layers.Dense(16, activation='relu'))\n",
    "model3.add(layers.Dense(1, activation='sigmoid'))"
   ]
  },
  {
   "cell_type": "markdown",
   "metadata": {},
   "source": [
    "Validation"
   ]
  },
  {
   "cell_type": "code",
   "execution_count": 16,
   "metadata": {},
   "outputs": [],
   "source": [
    "x_val = x_train[:10000]\n",
    "partial_x_train = x_train[10000:]\n",
    "y_val = y_train[:10000]\n",
    "partial_y_train = y_train[10000:]"
   ]
  },
  {
   "cell_type": "code",
   "execution_count": 22,
   "metadata": {},
   "outputs": [
    {
     "data": {
      "text/plain": [
       "10000"
      ]
     },
     "execution_count": 22,
     "metadata": {},
     "output_type": "execute_result"
    }
   ],
   "source": [
    "len(x_val)"
   ]
  },
  {
   "cell_type": "code",
   "execution_count": 20,
   "metadata": {},
   "outputs": [
    {
     "data": {
      "text/plain": [
       "15000"
      ]
     },
     "execution_count": 20,
     "metadata": {},
     "output_type": "execute_result"
    }
   ],
   "source": [
    "len(partial_x_train)"
   ]
  },
  {
   "cell_type": "code",
   "execution_count": 24,
   "metadata": {},
   "outputs": [
    {
     "name": "stdout",
     "output_type": "stream",
     "text": [
      "Train on 15000 samples, validate on 10000 samples\n",
      "Epoch 1/20\n",
      "15000/15000 [==============================] - 4s 286us/step - loss: 0.4854 - acc: 0.7869 - val_loss: 0.3619 - val_acc: 0.8785\n",
      "Epoch 2/20\n",
      "15000/15000 [==============================] - 2s 158us/step - loss: 0.2929 - acc: 0.9062 - val_loss: 0.3131 - val_acc: 0.8808\n",
      "Epoch 3/20\n",
      "15000/15000 [==============================] - 2s 156us/step - loss: 0.2248 - acc: 0.9297 - val_loss: 0.2847 - val_acc: 0.8900\n",
      "Epoch 4/20\n",
      "15000/15000 [==============================] - 2s 157us/step - loss: 0.1878 - acc: 0.9411 - val_loss: 0.2744 - val_acc: 0.8924\n",
      "Epoch 5/20\n",
      "15000/15000 [==============================] - 2s 161us/step - loss: 0.1569 - acc: 0.9531 - val_loss: 0.3057 - val_acc: 0.8765\n",
      "Epoch 6/20\n",
      "15000/15000 [==============================] - 2s 159us/step - loss: 0.1363 - acc: 0.9595 - val_loss: 0.2922 - val_acc: 0.8853\n",
      "Epoch 7/20\n",
      "15000/15000 [==============================] - 2s 159us/step - loss: 0.1178 - acc: 0.9659 - val_loss: 0.2891 - val_acc: 0.8875\n",
      "Epoch 8/20\n",
      "15000/15000 [==============================] - 2s 165us/step - loss: 0.1059 - acc: 0.9712 - val_loss: 0.2982 - val_acc: 0.8857\n",
      "Epoch 9/20\n",
      "15000/15000 [==============================] - 2s 160us/step - loss: 0.0903 - acc: 0.9775 - val_loss: 0.3082 - val_acc: 0.8846\n",
      "Epoch 10/20\n",
      "15000/15000 [==============================] - 3s 167us/step - loss: 0.0801 - acc: 0.9805 - val_loss: 0.3196 - val_acc: 0.8809\n",
      "Epoch 11/20\n",
      "15000/15000 [==============================] - 2s 159us/step - loss: 0.0698 - acc: 0.9845 - val_loss: 0.3328 - val_acc: 0.8811\n",
      "Epoch 12/20\n",
      "15000/15000 [==============================] - 2s 159us/step - loss: 0.0621 - acc: 0.9869 - val_loss: 0.3505 - val_acc: 0.8790\n",
      "Epoch 13/20\n",
      "15000/15000 [==============================] - 2s 158us/step - loss: 0.0554 - acc: 0.9885 - val_loss: 0.3603 - val_acc: 0.8779\n",
      "Epoch 14/20\n",
      "15000/15000 [==============================] - 2s 159us/step - loss: 0.0478 - acc: 0.9915 - val_loss: 0.3873 - val_acc: 0.8756\n",
      "Epoch 15/20\n",
      "15000/15000 [==============================] - 2s 158us/step - loss: 0.0425 - acc: 0.9931 - val_loss: 0.3917 - val_acc: 0.8762\n",
      "Epoch 16/20\n",
      "15000/15000 [==============================] - 2s 157us/step - loss: 0.0375 - acc: 0.9942 - val_loss: 0.4120 - val_acc: 0.8753\n",
      "Epoch 17/20\n",
      "15000/15000 [==============================] - 3s 174us/step - loss: 0.0317 - acc: 0.9956 - val_loss: 0.4437 - val_acc: 0.8665\n",
      "Epoch 18/20\n",
      "15000/15000 [==============================] - 3s 170us/step - loss: 0.0288 - acc: 0.9965 - val_loss: 0.4435 - val_acc: 0.8725\n",
      "Epoch 19/20\n",
      "15000/15000 [==============================] - 3s 167us/step - loss: 0.0248 - acc: 0.9969 - val_loss: 0.4656 - val_acc: 0.8720\n",
      "Epoch 20/20\n",
      "15000/15000 [==============================] - 2s 166us/step - loss: 0.0210 - acc: 0.9980 - val_loss: 0.4815 - val_acc: 0.8692\n"
     ]
    }
   ],
   "source": [
    "model1.compile(optimizer='rmsprop',\n",
    "              loss='binary_crossentropy',\n",
    "              metrics=['acc'])\n",
    "\n",
    "history1 = model1.fit(partial_x_train,\n",
    "                    partial_y_train,\n",
    "                    epochs=20,\n",
    "                    batch_size=512,\n",
    "                    validation_data=(x_val, y_val))"
   ]
  },
  {
   "cell_type": "code",
   "execution_count": 25,
   "metadata": {},
   "outputs": [
    {
     "name": "stdout",
     "output_type": "stream",
     "text": [
      "Train on 15000 samples, validate on 10000 samples\n",
      "Epoch 1/20\n",
      "15000/15000 [==============================] - 3s 196us/step - loss: 0.5408 - acc: 0.7767 - val_loss: 0.4044 - val_acc: 0.8688\n",
      "Epoch 2/20\n",
      "15000/15000 [==============================] - 3s 174us/step - loss: 0.3146 - acc: 0.9023 - val_loss: 0.3373 - val_acc: 0.8639\n",
      "Epoch 3/20\n",
      "15000/15000 [==============================] - 3s 168us/step - loss: 0.2259 - acc: 0.9251 - val_loss: 0.2804 - val_acc: 0.8912\n",
      "Epoch 4/20\n",
      "15000/15000 [==============================] - 2s 165us/step - loss: 0.1743 - acc: 0.9446 - val_loss: 0.2815 - val_acc: 0.8870\n",
      "Epoch 5/20\n",
      "15000/15000 [==============================] - 2s 165us/step - loss: 0.1385 - acc: 0.9558 - val_loss: 0.3268 - val_acc: 0.8734\n",
      "Epoch 6/20\n",
      "15000/15000 [==============================] - 3s 168us/step - loss: 0.1163 - acc: 0.9624 - val_loss: 0.3030 - val_acc: 0.8846\n",
      "Epoch 7/20\n",
      "15000/15000 [==============================] - 2s 157us/step - loss: 0.0942 - acc: 0.9726 - val_loss: 0.3343 - val_acc: 0.8820\n",
      "Epoch 8/20\n",
      "15000/15000 [==============================] - 3s 170us/step - loss: 0.0758 - acc: 0.9775 - val_loss: 0.3645 - val_acc: 0.8796\n",
      "Epoch 9/20\n",
      "15000/15000 [==============================] - 2s 163us/step - loss: 0.0631 - acc: 0.9831 - val_loss: 0.3902 - val_acc: 0.8781\n",
      "Epoch 10/20\n",
      "15000/15000 [==============================] - 2s 164us/step - loss: 0.0483 - acc: 0.9891 - val_loss: 0.4078 - val_acc: 0.8747\n",
      "Epoch 11/20\n",
      "15000/15000 [==============================] - 3s 177us/step - loss: 0.0404 - acc: 0.9897 - val_loss: 0.4437 - val_acc: 0.8770\n",
      "Epoch 12/20\n",
      "15000/15000 [==============================] - 3s 178us/step - loss: 0.0287 - acc: 0.9944 - val_loss: 0.5256 - val_acc: 0.8671\n",
      "Epoch 13/20\n",
      "15000/15000 [==============================] - 3s 171us/step - loss: 0.0224 - acc: 0.9963 - val_loss: 0.5334 - val_acc: 0.8641\n",
      "Epoch 14/20\n",
      "15000/15000 [==============================] - 2s 166us/step - loss: 0.0205 - acc: 0.9953 - val_loss: 0.5669 - val_acc: 0.8726\n",
      "Epoch 15/20\n",
      "15000/15000 [==============================] - 2s 154us/step - loss: 0.0103 - acc: 0.9989 - val_loss: 0.6249 - val_acc: 0.8586\n",
      "Epoch 16/20\n",
      "15000/15000 [==============================] - 2s 162us/step - loss: 0.0125 - acc: 0.9971 - val_loss: 0.6275 - val_acc: 0.8694\n",
      "Epoch 17/20\n",
      "15000/15000 [==============================] - 2s 154us/step - loss: 0.0044 - acc: 0.9997 - val_loss: 0.6610 - val_acc: 0.8664\n",
      "Epoch 18/20\n",
      "15000/15000 [==============================] - 2s 160us/step - loss: 0.0092 - acc: 0.9975 - val_loss: 0.7092 - val_acc: 0.8694\n",
      "Epoch 19/20\n",
      "15000/15000 [==============================] - 3s 173us/step - loss: 0.0020 - acc: 0.9999 - val_loss: 0.7327 - val_acc: 0.8673\n",
      "Epoch 20/20\n",
      "15000/15000 [==============================] - 2s 160us/step - loss: 0.0015 - acc: 0.9999 - val_loss: 0.8022 - val_acc: 0.8600\n"
     ]
    }
   ],
   "source": [
    "model3.compile(optimizer='rmsprop',\n",
    "              loss='binary_crossentropy',\n",
    "              metrics=['acc'])\n",
    "\n",
    "history3 = model3.fit(partial_x_train,\n",
    "                    partial_y_train,\n",
    "                    epochs=20,\n",
    "                    batch_size=512,\n",
    "                    validation_data=(x_val, y_val))"
   ]
  },
  {
   "cell_type": "code",
   "execution_count": 27,
   "metadata": {},
   "outputs": [
    {
     "name": "stdout",
     "output_type": "stream",
     "text": [
      "25000/25000 [==============================] - 3s 136us/step\n",
      "[0.5237779613924026, 0.8562]\n",
      "25000/25000 [==============================] - 3s 138us/step\n",
      "[0.9000247318983078, 0.84484]\n"
     ]
    }
   ],
   "source": [
    "results1 = model1.evaluate(x_test, y_test)\n",
    "print(results1)\n",
    "results3 = model3.evaluate(x_test, y_test)\n",
    "print(results3)"
   ]
  },
  {
   "cell_type": "markdown",
   "metadata": {},
   "source": [
    "Change number of layer units"
   ]
  },
  {
   "cell_type": "code",
   "execution_count": 31,
   "metadata": {},
   "outputs": [],
   "source": [
    "model_16un = models.Sequential()\n",
    "model_16un.add(layers.Dense(16, activation='relu', input_shape=(10000,)))\n",
    "model_16un.add(layers.Dense(16, activation='relu'))\n",
    "model_16un.add(layers.Dense(1, activation='sigmoid'))"
   ]
  },
  {
   "cell_type": "code",
   "execution_count": 48,
   "metadata": {},
   "outputs": [],
   "source": [
    "model_32un = models.Sequential()\n",
    "model_32un.add(layers.Dense(32, activation='relu', input_shape=(10000,)))\n",
    "model_32un.add(layers.Dense(32, activation='relu'))\n",
    "model_32un.add(layers.Dense(1, activation='sigmoid'))"
   ]
  },
  {
   "cell_type": "code",
   "execution_count": 33,
   "metadata": {},
   "outputs": [],
   "source": [
    "model_64un = models.Sequential()\n",
    "model_64un.add(layers.Dense(64, activation='relu', input_shape=(10000,)))\n",
    "model_64un.add(layers.Dense(64, activation='relu'))\n",
    "model_64un.add(layers.Dense(1, activation='sigmoid'))"
   ]
  },
  {
   "cell_type": "code",
   "execution_count": 37,
   "metadata": {},
   "outputs": [
    {
     "name": "stdout",
     "output_type": "stream",
     "text": [
      "Train on 15000 samples, validate on 10000 samples\n",
      "Epoch 1/20\n",
      "15000/15000 [==============================] - 3s 205us/step - loss: 0.4958 - acc: 0.7891 - val_loss: 0.3914 - val_acc: 0.8540\n",
      "Epoch 2/20\n",
      "15000/15000 [==============================] - 2s 163us/step - loss: 0.2937 - acc: 0.9041 - val_loss: 0.3078 - val_acc: 0.8821\n",
      "Epoch 3/20\n",
      "15000/15000 [==============================] - 2s 163us/step - loss: 0.2185 - acc: 0.9269 - val_loss: 0.3483 - val_acc: 0.8546\n",
      "Epoch 4/20\n",
      "15000/15000 [==============================] - 3s 173us/step - loss: 0.1716 - acc: 0.9441 - val_loss: 0.2748 - val_acc: 0.8900\n",
      "Epoch 5/20\n",
      "15000/15000 [==============================] - 3s 179us/step - loss: 0.1398 - acc: 0.9559 - val_loss: 0.2836 - val_acc: 0.8855\n",
      "Epoch 6/20\n",
      "15000/15000 [==============================] - 2s 162us/step - loss: 0.1153 - acc: 0.9648 - val_loss: 0.3003 - val_acc: 0.8836\n",
      "Epoch 7/20\n",
      "15000/15000 [==============================] - 3s 171us/step - loss: 0.0945 - acc: 0.9729 - val_loss: 0.3265 - val_acc: 0.8817\n",
      "Epoch 8/20\n",
      "15000/15000 [==============================] - 2s 163us/step - loss: 0.0779 - acc: 0.9781 - val_loss: 0.3516 - val_acc: 0.8779\n",
      "Epoch 9/20\n",
      "15000/15000 [==============================] - 2s 154us/step - loss: 0.0648 - acc: 0.9828 - val_loss: 0.3596 - val_acc: 0.8789\n",
      "Epoch 10/20\n",
      "15000/15000 [==============================] - 2s 159us/step - loss: 0.0530 - acc: 0.9869 - val_loss: 0.3964 - val_acc: 0.8763\n",
      "Epoch 11/20\n",
      "15000/15000 [==============================] - 2s 161us/step - loss: 0.0448 - acc: 0.9897 - val_loss: 0.4230 - val_acc: 0.8693\n",
      "Epoch 12/20\n",
      "15000/15000 [==============================] - 2s 156us/step - loss: 0.0341 - acc: 0.9933 - val_loss: 0.4452 - val_acc: 0.8738\n",
      "Epoch 13/20\n",
      "15000/15000 [==============================] - 2s 161us/step - loss: 0.0273 - acc: 0.9946 - val_loss: 0.4897 - val_acc: 0.8700\n",
      "Epoch 14/20\n",
      "15000/15000 [==============================] - 2s 159us/step - loss: 0.0218 - acc: 0.9962 - val_loss: 0.5002 - val_acc: 0.8733\n",
      "Epoch 15/20\n",
      "15000/15000 [==============================] - 3s 175us/step - loss: 0.0199 - acc: 0.9966 - val_loss: 0.5283 - val_acc: 0.8697\n",
      "Epoch 16/20\n",
      "15000/15000 [==============================] - 2s 161us/step - loss: 0.0156 - acc: 0.9973 - val_loss: 0.5600 - val_acc: 0.8677\n",
      "Epoch 17/20\n",
      "15000/15000 [==============================] - 3s 170us/step - loss: 0.0111 - acc: 0.9991 - val_loss: 0.5901 - val_acc: 0.8672\n",
      "Epoch 18/20\n",
      "15000/15000 [==============================] - 2s 162us/step - loss: 0.0106 - acc: 0.9983 - val_loss: 0.6184 - val_acc: 0.8670\n",
      "Epoch 19/20\n",
      "15000/15000 [==============================] - 2s 164us/step - loss: 0.0052 - acc: 0.9998 - val_loss: 0.6802 - val_acc: 0.8633\n",
      "Epoch 20/20\n",
      "15000/15000 [==============================] - 3s 167us/step - loss: 0.0066 - acc: 0.9992 - val_loss: 0.6849 - val_acc: 0.8630\n"
     ]
    }
   ],
   "source": [
    "model_16un.compile(optimizer='rmsprop',\n",
    "              loss='binary_crossentropy',\n",
    "              metrics=['acc'])\n",
    "\n",
    "history_16un = model_16un.fit(partial_x_train,\n",
    "                    partial_y_train,\n",
    "                    epochs=20,\n",
    "                    batch_size=512,\n",
    "                    validation_data=(x_val, y_val))"
   ]
  },
  {
   "cell_type": "code",
   "execution_count": 49,
   "metadata": {
    "scrolled": true
   },
   "outputs": [
    {
     "name": "stdout",
     "output_type": "stream",
     "text": [
      "Train on 15000 samples, validate on 10000 samples\n",
      "Epoch 1/20\n",
      "15000/15000 [==============================] - 3s 212us/step - loss: 0.4799 - acc: 0.7824 - val_loss: 0.4305 - val_acc: 0.8054\n",
      "Epoch 2/20\n",
      "15000/15000 [==============================] - 3s 177us/step - loss: 0.2691 - acc: 0.9053 - val_loss: 0.2964 - val_acc: 0.8833\n",
      "Epoch 3/20\n",
      "15000/15000 [==============================] - 3s 179us/step - loss: 0.1973 - acc: 0.9321 - val_loss: 0.3241 - val_acc: 0.8682\n",
      "Epoch 4/20\n",
      "15000/15000 [==============================] - 3s 173us/step - loss: 0.1600 - acc: 0.9433 - val_loss: 0.2786 - val_acc: 0.8921\n",
      "Epoch 5/20\n",
      "15000/15000 [==============================] - 3s 180us/step - loss: 0.1194 - acc: 0.9624 - val_loss: 0.3258 - val_acc: 0.8761\n",
      "Epoch 6/20\n",
      "15000/15000 [==============================] - 3s 170us/step - loss: 0.0990 - acc: 0.9680 - val_loss: 0.3335 - val_acc: 0.8796\n",
      "Epoch 7/20\n",
      "15000/15000 [==============================] - 2s 165us/step - loss: 0.0751 - acc: 0.9770 - val_loss: 0.3429 - val_acc: 0.8829\n",
      "Epoch 8/20\n",
      "15000/15000 [==============================] - 2s 166us/step - loss: 0.0584 - acc: 0.9839 - val_loss: 0.3688 - val_acc: 0.8794\n",
      "Epoch 9/20\n",
      "15000/15000 [==============================] - 3s 169us/step - loss: 0.0490 - acc: 0.9866 - val_loss: 0.4005 - val_acc: 0.8762\n",
      "Epoch 10/20\n",
      "15000/15000 [==============================] - 2s 162us/step - loss: 0.0344 - acc: 0.9921 - val_loss: 0.4323 - val_acc: 0.8769\n",
      "Epoch 11/20\n",
      "15000/15000 [==============================] - 2s 161us/step - loss: 0.0312 - acc: 0.9919 - val_loss: 0.4619 - val_acc: 0.8732\n",
      "Epoch 12/20\n",
      "15000/15000 [==============================] - 2s 165us/step - loss: 0.0243 - acc: 0.9941 - val_loss: 0.4891 - val_acc: 0.8744\n",
      "Epoch 13/20\n",
      "15000/15000 [==============================] - 2s 161us/step - loss: 0.0179 - acc: 0.9965 - val_loss: 0.5210 - val_acc: 0.8716\n",
      "Epoch 14/20\n",
      "15000/15000 [==============================] - 3s 172us/step - loss: 0.0075 - acc: 0.9997 - val_loss: 0.5659 - val_acc: 0.8680\n",
      "Epoch 15/20\n",
      "15000/15000 [==============================] - 2s 163us/step - loss: 0.0166 - acc: 0.9953 - val_loss: 0.5969 - val_acc: 0.8688\n",
      "Epoch 16/20\n",
      "15000/15000 [==============================] - 3s 174us/step - loss: 0.0035 - acc: 0.9999 - val_loss: 0.6331 - val_acc: 0.8673\n",
      "Epoch 17/20\n",
      "15000/15000 [==============================] - 3s 168us/step - loss: 0.0168 - acc: 0.9945 - val_loss: 0.6578 - val_acc: 0.8667\n",
      "Epoch 18/20\n",
      "15000/15000 [==============================] - 3s 169us/step - loss: 0.0020 - acc: 0.9999 - val_loss: 0.6820 - val_acc: 0.8677\n",
      "Epoch 19/20\n",
      "15000/15000 [==============================] - 3s 167us/step - loss: 0.0015 - acc: 0.9999 - val_loss: 0.7398 - val_acc: 0.8640\n",
      "Epoch 20/20\n",
      "15000/15000 [==============================] - 2s 161us/step - loss: 0.0115 - acc: 0.9971 - val_loss: 0.7613 - val_acc: 0.8652\n"
     ]
    }
   ],
   "source": [
    "model_32un.compile(optimizer='rmsprop',\n",
    "              loss='binary_crossentropy',\n",
    "              metrics=['acc'])\n",
    "\n",
    "history_32un = model_32un.fit(partial_x_train,\n",
    "                    partial_y_train,\n",
    "                    epochs=20,\n",
    "                    batch_size=512,\n",
    "                    validation_data=(x_val, y_val))"
   ]
  },
  {
   "cell_type": "code",
   "execution_count": 50,
   "metadata": {
    "scrolled": true
   },
   "outputs": [
    {
     "name": "stdout",
     "output_type": "stream",
     "text": [
      "Train on 15000 samples, validate on 10000 samples\n",
      "Epoch 1/20\n",
      "15000/15000 [==============================] - 3s 227us/step - loss: 0.0370 - acc: 0.9921 - val_loss: 0.9818 - val_acc: 0.8569\n",
      "Epoch 2/20\n",
      "15000/15000 [==============================] - 3s 175us/step - loss: 3.8107e-04 - acc: 0.9999 - val_loss: 0.9395 - val_acc: 0.8667\n",
      "Epoch 3/20\n",
      "15000/15000 [==============================] - 3s 174us/step - loss: 6.5613e-05 - acc: 1.0000 - val_loss: 0.9515 - val_acc: 0.8661\n",
      "Epoch 4/20\n",
      "15000/15000 [==============================] - 3s 178us/step - loss: 3.8211e-05 - acc: 1.0000 - val_loss: 0.9814 - val_acc: 0.8657\n",
      "Epoch 5/20\n",
      "15000/15000 [==============================] - 3s 176us/step - loss: 2.1834e-05 - acc: 1.0000 - val_loss: 1.0276 - val_acc: 0.8656\n",
      "Epoch 6/20\n",
      "15000/15000 [==============================] - 3s 173us/step - loss: 0.0312 - acc: 0.9939 - val_loss: 1.0691 - val_acc: 0.8666\n",
      "Epoch 7/20\n",
      "15000/15000 [==============================] - 3s 176us/step - loss: 1.8563e-05 - acc: 1.0000 - val_loss: 1.0456 - val_acc: 0.8677\n",
      "Epoch 8/20\n",
      "15000/15000 [==============================] - 3s 173us/step - loss: 9.2526e-06 - acc: 1.0000 - val_loss: 1.0487 - val_acc: 0.8672\n",
      "Epoch 9/20\n",
      "15000/15000 [==============================] - 3s 172us/step - loss: 6.8018e-06 - acc: 1.0000 - val_loss: 1.0562 - val_acc: 0.8662\n",
      "Epoch 10/20\n",
      "15000/15000 [==============================] - 3s 181us/step - loss: 5.2036e-06 - acc: 1.0000 - val_loss: 1.0706 - val_acc: 0.8660\n",
      "Epoch 11/20\n",
      "15000/15000 [==============================] - 3s 172us/step - loss: 3.7377e-06 - acc: 1.0000 - val_loss: 1.0980 - val_acc: 0.8665\n",
      "Epoch 12/20\n",
      "15000/15000 [==============================] - 3s 171us/step - loss: 2.2153e-06 - acc: 1.0000 - val_loss: 1.1353 - val_acc: 0.8666\n",
      "Epoch 13/20\n",
      "15000/15000 [==============================] - 3s 176us/step - loss: 0.0313 - acc: 0.9944 - val_loss: 1.1863 - val_acc: 0.8669\n",
      "Epoch 14/20\n",
      "15000/15000 [==============================] - 3s 173us/step - loss: 1.8874e-06 - acc: 1.0000 - val_loss: 1.1676 - val_acc: 0.8671\n",
      "Epoch 15/20\n",
      "15000/15000 [==============================] - 3s 187us/step - loss: 1.0038e-06 - acc: 1.0000 - val_loss: 1.1659 - val_acc: 0.8669\n",
      "Epoch 16/20\n",
      "15000/15000 [==============================] - 3s 199us/step - loss: 8.7405e-07 - acc: 1.0000 - val_loss: 1.1656 - val_acc: 0.8669\n",
      "Epoch 17/20\n",
      "15000/15000 [==============================] - 3s 182us/step - loss: 7.7354e-07 - acc: 1.0000 - val_loss: 1.1661 - val_acc: 0.8659\n",
      "Epoch 18/20\n",
      "15000/15000 [==============================] - 3s 178us/step - loss: 6.7677e-07 - acc: 1.0000 - val_loss: 1.1717 - val_acc: 0.8662\n",
      "Epoch 19/20\n",
      "15000/15000 [==============================] - 3s 173us/step - loss: 5.6902e-07 - acc: 1.0000 - val_loss: 1.1847 - val_acc: 0.8665\n",
      "Epoch 20/20\n",
      "15000/15000 [==============================] - 3s 177us/step - loss: 4.3787e-07 - acc: 1.0000 - val_loss: 1.2092 - val_acc: 0.8672\n"
     ]
    }
   ],
   "source": [
    "model_64un.compile(optimizer='rmsprop',\n",
    "              loss='binary_crossentropy',\n",
    "              metrics=['acc'])\n",
    "\n",
    "history_64un = model_64un.fit(partial_x_train,\n",
    "                    partial_y_train,\n",
    "                    epochs=20,\n",
    "                    batch_size=512,\n",
    "                    validation_data=(x_val, y_val))"
   ]
  },
  {
   "cell_type": "code",
   "execution_count": 51,
   "metadata": {},
   "outputs": [
    {
     "name": "stdout",
     "output_type": "stream",
     "text": [
      "25000/25000 [==============================] - 4s 147us/step\n",
      "[0.756811765446663, 0.84924]\n",
      "25000/25000 [==============================] - 4s 146us/step\n",
      "[0.8425805935013294, 0.85188]\n",
      "25000/25000 [==============================] - 4s 147us/step\n",
      "[1.3210625355386734, 0.85376]\n"
     ]
    }
   ],
   "source": [
    "results_16un = model_16un.evaluate(x_test, y_test)\n",
    "print(results_16un)\n",
    "results_32un = model_32un.evaluate(x_test, y_test)\n",
    "print(results_32un)\n",
    "results_64un = model_64un.evaluate(x_test, y_test)\n",
    "print(results_64un)"
   ]
  },
  {
   "cell_type": "markdown",
   "metadata": {},
   "source": [
    "MSE vs. binary crossentropy"
   ]
  },
  {
   "cell_type": "code",
   "execution_count": 53,
   "metadata": {},
   "outputs": [],
   "source": [
    "model_mse = models.Sequential()\n",
    "model_mse.add(layers.Dense(32, activation='relu', input_shape=(10000,)))\n",
    "model_mse.add(layers.Dense(32, activation='relu'))\n",
    "model_mse.add(layers.Dense(1, activation='sigmoid'))"
   ]
  },
  {
   "cell_type": "code",
   "execution_count": 54,
   "metadata": {
    "scrolled": true
   },
   "outputs": [
    {
     "name": "stdout",
     "output_type": "stream",
     "text": [
      "Train on 15000 samples, validate on 10000 samples\n",
      "Epoch 1/20\n",
      "15000/15000 [==============================] - 3s 212us/step - loss: 0.1641 - acc: 0.7778 - val_loss: 0.1180 - val_acc: 0.8531\n",
      "Epoch 2/20\n",
      "15000/15000 [==============================] - 2s 161us/step - loss: 0.0824 - acc: 0.9071 - val_loss: 0.1129 - val_acc: 0.8417\n",
      "Epoch 3/20\n",
      "15000/15000 [==============================] - 2s 162us/step - loss: 0.0598 - acc: 0.9308 - val_loss: 0.0832 - val_acc: 0.8900\n",
      "Epoch 4/20\n",
      "15000/15000 [==============================] - 2s 163us/step - loss: 0.0468 - acc: 0.9464 - val_loss: 0.0854 - val_acc: 0.8856\n",
      "Epoch 5/20\n",
      "15000/15000 [==============================] - 2s 163us/step - loss: 0.0351 - acc: 0.9614 - val_loss: 0.0850 - val_acc: 0.8841\n",
      "Epoch 6/20\n",
      "15000/15000 [==============================] - 2s 164us/step - loss: 0.0302 - acc: 0.9669 - val_loss: 0.0871 - val_acc: 0.8834\n",
      "Epoch 7/20\n",
      "15000/15000 [==============================] - 2s 161us/step - loss: 0.0236 - acc: 0.9755 - val_loss: 0.0909 - val_acc: 0.8776\n",
      "Epoch 8/20\n",
      "15000/15000 [==============================] - 2s 162us/step - loss: 0.0177 - acc: 0.9831 - val_loss: 0.0916 - val_acc: 0.8776\n",
      "Epoch 9/20\n",
      "15000/15000 [==============================] - 2s 164us/step - loss: 0.0151 - acc: 0.9850 - val_loss: 0.0938 - val_acc: 0.8768\n",
      "Epoch 10/20\n",
      "15000/15000 [==============================] - 2s 166us/step - loss: 0.0119 - acc: 0.9886 - val_loss: 0.0966 - val_acc: 0.8740\n",
      "Epoch 11/20\n",
      "15000/15000 [==============================] - 2s 164us/step - loss: 0.0110 - acc: 0.9887 - val_loss: 0.0984 - val_acc: 0.8732\n",
      "Epoch 12/20\n",
      "15000/15000 [==============================] - 2s 165us/step - loss: 0.0058 - acc: 0.9955 - val_loss: 0.1442 - val_acc: 0.8228\n",
      "Epoch 13/20\n",
      "15000/15000 [==============================] - 2s 165us/step - loss: 0.0063 - acc: 0.9939 - val_loss: 0.1025 - val_acc: 0.8704\n",
      "Epoch 14/20\n",
      "15000/15000 [==============================] - 2s 164us/step - loss: 0.0075 - acc: 0.9917 - val_loss: 0.1038 - val_acc: 0.8702\n",
      "Epoch 15/20\n",
      "15000/15000 [==============================] - 2s 164us/step - loss: 0.0032 - acc: 0.9973 - val_loss: 0.1061 - val_acc: 0.8701\n",
      "Epoch 16/20\n",
      "15000/15000 [==============================] - 2s 164us/step - loss: 0.0066 - acc: 0.9929 - val_loss: 0.1072 - val_acc: 0.8679\n",
      "Epoch 17/20\n",
      "15000/15000 [==============================] - 2s 165us/step - loss: 0.0027 - acc: 0.9975 - val_loss: 0.1085 - val_acc: 0.8658\n",
      "Epoch 18/20\n",
      "15000/15000 [==============================] - 3s 168us/step - loss: 0.0036 - acc: 0.9961 - val_loss: 0.1216 - val_acc: 0.8570\n",
      "Epoch 19/20\n",
      "15000/15000 [==============================] - 3s 173us/step - loss: 0.0023 - acc: 0.9978 - val_loss: 0.1109 - val_acc: 0.8651\n",
      "Epoch 20/20\n",
      "15000/15000 [==============================] - 2s 164us/step - loss: 0.0020 - acc: 0.9981 - val_loss: 0.1123 - val_acc: 0.8638\n"
     ]
    }
   ],
   "source": [
    "model_mse.compile(optimizer='rmsprop',\n",
    "              loss='mse',\n",
    "              metrics=['acc'])\n",
    "\n",
    "history_mse = model_mse.fit(partial_x_train,\n",
    "                    partial_y_train,\n",
    "                    epochs=20,\n",
    "                    batch_size=512,\n",
    "                    validation_data=(x_val, y_val))"
   ]
  },
  {
   "cell_type": "code",
   "execution_count": 55,
   "metadata": {},
   "outputs": [
    {
     "name": "stdout",
     "output_type": "stream",
     "text": [
      "[0.8425805935013294, 0.85188]\n",
      "25000/25000 [==============================] - 3s 138us/step\n",
      "[0.12283033714711666, 0.8532]\n"
     ]
    }
   ],
   "source": [
    "print(results_32un)\n",
    "results_mse = model_mse.evaluate(x_test, y_test)\n",
    "print(results_mse)"
   ]
  },
  {
   "cell_type": "markdown",
   "metadata": {},
   "source": [
    "Activation functions"
   ]
  },
  {
   "cell_type": "code",
   "execution_count": 62,
   "metadata": {
    "scrolled": true
   },
   "outputs": [
    {
     "name": "stdout",
     "output_type": "stream",
     "text": [
      "Train on 15000 samples, validate on 10000 samples\n",
      "Epoch 1/20\n",
      "15000/15000 [==============================] - 3s 224us/step - loss: 0.4411 - acc: 0.8027 - val_loss: 0.3333 - val_acc: 0.8617\n",
      "Epoch 2/20\n",
      "15000/15000 [==============================] - 3s 167us/step - loss: 0.2348 - acc: 0.9124 - val_loss: 0.3105 - val_acc: 0.8725\n",
      "Epoch 3/20\n",
      "15000/15000 [==============================] - 3s 174us/step - loss: 0.1674 - acc: 0.9371 - val_loss: 0.2878 - val_acc: 0.8861\n",
      "Epoch 4/20\n",
      "15000/15000 [==============================] - 3s 167us/step - loss: 0.1264 - acc: 0.9551 - val_loss: 0.3493 - val_acc: 0.8715\n",
      "Epoch 5/20\n",
      "15000/15000 [==============================] - 3s 176us/step - loss: 0.0980 - acc: 0.9661 - val_loss: 0.3688 - val_acc: 0.8729\n",
      "Epoch 6/20\n",
      "15000/15000 [==============================] - 3s 182us/step - loss: 0.0780 - acc: 0.9740 - val_loss: 0.4066 - val_acc: 0.8750\n",
      "Epoch 7/20\n",
      "15000/15000 [==============================] - 3s 169us/step - loss: 0.0710 - acc: 0.9751 - val_loss: 0.4460 - val_acc: 0.8715\n",
      "Epoch 8/20\n",
      "15000/15000 [==============================] - 2s 166us/step - loss: 0.0493 - acc: 0.9843 - val_loss: 0.5042 - val_acc: 0.8728\n",
      "Epoch 9/20\n",
      "15000/15000 [==============================] - 2s 166us/step - loss: 0.0403 - acc: 0.9875 - val_loss: 0.5470 - val_acc: 0.8686\n",
      "Epoch 10/20\n",
      "15000/15000 [==============================] - 3s 170us/step - loss: 0.0398 - acc: 0.9871 - val_loss: 0.5894 - val_acc: 0.8693\n",
      "Epoch 11/20\n",
      "15000/15000 [==============================] - 3s 168us/step - loss: 0.0343 - acc: 0.9893 - val_loss: 0.6165 - val_acc: 0.8686\n",
      "Epoch 12/20\n",
      "15000/15000 [==============================] - 3s 171us/step - loss: 0.0301 - acc: 0.9911 - val_loss: 0.6457 - val_acc: 0.8662\n",
      "Epoch 13/20\n",
      "15000/15000 [==============================] - 3s 170us/step - loss: 0.0054 - acc: 0.9995 - val_loss: 0.8288 - val_acc: 0.8471\n",
      "Epoch 14/20\n",
      "15000/15000 [==============================] - 2s 163us/step - loss: 0.0319 - acc: 0.9914 - val_loss: 0.7105 - val_acc: 0.8637\n",
      "Epoch 15/20\n",
      "15000/15000 [==============================] - 2s 161us/step - loss: 0.0022 - acc: 0.9999 - val_loss: 0.7755 - val_acc: 0.8630\n",
      "Epoch 16/20\n",
      "15000/15000 [==============================] - 2s 164us/step - loss: 0.0340 - acc: 0.9915 - val_loss: 0.7971 - val_acc: 0.8622\n",
      "Epoch 17/20\n",
      "15000/15000 [==============================] - 2s 164us/step - loss: 0.0011 - acc: 0.9999 - val_loss: 0.8276 - val_acc: 0.8611\n",
      "Epoch 18/20\n",
      "15000/15000 [==============================] - 2s 165us/step - loss: 0.0023 - acc: 0.9995 - val_loss: 1.3173 - val_acc: 0.8189\n",
      "Epoch 19/20\n",
      "15000/15000 [==============================] - 2s 164us/step - loss: 0.0156 - acc: 0.9959 - val_loss: 0.8930 - val_acc: 0.8601\n",
      "Epoch 20/20\n",
      "15000/15000 [==============================] - 2s 163us/step - loss: 3.5264e-04 - acc: 1.0000 - val_loss: 0.9266 - val_acc: 0.8619\n"
     ]
    }
   ],
   "source": [
    "model_tanh.compile(optimizer='rmsprop',\n",
    "              loss='binary_crossentropy',\n",
    "              metrics=['acc'])\n",
    "\n",
    "history_tanh = model_tanh.fit(partial_x_train,\n",
    "                    partial_y_train,\n",
    "                    epochs=20,\n",
    "                    batch_size=512,\n",
    "                    validation_data=(x_val, y_val))"
   ]
  },
  {
   "cell_type": "code",
   "execution_count": 63,
   "metadata": {},
   "outputs": [
    {
     "name": "stdout",
     "output_type": "stream",
     "text": [
      "[0.8425805935013294, 0.85188]\n",
      "25000/25000 [==============================] - 3s 137us/step\n",
      "[1.0302472790443897, 0.84496]\n"
     ]
    }
   ],
   "source": [
    "print(results_32un)\n",
    "results_tanh = model_tanh.evaluate(x_test, y_test)\n",
    "print(results_tanh)"
   ]
  }
 ],
 "metadata": {
  "kernelspec": {
   "display_name": "Python 3",
   "language": "python",
   "name": "python3"
  },
  "language_info": {
   "codemirror_mode": {
    "name": "ipython",
    "version": 3
   },
   "file_extension": ".py",
   "mimetype": "text/x-python",
   "name": "python",
   "nbconvert_exporter": "python",
   "pygments_lexer": "ipython3",
   "version": "3.6.6"
  }
 },
 "nbformat": 4,
 "nbformat_minor": 2
}
