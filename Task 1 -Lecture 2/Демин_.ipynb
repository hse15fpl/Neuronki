{
 "cells": [
  {
   "cell_type": "markdown",
   "metadata": {},
   "source": [
    "#### Download a dataset"
   ]
  },
  {
   "cell_type": "code",
   "execution_count": 102,
   "metadata": {},
   "outputs": [],
   "source": [
    "from keras.datasets import imdb\n",
    "\n",
    "(train_data, train_labels), (test_data, test_labels) = imdb.load_data(\n",
    "    num_words=10000)\n",
    "\n",
    "word_index = imdb.get_word_index()\n",
    "reverse_word_index = dict(\n",
    "    [(value, key) for (key, value) in word_index.items()])\n",
    "decoded_review = ' '.join(\n",
    "    [reverse_word_index.get(i - 3, '?') for i in train_data[0]])\n"
   ]
  },
  {
   "cell_type": "markdown",
   "metadata": {},
   "source": [
    "#### Vectorizing"
   ]
  },
  {
   "cell_type": "code",
   "execution_count": 103,
   "metadata": {
    "collapsed": true
   },
   "outputs": [],
   "source": [
    "word_index = imdb.get_word_index()\n",
    "reverse_word_index = dict(\n",
    "    [(value, key) for (key, value) in word_index.items()])\n",
    "decoded_review = ' '.join(\n",
    "    [reverse_word_index.get(i - 3, '?') for i in train_data[0]])\n",
    "\n",
    "\n",
    "import numpy as np\n",
    "\n",
    "def vectorize_sequences(sequences, dimension=10000):\n",
    "    results = np.zeros((len(sequences), dimension))\n",
    "    for i, sequence in enumerate(sequences):\n",
    "        results[i, sequence] = 1.\n",
    "    return results\n",
    "\n",
    "x_train = vectorize_sequences(train_data)\n",
    "x_test = vectorize_sequences(test_data)\n"
   ]
  },
  {
   "cell_type": "code",
   "execution_count": 104,
   "metadata": {
    "collapsed": true
   },
   "outputs": [],
   "source": [
    "y_train = np.asarray(train_labels).astype('float32')\n",
    "y_test = np.asarray(test_labels).astype('float32')"
   ]
  },
  {
   "cell_type": "markdown",
   "metadata": {},
   "source": [
    "# 1 HIDDEN LAYER"
   ]
  },
  {
   "cell_type": "code",
   "execution_count": 15,
   "metadata": {
    "collapsed": true
   },
   "outputs": [],
   "source": [
    "#16 units\n",
    "from keras import models\n",
    "from keras import layers\n",
    "\n",
    "model = models.Sequential()\n",
    "model.add(layers.Dense(16, activation='relu', input_shape=(10000,)))\n",
    "model.add(layers.Dense(1, activation='sigmoid'))"
   ]
  },
  {
   "cell_type": "markdown",
   "metadata": {},
   "source": [
    "# 2 HIDDEN LAYERS"
   ]
  },
  {
   "cell_type": "code",
   "execution_count": 11,
   "metadata": {},
   "outputs": [],
   "source": [
    "#16 units\n",
    "from keras import models\n",
    "from keras import layers\n",
    "\n",
    "model = models.Sequential()\n",
    "model.add(layers.Dense(16, activation='relu', input_shape=(10000,)))\n",
    "model.add(layers.Dense(16, activation='relu'))\n",
    "model.add(layers.Dense(1, activation='sigmoid'))"
   ]
  },
  {
   "cell_type": "markdown",
   "metadata": {},
   "source": [
    "# 3 HIDDEN LAYERS "
   ]
  },
  {
   "cell_type": "code",
   "execution_count": 22,
   "metadata": {
    "collapsed": true
   },
   "outputs": [],
   "source": [
    "#16 units\n",
    "from keras import models\n",
    "from keras import layers\n",
    "\n",
    "model = models.Sequential()\n",
    "model.add(layers.Dense(16, activation='relu', input_shape=(10000,)))\n",
    "model.add(layers.Dense(16, activation='relu'))\n",
    "model.add(layers.Dense(16, activation='relu'))\n",
    "model.add(layers.Dense(1, activation='sigmoid'))"
   ]
  },
  {
   "cell_type": "code",
   "execution_count": 23,
   "metadata": {},
   "outputs": [],
   "source": [
    "from keras import losses\n",
    "from keras import metrics\n",
    "from keras import optimizers\n",
    "\n",
    "model.compile(optimizer=optimizers.RMSprop(lr=0.001),\n",
    "              loss=losses.binary_crossentropy,\n",
    "              metrics=[metrics.binary_accuracy])"
   ]
  },
  {
   "cell_type": "markdown",
   "metadata": {},
   "source": [
    "#### Validation"
   ]
  },
  {
   "cell_type": "code",
   "execution_count": 24,
   "metadata": {
    "collapsed": true
   },
   "outputs": [],
   "source": [
    "x_val = x_train[:10000]\n",
    "partial_x_train = x_train[10000:]\n",
    "y_val = y_train[:10000]\n",
    "partial_y_train = y_train[10000:]"
   ]
  },
  {
   "cell_type": "code",
   "execution_count": 25,
   "metadata": {},
   "outputs": [
    {
     "name": "stdout",
     "output_type": "stream",
     "text": [
      "Train on 15000 samples, validate on 10000 samples\n",
      "Epoch 1/20\n",
      "15000/15000 [==============================] - 15s 1ms/step - loss: 0.5487 - acc: 0.7730 - val_loss: 0.4519 - val_acc: 0.8076\n",
      "Epoch 2/20\n",
      "15000/15000 [==============================] - 4s 269us/step - loss: 0.3288 - acc: 0.8983 - val_loss: 0.3191 - val_acc: 0.8790\n",
      "Epoch 3/20\n",
      "15000/15000 [==============================] - 5s 342us/step - loss: 0.2325 - acc: 0.9237 - val_loss: 0.2753 - val_acc: 0.8928\n",
      "Epoch 4/20\n",
      "15000/15000 [==============================] - 5s 314us/step - loss: 0.1747 - acc: 0.9449 - val_loss: 0.2788 - val_acc: 0.8901\n",
      "Epoch 5/20\n",
      "15000/15000 [==============================] - 4s 286us/step - loss: 0.1413 - acc: 0.9548 - val_loss: 0.2820 - val_acc: 0.8887\n",
      "Epoch 6/20\n",
      "15000/15000 [==============================] - 5s 343us/step - loss: 0.1108 - acc: 0.9668 - val_loss: 0.3060 - val_acc: 0.8853\n",
      "Epoch 7/20\n",
      "15000/15000 [==============================] - 4s 286us/step - loss: 0.0905 - acc: 0.9731 - val_loss: 0.3268 - val_acc: 0.8807\n",
      "Epoch 8/20\n",
      "15000/15000 [==============================] - 5s 323us/step - loss: 0.0737 - acc: 0.9795 - val_loss: 0.3644 - val_acc: 0.8780\n",
      "Epoch 9/20\n",
      "15000/15000 [==============================] - 5s 350us/step - loss: 0.0541 - acc: 0.9863 - val_loss: 0.3843 - val_acc: 0.8792\n",
      "Epoch 10/20\n",
      "15000/15000 [==============================] - 5s 335us/step - loss: 0.0463 - acc: 0.9871 - val_loss: 0.4165 - val_acc: 0.8766\n",
      "Epoch 11/20\n",
      "15000/15000 [==============================] - 6s 424us/step - loss: 0.0334 - acc: 0.9923 - val_loss: 0.4512 - val_acc: 0.8728\n",
      "Epoch 12/20\n",
      "15000/15000 [==============================] - 5s 323us/step - loss: 0.0292 - acc: 0.9918 - val_loss: 0.4894 - val_acc: 0.8733\n",
      "Epoch 13/20\n",
      "15000/15000 [==============================] - 5s 359us/step - loss: 0.0201 - acc: 0.9960 - val_loss: 0.5225 - val_acc: 0.8734\n",
      "Epoch 14/20\n",
      "15000/15000 [==============================] - 4s 285us/step - loss: 0.0206 - acc: 0.9945 - val_loss: 0.5542 - val_acc: 0.8734\n",
      "Epoch 15/20\n",
      "15000/15000 [==============================] - 5s 301us/step - loss: 0.0071 - acc: 0.9995 - val_loss: 0.5892 - val_acc: 0.8727\n",
      "Epoch 16/20\n",
      "15000/15000 [==============================] - 4s 283us/step - loss: 0.0121 - acc: 0.9967 - val_loss: 0.6181 - val_acc: 0.8720\n",
      "Epoch 17/20\n",
      "15000/15000 [==============================] - 4s 283us/step - loss: 0.0037 - acc: 0.9999 - val_loss: 0.6591 - val_acc: 0.8721\n",
      "Epoch 18/20\n",
      "15000/15000 [==============================] - 4s 267us/step - loss: 0.0141 - acc: 0.9955 - val_loss: 0.6952 - val_acc: 0.8683\n",
      "Epoch 19/20\n",
      "15000/15000 [==============================] - 4s 290us/step - loss: 0.0020 - acc: 0.9999 - val_loss: 0.7215 - val_acc: 0.8668\n",
      "Epoch 20/20\n",
      "15000/15000 [==============================] - 4s 286us/step - loss: 0.0016 - acc: 0.9999 - val_loss: 0.8572 - val_acc: 0.8551\n"
     ]
    }
   ],
   "source": [
    "model.compile(optimizer='rmsprop',\n",
    "              loss='binary_crossentropy',\n",
    "              metrics=['acc'])\n",
    "\n",
    "history = model.fit(partial_x_train,\n",
    "                    partial_y_train,\n",
    "                    epochs=20,\n",
    "                    batch_size=512,\n",
    "                    validation_data=(x_val, y_val))"
   ]
  },
  {
   "cell_type": "code",
   "execution_count": 26,
   "metadata": {},
   "outputs": [
    {
     "data": {
      "text/plain": [
       "dict_keys(['val_loss', 'val_acc', 'loss', 'acc'])"
      ]
     },
     "execution_count": 26,
     "metadata": {},
     "output_type": "execute_result"
    }
   ],
   "source": [
    "history_dict = history.history\n",
    "history_dict.keys()"
   ]
  },
  {
   "cell_type": "code",
   "execution_count": 27,
   "metadata": {},
   "outputs": [
    {
     "data": {
      "image/png": "[encoded data removed]",
      "text/plain": [
       "<matplotlib.figure.Figure at 0x1b0880c8048>"
      ]
     },
     "metadata": {},
     "output_type": "display_data"
    }
   ],
   "source": [
    "import matplotlib.pyplot as plt\n",
    "\n",
    "history_dict = history.history\n",
    "loss_values = history_dict['loss']\n",
    "val_loss_values = history_dict['val_loss']\n",
    "\n",
    "epochs = range(1, len(history_dict['acc']) + 1)\n",
    "\n",
    "plt.plot(epochs, loss_values, 'bo', label='Training loss')\n",
    "plt.plot(epochs, val_loss_values, 'b', label='Validation loss')\n",
    "plt.title('Training and validation loss')\n",
    "plt.xlabel('Epochs')\n",
    "plt.ylabel('Loss')\n",
    "plt.legend()\n",
    "\n",
    "plt.show()"
   ]
  },
  {
   "cell_type": "code",
   "execution_count": 31,
   "metadata": {},
   "outputs": [
    {
     "data": {
      "image/png": "[encoded data removed]",
      "text/plain": [
       "<matplotlib.figure.Figure at 0x1b088194eb8>"
      ]
     },
     "metadata": {},
     "output_type": "display_data"
    }
   ],
   "source": [
    "plt.clf()\n",
    "acc_values = history_dict['acc']\n",
    "val_acc_values = history_dict['val_acc']\n",
    "\n",
    "plt.plot(epochs, acc_values, 'bo', label='Training acc')\n",
    "plt.plot(epochs, val_acc_values, 'b', label='Validation acc')\n",
    "plt.title('Training and validation accuracy')\n",
    "plt.xlabel('Epochs')\n",
    "plt.ylabel('Loss')\n",
    "plt.legend()\n",
    "\n",
    "plt.show()"
   ]
  },
  {
   "cell_type": "markdown",
   "metadata": {},
   "source": [
    "# 2 HIDDEN LAYERS "
   ]
  },
  {
   "cell_type": "code",
   "execution_count": 32,
   "metadata": {},
   "outputs": [
    {
     "name": "stdout",
     "output_type": "stream",
     "text": [
      "Epoch 1/4\n",
      "25000/25000 [==============================] - 168s 7ms/step - loss: 0.4229 - acc: 0.8207\n",
      "Epoch 2/4\n",
      "25000/25000 [==============================] - 7s 280us/step - loss: 0.2401 - acc: 0.9100\n",
      "Epoch 3/4\n",
      "25000/25000 [==============================] - 6s 256us/step - loss: 0.1903 - acc: 0.9302\n",
      "Epoch 4/4\n",
      "25000/25000 [==============================] - 7s 268us/step - loss: 0.1588 - acc: 0.9413\n",
      "25000/25000 [==============================] - 117s 5ms/step\n"
     ]
    }
   ],
   "source": [
    "#32 units\n",
    "model = models.Sequential()\n",
    "model.add(layers.Dense(32, activation='relu', input_shape=(10000,)))\n",
    "model.add(layers.Dense(32, activation='relu'))\n",
    "model.add(layers.Dense(1, activation='sigmoid'))\n",
    "\n",
    "model.compile(optimizer='rmsprop',\n",
    "              loss='binary_crossentropy',\n",
    "              metrics=['accuracy'])\n",
    "\n",
    "model.fit(x_train, y_train, epochs=4, batch_size=512)\n",
    "results = model.evaluate(x_test, y_test)"
   ]
  },
  {
   "cell_type": "markdown",
   "metadata": {},
   "source": [
    "# 2 HIDDEN LAYERS "
   ]
  },
  {
   "cell_type": "code",
   "execution_count": 33,
   "metadata": {},
   "outputs": [
    {
     "name": "stdout",
     "output_type": "stream",
     "text": [
      "Epoch 1/4\n",
      "25000/25000 [==============================] - 393s 16ms/step - loss: 0.4169 - acc: 0.8114\n",
      "Epoch 2/4\n",
      "25000/25000 [==============================] - 14s 560us/step - loss: 0.2335 - acc: 0.9096\n",
      "Epoch 3/4\n",
      "25000/25000 [==============================] - 9s 356us/step - loss: 0.1903 - acc: 0.9283\n",
      "Epoch 4/4\n",
      "25000/25000 [==============================] - 8s 334us/step - loss: 0.1457 - acc: 0.9455\n",
      "25000/25000 [==============================] - 101s 4ms/step\n"
     ]
    }
   ],
   "source": [
    "#64 units\n",
    "model = models.Sequential()\n",
    "model.add(layers.Dense(64, activation='relu', input_shape=(10000,)))\n",
    "model.add(layers.Dense(64, activation='relu'))\n",
    "model.add(layers.Dense(1, activation='sigmoid'))\n",
    "\n",
    "model.compile(optimizer='rmsprop',\n",
    "              loss='binary_crossentropy',\n",
    "              metrics=['accuracy'])\n",
    "\n",
    "model.fit(x_train, y_train, epochs=4, batch_size=512)\n",
    "results = model.evaluate(x_test, y_test)"
   ]
  },
  {
   "cell_type": "markdown",
   "metadata": {},
   "source": [
    "# 2 HIDDEN LAYERS "
   ]
  },
  {
   "cell_type": "code",
   "execution_count": 105,
   "metadata": {},
   "outputs": [
    {
     "name": "stdout",
     "output_type": "stream",
     "text": [
      "Epoch 1/4\n",
      "25000/25000 [==============================] - 25s 994us/step - loss: 0.4238 - acc: 0.8006\n",
      "Epoch 2/4\n",
      "25000/25000 [==============================] - 12s 462us/step - loss: 0.2319 - acc: 0.9097\n",
      "Epoch 3/4\n",
      "25000/25000 [==============================] - 11s 424us/step - loss: 0.1635 - acc: 0.9371\n",
      "Epoch 4/4\n",
      "25000/25000 [==============================] - 11s 421us/step - loss: 0.1168 - acc: 0.9541\n",
      "25000/25000 [==============================] - 22s 875us/step\n"
     ]
    }
   ],
   "source": [
    "#128 units\n",
    "model_2_128 = models.Sequential()\n",
    "model_2_128.add(layers.Dense(128, activation='relu', input_shape=(10000,)))\n",
    "model_2_128.add(layers.Dense(128, activation='relu'))\n",
    "model_2_128.add(layers.Dense(1, activation='sigmoid'))\n",
    "\n",
    "model_2_128.compile(optimizer='rmsprop',\n",
    "              loss='binary_crossentropy',\n",
    "              metrics=['accuracy'])\n",
    "\n",
    "model_2_128.fit(x_train, y_train, epochs=4, batch_size=512)\n",
    "results = model_2_128.evaluate(x_test, y_test)"
   ]
  },
  {
   "cell_type": "markdown",
   "metadata": {},
   "source": [
    "# MSE LOSS FUNCTION"
   ]
  },
  {
   "cell_type": "code",
   "execution_count": 34,
   "metadata": {},
   "outputs": [
    {
     "name": "stdout",
     "output_type": "stream",
     "text": [
      "Epoch 1/4\n",
      "25000/25000 [==============================] - 389s 16ms/step - loss: 0.1353 - binary_accuracy: 0.8081\n",
      "Epoch 2/4\n",
      "25000/25000 [==============================] - 16s 637us/step - loss: 0.0682 - binary_accuracy: 0.9113\n",
      "Epoch 3/4\n",
      "25000/25000 [==============================] - 7s 296us/step - loss: 0.0536 - binary_accuracy: 0.9326\n",
      "Epoch 4/4\n",
      "25000/25000 [==============================] - 8s 317us/step - loss: 0.0402 - binary_accuracy: 0.9500\n",
      "25000/25000 [==============================] - 98s 4ms/step\n"
     ]
    }
   ],
   "source": [
    "model = models.Sequential()\n",
    "model.add(layers.Dense(64, activation='relu', input_shape=(10000,)))\n",
    "model.add(layers.Dense(64, activation='relu'))\n",
    "model.add(layers.Dense(1, activation='sigmoid'))\n",
    "\n",
    "model.compile(optimizer=optimizers.RMSprop(lr=0.001),\n",
    "              loss=losses.mse,\n",
    "              metrics=[metrics.binary_accuracy])\n",
    "\n",
    "model.fit(x_train, y_train, epochs=4, batch_size=512)\n",
    "results = model.evaluate(x_test, y_test)"
   ]
  },
  {
   "cell_type": "markdown",
   "metadata": {},
   "source": [
    "# TANH ACTIVATION FUNCTION"
   ]
  },
  {
   "cell_type": "code",
   "execution_count": 36,
   "metadata": {},
   "outputs": [
    {
     "name": "stdout",
     "output_type": "stream",
     "text": [
      "Epoch 1/4\n",
      "25000/25000 [==============================] - 177s 7ms/step - loss: 0.4036 - binary_accuracy: 0.8247\n",
      "Epoch 2/4\n",
      "25000/25000 [==============================] - 13s 510us/step - loss: 0.2229 - binary_accuracy: 0.91205s - loss: 0.2181 - b\n",
      "Epoch 3/4\n",
      "25000/25000 [==============================] - 8s 314us/step - loss: 0.1851 - binary_accuracy: 0.9288\n",
      "Epoch 4/4\n",
      "25000/25000 [==============================] - 8s 302us/step - loss: 0.1511 - binary_accuracy: 0.9438\n",
      "25000/25000 [==============================] - 74s 3ms/step\n"
     ]
    }
   ],
   "source": [
    "model = models.Sequential()\n",
    "model.add(layers.Dense(64, activation='tanh', input_shape=(10000,)))\n",
    "model.add(layers.Dense(64, activation='tanh'))\n",
    "model.add(layers.Dense(1, activation='sigmoid'))\n",
    "\n",
    "'''model.compile(optimizer='rmsprop',\n",
    "              loss='mse',\n",
    "              metrics=['accuracy'])'''\n",
    "\n",
    "model.compile(optimizer=optimizers.RMSprop(lr=0.001),\n",
    "              loss=losses.binary_crossentropy,\n",
    "              metrics=[metrics.binary_accuracy])\n",
    "\n",
    "model.fit(x_train, y_train, epochs=4, batch_size=512)\n",
    "results = model.evaluate(x_test, y_test)"
   ]
  },
  {
   "cell_type": "markdown",
   "metadata": {},
   "source": [
    "###### RESULTS\n",
    "1. Наиболее точные результаты показывает сетка с двумя hidden  layers. Думаю, что это связано с тем, что 1 скрытые слой дает риск недообучения, а при добавлении 3 скрытого слоя значения функции потерь увеличиваются -  сеть хуже предсказывает значения, риск переобучения, возможно. \n",
    "Говоря о количестве юнитов (нейронах), схожие результаты показали сетки с использованием 16 units и 32 units. При использовании 64 units модель начинает переобучаться.  \n",
    "2. Функция MSE показала себя лучше чем binary_crossentropy - значения функции потерь меньше. "
   ]
  },
  {
   "cell_type": "markdown",
   "metadata": {},
   "source": [
    "#### Hometask 2"
   ]
  },
  {
   "cell_type": "code",
   "execution_count": 74,
   "metadata": {
    "collapsed": true
   },
   "outputs": [],
   "source": [
    "from keras.datasets import reuters\n",
    "\n",
    "(train_data, train_labels), (test_data, test_labels) = reuters.load_data(\n",
    "    num_words=10000)\n",
    "\n",
    "\n"
   ]
  },
  {
   "cell_type": "code",
   "execution_count": 75,
   "metadata": {
    "collapsed": true
   },
   "outputs": [],
   "source": [
    "import numpy as np\n",
    "\n",
    "def vectorize_sequences(sequences, dimension=10000):\n",
    "    results = np.zeros((len(sequences), dimension))\n",
    "    for i, sequence in enumerate(sequences):\n",
    "        results[i, sequence] = 1.\n",
    "    return results\n",
    "\n",
    "x_train = vectorize_sequences(train_data)\n",
    "x_test = vectorize_sequences(test_data)\n"
   ]
  },
  {
   "cell_type": "code",
   "execution_count": 87,
   "metadata": {
    "collapsed": true
   },
   "outputs": [],
   "source": [
    "from keras.utils.np_utils import to_categorical\n",
    "\n",
    "y_train = to_categorical(train_labels)\n",
    "y_test = to_categorical(test_labels)"
   ]
  },
  {
   "cell_type": "code",
   "execution_count": 88,
   "metadata": {
    "collapsed": true
   },
   "outputs": [],
   "source": [
    "model.compile(optimizer='rmsprop',\n",
    "              loss='sparse_categorical_crossentropy',\n",
    "              metrics=['accuracy'])"
   ]
  },
  {
   "cell_type": "markdown",
   "metadata": {},
   "source": [
    "# 1 HIDDEN LAYER"
   ]
  },
  {
   "cell_type": "code",
   "execution_count": 89,
   "metadata": {},
   "outputs": [
    {
     "name": "stdout",
     "output_type": "stream",
     "text": [
      "Train on 7982 samples, validate on 1000 samples\n",
      "Epoch 1/20\n",
      "7982/7982 [==============================] - 5s 668us/step - loss: 1.8689 - acc: 0.6362 - val_loss: 1.2009 - val_acc: 0.7270\n",
      "Epoch 2/20\n",
      "7982/7982 [==============================] - 4s 445us/step - loss: 0.9378 - acc: 0.8047 - val_loss: 0.9695 - val_acc: 0.8010\n",
      "Epoch 3/20\n",
      "7982/7982 [==============================] - 4s 541us/step - loss: 0.6365 - acc: 0.8686 - val_loss: 0.8608 - val_acc: 0.8200\n",
      "Epoch 4/20\n",
      "7982/7982 [==============================] - 4s 516us/step - loss: 0.4528 - acc: 0.9063 - val_loss: 0.8317 - val_acc: 0.8170\n",
      "Epoch 5/20\n",
      "7982/7982 [==============================] - 4s 461us/step - loss: 0.3376 - acc: 0.9292 - val_loss: 0.8210 - val_acc: 0.8230\n",
      "Epoch 6/20\n",
      "7982/7982 [==============================] - 4s 519us/step - loss: 0.2618 - acc: 0.9407 - val_loss: 0.8034 - val_acc: 0.8430\n",
      "Epoch 7/20\n",
      "7982/7982 [==============================] - 5s 656us/step - loss: 0.2162 - acc: 0.9479 - val_loss: 0.8302 - val_acc: 0.8360\n",
      "Epoch 8/20\n",
      "7982/7982 [==============================] - 5s 637us/step - loss: 0.1830 - acc: 0.9509 - val_loss: 0.8502 - val_acc: 0.8280\n",
      "Epoch 9/20\n",
      "7982/7982 [==============================] - 4s 484us/step - loss: 0.1628 - acc: 0.9524 - val_loss: 0.8850 - val_acc: 0.8260\n",
      "Epoch 10/20\n",
      "7982/7982 [==============================] - 4s 503us/step - loss: 0.1491 - acc: 0.9557 - val_loss: 0.9339 - val_acc: 0.8100\n",
      "Epoch 11/20\n",
      "7982/7982 [==============================] - 4s 496us/step - loss: 0.1345 - acc: 0.9563 - val_loss: 0.9188 - val_acc: 0.8200\n",
      "Epoch 12/20\n",
      "7982/7982 [==============================] - 4s 510us/step - loss: 0.1301 - acc: 0.9551 - val_loss: 0.9899 - val_acc: 0.8110\n",
      "Epoch 13/20\n",
      "7982/7982 [==============================] - 4s 492us/step - loss: 0.1226 - acc: 0.9562 - val_loss: 0.9758 - val_acc: 0.8180\n",
      "Epoch 14/20\n",
      "7982/7982 [==============================] - 4s 496us/step - loss: 0.1189 - acc: 0.9564 - val_loss: 1.0181 - val_acc: 0.8080\n",
      "Epoch 15/20\n",
      "7982/7982 [==============================] - 4s 556us/step - loss: 0.1139 - acc: 0.9565 - val_loss: 1.0494 - val_acc: 0.8080\n",
      "Epoch 16/20\n",
      "7982/7982 [==============================] - 5s 613us/step - loss: 0.1105 - acc: 0.9580 - val_loss: 1.1085 - val_acc: 0.8040\n",
      "Epoch 17/20\n",
      "7982/7982 [==============================] - 5s 588us/step - loss: 0.1099 - acc: 0.9569 - val_loss: 1.0753 - val_acc: 0.8080\n",
      "Epoch 18/20\n",
      "7982/7982 [==============================] - 5s 673us/step - loss: 0.1075 - acc: 0.9583 - val_loss: 1.0940 - val_acc: 0.8100\n",
      "Epoch 19/20\n",
      "7982/7982 [==============================] - 4s 530us/step - loss: 0.1064 - acc: 0.9567 - val_loss: 1.1003 - val_acc: 0.8070\n",
      "Epoch 20/20\n",
      "7982/7982 [==============================] - 4s 490us/step - loss: 0.1049 - acc: 0.9570 - val_loss: 1.1428 - val_acc: 0.8020\n"
     ]
    }
   ],
   "source": [
    "model = models.Sequential()\n",
    "model.add(layers.Dense(64, activation='relu', input_shape=(10000,)))\n",
    "model.add(layers.Dense(46, activation='softmax'))\n",
    "\n",
    "model.compile(optimizer='rmsprop',\n",
    "              loss='categorical_crossentropy',\n",
    "              metrics=['accuracy'])\n",
    "history_1_layer = model.fit(partial_x_train,\n",
    "          partial_y_train,\n",
    "          epochs=20,\n",
    "          batch_size=128,\n",
    "          validation_data=(x_val, y_val))\n",
    "\n"
   ]
  },
  {
   "cell_type": "markdown",
   "metadata": {},
   "source": [
    "# 2 HIDDEN LAYERS"
   ]
  },
  {
   "cell_type": "code",
   "execution_count": 90,
   "metadata": {},
   "outputs": [
    {
     "name": "stdout",
     "output_type": "stream",
     "text": [
      "Train on 7982 samples, validate on 1000 samples\n",
      "Epoch 1/20\n",
      "7982/7982 [==============================] - 6s 779us/step - loss: 1.8419 - acc: 0.6253 - val_loss: 1.2206 - val_acc: 0.7380\n",
      "Epoch 2/20\n",
      "7982/7982 [==============================] - 4s 457us/step - loss: 0.9481 - acc: 0.7987 - val_loss: 1.0120 - val_acc: 0.7850\n",
      "Epoch 3/20\n",
      "7982/7982 [==============================] - 4s 474us/step - loss: 0.6281 - acc: 0.8677 - val_loss: 0.9127 - val_acc: 0.8100\n",
      "Epoch 4/20\n",
      "7982/7982 [==============================] - 5s 616us/step - loss: 0.4300 - acc: 0.9087 - val_loss: 0.8805 - val_acc: 0.8160\n",
      "Epoch 5/20\n",
      "7982/7982 [==============================] - 6s 703us/step - loss: 0.3145 - acc: 0.9326 - val_loss: 0.8842 - val_acc: 0.8130\n",
      "Epoch 6/20\n",
      "7982/7982 [==============================] - 5s 600us/step - loss: 0.2453 - acc: 0.9444 - val_loss: 0.8843 - val_acc: 0.8340\n",
      "Epoch 7/20\n",
      "7982/7982 [==============================] - 4s 482us/step - loss: 0.2042 - acc: 0.9468 - val_loss: 0.9352 - val_acc: 0.8210\n",
      "Epoch 8/20\n",
      "7982/7982 [==============================] - 4s 473us/step - loss: 0.1781 - acc: 0.9529 - val_loss: 1.0760 - val_acc: 0.7810\n",
      "Epoch 9/20\n",
      "7982/7982 [==============================] - 4s 471us/step - loss: 0.1639 - acc: 0.9539 - val_loss: 0.9860 - val_acc: 0.8080\n",
      "Epoch 10/20\n",
      "7982/7982 [==============================] - 4s 488us/step - loss: 0.1490 - acc: 0.9538 - val_loss: 0.9966 - val_acc: 0.8100\n",
      "Epoch 11/20\n",
      "7982/7982 [==============================] - 4s 532us/step - loss: 0.1431 - acc: 0.9548 - val_loss: 1.0690 - val_acc: 0.7950\n",
      "Epoch 12/20\n",
      "7982/7982 [==============================] - 4s 540us/step - loss: 0.1339 - acc: 0.9568 - val_loss: 1.0499 - val_acc: 0.7920\n",
      "Epoch 13/20\n",
      "7982/7982 [==============================] - 5s 605us/step - loss: 0.1297 - acc: 0.9568 - val_loss: 1.1314 - val_acc: 0.7990\n",
      "Epoch 14/20\n",
      "7982/7982 [==============================] - 5s 604us/step - loss: 0.1254 - acc: 0.9554 - val_loss: 1.1252 - val_acc: 0.7890\n",
      "Epoch 15/20\n",
      "7982/7982 [==============================] - 5s 595us/step - loss: 0.1217 - acc: 0.9545 - val_loss: 1.1085 - val_acc: 0.7970\n",
      "Epoch 16/20\n",
      "7982/7982 [==============================] - 4s 554us/step - loss: 0.1151 - acc: 0.9575 - val_loss: 1.1799 - val_acc: 0.7860\n",
      "Epoch 17/20\n",
      "7982/7982 [==============================] - 4s 496us/step - loss: 0.1164 - acc: 0.9553 - val_loss: 1.1503 - val_acc: 0.7960\n",
      "Epoch 18/20\n",
      "7982/7982 [==============================] - 4s 523us/step - loss: 0.1122 - acc: 0.9575 - val_loss: 1.2057 - val_acc: 0.7820\n",
      "Epoch 19/20\n",
      "7982/7982 [==============================] - 4s 468us/step - loss: 0.1103 - acc: 0.9551 - val_loss: 1.2054 - val_acc: 0.7920\n",
      "Epoch 20/20\n",
      "7982/7982 [==============================] - 4s 479us/step - loss: 0.1027 - acc: 0.9595 - val_loss: 1.2363 - val_acc: 0.7920\n"
     ]
    }
   ],
   "source": [
    "model2 = models.Sequential()\n",
    "model2.add(layers.Dense(64, activation='relu', input_shape=(10000,)))\n",
    "model2.add(layers.Dense(64, activation='relu'))\n",
    "model2.add(layers.Dense(46, activation='softmax'))\n",
    "\n",
    "model2.compile(optimizer='rmsprop',\n",
    "              loss='categorical_crossentropy',\n",
    "              metrics=['accuracy'])\n",
    "history_2_layers = model2.fit(partial_x_train,\n",
    "          partial_y_train,\n",
    "          epochs=20,\n",
    "          batch_size=128,\n",
    "          validation_data=(x_val, y_val))"
   ]
  },
  {
   "cell_type": "markdown",
   "metadata": {},
   "source": [
    "# 3 HIDDEN LAYERS"
   ]
  },
  {
   "cell_type": "code",
   "execution_count": 92,
   "metadata": {},
   "outputs": [
    {
     "name": "stdout",
     "output_type": "stream",
     "text": [
      "Train on 7982 samples, validate on 1000 samples\n",
      "Epoch 1/20\n",
      "7982/7982 [==============================] - 6s 722us/step - loss: 1.8337 - acc: 0.6115 - val_loss: 1.2708 - val_acc: 0.7050\n",
      "Epoch 2/20\n",
      "7982/7982 [==============================] - 4s 449us/step - loss: 0.9798 - acc: 0.7737 - val_loss: 1.1415 - val_acc: 0.7360\n",
      "Epoch 3/20\n",
      "7982/7982 [==============================] - 4s 472us/step - loss: 0.6577 - acc: 0.8558 - val_loss: 0.9477 - val_acc: 0.8000\n",
      "Epoch 4/20\n",
      "7982/7982 [==============================] - 4s 467us/step - loss: 0.4615 - acc: 0.9018 - val_loss: 0.9340 - val_acc: 0.8100\n",
      "Epoch 5/20\n",
      "7982/7982 [==============================] - 4s 467us/step - loss: 0.3375 - acc: 0.9260 - val_loss: 1.0363 - val_acc: 0.7840\n",
      "Epoch 6/20\n",
      "7982/7982 [==============================] - 4s 474us/step - loss: 0.2611 - acc: 0.9407 - val_loss: 0.9952 - val_acc: 0.8010\n",
      "Epoch 7/20\n",
      "7982/7982 [==============================] - 4s 475us/step - loss: 0.2190 - acc: 0.9478 - val_loss: 1.0827 - val_acc: 0.8040\n",
      "Epoch 8/20\n",
      "7982/7982 [==============================] - 4s 537us/step - loss: 0.1956 - acc: 0.9513 - val_loss: 1.1717 - val_acc: 0.7710\n",
      "Epoch 9/20\n",
      "7982/7982 [==============================] - 5s 646us/step - loss: 0.1718 - acc: 0.9533 - val_loss: 1.0723 - val_acc: 0.7990\n",
      "Epoch 10/20\n",
      "7982/7982 [==============================] - 5s 618us/step - loss: 0.1609 - acc: 0.9523 - val_loss: 1.1249 - val_acc: 0.7850\n",
      "Epoch 11/20\n",
      "7982/7982 [==============================] - 4s 492us/step - loss: 0.1479 - acc: 0.9560 - val_loss: 1.2005 - val_acc: 0.7830\n",
      "Epoch 12/20\n",
      "7982/7982 [==============================] - 4s 468us/step - loss: 0.1417 - acc: 0.9550 - val_loss: 1.1198 - val_acc: 0.7960\n",
      "Epoch 13/20\n",
      "7982/7982 [==============================] - 4s 469us/step - loss: 0.1319 - acc: 0.9557 - val_loss: 1.2217 - val_acc: 0.7790\n",
      "Epoch 14/20\n",
      "7982/7982 [==============================] - 4s 491us/step - loss: 0.1288 - acc: 0.9540 - val_loss: 1.2400 - val_acc: 0.7760\n",
      "Epoch 15/20\n",
      "7982/7982 [==============================] - 4s 479us/step - loss: 0.1219 - acc: 0.9544 - val_loss: 1.2410 - val_acc: 0.7930\n",
      "Epoch 16/20\n",
      "7982/7982 [==============================] - 4s 477us/step - loss: 0.1183 - acc: 0.9565 - val_loss: 1.2564 - val_acc: 0.7890\n",
      "Epoch 17/20\n",
      "7982/7982 [==============================] - 4s 497us/step - loss: 0.1120 - acc: 0.9574 - val_loss: 1.2254 - val_acc: 0.8010\n",
      "Epoch 18/20\n",
      "7982/7982 [==============================] - 4s 506us/step - loss: 0.1086 - acc: 0.9567 - val_loss: 1.3132 - val_acc: 0.7920\n",
      "Epoch 19/20\n",
      "7982/7982 [==============================] - 4s 503us/step - loss: 0.1032 - acc: 0.9574 - val_loss: 1.3336 - val_acc: 0.7880\n",
      "Epoch 20/20\n",
      "7982/7982 [==============================] - 4s 507us/step - loss: 0.1054 - acc: 0.9577 - val_loss: 1.3306 - val_acc: 0.7800\n"
     ]
    }
   ],
   "source": [
    "model3 = models.Sequential()\n",
    "model3.add(layers.Dense(64, activation='relu', input_shape=(10000,)))\n",
    "model3.add(layers.Dense(64, activation='relu'))\n",
    "model3.add(layers.Dense(64, activation='relu'))\n",
    "model3.add(layers.Dense(46, activation='softmax'))\n",
    "\n",
    "model3.compile(optimizer='rmsprop',\n",
    "              loss='categorical_crossentropy',\n",
    "              metrics=['accuracy'])\n",
    "history_3_layers = model3.fit(partial_x_train,\n",
    "          partial_y_train,\n",
    "          epochs=20,\n",
    "          batch_size=128,\n",
    "          validation_data=(x_val, y_val))"
   ]
  },
  {
   "cell_type": "code",
   "execution_count": 93,
   "metadata": {},
   "outputs": [
    {
     "name": "stdout",
     "output_type": "stream",
     "text": [
      "2246/2246 [==============================] - 1s 342us/step\n",
      "2246/2246 [==============================] - 1s 365us/step\n",
      "2246/2246 [==============================] - 1s 348us/step\n",
      "[1.3345707462816927, 0.7853962600708857]\n",
      "[1.4700521401603204, 0.77025823686553874]\n",
      "[1.5067622767743105, 0.7822796082454182]\n"
     ]
    }
   ],
   "source": [
    "results1 = model.evaluate(x_test, y_test)\n",
    "results2 = model2.evaluate(x_test, y_test)\n",
    "results3 = model3.evaluate(x_test, y_test)\n",
    "print(results1)\n",
    "print(results2)\n",
    "print(results3)"
   ]
  },
  {
   "cell_type": "markdown",
   "metadata": {},
   "source": [
    "# 2 HIDDEN LAYERS "
   ]
  },
  {
   "cell_type": "code",
   "execution_count": 95,
   "metadata": {},
   "outputs": [
    {
     "name": "stdout",
     "output_type": "stream",
     "text": [
      "Train on 7982 samples, validate on 1000 samples\n",
      "Epoch 1/20\n",
      "7982/7982 [==============================] - 5s 622us/step - loss: 2.2997 - acc: 0.5551 - val_loss: 1.4805 - val_acc: 0.6700\n",
      "Epoch 2/20\n",
      "7982/7982 [==============================] - 3s 351us/step - loss: 1.2432 - acc: 0.7301 - val_loss: 1.1858 - val_acc: 0.7410\n",
      "Epoch 3/20\n",
      "7982/7982 [==============================] - 3s 349us/step - loss: 0.9331 - acc: 0.7978 - val_loss: 1.0447 - val_acc: 0.7740\n",
      "Epoch 4/20\n",
      "7982/7982 [==============================] - 3s 345us/step - loss: 0.7190 - acc: 0.8418 - val_loss: 0.9829 - val_acc: 0.7830\n",
      "Epoch 5/20\n",
      "7982/7982 [==============================] - 3s 337us/step - loss: 0.5591 - acc: 0.8750 - val_loss: 0.9422 - val_acc: 0.7970\n",
      "Epoch 6/20\n",
      "7982/7982 [==============================] - 3s 331us/step - loss: 0.4409 - acc: 0.9018 - val_loss: 0.9204 - val_acc: 0.8080\n",
      "Epoch 7/20\n",
      "7982/7982 [==============================] - 3s 343us/step - loss: 0.3527 - acc: 0.9247 - val_loss: 0.9155 - val_acc: 0.8170\n",
      "Epoch 8/20\n",
      "7982/7982 [==============================] - 3s 341us/step - loss: 0.2881 - acc: 0.9356 - val_loss: 0.9643 - val_acc: 0.8000\n",
      "Epoch 9/20\n",
      "7982/7982 [==============================] - 4s 524us/step - loss: 0.2465 - acc: 0.9446 - val_loss: 0.9254 - val_acc: 0.8160\n",
      "Epoch 10/20\n",
      "7982/7982 [==============================] - 3s 436us/step - loss: 0.2078 - acc: 0.9510 - val_loss: 0.9809 - val_acc: 0.8080\n",
      "Epoch 11/20\n",
      "7982/7982 [==============================] - 3s 341us/step - loss: 0.1869 - acc: 0.9511 - val_loss: 1.0273 - val_acc: 0.8090\n",
      "Epoch 12/20\n",
      "7982/7982 [==============================] - 3s 356us/step - loss: 0.1678 - acc: 0.9554 - val_loss: 1.0063 - val_acc: 0.8040\n",
      "Epoch 13/20\n",
      "7982/7982 [==============================] - 3s 333us/step - loss: 0.1535 - acc: 0.9573 - val_loss: 1.0812 - val_acc: 0.8000\n",
      "Epoch 14/20\n",
      "7982/7982 [==============================] - 4s 469us/step - loss: 0.1443 - acc: 0.9557 - val_loss: 1.0787 - val_acc: 0.7970\n",
      "Epoch 15/20\n",
      "7982/7982 [==============================] - 3s 382us/step - loss: 0.1325 - acc: 0.9594 - val_loss: 1.1273 - val_acc: 0.7970\n",
      "Epoch 16/20\n",
      "7982/7982 [==============================] - 3s 362us/step - loss: 0.1299 - acc: 0.9569 - val_loss: 1.1142 - val_acc: 0.8020\n",
      "Epoch 17/20\n",
      "7982/7982 [==============================] - ETA: 0s - loss: 0.1265 - acc: 0.956 - 3s 349us/step - loss: 0.1261 - acc: 0.9567 - val_loss: 1.1875 - val_acc: 0.7890\n",
      "Epoch 18/20\n",
      "7982/7982 [==============================] - 3s 351us/step - loss: 0.1204 - acc: 0.9555 - val_loss: 1.1830 - val_acc: 0.7860\n",
      "Epoch 19/20\n",
      "7982/7982 [==============================] - 3s 341us/step - loss: 0.1191 - acc: 0.9575 - val_loss: 1.1784 - val_acc: 0.7990\n",
      "Epoch 20/20\n",
      "7982/7982 [==============================] - 3s 349us/step - loss: 0.1133 - acc: 0.9563 - val_loss: 1.1904 - val_acc: 0.7990\n"
     ]
    }
   ],
   "source": [
    "#32 units\n",
    "model32 = models.Sequential()\n",
    "model32.add(layers.Dense(32, activation='relu', input_shape=(10000,)))\n",
    "model32.add(layers.Dense(32, activation='relu'))\n",
    "model32.add(layers.Dense(46, activation='softmax'))\n",
    "\n",
    "model32.compile(optimizer='rmsprop',\n",
    "              loss='categorical_crossentropy',\n",
    "              metrics=['accuracy'])\n",
    "history32 = model32.fit(partial_x_train,\n",
    "          partial_y_train,\n",
    "          epochs=20,\n",
    "          batch_size=128,\n",
    "          validation_data=(x_val, y_val))"
   ]
  },
  {
   "cell_type": "markdown",
   "metadata": {},
   "source": [
    "# 2 HIDDEN LAYERS "
   ]
  },
  {
   "cell_type": "code",
   "execution_count": 96,
   "metadata": {},
   "outputs": [
    {
     "name": "stdout",
     "output_type": "stream",
     "text": [
      "Train on 7982 samples, validate on 1000 samples\n",
      "Epoch 1/20\n",
      "7982/7982 [==============================] - 6s 733us/step - loss: 1.9264 - acc: 0.5968 - val_loss: 1.2453 - val_acc: 0.7370\n",
      "Epoch 2/20\n",
      "7982/7982 [==============================] - 4s 500us/step - loss: 0.9949 - acc: 0.7845 - val_loss: 1.0303 - val_acc: 0.7720\n",
      "Epoch 3/20\n",
      "7982/7982 [==============================] - 4s 469us/step - loss: 0.6747 - acc: 0.8538 - val_loss: 0.9255 - val_acc: 0.8120\n",
      "Epoch 4/20\n",
      "7982/7982 [==============================] - 4s 492us/step - loss: 0.4696 - acc: 0.9002 - val_loss: 0.8729 - val_acc: 0.8140\n",
      "Epoch 5/20\n",
      "7982/7982 [==============================] - 4s 471us/step - loss: 0.3401 - acc: 0.9261 - val_loss: 0.8790 - val_acc: 0.8260\n",
      "Epoch 6/20\n",
      "7982/7982 [==============================] - 4s 505us/step - loss: 0.2613 - acc: 0.9404 - val_loss: 0.9470 - val_acc: 0.8120\n",
      "Epoch 7/20\n",
      "7982/7982 [==============================] - 4s 498us/step - loss: 0.2132 - acc: 0.9488 - val_loss: 0.9358 - val_acc: 0.8130\n",
      "Epoch 8/20\n",
      "7982/7982 [==============================] - 4s 506us/step - loss: 0.1813 - acc: 0.9530 - val_loss: 0.9887 - val_acc: 0.8030\n",
      "Epoch 9/20\n",
      "7982/7982 [==============================] - 4s 484us/step - loss: 0.1677 - acc: 0.9530 - val_loss: 0.9881 - val_acc: 0.8140\n",
      "Epoch 10/20\n",
      "7982/7982 [==============================] - 4s 487us/step - loss: 0.1563 - acc: 0.9548 - val_loss: 0.9872 - val_acc: 0.8170\n",
      "Epoch 11/20\n",
      "7982/7982 [==============================] - 4s 468us/step - loss: 0.1406 - acc: 0.9570 - val_loss: 0.9993 - val_acc: 0.8160\n",
      "Epoch 12/20\n",
      "7982/7982 [==============================] - 4s 480us/step - loss: 0.1352 - acc: 0.9551 - val_loss: 1.0824 - val_acc: 0.8080\n",
      "Epoch 13/20\n",
      "7982/7982 [==============================] - 4s 478us/step - loss: 0.1300 - acc: 0.9575 - val_loss: 1.1132 - val_acc: 0.8130\n",
      "Epoch 14/20\n",
      "7982/7982 [==============================] - 4s 493us/step - loss: 0.1250 - acc: 0.9577 - val_loss: 1.1279 - val_acc: 0.8040\n",
      "Epoch 15/20\n",
      "7982/7982 [==============================] - 4s 510us/step - loss: 0.1214 - acc: 0.9570 - val_loss: 1.1435 - val_acc: 0.7980\n",
      "Epoch 16/20\n",
      "7982/7982 [==============================] - 4s 498us/step - loss: 0.1178 - acc: 0.9562 - val_loss: 1.1097 - val_acc: 0.8060\n",
      "Epoch 17/20\n",
      "7982/7982 [==============================] - 4s 510us/step - loss: 0.1117 - acc: 0.9572 - val_loss: 1.1818 - val_acc: 0.8050\n",
      "Epoch 18/20\n",
      "7982/7982 [==============================] - 4s 507us/step - loss: 0.1118 - acc: 0.9564 - val_loss: 1.1621 - val_acc: 0.8050\n",
      "Epoch 19/20\n",
      "7982/7982 [==============================] - 4s 517us/step - loss: 0.1101 - acc: 0.9551 - val_loss: 1.2409 - val_acc: 0.7950\n",
      "Epoch 20/20\n",
      "7982/7982 [==============================] - 4s 526us/step - loss: 0.1046 - acc: 0.9577 - val_loss: 1.1930 - val_acc: 0.8050\n"
     ]
    }
   ],
   "source": [
    "#64 units\n",
    "model64 = models.Sequential()\n",
    "model64.add(layers.Dense(64, activation='relu', input_shape=(10000,)))\n",
    "model64.add(layers.Dense(64, activation='relu'))\n",
    "model64.add(layers.Dense(46, activation='softmax'))\n",
    "\n",
    "model64.compile(optimizer='rmsprop',\n",
    "              loss='categorical_crossentropy',\n",
    "              metrics=['accuracy'])\n",
    "history64 = model64.fit(partial_x_train,\n",
    "          partial_y_train,\n",
    "          epochs=20,\n",
    "          batch_size=128,\n",
    "          validation_data=(x_val, y_val))"
   ]
  },
  {
   "cell_type": "markdown",
   "metadata": {},
   "source": [
    "# 2 HIDDEN LAYERS "
   ]
  },
  {
   "cell_type": "code",
   "execution_count": 97,
   "metadata": {},
   "outputs": [
    {
     "name": "stdout",
     "output_type": "stream",
     "text": [
      "Train on 7982 samples, validate on 1000 samples\n",
      "Epoch 1/20\n",
      "7982/7982 [==============================] - 8s 1ms/step - loss: 1.6136 - acc: 0.6604 - val_loss: 1.0882 - val_acc: 0.7570\n",
      "Epoch 2/20\n",
      "7982/7982 [==============================] - 6s 705us/step - loss: 0.7640 - acc: 0.8339 - val_loss: 0.9091 - val_acc: 0.7940\n",
      "Epoch 3/20\n",
      "7982/7982 [==============================] - 5s 670us/step - loss: 0.4459 - acc: 0.9048 - val_loss: 0.8621 - val_acc: 0.8330\n",
      "Epoch 4/20\n",
      "7982/7982 [==============================] - 5s 670us/step - loss: 0.3005 - acc: 0.9349 - val_loss: 0.9041 - val_acc: 0.8170\n",
      "Epoch 5/20\n",
      "7982/7982 [==============================] - 5s 682us/step - loss: 0.2265 - acc: 0.9454 - val_loss: 0.8959 - val_acc: 0.8220\n",
      "Epoch 6/20\n",
      "7982/7982 [==============================] - 5s 682us/step - loss: 0.1879 - acc: 0.9494 - val_loss: 0.9474 - val_acc: 0.8200\n",
      "Epoch 7/20\n",
      "7982/7982 [==============================] - 5s 681us/step - loss: 0.1678 - acc: 0.9524 - val_loss: 1.0801 - val_acc: 0.7950\n",
      "Epoch 8/20\n",
      "7982/7982 [==============================] - 5s 688us/step - loss: 0.1530 - acc: 0.9525 - val_loss: 1.0351 - val_acc: 0.8080\n",
      "Epoch 9/20\n",
      "7982/7982 [==============================] - 6s 801us/step - loss: 0.1432 - acc: 0.9560 - val_loss: 1.0797 - val_acc: 0.7940\n",
      "Epoch 10/20\n",
      "7982/7982 [==============================] - 6s 716us/step - loss: 0.1362 - acc: 0.9541 - val_loss: 1.0863 - val_acc: 0.7960\n",
      "Epoch 11/20\n",
      "7982/7982 [==============================] - 6s 711us/step - loss: 0.1244 - acc: 0.9545 - val_loss: 1.1237 - val_acc: 0.8010\n",
      "Epoch 12/20\n",
      "7982/7982 [==============================] - 6s 704us/step - loss: 0.1195 - acc: 0.9569 - val_loss: 1.1346 - val_acc: 0.8080\n",
      "Epoch 13/20\n",
      "7982/7982 [==============================] - 6s 702us/step - loss: 0.1137 - acc: 0.9567 - val_loss: 1.1153 - val_acc: 0.8000\n",
      "Epoch 14/20\n",
      "7982/7982 [==============================] - 6s 718us/step - loss: 0.1053 - acc: 0.9567 - val_loss: 1.1583 - val_acc: 0.8030\n",
      "Epoch 15/20\n",
      "7982/7982 [==============================] - 6s 736us/step - loss: 0.1027 - acc: 0.9569 - val_loss: 1.2838 - val_acc: 0.7850\n",
      "Epoch 16/20\n",
      "7982/7982 [==============================] - 6s 749us/step - loss: 0.0990 - acc: 0.9563 - val_loss: 1.2503 - val_acc: 0.7930\n",
      "Epoch 17/20\n",
      "7982/7982 [==============================] - 7s 870us/step - loss: 0.0956 - acc: 0.9554 - val_loss: 1.2885 - val_acc: 0.7910\n",
      "Epoch 18/20\n",
      "7982/7982 [==============================] - 6s 772us/step - loss: 0.0923 - acc: 0.9575 - val_loss: 1.3081 - val_acc: 0.7980\n",
      "Epoch 19/20\n",
      "7982/7982 [==============================] - 6s 748us/step - loss: 0.0880 - acc: 0.9587 - val_loss: 1.3539 - val_acc: 0.7990\n",
      "Epoch 20/20\n",
      "7982/7982 [==============================] - 6s 729us/step - loss: 0.0847 - acc: 0.9587 - val_loss: 1.3729 - val_acc: 0.7900\n"
     ]
    }
   ],
   "source": [
    "#128 units\n",
    "model128 = models.Sequential()\n",
    "model128.add(layers.Dense(128, activation='relu', input_shape=(10000,)))\n",
    "model128.add(layers.Dense(128, activation='relu'))\n",
    "model128.add(layers.Dense(46, activation='softmax'))\n",
    "\n",
    "model128.compile(optimizer='rmsprop',\n",
    "              loss='categorical_crossentropy',\n",
    "              metrics=['accuracy'])\n",
    "history128 = model128.fit(partial_x_train,\n",
    "          partial_y_train,\n",
    "          epochs=20,\n",
    "          batch_size=128,\n",
    "          validation_data=(x_val, y_val))"
   ]
  },
  {
   "cell_type": "code",
   "execution_count": 99,
   "metadata": {},
   "outputs": [
    {
     "name": "stdout",
     "output_type": "stream",
     "text": [
      "2246/2246 [==============================] - 1s 326us/step\n",
      "[1.3886601865450825, 0.77159394479073906]\n",
      "2246/2246 [==============================] - 1s 346us/step\n",
      "[1.4074819223857413, 0.78272484416740873]\n",
      "2246/2246 [==============================] - 1s 377us/step\n",
      "[1.6074163905234604, 0.78049866434515103]\n"
     ]
    }
   ],
   "source": [
    "results32 = model32.evaluate(x_test, y_test)\n",
    "print(results32)\n",
    "results64 = model64.evaluate(x_test, y_test)\n",
    "print(results64)\n",
    "results128 = model128.evaluate(x_test, y_test)\n",
    "print(results128)"
   ]
  },
  {
   "cell_type": "markdown",
   "metadata": {
    "collapsed": true
   },
   "source": [
    "##### RESULTS\n",
    "1. Наиболее высокая точность у моделей с использованием 64 units. Хоть разница и малоразличима, если сравнивать с 128 units. \n",
    "2. Касательно количества скрытых слоев - наиболее хорошо себя показала модель с 1 hidden layer. При увеличении числа слоев модель начинает переобучаться. Функция потерь увеличивает свои значения. Скорее всего, это связано с тем, что выборка небольшая, и использования 1 слоя с 64 нейронами достаточно. "
   ]
  },
  {
   "cell_type": "code",
   "execution_count": null,
   "metadata": {},
   "outputs": [],
   "source": []
  }
 ],
 "metadata": {
  "kernelspec": {
   "display_name": "Python 3",
   "language": "python",
   "name": "python3"
  },
  "language_info": {
   "codemirror_mode": {
    "name": "ipython",
    "version": 3
   },
   "file_extension": ".py",
   "mimetype": "text/x-python",
   "name": "python",
   "nbconvert_exporter": "python",
   "pygments_lexer": "ipython3",
   "version": "3.7.0"
  }
 },
 "nbformat": 4,
 "nbformat_minor": 2
}
