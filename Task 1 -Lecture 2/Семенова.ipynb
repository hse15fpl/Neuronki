{
 "cells": [
  {
   "cell_type": "code",
   "execution_count": 27,
   "metadata": {},
   "outputs": [],
   "source": [
    "import os \n",
    "os.environ['CUDA_VISIBLE_DEVICES'] = '-1'"
   ]
  },
  {
   "cell_type": "code",
   "execution_count": 28,
   "metadata": {},
   "outputs": [],
   "source": [
    "from keras.datasets import imdb\n",
    "\n",
    "(train_data, train_labels), (test_data, test_labels) = imdb.load_data(\n",
    "    num_words=10000)\n",
    "\n",
    "word_index = imdb.get_word_index()\n",
    "reverse_word_index = dict(\n",
    "    [(value, key) for (key, value) in word_index.items()])\n",
    "decoded_review = ' '.join(\n",
    "    [reverse_word_index.get(i - 3, '?') for i in train_data[0]])\n"
   ]
  },
  {
   "cell_type": "code",
   "execution_count": 29,
   "metadata": {},
   "outputs": [],
   "source": [
    "word_index = imdb.get_word_index()\n",
    "reverse_word_index = dict(\n",
    "    [(value, key) for (key, value) in word_index.items()])\n",
    "decoded_review = ' '.join(\n",
    "    [reverse_word_index.get(i - 3, '?') for i in train_data[0]])\n",
    "\n",
    "\n",
    "import numpy as np\n",
    "\n",
    "def vectorize_sequences(sequences, dimension=10000):\n",
    "    results = np.zeros((len(sequences), dimension))\n",
    "    for i, sequence in enumerate(sequences):\n",
    "        results[i, sequence] = 1.\n",
    "    return results\n",
    "\n",
    "x_train = vectorize_sequences(train_data)\n",
    "x_test = vectorize_sequences(test_data)\n"
   ]
  },
  {
   "cell_type": "code",
   "execution_count": 30,
   "metadata": {},
   "outputs": [],
   "source": [
    "y_train = np.asarray(train_labels).astype('float32')\n",
    "y_test = np.asarray(test_labels).astype('float32')"
   ]
  },
  {
   "cell_type": "code",
   "execution_count": 31,
   "metadata": {},
   "outputs": [],
   "source": [
    "#1 hidden layer\n",
    "from keras import models\n",
    "from keras import layers\n",
    "\n",
    "model = models.Sequential()\n",
    "model.add(layers.Dense(16, activation='relu', input_shape=(10000,)))\n",
    "model.add(layers.Dense(1, activation='sigmoid'))"
   ]
  },
  {
   "cell_type": "code",
   "execution_count": 24,
   "metadata": {},
   "outputs": [],
   "source": [
    "#2 hidden layers\n",
    "from keras import models\n",
    "from keras import layers\n",
    "\n",
    "model = models.Sequential()\n",
    "model.add(layers.Dense(16, activation='relu', input_shape=(10000,)))\n",
    "model.add(layers.Dense(16, activation='relu'))\n",
    "model.add(layers.Dense(1, activation='sigmoid'))"
   ]
  },
  {
   "cell_type": "code",
   "execution_count": 96,
   "metadata": {},
   "outputs": [],
   "source": [
    "#3 hidden layers\n",
    "from keras import models\n",
    "from keras import layers\n",
    "\n",
    "model = models.Sequential()\n",
    "model.add(layers.Dense(16, activation='relu', input_shape=(10000,)))\n",
    "model.add(layers.Dense(16, activation='relu'))\n",
    "model.add(layers.Dense(16, activation='relu'))\n",
    "model.add(layers.Dense(1, activation='sigmoid'))"
   ]
  },
  {
   "cell_type": "code",
   "execution_count": 32,
   "metadata": {},
   "outputs": [],
   "source": [
    "from keras import losses\n",
    "from keras import metrics\n",
    "from keras import optimizers\n",
    "\n",
    "model.compile(optimizer=optimizers.RMSprop(lr=0.001),\n",
    "              loss=losses.binary_crossentropy,\n",
    "              metrics=[metrics.binary_accuracy])"
   ]
  },
  {
   "cell_type": "code",
   "execution_count": 33,
   "metadata": {},
   "outputs": [],
   "source": [
    "x_val = x_train[:10000]\n",
    "partial_x_train = x_train[10000:]\n",
    "y_val = y_train[:10000]\n",
    "partial_y_train = y_train[10000:]"
   ]
  },
  {
   "cell_type": "code",
   "execution_count": 34,
   "metadata": {},
   "outputs": [
    {
     "name": "stdout",
     "output_type": "stream",
     "text": [
      "Train on 15000 samples, validate on 10000 samples\n",
      "Epoch 1/20\n",
      "15000/15000 [==============================] - 5s 355us/step - loss: 0.4923 - acc: 0.7856 - val_loss: 0.3721 - val_acc: 0.8699\n",
      "Epoch 2/20\n",
      "15000/15000 [==============================] - 5s 320us/step - loss: 0.2972 - acc: 0.9077 - val_loss: 0.3098 - val_acc: 0.8870\n",
      "Epoch 3/20\n",
      "15000/15000 [==============================] - 5s 303us/step - loss: 0.2274 - acc: 0.9289 - val_loss: 0.3040 - val_acc: 0.8778\n",
      "Epoch 4/20\n",
      "15000/15000 [==============================] - 5s 308us/step - loss: 0.1890 - acc: 0.9403 - val_loss: 0.2872 - val_acc: 0.8845\n",
      "Epoch 5/20\n",
      "15000/15000 [==============================] - 4s 283us/step - loss: 0.1598 - acc: 0.9521 - val_loss: 0.2769 - val_acc: 0.8888\n",
      "Epoch 6/20\n",
      "15000/15000 [==============================] - 4s 273us/step - loss: 0.1376 - acc: 0.9603 - val_loss: 0.2985 - val_acc: 0.8816\n",
      "Epoch 7/20\n",
      "15000/15000 [==============================] - 4s 282us/step - loss: 0.1196 - acc: 0.9663 - val_loss: 0.2874 - val_acc: 0.8848\n",
      "Epoch 8/20\n",
      "15000/15000 [==============================] - 4s 275us/step - loss: 0.1056 - acc: 0.9705 - val_loss: 0.2970 - val_acc: 0.8825\n",
      "Epoch 9/20\n",
      "15000/15000 [==============================] - 4s 268us/step - loss: 0.0915 - acc: 0.9771 - val_loss: 0.3146 - val_acc: 0.8799\n",
      "Epoch 10/20\n",
      "15000/15000 [==============================] - 4s 265us/step - loss: 0.0821 - acc: 0.9802 - val_loss: 0.3173 - val_acc: 0.8831\n",
      "Epoch 11/20\n",
      "15000/15000 [==============================] - 4s 269us/step - loss: 0.0720 - acc: 0.9832 - val_loss: 0.3372 - val_acc: 0.8792\n",
      "Epoch 12/20\n",
      "15000/15000 [==============================] - 4s 274us/step - loss: 0.0623 - acc: 0.9871 - val_loss: 0.3624 - val_acc: 0.8721\n",
      "Epoch 13/20\n",
      "15000/15000 [==============================] - 4s 273us/step - loss: 0.0551 - acc: 0.9891 - val_loss: 0.3640 - val_acc: 0.8781\n",
      "Epoch 14/20\n",
      "15000/15000 [==============================] - 4s 268us/step - loss: 0.0489 - acc: 0.9909 - val_loss: 0.3750 - val_acc: 0.8784\n",
      "Epoch 15/20\n",
      "15000/15000 [==============================] - 4s 264us/step - loss: 0.0430 - acc: 0.9923 - val_loss: 0.3894 - val_acc: 0.8760\n",
      "Epoch 16/20\n",
      "15000/15000 [==============================] - 4s 272us/step - loss: 0.0375 - acc: 0.9944 - val_loss: 0.4069 - val_acc: 0.8762\n",
      "Epoch 17/20\n",
      "15000/15000 [==============================] - 4s 272us/step - loss: 0.0320 - acc: 0.9955 - val_loss: 0.4255 - val_acc: 0.8734\n",
      "Epoch 18/20\n",
      "15000/15000 [==============================] - 5s 326us/step - loss: 0.0285 - acc: 0.9961 - val_loss: 0.4485 - val_acc: 0.8684\n",
      "Epoch 19/20\n",
      "15000/15000 [==============================] - 5s 310us/step - loss: 0.0257 - acc: 0.9968 - val_loss: 0.4612 - val_acc: 0.8709\n",
      "Epoch 20/20\n",
      "15000/15000 [==============================] - 5s 333us/step - loss: 0.0214 - acc: 0.9980 - val_loss: 0.4788 - val_acc: 0.8685\n"
     ]
    }
   ],
   "source": [
    "model.compile(optimizer='rmsprop',\n",
    "              loss='binary_crossentropy',\n",
    "              metrics=['acc'])\n",
    "\n",
    "history = model.fit(partial_x_train,\n",
    "                    partial_y_train,\n",
    "                    epochs=20,\n",
    "                    batch_size=512,\n",
    "                    validation_data=(x_val, y_val))"
   ]
  },
  {
   "cell_type": "code",
   "execution_count": 35,
   "metadata": {},
   "outputs": [
    {
     "data": {
      "text/plain": [
       "dict_keys(['val_loss', 'val_acc', 'loss', 'acc'])"
      ]
     },
     "execution_count": 35,
     "metadata": {},
     "output_type": "execute_result"
    }
   ],
   "source": [
    "history_dict = history.history\n",
    "history_dict.keys()"
   ]
  },
  {
   "cell_type": "code",
   "execution_count": 36,
   "metadata": {},
   "outputs": [
    {
     "data": {
      "image/png": "[encoded data removed]",
      "text/plain": [
       "<Figure size 432x288 with 1 Axes>"
      ]
     },
     "metadata": {},
     "output_type": "display_data"
    }
   ],
   "source": [
    "import matplotlib.pyplot as plt\n",
    "\n",
    "history_dict = history.history\n",
    "loss_values = history_dict['loss']\n",
    "val_loss_values = history_dict['val_loss']\n",
    "\n",
    "epochs = range(1, len(history_dict['acc']) + 1)\n",
    "\n",
    "plt.plot(epochs, loss_values, 'bo', label='Training loss')\n",
    "plt.plot(epochs, val_loss_values, 'b', label='Validation loss')\n",
    "plt.title('Training and validation loss')\n",
    "plt.xlabel('Epochs')\n",
    "plt.ylabel('Loss')\n",
    "plt.legend()\n",
    "\n",
    "plt.show()"
   ]
  },
  {
   "cell_type": "code",
   "execution_count": 37,
   "metadata": {},
   "outputs": [
    {
     "data": {
      "image/png": "[encoded data removed]",
      "text/plain": [
       "<Figure size 432x288 with 1 Axes>"
      ]
     },
     "metadata": {},
     "output_type": "display_data"
    }
   ],
   "source": [
    "plt.clf()\n",
    "acc_values = history_dict['acc']\n",
    "val_acc_values = history_dict['val_acc']\n",
    "\n",
    "plt.plot(epochs, acc_values, 'bo', label='Training acc')\n",
    "plt.plot(epochs, val_acc_values, 'b', label='Validation acc')\n",
    "plt.title('Training and validation accuracy')\n",
    "plt.xlabel('Epochs')\n",
    "plt.ylabel('Loss')\n",
    "plt.legend()\n",
    "\n",
    "plt.show()"
   ]
  },
  {
   "cell_type": "markdown",
   "metadata": {
    "collapsed": true
   },
   "source": [
    "## 2 hidden layers, 32 units"
   ]
  },
  {
   "cell_type": "code",
   "execution_count": 38,
   "metadata": {},
   "outputs": [
    {
     "name": "stdout",
     "output_type": "stream",
     "text": [
      "Epoch 1/4\n",
      "25000/25000 [==============================] - 9s 363us/step - loss: 0.4363 - acc: 0.8142\n",
      "Epoch 2/4\n",
      "25000/25000 [==============================] - 5s 215us/step - loss: 0.2431 - acc: 0.9117\n",
      "Epoch 3/4\n",
      "25000/25000 [==============================] - 5s 202us/step - loss: 0.1887 - acc: 0.9308\n",
      "Epoch 4/4\n",
      "25000/25000 [==============================] - 5s 206us/step - loss: 0.1614 - acc: 0.9412\n",
      "25000/25000 [==============================] - 18s 713us/step\n"
     ]
    }
   ],
   "source": [
    "model = models.Sequential()\n",
    "model.add(layers.Dense(32, activation='relu', input_shape=(10000,)))\n",
    "model.add(layers.Dense(32, activation='relu'))\n",
    "model.add(layers.Dense(1, activation='sigmoid'))\n",
    "\n",
    "model.compile(optimizer='rmsprop',\n",
    "              loss='binary_crossentropy',\n",
    "              metrics=['accuracy'])\n",
    "\n",
    "model.fit(x_train, y_train, epochs=4, batch_size=512)\n",
    "results = model.evaluate(x_test, y_test)"
   ]
  },
  {
   "cell_type": "markdown",
   "metadata": {},
   "source": [
    "## 2 hidden layers, 64 units"
   ]
  },
  {
   "cell_type": "code",
   "execution_count": 39,
   "metadata": {},
   "outputs": [
    {
     "name": "stdout",
     "output_type": "stream",
     "text": [
      "Epoch 1/4\n",
      "25000/25000 [==============================] - 7s 294us/step - loss: 0.4284 - acc: 0.8096\n",
      "Epoch 2/4\n",
      "25000/25000 [==============================] - 6s 247us/step - loss: 0.2392 - acc: 0.9078\n",
      "Epoch 3/4\n",
      "25000/25000 [==============================] - 6s 258us/step - loss: 0.1810 - acc: 0.9315\n",
      "Epoch 4/4\n",
      "25000/25000 [==============================] - 6s 245us/step - loss: 0.1419 - acc: 0.9472\n",
      "25000/25000 [==============================] - 6s 244us/step\n"
     ]
    }
   ],
   "source": [
    "model = models.Sequential()\n",
    "model.add(layers.Dense(64, activation='relu', input_shape=(10000,)))\n",
    "model.add(layers.Dense(64, activation='relu'))\n",
    "model.add(layers.Dense(1, activation='sigmoid'))\n",
    "\n",
    "model.compile(optimizer='rmsprop',\n",
    "              loss='binary_crossentropy',\n",
    "              metrics=['accuracy'])\n",
    "\n",
    "model.fit(x_train, y_train, epochs=4, batch_size=512)\n",
    "results = model.evaluate(x_test, y_test)"
   ]
  },
  {
   "cell_type": "markdown",
   "metadata": {},
   "source": [
    "## 2 hidden layers, 128 units"
   ]
  },
  {
   "cell_type": "code",
   "execution_count": 40,
   "metadata": {},
   "outputs": [
    {
     "name": "stdout",
     "output_type": "stream",
     "text": [
      "Epoch 1/4\n",
      "25000/25000 [==============================] - 12s 478us/step - loss: 0.4286 - acc: 0.8078\n",
      "Epoch 2/4\n",
      "25000/25000 [==============================] - 10s 390us/step - loss: 0.2356 - acc: 0.9068\n",
      "Epoch 3/4\n",
      "25000/25000 [==============================] - 9s 350us/step - loss: 0.1630 - acc: 0.9367\n",
      "Epoch 4/4\n",
      "25000/25000 [==============================] - 9s 344us/step - loss: 0.1130 - acc: 0.9580\n",
      "25000/25000 [==============================] - 8s 335us/step\n"
     ]
    }
   ],
   "source": [
    "model = models.Sequential()\n",
    "model.add(layers.Dense(128, activation='relu', input_shape=(10000,)))\n",
    "model.add(layers.Dense(128, activation='relu'))\n",
    "model.add(layers.Dense(1, activation='sigmoid'))\n",
    "\n",
    "model.compile(optimizer='rmsprop',\n",
    "              loss='binary_crossentropy',\n",
    "              metrics=['accuracy'])\n",
    "\n",
    "model.fit(x_train, y_train, epochs=4, batch_size=512)\n",
    "results = model.evaluate(x_test, y_test)"
   ]
  },
  {
   "cell_type": "markdown",
   "metadata": {},
   "source": [
    "## MSE loss function"
   ]
  },
  {
   "cell_type": "code",
   "execution_count": 41,
   "metadata": {},
   "outputs": [
    {
     "name": "stdout",
     "output_type": "stream",
     "text": [
      "Epoch 1/4\n",
      "25000/25000 [==============================] - 21s 831us/step - loss: 0.1379 - acc: 0.8091\n",
      "Epoch 2/4\n",
      "25000/25000 [==============================] - 6s 254us/step - loss: 0.0703 - acc: 0.9118\n",
      "Epoch 3/4\n",
      "25000/25000 [==============================] - 6s 245us/step - loss: 0.0515 - acc: 0.9340\n",
      "Epoch 4/4\n",
      "25000/25000 [==============================] - 6s 251us/step - loss: 0.0420 - acc: 0.9473\n",
      "25000/25000 [==============================] - 24s 972us/step\n"
     ]
    }
   ],
   "source": [
    "model = models.Sequential()\n",
    "model.add(layers.Dense(64, activation='relu', input_shape=(10000,)))\n",
    "model.add(layers.Dense(64, activation='relu'))\n",
    "model.add(layers.Dense(1, activation='sigmoid'))\n",
    "\n",
    "model.compile(optimizer='rmsprop',\n",
    "              loss='mse',\n",
    "              metrics=['accuracy'])\n",
    "\n",
    "model.fit(x_train, y_train, epochs=4, batch_size=512)\n",
    "results = model.evaluate(x_test, y_test)"
   ]
  },
  {
   "cell_type": "markdown",
   "metadata": {},
   "source": [
    "## TANH activation function"
   ]
  },
  {
   "cell_type": "code",
   "execution_count": 44,
   "metadata": {},
   "outputs": [
    {
     "name": "stdout",
     "output_type": "stream",
     "text": [
      "Epoch 1/4\n",
      "25000/25000 [==============================] - 16s 653us/step - loss: 0.1254 - acc: 0.8276\n",
      "Epoch 2/4\n",
      "25000/25000 [==============================] - 6s 247us/step - loss: 0.0654 - acc: 0.9139\n",
      "Epoch 3/4\n",
      "25000/25000 [==============================] - 7s 288us/step - loss: 0.0530 - acc: 0.9315\n",
      "Epoch 4/4\n",
      "25000/25000 [==============================] - 7s 284us/step - loss: 0.0451 - acc: 0.9412\n",
      "25000/25000 [==============================] - 33s 1ms/step\n"
     ]
    }
   ],
   "source": [
    "model = models.Sequential()\n",
    "model.add(layers.Dense(64, activation='tanh', input_shape=(10000,)))\n",
    "model.add(layers.Dense(64, activation='tanh'))\n",
    "model.add(layers.Dense(1, activation='sigmoid'))\n",
    "\n",
    "model.compile(optimizer='rmsprop',\n",
    "              loss='mse',\n",
    "              metrics=['accuracy'])\n",
    "\n",
    "model.fit(x_train, y_train, epochs=4, batch_size=512)\n",
    "results = model.evaluate(x_test, y_test)"
   ]
  },
  {
   "cell_type": "markdown",
   "metadata": {},
   "source": [
    "## Hometask2"
   ]
  },
  {
   "cell_type": "code",
   "execution_count": 84,
   "metadata": {},
   "outputs": [],
   "source": [
    "from keras.datasets import reuters\n",
    "(train_data, train_labels), (test_data, test_labels) = reuters.load_data(\n",
    "    num_words=10000)\n"
   ]
  },
  {
   "cell_type": "code",
   "execution_count": 85,
   "metadata": {},
   "outputs": [],
   "source": [
    "import numpy as np\n",
    "\n",
    "def vectorize_sequences(sequences, dimension=10000):\n",
    "    results = np.zeros((len(sequences), dimension))\n",
    "    for i, sequence in enumerate(sequences):\n",
    "        results[i, sequence] = 1.\n",
    "    return results\n",
    "\n",
    "x_train = vectorize_sequences(train_data)\n",
    "x_test = vectorize_sequences(test_data)"
   ]
  },
  {
   "cell_type": "code",
   "execution_count": 86,
   "metadata": {},
   "outputs": [
    {
     "data": {
      "text/plain": [
       "'one_hot_train_labels = to_categorical(train_labels)\\none_hot_test_labels = to_categorical(test_labels)'"
      ]
     },
     "execution_count": 86,
     "metadata": {},
     "output_type": "execute_result"
    }
   ],
   "source": [
    "from keras.utils.np_utils import to_categorical\n",
    "y_train = np.array(train_labels)\n",
    "y_test = np.array(test_labels)\n"
   ]
  },
  {
   "cell_type": "code",
   "execution_count": 87,
   "metadata": {},
   "outputs": [],
   "source": [
    "model.compile(optimizer='rmsprop',\n",
    "              loss='sparse_categorical_crossentropy',\n",
    "              metrics=['accuracy'])"
   ]
  },
  {
   "cell_type": "markdown",
   "metadata": {},
   "source": [
    "## 1 hidden layer"
   ]
  },
  {
   "cell_type": "code",
   "execution_count": 88,
   "metadata": {},
   "outputs": [
    {
     "name": "stdout",
     "output_type": "stream",
     "text": [
      "Train on 15000 samples, validate on 10000 samples\n",
      "Epoch 1/20\n",
      "15000/15000 [==============================] - 7s 473us/step - loss: 0.5271 - acc: 0.8411 - val_loss: 0.2897 - val_acc: 0.8856\n",
      "Epoch 2/20\n",
      "15000/15000 [==============================] - 6s 408us/step - loss: 0.2105 - acc: 0.9201 - val_loss: 0.2880 - val_acc: 0.8850\n",
      "Epoch 3/20\n",
      "15000/15000 [==============================] - 6s 400us/step - loss: 0.1552 - acc: 0.9422 - val_loss: 0.3135 - val_acc: 0.8799\n",
      "Epoch 4/20\n",
      "15000/15000 [==============================] - 6s 411us/step - loss: 0.1153 - acc: 0.9590 - val_loss: 0.3274 - val_acc: 0.8815\n",
      "Epoch 5/20\n",
      "15000/15000 [==============================] - 6s 414us/step - loss: 0.0870 - acc: 0.9693 - val_loss: 0.3576 - val_acc: 0.8786\n",
      "Epoch 6/20\n",
      "15000/15000 [==============================] - 7s 480us/step - loss: 0.0628 - acc: 0.9783 - val_loss: 0.4266 - val_acc: 0.8691\n",
      "Epoch 7/20\n",
      "15000/15000 [==============================] - 6s 391us/step - loss: 0.0432 - acc: 0.9864 - val_loss: 0.4619 - val_acc: 0.8703\n",
      "Epoch 8/20\n",
      "15000/15000 [==============================] - 7s 434us/step - loss: 0.0282 - acc: 0.9915 - val_loss: 0.5158 - val_acc: 0.8704\n",
      "Epoch 9/20\n",
      "15000/15000 [==============================] - 6s 404us/step - loss: 0.0172 - acc: 0.9958 - val_loss: 0.5842 - val_acc: 0.8637\n",
      "Epoch 10/20\n",
      "15000/15000 [==============================] - 6s 405us/step - loss: 0.0115 - acc: 0.9975 - val_loss: 0.6305 - val_acc: 0.8678\n",
      "Epoch 11/20\n",
      "15000/15000 [==============================] - 6s 402us/step - loss: 0.0063 - acc: 0.9990 - val_loss: 0.7101 - val_acc: 0.8684\n",
      "Epoch 12/20\n",
      "15000/15000 [==============================] - 6s 401us/step - loss: 0.0035 - acc: 0.9997 - val_loss: 0.7569 - val_acc: 0.8661\n",
      "Epoch 13/20\n",
      "15000/15000 [==============================] - 6s 396us/step - loss: 0.0021 - acc: 0.9998 - val_loss: 0.8305 - val_acc: 0.8645\n",
      "Epoch 14/20\n",
      "15000/15000 [==============================] - 6s 430us/step - loss: 9.4613e-04 - acc: 0.9999 - val_loss: 0.8843 - val_acc: 0.8665\n",
      "Epoch 15/20\n",
      "15000/15000 [==============================] - 7s 475us/step - loss: 4.7891e-04 - acc: 1.0000 - val_loss: 0.9491 - val_acc: 0.8656\n",
      "Epoch 16/20\n",
      "15000/15000 [==============================] - 11s 705us/step - loss: 4.6010e-04 - acc: 0.9999 - val_loss: 0.9956 - val_acc: 0.8641\n",
      "Epoch 17/20\n",
      "15000/15000 [==============================] - 8s 539us/step - loss: 1.4637e-04 - acc: 1.0000 - val_loss: 1.0251 - val_acc: 0.8656\n",
      "Epoch 18/20\n",
      "15000/15000 [==============================] - 6s 422us/step - loss: 6.5282e-05 - acc: 1.0000 - val_loss: 1.0785 - val_acc: 0.8643\n",
      "Epoch 19/20\n",
      "15000/15000 [==============================] - 7s 453us/step - loss: 3.9944e-05 - acc: 1.0000 - val_loss: 1.1160 - val_acc: 0.8633\n",
      "Epoch 20/20\n",
      "15000/15000 [==============================] - 10s 635us/step - loss: 1.8932e-05 - acc: 1.0000 - val_loss: 1.1610 - val_acc: 0.8630\n"
     ]
    },
    {
     "data": {
      "text/plain": [
       "<keras.callbacks.History at 0xb1cedc7a90>"
      ]
     },
     "execution_count": 88,
     "metadata": {},
     "output_type": "execute_result"
    }
   ],
   "source": [
    "model = models.Sequential()\n",
    "model.add(layers.Dense(64, activation='relu', input_shape=(10000,)))\n",
    "model.add(layers.Dense(46, activation='softmax'))\n",
    "\n",
    "model.compile(optimizer='rmsprop',\n",
    "              loss='sparse_categorical_crossentropy',\n",
    "              metrics=['accuracy'])\n",
    "model.fit(partial_x_train,\n",
    "          partial_y_train,\n",
    "          epochs=20,\n",
    "          batch_size=128,\n",
    "          validation_data=(x_val, y_val))"
   ]
  },
  {
   "cell_type": "markdown",
   "metadata": {},
   "source": [
    "## 2 hidden layers"
   ]
  },
  {
   "cell_type": "code",
   "execution_count": 89,
   "metadata": {},
   "outputs": [
    {
     "name": "stdout",
     "output_type": "stream",
     "text": [
      "Train on 15000 samples, validate on 10000 samples\n",
      "Epoch 1/20\n",
      "15000/15000 [==============================] - 10s 641us/step - loss: 0.6175 - acc: 0.7936 - val_loss: 0.4553 - val_acc: 0.7988\n",
      "Epoch 2/20\n",
      "15000/15000 [==============================] - 9s 599us/step - loss: 0.2255 - acc: 0.9144 - val_loss: 0.3963 - val_acc: 0.8390\n",
      "Epoch 3/20\n",
      "15000/15000 [==============================] - 8s 550us/step - loss: 0.1523 - acc: 0.9410 - val_loss: 0.4284 - val_acc: 0.8587\n",
      "Epoch 4/20\n",
      "15000/15000 [==============================] - 8s 512us/step - loss: 0.1072 - acc: 0.9603 - val_loss: 0.3552 - val_acc: 0.8829\n",
      "Epoch 5/20\n",
      "15000/15000 [==============================] - 6s 429us/step - loss: 0.0633 - acc: 0.9768 - val_loss: 0.4416 - val_acc: 0.8765\n",
      "Epoch 6/20\n",
      "15000/15000 [==============================] - 7s 437us/step - loss: 0.0332 - acc: 0.9875 - val_loss: 0.5764 - val_acc: 0.8740\n",
      "Epoch 7/20\n",
      "15000/15000 [==============================] - 7s 472us/step - loss: 0.0154 - acc: 0.9955 - val_loss: 0.8775 - val_acc: 0.8532\n",
      "Epoch 8/20\n",
      "15000/15000 [==============================] - 7s 455us/step - loss: 0.0073 - acc: 0.9979 - val_loss: 0.8855 - val_acc: 0.8482\n",
      "Epoch 9/20\n",
      "15000/15000 [==============================] - 8s 550us/step - loss: 0.0036 - acc: 0.9996 - val_loss: 0.8694 - val_acc: 0.8727\n",
      "Epoch 10/20\n",
      "15000/15000 [==============================] - 7s 457us/step - loss: 0.0019 - acc: 0.9995 - val_loss: 0.9250 - val_acc: 0.8668\n",
      "Epoch 11/20\n",
      "15000/15000 [==============================] - 6s 413us/step - loss: 0.0054 - acc: 0.9990 - val_loss: 0.9945 - val_acc: 0.8682\n",
      "Epoch 12/20\n",
      "15000/15000 [==============================] - 6s 411us/step - loss: 0.0013 - acc: 0.9999 - val_loss: 1.0323 - val_acc: 0.8665\n",
      "Epoch 13/20\n",
      "15000/15000 [==============================] - 6s 412us/step - loss: 8.3061e-04 - acc: 0.9998 - val_loss: 1.0854 - val_acc: 0.8686\n",
      "Epoch 14/20\n",
      "15000/15000 [==============================] - 7s 452us/step - loss: 0.0027 - acc: 0.9995 - val_loss: 1.1254 - val_acc: 0.8681\n",
      "Epoch 15/20\n",
      "15000/15000 [==============================] - 7s 451us/step - loss: 0.0018 - acc: 0.9997 - val_loss: 1.1630 - val_acc: 0.8660\n",
      "Epoch 16/20\n",
      "15000/15000 [==============================] - 6s 432us/step - loss: 1.1340e-05 - acc: 1.0000 - val_loss: 1.1772 - val_acc: 0.8669\n",
      "Epoch 17/20\n",
      "15000/15000 [==============================] - 7s 491us/step - loss: 2.9321e-05 - acc: 1.0000 - val_loss: 1.2262 - val_acc: 0.8630\n",
      "Epoch 18/20\n",
      "15000/15000 [==============================] - 6s 420us/step - loss: 5.2726e-04 - acc: 0.9999 - val_loss: 1.2092 - val_acc: 0.8680\n",
      "Epoch 19/20\n",
      "15000/15000 [==============================] - 7s 456us/step - loss: 6.1321e-06 - acc: 1.0000 - val_loss: 1.2352 - val_acc: 0.8677\n",
      "Epoch 20/20\n",
      "15000/15000 [==============================] - 6s 413us/step - loss: 5.4695e-06 - acc: 1.0000 - val_loss: 1.3160 - val_acc: 0.8679\n"
     ]
    },
    {
     "data": {
      "text/plain": [
       "<keras.callbacks.History at 0xb1c928ada0>"
      ]
     },
     "execution_count": 89,
     "metadata": {},
     "output_type": "execute_result"
    }
   ],
   "source": [
    "model = models.Sequential()\n",
    "model.add(layers.Dense(64, activation='relu', input_shape=(10000,)))\n",
    "model.add(layers.Dense(64, activation='relu'))\n",
    "model.add(layers.Dense(46, activation='softmax'))\n",
    "\n",
    "model.compile(optimizer='rmsprop',\n",
    "              loss='sparse_categorical_crossentropy',\n",
    "              metrics=['accuracy'])\n",
    "model.fit(partial_x_train,\n",
    "          partial_y_train,\n",
    "          epochs=20,\n",
    "          batch_size=128,\n",
    "          validation_data=(x_val, y_val))"
   ]
  },
  {
   "cell_type": "markdown",
   "metadata": {},
   "source": [
    "## 3 hidden layers"
   ]
  },
  {
   "cell_type": "code",
   "execution_count": 91,
   "metadata": {},
   "outputs": [
    {
     "name": "stdout",
     "output_type": "stream",
     "text": [
      "Train on 15000 samples, validate on 10000 samples\n",
      "Epoch 1/20\n",
      "15000/15000 [==============================] - 7s 488us/step - loss: 0.5601 - acc: 0.7876 - val_loss: 0.3070 - val_acc: 0.8755\n",
      "Epoch 2/20\n",
      "15000/15000 [==============================] - 6s 426us/step - loss: 0.2248 - acc: 0.9111 - val_loss: 0.4453 - val_acc: 0.8263\n",
      "Epoch 3/20\n",
      "15000/15000 [==============================] - 6s 428us/step - loss: 0.1556 - acc: 0.9413 - val_loss: 0.3566 - val_acc: 0.8728\n",
      "Epoch 4/20\n",
      "15000/15000 [==============================] - 6s 421us/step - loss: 0.0991 - acc: 0.9615 - val_loss: 0.5491 - val_acc: 0.8391\n",
      "Epoch 5/20\n",
      "15000/15000 [==============================] - 7s 439us/step - loss: 0.0575 - acc: 0.9780 - val_loss: 0.5257 - val_acc: 0.8775\n",
      "Epoch 6/20\n",
      "15000/15000 [==============================] - 7s 463us/step - loss: 0.0299 - acc: 0.9899 - val_loss: 0.6667 - val_acc: 0.8750\n",
      "Epoch 7/20\n",
      "15000/15000 [==============================] - 6s 432us/step - loss: 0.0136 - acc: 0.9957 - val_loss: 0.8192 - val_acc: 0.8722\n",
      "Epoch 8/20\n",
      "15000/15000 [==============================] - 6s 425us/step - loss: 0.0067 - acc: 0.9983 - val_loss: 0.9610 - val_acc: 0.8704\n",
      "Epoch 9/20\n",
      "15000/15000 [==============================] - 7s 437us/step - loss: 0.0042 - acc: 0.9993 - val_loss: 1.0795 - val_acc: 0.8693\n",
      "Epoch 10/20\n",
      "15000/15000 [==============================] - 7s 452us/step - loss: 0.0115 - acc: 0.9983 - val_loss: 1.1555 - val_acc: 0.8707\n",
      "Epoch 11/20\n",
      "15000/15000 [==============================] - 6s 429us/step - loss: 0.0082 - acc: 0.9978 - val_loss: 1.1954 - val_acc: 0.8689\n",
      "Epoch 12/20\n",
      "15000/15000 [==============================] - 6s 426us/step - loss: 3.0420e-05 - acc: 1.0000 - val_loss: 1.2847 - val_acc: 0.8701\n",
      "Epoch 13/20\n",
      "15000/15000 [==============================] - 6s 422us/step - loss: 0.0052 - acc: 0.9989 - val_loss: 1.3280 - val_acc: 0.8673\n",
      "Epoch 14/20\n",
      "15000/15000 [==============================] - 6s 419us/step - loss: 0.0059 - acc: 0.9989 - val_loss: 1.3381 - val_acc: 0.8671\n",
      "Epoch 15/20\n",
      "15000/15000 [==============================] - 7s 457us/step - loss: 1.6503e-04 - acc: 0.9999 - val_loss: 1.5472 - val_acc: 0.8568\n",
      "Epoch 16/20\n",
      "15000/15000 [==============================] - 6s 425us/step - loss: 2.8035e-04 - acc: 0.9999 - val_loss: 1.4232 - val_acc: 0.8670\n",
      "Epoch 17/20\n",
      "15000/15000 [==============================] - 6s 424us/step - loss: 0.0057 - acc: 0.9992 - val_loss: 1.5555 - val_acc: 0.8528\n",
      "Epoch 18/20\n",
      "15000/15000 [==============================] - 6s 424us/step - loss: 0.0129 - acc: 0.9984 - val_loss: 1.4726 - val_acc: 0.8577\n",
      "Epoch 19/20\n",
      "15000/15000 [==============================] - 6s 418us/step - loss: 0.0049 - acc: 0.9988 - val_loss: 1.4908 - val_acc: 0.8582\n",
      "Epoch 20/20\n",
      "15000/15000 [==============================] - 6s 430us/step - loss: 0.0154 - acc: 0.9981 - val_loss: 1.4469 - val_acc: 0.8605\n"
     ]
    },
    {
     "data": {
      "text/plain": [
       "<keras.callbacks.History at 0xb1b2ef76a0>"
      ]
     },
     "execution_count": 91,
     "metadata": {},
     "output_type": "execute_result"
    }
   ],
   "source": [
    "model = models.Sequential()\n",
    "model.add(layers.Dense(64, activation='relu', input_shape=(10000,)))\n",
    "model.add(layers.Dense(64, activation='relu'))\n",
    "model.add(layers.Dense(64, activation='relu'))\n",
    "model.add(layers.Dense(46, activation='softmax'))\n",
    "\n",
    "model.compile(optimizer='rmsprop',\n",
    "              loss='sparse_categorical_crossentropy',\n",
    "              metrics=['accuracy'])\n",
    "model.fit(partial_x_train,\n",
    "          partial_y_train,\n",
    "          epochs=20,\n",
    "          batch_size=128,\n",
    "          validation_data=(x_val, y_val))"
   ]
  },
  {
   "cell_type": "markdown",
   "metadata": {},
   "source": [
    "## 2 hidden layers, 32 units"
   ]
  },
  {
   "cell_type": "code",
   "execution_count": 93,
   "metadata": {},
   "outputs": [
    {
     "name": "stdout",
     "output_type": "stream",
     "text": [
      "Train on 15000 samples, validate on 10000 samples\n",
      "Epoch 1/20\n",
      "15000/15000 [==============================] - 6s 413us/step - loss: 0.7035 - acc: 0.8077 - val_loss: 0.3464 - val_acc: 0.8598\n",
      "Epoch 2/20\n",
      "15000/15000 [==============================] - 5s 353us/step - loss: 0.2310 - acc: 0.9120 - val_loss: 0.3595 - val_acc: 0.8561\n",
      "Epoch 3/20\n",
      "15000/15000 [==============================] - 5s 348us/step - loss: 0.1681 - acc: 0.9377 - val_loss: 0.3289 - val_acc: 0.8764\n",
      "Epoch 4/20\n",
      "15000/15000 [==============================] - 5s 348us/step - loss: 0.1283 - acc: 0.9521 - val_loss: 0.3239 - val_acc: 0.8827\n",
      "Epoch 5/20\n",
      "15000/15000 [==============================] - 5s 348us/step - loss: 0.0954 - acc: 0.9658 - val_loss: 0.5094 - val_acc: 0.8470\n",
      "Epoch 6/20\n",
      "15000/15000 [==============================] - 5s 351us/step - loss: 0.0688 - acc: 0.9770 - val_loss: 0.4623 - val_acc: 0.8675\n",
      "Epoch 7/20\n",
      "15000/15000 [==============================] - 5s 346us/step - loss: 0.0444 - acc: 0.9843 - val_loss: 0.5302 - val_acc: 0.8684\n",
      "Epoch 8/20\n",
      "15000/15000 [==============================] - 5s 345us/step - loss: 0.0261 - acc: 0.9912 - val_loss: 0.5966 - val_acc: 0.8668\n",
      "Epoch 9/20\n",
      "15000/15000 [==============================] - 5s 347us/step - loss: 0.0140 - acc: 0.9964 - val_loss: 0.6957 - val_acc: 0.8709\n",
      "Epoch 10/20\n",
      "15000/15000 [==============================] - 5s 348us/step - loss: 0.0068 - acc: 0.9984 - val_loss: 0.7803 - val_acc: 0.8669\n",
      "Epoch 11/20\n",
      "15000/15000 [==============================] - 5s 348us/step - loss: 0.0029 - acc: 0.9995 - val_loss: 0.9226 - val_acc: 0.8652\n",
      "Epoch 12/20\n",
      "15000/15000 [==============================] - 5s 349us/step - loss: 0.0018 - acc: 0.9998 - val_loss: 1.0026 - val_acc: 0.8633\n",
      "Epoch 13/20\n",
      "15000/15000 [==============================] - 5s 349us/step - loss: 0.0011 - acc: 0.9998 - val_loss: 1.0464 - val_acc: 0.8657\n",
      "Epoch 14/20\n",
      "15000/15000 [==============================] - 5s 350us/step - loss: 9.7381e-04 - acc: 0.9997 - val_loss: 1.1006 - val_acc: 0.8646\n",
      "Epoch 15/20\n",
      "15000/15000 [==============================] - 5s 350us/step - loss: 9.0036e-04 - acc: 0.9999 - val_loss: 1.1423 - val_acc: 0.8625\n",
      "Epoch 16/20\n",
      "15000/15000 [==============================] - 5s 346us/step - loss: 0.0013 - acc: 0.9997 - val_loss: 1.2276 - val_acc: 0.8607\n",
      "Epoch 17/20\n",
      "15000/15000 [==============================] - 5s 353us/step - loss: 0.0012 - acc: 0.9997 - val_loss: 1.2130 - val_acc: 0.8618\n",
      "Epoch 18/20\n",
      "15000/15000 [==============================] - 5s 352us/step - loss: 0.0022 - acc: 0.9995 - val_loss: 1.2269 - val_acc: 0.8614\n",
      "Epoch 19/20\n",
      "15000/15000 [==============================] - 5s 350us/step - loss: 1.7825e-04 - acc: 0.9999 - val_loss: 1.2605 - val_acc: 0.8614\n",
      "Epoch 20/20\n",
      "15000/15000 [==============================] - 5s 347us/step - loss: 6.1923e-05 - acc: 1.0000 - val_loss: 1.2797 - val_acc: 0.8628\n"
     ]
    },
    {
     "data": {
      "text/plain": [
       "<keras.callbacks.History at 0xb1cff927b8>"
      ]
     },
     "execution_count": 93,
     "metadata": {},
     "output_type": "execute_result"
    }
   ],
   "source": [
    "model = models.Sequential()\n",
    "model.add(layers.Dense(32, activation='relu', input_shape=(10000,)))\n",
    "model.add(layers.Dense(32, activation='relu'))\n",
    "model.add(layers.Dense(46, activation='softmax'))\n",
    "\n",
    "model.compile(optimizer='rmsprop',\n",
    "              loss='sparse_categorical_crossentropy',\n",
    "              metrics=['accuracy'])\n",
    "model.fit(partial_x_train,\n",
    "          partial_y_train,\n",
    "          epochs=20,\n",
    "          batch_size=128,\n",
    "          validation_data=(x_val, y_val))"
   ]
  },
  {
   "cell_type": "markdown",
   "metadata": {},
   "source": [
    "## 2 hidden layers, 128 units"
   ]
  },
  {
   "cell_type": "code",
   "execution_count": 94,
   "metadata": {},
   "outputs": [
    {
     "name": "stdout",
     "output_type": "stream",
     "text": [
      "Train on 15000 samples, validate on 10000 samples\n",
      "Epoch 1/20\n",
      "15000/15000 [==============================] - 11s 706us/step - loss: 0.5018 - acc: 0.7985 - val_loss: 0.3876 - val_acc: 0.8381\n",
      "Epoch 2/20\n",
      "15000/15000 [==============================] - 9s 612us/step - loss: 0.2139 - acc: 0.9163 - val_loss: 0.2825 - val_acc: 0.8896\n",
      "Epoch 3/20\n",
      "15000/15000 [==============================] - 9s 609us/step - loss: 0.1281 - acc: 0.9525 - val_loss: 0.3572 - val_acc: 0.8853\n",
      "Epoch 4/20\n",
      "15000/15000 [==============================] - 9s 618us/step - loss: 0.0739 - acc: 0.9729 - val_loss: 0.4427 - val_acc: 0.8787\n",
      "Epoch 5/20\n",
      "15000/15000 [==============================] - 9s 624us/step - loss: 0.0301 - acc: 0.9900 - val_loss: 0.5806 - val_acc: 0.8800\n",
      "Epoch 6/20\n",
      "15000/15000 [==============================] - 9s 631us/step - loss: 0.0117 - acc: 0.9968 - val_loss: 0.8882 - val_acc: 0.8468\n",
      "Epoch 7/20\n",
      "15000/15000 [==============================] - 11s 718us/step - loss: 0.0061 - acc: 0.9989 - val_loss: 0.8549 - val_acc: 0.8728\n",
      "Epoch 8/20\n",
      "15000/15000 [==============================] - 10s 637us/step - loss: 0.0053 - acc: 0.9989 - val_loss: 0.9379 - val_acc: 0.8733\n",
      "Epoch 9/20\n",
      "15000/15000 [==============================] - 9s 592us/step - loss: 0.0062 - acc: 0.9987 - val_loss: 0.9762 - val_acc: 0.8745\n",
      "Epoch 10/20\n",
      "15000/15000 [==============================] - 10s 659us/step - loss: 0.0048 - acc: 0.9991 - val_loss: 1.0406 - val_acc: 0.8726\n",
      "Epoch 11/20\n",
      "15000/15000 [==============================] - 10s 680us/step - loss: 0.0054 - acc: 0.9992 - val_loss: 1.0560 - val_acc: 0.8773\n",
      "Epoch 12/20\n",
      "15000/15000 [==============================] - 10s 654us/step - loss: 0.0028 - acc: 0.9993 - val_loss: 1.0642 - val_acc: 0.8763\n",
      "Epoch 13/20\n",
      "15000/15000 [==============================] - 10s 657us/step - loss: 0.0035 - acc: 0.9995 - val_loss: 1.1203 - val_acc: 0.8736\n",
      "Epoch 14/20\n",
      "15000/15000 [==============================] - 10s 650us/step - loss: 0.0047 - acc: 0.9991 - val_loss: 1.1251 - val_acc: 0.8704\n",
      "Epoch 15/20\n",
      "15000/15000 [==============================] - 10s 670us/step - loss: 0.0047 - acc: 0.9993 - val_loss: 1.1525 - val_acc: 0.8706\n",
      "Epoch 16/20\n",
      "15000/15000 [==============================] - 10s 681us/step - loss: 0.0038 - acc: 0.9992 - val_loss: 1.1090 - val_acc: 0.8654\n",
      "Epoch 17/20\n",
      "15000/15000 [==============================] - 10s 644us/step - loss: 0.0023 - acc: 0.9995 - val_loss: 1.1342 - val_acc: 0.8700\n",
      "Epoch 18/20\n",
      "15000/15000 [==============================] - 10s 680us/step - loss: 1.2428e-05 - acc: 1.0000 - val_loss: 1.2002 - val_acc: 0.8710\n",
      "Epoch 19/20\n",
      "15000/15000 [==============================] - 10s 647us/step - loss: 0.0049 - acc: 0.9992 - val_loss: 1.3000 - val_acc: 0.8706\n",
      "Epoch 20/20\n",
      "15000/15000 [==============================] - 10s 644us/step - loss: 5.5574e-06 - acc: 1.0000 - val_loss: 1.2867 - val_acc: 0.8679\n"
     ]
    },
    {
     "data": {
      "text/plain": [
       "<keras.callbacks.History at 0xb1cfbdaf28>"
      ]
     },
     "execution_count": 94,
     "metadata": {},
     "output_type": "execute_result"
    }
   ],
   "source": [
    "model = models.Sequential()\n",
    "model.add(layers.Dense(128, activation='relu', input_shape=(10000,)))\n",
    "model.add(layers.Dense(128, activation='relu'))\n",
    "model.add(layers.Dense(46, activation='softmax'))\n",
    "\n",
    "model.compile(optimizer='rmsprop',\n",
    "              loss='sparse_categorical_crossentropy',\n",
    "              metrics=['accuracy'])\n",
    "model.fit(partial_x_train,\n",
    "          partial_y_train,\n",
    "          epochs=20,\n",
    "          batch_size=128,\n",
    "          validation_data=(x_val, y_val))"
   ]
  },
  {
   "cell_type": "code",
   "execution_count": null,
   "metadata": {},
   "outputs": [],
   "source": []
  }
 ],
 "metadata": {
  "kernelspec": {
   "display_name": "Python 3",
   "language": "python",
   "name": "python3"
  },
  "language_info": {
   "codemirror_mode": {
    "name": "ipython",
    "version": 3
   },
   "file_extension": ".py",
   "mimetype": "text/x-python",
   "name": "python",
   "nbconvert_exporter": "python",
   "pygments_lexer": "ipython3",
   "version": "3.6.5"
  }
 },
 "nbformat": 4,
 "nbformat_minor": 2
}
