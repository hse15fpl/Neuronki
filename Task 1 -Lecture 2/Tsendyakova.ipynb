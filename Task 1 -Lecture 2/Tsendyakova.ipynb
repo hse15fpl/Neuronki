{
 "cells": [
  {
   "cell_type": "markdown",
   "metadata": {
    "colab_type": "text",
    "id": "QKzbRANeVNBW",
    "slideshow": {
     "slide_type": "slide"
    }
   },
   "source": [
    "# Lecture 3 : Getting started with Neural Networks\n",
    "\n",
    "We’ll apply what you’ve learned to three new problems covering the three most common use cases of neural networks: binary classification, multiclass classification, and scalar regression.\n",
    "\n",
    "We’ll dive into three introductory examples of how to use neural networks to address real problems:\n",
    "\n",
    "* Classifying movie reviews as positive or negative (binary classification)\n",
    "* Classifying news wires by topic (multiclass classification)\n",
    "* Estimating the price of a house, given real-estate data (regression)"
   ]
  },
  {
   "cell_type": "markdown",
   "metadata": {
    "colab_type": "text",
    "id": "PHuc00aNVNBY",
    "slideshow": {
     "slide_type": "slide"
    }
   },
   "source": [
    "## Anatomy of a neural network\n",
    "\n",
    "(From previous lecture) training a neural network revolves around the following objects:\n",
    "\n",
    "* **Layers**, which are combined into a network (or model)\n",
    "* The **input data** and corresponding **targets**\n",
    "* The **loss function**, which defines the feedback signal used for learning\n",
    "* The **optimizer**, which determines how learning proceeds"
   ]
  },
  {
   "cell_type": "markdown",
   "metadata": {
    "colab_type": "text",
    "id": "yTQ1-yTpVNBZ",
    "slideshow": {
     "slide_type": "slide"
    }
   },
   "source": [
    "You can visualize their interaction:\n",
    "![](https://dpzbhybb2pdcj.cloudfront.net/chollet/Figures/03fig01.jpg)\n",
    "\n",
    "The network, composed of layers that are chained together, maps the input data to predictions. The loss function then compares these predictions to the targets, producing a loss value: a measure of how well the network’s predictions match what was expected. The optimizer uses this loss value to update the network’s weights.\n",
    "\n",
    "\n"
   ]
  },
  {
   "cell_type": "markdown",
   "metadata": {
    "colab_type": "text",
    "id": "ux6lyIUGVNBb",
    "slideshow": {
     "slide_type": "subslide"
    }
   },
   "source": [
    "...Let’s take a closer look at layers, networks, loss functions, and optimizers."
   ]
  },
  {
   "cell_type": "markdown",
   "metadata": {
    "colab_type": "text",
    "id": "PE2fuOHCVNBb",
    "slideshow": {
     "slide_type": "slide"
    }
   },
   "source": [
    " ## Layers: the building blocks of deep learning\n",
    " \n",
    " The fundamental data structure in neural networks is the **layer**. A layer is a data-processing module that takes as input one or more tensors and that outputs one or more tensors. \n",
    " \n",
    "Some layers are stateless, but more frequently layers have a state: the layer’s weights, one or several tensors learned with stochastic gradient descent, which together contain the network’s knowledge."
   ]
  },
  {
   "cell_type": "markdown",
   "metadata": {
    "colab_type": "text",
    "id": "RSmI3-PxVNBd",
    "slideshow": {
     "slide_type": "subslide"
    }
   },
   "source": [
    "Different layers are appropriate for different tensor formats and different types of data processing. For instance, simple vector data, stored in 2D tensors of shape ```(samples, features)```, is often processed by **densely connected layers**, also called **fully connected** or **dense layers** (the ```Dense``` class in Keras). Sequence data, stored in 3D tensors of shape ```(samples, timesteps, features)```, is typically processed by **recurrent** layers such as an **LSTM layer**. Image data, stored in 4D tensors, is usually processed by 2D convolution layers (```Conv2D```).\n",
    "\n",
    "You can think of layers as the LEGO bricks of deep learning, a metaphor that is made explicit by frameworks like Keras. "
   ]
  },
  {
   "cell_type": "markdown",
   "metadata": {
    "colab_type": "text",
    "id": "YlViv-JKVNBe",
    "slideshow": {
     "slide_type": "subslide"
    }
   },
   "source": [
    "Building deep-learning models in Keras is done by clipping together compatible layers to form useful data-transformation pipelines. The notion of layer compatibility here refers specifically to the fact that every layer will only accept input tensors of a certain shape and will return output tensors of a certain shape. "
   ]
  },
  {
   "cell_type": "code",
   "execution_count": 1,
   "metadata": {},
   "outputs": [
    {
     "name": "stderr",
     "output_type": "stream",
     "text": [
      "C:\\Anaconda3\\lib\\site-packages\\h5py\\__init__.py:36: FutureWarning: Conversion of the second argument of issubdtype from `float` to `np.floating` is deprecated. In future, it will be treated as `np.float64 == np.dtype(float).type`.\n",
      "  from ._conv import register_converters as _register_converters\n"
     ]
    }
   ],
   "source": [
    "import tensorflow\n"
   ]
  },
  {
   "cell_type": "code",
   "execution_count": 2,
   "metadata": {},
   "outputs": [
    {
     "name": "stderr",
     "output_type": "stream",
     "text": [
      "Using TensorFlow backend.\n"
     ]
    }
   ],
   "source": [
    "import keras"
   ]
  },
  {
   "cell_type": "code",
   "execution_count": 3,
   "metadata": {
    "colab": {
     "base_uri": "https://localhost:8080/",
     "height": 34
    },
    "colab_type": "code",
    "executionInfo": {
     "elapsed": 1661,
     "status": "ok",
     "timestamp": 1541848737073,
     "user": {
      "displayName": "Лингвисты 4 курс 15ФПЛ",
      "photoUrl": "",
      "userId": "07722014738513937459"
     },
     "user_tz": -120
    },
    "id": "Dnv0zp2zVNBf",
    "outputId": "3727017a-cd8d-4813-fdeb-13a8e82fbc22",
    "slideshow": {
     "slide_type": "fragment"
    }
   },
   "outputs": [],
   "source": [
    "from keras import layers\n",
    "\n",
    "layer = layers.Dense(32, input_shape=(784,))"
   ]
  },
  {
   "cell_type": "markdown",
   "metadata": {
    "colab_type": "text",
    "id": "gCkE-A-vVNBj",
    "slideshow": {
     "slide_type": "fragment"
    }
   },
   "source": [
    "We’re creating a layer that will only accept as input 2D tensors where the first dimension is 784 (axis 0, the batch dimension, is unspecified, and thus any value would be accepted). This layer will return a tensor where the first dimension has been transformed to be 32."
   ]
  },
  {
   "cell_type": "markdown",
   "metadata": {
    "colab_type": "text",
    "id": "Pq2HTr1hVNBl",
    "slideshow": {
     "slide_type": "fragment"
    }
   },
   "source": [
    "Thus this layer can only be connected to a downstream layer that expects 32-dimensional vectors as its input. When using Keras, you don’t have to worry about compatibility, because the layers you add to your models are dynamically built to match the shape of the incoming layer."
   ]
  },
  {
   "cell_type": "code",
   "execution_count": 4,
   "metadata": {
    "colab": {},
    "colab_type": "code",
    "id": "JjChb65-VNBm",
    "slideshow": {
     "slide_type": "subslide"
    }
   },
   "outputs": [],
   "source": [
    "from keras import models\n",
    "from keras import layers\n",
    "\n",
    "model = models.Sequential()\n",
    "model.add(layers.Dense(32, input_shape=(784,)))\n",
    "model.add(layers.Dense(32))"
   ]
  },
  {
   "cell_type": "markdown",
   "metadata": {
    "colab_type": "text",
    "id": "Yi93Px6kVNBq",
    "slideshow": {
     "slide_type": "fragment"
    }
   },
   "source": [
    "The second layer didn’t receive an input shape argument—instead, it automatically inferred its input shape as being the output shape of the layer that came before.\n"
   ]
  },
  {
   "cell_type": "markdown",
   "metadata": {
    "colab_type": "text",
    "id": "ciJlNu1fVNBr",
    "slideshow": {
     "slide_type": "slide"
    }
   },
   "source": [
    "### Models: networks of layers\n",
    "\n",
    "A deep-learning model is a directed, acyclic graph of layers. The most common instance is a linear stack of layers, mapping a single input to a single output.\n"
   ]
  },
  {
   "cell_type": "markdown",
   "metadata": {
    "colab_type": "text",
    "id": "EU9tgtQPVNBs",
    "slideshow": {
     "slide_type": "fragment"
    }
   },
   "source": [
    "But as you move forward, you’ll be exposed to a much broader variety of network topologies. Some common ones include the following:\n",
    "\n",
    "* Two-branch networks\n",
    "* Multihead networks\n",
    "* Inception blocks\n",
    "\n",
    "The topology of a network defines a hypothesis space. "
   ]
  },
  {
   "cell_type": "markdown",
   "metadata": {
    "colab_type": "text",
    "id": "ixJlQV4JVNBt",
    "slideshow": {
     "slide_type": "subslide"
    }
   },
   "source": [
    "We defined *machine learning* as *searching for useful representations of some input data, within a predefined space of possibilities, using guidance from a feedback signal.* \n",
    "\n",
    "By choosing a network topology, you constrain your space of possibilities (hypothesis space) to a specific series of tensor operations, mapping input data to output data. What you’ll then be searching for is a good set of values for the weight tensors involved in these tensor operations."
   ]
  },
  {
   "cell_type": "markdown",
   "metadata": {
    "colab_type": "text",
    "id": "AG_6epPdVNBv",
    "slideshow": {
     "slide_type": "fragment"
    }
   },
   "source": [
    "Picking the right network architecture is more an art than a science; and although there are some best practices and principles you can rely on, only practice can help you become a proper neural-network architect. "
   ]
  },
  {
   "cell_type": "markdown",
   "metadata": {
    "colab_type": "text",
    "id": "3tLlWX3nVNBw",
    "slideshow": {
     "slide_type": "slide"
    }
   },
   "source": [
    "###  Loss functions and optimizers: keys to configuring the learning process\n",
    "\n",
    "Once the network architecture is defined, you still have to choose two more things:\n",
    "\n",
    "* **Loss function (objective function)** — The quantity that will be minimized during training. It represents a measure of success for the task at hand.\n",
    "* **Optimizer** — Determines how the network will be updated based on the loss function. It implements a specific variant of stochastic gradient descent (SGD).\n",
    "\n",
    "\n",
    "\n"
   ]
  },
  {
   "cell_type": "markdown",
   "metadata": {
    "colab_type": "text",
    "id": "RaXHG5Q2VNBy",
    "slideshow": {
     "slide_type": "fragment"
    }
   },
   "source": [
    "A neural network that has multiple outputs may have multiple loss functions (one per output). But the gradient-descent process must be based on a single scalar loss value; so, for multiloss networks, all losses are combined (via averaging) into a single scalar quantity."
   ]
  },
  {
   "cell_type": "markdown",
   "metadata": {
    "colab_type": "text",
    "id": "k0ynLnK1VNB1",
    "slideshow": {
     "slide_type": "subslide"
    }
   },
   "source": [
    "**Choosing the right objective function for the right problem is extremely important**: your network will take any shortcut it can, to minimize the loss; so if the objective doesn’t fully correlate with success for the task at hand, your network will end up doing things you may not have wanted. \n"
   ]
  },
  {
   "cell_type": "markdown",
   "metadata": {
    "colab_type": "text",
    "id": "69NBIAEvVNB4",
    "slideshow": {
     "slide_type": "fragment"
    }
   },
   "source": [
    "Imagine a stupid, omnipotent AI trained via SGD, with this poorly chosen objective function: “maximizing the average well-being of all humans alive.” To make its job easier, this AI might choose to kill all humans except a few and focus on the well-being of the remaining ones—because average well-being isn’t affected by how many humans are left. That might not be what you intended! Just remember that all neural networks you build will be just as ruthless in lowering their loss function—so choose the objective wisely, or you’ll have to face unintended side effects.\n"
   ]
  },
  {
   "cell_type": "markdown",
   "metadata": {
    "colab_type": "text",
    "id": "aH6i6HcYVNB6",
    "slideshow": {
     "slide_type": "subslide"
    }
   },
   "source": [
    "Fortunately, when it comes to common problems such as classification, regression, and sequence prediction, there are simple guidelines you can follow to choose the correct loss. For instance, you’ll use **binary crossentropy** for a two-class classification problem, **categorical crossentropy** for a many-class classification problem, **mean-squared error** for a regression problem, **connectionist temporal classification (CTC)** for a sequence-learning problem, and so on. \n",
    "\n",
    "Only when you’re working on truly new research problems will you have to develop your own objective functions. "
   ]
  },
  {
   "cell_type": "markdown",
   "metadata": {
    "colab_type": "text",
    "id": "ExOMklVtVNB7",
    "slideshow": {
     "slide_type": "slide"
    }
   },
   "source": [
    "## Introduction to Keras\n",
    "\n",
    "We'll use Keras Framework  (https://keras.io). Keras is a deep-learning framework for Python that provides a convenient way to define and train almost any kind of deep-learning model. Keras was initially developed for researchers, with the aim of enabling fast experimentation."
   ]
  },
  {
   "cell_type": "markdown",
   "metadata": {
    "colab_type": "text",
    "id": "Gu_1PR9NVNB8",
    "slideshow": {
     "slide_type": "subslide"
    }
   },
   "source": [
    "Keras has the following key features:\n",
    "\n",
    "* It allows the same code to run seamlessly on CPU or GPU.\n",
    "* It has a user-friendly API that makes it easy to quickly prototype deep-learning models.\n",
    "* It has built-in support for convolutional networks (for computer vision), recurrent networks (for sequence processing), and any combination of both.\n",
    "* It supports arbitrary network architectures: multi-input or multi-output models, layer sharing, model sharing, and so on. This means Keras is appropriate for building essentially any deep-learning model, from a generative adversarial network to a neural Turing machine.\n",
    "\n",
    "It’s compatible with any version of Python from 2.7 to 3.7."
   ]
  },
  {
   "cell_type": "markdown",
   "metadata": {
    "colab_type": "text",
    "id": "ULTzjA38VNB9",
    "slideshow": {
     "slide_type": "slide"
    }
   },
   "source": [
    "###  Developing with Keras: a quick overview\n",
    "\n",
    "The typical Keras workflow looks just like that example:\n",
    "\n",
    "1. Define your training data: input tensors and target tensors.\n",
    "* Define a network of layers (or **model**) that maps your inputs to your targets.\n",
    "* Configure the learning process by choosing a loss function, an optimizer, and some metrics to monitor.\n",
    "* Iterate on your training data by calling the ```fit()``` method of your model.\n",
    "\n",
    "There are two ways to define a model: using the ```Sequential``` class (only for linear stacks of layers, which is the most common network architecture by far) or the **functional API** (for directed acyclic graphs of layers, which lets you build completely arbitrary architectures)."
   ]
  },
  {
   "cell_type": "markdown",
   "metadata": {
    "colab_type": "text",
    "id": "ZsJeS-xfVNB-",
    "slideshow": {
     "slide_type": "subslide"
    }
   },
   "source": [
    "Here’s a two-layer model defined using the Sequential class (note that we’re passing the expected shape of the input data to the first layer):"
   ]
  },
  {
   "cell_type": "code",
   "execution_count": 5,
   "metadata": {
    "colab": {},
    "colab_type": "code",
    "id": "I4P9w3clVNB_",
    "slideshow": {
     "slide_type": "fragment"
    }
   },
   "outputs": [],
   "source": [
    "from keras import models\n",
    "from keras import layers\n",
    "\n",
    "model = models.Sequential()\n",
    "model.add(layers.Dense(32, activation='relu', input_shape=(784,)))\n",
    "model.add(layers.Dense(10, activation='softmax'))"
   ]
  },
  {
   "cell_type": "markdown",
   "metadata": {
    "colab_type": "text",
    "id": "5xf6JYTVVNCB",
    "slideshow": {
     "slide_type": "fragment"
    }
   },
   "source": [
    "And here’s the same model defined using the functional API:"
   ]
  },
  {
   "cell_type": "code",
   "execution_count": 6,
   "metadata": {
    "colab": {},
    "colab_type": "code",
    "id": "EJrhKkJgVNCD",
    "slideshow": {
     "slide_type": "fragment"
    }
   },
   "outputs": [],
   "source": [
    "input_tensor = layers.Input(shape=(784,))\n",
    "x = layers.Dense(32, activation='relu')(input_tensor)\n",
    "output_tensor = layers.Dense(10, activation='softmax')(x)\n",
    "\n",
    "model = models.Model(inputs=input_tensor, outputs=output_tensor)"
   ]
  },
  {
   "cell_type": "markdown",
   "metadata": {
    "colab_type": "text",
    "id": "y3jZeCj3VNCF",
    "slideshow": {
     "slide_type": "fragment"
    }
   },
   "source": [
    "With the functional API, you’re manipulating the data tensors that the model processes and applying layers to this tensor as if they were functions.\n",
    "\n"
   ]
  },
  {
   "cell_type": "markdown",
   "metadata": {
    "colab_type": "text",
    "id": "wELzZDP3VNCH",
    "slideshow": {
     "slide_type": "subslide"
    }
   },
   "source": [
    "Once your model architecture is defined, it doesn’t matter whether you used a Sequential model or the functional API. All of the following steps are the same.\n",
    "\n",
    "The learning process is configured in the compilation step, where you specify the optimizer and loss function(s) that the model should use, as well as the metrics you want to monitor during training. Here’s an example with a single loss function, which is by far the most common case:"
   ]
  },
  {
   "cell_type": "code",
   "execution_count": 7,
   "metadata": {
    "colab": {},
    "colab_type": "code",
    "id": "W_s4hasJVNCI",
    "slideshow": {
     "slide_type": "fragment"
    }
   },
   "outputs": [],
   "source": [
    "from keras import optimizers\n",
    "\n",
    "model.compile(optimizer=optimizers.RMSprop(lr=0.001),\n",
    "              loss='mse',\n",
    "              metrics=['accuracy'])"
   ]
  },
  {
   "cell_type": "markdown",
   "metadata": {
    "colab_type": "text",
    "id": "TVlhh77PVNCK",
    "slideshow": {
     "slide_type": "subslide"
    }
   },
   "source": [
    "Finally, the learning process consists of passing Numpy arrays of input data (and the corresponding target data) to the model via the fit() method, similar to what you would do in Scikit-Learn and several other machine-learning libraries:\n",
    "\n"
   ]
  },
  {
   "cell_type": "code",
   "execution_count": 8,
   "metadata": {
    "colab": {
     "base_uri": "https://localhost:8080/",
     "height": 163
    },
    "colab_type": "code",
    "executionInfo": {
     "elapsed": 817,
     "status": "error",
     "timestamp": 1541848749744,
     "user": {
      "displayName": "Лингвисты 4 курс 15ФПЛ",
      "photoUrl": "",
      "userId": "07722014738513937459"
     },
     "user_tz": -120
    },
    "id": "h9swIbMRVNCM",
    "outputId": "be171e13-4cbc-4cd4-e3f9-b1326dcd172c",
    "slideshow": {
     "slide_type": "fragment"
    }
   },
   "outputs": [
    {
     "ename": "NameError",
     "evalue": "name 'target_tensor' is not defined",
     "output_type": "error",
     "traceback": [
      "\u001b[1;31m---------------------------------------------------------------------------\u001b[0m",
      "\u001b[1;31mNameError\u001b[0m                                 Traceback (most recent call last)",
      "\u001b[1;32m<ipython-input-8-c17b2397d844>\u001b[0m in \u001b[0;36m<module>\u001b[1;34m()\u001b[0m\n\u001b[1;32m----> 1\u001b[1;33m \u001b[0mmodel\u001b[0m\u001b[1;33m.\u001b[0m\u001b[0mfit\u001b[0m\u001b[1;33m(\u001b[0m\u001b[0minput_tensor\u001b[0m\u001b[1;33m,\u001b[0m \u001b[0mtarget_tensor\u001b[0m\u001b[1;33m,\u001b[0m \u001b[0mbatch_size\u001b[0m\u001b[1;33m=\u001b[0m\u001b[1;36m128\u001b[0m\u001b[1;33m,\u001b[0m \u001b[0mepochs\u001b[0m\u001b[1;33m=\u001b[0m\u001b[1;36m10\u001b[0m\u001b[1;33m)\u001b[0m\u001b[1;33m\u001b[0m\u001b[0m\n\u001b[0m",
      "\u001b[1;31mNameError\u001b[0m: name 'target_tensor' is not defined"
     ]
    }
   ],
   "source": [
    "model.fit(input_tensor, target_tensor, batch_size=128, epochs=10)"
   ]
  },
  {
   "cell_type": "markdown",
   "metadata": {
    "colab_type": "text",
    "id": "c2hw0GpEVNCP",
    "slideshow": {
     "slide_type": "slide"
    }
   },
   "source": [
    "## Classifying movie reviews: a binary classification example\n",
    "\n",
    "Two-class classification, or binary classification, may be the most widely applied kind of machine-learning problem. In this example, you’ll learn to classify movie reviews as positive or negative, based on the text content of the reviews.\n",
    "\n"
   ]
  },
  {
   "cell_type": "markdown",
   "metadata": {
    "colab_type": "text",
    "id": "ig7a_DgPVNCQ",
    "slideshow": {
     "slide_type": "subslide"
    }
   },
   "source": [
    "###  The IMDB dataset\n",
    "\n",
    "You’ll work with the IMDB dataset: a set of 50,000 highly polarized reviews from the Internet Movie Database. They’re split into 25,000 reviews for training and 25,000 reviews for testing, each set consisting of 50% negative and 50% positive reviews.\n",
    "\n"
   ]
  },
  {
   "cell_type": "markdown",
   "metadata": {
    "colab_type": "text",
    "id": "nPHT8vuuVNCR",
    "slideshow": {
     "slide_type": "fragment"
    }
   },
   "source": [
    "Why use separate training and test sets?\n",
    "* Just because a model performs well on its training data doesn’t mean it will perform well on data it has never seen.\n",
    "* Risk of just memoirizing a mapping between training samples and their targets, which would be useless for the task of predicting targes for data the model never seen before."
   ]
  },
  {
   "cell_type": "markdown",
   "metadata": {
    "colab_type": "text",
    "id": "Mbh7JghSVNCS",
    "slideshow": {
     "slide_type": "subslide"
    }
   },
   "source": [
    "Just like the MNIST dataset, the IMDB dataset comes packaged with Keras. It has already been preprocessed: the reviews (sequences of words) have been turned into sequences of integers, where each integer stands for a specific word in a dictionary.\n",
    "\n",
    "The following code will load the dataset (**warning** first time running = 80 Mb of data downloading)."
   ]
  },
  {
   "cell_type": "code",
   "execution_count": 9,
   "metadata": {
    "colab": {},
    "colab_type": "code",
    "id": "csi7pqmnVNCV",
    "outputId": "4f5f5504-fd10-4955-e01a-f58ba6b1bca4",
    "slideshow": {
     "slide_type": "fragment"
    }
   },
   "outputs": [
    {
     "name": "stdout",
     "output_type": "stream",
     "text": [
      "Downloading data from https://s3.amazonaws.com/text-datasets/imdb.npz\n",
      "17465344/17464789 [==============================] - 61s 3us/step\n"
     ]
    }
   ],
   "source": [
    "from keras.datasets import imdb\n",
    "\n",
    "(train_data, train_labels), (test_data, test_labels) = imdb.load_data(\n",
    "    num_words=10000)"
   ]
  },
  {
   "cell_type": "markdown",
   "metadata": {
    "colab_type": "text",
    "id": "b-Ib74BGVNCd",
    "slideshow": {
     "slide_type": "fragment"
    }
   },
   "source": [
    "The argument num_words=10000 means you’ll only keep the top 10,000 most frequently occurring words in the training data. Rare words will be discarded. This allows you to work with vector data of manageable size."
   ]
  },
  {
   "cell_type": "markdown",
   "metadata": {
    "colab_type": "text",
    "id": "_330RMvqVNCd",
    "slideshow": {
     "slide_type": "subslide"
    }
   },
   "source": [
    "The variables train_data and test_data are lists of reviews; each review is a list of word indices (encoding a sequence of words). train_labels and test_labels are lists of 0s and 1s, where 0 stands for negative and 1 stands for positive:"
   ]
  },
  {
   "cell_type": "code",
   "execution_count": 10,
   "metadata": {
    "colab": {},
    "colab_type": "code",
    "id": "G5UDb-E6VNCe",
    "outputId": "6910c210-05b4-4c55-db2a-349764b96905",
    "slideshow": {
     "slide_type": "fragment"
    }
   },
   "outputs": [
    {
     "data": {
      "text/plain": [
       "[1, 14, 22, 16, 43, 530, 973, 1622, 1385, 65, 458, 4468, 66, 3941, 4]"
      ]
     },
     "execution_count": 10,
     "metadata": {},
     "output_type": "execute_result"
    }
   ],
   "source": [
    "train_data[0][:15]"
   ]
  },
  {
   "cell_type": "code",
   "execution_count": 11,
   "metadata": {
    "colab": {},
    "colab_type": "code",
    "id": "wFaaCrdeVNCi",
    "outputId": "848ba41c-ea73-4fa9-a13a-04d44255f954",
    "slideshow": {
     "slide_type": "fragment"
    }
   },
   "outputs": [
    {
     "data": {
      "text/plain": [
       "1"
      ]
     },
     "execution_count": 11,
     "metadata": {},
     "output_type": "execute_result"
    }
   ],
   "source": [
    "train_labels[0]"
   ]
  },
  {
   "cell_type": "markdown",
   "metadata": {
    "colab_type": "text",
    "id": "qKtSyA3rVNCm",
    "slideshow": {
     "slide_type": "fragment"
    }
   },
   "source": [
    "Because you’re restricting yourself to the top 10,000 most frequent words, no word index will exceed 10,000:\n",
    "\n"
   ]
  },
  {
   "cell_type": "code",
   "execution_count": 12,
   "metadata": {
    "colab": {},
    "colab_type": "code",
    "id": "h2KW7w1xVNCn",
    "outputId": "bf74f71c-c876-499e-e7ed-0709cc68ba92",
    "slideshow": {
     "slide_type": "fragment"
    }
   },
   "outputs": [
    {
     "data": {
      "text/plain": [
       "9999"
      ]
     },
     "execution_count": 12,
     "metadata": {},
     "output_type": "execute_result"
    }
   ],
   "source": [
    "max([max(sequence) for sequence in train_data])"
   ]
  },
  {
   "cell_type": "markdown",
   "metadata": {
    "colab_type": "text",
    "id": "byOt6L9FVNCq",
    "slideshow": {
     "slide_type": "subslide"
    }
   },
   "source": [
    "For kicks, here’s how you can quickly decode one of these reviews back to English words:"
   ]
  },
  {
   "cell_type": "code",
   "execution_count": 13,
   "metadata": {
    "colab": {},
    "colab_type": "code",
    "id": "JJ1NPRzGVNCr",
    "outputId": "235c3241-8549-4bbe-ed36-7e0211ba67dd",
    "slideshow": {
     "slide_type": "fragment"
    }
   },
   "outputs": [
    {
     "name": "stdout",
     "output_type": "stream",
     "text": [
      "Downloading data from https://s3.amazonaws.com/text-datasets/imdb_word_index.json\n",
      "1646592/1641221 [==============================] - 3s 2us/step\n"
     ]
    }
   ],
   "source": [
    "word_index = imdb.get_word_index()\n",
    "reverse_word_index = dict(\n",
    "    [(value, key) for (key, value) in word_index.items()])\n",
    "decoded_review = ' '.join(\n",
    "    [reverse_word_index.get(i - 3, '?') for i in train_data[0]])\n"
   ]
  },
  {
   "cell_type": "code",
   "execution_count": 14,
   "metadata": {
    "colab": {},
    "colab_type": "code",
    "id": "bOPxQMdFVNCx",
    "outputId": "abafcfe3-4852-428e-d52e-55b99f2e2ffd",
    "slideshow": {
     "slide_type": "fragment"
    }
   },
   "outputs": [
    {
     "data": {
      "text/plain": [
       "\"? this film was just brilliant casting location scenery story direction everyone's really suited the part they played and you could just imagine being there robert ? is an amazing actor and now the same being director ? father came from the same scottish island as myself so i loved the fact there was a real connection with this film the witty remarks throughout the film were great it was just brilliant so much that i bought the film as soon as it was released for ? and would recommend it to everyone to watch and the fly fishing was amazing really cried at the end it was so sad and you know what they say if you cry at a film it must have been good and this definitely was also ? to the two little boy's that played the ? of norman and paul they were just brilliant children are often left out of the ? list i think because the stars that play them all grown up are such a big profile for the whole film but these children are amazing and should be praised for what they have done don't you think the whole story was so lovely because it was true and was someone's life after all that was shared with us all\""
      ]
     },
     "execution_count": 14,
     "metadata": {},
     "output_type": "execute_result"
    }
   ],
   "source": [
    "decoded_review"
   ]
  },
  {
   "cell_type": "markdown",
   "metadata": {
    "colab_type": "text",
    "id": "xicv7Xn4VNC4",
    "slideshow": {
     "slide_type": "slide"
    }
   },
   "source": [
    "### Preparing the data\n",
    "\n",
    "You can’t just feed lists of integers into a neural network. You have to turn your lists into tensors. There are two ways to do that:\n",
    "\n",
    "* Pad your lists so that they all have the same length, turn them into an integer tensor of shape (samples, word_indices), and then use as the first layer in your network a layer capable of handling such integer tensors (the ```Embedding``` layer, which we’ll cover in detail later).\n",
    "* One-hot encode your lists to turn them into vectors of 0s and 1s. This would mean, for instance, turning the sequence ```[3, 5]``` into a 10,000-dimensional vector that would be all 0s except for indices 3 and 5, which would be 1s. Then you could use as the first layer in your network a ```Dense``` layer, capable of handling floating-point vector data."
   ]
  },
  {
   "cell_type": "markdown",
   "metadata": {
    "colab_type": "text",
    "id": "RZLd_cwZVNC6",
    "slideshow": {
     "slide_type": "subslide"
    }
   },
   "source": [
    "Let’s go with the latter solution to vectorize the data, which you’ll do manually for maximum clarity.\n",
    "\n"
   ]
  },
  {
   "cell_type": "code",
   "execution_count": 15,
   "metadata": {
    "colab": {},
    "colab_type": "code",
    "id": "VzF3cL3wVNC7",
    "slideshow": {
     "slide_type": "fragment"
    }
   },
   "outputs": [],
   "source": [
    "import numpy as np\n",
    "\n",
    "def vectorize_sequences(sequences, dimension=10000):\n",
    "    results = np.zeros((len(sequences), dimension))\n",
    "    for i, sequence in enumerate(sequences):\n",
    "        results[i, sequence] = 1.\n",
    "    return results\n",
    "\n",
    "x_train = vectorize_sequences(train_data)\n",
    "x_test = vectorize_sequences(test_data)\n"
   ]
  },
  {
   "cell_type": "markdown",
   "metadata": {
    "colab_type": "text",
    "id": "-xUCSZYJVNC-",
    "slideshow": {
     "slide_type": "subslide"
    }
   },
   "source": [
    "Here’s what the samples look like now:"
   ]
  },
  {
   "cell_type": "code",
   "execution_count": 16,
   "metadata": {
    "colab": {},
    "colab_type": "code",
    "id": "DLT4Wu2KVNC-",
    "outputId": "c2e82aec-93ca-40d8-93c8-73d30cbc859d",
    "slideshow": {
     "slide_type": "fragment"
    }
   },
   "outputs": [
    {
     "data": {
      "text/plain": [
       "array([0., 1., 1., ..., 0., 0., 0.])"
      ]
     },
     "execution_count": 16,
     "metadata": {},
     "output_type": "execute_result"
    }
   ],
   "source": [
    "x_train[0]"
   ]
  },
  {
   "cell_type": "markdown",
   "metadata": {
    "colab_type": "text",
    "id": "Xs9R_Yc4VNDE",
    "slideshow": {
     "slide_type": "fragment"
    }
   },
   "source": [
    "You should also vectorize your labels, which is straightforward:\n"
   ]
  },
  {
   "cell_type": "code",
   "execution_count": 17,
   "metadata": {
    "colab": {},
    "colab_type": "code",
    "id": "C0aaOu6pVNDH",
    "slideshow": {
     "slide_type": "fragment"
    }
   },
   "outputs": [],
   "source": [
    "y_train = np.asarray(train_labels).astype('float32')\n",
    "y_test = np.asarray(test_labels).astype('float32')"
   ]
  },
  {
   "cell_type": "code",
   "execution_count": 18,
   "metadata": {
    "colab": {},
    "colab_type": "code",
    "id": "zyXZHpjPVNDL",
    "outputId": "bfd263a6-0953-4f4c-ea84-5923d9d0ecb2",
    "slideshow": {
     "slide_type": "fragment"
    }
   },
   "outputs": [
    {
     "data": {
      "text/plain": [
       "array([1., 0., 0., ..., 0., 1., 0.], dtype=float32)"
      ]
     },
     "execution_count": 18,
     "metadata": {},
     "output_type": "execute_result"
    }
   ],
   "source": [
    "y_train"
   ]
  },
  {
   "cell_type": "markdown",
   "metadata": {
    "colab_type": "text",
    "id": "u5mPcnugVNDP",
    "slideshow": {
     "slide_type": "fragment"
    }
   },
   "source": [
    "Now the data is ready to be fed into a neural network.\n",
    "\n"
   ]
  },
  {
   "cell_type": "markdown",
   "metadata": {
    "colab_type": "text",
    "id": "UBkLzmOwVNDQ",
    "slideshow": {
     "slide_type": "slide"
    }
   },
   "source": [
    "### Building your network\n",
    "\n",
    "The input data is vectors, and the labels are scalars (1s and 0s): this is the easiest setup you’ll ever encounter. A type of network that performs well on such a problem is a simple stack of fully connected (```Dense```) layers with relu activations: ```Dense(16, activation='relu')```.\n",
    "\n",
    "The argument being passed to each ```Dense``` layer (16) is the number of hidden units of the layer. A hidden unit is a dimension in the representation space of the layer. \n",
    "\n",
    "From previous lecture each such Dense layer with a relu activation implements the following chain of tensor operations:"
   ]
  },
  {
   "cell_type": "code",
   "execution_count": 19,
   "metadata": {
    "colab": {},
    "colab_type": "code",
    "id": "88qQlyOvVNDS",
    "slideshow": {
     "slide_type": "fragment"
    }
   },
   "outputs": [
    {
     "ename": "NameError",
     "evalue": "name 'relu' is not defined",
     "output_type": "error",
     "traceback": [
      "\u001b[1;31m---------------------------------------------------------------------------\u001b[0m",
      "\u001b[1;31mNameError\u001b[0m                                 Traceback (most recent call last)",
      "\u001b[1;32m<ipython-input-19-18b539df7e9b>\u001b[0m in \u001b[0;36m<module>\u001b[1;34m()\u001b[0m\n\u001b[1;32m----> 1\u001b[1;33m \u001b[0moutput\u001b[0m \u001b[1;33m=\u001b[0m \u001b[0mrelu\u001b[0m\u001b[1;33m(\u001b[0m\u001b[0mdot\u001b[0m\u001b[1;33m(\u001b[0m\u001b[0mW\u001b[0m\u001b[1;33m,\u001b[0m \u001b[0minput\u001b[0m\u001b[1;33m)\u001b[0m \u001b[1;33m+\u001b[0m \u001b[0mb\u001b[0m\u001b[1;33m)\u001b[0m\u001b[1;33m\u001b[0m\u001b[0m\n\u001b[0m",
      "\u001b[1;31mNameError\u001b[0m: name 'relu' is not defined"
     ]
    }
   ],
   "source": [
    "output = relu(dot(W, input) + b)"
   ]
  },
  {
   "cell_type": "markdown",
   "metadata": {
    "colab_type": "text",
    "id": "e9M74rMmVNDX",
    "slideshow": {
     "slide_type": "subslide"
    }
   },
   "source": [
    "Having 16 hidden units means the weight matrix W will have shape (input_dimension, 16): the dot product with W will project the input data onto a 16-dimensional representation space (and then you’ll add the bias vector b and apply the relu operation). You can intuitively understand the dimensionality of your representation space as “how much freedom you’re allowing the network to have when learning internal representations.” Having more hidden units (a higher-dimensional representation space) allows your network to learn more-complex representations, but it makes the network more computationally expensive and may lead to learning unwanted patterns (patterns that will improve performance on the training data but not on the test data)."
   ]
  },
  {
   "cell_type": "markdown",
   "metadata": {
    "colab_type": "text",
    "id": "BrgbApG2VNDY",
    "slideshow": {
     "slide_type": "slide"
    }
   },
   "source": [
    "There are two key architecture decisions to be made about such a stack of Dense layers:\n",
    "\n",
    "* How many layers to use\n",
    "* How many hidden units to choose for each layer"
   ]
  },
  {
   "cell_type": "markdown",
   "metadata": {
    "colab_type": "text",
    "id": "NzNfSDpyVNDa",
    "slideshow": {
     "slide_type": "fragment"
    }
   },
   "source": [
    "Later, you’ll learn formal principles to guide you in making these choices. Now we choose following architecture:\n",
    "\n",
    "* Two intermediate layers with 16 hidden units each\n",
    "* A third layer that will output the scalar prediction regarding the sentiment of the current review"
   ]
  },
  {
   "cell_type": "markdown",
   "metadata": {
    "colab_type": "text",
    "id": "89GR23GWVNDb",
    "slideshow": {
     "slide_type": "subslide"
    }
   },
   "source": [
    "The intermediate layers will use **relu** as their activation function, and the final layer will use a **sigmoid** activation so as to output a probability (a score between 0 and 1, indicating how likely the sample is to have the target “1”: how likely the review is to be positive). "
   ]
  },
  {
   "cell_type": "markdown",
   "metadata": {
    "colab_type": "text",
    "id": "zIF2wzb0VNDg",
    "slideshow": {
     "slide_type": "fragment"
    }
   },
   "source": [
    "A relu (rectified linear unit) is a function meant to zero out negative values\n",
    "![](https://dpzbhybb2pdcj.cloudfront.net/chollet/Figures/03fig04_alt.jpg)\n",
    "\n",
    "\n"
   ]
  },
  {
   "cell_type": "markdown",
   "metadata": {
    "colab_type": "text",
    "id": "HS8ItrSsVNDh",
    "slideshow": {
     "slide_type": "subslide"
    }
   },
   "source": [
    "**A sigmoid** “squashes” arbitrary values into the [0, 1] interval, outputting something that can be interpreted as a probability.\n",
    "![](https://dpzbhybb2pdcj.cloudfront.net/chollet/Figures/03fig05_alt.jpg)"
   ]
  },
  {
   "cell_type": "markdown",
   "metadata": {
    "colab_type": "text",
    "id": "D3RoaNumVNDj",
    "slideshow": {
     "slide_type": "subslide"
    }
   },
   "source": [
    "See how the network looks like. And here’s the Keras implementation, similar to the MNIST example you saw previously.\n",
    "\n",
    "![](https://dpzbhybb2pdcj.cloudfront.net/chollet/Figures/03fig06.jpg)"
   ]
  },
  {
   "cell_type": "code",
   "execution_count": 20,
   "metadata": {
    "colab": {},
    "colab_type": "code",
    "id": "9vWjLKPyVNDl",
    "slideshow": {
     "slide_type": "fragment"
    }
   },
   "outputs": [],
   "source": [
    "from keras import models\n",
    "from keras import layers\n",
    "\n",
    "model = models.Sequential()\n",
    "model.add(layers.Dense(16, activation='relu', input_shape=(10000,)))\n",
    "model.add(layers.Dense(16, activation='relu'))\n",
    "model.add(layers.Dense(1, activation='sigmoid'))"
   ]
  },
  {
   "cell_type": "markdown",
   "metadata": {
    "colab_type": "text",
    "id": "8B6A7d4gVNDp",
    "slideshow": {
     "slide_type": "subslide"
    }
   },
   "source": [
    "##### WHAT ARE ACTIVATION FUNCTIONS, AND WHY ARE THEY NECESSARY?\n",
    "\n",
    "Without an activation function like ```relu``` (also called a **non-linearity**), the ```Dense``` layer would consist of two linear operations—a dot product and an addition:\n"
   ]
  },
  {
   "cell_type": "code",
   "execution_count": 21,
   "metadata": {
    "colab": {},
    "colab_type": "code",
    "id": "h-ZFI0UxVNDr",
    "slideshow": {
     "slide_type": "fragment"
    }
   },
   "outputs": [
    {
     "ename": "NameError",
     "evalue": "name 'dot' is not defined",
     "output_type": "error",
     "traceback": [
      "\u001b[1;31m---------------------------------------------------------------------------\u001b[0m",
      "\u001b[1;31mNameError\u001b[0m                                 Traceback (most recent call last)",
      "\u001b[1;32m<ipython-input-21-613c5963416f>\u001b[0m in \u001b[0;36m<module>\u001b[1;34m()\u001b[0m\n\u001b[1;32m----> 1\u001b[1;33m \u001b[0moutput\u001b[0m \u001b[1;33m=\u001b[0m \u001b[0mdot\u001b[0m\u001b[1;33m(\u001b[0m\u001b[0mW\u001b[0m\u001b[1;33m,\u001b[0m \u001b[0minput\u001b[0m\u001b[1;33m)\u001b[0m \u001b[1;33m+\u001b[0m \u001b[0mb\u001b[0m\u001b[1;33m\u001b[0m\u001b[0m\n\u001b[0m",
      "\u001b[1;31mNameError\u001b[0m: name 'dot' is not defined"
     ]
    }
   ],
   "source": [
    "output = dot(W, input) + b"
   ]
  },
  {
   "cell_type": "markdown",
   "metadata": {
    "colab_type": "text",
    "id": "shp6un4ZVNDt",
    "slideshow": {
     "slide_type": "fragment"
    }
   },
   "source": [
    "So the layer could only learn **linear transformations** (*affine transformations*) of the input data: the hypothesis space of the layer would be the set of all possible linear transformations of the input data into a 16-dimensional space. Such a hypothesis space is too restricted and wouldn’t benefit from multiple layers of representations, because a deep stack of linear layers would still implement a linear operation: adding more layers wouldn’t extend the hypothesis space.\n",
    "\n",
    "In order to get access to a much richer hypothesis space that would benefit from deep representations, you need a non-linearity, or activation function. ```relu``` is the most popular activation function in deep learning, but there are many other candidates, which all come with similarly strange names: ```prelu```, ```elu```, and so on."
   ]
  },
  {
   "cell_type": "markdown",
   "metadata": {
    "colab_type": "text",
    "id": "QwMtliMhVNDu",
    "slideshow": {
     "slide_type": "subslide"
    }
   },
   "source": [
    "Finally, you need to choose a loss function and an optimizer. \n",
    "\n",
    "Because you’re facing a binary classification problem and the output of your network is a probability (you end your network with a single-unit layer with a sigmoid activation), it’s best to use the ```binary_crossentropy``` loss. It isn’t the only viable choice: you could use, for instance, ```mean_squared_error```. But crossentropy is usually the best choice when you’re dealing with models that output probabilities. **Crossentropy** is a quantity from the field of Information Theory that measures the distance between probability distributions or, in this case, between the ground-truth distribution and your predictions."
   ]
  },
  {
   "cell_type": "markdown",
   "metadata": {
    "colab_type": "text",
    "id": "O41ItN_ZVNDv",
    "slideshow": {
     "slide_type": "fragment"
    }
   },
   "source": [
    "Here’s the step where you configure the model with the rmsprop optimizer and the binary_crossentropy loss function. Note that you’ll also monitor accuracy during training."
   ]
  },
  {
   "cell_type": "code",
   "execution_count": 22,
   "metadata": {
    "colab": {},
    "colab_type": "code",
    "id": "BSaqnbedVNDv",
    "slideshow": {
     "slide_type": "fragment"
    }
   },
   "outputs": [],
   "source": [
    "model.compile(optimizer='rmsprop',\n",
    "              loss='binary_crossentropy',\n",
    "              metrics=['accuracy'])"
   ]
  },
  {
   "cell_type": "markdown",
   "metadata": {
    "colab_type": "text",
    "id": "bcF6qD4RVNDy",
    "slideshow": {
     "slide_type": "subslide"
    }
   },
   "source": [
    "You’re passing your optimizer, loss function, and metrics as strings, which is possible because ```rmsprop```, ```binary_crossentropy```, and ```accuracy``` are packaged as part of Keras. Sometimes you may want to configure the parameters of your optimizer or pass a custom loss function or metric function. The former can be done by passing an optimizer class instance as the optimizer argument: "
   ]
  },
  {
   "cell_type": "code",
   "execution_count": 23,
   "metadata": {
    "colab": {},
    "colab_type": "code",
    "id": "sE-_mgQqVNDz",
    "slideshow": {
     "slide_type": "fragment"
    }
   },
   "outputs": [],
   "source": [
    "from keras import optimizers\n",
    "\n",
    "model.compile(optimizer=optimizers.RMSprop(lr=0.001),\n",
    "              loss='binary_crossentropy',\n",
    "              metrics=['accuracy'])"
   ]
  },
  {
   "cell_type": "markdown",
   "metadata": {
    "colab_type": "text",
    "id": "MnB5--I1VND0",
    "slideshow": {
     "slide_type": "fragment"
    }
   },
   "source": [
    "The latter can be done by passing function objects as the loss and/or metrics arguments:"
   ]
  },
  {
   "cell_type": "code",
   "execution_count": 24,
   "metadata": {
    "colab": {},
    "colab_type": "code",
    "id": "Qx6JcQm3VND1",
    "slideshow": {
     "slide_type": "fragment"
    }
   },
   "outputs": [],
   "source": [
    "from keras import losses\n",
    "from keras import metrics\n",
    "\n",
    "model.compile(optimizer=optimizers.RMSprop(lr=0.001),\n",
    "              loss=losses.binary_crossentropy,\n",
    "              metrics=[metrics.binary_accuracy])"
   ]
  },
  {
   "cell_type": "markdown",
   "metadata": {
    "colab_type": "text",
    "id": "5eBZqg8wVND3",
    "slideshow": {
     "slide_type": "slide"
    }
   },
   "source": [
    "### Validating your approach\n",
    "\n",
    "In order to monitor during training the accuracy of the model on data it has never seen before, you’ll create a validation set by setting apart 10,000 samples from the original training data.\n",
    "\n"
   ]
  },
  {
   "cell_type": "code",
   "execution_count": 26,
   "metadata": {
    "colab": {},
    "colab_type": "code",
    "id": "vX-zMsvRVND4",
    "slideshow": {
     "slide_type": "fragment"
    }
   },
   "outputs": [],
   "source": [
    "x_val = x_train[:10000]\n",
    "partial_x_train = x_train[10000:]\n",
    "y_val = y_train[:10000]\n",
    "partial_y_train = y_train[10000:]"
   ]
  },
  {
   "cell_type": "markdown",
   "metadata": {
    "colab_type": "text",
    "id": "6D2DJgXSVND8",
    "slideshow": {
     "slide_type": "subslide"
    }
   },
   "source": [
    "You’ll now train the model for 5 epochs (5 iterations over all samples in the ```x_train``` and ```y_train``` tensors), in mini-batches of 512 samples. At the same time, you’ll monitor loss and accuracy on the 10,000 samples that you set apart. You do so by passing the validation data as the ```validation_data``` argument.\n",
    "\n"
   ]
  },
  {
   "cell_type": "code",
   "execution_count": 27,
   "metadata": {
    "colab": {},
    "colab_type": "code",
    "id": "JBXmUBSzVND9",
    "outputId": "41e051b5-bd59-49a6-9eeb-a974c7ff83be",
    "scrolled": true,
    "slideshow": {
     "slide_type": "fragment"
    }
   },
   "outputs": [
    {
     "name": "stdout",
     "output_type": "stream",
     "text": [
      "Train on 15000 samples, validate on 10000 samples\n",
      "Epoch 1/20\n",
      "15000/15000 [==============================] - 5s 347us/step - loss: 0.5090 - acc: 0.7813 - val_loss: 0.3794 - val_acc: 0.8686\n",
      "Epoch 2/20\n",
      "15000/15000 [==============================] - 4s 294us/step - loss: 0.3006 - acc: 0.9049 - val_loss: 0.3003 - val_acc: 0.8893\n",
      "Epoch 3/20\n",
      "15000/15000 [==============================] - 4s 296us/step - loss: 0.2180 - acc: 0.9285 - val_loss: 0.3084 - val_acc: 0.8716\n",
      "Epoch 4/20\n",
      "15000/15000 [==============================] - 4s 282us/step - loss: 0.1751 - acc: 0.9435 - val_loss: 0.2836 - val_acc: 0.8837\n",
      "Epoch 5/20\n",
      "15000/15000 [==============================] - 4s 280us/step - loss: 0.1426 - acc: 0.9541 - val_loss: 0.2842 - val_acc: 0.8872\n",
      "Epoch 6/20\n",
      "15000/15000 [==============================] - 4s 280us/step - loss: 0.1149 - acc: 0.9652 - val_loss: 0.3149 - val_acc: 0.8775\n",
      "Epoch 7/20\n",
      "15000/15000 [==============================] - 4s 267us/step - loss: 0.0978 - acc: 0.9708 - val_loss: 0.3128 - val_acc: 0.8844\n",
      "Epoch 8/20\n",
      "15000/15000 [==============================] - 4s 280us/step - loss: 0.0806 - acc: 0.9765 - val_loss: 0.3862 - val_acc: 0.8650\n",
      "Epoch 9/20\n",
      "15000/15000 [==============================] - 4s 287us/step - loss: 0.0660 - acc: 0.9821 - val_loss: 0.3638 - val_acc: 0.8779\n",
      "Epoch 10/20\n",
      "15000/15000 [==============================] - 4s 278us/step - loss: 0.0559 - acc: 0.9853 - val_loss: 0.3845 - val_acc: 0.8791\n",
      "Epoch 11/20\n",
      "15000/15000 [==============================] - 4s 276us/step - loss: 0.0439 - acc: 0.9891 - val_loss: 0.4154 - val_acc: 0.8777\n",
      "Epoch 12/20\n",
      "15000/15000 [==============================] - 4s 275us/step - loss: 0.0380 - acc: 0.9919 - val_loss: 0.4530 - val_acc: 0.8686\n",
      "Epoch 13/20\n",
      "15000/15000 [==============================] - 4s 273us/step - loss: 0.0298 - acc: 0.9930 - val_loss: 0.4712 - val_acc: 0.8732\n",
      "Epoch 14/20\n",
      "15000/15000 [==============================] - 4s 271us/step - loss: 0.0247 - acc: 0.9945 - val_loss: 0.5049 - val_acc: 0.8723\n",
      "Epoch 15/20\n",
      "15000/15000 [==============================] - 4s 270us/step - loss: 0.0191 - acc: 0.9964 - val_loss: 0.5326 - val_acc: 0.8702\n",
      "Epoch 16/20\n",
      "15000/15000 [==============================] - 4s 273us/step - loss: 0.0164 - acc: 0.9968 - val_loss: 0.5655 - val_acc: 0.8696\n",
      "Epoch 17/20\n",
      "15000/15000 [==============================] - 4s 269us/step - loss: 0.0125 - acc: 0.9981 - val_loss: 0.5976 - val_acc: 0.8672\n",
      "Epoch 18/20\n",
      "15000/15000 [==============================] - 4s 266us/step - loss: 0.0109 - acc: 0.9980 - val_loss: 0.6287 - val_acc: 0.8672\n",
      "Epoch 19/20\n",
      "15000/15000 [==============================] - 4s 273us/step - loss: 0.0073 - acc: 0.9993 - val_loss: 0.7393 - val_acc: 0.8538\n",
      "Epoch 20/20\n",
      "15000/15000 [==============================] - 4s 270us/step - loss: 0.0049 - acc: 0.9998 - val_loss: 0.6837 - val_acc: 0.8669\n"
     ]
    }
   ],
   "source": [
    "model.compile(optimizer='rmsprop',\n",
    "              loss='binary_crossentropy',\n",
    "              metrics=['acc'])\n",
    "\n",
    "history = model.fit(partial_x_train,\n",
    "                    partial_y_train,\n",
    "                    epochs=20,\n",
    "                    batch_size=512,\n",
    "                    validation_data=(x_val, y_val))"
   ]
  },
  {
   "cell_type": "markdown",
   "metadata": {
    "colab_type": "text",
    "id": "-w7AKjDzVND_",
    "slideshow": {
     "slide_type": "subslide"
    }
   },
   "source": [
    "On CPU, this will take less than 2 seconds per epoch—training is over in 10 seconds. At the end of every epoch, there is a slight pause as the model computes its loss and accuracy on the 10,000 samples of the validation data.\n",
    "\n",
    "Note that the call to ```model.fit()``` returns a History object. This object has a member history, which is a dictionary containing data about everything that happened during training. Let’s look at it:"
   ]
  },
  {
   "cell_type": "code",
   "execution_count": 28,
   "metadata": {
    "colab": {},
    "colab_type": "code",
    "id": "_EInzcWUVNEB",
    "outputId": "cb64a7fe-2072-44fc-faa4-7b15820910f0",
    "slideshow": {
     "slide_type": "fragment"
    }
   },
   "outputs": [
    {
     "data": {
      "text/plain": [
       "dict_keys(['val_loss', 'val_acc', 'loss', 'acc'])"
      ]
     },
     "execution_count": 28,
     "metadata": {},
     "output_type": "execute_result"
    }
   ],
   "source": [
    "history_dict = history.history\n",
    "history_dict.keys()"
   ]
  },
  {
   "cell_type": "markdown",
   "metadata": {
    "colab_type": "text",
    "id": "gwYskvGwVNEE",
    "slideshow": {
     "slide_type": "subslide"
    }
   },
   "source": [
    "The dictionary contains four entries: one per metric that was being monitored during training and during validation. In the following two listing, let’s use Matplotlib to plot the training and validation loss side by side, as well as the training and validation accuracy."
   ]
  },
  {
   "cell_type": "code",
   "execution_count": 33,
   "metadata": {},
   "outputs": [],
   "source": [
    "import matplotlib.pyplot as plt\n",
    "%matplotlib inline"
   ]
  },
  {
   "cell_type": "code",
   "execution_count": 34,
   "metadata": {
    "colab": {},
    "colab_type": "code",
    "id": "KTWRnF1eVNEF",
    "outputId": "5ac9a395-188d-4c72-f710-27b7c0f95f6f",
    "slideshow": {
     "slide_type": "subslide"
    }
   },
   "outputs": [
    {
     "data": {
      "image/png": "[encoded data removed]",
      "text/plain": [
       "<Figure size 432x288 with 1 Axes>"
      ]
     },
     "metadata": {},
     "output_type": "display_data"
    }
   ],
   "source": [
    "history_dict = history.history\n",
    "loss_values = history_dict['loss']\n",
    "val_loss_values = history_dict['val_loss']\n",
    "\n",
    "epochs = range(1, len(history_dict['acc']) + 1)\n",
    "\n",
    "plt.plot(epochs, loss_values, 'bo', label='Training loss')\n",
    "plt.plot(epochs, val_loss_values, 'b', label='Validation loss')\n",
    "plt.title('Training and validation loss')\n",
    "plt.xlabel('Epochs')\n",
    "plt.ylabel('Loss')\n",
    "plt.legend()\n",
    "\n",
    "plt.show()\n"
   ]
  },
  {
   "cell_type": "code",
   "execution_count": 35,
   "metadata": {
    "colab": {},
    "colab_type": "code",
    "id": "2_Q-7ko5VNEI",
    "outputId": "68e87f19-1cd9-4805-d654-1c8b82dda5b6",
    "slideshow": {
     "slide_type": "subslide"
    }
   },
   "outputs": [
    {
     "data": {
      "image/png": "[encoded data removed]",
      "text/plain": [
       "<Figure size 432x288 with 1 Axes>"
      ]
     },
     "metadata": {},
     "output_type": "display_data"
    }
   ],
   "source": [
    "plt.clf()\n",
    "acc_values = history_dict['acc']\n",
    "val_acc_values = history_dict['val_acc']\n",
    "\n",
    "plt.plot(epochs, acc_values, 'bo', label='Training acc')\n",
    "plt.plot(epochs, val_acc_values, 'b', label='Validation acc')\n",
    "plt.title('Training and validation accuracy')\n",
    "plt.xlabel('Epochs')\n",
    "plt.ylabel('Loss')\n",
    "plt.legend()\n",
    "\n",
    "plt.show()\n"
   ]
  },
  {
   "cell_type": "markdown",
   "metadata": {
    "colab_type": "text",
    "id": "kjOe_8V-VNES",
    "slideshow": {
     "slide_type": "subslide"
    }
   },
   "source": [
    "As you can see, the training loss decreases with every epoch, and the training accuracy increases with every epoch. That’s what you would expect when running gradient-descent optimization—the quantity you’re trying to minimize should be less with every iteration. But that isn’t the case for the validation loss and accuracy: they seem to peak at the fourth epoch. \n",
    "\n"
   ]
  },
  {
   "cell_type": "markdown",
   "metadata": {
    "colab_type": "text",
    "id": "_O7qdsD_VNET",
    "slideshow": {
     "slide_type": "fragment"
    }
   },
   "source": [
    "This is an example of what we warned against earlier: a model that performs better on the training data isn’t necessarily a model that will do better on data it has never seen before. In precise terms, what you’re seeing is overfitting: after the second epoch, you’re overoptimizing on the training data, and you end up learning representations that are specific to the training data and don’t generalize to data outside of the training set."
   ]
  },
  {
   "cell_type": "markdown",
   "metadata": {
    "colab_type": "text",
    "id": "Lcf9ec8sVNET",
    "slideshow": {
     "slide_type": "slide"
    }
   },
   "source": [
    "Let’s train a new network from scratch for four epochs`and then evaluate it on the test data.\n",
    "\n"
   ]
  },
  {
   "cell_type": "code",
   "execution_count": 36,
   "metadata": {
    "colab": {},
    "colab_type": "code",
    "id": "Hzhq4XzCVNEV",
    "outputId": "e86c8688-9d00-4646-94f0-3b770372d215",
    "slideshow": {
     "slide_type": "fragment"
    }
   },
   "outputs": [
    {
     "name": "stdout",
     "output_type": "stream",
     "text": [
      "Epoch 1/4\n",
      "25000/25000 [==============================] - 6s 251us/step - loss: 0.4748 - acc: 0.8215\n",
      "Epoch 2/4\n",
      "25000/25000 [==============================] - 5s 197us/step - loss: 0.2670 - acc: 0.9096\n",
      "Epoch 3/4\n",
      "25000/25000 [==============================] - 5s 196us/step - loss: 0.1989 - acc: 0.9288\n",
      "Epoch 4/4\n",
      "25000/25000 [==============================] - 5s 200us/step - loss: 0.1680 - acc: 0.9397\n",
      "25000/25000 [==============================] - 8s 304us/step\n"
     ]
    }
   ],
   "source": [
    "model = models.Sequential()\n",
    "model.add(layers.Dense(16, activation='relu', input_shape=(10000,)))\n",
    "model.add(layers.Dense(16, activation='relu'))\n",
    "model.add(layers.Dense(1, activation='sigmoid'))\n",
    "\n",
    "model.compile(optimizer='rmsprop',\n",
    "              loss='binary_crossentropy',\n",
    "              metrics=['accuracy'])\n",
    "\n",
    "model.fit(x_train, y_train, epochs=4, batch_size=512)\n",
    "results = model.evaluate(x_test, y_test)"
   ]
  },
  {
   "cell_type": "code",
   "execution_count": 37,
   "metadata": {
    "colab": {},
    "colab_type": "code",
    "id": "i8UInNYJVNEY",
    "outputId": "b3ba7099-55cf-45be-ff78-2efee920ccd0",
    "slideshow": {
     "slide_type": "subslide"
    }
   },
   "outputs": [
    {
     "data": {
      "text/plain": [
       "[0.323026871919632, 0.87304]"
      ]
     },
     "execution_count": 37,
     "metadata": {},
     "output_type": "execute_result"
    }
   ],
   "source": [
    "results"
   ]
  },
  {
   "cell_type": "markdown",
   "metadata": {
    "colab_type": "text",
    "id": "wLOy6qi-VNEc",
    "slideshow": {
     "slide_type": "slide"
    }
   },
   "source": [
    "### Using a trained network to generate predictions on new data\n",
    "\n",
    "After having trained a network, you’ll want to use it in a practical setting. You can generate the likelihood of reviews being positive by using the ```predict``` method:"
   ]
  },
  {
   "cell_type": "code",
   "execution_count": 38,
   "metadata": {
    "colab": {},
    "colab_type": "code",
    "id": "07GarCBOVNEd",
    "outputId": "e99bc173-4778-464d-d987-6241a28ad705",
    "slideshow": {
     "slide_type": "fragment"
    }
   },
   "outputs": [
    {
     "data": {
      "text/plain": [
       "array([[0.13864213],\n",
       "       [0.9997187 ],\n",
       "       [0.30075884],\n",
       "       ...,\n",
       "       [0.07540161],\n",
       "       [0.04213535],\n",
       "       [0.47333336]], dtype=float32)"
      ]
     },
     "execution_count": 38,
     "metadata": {},
     "output_type": "execute_result"
    }
   ],
   "source": [
    "model.predict(x_test)"
   ]
  },
  {
   "cell_type": "markdown",
   "metadata": {
    "colab_type": "text",
    "id": "3m94ORa1VNEh",
    "slideshow": {
     "slide_type": "fragment"
    }
   },
   "source": [
    "As you can see, the network is confident for some samples (0.99 or more, or 0.01 or less) but less confident for others (0.6, 0.4)."
   ]
  },
  {
   "cell_type": "markdown",
   "metadata": {
    "colab_type": "text",
    "id": "DpjdgsS6VNEi",
    "slideshow": {
     "slide_type": "slide"
    }
   },
   "source": [
    "### !!!!!!!!! Home Tasks !!!!!!!!!!!\n",
    "\n",
    "\n",
    "The following experiments will help convince you that the architecture choices you’ve made are all fairly reasonable, although there’s still room for improvement:\n",
    "\n",
    "* You used two hidden layers. Try using one or three hidden layers, and see how doing so affects validation and test accuracy.\n",
    "* Try using layers with more hidden units or fewer hidden units: 32 units, 64 units, and so on.\n",
    "* Try using the ```mse``` loss function instead of ```binary_crossentropy```.\n",
    "* Try using the ```tanh``` activation (an activation that was popular in the early days of neural networks) instead of relu."
   ]
  },
  {
   "cell_type": "code",
   "execution_count": 40,
   "metadata": {},
   "outputs": [
    {
     "name": "stdout",
     "output_type": "stream",
     "text": [
      "Epoch 1/4\n",
      "25000/25000 [==============================] - 5s 214us/step - loss: 0.4598 - acc: 0.8118\n",
      "Epoch 2/4\n",
      "25000/25000 [==============================] - 5s 197us/step - loss: 0.2533 - acc: 0.9102\n",
      "Epoch 3/4\n",
      "25000/25000 [==============================] - 5s 197us/step - loss: 0.1965 - acc: 0.9281\n",
      "Epoch 4/4\n",
      "25000/25000 [==============================] - 5s 198us/step - loss: 0.1645 - acc: 0.9396\n",
      "25000/25000 [==============================] - 5s 208us/step\n"
     ]
    }
   ],
   "source": [
    "#You used two hidden layers. Try using one or three hidden layers, and see how doing so affects validation and test accuracy.\n",
    "\n",
    "\n",
    "model = models.Sequential()\n",
    "model.add(layers.Dense(16, activation='relu', input_shape=(10000,)))\n",
    "model.add(layers.Dense(16, activation='relu'))\n",
    "model.add(layers.Dense(16, activation='relu'))\n",
    "model.add(layers.Dense(16, activation='relu'))\n",
    "model.add(layers.Dense(1, activation='sigmoid'))\n",
    "\n",
    "model.compile(optimizer='rmsprop',\n",
    "              loss='binary_crossentropy',\n",
    "              metrics=['accuracy'])\n",
    "\n",
    "model.fit(x_train, y_train, epochs=4, batch_size=512)\n",
    "results = model.evaluate(x_test, y_test)\n"
   ]
  },
  {
   "cell_type": "code",
   "execution_count": 41,
   "metadata": {},
   "outputs": [
    {
     "data": {
      "text/plain": [
       "[0.3374016036748886, 0.87132]"
      ]
     },
     "execution_count": 41,
     "metadata": {},
     "output_type": "execute_result"
    }
   ],
   "source": [
    "results"
   ]
  },
  {
   "cell_type": "markdown",
   "metadata": {},
   "source": [
    "### В данном случае  loss увеличился на 1 сотую, поэтому лучше оставить 1 хиддэн лэйер."
   ]
  },
  {
   "cell_type": "code",
   "execution_count": 43,
   "metadata": {},
   "outputs": [
    {
     "name": "stdout",
     "output_type": "stream",
     "text": [
      "Epoch 1/4\n",
      "25000/25000 [==============================] - 6s 237us/step - loss: 0.4429 - acc: 0.8149\n",
      "Epoch 2/4\n",
      "25000/25000 [==============================] - 5s 216us/step - loss: 0.2490 - acc: 0.9105\n",
      "Epoch 3/4\n",
      "25000/25000 [==============================] - 5s 215us/step - loss: 0.1915 - acc: 0.9305\n",
      "Epoch 4/4\n",
      "25000/25000 [==============================] - 5s 214us/step - loss: 0.1609 - acc: 0.9415\n",
      "25000/25000 [==============================] - 6s 235us/step\n"
     ]
    },
    {
     "data": {
      "text/plain": [
       "[0.3479495885372162, 0.86656]"
      ]
     },
     "execution_count": 43,
     "metadata": {},
     "output_type": "execute_result"
    }
   ],
   "source": [
    "#Try using layers with more hidden units or fewer hidden units: 32 units, 64 units, and so on.\n",
    "\n",
    "model = models.Sequential()\n",
    "model.add(layers.Dense(32, activation='relu', input_shape=(10000,)))\n",
    "model.add(layers.Dense(32, activation='relu'))\n",
    "model.add(layers.Dense(1, activation='sigmoid'))\n",
    "\n",
    "model.compile(optimizer='rmsprop',\n",
    "              loss='binary_crossentropy',\n",
    "              metrics=['accuracy'])\n",
    "\n",
    "model.fit(x_train, y_train, epochs=4, batch_size=512)\n",
    "results = model.evaluate(x_test, y_test)\n",
    "\n",
    "results\n",
    "\n"
   ]
  },
  {
   "cell_type": "code",
   "execution_count": 44,
   "metadata": {},
   "outputs": [
    {
     "name": "stdout",
     "output_type": "stream",
     "text": [
      "Epoch 1/4\n",
      "25000/25000 [==============================] - 6s 222us/step - loss: 0.4434 - acc: 0.8308\n",
      "Epoch 2/4\n",
      "25000/25000 [==============================] - 5s 200us/step - loss: 0.2406 - acc: 0.9130\n",
      "Epoch 3/4\n",
      "25000/25000 [==============================] - 5s 202us/step - loss: 0.1882 - acc: 0.9293\n",
      "Epoch 4/4\n",
      "25000/25000 [==============================] - 5s 202us/step - loss: 0.1583 - acc: 0.9424\n",
      "25000/25000 [==============================] - 5s 211us/step\n"
     ]
    }
   ],
   "source": [
    "model = models.Sequential()\n",
    "model.add(layers.Dense(16, activation='relu', input_shape=(10000,)))\n",
    "model.add(layers.Dense(64, activation='relu'))\n",
    "model.add(layers.Dense(1, activation='sigmoid'))\n",
    "\n",
    "model.compile(optimizer='rmsprop',\n",
    "              loss='binary_crossentropy',\n",
    "              metrics=['accuracy'])\n",
    "\n",
    "model.fit(x_train, y_train, epochs=4, batch_size=512)\n",
    "results = model.evaluate(x_test, y_test)"
   ]
  },
  {
   "cell_type": "code",
   "execution_count": 45,
   "metadata": {},
   "outputs": [
    {
     "data": {
      "text/plain": [
       "[0.3069522474861145, 0.88104]"
      ]
     },
     "execution_count": 45,
     "metadata": {},
     "output_type": "execute_result"
    }
   ],
   "source": [
    "results "
   ]
  },
  {
   "cell_type": "code",
   "execution_count": 46,
   "metadata": {},
   "outputs": [
    {
     "name": "stdout",
     "output_type": "stream",
     "text": [
      "Epoch 1/4\n",
      "25000/25000 [==============================] - 7s 267us/step - loss: 0.4234 - acc: 0.8174\n",
      "Epoch 2/4\n",
      "25000/25000 [==============================] - 6s 231us/step - loss: 0.2429 - acc: 0.9083\n",
      "Epoch 3/4\n",
      "25000/25000 [==============================] - 6s 224us/step - loss: 0.1881 - acc: 0.9300\n",
      "Epoch 4/4\n",
      "25000/25000 [==============================] - 5s 218us/step - loss: 0.1557 - acc: 0.9433\n",
      "25000/25000 [==============================] - 6s 238us/step\n"
     ]
    }
   ],
   "source": [
    "model = models.Sequential()\n",
    "model.add(layers.Dense(32, activation='relu', input_shape=(10000,)))\n",
    "model.add(layers.Dense(64, activation='relu'))\n",
    "model.add(layers.Dense(1, activation='sigmoid'))\n",
    "\n",
    "model.compile(optimizer='rmsprop',\n",
    "              loss='binary_crossentropy',\n",
    "              metrics=['accuracy'])\n",
    "\n",
    "model.fit(x_train, y_train, epochs=4, batch_size=512)\n",
    "results = model.evaluate(x_test, y_test)"
   ]
  },
  {
   "cell_type": "code",
   "execution_count": 47,
   "metadata": {},
   "outputs": [
    {
     "data": {
      "text/plain": [
       "[0.31982400312900544, 0.87848]"
      ]
     },
     "execution_count": 47,
     "metadata": {},
     "output_type": "execute_result"
    }
   ],
   "source": [
    "results "
   ]
  },
  {
   "cell_type": "markdown",
   "metadata": {},
   "source": [
    "### Самый лучший результат [0.3069522474861145, 0.88104] получился для одного хиддэн слоя с 65 хиддэн юнитс и первый слой с 16 хиддэн юнитс"
   ]
  },
  {
   "cell_type": "code",
   "execution_count": 49,
   "metadata": {},
   "outputs": [
    {
     "name": "stdout",
     "output_type": "stream",
     "text": [
      "Epoch 1/4\n",
      "25000/25000 [==============================] - 6s 257us/step - loss: 0.1511 - acc: 0.8159\n",
      "Epoch 2/4\n",
      "25000/25000 [==============================] - 5s 199us/step - loss: 0.0752 - acc: 0.9101\n",
      "Epoch 3/4\n",
      "25000/25000 [==============================] - 5s 196us/step - loss: 0.0556 - acc: 0.9316\n",
      "Epoch 4/4\n",
      "25000/25000 [==============================] - 5s 199us/step - loss: 0.0447 - acc: 0.9472\n",
      "25000/25000 [==============================] - 5s 212us/step\n"
     ]
    }
   ],
   "source": [
    "#Try using the mse loss function instead of binary_crossentropy.\n",
    "\n",
    "\n",
    "model = models.Sequential()\n",
    "model.add(layers.Dense(16, activation='relu', input_shape=(10000,)))\n",
    "model.add(layers.Dense(64, activation='relu'))\n",
    "model.add(layers.Dense(1, activation='sigmoid'))\n",
    "\n",
    "model.compile(optimizer='rmsprop',\n",
    "              loss='mse',\n",
    "              metrics=['accuracy'])\n",
    "\n",
    "model.fit(x_train, y_train, epochs=4, batch_size=512)\n",
    "results = model.evaluate(x_test, y_test)"
   ]
  },
  {
   "cell_type": "code",
   "execution_count": 50,
   "metadata": {},
   "outputs": [
    {
     "data": {
      "text/plain": [
       "[0.08833851920366287, 0.87996]"
      ]
     },
     "execution_count": 50,
     "metadata": {},
     "output_type": "execute_result"
    }
   ],
   "source": [
    "results"
   ]
  },
  {
   "cell_type": "markdown",
   "metadata": {},
   "source": [
    "### Ви хэв вэри литтл лосс, бат стилл биг эккьюраси, which is good, but it can be connected with MSE respresentation and the way how it counts loss"
   ]
  },
  {
   "cell_type": "code",
   "execution_count": 52,
   "metadata": {},
   "outputs": [
    {
     "name": "stdout",
     "output_type": "stream",
     "text": [
      "Epoch 1/4\n",
      "25000/25000 [==============================] - 6s 236us/step - loss: 0.4027 - acc: 0.8314\n",
      "Epoch 2/4\n",
      "25000/25000 [==============================] - 6s 236us/step - loss: 0.2187 - acc: 0.9154\n",
      "Epoch 3/4\n",
      "25000/25000 [==============================] - 6s 243us/step - loss: 0.1708 - acc: 0.9367\n",
      "Epoch 4/4\n",
      "25000/25000 [==============================] - 5s 208us/step - loss: 0.1499 - acc: 0.9440\n",
      "25000/25000 [==============================] - 5s 197us/step\n"
     ]
    },
    {
     "data": {
      "text/plain": [
       "[0.3363238091373444, 0.87524]"
      ]
     },
     "execution_count": 52,
     "metadata": {},
     "output_type": "execute_result"
    }
   ],
   "source": [
    "#Try using the tanh activation (an activation that was popular in the early days of neural networks) instead of relu.\n",
    "\n",
    "\n",
    "model = models.Sequential()\n",
    "model.add(layers.Dense(16, activation='tanh', input_shape=(10000,)))\n",
    "model.add(layers.Dense(64, activation='tanh'))\n",
    "model.add(layers.Dense(1, activation='sigmoid'))\n",
    "\n",
    "model.compile(optimizer='rmsprop',\n",
    "              loss='binary_crossentropy',\n",
    "              metrics=['accuracy'])\n",
    "\n",
    "model.fit(x_train, y_train, epochs=4, batch_size=512)\n",
    "results = model.evaluate(x_test, y_test)\n",
    "\n",
    "results"
   ]
  },
  {
   "cell_type": "code",
   "execution_count": 53,
   "metadata": {},
   "outputs": [
    {
     "name": "stdout",
     "output_type": "stream",
     "text": [
      "Epoch 1/4\n",
      "25000/25000 [==============================] - 6s 229us/step - loss: 0.1310 - acc: 0.8228\n",
      "Epoch 2/4\n",
      "25000/25000 [==============================] - 5s 216us/step - loss: 0.0649 - acc: 0.9157\n",
      "Epoch 3/4\n",
      "25000/25000 [==============================] - 5s 193us/step - loss: 0.0498 - acc: 0.9372\n",
      "Epoch 4/4\n",
      "25000/25000 [==============================] - 5s 194us/step - loss: 0.0425 - acc: 0.9468\n",
      "25000/25000 [==============================] - 6s 230us/step\n"
     ]
    },
    {
     "data": {
      "text/plain": [
       "[0.09677285987064242, 0.87468]"
      ]
     },
     "execution_count": 53,
     "metadata": {},
     "output_type": "execute_result"
    }
   ],
   "source": [
    "model = models.Sequential()\n",
    "model.add(layers.Dense(16, activation='tanh', input_shape=(10000,)))\n",
    "model.add(layers.Dense(64, activation='tanh'))\n",
    "model.add(layers.Dense(1, activation='sigmoid'))\n",
    "\n",
    "model.compile(optimizer='rmsprop',\n",
    "              loss='mse',\n",
    "              metrics=['accuracy'])\n",
    "\n",
    "model.fit(x_train, y_train, epochs=4, batch_size=512)\n",
    "results = model.evaluate(x_test, y_test)\n",
    "\n",
    "results"
   ]
  },
  {
   "cell_type": "markdown",
   "metadata": {},
   "source": [
    "### With the tahn activation results are worse \n",
    "### relu: [0.31982400312900544, 0.87848]\n",
    "### tahn:  [0.3363238091373444, 0.87524]"
   ]
  },
  {
   "cell_type": "markdown",
   "metadata": {
    "colab_type": "text",
    "id": "HYW-OcjYVNEi",
    "slideshow": {
     "slide_type": "slide"
    }
   },
   "source": [
    "### Wrapping Up\n",
    "\n",
    "* You usually need to do quite a bit of preprocessing on your raw data in order to be able to feed it—as tensors—into a neural network. Sequences of words can be encoded as binary vectors, but there are other encoding options, too."
   ]
  },
  {
   "cell_type": "markdown",
   "metadata": {
    "colab_type": "text",
    "id": "LpPhW9BZVNEj",
    "slideshow": {
     "slide_type": "fragment"
    }
   },
   "source": [
    "* Stacks of ```Dense``` layers with ```relu``` activations can solve a wide range of problems (including sentiment classification), and you’ll likely use them frequently.\n"
   ]
  },
  {
   "cell_type": "markdown",
   "metadata": {
    "colab_type": "text",
    "id": "IifOG3PmVNEm",
    "slideshow": {
     "slide_type": "fragment"
    }
   },
   "source": [
    "* In a binary classification problem (two output classes), your network should end with a ```Dense``` layer with one unit and a ```sigmoid``` activation: the output of your network should be a scalar between 0 and 1, encoding a probability."
   ]
  },
  {
   "cell_type": "markdown",
   "metadata": {
    "colab_type": "text",
    "id": "JG5HxwasVNEn",
    "slideshow": {
     "slide_type": "fragment"
    }
   },
   "source": [
    "* With such a scalar sigmoid output on a binary classification problem, the loss function you should use is ```binary_crossentropy```.\n"
   ]
  },
  {
   "cell_type": "markdown",
   "metadata": {
    "colab_type": "text",
    "id": "IKrXzf_VVNEn",
    "slideshow": {
     "slide_type": "fragment"
    }
   },
   "source": [
    "* The ```rmsprop``` optimizer is generally a good enough choice, whatever your problem. That’s one less thing for you to worry about.\n"
   ]
  },
  {
   "cell_type": "markdown",
   "metadata": {
    "colab_type": "text",
    "id": "IXN5J2BBVNEo",
    "slideshow": {
     "slide_type": "fragment"
    }
   },
   "source": [
    "* As they get better on their training data, neural networks eventually start overfitting and end up obtaining increasingly worse results on data they’ve never seen before. Be sure to always monitor performance on data that is outside of the training set.\n"
   ]
  },
  {
   "cell_type": "markdown",
   "metadata": {
    "colab_type": "text",
    "id": "UwbRQ95OVNEp",
    "slideshow": {
     "slide_type": "slide"
    }
   },
   "source": [
    "## Classifying newswires: a multiclass classification example\n",
    "\n",
    "What happens when you have more than two classes?\n",
    "\n",
    "Now, we’ll build a network to classify *Reuters newswires* into 46 mutually exclusive topics. Because you have many classes, this problem is an instance of **multiclass classification**; and because each data point should be classified into only one category, the problem is more specifically an instance of **single-label, multiclass classification**. If each data point could belong to multiple categories (in this case, topics), you’d be facing a **multilabel**, **multiclass classification** problem."
   ]
  },
  {
   "cell_type": "markdown",
   "metadata": {
    "colab_type": "text",
    "id": "O2LU1K56VNEp",
    "slideshow": {
     "slide_type": "slide"
    }
   },
   "source": [
    "### The Reuters dataset\n",
    "\n",
    "You’ll work with the Reuters dataset, a set of short newswires and their topics, published by Reuters in 1986. It’s a simple, widely used toy dataset for text classification. There are 46 different topics; some topics are more represented than others, but each topic has at least 10 examples in the training set.\n",
    "\n",
    "Like IMDB and MNIST, the Reuters dataset comes packaged as part of Keras. Let’s take a look.\n",
    "\n"
   ]
  },
  {
   "cell_type": "code",
   "execution_count": 55,
   "metadata": {
    "colab": {},
    "colab_type": "code",
    "id": "xbo7GK_bVNEr",
    "outputId": "aeee09ad-680b-470b-c7ff-938c1af2d010",
    "slideshow": {
     "slide_type": "fragment"
    }
   },
   "outputs": [
    {
     "name": "stdout",
     "output_type": "stream",
     "text": [
      "Downloading data from https://s3.amazonaws.com/text-datasets/reuters.npz\n",
      "2113536/2110848 [==============================] - 2s 1us/step\n"
     ]
    }
   ],
   "source": [
    "from keras.datasets import reuters\n",
    "\n",
    "(train_data, train_labels), (test_data, test_labels) = reuters.load_data(\n",
    "    num_words=10000)"
   ]
  },
  {
   "cell_type": "markdown",
   "metadata": {
    "colab_type": "text",
    "id": "jJIIyiZtVNEt",
    "slideshow": {
     "slide_type": "subslide"
    }
   },
   "source": [
    "As with the IMDB dataset, the argument num_words=10000 restricts the data to the 10,000 most frequently occurring words found in the data.\n",
    "\n",
    "You have 8,982 training examples and 2,246 test examples:"
   ]
  },
  {
   "cell_type": "code",
   "execution_count": 56,
   "metadata": {
    "colab": {},
    "colab_type": "code",
    "id": "BZ04Xa6BVNEv",
    "outputId": "4af7acd1-1b88-46a0-b8c6-6124ca6486f0",
    "slideshow": {
     "slide_type": "fragment"
    }
   },
   "outputs": [
    {
     "name": "stdout",
     "output_type": "stream",
     "text": [
      "Training examples: 8982\n",
      "Test examples: 2246\n"
     ]
    }
   ],
   "source": [
    "print(\"Training examples: {}\".format(len(train_data)))\n",
    "print(\"Test examples: {}\".format(len(test_data)))"
   ]
  },
  {
   "cell_type": "markdown",
   "metadata": {
    "colab_type": "text",
    "id": "_jsFfFVrVNEx",
    "slideshow": {
     "slide_type": "subslide"
    }
   },
   "source": [
    "As with the IMDB reviews, each example is a list of integers (word indices):"
   ]
  },
  {
   "cell_type": "code",
   "execution_count": 57,
   "metadata": {
    "colab": {},
    "colab_type": "code",
    "id": "ag85QQr3VNEy",
    "outputId": "85904ad8-020d-434b-9483-27362e57a72a",
    "slideshow": {
     "slide_type": "fragment"
    }
   },
   "outputs": [
    {
     "name": "stdout",
     "output_type": "stream",
     "text": [
      "[1, 245, 273, 207, 156, 53, 74, 160, 26, 14, 46, 296, 26, 39, 74, 2979, 3554, 14, 46, 4689, 4329, 86, 61, 3499, 4795, 14, 61, 451, 4329, 17, 12]\n"
     ]
    }
   ],
   "source": [
    "print(train_data[10])"
   ]
  },
  {
   "cell_type": "markdown",
   "metadata": {
    "colab_type": "text",
    "id": "55M6O56VVNE0",
    "slideshow": {
     "slide_type": "fragment"
    }
   },
   "source": [
    "Here’s how you can decode it back to words, in case you’re curious."
   ]
  },
  {
   "cell_type": "code",
   "execution_count": 58,
   "metadata": {
    "colab": {},
    "colab_type": "code",
    "id": "96_oqKVmVNE1",
    "outputId": "2f7c6875-0a02-49e8-9698-9f78ba8739fa",
    "slideshow": {
     "slide_type": "fragment"
    }
   },
   "outputs": [
    {
     "name": "stdout",
     "output_type": "stream",
     "text": [
      "Downloading data from https://s3.amazonaws.com/text-datasets/reuters_word_index.json\n",
      "557056/550378 [==============================] - 2s 3us/step\n"
     ]
    },
    {
     "data": {
      "text/plain": [
       "'? ? ? said as a result of its december acquisition of space co it expects earnings per share in 1987 of 1 15 to 1 30 dlrs per share up from 70 cts in 1986 the company said pretax net should rise to nine to 10 mln dlrs from six mln dlrs in 1986 and rental operation revenues to 19 to 22 mln dlrs from 12 5 mln dlrs it said cash flow per share this year should be 2 50 to three dlrs reuter 3'"
      ]
     },
     "execution_count": 58,
     "metadata": {},
     "output_type": "execute_result"
    }
   ],
   "source": [
    "word_index = reuters.get_word_index()\n",
    "reverse_word_index = dict([(value, key) for (key, value) in word_index.items()])\n",
    "decoded_newswire = ' '.join([reverse_word_index.get(i - 3, '?') for i in\n",
    "    train_data[0]])\n",
    "decoded_newswire\n"
   ]
  },
  {
   "cell_type": "markdown",
   "metadata": {
    "colab_type": "text",
    "id": "UzN4ql05VNE3",
    "slideshow": {
     "slide_type": "fragment"
    }
   },
   "source": [
    "The label associated with an example is an integer between 0 and 45—a topic index:"
   ]
  },
  {
   "cell_type": "code",
   "execution_count": 59,
   "metadata": {
    "colab": {},
    "colab_type": "code",
    "id": "h2cYUBztVNE4",
    "outputId": "0bafdc38-9d1d-4953-f9bc-c4a11dfdca05",
    "slideshow": {
     "slide_type": "fragment"
    }
   },
   "outputs": [
    {
     "data": {
      "text/plain": [
       "3"
      ]
     },
     "execution_count": 59,
     "metadata": {},
     "output_type": "execute_result"
    }
   ],
   "source": [
    "train_labels[10]"
   ]
  },
  {
   "cell_type": "markdown",
   "metadata": {
    "colab_type": "text",
    "id": "x3HtOySJVNE6",
    "slideshow": {
     "slide_type": "slide"
    }
   },
   "source": [
    "### Preparing the data\n",
    "\n",
    "You can vectorize the data with the exact same code as in the previous example."
   ]
  },
  {
   "cell_type": "code",
   "execution_count": 60,
   "metadata": {
    "colab": {},
    "colab_type": "code",
    "id": "gSmC2IbQVNE7",
    "slideshow": {
     "slide_type": "fragment"
    }
   },
   "outputs": [],
   "source": [
    "import numpy as np\n",
    "\n",
    "def vectorize_sequences(sequences, dimension=10000):\n",
    "    results = np.zeros((len(sequences), dimension))\n",
    "    for i, sequence in enumerate(sequences):\n",
    "        results[i, sequence] = 1.\n",
    "    return results\n",
    "\n",
    "x_train = vectorize_sequences(train_data)\n",
    "x_test = vectorize_sequences(test_data)\n"
   ]
  },
  {
   "cell_type": "markdown",
   "metadata": {
    "colab_type": "text",
    "id": "DIj7BlUTVNFB",
    "slideshow": {
     "slide_type": "subslide"
    }
   },
   "source": [
    "To vectorize the labels, there are two possibilities: you can cast the label list as an integer tensor, or you can use one-hot encoding. One-hot encoding is a widely used format for categorical data, also called **categorical encoding**.\n",
    "\n",
    "In our case, one-hot encoding of the labels consists of embedding each label as an all-zero vector with a 1 in the place of the label index. Here’s an example:"
   ]
  },
  {
   "cell_type": "code",
   "execution_count": 61,
   "metadata": {
    "colab": {},
    "colab_type": "code",
    "id": "C32RSozpVNFC",
    "slideshow": {
     "slide_type": "fragment"
    }
   },
   "outputs": [],
   "source": [
    "def to_one_hot(labels, dimension=46):\n",
    "    results = np.zeros((len(labels), dimension))\n",
    "    for i, label in enumerate(labels):\n",
    "        results[i, label] = 1.\n",
    "    return results\n",
    "\n",
    "one_hot_train_labels = to_one_hot(train_labels)\n",
    "one_hot_test_labels = to_one_hot(test_labels)\n"
   ]
  },
  {
   "cell_type": "markdown",
   "metadata": {
    "colab_type": "text",
    "id": "GjCYTvDsVNFF",
    "slideshow": {
     "slide_type": "fragment"
    }
   },
   "source": [
    "Note that there is a built-in way to do this in Keras, which you’ve already seen in action in the MNIST example:"
   ]
  },
  {
   "cell_type": "code",
   "execution_count": 62,
   "metadata": {
    "colab": {},
    "colab_type": "code",
    "id": "wblPwb9GVNFF",
    "slideshow": {
     "slide_type": "fragment"
    }
   },
   "outputs": [],
   "source": [
    "from keras.utils.np_utils import to_categorical\n",
    "\n",
    "one_hot_train_labels = to_categorical(train_labels)\n",
    "one_hot_test_labels = to_categorical(test_labels)"
   ]
  },
  {
   "cell_type": "markdown",
   "metadata": {
    "colab_type": "text",
    "id": "m4q9EtZ-VNFI",
    "slideshow": {
     "slide_type": "slide"
    }
   },
   "source": [
    "### Building your network\n",
    "\n",
    "This topic-classification problem looks similar to the previous movie-review classification problem: in both cases, you’re trying to classify short snippets of text. But there is a new constraint here: the number of output classes has gone from 2 to 46. The dimensionality of the output space is much larger.\n",
    "\n"
   ]
  },
  {
   "cell_type": "markdown",
   "metadata": {
    "colab_type": "text",
    "id": "GNCNVKhnVNFK",
    "slideshow": {
     "slide_type": "subslide"
    }
   },
   "source": [
    "In a stack of ```Dense``` layers like that you’ve been using, each layer can only access information present in the output of the previous layer. If one layer drops some information relevant to the classification problem, this information can never be recovered by later layers: each layer can potentially become an information bottleneck. In the previous example, you used 16-dimensional intermediate layers, but a 16-dimensional space may be too limited to learn to separate 46 different classes: such small layers may act as information bottlenecks, permanently dropping relevant information.\n",
    "\n",
    "For this reason you’ll use larger layers. Let’s go with 64 units."
   ]
  },
  {
   "cell_type": "code",
   "execution_count": 63,
   "metadata": {
    "colab": {},
    "colab_type": "code",
    "id": "D6l81vNZVNFK",
    "slideshow": {
     "slide_type": "fragment"
    }
   },
   "outputs": [],
   "source": [
    "from keras import models\n",
    "from keras import layers\n",
    "\n",
    "model = models.Sequential()\n",
    "model.add(layers.Dense(64, activation='relu', input_shape=(10000,)))\n",
    "model.add(layers.Dense(64, activation='relu'))\n",
    "model.add(layers.Dense(46, activation='softmax'))"
   ]
  },
  {
   "cell_type": "markdown",
   "metadata": {
    "colab_type": "text",
    "id": "MZbC3rNgVNFP",
    "slideshow": {
     "slide_type": "subslide"
    }
   },
   "source": [
    "There are two other things you should note about this architecture:\n",
    "\n",
    "* You end the network with a ```Dense``` layer of size 46. This means for each input sample, the network will output a 46-dimensional vector. Each entry in this vector (each dimension) will encode a different output class.\n",
    "* The last layer uses a ```softmax``` activation. You saw this pattern in the MNIST example. It means the network will output a **probability distribution** over the 46 different output classes—for every input sample, the network will produce a 46-dimensional output vector, where ```output[i]``` is the probability that the sample belongs to class ```i```. The 46 scores will sum to 1.\n",
    "\n",
    "The best loss function to use in this case is ```categorical_crossentropy```. It measures the distance between two probability distributions: here, between the probability distribution output by the network and the true distribution of the labels. By minimizing the distance between these two distributions, you train the network to output something as close as possible to the true labels.\n",
    "\n"
   ]
  },
  {
   "cell_type": "code",
   "execution_count": 64,
   "metadata": {
    "colab": {},
    "colab_type": "code",
    "id": "ybW-gluhVNFQ",
    "slideshow": {
     "slide_type": "fragment"
    }
   },
   "outputs": [],
   "source": [
    "model.compile(optimizer='rmsprop',\n",
    "              loss='categorical_crossentropy',\n",
    "              metrics=['accuracy'])"
   ]
  },
  {
   "cell_type": "markdown",
   "metadata": {
    "colab_type": "text",
    "id": "YF9Uw5S3VNFS",
    "slideshow": {
     "slide_type": "slide"
    }
   },
   "source": [
    "### Validating your approach\n",
    "\n",
    "Let’s set apart 1,000 samples in the training data to use as a validation set.\n",
    "\n"
   ]
  },
  {
   "cell_type": "code",
   "execution_count": 65,
   "metadata": {
    "colab": {},
    "colab_type": "code",
    "id": "zqV7ztSrVNFT",
    "slideshow": {
     "slide_type": "fragment"
    }
   },
   "outputs": [],
   "source": [
    "x_val = x_train[:1000]\n",
    "partial_x_train = x_train[1000:]\n",
    "\n",
    "y_val = one_hot_train_labels[:1000]\n",
    "partial_y_train = one_hot_train_labels[1000:]"
   ]
  },
  {
   "cell_type": "markdown",
   "metadata": {
    "colab_type": "text",
    "id": "IrL99_xzVNFW",
    "slideshow": {
     "slide_type": "fragment"
    }
   },
   "source": [
    "Now, let’s train the network for 20 epochs.\n",
    "\n"
   ]
  },
  {
   "cell_type": "code",
   "execution_count": 66,
   "metadata": {
    "colab": {},
    "colab_type": "code",
    "id": "5ZE9ZsMeVNFX",
    "outputId": "6efb45ee-cf3a-4891-ee18-dce50c9b2229",
    "slideshow": {
     "slide_type": "fragment"
    }
   },
   "outputs": [
    {
     "name": "stdout",
     "output_type": "stream",
     "text": [
      "Train on 7982 samples, validate on 1000 samples\n",
      "Epoch 1/20\n",
      "7982/7982 [==============================] - 4s 499us/step - loss: 2.5241 - acc: 0.4977 - val_loss: 1.7183 - val_acc: 0.6120\n",
      "Epoch 2/20\n",
      "7982/7982 [==============================] - 2s 295us/step - loss: 1.4443 - acc: 0.6889 - val_loss: 1.3496 - val_acc: 0.7090\n",
      "Epoch 3/20\n",
      "7982/7982 [==============================] - 2s 306us/step - loss: 1.0993 - acc: 0.7641 - val_loss: 1.1745 - val_acc: 0.7430\n",
      "Epoch 4/20\n",
      "7982/7982 [==============================] - 2s 294us/step - loss: 0.8729 - acc: 0.8157 - val_loss: 1.0842 - val_acc: 0.7580\n",
      "Epoch 5/20\n",
      "7982/7982 [==============================] - 2s 290us/step - loss: 0.7061 - acc: 0.8492 - val_loss: 0.9869 - val_acc: 0.7830\n",
      "Epoch 6/20\n",
      "7982/7982 [==============================] - 2s 275us/step - loss: 0.5696 - acc: 0.8790 - val_loss: 0.9418 - val_acc: 0.8040\n",
      "Epoch 7/20\n",
      "7982/7982 [==============================] - 2s 283us/step - loss: 0.4626 - acc: 0.9034 - val_loss: 0.9092 - val_acc: 0.8030\n",
      "Epoch 8/20\n",
      "7982/7982 [==============================] - 2s 271us/step - loss: 0.3728 - acc: 0.9221 - val_loss: 0.9330 - val_acc: 0.7910\n",
      "Epoch 9/20\n",
      "7982/7982 [==============================] - 2s 293us/step - loss: 0.3052 - acc: 0.9315 - val_loss: 0.8901 - val_acc: 0.8060\n",
      "Epoch 10/20\n",
      "7982/7982 [==============================] - 2s 295us/step - loss: 0.2547 - acc: 0.9415 - val_loss: 0.9053 - val_acc: 0.8140\n",
      "Epoch 11/20\n",
      "7982/7982 [==============================] - 2s 287us/step - loss: 0.2191 - acc: 0.9473 - val_loss: 0.9172 - val_acc: 0.8110\n",
      "Epoch 12/20\n",
      "7982/7982 [==============================] - 2s 275us/step - loss: 0.1877 - acc: 0.9513 - val_loss: 0.9061 - val_acc: 0.8130\n",
      "Epoch 13/20\n",
      "7982/7982 [==============================] - 2s 274us/step - loss: 0.1704 - acc: 0.9523 - val_loss: 0.9317 - val_acc: 0.8090\n",
      "Epoch 14/20\n",
      "7982/7982 [==============================] - 2s 289us/step - loss: 0.1534 - acc: 0.9555 - val_loss: 0.9633 - val_acc: 0.8050\n",
      "Epoch 15/20\n",
      "7982/7982 [==============================] - 2s 277us/step - loss: 0.1393 - acc: 0.9562 - val_loss: 0.9672 - val_acc: 0.8130\n",
      "Epoch 16/20\n",
      "7982/7982 [==============================] - 2s 279us/step - loss: 0.1315 - acc: 0.9559 - val_loss: 1.0246 - val_acc: 0.8030\n",
      "Epoch 17/20\n",
      "7982/7982 [==============================] - 2s 281us/step - loss: 0.1221 - acc: 0.9575 - val_loss: 1.0278 - val_acc: 0.7990\n",
      "Epoch 18/20\n",
      "7982/7982 [==============================] - 2s 274us/step - loss: 0.1199 - acc: 0.9570 - val_loss: 1.0403 - val_acc: 0.8040\n",
      "Epoch 19/20\n",
      "7982/7982 [==============================] - 2s 276us/step - loss: 0.1140 - acc: 0.9593 - val_loss: 1.0962 - val_acc: 0.7940\n",
      "Epoch 20/20\n",
      "7982/7982 [==============================] - 2s 300us/step - loss: 0.1113 - acc: 0.9595 - val_loss: 1.0677 - val_acc: 0.7980\n"
     ]
    }
   ],
   "source": [
    "history = model.fit(partial_x_train,\n",
    "                    partial_y_train,\n",
    "                    epochs=20,\n",
    "                    batch_size=512,\n",
    "                    validation_data=(x_val, y_val)\n",
    "                   )"
   ]
  },
  {
   "cell_type": "markdown",
   "metadata": {
    "colab_type": "text",
    "id": "kVnWojTbVNFb",
    "slideshow": {
     "slide_type": "subslide"
    }
   },
   "source": [
    "And finally, let’s display its loss and accuracy curves."
   ]
  },
  {
   "cell_type": "code",
   "execution_count": 67,
   "metadata": {
    "colab": {},
    "colab_type": "code",
    "id": "J97BZfHsVNFb",
    "outputId": "cd433677-d8a1-439b-a315-f09f8c7ea68a",
    "slideshow": {
     "slide_type": "subslide"
    }
   },
   "outputs": [
    {
     "data": {
      "image/png": "[encoded data removed]",
      "text/plain": [
       "<Figure size 432x288 with 1 Axes>"
      ]
     },
     "metadata": {},
     "output_type": "display_data"
    }
   ],
   "source": [
    "import matplotlib.pyplot as plt\n",
    "\n",
    "loss = history.history['loss']\n",
    "val_loss = history.history['val_loss']\n",
    "\n",
    "epochs = range(1, len(loss) + 1)\n",
    "\n",
    "plt.plot(epochs, loss, 'bo', label='Training loss')\n",
    "plt.plot(epochs, val_loss, 'b', label='Validation loss')\n",
    "plt.title('Training and validation loss')\n",
    "plt.xlabel('Epochs')\n",
    "plt.ylabel('Loss')\n",
    "plt.legend()\n",
    "\n",
    "plt.show()"
   ]
  },
  {
   "cell_type": "code",
   "execution_count": 68,
   "metadata": {
    "colab": {},
    "colab_type": "code",
    "id": "luvMjnbRVNFh",
    "outputId": "24d66a53-d1be-4fe9-f576-b7abf7c7b7b0",
    "slideshow": {
     "slide_type": "subslide"
    }
   },
   "outputs": [
    {
     "data": {
      "image/png": "[encoded data removed]",
      "text/plain": [
       "<Figure size 432x288 with 1 Axes>"
      ]
     },
     "metadata": {},
     "output_type": "display_data"
    }
   ],
   "source": [
    "plt.clf()\n",
    "\n",
    "acc = history.history['acc']\n",
    "val_acc = history.history['val_acc']\n",
    "\n",
    "plt.plot(epochs, acc, 'bo', label='Training acc')\n",
    "plt.plot(epochs, val_acc, 'b', label='Validation acc')\n",
    "plt.title('Training and validation accuracy')\n",
    "plt.xlabel('Epochs')\n",
    "plt.ylabel('Loss')\n",
    "plt.legend()\n",
    "\n",
    "plt.show()\n"
   ]
  },
  {
   "cell_type": "markdown",
   "metadata": {
    "colab_type": "text",
    "id": "QA9ER1iHVNFk",
    "slideshow": {
     "slide_type": "subslide"
    }
   },
   "source": [
    "When network begins overfit?"
   ]
  },
  {
   "cell_type": "markdown",
   "metadata": {
    "colab_type": "text",
    "id": "yXyG4WzWVNFk",
    "slideshow": {
     "slide_type": "subslide"
    }
   },
   "source": [
    "Let’s train a new network from scratch for nine epochs and then evaluate it on the test set."
   ]
  },
  {
   "cell_type": "code",
   "execution_count": 69,
   "metadata": {
    "colab": {},
    "colab_type": "code",
    "id": "QZbiy4uGVNFn",
    "outputId": "056bf6ff-bfd3-4007-d78f-c3a8c316b547",
    "slideshow": {
     "slide_type": "fragment"
    }
   },
   "outputs": [
    {
     "name": "stdout",
     "output_type": "stream",
     "text": [
      "Train on 7982 samples, validate on 1000 samples\n",
      "Epoch 1/9\n",
      "7982/7982 [==============================] - 3s 385us/step - loss: 2.5398 - acc: 0.5226 - val_loss: 1.6733 - val_acc: 0.6570\n",
      "Epoch 2/9\n",
      "7982/7982 [==============================] - 2s 281us/step - loss: 1.3712 - acc: 0.7121 - val_loss: 1.2758 - val_acc: 0.7210\n",
      "Epoch 3/9\n",
      "7982/7982 [==============================] - 3s 331us/step - loss: 1.0136 - acc: 0.7781 - val_loss: 1.1303 - val_acc: 0.7530\n",
      "Epoch 4/9\n",
      "7982/7982 [==============================] - 3s 314us/step - loss: 0.7976 - acc: 0.8251 - val_loss: 1.0539 - val_acc: 0.7590\n",
      "Epoch 5/9\n",
      "7982/7982 [==============================] - 2s 306us/step - loss: 0.6393 - acc: 0.8624 - val_loss: 0.9754 - val_acc: 0.7920\n",
      "Epoch 6/9\n",
      "7982/7982 [==============================] - 3s 363us/step - loss: 0.5124 - acc: 0.8923 - val_loss: 0.9102 - val_acc: 0.8140\n",
      "Epoch 7/9\n",
      "7982/7982 [==============================] - 2s 282us/step - loss: 0.4123 - acc: 0.9137 - val_loss: 0.8932 - val_acc: 0.8210\n",
      "Epoch 8/9\n",
      "7982/7982 [==============================] - 2s 279us/step - loss: 0.3354 - acc: 0.9288 - val_loss: 0.8732 - val_acc: 0.8260\n",
      "Epoch 9/9\n",
      "7982/7982 [==============================] - 2s 285us/step - loss: 0.2782 - acc: 0.9371 - val_loss: 0.9337 - val_acc: 0.8010\n",
      "2246/2246 [==============================] - 1s 353us/step\n"
     ]
    },
    {
     "data": {
      "text/plain": [
       "[1.0222080261284818, 0.7756010686194165]"
      ]
     },
     "execution_count": 69,
     "metadata": {},
     "output_type": "execute_result"
    }
   ],
   "source": [
    "model = models.Sequential()\n",
    "model.add(layers.Dense(64, activation='relu', input_shape=(10000,)))\n",
    "model.add(layers.Dense(64, activation='relu'))\n",
    "model.add(layers.Dense(46, activation='softmax'))\n",
    "\n",
    "model.compile(optimizer='rmsprop',\n",
    "              loss='categorical_crossentropy',\n",
    "              metrics=['accuracy'])\n",
    "model.fit(partial_x_train,\n",
    "          partial_y_train,\n",
    "          epochs=9,\n",
    "          batch_size=512,\n",
    "          validation_data=(x_val, y_val))\n",
    "results = model.evaluate(x_test, one_hot_test_labels)\n",
    "results"
   ]
  },
  {
   "cell_type": "markdown",
   "metadata": {
    "colab_type": "text",
    "id": "xd_wtN71VNFs",
    "slideshow": {
     "slide_type": "fragment"
    }
   },
   "source": [
    "This approach reaches an accuracy of ~78%. With a balanced binary classification problem, the accuracy reached by a purely random classifier would be 50%. But in this case it’s closer to 19%, so the results seem pretty good."
   ]
  },
  {
   "cell_type": "markdown",
   "metadata": {
    "colab_type": "text",
    "id": "Crefxt_JVNFu",
    "slideshow": {
     "slide_type": "slide"
    }
   },
   "source": [
    "### Generating predictions on new data\n",
    "\n",
    "You can verify that the ```predict``` method of the model instance returns a probability distribution over all 46 topics. Let’s generate topic predictions for all of the test data."
   ]
  },
  {
   "cell_type": "code",
   "execution_count": 70,
   "metadata": {
    "colab": {},
    "colab_type": "code",
    "id": "fSUkCrPBVNFv",
    "slideshow": {
     "slide_type": "fragment"
    }
   },
   "outputs": [],
   "source": [
    "# Generating predictions for new data\n",
    "predictions = model.predict(x_test)"
   ]
  },
  {
   "cell_type": "markdown",
   "metadata": {
    "colab_type": "text",
    "id": "QR8kdPHcVNFy",
    "slideshow": {
     "slide_type": "fragment"
    }
   },
   "source": [
    "Each entry in predictions is a vector of length 46 and coefficients in this vector sum to 1:"
   ]
  },
  {
   "cell_type": "code",
   "execution_count": 71,
   "metadata": {
    "colab": {},
    "colab_type": "code",
    "id": "YQL3jTi-VNFy",
    "outputId": "23fe0e10-f75f-477b-ee17-38fa6437167f",
    "slideshow": {
     "slide_type": "fragment"
    }
   },
   "outputs": [
    {
     "name": "stdout",
     "output_type": "stream",
     "text": [
      "Shape: (46,)\n",
      "Sum: 1.0000\n"
     ]
    }
   ],
   "source": [
    "print('Shape: {}'.format(predictions[0].shape))\n",
    "print('Sum: {:.4f}'.format(np.sum(predictions[0])))"
   ]
  },
  {
   "cell_type": "markdown",
   "metadata": {
    "colab_type": "text",
    "id": "mjFuXtdYVNF0",
    "slideshow": {
     "slide_type": "fragment"
    }
   },
   "source": [
    "The largest entry is the predicted class—the class with the highest probability:"
   ]
  },
  {
   "cell_type": "code",
   "execution_count": 72,
   "metadata": {
    "colab": {},
    "colab_type": "code",
    "id": "MBCA2KpvVNF0",
    "outputId": "31ab7dac-82f9-448c-f5ca-e31847401dd6",
    "slideshow": {
     "slide_type": "fragment"
    }
   },
   "outputs": [
    {
     "data": {
      "text/plain": [
       "3"
      ]
     },
     "execution_count": 72,
     "metadata": {},
     "output_type": "execute_result"
    }
   ],
   "source": [
    "np.argmax(predictions[0])"
   ]
  },
  {
   "cell_type": "markdown",
   "metadata": {
    "colab_type": "text",
    "id": "CJmQKvwcVNF2",
    "slideshow": {
     "slide_type": "slide"
    }
   },
   "source": [
    "### A different way to handle the labels and the loss\n",
    "\n",
    "We mentioned earlier that another way to encode the labels would be to cast them as an integer tensor, like this:"
   ]
  },
  {
   "cell_type": "code",
   "execution_count": 73,
   "metadata": {
    "colab": {},
    "colab_type": "code",
    "id": "MQ8itCWYVNF2",
    "slideshow": {
     "slide_type": "fragment"
    }
   },
   "outputs": [],
   "source": [
    "y_train = np.array(train_labels)\n",
    "y_test = np.array(test_labels)"
   ]
  },
  {
   "cell_type": "markdown",
   "metadata": {
    "colab_type": "text",
    "id": "vk3htBb5VNF4",
    "slideshow": {
     "slide_type": "fragment"
    }
   },
   "source": [
    "The only thing this approach would change is the choice of the loss function. The loss function ```categorical_crossentropy```, expects the labels to follow a categorical encoding. With integer labels, you should use ```sparse_categorical_crossentropy```:\n"
   ]
  },
  {
   "cell_type": "code",
   "execution_count": 74,
   "metadata": {
    "colab": {},
    "colab_type": "code",
    "id": "O23Kp19RVNF4",
    "slideshow": {
     "slide_type": "fragment"
    }
   },
   "outputs": [],
   "source": [
    "model.compile(optimizer='rmsprop',\n",
    "              loss='sparse_categorical_crossentropy',\n",
    "              metrics=['acc'])"
   ]
  },
  {
   "cell_type": "markdown",
   "metadata": {
    "colab_type": "text",
    "id": "2uWGjlVfVNF7",
    "slideshow": {
     "slide_type": "fragment"
    }
   },
   "source": [
    "This new loss function is still mathematically the same as ```categorical_crossentropy```; it just has a different interface.\n"
   ]
  },
  {
   "cell_type": "markdown",
   "metadata": {
    "colab_type": "text",
    "id": "1zAEGIoxVNF8",
    "slideshow": {
     "slide_type": "slide"
    }
   },
   "source": [
    "### The importance of having sufficiently large intermediate layers\n",
    "\n",
    "We mentioned earlier that because the final outputs are 46-dimensional, you should avoid intermediate layers with many fewer than 46 hidden units. Now let’s see what happens when you introduce an information bottleneck by having intermediate layers that are significantly less than 46-dimensional: for example, 4-dimensional."
   ]
  },
  {
   "cell_type": "code",
   "execution_count": 75,
   "metadata": {
    "colab": {},
    "colab_type": "code",
    "id": "2bDlV0X-VNF8",
    "outputId": "4479fa6b-3a8d-49bf-cf2f-8a91a1e37f59",
    "scrolled": true,
    "slideshow": {
     "slide_type": "fragment"
    }
   },
   "outputs": [
    {
     "name": "stdout",
     "output_type": "stream",
     "text": [
      "Train on 7982 samples, validate on 1000 samples\n",
      "Epoch 1/20\n",
      "7982/7982 [==============================] - 4s 540us/step - loss: 3.1696 - acc: 0.2433 - val_loss: 2.6142 - val_acc: 0.2740\n",
      "Epoch 2/20\n",
      "7982/7982 [==============================] - 3s 437us/step - loss: 2.0606 - acc: 0.5461 - val_loss: 1.7033 - val_acc: 0.5860\n",
      "Epoch 3/20\n",
      "7982/7982 [==============================] - 4s 449us/step - loss: 1.5012 - acc: 0.6233 - val_loss: 1.5122 - val_acc: 0.6390\n",
      "Epoch 4/20\n",
      "7982/7982 [==============================] - 4s 453us/step - loss: 1.2887 - acc: 0.6907 - val_loss: 1.4123 - val_acc: 0.6770\n",
      "Epoch 5/20\n",
      "7982/7982 [==============================] - 4s 465us/step - loss: 1.1457 - acc: 0.7156 - val_loss: 1.3675 - val_acc: 0.6820\n",
      "Epoch 6/20\n",
      "7982/7982 [==============================] - 4s 455us/step - loss: 1.0403 - acc: 0.7308 - val_loss: 1.3422 - val_acc: 0.6950\n",
      "Epoch 7/20\n",
      "7982/7982 [==============================] - 4s 455us/step - loss: 0.9584 - acc: 0.7429 - val_loss: 1.3404 - val_acc: 0.7000\n",
      "Epoch 8/20\n",
      "7982/7982 [==============================] - 3s 432us/step - loss: 0.8890 - acc: 0.7534 - val_loss: 1.3359 - val_acc: 0.7020\n",
      "Epoch 9/20\n",
      "7982/7982 [==============================] - 4s 451us/step - loss: 0.8267 - acc: 0.7687 - val_loss: 1.3586 - val_acc: 0.7110\n",
      "Epoch 10/20\n",
      "7982/7982 [==============================] - 4s 443us/step - loss: 0.7663 - acc: 0.7898 - val_loss: 1.3749 - val_acc: 0.7070\n",
      "Epoch 11/20\n",
      "7982/7982 [==============================] - 3s 434us/step - loss: 0.7129 - acc: 0.8058 - val_loss: 1.3987 - val_acc: 0.7150\n",
      "Epoch 12/20\n",
      "7982/7982 [==============================] - 4s 454us/step - loss: 0.6665 - acc: 0.8176 - val_loss: 1.4001 - val_acc: 0.7200\n",
      "Epoch 13/20\n",
      "7982/7982 [==============================] - 4s 451us/step - loss: 0.6241 - acc: 0.8294 - val_loss: 1.4448 - val_acc: 0.7120\n",
      "Epoch 14/20\n",
      "7982/7982 [==============================] - 4s 443us/step - loss: 0.5881 - acc: 0.8369 - val_loss: 1.4679 - val_acc: 0.7190\n",
      "Epoch 15/20\n",
      "7982/7982 [==============================] - 4s 460us/step - loss: 0.5537 - acc: 0.8452 - val_loss: 1.5174 - val_acc: 0.7170\n",
      "Epoch 16/20\n",
      "7982/7982 [==============================] - 4s 482us/step - loss: 0.5228 - acc: 0.8544 - val_loss: 1.5604 - val_acc: 0.7200\n",
      "Epoch 17/20\n",
      "7982/7982 [==============================] - 4s 452us/step - loss: 0.4953 - acc: 0.8642 - val_loss: 1.5805 - val_acc: 0.7210\n",
      "Epoch 18/20\n",
      "7982/7982 [==============================] - 4s 472us/step - loss: 0.4694 - acc: 0.8787 - val_loss: 1.6405 - val_acc: 0.7170\n",
      "Epoch 19/20\n",
      "7982/7982 [==============================] - 4s 464us/step - loss: 0.4449 - acc: 0.8846 - val_loss: 1.6740 - val_acc: 0.7170\n",
      "Epoch 20/20\n",
      "7982/7982 [==============================] - 4s 473us/step - loss: 0.4284 - acc: 0.8885 - val_loss: 1.7236 - val_acc: 0.7190\n"
     ]
    },
    {
     "data": {
      "text/plain": [
       "<keras.callbacks.History at 0x1b4fe77b70>"
      ]
     },
     "execution_count": 75,
     "metadata": {},
     "output_type": "execute_result"
    }
   ],
   "source": [
    "model = models.Sequential()\n",
    "model.add(layers.Dense(64, activation='relu', input_shape=(10000,)))\n",
    "model.add(layers.Dense(4, activation='relu'))\n",
    "model.add(layers.Dense(46, activation='softmax'))\n",
    "\n",
    "model.compile(optimizer='rmsprop',\n",
    "              loss='categorical_crossentropy',\n",
    "              metrics=['accuracy'])\n",
    "model.fit(partial_x_train,\n",
    "          partial_y_train,\n",
    "          epochs=20,\n",
    "          batch_size=128,\n",
    "          validation_data=(x_val, y_val))"
   ]
  },
  {
   "cell_type": "code",
   "execution_count": 76,
   "metadata": {
    "colab": {},
    "colab_type": "code",
    "id": "r1sjh3_7VNF_",
    "outputId": "3a8a9c82-b1bf-4d95-bf4c-d9d1678a4ad3",
    "slideshow": {
     "slide_type": "subslide"
    }
   },
   "outputs": [
    {
     "name": "stdout",
     "output_type": "stream",
     "text": [
      "2246/2246 [==============================] - 1s 364us/step\n"
     ]
    },
    {
     "data": {
      "text/plain": [
       "[1.9613452537295442, 0.6878895814781835]"
      ]
     },
     "execution_count": 76,
     "metadata": {},
     "output_type": "execute_result"
    }
   ],
   "source": [
    "results = model.evaluate(x_test, one_hot_test_labels)\n",
    "results"
   ]
  },
  {
   "cell_type": "markdown",
   "metadata": {
    "colab_type": "text",
    "id": "N9bdZxXdVNGC",
    "slideshow": {
     "slide_type": "fragment"
    }
   },
   "source": [
    "The network now peaks at ~69% validation accuracy, an 8% absolute drop. This drop is mostly due to the fact that you’re trying to compress a lot of information (enough information to recover the separation hyperplanes of 46 classes) into an intermediate space that is too low-dimensional. The network is able to cram most of the necessary information into these eight-dimensional representations, but not all of it.\n",
    "\n"
   ]
  },
  {
   "cell_type": "markdown",
   "metadata": {
    "colab_type": "text",
    "id": "jwDjx8zzVNGE",
    "slideshow": {
     "slide_type": "slide"
    }
   },
   "source": [
    "### Further experiments (Hometask)\n",
    "\n",
    "* Try using larger or smaller layers: 32 units, 128 units, and so on.\n",
    "* You used two hidden layers. Now try using a single hidden layer, or three hidden layers."
   ]
  },
  {
   "cell_type": "markdown",
   "metadata": {},
   "source": [
    "### Try using larger or smaller layers: 32 units, 128 units, and so on.\n"
   ]
  },
  {
   "cell_type": "code",
   "execution_count": 77,
   "metadata": {},
   "outputs": [
    {
     "name": "stdout",
     "output_type": "stream",
     "text": [
      "Train on 7982 samples, validate on 1000 samples\n",
      "Epoch 1/20\n",
      "7982/7982 [==============================] - 4s 524us/step - loss: 2.2490 - acc: 0.5496 - val_loss: 1.4940 - val_acc: 0.6470\n",
      "Epoch 2/20\n",
      "7982/7982 [==============================] - 3s 348us/step - loss: 1.2452 - acc: 0.7215 - val_loss: 1.1812 - val_acc: 0.7370\n",
      "Epoch 3/20\n",
      "7982/7982 [==============================] - 3s 374us/step - loss: 0.9260 - acc: 0.8027 - val_loss: 1.0247 - val_acc: 0.7750\n",
      "Epoch 4/20\n",
      "7982/7982 [==============================] - 3s 355us/step - loss: 0.7109 - acc: 0.8517 - val_loss: 0.9411 - val_acc: 0.8000\n",
      "Epoch 5/20\n",
      "7982/7982 [==============================] - 3s 359us/step - loss: 0.5469 - acc: 0.8849 - val_loss: 0.9260 - val_acc: 0.8040\n",
      "Epoch 6/20\n",
      "7982/7982 [==============================] - 3s 353us/step - loss: 0.4298 - acc: 0.9112 - val_loss: 0.8898 - val_acc: 0.8190\n",
      "Epoch 7/20\n",
      "7982/7982 [==============================] - 3s 359us/step - loss: 0.3419 - acc: 0.9255 - val_loss: 0.9031 - val_acc: 0.8200\n",
      "Epoch 8/20\n",
      "7982/7982 [==============================] - 3s 351us/step - loss: 0.2799 - acc: 0.9346 - val_loss: 0.9247 - val_acc: 0.8120\n",
      "Epoch 9/20\n",
      "7982/7982 [==============================] - 3s 357us/step - loss: 0.2393 - acc: 0.9419 - val_loss: 0.9718 - val_acc: 0.8080\n",
      "Epoch 10/20\n",
      "7982/7982 [==============================] - 3s 344us/step - loss: 0.2055 - acc: 0.9471 - val_loss: 0.9334 - val_acc: 0.8180\n",
      "Epoch 11/20\n",
      "7982/7982 [==============================] - 3s 349us/step - loss: 0.1826 - acc: 0.9511 - val_loss: 1.0170 - val_acc: 0.8030\n",
      "Epoch 12/20\n",
      "7982/7982 [==============================] - 3s 348us/step - loss: 0.1669 - acc: 0.9533 - val_loss: 0.9866 - val_acc: 0.8000\n",
      "Epoch 13/20\n",
      "7982/7982 [==============================] - 3s 349us/step - loss: 0.1513 - acc: 0.9551 - val_loss: 1.0644 - val_acc: 0.8030\n",
      "Epoch 14/20\n",
      "7982/7982 [==============================] - 3s 341us/step - loss: 0.1417 - acc: 0.9564 - val_loss: 1.0512 - val_acc: 0.8040\n",
      "Epoch 15/20\n",
      "7982/7982 [==============================] - 3s 340us/step - loss: 0.1349 - acc: 0.9555 - val_loss: 1.1430 - val_acc: 0.7890\n",
      "Epoch 16/20\n",
      "7982/7982 [==============================] - 3s 340us/step - loss: 0.1296 - acc: 0.9578 - val_loss: 1.1041 - val_acc: 0.7980\n",
      "Epoch 17/20\n",
      "7982/7982 [==============================] - 3s 328us/step - loss: 0.1221 - acc: 0.9565 - val_loss: 1.2019 - val_acc: 0.7940\n",
      "Epoch 18/20\n",
      "7982/7982 [==============================] - 3s 329us/step - loss: 0.1205 - acc: 0.9562 - val_loss: 1.1298 - val_acc: 0.7960\n",
      "Epoch 19/20\n",
      "7982/7982 [==============================] - 3s 341us/step - loss: 0.1182 - acc: 0.9564 - val_loss: 1.1790 - val_acc: 0.7950\n",
      "Epoch 20/20\n",
      "7982/7982 [==============================] - 3s 348us/step - loss: 0.1151 - acc: 0.9550 - val_loss: 1.1419 - val_acc: 0.7980\n",
      "2246/2246 [==============================] - 1s 256us/step\n"
     ]
    },
    {
     "data": {
      "text/plain": [
       "[1.3926327466327806, 0.769813000890472]"
      ]
     },
     "execution_count": 77,
     "metadata": {},
     "output_type": "execute_result"
    }
   ],
   "source": [
    "model = models.Sequential()\n",
    "model.add(layers.Dense(32, activation='relu', input_shape=(10000,)))\n",
    "model.add(layers.Dense(32, activation='relu'))\n",
    "model.add(layers.Dense(46, activation='softmax'))\n",
    "\n",
    "model.compile(optimizer='rmsprop',\n",
    "              loss='categorical_crossentropy',\n",
    "              metrics=['accuracy'])\n",
    "model.fit(partial_x_train,\n",
    "          partial_y_train,\n",
    "          epochs=20,\n",
    "          batch_size=128,\n",
    "          validation_data=(x_val, y_val))\n",
    "\n",
    "results = model.evaluate(x_test, one_hot_test_labels)\n",
    "results\n",
    "\n"
   ]
  },
  {
   "cell_type": "code",
   "execution_count": 79,
   "metadata": {},
   "outputs": [
    {
     "name": "stdout",
     "output_type": "stream",
     "text": [
      "Train on 7982 samples, validate on 1000 samples\n",
      "Epoch 1/20\n",
      "7982/7982 [==============================] - 3s 402us/step - loss: 2.4358 - acc: 0.5264 - val_loss: 1.6554 - val_acc: 0.6060\n",
      "Epoch 2/20\n",
      "7982/7982 [==============================] - 2s 272us/step - loss: 1.4069 - acc: 0.6859 - val_loss: 1.3130 - val_acc: 0.7100\n",
      "Epoch 3/20\n",
      "7982/7982 [==============================] - 2s 277us/step - loss: 1.1029 - acc: 0.7503 - val_loss: 1.1519 - val_acc: 0.7380\n",
      "Epoch 4/20\n",
      "7982/7982 [==============================] - 2s 289us/step - loss: 0.9011 - acc: 0.8006 - val_loss: 1.0604 - val_acc: 0.7670\n",
      "Epoch 5/20\n",
      "7982/7982 [==============================] - 2s 280us/step - loss: 0.7454 - acc: 0.8327 - val_loss: 1.0087 - val_acc: 0.7880\n",
      "Epoch 6/20\n",
      "7982/7982 [==============================] - 2s 279us/step - loss: 0.6224 - acc: 0.8548 - val_loss: 0.9810 - val_acc: 0.7950\n",
      "Epoch 7/20\n",
      "7982/7982 [==============================] - 2s 267us/step - loss: 0.5207 - acc: 0.8770 - val_loss: 0.9727 - val_acc: 0.7880\n",
      "Epoch 8/20\n",
      "7982/7982 [==============================] - 2s 269us/step - loss: 0.4379 - acc: 0.8985 - val_loss: 0.9466 - val_acc: 0.8060\n",
      "Epoch 9/20\n",
      "7982/7982 [==============================] - 2s 280us/step - loss: 0.3721 - acc: 0.9146 - val_loss: 0.9496 - val_acc: 0.8030\n",
      "Epoch 10/20\n",
      "7982/7982 [==============================] - 2s 283us/step - loss: 0.3180 - acc: 0.9295 - val_loss: 0.9470 - val_acc: 0.8120\n",
      "Epoch 11/20\n",
      "7982/7982 [==============================] - 2s 283us/step - loss: 0.2758 - acc: 0.9370 - val_loss: 0.9651 - val_acc: 0.8030\n",
      "Epoch 12/20\n",
      "7982/7982 [==============================] - 2s 287us/step - loss: 0.2413 - acc: 0.9435 - val_loss: 0.9855 - val_acc: 0.8050\n",
      "Epoch 13/20\n",
      "7982/7982 [==============================] - 2s 265us/step - loss: 0.2167 - acc: 0.9479 - val_loss: 1.0121 - val_acc: 0.8000\n",
      "Epoch 14/20\n",
      "7982/7982 [==============================] - 2s 279us/step - loss: 0.1957 - acc: 0.9518 - val_loss: 1.0763 - val_acc: 0.7970\n",
      "Epoch 15/20\n",
      "7982/7982 [==============================] - 2s 262us/step - loss: 0.1760 - acc: 0.9529 - val_loss: 1.0442 - val_acc: 0.8010\n",
      "Epoch 16/20\n",
      "7982/7982 [==============================] - 2s 271us/step - loss: 0.1647 - acc: 0.9546 - val_loss: 1.0677 - val_acc: 0.8040\n",
      "Epoch 17/20\n",
      "7982/7982 [==============================] - 2s 281us/step - loss: 0.1539 - acc: 0.9535 - val_loss: 1.0907 - val_acc: 0.8020\n",
      "Epoch 18/20\n",
      "7982/7982 [==============================] - 2s 259us/step - loss: 0.1460 - acc: 0.9540 - val_loss: 1.1287 - val_acc: 0.7990\n",
      "Epoch 19/20\n",
      "7982/7982 [==============================] - 2s 263us/step - loss: 0.1410 - acc: 0.9551 - val_loss: 1.1111 - val_acc: 0.7980\n",
      "Epoch 20/20\n",
      "7982/7982 [==============================] - 2s 266us/step - loss: 0.1325 - acc: 0.9569 - val_loss: 1.1923 - val_acc: 0.7940\n",
      "2246/2246 [==============================] - 0s 222us/step\n"
     ]
    },
    {
     "data": {
      "text/plain": [
       "[1.3931284160987671, 0.7698130009435482]"
      ]
     },
     "execution_count": 79,
     "metadata": {},
     "output_type": "execute_result"
    }
   ],
   "source": [
    "model = models.Sequential()\n",
    "model.add(layers.Dense(16, activation='relu', input_shape=(10000,)))\n",
    "model.add(layers.Dense(32, activation='relu'))\n",
    "model.add(layers.Dense(46, activation='softmax'))\n",
    "\n",
    "model.compile(optimizer='rmsprop',\n",
    "              loss='categorical_crossentropy',\n",
    "              metrics=['accuracy'])\n",
    "model.fit(partial_x_train,\n",
    "          partial_y_train,\n",
    "          epochs=20,\n",
    "          batch_size=128,\n",
    "          validation_data=(x_val, y_val))\n",
    "\n",
    "results = model.evaluate(x_test, one_hot_test_labels)\n",
    "results\n"
   ]
  },
  {
   "cell_type": "markdown",
   "metadata": {},
   "source": [
    "### 128 hidden units make things worse, 32 hidden units are are optimal "
   ]
  },
  {
   "cell_type": "markdown",
   "metadata": {},
   "source": [
    "### You used two hidden layers. Now try using a single hidden layer, or three hidden layers."
   ]
  },
  {
   "cell_type": "code",
   "execution_count": 81,
   "metadata": {},
   "outputs": [
    {
     "name": "stdout",
     "output_type": "stream",
     "text": [
      "Train on 7982 samples, validate on 1000 samples\n",
      "Epoch 1/20\n",
      "7982/7982 [==============================] - 4s 461us/step - loss: 2.2444 - acc: 0.6012 - val_loss: 1.4904 - val_acc: 0.6840\n",
      "Epoch 2/20\n",
      "7982/7982 [==============================] - 3s 375us/step - loss: 1.2027 - acc: 0.7502 - val_loss: 1.1401 - val_acc: 0.7490\n",
      "Epoch 3/20\n",
      "7982/7982 [==============================] - 3s 377us/step - loss: 0.8857 - acc: 0.8156 - val_loss: 1.0058 - val_acc: 0.7960\n",
      "Epoch 4/20\n",
      "7982/7982 [==============================] - 3s 352us/step - loss: 0.6868 - acc: 0.8573 - val_loss: 0.9289 - val_acc: 0.8100\n",
      "Epoch 5/20\n",
      "7982/7982 [==============================] - 3s 333us/step - loss: 0.5429 - acc: 0.8894 - val_loss: 0.8741 - val_acc: 0.8210\n",
      "Epoch 6/20\n",
      "7982/7982 [==============================] - 3s 344us/step - loss: 0.4346 - acc: 0.9092 - val_loss: 0.8422 - val_acc: 0.8260\n",
      "Epoch 7/20\n",
      "7982/7982 [==============================] - 3s 352us/step - loss: 0.3537 - acc: 0.9258 - val_loss: 0.8380 - val_acc: 0.8250\n",
      "Epoch 8/20\n",
      "7982/7982 [==============================] - 3s 339us/step - loss: 0.2947 - acc: 0.9344 - val_loss: 0.8279 - val_acc: 0.8320\n",
      "Epoch 9/20\n",
      "7982/7982 [==============================] - 3s 356us/step - loss: 0.2497 - acc: 0.9440 - val_loss: 0.8431 - val_acc: 0.8270\n",
      "Epoch 10/20\n",
      "7982/7982 [==============================] - 3s 344us/step - loss: 0.2145 - acc: 0.9484 - val_loss: 0.8584 - val_acc: 0.8250\n",
      "Epoch 11/20\n",
      "7982/7982 [==============================] - 3s 342us/step - loss: 0.1886 - acc: 0.9508 - val_loss: 0.8469 - val_acc: 0.8300\n",
      "Epoch 12/20\n",
      "7982/7982 [==============================] - 3s 342us/step - loss: 0.1684 - acc: 0.9525 - val_loss: 0.8767 - val_acc: 0.8280\n",
      "Epoch 13/20\n",
      "7982/7982 [==============================] - 3s 343us/step - loss: 0.1520 - acc: 0.9538 - val_loss: 0.8875 - val_acc: 0.8280\n",
      "Epoch 14/20\n",
      "7982/7982 [==============================] - 3s 340us/step - loss: 0.1426 - acc: 0.9530 - val_loss: 0.9210 - val_acc: 0.8180\n",
      "Epoch 15/20\n",
      "7982/7982 [==============================] - 3s 344us/step - loss: 0.1323 - acc: 0.9565 - val_loss: 0.9363 - val_acc: 0.8150\n",
      "Epoch 16/20\n",
      "7982/7982 [==============================] - 3s 326us/step - loss: 0.1240 - acc: 0.9557 - val_loss: 0.9682 - val_acc: 0.8080\n",
      "Epoch 17/20\n",
      "7982/7982 [==============================] - 3s 324us/step - loss: 0.1197 - acc: 0.9563 - val_loss: 1.0045 - val_acc: 0.8060\n",
      "Epoch 18/20\n",
      "7982/7982 [==============================] - 3s 326us/step - loss: 0.1135 - acc: 0.9577 - val_loss: 1.0035 - val_acc: 0.8120\n",
      "Epoch 19/20\n",
      "7982/7982 [==============================] - 3s 323us/step - loss: 0.1101 - acc: 0.9570 - val_loss: 1.0154 - val_acc: 0.8110\n",
      "Epoch 20/20\n",
      "7982/7982 [==============================] - 3s 325us/step - loss: 0.1058 - acc: 0.9563 - val_loss: 1.0249 - val_acc: 0.8130\n",
      "2246/2246 [==============================] - 1s 257us/step\n"
     ]
    },
    {
     "data": {
      "text/plain": [
       "[1.2035166953996368, 0.7902938557966204]"
      ]
     },
     "execution_count": 81,
     "metadata": {},
     "output_type": "execute_result"
    }
   ],
   "source": [
    "model = models.Sequential()\n",
    "model.add(layers.Dense(32, activation='relu', input_shape=(10000,)))\n",
    "model.add(layers.Dense(46, activation='softmax'))\n",
    "\n",
    "model.compile(optimizer='rmsprop',\n",
    "              loss='categorical_crossentropy',\n",
    "              metrics=['accuracy'])\n",
    "model.fit(partial_x_train,\n",
    "          partial_y_train,\n",
    "          epochs=20,\n",
    "          batch_size=128,\n",
    "          validation_data=(x_val, y_val))\n",
    "\n",
    "results = model.evaluate(x_test, one_hot_test_labels)\n",
    "results"
   ]
  },
  {
   "cell_type": "code",
   "execution_count": 82,
   "metadata": {},
   "outputs": [
    {
     "name": "stdout",
     "output_type": "stream",
     "text": [
      "Train on 7982 samples, validate on 1000 samples\n",
      "Epoch 1/20\n",
      "7982/7982 [==============================] - 3s 389us/step - loss: 2.6493 - acc: 0.4842 - val_loss: 1.7456 - val_acc: 0.6080\n",
      "Epoch 2/20\n",
      "7982/7982 [==============================] - 2s 281us/step - loss: 1.4941 - acc: 0.6627 - val_loss: 1.3849 - val_acc: 0.6780\n",
      "Epoch 3/20\n",
      "7982/7982 [==============================] - 2s 285us/step - loss: 1.2062 - acc: 0.7184 - val_loss: 1.2594 - val_acc: 0.6970\n",
      "Epoch 4/20\n",
      "7982/7982 [==============================] - 2s 296us/step - loss: 1.0070 - acc: 0.7602 - val_loss: 1.1601 - val_acc: 0.7430\n",
      "Epoch 5/20\n",
      "7982/7982 [==============================] - 2s 275us/step - loss: 0.8408 - acc: 0.8074 - val_loss: 1.1161 - val_acc: 0.7480\n",
      "Epoch 6/20\n",
      "7982/7982 [==============================] - 2s 273us/step - loss: 0.6967 - acc: 0.8394 - val_loss: 1.0617 - val_acc: 0.7670\n",
      "Epoch 7/20\n",
      "7982/7982 [==============================] - 2s 267us/step - loss: 0.5794 - acc: 0.8659 - val_loss: 1.1139 - val_acc: 0.7680\n",
      "Epoch 8/20\n",
      "7982/7982 [==============================] - 2s 288us/step - loss: 0.4845 - acc: 0.8872 - val_loss: 1.0556 - val_acc: 0.7840\n",
      "Epoch 9/20\n",
      "7982/7982 [==============================] - 2s 276us/step - loss: 0.4058 - acc: 0.9085 - val_loss: 1.0848 - val_acc: 0.7840\n",
      "Epoch 10/20\n",
      "7982/7982 [==============================] - 2s 269us/step - loss: 0.3398 - acc: 0.9227 - val_loss: 1.0744 - val_acc: 0.7880\n",
      "Epoch 11/20\n",
      "7982/7982 [==============================] - 2s 267us/step - loss: 0.2951 - acc: 0.9390 - val_loss: 1.1600 - val_acc: 0.7910 0.2988 - acc: 0.\n",
      "Epoch 12/20\n",
      "7982/7982 [==============================] - 2s 258us/step - loss: 0.2585 - acc: 0.9436 - val_loss: 1.1587 - val_acc: 0.7780\n",
      "Epoch 13/20\n",
      "7982/7982 [==============================] - 2s 259us/step - loss: 0.2324 - acc: 0.9451 - val_loss: 1.1940 - val_acc: 0.7950\n",
      "Epoch 14/20\n",
      "7982/7982 [==============================] - 2s 261us/step - loss: 0.2064 - acc: 0.9503 - val_loss: 1.1965 - val_acc: 0.7910\n",
      "Epoch 15/20\n",
      "7982/7982 [==============================] - 2s 271us/step - loss: 0.1929 - acc: 0.9511 - val_loss: 1.2937 - val_acc: 0.7840\n",
      "Epoch 16/20\n",
      "7982/7982 [==============================] - 2s 273us/step - loss: 0.1790 - acc: 0.9533 - val_loss: 1.3508 - val_acc: 0.7800\n",
      "Epoch 17/20\n",
      "7982/7982 [==============================] - 2s 271us/step - loss: 0.1728 - acc: 0.9539 - val_loss: 1.3450 - val_acc: 0.7790\n",
      "Epoch 18/20\n",
      "7982/7982 [==============================] - 2s 241us/step - loss: 0.1566 - acc: 0.9554 - val_loss: 1.3130 - val_acc: 0.7790\n",
      "Epoch 19/20\n",
      "7982/7982 [==============================] - 2s 269us/step - loss: 0.1554 - acc: 0.9567 - val_loss: 1.4342 - val_acc: 0.7620\n",
      "Epoch 20/20\n",
      "7982/7982 [==============================] - 2s 274us/step - loss: 0.1503 - acc: 0.9559 - val_loss: 1.3478 - val_acc: 0.7840\n",
      "2246/2246 [==============================] - 0s 217us/step\n"
     ]
    },
    {
     "data": {
      "text/plain": [
       "[1.536920202914244, 0.7595725734639359]"
      ]
     },
     "execution_count": 82,
     "metadata": {},
     "output_type": "execute_result"
    }
   ],
   "source": [
    "model = models.Sequential()\n",
    "model.add(layers.Dense(16, activation='relu', input_shape=(10000,)))\n",
    "model.add(layers.Dense(32, activation='relu'))\n",
    "model.add(layers.Dense(32, activation='relu'))\n",
    "model.add(layers.Dense(46, activation='softmax'))\n",
    "\n",
    "model.compile(optimizer='rmsprop',\n",
    "              loss='categorical_crossentropy',\n",
    "              metrics=['accuracy'])\n",
    "model.fit(partial_x_train,\n",
    "          partial_y_train,\n",
    "          epochs=20,\n",
    "          batch_size=128,\n",
    "          validation_data=(x_val, y_val))\n",
    "\n",
    "results = model.evaluate(x_test, one_hot_test_labels)\n",
    "results"
   ]
  },
  {
   "cell_type": "markdown",
   "metadata": {},
   "source": [
    "### More hidden layers cause the loss to increse, results with only one hidden layer are better \n",
    "#### One:  [1.2035166953996368, 0.7902938557966204]\n",
    "#### Three: [1.536920202914244, 0.7595725734639359]"
   ]
  },
  {
   "cell_type": "markdown",
   "metadata": {
    "colab_type": "text",
    "id": "7TO59PYKVNGE",
    "slideshow": {
     "slide_type": "slide"
    }
   },
   "source": [
    "### Wrapping up\n",
    "\n",
    "* If you’re trying to classify data points among N classes, your network should end with a ```Dense``` layer of size N.\n"
   ]
  },
  {
   "cell_type": "markdown",
   "metadata": {
    "colab_type": "text",
    "id": "kpuW92F9VNGF",
    "slideshow": {
     "slide_type": "fragment"
    }
   },
   "source": [
    "* In a single-label, multiclass classification problem, your network should end with a ```softmax``` activation so that it will output a probability distribution over the N output classes.\n"
   ]
  },
  {
   "cell_type": "markdown",
   "metadata": {
    "colab_type": "text",
    "id": "QGpz8IskVNGF",
    "slideshow": {
     "slide_type": "fragment"
    }
   },
   "source": [
    "* Categorical crossentropy is almost always the loss function you should use for such problems. It minimizes the distance between the probability distributions output by the network and the true distribution of the targets.\n"
   ]
  },
  {
   "cell_type": "markdown",
   "metadata": {
    "colab_type": "text",
    "id": "QUE5UlYaVNGG",
    "slideshow": {
     "slide_type": "subslide"
    }
   },
   "source": [
    "* There are two ways to handle labels in multiclass classification:\n",
    "     * Encoding the labels via categorical encoding (also known as one-hot encoding) and using ```categorical_crossentropy``` as a loss function\n",
    "     \n",
    "     * Encoding the labels as integers and using the ```sparse_categorical_crossentropy``` loss function\n"
   ]
  },
  {
   "cell_type": "markdown",
   "metadata": {
    "colab_type": "text",
    "id": "jjUviO9DVNGG",
    "slideshow": {
     "slide_type": "fragment"
    }
   },
   "source": [
    "* If you need to classify data into a large number of categories, you should avoid creating information bottlenecks in your network due to intermediate layers that are too small."
   ]
  },
  {
   "cell_type": "markdown",
   "metadata": {
    "colab_type": "text",
    "id": "V426k-CSVNGH",
    "slideshow": {
     "slide_type": "slide"
    }
   },
   "source": [
    "## Predicting house prices: a regression example\n",
    "\n",
    "The two previous examples were considered classification problems, where the goal was to predict a single discrete label of an input data point. Another common type of machine-learning problem is regression, which consists of predicting a continuous value instead of a discrete label: for instance, predicting the temperature tomorrow, given meteorological data; or predicting the time that a software project will take to complete, given its specifications.\n",
    "\n"
   ]
  },
  {
   "cell_type": "markdown",
   "metadata": {
    "colab_type": "text",
    "id": "B3QoxLMuVNGH",
    "slideshow": {
     "slide_type": "slide"
    }
   },
   "source": [
    "### The Boston Housing Price dataset\n",
    "\n",
    "\n",
    "You’ll attempt to predict the median price of homes in a given Boston suburb in the mid-1970s, given data points about the suburb at the time, such as the crime rate, the local property tax rate, and so on. The dataset you’ll use has an interesting difference from the two previous examples. It has relatively few data points: only 506, split between 404 training samples and 102 test samples. And each feature in the input data (for example, the crime rate) has a different scale. For instance, some values are proportions, which take values between 0 and 1; others take values between 1 and 12, others between 0 and 100, and so on.\n",
    "\n"
   ]
  },
  {
   "cell_type": "code",
   "execution_count": 0,
   "metadata": {
    "colab": {},
    "colab_type": "code",
    "collapsed": true,
    "id": "Ed9VqZDMVNGI",
    "slideshow": {
     "slide_type": "subslide"
    }
   },
   "outputs": [],
   "source": [
    "from keras.datasets import boston_housing\n",
    "\n",
    "(train_data, train_targets), (test_data, test_targets) = boston_housing.load_data()"
   ]
  },
  {
   "cell_type": "markdown",
   "metadata": {
    "colab_type": "text",
    "id": "FhKGVPgcVNGK",
    "slideshow": {
     "slide_type": "fragment"
    }
   },
   "source": [
    "Let’s look at the data:"
   ]
  },
  {
   "cell_type": "code",
   "execution_count": 0,
   "metadata": {
    "colab": {},
    "colab_type": "code",
    "id": "T5EWtzt7VNGK",
    "outputId": "9f0425c3-ae69-4426-9bde-2cf2a7143701",
    "slideshow": {
     "slide_type": "fragment"
    }
   },
   "outputs": [
    {
     "name": "stdout",
     "output_type": "stream",
     "text": [
      "Shape of train data: (404, 13)\n",
      "Shape of test data: (102, 13)\n"
     ]
    }
   ],
   "source": [
    "print('Shape of train data: {}'.format(train_data.shape))\n",
    "print('Shape of test data: {}'.format(test_data.shape))"
   ]
  },
  {
   "cell_type": "markdown",
   "metadata": {
    "colab_type": "text",
    "id": "MF2GDPoTVNGM",
    "slideshow": {
     "slide_type": "fragment"
    }
   },
   "source": [
    "The targets are the median values of owner-occupied homes, in thousands of dollars:\n",
    "\n"
   ]
  },
  {
   "cell_type": "code",
   "execution_count": 0,
   "metadata": {
    "colab": {},
    "colab_type": "code",
    "id": "GDLKtZ1RVNGM",
    "outputId": "16f69aac-68a6-4433-e5e4-a78d10c90e9e",
    "slideshow": {
     "slide_type": "fragment"
    }
   },
   "outputs": [
    {
     "data": {
      "text/plain": [
       "array([15.2, 42.3, 50. , 21.1, 17.7, 18.5, 11.3, 15.6, 15.6, 14.4])"
      ]
     },
     "execution_count": 98,
     "metadata": {
      "tags": []
     },
     "output_type": "execute_result"
    }
   ],
   "source": [
    "train_targets[:10]"
   ]
  },
  {
   "cell_type": "markdown",
   "metadata": {
    "colab_type": "text",
    "id": "pVPvzozlVNGP",
    "slideshow": {
     "slide_type": "fragment"
    }
   },
   "source": [
    "The prices are typically between \\$10,000 and \\$50,000. If that sounds cheap, remember that this was the mid-1970s, and these prices aren’t adjusted for inflation."
   ]
  },
  {
   "cell_type": "markdown",
   "metadata": {
    "colab_type": "text",
    "id": "k_bAy0vQVNGQ",
    "slideshow": {
     "slide_type": "slide"
    }
   },
   "source": [
    "###  Preparing the data\n",
    "\n",
    "It would be problematic to feed into a neural network values that all take wildly different ranges. The network might be able to automatically adapt to such heterogeneous data, but it would definitely make learning more difficult. A widespread best practice to deal with such data is to do feature-wise normalization: for each feature in the input data (a column in the input data matrix), you subtract the mean of the feature and divide by the standard deviation, so that the feature is centered around 0 and has a unit standard deviation. This is easily done in Numpy.\n",
    "\n"
   ]
  },
  {
   "cell_type": "code",
   "execution_count": 0,
   "metadata": {
    "colab": {},
    "colab_type": "code",
    "collapsed": true,
    "id": "fK_8A2prVNGQ",
    "slideshow": {
     "slide_type": "fragment"
    }
   },
   "outputs": [],
   "source": [
    "mean = train_data.mean(axis=0)\n",
    "train_data -= mean\n",
    "std = train_data.std(axis=0)\n",
    "train_data /= std\n",
    "\n",
    "test_data -= mean\n",
    "test_data /= std"
   ]
  },
  {
   "cell_type": "markdown",
   "metadata": {
    "colab_type": "text",
    "id": "LkZw4O__VNGS",
    "slideshow": {
     "slide_type": "fragment"
    }
   },
   "source": [
    "Note that the quantities used for normalizing the test data are computed using the training data. You should never use in your workflow any quantity computed on the test data, even for something as simple as data normalization.\n",
    "\n"
   ]
  },
  {
   "cell_type": "markdown",
   "metadata": {
    "colab_type": "text",
    "id": "bOPePtHXVNGT",
    "slideshow": {
     "slide_type": "slide"
    }
   },
   "source": [
    "### Building your network\n",
    "\n",
    "Because so few samples are available, you’ll use a very small network with two hidden layers, each with 64 units. In general, the less training data you have, the worse overfitting will be, and using a small network is one way to mitigate overfitting."
   ]
  },
  {
   "cell_type": "code",
   "execution_count": 0,
   "metadata": {
    "colab": {},
    "colab_type": "code",
    "collapsed": true,
    "id": "3-e7HqphVNGU",
    "slideshow": {
     "slide_type": "fragment"
    }
   },
   "outputs": [],
   "source": [
    "from keras import models\n",
    "from keras import layers\n",
    "\n",
    "def build_model():\n",
    "    model = models.Sequential()\n",
    "    model.add(layers.Dense(64, activation='relu',\n",
    "                           input_shape=(train_data.shape[1],)))\n",
    "    model.add(layers.Dense(64, activation='relu'))\n",
    "    model.add(layers.Dense(1))\n",
    "    model.compile(optimizer='rmsprop', loss='mse', metrics=['mae'])\n",
    "    return model\n"
   ]
  },
  {
   "cell_type": "markdown",
   "metadata": {
    "colab_type": "text",
    "id": "xlsUNyM6VNGW",
    "slideshow": {
     "slide_type": "subslide"
    }
   },
   "source": [
    "The network ends with a single unit and no activation (it will be a linear layer). This is a typical setup for scalar regression (a regression where you’re trying to predict a single continuous value). Applying an activation function would constrain the range the output can take; for instance, if you applied a ```sigmoid``` activation function to the last layer, the network could only learn to predict values between 0 and 1. Here, because the last layer is purely linear, the network is free to learn to predict values in any range.\n",
    "\n"
   ]
  },
  {
   "cell_type": "markdown",
   "metadata": {
    "colab_type": "text",
    "id": "jVVvzqU3VNGW",
    "slideshow": {
     "slide_type": "fragment"
    }
   },
   "source": [
    "Note that you compile the network with the ```mse``` loss function—**mean squared error**, the square of the difference between the predictions and the targets. This is a widely used loss function for regression problems.\n",
    "\n",
    "You’re also monitoring a new metric during training: **mean absolute error (MAE)**. It’s the absolute value of the difference between the predictions and the targets. For instance, an MAE of 0.5 on this problem would mean your predictions are off by \\$500 on average.\n",
    "\n"
   ]
  },
  {
   "cell_type": "markdown",
   "metadata": {
    "colab_type": "text",
    "id": "8-3dK5FNVNGX",
    "slideshow": {
     "slide_type": "slide"
    }
   },
   "source": [
    "### Validating your approach using K-fold validation\n",
    "\n",
    "To evaluate your network while you keep adjusting its parameters (such as the number of epochs used for training), you could split the data into a training set and a validation set, as you did in the previous examples. But because you have so few data points, the validation set would end up being very small (for instance, about 100 examples). As a consequence, the validation scores might change a lot depending on which data points you chose to use for validation and which you chose for training: the validation scores might have a high variance with regard to the validation split. This would prevent you from reliably evaluating your model.\n",
    "\n"
   ]
  },
  {
   "cell_type": "markdown",
   "metadata": {
    "colab_type": "text",
    "id": "_X14K0owVNGX",
    "slideshow": {
     "slide_type": "subslide"
    }
   },
   "source": [
    "The best practice in such situations is to use **K-fold cross-validation**. It consists of splitting the available data into **K** partitions (typically K = 4 or 5), instantiating K identical models, and training each one on K – 1 partitions while evaluating on the remaining partition. The validation score for the model used is then the average of the K validation scores obtained. In terms of code, this is straightforward.\n",
    "\n",
    "![](https://dpzbhybb2pdcj.cloudfront.net/chollet/Figures/03fig11_alt.jpg)"
   ]
  },
  {
   "cell_type": "code",
   "execution_count": 0,
   "metadata": {
    "colab": {},
    "colab_type": "code",
    "id": "is5VfNYAVNGX",
    "outputId": "72bb6bb8-dfb6-4faf-f8c1-ea7a39f71a52",
    "slideshow": {
     "slide_type": "subslide"
    }
   },
   "outputs": [
    {
     "name": "stdout",
     "output_type": "stream",
     "text": [
      "processing fold # 0\n",
      "processing fold # 1\n",
      "processing fold # 2\n",
      "processing fold # 3\n"
     ]
    }
   ],
   "source": [
    "import numpy as np\n",
    "\n",
    "k = 4\n",
    "num_val_samples = len(train_data) // k\n",
    "num_epochs = 100\n",
    "all_scores = []\n",
    "for i in range(k):\n",
    "    print('processing fold #', i)\n",
    "    val_data = train_data[i * num_val_samples: (i + 1) * num_val_samples]\n",
    "    val_targets = train_targets[i * num_val_samples: (i + 1) * num_val_samples]\n",
    "\n",
    "    partial_train_data = np.concatenate(\n",
    "        [train_data[:i * num_val_samples],\n",
    "         train_data[(i + 1) * num_val_samples:]],\n",
    "        axis=0)\n",
    "    partial_train_targets = np.concatenate(\n",
    "        [train_targets[:i * num_val_samples],\n",
    "         train_targets[(i + 1) * num_val_samples:]],\n",
    "        axis=0)\n",
    "\n",
    "    model = build_model()\n",
    "    model.fit(partial_train_data, partial_train_targets,\n",
    "              epochs=num_epochs, batch_size=1, verbose=0)\n",
    "    val_mse, val_mae = model.evaluate(val_data, val_targets, verbose=0)\n",
    "    all_scores.append(val_mae)\n"
   ]
  },
  {
   "cell_type": "markdown",
   "metadata": {
    "colab_type": "text",
    "id": "XxHY4mzNVNGa",
    "slideshow": {
     "slide_type": "subslide"
    }
   },
   "source": [
    "Running this with num_epochs = 100 yields the following results:\n",
    "\n"
   ]
  },
  {
   "cell_type": "code",
   "execution_count": 0,
   "metadata": {
    "colab": {},
    "colab_type": "code",
    "id": "H8Czl9QRVNGa",
    "outputId": "4caf749d-0ca4-44c2-e856-9b1e095d19c4",
    "slideshow": {
     "slide_type": "fragment"
    }
   },
   "outputs": [
    {
     "name": "stdout",
     "output_type": "stream",
     "text": [
      "[2.08013649624173, 2.095389439327882, 2.96017064434467, 2.273717975262368]\n",
      "2.3523536387941624\n"
     ]
    }
   ],
   "source": [
    "print(all_scores)\n",
    "print(np.mean(all_scores))"
   ]
  },
  {
   "cell_type": "markdown",
   "metadata": {
    "colab_type": "text",
    "id": "xcYdih1EVNGh",
    "slideshow": {
     "slide_type": "fragment"
    }
   },
   "source": [
    "The different runs do indeed show rather different validation scores, from 2.08 to 2.96. The average (3.0) is a much more reliable metric than any single score—that’s the entire point of K-fold cross-validation. In this case, you’re off by \\$3,000 on average, which is significant considering that the prices range from \\$10,000 to \\$50,000.\n",
    "\n"
   ]
  },
  {
   "cell_type": "markdown",
   "metadata": {
    "colab_type": "text",
    "id": "g6zoVvfuVNGl",
    "slideshow": {
     "slide_type": "subslide"
    }
   },
   "source": [
    "Let’s try training the network a bit longer: 500 epochs. To keep a record of how well the model does at each epoch, you’ll modify the training loop to save the per-epoch validation score log."
   ]
  },
  {
   "cell_type": "code",
   "execution_count": 0,
   "metadata": {
    "colab": {},
    "colab_type": "code",
    "id": "Nw4fLehxVNGm",
    "outputId": "f3ee1e08-b401-40bc-b27a-7f39e29dedb0",
    "slideshow": {
     "slide_type": "fragment"
    }
   },
   "outputs": [
    {
     "name": "stdout",
     "output_type": "stream",
     "text": [
      "processing fold # 0\n",
      "processing fold # 1\n",
      "processing fold # 2\n",
      "processing fold # 3\n"
     ]
    }
   ],
   "source": [
    "num_epochs = 500\n",
    "all_mae_histories = []\n",
    "for i in range(k):\n",
    "    print('processing fold #', i)\n",
    "    val_data = train_data[i * num_val_samples: (i + 1) * num_val_samples]\n",
    "    val_targets = train_targets[i * num_val_samples: (i + 1) * num_val_samples]\n",
    "    partial_train_data = np.concatenate(\n",
    "        [train_data[:i * num_val_samples],\n",
    "         train_data[(i + 1) * num_val_samples:]],\n",
    "        axis=0)\n",
    "    partial_train_targets = np.concatenate(\n",
    "        [train_targets[:i * num_val_samples],\n",
    "         train_targets[(i + 1) * num_val_samples:]],\n",
    "        axis=0)\n",
    "\n",
    "    model = build_model()\n",
    "    history = model.fit(partial_train_data, partial_train_targets,\n",
    "                        validation_data=(val_data, val_targets),\n",
    "                        epochs=num_epochs, batch_size=1, verbose=0)\n",
    "    mae_history = history.history['val_mean_absolute_error']\n",
    "    all_mae_histories.append(mae_history)\n",
    "    "
   ]
  },
  {
   "cell_type": "markdown",
   "metadata": {
    "colab_type": "text",
    "id": "M34R4GNGVNGp",
    "slideshow": {
     "slide_type": "subslide"
    }
   },
   "source": [
    "You can then compute the average of the per-epoch MAE scores for all folds.\n",
    "\n"
   ]
  },
  {
   "cell_type": "code",
   "execution_count": 0,
   "metadata": {
    "colab": {},
    "colab_type": "code",
    "id": "Fcu0Qa-MVNGq",
    "outputId": "fb561ebf-e00c-4551-e8da-cd4117f434fa",
    "slideshow": {
     "slide_type": "fragment"
    }
   },
   "outputs": [
    {
     "data": {
      "image/png": "[encoded data removed]",
      "text/plain": [
       "<Figure size 432x288 with 1 Axes>"
      ]
     },
     "metadata": {
      "tags": []
     },
     "output_type": "display_data"
    }
   ],
   "source": [
    "average_mae_history = [\n",
    "    np.mean([x[i] for x in all_mae_histories]) for i in range(num_epochs)]\n",
    "\n",
    "import matplotlib.pyplot as plt\n",
    "\n",
    "plt.plot(range(1, len(average_mae_history) + 1), average_mae_history)\n",
    "plt.xlabel('Epochs')\n",
    "plt.ylabel('Validation MAE')\n",
    "plt.show()"
   ]
  },
  {
   "cell_type": "markdown",
   "metadata": {
    "colab_type": "text",
    "id": "Tubb3u4rVNGt",
    "slideshow": {
     "slide_type": "fragment"
    }
   },
   "source": [
    "It may be a little difficult to see the plot, due to scaling issues and relatively high variance. "
   ]
  },
  {
   "cell_type": "markdown",
   "metadata": {
    "colab_type": "text",
    "id": "aBKKPnb0VNGu",
    "slideshow": {
     "slide_type": "subslide"
    }
   },
   "source": [
    "Let’s do the following:\n",
    "\n",
    "Omit the first 10 data points, which are on a different scale than the rest of the curve.\n",
    "Replace each point with an exponential moving average of the previous points, to obtain a smooth curve."
   ]
  },
  {
   "cell_type": "code",
   "execution_count": 0,
   "metadata": {
    "colab": {},
    "colab_type": "code",
    "id": "k_MbicsjVNGu",
    "outputId": "ea1c86d5-297d-493a-d911-a97e7ecb8720",
    "slideshow": {
     "slide_type": "fragment"
    }
   },
   "outputs": [
    {
     "data": {
      "image/png": "[encoded data removed]",
      "text/plain": [
       "<Figure size 432x288 with 1 Axes>"
      ]
     },
     "metadata": {
      "tags": []
     },
     "output_type": "display_data"
    }
   ],
   "source": [
    "def smooth_curve(points, factor=0.9):\n",
    "    smoothed_points = []\n",
    "    for point in points:\n",
    "        if smoothed_points:\n",
    "            previous = smoothed_points[-1]\n",
    "            smoothed_points.append(previous * factor + point * (1 - factor))\n",
    "        else:\n",
    "            smoothed_points.append(point)\n",
    "    return smoothed_points\n",
    "\n",
    "smooth_mae_history = smooth_curve(average_mae_history[10:])\n",
    "\n",
    "plt.plot(range(1, len(smooth_mae_history) + 1), smooth_mae_history)\n",
    "plt.xlabel('Epochs')\n",
    "plt.ylabel('Validation MAE')\n",
    "plt.show()"
   ]
  },
  {
   "cell_type": "markdown",
   "metadata": {
    "colab_type": "text",
    "id": "LZobjJMFVNGw",
    "slideshow": {
     "slide_type": "subslide"
    }
   },
   "source": [
    "According to this plot, validation MAE stops improving significantly after 80 epochs. Past that point, you start overfitting.\n",
    "\n"
   ]
  },
  {
   "cell_type": "markdown",
   "metadata": {
    "colab_type": "text",
    "id": "fbFdJweGVNGx",
    "slideshow": {
     "slide_type": "fragment"
    }
   },
   "source": [
    "Once you’re finished tuning other parameters of the model (in addition to the number of epochs, you could also adjust the size of the hidden layers), you can train a final production model on all of the training data, with the best parameters, and then look at its performance on the test data.\n",
    "\n"
   ]
  },
  {
   "cell_type": "code",
   "execution_count": 0,
   "metadata": {
    "colab": {},
    "colab_type": "code",
    "collapsed": true,
    "id": "FbeNoB34VNGx",
    "slideshow": {
     "slide_type": "fragment"
    }
   },
   "outputs": [],
   "source": [
    "model = build_model()\n",
    "model.fit(train_data, train_targets,\n",
    "          epochs=80, batch_size=16, verbose=0)\n",
    "test_mse_score, test_mae_score = model.evaluate(test_data, test_targets)\n"
   ]
  },
  {
   "cell_type": "markdown",
   "metadata": {
    "colab_type": "text",
    "id": "_b5eA9gLVNG4",
    "slideshow": {
     "slide_type": "fragment"
    }
   },
   "source": [
    "Here’s the final result:"
   ]
  },
  {
   "cell_type": "code",
   "execution_count": 1,
   "metadata": {
    "colab": {
     "base_uri": "https://localhost:8080/",
     "height": 163
    },
    "colab_type": "code",
    "executionInfo": {
     "elapsed": 686,
     "status": "error",
     "timestamp": 1541848725975,
     "user": {
      "displayName": "Лингвисты 4 курс 15ФПЛ",
      "photoUrl": "",
      "userId": "07722014738513937459"
     },
     "user_tz": -120
    },
    "id": "2tw3TpG9VNG8",
    "outputId": "f116bf95-5545-417d-9528-d23bb64f19e5",
    "slideshow": {
     "slide_type": "fragment"
    }
   },
   "outputs": [
    {
     "ename": "NameError",
     "evalue": "ignored",
     "output_type": "error",
     "traceback": [
      "\u001b[0;31m---------------------------------------------------------------------------\u001b[0m",
      "\u001b[0;31mNameError\u001b[0m                                 Traceback (most recent call last)",
      "\u001b[0;32m<ipython-input-1-0971a0626328>\u001b[0m in \u001b[0;36m<module>\u001b[0;34m()\u001b[0m\n\u001b[0;32m----> 1\u001b[0;31m \u001b[0mtest_mae_score\u001b[0m\u001b[0;34m\u001b[0m\u001b[0m\n\u001b[0m",
      "\u001b[0;31mNameError\u001b[0m: name 'test_mae_score' is not defined"
     ]
    }
   ],
   "source": [
    "test_mae_score"
   ]
  },
  {
   "cell_type": "markdown",
   "metadata": {
    "colab_type": "text",
    "id": "kwOOqnFeVNG_",
    "slideshow": {
     "slide_type": "fragment"
    }
   },
   "source": [
    "You’re still off by about \\$2,550.\n",
    "\n"
   ]
  },
  {
   "cell_type": "markdown",
   "metadata": {
    "colab_type": "text",
    "id": "bte08ubnVNHA",
    "slideshow": {
     "slide_type": "slide"
    }
   },
   "source": [
    "### Wrapping up\n",
    "\n",
    "* Regression is done using different loss functions than what we used for classification. Mean squared error (MSE) is a loss function commonly used for regression.\n"
   ]
  },
  {
   "cell_type": "markdown",
   "metadata": {
    "colab_type": "text",
    "id": "YFZXXbacVNHA",
    "slideshow": {
     "slide_type": "fragment"
    }
   },
   "source": [
    "* Similarly, evaluation metrics to be used for regression differ from those used for classification; naturally, the concept of accuracy doesn’t apply for regression. A common regression metric is mean absolute error (MAE).\n"
   ]
  },
  {
   "cell_type": "markdown",
   "metadata": {
    "colab_type": "text",
    "id": "KxfRjf54VNHB",
    "slideshow": {
     "slide_type": "fragment"
    }
   },
   "source": [
    "* When features in the input data have values in different ranges, each feature should be scaled independently as a preprocessing step.\n"
   ]
  },
  {
   "cell_type": "markdown",
   "metadata": {
    "colab_type": "text",
    "id": "zuA0pHKjVNHC",
    "slideshow": {
     "slide_type": "fragment"
    }
   },
   "source": [
    "* When there is little data available, using K-fold validation is a great way to reliably evaluate a model.\n"
   ]
  },
  {
   "cell_type": "markdown",
   "metadata": {
    "colab_type": "text",
    "id": "jHNDlVxDVNHH",
    "slideshow": {
     "slide_type": "fragment"
    }
   },
   "source": [
    "* When little training data is available, it’s preferable to use a small network with few hidden layers (typically only one or two), in order to avoid severe overfitting."
   ]
  },
  {
   "cell_type": "code",
   "execution_count": 0,
   "metadata": {
    "colab": {},
    "colab_type": "code",
    "collapsed": true,
    "id": "LvrXIvMDVNHI"
   },
   "outputs": [],
   "source": []
  }
 ],
 "metadata": {
  "colab": {
   "name": "Lecture2(NN).ipynb",
   "provenance": [],
   "version": "0.3.2"
  },
  "kernelspec": {
   "display_name": "Python 3",
   "language": "python",
   "name": "python3"
  },
  "language_info": {
   "codemirror_mode": {
    "name": "ipython",
    "version": 3
   },
   "file_extension": ".py",
   "mimetype": "text/x-python",
   "name": "python",
   "nbconvert_exporter": "python",
   "pygments_lexer": "ipython3",
   "version": "3.6.5"
  }
 },
 "nbformat": 4,
 "nbformat_minor": 1
}
