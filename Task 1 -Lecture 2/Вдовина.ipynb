{
 "cells": [
  {
   "cell_type": "markdown",
   "metadata": {},
   "source": [
    "### Hometask 1"
   ]
  },
  {
   "cell_type": "code",
   "execution_count": 45,
   "metadata": {},
   "outputs": [],
   "source": [
    "import os \n",
    "os.environ['CUDA_VISIBLE_DEVICES'] = '-1'"
   ]
  },
  {
   "cell_type": "code",
   "execution_count": 46,
   "metadata": {},
   "outputs": [],
   "source": [
    "from keras.datasets import imdb\n",
    "\n",
    "(train_data, train_labels), (test_data, test_labels) = imdb.load_data(\n",
    "    num_words=10000)\n",
    "\n",
    "word_index = imdb.get_word_index()\n",
    "reverse_word_index = dict(\n",
    "    [(value, key) for (key, value) in word_index.items()])\n",
    "decoded_review = ' '.join(\n",
    "    [reverse_word_index.get(i - 3, '?') for i in train_data[0]])\n"
   ]
  },
  {
   "cell_type": "code",
   "execution_count": 47,
   "metadata": {},
   "outputs": [],
   "source": [
    "word_index = imdb.get_word_index()\n",
    "reverse_word_index = dict(\n",
    "    [(value, key) for (key, value) in word_index.items()])\n",
    "decoded_review = ' '.join(\n",
    "    [reverse_word_index.get(i - 3, '?') for i in train_data[0]])\n",
    "\n",
    "\n",
    "import numpy as np\n",
    "\n",
    "def vectorize_sequences(sequences, dimension=10000):\n",
    "    results = np.zeros((len(sequences), dimension))\n",
    "    for i, sequence in enumerate(sequences):\n",
    "        results[i, sequence] = 1.\n",
    "    return results\n",
    "\n",
    "x_train = vectorize_sequences(train_data)\n",
    "x_test = vectorize_sequences(test_data)\n"
   ]
  },
  {
   "cell_type": "code",
   "execution_count": 48,
   "metadata": {},
   "outputs": [],
   "source": [
    "y_train = np.asarray(train_labels).astype('float32')\n",
    "y_test = np.asarray(test_labels).astype('float32')"
   ]
  },
  {
   "cell_type": "markdown",
   "metadata": {},
   "source": [
    "### 1 hidden layer"
   ]
  },
  {
   "cell_type": "code",
   "execution_count": 49,
   "metadata": {},
   "outputs": [],
   "source": [
    "from keras import models\n",
    "from keras import layers\n",
    "\n",
    "model = models.Sequential()\n",
    "model.add(layers.Dense(16, activation='relu', input_shape=(10000,)))\n",
    "model.add(layers.Dense(1, activation='sigmoid'))"
   ]
  },
  {
   "cell_type": "markdown",
   "metadata": {},
   "source": [
    "### 2 hidden layers"
   ]
  },
  {
   "cell_type": "code",
   "execution_count": 23,
   "metadata": {},
   "outputs": [],
   "source": [
    "from keras import models\n",
    "from keras import layers\n",
    "\n",
    "model = models.Sequential()\n",
    "model.add(layers.Dense(16, activation='relu', input_shape=(10000,)))\n",
    "model.add(layers.Dense(16, activation='relu'))\n",
    "model.add(layers.Dense(1, activation='sigmoid'))"
   ]
  },
  {
   "cell_type": "markdown",
   "metadata": {},
   "source": [
    "### 3 hidden layers "
   ]
  },
  {
   "cell_type": "code",
   "execution_count": 24,
   "metadata": {},
   "outputs": [],
   "source": [
    "from keras import models\n",
    "from keras import layers\n",
    "\n",
    "model = models.Sequential()\n",
    "model.add(layers.Dense(16, activation='relu', input_shape=(10000,)))\n",
    "model.add(layers.Dense(16, activation='relu'))\n",
    "model.add(layers.Dense(16, activation='relu'))\n",
    "model.add(layers.Dense(1, activation='sigmoid'))"
   ]
  },
  {
   "cell_type": "code",
   "execution_count": 50,
   "metadata": {},
   "outputs": [],
   "source": [
    "\n",
    "from keras import losses\n",
    "from keras import metrics\n",
    "from keras import optimizers\n",
    "\n",
    "model.compile(optimizer=optimizers.RMSprop(lr=0.001),\n",
    "              loss=losses.binary_crossentropy,\n",
    "              metrics=[metrics.binary_accuracy])"
   ]
  },
  {
   "cell_type": "code",
   "execution_count": 51,
   "metadata": {},
   "outputs": [],
   "source": [
    "x_val = x_train[:10000]\n",
    "partial_x_train = x_train[10000:]\n",
    "y_val = y_train[:10000]\n",
    "partial_y_train = y_train[10000:]"
   ]
  },
  {
   "cell_type": "code",
   "execution_count": 52,
   "metadata": {},
   "outputs": [
    {
     "name": "stdout",
     "output_type": "stream",
     "text": [
      "Train on 15000 samples, validate on 10000 samples\n",
      "Epoch 1/20\n",
      "15000/15000 [==============================] - 4s 289us/step - loss: 0.4923 - acc: 0.7857 - val_loss: 0.3722 - val_acc: 0.8700\n",
      "Epoch 2/20\n",
      "15000/15000 [==============================] - 3s 216us/step - loss: 0.2972 - acc: 0.9077 - val_loss: 0.3098 - val_acc: 0.8870\n",
      "Epoch 3/20\n",
      "15000/15000 [==============================] - 4s 242us/step - loss: 0.2274 - acc: 0.9288 - val_loss: 0.3042 - val_acc: 0.8776\n",
      "Epoch 4/20\n",
      "15000/15000 [==============================] - 3s 227us/step - loss: 0.1890 - acc: 0.9403 - val_loss: 0.2873 - val_acc: 0.8845\n",
      "Epoch 5/20\n",
      "15000/15000 [==============================] - 3s 213us/step - loss: 0.1598 - acc: 0.9523 - val_loss: 0.2769 - val_acc: 0.8889\n",
      "Epoch 6/20\n",
      "15000/15000 [==============================] - 3s 232us/step - loss: 0.1376 - acc: 0.9603 - val_loss: 0.2985 - val_acc: 0.8815\n",
      "Epoch 7/20\n",
      "15000/15000 [==============================] - 3s 230us/step - loss: 0.1196 - acc: 0.9663 - val_loss: 0.2874 - val_acc: 0.8848\n",
      "Epoch 8/20\n",
      "15000/15000 [==============================] - 4s 237us/step - loss: 0.1056 - acc: 0.9705 - val_loss: 0.2970 - val_acc: 0.8826\n",
      "Epoch 9/20\n",
      "15000/15000 [==============================] - 4s 239us/step - loss: 0.0915 - acc: 0.9771 - val_loss: 0.3146 - val_acc: 0.8799\n",
      "Epoch 10/20\n",
      "15000/15000 [==============================] - 3s 215us/step - loss: 0.0821 - acc: 0.9802 - val_loss: 0.3173 - val_acc: 0.8831\n",
      "Epoch 11/20\n",
      "15000/15000 [==============================] - 3s 205us/step - loss: 0.0720 - acc: 0.9832 - val_loss: 0.3372 - val_acc: 0.8792\n",
      "Epoch 12/20\n",
      "15000/15000 [==============================] - 3s 203us/step - loss: 0.0623 - acc: 0.9871 - val_loss: 0.3624 - val_acc: 0.8720\n",
      "Epoch 13/20\n",
      "15000/15000 [==============================] - 3s 210us/step - loss: 0.0551 - acc: 0.9891 - val_loss: 0.3640 - val_acc: 0.8781\n",
      "Epoch 14/20\n",
      "15000/15000 [==============================] - 3s 211us/step - loss: 0.0489 - acc: 0.9909 - val_loss: 0.3751 - val_acc: 0.8782\n",
      "Epoch 15/20\n",
      "15000/15000 [==============================] - 3s 200us/step - loss: 0.0430 - acc: 0.9923 - val_loss: 0.3894 - val_acc: 0.8760\n",
      "Epoch 16/20\n",
      "15000/15000 [==============================] - 3s 208us/step - loss: 0.0375 - acc: 0.9944 - val_loss: 0.4069 - val_acc: 0.8762\n",
      "Epoch 17/20\n",
      "15000/15000 [==============================] - 3s 215us/step - loss: 0.0320 - acc: 0.9955 - val_loss: 0.4255 - val_acc: 0.8734\n",
      "Epoch 18/20\n",
      "15000/15000 [==============================] - 3s 209us/step - loss: 0.0285 - acc: 0.9961 - val_loss: 0.4484 - val_acc: 0.8684\n",
      "Epoch 19/20\n",
      "15000/15000 [==============================] - 3s 217us/step - loss: 0.0257 - acc: 0.9968 - val_loss: 0.4612 - val_acc: 0.8709\n",
      "Epoch 20/20\n",
      "15000/15000 [==============================] - 3s 213us/step - loss: 0.0214 - acc: 0.9980 - val_loss: 0.4788 - val_acc: 0.8684\n"
     ]
    }
   ],
   "source": [
    "model.compile(optimizer='rmsprop',\n",
    "              loss='binary_crossentropy',\n",
    "              metrics=['acc'])\n",
    "\n",
    "history = model.fit(partial_x_train,\n",
    "                    partial_y_train,\n",
    "                    epochs=20,\n",
    "                    batch_size=512,\n",
    "                    validation_data=(x_val, y_val))"
   ]
  },
  {
   "cell_type": "code",
   "execution_count": 53,
   "metadata": {},
   "outputs": [
    {
     "data": {
      "text/plain": [
       "dict_keys(['val_loss', 'val_acc', 'loss', 'acc'])"
      ]
     },
     "execution_count": 53,
     "metadata": {},
     "output_type": "execute_result"
    }
   ],
   "source": [
    "history_dict = history.history\n",
    "history_dict.keys()"
   ]
  },
  {
   "cell_type": "code",
   "execution_count": 54,
   "metadata": {},
   "outputs": [
    {
     "data": {
      "image/png": "[encoded data removed]",
      "text/plain": [
       "<Figure size 432x288 with 1 Axes>"
      ]
     },
     "metadata": {},
     "output_type": "display_data"
    }
   ],
   "source": [
    "import matplotlib.pyplot as plt\n",
    "\n",
    "history_dict = history.history\n",
    "loss_values = history_dict['loss']\n",
    "val_loss_values = history_dict['val_loss']\n",
    "\n",
    "epochs = range(1, len(history_dict['acc']) + 1)\n",
    "\n",
    "plt.plot(epochs, loss_values, 'bo', label='Training loss')\n",
    "plt.plot(epochs, val_loss_values, 'b', label='Validation loss')\n",
    "plt.title('Training and validation loss')\n",
    "plt.xlabel('Epochs')\n",
    "plt.ylabel('Loss')\n",
    "plt.legend()\n",
    "\n",
    "plt.show()"
   ]
  },
  {
   "cell_type": "code",
   "execution_count": 55,
   "metadata": {},
   "outputs": [
    {
     "data": {
      "image/png": "[encoded data removed]",
      "text/plain": [
       "<Figure size 432x288 with 1 Axes>"
      ]
     },
     "metadata": {},
     "output_type": "display_data"
    }
   ],
   "source": [
    "plt.clf()\n",
    "acc_values = history_dict['acc']\n",
    "val_acc_values = history_dict['val_acc']\n",
    "\n",
    "plt.plot(epochs, acc_values, 'bo', label='Training acc')\n",
    "plt.plot(epochs, val_acc_values, 'b', label='Validation acc')\n",
    "plt.title('Training and validation accuracy')\n",
    "plt.xlabel('Epochs')\n",
    "plt.ylabel('Loss')\n",
    "plt.legend()\n",
    "\n",
    "plt.show()"
   ]
  },
  {
   "cell_type": "markdown",
   "metadata": {
    "collapsed": true
   },
   "source": [
    "### 2 hidden layers (32 units)"
   ]
  },
  {
   "cell_type": "code",
   "execution_count": 58,
   "metadata": {
    "scrolled": true
   },
   "outputs": [
    {
     "name": "stdout",
     "output_type": "stream",
     "text": [
      "Epoch 1/4\n",
      "25000/25000 [==============================] - 5s 199us/step - loss: 0.4429 - acc: 0.8135\n",
      "Epoch 2/4\n",
      "25000/25000 [==============================] - 4s 150us/step - loss: 0.2490 - acc: 0.9108\n",
      "Epoch 3/4\n",
      "25000/25000 [==============================] - 4s 157us/step - loss: 0.1910 - acc: 0.9304\n",
      "Epoch 4/4\n",
      "25000/25000 [==============================] - 4s 164us/step - loss: 0.1602 - acc: 0.9415\n",
      "25000/25000 [==============================] - 5s 183us/step\n"
     ]
    }
   ],
   "source": [
    "model = models.Sequential()\n",
    "model.add(layers.Dense(32, activation='relu', input_shape=(10000,)))\n",
    "model.add(layers.Dense(32, activation='relu'))\n",
    "model.add(layers.Dense(1, activation='sigmoid'))\n",
    "\n",
    "model.compile(optimizer='rmsprop',\n",
    "              loss='binary_crossentropy',\n",
    "              metrics=['accuracy'])\n",
    "\n",
    "model.fit(x_train, y_train, epochs=4, batch_size=512)\n",
    "results = model.evaluate(x_test, y_test)"
   ]
  },
  {
   "cell_type": "markdown",
   "metadata": {},
   "source": [
    "### 2 hidden layers (64 units)"
   ]
  },
  {
   "cell_type": "code",
   "execution_count": 59,
   "metadata": {},
   "outputs": [
    {
     "name": "stdout",
     "output_type": "stream",
     "text": [
      "Epoch 1/4\n",
      "25000/25000 [==============================] - 6s 237us/step - loss: 0.4260 - acc: 0.8092 3s - loss: 0.5122 -  - ETA: 1s - loss: 0.468\n",
      "Epoch 2/4\n",
      "25000/25000 [==============================] - 5s 189us/step - loss: 0.2362 - acc: 0.9109\n",
      "Epoch 3/4\n",
      "25000/25000 [==============================] - 4s 174us/step - loss: 0.1826 - acc: 0.9304\n",
      "Epoch 4/4\n",
      "25000/25000 [==============================] - 5s 184us/step - loss: 0.1462 - acc: 0.9452\n",
      "25000/25000 [==============================] - 5s 192us/step\n"
     ]
    }
   ],
   "source": [
    "model = models.Sequential()\n",
    "model.add(layers.Dense(64, activation='relu', input_shape=(10000,)))\n",
    "model.add(layers.Dense(64, activation='relu'))\n",
    "model.add(layers.Dense(1, activation='sigmoid'))\n",
    "\n",
    "model.compile(optimizer='rmsprop',\n",
    "              loss='binary_crossentropy',\n",
    "              metrics=['accuracy'])\n",
    "\n",
    "model.fit(x_train, y_train, epochs=4, batch_size=512)\n",
    "results = model.evaluate(x_test, y_test)"
   ]
  },
  {
   "cell_type": "markdown",
   "metadata": {},
   "source": [
    "### 2 hidden layers (128 units)  "
   ]
  },
  {
   "cell_type": "code",
   "execution_count": 60,
   "metadata": {},
   "outputs": [
    {
     "name": "stdout",
     "output_type": "stream",
     "text": [
      "Epoch 1/4\n",
      "25000/25000 [==============================] - 7s 277us/step - loss: 0.4259 - acc: 0.8096\n",
      "Epoch 2/4\n",
      "25000/25000 [==============================] - 6s 251us/step - loss: 0.2366 - acc: 0.9062\n",
      "Epoch 3/4\n",
      "25000/25000 [==============================] - 6s 258us/step - loss: 0.1672 - acc: 0.9370\n",
      "Epoch 4/4\n",
      "25000/25000 [==============================] - 6s 247us/step - loss: 0.1257 - acc: 0.9534\n",
      "25000/25000 [==============================] - 7s 268us/step\n"
     ]
    }
   ],
   "source": [
    "model = models.Sequential()\n",
    "model.add(layers.Dense(128, activation='relu', input_shape=(10000,)))\n",
    "model.add(layers.Dense(128, activation='relu'))\n",
    "model.add(layers.Dense(1, activation='sigmoid'))\n",
    "\n",
    "model.compile(optimizer='rmsprop',\n",
    "              loss='binary_crossentropy',\n",
    "              metrics=['accuracy'])\n",
    "\n",
    "model.fit(x_train, y_train, epochs=4, batch_size=512)\n",
    "results = model.evaluate(x_test, y_test)"
   ]
  },
  {
   "cell_type": "markdown",
   "metadata": {},
   "source": [
    "### MSE"
   ]
  },
  {
   "cell_type": "code",
   "execution_count": 61,
   "metadata": {},
   "outputs": [
    {
     "name": "stdout",
     "output_type": "stream",
     "text": [
      "Epoch 1/4\n",
      "25000/25000 [==============================] - 5s 194us/step - loss: 0.1400 - acc: 0.8198\n",
      "Epoch 2/4\n",
      "25000/25000 [==============================] - 4s 172us/step - loss: 0.0736 - acc: 0.9104\n",
      "Epoch 3/4\n",
      "25000/25000 [==============================] - 4s 163us/step - loss: 0.0550 - acc: 0.9318\n",
      "Epoch 4/4\n",
      "25000/25000 [==============================] - 4s 167us/step - loss: 0.0445 - acc: 0.9460\n",
      "25000/25000 [==============================] - 4s 179us/step\n"
     ]
    }
   ],
   "source": [
    "model = models.Sequential()\n",
    "model.add(layers.Dense(32, activation='relu', input_shape=(10000,)))\n",
    "model.add(layers.Dense(32, activation='relu'))\n",
    "model.add(layers.Dense(1, activation='sigmoid'))\n",
    "\n",
    "model.compile(optimizer='rmsprop',\n",
    "              loss='mse',\n",
    "              metrics=['accuracy'])\n",
    "\n",
    "model.fit(x_train, y_train, epochs=4, batch_size=512)\n",
    "results = model.evaluate(x_test, y_test)"
   ]
  },
  {
   "cell_type": "markdown",
   "metadata": {},
   "source": [
    "### TANH"
   ]
  },
  {
   "cell_type": "code",
   "execution_count": 63,
   "metadata": {},
   "outputs": [
    {
     "name": "stdout",
     "output_type": "stream",
     "text": [
      "Epoch 1/4\n",
      "25000/25000 [==============================] - 5s 188us/step - loss: 0.1287 - acc: 0.8274\n",
      "Epoch 2/4\n",
      "25000/25000 [==============================] - 4s 151us/step - loss: 0.0645 - acc: 0.9164\n",
      "Epoch 3/4\n",
      "25000/25000 [==============================] - 4s 162us/step - loss: 0.0515 - acc: 0.9342\n",
      "Epoch 4/4\n",
      "25000/25000 [==============================] - 4s 156us/step - loss: 0.0424 - acc: 0.9467\n",
      "25000/25000 [==============================] - 4s 177us/step\n"
     ]
    }
   ],
   "source": [
    "model = models.Sequential()\n",
    "model.add(layers.Dense(32, activation='tanh', input_shape=(10000,)))\n",
    "model.add(layers.Dense(32, activation='tanh'))\n",
    "model.add(layers.Dense(1, activation='sigmoid'))\n",
    "\n",
    "model.compile(optimizer='rmsprop',\n",
    "              loss='mse',\n",
    "              metrics=['accuracy'])\n",
    "\n",
    "model.fit(x_train, y_train, epochs=4, batch_size=512)\n",
    "results = model.evaluate(x_test, y_test)"
   ]
  },
  {
   "cell_type": "markdown",
   "metadata": {},
   "source": [
    "### Hometask 2"
   ]
  },
  {
   "cell_type": "code",
   "execution_count": 124,
   "metadata": {},
   "outputs": [],
   "source": [
    "from keras.datasets import reuters\n",
    "\n",
    "(train_data, train_labels), (test_data, test_labels) = reuters.load_data(\n",
    "    num_words=10000)"
   ]
  },
  {
   "cell_type": "code",
   "execution_count": 125,
   "metadata": {},
   "outputs": [],
   "source": [
    "import numpy as np\n",
    "\n",
    "def vectorize_sequences(sequences, dimension=10000):\n",
    "    results = np.zeros((len(sequences), dimension))\n",
    "    for i, sequence in enumerate(sequences):\n",
    "        results[i, sequence] = 1.\n",
    "    return results\n",
    "\n",
    "x_train = vectorize_sequences(train_data)\n",
    "x_test = vectorize_sequences(test_data)\n"
   ]
  },
  {
   "cell_type": "code",
   "execution_count": 126,
   "metadata": {},
   "outputs": [],
   "source": [
    "from keras.utils.np_utils import to_categorical\n",
    "\n",
    "y_train = np.array(train_labels)\n",
    "y_test = np.array(test_labels)"
   ]
  },
  {
   "cell_type": "code",
   "execution_count": 127,
   "metadata": {},
   "outputs": [],
   "source": [
    "model.compile(optimizer='rmsprop',\n",
    "              loss='sparse_categorical_crossentropy',\n",
    "              metrics=['acc'])"
   ]
  },
  {
   "cell_type": "markdown",
   "metadata": {},
   "source": [
    "### 1 hidden layer"
   ]
  },
  {
   "cell_type": "code",
   "execution_count": 128,
   "metadata": {},
   "outputs": [
    {
     "name": "stdout",
     "output_type": "stream",
     "text": [
      "Train on 15000 samples, validate on 10000 samples\n",
      "Epoch 1/20\n",
      "15000/15000 [==============================] - 5s 352us/step - loss: 0.6645 - acc: 0.8210 - val_loss: 0.3221 - val_acc: 0.8746\n",
      "Epoch 2/20\n",
      "15000/15000 [==============================] - 4s 294us/step - loss: 0.2383 - acc: 0.9149 - val_loss: 0.2869 - val_acc: 0.8845\n",
      "Epoch 3/20\n",
      "15000/15000 [==============================] - 4s 290us/step - loss: 0.1771 - acc: 0.9373 - val_loss: 0.2939 - val_acc: 0.8843\n",
      "Epoch 4/20\n",
      "15000/15000 [==============================] - 4s 289us/step - loss: 0.1381 - acc: 0.9534 - val_loss: 0.2886 - val_acc: 0.8875\n",
      "Epoch 5/20\n",
      "15000/15000 [==============================] - 4s 288us/step - loss: 0.1101 - acc: 0.9633 - val_loss: 0.3097 - val_acc: 0.8829\n",
      "Epoch 6/20\n",
      "15000/15000 [==============================] - 4s 279us/step - loss: 0.0872 - acc: 0.9719 - val_loss: 0.3541 - val_acc: 0.8767\n",
      "Epoch 7/20\n",
      "15000/15000 [==============================] - 4s 291us/step - loss: 0.0671 - acc: 0.9784 - val_loss: 0.3746 - val_acc: 0.8752\n",
      "Epoch 8/20\n",
      "15000/15000 [==============================] - 4s 287us/step - loss: 0.0507 - acc: 0.9845 - val_loss: 0.4128 - val_acc: 0.8733\n",
      "Epoch 9/20\n",
      "15000/15000 [==============================] - 4s 276us/step - loss: 0.0361 - acc: 0.9902 - val_loss: 0.4615 - val_acc: 0.8677\n",
      "Epoch 10/20\n",
      "15000/15000 [==============================] - 5s 302us/step - loss: 0.0258 - acc: 0.9933 - val_loss: 0.4957 - val_acc: 0.8704\n",
      "Epoch 11/20\n",
      "15000/15000 [==============================] - 4s 295us/step - loss: 0.0177 - acc: 0.9961 - val_loss: 0.5561 - val_acc: 0.8700\n",
      "Epoch 12/20\n",
      "15000/15000 [==============================] - 5s 307us/step - loss: 0.0118 - acc: 0.9976 - val_loss: 0.5986 - val_acc: 0.8670\n",
      "Epoch 13/20\n",
      "15000/15000 [==============================] - 5s 355us/step - loss: 0.0076 - acc: 0.9989 - val_loss: 0.6621 - val_acc: 0.8671\n",
      "Epoch 14/20\n",
      "15000/15000 [==============================] - 5s 344us/step - loss: 0.0047 - acc: 0.9996 - val_loss: 0.7187 - val_acc: 0.8653\n",
      "Epoch 15/20\n",
      "15000/15000 [==============================] - 5s 341us/step - loss: 0.0027 - acc: 0.9999 - val_loss: 0.7791 - val_acc: 0.8650\n",
      "Epoch 16/20\n",
      "15000/15000 [==============================] - 5s 350us/step - loss: 0.0016 - acc: 0.9999 - val_loss: 0.8021 - val_acc: 0.8626\n",
      "Epoch 17/20\n",
      "15000/15000 [==============================] - 4s 286us/step - loss: 9.2269e-04 - acc: 1.0000 - val_loss: 0.8847 - val_acc: 0.8635\n",
      "Epoch 18/20\n",
      "15000/15000 [==============================] - 4s 274us/step - loss: 5.2781e-04 - acc: 1.0000 - val_loss: 0.9258 - val_acc: 0.8628\n",
      "Epoch 19/20\n",
      "15000/15000 [==============================] - 4s 289us/step - loss: 2.6792e-04 - acc: 1.0000 - val_loss: 0.9780 - val_acc: 0.8611\n",
      "Epoch 20/20\n",
      "15000/15000 [==============================] - 4s 283us/step - loss: 2.0246e-04 - acc: 1.0000 - val_loss: 1.0068 - val_acc: 0.8624\n"
     ]
    },
    {
     "data": {
      "text/plain": [
       "<keras.callbacks.History at 0x1a1bcdf8470>"
      ]
     },
     "execution_count": 128,
     "metadata": {},
     "output_type": "execute_result"
    }
   ],
   "source": [
    "model = models.Sequential()\n",
    "model.add(layers.Dense(32, activation='relu', input_shape=(10000,)))\n",
    "model.add(layers.Dense(46, activation='softmax'))\n",
    "\n",
    "model.compile(optimizer='rmsprop',\n",
    "              loss='sparse_categorical_crossentropy',\n",
    "              metrics=['accuracy'])\n",
    "model.fit(partial_x_train,\n",
    "          partial_y_train,\n",
    "          epochs=20,\n",
    "          batch_size=128,\n",
    "          validation_data=(x_val, y_val))"
   ]
  },
  {
   "cell_type": "markdown",
   "metadata": {},
   "source": [
    "### 2 hidden layers (32 units)"
   ]
  },
  {
   "cell_type": "code",
   "execution_count": 129,
   "metadata": {},
   "outputs": [
    {
     "name": "stdout",
     "output_type": "stream",
     "text": [
      "Train on 15000 samples, validate on 10000 samples\n",
      "Epoch 1/20\n",
      "15000/15000 [==============================] - 5s 355us/step - loss: 0.7098 - acc: 0.8035 - val_loss: 0.3973 - val_acc: 0.8288\n",
      "Epoch 2/20\n",
      "15000/15000 [==============================] - 4s 267us/step - loss: 0.2340 - acc: 0.9148 - val_loss: 0.3401 - val_acc: 0.8614\n",
      "Epoch 3/20\n",
      "15000/15000 [==============================] - 4s 278us/step - loss: 0.1653 - acc: 0.9379 - val_loss: 0.3554 - val_acc: 0.8673\n",
      "Epoch 4/20\n",
      "15000/15000 [==============================] - 4s 286us/step - loss: 0.1289 - acc: 0.9539 - val_loss: 0.3200 - val_acc: 0.8867\n",
      "Epoch 5/20\n",
      "15000/15000 [==============================] - 4s 273us/step - loss: 0.0972 - acc: 0.9658 - val_loss: 0.3768 - val_acc: 0.8766\n",
      "Epoch 6/20\n",
      "15000/15000 [==============================] - 4s 275us/step - loss: 0.0722 - acc: 0.9755 - val_loss: 0.4256 - val_acc: 0.8769\n",
      "Epoch 7/20\n",
      "15000/15000 [==============================] - 4s 274us/step - loss: 0.0505 - acc: 0.9829 - val_loss: 0.5046 - val_acc: 0.8662\n",
      "Epoch 8/20\n",
      "15000/15000 [==============================] - 4s 278us/step - loss: 0.0339 - acc: 0.9885 - val_loss: 0.6329 - val_acc: 0.8566\n",
      "Epoch 9/20\n",
      "15000/15000 [==============================] - 4s 287us/step - loss: 0.0212 - acc: 0.9943 - val_loss: 0.6549 - val_acc: 0.8680\n",
      "Epoch 10/20\n",
      "15000/15000 [==============================] - 4s 276us/step - loss: 0.0132 - acc: 0.9961 - val_loss: 0.7104 - val_acc: 0.8663\n",
      "Epoch 11/20\n",
      "15000/15000 [==============================] - 4s 286us/step - loss: 0.0072 - acc: 0.9984 - val_loss: 0.8027 - val_acc: 0.8659\n",
      "Epoch 12/20\n",
      "15000/15000 [==============================] - 4s 283us/step - loss: 0.0040 - acc: 0.9992 - val_loss: 0.9195 - val_acc: 0.8606\n",
      "Epoch 13/20\n",
      "15000/15000 [==============================] - 4s 286us/step - loss: 0.0021 - acc: 0.9996 - val_loss: 0.9819 - val_acc: 0.8631\n",
      "Epoch 14/20\n",
      "15000/15000 [==============================] - 4s 280us/step - loss: 0.0014 - acc: 0.9996 - val_loss: 1.0969 - val_acc: 0.8598\n",
      "Epoch 15/20\n",
      "15000/15000 [==============================] - 4s 279us/step - loss: 7.5265e-04 - acc: 0.9998 - val_loss: 1.1464 - val_acc: 0.8586\n",
      "Epoch 16/20\n",
      "15000/15000 [==============================] - 4s 289us/step - loss: 1.4811e-04 - acc: 0.9999 - val_loss: 1.2641 - val_acc: 0.8553\n",
      "Epoch 17/20\n",
      "15000/15000 [==============================] - 4s 300us/step - loss: 6.3009e-05 - acc: 1.0000 - val_loss: 1.2720 - val_acc: 0.8615\n",
      "Epoch 18/20\n",
      "15000/15000 [==============================] - 4s 287us/step - loss: 5.7977e-05 - acc: 1.0000 - val_loss: 1.3077 - val_acc: 0.8601\n",
      "Epoch 19/20\n",
      "15000/15000 [==============================] - 4s 277us/step - loss: 4.2267e-04 - acc: 0.9998 - val_loss: 1.3241 - val_acc: 0.8614 acc: 0.99\n",
      "Epoch 20/20\n",
      "15000/15000 [==============================] - 4s 282us/step - loss: 3.7170e-04 - acc: 0.9999 - val_loss: 1.3438 - val_acc: 0.8611\n"
     ]
    },
    {
     "data": {
      "text/plain": [
       "<keras.callbacks.History at 0x1a19b1f8a20>"
      ]
     },
     "execution_count": 129,
     "metadata": {},
     "output_type": "execute_result"
    }
   ],
   "source": [
    "model = models.Sequential()\n",
    "model.add(layers.Dense(32, activation='relu', input_shape=(10000,)))\n",
    "model.add(layers.Dense(32, activation='relu'))\n",
    "model.add(layers.Dense(46, activation='softmax'))\n",
    "\n",
    "model.compile(optimizer='rmsprop',\n",
    "              loss='sparse_categorical_crossentropy',\n",
    "              metrics=['accuracy'])\n",
    "model.fit(partial_x_train,\n",
    "          partial_y_train,\n",
    "          epochs=20,\n",
    "          batch_size=128,\n",
    "          validation_data=(x_val, y_val))"
   ]
  },
  {
   "cell_type": "markdown",
   "metadata": {},
   "source": [
    "### 2 hidden layers (64 units)"
   ]
  },
  {
   "cell_type": "code",
   "execution_count": 130,
   "metadata": {},
   "outputs": [
    {
     "name": "stdout",
     "output_type": "stream",
     "text": [
      "Train on 15000 samples, validate on 10000 samples\n",
      "Epoch 1/20\n",
      "15000/15000 [==============================] - 6s 404us/step - loss: 0.5732 - acc: 0.8119 - val_loss: 0.3036 - val_acc: 0.8745\n",
      "Epoch 2/20\n",
      "15000/15000 [==============================] - 5s 320us/step - loss: 0.2204 - acc: 0.9154 - val_loss: 0.4091 - val_acc: 0.8388\n",
      "Epoch 3/20\n",
      "15000/15000 [==============================] - 5s 328us/step - loss: 0.1585 - acc: 0.9400 - val_loss: 0.3457 - val_acc: 0.8753\n",
      "Epoch 4/20\n",
      "15000/15000 [==============================] - 5s 347us/step - loss: 0.1065 - acc: 0.9597 - val_loss: 0.5278 - val_acc: 0.8352\n",
      "Epoch 5/20\n",
      "15000/15000 [==============================] - 5s 322us/step - loss: 0.0719 - acc: 0.9737 - val_loss: 0.4338 - val_acc: 0.8773\n",
      "Epoch 6/20\n",
      "15000/15000 [==============================] - 5s 352us/step - loss: 0.0405 - acc: 0.9851 - val_loss: 0.5798 - val_acc: 0.8738\n",
      "Epoch 7/20\n",
      "15000/15000 [==============================] - 6s 371us/step - loss: 0.0239 - acc: 0.9918 - val_loss: 0.6376 - val_acc: 0.8722\n",
      "Epoch 8/20\n",
      "15000/15000 [==============================] - 5s 341us/step - loss: 0.0100 - acc: 0.9974 - val_loss: 0.7503 - val_acc: 0.8697\n",
      "Epoch 9/20\n",
      "15000/15000 [==============================] - 5s 330us/step - loss: 0.0044 - acc: 0.9985 - val_loss: 0.8598 - val_acc: 0.8686\n",
      "Epoch 10/20\n",
      "15000/15000 [==============================] - 5s 348us/step - loss: 0.0037 - acc: 0.9989 - val_loss: 0.9645 - val_acc: 0.8629\n",
      "Epoch 11/20\n",
      "15000/15000 [==============================] - 5s 333us/step - loss: 4.3523e-04 - acc: 1.0000 - val_loss: 1.0607 - val_acc: 0.8651\n",
      "Epoch 12/20\n",
      "15000/15000 [==============================] - 5s 334us/step - loss: 9.5488e-04 - acc: 0.9998 - val_loss: 1.1635 - val_acc: 0.8644\n",
      "Epoch 13/20\n",
      "15000/15000 [==============================] - 5s 321us/step - loss: 0.0034 - acc: 0.9995 - val_loss: 1.1948 - val_acc: 0.8642\n",
      "Epoch 14/20\n",
      "15000/15000 [==============================] - 5s 330us/step - loss: 1.4260e-04 - acc: 0.9999 - val_loss: 1.2452 - val_acc: 0.8638\n",
      "Epoch 15/20\n",
      "15000/15000 [==============================] - 5s 355us/step - loss: 1.2070e-05 - acc: 1.0000 - val_loss: 1.3071 - val_acc: 0.8636\n",
      "Epoch 16/20\n",
      "15000/15000 [==============================] - 5s 358us/step - loss: 0.0018 - acc: 0.9997 - val_loss: 1.3144 - val_acc: 0.8638\n",
      "Epoch 17/20\n",
      "15000/15000 [==============================] - 5s 347us/step - loss: 6.0479e-06 - acc: 1.0000 - val_loss: 1.3367 - val_acc: 0.8654\n",
      "Epoch 18/20\n",
      "15000/15000 [==============================] - 5s 351us/step - loss: 5.4862e-06 - acc: 1.0000 - val_loss: 1.4073 - val_acc: 0.8665\n",
      "Epoch 19/20\n",
      "15000/15000 [==============================] - 5s 335us/step - loss: 5.3825e-06 - acc: 1.0000 - val_loss: 1.4296 - val_acc: 0.8666\n",
      "Epoch 20/20\n",
      "15000/15000 [==============================] - 5s 339us/step - loss: 5.3697e-06 - acc: 1.0000 - val_loss: 1.4413 - val_acc: 0.8664\n"
     ]
    },
    {
     "data": {
      "text/plain": [
       "<keras.callbacks.History at 0x1a197560cc0>"
      ]
     },
     "execution_count": 130,
     "metadata": {},
     "output_type": "execute_result"
    }
   ],
   "source": [
    "model = models.Sequential()\n",
    "model.add(layers.Dense(64, activation='relu', input_shape=(10000,)))\n",
    "model.add(layers.Dense(64, activation='relu'))\n",
    "model.add(layers.Dense(46, activation='softmax'))\n",
    "\n",
    "model.compile(optimizer='rmsprop',\n",
    "              loss='sparse_categorical_crossentropy',\n",
    "              metrics=['accuracy'])\n",
    "model.fit(partial_x_train,\n",
    "          partial_y_train,\n",
    "          epochs=20,\n",
    "          batch_size=128,\n",
    "          validation_data=(x_val, y_val))"
   ]
  },
  {
   "cell_type": "markdown",
   "metadata": {},
   "source": [
    "### 2 hidden layers (128 units)"
   ]
  },
  {
   "cell_type": "code",
   "execution_count": 131,
   "metadata": {},
   "outputs": [
    {
     "name": "stdout",
     "output_type": "stream",
     "text": [
      "Train on 15000 samples, validate on 10000 samples\n",
      "Epoch 1/20\n",
      "15000/15000 [==============================] - 9s 584us/step - loss: 0.5050 - acc: 0.8051 - val_loss: 0.3274 - val_acc: 0.8685\n",
      "Epoch 2/20\n",
      "15000/15000 [==============================] - 7s 487us/step - loss: 0.2088 - acc: 0.9181 - val_loss: 0.3214 - val_acc: 0.8776\n",
      "Epoch 3/20\n",
      "15000/15000 [==============================] - 7s 481us/step - loss: 0.1326 - acc: 0.9480 - val_loss: 0.3396 - val_acc: 0.8810\n",
      "Epoch 4/20\n",
      "15000/15000 [==============================] - 7s 471us/step - loss: 0.0692 - acc: 0.9727 - val_loss: 0.4280 - val_acc: 0.8772\n",
      "Epoch 5/20\n",
      "15000/15000 [==============================] - 7s 471us/step - loss: 0.0292 - acc: 0.9902 - val_loss: 0.6511 - val_acc: 0.8536\n",
      "Epoch 6/20\n",
      "15000/15000 [==============================] - 7s 480us/step - loss: 0.0146 - acc: 0.9970 - val_loss: 0.7303 - val_acc: 0.8751\n",
      "Epoch 7/20\n",
      "15000/15000 [==============================] - 7s 483us/step - loss: 0.0101 - acc: 0.9983 - val_loss: 1.0962 - val_acc: 0.8564\n",
      "Epoch 8/20\n",
      "15000/15000 [==============================] - 8s 522us/step - loss: 0.0107 - acc: 0.9979 - val_loss: 0.8736 - val_acc: 0.8728\n",
      "Epoch 9/20\n",
      "15000/15000 [==============================] - 8s 521us/step - loss: 0.0045 - acc: 0.9990 - val_loss: 0.9418 - val_acc: 0.8743\n",
      "Epoch 10/20\n",
      "15000/15000 [==============================] - 8s 513us/step - loss: 0.0087 - acc: 0.9983 - val_loss: 0.9202 - val_acc: 0.8725\n",
      "Epoch 11/20\n",
      "15000/15000 [==============================] - 8s 511us/step - loss: 0.0050 - acc: 0.9988 - val_loss: 0.9721 - val_acc: 0.8739\n",
      "Epoch 12/20\n",
      "15000/15000 [==============================] - 8s 518us/step - loss: 0.0053 - acc: 0.9993 - val_loss: 1.0311 - val_acc: 0.8729\n",
      "Epoch 13/20\n",
      "15000/15000 [==============================] - 8s 511us/step - loss: 0.0034 - acc: 0.9995 - val_loss: 1.0812 - val_acc: 0.8717\n",
      "Epoch 14/20\n",
      "15000/15000 [==============================] - 9s 568us/step - loss: 0.0021 - acc: 0.9995 - val_loss: 1.0942 - val_acc: 0.8731\n",
      "Epoch 15/20\n",
      "15000/15000 [==============================] - 9s 570us/step - loss: 0.0017 - acc: 0.9999 - val_loss: 1.0993 - val_acc: 0.8719\n",
      "Epoch 16/20\n",
      "15000/15000 [==============================] - 8s 514us/step - loss: 0.0019 - acc: 0.9996 - val_loss: 1.1267 - val_acc: 0.8715\n",
      "Epoch 17/20\n",
      "15000/15000 [==============================] - 7s 463us/step - loss: 1.0297e-05 - acc: 1.0000 - val_loss: 1.1811 - val_acc: 0.8739\n",
      "Epoch 18/20\n",
      "15000/15000 [==============================] - 8s 528us/step - loss: 5.7496e-06 - acc: 1.0000 - val_loss: 1.2700 - val_acc: 0.8694\n",
      "Epoch 19/20\n",
      "15000/15000 [==============================] - 8s 511us/step - loss: 0.0103 - acc: 0.9985 - val_loss: 1.2359 - val_acc: 0.8719\n",
      "Epoch 20/20\n",
      "15000/15000 [==============================] - 9s 617us/step - loss: 0.0052 - acc: 0.9987 - val_loss: 1.2600 - val_acc: 0.8666\n"
     ]
    },
    {
     "data": {
      "text/plain": [
       "<keras.callbacks.History at 0x1a2b6936320>"
      ]
     },
     "execution_count": 131,
     "metadata": {},
     "output_type": "execute_result"
    }
   ],
   "source": [
    "model = models.Sequential()\n",
    "model.add(layers.Dense(128, activation='relu', input_shape=(10000,)))\n",
    "model.add(layers.Dense(128, activation='relu'))\n",
    "model.add(layers.Dense(46, activation='softmax'))\n",
    "\n",
    "model.compile(optimizer='rmsprop',\n",
    "              loss='sparse_categorical_crossentropy',\n",
    "              metrics=['accuracy'])\n",
    "model.fit(partial_x_train,\n",
    "          partial_y_train,\n",
    "          epochs=20,\n",
    "          batch_size=128,\n",
    "          validation_data=(x_val, y_val))"
   ]
  },
  {
   "cell_type": "markdown",
   "metadata": {},
   "source": [
    "### 3 hidden layers "
   ]
  },
  {
   "cell_type": "code",
   "execution_count": 132,
   "metadata": {},
   "outputs": [
    {
     "name": "stdout",
     "output_type": "stream",
     "text": [
      "Train on 15000 samples, validate on 10000 samples\n",
      "Epoch 1/20\n",
      "15000/15000 [==============================] - 9s 594us/step - loss: 0.8574 - acc: 0.7508 - val_loss: 0.3179 - val_acc: 0.8795\n",
      "Epoch 2/20\n",
      "15000/15000 [==============================] - 5s 325us/step - loss: 0.2438 - acc: 0.9055 - val_loss: 0.3075 - val_acc: 0.8796\n",
      "Epoch 3/20\n",
      "15000/15000 [==============================] - 5s 317us/step - loss: 0.1747 - acc: 0.9344 - val_loss: 0.3431 - val_acc: 0.8709\n",
      "Epoch 4/20\n",
      "15000/15000 [==============================] - 4s 298us/step - loss: 0.1299 - acc: 0.9512 - val_loss: 0.4155 - val_acc: 0.8636\n",
      "Epoch 5/20\n",
      "15000/15000 [==============================] - 4s 278us/step - loss: 0.0972 - acc: 0.9647 - val_loss: 0.4171 - val_acc: 0.8725\n",
      "Epoch 6/20\n",
      "15000/15000 [==============================] - 4s 295us/step - loss: 0.0691 - acc: 0.9755 - val_loss: 0.4610 - val_acc: 0.8725\n",
      "Epoch 7/20\n",
      "15000/15000 [==============================] - 4s 286us/step - loss: 0.0449 - acc: 0.9838 - val_loss: 0.5459 - val_acc: 0.8714\n",
      "Epoch 8/20\n",
      "15000/15000 [==============================] - 5s 327us/step - loss: 0.0255 - acc: 0.9908 - val_loss: 0.6744 - val_acc: 0.8667\n",
      "Epoch 9/20\n",
      "15000/15000 [==============================] - 5s 326us/step - loss: 0.0152 - acc: 0.9955 - val_loss: 0.7337 - val_acc: 0.8671\n",
      "Epoch 10/20\n",
      "15000/15000 [==============================] - 5s 313us/step - loss: 0.0090 - acc: 0.9975 - val_loss: 0.8377 - val_acc: 0.8650\n",
      "Epoch 11/20\n",
      "15000/15000 [==============================] - 6s 376us/step - loss: 0.0053 - acc: 0.9981 - val_loss: 0.9582 - val_acc: 0.8582\n",
      "Epoch 12/20\n",
      "15000/15000 [==============================] - 5s 358us/step - loss: 0.0023 - acc: 0.9994 - val_loss: 0.9774 - val_acc: 0.8637\n",
      "Epoch 13/20\n",
      "15000/15000 [==============================] - 5s 300us/step - loss: 0.0055 - acc: 0.9990 - val_loss: 1.0611 - val_acc: 0.8628\n",
      "Epoch 14/20\n",
      "15000/15000 [==============================] - 5s 359us/step - loss: 0.0021 - acc: 0.9995 - val_loss: 1.1387 - val_acc: 0.8612\n",
      "Epoch 15/20\n",
      "15000/15000 [==============================] - 6s 374us/step - loss: 8.7689e-04 - acc: 0.9997 - val_loss: 1.1840 - val_acc: 0.8630\n",
      "Epoch 16/20\n",
      "15000/15000 [==============================] - 5s 364us/step - loss: 2.6072e-04 - acc: 0.9999 - val_loss: 1.2274 - val_acc: 0.8620\n",
      "Epoch 17/20\n",
      "15000/15000 [==============================] - 5s 306us/step - loss: 0.0037 - acc: 0.9994 - val_loss: 1.2825 - val_acc: 0.8617\n",
      "Epoch 18/20\n",
      "15000/15000 [==============================] - 4s 291us/step - loss: 9.2736e-06 - acc: 1.0000 - val_loss: 1.3122 - val_acc: 0.8616\n",
      "Epoch 19/20\n",
      "15000/15000 [==============================] - 4s 283us/step - loss: 0.0036 - acc: 0.9992 - val_loss: 1.3438 - val_acc: 0.8628\n",
      "Epoch 20/20\n",
      "15000/15000 [==============================] - 4s 282us/step - loss: 6.9585e-04 - acc: 0.9998 - val_loss: 1.3710 - val_acc: 0.8607\n"
     ]
    },
    {
     "data": {
      "text/plain": [
       "<keras.callbacks.History at 0x1a1a6ecea20>"
      ]
     },
     "execution_count": 132,
     "metadata": {},
     "output_type": "execute_result"
    }
   ],
   "source": [
    "model = models.Sequential()\n",
    "model.add(layers.Dense(32, activation='relu', input_shape=(10000,)))\n",
    "model.add(layers.Dense(32, activation='relu'))\n",
    "model.add(layers.Dense(32, activation='relu'))\n",
    "model.add(layers.Dense(46, activation='softmax'))\n",
    "\n",
    "model.compile(optimizer='rmsprop',\n",
    "              loss='sparse_categorical_crossentropy',\n",
    "              metrics=['accuracy'])\n",
    "model.fit(partial_x_train,\n",
    "          partial_y_train,\n",
    "          epochs=20,\n",
    "          batch_size=128,\n",
    "          validation_data=(x_val, y_val))"
   ]
  }
 ],
 "metadata": {
  "kernelspec": {
   "display_name": "Python 3",
   "language": "python",
   "name": "python3"
  },
  "language_info": {
   "codemirror_mode": {
    "name": "ipython",
    "version": 3
   },
   "file_extension": ".py",
   "mimetype": "text/x-python",
   "name": "python",
   "nbconvert_exporter": "python",
   "pygments_lexer": "ipython3",
   "version": "3.6.5"
  }
 },
 "nbformat": 4,
 "nbformat_minor": 2
}
