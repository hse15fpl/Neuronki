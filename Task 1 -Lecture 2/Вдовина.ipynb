{
 "cells": [
  {
   "cell_type": "markdown",
   "metadata": {},
   "source": [
    "### Hometask 1"
   ]
  },
  {
   "cell_type": "markdown",
   "metadata": {},
   "source": [
    "Download a dataset"
   ]
  },
  {
   "cell_type": "code",
   "execution_count": 1,
   "metadata": {},
   "outputs": [
    {
     "name": "stderr",
     "output_type": "stream",
     "text": [
      "C:\\Anaconda\\lib\\site-packages\\h5py\\__init__.py:36: FutureWarning: Conversion of the second argument of issubdtype from `float` to `np.floating` is deprecated. In future, it will be treated as `np.float64 == np.dtype(float).type`.\n",
      "  from ._conv import register_converters as _register_converters\n",
      "Using TensorFlow backend.\n"
     ]
    }
   ],
   "source": [
    "from keras.datasets import imdb\n",
    "\n",
    "(train_data, train_labels), (test_data, test_labels) = imdb.load_data(\n",
    "    num_words=10000)"
   ]
  },
  {
   "cell_type": "markdown",
   "metadata": {},
   "source": [
    "Vectorizing data"
   ]
  },
  {
   "cell_type": "code",
   "execution_count": 2,
   "metadata": {},
   "outputs": [],
   "source": [
    "import numpy as np\n",
    "\n",
    "def vectorize_sequences(sequences, dimension=10000):\n",
    "    results = np.zeros((len(sequences), dimension))\n",
    "    for i, sequence in enumerate(sequences):\n",
    "        results[i, sequence] = 1.\n",
    "    return results\n",
    "\n",
    "x_train = vectorize_sequences(train_data)\n",
    "x_test = vectorize_sequences(test_data)\n"
   ]
  },
  {
   "cell_type": "markdown",
   "metadata": {},
   "source": [
    "Vectorizing labels"
   ]
  },
  {
   "cell_type": "code",
   "execution_count": 3,
   "metadata": {},
   "outputs": [],
   "source": [
    "y_train = np.asarray(train_labels).astype('float32')\n",
    "y_test = np.asarray(test_labels).astype('float32')"
   ]
  },
  {
   "cell_type": "markdown",
   "metadata": {},
   "source": [
    "# Building a network"
   ]
  },
  {
   "cell_type": "markdown",
   "metadata": {},
   "source": [
    "### 1 hidden layer"
   ]
  },
  {
   "cell_type": "code",
   "execution_count": 4,
   "metadata": {},
   "outputs": [],
   "source": [
    "from keras import models\n",
    "from keras import layers\n",
    "\n",
    "model = models.Sequential()\n",
    "model.add(layers.Dense(16, activation='relu', input_shape=(10000,)))\n",
    "model.add(layers.Dense(1, activation='sigmoid'))"
   ]
  },
  {
   "cell_type": "markdown",
   "metadata": {},
   "source": [
    "### 2 hidden layers"
   ]
  },
  {
   "cell_type": "code",
   "execution_count": 5,
   "metadata": {},
   "outputs": [],
   "source": [
    "from keras import models\n",
    "from keras import layers\n",
    "\n",
    "model = models.Sequential()\n",
    "model.add(layers.Dense(16, activation='relu', input_shape=(10000,)))\n",
    "model.add(layers.Dense(16, activation='relu'))\n",
    "model.add(layers.Dense(1, activation='sigmoid'))"
   ]
  },
  {
   "cell_type": "markdown",
   "metadata": {},
   "source": [
    "### 3 hidden layers "
   ]
  },
  {
   "cell_type": "code",
   "execution_count": 6,
   "metadata": {},
   "outputs": [],
   "source": [
    "from keras import models\n",
    "from keras import layers\n",
    "\n",
    "model = models.Sequential()\n",
    "model.add(layers.Dense(16, activation='relu', input_shape=(10000,)))\n",
    "model.add(layers.Dense(16, activation='relu'))\n",
    "model.add(layers.Dense(16, activation='relu'))\n",
    "model.add(layers.Dense(1, activation='sigmoid'))"
   ]
  },
  {
   "cell_type": "code",
   "execution_count": 7,
   "metadata": {},
   "outputs": [],
   "source": [
    "\n",
    "from keras import losses\n",
    "from keras import metrics\n",
    "from keras import optimizers\n",
    "\n",
    "model.compile(optimizer=optimizers.RMSprop(lr=0.001),\n",
    "              loss=losses.binary_crossentropy,\n",
    "              metrics=[metrics.binary_accuracy])"
   ]
  },
  {
   "cell_type": "markdown",
   "metadata": {},
   "source": [
    "Validation"
   ]
  },
  {
   "cell_type": "code",
   "execution_count": 8,
   "metadata": {},
   "outputs": [],
   "source": [
    "x_val = x_train[:10000]\n",
    "partial_x_train = x_train[10000:]\n",
    "y_val = y_train[:10000]\n",
    "partial_y_train = y_train[10000:]"
   ]
  },
  {
   "cell_type": "code",
   "execution_count": 9,
   "metadata": {},
   "outputs": [
    {
     "name": "stdout",
     "output_type": "stream",
     "text": [
      "Train on 15000 samples, validate on 10000 samples\n",
      "Epoch 1/20\n",
      "15000/15000 [==============================] - 5s 330us/step - loss: 0.5187 - acc: 0.7731 - val_loss: 0.3923 - val_acc: 0.8502\n",
      "Epoch 2/20\n",
      "15000/15000 [==============================] - 3s 213us/step - loss: 0.3000 - acc: 0.8987 - val_loss: 0.2975 - val_acc: 0.8858\n",
      "Epoch 3/20\n",
      "15000/15000 [==============================] - 3s 222us/step - loss: 0.2111 - acc: 0.9292 - val_loss: 0.2985 - val_acc: 0.8806\n",
      "Epoch 4/20\n",
      "15000/15000 [==============================] - 3s 205us/step - loss: 0.1634 - acc: 0.9446 - val_loss: 0.2836 - val_acc: 0.8879\n",
      "Epoch 5/20\n",
      "15000/15000 [==============================] - 4s 240us/step - loss: 0.1334 - acc: 0.9559 - val_loss: 0.2935 - val_acc: 0.8867\n",
      "Epoch 6/20\n",
      "15000/15000 [==============================] - 4s 239us/step - loss: 0.1068 - acc: 0.9665 - val_loss: 0.3179 - val_acc: 0.8818\n",
      "Epoch 7/20\n",
      "15000/15000 [==============================] - 3s 227us/step - loss: 0.0869 - acc: 0.9729 - val_loss: 0.3738 - val_acc: 0.8727\n",
      "Epoch 8/20\n",
      "15000/15000 [==============================] - 3s 200us/step - loss: 0.0668 - acc: 0.9802 - val_loss: 0.3636 - val_acc: 0.8807\n",
      "Epoch 9/20\n",
      "15000/15000 [==============================] - 3s 205us/step - loss: 0.0586 - acc: 0.9828 - val_loss: 0.4028 - val_acc: 0.8770\n",
      "Epoch 10/20\n",
      "15000/15000 [==============================] - 3s 203us/step - loss: 0.0385 - acc: 0.9905 - val_loss: 0.4335 - val_acc: 0.8779\n",
      "Epoch 11/20\n",
      "15000/15000 [==============================] - 3s 196us/step - loss: 0.0363 - acc: 0.9897 - val_loss: 0.4680 - val_acc: 0.8735\n",
      "Epoch 12/20\n",
      "15000/15000 [==============================] - 3s 195us/step - loss: 0.0307 - acc: 0.9920 - val_loss: 0.5023 - val_acc: 0.8719\n",
      "Epoch 13/20\n",
      "15000/15000 [==============================] - 4s 252us/step - loss: 0.0283 - acc: 0.9921 - val_loss: 0.5333 - val_acc: 0.8696\n",
      "Epoch 14/20\n",
      "15000/15000 [==============================] - 3s 219us/step - loss: 0.0097 - acc: 0.9991 - val_loss: 0.5637 - val_acc: 0.8691\n",
      "Epoch 15/20\n",
      "15000/15000 [==============================] - 3s 225us/step - loss: 0.0208 - acc: 0.9944 - val_loss: 0.6071 - val_acc: 0.8681\n",
      "Epoch 16/20\n",
      "15000/15000 [==============================] - 3s 191us/step - loss: 0.0052 - acc: 0.9997 - val_loss: 0.6374 - val_acc: 0.8674\n",
      "Epoch 17/20\n",
      "15000/15000 [==============================] - 3s 188us/step - loss: 0.0148 - acc: 0.9955 - val_loss: 0.6728 - val_acc: 0.8672\n",
      "Epoch 18/20\n",
      "15000/15000 [==============================] - 3s 189us/step - loss: 0.0028 - acc: 0.9999 - val_loss: 0.7005 - val_acc: 0.8667\n",
      "Epoch 19/20\n",
      "15000/15000 [==============================] - 3s 185us/step - loss: 0.0172 - acc: 0.9952 - val_loss: 0.7497 - val_acc: 0.8646\n",
      "Epoch 20/20\n",
      "15000/15000 [==============================] - 3s 194us/step - loss: 0.0016 - acc: 0.9999 - val_loss: 0.7635 - val_acc: 0.8665\n"
     ]
    }
   ],
   "source": [
    "model.compile(optimizer='rmsprop',\n",
    "              loss='binary_crossentropy',\n",
    "              metrics=['acc'])\n",
    "\n",
    "history = model.fit(partial_x_train,\n",
    "                    partial_y_train,\n",
    "                    epochs=20,\n",
    "                    batch_size=512,\n",
    "                    validation_data=(x_val, y_val))"
   ]
  },
  {
   "cell_type": "code",
   "execution_count": 10,
   "metadata": {},
   "outputs": [
    {
     "data": {
      "text/plain": [
       "dict_keys(['val_loss', 'val_acc', 'loss', 'acc'])"
      ]
     },
     "execution_count": 10,
     "metadata": {},
     "output_type": "execute_result"
    }
   ],
   "source": [
    "history_dict = history.history\n",
    "history_dict.keys()"
   ]
  },
  {
   "cell_type": "code",
   "execution_count": 11,
   "metadata": {},
   "outputs": [
    {
     "data": {
      "text/plain": [
       "<Figure size 640x480 with 1 Axes>"
      ]
     },
     "metadata": {},
     "output_type": "display_data"
    }
   ],
   "source": [
    "import matplotlib.pyplot as plt\n",
    "\n",
    "history_dict = history.history\n",
    "loss_values = history_dict['loss']\n",
    "val_loss_values = history_dict['val_loss']\n",
    "\n",
    "epochs = range(1, len(history_dict['acc']) + 1)\n",
    "\n",
    "plt.plot(epochs, loss_values, 'bo', label='Training loss')\n",
    "plt.plot(epochs, val_loss_values, 'b', label='Validation loss')\n",
    "plt.title('Training and validation loss')\n",
    "plt.xlabel('Epochs')\n",
    "plt.ylabel('Loss')\n",
    "plt.legend()\n",
    "\n",
    "plt.show()"
   ]
  },
  {
   "cell_type": "code",
   "execution_count": 12,
   "metadata": {},
   "outputs": [
    {
     "data": {
      "image/png": "[encoded data removed]",
      "text/plain": [
       "<Figure size 432x288 with 1 Axes>"
      ]
     },
     "metadata": {},
     "output_type": "display_data"
    }
   ],
   "source": [
    "plt.clf()\n",
    "acc_values = history_dict['acc']\n",
    "val_acc_values = history_dict['val_acc']\n",
    "\n",
    "plt.plot(epochs, acc_values, 'bo', label='Training acc')\n",
    "plt.plot(epochs, val_acc_values, 'b', label='Validation acc')\n",
    "plt.title('Training and validation accuracy')\n",
    "plt.xlabel('Epochs')\n",
    "plt.ylabel('Loss')\n",
    "plt.legend()\n",
    "\n",
    "plt.show()"
   ]
  },
  {
   "cell_type": "markdown",
   "metadata": {
    "collapsed": true
   },
   "source": [
    "### 2 hidden layers (32 units)"
   ]
  },
  {
   "cell_type": "code",
   "execution_count": 13,
   "metadata": {
    "scrolled": true
   },
   "outputs": [
    {
     "name": "stdout",
     "output_type": "stream",
     "text": [
      "Epoch 1/4\n",
      "25000/25000 [==============================] - 4s 154us/step - loss: 0.4327 - acc: 0.8143\n",
      "Epoch 2/4\n",
      "25000/25000 [==============================] - 3s 140us/step - loss: 0.2437 - acc: 0.9108\n",
      "Epoch 3/4\n",
      "25000/25000 [==============================] - 4s 142us/step - loss: 0.1905 - acc: 0.9301\n",
      "Epoch 4/4\n",
      "25000/25000 [==============================] - 4s 142us/step - loss: 0.1594 - acc: 0.9427\n",
      "25000/25000 [==============================] - 4s 155us/step\n"
     ]
    }
   ],
   "source": [
    "model = models.Sequential()\n",
    "model.add(layers.Dense(32, activation='relu', input_shape=(10000,)))\n",
    "model.add(layers.Dense(32, activation='relu'))\n",
    "model.add(layers.Dense(1, activation='sigmoid'))\n",
    "\n",
    "model.compile(optimizer='rmsprop',\n",
    "              loss='binary_crossentropy',\n",
    "              metrics=['accuracy'])\n",
    "\n",
    "model.fit(x_train, y_train, epochs=4, batch_size=512)\n",
    "results = model.evaluate(x_test, y_test)"
   ]
  },
  {
   "cell_type": "markdown",
   "metadata": {},
   "source": [
    "### 2 hidden layers (64 units)"
   ]
  },
  {
   "cell_type": "code",
   "execution_count": 14,
   "metadata": {},
   "outputs": [
    {
     "name": "stdout",
     "output_type": "stream",
     "text": [
      "Epoch 1/4\n",
      "25000/25000 [==============================] - 5s 186us/step - loss: 0.4294 - acc: 0.8084\n",
      "Epoch 2/4\n",
      "25000/25000 [==============================] - 4s 168us/step - loss: 0.2383 - acc: 0.9080\n",
      "Epoch 3/4\n",
      "25000/25000 [==============================] - 4s 167us/step - loss: 0.1826 - acc: 0.9296\n",
      "Epoch 4/4\n",
      "25000/25000 [==============================] - 5s 218us/step - loss: 0.1397 - acc: 0.9463\n",
      "25000/25000 [==============================] - 5s 185us/step\n"
     ]
    }
   ],
   "source": [
    "model = models.Sequential()\n",
    "model.add(layers.Dense(64, activation='relu', input_shape=(10000,)))\n",
    "model.add(layers.Dense(64, activation='relu'))\n",
    "model.add(layers.Dense(1, activation='sigmoid'))\n",
    "\n",
    "model.compile(optimizer='rmsprop',\n",
    "              loss='binary_crossentropy',\n",
    "              metrics=['accuracy'])\n",
    "\n",
    "model.fit(x_train, y_train, epochs=4, batch_size=512)\n",
    "results = model.evaluate(x_test, y_test)"
   ]
  },
  {
   "cell_type": "markdown",
   "metadata": {},
   "source": [
    "### 2 hidden layers (128 units)  "
   ]
  },
  {
   "cell_type": "code",
   "execution_count": 15,
   "metadata": {},
   "outputs": [
    {
     "name": "stdout",
     "output_type": "stream",
     "text": [
      "Epoch 1/4\n",
      "25000/25000 [==============================] - 7s 275us/step - loss: 0.4287 - acc: 0.8074\n",
      "Epoch 2/4\n",
      "25000/25000 [==============================] - 6s 251us/step - loss: 0.2357 - acc: 0.9068\n",
      "Epoch 3/4\n",
      "25000/25000 [==============================] - 6s 259us/step - loss: 0.1602 - acc: 0.9381\n",
      "Epoch 4/4\n",
      "25000/25000 [==============================] - 6s 243us/step - loss: 0.1170 - acc: 0.9553\n",
      "25000/25000 [==============================] - 6s 246us/step\n"
     ]
    }
   ],
   "source": [
    "model = models.Sequential()\n",
    "model.add(layers.Dense(128, activation='relu', input_shape=(10000,)))\n",
    "model.add(layers.Dense(128, activation='relu'))\n",
    "model.add(layers.Dense(1, activation='sigmoid'))\n",
    "\n",
    "model.compile(optimizer='rmsprop',\n",
    "              loss='binary_crossentropy',\n",
    "              metrics=['accuracy'])\n",
    "\n",
    "model.fit(x_train, y_train, epochs=4, batch_size=512)\n",
    "results = model.evaluate(x_test, y_test)"
   ]
  },
  {
   "cell_type": "markdown",
   "metadata": {},
   "source": [
    "### MSE loss function"
   ]
  },
  {
   "cell_type": "code",
   "execution_count": 16,
   "metadata": {},
   "outputs": [
    {
     "name": "stdout",
     "output_type": "stream",
     "text": [
      "Epoch 1/4\n",
      "25000/25000 [==============================] - 4s 162us/step - loss: 0.1414 - acc: 0.8156 1s - loss\n",
      "Epoch 2/4\n",
      "25000/25000 [==============================] - 4s 149us/step - loss: 0.0725 - acc: 0.9110\n",
      "Epoch 3/4\n",
      "25000/25000 [==============================] - 4s 146us/step - loss: 0.0542 - acc: 0.9326\n",
      "Epoch 4/4\n",
      "25000/25000 [==============================] - 4s 144us/step - loss: 0.0459 - acc: 0.9434\n",
      "25000/25000 [==============================] - 4s 141us/step\n"
     ]
    }
   ],
   "source": [
    "model = models.Sequential()\n",
    "model.add(layers.Dense(32, activation='relu', input_shape=(10000,)))\n",
    "model.add(layers.Dense(32, activation='relu'))\n",
    "model.add(layers.Dense(1, activation='sigmoid'))\n",
    "\n",
    "model.compile(optimizer='rmsprop',\n",
    "              loss='mse',\n",
    "              metrics=['accuracy'])\n",
    "\n",
    "model.fit(x_train, y_train, epochs=4, batch_size=512)\n",
    "results = model.evaluate(x_test, y_test)"
   ]
  },
  {
   "cell_type": "markdown",
   "metadata": {},
   "source": [
    "### TANH activation function"
   ]
  },
  {
   "cell_type": "code",
   "execution_count": 17,
   "metadata": {},
   "outputs": [
    {
     "name": "stdout",
     "output_type": "stream",
     "text": [
      "Epoch 1/4\n",
      "25000/25000 [==============================] - 4s 150us/step - loss: 0.1287 - acc: 0.8233\n",
      "Epoch 2/4\n",
      "25000/25000 [==============================] - 3s 131us/step - loss: 0.0662 - acc: 0.9145\n",
      "Epoch 3/4\n",
      "25000/25000 [==============================] - 3s 134us/step - loss: 0.0525 - acc: 0.9325\n",
      "Epoch 4/4\n",
      "25000/25000 [==============================] - 4s 145us/step - loss: 0.0439 - acc: 0.9458\n",
      "25000/25000 [==============================] - 4s 166us/step\n"
     ]
    }
   ],
   "source": [
    "model = models.Sequential()\n",
    "model.add(layers.Dense(32, activation='tanh', input_shape=(10000,)))\n",
    "model.add(layers.Dense(32, activation='tanh'))\n",
    "model.add(layers.Dense(1, activation='sigmoid'))\n",
    "\n",
    "model.compile(optimizer='rmsprop',\n",
    "              loss='mse',\n",
    "              metrics=['accuracy'])\n",
    "\n",
    "model.fit(x_train, y_train, epochs=4, batch_size=512)\n",
    "results = model.evaluate(x_test, y_test)"
   ]
  },
  {
   "cell_type": "markdown",
   "metadata": {},
   "source": [
    "### Hometask 2"
   ]
  },
  {
   "cell_type": "code",
   "execution_count": 28,
   "metadata": {},
   "outputs": [],
   "source": [
    "from keras.datasets import reuters\n",
    "\n",
    "(train_data, train_labels), (test_data, test_labels) = reuters.load_data(\n",
    "    num_words=10000)"
   ]
  },
  {
   "cell_type": "code",
   "execution_count": 29,
   "metadata": {},
   "outputs": [],
   "source": [
    "import numpy as np\n",
    "\n",
    "def vectorize_sequences(sequences, dimension=10000):\n",
    "    results = np.zeros((len(sequences), dimension))\n",
    "    for i, sequence in enumerate(sequences):\n",
    "        results[i, sequence] = 1.\n",
    "    return results\n",
    "\n",
    "x_train = vectorize_sequences(train_data)\n",
    "x_test = vectorize_sequences(test_data)\n"
   ]
  },
  {
   "cell_type": "code",
   "execution_count": 30,
   "metadata": {},
   "outputs": [],
   "source": [
    "from keras.utils.np_utils import to_categorical\n",
    "\n",
    "y_train = np.array(train_labels)\n",
    "y_test = np.array(test_labels)"
   ]
  },
  {
   "cell_type": "code",
   "execution_count": 31,
   "metadata": {},
   "outputs": [],
   "source": [
    "model.compile(optimizer='rmsprop',\n",
    "              loss='sparse_categorical_crossentropy',\n",
    "              metrics=['acc'])"
   ]
  },
  {
   "cell_type": "markdown",
   "metadata": {},
   "source": [
    "### 1 hidden layer"
   ]
  },
  {
   "cell_type": "code",
   "execution_count": 33,
   "metadata": {},
   "outputs": [
    {
     "name": "stdout",
     "output_type": "stream",
     "text": [
      "Train on 15000 samples, validate on 10000 samples\n",
      "Epoch 1/20\n",
      "15000/15000 [==============================] - 5s 314us/step - loss: 0.6522 - acc: 0.8409 - val_loss: 0.2983 - val_acc: 0.8898\n",
      "Epoch 2/20\n",
      "15000/15000 [==============================] - 4s 278us/step - loss: 0.2260 - acc: 0.9189 - val_loss: 0.3286 - val_acc: 0.8663\n",
      "Epoch 3/20\n",
      "15000/15000 [==============================] - 4s 258us/step - loss: 0.1682 - acc: 0.9403 - val_loss: 0.2971 - val_acc: 0.8818\n",
      "Epoch 4/20\n",
      "15000/15000 [==============================] - 4s 265us/step - loss: 0.1344 - acc: 0.9530 - val_loss: 0.2974 - val_acc: 0.8853\n",
      "Epoch 5/20\n",
      "15000/15000 [==============================] - 4s 267us/step - loss: 0.1071 - acc: 0.9625 - val_loss: 0.3581 - val_acc: 0.8749\n",
      "Epoch 6/20\n",
      "15000/15000 [==============================] - 4s 270us/step - loss: 0.0858 - acc: 0.9702 - val_loss: 0.3685 - val_acc: 0.8788\n",
      "Epoch 7/20\n",
      "15000/15000 [==============================] - 4s 287us/step - loss: 0.0699 - acc: 0.9763 - val_loss: 0.3996 - val_acc: 0.8735\n",
      "Epoch 8/20\n",
      "15000/15000 [==============================] - 4s 261us/step - loss: 0.0560 - acc: 0.9817 - val_loss: 0.4313 - val_acc: 0.8732\n",
      "Epoch 9/20\n",
      "15000/15000 [==============================] - 4s 259us/step - loss: 0.0438 - acc: 0.9867 - val_loss: 0.4728 - val_acc: 0.8694\n",
      "Epoch 10/20\n",
      "15000/15000 [==============================] - 4s 255us/step - loss: 0.0347 - acc: 0.9901 - val_loss: 0.5266 - val_acc: 0.8651\n",
      "Epoch 11/20\n",
      "15000/15000 [==============================] - 4s 257us/step - loss: 0.0267 - acc: 0.9932 - val_loss: 0.5575 - val_acc: 0.8694\n",
      "Epoch 12/20\n",
      "15000/15000 [==============================] - 4s 256us/step - loss: 0.0195 - acc: 0.9953 - val_loss: 0.6052 - val_acc: 0.8653\n",
      "Epoch 13/20\n",
      "15000/15000 [==============================] - 4s 279us/step - loss: 0.0144 - acc: 0.9969 - val_loss: 0.6507 - val_acc: 0.8654\n",
      "Epoch 14/20\n",
      "15000/15000 [==============================] - 4s 271us/step - loss: 0.0103 - acc: 0.9979 - val_loss: 0.7001 - val_acc: 0.8617\n",
      "Epoch 15/20\n",
      "15000/15000 [==============================] - 4s 255us/step - loss: 0.0073 - acc: 0.9988 - val_loss: 0.7714 - val_acc: 0.8641\n",
      "Epoch 16/20\n",
      "15000/15000 [==============================] - 4s 281us/step - loss: 0.0050 - acc: 0.9991 - val_loss: 0.7998 - val_acc: 0.8600\n",
      "Epoch 17/20\n",
      "15000/15000 [==============================] - 5s 312us/step - loss: 0.0036 - acc: 0.9996 - val_loss: 0.8488 - val_acc: 0.8578\n",
      "Epoch 18/20\n",
      "15000/15000 [==============================] - 4s 281us/step - loss: 0.0022 - acc: 0.9999 - val_loss: 0.8952 - val_acc: 0.8591\n",
      "Epoch 19/20\n",
      "15000/15000 [==============================] - 4s 273us/step - loss: 0.0014 - acc: 0.9999 - val_loss: 0.9841 - val_acc: 0.8551\n",
      "Epoch 20/20\n",
      "15000/15000 [==============================] - 4s 255us/step - loss: 9.3375e-04 - acc: 0.9999 - val_loss: 0.9972 - val_acc: 0.8589\n"
     ]
    }
   ],
   "source": [
    "model = models.Sequential()\n",
    "model.add(layers.Dense(32, activation='relu', input_shape=(10000,)))\n",
    "model.add(layers.Dense(46, activation='softmax'))\n",
    "\n",
    "model.compile(optimizer='rmsprop',\n",
    "              loss='sparse_categorical_crossentropy',\n",
    "              metrics=['accuracy'])\n",
    "history_1_32 = model.fit(partial_x_train,\n",
    "          partial_y_train,\n",
    "          epochs=20,\n",
    "          batch_size=128,\n",
    "          validation_data=(x_val, y_val))"
   ]
  },
  {
   "cell_type": "markdown",
   "metadata": {},
   "source": [
    "### 2 hidden layers (32 units)"
   ]
  },
  {
   "cell_type": "code",
   "execution_count": 34,
   "metadata": {},
   "outputs": [
    {
     "name": "stdout",
     "output_type": "stream",
     "text": [
      "Train on 15000 samples, validate on 10000 samples\n",
      "Epoch 1/20\n",
      "15000/15000 [==============================] - 4s 300us/step - loss: 0.7102 - acc: 0.8037 - val_loss: 0.3923 - val_acc: 0.8312\n",
      "Epoch 2/20\n",
      "15000/15000 [==============================] - 4s 254us/step - loss: 0.2348 - acc: 0.9146 - val_loss: 0.3283 - val_acc: 0.8673\n",
      "Epoch 3/20\n",
      "15000/15000 [==============================] - 5s 306us/step - loss: 0.1660 - acc: 0.9382 - val_loss: 0.3480 - val_acc: 0.8688\n",
      "Epoch 4/20\n",
      "15000/15000 [==============================] - 5s 306us/step - loss: 0.1287 - acc: 0.9551 - val_loss: 0.3226 - val_acc: 0.8860\n",
      "Epoch 5/20\n",
      "15000/15000 [==============================] - 4s 260us/step - loss: 0.0958 - acc: 0.9661 - val_loss: 0.3749 - val_acc: 0.8759\n",
      "Epoch 6/20\n",
      "15000/15000 [==============================] - 4s 284us/step - loss: 0.0709 - acc: 0.9761 - val_loss: 0.4262 - val_acc: 0.8774\n",
      "Epoch 7/20\n",
      "15000/15000 [==============================] - 4s 247us/step - loss: 0.0498 - acc: 0.9837 - val_loss: 0.5048 - val_acc: 0.8666\n",
      "Epoch 8/20\n",
      "15000/15000 [==============================] - 4s 293us/step - loss: 0.0325 - acc: 0.9899 - val_loss: 0.6538 - val_acc: 0.8513\n",
      "Epoch 9/20\n",
      "15000/15000 [==============================] - 4s 299us/step - loss: 0.0202 - acc: 0.9942 - val_loss: 0.6605 - val_acc: 0.8666\n",
      "Epoch 10/20\n",
      "15000/15000 [==============================] - 4s 283us/step - loss: 0.0128 - acc: 0.9961 - val_loss: 0.7229 - val_acc: 0.8636\n",
      "Epoch 11/20\n",
      "15000/15000 [==============================] - 5s 316us/step - loss: 0.0071 - acc: 0.9985 - val_loss: 0.8144 - val_acc: 0.8646\n",
      "Epoch 12/20\n",
      "15000/15000 [==============================] - 5s 305us/step - loss: 0.0032 - acc: 0.9991 - val_loss: 0.8981 - val_acc: 0.8637\n",
      "Epoch 13/20\n",
      "15000/15000 [==============================] - 4s 297us/step - loss: 0.0019 - acc: 0.9997 - val_loss: 0.9860 - val_acc: 0.8639\n",
      "Epoch 14/20\n",
      "15000/15000 [==============================] - 4s 254us/step - loss: 8.9241e-04 - acc: 0.9999 - val_loss: 1.1131 - val_acc: 0.8602\n",
      "Epoch 15/20\n",
      "15000/15000 [==============================] - 4s 269us/step - loss: 3.6582e-04 - acc: 0.9999 - val_loss: 1.1873 - val_acc: 0.8596\n",
      "Epoch 16/20\n",
      "15000/15000 [==============================] - 5s 310us/step - loss: 1.4723e-04 - acc: 0.9999 - val_loss: 1.2252 - val_acc: 0.8616\n",
      "Epoch 17/20\n",
      "15000/15000 [==============================] - 5s 303us/step - loss: 7.5516e-04 - acc: 0.9997 - val_loss: 1.2677 - val_acc: 0.8602\n",
      "Epoch 18/20\n",
      "15000/15000 [==============================] - 5s 317us/step - loss: 5.3509e-04 - acc: 0.9999 - val_loss: 1.3264 - val_acc: 0.8603\n",
      "Epoch 19/20\n",
      "15000/15000 [==============================] - 5s 306us/step - loss: 9.1810e-06 - acc: 1.0000 - val_loss: 1.3424 - val_acc: 0.8600\n",
      "Epoch 20/20\n",
      "15000/15000 [==============================] - 5s 329us/step - loss: 1.0641e-05 - acc: 1.0000 - val_loss: 1.3654 - val_acc: 0.8619\n"
     ]
    }
   ],
   "source": [
    "model = models.Sequential()\n",
    "model.add(layers.Dense(32, activation='relu', input_shape=(10000,)))\n",
    "model.add(layers.Dense(32, activation='relu'))\n",
    "model.add(layers.Dense(46, activation='softmax'))\n",
    "\n",
    "model.compile(optimizer='rmsprop',\n",
    "              loss='sparse_categorical_crossentropy',\n",
    "              metrics=['accuracy'])\n",
    "history_2_32 = model.fit(partial_x_train,\n",
    "          partial_y_train,\n",
    "          epochs=20,\n",
    "          batch_size=128,\n",
    "          validation_data=(x_val, y_val))"
   ]
  },
  {
   "cell_type": "markdown",
   "metadata": {},
   "source": [
    "### 2 hidden layers (64 units)"
   ]
  },
  {
   "cell_type": "code",
   "execution_count": 35,
   "metadata": {},
   "outputs": [
    {
     "name": "stdout",
     "output_type": "stream",
     "text": [
      "Train on 15000 samples, validate on 10000 samples\n",
      "Epoch 1/20\n",
      "15000/15000 [==============================] - 5s 349us/step - loss: 0.5734 - acc: 0.8117 - val_loss: 0.3038 - val_acc: 0.8750\n",
      "Epoch 2/20\n",
      "15000/15000 [==============================] - 5s 308us/step - loss: 0.2199 - acc: 0.9165 - val_loss: 0.4073 - val_acc: 0.8397\n",
      "Epoch 3/20\n",
      "15000/15000 [==============================] - 5s 309us/step - loss: 0.1575 - acc: 0.9401 - val_loss: 0.3410 - val_acc: 0.8772\n",
      "Epoch 4/20\n",
      "15000/15000 [==============================] - 5s 317us/step - loss: 0.1042 - acc: 0.9605 - val_loss: 0.5302 - val_acc: 0.8355\n",
      "Epoch 5/20\n",
      "15000/15000 [==============================] - 5s 309us/step - loss: 0.0686 - acc: 0.9744 - val_loss: 0.4443 - val_acc: 0.8776\n",
      "Epoch 6/20\n",
      "15000/15000 [==============================] - 5s 345us/step - loss: 0.0385 - acc: 0.9859 - val_loss: 0.6060 - val_acc: 0.8712\n",
      "Epoch 7/20\n",
      "15000/15000 [==============================] - 5s 327us/step - loss: 0.0219 - acc: 0.9931 - val_loss: 0.6852 - val_acc: 0.8701\n",
      "Epoch 8/20\n",
      "15000/15000 [==============================] - 5s 306us/step - loss: 0.0118 - acc: 0.9975 - val_loss: 0.7461 - val_acc: 0.8721\n",
      "Epoch 9/20\n",
      "15000/15000 [==============================] - 4s 293us/step - loss: 0.0064 - acc: 0.9984 - val_loss: 0.8364 - val_acc: 0.8667\n",
      "Epoch 10/20\n",
      "15000/15000 [==============================] - 5s 300us/step - loss: 0.0042 - acc: 0.9989 - val_loss: 0.9031 - val_acc: 0.8680\n",
      "Epoch 11/20\n",
      "15000/15000 [==============================] - 4s 298us/step - loss: 0.0030 - acc: 0.9992 - val_loss: 0.9757 - val_acc: 0.8727\n",
      "Epoch 12/20\n",
      "15000/15000 [==============================] - 5s 302us/step - loss: 1.9121e-04 - acc: 1.0000 - val_loss: 1.0810 - val_acc: 0.8689\n",
      "Epoch 13/20\n",
      "15000/15000 [==============================] - 4s 300us/step - loss: 1.2208e-04 - acc: 1.0000 - val_loss: 1.1367 - val_acc: 0.8678\n",
      "Epoch 14/20\n",
      "15000/15000 [==============================] - 5s 304us/step - loss: 1.2721e-04 - acc: 0.9999 - val_loss: 1.2209 - val_acc: 0.8708\n",
      "Epoch 15/20\n",
      "15000/15000 [==============================] - 6s 389us/step - loss: 8.5046e-06 - acc: 1.0000 - val_loss: 1.2894 - val_acc: 0.8681\n",
      "Epoch 16/20\n",
      "15000/15000 [==============================] - 5s 356us/step - loss: 5.0473e-04 - acc: 0.9998 - val_loss: 1.3037 - val_acc: 0.8691\n",
      "Epoch 17/20\n",
      "15000/15000 [==============================] - 5s 346us/step - loss: 5.7349e-06 - acc: 1.0000 - val_loss: 1.3368 - val_acc: 0.8679\n",
      "Epoch 18/20\n",
      "15000/15000 [==============================] - 5s 321us/step - loss: 5.4366e-06 - acc: 1.0000 - val_loss: 1.4022 - val_acc: 0.8676\n",
      "Epoch 19/20\n",
      "15000/15000 [==============================] - 5s 311us/step - loss: 5.3758e-06 - acc: 1.0000 - val_loss: 1.4203 - val_acc: 0.8677\n",
      "Epoch 20/20\n",
      "15000/15000 [==============================] - 4s 296us/step - loss: 5.3684e-06 - acc: 1.0000 - val_loss: 1.4293 - val_acc: 0.8680\n"
     ]
    }
   ],
   "source": [
    "model = models.Sequential()\n",
    "model.add(layers.Dense(64, activation='relu', input_shape=(10000,)))\n",
    "model.add(layers.Dense(64, activation='relu'))\n",
    "model.add(layers.Dense(46, activation='softmax'))\n",
    "\n",
    "model.compile(optimizer='rmsprop',\n",
    "              loss='sparse_categorical_crossentropy',\n",
    "              metrics=['accuracy'])\n",
    "history_2_64 = model.fit(partial_x_train,\n",
    "          partial_y_train,\n",
    "          epochs=20,\n",
    "          batch_size=128,\n",
    "          validation_data=(x_val, y_val))"
   ]
  },
  {
   "cell_type": "markdown",
   "metadata": {},
   "source": [
    "### 2 hidden layers (128 units)"
   ]
  },
  {
   "cell_type": "code",
   "execution_count": 36,
   "metadata": {},
   "outputs": [
    {
     "name": "stdout",
     "output_type": "stream",
     "text": [
      "Train on 15000 samples, validate on 10000 samples\n",
      "Epoch 1/20\n",
      "15000/15000 [==============================] - 7s 469us/step - loss: 0.5049 - acc: 0.8044 - val_loss: 0.3300 - val_acc: 0.8669\n",
      "Epoch 2/20\n",
      "15000/15000 [==============================] - 7s 448us/step - loss: 0.2080 - acc: 0.9185 - val_loss: 0.3437 - val_acc: 0.8692\n",
      "Epoch 3/20\n",
      "15000/15000 [==============================] - 8s 516us/step - loss: 0.1321 - acc: 0.9491 - val_loss: 0.3425 - val_acc: 0.8789\n",
      "Epoch 4/20\n",
      "15000/15000 [==============================] - 7s 443us/step - loss: 0.0679 - acc: 0.9735 - val_loss: 0.4433 - val_acc: 0.8777\n",
      "Epoch 5/20\n",
      "15000/15000 [==============================] - 7s 465us/step - loss: 0.0277 - acc: 0.9911 - val_loss: 0.6454 - val_acc: 0.8543\n",
      "Epoch 6/20\n",
      "15000/15000 [==============================] - 7s 495us/step - loss: 0.0125 - acc: 0.9965 - val_loss: 0.6888 - val_acc: 0.8756\n",
      "Epoch 7/20\n",
      "15000/15000 [==============================] - 7s 442us/step - loss: 0.0074 - acc: 0.9985 - val_loss: 0.7901 - val_acc: 0.8732\n",
      "Epoch 8/20\n",
      "15000/15000 [==============================] - 6s 410us/step - loss: 0.0108 - acc: 0.9982 - val_loss: 0.9255 - val_acc: 0.8739\n",
      "Epoch 9/20\n",
      "15000/15000 [==============================] - 6s 428us/step - loss: 0.0035 - acc: 0.9990 - val_loss: 0.9655 - val_acc: 0.8731\n",
      "Epoch 10/20\n",
      "15000/15000 [==============================] - 7s 488us/step - loss: 0.0059 - acc: 0.9989 - val_loss: 1.0353 - val_acc: 0.8739\n",
      "Epoch 11/20\n",
      "15000/15000 [==============================] - 8s 512us/step - loss: 0.0036 - acc: 0.9993 - val_loss: 1.0473 - val_acc: 0.8708\n",
      "Epoch 12/20\n",
      "15000/15000 [==============================] - 9s 584us/step - loss: 0.0059 - acc: 0.9991 - val_loss: 1.0555 - val_acc: 0.8724\n",
      "Epoch 13/20\n",
      "15000/15000 [==============================] - 8s 528us/step - loss: 8.3464e-05 - acc: 1.0000 - val_loss: 1.1166 - val_acc: 0.8715\n",
      "Epoch 14/20\n",
      "15000/15000 [==============================] - 7s 491us/step - loss: 0.0019 - acc: 0.9995 - val_loss: 1.1389 - val_acc: 0.8739\n",
      "Epoch 15/20\n",
      "15000/15000 [==============================] - 7s 437us/step - loss: 1.7320e-04 - acc: 0.9999 - val_loss: 1.1444 - val_acc: 0.8727\n",
      "Epoch 16/20\n",
      "15000/15000 [==============================] - 7s 491us/step - loss: 5.7549e-06 - acc: 1.0000 - val_loss: 1.2280 - val_acc: 0.8725\n",
      "Epoch 17/20\n",
      "15000/15000 [==============================] - 7s 493us/step - loss: 0.0032 - acc: 0.9995 - val_loss: 1.2428 - val_acc: 0.8718\n",
      "Epoch 18/20\n",
      "15000/15000 [==============================] - 7s 467us/step - loss: 5.6474e-06 - acc: 1.0000 - val_loss: 1.2373 - val_acc: 0.8737\n",
      "Epoch 19/20\n",
      "15000/15000 [==============================] - 7s 449us/step - loss: 5.3828e-06 - acc: 1.0000 - val_loss: 1.2755 - val_acc: 0.8733\n",
      "Epoch 20/20\n",
      "15000/15000 [==============================] - 7s 452us/step - loss: 5.3665e-06 - acc: 1.0000 - val_loss: 1.2871 - val_acc: 0.8736\n"
     ]
    }
   ],
   "source": [
    "model = models.Sequential()\n",
    "model.add(layers.Dense(128, activation='relu', input_shape=(10000,)))\n",
    "model.add(layers.Dense(128, activation='relu'))\n",
    "model.add(layers.Dense(46, activation='softmax'))\n",
    "\n",
    "model.compile(optimizer='rmsprop',\n",
    "              loss='sparse_categorical_crossentropy',\n",
    "              metrics=['accuracy'])\n",
    "history_2_128 = model.fit(partial_x_train,\n",
    "          partial_y_train,\n",
    "          epochs=20,\n",
    "          batch_size=128,\n",
    "          validation_data=(x_val, y_val))"
   ]
  },
  {
   "cell_type": "markdown",
   "metadata": {},
   "source": [
    "### 3 hidden layers "
   ]
  },
  {
   "cell_type": "code",
   "execution_count": 37,
   "metadata": {},
   "outputs": [
    {
     "name": "stdout",
     "output_type": "stream",
     "text": [
      "Train on 15000 samples, validate on 10000 samples\n",
      "Epoch 1/20\n",
      "15000/15000 [==============================] - 5s 327us/step - loss: 0.8468 - acc: 0.7545 - val_loss: 0.3132 - val_acc: 0.8784\n",
      "Epoch 2/20\n",
      "15000/15000 [==============================] - 4s 270us/step - loss: 0.2403 - acc: 0.9073 - val_loss: 0.3021 - val_acc: 0.8789\n",
      "Epoch 3/20\n",
      "15000/15000 [==============================] - 4s 272us/step - loss: 0.1716 - acc: 0.9355 - val_loss: 0.3414 - val_acc: 0.8710\n",
      "Epoch 4/20\n",
      "15000/15000 [==============================] - 4s 275us/step - loss: 0.1255 - acc: 0.9528 - val_loss: 0.4417 - val_acc: 0.8589\n",
      "Epoch 5/20\n",
      "15000/15000 [==============================] - 4s 274us/step - loss: 0.0899 - acc: 0.9674 - val_loss: 0.4148 - val_acc: 0.8730\n",
      "Epoch 6/20\n",
      "15000/15000 [==============================] - 4s 266us/step - loss: 0.0598 - acc: 0.9786 - val_loss: 0.4718 - val_acc: 0.8716\n",
      "Epoch 7/20\n",
      "15000/15000 [==============================] - 4s 276us/step - loss: 0.0353 - acc: 0.9875 - val_loss: 0.5857 - val_acc: 0.8714\n",
      "Epoch 8/20\n",
      "15000/15000 [==============================] - 4s 297us/step - loss: 0.0177 - acc: 0.9947 - val_loss: 0.7101 - val_acc: 0.8674\n",
      "Epoch 9/20\n",
      "15000/15000 [==============================] - 4s 277us/step - loss: 0.0089 - acc: 0.9973 - val_loss: 0.7857 - val_acc: 0.8647\n",
      "Epoch 10/20\n",
      "15000/15000 [==============================] - 5s 303us/step - loss: 0.0061 - acc: 0.9981 - val_loss: 0.8824 - val_acc: 0.8671 1s - los\n",
      "Epoch 11/20\n",
      "15000/15000 [==============================] - 5s 325us/step - loss: 0.0032 - acc: 0.9995 - val_loss: 0.9908 - val_acc: 0.8630\n",
      "Epoch 12/20\n",
      "15000/15000 [==============================] - 5s 305us/step - loss: 0.0032 - acc: 0.9993 - val_loss: 1.0694 - val_acc: 0.8653\n",
      "Epoch 13/20\n",
      "15000/15000 [==============================] - 5s 323us/step - loss: 0.0032 - acc: 0.9995 - val_loss: 1.1438 - val_acc: 0.8653\n",
      "Epoch 14/20\n",
      "15000/15000 [==============================] - 5s 337us/step - loss: 1.1480e-04 - acc: 1.0000 - val_loss: 1.2013 - val_acc: 0.8637\n",
      "Epoch 15/20\n",
      "15000/15000 [==============================] - 5s 327us/step - loss: 0.0018 - acc: 0.9997 - val_loss: 1.2523 - val_acc: 0.8665\n",
      "Epoch 16/20\n",
      "15000/15000 [==============================] - 5s 305us/step - loss: 9.7622e-06 - acc: 1.0000 - val_loss: 1.2952 - val_acc: 0.8665\n",
      "Epoch 17/20\n",
      "15000/15000 [==============================] - 5s 304us/step - loss: 5.0277e-04 - acc: 0.9999 - val_loss: 1.3076 - val_acc: 0.8640\n",
      "Epoch 18/20\n",
      "15000/15000 [==============================] - 5s 333us/step - loss: 1.6495e-04 - acc: 0.9999 - val_loss: 1.3462 - val_acc: 0.8649\n",
      "Epoch 19/20\n",
      "15000/15000 [==============================] - 5s 319us/step - loss: 5.6402e-06 - acc: 1.0000 - val_loss: 1.3720 - val_acc: 0.8639\n",
      "Epoch 20/20\n",
      "15000/15000 [==============================] - 5s 348us/step - loss: 0.0027 - acc: 0.9994 - val_loss: 1.4012 - val_acc: 0.8637\n"
     ]
    }
   ],
   "source": [
    "model = models.Sequential()\n",
    "model.add(layers.Dense(32, activation='relu', input_shape=(10000,)))\n",
    "model.add(layers.Dense(32, activation='relu'))\n",
    "model.add(layers.Dense(32, activation='relu'))\n",
    "model.add(layers.Dense(46, activation='softmax'))\n",
    "\n",
    "model.compile(optimizer='rmsprop',\n",
    "              loss='sparse_categorical_crossentropy',\n",
    "              metrics=['accuracy'])\n",
    "history_3_32 = model.fit(partial_x_train,\n",
    "          partial_y_train,\n",
    "          epochs=20,\n",
    "          batch_size=128,\n",
    "          validation_data=(x_val, y_val))"
   ]
  }
 ],
 "metadata": {
  "kernelspec": {
   "display_name": "Python 3",
   "language": "python",
   "name": "python3"
  },
  "language_info": {
   "codemirror_mode": {
    "name": "ipython",
    "version": 3
   },
   "file_extension": ".py",
   "mimetype": "text/x-python",
   "name": "python",
   "nbconvert_exporter": "python",
   "pygments_lexer": "ipython3",
   "version": "3.6.5"
  }
 },
 "nbformat": 4,
 "nbformat_minor": 2
}
