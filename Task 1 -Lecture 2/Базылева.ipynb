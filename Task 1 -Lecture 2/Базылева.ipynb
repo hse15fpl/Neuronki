{
 "cells": [
  {
   "cell_type": "code",
   "execution_count": 114,
   "metadata": {
    "collapsed": true
   },
   "outputs": [],
   "source": [
    "from tensorflow.keras.datasets import imdb\n",
    "\n",
    "(train_data, train_labels), (test_data, test_labels) = imdb.load_data(\n",
    "    num_words=10000)"
   ]
  },
  {
   "cell_type": "code",
   "execution_count": 115,
   "metadata": {},
   "outputs": [
    {
     "data": {
      "text/plain": [
       "[1, 14, 22, 16, 43, 530, 973, 1622, 1385, 65]"
      ]
     },
     "execution_count": 115,
     "metadata": {},
     "output_type": "execute_result"
    }
   ],
   "source": [
    "train_data[0][:10]"
   ]
  },
  {
   "cell_type": "code",
   "execution_count": 116,
   "metadata": {},
   "outputs": [
    {
     "data": {
      "text/plain": [
       "0"
      ]
     },
     "execution_count": 116,
     "metadata": {},
     "output_type": "execute_result"
    }
   ],
   "source": [
    "train_labels[2]"
   ]
  },
  {
   "cell_type": "code",
   "execution_count": 117,
   "metadata": {},
   "outputs": [
    {
     "data": {
      "text/plain": [
       "\"? this film was just brilliant casting location scenery story direction everyone's really suited the part they played and you could just imagine being there robert ? is an amazing actor and now the same being director ? father came from the same scottish island as myself so i loved the fact there was a real connection with this film the witty remarks throughout the film were great it was just brilliant so much that i bought the film as soon as it was released for ? and would recommend it to everyone to watch and the fly fishing was amazing really cried at the end it was so sad and you know what they say if you cry at a film it must have been good and this definitely was also ? to the two little boy's that played the ? of norman and paul they were just brilliant children are often left out of the ? list i think because the stars that play them all grown up are such a big profile for the whole film but these children are amazing and should be praised for what they have done don't you think the whole story was so lovely because it was true and was someone's life after all that was shared with us all\""
      ]
     },
     "execution_count": 117,
     "metadata": {},
     "output_type": "execute_result"
    }
   ],
   "source": [
    "word_index = imdb.get_word_index()\n",
    "reverse_word_index = dict(\n",
    "    [(value, key) for (key, value) in word_index.items()])\n",
    "decoded_review = ' '.join(\n",
    "    [reverse_word_index.get(i - 3, '?') for i in train_data[0]])\n",
    "decoded_review"
   ]
  },
  {
   "cell_type": "code",
   "execution_count": 118,
   "metadata": {
    "collapsed": true
   },
   "outputs": [],
   "source": [
    "import numpy as np\n",
    "\n",
    "def vectorize_sequences(sequences, dimension=10000):\n",
    "    results = np.zeros((len(sequences), dimension))\n",
    "    for i, sequence in enumerate(sequences):\n",
    "        results[i, sequence] = 1.\n",
    "    return results\n",
    "\n",
    "x_train = vectorize_sequences(train_data)\n",
    "x_test = vectorize_sequences(test_data)"
   ]
  },
  {
   "cell_type": "code",
   "execution_count": 119,
   "metadata": {
    "collapsed": true
   },
   "outputs": [],
   "source": [
    "y_train = np.asarray(train_labels).astype('float32')\n",
    "y_test = np.asarray(test_labels).astype('float32')"
   ]
  },
  {
   "cell_type": "markdown",
   "metadata": {},
   "source": [
    "##### Time to feed our NN:"
   ]
  },
  {
   "cell_type": "code",
   "execution_count": 120,
   "metadata": {
    "collapsed": true
   },
   "outputs": [],
   "source": [
    "x_val = x_train[:10000]\n",
    "partial_x_train = x_train[10000:]\n",
    "y_val = y_train[:10000]\n",
    "partial_y_train = y_train[10000:]"
   ]
  },
  {
   "cell_type": "code",
   "execution_count": 121,
   "metadata": {},
   "outputs": [
    {
     "name": "stdout",
     "output_type": "stream",
     "text": [
      "Train on 15000 samples, validate on 10000 samples\n",
      "Epoch 1/20\n",
      "15000/15000 [==============================] - 5s 330us/step - loss: 0.1928 - acc: 0.7528 - val_loss: 0.1424 - val_acc: 0.8679\n",
      "Epoch 2/20\n",
      "15000/15000 [==============================] - 4s 239us/step - loss: 0.1103 - acc: 0.8971 - val_loss: 0.1042 - val_acc: 0.8853\n",
      "Epoch 3/20\n",
      "15000/15000 [==============================] - 3s 231us/step - loss: 0.0763 - acc: 0.9239 - val_loss: 0.0899 - val_acc: 0.8893\n",
      "Epoch 4/20\n",
      "15000/15000 [==============================] - 4s 236us/step - loss: 0.0581 - acc: 0.9405 - val_loss: 0.0853 - val_acc: 0.8881\n",
      "Epoch 5/20\n",
      "15000/15000 [==============================] - 3s 224us/step - loss: 0.0451 - acc: 0.9536 - val_loss: 0.0829 - val_acc: 0.8898\n",
      "Epoch 6/20\n",
      "15000/15000 [==============================] - 3s 233us/step - loss: 0.0371 - acc: 0.9639 - val_loss: 0.0834 - val_acc: 0.8872\n",
      "Epoch 7/20\n",
      "15000/15000 [==============================] - 3s 224us/step - loss: 0.0292 - acc: 0.9743 - val_loss: 0.0843 - val_acc: 0.8840\n",
      "Epoch 8/20\n",
      "15000/15000 [==============================] - 3s 216us/step - loss: 0.0239 - acc: 0.9797 - val_loss: 0.0858 - val_acc: 0.8829\n",
      "Epoch 9/20\n",
      "15000/15000 [==============================] - 3s 223us/step - loss: 0.0198 - acc: 0.9835 - val_loss: 0.0933 - val_acc: 0.8751\n",
      "Epoch 10/20\n",
      "15000/15000 [==============================] - 3s 223us/step - loss: 0.0156 - acc: 0.9877 - val_loss: 0.1018 - val_acc: 0.8672\n",
      "Epoch 11/20\n",
      "15000/15000 [==============================] - 3s 219us/step - loss: 0.0122 - acc: 0.9914 - val_loss: 0.0939 - val_acc: 0.8761\n",
      "Epoch 12/20\n",
      "15000/15000 [==============================] - 3s 221us/step - loss: 0.0106 - acc: 0.9913 - val_loss: 0.0943 - val_acc: 0.8744\n",
      "Epoch 13/20\n",
      "15000/15000 [==============================] - 5s 316us/step - loss: 0.0090 - acc: 0.9927 - val_loss: 0.0962 - val_acc: 0.8741\n",
      "Epoch 14/20\n",
      "15000/15000 [==============================] - 4s 239us/step - loss: 0.0065 - acc: 0.9955 - val_loss: 0.0978 - val_acc: 0.8728\n",
      "Epoch 15/20\n",
      "15000/15000 [==============================] - 3s 215us/step - loss: 0.0046 - acc: 0.9967 - val_loss: 0.1233 - val_acc: 0.8481\n",
      "Epoch 16/20\n",
      "15000/15000 [==============================] - 3s 223us/step - loss: 0.0047 - acc: 0.9964 - val_loss: 0.1119 - val_acc: 0.8588\n",
      "Epoch 17/20\n",
      "15000/15000 [==============================] - 3s 213us/step - loss: 0.0033 - acc: 0.9975 - val_loss: 0.1027 - val_acc: 0.8716\n",
      "Epoch 18/20\n",
      "15000/15000 [==============================] - 3s 215us/step - loss: 0.0045 - acc: 0.9962 - val_loss: 0.1035 - val_acc: 0.8702\n",
      "Epoch 19/20\n",
      "15000/15000 [==============================] - 3s 232us/step - loss: 0.0024 - acc: 0.9979 - val_loss: 0.1091 - val_acc: 0.8659\n",
      "Epoch 20/20\n",
      "15000/15000 [==============================] - 4s 243us/step - loss: 0.0031 - acc: 0.9975 - val_loss: 0.1069 - val_acc: 0.8687\n"
     ]
    }
   ],
   "source": [
    "from tensorflow.keras import models\n",
    "from tensorflow.keras import layers\n",
    "\n",
    "model = models.Sequential()\n",
    "\n",
    "hiddenlayers = 3\n",
    "hidden_units = hu = 16\n",
    "act = 'relu'\n",
    "\n",
    "if(hiddenlayers == 1): \n",
    "    model.add(layers.Dense(1, activation='sigmoid'))\n",
    "if(hiddenlayers == 3):\n",
    "    model.add(layers.Dense(hu, activation=act, input_shape=(10000,)))\n",
    "    model.add(layers.Dense(hu, activation=act))\n",
    "    model.add(layers.Dense(1, activation='sigmoid'))\n",
    "\n",
    "\n",
    "model.compile(optimizer='rmsprop',\n",
    "              loss='mse',\n",
    "              metrics=['acc'])\n",
    "\n",
    "history = model.fit(partial_x_train,\n",
    "                    partial_y_train,\n",
    "                    epochs=20,\n",
    "                    batch_size=512,\n",
    "                    validation_data=(x_val, y_val))"
   ]
  },
  {
   "cell_type": "code",
   "execution_count": 122,
   "metadata": {},
   "outputs": [
    {
     "name": "stdout",
     "output_type": "stream",
     "text": [
      "1: For 1 hidden layer (mse, 16 units) the acc = 0.9572, it's low level of accuracy, but it's also less time for all process\n",
      "\n",
      "2: For more hidden units (mse, 3 layers, 64 units) it's more acc = 0.9986, but it's also more time for all process\n",
      "\n",
      "3: From lecture (for Binary Crossentropy loss function, 3 layers, 16 units) acc = 0.9980\n",
      "   From hometask (for MSE loss function, 3 layers, 16 units) acc =  0.997466666667 \n",
      "\n",
      "4: For 'tanh' activation it's the lowest level of accuracy (mse, 3 layers, 16 units) = 0.9905\n"
     ]
    }
   ],
   "source": [
    "history_dict = history.history\n",
    "acc_values = history_dict['acc']\n",
    "\n",
    "print('1:','For 1 hidden layer (mse, 16 units) the acc = 0.9572, it\\'s low level of accuracy, but it\\'s also less time for all process\\n')\n",
    "print('2:','For more hidden units (mse, 3 layers, 64 units) it\\'s more acc = 0.9986, but it\\'s also more time for all process\\n')\n",
    "print('3:','From lecture (for Binary Crossentropy loss function, 3 layers, 16 units) acc = 0.9980')\n",
    "print('   From hometask (for MSE loss function, 3 layers, 16 units) acc = ', acc_values[-1], '\\n')\n",
    "print('4:','For \\'tanh\\' activation it\\'s the lowest level of accuracy (mse, 3 layers, 16 units) = 0.9905')"
   ]
  },
  {
   "cell_type": "code",
   "execution_count": 123,
   "metadata": {},
   "outputs": [
    {
     "data": {
      "image/png": "[encoded data removed]",
      "text/plain": [
       "<matplotlib.figure.Figure at 0x2ef087a6128>"
      ]
     },
     "metadata": {},
     "output_type": "display_data"
    }
   ],
   "source": [
    "import matplotlib.pyplot as plt\n",
    "\n",
    "history_dict = history.history\n",
    "loss_values = history_dict['loss']\n",
    "val_loss_values = history_dict['val_loss']\n",
    "\n",
    "epochs = range(1, len(history_dict['acc']) + 1)\n",
    "\n",
    "plt.plot(epochs, loss_values, 'bo', label='Training loss')\n",
    "plt.plot(epochs, val_loss_values, 'b', label='Validation loss')\n",
    "plt.title('Training and validation loss')\n",
    "plt.xlabel('Epochs')\n",
    "plt.ylabel('Loss')\n",
    "plt.legend()\n",
    "\n",
    "plt.show()\n"
   ]
  },
  {
   "cell_type": "code",
   "execution_count": 124,
   "metadata": {},
   "outputs": [
    {
     "data": {
      "image/png": "[encoded data removed]",
      "text/plain": [
       "<matplotlib.figure.Figure at 0x2ef087a6a90>"
      ]
     },
     "metadata": {},
     "output_type": "display_data"
    }
   ],
   "source": [
    "plt.clf()\n",
    "acc_values = history_dict['acc']\n",
    "val_acc_values = history_dict['val_acc']\n",
    "\n",
    "plt.plot(epochs, acc_values, 'bo', label='Training acc')\n",
    "plt.plot(epochs, val_acc_values, 'b', label='Validation acc')\n",
    "plt.title('Training and validation accuracy')\n",
    "plt.xlabel('Epochs')\n",
    "plt.ylabel('Loss')\n",
    "plt.legend()\n",
    "\n",
    "plt.show()"
   ]
  },
  {
   "cell_type": "code",
   "execution_count": 125,
   "metadata": {},
   "outputs": [
    {
     "name": "stdout",
     "output_type": "stream",
     "text": [
      "25000/25000 [==============================] - 4s 172us/step\n"
     ]
    }
   ],
   "source": [
    "results = model.evaluate(x_test, y_test)"
   ]
  },
  {
   "cell_type": "code",
   "execution_count": 126,
   "metadata": {},
   "outputs": [
    {
     "data": {
      "text/plain": [
       "[0.11938871858954429, 0.85236000000000001]"
      ]
     },
     "execution_count": 126,
     "metadata": {},
     "output_type": "execute_result"
    }
   ],
   "source": [
    "results"
   ]
  },
  {
   "cell_type": "code",
   "execution_count": 127,
   "metadata": {},
   "outputs": [
    {
     "data": {
      "text/plain": [
       "array([[ 0.03869142],\n",
       "       [ 1.        ],\n",
       "       [ 0.96596074],\n",
       "       ..., \n",
       "       [ 0.02428477],\n",
       "       [ 0.03919373],\n",
       "       [ 0.81530094]], dtype=float32)"
      ]
     },
     "execution_count": 127,
     "metadata": {},
     "output_type": "execute_result"
    }
   ],
   "source": [
    "model.predict(x_test)"
   ]
  },
  {
   "cell_type": "markdown",
   "metadata": {
    "collapsed": true
   },
   "source": [
    "# The next one "
   ]
  },
  {
   "cell_type": "code",
   "execution_count": 128,
   "metadata": {},
   "outputs": [
    {
     "name": "stdout",
     "output_type": "stream",
     "text": [
      "Training examples: 8982\n",
      "Test examples: 2246\n",
      "[1, 245, 273, 207, 156, 53, 74, 160, 26, 14, 46, 296, 26, 39, 74, 2979, 3554, 14, 46, 4689, 4329, 86, 61, 3499, 4795, 14, 61, 451, 4329, 17, 12]\n"
     ]
    }
   ],
   "source": [
    "from tensorflow.keras.datasets import reuters\n",
    "\n",
    "(train_data, train_labels), (test_data, test_labels) = reuters.load_data(\n",
    "    num_words=10000)\n",
    "\n",
    "print(\"Training examples: {}\".format(len(train_data)))\n",
    "print(\"Test examples: {}\".format(len(test_data)))\n",
    "\n",
    "print(train_data[10])"
   ]
  },
  {
   "cell_type": "code",
   "execution_count": 129,
   "metadata": {},
   "outputs": [
    {
     "data": {
      "text/plain": [
       "'? ? ? said as a result of its december acquisition of space co it expects earnings per share in 1987 of 1 15 to 1 30 dlrs per share up from 70 cts in 1986 the company said pretax net should rise to nine to 10 mln dlrs from six mln dlrs in 1986 and rental operation revenues to 19 to 22 mln dlrs from 12 5 mln dlrs it said cash flow per share this year should be 2 50 to three dlrs reuter 3'"
      ]
     },
     "execution_count": 129,
     "metadata": {},
     "output_type": "execute_result"
    }
   ],
   "source": [
    "word_index = reuters.get_word_index()\n",
    "reverse_word_index = dict([(value, key) for (key, value) in word_index.items()])\n",
    "decoded_newswire = ' '.join([reverse_word_index.get(i - 3, '?') for i in\n",
    "    train_data[0]])\n",
    "decoded_newswire"
   ]
  },
  {
   "cell_type": "code",
   "execution_count": 130,
   "metadata": {},
   "outputs": [],
   "source": [
    "import numpy as np\n",
    "from tensorflow.keras.utils import to_categorical\n",
    "\n",
    "def vectorize_sequences(sequences, dimension=10000):\n",
    "    results = np.zeros((len(sequences), dimension))\n",
    "    for i, sequence in enumerate(sequences):\n",
    "        results[i, sequence] = 1.\n",
    "    return results\n",
    "\n",
    "x_train = vectorize_sequences(train_data)\n",
    "x_test = vectorize_sequences(test_data)\n",
    "\n",
    "def to_one_hot(labels, dimension=46):\n",
    "    results = np.zeros((len(labels), dimension))\n",
    "    for i, label in enumerate(labels):\n",
    "        results[i, label] = 1.\n",
    "    return results\n",
    "\n",
    "one_hot_train_labels = to_one_hot(train_labels)\n",
    "one_hot_test_labels = to_one_hot(test_labels)\n",
    "\n",
    "\n",
    "one_hot_train_labels = to_categorical(train_labels)\n",
    "one_hot_test_labels = to_categorical(test_labels)"
   ]
  },
  {
   "cell_type": "markdown",
   "metadata": {},
   "source": [
    "##### It's time to feed out NN"
   ]
  },
  {
   "cell_type": "code",
   "execution_count": 131,
   "metadata": {
    "collapsed": true
   },
   "outputs": [],
   "source": [
    "x_val = x_train[:1000]\n",
    "partial_x_train = x_train[1000:]\n",
    "y_val = one_hot_train_labels[:1000]\n",
    "partial_y_train = one_hot_train_labels[1000:]"
   ]
  },
  {
   "cell_type": "code",
   "execution_count": 132,
   "metadata": {},
   "outputs": [
    {
     "name": "stdout",
     "output_type": "stream",
     "text": [
      "Train on 7982 samples, validate on 1000 samples\n",
      "Epoch 1/20\n",
      "7982/7982 [==============================] - 3s 419us/step - loss: 2.5004 - acc: 0.5298 - val_loss: 1.6986 - val_acc: 0.6420\n",
      "Epoch 2/20\n",
      "7982/7982 [==============================] - 2s 210us/step - loss: 1.3910 - acc: 0.7081 - val_loss: 1.3059 - val_acc: 0.6960\n",
      "Epoch 3/20\n",
      "7982/7982 [==============================] - 2s 204us/step - loss: 1.0428 - acc: 0.7770 - val_loss: 1.1265 - val_acc: 0.7670\n",
      "Epoch 4/20\n",
      "7982/7982 [==============================] - 2s 200us/step - loss: 0.8264 - acc: 0.8211 - val_loss: 1.0177 - val_acc: 0.7820\n",
      "Epoch 5/20\n",
      "7982/7982 [==============================] - 2s 201us/step - loss: 0.6586 - acc: 0.8618 - val_loss: 0.9612 - val_acc: 0.7960\n",
      "Epoch 6/20\n",
      "7982/7982 [==============================] - 2s 199us/step - loss: 0.5303 - acc: 0.8900 - val_loss: 0.9112 - val_acc: 0.8130\n",
      "Epoch 7/20\n",
      "7982/7982 [==============================] - 2s 206us/step - loss: 0.4257 - acc: 0.9114 - val_loss: 0.8940 - val_acc: 0.8230\n",
      "Epoch 8/20\n",
      "7982/7982 [==============================] - 2s 198us/step - loss: 0.3470 - acc: 0.9270 - val_loss: 0.8833 - val_acc: 0.8170\n",
      "Epoch 9/20\n",
      "7982/7982 [==============================] - 2s 198us/step - loss: 0.2868 - acc: 0.9366 - val_loss: 0.8797 - val_acc: 0.8170\n",
      "Epoch 10/20\n",
      "7982/7982 [==============================] - 2s 198us/step - loss: 0.2389 - acc: 0.9446 - val_loss: 0.8986 - val_acc: 0.8100\n",
      "Epoch 11/20\n",
      "7982/7982 [==============================] - 2s 199us/step - loss: 0.2060 - acc: 0.9488 - val_loss: 0.9050 - val_acc: 0.8140\n",
      "Epoch 12/20\n",
      "7982/7982 [==============================] - 2s 199us/step - loss: 0.1798 - acc: 0.9520 - val_loss: 0.9053 - val_acc: 0.8120\n",
      "Epoch 13/20\n",
      "7982/7982 [==============================] - 2s 201us/step - loss: 0.1635 - acc: 0.9533 - val_loss: 0.9197 - val_acc: 0.8110\n",
      "Epoch 14/20\n",
      "7982/7982 [==============================] - 2s 200us/step - loss: 0.1464 - acc: 0.9555 - val_loss: 0.9530 - val_acc: 0.8080\n",
      "Epoch 15/20\n",
      "7982/7982 [==============================] - 2s 198us/step - loss: 0.1386 - acc: 0.9562 - val_loss: 0.9527 - val_acc: 0.8160\n",
      "Epoch 16/20\n",
      "7982/7982 [==============================] - 2s 200us/step - loss: 0.1272 - acc: 0.9563 - val_loss: 0.9944 - val_acc: 0.8190\n",
      "Epoch 17/20\n",
      "7982/7982 [==============================] - 2s 199us/step - loss: 0.1234 - acc: 0.9560 - val_loss: 1.0296 - val_acc: 0.7960\n",
      "Epoch 18/20\n",
      "7982/7982 [==============================] - 2s 201us/step - loss: 0.1198 - acc: 0.9554 - val_loss: 1.0100 - val_acc: 0.8050\n",
      "Epoch 19/20\n",
      "7982/7982 [==============================] - 2s 202us/step - loss: 0.1171 - acc: 0.9567 - val_loss: 1.0395 - val_acc: 0.7990\n",
      "Epoch 20/20\n",
      "7982/7982 [==============================] - 2s 201us/step - loss: 0.1090 - acc: 0.9577 - val_loss: 1.0184 - val_acc: 0.8020\n"
     ]
    }
   ],
   "source": [
    "from tensorflow.keras import models\n",
    "from tensorflow.keras import layers\n",
    "\n",
    "model = models.Sequential()\n",
    "\n",
    "hiddenlayers = 3\n",
    "hidden_units = hu = 64\n",
    "\n",
    "if(hiddenlayers == 1): \n",
    "    model.add(layers.Dense(46, activation='softmax'))\n",
    "if(hiddenlayers == 2): \n",
    "    model.add(layers.Dense(hu, activation='relu', input_shape=(10000,)))\n",
    "    model.add(layers.Dense(46, activation='softmax'))\n",
    "if(hiddenlayers == 3):\n",
    "    model.add(layers.Dense(hu, activation='relu', input_shape=(10000,)))\n",
    "    model.add(layers.Dense(hu, activation='relu'))\n",
    "    model.add(layers.Dense(46, activation='softmax'))\n",
    "\n",
    "\n",
    "\n",
    "model.compile(optimizer='rmsprop',\n",
    "              loss='categorical_crossentropy',\n",
    "              metrics=['accuracy'])\n",
    "\n",
    "history = model.fit(partial_x_train,\n",
    "                    partial_y_train,\n",
    "                    epochs=20,\n",
    "                    batch_size=512,\n",
    "                    validation_data=(x_val, y_val))"
   ]
  },
  {
   "cell_type": "code",
   "execution_count": 133,
   "metadata": {},
   "outputs": [
    {
     "name": "stdout",
     "output_type": "stream",
     "text": [
      "Aswell as at early cases:\n",
      "\n",
      "1+2: For 3 hidden layers, 128 hidden units acc = 0.9583\n",
      "     For 2 hidden layers, 128 hidden units acc = 0.9575\n",
      "     For 1 hidden layers, 128 hidden units acc = 0.9446\n",
      "2: For 3 hidden layers, 64 hidden units acc = 0.9563\n"
     ]
    }
   ],
   "source": [
    "print('Aswell as at early cases:\\n')\n",
    "print('1+2:','For 3 hidden layers, 128 hidden units acc = 0.9583')\n",
    "print('     For 2 hidden layers, 128 hidden units acc = 0.9575')\n",
    "print('     For 1 hidden layers, 128 hidden units acc = 0.9446')\n",
    "print('2:','For 3 hidden layers, 64 hidden units acc = 0.9563')"
   ]
  },
  {
   "cell_type": "code",
   "execution_count": 134,
   "metadata": {},
   "outputs": [
    {
     "data": {
      "image/png": "[encoded data removed]",
      "text/plain": [
       "<matplotlib.figure.Figure at 0x2ef08f25668>"
      ]
     },
     "metadata": {},
     "output_type": "display_data"
    }
   ],
   "source": [
    "loss = history.history['loss']\n",
    "val_loss = history.history['val_loss']\n",
    "\n",
    "epochs = range(1, len(loss) + 1)\n",
    "\n",
    "plt.plot(epochs, loss, 'bo', label='Training loss')\n",
    "plt.plot(epochs, val_loss, 'b', label='Validation loss')\n",
    "plt.title('Training and validation loss')\n",
    "plt.xlabel('Epochs')\n",
    "plt.ylabel('Loss')\n",
    "plt.legend()\n",
    "\n",
    "plt.show()"
   ]
  },
  {
   "cell_type": "code",
   "execution_count": 135,
   "metadata": {},
   "outputs": [
    {
     "data": {
      "image/png": "[encoded data removed]",
      "text/plain": [
       "<matplotlib.figure.Figure at 0x2ef08f25828>"
      ]
     },
     "metadata": {},
     "output_type": "display_data"
    }
   ],
   "source": [
    "plt.clf()\n",
    "\n",
    "acc = history.history['acc']\n",
    "val_acc = history.history['val_acc']\n",
    "\n",
    "plt.plot(epochs, acc, 'bo', label='Training acc')\n",
    "plt.plot(epochs, val_acc, 'b', label='Validation acc')\n",
    "plt.title('Training and validation accuracy')\n",
    "plt.xlabel('Epochs')\n",
    "plt.ylabel('Loss')\n",
    "plt.legend()\n",
    "\n",
    "plt.show()"
   ]
  },
  {
   "cell_type": "code",
   "execution_count": 136,
   "metadata": {},
   "outputs": [
    {
     "name": "stdout",
     "output_type": "stream",
     "text": [
      "2246/2246 [==============================] - 0s 210us/step\n"
     ]
    },
    {
     "data": {
      "text/plain": [
       "[1.1760974323123243, 0.79029385574354405]"
      ]
     },
     "execution_count": 136,
     "metadata": {},
     "output_type": "execute_result"
    }
   ],
   "source": [
    "results = model.evaluate(x_test, one_hot_test_labels)\n",
    "results"
   ]
  },
  {
   "cell_type": "code",
   "execution_count": 137,
   "metadata": {
    "collapsed": true
   },
   "outputs": [],
   "source": [
    "predictions = model.predict(x_test)"
   ]
  },
  {
   "cell_type": "code",
   "execution_count": 138,
   "metadata": {},
   "outputs": [
    {
     "name": "stdout",
     "output_type": "stream",
     "text": [
      "Shape: (46,)\n",
      "Sum: 1.0000\n"
     ]
    }
   ],
   "source": [
    "print('Shape: {}'.format(predictions[0].shape))\n",
    "print('Sum: {:.4f}'.format(np.sum(predictions[0])))"
   ]
  },
  {
   "cell_type": "code",
   "execution_count": 139,
   "metadata": {},
   "outputs": [
    {
     "data": {
      "text/plain": [
       "3"
      ]
     },
     "execution_count": 139,
     "metadata": {},
     "output_type": "execute_result"
    }
   ],
   "source": [
    "np.argmax(predictions[0])"
   ]
  },
  {
   "cell_type": "code",
   "execution_count": null,
   "metadata": {
    "collapsed": true
   },
   "outputs": [],
   "source": []
  },
  {
   "cell_type": "code",
   "execution_count": null,
   "metadata": {
    "collapsed": true
   },
   "outputs": [],
   "source": []
  }
 ],
 "metadata": {
  "kernelspec": {
   "display_name": "Python 3",
   "language": "python",
   "name": "python3"
  },
  "language_info": {
   "codemirror_mode": {
    "name": "ipython",
    "version": 3
   },
   "file_extension": ".py",
   "mimetype": "text/x-python",
   "name": "python",
   "nbconvert_exporter": "python",
   "pygments_lexer": "ipython3",
   "version": "3.6.6"
  }
 },
 "nbformat": 4,
 "nbformat_minor": 2
}
