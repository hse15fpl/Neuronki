{
 "cells": [
  {
   "cell_type": "markdown",
   "metadata": {},
   "source": [
    "Tasks:\n",
    "\n",
    "You used two hidden layers. Try using one or three hidden layers, and see how doing so affects validation and test accuracy.\n",
    "\n",
    "Try using layers with more hidden units or fewer hidden units: 32 units, 64 units, and so on.\n",
    "\n",
    "Try using the mse loss function instead of binary_crossentropy.\n",
    "\n",
    "Try using the tanh activation (an activation that was popular in the early days of neural networks) instead of relu."
   ]
  },
  {
   "cell_type": "markdown",
   "metadata": {},
   "source": [
    "Download a dataset"
   ]
  },
  {
   "cell_type": "code",
   "execution_count": 3,
   "metadata": {},
   "outputs": [
    {
     "name": "stdout",
     "output_type": "stream",
     "text": [
      "Downloading data from https://s3.amazonaws.com/text-datasets/imdb.npz\n",
      "17465344/17464789 [==============================] - 24s 1us/step\n"
     ]
    }
   ],
   "source": [
    "from keras.datasets import imdb\n",
    "\n",
    "(train_data, train_labels), (test_data, test_labels) = imdb.load_data(\n",
    "    num_words=10000)"
   ]
  },
  {
   "cell_type": "code",
   "execution_count": 4,
   "metadata": {},
   "outputs": [
    {
     "data": {
      "text/plain": [
       "[1, 14, 22, 16, 43, 530, 973, 1622, 1385, 65, 458, 4468, 66, 3941, 4]"
      ]
     },
     "execution_count": 4,
     "metadata": {},
     "output_type": "execute_result"
    }
   ],
   "source": [
    "train_data[0][:15]"
   ]
  },
  {
   "cell_type": "markdown",
   "metadata": {},
   "source": [
    "Vectorizing data"
   ]
  },
  {
   "cell_type": "code",
   "execution_count": 5,
   "metadata": {},
   "outputs": [],
   "source": [
    "import numpy as np\n",
    "\n",
    "def vectorize_sequences(sequences, dimension=10000):\n",
    "    results = np.zeros((len(sequences), dimension))\n",
    "    for i, sequence in enumerate(sequences):\n",
    "        results[i, sequence] = 1.\n",
    "    return results\n",
    "\n",
    "x_train = vectorize_sequences(train_data)\n",
    "x_test = vectorize_sequences(test_data)"
   ]
  },
  {
   "cell_type": "raw",
   "metadata": {},
   "source": [
    "Vectorizing labels"
   ]
  },
  {
   "cell_type": "code",
   "execution_count": 6,
   "metadata": {},
   "outputs": [],
   "source": [
    "y_train = np.asarray(train_labels).astype('float32')\n",
    "y_test = np.asarray(test_labels).astype('float32')"
   ]
  },
  {
   "cell_type": "markdown",
   "metadata": {},
   "source": [
    "Building a network"
   ]
  },
  {
   "cell_type": "markdown",
   "metadata": {},
   "source": [
    "with 1 layer"
   ]
  },
  {
   "cell_type": "code",
   "execution_count": 7,
   "metadata": {},
   "outputs": [],
   "source": [
    "from keras import models\n",
    "from keras import layers\n",
    "\n",
    "model_one = models.Sequential()\n",
    "model_one.add(layers.Dense(16, activation='relu', input_shape=(10000,)))\n",
    "model_one.add(layers.Dense(1, activation='sigmoid'))\n"
   ]
  },
  {
   "cell_type": "markdown",
   "metadata": {},
   "source": [
    "Validation"
   ]
  },
  {
   "cell_type": "code",
   "execution_count": 12,
   "metadata": {},
   "outputs": [],
   "source": [
    "x_val = x_train[:5000]\n",
    "partial_x_train = x_train[5000:]\n",
    "y_val = y_train[:5000]\n",
    "partial_y_train = y_train[5000:]"
   ]
  },
  {
   "cell_type": "code",
   "execution_count": 13,
   "metadata": {},
   "outputs": [],
   "source": [
    "from keras import optimizers\n",
    "from keras import losses\n",
    "from keras import metrics\n",
    "\n",
    "model_one.compile(optimizer=optimizers.RMSprop(lr=0.001),\n",
    "              loss=losses.binary_crossentropy,\n",
    "              metrics=[metrics.binary_accuracy])"
   ]
  },
  {
   "cell_type": "code",
   "execution_count": 14,
   "metadata": {},
   "outputs": [
    {
     "name": "stdout",
     "output_type": "stream",
     "text": [
      "Train on 20000 samples, validate on 5000 samples\n",
      "Epoch 1/20\n",
      "20000/20000 [==============================] - 14s 712us/step - loss: 0.4604 - binary_accuracy: 0.8095 - val_loss: 0.3794 - val_binary_accuracy: 0.8434\n",
      "Epoch 2/20\n",
      "20000/20000 [==============================] - 4s 184us/step - loss: 0.2775 - binary_accuracy: 0.9079 - val_loss: 0.2928 - val_binary_accuracy: 0.8894\n",
      "Epoch 3/20\n",
      "20000/20000 [==============================] - 3s 161us/step - loss: 0.2143 - binary_accuracy: 0.9289 - val_loss: 0.2719 - val_binary_accuracy: 0.8950\n",
      "Epoch 4/20\n",
      "20000/20000 [==============================] - 3s 162us/step - loss: 0.1805 - binary_accuracy: 0.9397 - val_loss: 0.2699 - val_binary_accuracy: 0.8928\n",
      "Epoch 5/20\n",
      "20000/20000 [==============================] - 3s 156us/step - loss: 0.1561 - binary_accuracy: 0.9485 - val_loss: 0.2704 - val_binary_accuracy: 0.8938\n",
      "Epoch 6/20\n",
      "20000/20000 [==============================] - 3s 157us/step - loss: 0.1373 - binary_accuracy: 0.9555 - val_loss: 0.2776 - val_binary_accuracy: 0.8916\n",
      "Epoch 7/20\n",
      "20000/20000 [==============================] - 3s 165us/step - loss: 0.1233 - binary_accuracy: 0.9615 - val_loss: 0.2893 - val_binary_accuracy: 0.8886\n",
      "Epoch 8/20\n",
      "20000/20000 [==============================] - 3s 151us/step - loss: 0.1083 - binary_accuracy: 0.9670 - val_loss: 0.3272 - val_binary_accuracy: 0.8788\n",
      "Epoch 9/20\n",
      "20000/20000 [==============================] - 3s 155us/step - loss: 0.0998 - binary_accuracy: 0.9696 - val_loss: 0.3718 - val_binary_accuracy: 0.8668\n",
      "Epoch 10/20\n",
      "20000/20000 [==============================] - 3s 162us/step - loss: 0.0910 - binary_accuracy: 0.9722 - val_loss: 0.3226 - val_binary_accuracy: 0.8834\n",
      "Epoch 11/20\n",
      "20000/20000 [==============================] - 3s 158us/step - loss: 0.0815 - binary_accuracy: 0.9769 - val_loss: 0.3325 - val_binary_accuracy: 0.8832\n",
      "Epoch 12/20\n",
      "20000/20000 [==============================] - 3s 158us/step - loss: 0.0740 - binary_accuracy: 0.9797 - val_loss: 0.3745 - val_binary_accuracy: 0.8738\n",
      "Epoch 13/20\n",
      "20000/20000 [==============================] - 3s 163us/step - loss: 0.0659 - binary_accuracy: 0.9826 - val_loss: 0.3691 - val_binary_accuracy: 0.8772\n",
      "Epoch 14/20\n",
      "20000/20000 [==============================] - 3s 170us/step - loss: 0.0609 - binary_accuracy: 0.9841 - val_loss: 0.3758 - val_binary_accuracy: 0.8780\n",
      "Epoch 15/20\n",
      "20000/20000 [==============================] - 3s 159us/step - loss: 0.0546 - binary_accuracy: 0.9864 - val_loss: 0.4102 - val_binary_accuracy: 0.8724\n",
      "Epoch 16/20\n",
      "20000/20000 [==============================] - 3s 155us/step - loss: 0.0495 - binary_accuracy: 0.9886 - val_loss: 0.4090 - val_binary_accuracy: 0.8742\n",
      "Epoch 17/20\n",
      "20000/20000 [==============================] - 3s 158us/step - loss: 0.0453 - binary_accuracy: 0.9894 - val_loss: 0.4292 - val_binary_accuracy: 0.8740\n",
      "Epoch 18/20\n",
      "20000/20000 [==============================] - 3s 156us/step - loss: 0.0400 - binary_accuracy: 0.9914 - val_loss: 0.4491 - val_binary_accuracy: 0.8716\n",
      "Epoch 19/20\n",
      "20000/20000 [==============================] - 3s 155us/step - loss: 0.0364 - binary_accuracy: 0.9921 - val_loss: 0.4774 - val_binary_accuracy: 0.8690\n",
      "Epoch 20/20\n",
      "20000/20000 [==============================] - 3s 150us/step - loss: 0.0327 - binary_accuracy: 0.9937 - val_loss: 0.4825 - val_binary_accuracy: 0.8696\n"
     ]
    }
   ],
   "source": [
    "history_one = model_one.fit(partial_x_train,\n",
    "                    partial_y_train,\n",
    "                    epochs=20,\n",
    "                    batch_size=512,\n",
    "                    validation_data=(x_val, y_val))"
   ]
  },
  {
   "cell_type": "code",
   "execution_count": 15,
   "metadata": {},
   "outputs": [
    {
     "name": "stdout",
     "output_type": "stream",
     "text": [
      "25000/25000 [==============================] - 9s 367us/step\n"
     ]
    }
   ],
   "source": [
    "results_one = model_one.evaluate(x_test, y_test)"
   ]
  },
  {
   "cell_type": "code",
   "execution_count": 16,
   "metadata": {},
   "outputs": [
    {
     "name": "stdout",
     "output_type": "stream",
     "text": [
      "Test accuracy: 0.85428\n"
     ]
    }
   ],
   "source": [
    "print('Test accuracy: {}'.format(results_one[1]))"
   ]
  },
  {
   "cell_type": "markdown",
   "metadata": {},
   "source": [
    "2 hidden layers"
   ]
  },
  {
   "cell_type": "code",
   "execution_count": 17,
   "metadata": {},
   "outputs": [
    {
     "name": "stdout",
     "output_type": "stream",
     "text": [
      "Train on 20000 samples, validate on 5000 samples\n",
      "Epoch 1/20\n",
      "20000/20000 [==============================] - 52s 3ms/step - loss: 0.4562 - binary_accuracy: 0.8203 - val_loss: 0.3391 - val_binary_accuracy: 0.8802\n",
      "Epoch 2/20\n",
      "20000/20000 [==============================] - 5s 245us/step - loss: 0.2679 - binary_accuracy: 0.9079 - val_loss: 0.3046 - val_binary_accuracy: 0.8800\n",
      "Epoch 3/20\n",
      "20000/20000 [==============================] - 5s 241us/step - loss: 0.2012 - binary_accuracy: 0.9302 - val_loss: 0.3035 - val_binary_accuracy: 0.8782\n",
      "Epoch 4/20\n",
      "20000/20000 [==============================] - 5s 230us/step - loss: 0.1658 - binary_accuracy: 0.9419 - val_loss: 0.2741 - val_binary_accuracy: 0.8934\n",
      "Epoch 5/20\n",
      "20000/20000 [==============================] - 5s 240us/step - loss: 0.1387 - binary_accuracy: 0.9519 - val_loss: 0.2858 - val_binary_accuracy: 0.8912\n",
      "Epoch 6/20\n",
      "20000/20000 [==============================] - 5s 240us/step - loss: 0.1165 - binary_accuracy: 0.9618 - val_loss: 0.3313 - val_binary_accuracy: 0.8806\n",
      "Epoch 7/20\n",
      "20000/20000 [==============================] - 5s 247us/step - loss: 0.1000 - binary_accuracy: 0.9671 - val_loss: 0.3232 - val_binary_accuracy: 0.8840\n",
      "Epoch 8/20\n",
      "20000/20000 [==============================] - 4s 213us/step - loss: 0.0837 - binary_accuracy: 0.9743 - val_loss: 0.3578 - val_binary_accuracy: 0.8792\n",
      "Epoch 9/20\n",
      "20000/20000 [==============================] - 3s 153us/step - loss: 0.0717 - binary_accuracy: 0.9773 - val_loss: 0.3645 - val_binary_accuracy: 0.8836\n",
      "Epoch 10/20\n",
      "20000/20000 [==============================] - 3s 157us/step - loss: 0.0590 - binary_accuracy: 0.9826 - val_loss: 0.4187 - val_binary_accuracy: 0.8760\n",
      "Epoch 11/20\n",
      "20000/20000 [==============================] - 3s 160us/step - loss: 0.0500 - binary_accuracy: 0.9859 - val_loss: 0.4265 - val_binary_accuracy: 0.8752\n",
      "Epoch 12/20\n",
      "20000/20000 [==============================] - 3s 161us/step - loss: 0.0422 - binary_accuracy: 0.9889 - val_loss: 0.4543 - val_binary_accuracy: 0.8752\n",
      "Epoch 13/20\n",
      "20000/20000 [==============================] - 4s 193us/step - loss: 0.0310 - binary_accuracy: 0.9930 - val_loss: 0.5461 - val_binary_accuracy: 0.8630\n",
      "Epoch 14/20\n",
      "20000/20000 [==============================] - 4s 222us/step - loss: 0.0280 - binary_accuracy: 0.9933 - val_loss: 0.5536 - val_binary_accuracy: 0.8688\n",
      "Epoch 15/20\n",
      "20000/20000 [==============================] - 5s 229us/step - loss: 0.0217 - binary_accuracy: 0.9952 - val_loss: 0.5482 - val_binary_accuracy: 0.8698\n",
      "Epoch 16/20\n",
      "20000/20000 [==============================] - 5s 244us/step - loss: 0.0176 - binary_accuracy: 0.9965 - val_loss: 0.5962 - val_binary_accuracy: 0.8692\n",
      "Epoch 17/20\n",
      "20000/20000 [==============================] - 5s 233us/step - loss: 0.0131 - binary_accuracy: 0.9981 - val_loss: 0.6765 - val_binary_accuracy: 0.8620\n",
      "Epoch 18/20\n",
      "20000/20000 [==============================] - 5s 234us/step - loss: 0.0097 - binary_accuracy: 0.9986 - val_loss: 0.6609 - val_binary_accuracy: 0.8678\n",
      "Epoch 19/20\n",
      "20000/20000 [==============================] - 4s 215us/step - loss: 0.0102 - binary_accuracy: 0.9979 - val_loss: 0.6931 - val_binary_accuracy: 0.8674\n",
      "Epoch 20/20\n",
      "20000/20000 [==============================] - 5s 238us/step - loss: 0.0076 - binary_accuracy: 0.9990 - val_loss: 0.7164 - val_binary_accuracy: 0.8670\n",
      "25000/25000 [==============================] - 12s 478us/step\n"
     ]
    }
   ],
   "source": [
    "model_two = models.Sequential()\n",
    "model_two.add(layers.Dense(16, activation='relu', input_shape=(10000,)))\n",
    "model_two.add(layers.Dense(16, activation='relu'))\n",
    "model_two.add(layers.Dense(1, activation='sigmoid'))\n",
    "\n",
    "model_two.compile(optimizer=optimizers.RMSprop(lr=0.001),\n",
    "              loss=losses.binary_crossentropy,\n",
    "              metrics=[metrics.binary_accuracy])\n",
    "\n",
    "history_two = model_two.fit(partial_x_train,\n",
    "                    partial_y_train,\n",
    "                    epochs=20,\n",
    "                    batch_size=512,\n",
    "                    validation_data=(x_val, y_val))\n",
    "\n",
    "results_two = model_two.evaluate(x_test, y_test)"
   ]
  },
  {
   "cell_type": "code",
   "execution_count": 18,
   "metadata": {},
   "outputs": [
    {
     "name": "stdout",
     "output_type": "stream",
     "text": [
      "Test accuracy: 0.84988\n"
     ]
    }
   ],
   "source": [
    "print('Test accuracy: {}'.format(results_two[1]))"
   ]
  },
  {
   "cell_type": "markdown",
   "metadata": {},
   "source": [
    "3 hidden layers"
   ]
  },
  {
   "cell_type": "code",
   "execution_count": 19,
   "metadata": {},
   "outputs": [
    {
     "name": "stdout",
     "output_type": "stream",
     "text": [
      "Train on 20000 samples, validate on 5000 samples\n",
      "Epoch 1/20\n",
      "20000/20000 [==============================] - 10s 481us/step - loss: 0.5091 - binary_accuracy: 0.8002 - val_loss: 0.3673 - val_binary_accuracy: 0.8748\n",
      "Epoch 2/20\n",
      "20000/20000 [==============================] - 3s 152us/step - loss: 0.2820 - binary_accuracy: 0.9070 - val_loss: 0.3420 - val_binary_accuracy: 0.8598\n",
      "Epoch 3/20\n",
      "20000/20000 [==============================] - 4s 188us/step - loss: 0.2094 - binary_accuracy: 0.9254 - val_loss: 0.2909 - val_binary_accuracy: 0.8840\n",
      "Epoch 4/20\n",
      "20000/20000 [==============================] - 3s 158us/step - loss: 0.1685 - binary_accuracy: 0.9424 - val_loss: 0.3026 - val_binary_accuracy: 0.8830\n",
      "Epoch 5/20\n",
      "20000/20000 [==============================] - 3s 148us/step - loss: 0.1400 - binary_accuracy: 0.9542 - val_loss: 0.2931 - val_binary_accuracy: 0.8888\n",
      "Epoch 6/20\n",
      "20000/20000 [==============================] - 3s 157us/step - loss: 0.1179 - binary_accuracy: 0.9608 - val_loss: 0.2997 - val_binary_accuracy: 0.8880\n",
      "Epoch 7/20\n",
      "20000/20000 [==============================] - 3s 149us/step - loss: 0.1019 - binary_accuracy: 0.9664 - val_loss: 0.3193 - val_binary_accuracy: 0.8888\n",
      "Epoch 8/20\n",
      "20000/20000 [==============================] - 3s 149us/step - loss: 0.0792 - binary_accuracy: 0.9763 - val_loss: 0.3718 - val_binary_accuracy: 0.8758\n",
      "Epoch 9/20\n",
      "20000/20000 [==============================] - 3s 145us/step - loss: 0.0685 - binary_accuracy: 0.9793 - val_loss: 0.3720 - val_binary_accuracy: 0.8826\n",
      "Epoch 10/20\n",
      "20000/20000 [==============================] - 3s 159us/step - loss: 0.0563 - binary_accuracy: 0.9845 - val_loss: 0.4025 - val_binary_accuracy: 0.8822\n",
      "Epoch 11/20\n",
      "20000/20000 [==============================] - 3s 156us/step - loss: 0.0444 - binary_accuracy: 0.9881 - val_loss: 0.4777 - val_binary_accuracy: 0.8692\n",
      "Epoch 12/20\n",
      "20000/20000 [==============================] - 3s 170us/step - loss: 0.0341 - binary_accuracy: 0.9912 - val_loss: 0.4882 - val_binary_accuracy: 0.8762\n",
      "Epoch 13/20\n",
      "20000/20000 [==============================] - 4s 176us/step - loss: 0.0246 - binary_accuracy: 0.9941 - val_loss: 0.5393 - val_binary_accuracy: 0.8678\n",
      "Epoch 14/20\n",
      "20000/20000 [==============================] - 3s 153us/step - loss: 0.0190 - binary_accuracy: 0.9958 - val_loss: 0.5599 - val_binary_accuracy: 0.8710\n",
      "Epoch 15/20\n",
      "20000/20000 [==============================] - 3s 153us/step - loss: 0.0210 - binary_accuracy: 0.9942 - val_loss: 0.5999 - val_binary_accuracy: 0.8724\n",
      "Epoch 16/20\n",
      "20000/20000 [==============================] - 3s 149us/step - loss: 0.0148 - binary_accuracy: 0.9958 - val_loss: 0.6181 - val_binary_accuracy: 0.8746\n",
      "Epoch 17/20\n",
      "20000/20000 [==============================] - 3s 146us/step - loss: 0.0050 - binary_accuracy: 0.9996 - val_loss: 0.6570 - val_binary_accuracy: 0.8728\n",
      "Epoch 18/20\n",
      "20000/20000 [==============================] - 3s 144us/step - loss: 0.0118 - binary_accuracy: 0.9966 - val_loss: 0.6961 - val_binary_accuracy: 0.8706\n",
      "Epoch 19/20\n",
      "20000/20000 [==============================] - 3s 146us/step - loss: 0.0028 - binary_accuracy: 0.9998 - val_loss: 0.7426 - val_binary_accuracy: 0.8712\n",
      "Epoch 20/20\n",
      "20000/20000 [==============================] - 3s 145us/step - loss: 0.0092 - binary_accuracy: 0.9972 - val_loss: 0.7796 - val_binary_accuracy: 0.8708\n",
      "25000/25000 [==============================] - 4s 156us/step\n"
     ]
    }
   ],
   "source": [
    "model_three = models.Sequential()\n",
    "model_three.add(layers.Dense(16, activation='relu', input_shape=(10000,)))\n",
    "model_three.add(layers.Dense(16, activation='relu'))\n",
    "model_three.add(layers.Dense(16, activation='relu'))\n",
    "model_three.add(layers.Dense(1, activation='sigmoid'))\n",
    "\n",
    "model_three.compile(optimizer=optimizers.RMSprop(lr=0.001),\n",
    "              loss=losses.binary_crossentropy,\n",
    "              metrics=[metrics.binary_accuracy])\n",
    "\n",
    "history_three = model_three.fit(partial_x_train,\n",
    "                    partial_y_train,\n",
    "                    epochs=20,\n",
    "                    batch_size=512,\n",
    "                    validation_data=(x_val, y_val))\n",
    "\n",
    "results_three = model_three.evaluate(x_test, y_test)"
   ]
  },
  {
   "cell_type": "code",
   "execution_count": 20,
   "metadata": {},
   "outputs": [
    {
     "name": "stdout",
     "output_type": "stream",
     "text": [
      "Test accuracy: 0.85052\n"
     ]
    }
   ],
   "source": [
    "print('Test accuracy: {}'.format(results_three[1]))"
   ]
  },
  {
   "cell_type": "markdown",
   "metadata": {},
   "source": [
    "A more accurate is with 1 hidden unit"
   ]
  },
  {
   "cell_type": "markdown",
   "metadata": {},
   "source": [
    "Number of hidden units"
   ]
  },
  {
   "cell_type": "markdown",
   "metadata": {},
   "source": [
    "1 layer, 32 units"
   ]
  },
  {
   "cell_type": "code",
   "execution_count": 21,
   "metadata": {},
   "outputs": [
    {
     "name": "stdout",
     "output_type": "stream",
     "text": [
      "Train on 20000 samples, validate on 5000 samples\n",
      "Epoch 1/20\n",
      "20000/20000 [==============================] - 4s 190us/step - loss: 0.4533 - binary_accuracy: 0.8096 - val_loss: 0.3394 - val_binary_accuracy: 0.8760\n",
      "Epoch 2/20\n",
      "20000/20000 [==============================] - 4s 220us/step - loss: 0.2678 - binary_accuracy: 0.9094 - val_loss: 0.3103 - val_binary_accuracy: 0.8726\n",
      "Epoch 3/20\n",
      "20000/20000 [==============================] - 5s 245us/step - loss: 0.2098 - binary_accuracy: 0.9301 - val_loss: 0.2675 - val_binary_accuracy: 0.8932\n",
      "Epoch 4/20\n",
      "20000/20000 [==============================] - 4s 213us/step - loss: 0.1722 - binary_accuracy: 0.9420 - val_loss: 0.2689 - val_binary_accuracy: 0.8926\n",
      "Epoch 5/20\n",
      "20000/20000 [==============================] - 3s 169us/step - loss: 0.1463 - binary_accuracy: 0.9514 - val_loss: 0.2787 - val_binary_accuracy: 0.8894\n",
      "Epoch 6/20\n",
      "20000/20000 [==============================] - 3s 165us/step - loss: 0.1306 - binary_accuracy: 0.9568 - val_loss: 0.3034 - val_binary_accuracy: 0.8872\n",
      "Epoch 7/20\n",
      "20000/20000 [==============================] - 4s 175us/step - loss: 0.1133 - binary_accuracy: 0.9637 - val_loss: 0.2968 - val_binary_accuracy: 0.8892\n",
      "Epoch 8/20\n",
      "20000/20000 [==============================] - 3s 175us/step - loss: 0.0995 - binary_accuracy: 0.9692 - val_loss: 0.3277 - val_binary_accuracy: 0.8816\n",
      "Epoch 9/20\n",
      "20000/20000 [==============================] - 3s 170us/step - loss: 0.0898 - binary_accuracy: 0.9721 - val_loss: 0.3289 - val_binary_accuracy: 0.8840\n",
      "Epoch 10/20\n",
      "20000/20000 [==============================] - 3s 172us/step - loss: 0.0800 - binary_accuracy: 0.9760 - val_loss: 0.3583 - val_binary_accuracy: 0.8816\n",
      "Epoch 11/20\n",
      "20000/20000 [==============================] - 3s 171us/step - loss: 0.0713 - binary_accuracy: 0.9792 - val_loss: 0.3636 - val_binary_accuracy: 0.8810\n",
      "Epoch 12/20\n",
      "20000/20000 [==============================] - 4s 175us/step - loss: 0.0619 - binary_accuracy: 0.9823 - val_loss: 0.4057 - val_binary_accuracy: 0.8704\n",
      "Epoch 13/20\n",
      "20000/20000 [==============================] - 3s 173us/step - loss: 0.0576 - binary_accuracy: 0.9847 - val_loss: 0.4049 - val_binary_accuracy: 0.8728\n",
      "Epoch 14/20\n",
      "20000/20000 [==============================] - 3s 169us/step - loss: 0.0492 - binary_accuracy: 0.9879 - val_loss: 0.4228 - val_binary_accuracy: 0.8750\n",
      "Epoch 15/20\n",
      "20000/20000 [==============================] - 3s 170us/step - loss: 0.0452 - binary_accuracy: 0.9889 - val_loss: 0.4545 - val_binary_accuracy: 0.8726\n",
      "Epoch 16/20\n",
      "20000/20000 [==============================] - 3s 172us/step - loss: 0.0394 - binary_accuracy: 0.9908 - val_loss: 0.4816 - val_binary_accuracy: 0.8696\n",
      "Epoch 17/20\n",
      "20000/20000 [==============================] - 3s 167us/step - loss: 0.0344 - binary_accuracy: 0.9922 - val_loss: 0.4931 - val_binary_accuracy: 0.8698\n",
      "Epoch 18/20\n",
      "20000/20000 [==============================] - 3s 165us/step - loss: 0.0305 - binary_accuracy: 0.9935 - val_loss: 0.5164 - val_binary_accuracy: 0.8684\n",
      "Epoch 19/20\n",
      "20000/20000 [==============================] - 4s 176us/step - loss: 0.0265 - binary_accuracy: 0.9949 - val_loss: 0.5412 - val_binary_accuracy: 0.8664\n",
      "Epoch 20/20\n",
      "20000/20000 [==============================] - 3s 172us/step - loss: 0.0239 - binary_accuracy: 0.9958 - val_loss: 0.5792 - val_binary_accuracy: 0.8668\n",
      "25000/25000 [==============================] - 4s 156us/step\n",
      "Test accuracy: 0.85132\n"
     ]
    }
   ],
   "source": [
    "model_one = models.Sequential()\n",
    "model_one.add(layers.Dense(32, activation='relu', input_shape=(10000,)))\n",
    "model_one.add(layers.Dense(1, activation='sigmoid'))\n",
    "\n",
    "model_one.compile(optimizer=optimizers.RMSprop(lr=0.001),\n",
    "              loss=losses.binary_crossentropy,\n",
    "              metrics=[metrics.binary_accuracy])\n",
    "\n",
    "history_one = model_one.fit(partial_x_train,\n",
    "                    partial_y_train,\n",
    "                    epochs=20,\n",
    "                    batch_size=512,\n",
    "                    validation_data=(x_val, y_val))\n",
    "\n",
    "results_one = model_one.evaluate(x_test, y_test)\n",
    "print('Test accuracy: {}'.format(results_one[1]))"
   ]
  },
  {
   "cell_type": "markdown",
   "metadata": {},
   "source": [
    "1 layer, 64 units"
   ]
  },
  {
   "cell_type": "code",
   "execution_count": 22,
   "metadata": {},
   "outputs": [
    {
     "name": "stdout",
     "output_type": "stream",
     "text": [
      "Train on 20000 samples, validate on 5000 samples\n",
      "Epoch 1/20\n",
      "20000/20000 [==============================] - 5s 236us/step - loss: 0.4337 - binary_accuracy: 0.8115 - val_loss: 0.3130 - val_binary_accuracy: 0.8790\n",
      "Epoch 2/20\n",
      "20000/20000 [==============================] - 4s 188us/step - loss: 0.2493 - binary_accuracy: 0.9118 - val_loss: 0.2911 - val_binary_accuracy: 0.8840\n",
      "Epoch 3/20\n",
      "20000/20000 [==============================] - 4s 184us/step - loss: 0.1909 - binary_accuracy: 0.9345 - val_loss: 0.3053 - val_binary_accuracy: 0.8750\n",
      "Epoch 4/20\n",
      "20000/20000 [==============================] - 4s 189us/step - loss: 0.1560 - binary_accuracy: 0.9455 - val_loss: 0.3287 - val_binary_accuracy: 0.8668\n",
      "Epoch 5/20\n",
      "20000/20000 [==============================] - 4s 183us/step - loss: 0.1350 - binary_accuracy: 0.9540 - val_loss: 0.3017 - val_binary_accuracy: 0.8874\n",
      "Epoch 6/20\n",
      "20000/20000 [==============================] - 4s 181us/step - loss: 0.1151 - binary_accuracy: 0.9594 - val_loss: 0.3085 - val_binary_accuracy: 0.8840\n",
      "Epoch 7/20\n",
      "20000/20000 [==============================] - 4s 185us/step - loss: 0.0975 - binary_accuracy: 0.9686 - val_loss: 0.3919 - val_binary_accuracy: 0.8636\n",
      "Epoch 8/20\n",
      "20000/20000 [==============================] - 5s 243us/step - loss: 0.0848 - binary_accuracy: 0.9740 - val_loss: 0.3433 - val_binary_accuracy: 0.8824\n",
      "Epoch 9/20\n",
      "20000/20000 [==============================] - 5s 272us/step - loss: 0.0741 - binary_accuracy: 0.9758 - val_loss: 0.3790 - val_binary_accuracy: 0.8744\n",
      "Epoch 10/20\n",
      "20000/20000 [==============================] - 6s 282us/step - loss: 0.0640 - binary_accuracy: 0.9810 - val_loss: 0.3898 - val_binary_accuracy: 0.8780\n",
      "Epoch 11/20\n",
      "20000/20000 [==============================] - 6s 289us/step - loss: 0.0555 - binary_accuracy: 0.9840 - val_loss: 0.4110 - val_binary_accuracy: 0.8764\n",
      "Epoch 12/20\n",
      "20000/20000 [==============================] - 6s 284us/step - loss: 0.0461 - binary_accuracy: 0.9876 - val_loss: 0.4402 - val_binary_accuracy: 0.8744\n",
      "Epoch 13/20\n",
      "20000/20000 [==============================] - 6s 288us/step - loss: 0.0412 - binary_accuracy: 0.9893 - val_loss: 0.4651 - val_binary_accuracy: 0.8724\n",
      "Epoch 14/20\n",
      "20000/20000 [==============================] - 6s 277us/step - loss: 0.0333 - binary_accuracy: 0.9926 - val_loss: 0.5588 - val_binary_accuracy: 0.8582\n",
      "Epoch 15/20\n",
      "20000/20000 [==============================] - 6s 291us/step - loss: 0.0286 - binary_accuracy: 0.9940 - val_loss: 0.5305 - val_binary_accuracy: 0.8660\n",
      "Epoch 16/20\n",
      "20000/20000 [==============================] - 5s 263us/step - loss: 0.0249 - binary_accuracy: 0.9945 - val_loss: 0.5651 - val_binary_accuracy: 0.8680\n",
      "Epoch 17/20\n",
      "20000/20000 [==============================] - 6s 284us/step - loss: 0.0222 - binary_accuracy: 0.9955 - val_loss: 0.5782 - val_binary_accuracy: 0.8662\n",
      "Epoch 18/20\n",
      "20000/20000 [==============================] - 5s 252us/step - loss: 0.0172 - binary_accuracy: 0.9972 - val_loss: 0.6041 - val_binary_accuracy: 0.8664\n",
      "Epoch 19/20\n",
      "20000/20000 [==============================] - 6s 284us/step - loss: 0.0154 - binary_accuracy: 0.9974 - val_loss: 0.6382 - val_binary_accuracy: 0.8628\n",
      "Epoch 20/20\n",
      "20000/20000 [==============================] - 5s 271us/step - loss: 0.0138 - binary_accuracy: 0.9977 - val_loss: 0.6656 - val_binary_accuracy: 0.8622\n",
      "25000/25000 [==============================] - 8s 325us/step\n",
      "Test accuracy: 0.84976\n"
     ]
    }
   ],
   "source": [
    "model_one = models.Sequential()\n",
    "model_one.add(layers.Dense(64, activation='relu', input_shape=(10000,)))\n",
    "model_one.add(layers.Dense(1, activation='sigmoid'))\n",
    "\n",
    "model_one.compile(optimizer=optimizers.RMSprop(lr=0.001),\n",
    "              loss=losses.binary_crossentropy,\n",
    "              metrics=[metrics.binary_accuracy])\n",
    "\n",
    "history_one = model_one.fit(partial_x_train,\n",
    "                    partial_y_train,\n",
    "                    epochs=20,\n",
    "                    batch_size=512,\n",
    "                    validation_data=(x_val, y_val))\n",
    "\n",
    "results_one = model_one.evaluate(x_test, y_test)\n",
    "print('Test accuracy: {}'.format(results_one[1]))"
   ]
  },
  {
   "cell_type": "markdown",
   "metadata": {},
   "source": [
    " A model with 32 units works better"
   ]
  },
  {
   "cell_type": "markdown",
   "metadata": {},
   "source": [
    "3 layers, 32 units"
   ]
  },
  {
   "cell_type": "code",
   "execution_count": 23,
   "metadata": {},
   "outputs": [
    {
     "name": "stdout",
     "output_type": "stream",
     "text": [
      "Train on 20000 samples, validate on 5000 samples\n",
      "Epoch 1/20\n",
      "20000/20000 [==============================] - 6s 322us/step - loss: 0.4619 - binary_accuracy: 0.7948 - val_loss: 0.3366 - val_binary_accuracy: 0.8610\n",
      "Epoch 2/20\n",
      "20000/20000 [==============================] - 5s 244us/step - loss: 0.2491 - binary_accuracy: 0.9079 - val_loss: 0.2868 - val_binary_accuracy: 0.8838\n",
      "Epoch 3/20\n",
      "20000/20000 [==============================] - 5s 250us/step - loss: 0.1893 - binary_accuracy: 0.9306 - val_loss: 0.3351 - val_binary_accuracy: 0.8740\n",
      "Epoch 4/20\n",
      "20000/20000 [==============================] - 5s 251us/step - loss: 0.1536 - binary_accuracy: 0.9431 - val_loss: 0.2902 - val_binary_accuracy: 0.8892\n",
      "Epoch 5/20\n",
      "20000/20000 [==============================] - 5s 238us/step - loss: 0.1231 - binary_accuracy: 0.9557 - val_loss: 0.3203 - val_binary_accuracy: 0.8836\n",
      "Epoch 6/20\n",
      "20000/20000 [==============================] - 5s 255us/step - loss: 0.0958 - binary_accuracy: 0.9661 - val_loss: 0.3431 - val_binary_accuracy: 0.8838\n",
      "Epoch 7/20\n",
      "20000/20000 [==============================] - 5s 258us/step - loss: 0.0755 - binary_accuracy: 0.9734 - val_loss: 0.3792 - val_binary_accuracy: 0.8832\n",
      "Epoch 8/20\n",
      "20000/20000 [==============================] - 5s 251us/step - loss: 0.0555 - binary_accuracy: 0.9812 - val_loss: 0.4580 - val_binary_accuracy: 0.8730\n",
      "Epoch 9/20\n",
      "20000/20000 [==============================] - 4s 203us/step - loss: 0.0436 - binary_accuracy: 0.9864 - val_loss: 0.5741 - val_binary_accuracy: 0.8632\n",
      "Epoch 10/20\n",
      "20000/20000 [==============================] - 3s 168us/step - loss: 0.0333 - binary_accuracy: 0.9891 - val_loss: 0.5339 - val_binary_accuracy: 0.8732\n",
      "Epoch 11/20\n",
      "20000/20000 [==============================] - 3s 165us/step - loss: 0.0323 - binary_accuracy: 0.9905 - val_loss: 0.5651 - val_binary_accuracy: 0.8724\n",
      "Epoch 12/20\n",
      "20000/20000 [==============================] - 3s 168us/step - loss: 0.0317 - binary_accuracy: 0.9913 - val_loss: 0.5786 - val_binary_accuracy: 0.8716\n",
      "Epoch 13/20\n",
      "20000/20000 [==============================] - 4s 177us/step - loss: 0.0054 - binary_accuracy: 0.9994 - val_loss: 0.6451 - val_binary_accuracy: 0.8714\n",
      "Epoch 14/20\n",
      "20000/20000 [==============================] - 3s 175us/step - loss: 0.0242 - binary_accuracy: 0.9943 - val_loss: 0.6737 - val_binary_accuracy: 0.8700\n",
      "Epoch 15/20\n",
      "20000/20000 [==============================] - 3s 168us/step - loss: 0.0020 - binary_accuracy: 0.9998 - val_loss: 0.7627 - val_binary_accuracy: 0.8702\n",
      "Epoch 16/20\n",
      "20000/20000 [==============================] - 3s 163us/step - loss: 0.0231 - binary_accuracy: 0.9942 - val_loss: 0.8001 - val_binary_accuracy: 0.8720\n",
      "Epoch 17/20\n",
      "20000/20000 [==============================] - 3s 167us/step - loss: 6.9856e-04 - binary_accuracy: 1.0000 - val_loss: 0.8465 - val_binary_accuracy: 0.8702\n",
      "Epoch 18/20\n",
      "20000/20000 [==============================] - 3s 166us/step - loss: 0.0295 - binary_accuracy: 0.9939 - val_loss: 0.8740 - val_binary_accuracy: 0.8688\n",
      "Epoch 19/20\n",
      "20000/20000 [==============================] - 3s 166us/step - loss: 4.0321e-04 - binary_accuracy: 1.0000 - val_loss: 0.8857 - val_binary_accuracy: 0.8706\n",
      "Epoch 20/20\n",
      "20000/20000 [==============================] - 3s 168us/step - loss: 2.0638e-04 - binary_accuracy: 1.0000 - val_loss: 0.9363 - val_binary_accuracy: 0.8692\n",
      "25000/25000 [==============================] - 4s 166us/step\n",
      "Test accuracy: 0.85284\n"
     ]
    }
   ],
   "source": [
    "model_three = models.Sequential()\n",
    "model_three.add(layers.Dense(32, activation='relu', input_shape=(10000,)))\n",
    "model_three.add(layers.Dense(32, activation='relu'))\n",
    "model_three.add(layers.Dense(32, activation='relu'))\n",
    "model_three.add(layers.Dense(1, activation='sigmoid'))\n",
    "\n",
    "model_three.compile(optimizer=optimizers.RMSprop(lr=0.001),\n",
    "              loss=losses.binary_crossentropy,\n",
    "              metrics=[metrics.binary_accuracy])\n",
    "\n",
    "history_three = model_three.fit(partial_x_train,\n",
    "                    partial_y_train,\n",
    "                    epochs=20,\n",
    "                    batch_size=512,\n",
    "                    validation_data=(x_val, y_val))\n",
    "\n",
    "results_three = model_three.evaluate(x_test, y_test)\n",
    "print('Test accuracy: {}'.format(results_three[1]))"
   ]
  },
  {
   "cell_type": "markdown",
   "metadata": {},
   "source": [
    "3 layers, 64 units"
   ]
  },
  {
   "cell_type": "code",
   "execution_count": 24,
   "metadata": {},
   "outputs": [
    {
     "name": "stdout",
     "output_type": "stream",
     "text": [
      "Train on 20000 samples, validate on 5000 samples\n",
      "Epoch 1/20\n",
      "20000/20000 [==============================] - 4s 217us/step - loss: 0.4656 - binary_accuracy: 0.7847 - val_loss: 0.3020 - val_binary_accuracy: 0.8834\n",
      "Epoch 2/20\n",
      "20000/20000 [==============================] - 4s 192us/step - loss: 0.2398 - binary_accuracy: 0.9094 - val_loss: 0.3640 - val_binary_accuracy: 0.8530\n",
      "Epoch 3/20\n",
      "20000/20000 [==============================] - 4s 199us/step - loss: 0.1787 - binary_accuracy: 0.9322 - val_loss: 0.3309 - val_binary_accuracy: 0.8812\n",
      "Epoch 4/20\n",
      "20000/20000 [==============================] - 6s 290us/step - loss: 0.1355 - binary_accuracy: 0.9499 - val_loss: 0.3239 - val_binary_accuracy: 0.8852\n",
      "Epoch 5/20\n",
      "20000/20000 [==============================] - 6s 293us/step - loss: 0.1117 - binary_accuracy: 0.9618 - val_loss: 0.3206 - val_binary_accuracy: 0.8876\n",
      "Epoch 6/20\n",
      "20000/20000 [==============================] - 6s 306us/step - loss: 0.0629 - binary_accuracy: 0.9791 - val_loss: 0.4042 - val_binary_accuracy: 0.8808\n",
      "Epoch 7/20\n",
      "20000/20000 [==============================] - 6s 302us/step - loss: 0.0537 - binary_accuracy: 0.9834 - val_loss: 0.5105 - val_binary_accuracy: 0.8640\n",
      "Epoch 8/20\n",
      "20000/20000 [==============================] - 6s 294us/step - loss: 0.0469 - binary_accuracy: 0.9877 - val_loss: 0.4793 - val_binary_accuracy: 0.8826\n",
      "Epoch 9/20\n",
      "20000/20000 [==============================] - 6s 293us/step - loss: 0.0455 - binary_accuracy: 0.9892 - val_loss: 0.5206 - val_binary_accuracy: 0.8786\n",
      "Epoch 10/20\n",
      "20000/20000 [==============================] - 4s 215us/step - loss: 0.0041 - binary_accuracy: 0.9995 - val_loss: 0.6305 - val_binary_accuracy: 0.8778\n",
      "Epoch 11/20\n",
      "20000/20000 [==============================] - 4s 194us/step - loss: 0.0483 - binary_accuracy: 0.9908 - val_loss: 0.6553 - val_binary_accuracy: 0.8754\n",
      "Epoch 12/20\n",
      "20000/20000 [==============================] - 4s 195us/step - loss: 0.0012 - binary_accuracy: 0.9999 - val_loss: 0.7167 - val_binary_accuracy: 0.8784\n",
      "Epoch 13/20\n",
      "20000/20000 [==============================] - 4s 194us/step - loss: 4.4026e-04 - binary_accuracy: 1.0000 - val_loss: 0.8240 - val_binary_accuracy: 0.8756\n",
      "Epoch 14/20\n",
      "20000/20000 [==============================] - 4s 193us/step - loss: 0.0698 - binary_accuracy: 0.9905 - val_loss: 0.8674 - val_binary_accuracy: 0.8758\n",
      "Epoch 15/20\n",
      "20000/20000 [==============================] - 4s 203us/step - loss: 1.1988e-04 - binary_accuracy: 1.0000 - val_loss: 0.8859 - val_binary_accuracy: 0.8758\n",
      "Epoch 16/20\n",
      "20000/20000 [==============================] - 4s 192us/step - loss: 6.1218e-05 - binary_accuracy: 1.0000 - val_loss: 0.9328 - val_binary_accuracy: 0.8756\n",
      "Epoch 17/20\n",
      "20000/20000 [==============================] - 4s 205us/step - loss: 2.7908e-05 - binary_accuracy: 1.0000 - val_loss: 1.0200 - val_binary_accuracy: 0.8744\n",
      "Epoch 18/20\n",
      "20000/20000 [==============================] - 5s 226us/step - loss: 7.0853e-06 - binary_accuracy: 1.0000 - val_loss: 1.1212 - val_binary_accuracy: 0.8740\n",
      "Epoch 19/20\n",
      "20000/20000 [==============================] - 4s 216us/step - loss: 0.0663 - binary_accuracy: 0.9916 - val_loss: 1.2232 - val_binary_accuracy: 0.8746\n",
      "Epoch 20/20\n",
      "20000/20000 [==============================] - 4s 223us/step - loss: 5.9116e-04 - binary_accuracy: 0.9999 - val_loss: 1.2996 - val_binary_accuracy: 0.8638\n",
      "25000/25000 [==============================] - 5s 218us/step\n",
      "Test accuracy: 0.84632\n"
     ]
    }
   ],
   "source": [
    "model_three = models.Sequential()\n",
    "model_three.add(layers.Dense(64, activation='relu', input_shape=(10000,)))\n",
    "model_three.add(layers.Dense(64, activation='relu'))\n",
    "model_three.add(layers.Dense(64, activation='relu'))\n",
    "model_three.add(layers.Dense(1, activation='sigmoid'))\n",
    "\n",
    "model_three.compile(optimizer=optimizers.RMSprop(lr=0.001),\n",
    "              loss=losses.binary_crossentropy,\n",
    "              metrics=[metrics.binary_accuracy])\n",
    "\n",
    "history_three = model_three.fit(partial_x_train,\n",
    "                    partial_y_train,\n",
    "                    epochs=20,\n",
    "                    batch_size=512,\n",
    "                    validation_data=(x_val, y_val))\n",
    "\n",
    "results_three = model_three.evaluate(x_test, y_test)\n",
    "print('Test accuracy: {}'.format(results_three[1]))"
   ]
  },
  {
   "cell_type": "markdown",
   "metadata": {},
   "source": [
    "Again, a model with 32 units works better"
   ]
  },
  {
   "cell_type": "markdown",
   "metadata": {},
   "source": [
    "Loss function for 1 layer with 16 units"
   ]
  },
  {
   "cell_type": "code",
   "execution_count": 25,
   "metadata": {},
   "outputs": [
    {
     "name": "stdout",
     "output_type": "stream",
     "text": [
      "Train on 20000 samples, validate on 5000 samples\n",
      "Epoch 1/20\n",
      "20000/20000 [==============================] - 6s 289us/step - loss: 0.1553 - binary_accuracy: 0.8176 - val_loss: 0.1142 - val_binary_accuracy: 0.8784\n",
      "Epoch 2/20\n",
      "20000/20000 [==============================] - 5s 252us/step - loss: 0.0897 - binary_accuracy: 0.9083 - val_loss: 0.0918 - val_binary_accuracy: 0.8874\n",
      "Epoch 3/20\n",
      "20000/20000 [==============================] - 5s 245us/step - loss: 0.0683 - binary_accuracy: 0.9268 - val_loss: 0.0867 - val_binary_accuracy: 0.8876\n",
      "Epoch 4/20\n",
      "20000/20000 [==============================] - 5s 242us/step - loss: 0.0559 - binary_accuracy: 0.9410 - val_loss: 0.0833 - val_binary_accuracy: 0.8930\n",
      "Epoch 5/20\n",
      "20000/20000 [==============================] - 5s 240us/step - loss: 0.0479 - binary_accuracy: 0.9502 - val_loss: 0.0803 - val_binary_accuracy: 0.8934\n",
      "Epoch 6/20\n",
      "20000/20000 [==============================] - 5s 236us/step - loss: 0.0419 - binary_accuracy: 0.9560 - val_loss: 0.0807 - val_binary_accuracy: 0.8896\n",
      "Epoch 7/20\n",
      "20000/20000 [==============================] - 5s 241us/step - loss: 0.0373 - binary_accuracy: 0.9618 - val_loss: 0.0807 - val_binary_accuracy: 0.8890\n",
      "Epoch 8/20\n",
      "20000/20000 [==============================] - 5s 253us/step - loss: 0.0331 - binary_accuracy: 0.9668 - val_loss: 0.0834 - val_binary_accuracy: 0.8850\n",
      "Epoch 9/20\n",
      "20000/20000 [==============================] - 5s 245us/step - loss: 0.0298 - binary_accuracy: 0.9711 - val_loss: 0.0870 - val_binary_accuracy: 0.8794\n",
      "Epoch 10/20\n",
      "20000/20000 [==============================] - 5s 230us/step - loss: 0.0271 - binary_accuracy: 0.9738 - val_loss: 0.0840 - val_binary_accuracy: 0.8850\n",
      "Epoch 11/20\n",
      "20000/20000 [==============================] - 5s 247us/step - loss: 0.0236 - binary_accuracy: 0.9782 - val_loss: 0.0907 - val_binary_accuracy: 0.8766\n",
      "Epoch 12/20\n",
      "20000/20000 [==============================] - 5s 243us/step - loss: 0.0216 - binary_accuracy: 0.9805 - val_loss: 0.0868 - val_binary_accuracy: 0.8842\n",
      "Epoch 13/20\n",
      "20000/20000 [==============================] - 5s 243us/step - loss: 0.0197 - binary_accuracy: 0.9824 - val_loss: 0.0887 - val_binary_accuracy: 0.8800\n",
      "Epoch 14/20\n",
      "20000/20000 [==============================] - 5s 249us/step - loss: 0.0178 - binary_accuracy: 0.9849 - val_loss: 0.0930 - val_binary_accuracy: 0.8748\n",
      "Epoch 15/20\n",
      "20000/20000 [==============================] - 5s 243us/step - loss: 0.0163 - binary_accuracy: 0.9869 - val_loss: 0.0930 - val_binary_accuracy: 0.8782\n",
      "Epoch 16/20\n",
      "20000/20000 [==============================] - 4s 204us/step - loss: 0.0145 - binary_accuracy: 0.9892 - val_loss: 0.0933 - val_binary_accuracy: 0.8758\n",
      "Epoch 17/20\n",
      "20000/20000 [==============================] - 5s 251us/step - loss: 0.0134 - binary_accuracy: 0.9896 - val_loss: 0.0995 - val_binary_accuracy: 0.8718\n",
      "Epoch 18/20\n",
      "20000/20000 [==============================] - 5s 244us/step - loss: 0.0122 - binary_accuracy: 0.9907 - val_loss: 0.0975 - val_binary_accuracy: 0.8720\n",
      "Epoch 19/20\n",
      "20000/20000 [==============================] - 5s 245us/step - loss: 0.0113 - binary_accuracy: 0.9912 - val_loss: 0.0982 - val_binary_accuracy: 0.8724\n",
      "Epoch 20/20\n",
      "20000/20000 [==============================] - 5s 235us/step - loss: 0.0098 - binary_accuracy: 0.9929 - val_loss: 0.1001 - val_binary_accuracy: 0.8714\n",
      "25000/25000 [==============================] - 6s 247us/step\n",
      "Test accuracy: 0.85456\n"
     ]
    }
   ],
   "source": [
    "model_one = models.Sequential()\n",
    "model_one.add(layers.Dense(16, activation='relu', input_shape=(10000,)))\n",
    "model_one.add(layers.Dense(1, activation='sigmoid'))\n",
    "\n",
    "model_one.compile(optimizer=optimizers.RMSprop(lr=0.001),\n",
    "              loss=losses.mse,\n",
    "              metrics=[metrics.binary_accuracy])\n",
    "\n",
    "history_one = model_one.fit(partial_x_train,\n",
    "                    partial_y_train,\n",
    "                    epochs=20,\n",
    "                    batch_size=512,\n",
    "                    validation_data=(x_val, y_val))\n",
    "\n",
    "results_one = model_one.evaluate(x_test, y_test)\n",
    "print('Test accuracy: {}'.format(results_one[1]))"
   ]
  },
  {
   "cell_type": "markdown",
   "metadata": {},
   "source": [
    "A bit but an accurasy arises"
   ]
  },
  {
   "cell_type": "markdown",
   "metadata": {},
   "source": [
    "try different activation, again 1 layer with 16 units"
   ]
  },
  {
   "cell_type": "code",
   "execution_count": 26,
   "metadata": {},
   "outputs": [
    {
     "name": "stdout",
     "output_type": "stream",
     "text": [
      "Train on 20000 samples, validate on 5000 samples\n",
      "Epoch 1/20\n",
      "20000/20000 [==============================] - 4s 203us/step - loss: 0.1576 - binary_accuracy: 0.8162 - val_loss: 0.1149 - val_binary_accuracy: 0.8774\n",
      "Epoch 2/20\n",
      "20000/20000 [==============================] - 3s 146us/step - loss: 0.0912 - binary_accuracy: 0.9063 - val_loss: 0.0946 - val_binary_accuracy: 0.8836\n",
      "Epoch 3/20\n",
      "20000/20000 [==============================] - 3s 142us/step - loss: 0.0682 - binary_accuracy: 0.9280 - val_loss: 0.0846 - val_binary_accuracy: 0.8934\n",
      "Epoch 4/20\n",
      "20000/20000 [==============================] - 3s 135us/step - loss: 0.0553 - binary_accuracy: 0.9400 - val_loss: 0.0816 - val_binary_accuracy: 0.8938\n",
      "Epoch 5/20\n",
      "20000/20000 [==============================] - 3s 136us/step - loss: 0.0461 - binary_accuracy: 0.9500 - val_loss: 0.0809 - val_binary_accuracy: 0.8904\n",
      "Epoch 6/20\n",
      "20000/20000 [==============================] - 3s 141us/step - loss: 0.0392 - binary_accuracy: 0.9584 - val_loss: 0.0832 - val_binary_accuracy: 0.8844\n",
      "Epoch 7/20\n",
      "20000/20000 [==============================] - 3s 138us/step - loss: 0.0334 - binary_accuracy: 0.9656 - val_loss: 0.0899 - val_binary_accuracy: 0.8764\n",
      "Epoch 8/20\n",
      "20000/20000 [==============================] - 3s 145us/step - loss: 0.0295 - binary_accuracy: 0.9691 - val_loss: 0.0838 - val_binary_accuracy: 0.8866\n",
      "Epoch 9/20\n",
      "20000/20000 [==============================] - 3s 145us/step - loss: 0.0258 - binary_accuracy: 0.9748 - val_loss: 0.0855 - val_binary_accuracy: 0.8840\n",
      "Epoch 10/20\n",
      "20000/20000 [==============================] - 3s 141us/step - loss: 0.0227 - binary_accuracy: 0.9786 - val_loss: 0.0873 - val_binary_accuracy: 0.8828\n",
      "Epoch 11/20\n",
      "20000/20000 [==============================] - 3s 140us/step - loss: 0.0198 - binary_accuracy: 0.9818 - val_loss: 0.0926 - val_binary_accuracy: 0.8764\n",
      "Epoch 12/20\n",
      "20000/20000 [==============================] - 3s 150us/step - loss: 0.0173 - binary_accuracy: 0.9838 - val_loss: 0.0908 - val_binary_accuracy: 0.8786\n",
      "Epoch 13/20\n",
      "20000/20000 [==============================] - 3s 140us/step - loss: 0.0153 - binary_accuracy: 0.9864 - val_loss: 0.0941 - val_binary_accuracy: 0.8762\n",
      "Epoch 14/20\n",
      "20000/20000 [==============================] - 3s 137us/step - loss: 0.0139 - binary_accuracy: 0.9874 - val_loss: 0.0977 - val_binary_accuracy: 0.8754\n",
      "Epoch 15/20\n",
      "20000/20000 [==============================] - 3s 134us/step - loss: 0.0115 - binary_accuracy: 0.9908 - val_loss: 0.1011 - val_binary_accuracy: 0.8730\n",
      "Epoch 16/20\n",
      "20000/20000 [==============================] - 3s 136us/step - loss: 0.0109 - binary_accuracy: 0.9912 - val_loss: 0.1086 - val_binary_accuracy: 0.8668\n",
      "Epoch 17/20\n",
      "20000/20000 [==============================] - 3s 134us/step - loss: 0.0096 - binary_accuracy: 0.9922 - val_loss: 0.1029 - val_binary_accuracy: 0.8730\n",
      "Epoch 18/20\n",
      "20000/20000 [==============================] - 3s 135us/step - loss: 0.0081 - binary_accuracy: 0.9937 - val_loss: 0.1041 - val_binary_accuracy: 0.8718\n",
      "Epoch 19/20\n",
      "20000/20000 [==============================] - 3s 142us/step - loss: 0.0078 - binary_accuracy: 0.9933 - val_loss: 0.1060 - val_binary_accuracy: 0.8708\n",
      "Epoch 20/20\n",
      "20000/20000 [==============================] - 3s 140us/step - loss: 0.0069 - binary_accuracy: 0.9940 - val_loss: 0.1090 - val_binary_accuracy: 0.8686\n",
      "25000/25000 [==============================] - ETA:  - 4s 148us/step\n",
      "Test accuracy: 0.8506\n"
     ]
    }
   ],
   "source": [
    "model_one = models.Sequential()\n",
    "model_one.add(layers.Dense(16, activation='tanh', input_shape=(10000,)))\n",
    "model_one.add(layers.Dense(1, activation='sigmoid'))\n",
    "\n",
    "model_one.compile(optimizer=optimizers.RMSprop(lr=0.001),\n",
    "              loss=losses.mse,\n",
    "              metrics=[metrics.binary_accuracy])\n",
    "\n",
    "history_one = model_one.fit(partial_x_train,\n",
    "                    partial_y_train,\n",
    "                    epochs=20,\n",
    "                    batch_size=512,\n",
    "                    validation_data=(x_val, y_val))\n",
    "\n",
    "results_one = model_one.evaluate(x_test, y_test)\n",
    "print('Test accuracy: {}'.format(results_one[1]))"
   ]
  },
  {
   "cell_type": "markdown",
   "metadata": {},
   "source": [
    "'Relu' works a bit better"
   ]
  },
  {
   "cell_type": "code",
   "execution_count": null,
   "metadata": {},
   "outputs": [],
   "source": []
  },
  {
   "cell_type": "markdown",
   "metadata": {},
   "source": [
    "Try using larger or smaller layers: 32 units, 128 units, and so on.\n",
    "\n",
    "You used two hidden layers. Now try using a single hidden layer, or three hidden layers."
   ]
  },
  {
   "cell_type": "code",
   "execution_count": 27,
   "metadata": {},
   "outputs": [
    {
     "name": "stdout",
     "output_type": "stream",
     "text": [
      "Downloading data from https://s3.amazonaws.com/text-datasets/reuters.npz\n",
      "2113536/2110848 [==============================] - 3s 1us/step\n"
     ]
    }
   ],
   "source": [
    "from keras.datasets import reuters\n",
    "\n",
    "(train_data, train_labels), (test_data, test_labels) = reuters.load_data(\n",
    "    num_words=10000)\n",
    "\n",
    "def vectorize_sequences(sequences, dimension=10000):\n",
    "    results = np.zeros((len(sequences), dimension))\n",
    "    for i, sequence in enumerate(sequences):\n",
    "        results[i, sequence] = 1.\n",
    "    return results\n",
    "\n",
    "x_train = vectorize_sequences(train_data)\n",
    "x_test = vectorize_sequences(test_data)\n",
    "\n",
    "from keras.utils.np_utils import to_categorical\n",
    "\n",
    "one_hot_train_labels = to_categorical(train_labels)\n",
    "one_hot_test_labels = to_categorical(test_labels)"
   ]
  },
  {
   "cell_type": "code",
   "execution_count": 28,
   "metadata": {},
   "outputs": [],
   "source": [
    "x_val = x_train[:5000]\n",
    "partial_x_train = x_train[5000:]\n",
    "\n",
    "y_val = one_hot_train_labels[:5000]\n",
    "partial_y_train = one_hot_train_labels[5000:]"
   ]
  },
  {
   "cell_type": "code",
   "execution_count": 29,
   "metadata": {},
   "outputs": [
    {
     "name": "stdout",
     "output_type": "stream",
     "text": [
      "Train on 3982 samples, validate on 5000 samples\n",
      "Epoch 1/9\n",
      "3982/3982 [==============================] - 6s 1ms/step - loss: 3.0523 - binary_accuracy: 0.9785 - val_loss: 2.2610 - val_binary_accuracy: 0.9804\n",
      "Epoch 2/9\n",
      "3982/3982 [==============================] - 1s 272us/step - loss: 1.8730 - binary_accuracy: 0.9833 - val_loss: 1.7348 - val_binary_accuracy: 0.9852\n",
      "Epoch 3/9\n",
      "3982/3982 [==============================] - 1s 262us/step - loss: 1.3983 - binary_accuracy: 0.9878 - val_loss: 1.5170 - val_binary_accuracy: 0.9873\n",
      "Epoch 4/9\n",
      "3982/3982 [==============================] - 1s 261us/step - loss: 1.1324 - binary_accuracy: 0.9903 - val_loss: 1.3930 - val_binary_accuracy: 0.9888\n",
      "Epoch 5/9\n",
      "3982/3982 [==============================] - 1s 264us/step - loss: 0.9399 - binary_accuracy: 0.9917 - val_loss: 1.2947 - val_binary_accuracy: 0.9896\n",
      "Epoch 6/9\n",
      "3982/3982 [==============================] - 1s 264us/step - loss: 0.7882 - binary_accuracy: 0.9929 - val_loss: 1.2201 - val_binary_accuracy: 0.9900\n",
      "Epoch 7/9\n",
      "3982/3982 [==============================] - 1s 264us/step - loss: 0.6613 - binary_accuracy: 0.9938 - val_loss: 1.1674 - val_binary_accuracy: 0.9901\n",
      "Epoch 8/9\n",
      "3982/3982 [==============================] - 1s 263us/step - loss: 0.5507 - binary_accuracy: 0.9947 - val_loss: 1.1643 - val_binary_accuracy: 0.9901\n",
      "Epoch 9/9\n",
      "3982/3982 [==============================] - 1s 264us/step - loss: 0.4601 - binary_accuracy: 0.9954 - val_loss: 1.1065 - val_binary_accuracy: 0.9905\n",
      "2246/2246 [==============================] - 0s 169us/step\n"
     ]
    },
    {
     "data": {
      "text/plain": [
       "0.989962844474976"
      ]
     },
     "execution_count": 29,
     "metadata": {},
     "output_type": "execute_result"
    }
   ],
   "source": [
    "model = models.Sequential()\n",
    "model.add(layers.Dense(64, activation='relu', input_shape=(10000,)))\n",
    "model.add(layers.Dense(64, activation='relu'))\n",
    "model.add(layers.Dense(46, activation='softmax'))\n",
    "\n",
    "model.compile(optimizer=optimizers.RMSprop(lr=0.001),\n",
    "              loss=losses.categorical_crossentropy,\n",
    "              metrics=[metrics.binary_accuracy])\n",
    "\n",
    "history = model.fit(partial_x_train,\n",
    "                    partial_y_train,\n",
    "                    epochs=9,\n",
    "                    batch_size=512,\n",
    "                    validation_data=(x_val, y_val)\n",
    "                   )\n",
    "\n",
    "results = model.evaluate(x_test, one_hot_test_labels)\n",
    "results[1]"
   ]
  },
  {
   "cell_type": "markdown",
   "metadata": {},
   "source": [
    "Using 32 units"
   ]
  },
  {
   "cell_type": "code",
   "execution_count": 30,
   "metadata": {},
   "outputs": [
    {
     "name": "stdout",
     "output_type": "stream",
     "text": [
      "Train on 3982 samples, validate on 5000 samples\n",
      "Epoch 1/9\n",
      "3982/3982 [==============================] - 1s 364us/step - loss: 3.5731 - binary_accuracy: 0.9783 - val_loss: 3.1867 - val_binary_accuracy: 0.9782\n",
      "Epoch 2/9\n",
      "3982/3982 [==============================] - 1s 305us/step - loss: 2.8571 - binary_accuracy: 0.9783 - val_loss: 2.5810 - val_binary_accuracy: 0.9785\n",
      "Epoch 3/9\n",
      "3982/3982 [==============================] - 1s 269us/step - loss: 2.2320 - binary_accuracy: 0.9797 - val_loss: 2.1126 - val_binary_accuracy: 0.9808\n",
      "Epoch 4/9\n",
      "3982/3982 [==============================] - 1s 232us/step - loss: 1.7756 - binary_accuracy: 0.9827 - val_loss: 1.8191 - val_binary_accuracy: 0.9834\n",
      "Epoch 5/9\n",
      "3982/3982 [==============================] - 1s 233us/step - loss: 1.4655 - binary_accuracy: 0.9859 - val_loss: 1.6170 - val_binary_accuracy: 0.9856\n",
      "Epoch 6/9\n",
      "3982/3982 [==============================] - 1s 235us/step - loss: 1.2484 - binary_accuracy: 0.9883 - val_loss: 1.4910 - val_binary_accuracy: 0.9872\n",
      "Epoch 7/9\n",
      "3982/3982 [==============================] - 1s 239us/step - loss: 1.0843 - binary_accuracy: 0.9903 - val_loss: 1.4010 - val_binary_accuracy: 0.9887\n",
      "Epoch 8/9\n",
      "3982/3982 [==============================] - 1s 254us/step - loss: 0.9544 - binary_accuracy: 0.9916 - val_loss: 1.3311 - val_binary_accuracy: 0.9892\n",
      "Epoch 9/9\n",
      "3982/3982 [==============================] - 1s 262us/step - loss: 0.8470 - binary_accuracy: 0.9925 - val_loss: 1.2851 - val_binary_accuracy: 0.9895\n",
      "2246/2246 [==============================] - 0s 138us/step\n"
     ]
    },
    {
     "data": {
      "text/plain": [
       "0.9894595354238155"
      ]
     },
     "execution_count": 30,
     "metadata": {},
     "output_type": "execute_result"
    }
   ],
   "source": [
    "model = models.Sequential()\n",
    "model.add(layers.Dense(32, activation='relu', input_shape=(10000,)))\n",
    "model.add(layers.Dense(32, activation='relu'))\n",
    "model.add(layers.Dense(46, activation='softmax'))\n",
    "\n",
    "model.compile(optimizer=optimizers.RMSprop(lr=0.001),\n",
    "              loss=losses.categorical_crossentropy,\n",
    "              metrics=[metrics.binary_accuracy])\n",
    "\n",
    "history = model.fit(partial_x_train,\n",
    "                    partial_y_train,\n",
    "                    epochs=9,\n",
    "                    batch_size=512,\n",
    "                    validation_data=(x_val, y_val)\n",
    "                   )\n",
    "\n",
    "results = model.evaluate(x_test, one_hot_test_labels)\n",
    "results[1]"
   ]
  },
  {
   "cell_type": "markdown",
   "metadata": {},
   "source": [
    "Using 128 units"
   ]
  },
  {
   "cell_type": "code",
   "execution_count": 31,
   "metadata": {},
   "outputs": [
    {
     "name": "stdout",
     "output_type": "stream",
     "text": [
      "Train on 3982 samples, validate on 5000 samples\n",
      "Epoch 1/9\n",
      "3982/3982 [==============================] - 2s 492us/step - loss: 2.7612 - binary_accuracy: 0.9794 - val_loss: 1.8356 - val_binary_accuracy: 0.9840\n",
      "Epoch 2/9\n",
      "3982/3982 [==============================] - 1s 369us/step - loss: 1.4159 - binary_accuracy: 0.9876 - val_loss: 1.3915 - val_binary_accuracy: 0.9887\n",
      "Epoch 3/9\n",
      "3982/3982 [==============================] - 2s 392us/step - loss: 0.9896 - binary_accuracy: 0.9914 - val_loss: 1.3105 - val_binary_accuracy: 0.9889\n",
      "Epoch 4/9\n",
      "3982/3982 [==============================] - 1s 361us/step - loss: 0.7585 - binary_accuracy: 0.9929 - val_loss: 1.1629 - val_binary_accuracy: 0.9900\n",
      "Epoch 5/9\n",
      "3982/3982 [==============================] - 1s 358us/step - loss: 0.5607 - binary_accuracy: 0.9945 - val_loss: 1.1083 - val_binary_accuracy: 0.9904\n",
      "Epoch 6/9\n",
      "3982/3982 [==============================] - 1s 326us/step - loss: 0.4275 - binary_accuracy: 0.9957 - val_loss: 1.0705 - val_binary_accuracy: 0.9905\n",
      "Epoch 7/9\n",
      "3982/3982 [==============================] - 1s 328us/step - loss: 0.3233 - binary_accuracy: 0.9966 - val_loss: 1.0422 - val_binary_accuracy: 0.9906\n",
      "Epoch 8/9\n",
      "3982/3982 [==============================] - 1s 328us/step - loss: 0.2620 - binary_accuracy: 0.9972 - val_loss: 1.0327 - val_binary_accuracy: 0.9912\n",
      "Epoch 9/9\n",
      "3982/3982 [==============================] - 1s 329us/step - loss: 0.1972 - binary_accuracy: 0.9978 - val_loss: 1.0828 - val_binary_accuracy: 0.9906\n",
      "2246/2246 [==============================] - 0s 215us/step\n"
     ]
    },
    {
     "data": {
      "text/plain": [
       "0.9901370675247477"
      ]
     },
     "execution_count": 31,
     "metadata": {},
     "output_type": "execute_result"
    }
   ],
   "source": [
    "model = models.Sequential()\n",
    "model.add(layers.Dense(128, activation='relu', input_shape=(10000,)))\n",
    "model.add(layers.Dense(128, activation='relu'))\n",
    "model.add(layers.Dense(46, activation='softmax'))\n",
    "\n",
    "model.compile(optimizer=optimizers.RMSprop(lr=0.001),\n",
    "              loss=losses.categorical_crossentropy,\n",
    "              metrics=[metrics.binary_accuracy])\n",
    "\n",
    "history = model.fit(partial_x_train,\n",
    "                    partial_y_train,\n",
    "                    epochs=9,\n",
    "                    batch_size=512,\n",
    "                    validation_data=(x_val, y_val)\n",
    "                   )\n",
    "\n",
    "results = model.evaluate(x_test, one_hot_test_labels)\n",
    "results[1]"
   ]
  },
  {
   "cell_type": "markdown",
   "metadata": {},
   "source": [
    "The model with 128 units shows better result but let's use the model with 32 units"
   ]
  },
  {
   "cell_type": "markdown",
   "metadata": {},
   "source": [
    "For 1 layer"
   ]
  },
  {
   "cell_type": "code",
   "execution_count": 32,
   "metadata": {},
   "outputs": [
    {
     "name": "stdout",
     "output_type": "stream",
     "text": [
      "Train on 3982 samples, validate on 5000 samples\n",
      "Epoch 1/9\n",
      "3982/3982 [==============================] - 1s 355us/step - loss: 3.3699 - binary_accuracy: 0.9783 - val_loss: 2.8769 - val_binary_accuracy: 0.9783\n",
      "Epoch 2/9\n",
      "3982/3982 [==============================] - 1s 235us/step - loss: 2.5494 - binary_accuracy: 0.9787 - val_loss: 2.3486 - val_binary_accuracy: 0.9794\n",
      "Epoch 3/9\n",
      "3982/3982 [==============================] - 1s 236us/step - loss: 2.0387 - binary_accuracy: 0.9806 - val_loss: 2.0142 - val_binary_accuracy: 0.9814\n",
      "Epoch 4/9\n",
      "3982/3982 [==============================] - 1s 243us/step - loss: 1.6876 - binary_accuracy: 0.9833 - val_loss: 1.7844 - val_binary_accuracy: 0.9835\n",
      "Epoch 5/9\n",
      "3982/3982 [==============================] - 1s 235us/step - loss: 1.4342 - binary_accuracy: 0.9859 - val_loss: 1.6183 - val_binary_accuracy: 0.9852\n",
      "Epoch 6/9\n",
      "3982/3982 [==============================] - 1s 238us/step - loss: 1.2387 - binary_accuracy: 0.9878 - val_loss: 1.4948 - val_binary_accuracy: 0.9864\n",
      "Epoch 7/9\n",
      "3982/3982 [==============================] - 1s 237us/step - loss: 1.0812 - binary_accuracy: 0.9894 - val_loss: 1.3992 - val_binary_accuracy: 0.9875\n",
      "Epoch 8/9\n",
      "3982/3982 [==============================] - 1s 247us/step - loss: 0.9502 - binary_accuracy: 0.9908 - val_loss: 1.3261 - val_binary_accuracy: 0.9888\n",
      "Epoch 9/9\n",
      "3982/3982 [==============================] - 1s 242us/step - loss: 0.8401 - binary_accuracy: 0.9922 - val_loss: 1.2644 - val_binary_accuracy: 0.9895\n",
      "2246/2246 [==============================] - 0s 139us/step\n"
     ]
    },
    {
     "data": {
      "text/plain": [
       "0.9895079328561615"
      ]
     },
     "execution_count": 32,
     "metadata": {},
     "output_type": "execute_result"
    }
   ],
   "source": [
    "model = models.Sequential()\n",
    "model.add(layers.Dense(32, activation='relu', input_shape=(10000,)))\n",
    "model.add(layers.Dense(46, activation='softmax'))\n",
    "\n",
    "model.compile(optimizer=optimizers.RMSprop(lr=0.001),\n",
    "              loss=losses.categorical_crossentropy,\n",
    "              metrics=[metrics.binary_accuracy])\n",
    "\n",
    "history = model.fit(partial_x_train,\n",
    "                    partial_y_train,\n",
    "                    epochs=9,\n",
    "                    batch_size=512,\n",
    "                    validation_data=(x_val, y_val)\n",
    "                   )\n",
    "\n",
    "results = model.evaluate(x_test, one_hot_test_labels)\n",
    "results[1]"
   ]
  },
  {
   "cell_type": "markdown",
   "metadata": {},
   "source": [
    "For 3 layers"
   ]
  },
  {
   "cell_type": "code",
   "execution_count": 33,
   "metadata": {},
   "outputs": [
    {
     "name": "stdout",
     "output_type": "stream",
     "text": [
      "Train on 3982 samples, validate on 5000 samples\n",
      "Epoch 1/9\n",
      "3982/3982 [==============================] - 1s 367us/step - loss: 3.5881 - binary_accuracy: 0.9783 - val_loss: 3.1822 - val_binary_accuracy: 0.9783\n",
      "Epoch 2/9\n",
      "3982/3982 [==============================] - 1s 267us/step - loss: 2.7967 - binary_accuracy: 0.9783 - val_loss: 2.4262 - val_binary_accuracy: 0.9788\n",
      "Epoch 3/9\n",
      "3982/3982 [==============================] - 1s 273us/step - loss: 2.0625 - binary_accuracy: 0.9808 - val_loss: 1.9470 - val_binary_accuracy: 0.9828\n",
      "Epoch 4/9\n",
      "3982/3982 [==============================] - 1s 234us/step - loss: 1.6222 - binary_accuracy: 0.9853 - val_loss: 1.6947 - val_binary_accuracy: 0.9859\n",
      "Epoch 5/9\n",
      "3982/3982 [==============================] - 1s 251us/step - loss: 1.3715 - binary_accuracy: 0.9884 - val_loss: 1.5617 - val_binary_accuracy: 0.9877\n",
      "Epoch 6/9\n",
      "3982/3982 [==============================] - 1s 255us/step - loss: 1.1872 - binary_accuracy: 0.9903 - val_loss: 1.4684 - val_binary_accuracy: 0.9888\n",
      "Epoch 7/9\n",
      "3982/3982 [==============================] - 1s 263us/step - loss: 1.0442 - binary_accuracy: 0.9914 - val_loss: 1.4037 - val_binary_accuracy: 0.9893\n",
      "Epoch 8/9\n",
      "3982/3982 [==============================] - 1s 234us/step - loss: 0.9197 - binary_accuracy: 0.9923 - val_loss: 1.3509 - val_binary_accuracy: 0.9895\n",
      "Epoch 9/9\n",
      "3982/3982 [==============================] - 1s 234us/step - loss: 0.8303 - binary_accuracy: 0.9928 - val_loss: 1.3353 - val_binary_accuracy: 0.9895\n",
      "2246/2246 [==============================] - 0s 135us/step\n"
     ]
    },
    {
     "data": {
      "text/plain": [
       "0.9894788942481404"
      ]
     },
     "execution_count": 33,
     "metadata": {},
     "output_type": "execute_result"
    }
   ],
   "source": [
    "model = models.Sequential()\n",
    "model.add(layers.Dense(32, activation='relu', input_shape=(10000,)))\n",
    "model.add(layers.Dense(32, activation='relu'))\n",
    "model.add(layers.Dense(32, activation='relu'))\n",
    "model.add(layers.Dense(46, activation='softmax'))\n",
    "\n",
    "model.compile(optimizer=optimizers.RMSprop(lr=0.001),\n",
    "              loss=losses.categorical_crossentropy,\n",
    "              metrics=[metrics.binary_accuracy])\n",
    "\n",
    "history = model.fit(partial_x_train,\n",
    "                    partial_y_train,\n",
    "                    epochs=9,\n",
    "                    batch_size=512,\n",
    "                    validation_data=(x_val, y_val)\n",
    "                   )\n",
    "\n",
    "results = model.evaluate(x_test, one_hot_test_labels)\n",
    "results[1]"
   ]
  },
  {
   "cell_type": "code",
   "execution_count": null,
   "metadata": {},
   "outputs": [],
   "source": []
  }
 ],
 "metadata": {
  "kernelspec": {
   "display_name": "Python 3",
   "language": "python",
   "name": "python3"
  },
  "language_info": {
   "codemirror_mode": {
    "name": "ipython",
    "version": 3
   },
   "file_extension": ".py",
   "mimetype": "text/x-python",
   "name": "python",
   "nbconvert_exporter": "python",
   "pygments_lexer": "ipython3",
   "version": "3.6.7"
  }
 },
 "nbformat": 4,
 "nbformat_minor": 2
}
