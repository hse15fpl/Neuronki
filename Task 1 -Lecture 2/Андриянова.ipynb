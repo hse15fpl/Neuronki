{
 "cells": [
  {
   "cell_type": "markdown",
   "metadata": {
    "colab_type": "text",
    "id": "QKzbRANeVNBW",
    "slideshow": {
     "slide_type": "slide"
    }
   },
   "source": [
    "# Lecture 3 : Getting started with Neural Networks\n",
    "\n",
    "We’ll apply what you’ve learned to three new problems covering the three most common use cases of neural networks: binary classification, multiclass classification, and scalar regression.\n",
    "\n",
    "We’ll dive into three introductory examples of how to use neural networks to address real problems:\n",
    "\n",
    "* Classifying movie reviews as positive or negative (binary classification)\n",
    "* Classifying news wires by topic (multiclass classification)\n",
    "* Estimating the price of a house, given real-estate data (regression)"
   ]
  },
  {
   "cell_type": "markdown",
   "metadata": {
    "colab_type": "text",
    "id": "PHuc00aNVNBY",
    "slideshow": {
     "slide_type": "slide"
    }
   },
   "source": [
    "## Anatomy of a neural network\n",
    "\n",
    "(From previous lecture) training a neural network revolves around the following objects:\n",
    "\n",
    "* **Layers**, which are combined into a network (or model)\n",
    "* The **input data** and corresponding **targets**\n",
    "* The **loss function**, which defines the feedback signal used for learning\n",
    "* The **optimizer**, which determines how learning proceeds"
   ]
  },
  {
   "cell_type": "markdown",
   "metadata": {
    "colab_type": "text",
    "id": "yTQ1-yTpVNBZ",
    "slideshow": {
     "slide_type": "slide"
    }
   },
   "source": [
    "You can visualize their interaction:\n",
    "![](https://dpzbhybb2pdcj.cloudfront.net/chollet/Figures/03fig01.jpg)\n",
    "\n",
    "The network, composed of layers that are chained together, maps the input data to predictions. The loss function then compares these predictions to the targets, producing a loss value: a measure of how well the network’s predictions match what was expected. The optimizer uses this loss value to update the network’s weights.\n",
    "\n",
    "\n"
   ]
  },
  {
   "cell_type": "markdown",
   "metadata": {
    "colab_type": "text",
    "id": "ux6lyIUGVNBb",
    "slideshow": {
     "slide_type": "subslide"
    }
   },
   "source": [
    "...Let’s take a closer look at layers, networks, loss functions, and optimizers."
   ]
  },
  {
   "cell_type": "markdown",
   "metadata": {
    "colab_type": "text",
    "id": "PE2fuOHCVNBb",
    "slideshow": {
     "slide_type": "slide"
    }
   },
   "source": [
    " ## Layers: the building blocks of deep learning\n",
    " \n",
    " The fundamental data structure in neural networks is the **layer**. A layer is a data-processing module that takes as input one or more tensors and that outputs one or more tensors. \n",
    " \n",
    "Some layers are stateless, but more frequently layers have a state: the layer’s weights, one or several tensors learned with stochastic gradient descent, which together contain the network’s knowledge."
   ]
  },
  {
   "cell_type": "markdown",
   "metadata": {
    "colab_type": "text",
    "id": "RSmI3-PxVNBd",
    "slideshow": {
     "slide_type": "subslide"
    }
   },
   "source": [
    "Different layers are appropriate for different tensor formats and different types of data processing. For instance, simple vector data, stored in 2D tensors of shape ```(samples, features)```, is often processed by **densely connected layers**, also called **fully connected** or **dense layers** (the ```Dense``` class in Keras). Sequence data, stored in 3D tensors of shape ```(samples, timesteps, features)```, is typically processed by **recurrent** layers such as an **LSTM layer**. Image data, stored in 4D tensors, is usually processed by 2D convolution layers (```Conv2D```).\n",
    "\n",
    "You can think of layers as the LEGO bricks of deep learning, a metaphor that is made explicit by frameworks like Keras. "
   ]
  },
  {
   "cell_type": "markdown",
   "metadata": {
    "colab_type": "text",
    "id": "YlViv-JKVNBe",
    "slideshow": {
     "slide_type": "subslide"
    }
   },
   "source": [
    "Building deep-learning models in Keras is done by clipping together compatible layers to form useful data-transformation pipelines. The notion of layer compatibility here refers specifically to the fact that every layer will only accept input tensors of a certain shape and will return output tensors of a certain shape. "
   ]
  },
  {
   "cell_type": "code",
   "execution_count": 1,
   "metadata": {
    "colab": {
     "base_uri": "https://localhost:8080/",
     "height": 34
    },
    "colab_type": "code",
    "executionInfo": {
     "elapsed": 1661,
     "status": "ok",
     "timestamp": 1541848737073,
     "user": {
      "displayName": "Лингвисты 4 курс 15ФПЛ",
      "photoUrl": "",
      "userId": "07722014738513937459"
     },
     "user_tz": -120
    },
    "id": "Dnv0zp2zVNBf",
    "outputId": "3727017a-cd8d-4813-fdeb-13a8e82fbc22",
    "slideshow": {
     "slide_type": "fragment"
    }
   },
   "outputs": [
    {
     "name": "stderr",
     "output_type": "stream",
     "text": [
      "C:\\programs\\anaconda\\lib\\site-packages\\h5py\\__init__.py:36: FutureWarning: Conversion of the second argument of issubdtype from `float` to `np.floating` is deprecated. In future, it will be treated as `np.float64 == np.dtype(float).type`.\n",
      "  from ._conv import register_converters as _register_converters\n",
      "Using TensorFlow backend.\n"
     ]
    }
   ],
   "source": [
    "from keras import layers\n",
    "\n",
    "layer = layers.Dense(32, input_shape=(784,))"
   ]
  },
  {
   "cell_type": "markdown",
   "metadata": {
    "colab_type": "text",
    "id": "gCkE-A-vVNBj",
    "slideshow": {
     "slide_type": "fragment"
    }
   },
   "source": [
    "We’re creating a layer that will only accept as input 2D tensors where the first dimension is 784 (axis 0, the batch dimension, is unspecified, and thus any value would be accepted). This layer will return a tensor where the first dimension has been transformed to be 32."
   ]
  },
  {
   "cell_type": "markdown",
   "metadata": {
    "colab_type": "text",
    "id": "Pq2HTr1hVNBl",
    "slideshow": {
     "slide_type": "fragment"
    }
   },
   "source": [
    "Thus this layer can only be connected to a downstream layer that expects 32-dimensional vectors as its input. When using Keras, you don’t have to worry about compatibility, because the layers you add to your models are dynamically built to match the shape of the incoming layer."
   ]
  },
  {
   "cell_type": "code",
   "execution_count": 2,
   "metadata": {
    "colab": {},
    "colab_type": "code",
    "id": "JjChb65-VNBm",
    "slideshow": {
     "slide_type": "subslide"
    }
   },
   "outputs": [],
   "source": [
    "from keras import models\n",
    "from keras import layers\n",
    "\n",
    "model = models.Sequential()\n",
    "model.add(layers.Dense(32, input_shape=(784,)))\n",
    "model.add(layers.Dense(32))"
   ]
  },
  {
   "cell_type": "markdown",
   "metadata": {
    "colab_type": "text",
    "id": "Yi93Px6kVNBq",
    "slideshow": {
     "slide_type": "fragment"
    }
   },
   "source": [
    "The second layer didn’t receive an input shape argument—instead, it automatically inferred its input shape as being the output shape of the layer that came before.\n"
   ]
  },
  {
   "cell_type": "markdown",
   "metadata": {
    "colab_type": "text",
    "id": "ciJlNu1fVNBr",
    "slideshow": {
     "slide_type": "slide"
    }
   },
   "source": [
    "### Models: networks of layers\n",
    "\n",
    "A deep-learning model is a directed, acyclic graph of layers. The most common instance is a linear stack of layers, mapping a single input to a single output.\n"
   ]
  },
  {
   "cell_type": "markdown",
   "metadata": {
    "colab_type": "text",
    "id": "EU9tgtQPVNBs",
    "slideshow": {
     "slide_type": "fragment"
    }
   },
   "source": [
    "But as you move forward, you’ll be exposed to a much broader variety of network topologies. Some common ones include the following:\n",
    "\n",
    "* Two-branch networks\n",
    "* Multihead networks\n",
    "* Inception blocks\n",
    "\n",
    "The topology of a network defines a hypothesis space. "
   ]
  },
  {
   "cell_type": "markdown",
   "metadata": {
    "colab_type": "text",
    "id": "ixJlQV4JVNBt",
    "slideshow": {
     "slide_type": "subslide"
    }
   },
   "source": [
    "We defined *machine learning* as *searching for useful representations of some input data, within a predefined space of possibilities, using guidance from a feedback signal.* \n",
    "\n",
    "By choosing a network topology, you constrain your space of possibilities (hypothesis space) to a specific series of tensor operations, mapping input data to output data. What you’ll then be searching for is a good set of values for the weight tensors involved in these tensor operations."
   ]
  },
  {
   "cell_type": "markdown",
   "metadata": {
    "colab_type": "text",
    "id": "AG_6epPdVNBv",
    "slideshow": {
     "slide_type": "fragment"
    }
   },
   "source": [
    "Picking the right network architecture is more an art than a science; and although there are some best practices and principles you can rely on, only practice can help you become a proper neural-network architect. "
   ]
  },
  {
   "cell_type": "markdown",
   "metadata": {
    "colab_type": "text",
    "id": "3tLlWX3nVNBw",
    "slideshow": {
     "slide_type": "slide"
    }
   },
   "source": [
    "#  Loss functions and optimizers: keys to configuring the learning process\n",
    "\n",
    "Once the network architecture is defined, you still have to choose two more things:\n",
    "\n",
    "* **Loss function (objective function)** — The quantity that will be minimized during training. It represents a measure of success for the task at hand.\n",
    "* **Optimizer** — Determines how the network will be updated based on the loss function. It implements a specific variant of stochastic gradient descent (SGD).\n",
    "\n",
    "\n",
    "\n"
   ]
  },
  {
   "cell_type": "markdown",
   "metadata": {
    "colab_type": "text",
    "id": "RaXHG5Q2VNBy",
    "slideshow": {
     "slide_type": "fragment"
    }
   },
   "source": [
    "A neural network that has multiple outputs may have multiple loss functions (one per output). But the gradient-descent process must be based on a single scalar loss value; so, for multiloss networks, all losses are combined (via averaging) into a single scalar quantity."
   ]
  },
  {
   "cell_type": "markdown",
   "metadata": {
    "colab_type": "text",
    "id": "k0ynLnK1VNB1",
    "slideshow": {
     "slide_type": "subslide"
    }
   },
   "source": [
    "**Choosing the right objective function for the right problem is extremely important**: your network will take any shortcut it can, to minimize the loss; so if the objective doesn’t fully correlate with success for the task at hand, your network will end up doing things you may not have wanted. \n"
   ]
  },
  {
   "cell_type": "markdown",
   "metadata": {
    "colab_type": "text",
    "id": "69NBIAEvVNB4",
    "slideshow": {
     "slide_type": "fragment"
    }
   },
   "source": [
    "Imagine a stupid, omnipotent AI trained via SGD, with this poorly chosen objective function: “maximizing the average well-being of all humans alive.” To make its job easier, this AI might choose to kill all humans except a few and focus on the well-being of the remaining ones—because average well-being isn’t affected by how many humans are left. That might not be what you intended! Just remember that all neural networks you build will be just as ruthless in lowering their loss function—so choose the objective wisely, or you’ll have to face unintended side effects.\n"
   ]
  },
  {
   "cell_type": "markdown",
   "metadata": {
    "colab_type": "text",
    "id": "aH6i6HcYVNB6",
    "slideshow": {
     "slide_type": "subslide"
    }
   },
   "source": [
    "Fortunately, when it comes to common problems such as classification, regression, and sequence prediction, there are simple guidelines you can follow to choose the correct loss. For instance, you’ll use **binary crossentropy** for a two-class classification problem, **categorical crossentropy** for a many-class classification problem, **mean-squared error** for a regression problem, **connectionist temporal classification (CTC)** for a sequence-learning problem, and so on. \n",
    "\n",
    "Only when you’re working on truly new research problems will you have to develop your own objective functions. "
   ]
  },
  {
   "cell_type": "markdown",
   "metadata": {
    "colab_type": "text",
    "id": "ExOMklVtVNB7",
    "slideshow": {
     "slide_type": "slide"
    }
   },
   "source": [
    "## Introduction to Keras\n",
    "\n",
    "We'll use Keras Framework  (https://keras.io). Keras is a deep-learning framework for Python that provides a convenient way to define and train almost any kind of deep-learning model. Keras was initially developed for researchers, with the aim of enabling fast experimentation."
   ]
  },
  {
   "cell_type": "markdown",
   "metadata": {
    "colab_type": "text",
    "id": "Gu_1PR9NVNB8",
    "slideshow": {
     "slide_type": "subslide"
    }
   },
   "source": [
    "Keras has the following key features:\n",
    "\n",
    "* It allows the same code to run seamlessly on CPU or GPU.\n",
    "* It has a user-friendly API that makes it easy to quickly prototype deep-learning models.\n",
    "* It has built-in support for convolutional networks (for computer vision), recurrent networks (for sequence processing), and any combination of both.\n",
    "* It supports arbitrary network architectures: multi-input or multi-output models, layer sharing, model sharing, and so on. This means Keras is appropriate for building essentially any deep-learning model, from a generative adversarial network to a neural Turing machine.\n",
    "\n",
    "It’s compatible with any version of Python from 2.7 to 3.7."
   ]
  },
  {
   "cell_type": "markdown",
   "metadata": {
    "colab_type": "text",
    "id": "ULTzjA38VNB9",
    "slideshow": {
     "slide_type": "slide"
    }
   },
   "source": [
    "###  Developing with Keras: a quick overview\n",
    "\n",
    "The typical Keras workflow looks just like that example:\n",
    "\n",
    "1. Define your training data: input tensors and target tensors.\n",
    "* Define a network of layers (or **model**) that maps your inputs to your targets.\n",
    "* Configure the learning process by choosing a loss function, an optimizer, and some metrics to monitor.\n",
    "* Iterate on your training data by calling the ```fit()``` method of your model.\n",
    "\n",
    "There are two ways to define a model: using the ```Sequential``` class (only for linear stacks of layers, which is the most common network architecture by far) or the **functional API** (for directed acyclic graphs of layers, which lets you build completely arbitrary architectures)."
   ]
  },
  {
   "cell_type": "markdown",
   "metadata": {
    "colab_type": "text",
    "id": "ZsJeS-xfVNB-",
    "slideshow": {
     "slide_type": "subslide"
    }
   },
   "source": [
    "Here’s a two-layer model defined using the Sequential class (note that we’re passing the expected shape of the input data to the first layer):"
   ]
  },
  {
   "cell_type": "code",
   "execution_count": 24,
   "metadata": {
    "colab": {},
    "colab_type": "code",
    "id": "I4P9w3clVNB_",
    "slideshow": {
     "slide_type": "fragment"
    }
   },
   "outputs": [],
   "source": [
    "from keras import models\n",
    "from keras import layers\n",
    "\n",
    "model = models.Sequential()\n",
    "model.add(layers.Dense(32, activation='relu', input_shape=(784,)))\n",
    "model.add(layers.Dense(10, activation='softmax'))"
   ]
  },
  {
   "cell_type": "markdown",
   "metadata": {
    "colab_type": "text",
    "id": "5xf6JYTVVNCB",
    "slideshow": {
     "slide_type": "fragment"
    }
   },
   "source": [
    "And here’s the same model defined using the functional API:"
   ]
  },
  {
   "cell_type": "code",
   "execution_count": 25,
   "metadata": {
    "colab": {},
    "colab_type": "code",
    "id": "EJrhKkJgVNCD",
    "slideshow": {
     "slide_type": "fragment"
    }
   },
   "outputs": [],
   "source": [
    "input_tensor = layers.Input(shape=(784,))\n",
    "x = layers.Dense(32, activation='relu')(input_tensor)\n",
    "output_tensor = layers.Dense(10, activation='softmax')(x)\n",
    "\n",
    "model = models.Model(inputs=input_tensor, outputs=output_tensor)"
   ]
  },
  {
   "cell_type": "markdown",
   "metadata": {
    "colab_type": "text",
    "id": "y3jZeCj3VNCF",
    "slideshow": {
     "slide_type": "fragment"
    }
   },
   "source": [
    "With the functional API, you’re manipulating the data tensors that the model processes and applying layers to this tensor as if they were functions.\n",
    "\n"
   ]
  },
  {
   "cell_type": "markdown",
   "metadata": {
    "colab_type": "text",
    "id": "wELzZDP3VNCH",
    "slideshow": {
     "slide_type": "subslide"
    }
   },
   "source": [
    "Once your model architecture is defined, it doesn’t matter whether you used a Sequential model or the functional API. All of the following steps are the same.\n",
    "\n",
    "The learning process is configured in the compilation step, where you specify the optimizer and loss function(s) that the model should use, as well as the metrics you want to monitor during training. Here’s an example with a single loss function, which is by far the most common case:"
   ]
  },
  {
   "cell_type": "code",
   "execution_count": 26,
   "metadata": {
    "colab": {},
    "colab_type": "code",
    "id": "W_s4hasJVNCI",
    "slideshow": {
     "slide_type": "fragment"
    }
   },
   "outputs": [],
   "source": [
    "from keras import optimizers\n",
    "\n",
    "model.compile(optimizer=optimizers.RMSprop(lr=0.001),\n",
    "              loss='mse',\n",
    "              metrics=['accuracy'])"
   ]
  },
  {
   "cell_type": "markdown",
   "metadata": {
    "colab_type": "text",
    "id": "TVlhh77PVNCK",
    "slideshow": {
     "slide_type": "subslide"
    }
   },
   "source": [
    "Finally, the learning process consists of passing Numpy arrays of input data (and the corresponding target data) to the model via the fit() method, similar to what you would do in Scikit-Learn and several other machine-learning libraries:\n",
    "\n"
   ]
  },
  {
   "cell_type": "code",
   "execution_count": 27,
   "metadata": {
    "colab": {
     "base_uri": "https://localhost:8080/",
     "height": 163
    },
    "colab_type": "code",
    "executionInfo": {
     "elapsed": 817,
     "status": "error",
     "timestamp": 1541848749744,
     "user": {
      "displayName": "Лингвисты 4 курс 15ФПЛ",
      "photoUrl": "",
      "userId": "07722014738513937459"
     },
     "user_tz": -120
    },
    "id": "h9swIbMRVNCM",
    "outputId": "be171e13-4cbc-4cd4-e3f9-b1326dcd172c",
    "slideshow": {
     "slide_type": "fragment"
    }
   },
   "outputs": [
    {
     "ename": "NameError",
     "evalue": "name 'target_tensor' is not defined",
     "output_type": "error",
     "traceback": [
      "\u001b[1;31m---------------------------------------------------------------------------\u001b[0m",
      "\u001b[1;31mNameError\u001b[0m                                 Traceback (most recent call last)",
      "\u001b[1;32m<ipython-input-27-c17b2397d844>\u001b[0m in \u001b[0;36m<module>\u001b[1;34m()\u001b[0m\n\u001b[1;32m----> 1\u001b[1;33m \u001b[0mmodel\u001b[0m\u001b[1;33m.\u001b[0m\u001b[0mfit\u001b[0m\u001b[1;33m(\u001b[0m\u001b[0minput_tensor\u001b[0m\u001b[1;33m,\u001b[0m \u001b[0mtarget_tensor\u001b[0m\u001b[1;33m,\u001b[0m \u001b[0mbatch_size\u001b[0m\u001b[1;33m=\u001b[0m\u001b[1;36m128\u001b[0m\u001b[1;33m,\u001b[0m \u001b[0mepochs\u001b[0m\u001b[1;33m=\u001b[0m\u001b[1;36m10\u001b[0m\u001b[1;33m)\u001b[0m\u001b[1;33m\u001b[0m\u001b[0m\n\u001b[0m",
      "\u001b[1;31mNameError\u001b[0m: name 'target_tensor' is not defined"
     ]
    }
   ],
   "source": [
    "model.fit(input_tensor, target_tensor, batch_size=128, epochs=10)"
   ]
  },
  {
   "cell_type": "markdown",
   "metadata": {
    "colab_type": "text",
    "id": "c2hw0GpEVNCP",
    "slideshow": {
     "slide_type": "slide"
    }
   },
   "source": [
    "## Classifying movie reviews: a binary classification example\n",
    "\n",
    "Two-class classification, or binary classification, may be the most widely applied kind of machine-learning problem. In this example, you’ll learn to classify movie reviews as positive or negative, based on the text content of the reviews.\n",
    "\n"
   ]
  },
  {
   "cell_type": "markdown",
   "metadata": {
    "colab_type": "text",
    "id": "ig7a_DgPVNCQ",
    "slideshow": {
     "slide_type": "subslide"
    }
   },
   "source": [
    "###  The IMDB dataset\n",
    "\n",
    "You’ll work with the IMDB dataset: a set of 50,000 highly polarized reviews from the Internet Movie Database. They’re split into 25,000 reviews for training and 25,000 reviews for testing, each set consisting of 50% negative and 50% positive reviews.\n",
    "\n"
   ]
  },
  {
   "cell_type": "markdown",
   "metadata": {
    "colab_type": "text",
    "id": "nPHT8vuuVNCR",
    "slideshow": {
     "slide_type": "fragment"
    }
   },
   "source": [
    "Why use separate training and test sets?\n",
    "* Just because a model performs well on its training data doesn’t mean it will perform well on data it has never seen.\n",
    "* Risk of just memoirizing a mapping between training samples and their targets, which would be useless for the task of predicting targes for data the model never seen before."
   ]
  },
  {
   "cell_type": "markdown",
   "metadata": {
    "colab_type": "text",
    "id": "Mbh7JghSVNCS",
    "slideshow": {
     "slide_type": "subslide"
    }
   },
   "source": [
    "Just like the MNIST dataset, the IMDB dataset comes packaged with Keras. It has already been preprocessed: the reviews (sequences of words) have been turned into sequences of integers, where each integer stands for a specific word in a dictionary.\n",
    "\n",
    "The following code will load the dataset (**warning** first time running = 80 Mb of data downloading)."
   ]
  },
  {
   "cell_type": "code",
   "execution_count": 149,
   "metadata": {
    "colab": {},
    "colab_type": "code",
    "id": "csi7pqmnVNCV",
    "outputId": "4f5f5504-fd10-4955-e01a-f58ba6b1bca4",
    "slideshow": {
     "slide_type": "fragment"
    }
   },
   "outputs": [],
   "source": [
    "from keras.datasets import imdb\n",
    "\n",
    "(train_data, train_labels), (test_data, test_labels) = imdb.load_data(\n",
    "    num_words=10000)"
   ]
  },
  {
   "cell_type": "markdown",
   "metadata": {
    "colab_type": "text",
    "id": "b-Ib74BGVNCd",
    "slideshow": {
     "slide_type": "fragment"
    }
   },
   "source": [
    "The argument num_words=10000 means you’ll only keep the top 10,000 most frequently occurring words in the training data. Rare words will be discarded. This allows you to work with vector data of manageable size."
   ]
  },
  {
   "cell_type": "markdown",
   "metadata": {
    "colab_type": "text",
    "id": "_330RMvqVNCd",
    "slideshow": {
     "slide_type": "subslide"
    }
   },
   "source": [
    "The variables train_data and test_data are lists of reviews; each review is a list of word indices (encoding a sequence of words). train_labels and test_labels are lists of 0s and 1s, where 0 stands for negative and 1 stands for positive:"
   ]
  },
  {
   "cell_type": "code",
   "execution_count": 150,
   "metadata": {
    "colab": {},
    "colab_type": "code",
    "id": "G5UDb-E6VNCe",
    "outputId": "6910c210-05b4-4c55-db2a-349764b96905",
    "slideshow": {
     "slide_type": "fragment"
    }
   },
   "outputs": [
    {
     "data": {
      "text/plain": [
       "[1, 14, 22, 16, 43, 530, 973, 1622, 1385, 65, 458, 4468, 66, 3941, 4]"
      ]
     },
     "execution_count": 150,
     "metadata": {},
     "output_type": "execute_result"
    }
   ],
   "source": [
    "train_data[0][:15]"
   ]
  },
  {
   "cell_type": "code",
   "execution_count": 151,
   "metadata": {
    "colab": {},
    "colab_type": "code",
    "id": "wFaaCrdeVNCi",
    "outputId": "848ba41c-ea73-4fa9-a13a-04d44255f954",
    "slideshow": {
     "slide_type": "fragment"
    }
   },
   "outputs": [
    {
     "data": {
      "text/plain": [
       "1"
      ]
     },
     "execution_count": 151,
     "metadata": {},
     "output_type": "execute_result"
    }
   ],
   "source": [
    "train_labels[0]"
   ]
  },
  {
   "cell_type": "markdown",
   "metadata": {
    "colab_type": "text",
    "id": "qKtSyA3rVNCm",
    "slideshow": {
     "slide_type": "fragment"
    }
   },
   "source": [
    "Because you’re restricting yourself to the top 10,000 most frequent words, no word index will exceed 10,000:\n",
    "\n"
   ]
  },
  {
   "cell_type": "code",
   "execution_count": 152,
   "metadata": {
    "colab": {},
    "colab_type": "code",
    "id": "h2KW7w1xVNCn",
    "outputId": "bf74f71c-c876-499e-e7ed-0709cc68ba92",
    "slideshow": {
     "slide_type": "fragment"
    }
   },
   "outputs": [
    {
     "data": {
      "text/plain": [
       "9999"
      ]
     },
     "execution_count": 152,
     "metadata": {},
     "output_type": "execute_result"
    }
   ],
   "source": [
    "max([max(sequence) for sequence in train_data])"
   ]
  },
  {
   "cell_type": "markdown",
   "metadata": {
    "colab_type": "text",
    "id": "byOt6L9FVNCq",
    "slideshow": {
     "slide_type": "subslide"
    }
   },
   "source": [
    "For kicks, here’s how you can quickly decode one of these reviews back to English words:"
   ]
  },
  {
   "cell_type": "code",
   "execution_count": 153,
   "metadata": {
    "colab": {},
    "colab_type": "code",
    "id": "JJ1NPRzGVNCr",
    "outputId": "235c3241-8549-4bbe-ed36-7e0211ba67dd",
    "slideshow": {
     "slide_type": "fragment"
    }
   },
   "outputs": [],
   "source": [
    "word_index = imdb.get_word_index()\n",
    "reverse_word_index = dict(\n",
    "    [(value, key) for (key, value) in word_index.items()])\n",
    "decoded_review = ' '.join(\n",
    "    [reverse_word_index.get(i - 3, '?') for i in train_data[0]])\n"
   ]
  },
  {
   "cell_type": "code",
   "execution_count": 154,
   "metadata": {
    "colab": {},
    "colab_type": "code",
    "id": "bOPxQMdFVNCx",
    "outputId": "abafcfe3-4852-428e-d52e-55b99f2e2ffd",
    "slideshow": {
     "slide_type": "fragment"
    }
   },
   "outputs": [
    {
     "data": {
      "text/plain": [
       "\"? this film was just brilliant casting location scenery story direction everyone's really suited the part they played and you could just imagine being there robert ? is an amazing actor and now the same being director ? father came from the same scottish island as myself so i loved the fact there was a real connection with this film the witty remarks throughout the film were great it was just brilliant so much that i bought the film as soon as it was released for ? and would recommend it to everyone to watch and the fly fishing was amazing really cried at the end it was so sad and you know what they say if you cry at a film it must have been good and this definitely was also ? to the two little boy's that played the ? of norman and paul they were just brilliant children are often left out of the ? list i think because the stars that play them all grown up are such a big profile for the whole film but these children are amazing and should be praised for what they have done don't you think the whole story was so lovely because it was true and was someone's life after all that was shared with us all\""
      ]
     },
     "execution_count": 154,
     "metadata": {},
     "output_type": "execute_result"
    }
   ],
   "source": [
    "decoded_review"
   ]
  },
  {
   "cell_type": "markdown",
   "metadata": {
    "colab_type": "text",
    "id": "xicv7Xn4VNC4",
    "slideshow": {
     "slide_type": "slide"
    }
   },
   "source": [
    "### Preparing the data\n",
    "\n",
    "You can’t just feed lists of integers into a neural network. You have to turn your lists into tensors. There are two ways to do that:\n",
    "\n",
    "* Pad your lists so that they all have the same length, turn them into an integer tensor of shape (samples, word_indices), and then use as the first layer in your network a layer capable of handling such integer tensors (the ```Embedding``` layer, which we’ll cover in detail later).\n",
    "* One-hot encode your lists to turn them into vectors of 0s and 1s. This would mean, for instance, turning the sequence ```[3, 5]``` into a 10,000-dimensional vector that would be all 0s except for indices 3 and 5, which would be 1s. Then you could use as the first layer in your network a ```Dense``` layer, capable of handling floating-point vector data."
   ]
  },
  {
   "cell_type": "markdown",
   "metadata": {
    "colab_type": "text",
    "id": "RZLd_cwZVNC6",
    "slideshow": {
     "slide_type": "subslide"
    }
   },
   "source": [
    "Let’s go with the latter solution to vectorize the data, which you’ll do manually for maximum clarity.\n",
    "\n"
   ]
  },
  {
   "cell_type": "code",
   "execution_count": 155,
   "metadata": {
    "colab": {},
    "colab_type": "code",
    "id": "VzF3cL3wVNC7",
    "slideshow": {
     "slide_type": "fragment"
    }
   },
   "outputs": [],
   "source": [
    "import numpy as np\n",
    "\n",
    "def vectorize_sequences(sequences, dimension=10000):\n",
    "    results = np.zeros((len(sequences), dimension))\n",
    "    for i, sequence in enumerate(sequences):\n",
    "        results[i, sequence] = 1.\n",
    "    return results\n",
    "\n",
    "x_train = vectorize_sequences(train_data)\n",
    "x_test = vectorize_sequences(test_data)\n"
   ]
  },
  {
   "cell_type": "markdown",
   "metadata": {
    "colab_type": "text",
    "id": "-xUCSZYJVNC-",
    "slideshow": {
     "slide_type": "subslide"
    }
   },
   "source": [
    "Here’s what the samples look like now:"
   ]
  },
  {
   "cell_type": "code",
   "execution_count": 156,
   "metadata": {
    "colab": {},
    "colab_type": "code",
    "id": "DLT4Wu2KVNC-",
    "outputId": "c2e82aec-93ca-40d8-93c8-73d30cbc859d",
    "slideshow": {
     "slide_type": "fragment"
    }
   },
   "outputs": [
    {
     "data": {
      "text/plain": [
       "array([0., 1., 1., ..., 0., 0., 0.])"
      ]
     },
     "execution_count": 156,
     "metadata": {},
     "output_type": "execute_result"
    }
   ],
   "source": [
    "x_train[0]"
   ]
  },
  {
   "cell_type": "markdown",
   "metadata": {
    "colab_type": "text",
    "id": "Xs9R_Yc4VNDE",
    "slideshow": {
     "slide_type": "fragment"
    }
   },
   "source": [
    "You should also vectorize your labels, which is straightforward:\n"
   ]
  },
  {
   "cell_type": "code",
   "execution_count": 157,
   "metadata": {
    "colab": {},
    "colab_type": "code",
    "id": "C0aaOu6pVNDH",
    "slideshow": {
     "slide_type": "fragment"
    }
   },
   "outputs": [],
   "source": [
    "y_train = np.asarray(train_labels).astype('float32')\n",
    "y_test = np.asarray(test_labels).astype('float32')"
   ]
  },
  {
   "cell_type": "code",
   "execution_count": 158,
   "metadata": {
    "colab": {},
    "colab_type": "code",
    "id": "zyXZHpjPVNDL",
    "outputId": "bfd263a6-0953-4f4c-ea84-5923d9d0ecb2",
    "slideshow": {
     "slide_type": "fragment"
    }
   },
   "outputs": [
    {
     "data": {
      "text/plain": [
       "array([1., 0., 0., ..., 0., 1., 0.], dtype=float32)"
      ]
     },
     "execution_count": 158,
     "metadata": {},
     "output_type": "execute_result"
    }
   ],
   "source": [
    "y_train"
   ]
  },
  {
   "cell_type": "markdown",
   "metadata": {
    "colab_type": "text",
    "id": "u5mPcnugVNDP",
    "slideshow": {
     "slide_type": "fragment"
    }
   },
   "source": [
    "Now the data is ready to be fed into a neural network.\n",
    "\n"
   ]
  },
  {
   "cell_type": "markdown",
   "metadata": {
    "colab_type": "text",
    "id": "UBkLzmOwVNDQ",
    "slideshow": {
     "slide_type": "slide"
    }
   },
   "source": [
    "### Building your network\n",
    "\n",
    "The input data is vectors, and the labels are scalars (1s and 0s): this is the easiest setup you’ll ever encounter. A type of network that performs well on such a problem is a simple stack of fully connected (```Dense```) layers with relu activations: ```Dense(16, activation='relu')```.\n",
    "\n",
    "The argument being passed to each ```Dense``` layer (16) is the number of hidden units of the layer. A hidden unit is a dimension in the representation space of the layer. \n",
    "\n",
    "From previous lecture each such Dense layer with a relu activation implements the following chain of tensor operations:"
   ]
  },
  {
   "cell_type": "code",
   "execution_count": 159,
   "metadata": {
    "colab": {},
    "colab_type": "code",
    "id": "88qQlyOvVNDS",
    "slideshow": {
     "slide_type": "fragment"
    }
   },
   "outputs": [
    {
     "ename": "NameError",
     "evalue": "name 'relu' is not defined",
     "output_type": "error",
     "traceback": [
      "\u001b[1;31m---------------------------------------------------------------------------\u001b[0m",
      "\u001b[1;31mNameError\u001b[0m                                 Traceback (most recent call last)",
      "\u001b[1;32m<ipython-input-159-18b539df7e9b>\u001b[0m in \u001b[0;36m<module>\u001b[1;34m()\u001b[0m\n\u001b[1;32m----> 1\u001b[1;33m \u001b[0moutput\u001b[0m \u001b[1;33m=\u001b[0m \u001b[0mrelu\u001b[0m\u001b[1;33m(\u001b[0m\u001b[0mdot\u001b[0m\u001b[1;33m(\u001b[0m\u001b[0mW\u001b[0m\u001b[1;33m,\u001b[0m \u001b[0minput\u001b[0m\u001b[1;33m)\u001b[0m \u001b[1;33m+\u001b[0m \u001b[0mb\u001b[0m\u001b[1;33m)\u001b[0m\u001b[1;33m\u001b[0m\u001b[0m\n\u001b[0m",
      "\u001b[1;31mNameError\u001b[0m: name 'relu' is not defined"
     ]
    }
   ],
   "source": [
    "output = relu(dot(W, input) + b)"
   ]
  },
  {
   "cell_type": "markdown",
   "metadata": {
    "colab_type": "text",
    "id": "e9M74rMmVNDX",
    "slideshow": {
     "slide_type": "subslide"
    }
   },
   "source": [
    "Having 16 hidden units means the weight matrix W will have shape (input_dimension, 16): the dot product with W will project the input data onto a 16-dimensional representation space (and then you’ll add the bias vector b and apply the relu operation). You can intuitively understand the dimensionality of your representation space as “how much freedom you’re allowing the network to have when learning internal representations.” Having more hidden units (a higher-dimensional representation space) allows your network to learn more-complex representations, but it makes the network more computationally expensive and may lead to learning unwanted patterns (patterns that will improve performance on the training data but not on the test data)."
   ]
  },
  {
   "cell_type": "markdown",
   "metadata": {
    "colab_type": "text",
    "id": "BrgbApG2VNDY",
    "slideshow": {
     "slide_type": "slide"
    }
   },
   "source": [
    "There are two key architecture decisions to be made about such a stack of Dense layers:\n",
    "\n",
    "* How many layers to use\n",
    "* How many hidden units to choose for each layer"
   ]
  },
  {
   "cell_type": "markdown",
   "metadata": {
    "colab_type": "text",
    "id": "NzNfSDpyVNDa",
    "slideshow": {
     "slide_type": "fragment"
    }
   },
   "source": [
    "Later, you’ll learn formal principles to guide you in making these choices. Now we choose following architecture:\n",
    "\n",
    "* Two intermediate layers with 16 hidden units each\n",
    "* A third layer that will output the scalar prediction regarding the sentiment of the current review"
   ]
  },
  {
   "cell_type": "markdown",
   "metadata": {
    "colab_type": "text",
    "id": "89GR23GWVNDb",
    "slideshow": {
     "slide_type": "subslide"
    }
   },
   "source": [
    "The intermediate layers will use **relu** as their activation function, and the final layer will use a **sigmoid** activation so as to output a probability (a score between 0 and 1, indicating how likely the sample is to have the target “1”: how likely the review is to be positive). "
   ]
  },
  {
   "cell_type": "markdown",
   "metadata": {
    "colab_type": "text",
    "id": "zIF2wzb0VNDg",
    "slideshow": {
     "slide_type": "fragment"
    }
   },
   "source": [
    "A relu (rectified linear unit) is a function meant to zero out negative values\n",
    "![](https://dpzbhybb2pdcj.cloudfront.net/chollet/Figures/03fig04_alt.jpg)\n",
    "\n",
    "\n"
   ]
  },
  {
   "cell_type": "markdown",
   "metadata": {
    "colab_type": "text",
    "id": "HS8ItrSsVNDh",
    "slideshow": {
     "slide_type": "subslide"
    }
   },
   "source": [
    "**A sigmoid** “squashes” arbitrary values into the [0, 1] interval, outputting something that can be interpreted as a probability.\n",
    "![](https://dpzbhybb2pdcj.cloudfront.net/chollet/Figures/03fig05_alt.jpg)"
   ]
  },
  {
   "cell_type": "markdown",
   "metadata": {
    "colab_type": "text",
    "id": "D3RoaNumVNDj",
    "slideshow": {
     "slide_type": "subslide"
    }
   },
   "source": [
    "See how the network looks like. And here’s the Keras implementation, similar to the MNIST example you saw previously.\n",
    "\n",
    "![](https://dpzbhybb2pdcj.cloudfront.net/chollet/Figures/03fig06.jpg)"
   ]
  },
  {
   "cell_type": "code",
   "execution_count": 160,
   "metadata": {
    "colab": {},
    "colab_type": "code",
    "id": "9vWjLKPyVNDl",
    "slideshow": {
     "slide_type": "fragment"
    }
   },
   "outputs": [],
   "source": [
    "from keras import models\n",
    "from keras import layers\n",
    "\n",
    "model = models.Sequential()\n",
    "model.add(layers.Dense(16, activation='relu', input_shape=(10000,)))\n",
    "model.add(layers.Dense(16, activation='relu'))\n",
    "model.add(layers.Dense(1, activation='sigmoid'))"
   ]
  },
  {
   "cell_type": "markdown",
   "metadata": {
    "colab_type": "text",
    "id": "8B6A7d4gVNDp",
    "slideshow": {
     "slide_type": "subslide"
    }
   },
   "source": [
    "##### WHAT ARE ACTIVATION FUNCTIONS, AND WHY ARE THEY NECESSARY?\n",
    "\n",
    "Without an activation function like ```relu``` (also called a **non-linearity**), the ```Dense``` layer would consist of two linear operations—a dot product and an addition:\n"
   ]
  },
  {
   "cell_type": "code",
   "execution_count": null,
   "metadata": {
    "colab": {},
    "colab_type": "code",
    "id": "h-ZFI0UxVNDr",
    "slideshow": {
     "slide_type": "fragment"
    }
   },
   "outputs": [],
   "source": [
    "output = dot(W, input) + b"
   ]
  },
  {
   "cell_type": "markdown",
   "metadata": {
    "colab_type": "text",
    "id": "shp6un4ZVNDt",
    "slideshow": {
     "slide_type": "fragment"
    }
   },
   "source": [
    "So the layer could only learn **linear transformations** (*affine transformations*) of the input data: the hypothesis space of the layer would be the set of all possible linear transformations of the input data into a 16-dimensional space. Such a hypothesis space is too restricted and wouldn’t benefit from multiple layers of representations, because a deep stack of linear layers would still implement a linear operation: adding more layers wouldn’t extend the hypothesis space.\n",
    "\n",
    "In order to get access to a much richer hypothesis space that would benefit from deep representations, you need a non-linearity, or activation function. ```relu``` is the most popular activation function in deep learning, but there are many other candidates, which all come with similarly strange names: ```prelu```, ```elu```, and so on."
   ]
  },
  {
   "cell_type": "markdown",
   "metadata": {
    "colab_type": "text",
    "id": "QwMtliMhVNDu",
    "slideshow": {
     "slide_type": "subslide"
    }
   },
   "source": [
    "Finally, you need to choose a loss function and an optimizer. \n",
    "\n",
    "Because you’re facing a binary classification problem and the output of your network is a probability (you end your network with a single-unit layer with a sigmoid activation), it’s best to use the ```binary_crossentropy``` loss. It isn’t the only viable choice: you could use, for instance, ```mean_squared_error```. But crossentropy is usually the best choice when you’re dealing with models that output probabilities. **Crossentropy** is a quantity from the field of Information Theory that measures the distance between probability distributions or, in this case, between the ground-truth distribution and your predictions."
   ]
  },
  {
   "cell_type": "markdown",
   "metadata": {
    "colab_type": "text",
    "id": "O41ItN_ZVNDv",
    "slideshow": {
     "slide_type": "fragment"
    }
   },
   "source": [
    "Here’s the step where you configure the model with the rmsprop optimizer and the binary_crossentropy loss function. Note that you’ll also monitor accuracy during training."
   ]
  },
  {
   "cell_type": "code",
   "execution_count": 161,
   "metadata": {
    "colab": {},
    "colab_type": "code",
    "id": "BSaqnbedVNDv",
    "slideshow": {
     "slide_type": "fragment"
    }
   },
   "outputs": [],
   "source": [
    "model.compile(optimizer='rmsprop',\n",
    "              loss='binary_crossentropy',\n",
    "              metrics=['accuracy'])"
   ]
  },
  {
   "cell_type": "markdown",
   "metadata": {
    "colab_type": "text",
    "id": "bcF6qD4RVNDy",
    "slideshow": {
     "slide_type": "subslide"
    }
   },
   "source": [
    "You’re passing your optimizer, loss function, and metrics as strings, which is possible because ```rmsprop```, ```binary_crossentropy```, and ```accuracy``` are packaged as part of Keras. Sometimes you may want to configure the parameters of your optimizer or pass a custom loss function or metric function. The former can be done by passing an optimizer class instance as the optimizer argument: "
   ]
  },
  {
   "cell_type": "code",
   "execution_count": 162,
   "metadata": {
    "colab": {},
    "colab_type": "code",
    "id": "sE-_mgQqVNDz",
    "slideshow": {
     "slide_type": "fragment"
    }
   },
   "outputs": [],
   "source": [
    "from keras import optimizers\n",
    "\n",
    "model.compile(optimizer=optimizers.RMSprop(lr=0.001),\n",
    "              loss='binary_crossentropy',\n",
    "              metrics=['accuracy'])"
   ]
  },
  {
   "cell_type": "markdown",
   "metadata": {
    "colab_type": "text",
    "id": "MnB5--I1VND0",
    "slideshow": {
     "slide_type": "fragment"
    }
   },
   "source": [
    "The latter can be done by passing function objects as the loss and/or metrics arguments:"
   ]
  },
  {
   "cell_type": "code",
   "execution_count": 163,
   "metadata": {
    "colab": {},
    "colab_type": "code",
    "id": "Qx6JcQm3VND1",
    "slideshow": {
     "slide_type": "fragment"
    }
   },
   "outputs": [],
   "source": [
    "from keras import losses\n",
    "from keras import metrics\n",
    "\n",
    "model.compile(optimizer=optimizers.RMSprop(lr=0.001),\n",
    "              loss=losses.binary_crossentropy,\n",
    "              metrics=[metrics.binary_accuracy])"
   ]
  },
  {
   "cell_type": "markdown",
   "metadata": {
    "colab_type": "text",
    "id": "5eBZqg8wVND3",
    "slideshow": {
     "slide_type": "slide"
    }
   },
   "source": [
    "### Validating your approach\n",
    "\n",
    "In order to monitor during training the accuracy of the model on data it has never seen before, you’ll create a validation set by setting apart 10,000 samples from the original training data.\n",
    "\n"
   ]
  },
  {
   "cell_type": "code",
   "execution_count": 164,
   "metadata": {
    "colab": {},
    "colab_type": "code",
    "id": "vX-zMsvRVND4",
    "slideshow": {
     "slide_type": "fragment"
    }
   },
   "outputs": [],
   "source": [
    "x_val = x_train[:10000]\n",
    "partial_x_train = x_train[10000:]\n",
    "y_val = y_train[:10000]\n",
    "partial_y_train = y_train[10000:]"
   ]
  },
  {
   "cell_type": "markdown",
   "metadata": {
    "colab_type": "text",
    "id": "6D2DJgXSVND8",
    "slideshow": {
     "slide_type": "subslide"
    }
   },
   "source": [
    "You’ll now train the model for 5 epochs (5 iterations over all samples in the ```x_train``` and ```y_train``` tensors), in mini-batches of 512 samples. At the same time, you’ll monitor loss and accuracy on the 10,000 samples that you set apart. You do so by passing the validation data as the ```validation_data``` argument.\n",
    "\n"
   ]
  },
  {
   "cell_type": "code",
   "execution_count": 165,
   "metadata": {
    "colab": {},
    "colab_type": "code",
    "id": "JBXmUBSzVND9",
    "outputId": "41e051b5-bd59-49a6-9eeb-a974c7ff83be",
    "scrolled": true,
    "slideshow": {
     "slide_type": "fragment"
    }
   },
   "outputs": [
    {
     "name": "stdout",
     "output_type": "stream",
     "text": [
      "Train on 15000 samples, validate on 10000 samples\n",
      "Epoch 1/20\n",
      "15000/15000 [==============================] - 8s 506us/step - loss: 0.4977 - acc: 0.7953 - val_loss: 0.3718 - val_acc: 0.8720\n",
      "Epoch 2/20\n",
      "15000/15000 [==============================] - 5s 349us/step - loss: 0.2958 - acc: 0.9044 - val_loss: 0.2990 - val_acc: 0.8906\n",
      "Epoch 3/20\n",
      "15000/15000 [==============================] - 5s 302us/step - loss: 0.2160 - acc: 0.9287 - val_loss: 0.3088 - val_acc: 0.8714\n",
      "Epoch 4/20\n",
      "15000/15000 [==============================] - 5s 300us/step - loss: 0.1741 - acc: 0.9434 - val_loss: 0.2831 - val_acc: 0.8842\n",
      "Epoch 5/20\n",
      "15000/15000 [==============================] - 4s 276us/step - loss: 0.1414 - acc: 0.9543 - val_loss: 0.2863 - val_acc: 0.8849\n",
      "Epoch 6/20\n",
      "15000/15000 [==============================] - 4s 258us/step - loss: 0.1143 - acc: 0.9652 - val_loss: 0.3087 - val_acc: 0.8810\n",
      "Epoch 7/20\n",
      "15000/15000 [==============================] - 5s 358us/step - loss: 0.0970 - acc: 0.9708 - val_loss: 0.3147 - val_acc: 0.8839\n",
      "Epoch 8/20\n",
      "15000/15000 [==============================] - 5s 321us/step - loss: 0.0803 - acc: 0.9764 - val_loss: 0.3872 - val_acc: 0.8664\n",
      "Epoch 9/20\n",
      "15000/15000 [==============================] - 4s 276us/step - loss: 0.0658 - acc: 0.9819 - val_loss: 0.3649 - val_acc: 0.8777\n",
      "Epoch 10/20\n",
      "15000/15000 [==============================] - 4s 263us/step - loss: 0.0553 - acc: 0.9850 - val_loss: 0.3865 - val_acc: 0.8789\n",
      "Epoch 11/20\n",
      "15000/15000 [==============================] - 4s 248us/step - loss: 0.0455 - acc: 0.9886 - val_loss: 0.4182 - val_acc: 0.8763\n",
      "Epoch 12/20\n",
      "15000/15000 [==============================] - 4s 277us/step - loss: 0.0386 - acc: 0.9915 - val_loss: 0.4521 - val_acc: 0.8701\n",
      "Epoch 13/20\n",
      "15000/15000 [==============================] - 6s 394us/step - loss: 0.0296 - acc: 0.9939 - val_loss: 0.4717 - val_acc: 0.8740\n",
      "Epoch 14/20\n",
      "15000/15000 [==============================] - 4s 300us/step - loss: 0.0244 - acc: 0.9949 - val_loss: 0.5026 - val_acc: 0.8719\n",
      "Epoch 15/20\n",
      "15000/15000 [==============================] - 4s 275us/step - loss: 0.0185 - acc: 0.9975 - val_loss: 0.5320 - val_acc: 0.8694\n",
      "Epoch 16/20\n",
      "15000/15000 [==============================] - 4s 275us/step - loss: 0.0154 - acc: 0.9984 - val_loss: 0.5688 - val_acc: 0.8689\n",
      "Epoch 17/20\n",
      "15000/15000 [==============================] - 4s 277us/step - loss: 0.0158 - acc: 0.9971 - val_loss: 0.6005 - val_acc: 0.8684\n",
      "Epoch 18/20\n",
      "15000/15000 [==============================] - 9s 581us/step - loss: 0.0082 - acc: 0.9995 - val_loss: 0.6877 - val_acc: 0.8620\n",
      "Epoch 19/20\n",
      "15000/15000 [==============================] - 4s 272us/step - loss: 0.0080 - acc: 0.9991 - val_loss: 0.7192 - val_acc: 0.8580\n",
      "Epoch 20/20\n",
      "15000/15000 [==============================] - 4s 274us/step - loss: 0.0047 - acc: 0.9997 - val_loss: 0.6952 - val_acc: 0.8649\n"
     ]
    }
   ],
   "source": [
    "model.compile(optimizer='rmsprop',\n",
    "              loss='binary_crossentropy',\n",
    "              metrics=['acc'])\n",
    "\n",
    "history = model.fit(partial_x_train,\n",
    "                    partial_y_train,\n",
    "                    epochs=20,\n",
    "                    batch_size=512,\n",
    "                    validation_data=(x_val, y_val))"
   ]
  },
  {
   "cell_type": "markdown",
   "metadata": {
    "colab_type": "text",
    "id": "-w7AKjDzVND_",
    "slideshow": {
     "slide_type": "subslide"
    }
   },
   "source": [
    "On CPU, this will take less than 2 seconds per epoch—training is over in 10 seconds. At the end of every epoch, there is a slight pause as the model computes its loss and accuracy on the 10,000 samples of the validation data.\n",
    "\n",
    "Note that the call to ```model.fit()``` returns a History object. This object has a member history, which is a dictionary containing data about everything that happened during training. Let’s look at it:"
   ]
  },
  {
   "cell_type": "code",
   "execution_count": 166,
   "metadata": {
    "colab": {},
    "colab_type": "code",
    "id": "_EInzcWUVNEB",
    "outputId": "cb64a7fe-2072-44fc-faa4-7b15820910f0",
    "slideshow": {
     "slide_type": "fragment"
    }
   },
   "outputs": [
    {
     "name": "stdout",
     "output_type": "stream",
     "text": [
      "dict_keys(['val_loss', 'val_acc', 'loss', 'acc'])\n"
     ]
    },
    {
     "data": {
      "text/plain": [
       "[0.41820467381477355,\n",
       " 0.45214584822654724,\n",
       " 0.47169828453063967,\n",
       " 0.5026262619495392,\n",
       " 0.5320399326324463,\n",
       " 0.5688050861358642,\n",
       " 0.6004824068069458,\n",
       " 0.6876709351539612,\n",
       " 0.7191696747779847,\n",
       " 0.6951950865745544]"
      ]
     },
     "execution_count": 166,
     "metadata": {},
     "output_type": "execute_result"
    }
   ],
   "source": [
    "history_dict = history.history\n",
    "print(history_dict.keys())\n",
    "history_dict['val_loss'][-10:]"
   ]
  },
  {
   "cell_type": "markdown",
   "metadata": {
    "colab_type": "text",
    "id": "gwYskvGwVNEE",
    "slideshow": {
     "slide_type": "subslide"
    }
   },
   "source": [
    "The dictionary contains four entries: one per metric that was being monitored during training and during validation. In the following two listing, let’s use Matplotlib to plot the training and validation loss side by side, as well as the training and validation accuracy."
   ]
  },
  {
   "cell_type": "code",
   "execution_count": 167,
   "metadata": {
    "colab": {},
    "colab_type": "code",
    "id": "KTWRnF1eVNEF",
    "outputId": "5ac9a395-188d-4c72-f710-27b7c0f95f6f",
    "slideshow": {
     "slide_type": "subslide"
    }
   },
   "outputs": [
    {
     "data": {
      "image/png": "[encoded data removed]",
      "text/plain": [
       "<matplotlib.figure.Figure at 0xf4a06f7898>"
      ]
     },
     "metadata": {},
     "output_type": "display_data"
    }
   ],
   "source": [
    "import matplotlib.pyplot as plt\n",
    "%matplotlib inline\n",
    "\n",
    "history_dict = history.history\n",
    "loss_values = history_dict['loss']\n",
    "val_loss_values = history_dict['val_loss']\n",
    "\n",
    "epochs = range(1, len(history_dict['acc']) + 1)\n",
    "\n",
    "plt.plot(epochs, loss_values, 'bo', label='Training loss')\n",
    "plt.plot(epochs, val_loss_values, 'b', label='Validation loss')\n",
    "plt.title('Training and validation loss')\n",
    "plt.xlabel('Epochs')\n",
    "plt.ylabel('Loss')\n",
    "plt.legend()\n",
    "\n",
    "plt.show()\n"
   ]
  },
  {
   "cell_type": "code",
   "execution_count": 168,
   "metadata": {
    "colab": {},
    "colab_type": "code",
    "id": "2_Q-7ko5VNEI",
    "outputId": "68e87f19-1cd9-4805-d654-1c8b82dda5b6",
    "slideshow": {
     "slide_type": "subslide"
    }
   },
   "outputs": [
    {
     "data": {
      "image/png": "[encoded data removed]",
      "text/plain": [
       "<matplotlib.figure.Figure at 0xf49fd6e048>"
      ]
     },
     "metadata": {},
     "output_type": "display_data"
    }
   ],
   "source": [
    "plt.clf()\n",
    "acc_values = history_dict['acc']\n",
    "val_acc_values = history_dict['val_acc']\n",
    "\n",
    "plt.plot(epochs, acc_values, 'bo', label='Training acc')\n",
    "plt.plot(epochs, val_acc_values, 'b', label='Validation acc')\n",
    "plt.title('Training and validation accuracy')\n",
    "plt.xlabel('Epochs')\n",
    "plt.ylabel('Loss')\n",
    "plt.legend()\n",
    "\n",
    "plt.show()\n"
   ]
  },
  {
   "cell_type": "markdown",
   "metadata": {
    "colab_type": "text",
    "id": "kjOe_8V-VNES",
    "slideshow": {
     "slide_type": "subslide"
    }
   },
   "source": [
    "As you can see, the training loss decreases with every epoch, and the training accuracy increases with every epoch. That’s what you would expect when running gradient-descent optimization—the quantity you’re trying to minimize should be less with every iteration. But that isn’t the case for the validation loss and accuracy: they seem to peak at the fourth epoch. \n",
    "\n"
   ]
  },
  {
   "cell_type": "markdown",
   "metadata": {
    "colab_type": "text",
    "id": "_O7qdsD_VNET",
    "slideshow": {
     "slide_type": "fragment"
    }
   },
   "source": [
    "This is an example of what we warned against earlier: a model that performs better on the training data isn’t necessarily a model that will do better on data it has never seen before. In precise terms, what you’re seeing is overfitting: after the second epoch, you’re overoptimizing on the training data, and you end up learning representations that are specific to the training data and don’t generalize to data outside of the training set."
   ]
  },
  {
   "cell_type": "markdown",
   "metadata": {
    "colab_type": "text",
    "id": "Lcf9ec8sVNET",
    "slideshow": {
     "slide_type": "slide"
    }
   },
   "source": [
    "Let’s train a new network from scratch for four epochs`and then evaluate it on the test data.\n",
    "\n"
   ]
  },
  {
   "cell_type": "code",
   "execution_count": 169,
   "metadata": {
    "colab": {},
    "colab_type": "code",
    "id": "Hzhq4XzCVNEV",
    "outputId": "e86c8688-9d00-4646-94f0-3b770372d215",
    "slideshow": {
     "slide_type": "fragment"
    }
   },
   "outputs": [
    {
     "name": "stdout",
     "output_type": "stream",
     "text": [
      "Epoch 1/4\n",
      "25000/25000 [==============================] - 7s 277us/step - loss: 0.4742 - acc: 0.8221\n",
      "Epoch 2/4\n",
      "25000/25000 [==============================] - 4s 166us/step - loss: 0.2634 - acc: 0.9102\n",
      "Epoch 3/4\n",
      "25000/25000 [==============================] - 4s 172us/step - loss: 0.1986 - acc: 0.9309\n",
      "Epoch 4/4\n",
      "25000/25000 [==============================] - 5s 198us/step - loss: 0.1678 - acc: 0.9404\n",
      "25000/25000 [==============================] - 24s 974us/step\n"
     ]
    }
   ],
   "source": [
    "model = models.Sequential()\n",
    "model.add(layers.Dense(16, activation='relu', input_shape=(10000,)))\n",
    "model.add(layers.Dense(16, activation='relu'))\n",
    "model.add(layers.Dense(1, activation='sigmoid'))\n",
    "\n",
    "model.compile(optimizer='rmsprop',\n",
    "              loss='binary_crossentropy',\n",
    "              metrics=['accuracy'])\n",
    "\n",
    "model.fit(x_train, y_train, epochs=4, batch_size=512)\n",
    "results = model.evaluate(x_test, y_test)"
   ]
  },
  {
   "cell_type": "code",
   "execution_count": 170,
   "metadata": {
    "colab": {},
    "colab_type": "code",
    "id": "i8UInNYJVNEY",
    "outputId": "b3ba7099-55cf-45be-ff78-2efee920ccd0",
    "slideshow": {
     "slide_type": "subslide"
    }
   },
   "outputs": [
    {
     "data": {
      "text/plain": [
       "[0.32387810856819155, 0.87272]"
      ]
     },
     "execution_count": 170,
     "metadata": {},
     "output_type": "execute_result"
    }
   ],
   "source": [
    "results"
   ]
  },
  {
   "cell_type": "markdown",
   "metadata": {
    "colab_type": "text",
    "id": "wLOy6qi-VNEc",
    "slideshow": {
     "slide_type": "slide"
    }
   },
   "source": [
    "### Using a trained network to generate predictions on new data\n",
    "\n",
    "After having trained a network, you’ll want to use it in a practical setting. You can generate the likelihood of reviews being positive by using the ```predict``` method:"
   ]
  },
  {
   "cell_type": "code",
   "execution_count": 171,
   "metadata": {
    "colab": {},
    "colab_type": "code",
    "id": "07GarCBOVNEd",
    "outputId": "e99bc173-4778-464d-d987-6241a28ad705",
    "slideshow": {
     "slide_type": "fragment"
    }
   },
   "outputs": [
    {
     "data": {
      "text/plain": [
       "array([[0.135956  ],\n",
       "       [0.9997054 ],\n",
       "       [0.27625883],\n",
       "       ...,\n",
       "       [0.0751305 ],\n",
       "       [0.04511876],\n",
       "       [0.4906017 ]], dtype=float32)"
      ]
     },
     "execution_count": 171,
     "metadata": {},
     "output_type": "execute_result"
    }
   ],
   "source": [
    "predict = model.predict(x_test)\n",
    "predict"
   ]
  },
  {
   "cell_type": "code",
   "execution_count": 173,
   "metadata": {},
   "outputs": [],
   "source": [
    "def check(y_test, predict):\n",
    "\n",
    "    for num,i in enumerate(predict[:15]):\n",
    "        if (i>0.5 and y_test[num] == 1.0) or i<0.5 and y_test[num] == 0.0:\n",
    "            print('Example # {0} is correct: {1}, {2}'.format(str(num), str(i), y_test[num]))\n",
    "        else:\n",
    "            print('Example # {0} is incorrect: {1}, {2}'.format(str(num), str(i), y_test[num]))\n",
    "\n",
    "    return 'Finished 15 examples'"
   ]
  },
  {
   "cell_type": "code",
   "execution_count": 174,
   "metadata": {},
   "outputs": [
    {
     "name": "stdout",
     "output_type": "stream",
     "text": [
      "Example # 0 is correct: [0.135956], 0.0\n",
      "Example # 1 is correct: [0.9997054], 1.0\n",
      "Example # 2 is incorrect: [0.27625883], 1.0\n",
      "Example # 3 is incorrect: [0.6446128], 0.0\n",
      "Example # 4 is correct: [0.9230171], 1.0\n",
      "Example # 5 is correct: [0.670831], 1.0\n",
      "Example # 6 is correct: [0.99779356], 1.0\n",
      "Example # 7 is correct: [0.00741729], 0.0\n",
      "Example # 8 is incorrect: [0.9325054], 0.0\n",
      "Example # 9 is correct: [0.9846294], 1.0\n",
      "Example # 10 is correct: [0.8188883], 1.0\n",
      "Example # 11 is correct: [0.00405905], 0.0\n",
      "Example # 12 is correct: [0.00016613], 0.0\n",
      "Example # 13 is correct: [0.0058833], 0.0\n",
      "Example # 14 is correct: [0.9941754], 1.0\n"
     ]
    },
    {
     "data": {
      "text/plain": [
       "'Finished 15 examples'"
      ]
     },
     "execution_count": 174,
     "metadata": {},
     "output_type": "execute_result"
    }
   ],
   "source": [
    "check(y_test, predict)"
   ]
  },
  {
   "cell_type": "markdown",
   "metadata": {
    "colab_type": "text",
    "id": "3m94ORa1VNEh",
    "slideshow": {
     "slide_type": "fragment"
    }
   },
   "source": [
    "As you can see, the network is confident for some samples (0.99 or more, or 0.01 or less) but less confident for others (0.6, 0.4)."
   ]
  },
  {
   "cell_type": "markdown",
   "metadata": {
    "colab_type": "text",
    "id": "DpjdgsS6VNEi",
    "slideshow": {
     "slide_type": "slide"
    }
   },
   "source": [
    "### Home Tasks\n",
    "\n",
    "The following experiments will help convince you that the architecture choices you’ve made are all fairly reasonable, although there’s still room for improvement:\n",
    "\n",
    "* You used two hidden layers. Try using one or three hidden layers, and see how doing so affects validation and test accuracy.\n",
    "* Try using layers with more hidden units or fewer hidden units: 32 units, 64 units, and so on.\n",
    "* Try using the ```mse``` loss function instead of ```binary_crossentropy```.\n",
    "* Try using the ```tanh``` activation (an activation that was popular in the early days of neural networks) instead of relu."
   ]
  },
  {
   "cell_type": "code",
   "execution_count": 181,
   "metadata": {
    "colab": {},
    "colab_type": "code",
    "id": "Hzhq4XzCVNEV",
    "outputId": "e86c8688-9d00-4646-94f0-3b770372d215",
    "slideshow": {
     "slide_type": "fragment"
    }
   },
   "outputs": [],
   "source": [
    "def model_experiment(hidden_units=[16,16], loss_f='binary_crossentropy', activation_l=['relu']*2, batch=512):\n",
    "    model = models.Sequential()\n",
    "    model.add(layers.Dense(hidden_units[0], activation=activation_l[0], input_shape=(10000,)))\n",
    "    if len(hidden_units)>1:\n",
    "        for unit,act in zip(hidden_units[1:], activation_l[1:]):\n",
    "            model.add(layers.Dense(16, activation=act))\n",
    "    model.add(layers.Dense(1, activation='sigmoid'))\n",
    "    model.compile(optimizer='rmsprop',\n",
    "                  loss=loss_f,\n",
    "                  metrics=['accuracy'])\n",
    "\n",
    "    model.fit(x_train, y_train, epochs=4, batch_size=batch)\n",
    "    results = model.evaluate(x_test, y_test)\n",
    "    \n",
    "    return results"
   ]
  },
  {
   "cell_type": "code",
   "execution_count": 182,
   "metadata": {},
   "outputs": [
    {
     "name": "stdout",
     "output_type": "stream",
     "text": [
      "[16, 16, 16]\n",
      "Epoch 1/4\n",
      "25000/25000 [==============================] - 13s 523us/step - loss: 0.4490 - acc: 0.8147\n",
      "Epoch 2/4\n",
      "25000/25000 [==============================] - 7s 290us/step - loss: 0.2506 - acc: 0.9096\n",
      "Epoch 3/4\n",
      "25000/25000 [==============================] - 6s 245us/step - loss: 0.1930 - acc: 0.9303\n",
      "Epoch 4/4\n",
      "25000/25000 [==============================] - 6s 234us/step - loss: 0.1633 - acc: 0.9407\n",
      "25000/25000 [==============================] - 20s 819us/step\n",
      "[0.3777674844837189, 0.85856]\n"
     ]
    }
   ],
   "source": [
    "#three layers with 16 hidden units each\n",
    "results = model_experiment(hidden_units = [16,16,16], activation_l=['relu']*3)\n",
    "\n",
    "predict = model.predict(x_test)\n",
    "\n",
    "#check(y_test, predict)\n",
    "print(results)"
   ]
  },
  {
   "cell_type": "code",
   "execution_count": 183,
   "metadata": {},
   "outputs": [
    {
     "name": "stdout",
     "output_type": "stream",
     "text": [
      "[16]\n",
      "Epoch 1/4\n",
      "25000/25000 [==============================] - 13s 502us/step - loss: 0.4334 - acc: 0.8289\n",
      "Epoch 2/4\n",
      "25000/25000 [==============================] - 6s 230us/step - loss: 0.2653 - acc: 0.9090\n",
      "Epoch 3/4\n",
      "25000/25000 [==============================] - 7s 273us/step - loss: 0.2096 - acc: 0.9285\n",
      "Epoch 4/4\n",
      "25000/25000 [==============================] - 6s 258us/step - loss: 0.1803 - acc: 0.9372\n",
      "25000/25000 [==============================] - 13s 513us/step\n",
      "[0.2840964234733582, 0.886]\n"
     ]
    }
   ],
   "source": [
    "#one layer with 16 hidden units \n",
    "results = model_experiment(hidden_units = [16])\n",
    "\n",
    "predict = model.predict(x_test)\n",
    "\n",
    "#check(y_test, predict)\n",
    "print(results)"
   ]
  },
  {
   "cell_type": "code",
   "execution_count": 184,
   "metadata": {},
   "outputs": [
    {
     "name": "stdout",
     "output_type": "stream",
     "text": [
      "[16, 32]\n",
      "Epoch 1/4\n",
      "25000/25000 [==============================] - 10s 418us/step - loss: 0.4344 - acc: 0.8154\n",
      "Epoch 2/4\n",
      "25000/25000 [==============================] - 10s 412us/step - loss: 0.2485 - acc: 0.9106\n",
      "Epoch 3/4\n",
      "25000/25000 [==============================] - 7s 298us/step - loss: 0.1982 - acc: 0.9271\n",
      "Epoch 4/4\n",
      "25000/25000 [==============================] - 6s 239us/step - loss: 0.1645 - acc: 0.9410\n",
      "25000/25000 [==============================] - 10s 406us/step\n",
      "[0.29796602546215056, 0.88344]\n"
     ]
    }
   ],
   "source": [
    "#two layers with 16,32 hidden units \n",
    "results = model_experiment(hidden_units = [16,32])\n",
    "\n",
    "predict = model.predict(x_test)\n",
    "\n",
    "#check(y_test, predict)\n",
    "print(results)"
   ]
  },
  {
   "cell_type": "code",
   "execution_count": 185,
   "metadata": {},
   "outputs": [
    {
     "name": "stdout",
     "output_type": "stream",
     "text": [
      "[512, 128]\n",
      "Epoch 1/4\n",
      "25000/25000 [==============================] - 29s 1ms/step - loss: 0.4490 - acc: 0.7913\n",
      "Epoch 2/4\n",
      "25000/25000 [==============================] - 22s 895us/step - loss: 0.2301 - acc: 0.9088\n",
      "Epoch 3/4\n",
      "25000/25000 [==============================] - 22s 894us/step - loss: 0.1631 - acc: 0.9359\n",
      "Epoch 4/4\n",
      "25000/25000 [==============================] - 20s 808us/step - loss: 0.0988 - acc: 0.9632\n",
      "25000/25000 [==============================] - 20s 809us/step\n",
      "[0.34389340611457825, 0.87848]\n"
     ]
    }
   ],
   "source": [
    "## two layers with 512,128 hidden units \n",
    "results = model_experiment(hidden_units = [512,128])\n",
    "\n",
    "predict = model.predict(x_test)\n",
    "\n",
    "#check(y_test, predict)\n",
    "print(results)"
   ]
  },
  {
   "cell_type": "code",
   "execution_count": 186,
   "metadata": {},
   "outputs": [
    {
     "name": "stdout",
     "output_type": "stream",
     "text": [
      "[128, 64]\n",
      "Epoch 1/4\n",
      "25000/25000 [==============================] - 17s 689us/step - loss: 0.4378 - acc: 0.8056\n",
      "Epoch 2/4\n",
      "25000/25000 [==============================] - 13s 523us/step - loss: 0.2370 - acc: 0.9110\n",
      "Epoch 3/4\n",
      "25000/25000 [==============================] - 11s 438us/step - loss: 0.1875 - acc: 0.9284\n",
      "Epoch 4/4\n",
      "25000/25000 [==============================] - 10s 385us/step - loss: 0.1437 - acc: 0.9449\n",
      "25000/25000 [==============================] - 16s 647us/step\n",
      "[0.3895718560600281, 0.85956]\n"
     ]
    }
   ],
   "source": [
    "#two layers with 128,64 hidden units \n",
    "results = model_experiment(hidden_units = [128,64])\n",
    "\n",
    "predict = model.predict(x_test)\n",
    "\n",
    "#check(y_test, predict)\n",
    "print(results)"
   ]
  },
  {
   "cell_type": "code",
   "execution_count": 187,
   "metadata": {},
   "outputs": [
    {
     "name": "stdout",
     "output_type": "stream",
     "text": [
      "[16, 16]\n",
      "Epoch 1/4\n",
      "25000/25000 [==============================] - 9s 377us/step - loss: 0.1445 - acc: 0.8165\n",
      "Epoch 2/4\n",
      "25000/25000 [==============================] - 8s 318us/step - loss: 0.0763 - acc: 0.9108\n",
      "Epoch 3/4\n",
      "25000/25000 [==============================] - 7s 265us/step - loss: 0.0577 - acc: 0.9326\n",
      "Epoch 4/4\n",
      "25000/25000 [==============================] - 5s 211us/step - loss: 0.0479 - acc: 0.9437\n",
      "25000/25000 [==============================] - 8s 318us/step\n",
      "[0.08649942491769791, 0.88192]\n"
     ]
    }
   ],
   "source": [
    "#default with mse loss\n",
    "results = model_experiment(loss_f ='mse')\n",
    "\n",
    "predict = model.predict(x_test)\n",
    "\n",
    "#check(y_test, predict)\n",
    "print(results)"
   ]
  },
  {
   "cell_type": "code",
   "execution_count": 188,
   "metadata": {},
   "outputs": [
    {
     "name": "stdout",
     "output_type": "stream",
     "text": [
      "[32, 64, 32, 16, 8]\n",
      "Epoch 1/4\n",
      "25000/25000 [==============================] - 17s 695us/step - loss: 0.1657 - acc: 0.7645\n",
      "Epoch 2/4\n",
      "25000/25000 [==============================] - 6s 259us/step - loss: 0.0873 - acc: 0.8971\n",
      "Epoch 3/4\n",
      "25000/25000 [==============================] - 5s 207us/step - loss: 0.0691 - acc: 0.9167\n",
      "Epoch 4/4\n",
      "25000/25000 [==============================] - 5s 211us/step - loss: 0.0567 - acc: 0.9319\n",
      "25000/25000 [==============================] - 24s 966us/step\n",
      "[0.08489191980361939, 0.8868]\n"
     ]
    }
   ],
   "source": [
    "#tree layers [32,64,32] with mse loss and batch 1024\n",
    "results = model_experiment(loss_f ='mse', hidden_units=[32,64,32,16,8], batch=1024)\n",
    "\n",
    "predict = model.predict(x_test)\n",
    "\n",
    "#check(y_test, predict)\n",
    "print(results)"
   ]
  },
  {
   "cell_type": "code",
   "execution_count": 189,
   "metadata": {},
   "outputs": [
    {
     "name": "stdout",
     "output_type": "stream",
     "text": [
      "[16, 16]\n",
      "Epoch 1/4\n",
      "25000/25000 [==============================] - 10s 411us/step - loss: 0.4288 - acc: 0.8279\n",
      "Epoch 2/4\n",
      "25000/25000 [==============================] - 15s 609us/step - loss: 0.2384 - acc: 0.9137\n",
      "Epoch 3/4\n",
      "25000/25000 [==============================] - 5s 215us/step - loss: 0.1796 - acc: 0.9335\n",
      "Epoch 4/4\n",
      "25000/25000 [==============================] - 5s 213us/step - loss: 0.1459 - acc: 0.9478\n",
      "25000/25000 [==============================] - 13s 503us/step\n",
      "[0.3201610572862625, 0.87864]\n"
     ]
    }
   ],
   "source": [
    "#two layers default with tanh\n",
    "results = model_experiment(activation_l=['tanh']*2)\n",
    "\n",
    "predict = model.predict(x_test)\n",
    "\n",
    "#check(y_test, predict)\n",
    "print(results)"
   ]
  },
  {
   "cell_type": "code",
   "execution_count": 190,
   "metadata": {},
   "outputs": [
    {
     "name": "stdout",
     "output_type": "stream",
     "text": [
      "[16, 16]\n",
      "Epoch 1/4\n",
      "25000/25000 [==============================] - 10s 406us/step - loss: 0.4711 - acc: 0.8171\n",
      "Epoch 2/4\n",
      "25000/25000 [==============================] - 7s 275us/step - loss: 0.2689 - acc: 0.9095\n",
      "Epoch 3/4\n",
      "25000/25000 [==============================] - 6s 244us/step - loss: 0.1974 - acc: 0.9303\n",
      "Epoch 4/4\n",
      "25000/25000 [==============================] - 6s 251us/step - loss: 0.1621 - acc: 0.9422\n",
      "25000/25000 [==============================] - 8s 319us/step\n",
      "[0.31699031797409055, 0.87148]\n"
     ]
    }
   ],
   "source": [
    "#two layers default with tanh + relu\n",
    "results = model_experiment(activation_l=['tanh', 'relu'])\n",
    "\n",
    "predict = model.predict(x_test)\n",
    "\n",
    "#check(y_test, predict)\n",
    "print(results)"
   ]
  },
  {
   "cell_type": "code",
   "execution_count": 191,
   "metadata": {},
   "outputs": [
    {
     "name": "stdout",
     "output_type": "stream",
     "text": [
      "[32, 16, 32]\n",
      "Epoch 1/4\n",
      "25000/25000 [==============================] - 17s 679us/step - loss: 0.3142 - acc: 0.8669\n",
      "Epoch 2/4\n",
      "25000/25000 [==============================] - 12s 466us/step - loss: 0.2049 - acc: 0.9220\n",
      "Epoch 3/4\n",
      "25000/25000 [==============================] - 12s 464us/step - loss: 0.1677 - acc: 0.9365\n",
      "Epoch 4/4\n",
      "25000/25000 [==============================] - 15s 618us/step - loss: 0.1395 - acc: 0.9493\n",
      "25000/25000 [==============================] - 7s 293us/step\n",
      "[0.34078499784469607, 0.87196]\n"
     ]
    }
   ],
   "source": [
    "#three layers [32,16,32] with tanh + 2 relu, batch 32\n",
    "results = model_experiment(activation_l=['tanh', *['relu']*2], hidden_units = [32,16,32], batch = 32)\n",
    "\n",
    "predict = model.predict(x_test)\n",
    "\n",
    "#check(y_test, predict)\n",
    "print(results)"
   ]
  },
  {
   "cell_type": "markdown",
   "metadata": {},
   "source": [
    "### !!Выводы\n",
    "\n",
    "* **Количество слоев**: для данной задачи оптимальное количесво слоев - 1 или 2 (причем для 1 слоя результаты были лучше, чем для 2), при 3 accuracy начинает падать, что связано, скорее всего, с простотой задачи и не очень большим датасетом, для которого много слоев вызывает переобучение\n",
    "* **Hidden Units**: увеличение юнитов при дефолтном количестве слоев дает небольшое улучшение (для HU=\\[16,32\\]), но в пределах разумного. К тому же, судя по всему, результаты лучше, если выставлять HU по возрастанию (или как минимум не по убыванию)\n",
    "* **MSE**: уменьшеие loss при замене Crossentropy на MSE связано по больше части с тем, как эти метрики считаются, поэтому сравнить их будет сложно. При этом accuracy при MSE стала немного выше (на ~0.01%). Это может быть случайно, так как использование MSE для классификации немного бессмысленно, ибо эта метрика смотрит с точки зрения разницы между реальным и предсказанным, и в случае, например, y_actual = 1 и y_predicted = 0,502, значение MSE будет высоким, тогда как метрики классификации засчитают это как правильный ответ\n",
    "* **Tanh**: использование только `tanh`, как и использование `tanh` в сочетании с `relu`, привело к незначительному ухудшению показателей, скорее всего потому, что эти функции хоть и похожи, но `relu` все же более новая и, возможно, точная"
   ]
  },
  {
   "cell_type": "markdown",
   "metadata": {
    "colab_type": "text",
    "id": "HYW-OcjYVNEi",
    "slideshow": {
     "slide_type": "slide"
    }
   },
   "source": [
    "### Wrapping Up\n",
    "\n",
    "* You usually need to do quite a bit of preprocessing on your raw data in order to be able to feed it—as tensors—into a neural network. Sequences of words can be encoded as binary vectors, but there are other encoding options, too."
   ]
  },
  {
   "cell_type": "markdown",
   "metadata": {
    "colab_type": "text",
    "id": "LpPhW9BZVNEj",
    "slideshow": {
     "slide_type": "fragment"
    }
   },
   "source": [
    "* Stacks of ```Dense``` layers with ```relu``` activations can solve a wide range of problems (including sentiment classification), and you’ll likely use them frequently.\n"
   ]
  },
  {
   "cell_type": "markdown",
   "metadata": {
    "colab_type": "text",
    "id": "IifOG3PmVNEm",
    "slideshow": {
     "slide_type": "fragment"
    }
   },
   "source": [
    "* In a binary classification problem (two output classes), your network should end with a ```Dense``` layer with one unit and a ```sigmoid``` activation: the output of your network should be a scalar between 0 and 1, encoding a probability."
   ]
  },
  {
   "cell_type": "markdown",
   "metadata": {
    "colab_type": "text",
    "id": "JG5HxwasVNEn",
    "slideshow": {
     "slide_type": "fragment"
    }
   },
   "source": [
    "* With such a scalar sigmoid output on a binary classification problem, the loss function you should use is ```binary_crossentropy```.\n"
   ]
  },
  {
   "cell_type": "markdown",
   "metadata": {
    "colab_type": "text",
    "id": "IKrXzf_VVNEn",
    "slideshow": {
     "slide_type": "fragment"
    }
   },
   "source": [
    "* The ```rmsprop``` optimizer is generally a good enough choice, whatever your problem. That’s one less thing for you to worry about.\n"
   ]
  },
  {
   "cell_type": "markdown",
   "metadata": {
    "colab_type": "text",
    "id": "IXN5J2BBVNEo",
    "slideshow": {
     "slide_type": "fragment"
    }
   },
   "source": [
    "* As they get better on their training data, neural networks eventually start overfitting and end up obtaining increasingly worse results on data they’ve never seen before. Be sure to always monitor performance on data that is outside of the training set.\n"
   ]
  },
  {
   "cell_type": "markdown",
   "metadata": {
    "colab_type": "text",
    "id": "UwbRQ95OVNEp",
    "slideshow": {
     "slide_type": "slide"
    }
   },
   "source": [
    "## Classifying newswires: a multiclass classification example\n",
    "\n",
    "What happens when you have more than two classes?\n",
    "\n",
    "Now, we’ll build a network to classify *Reuters newswires* into 46 mutually exclusive topics. Because you have many classes, this problem is an instance of **multiclass classification**; and because each data point should be classified into only one category, the problem is more specifically an instance of **single-label, multiclass classification**. If each data point could belong to multiple categories (in this case, topics), you’d be facing a **multilabel**, **multiclass classification** problem."
   ]
  },
  {
   "cell_type": "markdown",
   "metadata": {
    "colab_type": "text",
    "id": "O2LU1K56VNEp",
    "slideshow": {
     "slide_type": "slide"
    }
   },
   "source": [
    "### The Reuters dataset\n",
    "\n",
    "You’ll work with the Reuters dataset, a set of short newswires and their topics, published by Reuters in 1986. It’s a simple, widely used toy dataset for text classification. There are 46 different topics; some topics are more represented than others, but each topic has at least 10 examples in the training set.\n",
    "\n",
    "Like IMDB and MNIST, the Reuters dataset comes packaged as part of Keras. Let’s take a look.\n",
    "\n"
   ]
  },
  {
   "cell_type": "code",
   "execution_count": 235,
   "metadata": {
    "colab": {},
    "colab_type": "code",
    "id": "xbo7GK_bVNEr",
    "outputId": "aeee09ad-680b-470b-c7ff-938c1af2d010",
    "slideshow": {
     "slide_type": "fragment"
    }
   },
   "outputs": [],
   "source": [
    "from keras.datasets import reuters\n",
    "\n",
    "(train_data, train_labels), (test_data, test_labels) = reuters.load_data(\n",
    "    num_words=10000)"
   ]
  },
  {
   "cell_type": "markdown",
   "metadata": {
    "colab_type": "text",
    "id": "jJIIyiZtVNEt",
    "slideshow": {
     "slide_type": "subslide"
    }
   },
   "source": [
    "As with the IMDB dataset, the argument num_words=10000 restricts the data to the 10,000 most frequently occurring words found in the data.\n",
    "\n",
    "You have 8,982 training examples and 2,246 test examples:"
   ]
  },
  {
   "cell_type": "code",
   "execution_count": 236,
   "metadata": {
    "colab": {},
    "colab_type": "code",
    "id": "BZ04Xa6BVNEv",
    "outputId": "4af7acd1-1b88-46a0-b8c6-6124ca6486f0",
    "slideshow": {
     "slide_type": "fragment"
    }
   },
   "outputs": [
    {
     "name": "stdout",
     "output_type": "stream",
     "text": [
      "Training examples: 8982\n",
      "Test examples: 2246\n"
     ]
    }
   ],
   "source": [
    "print(\"Training examples: {}\".format(len(train_data)))\n",
    "print(\"Test examples: {}\".format(len(test_data)))"
   ]
  },
  {
   "cell_type": "markdown",
   "metadata": {
    "colab_type": "text",
    "id": "_jsFfFVrVNEx",
    "slideshow": {
     "slide_type": "subslide"
    }
   },
   "source": [
    "As with the IMDB reviews, each example is a list of integers (word indices):"
   ]
  },
  {
   "cell_type": "code",
   "execution_count": 237,
   "metadata": {
    "colab": {},
    "colab_type": "code",
    "id": "ag85QQr3VNEy",
    "outputId": "85904ad8-020d-434b-9483-27362e57a72a",
    "slideshow": {
     "slide_type": "fragment"
    }
   },
   "outputs": [
    {
     "name": "stdout",
     "output_type": "stream",
     "text": [
      "[1, 245, 273, 207, 156, 53, 74, 160, 26, 14, 46, 296, 26, 39, 74, 2979, 3554, 14, 46, 4689, 4329, 86, 61, 3499, 4795, 14, 61, 451, 4329, 17, 12]\n"
     ]
    }
   ],
   "source": [
    "print(train_data[10])"
   ]
  },
  {
   "cell_type": "markdown",
   "metadata": {
    "colab_type": "text",
    "id": "55M6O56VVNE0",
    "slideshow": {
     "slide_type": "fragment"
    }
   },
   "source": [
    "Here’s how you can decode it back to words, in case you’re curious."
   ]
  },
  {
   "cell_type": "code",
   "execution_count": 238,
   "metadata": {
    "colab": {},
    "colab_type": "code",
    "id": "96_oqKVmVNE1",
    "outputId": "2f7c6875-0a02-49e8-9698-9f78ba8739fa",
    "slideshow": {
     "slide_type": "fragment"
    }
   },
   "outputs": [
    {
     "data": {
      "text/plain": [
       "'? ? ? said as a result of its december acquisition of space co it expects earnings per share in 1987 of 1 15 to 1 30 dlrs per share up from 70 cts in 1986 the company said pretax net should rise to nine to 10 mln dlrs from six mln dlrs in 1986 and rental operation revenues to 19 to 22 mln dlrs from 12 5 mln dlrs it said cash flow per share this year should be 2 50 to three dlrs reuter 3'"
      ]
     },
     "execution_count": 238,
     "metadata": {},
     "output_type": "execute_result"
    }
   ],
   "source": [
    "word_index = reuters.get_word_index()\n",
    "reverse_word_index = dict([(value, key) for (key, value) in word_index.items()])\n",
    "decoded_newswire = ' '.join([reverse_word_index.get(i - 3, '?') for i in\n",
    "    train_data[0]])\n",
    "decoded_newswire\n"
   ]
  },
  {
   "cell_type": "markdown",
   "metadata": {
    "colab_type": "text",
    "id": "UzN4ql05VNE3",
    "slideshow": {
     "slide_type": "fragment"
    }
   },
   "source": [
    "The label associated with an example is an integer between 0 and 45—a topic index:"
   ]
  },
  {
   "cell_type": "code",
   "execution_count": 239,
   "metadata": {
    "colab": {},
    "colab_type": "code",
    "id": "h2cYUBztVNE4",
    "outputId": "0bafdc38-9d1d-4953-f9bc-c4a11dfdca05",
    "slideshow": {
     "slide_type": "fragment"
    }
   },
   "outputs": [
    {
     "data": {
      "text/plain": [
       "3"
      ]
     },
     "execution_count": 239,
     "metadata": {},
     "output_type": "execute_result"
    }
   ],
   "source": [
    "train_labels[10]"
   ]
  },
  {
   "cell_type": "markdown",
   "metadata": {
    "colab_type": "text",
    "id": "x3HtOySJVNE6",
    "slideshow": {
     "slide_type": "slide"
    }
   },
   "source": [
    "### Preparing the data\n",
    "\n",
    "You can vectorize the data with the exact same code as in the previous example."
   ]
  },
  {
   "cell_type": "code",
   "execution_count": 240,
   "metadata": {
    "colab": {},
    "colab_type": "code",
    "id": "gSmC2IbQVNE7",
    "slideshow": {
     "slide_type": "fragment"
    }
   },
   "outputs": [],
   "source": [
    "import numpy as np\n",
    "\n",
    "def vectorize_sequences(sequences, dimension=10000):\n",
    "    results = np.zeros((len(sequences), dimension))\n",
    "    for i, sequence in enumerate(sequences):\n",
    "        results[i, sequence] = 1.\n",
    "    return results\n",
    "\n",
    "x_train = vectorize_sequences(train_data)\n",
    "x_test = vectorize_sequences(test_data)\n"
   ]
  },
  {
   "cell_type": "markdown",
   "metadata": {
    "colab_type": "text",
    "id": "DIj7BlUTVNFB",
    "slideshow": {
     "slide_type": "subslide"
    }
   },
   "source": [
    "To vectorize the labels, there are two possibilities: you can cast the label list as an integer tensor, or you can use one-hot encoding. One-hot encoding is a widely used format for categorical data, also called **categorical encoding**.\n",
    "\n",
    "In our case, one-hot encoding of the labels consists of embedding each label as an all-zero vector with a 1 in the place of the label index. Here’s an example:"
   ]
  },
  {
   "cell_type": "code",
   "execution_count": 241,
   "metadata": {
    "colab": {},
    "colab_type": "code",
    "id": "C32RSozpVNFC",
    "slideshow": {
     "slide_type": "fragment"
    }
   },
   "outputs": [],
   "source": [
    "def to_one_hot(labels, dimension=46):\n",
    "    results = np.zeros((len(labels), dimension))\n",
    "    for i, label in enumerate(labels):\n",
    "        results[i, label] = 1.\n",
    "    return results\n",
    "\n",
    "one_hot_train_labels = to_one_hot(train_labels)\n",
    "one_hot_test_labels = to_one_hot(test_labels)\n"
   ]
  },
  {
   "cell_type": "markdown",
   "metadata": {
    "colab_type": "text",
    "id": "GjCYTvDsVNFF",
    "slideshow": {
     "slide_type": "fragment"
    }
   },
   "source": [
    "Note that there is a built-in way to do this in Keras, which you’ve already seen in action in the MNIST example:"
   ]
  },
  {
   "cell_type": "code",
   "execution_count": 242,
   "metadata": {
    "colab": {},
    "colab_type": "code",
    "id": "wblPwb9GVNFF",
    "slideshow": {
     "slide_type": "fragment"
    }
   },
   "outputs": [],
   "source": [
    "from keras.utils.np_utils import to_categorical\n",
    "\n",
    "one_hot_train_labels = to_categorical(train_labels)\n",
    "one_hot_test_labels = to_categorical(test_labels)"
   ]
  },
  {
   "cell_type": "markdown",
   "metadata": {
    "colab_type": "text",
    "id": "m4q9EtZ-VNFI",
    "slideshow": {
     "slide_type": "slide"
    }
   },
   "source": [
    "### Building your network\n",
    "\n",
    "This topic-classification problem looks similar to the previous movie-review classification problem: in both cases, you’re trying to classify short snippets of text. But there is a new constraint here: the number of output classes has gone from 2 to 46. The dimensionality of the output space is much larger.\n",
    "\n"
   ]
  },
  {
   "cell_type": "markdown",
   "metadata": {
    "colab_type": "text",
    "id": "GNCNVKhnVNFK",
    "slideshow": {
     "slide_type": "subslide"
    }
   },
   "source": [
    "In a stack of ```Dense``` layers like that you’ve been using, each layer can only access information present in the output of the previous layer. If one layer drops some information relevant to the classification problem, this information can never be recovered by later layers: each layer can potentially become an information bottleneck. In the previous example, you used 16-dimensional intermediate layers, but a 16-dimensional space may be too limited to learn to separate 46 different classes: such small layers may act as information bottlenecks, permanently dropping relevant information.\n",
    "\n",
    "For this reason you’ll use larger layers. Let’s go with 64 units."
   ]
  },
  {
   "cell_type": "code",
   "execution_count": 243,
   "metadata": {
    "colab": {},
    "colab_type": "code",
    "id": "D6l81vNZVNFK",
    "slideshow": {
     "slide_type": "fragment"
    }
   },
   "outputs": [],
   "source": [
    "from keras import models\n",
    "from keras import layers\n",
    "\n",
    "model = models.Sequential()\n",
    "model.add(layers.Dense(64, activation='relu', input_shape=(10000,)))\n",
    "model.add(layers.Dense(64, activation='relu'))\n",
    "model.add(layers.Dense(46, activation='softmax'))"
   ]
  },
  {
   "cell_type": "markdown",
   "metadata": {
    "colab_type": "text",
    "id": "MZbC3rNgVNFP",
    "slideshow": {
     "slide_type": "subslide"
    }
   },
   "source": [
    "There are two other things you should note about this architecture:\n",
    "\n",
    "* You end the network with a ```Dense``` layer of size 46. This means for each input sample, the network will output a 46-dimensional vector. Each entry in this vector (each dimension) will encode a different output class.\n",
    "* The last layer uses a ```softmax``` activation. You saw this pattern in the MNIST example. It means the network will output a **probability distribution** over the 46 different output classes—for every input sample, the network will produce a 46-dimensional output vector, where ```output[i]``` is the probability that the sample belongs to class ```i```. The 46 scores will sum to 1.\n",
    "\n",
    "The best loss function to use in this case is ```categorical_crossentropy```. It measures the distance between two probability distributions: here, between the probability distribution output by the network and the true distribution of the labels. By minimizing the distance between these two distributions, you train the network to output something as close as possible to the true labels.\n",
    "\n"
   ]
  },
  {
   "cell_type": "code",
   "execution_count": 244,
   "metadata": {
    "colab": {},
    "colab_type": "code",
    "id": "ybW-gluhVNFQ",
    "slideshow": {
     "slide_type": "fragment"
    }
   },
   "outputs": [],
   "source": [
    "model.compile(optimizer='rmsprop',\n",
    "              loss='categorical_crossentropy',\n",
    "              metrics=['accuracy'])"
   ]
  },
  {
   "cell_type": "markdown",
   "metadata": {
    "colab_type": "text",
    "id": "YF9Uw5S3VNFS",
    "slideshow": {
     "slide_type": "slide"
    }
   },
   "source": [
    "### Validating your approach\n",
    "\n",
    "Let’s set apart 1,000 samples in the training data to use as a validation set.\n",
    "\n"
   ]
  },
  {
   "cell_type": "code",
   "execution_count": 245,
   "metadata": {
    "colab": {},
    "colab_type": "code",
    "id": "zqV7ztSrVNFT",
    "slideshow": {
     "slide_type": "fragment"
    }
   },
   "outputs": [],
   "source": [
    "x_val = x_train[:1000]\n",
    "partial_x_train = x_train[1000:]\n",
    "\n",
    "y_val = one_hot_train_labels[:1000]\n",
    "partial_y_train = one_hot_train_labels[1000:]"
   ]
  },
  {
   "cell_type": "markdown",
   "metadata": {
    "colab_type": "text",
    "id": "IrL99_xzVNFW",
    "slideshow": {
     "slide_type": "fragment"
    }
   },
   "source": [
    "Now, let’s train the network for 20 epochs.\n",
    "\n"
   ]
  },
  {
   "cell_type": "code",
   "execution_count": 246,
   "metadata": {
    "colab": {},
    "colab_type": "code",
    "id": "5ZE9ZsMeVNFX",
    "outputId": "6efb45ee-cf3a-4891-ee18-dce50c9b2229",
    "slideshow": {
     "slide_type": "fragment"
    }
   },
   "outputs": [
    {
     "name": "stdout",
     "output_type": "stream",
     "text": [
      "Train on 7982 samples, validate on 1000 samples\n",
      "Epoch 1/20\n",
      "7982/7982 [==============================] - 5s 672us/step - loss: 2.5322 - acc: 0.4955 - val_loss: 1.7208 - val_acc: 0.6120\n",
      "Epoch 2/20\n",
      "7982/7982 [==============================] - 2s 252us/step - loss: 1.4451 - acc: 0.6878 - val_loss: 1.3457 - val_acc: 0.7060\n",
      "Epoch 3/20\n",
      "7982/7982 [==============================] - 2s 237us/step - loss: 1.0951 - acc: 0.7657 - val_loss: 1.1714 - val_acc: 0.7430\n",
      "Epoch 4/20\n",
      "7982/7982 [==============================] - 2s 248us/step - loss: 0.8695 - acc: 0.8160 - val_loss: 1.0776 - val_acc: 0.7590\n",
      "Epoch 5/20\n",
      "7982/7982 [==============================] - 2s 298us/step - loss: 0.7032 - acc: 0.8475 - val_loss: 0.9848 - val_acc: 0.7830\n",
      "Epoch 6/20\n",
      "7982/7982 [==============================] - 2s 273us/step - loss: 0.5663 - acc: 0.8797 - val_loss: 0.9410 - val_acc: 0.8030\n",
      "Epoch 7/20\n",
      "7982/7982 [==============================] - 2s 234us/step - loss: 0.4578 - acc: 0.9050 - val_loss: 0.9081 - val_acc: 0.8010\n",
      "Epoch 8/20\n",
      "7982/7982 [==============================] - 2s 265us/step - loss: 0.3694 - acc: 0.9231 - val_loss: 0.9350 - val_acc: 0.7900\n",
      "Epoch 9/20\n",
      "7982/7982 [==============================] - 2s 289us/step - loss: 0.3033 - acc: 0.9311 - val_loss: 0.8910 - val_acc: 0.8090\n",
      "Epoch 10/20\n",
      "7982/7982 [==============================] - 2s 284us/step - loss: 0.2541 - acc: 0.9417 - val_loss: 0.9066 - val_acc: 0.8110\n",
      "Epoch 11/20\n",
      "7982/7982 [==============================] - 2s 268us/step - loss: 0.2187 - acc: 0.9469 - val_loss: 0.9174 - val_acc: 0.8130\n",
      "Epoch 12/20\n",
      "7982/7982 [==============================] - 2s 255us/step - loss: 0.1876 - acc: 0.9508 - val_loss: 0.9042 - val_acc: 0.8140\n",
      "Epoch 13/20\n",
      "7982/7982 [==============================] - 2s 284us/step - loss: 0.1700 - acc: 0.9525 - val_loss: 0.9321 - val_acc: 0.8090\n",
      "Epoch 14/20\n",
      "7982/7982 [==============================] - 2s 248us/step - loss: 0.1535 - acc: 0.9555 - val_loss: 0.9670 - val_acc: 0.8040\n",
      "Epoch 15/20\n",
      "7982/7982 [==============================] - 2s 264us/step - loss: 0.1392 - acc: 0.9559 - val_loss: 0.9679 - val_acc: 0.8140\n",
      "Epoch 16/20\n",
      "7982/7982 [==============================] - 2s 273us/step - loss: 0.1313 - acc: 0.9564 - val_loss: 1.0267 - val_acc: 0.8030\n",
      "Epoch 17/20\n",
      "7982/7982 [==============================] - 2s 243us/step - loss: 0.1217 - acc: 0.9582 - val_loss: 1.0253 - val_acc: 0.7970\n",
      "Epoch 18/20\n",
      "7982/7982 [==============================] - 2s 232us/step - loss: 0.1196 - acc: 0.9577 - val_loss: 1.0423 - val_acc: 0.8070\n",
      "Epoch 19/20\n",
      "7982/7982 [==============================] - 2s 248us/step - loss: 0.1139 - acc: 0.9594 - val_loss: 1.0974 - val_acc: 0.7960\n",
      "Epoch 20/20\n",
      "7982/7982 [==============================] - 2s 228us/step - loss: 0.1108 - acc: 0.9594 - val_loss: 1.0688 - val_acc: 0.8020\n"
     ]
    }
   ],
   "source": [
    "history = model.fit(partial_x_train,\n",
    "                    partial_y_train,\n",
    "                    epochs=20,\n",
    "                    batch_size=512,\n",
    "                    validation_data=(x_val, y_val)\n",
    "                   )"
   ]
  },
  {
   "cell_type": "markdown",
   "metadata": {
    "colab_type": "text",
    "id": "kVnWojTbVNFb",
    "slideshow": {
     "slide_type": "subslide"
    }
   },
   "source": [
    "And finally, let’s display its loss and accuracy curves."
   ]
  },
  {
   "cell_type": "code",
   "execution_count": 247,
   "metadata": {
    "colab": {},
    "colab_type": "code",
    "id": "J97BZfHsVNFb",
    "outputId": "cd433677-d8a1-439b-a315-f09f8c7ea68a",
    "slideshow": {
     "slide_type": "subslide"
    }
   },
   "outputs": [
    {
     "data": {
      "image/png": "[encoded data removed]",
      "text/plain": [
       "<matplotlib.figure.Figure at 0xf4fbd760f0>"
      ]
     },
     "metadata": {},
     "output_type": "display_data"
    }
   ],
   "source": [
    "import matplotlib.pyplot as plt\n",
    "\n",
    "loss = history.history['loss']\n",
    "val_loss = history.history['val_loss']\n",
    "\n",
    "epochs = range(1, len(loss) + 1)\n",
    "\n",
    "plt.plot(epochs, loss, 'bo', label='Training loss')\n",
    "plt.plot(epochs, val_loss, 'b', label='Validation loss')\n",
    "plt.title('Training and validation loss')\n",
    "plt.xlabel('Epochs')\n",
    "plt.ylabel('Loss')\n",
    "plt.legend()\n",
    "\n",
    "plt.show()"
   ]
  },
  {
   "cell_type": "code",
   "execution_count": 248,
   "metadata": {
    "colab": {},
    "colab_type": "code",
    "id": "luvMjnbRVNFh",
    "outputId": "24d66a53-d1be-4fe9-f576-b7abf7c7b7b0",
    "slideshow": {
     "slide_type": "subslide"
    }
   },
   "outputs": [
    {
     "data": {
      "image/png": "[encoded data removed]",
      "text/plain": [
       "<matplotlib.figure.Figure at 0xf4e4808a58>"
      ]
     },
     "metadata": {},
     "output_type": "display_data"
    }
   ],
   "source": [
    "plt.clf()\n",
    "\n",
    "acc = history.history['acc']\n",
    "val_acc = history.history['val_acc']\n",
    "\n",
    "plt.plot(epochs, acc, 'bo', label='Training acc')\n",
    "plt.plot(epochs, val_acc, 'b', label='Validation acc')\n",
    "plt.title('Training and validation accuracy')\n",
    "plt.xlabel('Epochs')\n",
    "plt.ylabel('Loss')\n",
    "plt.legend()\n",
    "\n",
    "plt.show()\n"
   ]
  },
  {
   "cell_type": "markdown",
   "metadata": {
    "colab_type": "text",
    "id": "QA9ER1iHVNFk",
    "slideshow": {
     "slide_type": "subslide"
    }
   },
   "source": [
    "When network begins overfit?"
   ]
  },
  {
   "cell_type": "markdown",
   "metadata": {
    "colab_type": "text",
    "id": "yXyG4WzWVNFk",
    "slideshow": {
     "slide_type": "subslide"
    }
   },
   "source": [
    "Let’s train a new network from scratch for nine epochs and then evaluate it on the test set."
   ]
  },
  {
   "cell_type": "code",
   "execution_count": 249,
   "metadata": {
    "colab": {},
    "colab_type": "code",
    "id": "QZbiy4uGVNFn",
    "outputId": "056bf6ff-bfd3-4007-d78f-c3a8c316b547",
    "slideshow": {
     "slide_type": "fragment"
    }
   },
   "outputs": [
    {
     "name": "stdout",
     "output_type": "stream",
     "text": [
      "Train on 7982 samples, validate on 1000 samples\n",
      "Epoch 1/9\n",
      "7982/7982 [==============================] - 5s 661us/step - loss: 2.5395 - acc: 0.5229 - val_loss: 1.6734 - val_acc: 0.6530\n",
      "Epoch 2/9\n",
      "7982/7982 [==============================] - 2s 256us/step - loss: 1.3708 - acc: 0.7122 - val_loss: 1.2747 - val_acc: 0.7220\n",
      "Epoch 3/9\n",
      "7982/7982 [==============================] - 2s 269us/step - loss: 1.0133 - acc: 0.7790 - val_loss: 1.1334 - val_acc: 0.7520\n",
      "Epoch 4/9\n",
      "7982/7982 [==============================] - 2s 250us/step - loss: 0.7981 - acc: 0.8250 - val_loss: 1.0543 - val_acc: 0.7590\n",
      "Epoch 5/9\n",
      "7982/7982 [==============================] - 2s 268us/step - loss: 0.6395 - acc: 0.8627 - val_loss: 0.9760 - val_acc: 0.7930\n",
      "Epoch 6/9\n",
      "7982/7982 [==============================] - 2s 240us/step - loss: 0.5118 - acc: 0.8923 - val_loss: 0.9091 - val_acc: 0.8150\n",
      "Epoch 7/9\n",
      "7982/7982 [==============================] - 2s 265us/step - loss: 0.4118 - acc: 0.9139 - val_loss: 0.8926 - val_acc: 0.8200\n",
      "Epoch 8/9\n",
      "7982/7982 [==============================] - 2s 252us/step - loss: 0.3352 - acc: 0.9288 - val_loss: 0.8725 - val_acc: 0.8270\n",
      "Epoch 9/9\n",
      "7982/7982 [==============================] - 2s 275us/step - loss: 0.2781 - acc: 0.9376 - val_loss: 0.9363 - val_acc: 0.8010\n",
      "2246/2246 [==============================] - 1s 276us/step\n"
     ]
    },
    {
     "data": {
      "text/plain": [
       "[1.0261685788790669, 0.7751558326443496]"
      ]
     },
     "execution_count": 249,
     "metadata": {},
     "output_type": "execute_result"
    }
   ],
   "source": [
    "model = models.Sequential()\n",
    "model.add(layers.Dense(64, activation='relu', input_shape=(10000,)))\n",
    "model.add(layers.Dense(64, activation='relu'))\n",
    "model.add(layers.Dense(46, activation='softmax'))\n",
    "\n",
    "model.compile(optimizer='rmsprop',\n",
    "              loss='categorical_crossentropy',\n",
    "              metrics=['accuracy'])\n",
    "model.fit(partial_x_train,\n",
    "          partial_y_train,\n",
    "          epochs=9,\n",
    "          batch_size=512,\n",
    "          validation_data=(x_val, y_val))\n",
    "results = model.evaluate(x_test, one_hot_test_labels)\n",
    "results"
   ]
  },
  {
   "cell_type": "markdown",
   "metadata": {
    "colab_type": "text",
    "id": "xd_wtN71VNFs",
    "slideshow": {
     "slide_type": "fragment"
    }
   },
   "source": [
    "This approach reaches an accuracy of ~78%. With a balanced binary classification problem, the accuracy reached by a purely random classifier would be 50%. But in this case it’s closer to 19%, so the results seem pretty good."
   ]
  },
  {
   "cell_type": "markdown",
   "metadata": {
    "colab_type": "text",
    "id": "Crefxt_JVNFu",
    "slideshow": {
     "slide_type": "slide"
    }
   },
   "source": [
    "### Generating predictions on new data\n",
    "\n",
    "You can verify that the ```predict``` method of the model instance returns a probability distribution over all 46 topics. Let’s generate topic predictions for all of the test data."
   ]
  },
  {
   "cell_type": "code",
   "execution_count": 250,
   "metadata": {
    "colab": {},
    "colab_type": "code",
    "id": "fSUkCrPBVNFv",
    "slideshow": {
     "slide_type": "fragment"
    }
   },
   "outputs": [],
   "source": [
    "# Generating predictions for new data\n",
    "predictions = model.predict(x_test)"
   ]
  },
  {
   "cell_type": "markdown",
   "metadata": {
    "colab_type": "text",
    "id": "QR8kdPHcVNFy",
    "slideshow": {
     "slide_type": "fragment"
    }
   },
   "source": [
    "Each entry in predictions is a vector of length 46 and coefficients in this vector sum to 1:"
   ]
  },
  {
   "cell_type": "code",
   "execution_count": 251,
   "metadata": {
    "colab": {},
    "colab_type": "code",
    "id": "YQL3jTi-VNFy",
    "outputId": "23fe0e10-f75f-477b-ee17-38fa6437167f",
    "slideshow": {
     "slide_type": "fragment"
    }
   },
   "outputs": [
    {
     "name": "stdout",
     "output_type": "stream",
     "text": [
      "Shape: (46,)\n",
      "Sum: 1.0000\n"
     ]
    }
   ],
   "source": [
    "print('Shape: {}'.format(predictions[0].shape))\n",
    "print('Sum: {:.4f}'.format(np.sum(predictions[0])))"
   ]
  },
  {
   "cell_type": "markdown",
   "metadata": {
    "colab_type": "text",
    "id": "mjFuXtdYVNF0",
    "slideshow": {
     "slide_type": "fragment"
    }
   },
   "source": [
    "The largest entry is the predicted class—the class with the highest probability:"
   ]
  },
  {
   "cell_type": "code",
   "execution_count": 252,
   "metadata": {
    "colab": {},
    "colab_type": "code",
    "id": "MBCA2KpvVNF0",
    "outputId": "31ab7dac-82f9-448c-f5ca-e31847401dd6",
    "slideshow": {
     "slide_type": "fragment"
    }
   },
   "outputs": [
    {
     "data": {
      "text/plain": [
       "3"
      ]
     },
     "execution_count": 252,
     "metadata": {},
     "output_type": "execute_result"
    }
   ],
   "source": [
    "np.argmax(predictions[0])"
   ]
  },
  {
   "cell_type": "markdown",
   "metadata": {
    "colab_type": "text",
    "id": "CJmQKvwcVNF2",
    "slideshow": {
     "slide_type": "slide"
    }
   },
   "source": [
    "### A different way to handle the labels and the loss\n",
    "\n",
    "We mentioned earlier that another way to encode the labels would be to cast them as an integer tensor, like this:"
   ]
  },
  {
   "cell_type": "code",
   "execution_count": 253,
   "metadata": {
    "colab": {},
    "colab_type": "code",
    "id": "MQ8itCWYVNF2",
    "slideshow": {
     "slide_type": "fragment"
    }
   },
   "outputs": [],
   "source": [
    "y_train = np.array(train_labels)\n",
    "y_test = np.array(test_labels)"
   ]
  },
  {
   "cell_type": "markdown",
   "metadata": {
    "colab_type": "text",
    "id": "vk3htBb5VNF4",
    "slideshow": {
     "slide_type": "fragment"
    }
   },
   "source": [
    "The only thing this approach would change is the choice of the loss function. The loss function ```categorical_crossentropy```, expects the labels to follow a categorical encoding. With integer labels, you should use ```sparse_categorical_crossentropy```:\n"
   ]
  },
  {
   "cell_type": "code",
   "execution_count": 254,
   "metadata": {
    "colab": {},
    "colab_type": "code",
    "id": "O23Kp19RVNF4",
    "slideshow": {
     "slide_type": "fragment"
    }
   },
   "outputs": [],
   "source": [
    "model.compile(optimizer='rmsprop',\n",
    "              loss='sparse_categorical_crossentropy',\n",
    "              metrics=['acc'])"
   ]
  },
  {
   "cell_type": "markdown",
   "metadata": {
    "colab_type": "text",
    "id": "2uWGjlVfVNF7",
    "slideshow": {
     "slide_type": "fragment"
    }
   },
   "source": [
    "This new loss function is still mathematically the same as ```categorical_crossentropy```; it just has a different interface.\n"
   ]
  },
  {
   "cell_type": "markdown",
   "metadata": {
    "colab_type": "text",
    "id": "1zAEGIoxVNF8",
    "slideshow": {
     "slide_type": "slide"
    }
   },
   "source": [
    "### The importance of having sufficiently large intermediate layers\n",
    "\n",
    "We mentioned earlier that because the final outputs are 46-dimensional, you should avoid intermediate layers with many fewer than 46 hidden units. Now let’s see what happens when you introduce an information bottleneck by having intermediate layers that are significantly less than 46-dimensional: for example, 4-dimensional."
   ]
  },
  {
   "cell_type": "code",
   "execution_count": 255,
   "metadata": {
    "colab": {},
    "colab_type": "code",
    "id": "2bDlV0X-VNF8",
    "outputId": "4479fa6b-3a8d-49bf-cf2f-8a91a1e37f59",
    "scrolled": true,
    "slideshow": {
     "slide_type": "fragment"
    }
   },
   "outputs": [
    {
     "name": "stdout",
     "output_type": "stream",
     "text": [
      "Train on 7982 samples, validate on 1000 samples\n",
      "Epoch 1/20\n",
      "7982/7982 [==============================] - 6s 693us/step - loss: 3.1699 - acc: 0.2424 - val_loss: 2.6158 - val_acc: 0.2720\n",
      "Epoch 2/20\n",
      "7982/7982 [==============================] - 3s 393us/step - loss: 2.0610 - acc: 0.5443 - val_loss: 1.7015 - val_acc: 0.5850\n",
      "Epoch 3/20\n",
      "7982/7982 [==============================] - 3s 374us/step - loss: 1.5012 - acc: 0.6230 - val_loss: 1.5110 - val_acc: 0.6410\n",
      "Epoch 4/20\n",
      "7982/7982 [==============================] - 3s 380us/step - loss: 1.2892 - acc: 0.6903 - val_loss: 1.4221 - val_acc: 0.6720\n",
      "Epoch 5/20\n",
      "7982/7982 [==============================] - 3s 372us/step - loss: 1.1460 - acc: 0.7157 - val_loss: 1.3649 - val_acc: 0.6810\n",
      "Epoch 6/20\n",
      "7982/7982 [==============================] - 3s 352us/step - loss: 1.0407 - acc: 0.7309 - val_loss: 1.3428 - val_acc: 0.6980\n",
      "Epoch 7/20\n",
      "7982/7982 [==============================] - 3s 361us/step - loss: 0.9598 - acc: 0.7419 - val_loss: 1.3417 - val_acc: 0.7000\n",
      "Epoch 8/20\n",
      "7982/7982 [==============================] - 3s 365us/step - loss: 0.8902 - acc: 0.7527 - val_loss: 1.3364 - val_acc: 0.7040\n",
      "Epoch 9/20\n",
      "7982/7982 [==============================] - 3s 367us/step - loss: 0.8263 - acc: 0.7684 - val_loss: 1.3607 - val_acc: 0.7130\n",
      "Epoch 10/20\n",
      "7982/7982 [==============================] - 3s 358us/step - loss: 0.7668 - acc: 0.7890 - val_loss: 1.3787 - val_acc: 0.7120\n",
      "Epoch 11/20\n",
      "7982/7982 [==============================] - 3s 356us/step - loss: 0.7125 - acc: 0.8066 - val_loss: 1.4055 - val_acc: 0.7150\n",
      "Epoch 12/20\n",
      "7982/7982 [==============================] - 3s 352us/step - loss: 0.6662 - acc: 0.8183 - val_loss: 1.4094 - val_acc: 0.7160\n",
      "Epoch 13/20\n",
      "7982/7982 [==============================] - 3s 355us/step - loss: 0.6228 - acc: 0.8316 - val_loss: 1.4586 - val_acc: 0.7130\n",
      "Epoch 14/20\n",
      "7982/7982 [==============================] - 3s 360us/step - loss: 0.5857 - acc: 0.8378 - val_loss: 1.4804 - val_acc: 0.7190\n",
      "Epoch 15/20\n",
      "7982/7982 [==============================] - 3s 355us/step - loss: 0.5520 - acc: 0.8444 - val_loss: 1.5226 - val_acc: 0.7130\n",
      "Epoch 16/20\n",
      "7982/7982 [==============================] - 3s 370us/step - loss: 0.5223 - acc: 0.8535 - val_loss: 1.5557 - val_acc: 0.7220\n",
      "Epoch 17/20\n",
      "7982/7982 [==============================] - 3s 372us/step - loss: 0.4957 - acc: 0.8629 - val_loss: 1.5946 - val_acc: 0.7150\n",
      "Epoch 18/20\n",
      "7982/7982 [==============================] - 3s 354us/step - loss: 0.4719 - acc: 0.8795 - val_loss: 1.6398 - val_acc: 0.7200\n",
      "Epoch 19/20\n",
      "7982/7982 [==============================] - 3s 354us/step - loss: 0.4472 - acc: 0.8841 - val_loss: 1.6721 - val_acc: 0.7140\n",
      "Epoch 20/20\n",
      "7982/7982 [==============================] - 3s 358us/step - loss: 0.4297 - acc: 0.8893 - val_loss: 1.7286 - val_acc: 0.7190\n"
     ]
    },
    {
     "data": {
      "text/plain": [
       "<keras.callbacks.History at 0xf4b2c062e8>"
      ]
     },
     "execution_count": 255,
     "metadata": {},
     "output_type": "execute_result"
    }
   ],
   "source": [
    "model = models.Sequential()\n",
    "model.add(layers.Dense(64, activation='relu', input_shape=(10000,)))\n",
    "model.add(layers.Dense(4, activation='relu'))\n",
    "model.add(layers.Dense(46, activation='softmax'))\n",
    "\n",
    "model.compile(optimizer='rmsprop',\n",
    "              loss='categorical_crossentropy',\n",
    "              metrics=['accuracy'])\n",
    "model.fit(partial_x_train,\n",
    "          partial_y_train,\n",
    "          epochs=20,\n",
    "          batch_size=128,\n",
    "          validation_data=(x_val, y_val))"
   ]
  },
  {
   "cell_type": "code",
   "execution_count": 256,
   "metadata": {
    "colab": {},
    "colab_type": "code",
    "id": "r1sjh3_7VNF_",
    "outputId": "3a8a9c82-b1bf-4d95-bf4c-d9d1678a4ad3",
    "slideshow": {
     "slide_type": "subslide"
    }
   },
   "outputs": [
    {
     "name": "stdout",
     "output_type": "stream",
     "text": [
      "2246/2246 [==============================] - 1s 259us/step\n"
     ]
    },
    {
     "data": {
      "text/plain": [
       "[1.9637535590734847, 0.6901157613535174]"
      ]
     },
     "execution_count": 256,
     "metadata": {},
     "output_type": "execute_result"
    }
   ],
   "source": [
    "results = model.evaluate(x_test, one_hot_test_labels)\n",
    "results"
   ]
  },
  {
   "cell_type": "markdown",
   "metadata": {
    "colab_type": "text",
    "id": "N9bdZxXdVNGC",
    "slideshow": {
     "slide_type": "fragment"
    }
   },
   "source": [
    "The network now peaks at ~69% validation accuracy, an 8% absolute drop. This drop is mostly due to the fact that you’re trying to compress a lot of information (enough information to recover the separation hyperplanes of 46 classes) into an intermediate space that is too low-dimensional. The network is able to cram most of the necessary information into these eight-dimensional representations, but not all of it.\n",
    "\n"
   ]
  },
  {
   "cell_type": "markdown",
   "metadata": {
    "colab_type": "text",
    "id": "jwDjx8zzVNGE",
    "slideshow": {
     "slide_type": "slide"
    }
   },
   "source": [
    "### Further experiments (Hometask)\n",
    "\n",
    "* Try using larger or smaller layers: 32 units, 128 units, and so on.\n",
    "* You used two hidden layers. Now try using a single hidden layer, or three hidden layers."
   ]
  },
  {
   "cell_type": "code",
   "execution_count": 257,
   "metadata": {},
   "outputs": [],
   "source": [
    "def model_multiclass(hidden_units=[64,64]):\n",
    "    model = models.Sequential()\n",
    "    model.add(layers.Dense(hidden_units[0], activation='relu', input_shape=(10000,)))\n",
    "    if len(hidden_units)>1:\n",
    "        for unit in hidden_units[1:]:\n",
    "            model.add(layers.Dense(unit, activation='relu'))\n",
    "    model.add(layers.Dense(46, activation='softmax'))\n",
    "\n",
    "    model.compile(optimizer='rmsprop',\n",
    "                  loss='categorical_crossentropy',\n",
    "                  metrics=['accuracy'])\n",
    "    model.fit(partial_x_train,\n",
    "              partial_y_train,\n",
    "              epochs=20,\n",
    "              batch_size=128,\n",
    "              validation_data=(x_val, y_val))\n",
    "    results = model.evaluate(x_test, one_hot_test_labels)\n",
    "\n",
    "    return results"
   ]
  },
  {
   "cell_type": "code",
   "execution_count": 258,
   "metadata": {},
   "outputs": [
    {
     "name": "stdout",
     "output_type": "stream",
     "text": [
      "Train on 7982 samples, validate on 1000 samples\n",
      "Epoch 1/20\n",
      "7982/7982 [==============================] - 7s 842us/step - loss: 1.6587 - acc: 0.6472 - val_loss: 1.1530 - val_acc: 0.7470\n",
      "Epoch 2/20\n",
      "7982/7982 [==============================] - 4s 489us/step - loss: 0.7945 - acc: 0.8338 - val_loss: 1.0054 - val_acc: 0.7780\n",
      "Epoch 3/20\n",
      "7982/7982 [==============================] - 4s 494us/step - loss: 0.4820 - acc: 0.8999 - val_loss: 0.8508 - val_acc: 0.8210\n",
      "Epoch 4/20\n",
      "7982/7982 [==============================] - 4s 494us/step - loss: 0.3213 - acc: 0.9291 - val_loss: 0.8649 - val_acc: 0.8300\n",
      "Epoch 5/20\n",
      "7982/7982 [==============================] - 4s 497us/step - loss: 0.2395 - acc: 0.9424 - val_loss: 0.9465 - val_acc: 0.8120\n",
      "Epoch 6/20\n",
      "7982/7982 [==============================] - 4s 497us/step - loss: 0.2021 - acc: 0.9505 - val_loss: 0.9497 - val_acc: 0.8170\n",
      "Epoch 7/20\n",
      "7982/7982 [==============================] - 4s 530us/step - loss: 0.1749 - acc: 0.9516 - val_loss: 1.0073 - val_acc: 0.8040\n",
      "Epoch 8/20\n",
      "7982/7982 [==============================] - 4s 537us/step - loss: 0.1554 - acc: 0.9557 - val_loss: 1.0619 - val_acc: 0.8020\n",
      "Epoch 9/20\n",
      "7982/7982 [==============================] - 4s 538us/step - loss: 0.1480 - acc: 0.9545 - val_loss: 1.1570 - val_acc: 0.7850\n",
      "Epoch 10/20\n",
      "7982/7982 [==============================] - 4s 532us/step - loss: 0.1373 - acc: 0.9546 - val_loss: 1.0134 - val_acc: 0.8130\n",
      "Epoch 11/20\n",
      "7982/7982 [==============================] - 5s 589us/step - loss: 0.1312 - acc: 0.9563 - val_loss: 1.1027 - val_acc: 0.8020\n",
      "Epoch 12/20\n",
      "7982/7982 [==============================] - 5s 564us/step - loss: 0.1258 - acc: 0.9550 - val_loss: 1.0657 - val_acc: 0.8060\n",
      "Epoch 13/20\n",
      "7982/7982 [==============================] - 5s 571us/step - loss: 0.1184 - acc: 0.9584 - val_loss: 1.1647 - val_acc: 0.7950\n",
      "Epoch 14/20\n",
      "7982/7982 [==============================] - 4s 563us/step - loss: 0.1137 - acc: 0.9560 - val_loss: 1.1232 - val_acc: 0.8110\n",
      "Epoch 15/20\n",
      "7982/7982 [==============================] - 5s 567us/step - loss: 0.1120 - acc: 0.9560 - val_loss: 1.1947 - val_acc: 0.7980\n",
      "Epoch 16/20\n",
      "7982/7982 [==============================] - 4s 550us/step - loss: 0.1063 - acc: 0.9558 - val_loss: 1.1727 - val_acc: 0.8080\n",
      "Epoch 17/20\n",
      "7982/7982 [==============================] - 5s 575us/step - loss: 0.1033 - acc: 0.9567 - val_loss: 1.3032 - val_acc: 0.7780\n",
      "Epoch 18/20\n",
      "7982/7982 [==============================] - 4s 547us/step - loss: 0.1005 - acc: 0.9554 - val_loss: 1.2112 - val_acc: 0.7950\n",
      "Epoch 19/20\n",
      "7982/7982 [==============================] - 4s 552us/step - loss: 0.0957 - acc: 0.9567 - val_loss: 1.2592 - val_acc: 0.8040\n",
      "Epoch 20/20\n",
      "7982/7982 [==============================] - 4s 549us/step - loss: 0.0947 - acc: 0.9575 - val_loss: 1.3019 - val_acc: 0.7910\n",
      "2246/2246 [==============================] - 1s 395us/step\n"
     ]
    },
    {
     "data": {
      "text/plain": [
       "[1.5460947742445175, 0.7724844167408726]"
      ]
     },
     "execution_count": 258,
     "metadata": {},
     "output_type": "execute_result"
    }
   ],
   "source": [
    "#two HU [128,64]\n",
    "\n",
    "model_multiclass([128,64])"
   ]
  },
  {
   "cell_type": "code",
   "execution_count": 259,
   "metadata": {},
   "outputs": [
    {
     "name": "stdout",
     "output_type": "stream",
     "text": [
      "Train on 7982 samples, validate on 1000 samples\n",
      "Epoch 1/20\n",
      "7982/7982 [==============================] - 7s 885us/step - loss: 1.7006 - acc: 0.6007 - val_loss: 1.2705 - val_acc: 0.7120\n",
      "Epoch 2/20\n",
      "7982/7982 [==============================] - 3s 438us/step - loss: 0.9665 - acc: 0.7684 - val_loss: 1.0685 - val_acc: 0.7620\n",
      "Epoch 3/20\n",
      "7982/7982 [==============================] - 3s 434us/step - loss: 0.6448 - acc: 0.8480 - val_loss: 1.0193 - val_acc: 0.7820\n",
      "Epoch 4/20\n",
      "7982/7982 [==============================] - 4s 447us/step - loss: 0.4509 - acc: 0.8929 - val_loss: 1.1055 - val_acc: 0.7830\n",
      "Epoch 5/20\n",
      "7982/7982 [==============================] - 4s 442us/step - loss: 0.3190 - acc: 0.9208 - val_loss: 1.1357 - val_acc: 0.7830\n",
      "Epoch 6/20\n",
      "7982/7982 [==============================] - 3s 437us/step - loss: 0.2524 - acc: 0.9349 - val_loss: 1.2521 - val_acc: 0.7950\n",
      "Epoch 7/20\n",
      "7982/7982 [==============================] - 4s 453us/step - loss: 0.1906 - acc: 0.9494 - val_loss: 1.3933 - val_acc: 0.7620\n",
      "Epoch 8/20\n",
      "7982/7982 [==============================] - 3s 433us/step - loss: 0.1721 - acc: 0.9506 - val_loss: 1.2369 - val_acc: 0.7860\n",
      "Epoch 9/20\n",
      "7982/7982 [==============================] - 3s 434us/step - loss: 0.1468 - acc: 0.9540 - val_loss: 1.4550 - val_acc: 0.7830\n",
      "Epoch 10/20\n",
      "7982/7982 [==============================] - 4s 445us/step - loss: 0.1361 - acc: 0.9540 - val_loss: 1.5060 - val_acc: 0.7670\n",
      "Epoch 11/20\n",
      "7982/7982 [==============================] - 3s 427us/step - loss: 0.1250 - acc: 0.9565 - val_loss: 1.3833 - val_acc: 0.7920\n",
      "Epoch 12/20\n",
      "7982/7982 [==============================] - 4s 444us/step - loss: 0.1087 - acc: 0.9570 - val_loss: 1.5611 - val_acc: 0.7760\n",
      "Epoch 13/20\n",
      "7982/7982 [==============================] - 4s 440us/step - loss: 0.1088 - acc: 0.9587 - val_loss: 1.5453 - val_acc: 0.7840\n",
      "Epoch 14/20\n",
      "7982/7982 [==============================] - 3s 426us/step - loss: 0.1008 - acc: 0.9555 - val_loss: 1.6566 - val_acc: 0.7820\n",
      "Epoch 15/20\n",
      "7982/7982 [==============================] - 4s 443us/step - loss: 0.0959 - acc: 0.9575 - val_loss: 1.7838 - val_acc: 0.7700\n",
      "Epoch 16/20\n",
      "7982/7982 [==============================] - 3s 432us/step - loss: 0.0924 - acc: 0.9590 - val_loss: 2.5503 - val_acc: 0.5970\n",
      "Epoch 17/20\n",
      "7982/7982 [==============================] - 3s 432us/step - loss: 0.0901 - acc: 0.9582 - val_loss: 1.7744 - val_acc: 0.7750\n",
      "Epoch 18/20\n",
      "7982/7982 [==============================] - 3s 434us/step - loss: 0.0848 - acc: 0.9597 - val_loss: 1.7687 - val_acc: 0.7660\n",
      "Epoch 19/20\n",
      "7982/7982 [==============================] - 3s 436us/step - loss: 0.0858 - acc: 0.9572 - val_loss: 1.8436 - val_acc: 0.7680\n",
      "Epoch 20/20\n",
      "7982/7982 [==============================] - 3s 435us/step - loss: 0.0793 - acc: 0.9617 - val_loss: 1.7521 - val_acc: 0.7830\n",
      "2246/2246 [==============================] - 1s 333us/step\n"
     ]
    },
    {
     "data": {
      "text/plain": [
       "[2.104450701393406, 0.7720391808188821]"
      ]
     },
     "execution_count": 259,
     "metadata": {},
     "output_type": "execute_result"
    }
   ],
   "source": [
    "#four HU [64,128,512,128]\n",
    "\n",
    "model_multiclass([64,128,512,128])"
   ]
  },
  {
   "cell_type": "code",
   "execution_count": 260,
   "metadata": {},
   "outputs": [
    {
     "name": "stdout",
     "output_type": "stream",
     "text": [
      "Train on 7982 samples, validate on 1000 samples\n",
      "Epoch 1/20\n",
      "7982/7982 [==============================] - 14s 2ms/step - loss: 1.2913 - acc: 0.7245 - val_loss: 0.8785 - val_acc: 0.8200\n",
      "Epoch 2/20\n",
      "7982/7982 [==============================] - 11s 1ms/step - loss: 0.4895 - acc: 0.8969 - val_loss: 0.7879 - val_acc: 0.8490\n",
      "Epoch 3/20\n",
      "7982/7982 [==============================] - 11s 1ms/step - loss: 0.2828 - acc: 0.9374 - val_loss: 0.8143 - val_acc: 0.8300\n",
      "Epoch 4/20\n",
      "7982/7982 [==============================] - 11s 1ms/step - loss: 0.2132 - acc: 0.9485 - val_loss: 0.8724 - val_acc: 0.8200\n",
      "Epoch 5/20\n",
      "7982/7982 [==============================] - 11s 1ms/step - loss: 0.1845 - acc: 0.9515 - val_loss: 0.9099 - val_acc: 0.8210\n",
      "Epoch 6/20\n",
      "7982/7982 [==============================] - 12s 1ms/step - loss: 0.1600 - acc: 0.9538 - val_loss: 1.0068 - val_acc: 0.8050\n",
      "Epoch 7/20\n",
      "7982/7982 [==============================] - 11s 1ms/step - loss: 0.1492 - acc: 0.9538 - val_loss: 1.0161 - val_acc: 0.8050\n",
      "Epoch 8/20\n",
      "7982/7982 [==============================] - 11s 1ms/step - loss: 0.1368 - acc: 0.9536 - val_loss: 1.0459 - val_acc: 0.8040\n",
      "Epoch 9/20\n",
      "7982/7982 [==============================] - 11s 1ms/step - loss: 0.1246 - acc: 0.9557 - val_loss: 1.1211 - val_acc: 0.8020\n",
      "Epoch 10/20\n",
      "7982/7982 [==============================] - 11s 1ms/step - loss: 0.1155 - acc: 0.9538 - val_loss: 1.1417 - val_acc: 0.7960\n",
      "Epoch 11/20\n",
      "7982/7982 [==============================] - 11s 1ms/step - loss: 0.1063 - acc: 0.9541 - val_loss: 1.2163 - val_acc: 0.8000\n",
      "Epoch 12/20\n",
      "7982/7982 [==============================] - 11s 1ms/step - loss: 0.1012 - acc: 0.9562 - val_loss: 1.2578 - val_acc: 0.8000\n",
      "Epoch 13/20\n",
      "7982/7982 [==============================] - 11s 1ms/step - loss: 0.0974 - acc: 0.9567 - val_loss: 1.3267 - val_acc: 0.7900\n",
      "Epoch 14/20\n",
      "7982/7982 [==============================] - 11s 1ms/step - loss: 0.0941 - acc: 0.9555 - val_loss: 1.3461 - val_acc: 0.7910\n",
      "Epoch 15/20\n",
      "7982/7982 [==============================] - 11s 1ms/step - loss: 0.0869 - acc: 0.9590 - val_loss: 1.4288 - val_acc: 0.7920\n",
      "Epoch 16/20\n",
      "7982/7982 [==============================] - 11s 1ms/step - loss: 0.0859 - acc: 0.9569 - val_loss: 1.4891 - val_acc: 0.7880\n",
      "Epoch 17/20\n",
      "7982/7982 [==============================] - 11s 1ms/step - loss: 0.0829 - acc: 0.9587 - val_loss: 1.5520 - val_acc: 0.7930\n",
      "Epoch 18/20\n",
      "7982/7982 [==============================] - 11s 1ms/step - loss: 0.0819 - acc: 0.9567 - val_loss: 1.5704 - val_acc: 0.7930\n",
      "Epoch 19/20\n",
      "7982/7982 [==============================] - 11s 1ms/step - loss: 0.0810 - acc: 0.9567 - val_loss: 1.5853 - val_acc: 0.7910\n",
      "Epoch 20/20\n",
      "7982/7982 [==============================] - 11s 1ms/step - loss: 0.0796 - acc: 0.9574 - val_loss: 1.6240 - val_acc: 0.7930\n",
      "2246/2246 [==============================] - 1s 483us/step\n"
     ]
    },
    {
     "data": {
      "text/plain": [
       "[1.8544648693590853, 0.7831700801955518]"
      ]
     },
     "execution_count": 260,
     "metadata": {},
     "output_type": "execute_result"
    }
   ],
   "source": [
    "#one HU [512]\n",
    "\n",
    "model_multiclass([512])"
   ]
  },
  {
   "cell_type": "code",
   "execution_count": 261,
   "metadata": {},
   "outputs": [
    {
     "name": "stdout",
     "output_type": "stream",
     "text": [
      "Train on 7982 samples, validate on 1000 samples\n",
      "Epoch 1/20\n",
      "7982/7982 [==============================] - 6s 694us/step - loss: 1.7904 - acc: 0.6391 - val_loss: 1.2056 - val_acc: 0.7340\n",
      "Epoch 2/20\n",
      "7982/7982 [==============================] - 3s 337us/step - loss: 0.9296 - acc: 0.8028 - val_loss: 0.9671 - val_acc: 0.8060\n",
      "Epoch 3/20\n",
      "7982/7982 [==============================] - 3s 334us/step - loss: 0.6347 - acc: 0.8673 - val_loss: 0.8626 - val_acc: 0.8150\n",
      "Epoch 4/20\n",
      "7982/7982 [==============================] - 3s 342us/step - loss: 0.4535 - acc: 0.9060 - val_loss: 0.8284 - val_acc: 0.8230\n",
      "Epoch 5/20\n",
      "7982/7982 [==============================] - 3s 337us/step - loss: 0.3358 - acc: 0.9282 - val_loss: 0.8204 - val_acc: 0.8220\n",
      "Epoch 6/20\n",
      "7982/7982 [==============================] - 3s 342us/step - loss: 0.2629 - acc: 0.9416 - val_loss: 0.8310 - val_acc: 0.8180\n",
      "Epoch 7/20\n",
      "7982/7982 [==============================] - 3s 353us/step - loss: 0.2155 - acc: 0.9484 - val_loss: 0.8350 - val_acc: 0.8220\n",
      "Epoch 8/20\n",
      "7982/7982 [==============================] - 3s 341us/step - loss: 0.1828 - acc: 0.9504 - val_loss: 0.8893 - val_acc: 0.8190\n",
      "Epoch 9/20\n",
      "7982/7982 [==============================] - 3s 339us/step - loss: 0.1633 - acc: 0.9548 - val_loss: 0.8829 - val_acc: 0.8170\n",
      "Epoch 10/20\n",
      "7982/7982 [==============================] - 3s 341us/step - loss: 0.1462 - acc: 0.9562 - val_loss: 0.9123 - val_acc: 0.8170\n",
      "Epoch 11/20\n",
      "7982/7982 [==============================] - 3s 342us/step - loss: 0.1339 - acc: 0.9550 - val_loss: 0.9749 - val_acc: 0.8040\n",
      "Epoch 12/20\n",
      "7982/7982 [==============================] - 3s 336us/step - loss: 0.1288 - acc: 0.9570 - val_loss: 0.9830 - val_acc: 0.8100\n",
      "Epoch 13/20\n",
      "7982/7982 [==============================] - 3s 341us/step - loss: 0.1224 - acc: 0.9549 - val_loss: 0.9981 - val_acc: 0.8050\n",
      "Epoch 14/20\n",
      "7982/7982 [==============================] - 3s 346us/step - loss: 0.1192 - acc: 0.9569 - val_loss: 1.0273 - val_acc: 0.8060\n",
      "Epoch 15/20\n",
      "7982/7982 [==============================] - 3s 340us/step - loss: 0.1119 - acc: 0.9558 - val_loss: 1.0572 - val_acc: 0.8040\n",
      "Epoch 16/20\n",
      "7982/7982 [==============================] - 3s 338us/step - loss: 0.1072 - acc: 0.9579 - val_loss: 1.0523 - val_acc: 0.8100\n",
      "Epoch 17/20\n",
      "7982/7982 [==============================] - 3s 337us/step - loss: 0.1082 - acc: 0.9580 - val_loss: 1.1452 - val_acc: 0.8020\n",
      "Epoch 18/20\n",
      "7982/7982 [==============================] - 3s 341us/step - loss: 0.1069 - acc: 0.9559 - val_loss: 1.1576 - val_acc: 0.7990\n",
      "Epoch 19/20\n",
      "7982/7982 [==============================] - 3s 355us/step - loss: 0.1019 - acc: 0.9585 - val_loss: 1.1422 - val_acc: 0.8090\n",
      "Epoch 20/20\n",
      "7982/7982 [==============================] - 3s 349us/step - loss: 0.1015 - acc: 0.9568 - val_loss: 1.2037 - val_acc: 0.7900\n",
      "2246/2246 [==============================] - 1s 274us/step\n"
     ]
    },
    {
     "data": {
      "text/plain": [
       "[1.3856020014092845, 0.7831700801955518]"
      ]
     },
     "execution_count": 261,
     "metadata": {},
     "output_type": "execute_result"
    }
   ],
   "source": [
    "#one HU [64]\n",
    "\n",
    "model_multiclass([64])"
   ]
  },
  {
   "cell_type": "code",
   "execution_count": 262,
   "metadata": {},
   "outputs": [
    {
     "name": "stdout",
     "output_type": "stream",
     "text": [
      "Train on 7982 samples, validate on 1000 samples\n",
      "Epoch 1/20\n",
      "7982/7982 [==============================] - 16s 2ms/step - loss: 1.3820 - acc: 0.6785 - val_loss: 0.9537 - val_acc: 0.7930\n",
      "Epoch 2/20\n",
      "7982/7982 [==============================] - 12s 2ms/step - loss: 0.5712 - acc: 0.8728 - val_loss: 0.8621 - val_acc: 0.8180\n",
      "Epoch 3/20\n",
      "7982/7982 [==============================] - 12s 2ms/step - loss: 0.2920 - acc: 0.9346 - val_loss: 0.9785 - val_acc: 0.8150\n",
      "Epoch 4/20\n",
      "7982/7982 [==============================] - 12s 2ms/step - loss: 0.2018 - acc: 0.9485 - val_loss: 1.0514 - val_acc: 0.8010\n",
      "Epoch 5/20\n",
      "7982/7982 [==============================] - 12s 2ms/step - loss: 0.1629 - acc: 0.9520 - val_loss: 1.1523 - val_acc: 0.7860\n",
      "Epoch 6/20\n",
      "7982/7982 [==============================] - 12s 2ms/step - loss: 0.1402 - acc: 0.9525 - val_loss: 1.2648 - val_acc: 0.7830\n",
      "Epoch 7/20\n",
      "7982/7982 [==============================] - 13s 2ms/step - loss: 0.1205 - acc: 0.9544 - val_loss: 1.2047 - val_acc: 0.8110\n",
      "Epoch 8/20\n",
      "7982/7982 [==============================] - 12s 2ms/step - loss: 0.1056 - acc: 0.9553 - val_loss: 1.4056 - val_acc: 0.8050\n",
      "Epoch 9/20\n",
      "7982/7982 [==============================] - 12s 2ms/step - loss: 0.0974 - acc: 0.9562 - val_loss: 1.4582 - val_acc: 0.8040\n",
      "Epoch 10/20\n",
      "7982/7982 [==============================] - 12s 2ms/step - loss: 0.0896 - acc: 0.9567 - val_loss: 1.4601 - val_acc: 0.8020\n",
      "Epoch 11/20\n",
      "7982/7982 [==============================] - 12s 2ms/step - loss: 0.0825 - acc: 0.9593 - val_loss: 1.5160 - val_acc: 0.8090\n",
      "Epoch 12/20\n",
      "7982/7982 [==============================] - 12s 2ms/step - loss: 0.0854 - acc: 0.9568 - val_loss: 1.5865 - val_acc: 0.8090\n",
      "Epoch 13/20\n",
      "7982/7982 [==============================] - 12s 2ms/step - loss: 0.0764 - acc: 0.9604 - val_loss: 1.7594 - val_acc: 0.7960\n",
      "Epoch 14/20\n",
      "7982/7982 [==============================] - 12s 2ms/step - loss: 0.0758 - acc: 0.9553 - val_loss: 1.7585 - val_acc: 0.8090\n",
      "Epoch 15/20\n",
      "7982/7982 [==============================] - 12s 2ms/step - loss: 0.0723 - acc: 0.9605 - val_loss: 1.7965 - val_acc: 0.8040\n",
      "Epoch 16/20\n",
      "7982/7982 [==============================] - 12s 2ms/step - loss: 0.0726 - acc: 0.9593 - val_loss: 1.8372 - val_acc: 0.8050\n",
      "Epoch 17/20\n",
      "7982/7982 [==============================] - 12s 2ms/step - loss: 0.0844 - acc: 0.9565 - val_loss: 1.7938 - val_acc: 0.7950\n",
      "Epoch 18/20\n",
      "7982/7982 [==============================] - 12s 2ms/step - loss: 0.0688 - acc: 0.9580 - val_loss: 1.7675 - val_acc: 0.8080\n",
      "Epoch 19/20\n",
      "7982/7982 [==============================] - 12s 2ms/step - loss: 0.0671 - acc: 0.9598 - val_loss: 1.8608 - val_acc: 0.8060\n",
      "Epoch 20/20\n",
      "7982/7982 [==============================] - 13s 2ms/step - loss: 0.0738 - acc: 0.9582 - val_loss: 1.8993 - val_acc: 0.8040\n",
      "2246/2246 [==============================] - 1s 581us/step\n"
     ]
    },
    {
     "data": {
      "text/plain": [
       "[2.166380277193771, 0.7827248442204849]"
      ]
     },
     "execution_count": 262,
     "metadata": {},
     "output_type": "execute_result"
    }
   ],
   "source": [
    "#two HU [512, 1024]\n",
    "\n",
    "model_multiclass([512,1024])"
   ]
  },
  {
   "cell_type": "markdown",
   "metadata": {},
   "source": [
    "### !Выводы\n",
    "\n",
    "* Лучше всего результаты при небольшом количестве слоев (1-2) и HU >=64. Это связано с тем, что задача относительно несложная и датасет небольшой, поэтому не нуждается в большом количестве слоев. При этом, количество HU лучше держать ближе непосредственно к количеству инпутов, но не меньше, так как это позволяет наиболее оптимально их представлять. HU >64 по результатам вышли очень близко, но все же немного хуже, чем 64 "
   ]
  },
  {
   "cell_type": "markdown",
   "metadata": {
    "colab_type": "text",
    "id": "7TO59PYKVNGE",
    "slideshow": {
     "slide_type": "slide"
    }
   },
   "source": [
    "### Wrapping up\n",
    "\n",
    "* If you’re trying to classify data points among N classes, your network should end with a ```Dense``` layer of size N.\n"
   ]
  },
  {
   "cell_type": "markdown",
   "metadata": {
    "colab_type": "text",
    "id": "kpuW92F9VNGF",
    "slideshow": {
     "slide_type": "fragment"
    }
   },
   "source": [
    "* In a single-label, multiclass classification problem, your network should end with a ```softmax``` activation so that it will output a probability distribution over the N output classes.\n"
   ]
  },
  {
   "cell_type": "markdown",
   "metadata": {
    "colab_type": "text",
    "id": "QGpz8IskVNGF",
    "slideshow": {
     "slide_type": "fragment"
    }
   },
   "source": [
    "* Categorical crossentropy is almost always the loss function you should use for such problems. It minimizes the distance between the probability distributions output by the network and the true distribution of the targets.\n"
   ]
  },
  {
   "cell_type": "markdown",
   "metadata": {
    "colab_type": "text",
    "id": "QUE5UlYaVNGG",
    "slideshow": {
     "slide_type": "subslide"
    }
   },
   "source": [
    "* There are two ways to handle labels in multiclass classification:\n",
    "     * Encoding the labels via categorical encoding (also known as one-hot encoding) and using ```categorical_crossentropy``` as a loss function\n",
    "     \n",
    "     * Encoding the labels as integers and using the ```sparse_categorical_crossentropy``` loss function\n"
   ]
  },
  {
   "cell_type": "markdown",
   "metadata": {
    "colab_type": "text",
    "id": "jjUviO9DVNGG",
    "slideshow": {
     "slide_type": "fragment"
    }
   },
   "source": [
    "* If you need to classify data into a large number of categories, you should avoid creating information bottlenecks in your network due to intermediate layers that are too small."
   ]
  },
  {
   "cell_type": "markdown",
   "metadata": {
    "colab_type": "text",
    "id": "V426k-CSVNGH",
    "slideshow": {
     "slide_type": "slide"
    }
   },
   "source": [
    "## Predicting house prices: a regression example\n",
    "\n",
    "The two previous examples were considered classification problems, where the goal was to predict a single discrete label of an input data point. Another common type of machine-learning problem is regression, which consists of predicting a continuous value instead of a discrete label: for instance, predicting the temperature tomorrow, given meteorological data; or predicting the time that a software project will take to complete, given its specifications.\n",
    "\n"
   ]
  },
  {
   "cell_type": "markdown",
   "metadata": {
    "colab_type": "text",
    "id": "B3QoxLMuVNGH",
    "slideshow": {
     "slide_type": "slide"
    }
   },
   "source": [
    "### The Boston Housing Price dataset\n",
    "\n",
    "\n",
    "You’ll attempt to predict the median price of homes in a given Boston suburb in the mid-1970s, given data points about the suburb at the time, such as the crime rate, the local property tax rate, and so on. The dataset you’ll use has an interesting difference from the two previous examples. It has relatively few data points: only 506, split between 404 training samples and 102 test samples. And each feature in the input data (for example, the crime rate) has a different scale. For instance, some values are proportions, which take values between 0 and 1; others take values between 1 and 12, others between 0 and 100, and so on.\n",
    "\n"
   ]
  },
  {
   "cell_type": "code",
   "execution_count": 224,
   "metadata": {
    "colab": {},
    "colab_type": "code",
    "id": "Ed9VqZDMVNGI",
    "slideshow": {
     "slide_type": "subslide"
    }
   },
   "outputs": [
    {
     "name": "stdout",
     "output_type": "stream",
     "text": [
      "Downloading data from https://s3.amazonaws.com/keras-datasets/boston_housing.npz\n",
      "57344/57026 [==============================] - 0s 3us/step\n"
     ]
    }
   ],
   "source": [
    "from keras.datasets import boston_housing\n",
    "\n",
    "(train_data, train_targets), (test_data, test_targets) = boston_housing.load_data()"
   ]
  },
  {
   "cell_type": "markdown",
   "metadata": {
    "colab_type": "text",
    "id": "FhKGVPgcVNGK",
    "slideshow": {
     "slide_type": "fragment"
    }
   },
   "source": [
    "Let’s look at the data:"
   ]
  },
  {
   "cell_type": "code",
   "execution_count": 225,
   "metadata": {
    "colab": {},
    "colab_type": "code",
    "id": "T5EWtzt7VNGK",
    "outputId": "9f0425c3-ae69-4426-9bde-2cf2a7143701",
    "slideshow": {
     "slide_type": "fragment"
    }
   },
   "outputs": [
    {
     "name": "stdout",
     "output_type": "stream",
     "text": [
      "Shape of train data: (404, 13)\n",
      "Shape of test data: (102, 13)\n"
     ]
    }
   ],
   "source": [
    "print('Shape of train data: {}'.format(train_data.shape))\n",
    "print('Shape of test data: {}'.format(test_data.shape))"
   ]
  },
  {
   "cell_type": "markdown",
   "metadata": {
    "colab_type": "text",
    "id": "MF2GDPoTVNGM",
    "slideshow": {
     "slide_type": "fragment"
    }
   },
   "source": [
    "The targets are the median values of owner-occupied homes, in thousands of dollars:\n",
    "\n"
   ]
  },
  {
   "cell_type": "code",
   "execution_count": 226,
   "metadata": {
    "colab": {},
    "colab_type": "code",
    "id": "GDLKtZ1RVNGM",
    "outputId": "16f69aac-68a6-4433-e5e4-a78d10c90e9e",
    "slideshow": {
     "slide_type": "fragment"
    }
   },
   "outputs": [
    {
     "data": {
      "text/plain": [
       "array([15.2, 42.3, 50. , 21.1, 17.7, 18.5, 11.3, 15.6, 15.6, 14.4])"
      ]
     },
     "execution_count": 226,
     "metadata": {},
     "output_type": "execute_result"
    }
   ],
   "source": [
    "train_targets[:10]"
   ]
  },
  {
   "cell_type": "markdown",
   "metadata": {
    "colab_type": "text",
    "id": "pVPvzozlVNGP",
    "slideshow": {
     "slide_type": "fragment"
    }
   },
   "source": [
    "The prices are typically between \\$10,000 and \\$50,000. If that sounds cheap, remember that this was the mid-1970s, and these prices aren’t adjusted for inflation."
   ]
  },
  {
   "cell_type": "markdown",
   "metadata": {
    "colab_type": "text",
    "id": "k_bAy0vQVNGQ",
    "slideshow": {
     "slide_type": "slide"
    }
   },
   "source": [
    "###  Preparing the data\n",
    "\n",
    "It would be problematic to feed into a neural network values that all take wildly different ranges. The network might be able to automatically adapt to such heterogeneous data, but it would definitely make learning more difficult. A widespread best practice to deal with such data is to do feature-wise normalization: for each feature in the input data (a column in the input data matrix), you subtract the mean of the feature and divide by the standard deviation, so that the feature is centered around 0 and has a unit standard deviation. This is easily done in Numpy.\n",
    "\n"
   ]
  },
  {
   "cell_type": "code",
   "execution_count": 227,
   "metadata": {
    "colab": {},
    "colab_type": "code",
    "id": "fK_8A2prVNGQ",
    "slideshow": {
     "slide_type": "fragment"
    }
   },
   "outputs": [],
   "source": [
    "mean = train_data.mean(axis=0)\n",
    "train_data -= mean\n",
    "std = train_data.std(axis=0)\n",
    "train_data /= std\n",
    "\n",
    "test_data -= mean\n",
    "test_data /= std"
   ]
  },
  {
   "cell_type": "markdown",
   "metadata": {
    "colab_type": "text",
    "id": "LkZw4O__VNGS",
    "slideshow": {
     "slide_type": "fragment"
    }
   },
   "source": [
    "Note that the quantities used for normalizing the test data are computed using the training data. You should never use in your workflow any quantity computed on the test data, even for something as simple as data normalization.\n",
    "\n"
   ]
  },
  {
   "cell_type": "markdown",
   "metadata": {
    "colab_type": "text",
    "id": "bOPePtHXVNGT",
    "slideshow": {
     "slide_type": "slide"
    }
   },
   "source": [
    "### Building your network\n",
    "\n",
    "Because so few samples are available, you’ll use a very small network with two hidden layers, each with 64 units. In general, the less training data you have, the worse overfitting will be, and using a small network is one way to mitigate overfitting."
   ]
  },
  {
   "cell_type": "code",
   "execution_count": 228,
   "metadata": {
    "colab": {},
    "colab_type": "code",
    "id": "3-e7HqphVNGU",
    "slideshow": {
     "slide_type": "fragment"
    }
   },
   "outputs": [],
   "source": [
    "from keras import models\n",
    "from keras import layers\n",
    "\n",
    "def build_model():\n",
    "    model = models.Sequential()\n",
    "    model.add(layers.Dense(64, activation='relu',\n",
    "                           input_shape=(train_data.shape[1],)))\n",
    "    model.add(layers.Dense(64, activation='relu'))\n",
    "    model.add(layers.Dense(1))\n",
    "    model.compile(optimizer='rmsprop', loss='mse', metrics=['mae'])\n",
    "    return model\n"
   ]
  },
  {
   "cell_type": "markdown",
   "metadata": {
    "colab_type": "text",
    "id": "xlsUNyM6VNGW",
    "slideshow": {
     "slide_type": "subslide"
    }
   },
   "source": [
    "The network ends with a single unit and no activation (it will be a linear layer). This is a typical setup for scalar regression (a regression where you’re trying to predict a single continuous value). Applying an activation function would constrain the range the output can take; for instance, if you applied a ```sigmoid``` activation function to the last layer, the network could only learn to predict values between 0 and 1. Here, because the last layer is purely linear, the network is free to learn to predict values in any range.\n",
    "\n"
   ]
  },
  {
   "cell_type": "markdown",
   "metadata": {
    "colab_type": "text",
    "id": "jVVvzqU3VNGW",
    "slideshow": {
     "slide_type": "fragment"
    }
   },
   "source": [
    "Note that you compile the network with the ```mse``` loss function—**mean squared error**, the square of the difference between the predictions and the targets. This is a widely used loss function for regression problems.\n",
    "\n",
    "You’re also monitoring a new metric during training: **mean absolute error (MAE)**. It’s the absolute value of the difference between the predictions and the targets. For instance, an MAE of 0.5 on this problem would mean your predictions are off by \\$500 on average.\n",
    "\n"
   ]
  },
  {
   "cell_type": "markdown",
   "metadata": {
    "colab_type": "text",
    "id": "8-3dK5FNVNGX",
    "slideshow": {
     "slide_type": "slide"
    }
   },
   "source": [
    "### Validating your approach using K-fold validation\n",
    "\n",
    "To evaluate your network while you keep adjusting its parameters (such as the number of epochs used for training), you could split the data into a training set and a validation set, as you did in the previous examples. But because you have so few data points, the validation set would end up being very small (for instance, about 100 examples). As a consequence, the validation scores might change a lot depending on which data points you chose to use for validation and which you chose for training: the validation scores might have a high variance with regard to the validation split. This would prevent you from reliably evaluating your model.\n",
    "\n"
   ]
  },
  {
   "cell_type": "markdown",
   "metadata": {
    "colab_type": "text",
    "id": "_X14K0owVNGX",
    "slideshow": {
     "slide_type": "subslide"
    }
   },
   "source": [
    "The best practice in such situations is to use **K-fold cross-validation**. It consists of splitting the available data into **K** partitions (typically K = 4 or 5), instantiating K identical models, and training each one on K – 1 partitions while evaluating on the remaining partition. The validation score for the model used is then the average of the K validation scores obtained. In terms of code, this is straightforward.\n",
    "\n",
    "![](https://dpzbhybb2pdcj.cloudfront.net/chollet/Figures/03fig11_alt.jpg)"
   ]
  },
  {
   "cell_type": "code",
   "execution_count": 229,
   "metadata": {
    "colab": {},
    "colab_type": "code",
    "id": "is5VfNYAVNGX",
    "outputId": "72bb6bb8-dfb6-4faf-f8c1-ea7a39f71a52",
    "slideshow": {
     "slide_type": "subslide"
    }
   },
   "outputs": [
    {
     "name": "stdout",
     "output_type": "stream",
     "text": [
      "processing fold # 0\n",
      "processing fold # 1\n",
      "processing fold # 2\n",
      "processing fold # 3\n"
     ]
    }
   ],
   "source": [
    "import numpy as np\n",
    "\n",
    "k = 4\n",
    "num_val_samples = len(train_data) // k\n",
    "num_epochs = 100\n",
    "all_scores = []\n",
    "for i in range(k):\n",
    "    print('processing fold #', i)\n",
    "    val_data = train_data[i * num_val_samples: (i + 1) * num_val_samples]\n",
    "    val_targets = train_targets[i * num_val_samples: (i + 1) * num_val_samples]\n",
    "\n",
    "    partial_train_data = np.concatenate(\n",
    "        [train_data[:i * num_val_samples],\n",
    "         train_data[(i + 1) * num_val_samples:]],\n",
    "        axis=0)\n",
    "    partial_train_targets = np.concatenate(\n",
    "        [train_targets[:i * num_val_samples],\n",
    "         train_targets[(i + 1) * num_val_samples:]],\n",
    "        axis=0)\n",
    "\n",
    "    model = build_model()\n",
    "    model.fit(partial_train_data, partial_train_targets,\n",
    "              epochs=num_epochs, batch_size=1, verbose=0)\n",
    "    val_mse, val_mae = model.evaluate(val_data, val_targets, verbose=0)\n",
    "    all_scores.append(val_mae)\n"
   ]
  },
  {
   "cell_type": "markdown",
   "metadata": {
    "colab_type": "text",
    "id": "XxHY4mzNVNGa",
    "slideshow": {
     "slide_type": "subslide"
    }
   },
   "source": [
    "Running this with num_epochs = 100 yields the following results:\n",
    "\n"
   ]
  },
  {
   "cell_type": "code",
   "execution_count": 230,
   "metadata": {
    "colab": {},
    "colab_type": "code",
    "id": "H8Czl9QRVNGa",
    "outputId": "4caf749d-0ca4-44c2-e856-9b1e095d19c4",
    "slideshow": {
     "slide_type": "fragment"
    }
   },
   "outputs": [
    {
     "name": "stdout",
     "output_type": "stream",
     "text": [
      "[2.0839114802898746, 2.183241334291968, 3.032786860324369, 2.338509645202372]\n",
      "2.409612330027146\n"
     ]
    }
   ],
   "source": [
    "print(all_scores)\n",
    "print(np.mean(all_scores))"
   ]
  },
  {
   "cell_type": "markdown",
   "metadata": {
    "colab_type": "text",
    "id": "xcYdih1EVNGh",
    "slideshow": {
     "slide_type": "fragment"
    }
   },
   "source": [
    "The different runs do indeed show rather different validation scores, from 2.08 to 2.96. The average (3.0) is a much more reliable metric than any single score—that’s the entire point of K-fold cross-validation. In this case, you’re off by \\$3,000 on average, which is significant considering that the prices range from \\$10,000 to \\$50,000.\n",
    "\n"
   ]
  },
  {
   "cell_type": "markdown",
   "metadata": {
    "colab_type": "text",
    "id": "g6zoVvfuVNGl",
    "slideshow": {
     "slide_type": "subslide"
    }
   },
   "source": [
    "Let’s try training the network a bit longer: 500 epochs. To keep a record of how well the model does at each epoch, you’ll modify the training loop to save the per-epoch validation score log."
   ]
  },
  {
   "cell_type": "code",
   "execution_count": 231,
   "metadata": {
    "colab": {},
    "colab_type": "code",
    "id": "Nw4fLehxVNGm",
    "outputId": "f3ee1e08-b401-40bc-b27a-7f39e29dedb0",
    "slideshow": {
     "slide_type": "fragment"
    }
   },
   "outputs": [
    {
     "name": "stdout",
     "output_type": "stream",
     "text": [
      "processing fold # 0\n",
      "processing fold # 1\n",
      "processing fold # 2\n",
      "processing fold # 3\n"
     ]
    }
   ],
   "source": [
    "num_epochs = 500\n",
    "all_mae_histories = []\n",
    "for i in range(k):\n",
    "    print('processing fold #', i)\n",
    "    val_data = train_data[i * num_val_samples: (i + 1) * num_val_samples]\n",
    "    val_targets = train_targets[i * num_val_samples: (i + 1) * num_val_samples]\n",
    "    partial_train_data = np.concatenate(\n",
    "        [train_data[:i * num_val_samples],\n",
    "         train_data[(i + 1) * num_val_samples:]],\n",
    "        axis=0)\n",
    "    partial_train_targets = np.concatenate(\n",
    "        [train_targets[:i * num_val_samples],\n",
    "         train_targets[(i + 1) * num_val_samples:]],\n",
    "        axis=0)\n",
    "\n",
    "    model = build_model()\n",
    "    history = model.fit(partial_train_data, partial_train_targets,\n",
    "                        validation_data=(val_data, val_targets),\n",
    "                        epochs=num_epochs, batch_size=1, verbose=0)\n",
    "    mae_history = history.history['val_mean_absolute_error']\n",
    "    all_mae_histories.append(mae_history)\n",
    "    "
   ]
  },
  {
   "cell_type": "markdown",
   "metadata": {
    "colab_type": "text",
    "id": "M34R4GNGVNGp",
    "slideshow": {
     "slide_type": "subslide"
    }
   },
   "source": [
    "You can then compute the average of the per-epoch MAE scores for all folds.\n",
    "\n"
   ]
  },
  {
   "cell_type": "code",
   "execution_count": 232,
   "metadata": {
    "colab": {},
    "colab_type": "code",
    "id": "Fcu0Qa-MVNGq",
    "outputId": "fb561ebf-e00c-4551-e8da-cd4117f434fa",
    "slideshow": {
     "slide_type": "fragment"
    }
   },
   "outputs": [
    {
     "data": {
      "image/png": "[encoded data removed]",
      "text/plain": [
       "<matplotlib.figure.Figure at 0xf4fc6b8710>"
      ]
     },
     "metadata": {},
     "output_type": "display_data"
    }
   ],
   "source": [
    "average_mae_history = [\n",
    "    np.mean([x[i] for x in all_mae_histories]) for i in range(num_epochs)]\n",
    "\n",
    "import matplotlib.pyplot as plt\n",
    "\n",
    "plt.plot(range(1, len(average_mae_history) + 1), average_mae_history)\n",
    "plt.xlabel('Epochs')\n",
    "plt.ylabel('Validation MAE')\n",
    "plt.show()"
   ]
  },
  {
   "cell_type": "markdown",
   "metadata": {
    "colab_type": "text",
    "id": "Tubb3u4rVNGt",
    "slideshow": {
     "slide_type": "fragment"
    }
   },
   "source": [
    "It may be a little difficult to see the plot, due to scaling issues and relatively high variance. "
   ]
  },
  {
   "cell_type": "markdown",
   "metadata": {
    "colab_type": "text",
    "id": "aBKKPnb0VNGu",
    "slideshow": {
     "slide_type": "subslide"
    }
   },
   "source": [
    "Let’s do the following:\n",
    "\n",
    "Omit the first 10 data points, which are on a different scale than the rest of the curve.\n",
    "Replace each point with an exponential moving average of the previous points, to obtain a smooth curve."
   ]
  },
  {
   "cell_type": "code",
   "execution_count": 233,
   "metadata": {
    "colab": {},
    "colab_type": "code",
    "id": "k_MbicsjVNGu",
    "outputId": "ea1c86d5-297d-493a-d911-a97e7ecb8720",
    "slideshow": {
     "slide_type": "fragment"
    }
   },
   "outputs": [
    {
     "data": {
      "image/png": "[encoded data removed]",
      "text/plain": [
       "<matplotlib.figure.Figure at 0xf4e032c2b0>"
      ]
     },
     "metadata": {},
     "output_type": "display_data"
    }
   ],
   "source": [
    "def smooth_curve(points, factor=0.9):\n",
    "    smoothed_points = []\n",
    "    for point in points:\n",
    "        if smoothed_points:\n",
    "            previous = smoothed_points[-1]\n",
    "            smoothed_points.append(previous * factor + point * (1 - factor))\n",
    "        else:\n",
    "            smoothed_points.append(point)\n",
    "    return smoothed_points\n",
    "\n",
    "smooth_mae_history = smooth_curve(average_mae_history[10:])\n",
    "\n",
    "plt.plot(range(1, len(smooth_mae_history) + 1), smooth_mae_history)\n",
    "plt.xlabel('Epochs')\n",
    "plt.ylabel('Validation MAE')\n",
    "plt.show()"
   ]
  },
  {
   "cell_type": "markdown",
   "metadata": {
    "colab_type": "text",
    "id": "LZobjJMFVNGw",
    "slideshow": {
     "slide_type": "subslide"
    }
   },
   "source": [
    "According to this plot, validation MAE stops improving significantly after 80 epochs. Past that point, you start overfitting.\n",
    "\n"
   ]
  },
  {
   "cell_type": "markdown",
   "metadata": {
    "colab_type": "text",
    "id": "fbFdJweGVNGx",
    "slideshow": {
     "slide_type": "fragment"
    }
   },
   "source": [
    "Once you’re finished tuning other parameters of the model (in addition to the number of epochs, you could also adjust the size of the hidden layers), you can train a final production model on all of the training data, with the best parameters, and then look at its performance on the test data.\n",
    "\n"
   ]
  },
  {
   "cell_type": "code",
   "execution_count": 234,
   "metadata": {
    "colab": {},
    "colab_type": "code",
    "id": "FbeNoB34VNGx",
    "slideshow": {
     "slide_type": "fragment"
    }
   },
   "outputs": [
    {
     "name": "stdout",
     "output_type": "stream",
     "text": [
      "102/102 [==============================] - 1s 10ms/step\n"
     ]
    }
   ],
   "source": [
    "model = build_model()\n",
    "model.fit(train_data, train_targets,\n",
    "          epochs=80, batch_size=16, verbose=0)\n",
    "test_mse_score, test_mae_score = model.evaluate(test_data, test_targets)\n"
   ]
  },
  {
   "cell_type": "markdown",
   "metadata": {
    "colab_type": "text",
    "id": "_b5eA9gLVNG4",
    "slideshow": {
     "slide_type": "fragment"
    }
   },
   "source": [
    "Here’s the final result:"
   ]
  },
  {
   "cell_type": "code",
   "execution_count": 263,
   "metadata": {
    "colab": {
     "base_uri": "https://localhost:8080/",
     "height": 163
    },
    "colab_type": "code",
    "executionInfo": {
     "elapsed": 686,
     "status": "error",
     "timestamp": 1541848725975,
     "user": {
      "displayName": "Лингвисты 4 курс 15ФПЛ",
      "photoUrl": "",
      "userId": "07722014738513937459"
     },
     "user_tz": -120
    },
    "id": "2tw3TpG9VNG8",
    "outputId": "f116bf95-5545-417d-9528-d23bb64f19e5",
    "slideshow": {
     "slide_type": "fragment"
    }
   },
   "outputs": [
    {
     "data": {
      "text/plain": [
       "2.678104092093075"
      ]
     },
     "execution_count": 263,
     "metadata": {},
     "output_type": "execute_result"
    }
   ],
   "source": [
    "test_mae_score"
   ]
  },
  {
   "cell_type": "markdown",
   "metadata": {
    "colab_type": "text",
    "id": "kwOOqnFeVNG_",
    "slideshow": {
     "slide_type": "fragment"
    }
   },
   "source": [
    "You’re still off by about \\$2,550.\n",
    "\n"
   ]
  },
  {
   "cell_type": "markdown",
   "metadata": {
    "colab_type": "text",
    "id": "bte08ubnVNHA",
    "slideshow": {
     "slide_type": "slide"
    }
   },
   "source": [
    "### Wrapping up\n",
    "\n",
    "* Regression is done using different loss functions than what we used for classification. Mean squared error (MSE) is a loss function commonly used for regression.\n"
   ]
  },
  {
   "cell_type": "markdown",
   "metadata": {
    "colab_type": "text",
    "id": "YFZXXbacVNHA",
    "slideshow": {
     "slide_type": "fragment"
    }
   },
   "source": [
    "* Similarly, evaluation metrics to be used for regression differ from those used for classification; naturally, the concept of accuracy doesn’t apply for regression. A common regression metric is mean absolute error (MAE).\n"
   ]
  },
  {
   "cell_type": "markdown",
   "metadata": {
    "colab_type": "text",
    "id": "KxfRjf54VNHB",
    "slideshow": {
     "slide_type": "fragment"
    }
   },
   "source": [
    "* When features in the input data have values in different ranges, each feature should be scaled independently as a preprocessing step.\n"
   ]
  },
  {
   "cell_type": "markdown",
   "metadata": {
    "colab_type": "text",
    "id": "zuA0pHKjVNHC",
    "slideshow": {
     "slide_type": "fragment"
    }
   },
   "source": [
    "* When there is little data available, using K-fold validation is a great way to reliably evaluate a model.\n"
   ]
  },
  {
   "cell_type": "markdown",
   "metadata": {
    "colab_type": "text",
    "id": "jHNDlVxDVNHH",
    "slideshow": {
     "slide_type": "fragment"
    }
   },
   "source": [
    "* When little training data is available, it’s preferable to use a small network with few hidden layers (typically only one or two), in order to avoid severe overfitting."
   ]
  },
  {
   "cell_type": "code",
   "execution_count": 0,
   "metadata": {
    "colab": {},
    "colab_type": "code",
    "id": "LvrXIvMDVNHI"
   },
   "outputs": [],
   "source": []
  }
 ],
 "metadata": {
  "colab": {
   "name": "Lecture2(NN).ipynb",
   "provenance": [],
   "version": "0.3.2"
  },
  "kernelspec": {
   "display_name": "Python 3",
   "language": "python",
   "name": "python3"
  },
  "language_info": {
   "codemirror_mode": {
    "name": "ipython",
    "version": 3
   },
   "file_extension": ".py",
   "mimetype": "text/x-python",
   "name": "python",
   "nbconvert_exporter": "python",
   "pygments_lexer": "ipython3",
   "version": "3.6.4"
  }
 },
 "nbformat": 4,
 "nbformat_minor": 1
}
