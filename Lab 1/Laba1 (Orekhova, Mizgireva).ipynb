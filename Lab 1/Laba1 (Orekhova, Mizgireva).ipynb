{
 "cells": [
  {
   "cell_type": "markdown",
   "metadata": {},
   "source": [
    "# Лабораторная работа №1\n",
    " "
   ]
  },
  {
   "cell_type": "markdown",
   "metadata": {},
   "source": [
    "**Выполнили:** Орехова Дарья, Мизгирева Марина.\n",
    "\n",
    "**Языки:** хорватский и испанский.\n",
    "\n",
    "**Тексты:** А.П. Чехов \"Анна на шее\" и \"Ведьма\"."
   ]
  },
  {
   "cell_type": "markdown",
   "metadata": {},
   "source": [
    "**Задача 1**"
   ]
  },
  {
   "cell_type": "markdown",
   "metadata": {},
   "source": [
    "**1. Типология языков**\n",
    "\n",
    "\n",
    "*Хорватский язык:*\n",
    "- относится к индоевропейской семье языков, славянской группе южнославянской подгруппе;\n",
    "- по способу выражения грамматических значений является синтетическим языком;\n",
    "- по характеру соединения морфем относится к флективным языкам;\n",
    "- по строю языка является номинативным;\n",
    "- по порядку слов является языком со свободным словорасположением.\n",
    "\n",
    "*Испанский язык:*\n",
    "- относится к индоевропейской семье, романской группе иберо-романской подгруппе;\n",
    "- по способу выражения грамматических значений является аналитическим языком;\n",
    "- по характеру соединения морфем относится к флективным языкам;\n",
    "- по строю языка является номинативным;\n",
    "- по порядку слов является языком со свободным словорасположением."
   ]
  },
  {
   "cell_type": "markdown",
   "metadata": {},
   "source": [
    "**2. Привести дескриптивную статистику для тренировочной и тестовой выборки**\n",
    "\n",
    "- число предложений / уникальных словоформ\n",
    "- для этого необходимо считать файлы выборок, в которых содержится целый (необработанный) текст."
   ]
  },
  {
   "cell_type": "markdown",
   "metadata": {},
   "source": [
    "Дескриптивная статистика для тренировочной и тестовой выборок для **ХОРВАТСКОГО ЯЗЫКА**."
   ]
  },
  {
   "cell_type": "code",
   "execution_count": 1,
   "metadata": {},
   "outputs": [
    {
     "name": "stdout",
     "output_type": "stream",
     "text": [
      "Количество предложений в тестовой выборке = 1043\n",
      "Количество уникальных словоформ в тестовой выборке = 8178\n"
     ]
    }
   ],
   "source": [
    "# подсчёт количества предложений для тестовой выборки \n",
    "\n",
    "from textblob import TextBlob\n",
    "f = open('texts/cr_text_test.txt')\n",
    "text_test = f.read()\n",
    "blob = TextBlob(text_test)\n",
    "len_test = len((blob.sentences))\n",
    "print('Количество предложений в тестовой выборке = ' + str(len_test))\n",
    "\n",
    "\n",
    "# подсчёт количества уникальных словоформ для тестовой выборки \n",
    "\n",
    "import conllu\n",
    "from conllu import parse\n",
    "f = open('texts/cr_test.conllu', 'r', encoding='utf-8').read().lower()\n",
    "test_data = conllu.parse(f)\n",
    "lst_test = str(test_data).split(', ')\n",
    "tokens_test = set(lst_test)\n",
    "print('Количество уникальных словоформ в тестовой выборке = ' + str(len(tokens_test)))"
   ]
  },
  {
   "cell_type": "code",
   "execution_count": 2,
   "metadata": {},
   "outputs": [
    {
     "name": "stdout",
     "output_type": "stream",
     "text": [
      "Количество предложений в тренировочной выборке = 6873\n",
      "Количество уникальных словоформ в тренировочной выборке = 33091\n"
     ]
    }
   ],
   "source": [
    "# подсчёт количества предложений для тренировочной выборки\n",
    "\n",
    "d = open('texts/cr_text_train.txt')\n",
    "text_train = d.read()\n",
    "blob = TextBlob(text_train)\n",
    "len_train = len((blob.sentences))\n",
    "print('Количество предложений в тренировочной выборке = ' + str(len_train))\n",
    "\n",
    "# подсчёт количества уникальных словоформ для тренировочной выборки \n",
    "\n",
    "import conllu\n",
    "from conllu import parse\n",
    "f = open('texts/cr_train.conllu', 'r', encoding='utf-8').read().lower()\n",
    "train_data = conllu.parse(f)\n",
    "lst_train = str(train_data).split(', ')\n",
    "tokens_train = set(lst_train)\n",
    "print('Количество уникальных словоформ в тренировочной выборке = ' + str(len(tokens_train)))"
   ]
  },
  {
   "cell_type": "code",
   "execution_count": 3,
   "metadata": {},
   "outputs": [
    {
     "ename": "IndexError",
     "evalue": "list index out of range",
     "output_type": "error",
     "traceback": [
      "\u001b[1;31m---------------------------------------------------------------------------\u001b[0m",
      "\u001b[1;31mIndexError\u001b[0m                                Traceback (most recent call last)",
      "\u001b[1;32m<ipython-input-3-c2e46fb26b38>\u001b[0m in \u001b[0;36m<module>\u001b[1;34m()\u001b[0m\n\u001b[0;32m      6\u001b[0m \u001b[1;32mfor\u001b[0m \u001b[0mline\u001b[0m \u001b[1;32min\u001b[0m \u001b[0mf\u001b[0m\u001b[1;33m:\u001b[0m\u001b[1;33m\u001b[0m\u001b[0m\n\u001b[0;32m      7\u001b[0m     \u001b[0mtext\u001b[0m \u001b[1;33m=\u001b[0m \u001b[0mline\u001b[0m\u001b[1;33m.\u001b[0m\u001b[0msplit\u001b[0m\u001b[1;33m(\u001b[0m\u001b[1;33m)\u001b[0m\u001b[1;33m\u001b[0m\u001b[0m\n\u001b[1;32m----> 8\u001b[1;33m     \u001b[0mpos_test\u001b[0m\u001b[1;33m.\u001b[0m\u001b[0mappend\u001b[0m\u001b[1;33m(\u001b[0m\u001b[0mtext\u001b[0m\u001b[1;33m[\u001b[0m\u001b[1;36m3\u001b[0m\u001b[1;33m]\u001b[0m\u001b[1;33m)\u001b[0m\u001b[1;33m\u001b[0m\u001b[0m\n\u001b[0m\u001b[0;32m      9\u001b[0m \u001b[1;33m\u001b[0m\u001b[0m\n\u001b[0;32m     10\u001b[0m \u001b[1;32mfor\u001b[0m \u001b[0mtags\u001b[0m \u001b[1;32min\u001b[0m \u001b[0mpos_test\u001b[0m\u001b[1;33m:\u001b[0m\u001b[1;33m\u001b[0m\u001b[0m\n",
      "\u001b[1;31mIndexError\u001b[0m: list index out of range"
     ]
    }
   ],
   "source": [
    "# подсчёт уникальных PoS-тегов для тестовой выборки\n",
    "\n",
    "f = open('texts/cr_test.conllu')\n",
    "pos_test = []\n",
    "unique_tags_test = []\n",
    "for line in f:\n",
    "    text = line.split()\n",
    "    pos_test.append(text[3])\n",
    "\n",
    "for tags in pos_test:\n",
    "    if tags in unique_tags_test:\n",
    "        pass\n",
    "    else:\n",
    "        unique_tags_test.append(tags)\n",
    "print('Количество уникальных PoS-тегов в тестовой выборке = ' + str(len(unique_tags_test)))"
   ]
  },
  {
   "cell_type": "code",
   "execution_count": 4,
   "metadata": {},
   "outputs": [
    {
     "ename": "IndexError",
     "evalue": "list index out of range",
     "output_type": "error",
     "traceback": [
      "\u001b[1;31m---------------------------------------------------------------------------\u001b[0m",
      "\u001b[1;31mIndexError\u001b[0m                                Traceback (most recent call last)",
      "\u001b[1;32m<ipython-input-4-969d12b449ce>\u001b[0m in \u001b[0;36m<module>\u001b[1;34m()\u001b[0m\n\u001b[0;32m      6\u001b[0m \u001b[1;32mfor\u001b[0m \u001b[0mline\u001b[0m \u001b[1;32min\u001b[0m \u001b[0mf\u001b[0m\u001b[1;33m:\u001b[0m\u001b[1;33m\u001b[0m\u001b[0m\n\u001b[0;32m      7\u001b[0m     \u001b[0mtext\u001b[0m \u001b[1;33m=\u001b[0m \u001b[0mline\u001b[0m\u001b[1;33m.\u001b[0m\u001b[0msplit\u001b[0m\u001b[1;33m(\u001b[0m\u001b[1;33m)\u001b[0m\u001b[1;33m\u001b[0m\u001b[0m\n\u001b[1;32m----> 8\u001b[1;33m     \u001b[0mpos_train\u001b[0m\u001b[1;33m.\u001b[0m\u001b[0mappend\u001b[0m\u001b[1;33m(\u001b[0m\u001b[0mtext\u001b[0m\u001b[1;33m[\u001b[0m\u001b[1;36m3\u001b[0m\u001b[1;33m]\u001b[0m\u001b[1;33m)\u001b[0m\u001b[1;33m\u001b[0m\u001b[0m\n\u001b[0m\u001b[0;32m      9\u001b[0m \u001b[1;33m\u001b[0m\u001b[0m\n\u001b[0;32m     10\u001b[0m \u001b[1;32mfor\u001b[0m \u001b[0mtags\u001b[0m \u001b[1;32min\u001b[0m \u001b[0mpos_train\u001b[0m\u001b[1;33m:\u001b[0m\u001b[1;33m\u001b[0m\u001b[0m\n",
      "\u001b[1;31mIndexError\u001b[0m: list index out of range"
     ]
    }
   ],
   "source": [
    "# подсчёт уникальных PoS-тегов для тренировочной выборки\n",
    "\n",
    "f = open('texts/cr_train.conllu')\n",
    "pos_train = []\n",
    "unique_tags_train = []\n",
    "for line in f:\n",
    "    text = line.split()\n",
    "    pos_train.append(text[3])\n",
    "\n",
    "for tags in pos_train:\n",
    "    if tags in unique_tags_train:\n",
    "        pass\n",
    "    else:\n",
    "        unique_tags_train.append(tags)\n",
    "print('Количество уникальных PoS-тегов в тренировочной выборке = ' + str(len(unique_tags_train)))"
   ]
  },
  {
   "cell_type": "code",
   "execution_count": 5,
   "metadata": {},
   "outputs": [
    {
     "name": "stdout",
     "output_type": "stream",
     "text": [
      "Максимальное число слов в предложении (тестовая выборка) = 67\n",
      "Минимальное число слов в предложении (тестовая выборка) = 1\n"
     ]
    }
   ],
   "source": [
    "# вычисление максимального и минимального числа слов в предложении (тестовая выборка)\n",
    "\n",
    "f = open('texts/cr_text_test.txt')\n",
    "text_test = f.read()\n",
    "from nltk.tokenize import sent_tokenize\n",
    "sentences_test = sent_tokenize(text_test)\n",
    "length_test = []\n",
    "for i in sentences_test:\n",
    "    token_test = i.split()\n",
    "    length_test.append(len(token_test))\n",
    "print(\"Максимальное число слов в предложении (тестовая выборка) = \" + str(max(length_test)))\n",
    "print(\"Минимальное число слов в предложении (тестовая выборка) = \" + str(min(length_test)))"
   ]
  },
  {
   "cell_type": "code",
   "execution_count": 6,
   "metadata": {},
   "outputs": [
    {
     "name": "stdout",
     "output_type": "stream",
     "text": [
      "Максимальное число слов в предложении (тренировочная выборка) = 127\n",
      "Минимальное число слов в предложении (тренировочная выборка) = 1\n"
     ]
    }
   ],
   "source": [
    "# вычисление максимального и минимального числа слов в предложении (тренировочная выборка)\n",
    "\n",
    "f = open('texts/cr_text_train.txt')\n",
    "text_train = f.read()\n",
    "from nltk.tokenize import sent_tokenize\n",
    "sentences_train = sent_tokenize(text_train)\n",
    "length_train = []\n",
    "for i in sentences_train:\n",
    "    token_train = i.split()\n",
    "    length_train.append(len(token_train))\n",
    "print(\"Максимальное число слов в предложении (тренировочная выборка) = \" + str(max(length_train)))\n",
    "print(\"Минимальное число слов в предложении (тренировочная выборка) = \" + str(min(length_train)))"
   ]
  },
  {
   "cell_type": "code",
   "execution_count": 7,
   "metadata": {},
   "outputs": [
    {
     "name": "stdout",
     "output_type": "stream",
     "text": [
      "Медиана числа слов в предложении в тестовой выборке = 18\n",
      "Математическое ожидание = 19.900287631831254\n"
     ]
    }
   ],
   "source": [
    "# вычисление математического ожидания и медианы числа слов в предложении (тестовая выборка)\n",
    "\n",
    "#медиана\n",
    "f = open('texts/cr_text_test.txt')\n",
    "text_test = f.read()\n",
    "from nltk.tokenize import sent_tokenize\n",
    "sentences_test = sent_tokenize(text_test)\n",
    "length_test = []\n",
    "for i in sentences_test:\n",
    "    token_test = i.split()\n",
    "    length_test.append(len(token_test))\n",
    "    length_test.sort()\n",
    "#print(length_test)\n",
    "import math\n",
    "if len(length_test) % 2 == 0:\n",
    "    index_1 = int(len(length_test) / 2)\n",
    "    index_2 = int(index_1 - 1)\n",
    "    mediana_test = (length_test[index_1] + length_test[index_2]) / 2\n",
    "    print(mediana_test)\n",
    "else:\n",
    "    index = len(length_test) / 2\n",
    "    index = math.floor(index)\n",
    "    mediana_test = length_test[index]\n",
    "    print(\"Медиана числа слов в предложении в тестовой выборке = \" + str(mediana_test))\n",
    "    \n",
    "import numpy as np\n",
    "from nltk.tokenize import sent_tokenize\n",
    "sentences_test = sent_tokenize(text_test)\n",
    "length_test = []\n",
    "for i in sentences_test:\n",
    "    token_test = i.split()\n",
    "    length_test.append(len(token_test))\n",
    "mean = np.mean(length_test)\n",
    "print('Математическое ожидание = ' + str(mean))"
   ]
  },
  {
   "cell_type": "code",
   "execution_count": 8,
   "metadata": {},
   "outputs": [
    {
     "name": "stdout",
     "output_type": "stream",
     "text": [
      "Медиана числа слов в предложении в тренировочной выборке = 18\n",
      "Математическое ожидание = 19.80052378873854\n"
     ]
    }
   ],
   "source": [
    "# вычисление математического ожидания и медианы числа слов в предложении (тренировочная выборка)\n",
    "\n",
    "#медиана\n",
    "f = open('texts/cr_text_train.txt')\n",
    "text_train = f.read()\n",
    "sentences_train = sent_tokenize(text_train)\n",
    "length_train = []\n",
    "for i in sentences_train:\n",
    "    token_train = i.split()\n",
    "    length_train.append(len(token_train))\n",
    "    length_train.sort()\n",
    "#print(length_train)\n",
    "import math\n",
    "if len(length_train) % 2 == 0:\n",
    "    index_1 = int(len(length_train) / 2)\n",
    "    index_2 = int(index_1 - 1)\n",
    "    mediana_train = (length_train[index_1] + length_train[index_2]) / 2\n",
    "    print(mediana_train)\n",
    "else:\n",
    "    index = len(length_train) / 2\n",
    "    index = math.floor(index)\n",
    "    mediana_train = length_train[index]\n",
    "    print(\"Медиана числа слов в предложении в тренировочной выборке = \" + str(mediana_train))\n",
    "\n",
    "import numpy as np\n",
    "from nltk.tokenize import sent_tokenize\n",
    "sentences_test = sent_tokenize(text_train)\n",
    "length_test = []\n",
    "for i in sentences_test:\n",
    "    token_test = i.split()\n",
    "    length_test.append(len(token_test))\n",
    "mean = np.mean(length_test)\n",
    "print('Математическое ожидание = ' + str(mean))"
   ]
  },
  {
   "cell_type": "markdown",
   "metadata": {},
   "source": [
    "Дескриптивная статистика для тренировочной и тестовой выборок для **ИСПАНСКОГО ЯЗЫКА**."
   ]
  },
  {
   "cell_type": "code",
   "execution_count": 9,
   "metadata": {},
   "outputs": [
    {
     "name": "stdout",
     "output_type": "stream",
     "text": [
      "Количество предложений в тестовой выборке = 1729\n",
      "Количество уникальных словоформ в тестовой выборке = 10374\n"
     ]
    }
   ],
   "source": [
    "# подсчёт количества предложений для тестовой выборки \n",
    "\n",
    "from textblob import TextBlob\n",
    "f = open('texts/sp_text_test.txt')\n",
    "text_test = f.read()\n",
    "blob = TextBlob(text_test)\n",
    "len_test = len((blob.sentences))\n",
    "print('Количество предложений в тестовой выборке = ' + str(len_test))\n",
    "\n",
    "\n",
    "# подсчёт количества уникальных словоформ для тестовой выборки \n",
    "\n",
    "import conllu\n",
    "from conllu import parse\n",
    "f = open('texts/sp_test.conllu', 'r', encoding='utf-8').read().lower()\n",
    "test_data = conllu.parse(f)\n",
    "lst_test = str(test_data).split(', ')\n",
    "tokens_test = set(lst_test)\n",
    "print('Количество уникальных словоформ в тестовой выборке = ' + str(len(tokens_test)))"
   ]
  },
  {
   "cell_type": "code",
   "execution_count": 10,
   "metadata": {},
   "outputs": [
    {
     "name": "stdout",
     "output_type": "stream",
     "text": [
      "Количество предложений в тренировочной выборке = 14424\n",
      "Количество уникальных словоформ в тренировочной выборке = 37360\n"
     ]
    }
   ],
   "source": [
    "# подсчёт количества предложений для тренировочной выборки\n",
    "\n",
    "d = open('texts/sp_text_train.txt')\n",
    "text_train = d.read()\n",
    "blob = TextBlob(text_train)\n",
    "len_train = len((blob.sentences))\n",
    "print('Количество предложений в тренировочной выборке = ' + str(len_train))\n",
    "\n",
    "# подсчёт количества уникальных словоформ для тренировочной выборки \n",
    "\n",
    "import conllu\n",
    "from conllu import parse\n",
    "f = open('texts/sp_train.conllu', 'r', encoding='utf-8').read().lower()\n",
    "train_data = conllu.parse(f)\n",
    "lst_train = str(train_data).split(', ')\n",
    "tokens_train = set(lst_train)\n",
    "print('Количество уникальных словоформ в тренировочной выборке = ' + str(len(tokens_train)))"
   ]
  },
  {
   "cell_type": "code",
   "execution_count": 11,
   "metadata": {},
   "outputs": [
    {
     "ename": "IndexError",
     "evalue": "list index out of range",
     "output_type": "error",
     "traceback": [
      "\u001b[1;31m---------------------------------------------------------------------------\u001b[0m",
      "\u001b[1;31mIndexError\u001b[0m                                Traceback (most recent call last)",
      "\u001b[1;32m<ipython-input-11-2a182b9612e5>\u001b[0m in \u001b[0;36m<module>\u001b[1;34m()\u001b[0m\n\u001b[0;32m      6\u001b[0m \u001b[1;32mfor\u001b[0m \u001b[0mline\u001b[0m \u001b[1;32min\u001b[0m \u001b[0mf\u001b[0m\u001b[1;33m:\u001b[0m\u001b[1;33m\u001b[0m\u001b[0m\n\u001b[0;32m      7\u001b[0m     \u001b[0mtext\u001b[0m \u001b[1;33m=\u001b[0m \u001b[0mline\u001b[0m\u001b[1;33m.\u001b[0m\u001b[0msplit\u001b[0m\u001b[1;33m(\u001b[0m\u001b[1;33m)\u001b[0m\u001b[1;33m\u001b[0m\u001b[0m\n\u001b[1;32m----> 8\u001b[1;33m     \u001b[0mpos_test\u001b[0m\u001b[1;33m.\u001b[0m\u001b[0mappend\u001b[0m\u001b[1;33m(\u001b[0m\u001b[0mtext\u001b[0m\u001b[1;33m[\u001b[0m\u001b[1;36m3\u001b[0m\u001b[1;33m]\u001b[0m\u001b[1;33m)\u001b[0m\u001b[1;33m\u001b[0m\u001b[0m\n\u001b[0m\u001b[0;32m      9\u001b[0m \u001b[1;33m\u001b[0m\u001b[0m\n\u001b[0;32m     10\u001b[0m \u001b[1;32mfor\u001b[0m \u001b[0mtags\u001b[0m \u001b[1;32min\u001b[0m \u001b[0mpos_test\u001b[0m\u001b[1;33m:\u001b[0m\u001b[1;33m\u001b[0m\u001b[0m\n",
      "\u001b[1;31mIndexError\u001b[0m: list index out of range"
     ]
    }
   ],
   "source": [
    "# подсчёт уникальных PoS-тегов для тестовой выборки\n",
    "\n",
    "f = open('texts/sp_test.conllu')\n",
    "pos_test = []\n",
    "unique_tags_test = []\n",
    "for line in f:\n",
    "    text = line.split()\n",
    "    pos_test.append(text[3])\n",
    "\n",
    "for tags in pos_test:\n",
    "    if tags in unique_tags_test:\n",
    "        pass\n",
    "    else:\n",
    "        unique_tags_test.append(tags)\n",
    "print('Количество уникальных PoS-тегов в тестовой выборке = ' + str(len(unique_tags_test)))"
   ]
  },
  {
   "cell_type": "code",
   "execution_count": 12,
   "metadata": {},
   "outputs": [
    {
     "ename": "IndexError",
     "evalue": "list index out of range",
     "output_type": "error",
     "traceback": [
      "\u001b[1;31m---------------------------------------------------------------------------\u001b[0m",
      "\u001b[1;31mIndexError\u001b[0m                                Traceback (most recent call last)",
      "\u001b[1;32m<ipython-input-12-51b409eaad8a>\u001b[0m in \u001b[0;36m<module>\u001b[1;34m()\u001b[0m\n\u001b[0;32m      6\u001b[0m \u001b[1;32mfor\u001b[0m \u001b[0mline\u001b[0m \u001b[1;32min\u001b[0m \u001b[0mf\u001b[0m\u001b[1;33m:\u001b[0m\u001b[1;33m\u001b[0m\u001b[0m\n\u001b[0;32m      7\u001b[0m     \u001b[0mtext\u001b[0m \u001b[1;33m=\u001b[0m \u001b[0mline\u001b[0m\u001b[1;33m.\u001b[0m\u001b[0msplit\u001b[0m\u001b[1;33m(\u001b[0m\u001b[1;33m)\u001b[0m\u001b[1;33m\u001b[0m\u001b[0m\n\u001b[1;32m----> 8\u001b[1;33m     \u001b[0mpos_train\u001b[0m\u001b[1;33m.\u001b[0m\u001b[0mappend\u001b[0m\u001b[1;33m(\u001b[0m\u001b[0mtext\u001b[0m\u001b[1;33m[\u001b[0m\u001b[1;36m3\u001b[0m\u001b[1;33m]\u001b[0m\u001b[1;33m)\u001b[0m\u001b[1;33m\u001b[0m\u001b[0m\n\u001b[0m\u001b[0;32m      9\u001b[0m \u001b[1;33m\u001b[0m\u001b[0m\n\u001b[0;32m     10\u001b[0m \u001b[1;32mfor\u001b[0m \u001b[0mtags\u001b[0m \u001b[1;32min\u001b[0m \u001b[0mpos_train\u001b[0m\u001b[1;33m:\u001b[0m\u001b[1;33m\u001b[0m\u001b[0m\n",
      "\u001b[1;31mIndexError\u001b[0m: list index out of range"
     ]
    }
   ],
   "source": [
    "# подсчёт уникальных PoS-тегов для тренировочной выборки\n",
    "\n",
    "f = open('texts/sp_train.conllu')\n",
    "pos_train = []\n",
    "unique_tags_train = []\n",
    "for line in f:\n",
    "    text = line.split()\n",
    "    pos_train.append(text[3])\n",
    "\n",
    "for tags in pos_train:\n",
    "    if tags in unique_tags_train:\n",
    "        pass\n",
    "    else:\n",
    "        unique_tags_train.append(tags)\n",
    "print('Количество уникальных PoS-тегов в тренировочной выборке = ' + str(len(unique_tags_train)))"
   ]
  },
  {
   "cell_type": "code",
   "execution_count": 13,
   "metadata": {},
   "outputs": [
    {
     "name": "stdout",
     "output_type": "stream",
     "text": [
      "Максимальное число слов в предложении (тестовая выборка) = 121\n",
      "Минимальное число слов в предложении (тестовая выборка) = 1\n"
     ]
    }
   ],
   "source": [
    "# вычисление максимального и минимального числа слов в предложении (тестовая выборка)\n",
    "\n",
    "f = open('texts/sp_text_test.txt')\n",
    "text_test = f.read()\n",
    "from nltk.tokenize import sent_tokenize\n",
    "sentences_test = sent_tokenize(text_test)\n",
    "length_test = []\n",
    "for i in sentences_test:\n",
    "    token_test = i.split()\n",
    "    length_test.append(len(token_test))\n",
    "print(\"Максимальное число слов в предложении (тестовая выборка) = \" + str(max(length_test)))\n",
    "print(\"Минимальное число слов в предложении (тестовая выборка) = \" + str(min(length_test)))"
   ]
  },
  {
   "cell_type": "code",
   "execution_count": 14,
   "metadata": {},
   "outputs": [
    {
     "name": "stdout",
     "output_type": "stream",
     "text": [
      "Максимальное число слов в предложении (тренировочная выборка) = 133\n",
      "Минимальное число слов в предложении (тренировочная выборка) = 1\n"
     ]
    }
   ],
   "source": [
    "# вычисление максимального и минимального числа слов в предложении (тренировочная выборка)\n",
    "\n",
    "f = open('texts/sp_text_train.txt')\n",
    "text_train = f.read()\n",
    "from nltk.tokenize import sent_tokenize\n",
    "sentences_train = sent_tokenize(text_train)\n",
    "length_train = []\n",
    "for i in sentences_train:\n",
    "    token_train = i.split()\n",
    "    length_train.append(len(token_train))\n",
    "print(\"Максимальное число слов в предложении (тренировочная выборка) = \" + str(max(length_train)))\n",
    "print(\"Минимальное число слов в предложении (тренировочная выборка) = \" + str(min(length_train)))"
   ]
  },
  {
   "cell_type": "code",
   "execution_count": 15,
   "metadata": {},
   "outputs": [
    {
     "name": "stdout",
     "output_type": "stream",
     "text": [
      "Медиана числа слов в предложении в тестовой выборке = 25\n",
      "Математическое ожидание = 26.89068825910931\n"
     ]
    }
   ],
   "source": [
    "# вычисление математического ожидания и медианы числа слов в предложении (тестовая выборка)\n",
    "\n",
    "#медиана\n",
    "f = open('texts/sp_text_test.txt')\n",
    "text_test = f.read()\n",
    "from nltk.tokenize import sent_tokenize\n",
    "sentences_test = sent_tokenize(text_test)\n",
    "length_test = []\n",
    "for i in sentences_test:\n",
    "    token_test = i.split()\n",
    "    length_test.append(len(token_test))\n",
    "    length_test.sort()\n",
    "#print(length_test)\n",
    "import math\n",
    "if len(length_test) % 2 == 0:\n",
    "    index_1 = int(len(length_test) / 2)\n",
    "    index_2 = int(index_1 - 1)\n",
    "    mediana_test = (length_test[index_1] + length_test[index_2]) / 2\n",
    "    print(mediana_test)\n",
    "else:\n",
    "    index = len(length_test) / 2\n",
    "    index = math.floor(index)\n",
    "    mediana_test = length_test[index]\n",
    "    print(\"Медиана числа слов в предложении в тестовой выборке = \" + str(mediana_test))\n",
    "\n",
    "#медиана второй вариант:\n",
    "import numpy as np\n",
    "from nltk.tokenize import sent_tokenize\n",
    "sentences_test = sent_tokenize(text_test)\n",
    "length_test = []\n",
    "for i in sentences_test:\n",
    "    token_test = i.split()\n",
    "    length_test.append(len(token_test))\n",
    "#mediana = np.median(length_test)\n",
    "#mediana\n",
    "\n",
    "mean = np.mean(length_test)\n",
    "print('Математическое ожидание = ' + str(mean))"
   ]
  },
  {
   "cell_type": "code",
   "execution_count": 16,
   "metadata": {},
   "outputs": [
    {
     "name": "stdout",
     "output_type": "stream",
     "text": [
      "26.0\n",
      "Математическое ожидание = 27.264767054908486\n"
     ]
    }
   ],
   "source": [
    "# вычисление математического ожидания и медианы числа слов в предложении (тренировочная выборка)\n",
    "\n",
    "#медиана\n",
    "f = open('texts/sp_text_train.txt')\n",
    "text_train = f.read()\n",
    "sentences_train = sent_tokenize(text_train)\n",
    "length_train = []\n",
    "for i in sentences_train:\n",
    "    token_train = i.split()\n",
    "    length_train.append(len(token_train))\n",
    "    length_train.sort()\n",
    "#print(length_train)\n",
    "import math\n",
    "if len(length_train) % 2 == 0:\n",
    "    index_1 = int(len(length_train) / 2)\n",
    "    index_2 = int(index_1 - 1)\n",
    "    mediana_train = (length_train[index_1] + length_train[index_2]) / 2\n",
    "    print(mediana_train)\n",
    "else:\n",
    "    index = len(length_train) / 2\n",
    "    index = math.floor(index)\n",
    "    mediana_train = length_train[index]\n",
    "    print(\"Медиана числа слов в предложении в тренировочной выборке = \" + str(mediana_train))\n",
    "\n",
    "import numpy as np\n",
    "from nltk.tokenize import sent_tokenize\n",
    "sentences_test = sent_tokenize(text_train)\n",
    "length_test = []\n",
    "for i in sentences_test:\n",
    "    token_test = i.split()\n",
    "    length_test.append(len(token_test))\n",
    "mean = np.mean(length_test)\n",
    "print('Математическое ожидание = ' + str(mean))"
   ]
  },
  {
   "cell_type": "markdown",
   "metadata": {},
   "source": [
    "**3. SimpleRNN:**"
   ]
  },
  {
   "cell_type": "code",
   "execution_count": 17,
   "metadata": {},
   "outputs": [
    {
     "name": "stderr",
     "output_type": "stream",
     "text": [
      "Using TensorFlow backend.\n"
     ]
    }
   ],
   "source": [
    "import tensorflow\n",
    "from keras.layers.recurrent import SimpleRNN\n",
    "from keras.models import Sequential\n",
    "from keras.layers import Dense, Activation\n",
    "from keras.layers.core import Activation, Dense, Dropout, SpatialDropout1D\n",
    "from keras.layers.embeddings import Embedding\n",
    "from keras.layers.recurrent import LSTM\n",
    "from keras.preprocessing import sequence\n",
    "from sklearn.model_selection import train_test_split\n",
    "import numpy as np\n",
    "import collections\n",
    "import matplotlib.pyplot as plt\n",
    "import nltk\n",
    "import os"
   ]
  },
  {
   "cell_type": "code",
   "execution_count": 18,
   "metadata": {},
   "outputs": [
    {
     "name": "stdout",
     "output_type": "stream",
     "text": [
      "Extracting text from input...\n"
     ]
    }
   ],
   "source": [
    "#тестовая выборка\n",
    "\n",
    "INPUT_FILE = \"texts/cr_text_test.txt\" \n",
    "\n",
    "# извлечение входных данных\n",
    "print(\"Extracting text from input...\")\n",
    "fin = open(INPUT_FILE, 'r', encoding='utf-8')\n",
    "lines = []\n",
    "for line in fin:\n",
    "    line = line.strip().lower()\n",
    "    if len(line) == 0:\n",
    "        continue\n",
    "    lines.append(line)\n",
    "fin.close()\n",
    "text = \" \".join(lines)"
   ]
  },
  {
   "cell_type": "code",
   "execution_count": 19,
   "metadata": {},
   "outputs": [],
   "source": [
    "# создание таблиц\n",
    "\n",
    "chars = set([c for c in text])\n",
    "nb_chars = len(chars)\n",
    "char2index = dict((c, i) for i, c in enumerate(chars))\n",
    "index2char = dict((i, c) for i, c in enumerate(chars))"
   ]
  },
  {
   "cell_type": "code",
   "execution_count": 20,
   "metadata": {},
   "outputs": [
    {
     "data": {
      "text/plain": [
       "{'w': 0,\n",
       " '.': 1,\n",
       " '&': 2,\n",
       " 'ž': 3,\n",
       " 'e': 4,\n",
       " ']': 5,\n",
       " 'd': 6,\n",
       " 'u': 7,\n",
       " 'h': 8,\n",
       " ',': 9,\n",
       " 'c': 10,\n",
       " '2': 11,\n",
       " '4': 12,\n",
       " \"'\": 13,\n",
       " '9': 14,\n",
       " 'n': 15,\n",
       " '\"': 16,\n",
       " 'g': 17,\n",
       " 'l': 18,\n",
       " 's': 19,\n",
       " 'j': 20,\n",
       " '[': 21,\n",
       " 'z': 22,\n",
       " ';': 23,\n",
       " 'p': 24,\n",
       " ' ': 25,\n",
       " 'a': 26,\n",
       " 'x': 27,\n",
       " '5': 28,\n",
       " '0': 29,\n",
       " 'đ': 30,\n",
       " 'y': 31,\n",
       " 't': 32,\n",
       " 'ö': 33,\n",
       " '3': 34,\n",
       " 'č': 35,\n",
       " '+': 36,\n",
       " ')': 37,\n",
       " 'f': 38,\n",
       " '-': 39,\n",
       " '6': 40,\n",
       " '%': 41,\n",
       " 'o': 42,\n",
       " ':': 43,\n",
       " 'ü': 44,\n",
       " '?': 45,\n",
       " '(': 46,\n",
       " 'k': 47,\n",
       " 'ć': 48,\n",
       " '1': 49,\n",
       " 'i': 50,\n",
       " '7': 51,\n",
       " 'q': 52,\n",
       " 'm': 53,\n",
       " 'é': 54,\n",
       " 'r': 55,\n",
       " 'š': 56,\n",
       " '8': 57,\n",
       " 'v': 58,\n",
       " 'ﬂ': 59,\n",
       " 'b': 60}"
      ]
     },
     "execution_count": 20,
     "metadata": {},
     "output_type": "execute_result"
    }
   ],
   "source": [
    "char2index"
   ]
  },
  {
   "cell_type": "code",
   "execution_count": 21,
   "metadata": {},
   "outputs": [],
   "source": [
    "# создание входных данных и меток из текста\n",
    "\n",
    "SEQLEN = 10\n",
    "STEP = 1\n",
    "\n",
    "input_chars = []\n",
    "label_chars = []\n",
    "for i in range(0, len(text) - SEQLEN, STEP):\n",
    "    input_chars.append(text[i:i + SEQLEN])\n",
    "    label_chars.append(text[i + SEQLEN])"
   ]
  },
  {
   "cell_type": "code",
   "execution_count": 22,
   "metadata": {},
   "outputs": [],
   "source": [
    "# векторизация входных данных и символов меток\n",
    "\n",
    "X = np.zeros((len(input_chars), SEQLEN, nb_chars), dtype=np.bool)\n",
    "y = np.zeros((len(input_chars), nb_chars), dtype=np.bool)\n",
    "for i, input_char in enumerate(input_chars):\n",
    "    for j, ch in enumerate(input_char):\n",
    "        X[i, j, char2index[ch]] = 1\n",
    "    y[i, char2index[label_chars[i]]] = 1"
   ]
  },
  {
   "cell_type": "code",
   "execution_count": 23,
   "metadata": {},
   "outputs": [],
   "source": [
    "# построение модели\n",
    "\n",
    "HIDDEN_SIZE = 128 # данная цифра выбрана с учётом того, что обучение может надолго затянуться или не хватить для адекватного порождения текстов (ёмкости может не хватить)\n",
    "BATCH_SIZE = 128\n",
    "NUM_ITERATIONS = 25\n",
    "NUM_EPOCHS_PER_ITERATION = 1\n",
    "NUM_PREDS_PER_EPOCH = 100\n",
    "\n",
    "model = Sequential()\n",
    "model.add(SimpleRNN(HIDDEN_SIZE, return_sequences=False,\n",
    "                    input_shape=(SEQLEN, nb_chars),\n",
    "                    unroll=True))\n",
    "model.add(Dense(nb_chars))\n",
    "model.add(Activation(\"softmax\"))\n",
    "\n",
    "model.compile(loss=\"categorical_crossentropy\", optimizer=\"rmsprop\")"
   ]
  },
  {
   "cell_type": "code",
   "execution_count": 25,
   "metadata": {},
   "outputs": [
    {
     "name": "stdout",
     "output_type": "stream",
     "text": [
      "==================================================\n",
      "Iteration #: 0\n",
      "Epoch 1/1\n",
      "140395/140395 [==============================] - 17s 121us/step - loss: 2.3044\n",
      "Generating from seed:  kazao je \n",
      " kazao je  p o   o o                                                                                                                                                                                               \n",
      "==================================================\n",
      "Iteration #: 1\n",
      "Epoch 1/1\n",
      "140395/140395 [==============================] - 18s 125us/step - loss: 2.2524\n",
      "Generating from seed: njiga za k\n",
      "njiga za k o j o i                                                                                                                                                                                                 \n",
      "==================================================\n",
      "Iteration #: 2\n",
      "Epoch 1/1\n",
      "140395/140395 [==============================] - 18s 128us/step - loss: 2.2116\n",
      "Generating from seed: u u siječn\n",
      "u u siječn i                                                                                                                                                                                                       \n",
      "==================================================\n",
      "Iteration #: 3\n",
      "Epoch 1/1\n",
      "140395/140395 [==============================] - 25s 178us/step - loss: 2.1702\n",
      "Generating from seed: nik u bosn\n",
      "nik u bosn i                                                                                                                                                                                                       \n",
      "==================================================\n",
      "Iteration #: 4\n",
      "Epoch 1/1\n",
      "140395/140395 [==============================] - 41s 291us/step - loss: 2.1271\n",
      "Generating from seed: ma najnovi\n",
      "ma najnovi                                                                                                                                                                                                         \n",
      "==================================================\n",
      "Iteration #: 5\n",
      "Epoch 1/1\n",
      "140395/140395 [==============================] - 20s 145us/step - loss: 2.0872\n",
      "Generating from seed: ć naložio \n",
      "ć naložio  j e   e e   o                                                                                                                                                                                           \n",
      "==================================================\n",
      "Iteration #: 6\n",
      "Epoch 1/1\n",
      "140395/140395 [==============================] - 28s 196us/step - loss: 2.0512\n",
      "Generating from seed: od u skopl\n",
      "od u skopl i   u   v                                                                                                                                                                                               \n",
      "==================================================\n",
      "Iteration #: 7\n",
      "Epoch 1/1\n",
      "140395/140395 [==============================] - 27s 189us/step - loss: 2.0178\n",
      "Generating from seed: nosi dviju\n",
      "nosi dviju                                                                                                                                                                                                         \n",
      "==================================================\n",
      "Iteration #: 8\n",
      "Epoch 1/1\n",
      "140395/140395 [==============================] - 28s 201us/step - loss: 1.9893\n",
      "Generating from seed: 20 stranak\n",
      "20 stranak       a                                                                                                                                                                                                 \n",
      "==================================================\n",
      "Iteration #: 9\n",
      "Epoch 1/1\n",
      "140395/140395 [==============================] - 28s 202us/step - loss: 1.9627\n",
      "Generating from seed: čevića je \n",
      "čevića je  p o r j e n i i                                                                                                                                                                                         \n",
      "==================================================\n",
      "Iteration #: 10\n",
      "Epoch 1/1\n",
      "140395/140395 [==============================] - 25s 181us/step - loss: 1.9385\n",
      "Generating from seed: u, koji iz\n",
      "u, koji iz   r n n                                                                                                                                                                                                 \n",
      "==================================================\n",
      "Iteration #: 11\n",
      "Epoch 1/1\n",
      "140395/140395 [==============================] - 27s 190us/step - loss: 1.9168\n",
      "Generating from seed:  za doba k\n",
      " za doba k a o p i s   a                                                                                                                                                                                           \n",
      "==================================================\n",
      "Iteration #: 12\n",
      "Epoch 1/1\n",
      "140395/140395 [==============================] - 29s 208us/step - loss: 1.8974\n",
      "Generating from seed: inamiku pr\n",
      "inamiku pr e a p v u u                                                                                                                                                                                             \n",
      "==================================================\n",
      "Iteration #: 13\n",
      "Epoch 1/1\n",
      "140395/140395 [==============================] - 27s 195us/step - loss: 1.8799\n",
      "Generating from seed: e ne jamče\n",
      "e ne jamče n                                                                                                                                                                                                       \n",
      "==================================================\n",
      "Iteration #: 14\n",
      "Epoch 1/1\n",
      "140395/140395 [==============================] - 27s 192us/step - loss: 1.8637\n",
      "Generating from seed: e, poput p\n",
      "e, poput p r o a o   o o a                                                                                                                                                                                         \n",
      "==================================================\n",
      "Iteration #: 15\n",
      "Epoch 1/1\n",
      "140395/140395 [==============================] - 25s 178us/step - loss: 1.84810s - loss: 1.\n",
      "Generating from seed: ima grčke \n",
      "ima grčke  p u r g e n a                                                                                                                                                                                           \n",
      "==================================================\n",
      "Iteration #: 16\n",
      "Epoch 1/1\n",
      "140395/140395 [==============================] - 35s 249us/step - loss: 1.8351\n",
      "Generating from seed: i potrošač\n",
      "i potrošač a j                                                                                                                                                                                                     \n",
      "==================================================\n",
      "Iteration #: 17\n",
      "Epoch 1/1\n",
      "140395/140395 [==============================] - 19s 138us/step - loss: 1.8223\n",
      "Generating from seed: kaže šupe.\n",
      "kaže šupe.     e                                                                                                                                                                                                   \n",
      "==================================================\n",
      "Iteration #: 18\n",
      "Epoch 1/1\n",
      "140395/140395 [==============================] - 25s 176us/step - loss: 1.8103\n",
      "Generating from seed: mljama. vl\n",
      "mljama. vl a d a j u v         . . . . . . . . . . . . . . . . . . . . . . . . . . . . . . . . . . . . . . . . . . . . . . . . . . . . . . . . . . . . . . . . . . . . . . . . . . . . . . . . . . . . . . . . . . \n",
      "==================================================\n",
      "Iteration #: 19\n",
      "Epoch 1/1\n",
      "140395/140395 [==============================] - 26s 183us/step - loss: 1.8005\n",
      "Generating from seed: nosti prem\n",
      "nosti prem a e r n . . u .     . . . . . . . . . . . . . . . . . . . . . . . . . . . . . . . . . . . . . . . . . . . . . . . . . . . . . . . . . . . . . . . . . . . . . . . . . . . . . . . . . . . . . . . . . . \n",
      "==================================================\n",
      "Iteration #: 20\n",
      "Epoch 1/1\n"
     ]
    },
    {
     "name": "stdout",
     "output_type": "stream",
     "text": [
      "140395/140395 [==============================] - 24s 171us/step - loss: 1.7908\n",
      "Generating from seed: ažnost za \n",
      "ažnost za  s o r n k n a                                                                                                                                                                                           \n",
      "==================================================\n",
      "Iteration #: 21\n",
      "Epoch 1/1\n",
      "140395/140395 [==============================] - 26s 189us/step - loss: 1.7802\n",
      "Generating from seed: i uspješan\n",
      "i uspješan j . a . u   . o . . . . . . . . . . . . . . . . . . . . . . . . . . . . . . . . . . . . . . . . . . . . . . . . . . . . . . . . . . . . . . . . . . . . . . . . . . . . . . . . . . . . . . . . . . . . \n",
      "==================================================\n",
      "Iteration #: 22\n",
      "Epoch 1/1\n",
      "140395/140395 [==============================] - 27s 189us/step - loss: 1.77230s \n",
      "Generating from seed:  zbroj svi\n",
      " zbroj svi j   j .             . . . . . . . . . . . . . . . . . . . . . . . . . . . . . . . . . . . . . . . . . . . . . . . . . . . . . . . . . . . . . . . . . . . . . . . . . . . . . . . . . . . . . . . . . . \n",
      "==================================================\n",
      "Iteration #: 23\n",
      "Epoch 1/1\n",
      "140395/140395 [==============================] - 28s 199us/step - loss: 1.76310s - loss: \n",
      "Generating from seed: ao i banke\n",
      "ao i banke   u i u ,                                                                                                                                                                                               \n",
      "==================================================\n",
      "Iteration #: 24\n",
      "Epoch 1/1\n",
      "140395/140395 [==============================] - 37s 263us/step - loss: 1.7562\n",
      "Generating from seed: primjera š\n",
      "primjera š i e a e o         . . . . . . . . . . . . . . . . . . . . . . . . . . . . . . . . . . . . . . . . . . . . . . . . . . . . . . . . . . . . . . . . . . . . . . . . . . . . . . . . . . . . . . . . . . . \n"
     ]
    }
   ],
   "source": [
    "for iteration in range(NUM_ITERATIONS):\n",
    "    print(\"=\" * 50)\n",
    "    print(\"Iteration #: %d\" % (iteration))\n",
    "    model.fit(X, y, batch_size=BATCH_SIZE, epochs=NUM_EPOCHS_PER_ITERATION)\n",
    "    \n",
    "    # тестируем модель\n",
    "    # рандомно выбираем из input_chars, для генерации текста\n",
    "    test_idx = np.random.randint(len(input_chars))\n",
    "    test_chars = input_chars[test_idx]\n",
    "    print(\"Generating from seed: %s\" % (test_chars))\n",
    "    print(test_chars, end=\" \")\n",
    "    for i in range(NUM_PREDS_PER_EPOCH):\n",
    "        Xtest = np.zeros((1, SEQLEN, nb_chars))\n",
    "        for i, ch in enumerate(test_chars):\n",
    "            Xtest[0, i, char2index[ch]] = 1 # формируем вектор\n",
    "        pred = model.predict(Xtest, verbose=0)[0]\n",
    "        ypred = index2char[np.argmax(pred)]\n",
    "        print(ypred, end=\" \")\n",
    "        #test_chars.append(ypred) # добавляем предсказанное слово в последовательность\n",
    "        test_chars = test_chars[1:]\n",
    "    print()"
   ]
  },
  {
   "cell_type": "markdown",
   "metadata": {},
   "source": [
    "**4. LSTM:**"
   ]
  },
  {
   "cell_type": "code",
   "execution_count": 27,
   "metadata": {},
   "outputs": [
    {
     "ename": "ValueError",
     "evalue": "not enough values to unpack (expected 2, got 1)",
     "output_type": "error",
     "traceback": [
      "\u001b[1;31m---------------------------------------------------------------------------\u001b[0m",
      "\u001b[1;31mValueError\u001b[0m                                Traceback (most recent call last)",
      "\u001b[1;32m<ipython-input-27-e981de0631ab>\u001b[0m in \u001b[0;36m<module>\u001b[1;34m()\u001b[0m\n\u001b[0;32m     10\u001b[0m \u001b[0mftrain\u001b[0m \u001b[1;33m=\u001b[0m \u001b[0mopen\u001b[0m\u001b[1;33m(\u001b[0m\u001b[0mos\u001b[0m\u001b[1;33m.\u001b[0m\u001b[0mpath\u001b[0m\u001b[1;33m.\u001b[0m\u001b[0mjoin\u001b[0m\u001b[1;33m(\u001b[0m\u001b[0mDATA_DIR\u001b[0m\u001b[1;33m,\u001b[0m \u001b[1;34m\"cr_text_test.txt\"\u001b[0m\u001b[1;33m)\u001b[0m\u001b[1;33m,\u001b[0m \u001b[1;34m'r'\u001b[0m\u001b[1;33m,\u001b[0m \u001b[0mencoding\u001b[0m\u001b[1;33m=\u001b[0m\u001b[1;34m'utf-8'\u001b[0m\u001b[1;33m)\u001b[0m\u001b[1;33m\u001b[0m\u001b[0m\n\u001b[0;32m     11\u001b[0m \u001b[1;32mfor\u001b[0m \u001b[0mline\u001b[0m \u001b[1;32min\u001b[0m \u001b[0mftrain\u001b[0m\u001b[1;33m:\u001b[0m\u001b[1;33m\u001b[0m\u001b[0m\n\u001b[1;32m---> 12\u001b[1;33m     \u001b[0mlabel\u001b[0m\u001b[1;33m,\u001b[0m \u001b[0msentence\u001b[0m \u001b[1;33m=\u001b[0m \u001b[0mline\u001b[0m\u001b[1;33m.\u001b[0m\u001b[0mstrip\u001b[0m\u001b[1;33m(\u001b[0m\u001b[1;33m)\u001b[0m\u001b[1;33m.\u001b[0m\u001b[0msplit\u001b[0m\u001b[1;33m(\u001b[0m\u001b[1;34m\"\\t\"\u001b[0m\u001b[1;33m)\u001b[0m\u001b[1;33m\u001b[0m\u001b[0m\n\u001b[0m\u001b[0;32m     13\u001b[0m     \u001b[0mwords\u001b[0m \u001b[1;33m=\u001b[0m \u001b[0mnltk\u001b[0m\u001b[1;33m.\u001b[0m\u001b[0mword_tokenize\u001b[0m\u001b[1;33m(\u001b[0m\u001b[0msentence\u001b[0m\u001b[1;33m.\u001b[0m\u001b[0mlower\u001b[0m\u001b[1;33m(\u001b[0m\u001b[1;33m)\u001b[0m\u001b[1;33m)\u001b[0m\u001b[1;33m\u001b[0m\u001b[0m\n\u001b[0;32m     14\u001b[0m     \u001b[1;32mif\u001b[0m \u001b[0mlen\u001b[0m\u001b[1;33m(\u001b[0m\u001b[0mwords\u001b[0m\u001b[1;33m)\u001b[0m \u001b[1;33m>\u001b[0m \u001b[0mmaxlen\u001b[0m\u001b[1;33m:\u001b[0m\u001b[1;33m\u001b[0m\u001b[0m\n",
      "\u001b[1;31mValueError\u001b[0m: not enough values to unpack (expected 2, got 1)"
     ]
    }
   ],
   "source": [
    "import collections\n",
    "import os\n",
    "DATA_DIR = \"./texts\"\n",
    "\n",
    "# Чтение данных и генерация словарного запаса\n",
    "\n",
    "maxlen = 0\n",
    "word_freqs = collections.Counter()\n",
    "num_recs = 0\n",
    "ftrain = open(os.path.join(DATA_DIR, \"cr_text_test.txt\"), 'r', encoding='utf-8')\n",
    "for line in ftrain:\n",
    "    label, sentence = line.strip().split(\"\\t\")\n",
    "    words = nltk.word_tokenize(sentence.lower())\n",
    "    if len(words) > maxlen:\n",
    "        maxlen = len(words)\n",
    "    for word in words:\n",
    "        word_freqs[word] += 1\n",
    "    num_recs += 1\n",
    "ftrain.close()"
   ]
  },
  {
   "cell_type": "code",
   "execution_count": 28,
   "metadata": {},
   "outputs": [
    {
     "name": "stdout",
     "output_type": "stream",
     "text": [
      "0\n",
      "0\n"
     ]
    }
   ],
   "source": [
    "# Получение информации о корпусе\n",
    "\n",
    "print(maxlen)            \n",
    "print(len(word_freqs))   "
   ]
  },
  {
   "cell_type": "code",
   "execution_count": 31,
   "metadata": {},
   "outputs": [],
   "source": [
    "MAX_FEATURES = len(tokens_test) + 2\n",
    "MAX_SENTENCE_LENGTH = max(length_test)"
   ]
  },
  {
   "cell_type": "code",
   "execution_count": 34,
   "metadata": {},
   "outputs": [
    {
     "ename": "AttributeError",
     "evalue": "'list' object has no attribute 'most_common'",
     "output_type": "error",
     "traceback": [
      "\u001b[1;31m---------------------------------------------------------------------------\u001b[0m",
      "\u001b[1;31mAttributeError\u001b[0m                            Traceback (most recent call last)",
      "\u001b[1;32m<ipython-input-34-60f121a5d891>\u001b[0m in \u001b[0;36m<module>\u001b[1;34m()\u001b[0m\n\u001b[0;32m      1\u001b[0m \u001b[0mvocab_size\u001b[0m \u001b[1;33m=\u001b[0m \u001b[0mmin\u001b[0m\u001b[1;33m(\u001b[0m\u001b[0mMAX_FEATURES\u001b[0m\u001b[1;33m,\u001b[0m \u001b[0mlen\u001b[0m\u001b[1;33m(\u001b[0m\u001b[0mtoken_test\u001b[0m\u001b[1;33m)\u001b[0m\u001b[1;33m)\u001b[0m \u001b[1;33m+\u001b[0m \u001b[1;36m2\u001b[0m\u001b[1;33m\u001b[0m\u001b[0m\n\u001b[1;32m----> 2\u001b[1;33m \u001b[0mword2index\u001b[0m \u001b[1;33m=\u001b[0m \u001b[1;33m{\u001b[0m\u001b[0mx\u001b[0m\u001b[1;33m[\u001b[0m\u001b[1;36m0\u001b[0m\u001b[1;33m]\u001b[0m\u001b[1;33m:\u001b[0m \u001b[0mi\u001b[0m\u001b[1;33m+\u001b[0m\u001b[1;36m2\u001b[0m \u001b[1;32mfor\u001b[0m \u001b[0mi\u001b[0m\u001b[1;33m,\u001b[0m \u001b[0mx\u001b[0m \u001b[1;32min\u001b[0m \u001b[0menumerate\u001b[0m\u001b[1;33m(\u001b[0m\u001b[0mtoken_test\u001b[0m\u001b[1;33m.\u001b[0m\u001b[0mmost_common\u001b[0m\u001b[1;33m(\u001b[0m\u001b[0mMAX_FEATURES\u001b[0m\u001b[1;33m)\u001b[0m\u001b[1;33m)\u001b[0m\u001b[1;33m}\u001b[0m\u001b[1;33m\u001b[0m\u001b[0m\n\u001b[0m\u001b[0;32m      3\u001b[0m \u001b[0mword2index\u001b[0m\u001b[1;33m[\u001b[0m\u001b[1;34m\"UNK\"\u001b[0m\u001b[1;33m]\u001b[0m \u001b[1;33m=\u001b[0m \u001b[1;36m1\u001b[0m\u001b[1;33m\u001b[0m\u001b[0m\n\u001b[0;32m      4\u001b[0m \u001b[0mindex2word\u001b[0m \u001b[1;33m=\u001b[0m \u001b[1;33m{\u001b[0m\u001b[0mv\u001b[0m\u001b[1;33m:\u001b[0m\u001b[0mk\u001b[0m \u001b[1;32mfor\u001b[0m \u001b[0mk\u001b[0m\u001b[1;33m,\u001b[0m \u001b[0mv\u001b[0m \u001b[1;32min\u001b[0m \u001b[0mword2index\u001b[0m\u001b[1;33m.\u001b[0m\u001b[0mitems\u001b[0m\u001b[1;33m(\u001b[0m\u001b[1;33m)\u001b[0m\u001b[1;33m}\u001b[0m\u001b[1;33m\u001b[0m\u001b[0m\n",
      "\u001b[1;31mAttributeError\u001b[0m: 'list' object has no attribute 'most_common'"
     ]
    }
   ],
   "source": [
    "vocab_size = min(MAX_FEATURES, len(token_test)) + 2\n",
    "word2index = {x[0]: i+2 for i, x in enumerate(token_test.most_common(MAX_FEATURES))}\n",
    "word2index[\"UNK\"] = 1\n",
    "index2word = {v:k for k, v in word2index.items()}"
   ]
  },
  {
   "cell_type": "code",
   "execution_count": 35,
   "metadata": {},
   "outputs": [
    {
     "ename": "ValueError",
     "evalue": "not enough values to unpack (expected 2, got 1)",
     "output_type": "error",
     "traceback": [
      "\u001b[1;31m---------------------------------------------------------------------------\u001b[0m",
      "\u001b[1;31mValueError\u001b[0m                                Traceback (most recent call last)",
      "\u001b[1;32m<ipython-input-35-b1d610250a01>\u001b[0m in \u001b[0;36m<module>\u001b[1;34m()\u001b[0m\n\u001b[0;32m      6\u001b[0m \u001b[0mftrain\u001b[0m \u001b[1;33m=\u001b[0m \u001b[0mopen\u001b[0m\u001b[1;33m(\u001b[0m\u001b[0mos\u001b[0m\u001b[1;33m.\u001b[0m\u001b[0mpath\u001b[0m\u001b[1;33m.\u001b[0m\u001b[0mjoin\u001b[0m\u001b[1;33m(\u001b[0m\u001b[0mDATA_DIR\u001b[0m\u001b[1;33m,\u001b[0m \u001b[1;34m\"cr_text_test.txt\"\u001b[0m\u001b[1;33m)\u001b[0m\u001b[1;33m,\u001b[0m \u001b[1;34m'r'\u001b[0m\u001b[1;33m,\u001b[0m \u001b[0mencoding\u001b[0m\u001b[1;33m=\u001b[0m\u001b[1;34m'utf-8'\u001b[0m\u001b[1;33m)\u001b[0m\u001b[1;33m\u001b[0m\u001b[0m\n\u001b[0;32m      7\u001b[0m \u001b[1;32mfor\u001b[0m \u001b[0mline\u001b[0m \u001b[1;32min\u001b[0m \u001b[0mftrain\u001b[0m\u001b[1;33m:\u001b[0m\u001b[1;33m\u001b[0m\u001b[0m\n\u001b[1;32m----> 8\u001b[1;33m     \u001b[0mlabel\u001b[0m\u001b[1;33m,\u001b[0m \u001b[0msentence\u001b[0m \u001b[1;33m=\u001b[0m \u001b[0mline\u001b[0m\u001b[1;33m.\u001b[0m\u001b[0mstrip\u001b[0m\u001b[1;33m(\u001b[0m\u001b[1;33m)\u001b[0m\u001b[1;33m.\u001b[0m\u001b[0msplit\u001b[0m\u001b[1;33m(\u001b[0m\u001b[1;34m\"\\t\"\u001b[0m\u001b[1;33m)\u001b[0m\u001b[1;33m\u001b[0m\u001b[0m\n\u001b[0m\u001b[0;32m      9\u001b[0m     \u001b[0mwords\u001b[0m \u001b[1;33m=\u001b[0m \u001b[0mnltk\u001b[0m\u001b[1;33m.\u001b[0m\u001b[0mword_tokenize\u001b[0m\u001b[1;33m(\u001b[0m\u001b[0msentence\u001b[0m\u001b[1;33m.\u001b[0m\u001b[0mlower\u001b[0m\u001b[1;33m(\u001b[0m\u001b[1;33m)\u001b[0m\u001b[1;33m)\u001b[0m\u001b[1;33m\u001b[0m\u001b[0m\n\u001b[0;32m     10\u001b[0m     \u001b[0mseqs\u001b[0m \u001b[1;33m=\u001b[0m \u001b[1;33m[\u001b[0m\u001b[1;33m]\u001b[0m\u001b[1;33m\u001b[0m\u001b[0m\n",
      "\u001b[1;31mValueError\u001b[0m: not enough values to unpack (expected 2, got 1)"
     ]
    }
   ],
   "source": [
    "# преобразование предложений в последовательности\n",
    "\n",
    "X = np.empty((num_recs, ), dtype=list)\n",
    "y = np.zeros((num_recs, ))\n",
    "i = 0\n",
    "ftrain = open(os.path.join(DATA_DIR, \"cr_text_test.txt\"), 'r', encoding='utf-8')\n",
    "for line in ftrain:\n",
    "    label, sentence = line.strip().split(\"\\t\")\n",
    "    words = nltk.word_tokenize(sentence.lower())\n",
    "    seqs = []\n",
    "    for word in words:\n",
    "        if word in word2index:\n",
    "            seqs.append(word2index[word])\n",
    "        else:\n",
    "            seqs.append(word2index[\"UNK\"])\n",
    "    X[i] = seqs\n",
    "    y[i] = int(label)\n",
    "    i += 1\n",
    "ftrain.close()"
   ]
  },
  {
   "cell_type": "code",
   "execution_count": 36,
   "metadata": {},
   "outputs": [],
   "source": [
    "# Заполнение нулями\n",
    "X = sequence.pad_sequences(X, maxlen=MAX_SENTENCE_LENGTH)"
   ]
  },
  {
   "cell_type": "code",
   "execution_count": 37,
   "metadata": {},
   "outputs": [
    {
     "name": "stdout",
     "output_type": "stream",
     "text": [
      "(0, 133) (0, 133) (0,) (0,)\n"
     ]
    }
   ],
   "source": [
    "# Разделение на тренировочную и тестовую выборки\n",
    "Xtrain, Xtest, ytrain, ytest = train_test_split(X, y, test_size=0.2, \n",
    "                                                random_state=42)\n",
    "print(Xtrain.shape, Xtest.shape, ytrain.shape, ytest.shape)"
   ]
  },
  {
   "cell_type": "code",
   "execution_count": 38,
   "metadata": {},
   "outputs": [
    {
     "name": "stdout",
     "output_type": "stream",
     "text": [
      "Train on 0 samples, validate on 0 samples\n",
      "Epoch 1/10\n"
     ]
    },
    {
     "ename": "AttributeError",
     "evalue": "'ProgbarLogger' object has no attribute 'log_values'",
     "output_type": "error",
     "traceback": [
      "\u001b[1;31m---------------------------------------------------------------------------\u001b[0m",
      "\u001b[1;31mAttributeError\u001b[0m                            Traceback (most recent call last)",
      "\u001b[1;32m<ipython-input-38-f81bd4fde13a>\u001b[0m in \u001b[0;36m<module>\u001b[1;34m()\u001b[0m\n\u001b[0;32m     17\u001b[0m history = model.fit(Xtrain, ytrain, batch_size=BATCH_SIZE, \n\u001b[0;32m     18\u001b[0m                     \u001b[0mepochs\u001b[0m\u001b[1;33m=\u001b[0m\u001b[0mNUM_EPOCHS\u001b[0m\u001b[1;33m,\u001b[0m\u001b[1;33m\u001b[0m\u001b[0m\n\u001b[1;32m---> 19\u001b[1;33m                     validation_data=(Xtest, ytest))\n\u001b[0m",
      "\u001b[1;32m~\\Anaconda3\\envs\\project\\lib\\site-packages\\keras\\engine\\training.py\u001b[0m in \u001b[0;36mfit\u001b[1;34m(self, x, y, batch_size, epochs, verbose, callbacks, validation_split, validation_data, shuffle, class_weight, sample_weight, initial_epoch, steps_per_epoch, validation_steps, **kwargs)\u001b[0m\n\u001b[0;32m   1037\u001b[0m                                         \u001b[0minitial_epoch\u001b[0m\u001b[1;33m=\u001b[0m\u001b[0minitial_epoch\u001b[0m\u001b[1;33m,\u001b[0m\u001b[1;33m\u001b[0m\u001b[0m\n\u001b[0;32m   1038\u001b[0m                                         \u001b[0msteps_per_epoch\u001b[0m\u001b[1;33m=\u001b[0m\u001b[0msteps_per_epoch\u001b[0m\u001b[1;33m,\u001b[0m\u001b[1;33m\u001b[0m\u001b[0m\n\u001b[1;32m-> 1039\u001b[1;33m                                         validation_steps=validation_steps)\n\u001b[0m\u001b[0;32m   1040\u001b[0m \u001b[1;33m\u001b[0m\u001b[0m\n\u001b[0;32m   1041\u001b[0m     def evaluate(self, x=None, y=None,\n",
      "\u001b[1;32m~\\Anaconda3\\envs\\project\\lib\\site-packages\\keras\\engine\\training_arrays.py\u001b[0m in \u001b[0;36mfit_loop\u001b[1;34m(model, f, ins, out_labels, batch_size, epochs, verbose, callbacks, val_f, val_ins, shuffle, callback_metrics, initial_epoch, steps_per_epoch, validation_steps)\u001b[0m\n\u001b[0;32m    215\u001b[0m                         \u001b[1;32mfor\u001b[0m \u001b[0ml\u001b[0m\u001b[1;33m,\u001b[0m \u001b[0mo\u001b[0m \u001b[1;32min\u001b[0m \u001b[0mzip\u001b[0m\u001b[1;33m(\u001b[0m\u001b[0mout_labels\u001b[0m\u001b[1;33m,\u001b[0m \u001b[0mval_outs\u001b[0m\u001b[1;33m)\u001b[0m\u001b[1;33m:\u001b[0m\u001b[1;33m\u001b[0m\u001b[0m\n\u001b[0;32m    216\u001b[0m                             \u001b[0mepoch_logs\u001b[0m\u001b[1;33m[\u001b[0m\u001b[1;34m'val_'\u001b[0m \u001b[1;33m+\u001b[0m \u001b[0ml\u001b[0m\u001b[1;33m]\u001b[0m \u001b[1;33m=\u001b[0m \u001b[0mo\u001b[0m\u001b[1;33m\u001b[0m\u001b[0m\n\u001b[1;32m--> 217\u001b[1;33m         \u001b[0mcallbacks\u001b[0m\u001b[1;33m.\u001b[0m\u001b[0mon_epoch_end\u001b[0m\u001b[1;33m(\u001b[0m\u001b[0mepoch\u001b[0m\u001b[1;33m,\u001b[0m \u001b[0mepoch_logs\u001b[0m\u001b[1;33m)\u001b[0m\u001b[1;33m\u001b[0m\u001b[0m\n\u001b[0m\u001b[0;32m    218\u001b[0m         \u001b[1;32mif\u001b[0m \u001b[0mcallback_model\u001b[0m\u001b[1;33m.\u001b[0m\u001b[0mstop_training\u001b[0m\u001b[1;33m:\u001b[0m\u001b[1;33m\u001b[0m\u001b[0m\n\u001b[0;32m    219\u001b[0m             \u001b[1;32mbreak\u001b[0m\u001b[1;33m\u001b[0m\u001b[0m\n",
      "\u001b[1;32m~\\Anaconda3\\envs\\project\\lib\\site-packages\\keras\\callbacks.py\u001b[0m in \u001b[0;36mon_epoch_end\u001b[1;34m(self, epoch, logs)\u001b[0m\n\u001b[0;32m     77\u001b[0m         \u001b[0mlogs\u001b[0m \u001b[1;33m=\u001b[0m \u001b[0mlogs\u001b[0m \u001b[1;32mor\u001b[0m \u001b[1;33m{\u001b[0m\u001b[1;33m}\u001b[0m\u001b[1;33m\u001b[0m\u001b[0m\n\u001b[0;32m     78\u001b[0m         \u001b[1;32mfor\u001b[0m \u001b[0mcallback\u001b[0m \u001b[1;32min\u001b[0m \u001b[0mself\u001b[0m\u001b[1;33m.\u001b[0m\u001b[0mcallbacks\u001b[0m\u001b[1;33m:\u001b[0m\u001b[1;33m\u001b[0m\u001b[0m\n\u001b[1;32m---> 79\u001b[1;33m             \u001b[0mcallback\u001b[0m\u001b[1;33m.\u001b[0m\u001b[0mon_epoch_end\u001b[0m\u001b[1;33m(\u001b[0m\u001b[0mepoch\u001b[0m\u001b[1;33m,\u001b[0m \u001b[0mlogs\u001b[0m\u001b[1;33m)\u001b[0m\u001b[1;33m\u001b[0m\u001b[0m\n\u001b[0m\u001b[0;32m     80\u001b[0m \u001b[1;33m\u001b[0m\u001b[0m\n\u001b[0;32m     81\u001b[0m     \u001b[1;32mdef\u001b[0m \u001b[0mon_batch_begin\u001b[0m\u001b[1;33m(\u001b[0m\u001b[0mself\u001b[0m\u001b[1;33m,\u001b[0m \u001b[0mbatch\u001b[0m\u001b[1;33m,\u001b[0m \u001b[0mlogs\u001b[0m\u001b[1;33m=\u001b[0m\u001b[1;32mNone\u001b[0m\u001b[1;33m)\u001b[0m\u001b[1;33m:\u001b[0m\u001b[1;33m\u001b[0m\u001b[0m\n",
      "\u001b[1;32m~\\Anaconda3\\envs\\project\\lib\\site-packages\\keras\\callbacks.py\u001b[0m in \u001b[0;36mon_epoch_end\u001b[1;34m(self, epoch, logs)\u001b[0m\n\u001b[0;32m    336\u001b[0m                 \u001b[0mself\u001b[0m\u001b[1;33m.\u001b[0m\u001b[0mlog_values\u001b[0m\u001b[1;33m.\u001b[0m\u001b[0mappend\u001b[0m\u001b[1;33m(\u001b[0m\u001b[1;33m(\u001b[0m\u001b[0mk\u001b[0m\u001b[1;33m,\u001b[0m \u001b[0mlogs\u001b[0m\u001b[1;33m[\u001b[0m\u001b[0mk\u001b[0m\u001b[1;33m]\u001b[0m\u001b[1;33m)\u001b[0m\u001b[1;33m)\u001b[0m\u001b[1;33m\u001b[0m\u001b[0m\n\u001b[0;32m    337\u001b[0m         \u001b[1;32mif\u001b[0m \u001b[0mself\u001b[0m\u001b[1;33m.\u001b[0m\u001b[0mverbose\u001b[0m\u001b[1;33m:\u001b[0m\u001b[1;33m\u001b[0m\u001b[0m\n\u001b[1;32m--> 338\u001b[1;33m             \u001b[0mself\u001b[0m\u001b[1;33m.\u001b[0m\u001b[0mprogbar\u001b[0m\u001b[1;33m.\u001b[0m\u001b[0mupdate\u001b[0m\u001b[1;33m(\u001b[0m\u001b[0mself\u001b[0m\u001b[1;33m.\u001b[0m\u001b[0mseen\u001b[0m\u001b[1;33m,\u001b[0m \u001b[0mself\u001b[0m\u001b[1;33m.\u001b[0m\u001b[0mlog_values\u001b[0m\u001b[1;33m)\u001b[0m\u001b[1;33m\u001b[0m\u001b[0m\n\u001b[0m\u001b[0;32m    339\u001b[0m \u001b[1;33m\u001b[0m\u001b[0m\n\u001b[0;32m    340\u001b[0m \u001b[1;33m\u001b[0m\u001b[0m\n",
      "\u001b[1;31mAttributeError\u001b[0m: 'ProgbarLogger' object has no attribute 'log_values'"
     ]
    }
   ],
   "source": [
    "EMBEDDING_SIZE = 100\n",
    "HIDDEN_LAYER_SIZE = 64\n",
    "BATCH_SIZE = 32\n",
    "NUM_EPOCHS = 10\n",
    "\n",
    "# Построение модели\n",
    "model = Sequential()\n",
    "model.add(Embedding(vocab_size, EMBEDDING_SIZE, \n",
    "                    input_length=MAX_SENTENCE_LENGTH))\n",
    "model.add(LSTM(HIDDEN_LAYER_SIZE, dropout=0.2, recurrent_dropout=0.2))\n",
    "model.add(Dense(1))\n",
    "model.add(Activation(\"sigmoid\"))\n",
    "\n",
    "model.compile(loss=\"binary_crossentropy\", optimizer=\"adam\", \n",
    "              metrics=[\"accuracy\"])\n",
    "\n",
    "history = model.fit(Xtrain, ytrain, batch_size=BATCH_SIZE, \n",
    "                    epochs=NUM_EPOCHS,\n",
    "                    validation_data=(Xtest, ytest))"
   ]
  },
  {
   "cell_type": "code",
   "execution_count": 39,
   "metadata": {},
   "outputs": [
    {
     "ename": "NameError",
     "evalue": "name 'history' is not defined",
     "output_type": "error",
     "traceback": [
      "\u001b[1;31m---------------------------------------------------------------------------\u001b[0m",
      "\u001b[1;31mNameError\u001b[0m                                 Traceback (most recent call last)",
      "\u001b[1;32m<ipython-input-39-6e3dc77ddf2b>\u001b[0m in \u001b[0;36m<module>\u001b[1;34m()\u001b[0m\n\u001b[0;32m      2\u001b[0m \u001b[0mplt\u001b[0m\u001b[1;33m.\u001b[0m\u001b[0msubplot\u001b[0m\u001b[1;33m(\u001b[0m\u001b[1;36m211\u001b[0m\u001b[1;33m)\u001b[0m\u001b[1;33m\u001b[0m\u001b[0m\n\u001b[0;32m      3\u001b[0m \u001b[0mplt\u001b[0m\u001b[1;33m.\u001b[0m\u001b[0mtitle\u001b[0m\u001b[1;33m(\u001b[0m\u001b[1;34m\"Accuracy\"\u001b[0m\u001b[1;33m)\u001b[0m\u001b[1;33m\u001b[0m\u001b[0m\n\u001b[1;32m----> 4\u001b[1;33m \u001b[0mplt\u001b[0m\u001b[1;33m.\u001b[0m\u001b[0mplot\u001b[0m\u001b[1;33m(\u001b[0m\u001b[0mhistory\u001b[0m\u001b[1;33m.\u001b[0m\u001b[0mhistory\u001b[0m\u001b[1;33m[\u001b[0m\u001b[1;34m\"acc\"\u001b[0m\u001b[1;33m]\u001b[0m\u001b[1;33m,\u001b[0m \u001b[0mcolor\u001b[0m\u001b[1;33m=\u001b[0m\u001b[1;34m\"g\"\u001b[0m\u001b[1;33m,\u001b[0m \u001b[0mlabel\u001b[0m\u001b[1;33m=\u001b[0m\u001b[1;34m\"Train\"\u001b[0m\u001b[1;33m)\u001b[0m\u001b[1;33m\u001b[0m\u001b[0m\n\u001b[0m\u001b[0;32m      5\u001b[0m \u001b[0mplt\u001b[0m\u001b[1;33m.\u001b[0m\u001b[0mplot\u001b[0m\u001b[1;33m(\u001b[0m\u001b[0mhistory\u001b[0m\u001b[1;33m.\u001b[0m\u001b[0mhistory\u001b[0m\u001b[1;33m[\u001b[0m\u001b[1;34m\"val_acc\"\u001b[0m\u001b[1;33m]\u001b[0m\u001b[1;33m,\u001b[0m \u001b[0mcolor\u001b[0m\u001b[1;33m=\u001b[0m\u001b[1;34m\"b\"\u001b[0m\u001b[1;33m,\u001b[0m \u001b[0mlabel\u001b[0m\u001b[1;33m=\u001b[0m\u001b[1;34m\"Validation\"\u001b[0m\u001b[1;33m)\u001b[0m\u001b[1;33m\u001b[0m\u001b[0m\n\u001b[0;32m      6\u001b[0m \u001b[0mplt\u001b[0m\u001b[1;33m.\u001b[0m\u001b[0mlegend\u001b[0m\u001b[1;33m(\u001b[0m\u001b[0mloc\u001b[0m\u001b[1;33m=\u001b[0m\u001b[1;34m\"best\"\u001b[0m\u001b[1;33m)\u001b[0m\u001b[1;33m\u001b[0m\u001b[0m\n",
      "\u001b[1;31mNameError\u001b[0m: name 'history' is not defined"
     ]
    },
    {
     "data": {
      "image/png": "[encoded data removed]",
      "text/plain": [
       "<Figure size 432x288 with 1 Axes>"
      ]
     },
     "metadata": {
      "needs_background": "light"
     },
     "output_type": "display_data"
    }
   ],
   "source": [
    "# Потеря и точность графика\n",
    "plt.subplot(211)\n",
    "plt.title(\"Accuracy\")\n",
    "plt.plot(history.history[\"acc\"], color=\"g\", label=\"Train\")\n",
    "plt.plot(history.history[\"val_acc\"], color=\"b\", label=\"Validation\")\n",
    "plt.legend(loc=\"best\")\n",
    "\n",
    "plt.subplot(212)\n",
    "plt.title(\"Loss\")\n",
    "plt.plot(history.history[\"loss\"], color=\"g\", label=\"Train\")\n",
    "plt.plot(history.history[\"val_loss\"], color=\"b\", label=\"Validation\")\n",
    "plt.legend(loc=\"best\")\n",
    "\n",
    "plt.tight_layout()\n",
    "plt.show()"
   ]
  },
  {
   "cell_type": "code",
   "execution_count": 40,
   "metadata": {},
   "outputs": [
    {
     "ename": "ValueError",
     "evalue": "not enough values to unpack (expected 2, got 0)",
     "output_type": "error",
     "traceback": [
      "\u001b[1;31m---------------------------------------------------------------------------\u001b[0m",
      "\u001b[1;31mValueError\u001b[0m                                Traceback (most recent call last)",
      "\u001b[1;32m<ipython-input-40-0f0a5955545a>\u001b[0m in \u001b[0;36m<module>\u001b[1;34m()\u001b[0m\n\u001b[0;32m      1\u001b[0m \u001b[1;31m# Оценка модели\u001b[0m\u001b[1;33m\u001b[0m\u001b[1;33m\u001b[0m\u001b[0m\n\u001b[1;32m----> 2\u001b[1;33m \u001b[0mscore\u001b[0m\u001b[1;33m,\u001b[0m \u001b[0macc\u001b[0m \u001b[1;33m=\u001b[0m \u001b[0mmodel\u001b[0m\u001b[1;33m.\u001b[0m\u001b[0mevaluate\u001b[0m\u001b[1;33m(\u001b[0m\u001b[0mXtest\u001b[0m\u001b[1;33m,\u001b[0m \u001b[0mytest\u001b[0m\u001b[1;33m,\u001b[0m \u001b[0mbatch_size\u001b[0m\u001b[1;33m=\u001b[0m\u001b[0mBATCH_SIZE\u001b[0m\u001b[1;33m)\u001b[0m\u001b[1;33m\u001b[0m\u001b[0m\n\u001b[0m\u001b[0;32m      3\u001b[0m \u001b[0mprint\u001b[0m\u001b[1;33m(\u001b[0m\u001b[1;34m\"Test score: %.3f, accuracy: %.3f\"\u001b[0m \u001b[1;33m%\u001b[0m \u001b[1;33m(\u001b[0m\u001b[0mscore\u001b[0m\u001b[1;33m,\u001b[0m \u001b[0macc\u001b[0m\u001b[1;33m)\u001b[0m\u001b[1;33m)\u001b[0m\u001b[1;33m\u001b[0m\u001b[0m\n\u001b[0;32m      4\u001b[0m \u001b[1;33m\u001b[0m\u001b[0m\n\u001b[0;32m      5\u001b[0m \u001b[1;32mfor\u001b[0m \u001b[0mi\u001b[0m \u001b[1;32min\u001b[0m \u001b[0mrange\u001b[0m\u001b[1;33m(\u001b[0m\u001b[1;36m5\u001b[0m\u001b[1;33m)\u001b[0m\u001b[1;33m:\u001b[0m\u001b[1;33m\u001b[0m\u001b[0m\n",
      "\u001b[1;31mValueError\u001b[0m: not enough values to unpack (expected 2, got 0)"
     ]
    }
   ],
   "source": [
    "# Оценка модели\n",
    "score, acc = model.evaluate(Xtest, ytest, batch_size=BATCH_SIZE)\n",
    "print(\"Test score: %.3f, accuracy: %.3f\" % (score, acc))\n",
    "\n",
    "for i in range(5):\n",
    "    idx = np.random.randint(len(Xtest))\n",
    "    xtest = Xtest[idx].reshape(1,42)\n",
    "    ylabel = ytest[idx]\n",
    "    ypred = model.predict(xtest)[0][0]\n",
    "    sent = \" \".join([index2word[x] for x in xtest[0].tolist() if x != 0])\n",
    "    print(\"%.0f\\t%d\\t%s\" % (ypred, ylabel, sent))"
   ]
  },
  {
   "cell_type": "markdown",
   "metadata": {},
   "source": [
    "**5. Bidirectional LSTM**"
   ]
  },
  {
   "cell_type": "code",
   "execution_count": 41,
   "metadata": {},
   "outputs": [
    {
     "ename": "NameError",
     "evalue": "name 's_vocabsize' is not defined",
     "output_type": "error",
     "traceback": [
      "\u001b[1;31m---------------------------------------------------------------------------\u001b[0m",
      "\u001b[1;31mNameError\u001b[0m                                 Traceback (most recent call last)",
      "\u001b[1;32m<ipython-input-41-8005dd9a5758>\u001b[0m in \u001b[0;36m<module>\u001b[1;34m()\u001b[0m\n\u001b[0;32m      2\u001b[0m \u001b[1;33m\u001b[0m\u001b[0m\n\u001b[0;32m      3\u001b[0m \u001b[0mmodel\u001b[0m \u001b[1;33m=\u001b[0m \u001b[0mSequential\u001b[0m\u001b[1;33m(\u001b[0m\u001b[1;33m)\u001b[0m\u001b[1;33m\u001b[0m\u001b[0m\n\u001b[1;32m----> 4\u001b[1;33m model.add(Embedding(s_vocabsize, EMBED_SIZE,\n\u001b[0m\u001b[0;32m      5\u001b[0m                     \u001b[0minput_length\u001b[0m\u001b[1;33m=\u001b[0m\u001b[0mMAX_SEQLEN\u001b[0m\u001b[1;33m,\u001b[0m\u001b[1;33m\u001b[0m\u001b[0m\n\u001b[0;32m      6\u001b[0m                     embeddings_initializer=\"glorot_uniform\"))\n",
      "\u001b[1;31mNameError\u001b[0m: name 's_vocabsize' is not defined"
     ]
    }
   ],
   "source": [
    "from keras.layers.wrappers import TimeDistributed, Bidirectional\n",
    "\n",
    "model = Sequential()\n",
    "model.add(Embedding(s_vocabsize, EMBED_SIZE,\n",
    "                    input_length=MAX_SEQLEN,\n",
    "                    embeddings_initializer=\"glorot_uniform\"))\n",
    "model.add(Bidirectional(LSTM(HIDDEN_SIZE, dropout_W=0.2, dropout_U=0.2)))\n",
    "model.add(RepeatVector(MAX_SEQLEN))\n",
    "model.add(Bidirectional(LSTM(HIDDEN_SIZE, return_sequences=True)))\n",
    "model.add(TimeDistributed(Dense(t_vocabsize)))\n",
    "model.add(Activation(\"softmax\"))"
   ]
  },
  {
   "cell_type": "code",
   "execution_count": 42,
   "metadata": {},
   "outputs": [
    {
     "ename": "ValueError",
     "evalue": "not enough values to unpack (expected 2, got 1)",
     "output_type": "error",
     "traceback": [
      "\u001b[1;31m---------------------------------------------------------------------------\u001b[0m",
      "\u001b[1;31mValueError\u001b[0m                                Traceback (most recent call last)",
      "\u001b[1;32m<ipython-input-42-e38c6c367c55>\u001b[0m in \u001b[0;36m<module>\u001b[1;34m()\u001b[0m\n\u001b[0;32m      8\u001b[0m \u001b[0mftrain\u001b[0m \u001b[1;33m=\u001b[0m \u001b[0mopen\u001b[0m\u001b[1;33m(\u001b[0m\u001b[0mos\u001b[0m\u001b[1;33m.\u001b[0m\u001b[0mpath\u001b[0m\u001b[1;33m.\u001b[0m\u001b[0mjoin\u001b[0m\u001b[1;33m(\u001b[0m\u001b[0mDATA_DIR\u001b[0m\u001b[1;33m,\u001b[0m \u001b[1;34m\"cr_text_test.txt\"\u001b[0m\u001b[1;33m)\u001b[0m\u001b[1;33m,\u001b[0m \u001b[1;34m'r'\u001b[0m\u001b[1;33m,\u001b[0m \u001b[0mencoding\u001b[0m\u001b[1;33m=\u001b[0m\u001b[1;34m'utf-8'\u001b[0m\u001b[1;33m)\u001b[0m\u001b[1;33m\u001b[0m\u001b[0m\n\u001b[0;32m      9\u001b[0m \u001b[1;32mfor\u001b[0m \u001b[0mline\u001b[0m \u001b[1;32min\u001b[0m \u001b[0mftrain\u001b[0m\u001b[1;33m:\u001b[0m\u001b[1;33m\u001b[0m\u001b[0m\n\u001b[1;32m---> 10\u001b[1;33m     \u001b[0mlabel\u001b[0m\u001b[1;33m,\u001b[0m \u001b[0msentence\u001b[0m \u001b[1;33m=\u001b[0m \u001b[0mline\u001b[0m\u001b[1;33m.\u001b[0m\u001b[0mstrip\u001b[0m\u001b[1;33m(\u001b[0m\u001b[1;33m)\u001b[0m\u001b[1;33m.\u001b[0m\u001b[0msplit\u001b[0m\u001b[1;33m(\u001b[0m\u001b[1;34m\"\\t\"\u001b[0m\u001b[1;33m)\u001b[0m\u001b[1;33m\u001b[0m\u001b[0m\n\u001b[0m\u001b[0;32m     11\u001b[0m     \u001b[0mwords\u001b[0m \u001b[1;33m=\u001b[0m \u001b[0mnltk\u001b[0m\u001b[1;33m.\u001b[0m\u001b[0mword_tokenize\u001b[0m\u001b[1;33m(\u001b[0m\u001b[0msentence\u001b[0m\u001b[1;33m.\u001b[0m\u001b[0mlower\u001b[0m\u001b[1;33m(\u001b[0m\u001b[1;33m)\u001b[0m\u001b[1;33m)\u001b[0m\u001b[1;33m\u001b[0m\u001b[0m\n\u001b[0;32m     12\u001b[0m     \u001b[1;32mif\u001b[0m \u001b[0mlen\u001b[0m\u001b[1;33m(\u001b[0m\u001b[0mwords\u001b[0m\u001b[1;33m)\u001b[0m \u001b[1;33m>\u001b[0m \u001b[0mmaxlen\u001b[0m\u001b[1;33m:\u001b[0m\u001b[1;33m\u001b[0m\u001b[0m\n",
      "\u001b[1;31mValueError\u001b[0m: not enough values to unpack (expected 2, got 1)"
     ]
    }
   ],
   "source": [
    "DATA_DIR = \"./texts\"\n",
    "\n",
    "# Чтение данных и генерация словарного запаса\n",
    "\n",
    "maxlen = 0\n",
    "word_freqs = collections.Counter()\n",
    "num_recs = 0\n",
    "ftrain = open(os.path.join(DATA_DIR, \"cr_text_test.txt\"), 'r', encoding='utf-8')\n",
    "for line in ftrain:\n",
    "    label, sentence = line.strip().split(\"\\t\")\n",
    "    words = nltk.word_tokenize(sentence.lower())\n",
    "    if len(words) > maxlen:\n",
    "        maxlen = len(words)\n",
    "    for word in words:\n",
    "        word_freqs[word] += 1\n",
    "    num_recs += 1\n",
    "ftrain.close()"
   ]
  },
  {
   "cell_type": "code",
   "execution_count": 43,
   "metadata": {},
   "outputs": [
    {
     "name": "stdout",
     "output_type": "stream",
     "text": [
      "0\n",
      "0\n"
     ]
    }
   ],
   "source": [
    "# Получение информации о корпусе\n",
    "\n",
    "print(maxlen)            \n",
    "print(len(word_freqs))   "
   ]
  },
  {
   "cell_type": "code",
   "execution_count": 45,
   "metadata": {},
   "outputs": [],
   "source": [
    "MAX_FEATURES = len(token_test) + 2\n",
    "MAX_SENTENCE_LENGTH = max(length_test)"
   ]
  },
  {
   "cell_type": "code",
   "execution_count": 46,
   "metadata": {},
   "outputs": [
    {
     "ename": "AttributeError",
     "evalue": "'list' object has no attribute 'most_common'",
     "output_type": "error",
     "traceback": [
      "\u001b[1;31m---------------------------------------------------------------------------\u001b[0m",
      "\u001b[1;31mAttributeError\u001b[0m                            Traceback (most recent call last)",
      "\u001b[1;32m<ipython-input-46-60f121a5d891>\u001b[0m in \u001b[0;36m<module>\u001b[1;34m()\u001b[0m\n\u001b[0;32m      1\u001b[0m \u001b[0mvocab_size\u001b[0m \u001b[1;33m=\u001b[0m \u001b[0mmin\u001b[0m\u001b[1;33m(\u001b[0m\u001b[0mMAX_FEATURES\u001b[0m\u001b[1;33m,\u001b[0m \u001b[0mlen\u001b[0m\u001b[1;33m(\u001b[0m\u001b[0mtoken_test\u001b[0m\u001b[1;33m)\u001b[0m\u001b[1;33m)\u001b[0m \u001b[1;33m+\u001b[0m \u001b[1;36m2\u001b[0m\u001b[1;33m\u001b[0m\u001b[0m\n\u001b[1;32m----> 2\u001b[1;33m \u001b[0mword2index\u001b[0m \u001b[1;33m=\u001b[0m \u001b[1;33m{\u001b[0m\u001b[0mx\u001b[0m\u001b[1;33m[\u001b[0m\u001b[1;36m0\u001b[0m\u001b[1;33m]\u001b[0m\u001b[1;33m:\u001b[0m \u001b[0mi\u001b[0m\u001b[1;33m+\u001b[0m\u001b[1;36m2\u001b[0m \u001b[1;32mfor\u001b[0m \u001b[0mi\u001b[0m\u001b[1;33m,\u001b[0m \u001b[0mx\u001b[0m \u001b[1;32min\u001b[0m \u001b[0menumerate\u001b[0m\u001b[1;33m(\u001b[0m\u001b[0mtoken_test\u001b[0m\u001b[1;33m.\u001b[0m\u001b[0mmost_common\u001b[0m\u001b[1;33m(\u001b[0m\u001b[0mMAX_FEATURES\u001b[0m\u001b[1;33m)\u001b[0m\u001b[1;33m)\u001b[0m\u001b[1;33m}\u001b[0m\u001b[1;33m\u001b[0m\u001b[0m\n\u001b[0m\u001b[0;32m      3\u001b[0m \u001b[0mword2index\u001b[0m\u001b[1;33m[\u001b[0m\u001b[1;34m\"UNK\"\u001b[0m\u001b[1;33m]\u001b[0m \u001b[1;33m=\u001b[0m \u001b[1;36m1\u001b[0m\u001b[1;33m\u001b[0m\u001b[0m\n\u001b[0;32m      4\u001b[0m \u001b[0mindex2word\u001b[0m \u001b[1;33m=\u001b[0m \u001b[1;33m{\u001b[0m\u001b[0mv\u001b[0m\u001b[1;33m:\u001b[0m\u001b[0mk\u001b[0m \u001b[1;32mfor\u001b[0m \u001b[0mk\u001b[0m\u001b[1;33m,\u001b[0m \u001b[0mv\u001b[0m \u001b[1;32min\u001b[0m \u001b[0mword2index\u001b[0m\u001b[1;33m.\u001b[0m\u001b[0mitems\u001b[0m\u001b[1;33m(\u001b[0m\u001b[1;33m)\u001b[0m\u001b[1;33m}\u001b[0m\u001b[1;33m\u001b[0m\u001b[0m\n",
      "\u001b[1;31mAttributeError\u001b[0m: 'list' object has no attribute 'most_common'"
     ]
    }
   ],
   "source": [
    "vocab_size = min(MAX_FEATURES, len(token_test)) + 2\n",
    "word2index = {x[0]: i+2 for i, x in enumerate(token_test.most_common(MAX_FEATURES))}\n",
    "word2index[\"UNK\"] = 1\n",
    "index2word = {v:k for k, v in word2index.items()}"
   ]
  },
  {
   "cell_type": "code",
   "execution_count": 47,
   "metadata": {},
   "outputs": [
    {
     "ename": "ValueError",
     "evalue": "not enough values to unpack (expected 2, got 1)",
     "output_type": "error",
     "traceback": [
      "\u001b[1;31m---------------------------------------------------------------------------\u001b[0m",
      "\u001b[1;31mValueError\u001b[0m                                Traceback (most recent call last)",
      "\u001b[1;32m<ipython-input-47-b1d610250a01>\u001b[0m in \u001b[0;36m<module>\u001b[1;34m()\u001b[0m\n\u001b[0;32m      6\u001b[0m \u001b[0mftrain\u001b[0m \u001b[1;33m=\u001b[0m \u001b[0mopen\u001b[0m\u001b[1;33m(\u001b[0m\u001b[0mos\u001b[0m\u001b[1;33m.\u001b[0m\u001b[0mpath\u001b[0m\u001b[1;33m.\u001b[0m\u001b[0mjoin\u001b[0m\u001b[1;33m(\u001b[0m\u001b[0mDATA_DIR\u001b[0m\u001b[1;33m,\u001b[0m \u001b[1;34m\"cr_text_test.txt\"\u001b[0m\u001b[1;33m)\u001b[0m\u001b[1;33m,\u001b[0m \u001b[1;34m'r'\u001b[0m\u001b[1;33m,\u001b[0m \u001b[0mencoding\u001b[0m\u001b[1;33m=\u001b[0m\u001b[1;34m'utf-8'\u001b[0m\u001b[1;33m)\u001b[0m\u001b[1;33m\u001b[0m\u001b[0m\n\u001b[0;32m      7\u001b[0m \u001b[1;32mfor\u001b[0m \u001b[0mline\u001b[0m \u001b[1;32min\u001b[0m \u001b[0mftrain\u001b[0m\u001b[1;33m:\u001b[0m\u001b[1;33m\u001b[0m\u001b[0m\n\u001b[1;32m----> 8\u001b[1;33m     \u001b[0mlabel\u001b[0m\u001b[1;33m,\u001b[0m \u001b[0msentence\u001b[0m \u001b[1;33m=\u001b[0m \u001b[0mline\u001b[0m\u001b[1;33m.\u001b[0m\u001b[0mstrip\u001b[0m\u001b[1;33m(\u001b[0m\u001b[1;33m)\u001b[0m\u001b[1;33m.\u001b[0m\u001b[0msplit\u001b[0m\u001b[1;33m(\u001b[0m\u001b[1;34m\"\\t\"\u001b[0m\u001b[1;33m)\u001b[0m\u001b[1;33m\u001b[0m\u001b[0m\n\u001b[0m\u001b[0;32m      9\u001b[0m     \u001b[0mwords\u001b[0m \u001b[1;33m=\u001b[0m \u001b[0mnltk\u001b[0m\u001b[1;33m.\u001b[0m\u001b[0mword_tokenize\u001b[0m\u001b[1;33m(\u001b[0m\u001b[0msentence\u001b[0m\u001b[1;33m.\u001b[0m\u001b[0mlower\u001b[0m\u001b[1;33m(\u001b[0m\u001b[1;33m)\u001b[0m\u001b[1;33m)\u001b[0m\u001b[1;33m\u001b[0m\u001b[0m\n\u001b[0;32m     10\u001b[0m     \u001b[0mseqs\u001b[0m \u001b[1;33m=\u001b[0m \u001b[1;33m[\u001b[0m\u001b[1;33m]\u001b[0m\u001b[1;33m\u001b[0m\u001b[0m\n",
      "\u001b[1;31mValueError\u001b[0m: not enough values to unpack (expected 2, got 1)"
     ]
    }
   ],
   "source": [
    "# преобразование предложений в последовательности\n",
    "\n",
    "X = np.empty((num_recs, ), dtype=list)\n",
    "y = np.zeros((num_recs, ))\n",
    "i = 0\n",
    "ftrain = open(os.path.join(DATA_DIR, \"cr_text_test.txt\"), 'r', encoding='utf-8')\n",
    "for line in ftrain:\n",
    "    label, sentence = line.strip().split(\"\\t\")\n",
    "    words = nltk.word_tokenize(sentence.lower())\n",
    "    seqs = []\n",
    "    for word in words:\n",
    "        if word in word2index:\n",
    "            seqs.append(word2index[word])\n",
    "        else:\n",
    "            seqs.append(word2index[\"UNK\"])\n",
    "    X[i] = seqs\n",
    "    y[i] = int(label)\n",
    "    i += 1\n",
    "ftrain.close()"
   ]
  },
  {
   "cell_type": "code",
   "execution_count": 48,
   "metadata": {},
   "outputs": [],
   "source": [
    "# Заполнение нулями\n",
    "X = sequence.pad_sequences(X, maxlen=MAX_SENTENCE_LENGTH)"
   ]
  },
  {
   "cell_type": "code",
   "execution_count": 49,
   "metadata": {},
   "outputs": [
    {
     "name": "stdout",
     "output_type": "stream",
     "text": [
      "(0, 133) (0, 133) (0,) (0,)\n"
     ]
    }
   ],
   "source": [
    "# Разделение на тренировочную и тестовую выборки\n",
    "Xtrain, Xtest, ytrain, ytest = train_test_split(X, y, test_size=0.2, \n",
    "                                                random_state=42)\n",
    "print(Xtrain.shape, Xtest.shape, ytrain.shape, ytest.shape)"
   ]
  },
  {
   "cell_type": "code",
   "execution_count": 50,
   "metadata": {},
   "outputs": [
    {
     "name": "stdout",
     "output_type": "stream",
     "text": [
      "Train on 0 samples, validate on 0 samples\n",
      "Epoch 1/10\n"
     ]
    },
    {
     "ename": "AttributeError",
     "evalue": "'ProgbarLogger' object has no attribute 'log_values'",
     "output_type": "error",
     "traceback": [
      "\u001b[1;31m---------------------------------------------------------------------------\u001b[0m",
      "\u001b[1;31mAttributeError\u001b[0m                            Traceback (most recent call last)",
      "\u001b[1;32m<ipython-input-50-f81bd4fde13a>\u001b[0m in \u001b[0;36m<module>\u001b[1;34m()\u001b[0m\n\u001b[0;32m     17\u001b[0m history = model.fit(Xtrain, ytrain, batch_size=BATCH_SIZE, \n\u001b[0;32m     18\u001b[0m                     \u001b[0mepochs\u001b[0m\u001b[1;33m=\u001b[0m\u001b[0mNUM_EPOCHS\u001b[0m\u001b[1;33m,\u001b[0m\u001b[1;33m\u001b[0m\u001b[0m\n\u001b[1;32m---> 19\u001b[1;33m                     validation_data=(Xtest, ytest))\n\u001b[0m",
      "\u001b[1;32m~\\Anaconda3\\envs\\project\\lib\\site-packages\\keras\\engine\\training.py\u001b[0m in \u001b[0;36mfit\u001b[1;34m(self, x, y, batch_size, epochs, verbose, callbacks, validation_split, validation_data, shuffle, class_weight, sample_weight, initial_epoch, steps_per_epoch, validation_steps, **kwargs)\u001b[0m\n\u001b[0;32m   1037\u001b[0m                                         \u001b[0minitial_epoch\u001b[0m\u001b[1;33m=\u001b[0m\u001b[0minitial_epoch\u001b[0m\u001b[1;33m,\u001b[0m\u001b[1;33m\u001b[0m\u001b[0m\n\u001b[0;32m   1038\u001b[0m                                         \u001b[0msteps_per_epoch\u001b[0m\u001b[1;33m=\u001b[0m\u001b[0msteps_per_epoch\u001b[0m\u001b[1;33m,\u001b[0m\u001b[1;33m\u001b[0m\u001b[0m\n\u001b[1;32m-> 1039\u001b[1;33m                                         validation_steps=validation_steps)\n\u001b[0m\u001b[0;32m   1040\u001b[0m \u001b[1;33m\u001b[0m\u001b[0m\n\u001b[0;32m   1041\u001b[0m     def evaluate(self, x=None, y=None,\n",
      "\u001b[1;32m~\\Anaconda3\\envs\\project\\lib\\site-packages\\keras\\engine\\training_arrays.py\u001b[0m in \u001b[0;36mfit_loop\u001b[1;34m(model, f, ins, out_labels, batch_size, epochs, verbose, callbacks, val_f, val_ins, shuffle, callback_metrics, initial_epoch, steps_per_epoch, validation_steps)\u001b[0m\n\u001b[0;32m    215\u001b[0m                         \u001b[1;32mfor\u001b[0m \u001b[0ml\u001b[0m\u001b[1;33m,\u001b[0m \u001b[0mo\u001b[0m \u001b[1;32min\u001b[0m \u001b[0mzip\u001b[0m\u001b[1;33m(\u001b[0m\u001b[0mout_labels\u001b[0m\u001b[1;33m,\u001b[0m \u001b[0mval_outs\u001b[0m\u001b[1;33m)\u001b[0m\u001b[1;33m:\u001b[0m\u001b[1;33m\u001b[0m\u001b[0m\n\u001b[0;32m    216\u001b[0m                             \u001b[0mepoch_logs\u001b[0m\u001b[1;33m[\u001b[0m\u001b[1;34m'val_'\u001b[0m \u001b[1;33m+\u001b[0m \u001b[0ml\u001b[0m\u001b[1;33m]\u001b[0m \u001b[1;33m=\u001b[0m \u001b[0mo\u001b[0m\u001b[1;33m\u001b[0m\u001b[0m\n\u001b[1;32m--> 217\u001b[1;33m         \u001b[0mcallbacks\u001b[0m\u001b[1;33m.\u001b[0m\u001b[0mon_epoch_end\u001b[0m\u001b[1;33m(\u001b[0m\u001b[0mepoch\u001b[0m\u001b[1;33m,\u001b[0m \u001b[0mepoch_logs\u001b[0m\u001b[1;33m)\u001b[0m\u001b[1;33m\u001b[0m\u001b[0m\n\u001b[0m\u001b[0;32m    218\u001b[0m         \u001b[1;32mif\u001b[0m \u001b[0mcallback_model\u001b[0m\u001b[1;33m.\u001b[0m\u001b[0mstop_training\u001b[0m\u001b[1;33m:\u001b[0m\u001b[1;33m\u001b[0m\u001b[0m\n\u001b[0;32m    219\u001b[0m             \u001b[1;32mbreak\u001b[0m\u001b[1;33m\u001b[0m\u001b[0m\n",
      "\u001b[1;32m~\\Anaconda3\\envs\\project\\lib\\site-packages\\keras\\callbacks.py\u001b[0m in \u001b[0;36mon_epoch_end\u001b[1;34m(self, epoch, logs)\u001b[0m\n\u001b[0;32m     77\u001b[0m         \u001b[0mlogs\u001b[0m \u001b[1;33m=\u001b[0m \u001b[0mlogs\u001b[0m \u001b[1;32mor\u001b[0m \u001b[1;33m{\u001b[0m\u001b[1;33m}\u001b[0m\u001b[1;33m\u001b[0m\u001b[0m\n\u001b[0;32m     78\u001b[0m         \u001b[1;32mfor\u001b[0m \u001b[0mcallback\u001b[0m \u001b[1;32min\u001b[0m \u001b[0mself\u001b[0m\u001b[1;33m.\u001b[0m\u001b[0mcallbacks\u001b[0m\u001b[1;33m:\u001b[0m\u001b[1;33m\u001b[0m\u001b[0m\n\u001b[1;32m---> 79\u001b[1;33m             \u001b[0mcallback\u001b[0m\u001b[1;33m.\u001b[0m\u001b[0mon_epoch_end\u001b[0m\u001b[1;33m(\u001b[0m\u001b[0mepoch\u001b[0m\u001b[1;33m,\u001b[0m \u001b[0mlogs\u001b[0m\u001b[1;33m)\u001b[0m\u001b[1;33m\u001b[0m\u001b[0m\n\u001b[0m\u001b[0;32m     80\u001b[0m \u001b[1;33m\u001b[0m\u001b[0m\n\u001b[0;32m     81\u001b[0m     \u001b[1;32mdef\u001b[0m \u001b[0mon_batch_begin\u001b[0m\u001b[1;33m(\u001b[0m\u001b[0mself\u001b[0m\u001b[1;33m,\u001b[0m \u001b[0mbatch\u001b[0m\u001b[1;33m,\u001b[0m \u001b[0mlogs\u001b[0m\u001b[1;33m=\u001b[0m\u001b[1;32mNone\u001b[0m\u001b[1;33m)\u001b[0m\u001b[1;33m:\u001b[0m\u001b[1;33m\u001b[0m\u001b[0m\n",
      "\u001b[1;32m~\\Anaconda3\\envs\\project\\lib\\site-packages\\keras\\callbacks.py\u001b[0m in \u001b[0;36mon_epoch_end\u001b[1;34m(self, epoch, logs)\u001b[0m\n\u001b[0;32m    336\u001b[0m                 \u001b[0mself\u001b[0m\u001b[1;33m.\u001b[0m\u001b[0mlog_values\u001b[0m\u001b[1;33m.\u001b[0m\u001b[0mappend\u001b[0m\u001b[1;33m(\u001b[0m\u001b[1;33m(\u001b[0m\u001b[0mk\u001b[0m\u001b[1;33m,\u001b[0m \u001b[0mlogs\u001b[0m\u001b[1;33m[\u001b[0m\u001b[0mk\u001b[0m\u001b[1;33m]\u001b[0m\u001b[1;33m)\u001b[0m\u001b[1;33m)\u001b[0m\u001b[1;33m\u001b[0m\u001b[0m\n\u001b[0;32m    337\u001b[0m         \u001b[1;32mif\u001b[0m \u001b[0mself\u001b[0m\u001b[1;33m.\u001b[0m\u001b[0mverbose\u001b[0m\u001b[1;33m:\u001b[0m\u001b[1;33m\u001b[0m\u001b[0m\n\u001b[1;32m--> 338\u001b[1;33m             \u001b[0mself\u001b[0m\u001b[1;33m.\u001b[0m\u001b[0mprogbar\u001b[0m\u001b[1;33m.\u001b[0m\u001b[0mupdate\u001b[0m\u001b[1;33m(\u001b[0m\u001b[0mself\u001b[0m\u001b[1;33m.\u001b[0m\u001b[0mseen\u001b[0m\u001b[1;33m,\u001b[0m \u001b[0mself\u001b[0m\u001b[1;33m.\u001b[0m\u001b[0mlog_values\u001b[0m\u001b[1;33m)\u001b[0m\u001b[1;33m\u001b[0m\u001b[0m\n\u001b[0m\u001b[0;32m    339\u001b[0m \u001b[1;33m\u001b[0m\u001b[0m\n\u001b[0;32m    340\u001b[0m \u001b[1;33m\u001b[0m\u001b[0m\n",
      "\u001b[1;31mAttributeError\u001b[0m: 'ProgbarLogger' object has no attribute 'log_values'"
     ]
    }
   ],
   "source": [
    "EMBEDDING_SIZE = 100\n",
    "HIDDEN_LAYER_SIZE = 64\n",
    "BATCH_SIZE = 32\n",
    "NUM_EPOCHS = 10\n",
    "\n",
    "# Построение модели\n",
    "model = Sequential()\n",
    "model.add(Embedding(vocab_size, EMBEDDING_SIZE, \n",
    "                    input_length=MAX_SENTENCE_LENGTH))\n",
    "model.add(LSTM(HIDDEN_LAYER_SIZE, dropout=0.2, recurrent_dropout=0.2))\n",
    "model.add(Dense(1))\n",
    "model.add(Activation(\"sigmoid\"))\n",
    "\n",
    "model.compile(loss=\"binary_crossentropy\", optimizer=\"adam\", \n",
    "              metrics=[\"accuracy\"])\n",
    "\n",
    "history = model.fit(Xtrain, ytrain, batch_size=BATCH_SIZE, \n",
    "                    epochs=NUM_EPOCHS,\n",
    "                    validation_data=(Xtest, ytest))"
   ]
  },
  {
   "cell_type": "code",
   "execution_count": null,
   "metadata": {
    "collapsed": true
   },
   "outputs": [],
   "source": [
    "# Потеря и точность графика\n",
    "plt.subplot(211)\n",
    "plt.title(\"Accuracy\")\n",
    "plt.plot(history.history[\"acc\"], color=\"g\", label=\"Train\")\n",
    "plt.plot(history.history[\"val_acc\"], color=\"b\", label=\"Validation\")\n",
    "plt.legend(loc=\"best\")\n",
    "\n",
    "plt.subplot(212)\n",
    "plt.title(\"Loss\")\n",
    "plt.plot(history.history[\"loss\"], color=\"g\", label=\"Train\")\n",
    "plt.plot(history.history[\"val_loss\"], color=\"b\", label=\"Validation\")\n",
    "plt.legend(loc=\"best\")\n",
    "\n",
    "plt.tight_layout()\n",
    "plt.show()"
   ]
  },
  {
   "cell_type": "code",
   "execution_count": null,
   "metadata": {
    "collapsed": true
   },
   "outputs": [],
   "source": [
    "# Оценка модели\n",
    "score, acc = model.evaluate(Xtest, ytest, batch_size=BATCH_SIZE)\n",
    "print(\"Test score: %.3f, accuracy: %.3f\" % (score, acc))\n",
    "\n",
    "for i in range(5):\n",
    "    idx = np.random.randint(len(Xtest))\n",
    "    xtest = Xtest[idx].reshape(1,42)\n",
    "    ylabel = ytest[idx]\n",
    "    ypred = model.predict(xtest)[0][0]\n",
    "    sent = \" \".join([index2word[x] for x in xtest[0].tolist() if x != 0])\n",
    "    print(\"%.0f\\t%d\\t%s\" % (ypred, ylabel, sent))"
   ]
  },
  {
   "cell_type": "markdown",
   "metadata": {},
   "source": [
    "**6. GRU**"
   ]
  },
  {
   "cell_type": "code",
   "execution_count": null,
   "metadata": {
    "collapsed": true
   },
   "outputs": [],
   "source": []
  },
  {
   "cell_type": "markdown",
   "metadata": {},
   "source": [
    "**Задача 2**"
   ]
  },
  {
   "cell_type": "markdown",
   "metadata": {},
   "source": [
    "**Работа с 1-м текстом:**"
   ]
  },
  {
   "cell_type": "code",
   "execution_count": 51,
   "metadata": {},
   "outputs": [],
   "source": [
    "import tensorflow\n",
    "from keras.layers.recurrent import SimpleRNN\n",
    "from keras.models import Sequential\n",
    "from keras.layers import Dense, Activation\n",
    "import numpy as np"
   ]
  },
  {
   "cell_type": "code",
   "execution_count": 52,
   "metadata": {},
   "outputs": [
    {
     "name": "stdout",
     "output_type": "stream",
     "text": [
      "после венчания не было даже легкой закуски; молодые выпили по бокалу, переоделись и поехали на вокзал. вместо веселого свадебного бала и ужина, вместо музыки и танцев — поездка на богомолье за двести верст. многие одобрили это, говоря, что модест алексеич уже в чинах и не молод, и шумная свадьба могла бы, пожалуй, показаться не совсем приличной; да и скучно слушать музыку, когда чиновник 52 лет женится на девушке, которой едва минуло 18. говорили также, что эту поездку в монастырь модест алексеич, как человек с правилами, затеял, собственно, для того, чтобы дать понять своей молодой жене, что и в браке он отдает первое место религии и нравственности.\n",
      "молодых провожали. толпа сослуживцев и родных стояла с бокалами и ждала, когда пойдет поезд, чтобы крикнуть ура, и петр леонтьич, отец, в цилиндре, в учительском фраке, уже пьяный и уже очень бледный, всё тянулся к окну со своим бокалом и говорил умоляюще:\n",
      "— анюта! аня! аня, на одно слово!\n",
      "аня наклонялась к нему из окна, и он шептал ей что-то, обдавая ее запахом винного перегара, дул в ухо — ничего нельзя было понять — и крестил ей лицо, грудь, руки; при этом дыхание у него дрожало и на глазах блестели слезы. а братья ани, петя и андрюша, гимназисты, дергали его сзади за фрак и шептали сконфуженно:\n",
      "— папочка, будет... папочка, не надо...\n",
      "когда поезд тронулся, аня видела, как ее отец побежал немножко за вагоном, пошатываясь и расплескивая свое вино, и какое у него было жалкое, доброе, виноватое лицо.\n",
      "— ура-а-а! — кричал он.\n",
      "молодые остались одни. модест алексеич осмотрелся в купе, разложил вещи по полкам и сел против своей молодой жены, улыбаясь. это был чиновник среднего роста, довольно полный, пухлый, очень сытый, с длинными бакенами и без усов, и его бритый, круглый, резко очерченный подбородок походил на пятку. самое характерное в его лице было отсутствие усов, это свежевыбритое, голое место, которое постепенно переходило в жирные, дрожащие, как желе, щеки. держался он солидно, движения у него были не быстрые, манеры мягкие.\n",
      "— не могу не припомнить теперь одного обстоятельства, — сказал он, улыбаясь. — пять лет назад, когда косоротов получил орден святыя анны второй степени и пришел благодарить, то его сиятельство выразился так: «значит, у вас теперь три анны: одна в петлице, две на шее». а надо сказать, что в то время к косоротову только что вернулась его жена, особа сварливая и легкомысленная, которую звали анной. надеюсь, что когда я получу анну второй степени, то его сиятельство не будет иметь повода сказать мне то же самое.\n",
      "он улыбался своими маленькими глазками. и она тоже улыбалась, волнуясь от мысли, что этот человек может каждую минуту поцеловать ее своими полными, влажными губами и что она уже не имеет права отказать ему в этом. мягкие движения его пухлого тела пугали ее, ей было и страшно, и гадко. он встал, не спеша снял с шеи орден, снял фрак и жилет и надел халат.\n",
      "— вот так, — сказал он, садясь рядом с аней.\n",
      "она вспоминала, как мучительно было венчание, когда казалось ей, что и священник, и гости, и все в церкви глядели на нее печально: зачем, зачем она, такая милая, хорошая, выходит за этого пожилого, неинтересного господина? еще утром сегодня она была в восторге, что всё так хорошо устроилось, во время же венчания и теперь в вагоне чувствовала себя виноватой, обманутой и смешной. вот она вышла за богатого, а денег у нее все-таки не было, венчальное платье шили в долг, и, когда сегодня ее провожали отец и братья, она по их лицам видела, что у них не было ни копейки. будут ли они сегодня ужинать? а завтра? и ей почему-то казалось, что отец и мальчики сидят теперь без нее голодные и испытывают точно такую же тоску, какая была в первый вечер после похорон матери.\n",
      "«о, как я несчастна! — думала она. — зачем я так несчастна?»\n",
      "с неловкостью человека солидного, не привыкшего обращаться с женщинами, модест алексеич трогал ее за талию и похлопывал по плечу, а она думала о деньгах, о матери, об ее смерти. когда умерла мать, отец, петр леонтьич, учитель чистописания и рисования в гимназии, запил, наступила нужда; у мальчиков не было сапог и калош, отца таскали к мировому, приходил судебный пристав и описывал мебель... какой стыд! аня должна была ухаживать за пьяным отцом, штопать братьям чулки, ходить на рынок, и, когда хвалили ее красоту, молодость и изящные манеры, ей казалось, что весь свет видит ее дешевую шляпку и дырочки на ботинках, замазанные чернилами. а по ночам слезы и неотвязчивая, беспокойная мысль, что скоро-скоро отца уволят из гимназии за слабость и что он не перенесет этого и тоже умрет, как мать. но вот знакомые дамы засуетились и стали искать для ани хорошего человека. скоро нашелся вот этот самый модест алексеич, не молодой и не красивый, но с деньгами. у него в банке тысяч сто и есть родовое имение, которое он отдает в аренду. это человек с правилами и на хорошем счету у его сиятельства; ему ничего не стоит, как говорили ане, взять у его сиятельства записочку к директору гимназии и даже к попечителю, чтобы петра леонтьича не увольняли...\n",
      "пока она вспоминала эти подробности, послышалась вдруг музыка, ворвавшаяся в окно вместе с шумом голосов. это поезд остановился на полустанке. за платформой в толпе бойко играли на гармонике и на дешевой визгливой скрипке, а из-за высоких берез и тополей, из-за дач, залитых лунным светом, доносились звуки военного оркестра: должно быть, на дачах был танцевальный вечер. на платформе гуляли дачники и горожане, приезжавшие сюда в хорошую погоду подышать чистым воздухом. был тут и артынов, владелец всего этого дачного места, богач, высокий, полный брюнет, похожий лицом на армянина, с глазами навыкате и в странном костюме. на нем была рубаха, расстегнутая на груди, и высокие сапоги со шпорами, и с плеч спускался черный плащ, тащившийся по земле, как шлейф. за ним, опустив свои острые морды, ходили две борзые.\n",
      "у ани еще блестели на глазах слезы, но она уже не помнила ни о матери, ни о деньгах, ни о своей свадьбе, а пожимала руки знакомым гимназистам и офицерам, весело смеялась и говорила быстро:\n",
      "— здравствуйте! как поживаете?\n",
      "она вышла на площадку, под лунный свет, и стала так, чтобы видели ее всю в новом великолепном платье и в шляпке.\n",
      "— зачем мы здесь стоим? — спросила она.\n",
      "— здесь разъезд, — ответили ей, — ожидают почтового поезда.\n",
      "заметив, что на нее смотрит артынов, она кокетливо прищурила глаза и заговорила громко по-французски, и оттого, что ее собственный голос звучал так прекрасно и что слышалась музыка и луна отражалась в пруде, и оттого, что на нее жадно и с любопытством смотрел артынов, этот известный дон-жуан и баловник, и оттого, что всем было весело, она вдруг почувствовала радость, и, когда поезд тронулся и знакомые офицеры на прощанье сделали ей под козырек, она уже напевала польку, звуки которой посылал ей вдогонку военный оркестр, гремевший где-то там за деревьями; и вернулась она в свое купе с таким чувством, как будто на полустанке ее убедили, что она будет счастлива непременно, несмотря ни на что.\n",
      "молодые пробыли в монастыре два дня, потом вернулись в город. жили они на казенной квартире. когда модест алексеич уходил на службу, аня играла на рояле, или плакала от скуки, или ложилась на кушетку и читала романы, и рассматривала модный журнал. за обедом модест алексеич ел очень много и говорил о политике, о назначениях, переводах и наградах, о том, что надо трудиться, что семейная жизнь есть не удовольствие, а долг, что копейка рубль бережет и что выше всего на свете он ставит религию и нравственность. и, держа нож в кулаке, как меч, он говорил:\n",
      "— каждый человек должен иметь свои обязанности!\n",
      "а аня слушала его, боялась и не могла есть, и обыкновенно вставала из-за стола голодной. после обеда муж отдыхал и громко храпел, а она уходила к своим. отец и мальчики посматривали на нее как-то особенно, как будто только что до ее прихода осуждали ее за то, что она вышла из-за денег, за нелюбимого, нудного, скучного человека; ее шуршащее платье, браслетки и вообще дамский вид стесняли, оскорбляли их; в ее присутствии они немножко конфузились и не знали, о чем говорить с ней; но всё же любили они ее по-прежнему и еще не привыкли обедать без нее. она садилась и кушала с ними щи, кашу и картошку, жаренную на бараньем сале, от которого пахло свечкой. петр леонтьич дрожащей рукой наливал из графинчика и выпивал быстро, с жадностью, с отвращением, потом выпивал другую рюмку, потом третью... петя и андрюша, худенькие, бледные мальчики с большими глазами, брали графинчик и говорили растерянно:\n",
      "— не надо, папочка... довольно, папочка...\n",
      "и аня тоже тревожилась и умоляла его больше не пить, а он вдруг вспыхивал и стучал кулаком по столу.\n",
      "— я никому не позволю надзирать за мной! — кричал он. — мальчишки! девчонка! я вас всех выгоню вон!\n",
      "но в голосе его слышались слабость, доброта, и никто его не боялся. после обеда обыкновенно он наряжался; бледный, с порезанным от бритья подбородком, вытягивая тощую шею, он целых полчаса стоял перед зеркалом и прихорашивался, то причесываясь, то закручивая свои черные усы, прыскался духами, завязывал бантом галстук, потом надевал перчатки, цилиндр и уходил на частные уроки. а если был праздник, то он оставался дома и писал красками или играл на фисгармонии, которая шипела и рычала; он старался выдавить из нее стройные, гармоничные звуки и подпевал, или же сердился на мальчиков:\n",
      "— мерзавцы! негодяи! испортили инструмент!\n",
      "по вечерам муж ани играл в карты со своими сослуживцами, жившими с ним под одной крышей в казенном доме. сходились во время карт жены чиновников, некрасивые, безвкусно наряженные, грубые, как кухарки, и в квартире начинались сплетни, такие же некрасивые и безвкусные, как сами чиновницы. случалось, что модест алексеич ходил с аней в театр. в антрактах он не отпускал ее от себя ни на шаг, а ходил с ней под руку по коридорам и по фойе. раскланявшись с кем-нибудь, он тотчас уже шептал ане: «статский советник... принят у его сиятельства...» или: «со средствами... имеет свой дом...» когда проходили мимо буфета, ане очень хотелось чего-нибудь сладкого; она любила шоколад и яблочное пирожное, но денег у нее не было, а спросить у мужа она стеснялась. он брал грушу, мял ее пальцами и спрашивал нерешительно:\n",
      "— сколько стоит?\n",
      "— двадцать пять копеек.\n",
      "— однако! — говорил он и клал грушу на место; но так как было неловко отойти от буфета, ничего не купивши, то он требовал сельтерской воды и выпивал один всю бутылку, и слезы выступали у него на глазах, и аня ненавидела его в это время.\n",
      "или он, вдруг весь покраснев, говорил ей быстро:\n",
      "— поклонись этой старой даме!\n",
      "— но я с ней незнакома.\n",
      "— всё равно. это супруга управляющего казенной палатой! поклонись же, тебе говорю! — ворчал он настойчиво. — голова у тебя не отвалится.\n",
      "аня кланялась, и голова у нее в самом деле не отваливалась, но было мучительно. она делала всё, что хотел муж, и злилась на себя за то, что он обманул ее, как последнюю дурочку. выходила она за него только из-за денег, а между тем денег у нее теперь было меньше, чем до замужества. прежде хоть отец давал двугривенные, а теперь — ни гроша. брать тайно или просить она не могла, она боялась мужа, трепетала его. ей казалось, что страх к этому человеку она носит в своей душе уже давно. когда-то в детстве самой внушительной и страшной силой, надвигающейся как туча или локомотив, готовый задавить, ей всегда представлялся директор гимназии; другой такою же силой, о которой в семье всегда говорили и которую почему-то боялись, был его сиятельство; и был еще десяток сил помельче, и между ними учителя гимназии с бритыми усами, строгие, неумолимые, и теперь вот, наконец, модест алексеич, человек с правилами, который даже лицом походил на директора. и в воображении ани все эти силы сливались в одно и в виде одного страшного громадного белого медведя надвигались на слабых и виноватых, таких, как ее отец, и она боялась сказать что-нибудь против, и натянуто улыбалась, и выражала притворное удовольствие, когда ее грубо ласкали и оскверняли объятиями, наводившими на нее ужас.\n",
      "только один раз петр леонтьич осмелился попросить у него пятьдесят рублей взаймы, чтобы заплатить какой-то очень неприятный долг, но какое это было страдание!\n",
      "— хорошо, я вам дам, — сказал модест алексеич, подумав, — но предупреждаю, что больше уже не буду помогать вам, пока вы не бросите пить. для человека, состоящего на государственной службе, постыдна такая слабость. не могу не напомнить вам общеизвестного факта, что многих способных людей погубила эта страсть, между тем как при воздержании они, быть может, могли бы со временем сделаться высокопоставленными людьми.\n",
      "и потянулись длинные периоды: «по мере того»... «исходя из того положения»... «ввиду только что сказанного», а бедный петр леонтьич страдал от унижения и испытывал сильное желание выпить.\n",
      "и мальчики, приходившие к ане в гости, обыкновенно в рваных сапогах и в поношенных брюках, тоже должны были выслушивать наставления.\n",
      "— каждый человек должен иметь свои обязанности! — говорил им модест алексеич.\n",
      "а денег не давал. но зато он дарил ане кольца, браслеты и броши, говоря, что эти вещи хорошо иметь про черный день. и часто от отпирал ее комод и делал ревизию: все ли вещи целы.\n",
      "ii\n",
      "наступила между тем зима. еще задолго до рождества в местной газете было объявлено, что 29-го декабря в дворянском собрании «имеет быть» обычный зимний бал. каждый вечер после карт модест алексеич, взволнованный, шептался с чиновницами, озабоченно поглядывая на аню, и потом долго ходил из угла в угол, о чем-то думая. наконец, как-то поздно вечером, он остановился перед аней и сказал:\n",
      "— ты должна сшить себе бальное платье. понимаешь? только, пожалуйста, посоветуйся с марьей григорьевной и с натальей кузьминишной.\n",
      "и дал ей сто рублей. она взяла; но, заказывая бальное платье, ни с кем не советовалась, а поговорила только с отцом и постаралась вообразить себе, как бы оделась на бал ее мать. ее покойная мать сама одевалась всегда по последней моде и всегда возилась с аней и одевала ее изящно, как куклу, и научила ее говорить по-французски и превосходно танцевать мазурку (до замужества она пять лет прослужила в гувернантках). аня так же, как мать, могла из старого платья сделать новое, мыть в бензине перчатки, брать напрокат bijoux 1 и так же, как мать, умела щурить глаза, картавить, принимать красивые позы, приходить, когда нужно, в восторг, глядеть печально и загадочно. а от отца она унаследовала темный цвет волос и глаз, нервность и эту манеру всегда прихорашиваться.\n",
      "когда за полчаса до отъезда на бал модест алексеич вошел к ней без сюртука, чтобы перед ее трюмо надеть себе на шею орден, то, очарованный ее красотой и блеском ее свежего, воздушного наряда, самодовольно расчесал себе бакены и сказал:\n",
      "— вот ты у меня какая... вот ты какая! анюта! — продолжал он, вдруг впадая в торжественный тон. — я тебя осчастливил, а сегодня ты можешь осчастливить меня. прошу тебя, представься супруге его сиятельства! ради бога! через нее я могу получить старшего докладчика!\n",
      "поехали на бал. вот и дворянское собрание, и подъезд со швейцаром. передняя с вешалками, шубы, снующие лакеи и декольтированные дамы, закрывающиеся веерами от сквозного ветра; пахнет светильным газом и солдатами. когда аня, идя вверх по лестнице под руку с мужем, услышала музыку и увидала в громадном зеркале всю себя, освещенную множеством огней, то в душе ее проснулась радость и то самое предчувствие счастья, какое испытала она в лунный вечер на полустанке. она шла гордая, самоуверенная, в первый раз чувствуя себя не девочкой, а дамой, и невольно походкою и манерами подражая своей покойной матери. и в первый раз в жизни она чувствовала себя богатой и свободной. даже присутствие мужа не стесняло ее, так как, перейдя порог собрания, она уже угадала инстинктом, что близость старого мужа нисколько не унижает ее, а, наоборот, кладет на нее печать пикантной таинственности, которая так нравится мужчинам. в большой зале уже гремел оркестр и начались танцы. после казенной квартиры, охваченная впечатлениями света, пестроты, музыки, шума, аня окинула взглядом залу и подумала: «ах, как хорошо!» и сразу отличила в толпе всех своих знакомых, всех, кого она раньше встречала на вечерах или на гуляньях, всех этих офицеров, учителей, адвокатов, чиновников, помещиков, его сиятельство, артынова и дам высшего общества, разодетых, сильно декольтированных, красивых и безобразных, которые уже занимали свои позиции в избушках и павильонах благотворительного базара, чтобы начать торговлю в пользу бедных. громадный офицер в эполетах — она познакомилась с ним на старо-киевской улице, когда была гимназисткой, а теперь не помнила его фамилии — точно из-под земли вырос и пригласил на вальс, и она отлетела от мужа, и ей уж казалось, будто она плыла на парусной лодке, в сильную бурю, а муж остался далеко на берегу... она танцевала страстно, с увлечением и вальс, и польку, и кадриль, переходя с рук на руки, угорая от музыки и шума, мешая русский язык с французским, картавя, смеясь и не думая ни о муже, ни о ком и ни о чем. она имела успех у мужчин, это было ясно, да иначе и быть не могло, она задыхалась от волнения, судорожно тискала в руках веер и хотела пить. отец, петр леонтьич, в помятом фраке, от которого пахло бензином, подошел к ней, протягивая блюдечко с красным мороженым.\n",
      "— ты очаровательна сегодня, — говорил он, глядя на нее с восторгом, — и никогда еще я так не жалел, что ты поспешила замуж... зачем? я знаю, ты сделала это ради нас, но... — он дрожащими руками вытащил пачечку денег и сказал: — я сегодня получил с урока и могу отдать долг твоему мужу.\n",
      "она сунула ему в руки блюдечко и, подхваченная кем-то, унеслась далеко и мельком, через плечо своего кавалера, видела, как отец, скользя по паркету, обнял даму и понесся с ней по зале.\n",
      "«как он мил, когда трезв!» — думала она.\n",
      "мазурку она танцевала с тем же громадным офицером; он важно и тяжело, словно туша в мундире, ходил, поводил плечами и грудью, притоптывал ногами еле-еле — ему страшно не хотелось танцевать, а она порхала около, дразня его своей красотой, своей открытой шеей; глаза ее горели задором, движения были страстные, а он становился всё равнодушнее и протягивал к ней руки милостиво, как король.\n",
      "— браво, браво!.. — говорили в публике.\n",
      "но мало-помалу и громадного офицера прорвало; он оживился, заволновался и, уже поддавшись очарованию, вошел в азарт и двигался легко, молодо, а она только поводила плечами и глядела лукаво, точно она уже била королева, а он раб, и в это время ей казалось, что на них смотрит вся зала, что все эти люди млеют и завидуют им. едва громадный офицер успел поблагодарить ее, как публика вдруг расступилась и мужчины вытянулись как-то странно, опустив руки... это шел к ней его сиятельство, во фраке с двумя звездами. да, его сиятельство шел именно к ней, потому что глядел прямо на нее в упор и слащаво улыбался, и при этом жевал губами, что делал он всегда, когда видел хорошеньких женщин.\n",
      "— очень рад, очень рад... — начал он. — а я прикажу посадить вашего мужа на гауптвахту за то, что он до сих пор скрывал от нас такое сокровище. я к вам с поручением от жены, — продолжал он, подавая ей руку, — вы должны помочь нам... м-да... нужно назначить вам премию за красоту... как в америке... м-да... американцы... моя жена ждет вас с нетерпением.\n",
      "он привел ее в избушку, к пожилой даме, у которой нижняя часть лица была несоразмерно велика, так что казалось, будто она во рту держала большой камень.\n",
      "— помогите нам, — сказала она в нос, нараспев. — все хорошенькие женщины работают на благотворительном базаре, и только одна вы почему-то гуляете. отчего вы не хотите нам помочь?\n",
      "она ушла, и аня заняла ее место около серебряного самовара с чашками. тотчас же началась бойкая торговля. за чашку чаю аня брала не меньше рубля, а громадного офицера заставила выпить три чашки. подошел артынов, богач, с выпуклыми глазами, страдающий одышкой, но уже не в том странном костюме, в каком видела его аня летом, а во фраке, как все. не отрывая глаз с ани, он выпил бокал шампанского и заплатил сто рублей, потом выпил чаю и дал еще сто — и всё это молча, страдая астмой... аня зазывала покупателей и брала с них деньги, уже глубоко убежденная, что ее улыбки и взгляды не доставляют этим людям ничего, кроме большого удовольствия. она уже поняла, что она создана исключительно для этой шумной, блестящей, смеющейся жизни с музыкой, танцами, поклонниками, и давнишний страх ее перед силой, которая надвигается и грозит задавить, казался ей смешным; никого она уже не боялась в только жалела, что нет матери, которая порадовалась бы теперь вместе с ней ее успехам.\n",
      "петр леонтьич, уже бледный, но еще крепко держась на ногах, подошел к избушке и попросил рюмку коньяку. аня покраснела, ожидая, что он скажет что-нибудь неподобающее (ей уже было стыдно, что у нее такой бедный, такой обыкновенный отец), но он выпил, выбросил из своей пачечки десять рублей и важно отошел, не сказав ни слова. немного погодя она видела, как он шел в паре в grand rond 2 и в этот раз он уже пошатывался и что-то выкрикивал, к великому конфузу своей дамы, и аня вспомнила, как года три назад на балу он так же вот пошатывался и выкрикивал — и кончилось тем, что околоточный увез его домой спать, а на другой день директор грозил уволить со службы. как некстати было это воспоминание!\n",
      "когда в избушках потухли самовары и утомленные благотворительницы сдали выручку пожилой даме с камнем во рту, артынов повел аню под руку в залу, где был сервирован ужин для всех участвовавших в благотворительном базаре. ужинало человек двадцать, не больше, но было очень шумно. его сиятельство провозгласил тост: «в этой роскошной столовой будет уместно выпить за процветание дешевых столовых, служивших предметом сегодняшнего базара». бригадный генерал предложил выпить «за силу, перед которой пасует даже артиллерия», и все потянулись чокаться с дамами. было очень, очень весело!\n",
      "когда аню провожали домой, то уже светало и кухарки шли на рынок. радостная, пьяная, полная новых впечатлений, замученная, она разделась, повалилась в постель и тотчас же уснула...\n",
      "во втором часу дня ее разбудила горничная и доложила, что приехал господин артынов с визитом. она быстро оделась и пошла в гостиную. вскоре после артынова приезжал его сиятельство благодарить за участие в благотворительном базаре. он, глядя на нее слащаво и жуя, поцеловал ей ручку и попросил позволения бывать еще и уехал, а она стояла среди гостиной, изумленная, очарованная, не веря, что перемена в ее жизни, удивительная перемена, произошла так скоро; и в это самое время вошел ее муж, модест алексеич... и перед ней также стоял он теперь с тем же заискивающим, сладким, холопски-почтительным выражением, какое она привыкла видеть у него в присутствии сильных и знатных; и с восторгом, с негодованием, с презрением, уже уверенная, что ей за это ничего не будет, она сказала, отчетливо выговаривая каждое слово:\n",
      "— подите прочь, болван!\n",
      "после этого у ани не было уже ни одного свободного дня, так как она принимала участие то в пикнике, то в прогулке, то в спектакле. возвращалась она домой каждый день под утро и ложилась в гостиной на полу, и потом рассказывала всем трогательно, как она спит под цветами. денег нужно было очень много, но она уже не боялась модеста алексеича и тратила его деньги, как свои; и она не просила, не требовала, а только посылала ему счета или записки: «выдать подателю сего 200 р.» или: «немедленно уплатить 100 р.»\n",
      "на пасхе модест алексеич получил анну второй степени. когда он пришел благодарить, его сиятельство отложил в сторону газету и сел поглубже в кресло.\n",
      "— значит, у вас теперь три анны, — сказал он, осматривая свои белые руки с розовыми ногтями, — одна в петлице, две на шее.\n",
      "модест алексеич приложил два пальца к губам из осторожности, чтобы не рассмеяться громко, и сказал:\n",
      "— теперь остается ожидать появления на свет маленького владимира. осмелюсь просить ваше сиятельство в восприемники.\n",
      "он намекал на владимира iv степени и уже воображал, как он будет всюду рассказывать об этом своем каламбуре, удачном по находчивости и смелости, и хотел сказать еще что-нибудь такое же удачное, но его сиятельство вновь углубился в газету и кивнул головой...\n",
      "а аня всё каталась на тройках, ездила с артыновым на охоту, играла в одноактных пьесах, ужинала, и всё реже и реже бывала у своих. они обедали уже одни. петр леонтьич запивал сильнее прежнего, денег не было, и фисгармонию давно уже продали за долг. мальчики теперь не отпускали его одного на улицу и всё следили за ним, чтобы он не упал; и когда во время катанья на старо-киевской им встречалась аня на паре с пристяжной на отлете и с артыновым на козлах вместо кучера, петр леонтьич снимал цилиндр и собирался что-то крикнуть, а петя и андрюша брали его под руки и говорили умоляюще:\n",
      "— не надо, папочка... будет, папочка...\n"
     ]
    }
   ],
   "source": [
    "text = open('texts/anna.txt', \"r\", encoding=\"utf-8\").read().lower() # берём текст, на котором будем обучать\n",
    "print(text)"
   ]
  },
  {
   "cell_type": "code",
   "execution_count": 3,
   "metadata": {
    "collapsed": true
   },
   "outputs": [],
   "source": [
    "import re"
   ]
  },
  {
   "cell_type": "code",
   "execution_count": 4,
   "metadata": {
    "collapsed": true
   },
   "outputs": [],
   "source": [
    "words = [word for word in re.split('[ »–\\—«\\-\\n\\t\\r,\\.\\?!:;\\*\\'\\\"“”\\[\\]\\(\\)/]', text) if word != '']\n",
    "tokens = set(words)"
   ]
  },
  {
   "cell_type": "code",
   "execution_count": 5,
   "metadata": {},
   "outputs": [
    {
     "name": "stdout",
     "output_type": "stream",
     "text": [
      "{'рублей': 0, 'среди': 1, 'втором': 2, 'звучал': 3, 'это': 4, 'подпевал': 5, 'шлейф': 6, 'эти': 7, 'которое': 8, 'выкрикивал': 9, 'встал': 10, 'матери': 11, 'толпе': 12, 'несмотря': 13, 'от': 14, 'угол': 15, 'лет': 16, 'ботинках': 17, 'них': 18, 'острые': 19, 'оделась': 20, 'бритья': 21, 'позиции': 22, 'сплетни': 23, 'кавалера': 24, 'аню': 25, 'эполетах': 26, 'жуан': 27, 'с': 28, 'опустив': 29, 'таким': 30, 'крепко': 31, 'женится': 32, 'благотворительном': 33, 'ставит': 34, 'огней': 35, 'богатого': 36, 'обманутой': 37, 'приличной': 38, 'коньяку': 39, 'вместо': 40, 'орден': 41, 'испытывал': 42, 'нибудь': 43, 'дамский': 44, 'удовольствие': 45, 'тем': 46, 'швейцаром': 47, 'молодой': 48, 'отражалась': 49, 'создана': 50, 'сказав': 51, 'прямо': 52, 'киевской': 53, 'описывал': 54, 'брали': 55, 'веселого': 56, 'свободной': 57, 'протягивая': 58, 'чиновницами': 59, 'костюме': 60, 'даму': 61, 'броши': 62, 'надо': 63, 'моя': 64, 'большими': 65, 'старой': 66, 'поняла': 67, 'этот': 68, 'сел': 69, 'страх': 70, 'платье': 71, 'настойчиво': 72, 'смотрел': 73, 'требовал': 74, 'поздно': 75, 'танцы': 76, 'неотвязчивая': 77, 'увлечением': 78, 'губам': 79, 'потому': 80, 'начал': 81, 'прихорашивался': 82, 'старо': 83, 'отвращением': 84, 'неловкостью': 85, 'скоро': 86, 'король': 87, 'обнял': 88, 'состоящего': 89, 'трепетала': 90, 'покойной': 91, 'дачах': 92, 'два': 93, 'ревизию': 94, 'щи': 95, 'кольца': 96, 'хоть': 97, 'браслеты': 98, 'мальчики': 99, 'звездами': 100, 'погубила': 101, 'священник': 102, 'грозил': 103, 'дешевую': 104, 'равнодушнее': 105, 'пять': 106, 'статский': 107, 'пойдет': 108, 'приехал': 109, 'учительском': 110, 'десяток': 111, 'тоже': 112, 'свадебного': 113, 'обеда': 114, 'стесняли': 115, 'графинчика': 116, 'далеко': 117, 'осчастливил': 118, 'анну': 119, 'расстегнутая': 120, 'своими': 121, 'порезанным': 122, 'побежал': 123, 'религию': 124, 'угорая': 125, 'сокровище': 126, 'пальцами': 127, 'мировому': 128, 'братья': 129, 'скучного': 130, 'лукаво': 131, 'участвовавших': 132, 'груди': 133, 'великолепном': 134, 'ужинала': 135, 'мил': 136, 'улице': 137, 'постель': 138, 'сытый': 139, 'картавить': 140, 'снял': 141, 'трогательно': 142, 'ездила': 143, 'впечатлений': 144, 'шума': 145, 'прихода': 146, 'уроки': 147, 'стыдно': 148, 'целых': 149, 'окинула': 150, 'попросил': 151, 'ужин': 152, 'почувствовала': 153, 'сливались': 154, 'храпел': 155, 'другой': 156, 'напрокат': 157, 'жаренную': 158, 'благотворительного': 159, 'маленького': 160, 'унеслась': 161, 'вагоне': 162, 'анны': 163, 'пикнике': 164, 'своего': 165, 'самом': 166, 'казалось': 167, 'заплатить': 168, 'разделась': 169, 'выпить': 170, 'давно': 171, 'петлице': 172, 'повода': 173, 'толпа': 174, 'дурочку': 175, 'задавить': 176, 'сделала': 177, 'несоразмерно': 178, 'негодяи': 179, 'такое': 180, 'этого': 181, 'вспыхивал': 182, 'умрет': 183, 'научила': 184, 'же': 185, 'куклу': 186, 'богатой': 187, 'вечер': 188, 'ты': 189, 'рычала': 190, 'шептался': 191, 'улыбаясь': 192, 'здравствуйте': 193, 'испытывают': 194, 'переводах': 195, 'должна': 196, 'быстрые': 197, 'ходить': 198, 'пахло': 199, 'черные': 200, 'поклонниками': 201, 'неумолимые': 202, 'послышалась': 203, 'боялась': 204, 'ветра': 205, 'ждет': 206, 'отвалится': 207, 'обдавая': 208, 'перейдя': 209, 'мальчишки': 210, 'танцев': 211, 'сладким': 212, 'дырочки': 213, 'обычный': 214, 'bijoux': 215, 'выпил': 216, 'пока': 217, 'отчетливо': 218, 'высшего': 219, 'хорошем': 220, 'выгоню': 221, 'может': 222, 'мыть': 223, 'веерами': 224, 'дом': 225, 'осматривая': 226, 'прищурила': 227, 'жалела': 228, 'наоборот': 229, 'против': 230, 'пятьдесят': 231, 'две': 232, 'губами': 233, 'говорить': 234, 'офицерам': 235, 'утро': 236, 'лицом': 237, 'очень': 238, 'страдание': 239, 'черный': 240, 'платья': 241, 'рынок': 242, 'гостиную': 243, 'учитель': 244, 'бригадный': 245, 'оркестр': 246, 'ходили': 247, 'наряжался': 248, 'буфета': 249, 'декабря': 250, 'гауптвахту': 251, 'ни': 252, 'подумав': 253, 'очарованный': 254, 'залу': 255, 'волос': 256, 'улыбалась': 257, 'одышкой': 258, 'сами': 259, 'перед': 260, 'кулаком': 261, 'я': 262, 'брюках': 263, 'декольтированные': 264, 'леонтьича': 265, 'выдавить': 266, 'слезы': 267, 'замужества': 268, 'характерное': 269, 'красоту': 270, 'дешевой': 271, 'места': 272, 'военный': 273, 'едва': 274, 'очерченный': 275, 'вставала': 276, 'гуляете': 277, 'подражая': 278, 'глубоко': 279, 'получу': 280, 'польку': 281, 'внушительной': 282, 'кроме': 283, 'ужинало': 284, 'рубль': 285, 'озабоченно': 286, 'браслетки': 287, 'деньгах': 288, 'гимназисты': 289, 'вот': 290, 'ногтями': 291, 'повалилась': 292, 'супруга': 293, 'сапогах': 294, 'сельтерской': 295, 'rond': 296, 'выходила': 297, 'была': 298, 'которую': 299, 'военного': 300, '200': 301, 'дрожало': 302, 'пить': 303, 'м': 304, 'садясь': 305, 'никогда': 306, 'ночам': 307, 'охоту': 308, 'жизнь': 309, 'судебный': 310, 'десять': 311, 'тяжело': 312, 'знакомые': 313, 'заняла': 314, 'пошатываясь': 315, 'денег': 316, 'усами': 317, 'записки': 318, 'сердился': 319, 'получить': 320, 'мягкие': 321, 'рассказывала': 322, 'венчание': 323, 'манеры': 324, 'гуляли': 325, 'мысль': 326, 'подхваченная': 327, 'сразу': 328, 'приходить': 329, 'надеюсь': 330, 'советовалась': 331, 'нее': 332, 'сказать': 333, 'королева': 334, 'ждала': 335, 'исключительно': 336, 'бокалами': 337, 'базаре': 338, 'разъезд': 339, 'раз': 340, 'чиновницы': 341, 'руках': 342, 'генерал': 343, 'там': 344, 'натянуто': 345, 'за': 346, 'графинчик': 347, 'публике': 348, 'площадку': 349, 'ани': 350, 'чаю': 351, 'спросила': 352, 'женщин': 353, 'сильное': 354, 'надеть': 355, 'туча': 356, 'положения': 357, 'звали': 358, 'кучера': 359, 'убежденная': 360, 'бы': 361, 'полу': 362, 'директор': 363, 'дамы': 364, 'угла': 365, 'этой': 366, 'рту': 367, 'поездку': 368, 'выдать': 369, 'вышла': 370, 'по': 371, 'растерянно': 372, 'знаю': 373, 'никого': 374, 'тронулся': 375, 'осуждали': 376, 'свадьба': 377, 'церкви': 378, 'сзади': 379, 'произошла': 380, 'р': 381, '18': 382, 'длинными': 383, 'звуки': 384, 'мы': 385, 'переходя': 386, 'приходившие': 387, 'держа': 388, 'вообще': 389, 'место': 390, 'перенесет': 391, 'то': 392, 'гармоничные': 393, 'голосе': 394, 'будут': 395, 'предчувствие': 396, 'волнения': 397, 'господин': 398, 'бритый': 399, 'вам': 400, 'чашками': 401, 'деньги': 402, 'слышалась': 403, 'ваше': 404, 'гимназистам': 405, 'благотворительницы': 406, 'припомнить': 407, 'бедных': 408, 'видела': 409, 'иначе': 410, 'замуж': 411, 'здесь': 412, 'декольтированных': 413, 'потянулись': 414, 'щеки': 415, 'присутствии': 416, 'рассказывать': 417, 'окна': 418, 'восторг': 419, 'шоколад': 420, 'такая': 421, 'предметом': 422, 'меня': 423, 'таки': 424, 'карты': 425, 'прочь': 426, 'углубился': 427, 'шляпку': 428, 'спеша': 429, 'мазурку': 430, 'рождества': 431, 'сделаться': 432, 'газом': 433, 'играла': 434, 'громадный': 435, 'навыкате': 436, 'сконфуженно': 437, 'зачем': 438, 'счету': 439, 'успех': 440, 'красным': 441, 'устроилось': 442, 'упор': 443, 'нем': 444, 'вон': 445, 'света': 446, 'премию': 447, 'лунным': 448, 'надвигающейся': 449, 'улицу': 450, 'старался': 451, 'рукой': 452, 'погодя': 453, 'прежнего': 454, 'лице': 455, 'берегу': 456, 'мешая': 457, 'спать': 458, 'галстук': 459, 'какое': 460, 'смеялась': 461, 'шеей': 462, 'попросить': 463, 'пожилой': 464, 'своей': 465, 'grand': 466, 'цилиндр': 467, 'принят': 468, 'напомнить': 469, 'увез': 470, 'браке': 471, 'хорошо': 472, 'завидуют': 473, 'жадностью': 474, 'назад': 475, 'мне': 476, 'глядела': 477, 'браво': 478, 'имение': 479, 'чувствовала': 480, 'косоротову': 481, 'хотелось': 482, 'неинтересного': 483, 'дач': 484, 'мерзавцы': 485, 'прослужила': 486, 'владелец': 487, 'театр': 488, 'гости': 489, 'ужас': 490, 'бойкая': 491, 'красивые': 492, 'смешной': 493, 'банке': 494, 'тянулся': 495, 'похожий': 496, 'женщинами': 497, 'нелюбимого': 498, 'осмелюсь': 499, 'переоделись': 500, 'инструмент': 501, 'благодарить': 502, 'надвигались': 503, 'нам': 504, 'дрожащие': 505, 'жевал': 506, 'обыкновенный': 507, 'чулки': 508, 'встречалась': 509, 'усов': 510, 'тройках': 511, 'вы': 512, 'залитых': 513, 'лестнице': 514, 'крестил': 515, 'тратила': 516, 'била': 517, 'высокий': 518, 'вскоре': 519, 'страстные': 520, 'взять': 521, 'завтра': 522, 'степени': 523, 'ненавидела': 524, 'силу': 525, 'печать': 526, 'теперь': 527, 'можешь': 528, 'безобразных': 529, 'пальца': 530, 'отдыхал': 531, 'мной': 532, 'слушать': 533, 'винного': 534, 'одно': 535, 'пасует': 536, 'сильных': 537, 'смеясь': 538, 'тебе': 539, 'ответили': 540, 'много': 541, 'любили': 542, 'палатой': 543, 'человека': 544, 'близость': 545, 'пользу': 546, 'об': 547, 'поблагодарить': 548, 'есть': 549, 'собрание': 550, 'стоим': 551, 'сдали': 552, 'пор': 553, 'каталась': 554, 'заволновался': 555, 'ком': 556, 'имеет': 557, 'советник': 558, 'немножко': 559, 'долг': 560, 'блестящей': 561, 'прощанье': 562, 'немного': 563, 'газету': 564, 'тощую': 565, 'и': 566, 'остановился': 567, 'коридорам': 568, 'услышала': 569, 'впечатлениями': 570, 'слащаво': 571, 'будто': 572, 'снимал': 573, 'того': 574, 'подавая': 575, 'одевалась': 576, 'шли': 577, 'глазами': 578, 'себя': 579, 'молодые': 580, 'рассматривала': 581, 'держась': 582, 'обманул': 583, 'нижняя': 584, 'ней': 585, 'отчего': 586, 'она': 587, 'руку': 588, 'унижения': 589, 'презрением': 590, 'замазанные': 591, 'жуя': 592, 'плакала': 593, 'избушках': 594, 'показаться': 595, 'весь': 596, 'намекал': 597, 'газете': 598, 'милая': 599, 'всего': 600, 'вашего': 601, 'гостиной': 602, 'красивый': 603, 'горели': 604, 'убедили': 605, 'ожидают': 606, 'голос': 607, 'последнюю': 608, 'вспоминала': 609, 'помогать': 610, 'понять': 611, 'постыдна': 612, 'общества': 613, 'хотел': 614, 'видеть': 615, 'обедом': 616, 'стесняло': 617, 'выслушивать': 618, 'взяла': 619, 'скрывал': 620, 'поклонись': 621, 'позы': 622, 'базара': 623, 'пьяным': 624, 'смеющейся': 625, 'лицо': 626, 'знатных': 627, 'о': 628, 'уплатить': 629, 'отец': 630, 'наряда': 631, 'такую': 632, 'ухаживать': 633, 'счастья': 634, 'нужно': 635, 'русский': 636, 'голое': 637, 'мысли': 638, 'бережет': 639, 'жили': 640, 'жене': 641, '29': 642, 'движения': 643, 'зала': 644, 'дамами': 645, 'кричал': 646, 'думала': 647, 'чернилами': 648, 'хорошая': 649, 'ее': 650, 'уволят': 651, 'высоких': 652, 'конфузились': 653, 'приезжал': 654, 'артыновым': 655, 'не': 656, 'бутылку': 657, 'давнишний': 658, 'тайно': 659, 'вытягивая': 660, 'карт': 661, 'задолго': 662, 'родных': 663, 'мебель': 664, 'наливал': 665, 'день': 666, 'калош': 667, 'осторожности': 668, 'пугали': 669, 'этих': 670, 'собрания': 671, 'участие': 672, 'дня': 673, 'тащившийся': 674, 'темный': 675, 'сервирован': 676, 'петр': 677, 'модест': 678, 'расплескивая': 679, 'монастырь': 680, 'чувствуя': 681, 'посылала': 682, 'записочку': 683, 'туша': 684, 'спрашивал': 685, 'громадном': 686, 'нет': 687, 'умоляла': 688, 'бывала': 689, 'камнем': 690, 'бывать': 691, 'сапоги': 692, 'собрании': 693, 'деньгами': 694, 'медведя': 695, 'посадить': 696, 'тоску': 697, 'становился': 698, 'зато': 699, 'ах': 700, 'знакомым': 701, 'сил': 702, 'садилась': 703, 'кончилось': 704, 'белого': 705, 'хорошенькие': 706, 'грубые': 707, 'гроша': 708, 'унаследовала': 709, 'платформе': 710, 'просила': 711, 'провожали': 712, 'стучал': 713, 'бокал': 714, 'между': 715, 'да': 716, 'молодо': 717, 'вытащил': 718, 'отпирал': 719, 'повел': 720, 'сказал': 721, 'верст': 722, 'службу': 723, 'надел': 724, 'девочкой': 725, 'таинственности': 726, 'ногами': 727, 'средствами': 728, 'если': 729, 'выговаривая': 730, 'нетерпением': 731, 'разодетых': 732, 'копейки': 733, 'наклонялась': 734, 'козырек': 735, 'мужчинам': 736, 'чашку': 737, 'изумленная': 738, 'визитом': 739, 'штопать': 740, 'походил': 741, 'даме': 742, 'гармонике': 743, 'заказывая': 744, 'одобрили': 745, 'бензине': 746, 'страшно': 747, 'скрипке': 748, 'их': 749, 'шпорами': 750, 'безвкусные': 751, 'спускался': 752, 'про': 753, 'отваливалась': 754, 'могли': 755, 'утром': 756, 'глаза': 757, 'маленькими': 758, 'процветание': 759, 'закрывающиеся': 760, 'жены': 761, '2': 762, 'красками': 763, 'таких': 764, 'заплатил': 765, 'дон': 766, 'ворвавшаяся': 767, 'шампанского': 768, 'скажет': 769, 'муже': 770, 'пахнет': 771, 'помалу': 772, 'оживился': 773, 'воздушного': 774, 'женщины': 775, 'танцевать': 776, 'крышей': 777, 'страшной': 778, 'легко': 779, 'адвокатов': 780, 'музыку': 781, 'жилет': 782, 'обедали': 783, 'напевала': 784, 'постаралась': 785, 'пруде': 786, 'чего': 787, 'очаровательна': 788, 'сторону': 789, 'чем': 790, 'окну': 791, 'они': 792, 'известный': 793, 'началась': 794, 'холопски': 795, 'рубаха': 796, 'отошел': 797, 'нему': 798, 'увидала': 799, 'стеснялась': 800, 'кулаке': 801, 'ласкали': 802, 'ясно': 803, 'родовое': 804, 'одни': 805, 'кладет': 806, 'квартире': 807, 'замученная': 808, 'он': 809, 'камень': 810, 'перчатки': 811, 'сказала': 812, 'остался': 813, 'смерти': 814, 'удачном': 815, 'жалел': 816, 'меньше': 817, 'знакомых': 818, 'великому': 819, 'шептал': 820, 'нараспев': 821, 'со': 822, 'тревожилась': 823, 'продолжал': 824, 'всю': 825, 'часу': 826, 'двадцать': 827, 'познакомилась': 828, 'торговлю': 829, 'ане': 830, 'года': 831, 'минуту': 832, 'сказанного': 833, 'бурю': 834, 'задыхалась': 835, 'локомотив': 836, 'офицеров': 837, 'отказать': 838, 'хорошеньких': 839, 'сильную': 840, 'журнал': 841, 'кашу': 842, 'плечо': 843, 'квартиры': 844, 'ожидая': 845, 'сквозного': 846, 'представлялся': 847, 'шаг': 848, 'свежевыбритое': 849, 'объятиями': 850, 'загадочно': 851, 'ничего': 852, 'вырос': 853, 'поспешила': 854, 'выручку': 855, 'этом': 856, 'немедленно': 857, 'вечером': 858, 'злилась': 859, 'сих': 860, 'эта': 861, 'раньше': 862, 'американцы': 863, 'идя': 864, 'гимназисткой': 865, 'кресло': 866, 'требовала': 867, 'пачечки': 868, 'вернулись': 869, 'государственной': 870, 'веер': 871, 'у': 872, 'похлопывал': 873, 'выпивал': 874, 'ужина': 875, 'однако': 876, 'объявлено': 877, 'играли': 878, 'потом': 879, 'отрывая': 880, 'фраке': 881, 'скользя': 882, 'испытала': 883, 'каждое': 884, 'освещенную': 885, 'такой': 886, 'роскошной': 887, 'прыскался': 888, 'вдогонку': 889, 'сварливая': 890, 'болван': 891, 'поцеловать': 892, 'шумно': 893, 'нос': 894, 'служивших': 895, 'расступилась': 896, 'столовой': 897, 'громадного': 898, 'дразня': 899, 'сунула': 900, 'своих': 901, 'пробыли': 902, 'пьяная': 903, 'ушла': 904, 'сегодняшнего': 905, 'зале': 906, 'поехали': 907, 'желе': 908, 'святыя': 909, 'лунный': 910, 'завязывал': 911, 'общеизвестного': 912, 'летом': 913, 'отложил': 914, 'запил': 915, 'среднего': 916, 'глаз': 917, 'глядел': 918, 'дворянском': 919, 'шеи': 920, 'самый': 921, 'вино': 922, 'молодость': 923, 'дворянское': 924, 'самоуверенная': 925, 'покупателей': 926, 'одной': 927, 'понесся': 928, 'каждый': 929, 'полчаса': 930, 'обязанности': 931, 'который': 932, 'находчивости': 933, 'ужинать': 934, 'бантом': 935, 'оставался': 936, 'засуетились': 937, 'новом': 938, 'нашелся': 939, 'армянина': 940, 'вспомнила': 941, 'ей': 942, 'светало': 943, 'судорожно': 944, 'людям': 945, 'службы': 946, 'уходил': 947, 'службе': 948, 'уснула': 949, 'виноватых': 950, 'нравственности': 951, 'покойная': 952, 'вытянулись': 953, 'сколько': 954, 'управляющего': 955, 'чтобы': 956, 'такие': 957, 'утомленные': 958, 'реже': 959, 'предупреждаю': 960, 'парусной': 961, 'бледный': 962, 'смелости': 963, 'жившими': 964, 'старшего': 965, 'тебя': 966, 'шубы': 967, 'большого': 968, 'факта': 969, 'умоляюще': 970, 'слышались': 971, 'говоря': 972, 'зеркале': 973, 'одна': 974, 'грудью': 975, 'брала': 976, 'гордая': 977, 'плыла': 978, 'поглубже': 979, '1': 980, 'сто': 981, 'жадно': 982, 'равно': 983, 'лица': 984, 'неподобающее': 985, 'плечами': 986, 'должен': 987, 'пожилого': 988, 'одевала': 989, 'шла': 990, 'успел': 991, 'к': 992, 'наконец': 993, 'первое': 994, 'удивительная': 995, 'сидят': 996, 'публика': 997, 'мужа': 998, 'манерами': 999, 'громко': 1000, 'чиновник': 1001, 'докладчика': 1002, 'себе': 1003, 'возвращалась': 1004, 'дрожащей': 1005, 'религии': 1006, 'мимо': 1007, 'погоду': 1008, 'политике': 1009, 'множеством': 1010, 'смотрит': 1011, 'трудиться': 1012, 'французским': 1013, 'присутствие': 1014, 'а': 1015, 'осчастливить': 1016, 'никому': 1017, 'астмой': 1018, 'вся': 1019, 'очарованная': 1020, 'запахом': 1021, 'горничная': 1022, 'высокие': 1023, 'дома': 1024, 'самое': 1025, 'нельзя': 1026, 'обстоятельства': 1027, 'прикажу': 1028, 'алексеич': 1029, 'еле': 1030, 'пожимала': 1031, 'рассмеяться': 1032, 'дарил': 1033, 'свет': 1034, 'некрасивые': 1035, 'голова': 1036, 'поводил': 1037, 'хорошего': 1038, 'гремел': 1039, 'посоветуйся': 1040, 'ухо': 1041, 'исходя': 1042, 'старого': 1043, 'глядеть': 1044, 'нравится': 1045, 'будет': 1046, 'рюмку': 1047, 'были': 1048, 'шумом': 1049, 'сходились': 1050, 'отличила': 1051, 'прекрасно': 1052, 'петра': 1053, 'печально': 1054, 'бакенами': 1055, 'любила': 1056, 'вместе': 1057, 'шуршащее': 1058, 'уж': 1059, 'которая': 1060, 'сделали': 1061, 'самодовольно': 1062, 'назначить': 1063, 'увольняли': 1064, 'нисколько': 1065, 'именно': 1066, 'помогите': 1067, 'блеском': 1068, 'нервность': 1069, 'уходила': 1070, 'пятку': 1071, 'скуки': 1072, 'последней': 1073, 'манеру': 1074, 'красивых': 1075, 'когда': 1076, 'наряженные': 1077, 'несчастна': 1078, 'уместно': 1079, 'работают': 1080, 'вещи': 1081, 'искать': 1082, 'улыбался': 1083, 'паркету': 1084, 'какая': 1085, 'способных': 1086, 'поездка': 1087, 'супруге': 1088, 'сама': 1089, 'радостная': 1090, 'нудного': 1091, 'петя': 1092, 'особа': 1093, 'принимала': 1094, 'рояле': 1095, 'начались': 1096, 'сапог': 1097, 'наводившими': 1098, 'отпускал': 1099, 'торговля': 1100, 'походкою': 1101, 'рук': 1102, 'ввиду': 1103, 'надзирать': 1104, 'нас': 1105, 'точно': 1106, 'гувернантках': 1107, 'держала': 1108, 'был': 1109, 'доставляют': 1110, 'свое': 1111, 'помельче': 1112, 'блюдечко': 1113, 'поручением': 1114, 'бедный': 1115, 'при': 1116, 'тон': 1117, 'поводила': 1118, 'переходило': 1119, 'ура': 1120, 'фойе': 1121, 'предложил': 1122, 'надевал': 1123, 'деле': 1124, 'отдает': 1125, 'больше': 1126, 'визгливой': 1127, 'свободного': 1128, 'местной': 1129, 'воздухом': 1130, 'хвалили': 1131, 'протягивал': 1132, 'силы': 1133, 'зазывала': 1134, 'оттого': 1135, 'страдающий': 1136, 'взгляды': 1137, 'слабость': 1138, 'полными': 1139, 'чиновников': 1140, 'в': 1141, 'превосходно': 1142, 'молод': 1143, 'венчальное': 1144, 'один': 1145, 'передняя': 1146, 'тискала': 1147, 'думая': 1148, 'ходил': 1149, 'кухарки': 1150, 'сослуживцами': 1151, 'мать': 1152, 'поддавшись': 1153, 'весело': 1154, 'говорю': 1155, 'очарованию': 1156, 'приезжавшие': 1157, 'виноватой': 1158, 'влажными': 1159, 'солдатами': 1160, 'поезд': 1161, 'выпуклыми': 1162, 'доброта': 1163, 'семье': 1164, 'шел': 1165, 'выпили': 1166, 'столу': 1167, 'венчания': 1168, 'танцевала': 1169, 'луна': 1170, 'воображал': 1171, 'грубо': 1172, 'стоит': 1173, 'получил': 1174, 'дачного': 1175, 'остались': 1176, 'купивши': 1177, 'но': 1178, 'целы': 1179, 'людьми': 1180, 'часто': 1181, 'для': 1182, 'свой': 1183, 'потухли': 1184, 'надвигается': 1185, 'борзые': 1186, 'собственно': 1187, 'доложила': 1188, 'страдая': 1189, 'нож': 1190, 'буду': 1191, 'кадриль': 1192, 'нужда': 1193, 'жизни': 1194, 'впадая': 1195, 'давал': 1196, 'мельком': 1197, 'пошатывался': 1198, 'кланялась': 1199, 'нерешительно': 1200, 'собственный': 1201, 'глазах': 1202, 'время': 1203, 'гремевший': 1204, 'избушке': 1205, 'талию': 1206, 'изящно': 1207, 'отъезда': 1208, 'сладкого': 1209, 'баловник': 1210, 'силой': 1211, 'ними': 1212, 'воздержании': 1213, 'просить': 1214, 'обедать': 1215, 'из': 1216, 'поношенных': 1217, 'околоточный': 1218, 'минуло': 1219, 'рад': 1220, 'унижает': 1221, 'упал': 1222, 'этому': 1223, 'учителей': 1224, 'пикантной': 1225, 'моде': 1226, 'подбородок': 1227, 'глядели': 1228, 'под': 1229, 'фисгармонию': 1230, 'самовары': 1231, 'представься': 1232, 'директору': 1233, 'светильным': 1234, 'назначениях': 1235, 'ручку': 1236, 'кокетливо': 1237, 'затеял': 1238, 'пришел': 1239, 'кивнул': 1240, 'свадьбе': 1241, 'боялся': 1242, 'взглядом': 1243, 'выбросил': 1244, 'паре': 1245, 'также': 1246, 'дул': 1247, 'важно': 1248, 'рубля': 1249, 'розовыми': 1250, 'возилась': 1251, 'отпускали': 1252, 'шипела': 1253, 'фамилии': 1254, 'двумя': 1255, 'яблочное': 1256, 'торжественный': 1257, 'стала': 1258, 'таскали': 1259, 'город': 1260, 'перемена': 1261, 'взволнованный': 1262, 'выступали': 1263, 'могло': 1264, 'него': 1265, 'гимназии': 1266, 'часть': 1267, 'разбудила': 1268, 'шляпке': 1269, 'стола': 1270, 'приходил': 1271, 'америке': 1272, 'доброе': 1273, 'андрюша': 1274, 'конфузу': 1275, 'правилами': 1276, 'антрактах': 1277, 'посматривали': 1278, 'счастлива': 1279, 'оскорбляли': 1280, 'пристав': 1281, 'отойти': 1282, 'морды': 1283, 'заставила': 1284, 'бал': 1285, 'все': 1286, 'прогулке': 1287, 'солидно': 1288, 'пестроты': 1289, 'отсутствие': 1290, 'вид': 1291, 'iv': 1292, 'жалкое': 1293, 'постепенно': 1294, 'твоему': 1295, 'так': 1296, 'танцами': 1297, 'раскланявшись': 1298, 'помнила': 1299, 'французски': 1300, 'которой': 1301, 'сослуживцев': 1302, 'эту': 1303, 'кузьминишной': 1304, 'слушала': 1305, 'брал': 1306, 'чистописания': 1307, 'любопытством': 1308, 'свежего': 1309, 'голодной': 1310, 'козлах': 1311, 'угадала': 1312, 'пухлый': 1313, 'которые': 1314, 'головой': 1315, 'порадовалась': 1316, 'удачное': 1317, 'музыка': 1318, 'негодованием': 1319, 'мужем': 1320, 'поезда': 1321, 'мучительно': 1322, 'сильно': 1323, 'господина': 1324, 'двести': 1325, 'спросить': 1326, 'делала': 1327, 'наградах': 1328, 'полный': 1329, 'гуляньях': 1330, 'дам': 1331, 'улыбки': 1332, 'продали': 1333, 'счета': 1334, 'шее': 1335, 'берез': 1336, 'мужчины': 1337, 'сильнее': 1338, 'сиятельства': 1339, 'через': 1340, 'ногах': 1341, 'дамой': 1342, 'усы': 1343, 'тысяч': 1344, 'никто': 1345, 'страшного': 1346, 'поцеловал': 1347, 'бензином': 1348, 'посылал': 1349, 'третью': 1350, 'рисования': 1351, 'глядя': 1352, 'шумной': 1353, 'стали': 1354, 'странном': 1355, 'ли': 1356, 'начинались': 1357, 'бараньем': 1358, 'офицер': 1359, 'восторге': 1360, 'братьям': 1361, 'громадным': 1362, 'мял': 1363, 'офицеры': 1364, 'позволения': 1365, 'всем': 1366, 'восторгом': 1367, 'мундире': 1368, 'цветами': 1369, 'пьяный': 1370, 'поговорила': 1371, 'веря': 1372, 'голодные': 1373, 'подышать': 1374, 'урока': 1375, 'модный': 1376, 'говорила': 1377, 'выражала': 1378, 'свечкой': 1379, 'всегда': 1380, 'первый': 1381, 'платформой': 1382, 'многих': 1383, 'как': 1384, 'прежде': 1385, 'которого': 1386, 'непременно': 1387, 'каждую': 1388, 'лодке': 1389, 'подъезд': 1390, 'заискивающим': 1391, 'на': 1392, 'ii': 1393, 'музыки': 1394, 'сале': 1395, 'фрак': 1396, 'умела': 1397, 'ради': 1398, 'во': 1399, 'скучно': 1400, 'занимали': 1401, 'семейная': 1402, 'быть': 1403, 'вообразить': 1404, 'отцом': 1405, 'кого': 1406, 'помещиков': 1407, 'богомолье': 1408, 'отлетела': 1409, 'неприятный': 1410, 'люди': 1411, 'трогал': 1412, 'помочь': 1413, 'слова': 1414, 'го': 1415, 'такою': 1416, 'причесываясь': 1417, 'особенно': 1418, 'выходит': 1419, 'подбородком': 1420, 'быстро': 1421, 'музыкой': 1422, 'одноактных': 1423, 'подошел': 1424, 'только': 1425, 'шептали': 1426, 'плеч': 1427, 'хорошую': 1428, 'ним': 1429, 'учителя': 1430, 'похорон': 1431, 'пирожное': 1432, 'людей': 1433, 'боялись': 1434, 'катанья': 1435, 'лицам': 1436, 'мужу': 1437, 'стыд': 1438, 'бога': 1439, 'блестели': 1440, 'всюду': 1441, 'некстати': 1442, 'высокопоставленными': 1443, 'уехал': 1444, 'новое': 1445, 'худенькие': 1446, 'второй': 1447, 'значит': 1448, 'обращаться': 1449, 'картошку': 1450, 'доносились': 1451, 'лакеи': 1452, 'аней': 1453, 'помятом': 1454, 'спит': 1455, 'трезв': 1456, 'тотчас': 1457, 'девчонка': 1458, 'двигался': 1459, 'вверх': 1460, 'натальей': 1461, 'волнуясь': 1462, 'сюда': 1463, 'млеют': 1464, 'заговорила': 1465, 'грудь': 1466, 'вальс': 1467, 'леонтьич': 1468, 'длинные': 1469, 'стройные': 1470, 'большой': 1471, 'заметив': 1472, 'бокалом': 1473, 'желание': 1474, 'вошел': 1475, 'тела': 1476, 'задором': 1477, 'словно': 1478, 'говорил': 1479, 'меч': 1480, 'офицера': 1481, 'балу': 1482, 'временем': 1483, 'жена': 1484, 'руками': 1485, 'виде': 1486, 'вернулась': 1487, 'рваных': 1488, 'ложилась': 1489, 'девушке': 1490, 'самовара': 1491, 'руки': 1492, 'дешевых': 1493, 'появления': 1494, 'уверенная': 1495, 'свете': 1496, 'кушала': 1497, 'поглядывая': 1498, 'комод': 1499, 'марьей': 1500, 'беспокойная': 1501, 'встречала': 1502, 'зимний': 1503, 'полустанке': 1504, 'без': 1505, 'позволю': 1506, 'отца': 1507, 'периоды': 1508, 'должны': 1509, 'молодых': 1510, 'детстве': 1511, 'белые': 1512, 'было': 1513, 'дергали': 1514, 'бледные': 1515, 'голосов': 1516, 'всё': 1517, 'привыкла': 1518, 'сшить': 1519, 'выразился': 1520, 'вечерам': 1521, 'даже': 1522, 'шили': 1523, 'попечителю': 1524, 'аня': 1525, 'испортили': 1526, 'горожане': 1527, 'выражением': 1528, 'купе': 1529, 'дать': 1530, 'им': 1531, 'артынов': 1532, 'кушетку': 1533, 'страсть': 1534, 'покраснела': 1535, 'принимать': 1536, 'виноватое': 1537, 'строгие': 1538, 'отдать': 1539, 'около': 1540, 'закуски': 1541, 'мало': 1542, 'выше': 1543, 'радость': 1544, 'тут': 1545, 'каком': 1546, 'могла': 1547, 'сегодня': 1548, 'поживаете': 1549, 'каламбуре': 1550, 'носит': 1551, 'безвкусно': 1552, 'новых': 1553, 'бальное': 1554, 'довольно': 1555, 'резко': 1556, 'артынова': 1557, 'своим': 1558, 'знали': 1559, 'сюртука': 1560, 'привыкшего': 1561, 'ворчал': 1562, 'тост': 1563, 'анной': 1564, 'ел': 1565, 'расчесал': 1566, 'чашки': 1567, 'богач': 1568, 'вас': 1569, 'плащ': 1570, 'пригласил': 1571, 'пачечку': 1572, 'глазками': 1573, 'держался': 1574, 'сиятельство': 1575, 'порог': 1576, 'язык': 1577, 'жирные': 1578, 'легкой': 1579, 'своем': 1580, 'солидного': 1581, 'другую': 1582, 'мере': 1583, 'подумала': 1584, 'привел': 1585, 'проходили': 1586, 'директора': 1587, 'взаймы': 1588, 'казенном': 1589, 'артиллерия': 1590, 'хотела': 1591, 'до': 1592, 'доме': 1593, 'странно': 1594, 'или': 1595, 'три': 1596, 'начать': 1597, 'казался': 1598, 'говорили': 1599, 'стоял': 1600, 'бойко': 1601, 'самой': 1602, 'круглый': 1603, 'цилиндре': 1604, 'земли': 1605, 'пошла': 1606, 'павильонах': 1607, 'трюмо': 1608, 'папочка': 1609, 'том': 1610, 'роста': 1611, 'где': 1612, 'анюта': 1613, 'вечерах': 1614, 'гадко': 1615, 'страдал': 1616, 'открытой': 1617, 'вешалками': 1618, 'провозгласил': 1619, 'оскверняли': 1620, 'чистым': 1621, 'щурить': 1622, 'прежнему': 1623, 'человек': 1624, 'перегара': 1625, 'иметь': 1626, 'успехам': 1627, 'восприемники': 1628, 'спектакле': 1629, 'дрожащими': 1630, 'долго': 1631, 'совсем': 1632, 'видит': 1633, 'осмелился': 1634, 'приложил': 1635, 'его': 1636, 'праздник': 1637, 'бакены': 1638, 'незнакома': 1639, 'избушку': 1640, 'милостиво': 1641, 'еще': 1642, 'сего': 1643, 'муж': 1644, 'бритыми': 1645, 'следили': 1646, 'многие': 1647, '52': 1648, 'шею': 1649, 'писал': 1650, 'грушу': 1651, 'изящные': 1652, 'серебряного': 1653, 'дал': 1654, 'этим': 1655, 'осмотрелся': 1656, 'косоротов': 1657, 'копеек': 1658, 'брать': 1659, 'имела': 1660, 'собирался': 1661, 'мужчин': 1662, 'отлете': 1663, 'покраснев': 1664, 'видели': 1665, 'велика': 1666, 'пасхе': 1667, 'пьесах': 1668, 'клал': 1669, 'григорьевной': 1670, 'могу': 1671, 'крикнуть': 1672, 'пожалуйста': 1673, 'закручивая': 1674, 'вдруг': 1675, 'монастыре': 1676, 'легкомысленная': 1677, 'свои': 1678, 'всех': 1679, 'привыкли': 1680, 'азарт': 1681, 'казенной': 1682, 'воображении': 1683, 'деревьями': 1684, 'пухлого': 1685, 'кем': 1686, 'земле': 1687, 'вагоном': 1688, 'ему': 1689, 'проснулась': 1690, 'наставления': 1691, 'должно': 1692, 'после': 1693, 'слабых': 1694, 'владимира': 1695, 'столовых': 1696, 'подателю': 1697, 'что': 1698, 'мальчиков': 1699, 'душе': 1700, 'бокалу': 1701, 'умерла': 1702, 'аренду': 1703, 'вновь': 1704, 'грозит': 1705, 'случалось': 1706, 'охваченная': 1707, 'почтового': 1708, 'человеку': 1709, 'удовольствия': 1710, 'бала': 1711, 'одного': 1712, 'видел': 1713, 'офицером': 1714, 'шумная': 1715, 'пожалуй': 1716, 'алексеича': 1717, 'права': 1718, 'разложил': 1719, 'инстинктом': 1720, 'ожидать': 1721, 'тополей': 1722, 'читала': 1723, 'двугривенные': 1724, 'брюнет': 1725, 'нравственность': 1726, 'частные': 1727, 'дыхание': 1728, 'готовый': 1729, 'какой': 1730, 'дачники': 1731, 'прошу': 1732, 'стояла': 1733, 'раб': 1734, 'остается': 1735, 'понимаешь': 1736, 'притоптывал': 1737, 'невольно': 1738, 'сделать': 1739, 'уволить': 1740, 'вокзал': 1741, 'слово': 1742, 'зеркалом': 1743, 'страстно': 1744, 'почему': 1745, 'обыкновенно': 1746, 'молча': 1747, 'чокаться': 1748, 'окно': 1749, '100': 1750, 'неловко': 1751, 'подите': 1752, 'порхала': 1753, 'снующие': 1754, 'копейка': 1755, 'уже': 1756, 'полная': 1757, 'воспоминание': 1758, 'плечу': 1759, 'наступила': 1760, 'подробности': 1761, 'рядом': 1762, 'картавя': 1763, 'чинах': 1764, 'хотите': 1765, 'фисгармонии': 1766, 'халат': 1767, 'домой': 1768, 'мороженым': 1769, 'чувством': 1770, 'модеста': 1771, 'делал': 1772, 'прорвало': 1773, 'зима': 1774, 'красотой': 1775, 'оркестра': 1776, 'духами': 1777, 'почтительным': 1778, 'полкам': 1779, 'прихорашиваться': 1780, 'притворное': 1781, 'цвет': 1782, 'пристяжной': 1783, 'воды': 1784, 'играл': 1785, 'светом': 1786, 'романы': 1787, 'смешным': 1788, 'бросите': 1789, 'запивал': 1790, 'танцевальный': 1791}\n",
      "{0: 'рублей', 1: 'среди', 2: 'втором', 3: 'звучал', 4: 'это', 5: 'подпевал', 6: 'шлейф', 7: 'эти', 8: 'которое', 9: 'выкрикивал', 10: 'встал', 11: 'матери', 12: 'толпе', 13: 'несмотря', 14: 'от', 15: 'угол', 16: 'лет', 17: 'ботинках', 18: 'них', 19: 'острые', 20: 'оделась', 21: 'бритья', 22: 'позиции', 23: 'сплетни', 24: 'кавалера', 25: 'аню', 26: 'эполетах', 27: 'жуан', 28: 'с', 29: 'опустив', 30: 'таким', 31: 'крепко', 32: 'женится', 33: 'благотворительном', 34: 'ставит', 35: 'огней', 36: 'богатого', 37: 'обманутой', 38: 'приличной', 39: 'коньяку', 40: 'вместо', 41: 'орден', 42: 'испытывал', 43: 'нибудь', 44: 'дамский', 45: 'удовольствие', 46: 'тем', 47: 'швейцаром', 48: 'молодой', 49: 'отражалась', 50: 'создана', 51: 'сказав', 52: 'прямо', 53: 'киевской', 54: 'описывал', 55: 'брали', 56: 'веселого', 57: 'свободной', 58: 'протягивая', 59: 'чиновницами', 60: 'костюме', 61: 'даму', 62: 'броши', 63: 'надо', 64: 'моя', 65: 'большими', 66: 'старой', 67: 'поняла', 68: 'этот', 69: 'сел', 70: 'страх', 71: 'платье', 72: 'настойчиво', 73: 'смотрел', 74: 'требовал', 75: 'поздно', 76: 'танцы', 77: 'неотвязчивая', 78: 'увлечением', 79: 'губам', 80: 'потому', 81: 'начал', 82: 'прихорашивался', 83: 'старо', 84: 'отвращением', 85: 'неловкостью', 86: 'скоро', 87: 'король', 88: 'обнял', 89: 'состоящего', 90: 'трепетала', 91: 'покойной', 92: 'дачах', 93: 'два', 94: 'ревизию', 95: 'щи', 96: 'кольца', 97: 'хоть', 98: 'браслеты', 99: 'мальчики', 100: 'звездами', 101: 'погубила', 102: 'священник', 103: 'грозил', 104: 'дешевую', 105: 'равнодушнее', 106: 'пять', 107: 'статский', 108: 'пойдет', 109: 'приехал', 110: 'учительском', 111: 'десяток', 112: 'тоже', 113: 'свадебного', 114: 'обеда', 115: 'стесняли', 116: 'графинчика', 117: 'далеко', 118: 'осчастливил', 119: 'анну', 120: 'расстегнутая', 121: 'своими', 122: 'порезанным', 123: 'побежал', 124: 'религию', 125: 'угорая', 126: 'сокровище', 127: 'пальцами', 128: 'мировому', 129: 'братья', 130: 'скучного', 131: 'лукаво', 132: 'участвовавших', 133: 'груди', 134: 'великолепном', 135: 'ужинала', 136: 'мил', 137: 'улице', 138: 'постель', 139: 'сытый', 140: 'картавить', 141: 'снял', 142: 'трогательно', 143: 'ездила', 144: 'впечатлений', 145: 'шума', 146: 'прихода', 147: 'уроки', 148: 'стыдно', 149: 'целых', 150: 'окинула', 151: 'попросил', 152: 'ужин', 153: 'почувствовала', 154: 'сливались', 155: 'храпел', 156: 'другой', 157: 'напрокат', 158: 'жаренную', 159: 'благотворительного', 160: 'маленького', 161: 'унеслась', 162: 'вагоне', 163: 'анны', 164: 'пикнике', 165: 'своего', 166: 'самом', 167: 'казалось', 168: 'заплатить', 169: 'разделась', 170: 'выпить', 171: 'давно', 172: 'петлице', 173: 'повода', 174: 'толпа', 175: 'дурочку', 176: 'задавить', 177: 'сделала', 178: 'несоразмерно', 179: 'негодяи', 180: 'такое', 181: 'этого', 182: 'вспыхивал', 183: 'умрет', 184: 'научила', 185: 'же', 186: 'куклу', 187: 'богатой', 188: 'вечер', 189: 'ты', 190: 'рычала', 191: 'шептался', 192: 'улыбаясь', 193: 'здравствуйте', 194: 'испытывают', 195: 'переводах', 196: 'должна', 197: 'быстрые', 198: 'ходить', 199: 'пахло', 200: 'черные', 201: 'поклонниками', 202: 'неумолимые', 203: 'послышалась', 204: 'боялась', 205: 'ветра', 206: 'ждет', 207: 'отвалится', 208: 'обдавая', 209: 'перейдя', 210: 'мальчишки', 211: 'танцев', 212: 'сладким', 213: 'дырочки', 214: 'обычный', 215: 'bijoux', 216: 'выпил', 217: 'пока', 218: 'отчетливо', 219: 'высшего', 220: 'хорошем', 221: 'выгоню', 222: 'может', 223: 'мыть', 224: 'веерами', 225: 'дом', 226: 'осматривая', 227: 'прищурила', 228: 'жалела', 229: 'наоборот', 230: 'против', 231: 'пятьдесят', 232: 'две', 233: 'губами', 234: 'говорить', 235: 'офицерам', 236: 'утро', 237: 'лицом', 238: 'очень', 239: 'страдание', 240: 'черный', 241: 'платья', 242: 'рынок', 243: 'гостиную', 244: 'учитель', 245: 'бригадный', 246: 'оркестр', 247: 'ходили', 248: 'наряжался', 249: 'буфета', 250: 'декабря', 251: 'гауптвахту', 252: 'ни', 253: 'подумав', 254: 'очарованный', 255: 'залу', 256: 'волос', 257: 'улыбалась', 258: 'одышкой', 259: 'сами', 260: 'перед', 261: 'кулаком', 262: 'я', 263: 'брюках', 264: 'декольтированные', 265: 'леонтьича', 266: 'выдавить', 267: 'слезы', 268: 'замужества', 269: 'характерное', 270: 'красоту', 271: 'дешевой', 272: 'места', 273: 'военный', 274: 'едва', 275: 'очерченный', 276: 'вставала', 277: 'гуляете', 278: 'подражая', 279: 'глубоко', 280: 'получу', 281: 'польку', 282: 'внушительной', 283: 'кроме', 284: 'ужинало', 285: 'рубль', 286: 'озабоченно', 287: 'браслетки', 288: 'деньгах', 289: 'гимназисты', 290: 'вот', 291: 'ногтями', 292: 'повалилась', 293: 'супруга', 294: 'сапогах', 295: 'сельтерской', 296: 'rond', 297: 'выходила', 298: 'была', 299: 'которую', 300: 'военного', 301: '200', 302: 'дрожало', 303: 'пить', 304: 'м', 305: 'садясь', 306: 'никогда', 307: 'ночам', 308: 'охоту', 309: 'жизнь', 310: 'судебный', 311: 'десять', 312: 'тяжело', 313: 'знакомые', 314: 'заняла', 315: 'пошатываясь', 316: 'денег', 317: 'усами', 318: 'записки', 319: 'сердился', 320: 'получить', 321: 'мягкие', 322: 'рассказывала', 323: 'венчание', 324: 'манеры', 325: 'гуляли', 326: 'мысль', 327: 'подхваченная', 328: 'сразу', 329: 'приходить', 330: 'надеюсь', 331: 'советовалась', 332: 'нее', 333: 'сказать', 334: 'королева', 335: 'ждала', 336: 'исключительно', 337: 'бокалами', 338: 'базаре', 339: 'разъезд', 340: 'раз', 341: 'чиновницы', 342: 'руках', 343: 'генерал', 344: 'там', 345: 'натянуто', 346: 'за', 347: 'графинчик', 348: 'публике', 349: 'площадку', 350: 'ани', 351: 'чаю', 352: 'спросила', 353: 'женщин', 354: 'сильное', 355: 'надеть', 356: 'туча', 357: 'положения', 358: 'звали', 359: 'кучера', 360: 'убежденная', 361: 'бы', 362: 'полу', 363: 'директор', 364: 'дамы', 365: 'угла', 366: 'этой', 367: 'рту', 368: 'поездку', 369: 'выдать', 370: 'вышла', 371: 'по', 372: 'растерянно', 373: 'знаю', 374: 'никого', 375: 'тронулся', 376: 'осуждали', 377: 'свадьба', 378: 'церкви', 379: 'сзади', 380: 'произошла', 381: 'р', 382: '18', 383: 'длинными', 384: 'звуки', 385: 'мы', 386: 'переходя', 387: 'приходившие', 388: 'держа', 389: 'вообще', 390: 'место', 391: 'перенесет', 392: 'то', 393: 'гармоничные', 394: 'голосе', 395: 'будут', 396: 'предчувствие', 397: 'волнения', 398: 'господин', 399: 'бритый', 400: 'вам', 401: 'чашками', 402: 'деньги', 403: 'слышалась', 404: 'ваше', 405: 'гимназистам', 406: 'благотворительницы', 407: 'припомнить', 408: 'бедных', 409: 'видела', 410: 'иначе', 411: 'замуж', 412: 'здесь', 413: 'декольтированных', 414: 'потянулись', 415: 'щеки', 416: 'присутствии', 417: 'рассказывать', 418: 'окна', 419: 'восторг', 420: 'шоколад', 421: 'такая', 422: 'предметом', 423: 'меня', 424: 'таки', 425: 'карты', 426: 'прочь', 427: 'углубился', 428: 'шляпку', 429: 'спеша', 430: 'мазурку', 431: 'рождества', 432: 'сделаться', 433: 'газом', 434: 'играла', 435: 'громадный', 436: 'навыкате', 437: 'сконфуженно', 438: 'зачем', 439: 'счету', 440: 'успех', 441: 'красным', 442: 'устроилось', 443: 'упор', 444: 'нем', 445: 'вон', 446: 'света', 447: 'премию', 448: 'лунным', 449: 'надвигающейся', 450: 'улицу', 451: 'старался', 452: 'рукой', 453: 'погодя', 454: 'прежнего', 455: 'лице', 456: 'берегу', 457: 'мешая', 458: 'спать', 459: 'галстук', 460: 'какое', 461: 'смеялась', 462: 'шеей', 463: 'попросить', 464: 'пожилой', 465: 'своей', 466: 'grand', 467: 'цилиндр', 468: 'принят', 469: 'напомнить', 470: 'увез', 471: 'браке', 472: 'хорошо', 473: 'завидуют', 474: 'жадностью', 475: 'назад', 476: 'мне', 477: 'глядела', 478: 'браво', 479: 'имение', 480: 'чувствовала', 481: 'косоротову', 482: 'хотелось', 483: 'неинтересного', 484: 'дач', 485: 'мерзавцы', 486: 'прослужила', 487: 'владелец', 488: 'театр', 489: 'гости', 490: 'ужас', 491: 'бойкая', 492: 'красивые', 493: 'смешной', 494: 'банке', 495: 'тянулся', 496: 'похожий', 497: 'женщинами', 498: 'нелюбимого', 499: 'осмелюсь', 500: 'переоделись', 501: 'инструмент', 502: 'благодарить', 503: 'надвигались', 504: 'нам', 505: 'дрожащие', 506: 'жевал', 507: 'обыкновенный', 508: 'чулки', 509: 'встречалась', 510: 'усов', 511: 'тройках', 512: 'вы', 513: 'залитых', 514: 'лестнице', 515: 'крестил', 516: 'тратила', 517: 'била', 518: 'высокий', 519: 'вскоре', 520: 'страстные', 521: 'взять', 522: 'завтра', 523: 'степени', 524: 'ненавидела', 525: 'силу', 526: 'печать', 527: 'теперь', 528: 'можешь', 529: 'безобразных', 530: 'пальца', 531: 'отдыхал', 532: 'мной', 533: 'слушать', 534: 'винного', 535: 'одно', 536: 'пасует', 537: 'сильных', 538: 'смеясь', 539: 'тебе', 540: 'ответили', 541: 'много', 542: 'любили', 543: 'палатой', 544: 'человека', 545: 'близость', 546: 'пользу', 547: 'об', 548: 'поблагодарить', 549: 'есть', 550: 'собрание', 551: 'стоим', 552: 'сдали', 553: 'пор', 554: 'каталась', 555: 'заволновался', 556: 'ком', 557: 'имеет', 558: 'советник', 559: 'немножко', 560: 'долг', 561: 'блестящей', 562: 'прощанье', 563: 'немного', 564: 'газету', 565: 'тощую', 566: 'и', 567: 'остановился', 568: 'коридорам', 569: 'услышала', 570: 'впечатлениями', 571: 'слащаво', 572: 'будто', 573: 'снимал', 574: 'того', 575: 'подавая', 576: 'одевалась', 577: 'шли', 578: 'глазами', 579: 'себя', 580: 'молодые', 581: 'рассматривала', 582: 'держась', 583: 'обманул', 584: 'нижняя', 585: 'ней', 586: 'отчего', 587: 'она', 588: 'руку', 589: 'унижения', 590: 'презрением', 591: 'замазанные', 592: 'жуя', 593: 'плакала', 594: 'избушках', 595: 'показаться', 596: 'весь', 597: 'намекал', 598: 'газете', 599: 'милая', 600: 'всего', 601: 'вашего', 602: 'гостиной', 603: 'красивый', 604: 'горели', 605: 'убедили', 606: 'ожидают', 607: 'голос', 608: 'последнюю', 609: 'вспоминала', 610: 'помогать', 611: 'понять', 612: 'постыдна', 613: 'общества', 614: 'хотел', 615: 'видеть', 616: 'обедом', 617: 'стесняло', 618: 'выслушивать', 619: 'взяла', 620: 'скрывал', 621: 'поклонись', 622: 'позы', 623: 'базара', 624: 'пьяным', 625: 'смеющейся', 626: 'лицо', 627: 'знатных', 628: 'о', 629: 'уплатить', 630: 'отец', 631: 'наряда', 632: 'такую', 633: 'ухаживать', 634: 'счастья', 635: 'нужно', 636: 'русский', 637: 'голое', 638: 'мысли', 639: 'бережет', 640: 'жили', 641: 'жене', 642: '29', 643: 'движения', 644: 'зала', 645: 'дамами', 646: 'кричал', 647: 'думала', 648: 'чернилами', 649: 'хорошая', 650: 'ее', 651: 'уволят', 652: 'высоких', 653: 'конфузились', 654: 'приезжал', 655: 'артыновым', 656: 'не', 657: 'бутылку', 658: 'давнишний', 659: 'тайно', 660: 'вытягивая', 661: 'карт', 662: 'задолго', 663: 'родных', 664: 'мебель', 665: 'наливал', 666: 'день', 667: 'калош', 668: 'осторожности', 669: 'пугали', 670: 'этих', 671: 'собрания', 672: 'участие', 673: 'дня', 674: 'тащившийся', 675: 'темный', 676: 'сервирован', 677: 'петр', 678: 'модест', 679: 'расплескивая', 680: 'монастырь', 681: 'чувствуя', 682: 'посылала', 683: 'записочку', 684: 'туша', 685: 'спрашивал', 686: 'громадном', 687: 'нет', 688: 'умоляла', 689: 'бывала', 690: 'камнем', 691: 'бывать', 692: 'сапоги', 693: 'собрании', 694: 'деньгами', 695: 'медведя', 696: 'посадить', 697: 'тоску', 698: 'становился', 699: 'зато', 700: 'ах', 701: 'знакомым', 702: 'сил', 703: 'садилась', 704: 'кончилось', 705: 'белого', 706: 'хорошенькие', 707: 'грубые', 708: 'гроша', 709: 'унаследовала', 710: 'платформе', 711: 'просила', 712: 'провожали', 713: 'стучал', 714: 'бокал', 715: 'между', 716: 'да', 717: 'молодо', 718: 'вытащил', 719: 'отпирал', 720: 'повел', 721: 'сказал', 722: 'верст', 723: 'службу', 724: 'надел', 725: 'девочкой', 726: 'таинственности', 727: 'ногами', 728: 'средствами', 729: 'если', 730: 'выговаривая', 731: 'нетерпением', 732: 'разодетых', 733: 'копейки', 734: 'наклонялась', 735: 'козырек', 736: 'мужчинам', 737: 'чашку', 738: 'изумленная', 739: 'визитом', 740: 'штопать', 741: 'походил', 742: 'даме', 743: 'гармонике', 744: 'заказывая', 745: 'одобрили', 746: 'бензине', 747: 'страшно', 748: 'скрипке', 749: 'их', 750: 'шпорами', 751: 'безвкусные', 752: 'спускался', 753: 'про', 754: 'отваливалась', 755: 'могли', 756: 'утром', 757: 'глаза', 758: 'маленькими', 759: 'процветание', 760: 'закрывающиеся', 761: 'жены', 762: '2', 763: 'красками', 764: 'таких', 765: 'заплатил', 766: 'дон', 767: 'ворвавшаяся', 768: 'шампанского', 769: 'скажет', 770: 'муже', 771: 'пахнет', 772: 'помалу', 773: 'оживился', 774: 'воздушного', 775: 'женщины', 776: 'танцевать', 777: 'крышей', 778: 'страшной', 779: 'легко', 780: 'адвокатов', 781: 'музыку', 782: 'жилет', 783: 'обедали', 784: 'напевала', 785: 'постаралась', 786: 'пруде', 787: 'чего', 788: 'очаровательна', 789: 'сторону', 790: 'чем', 791: 'окну', 792: 'они', 793: 'известный', 794: 'началась', 795: 'холопски', 796: 'рубаха', 797: 'отошел', 798: 'нему', 799: 'увидала', 800: 'стеснялась', 801: 'кулаке', 802: 'ласкали', 803: 'ясно', 804: 'родовое', 805: 'одни', 806: 'кладет', 807: 'квартире', 808: 'замученная', 809: 'он', 810: 'камень', 811: 'перчатки', 812: 'сказала', 813: 'остался', 814: 'смерти', 815: 'удачном', 816: 'жалел', 817: 'меньше', 818: 'знакомых', 819: 'великому', 820: 'шептал', 821: 'нараспев', 822: 'со', 823: 'тревожилась', 824: 'продолжал', 825: 'всю', 826: 'часу', 827: 'двадцать', 828: 'познакомилась', 829: 'торговлю', 830: 'ане', 831: 'года', 832: 'минуту', 833: 'сказанного', 834: 'бурю', 835: 'задыхалась', 836: 'локомотив', 837: 'офицеров', 838: 'отказать', 839: 'хорошеньких', 840: 'сильную', 841: 'журнал', 842: 'кашу', 843: 'плечо', 844: 'квартиры', 845: 'ожидая', 846: 'сквозного', 847: 'представлялся', 848: 'шаг', 849: 'свежевыбритое', 850: 'объятиями', 851: 'загадочно', 852: 'ничего', 853: 'вырос', 854: 'поспешила', 855: 'выручку', 856: 'этом', 857: 'немедленно', 858: 'вечером', 859: 'злилась', 860: 'сих', 861: 'эта', 862: 'раньше', 863: 'американцы', 864: 'идя', 865: 'гимназисткой', 866: 'кресло', 867: 'требовала', 868: 'пачечки', 869: 'вернулись', 870: 'государственной', 871: 'веер', 872: 'у', 873: 'похлопывал', 874: 'выпивал', 875: 'ужина', 876: 'однако', 877: 'объявлено', 878: 'играли', 879: 'потом', 880: 'отрывая', 881: 'фраке', 882: 'скользя', 883: 'испытала', 884: 'каждое', 885: 'освещенную', 886: 'такой', 887: 'роскошной', 888: 'прыскался', 889: 'вдогонку', 890: 'сварливая', 891: 'болван', 892: 'поцеловать', 893: 'шумно', 894: 'нос', 895: 'служивших', 896: 'расступилась', 897: 'столовой', 898: 'громадного', 899: 'дразня', 900: 'сунула', 901: 'своих', 902: 'пробыли', 903: 'пьяная', 904: 'ушла', 905: 'сегодняшнего', 906: 'зале', 907: 'поехали', 908: 'желе', 909: 'святыя', 910: 'лунный', 911: 'завязывал', 912: 'общеизвестного', 913: 'летом', 914: 'отложил', 915: 'запил', 916: 'среднего', 917: 'глаз', 918: 'глядел', 919: 'дворянском', 920: 'шеи', 921: 'самый', 922: 'вино', 923: 'молодость', 924: 'дворянское', 925: 'самоуверенная', 926: 'покупателей', 927: 'одной', 928: 'понесся', 929: 'каждый', 930: 'полчаса', 931: 'обязанности', 932: 'который', 933: 'находчивости', 934: 'ужинать', 935: 'бантом', 936: 'оставался', 937: 'засуетились', 938: 'новом', 939: 'нашелся', 940: 'армянина', 941: 'вспомнила', 942: 'ей', 943: 'светало', 944: 'судорожно', 945: 'людям', 946: 'службы', 947: 'уходил', 948: 'службе', 949: 'уснула', 950: 'виноватых', 951: 'нравственности', 952: 'покойная', 953: 'вытянулись', 954: 'сколько', 955: 'управляющего', 956: 'чтобы', 957: 'такие', 958: 'утомленные', 959: 'реже', 960: 'предупреждаю', 961: 'парусной', 962: 'бледный', 963: 'смелости', 964: 'жившими', 965: 'старшего', 966: 'тебя', 967: 'шубы', 968: 'большого', 969: 'факта', 970: 'умоляюще', 971: 'слышались', 972: 'говоря', 973: 'зеркале', 974: 'одна', 975: 'грудью', 976: 'брала', 977: 'гордая', 978: 'плыла', 979: 'поглубже', 980: '1', 981: 'сто', 982: 'жадно', 983: 'равно', 984: 'лица', 985: 'неподобающее', 986: 'плечами', 987: 'должен', 988: 'пожилого', 989: 'одевала', 990: 'шла', 991: 'успел', 992: 'к', 993: 'наконец', 994: 'первое', 995: 'удивительная', 996: 'сидят', 997: 'публика', 998: 'мужа', 999: 'манерами', 1000: 'громко', 1001: 'чиновник', 1002: 'докладчика', 1003: 'себе', 1004: 'возвращалась', 1005: 'дрожащей', 1006: 'религии', 1007: 'мимо', 1008: 'погоду', 1009: 'политике', 1010: 'множеством', 1011: 'смотрит', 1012: 'трудиться', 1013: 'французским', 1014: 'присутствие', 1015: 'а', 1016: 'осчастливить', 1017: 'никому', 1018: 'астмой', 1019: 'вся', 1020: 'очарованная', 1021: 'запахом', 1022: 'горничная', 1023: 'высокие', 1024: 'дома', 1025: 'самое', 1026: 'нельзя', 1027: 'обстоятельства', 1028: 'прикажу', 1029: 'алексеич', 1030: 'еле', 1031: 'пожимала', 1032: 'рассмеяться', 1033: 'дарил', 1034: 'свет', 1035: 'некрасивые', 1036: 'голова', 1037: 'поводил', 1038: 'хорошего', 1039: 'гремел', 1040: 'посоветуйся', 1041: 'ухо', 1042: 'исходя', 1043: 'старого', 1044: 'глядеть', 1045: 'нравится', 1046: 'будет', 1047: 'рюмку', 1048: 'были', 1049: 'шумом', 1050: 'сходились', 1051: 'отличила', 1052: 'прекрасно', 1053: 'петра', 1054: 'печально', 1055: 'бакенами', 1056: 'любила', 1057: 'вместе', 1058: 'шуршащее', 1059: 'уж', 1060: 'которая', 1061: 'сделали', 1062: 'самодовольно', 1063: 'назначить', 1064: 'увольняли', 1065: 'нисколько', 1066: 'именно', 1067: 'помогите', 1068: 'блеском', 1069: 'нервность', 1070: 'уходила', 1071: 'пятку', 1072: 'скуки', 1073: 'последней', 1074: 'манеру', 1075: 'красивых', 1076: 'когда', 1077: 'наряженные', 1078: 'несчастна', 1079: 'уместно', 1080: 'работают', 1081: 'вещи', 1082: 'искать', 1083: 'улыбался', 1084: 'паркету', 1085: 'какая', 1086: 'способных', 1087: 'поездка', 1088: 'супруге', 1089: 'сама', 1090: 'радостная', 1091: 'нудного', 1092: 'петя', 1093: 'особа', 1094: 'принимала', 1095: 'рояле', 1096: 'начались', 1097: 'сапог', 1098: 'наводившими', 1099: 'отпускал', 1100: 'торговля', 1101: 'походкою', 1102: 'рук', 1103: 'ввиду', 1104: 'надзирать', 1105: 'нас', 1106: 'точно', 1107: 'гувернантках', 1108: 'держала', 1109: 'был', 1110: 'доставляют', 1111: 'свое', 1112: 'помельче', 1113: 'блюдечко', 1114: 'поручением', 1115: 'бедный', 1116: 'при', 1117: 'тон', 1118: 'поводила', 1119: 'переходило', 1120: 'ура', 1121: 'фойе', 1122: 'предложил', 1123: 'надевал', 1124: 'деле', 1125: 'отдает', 1126: 'больше', 1127: 'визгливой', 1128: 'свободного', 1129: 'местной', 1130: 'воздухом', 1131: 'хвалили', 1132: 'протягивал', 1133: 'силы', 1134: 'зазывала', 1135: 'оттого', 1136: 'страдающий', 1137: 'взгляды', 1138: 'слабость', 1139: 'полными', 1140: 'чиновников', 1141: 'в', 1142: 'превосходно', 1143: 'молод', 1144: 'венчальное', 1145: 'один', 1146: 'передняя', 1147: 'тискала', 1148: 'думая', 1149: 'ходил', 1150: 'кухарки', 1151: 'сослуживцами', 1152: 'мать', 1153: 'поддавшись', 1154: 'весело', 1155: 'говорю', 1156: 'очарованию', 1157: 'приезжавшие', 1158: 'виноватой', 1159: 'влажными', 1160: 'солдатами', 1161: 'поезд', 1162: 'выпуклыми', 1163: 'доброта', 1164: 'семье', 1165: 'шел', 1166: 'выпили', 1167: 'столу', 1168: 'венчания', 1169: 'танцевала', 1170: 'луна', 1171: 'воображал', 1172: 'грубо', 1173: 'стоит', 1174: 'получил', 1175: 'дачного', 1176: 'остались', 1177: 'купивши', 1178: 'но', 1179: 'целы', 1180: 'людьми', 1181: 'часто', 1182: 'для', 1183: 'свой', 1184: 'потухли', 1185: 'надвигается', 1186: 'борзые', 1187: 'собственно', 1188: 'доложила', 1189: 'страдая', 1190: 'нож', 1191: 'буду', 1192: 'кадриль', 1193: 'нужда', 1194: 'жизни', 1195: 'впадая', 1196: 'давал', 1197: 'мельком', 1198: 'пошатывался', 1199: 'кланялась', 1200: 'нерешительно', 1201: 'собственный', 1202: 'глазах', 1203: 'время', 1204: 'гремевший', 1205: 'избушке', 1206: 'талию', 1207: 'изящно', 1208: 'отъезда', 1209: 'сладкого', 1210: 'баловник', 1211: 'силой', 1212: 'ними', 1213: 'воздержании', 1214: 'просить', 1215: 'обедать', 1216: 'из', 1217: 'поношенных', 1218: 'околоточный', 1219: 'минуло', 1220: 'рад', 1221: 'унижает', 1222: 'упал', 1223: 'этому', 1224: 'учителей', 1225: 'пикантной', 1226: 'моде', 1227: 'подбородок', 1228: 'глядели', 1229: 'под', 1230: 'фисгармонию', 1231: 'самовары', 1232: 'представься', 1233: 'директору', 1234: 'светильным', 1235: 'назначениях', 1236: 'ручку', 1237: 'кокетливо', 1238: 'затеял', 1239: 'пришел', 1240: 'кивнул', 1241: 'свадьбе', 1242: 'боялся', 1243: 'взглядом', 1244: 'выбросил', 1245: 'паре', 1246: 'также', 1247: 'дул', 1248: 'важно', 1249: 'рубля', 1250: 'розовыми', 1251: 'возилась', 1252: 'отпускали', 1253: 'шипела', 1254: 'фамилии', 1255: 'двумя', 1256: 'яблочное', 1257: 'торжественный', 1258: 'стала', 1259: 'таскали', 1260: 'город', 1261: 'перемена', 1262: 'взволнованный', 1263: 'выступали', 1264: 'могло', 1265: 'него', 1266: 'гимназии', 1267: 'часть', 1268: 'разбудила', 1269: 'шляпке', 1270: 'стола', 1271: 'приходил', 1272: 'америке', 1273: 'доброе', 1274: 'андрюша', 1275: 'конфузу', 1276: 'правилами', 1277: 'антрактах', 1278: 'посматривали', 1279: 'счастлива', 1280: 'оскорбляли', 1281: 'пристав', 1282: 'отойти', 1283: 'морды', 1284: 'заставила', 1285: 'бал', 1286: 'все', 1287: 'прогулке', 1288: 'солидно', 1289: 'пестроты', 1290: 'отсутствие', 1291: 'вид', 1292: 'iv', 1293: 'жалкое', 1294: 'постепенно', 1295: 'твоему', 1296: 'так', 1297: 'танцами', 1298: 'раскланявшись', 1299: 'помнила', 1300: 'французски', 1301: 'которой', 1302: 'сослуживцев', 1303: 'эту', 1304: 'кузьминишной', 1305: 'слушала', 1306: 'брал', 1307: 'чистописания', 1308: 'любопытством', 1309: 'свежего', 1310: 'голодной', 1311: 'козлах', 1312: 'угадала', 1313: 'пухлый', 1314: 'которые', 1315: 'головой', 1316: 'порадовалась', 1317: 'удачное', 1318: 'музыка', 1319: 'негодованием', 1320: 'мужем', 1321: 'поезда', 1322: 'мучительно', 1323: 'сильно', 1324: 'господина', 1325: 'двести', 1326: 'спросить', 1327: 'делала', 1328: 'наградах', 1329: 'полный', 1330: 'гуляньях', 1331: 'дам', 1332: 'улыбки', 1333: 'продали', 1334: 'счета', 1335: 'шее', 1336: 'берез', 1337: 'мужчины', 1338: 'сильнее', 1339: 'сиятельства', 1340: 'через', 1341: 'ногах', 1342: 'дамой', 1343: 'усы', 1344: 'тысяч', 1345: 'никто', 1346: 'страшного', 1347: 'поцеловал', 1348: 'бензином', 1349: 'посылал', 1350: 'третью', 1351: 'рисования', 1352: 'глядя', 1353: 'шумной', 1354: 'стали', 1355: 'странном', 1356: 'ли', 1357: 'начинались', 1358: 'бараньем', 1359: 'офицер', 1360: 'восторге', 1361: 'братьям', 1362: 'громадным', 1363: 'мял', 1364: 'офицеры', 1365: 'позволения', 1366: 'всем', 1367: 'восторгом', 1368: 'мундире', 1369: 'цветами', 1370: 'пьяный', 1371: 'поговорила', 1372: 'веря', 1373: 'голодные', 1374: 'подышать', 1375: 'урока', 1376: 'модный', 1377: 'говорила', 1378: 'выражала', 1379: 'свечкой', 1380: 'всегда', 1381: 'первый', 1382: 'платформой', 1383: 'многих', 1384: 'как', 1385: 'прежде', 1386: 'которого', 1387: 'непременно', 1388: 'каждую', 1389: 'лодке', 1390: 'подъезд', 1391: 'заискивающим', 1392: 'на', 1393: 'ii', 1394: 'музыки', 1395: 'сале', 1396: 'фрак', 1397: 'умела', 1398: 'ради', 1399: 'во', 1400: 'скучно', 1401: 'занимали', 1402: 'семейная', 1403: 'быть', 1404: 'вообразить', 1405: 'отцом', 1406: 'кого', 1407: 'помещиков', 1408: 'богомолье', 1409: 'отлетела', 1410: 'неприятный', 1411: 'люди', 1412: 'трогал', 1413: 'помочь', 1414: 'слова', 1415: 'го', 1416: 'такою', 1417: 'причесываясь', 1418: 'особенно', 1419: 'выходит', 1420: 'подбородком', 1421: 'быстро', 1422: 'музыкой', 1423: 'одноактных', 1424: 'подошел', 1425: 'только', 1426: 'шептали', 1427: 'плеч', 1428: 'хорошую', 1429: 'ним', 1430: 'учителя', 1431: 'похорон', 1432: 'пирожное', 1433: 'людей', 1434: 'боялись', 1435: 'катанья', 1436: 'лицам', 1437: 'мужу', 1438: 'стыд', 1439: 'бога', 1440: 'блестели', 1441: 'всюду', 1442: 'некстати', 1443: 'высокопоставленными', 1444: 'уехал', 1445: 'новое', 1446: 'худенькие', 1447: 'второй', 1448: 'значит', 1449: 'обращаться', 1450: 'картошку', 1451: 'доносились', 1452: 'лакеи', 1453: 'аней', 1454: 'помятом', 1455: 'спит', 1456: 'трезв', 1457: 'тотчас', 1458: 'девчонка', 1459: 'двигался', 1460: 'вверх', 1461: 'натальей', 1462: 'волнуясь', 1463: 'сюда', 1464: 'млеют', 1465: 'заговорила', 1466: 'грудь', 1467: 'вальс', 1468: 'леонтьич', 1469: 'длинные', 1470: 'стройные', 1471: 'большой', 1472: 'заметив', 1473: 'бокалом', 1474: 'желание', 1475: 'вошел', 1476: 'тела', 1477: 'задором', 1478: 'словно', 1479: 'говорил', 1480: 'меч', 1481: 'офицера', 1482: 'балу', 1483: 'временем', 1484: 'жена', 1485: 'руками', 1486: 'виде', 1487: 'вернулась', 1488: 'рваных', 1489: 'ложилась', 1490: 'девушке', 1491: 'самовара', 1492: 'руки', 1493: 'дешевых', 1494: 'появления', 1495: 'уверенная', 1496: 'свете', 1497: 'кушала', 1498: 'поглядывая', 1499: 'комод', 1500: 'марьей', 1501: 'беспокойная', 1502: 'встречала', 1503: 'зимний', 1504: 'полустанке', 1505: 'без', 1506: 'позволю', 1507: 'отца', 1508: 'периоды', 1509: 'должны', 1510: 'молодых', 1511: 'детстве', 1512: 'белые', 1513: 'было', 1514: 'дергали', 1515: 'бледные', 1516: 'голосов', 1517: 'всё', 1518: 'привыкла', 1519: 'сшить', 1520: 'выразился', 1521: 'вечерам', 1522: 'даже', 1523: 'шили', 1524: 'попечителю', 1525: 'аня', 1526: 'испортили', 1527: 'горожане', 1528: 'выражением', 1529: 'купе', 1530: 'дать', 1531: 'им', 1532: 'артынов', 1533: 'кушетку', 1534: 'страсть', 1535: 'покраснела', 1536: 'принимать', 1537: 'виноватое', 1538: 'строгие', 1539: 'отдать', 1540: 'около', 1541: 'закуски', 1542: 'мало', 1543: 'выше', 1544: 'радость', 1545: 'тут', 1546: 'каком', 1547: 'могла', 1548: 'сегодня', 1549: 'поживаете', 1550: 'каламбуре', 1551: 'носит', 1552: 'безвкусно', 1553: 'новых', 1554: 'бальное', 1555: 'довольно', 1556: 'резко', 1557: 'артынова', 1558: 'своим', 1559: 'знали', 1560: 'сюртука', 1561: 'привыкшего', 1562: 'ворчал', 1563: 'тост', 1564: 'анной', 1565: 'ел', 1566: 'расчесал', 1567: 'чашки', 1568: 'богач', 1569: 'вас', 1570: 'плащ', 1571: 'пригласил', 1572: 'пачечку', 1573: 'глазками', 1574: 'держался', 1575: 'сиятельство', 1576: 'порог', 1577: 'язык', 1578: 'жирные', 1579: 'легкой', 1580: 'своем', 1581: 'солидного', 1582: 'другую', 1583: 'мере', 1584: 'подумала', 1585: 'привел', 1586: 'проходили', 1587: 'директора', 1588: 'взаймы', 1589: 'казенном', 1590: 'артиллерия', 1591: 'хотела', 1592: 'до', 1593: 'доме', 1594: 'странно', 1595: 'или', 1596: 'три', 1597: 'начать', 1598: 'казался', 1599: 'говорили', 1600: 'стоял', 1601: 'бойко', 1602: 'самой', 1603: 'круглый', 1604: 'цилиндре', 1605: 'земли', 1606: 'пошла', 1607: 'павильонах', 1608: 'трюмо', 1609: 'папочка', 1610: 'том', 1611: 'роста', 1612: 'где', 1613: 'анюта', 1614: 'вечерах', 1615: 'гадко', 1616: 'страдал', 1617: 'открытой', 1618: 'вешалками', 1619: 'провозгласил', 1620: 'оскверняли', 1621: 'чистым', 1622: 'щурить', 1623: 'прежнему', 1624: 'человек', 1625: 'перегара', 1626: 'иметь', 1627: 'успехам', 1628: 'восприемники', 1629: 'спектакле', 1630: 'дрожащими', 1631: 'долго', 1632: 'совсем', 1633: 'видит', 1634: 'осмелился', 1635: 'приложил', 1636: 'его', 1637: 'праздник', 1638: 'бакены', 1639: 'незнакома', 1640: 'избушку', 1641: 'милостиво', 1642: 'еще', 1643: 'сего', 1644: 'муж', 1645: 'бритыми', 1646: 'следили', 1647: 'многие', 1648: '52', 1649: 'шею', 1650: 'писал', 1651: 'грушу', 1652: 'изящные', 1653: 'серебряного', 1654: 'дал', 1655: 'этим', 1656: 'осмотрелся', 1657: 'косоротов', 1658: 'копеек', 1659: 'брать', 1660: 'имела', 1661: 'собирался', 1662: 'мужчин', 1663: 'отлете', 1664: 'покраснев', 1665: 'видели', 1666: 'велика', 1667: 'пасхе', 1668: 'пьесах', 1669: 'клал', 1670: 'григорьевной', 1671: 'могу', 1672: 'крикнуть', 1673: 'пожалуйста', 1674: 'закручивая', 1675: 'вдруг', 1676: 'монастыре', 1677: 'легкомысленная', 1678: 'свои', 1679: 'всех', 1680: 'привыкли', 1681: 'азарт', 1682: 'казенной', 1683: 'воображении', 1684: 'деревьями', 1685: 'пухлого', 1686: 'кем', 1687: 'земле', 1688: 'вагоном', 1689: 'ему', 1690: 'проснулась', 1691: 'наставления', 1692: 'должно', 1693: 'после', 1694: 'слабых', 1695: 'владимира', 1696: 'столовых', 1697: 'подателю', 1698: 'что', 1699: 'мальчиков', 1700: 'душе', 1701: 'бокалу', 1702: 'умерла', 1703: 'аренду', 1704: 'вновь', 1705: 'грозит', 1706: 'случалось', 1707: 'охваченная', 1708: 'почтового', 1709: 'человеку', 1710: 'удовольствия', 1711: 'бала', 1712: 'одного', 1713: 'видел', 1714: 'офицером', 1715: 'шумная', 1716: 'пожалуй', 1717: 'алексеича', 1718: 'права', 1719: 'разложил', 1720: 'инстинктом', 1721: 'ожидать', 1722: 'тополей', 1723: 'читала', 1724: 'двугривенные', 1725: 'брюнет', 1726: 'нравственность', 1727: 'частные', 1728: 'дыхание', 1729: 'готовый', 1730: 'какой', 1731: 'дачники', 1732: 'прошу', 1733: 'стояла', 1734: 'раб', 1735: 'остается', 1736: 'понимаешь', 1737: 'притоптывал', 1738: 'невольно', 1739: 'сделать', 1740: 'уволить', 1741: 'вокзал', 1742: 'слово', 1743: 'зеркалом', 1744: 'страстно', 1745: 'почему', 1746: 'обыкновенно', 1747: 'молча', 1748: 'чокаться', 1749: 'окно', 1750: '100', 1751: 'неловко', 1752: 'подите', 1753: 'порхала', 1754: 'снующие', 1755: 'копейка', 1756: 'уже', 1757: 'полная', 1758: 'воспоминание', 1759: 'плечу', 1760: 'наступила', 1761: 'подробности', 1762: 'рядом', 1763: 'картавя', 1764: 'чинах', 1765: 'хотите', 1766: 'фисгармонии', 1767: 'халат', 1768: 'домой', 1769: 'мороженым', 1770: 'чувством', 1771: 'модеста', 1772: 'делал', 1773: 'прорвало', 1774: 'зима', 1775: 'красотой', 1776: 'оркестра', 1777: 'духами', 1778: 'почтительным', 1779: 'полкам', 1780: 'прихорашиваться', 1781: 'притворное', 1782: 'цвет', 1783: 'пристяжной', 1784: 'воды', 1785: 'играл', 1786: 'светом', 1787: 'романы', 1788: 'смешным', 1789: 'бросите', 1790: 'запивал', 1791: 'танцевальный'}\n"
     ]
    }
   ],
   "source": [
    "chars = set([c for c in tokens])\n",
    "nb_chars = len(tokens)\n",
    "char2index = dict((c, i) for i, c in enumerate(tokens))\n",
    "index2char = dict((i, c) for i, c in enumerate(tokens))\n",
    "print(char2index)\n",
    "print(index2char)"
   ]
  },
  {
   "cell_type": "code",
   "execution_count": 6,
   "metadata": {},
   "outputs": [
    {
     "name": "stdout",
     "output_type": "stream",
     "text": [
      "len(input_chars) = 3977\n",
      "len(label_chars) = 3977\n"
     ]
    }
   ],
   "source": [
    "SEQLEN = 10\n",
    "STEP = 1\n",
    "\n",
    "input_chars = []\n",
    "label_chars = []\n",
    "for i in range(0, len(words) - SEQLEN, STEP):\n",
    "    input_chars.append(words[i:i + SEQLEN])\n",
    "    label_chars.append(words[i + SEQLEN])\n",
    "    \n",
    "print('len(input_chars) =', len(input_chars))\n",
    "print('len(label_chars) =', len(label_chars))"
   ]
  },
  {
   "cell_type": "code",
   "execution_count": 8,
   "metadata": {
    "collapsed": true
   },
   "outputs": [],
   "source": [
    "# векторизация строк и меток\n",
    "\n",
    "X = np.zeros((len(input_chars), SEQLEN, nb_chars), dtype=np.bool)\n",
    "y = np.zeros((len(input_chars), nb_chars), dtype=np.bool)\n",
    "for i, input_char in enumerate(input_chars):\n",
    "    for j, ch in enumerate(input_char):\n",
    "        X[i, j, char2index[ch]] = 1\n",
    "    y[i, char2index[label_chars[i]]] = 1"
   ]
  },
  {
   "cell_type": "code",
   "execution_count": 9,
   "metadata": {
    "collapsed": true
   },
   "outputs": [],
   "source": [
    "HIDDEN_SIZE = 128 # данная цифра выбрана с учётом того, что обучение может надолго затянуться или не хватить для адекватного порождения текстов (ёмкости может не хватить)\n",
    "BATCH_SIZE = 128\n",
    "NUM_ITERATIONS = 25\n",
    "NUM_EPOCHS_PER_ITERATION = 1\n",
    "NUM_PREDS_PER_EPOCH = 100\n",
    "\n",
    "model = Sequential()\n",
    "model.add(SimpleRNN(HIDDEN_SIZE, return_sequences=False,\n",
    "                    input_shape=(SEQLEN, nb_chars),\n",
    "                    unroll=True))\n",
    "model.add(Dense(nb_chars))\n",
    "model.add(Activation(\"softmax\"))\n",
    "\n",
    "model.compile(loss=\"categorical_crossentropy\", optimizer=\"rmsprop\")"
   ]
  },
  {
   "cell_type": "code",
   "execution_count": 10,
   "metadata": {},
   "outputs": [
    {
     "name": "stdout",
     "output_type": "stream",
     "text": [
      "==================================================\n",
      "Iteration #: 0\n",
      "Epoch 1/1\n",
      "3977/3977 [==============================] - 7s 2ms/step - loss: 7.0114\n",
      "Generating from seed: ['только', 'посылала', 'ему', 'счета', 'или', 'записки', 'выдать', 'подателю', 'сего', '200']\n",
      "['только', 'посылала', 'ему', 'счета', 'или', 'записки', 'выдать', 'подателю', 'сего', '200'] и и и и и и и и и и и и и и и и и и и и и и и и и и и и и и и и и и и и и и и и и и и и и и и и и и и и и и и и и и и и и и и и и и и и и и и и и и и и и и и и и и и и и и и и и и и и и и и и и и и и \n",
      "==================================================\n",
      "Iteration #: 1\n",
      "Epoch 1/1\n",
      "3977/3977 [==============================] - 5s 1ms/step - loss: 6.6318\n",
      "Generating from seed: ['бритья', 'подбородком', 'вытягивая', 'тощую', 'шею', 'он', 'целых', 'полчаса', 'стоял', 'перед']\n",
      "['бритья', 'подбородком', 'вытягивая', 'тощую', 'шею', 'он', 'целых', 'полчаса', 'стоял', 'перед'] и и и и и и и и и и и и и и и и и и и и и и и и и и и и и и и и и и и и и и и и и и и и и и и и и и и и и и и и и и и и и и и и и и и и и и и и и и и и и и и и и и и и и и и и и и и и и и и и и и и и \n",
      "==================================================\n",
      "Iteration #: 2\n",
      "Epoch 1/1\n",
      "3977/3977 [==============================] - 5s 1ms/step - loss: 6.5647\n",
      "Generating from seed: ['вальс', 'и', 'она', 'отлетела', 'от', 'мужа', 'и', 'ей', 'уж', 'казалось']\n",
      "['вальс', 'и', 'она', 'отлетела', 'от', 'мужа', 'и', 'ей', 'уж', 'казалось'] и и и и и и и и и и и и и и и и и и и и и и и и и и и и и и и и и и и и и и и и и и и и и и и и и и и и и и и и и и и и и и и и и и и и и и и и и и и и и и и и и и и и и и и и и и и и и и и и и и и и \n",
      "==================================================\n",
      "Iteration #: 3\n",
      "Epoch 1/1\n",
      "3977/3977 [==============================] - 4s 1ms/step - loss: 6.4632\n",
      "Generating from seed: ['глядела', 'лукаво', 'точно', 'она', 'уже', 'била', 'королева', 'а', 'он', 'раб']\n",
      "['глядела', 'лукаво', 'точно', 'она', 'уже', 'била', 'королева', 'а', 'он', 'раб'] и и и и и и и и и и и и и и и и и и и и и и и и и и и и и и и и и и и и и и и и и и и и и и и и и и и и и и и и и и и и и и и и и и и и и и и и и и и и и и и и и и и и и и и и и и и и и и и и и и и и \n",
      "==================================================\n",
      "Iteration #: 4\n",
      "Epoch 1/1\n",
      "3977/3977 [==============================] - 5s 1ms/step - loss: 6.2879\n",
      "Generating from seed: ['сил', 'помельче', 'и', 'между', 'ними', 'учителя', 'гимназии', 'с', 'бритыми', 'усами']\n",
      "['сил', 'помельче', 'и', 'между', 'ними', 'учителя', 'гимназии', 'с', 'бритыми', 'усами'] у в и и и и и и и и в в в в и в в и и и в в в и в в и в и в в и и в в и в и в в и в в в и и и в в и в в в в и и в в и и и в в и и в в в и и в в в и и в в в и и в в в и и в в в и и в в в и и в в в и и \n",
      "==================================================\n",
      "Iteration #: 5\n",
      "Epoch 1/1\n",
      "3977/3977 [==============================] - 5s 1ms/step - loss: 6.0650\n",
      "Generating from seed: ['то', 'в', 'детстве', 'самой', 'внушительной', 'и', 'страшной', 'силой', 'надвигающейся', 'как']\n",
      "['то', 'в', 'детстве', 'самой', 'внушительной', 'и', 'страшной', 'силой', 'надвигающейся', 'как'] за и красками на и и и легкой залитых на французски и за и и и и и и с и и уже и и и и и и и и и и и и и и и и и и и и и и и и и и и и и и и и и и и и и и и и и и и и и и и и и и и и и и и и и и и и и и и и и и и и и и и и и и и и и \n",
      "==================================================\n",
      "Iteration #: 6\n",
      "Epoch 1/1\n",
      "3977/3977 [==============================] - 4s 1ms/step - loss: 5.8436\n",
      "Generating from seed: ['то', 'его', 'сиятельство', 'выразился', 'так', 'значит', 'у', 'вас', 'теперь', 'три']\n",
      "['то', 'его', 'сиятельство', 'выразился', 'так', 'значит', 'у', 'вас', 'теперь', 'три'] в у в в в в нее в в лет в в в в в в в в в в в в в в в в в в в в в в в в в в в в в в в в в в в в в в в в в в в в в в в в в в в в в в в в в в в в в в в в в в в в в в в в в в в в в в в в в в в в в в в в в в \n",
      "==================================================\n",
      "Iteration #: 7\n",
      "Epoch 1/1\n",
      "3977/3977 [==============================] - 5s 1ms/step - loss: 5.6554\n",
      "Generating from seed: ['том', 'странном', 'костюме', 'в', 'каком', 'видела', 'его', 'аня', 'летом', 'а']\n",
      "['том', 'странном', 'костюме', 'в', 'каком', 'видела', 'его', 'аня', 'летом', 'а'] и и и нее и было и и он с и и и и он и и и и и и и и в и и и и и и и и и с и и и и и и и и и и и и и и и и и и и и и и и и и и и и и и и и и и и и и и и и и и и и и и и и и и и и и и и и и и и и и и и и и и \n",
      "==================================================\n",
      "Iteration #: 8\n",
      "Epoch 1/1\n",
      "3977/3977 [==============================] - 5s 1ms/step - loss: 5.4618\n",
      "Generating from seed: ['жизни', 'она', 'чувствовала', 'себя', 'богатой', 'и', 'свободной', 'даже', 'присутствие', 'мужа']\n",
      "['жизни', 'она', 'чувствовала', 'себя', 'богатой', 'и', 'свободной', 'даже', 'присутствие', 'мужа'] и отец и его и алексеич второй нее и и уже и и и что на сиятельство с и его и и и и он и с и и и и и и и и и и и и и и и и и и и и и и и и и и и и и и и и и и и и и и и и и и и и и и и и и и и и и и и и и и и и и и и и и и и и и и и и и \n",
      "==================================================\n",
      "Iteration #: 9\n",
      "Epoch 1/1\n",
      "3977/3977 [==============================] - 5s 1ms/step - loss: 5.2828\n",
      "Generating from seed: ['с', 'правилами', 'затеял', 'собственно', 'для', 'того', 'чтобы', 'дать', 'понять', 'своей']\n",
      "['с', 'правилами', 'затеял', 'собственно', 'для', 'того', 'чтобы', 'дать', 'понять', 'своей'] на с и и в алексеич в нее и было и в было в было на с было в и в было и было и и в в было в было и было и в было в было и было и в и в было и было и в и в было в было и в и в было в было и было и в было в было и было и в и в было и было и в и в было в было и в и в было в было и было и в было в было и было \n",
      "==================================================\n",
      "Iteration #: 10\n",
      "Epoch 1/1\n",
      "3977/3977 [==============================] - 5s 1ms/step - loss: 5.1047\n",
      "Generating from seed: ['мысль', 'что', 'скоро', 'скоро', 'отца', 'уволят', 'из', 'гимназии', 'за', 'слабость']\n",
      "['мысль', 'что', 'скоро', 'скоро', 'отца', 'уволят', 'из', 'гимназии', 'за', 'слабость'] и в в не его ней и его где в в у в было а и было в они у в нее в в он в на в в нее в было у в у в с у в было в на были в пять и на нее в в не и на было с было с в у в в на с и в не на в нее в на и на было в в с в в у и было и на у в на у в очень в не на в нее в на пять в на \n",
      "==================================================\n",
      "Iteration #: 11\n",
      "Epoch 1/1\n",
      "3977/3977 [==============================] - 5s 1ms/step - loss: 4.9281\n",
      "Generating from seed: ['прихода', 'осуждали', 'ее', 'за', 'то', 'что', 'она', 'вышла', 'из', 'за']\n",
      "['прихода', 'осуждали', 'ее', 'за', 'то', 'что', 'она', 'вышла', 'из', 'за'] и не леонтьич выпить леонтьич он и надо второй залу было и уже ах у денег не его сиятельство нее и по черный богач лет как алексеич модест в у в нее не было и но у у в пять у в было и и что пять пять у у пять у у у в алексеич у у пять лет у были пять лет у у пять второй степени и имеет и степени и пять пять у сторону у в очень у в было у у очень в попечителю у алексеич пять у в пять две все в шипела пять \n",
      "==================================================\n",
      "Iteration #: 12\n",
      "Epoch 1/1\n",
      "3977/3977 [==============================] - 4s 1ms/step - loss: 4.7572\n",
      "Generating from seed: ['будет', 'она', 'сказала', 'отчетливо', 'выговаривая', 'каждое', 'слово', 'подите', 'прочь', 'болван']\n",
      "['будет', 'она', 'сказала', 'отчетливо', 'выговаривая', 'каждое', 'слово', 'подите', 'прочь', 'болван'] и было у уже не было уже и одного петр и и она и не к и в нее и и и уже и в не и с его и и и и и на уже и и и и и и и и с и и и и и и и и и и и и и и и и и и и и и и и и и и и и и и и и и и и и и и и и и и и и и и и и и и и и и и и \n",
      "==================================================\n",
      "Iteration #: 13\n",
      "Epoch 1/1\n",
      "3977/3977 [==============================] - 5s 1ms/step - loss: 4.5835\n",
      "Generating from seed: ['было', 'понять', 'и', 'крестил', 'ей', 'лицо', 'грудь', 'руки', 'при', 'этом']\n",
      "['было', 'понять', 'и', 'крестил', 'ей', 'лицо', 'грудь', 'руки', 'при', 'этом'] они у алексеич очень и на петр присутствии улице как не нее но его только отец и его и и и его что модест с на аней и уже по боялась а уже не его и и его его он из оркестр его то и человек денег а а аня ане были а его сиятельство что петр она все и ним о нее а он ним на как она уже и с его она аня и с сиятельство ни его человек его и ни и уже уже в уже а что а уже нее петр его о а его нее \n",
      "==================================================\n",
      "Iteration #: 14\n",
      "Epoch 1/1\n",
      "3977/3977 [==============================] - 5s 1ms/step - loss: 4.4146\n",
      "Generating from seed: ['знакомым', 'гимназистам', 'и', 'офицерам', 'весело', 'смеялась', 'и', 'говорила', 'быстро', 'здравствуйте']\n",
      "['знакомым', 'гимназистам', 'и', 'офицерам', 'весело', 'смеялась', 'и', 'говорила', 'быстро', 'здравствуйте'] и аню и ним на пять и своей о и его на уже не было с с но с а а казалось и отец и его за что что в с и было и а а как не он ее его его и и с с и она аня за модест а и и его его и петр и у и с по а модест а его его и она и за не с и второй модест а и ни от на и что за петр и с и на и и не не но его и его и и \n",
      "==================================================\n",
      "Iteration #: 15\n",
      "Epoch 1/1\n",
      "3977/3977 [==============================] - 5s 1ms/step - loss: 4.2526\n",
      "Generating from seed: ['и', 'ждала', 'когда', 'пойдет', 'поезд', 'чтобы', 'крикнуть', 'ура', 'и', 'петр']\n",
      "['и', 'ждала', 'когда', 'пойдет', 'поезд', 'чтобы', 'крикнуть', 'ура', 'и', 'петр'] за отец в второй в на уже было даже но брать это на обязанности это могла и на нее за директор уже но и он в уже с провожали второй но и петр не то но и петр и сиятельство только не но и и теперь было а не нее с и петр не не в на нее с уже и не а и с на с человек своей и не на нее не за и и своей у не не с вот лет у не вот второй две и не по а и обыкновенно к и петр и в \n",
      "==================================================\n",
      "Iteration #: 16\n",
      "Epoch 1/1\n",
      "3977/3977 [==============================] - 6s 1ms/step - loss: 4.0986\n",
      "Generating from seed: ['перед', 'ее', 'трюмо', 'надеть', 'себе', 'на', 'шею', 'орден', 'то', 'очарованный']\n",
      "['перед', 'ее', 'трюмо', 'надеть', 'себе', 'на', 'шею', 'орден', 'то', 'очарованный'] на своей и своей и скоро иметь его леонтьич черный с в было у и не папочка и сиятельство свои и с на нее аня аня и уже нее но и что с уже и и вечер его его и не не что его уже вместо брать выпить а по и и петр выпить себе хорошенькие директор на нее с уже и что одышкой и почему было с человек его его не ним и на нее но и модест выпить модест алексеич на было с он и по и богач а и с но аня аня уже не уже было \n",
      "==================================================\n",
      "Iteration #: 17\n",
      "Epoch 1/1\n",
      "3977/3977 [==============================] - 5s 1ms/step - loss: 3.9403\n",
      "Generating from seed: ['привел', 'ее', 'в', 'избушку', 'к', 'пожилой', 'даме', 'у', 'которой', 'нижняя']\n",
      "['привел', 'ее', 'в', 'избушку', 'к', 'пожилой', 'даме', 'у', 'которой', 'нижняя'] блюдечко степени была пять было а что в аня в но что за но на не он но и и что его на за а в то что тем аня не аня но на с а леонтьич фраке в и так и за как его с на степени ее уже очень тем у но а к с то что его на в и что нее не его леонтьич не аня как ее было он уже было а уже от на и что с аня его с с его ней и аня не его и а по его а сиятельство вечер \n",
      "==================================================\n",
      "Iteration #: 18\n",
      "Epoch 1/1\n",
      "3977/3977 [==============================] - 5s 1ms/step - loss: 3.7906\n",
      "Generating from seed: ['ложилась', 'на', 'кушетку', 'и', 'читала', 'романы', 'и', 'рассматривала', 'модный', 'журнал']\n",
      "['ложилась', 'на', 'кушетку', 'и', 'читала', 'романы', 'и', 'рассматривала', 'модный', 'журнал'] за папочка у алексеич очень очень много и своей о когда отец обыкновенно вечер и выпивал о надо раз по на которого модест всю на мальчики по могла ее не первый а не о ни не был некрасивые за фраке не лицо рублей в уже он первый лет на могу и было не да и не по и пять не не не обязанности с не очень не было папочка и не отец и за и на теперь не отец не алексеич них по звуки по выпить и алексеич очень лет но ей был алексеич лет богач надо под все и \n",
      "==================================================\n",
      "Iteration #: 19\n",
      "Epoch 1/1\n",
      "3977/3977 [==============================] - 5s 1ms/step - loss: 3.6453\n",
      "Generating from seed: ['как', 'перейдя', 'порог', 'собрания', 'она', 'уже', 'угадала', 'инстинктом', 'что', 'близость']\n",
      "['как', 'перейдя', 'порог', 'собрания', 'она', 'уже', 'угадала', 'инстинктом', 'что', 'близость'] отец и нисколько не с а когда какая вот на это быстро каждый не с не в то а и к всё а и за в у как ее и алексеич в вдруг было у нее с и за было с у на он с он уже вот у ее уже не в аня за вот его его не за и в уходил на брать а выпить модест лет у и он скоро и некрасивые в и папочка и не когда модест он было в ее не отец и то в модест аня на нее за алексеич это тем в \n",
      "==================================================\n",
      "Iteration #: 20\n",
      "Epoch 1/1\n",
      "3977/3977 [==============================] - 5s 1ms/step - loss: 3.5070\n",
      "Generating from seed: ['ради', 'бога', 'через', 'нее', 'я', 'могу', 'получить', 'старшего', 'докладчика', 'поехали']\n",
      "['ради', 'бога', 'через', 'нее', 'я', 'могу', 'получить', 'старшего', 'докладчика', 'поехали'] на нее вот и имеет собрание и подъезд как о до но а она пять выпить и имеет и леонтьич из что он вдруг но на она алексеич но его так не вот на не и ни же что модест при но его с было и как и с тем со что за своей но уже тем за ложилась в нее они когда за теперь некрасивые да а как ее с не на залу того лет ее не сиятельство за что в сиятельство всего себе и за не уже у он нее не было но от звуки леонтьич то не \n",
      "==================================================\n",
      "Iteration #: 21\n",
      "Epoch 1/1\n",
      "3977/3977 [==============================] - 5s 1ms/step - loss: 3.3695\n",
      "Generating from seed: ['когда', 'чиновник', '52', 'лет', 'женится', 'на', 'девушке', 'которой', 'едва', 'минуло']\n",
      "['когда', 'чиновник', '52', 'лет', 'женится', 'на', 'девушке', 'которой', 'едва', 'минуло'] матери под также что отец то в было а алексеич петр уже с уже и и с ее с вместо ни и ни его и уже и что и очень уже когда уже и по его не отец и леонтьич его леонтьич и уже тем и алексеич это по и и и по петр ее уже когда он не уже уже не по петр леонтьич его за аня от его его он даже к и а а с ней а а а нее аня уже с отец и сиятельство с он с человек леонтьич и уже и уже и и \n",
      "==================================================\n",
      "Iteration #: 22\n",
      "Epoch 1/1\n",
      "3977/3977 [==============================] - 5s 1ms/step - loss: 3.2455\n",
      "Generating from seed: ['нам', 'м', 'да', 'нужно', 'назначить', 'вам', 'премию', 'за', 'красоту', 'как']\n",
      "['нам', 'м', 'да', 'нужно', 'назначить', 'вам', 'премию', 'за', 'красоту', 'как'] в каждый м да залу ее жена звуки в и ее в каждый на нее что было было она не в уже это в он он он на что и с и он в аня аня то в он и она не вот перед из и на в аня и что с она далеко не не с перед и и он и что и алексеич и с далеко и и аня и он уже по и за и не и на ей что то не было у и не не как что теперь так теперь ее не и и не \n",
      "==================================================\n",
      "Iteration #: 23\n",
      "Epoch 1/1\n",
      "3977/3977 [==============================] - 4s 1ms/step - loss: 3.1081\n",
      "Generating from seed: ['нибудь', 'он', 'тотчас', 'уже', 'шептал', 'ане', 'статский', 'советник', 'принят', 'у']\n",
      "['нибудь', 'он', 'тотчас', 'уже', 'шептал', 'ане', 'статский', 'советник', 'принят', 'у'] ей нее или со в имеет хорошо иметь когда в ее да в очень первый очень аню отец как нее своей м и все и что на это на нее в каждый и между не теперь с он громко с с а папочка он обязанности и за хорошо о и ни не за аня и надо громадный ее да и как лет быть с человек ни что своей с надо степени и он за и уже нее ее за но то всех аня на вечер его не своей и ни сиятельства или скоро с музыки модест пять модест надо у \n",
      "==================================================\n",
      "Iteration #: 24\n",
      "Epoch 1/1\n",
      "3977/3977 [==============================] - 5s 1ms/step - loss: 2.9883\n",
      "Generating from seed: ['движения', 'его', 'пухлого', 'тела', 'пугали', 'ее', 'ей', 'было', 'и', 'страшно']\n"
     ]
    },
    {
     "name": "stdout",
     "output_type": "stream",
     "text": [
      "['движения', 'его', 'пухлого', 'тела', 'пугали', 'ее', 'ей', 'было', 'и', 'страшно'] и у он глазах не своей ее с не своей ей в то с имеет которая что за обыкновенно место без музыку и она модест от нам звуки были того место минуло человек ни за и в чиновников из петлице был алексеич и когда быть она это имеет и что с по человек на на она он эти ни и за не что к на аню от громадного уже от быть и он за что под как ее о как на не аня на ней в отец и с отец за обязанности от но сиятельство уже это не уже это \n"
     ]
    }
   ],
   "source": [
    "for iteration in range(NUM_ITERATIONS):\n",
    "    print(\"=\" * 50)\n",
    "    print(\"Iteration #: %d\" % (iteration))\n",
    "    model.fit(X, y, batch_size=BATCH_SIZE, epochs=NUM_EPOCHS_PER_ITERATION)\n",
    "    \n",
    "    # тестируем модель\n",
    "    # рандомно выбираем из input_chars, для генерации текста\n",
    "    test_idx = np.random.randint(len(input_chars))\n",
    "    test_chars = input_chars[test_idx]\n",
    "    print(\"Generating from seed: %s\" % (test_chars))\n",
    "    print(test_chars, end=\" \")\n",
    "    for i in range(NUM_PREDS_PER_EPOCH):\n",
    "        Xtest = np.zeros((1, SEQLEN, nb_chars))\n",
    "        for i, ch in enumerate(test_chars):\n",
    "            Xtest[0, i, char2index[ch]] = 1 # формируем вектор\n",
    "        pred = model.predict(Xtest, verbose=0)[0]\n",
    "        ypred = index2char[np.argmax(pred)]\n",
    "        print(ypred, end=\" \")\n",
    "        test_chars.append(ypred) # добавляем предсказанное слово в последовательность\n",
    "        test_chars = test_chars[1:]\n",
    "    print()"
   ]
  },
  {
   "cell_type": "markdown",
   "metadata": {},
   "source": [
    "**Работа со 2-м текстом**"
   ]
  },
  {
   "cell_type": "code",
   "execution_count": 11,
   "metadata": {},
   "outputs": [
    {
     "name": "stdout",
     "output_type": "stream",
     "text": [
      "время шло к ночи. дьячок савелий гыкин лежал у себя в церковной сторожке на громадной постели и не спал, хотя всегда имел обыкновение засыпать в одно время с курами. из одного края засаленного, сшитого из разноцветных ситцевых лоскутьев одеяла глядели его рыжие, жесткие волосы, из-под другого торчали большие, давно не мытые ноги. он слушал... его сторожка врезывалась в ограду, и единственное окно ее выходило в поле. а в поле была сущая война. трудно было понять, кто кого сживал со света и ради чьей погибели заварилась в природе каша, но, судя по неумолкаемому, зловещему гулу, кому-то приходилось очень круто. какая-то победительная сила гонялась за кем-то по полю, бушевала в лесу и на церковной крыше, злобно стучала кулаками по окну, метала и рвала, а что-то побежденное выло и плакало... жалобный плач слышался то за окном, то над крышей, то в печке. в нем звучал не призыв на помощь, а тоска, сознание, что уже поздно, нет спасения. снежные сугробы подернулись тонкой льдяной корой; на них и на деревьях дрожали слезы, по дорогам и тропинкам разливалась темная жижица из грязи и таявшего снега. одним словом, на земле была оттепель, но небо, сквозь темную ночь, не видело этого и что есть силы сыпало на таявшую землю хлопья нового снега. а ветер гулял, как пьяный... он не давал этому снегу ложиться на землю и кружил его в потемках как хотел.\n",
      "гыкин прислушивался к этой музыке и хмурился. дело в том, что он знал, или, по крайней мере, догадывался, к чему клонилась вся эта возня за окном и чьих рук было это дело.\n",
      "— я зна-аю! — бормотал он, грозя кому-то под одеялом пальцем. — я всё знаю!\n",
      "у окна, на табурете сидела дьячиха раиса ниловна. жестяная лампочка, стоявшая на другом табурете, словно робея и не веря в свои силы, лила жиденький, мелькающий свет на ее широкие плечи, красивые, аппетитные рельефы тела, на толстую косу, которая касалась земли. дьячиха шила из грубого рядна мешки. руки ее быстро двигались, всё же тело, выражение глаз, брови, жирные губы, белая шея замерли, погруженные в однообразную, механическую работу и, казалось, спали. изредка только она поднимала голову, чтобы дать отдохнуть своей утомившейся шее, взглядывала мельком на окно, за которым бушевала метель, и опять сгибалась над рядном. ни желаний, ни грусти, ни радости — ничего не выражало ее красивое лицо с вздернутым носом и ямками на щеках. так ничего не выражает красивый фонтан, когда он не бьет.\n",
      "но вот она кончила один мешок, бросила его в сторону и, сладко потянувшись, остановила свой тусклый, неподвижный взгляд на окне... на стеклах плавали слезы и белели недолговечные снежинки. снежинка упадет на стекло, взглянет на дьячиху и растает...\n",
      "— поди ложись! — проворчал дьячок.\n",
      "дьячиха молчала. но вдруг ресницы ее шевельнулись и в глазах блеснуло внимание. савелий, всё время наблюдавший из-под одеяла выражение ее лица, высунул голову и спросил:\n",
      "— что?\n",
      "— ничего... кажись, кто-то едет... — тихо ответила дьячиха.\n",
      "дьячок сбросил с себя руками и ногами одеяло, стал в постели на колени и тупо поглядел на жену. робкий свет лампочки осветил его волосатое, рябое лицо и скользнул по всклоченной, жесткой голове.\n",
      "— слышишь? — спросила жена.\n",
      "сквозь однообразный вой метели расслышал он едва уловимый слухом, тонкий, звенящий стон, похожий на зуденье комара, когда он хочет сесть на щеку и сердится, что ему мешают.\n",
      "— это почта... — проворчал савелий, садясь на пятки.\n",
      "в трех верстах от церкви лежал почтовый тракт. во время ветра, когда дуло с большой дороги на церковь, обитателям сторожки слышались звонки.\n",
      "— господи, приходит же охота ездить в такую погоду! — вздохнула дьячиха.\n",
      "— дело казенное. хочешь — не хочешь, поезжай...\n",
      "стон подержался в воздухе и замер.\n",
      "— проехала! — сказал савелий, ложась.\n",
      "но не успел он укрыться одеялом, как до его слуха донесся явственный звук колокольчика. дьячок тревожно взглянул на жену, спрыгнул с постели и, переваливаясь с боку на бок, заходил вдоль печки. колокольчик прозвучал немного и опять замер, словно оборвался.\n",
      "— не слыхать... — пробормотал дьячок, останавливаясь и щуря на жену глаза.\n",
      "но в это самое время ветер стукнул по окну и донес тонкий, звенящий стон... савелий побледнел, крякнул и опять зашлепал по полу босыми ногами.\n",
      "— почту кружит! — прохрипел он, злобно косясь на жену. — слышишь ты? почту кружит!.. я... я знаю! нешто я не... не понимаю! — забормотал он. — я всё знаю, чтоб ты пропала!\n",
      "— что ты знаешь? — тихо спросила дьячиха, не отрывая глаз от окна.\n",
      "— а то знаю, что всё это твои дела, чертиха! твои дела, чтоб ты пропала! и метель эта, и почту кружит... всё это ты наделала! ты!\n",
      "— бесишься, глупый... — покойно заметила дьячиха.\n",
      "— я за тобой давно уж это замечаю! как поженился, в первый же день приметил, что в тебе сучья кровь!\n",
      "— тьфу! — удивилась раиса, пожимая плечами и крестясь. — да ты перекрестись, дурень!\n",
      "— ведьма и есть ведьма, — продолжал савелий глухим, плачущим голосом, торопливо сморкаясь в подол рубахи. — хоть ты и жена мне, хоть и духовного звания, но я о тебе и на духу так скажу, какая ты есть... да как же? заступи, господи, и помилуй! в прошлом годе под пророка даниила и трех отроков была метель и — что же? мастер греться заехал. потом на алексея, божьего человека, реку взломало, и урядника принесло... всю ночь тут с тобой, проклятый, калякал, а как наутро вышел, да как взглянул я на него, так у него под глазами круги и все щеки втянуло! а? в спасовку два раза гроза была, и в оба разы охотник ночевать приходил. я всё видел, чтоб ему пропасть! всё! о, красней рака стала! ага!\n",
      "— ничего ты не видел...\n",
      "— ну да! а этой зимой перед рождеством на десять мучеников в крите, когда метель день и ночь стояла... помнишь? — писарь предводителя сбился с дороги и сюда, собака, попал... и на что польстилась! тьфу, на писаря! стоило из-за него божью погоду мутить! чертяка, сморкун, из земли не видно, вся морда в угрях и шея кривая... добро бы, красивый был, а то — тьфу! — сатана!\n",
      "дьячок перевел дух, утер губы и прислушался. колокольчика не было слышно, но рванул над крышей ветер и в потемках за окном опять зазвякало.\n",
      "— и теперь тоже! — продолжал савелий. — недаром это почту кружит! наплюй мне в глаза, ежели почта не тебя ищет! о, бес знает свое дело, хороший помощник! покружит, покружит и сюда доведет. зна-аю! ви-ижу! не скроешь, бесова балаболка, похоть идольская! как метель началась, я сразу понял твои мысли.\n",
      "— вот дурень! — усмехнулась дьячиха. — что ж, по твоему, по дурацкому уму, я ненастье делаю?\n",
      "— гм... усмехайся! ты или не ты, а только я замечаю: как в тебе кровь начинает играть, так и непогода, а как только непогода, так и несет сюда какого ни на есть безумца. каждый раз так приходится! стало быть, ты!\n",
      "дьячок для большей убедительности приложил палец ко лбу, закрыл левый глаз и проговорил певучим голосом:\n",
      "— о, безумие! о, иудино окаянство! коли ты в самом деле человек есть, а не ведьма, то подумала бы в голове своей: а что, если то были не мастер, не охотник, не писарь, а бес в их образе! а? ты бы подумала!\n",
      "— да и глупый же ты, савелий! — вздохнула дьячиха, с жалостью глядя на мужа. — когда папенька живы были и тут жили, то много разного народа ходило к ним от трясучки лечиться: и из деревни, и из выселков, и из армянских хуторов. почитай, каждый день ходили, и никто их бесами не обзывал. а к нам ежели кто раз в год в ненастье заедет погреться, так уж тебе, глупому, и диво, сейчас у тебя и мысли разные.\n",
      "логика жены тронула савелия. он расставил босые ноги, нагнул голову и задумался. он не был еще крепко убежден в своих догадках, а искренний, равнодушный тон дьячихи совсем сбил его с толку, но, тем не менее, подумав немного, он мотнул головой и сказал:\n",
      "— не то чтобы старики или косолапые какие, а всё молодые ночевать просятся... почему такое? и пущай бы только грелись, а то ведь чёрта тешат. нет, баба, хитрей вашего бабьего рода на этом свете и твари нет! настоящего ума в вас — ни боже мой, меньше, чем у скворца, зато хитрости бесовской — у-у-у! — спаси, царица небесная! вон, звонит почта! метель еще только начиналась, а уж я все твои мысли знал! наведъмачила, паучиха!\n",
      "— да что ты пристал ко мне, окаянный? — вышла из терпения дьячиха. — что ты пристал ко мне, смола?\n",
      "— а то пристал, что ежели нынче ночью, не дай бог, случится что... ты слушай!.. ежели случится что, то завтра же чуть свет пойду в дядьково к отцу никодиму и всё объясню. так и так, скажу, отец никодим, извините великодушно, но она ведьма. почему? гм... желаете знать почему? извольте... так и так. и горе тебе, баба! не токмо на страшном судилище, но и в земной жизни наказана будешь! недаром насчет вашего брата в требнике молитвы написаны!\n",
      "вдруг в окне раздался стук, такой громкий и необычайный, что савелий побледнел и присел от испуга. дьячиха вскочила и тоже побледнела.\n",
      "— ради бога, пустите погреться! — послышался дрожащий густой бас. — кто тут есть? сделайте милость! с дороги сбились!\n",
      "— а кто вы? — спросила дьячиха, боясь взглянуть на окно.\n",
      "— почта! — ответил другой голос.\n",
      "— недаром дьяволила! — махнул рукой савелий. — так и есть! моя правда... ну, гляди же ты мне!\n",
      "дьячок подпрыгнул два раза перед постелью, повалился на перину и, сердито сопя, повернулся лицом к стене. скоро в его спину пахнуло холодом. дверь скрипнула, и на пороге показалась высокая человеческая фигура, с головы до ног облепленная снегом. за нею мелькнула другая, такая же белая...\n",
      "— и тюки вносить? — спросила вторая хриплым басом.\n",
      "— не там же их оставлять!\n",
      "сказавши это, первый начал развязывать себе башлык и, не дожидаясь, когда он развяжется, сорвал его с головы вместе с фуражкой и со злобой швырнул к печке. затем, стащив с себя пальто, он бросил его туда же и, не здороваясь, зашагал по сторожке.\n",
      "это был молодой белокурый почтальон в истасканном форменном сюртучишке и в рыжих грязных сапогах. согревши себя ходьбой, он сел за стол, протянул грязные ноги к мешкам и подпер кулаком голову. его бледное, с красными пятнами лицо носило еще следы только что пережитых боли и страха. искривленное злобой, со свежими следами недавних физических и нравственных страданий, с тающим снегом на бровях, усах и круглой бородке, оно было красиво.\n",
      "— собачья жизнь! — проворчал почтальон, водя глазами по стенам и словно не веря, что он в тепле. — чуть не пропали! коли б не ваш огонь, так не знаю, что бы и было... и чума его знает, когда всё это кончится! конца краю нет этой собачьей жизни! куда мы заехали? — спросил он, понизив голос и вскидывая глазами на дьячиху.\n",
      "— на гуляевский бугор, в имение генерала калиновского, — ответила дьячиха, встрепенувшись и краснея.\n",
      "— слышь, степан? — повернулся почтальон к ямщику, застрявшему в дверях с большим кожаным тюком на спине. — мы на гуляевский бугор попали!\n",
      "— да... далече!\n",
      "произнеся это слово в форме хриплого, прерывистого вздоха, ямщик вышел и, немного погодя, внес другой тюк, поменьше, затем еще раз вышел и на этот раз внес почтальонную саблю на широком ремне, похожую фасоном на тот длинный плоский меч, с каким рисуется на лубочных картинках юдифь у ложа олоферна. сложив тюки вдоль стены, он вышел в сени, сел там и закурил трубку.\n",
      "— может, с дороги чаю покушаете? — спросила дьячиха.\n",
      "— куда тут чаи распивать! — нахмурился почтальон. — надо вот скорее греться да ехать, а то к почтовому поезду опоздаем. минут десять посидим и поедем. только вы, сделайте милость, дорогу нам покажите...\n",
      "— наказал бог погодой! — вздохнула дьячиха.\n",
      "— м-да... вы же сами кто тут будете?\n",
      "— мы? тутошние, при церкви... мы из духовного звания... вон мой муж лежит! савелий, встань же, иди поздоровайся! тут прежде приход был, а года полтора назад его упразднили. оно, конечно, когда господа тут жили, то и люди были, стоило приход держать, а теперь без господ, сами судите, чем духовенству жить, ежели самая близкая деревня здесь марковка, да и та за пять верст! теперь савелий заштатный и... заместо сторожа. ему споручено за церквой глядеть...\n",
      "и почтальон тут же узнал, что если бы савелий поехал к генеральше и выпросил у нее записку к преосвященному, то ему дали бы хорошее место; не идет же он к генеральше потому, что ленив и боится людей.\n",
      "— все-таки мы духовного звания... — добавила дьячиха.\n",
      "— чем же вы живете? — спросил почтальон.\n",
      "— при церкви есть сенокос и огороды. только нам от этого мало приходится... — вздохнула дьячиха. — дядькинский отец никодим, завидущие глаза, служит тут на николу летнего да на николу зимнего и за это почти всё себе берет. заступиться некому!\n",
      "— врешь! — прохрипел савелий. — отец никодим святая душа, светильник церкви, а ежели берет, то по уставу!\n",
      "— какой он у тебя сердитый! — усмехнулся почтальон. — а давно ты замужем?\n",
      "— с прощеного воскресенья четвертый год пошел. тут прежде в дьячках мой папенька были, а потом, как пришло им время помирать, они, чтоб место за мной осталось, поехали в консисторию и попросили, чтоб мне какого-нибудь неженатого дьячка в женихи прислали. я и вышла.\n",
      "— ага, стало быть, ты одной хлопушкой двух мух убил! — сказал почтальон, глядя на спину савелия. — и место получил, и жену взял.\n",
      "савелий нетерпеливо дрыгнул ногой и ближе придвинулся к стенке. почтальон вышел из-за стола, потянулся и сел на почтовый тюк. немного подумав, он помял руками тюки, переложил саблю на другое место и растянулся, свесив на пол одну ногу.\n",
      "— собачья жизнь... — пробормотал он, кладя руки под голову и закрывая глаза. — и лихому татарину такой жизни не пожелаю.\n",
      "скоро наступила тишина. слышно было только, как сопел савелий да как уснувший почтальон, мерно и медленно дыша, при всяком выдыхании испускал густое, протяжное «к-х-х-х...». изредка в его горле поскрипывало какое-то колесико да шуршала по тюку вздрагивавшая нога.\n",
      "савелий заворочался под одеялом и медленно оглянулся. дьячиха сидела на табурете и, сдавив щеки ладонями, глядела в лицо почтальона. взгляд ее был неподвижный, как у удивленного, испуганного человека.\n",
      "— ну, чего воззрилась? — сердито прошептал савелий.\n",
      "— а тебе что? лежи! — ответила дьячиха, не отрывая глаз от белокурой головы.\n",
      "савелий сердито выдохнул из груди весь воздух и резко повернулся к стене. минуты через три он опять беспокойно заворочался, стал в постели на колени и, упершись руками о подушку, покосился на жену. та всё еще не двигалась и глядела на гостя. щеки ее побледнели и взгляд загорелся каким-то странным огнем. дьячок крякнул, сполз на животе с постели и, подойдя к почтальону, прикрыл его лицо платком.\n",
      "— зачем ты это? — спросила дьячиха.\n",
      "— чтоб огонь ему в глаза не бил.\n",
      "— а ты огонь совсем потуши!\n",
      "савелий недоверчиво поглядел на жену, потянулся губами к лампочке, но тотчас же спохватился и всплеснул руками.\n",
      "— ну, не хитрость ли бесовская? — воскликнул он. — а? ну, есть ли какая тварь хитрее бабьего роду?\n",
      "— а, сатана длиннополая! — прошипела дьячиха, поморщившись от досады. — погоди же!\n",
      "и, поудобнее усевшись, она опять уставилась на почтальона.\n",
      "ничего, что лицо было закрыто. ее не столько занимало лицо, как общий вид, новизна этого человека. грудь у него была широкая, могучая, руки красивые, тонкие, а мускулистые, стройные ноги были гораздо красивее и мужественнее, чем две «кулдышки» савелия. даже сравнивать было невозможно.\n",
      "— хоть я и длиннополый нечистый дух, — проговорил, немного постояв, савелий, — а тут им нечего спать... да... дело у них казенное, мы же отвечать будем, зачем их тут держали. коли везешь почту, так вези, а спать нечего... эй, ты! — крикнул савелий в сени. — ты, ямщик... как тебя? проводить вас, что ли? вставай, нечего с почтой спать!\n",
      "и расходившийся савелий подскочил к почтальону и дернул его за рукав.\n",
      "— эй, ваше благородие! ехать, так ехать, а коли не ехать, так и не тово... спать не годится.\n",
      "почтальон вскочил, сел, обвел мутным взглядом сторожку и опять лег.\n",
      "— а ехать же когда? — забарабанил языком савелий, дергая его за рукав. — на то ведь она и почта, чтоб во благовремении поспевать, слышишь? я провожу.\n",
      "почтальон открыл глаза. согретый и изнеможенный сладким первым сном, еще не совсем проснувшийся, он увидел, как в тумане, белую шею и неподвижный, масленый взгляд дьячихи, закрыл глаза и улыбнулся, точно ему всё это снилось.\n",
      "— ну, куда в такую погоду ехать! — услышал он мягкий женский голос. — спали бы себе да спали на доброе здоровье!\n",
      "— а почта? — встревожился савелий. — кто же почту-то повезет? нешто ты повезешь? ты?\n",
      "почтальон снова открыл глаза, взглянул на двигающиеся ямки на лице дьячихи, вспомнил, где он, понял савелия. мысль, что ему предстоит ехать в холодных потемках, побежала из головы по всему телу холодными мурашками, и он поежился.\n",
      "— пять минуток еще бы можно поспать... — зевнул он. — всё равно опоздали...\n",
      "— а может, как раз вовремя приедем! — послышался голос из сеней. — гляди, неровен час и сам поезд на наше счастье опоздает.\n",
      "почтальон поднялся и, сладко потягиваясь, стал надевать пальто.\n",
      "савелий, видя, что гости собираются уезжать, даже заржал от удовольствия.\n",
      "— помоги, что ль! — крикнул ему ямщик, поднимая с пола тюк.\n",
      "дьячок подскочил к нему и вместе с ним потащил на двор почтовую клажу. почтальон стал распутывать узел на башлыке. а дьячиха заглядывала ему в глаза и словно собиралась залезть ему в душу.\n",
      "— чаю бы попили... — сказала она.\n",
      "— я бы ничего... да вот они собрались! — соглашался он. — всё равно опоздали.\n",
      "— а вы останьтесь! — шепнула она, опустив глаза и трогая его за рукав.\n",
      "почтальон развязал, наконец, узел и в нерешимости перекинул башлык через локоть. ему было тепло стоять около дьячихи.\n",
      "— какая у тебя... шея...\n",
      "и он коснулся двумя пальцами ее шеи. видя, что ему не сопротивляются, он погладил рукой шею, плечо...\n",
      "— фу, какая...\n",
      "— остались бы... чаю попили бы.\n",
      "— куда кладешь? ты, кутья с патокой! — послышался со двора голос ямщика. — поперек клади.\n",
      "— остались бы... ишь как воет погода!\n",
      "и не совсем еще проснувшимся, не успевшим стряхнуть с себя обаяние молодого томительного сна, почтальоном вдруг овладело желание, ради которого забываются тюки, почтовые поезда... всё на свете. испуганно, словно желая бежать или спрятаться, он взглянул на дверь, схватил за талию дьячиху и уж нагнулся над лампочкой, чтобы потушить огонь, как в сенях застучали сапоги и на пороге показался ямщик... из-за его плеча выглядывал савелий. почтальон быстро опустил руки и остановился словно в раздумье.\n",
      "— всё готово! — сказал ямщик.\n",
      "почтальон постоял немного, резко мотнул головой, как окончательно проснувшийся, и пошел за ямщиком. дьячиха осталась одна.\n",
      "— что же, садись, показывай дорогу! — услышала она.\n",
      "лениво зазвучал один колокольчик, затем другой, и звенящие звуки мелкой, длинной цепочкой понеслись от сторожки.\n",
      "когда они мало-помалу затихли, дьячиха рванулась с места и нервно заходила из угла в угол. сначала она была бледна, потом же вся раскраснелась. лицо ее исказилось ненавистью, дыхание задрожало, глаза заблестели дикой, свирепой злобой, и, шагая как в клетке, она походила на тигрицу, которую пугают раскаленным железом. на минуту остановилась она и взглянула на свое жилье. чуть ли не полкомнаты занимала постель, тянувшаяся вдоль всей стены и состоявшая из грязной перины, серых жестких подушек, одеяла и разного безымянного тряпья. эта постель представляла собой бесформенный, некрасивый ком, почти такой же, какой торчал на голове савелия всегда, когда тому приходила охота маслить свои волосы. от постели до двери, выходившей в холодные сени, тянулась темная печка с горшками и висящими тряпками. всё, не исключая и только что вышедшего савелия, было донельзя грязно, засалено, закопчено, так что было странно видеть среди такой обстановки белую шею и тонкую, нежную кожу женщины. дьячиха подбежала к постели, протянула руки, как бы желая раскидать, растоптать и изорвать в пыль всё это, но потом, словно испугавшись прикосновения к грязи, она отскочила назад и опять зашагала...\n",
      "когда часа через два вернулся облепленный снегом и замученный савелий, она уже лежала раздетая в постели. глаза у нее были закрыты, но по мелким судорогам, которые бегали по ее лицу, он догадался, что она не спит. возвращаясь домой, он дал себе слово до завтра молчать и не трогать ее, но тут не вытерпел, чтобы не уязвить.\n",
      "— даром только ворожила: уехал! — сказал он, злорадно ухмыльнувшись.\n",
      "дьячиха молчала, только подбородок ее дрогнул. савелий медленно разделся, перелез через жену и лег к стенке.\n",
      "— а вот завтра я объясню отцу никодиму, какая ты жена! — пробормотал он, съеживаясь калачиком.\n",
      "дьячиха быстро повернулась к нему лицом и сверкнула на него глазами.\n",
      "— будет с тебя и места, — сказала она, — а жену поищи себе в лесу! какая я тебе жена? да чтоб ты треснул! вот еще навязался на мою голову телепень, лежебока, прости господи!\n",
      "— ну, ну... спи!\n",
      "— несчастная я! — зарыдала дьячиха. — коли б не ты, я, может, за купца бы вышла или за благородного какого! коли б не ты, я бы теперь мужа любила! не замело тебя снегом, не замерз ты там на большой дороге, ирод!\n",
      "долго плакала дьячиха. в конце концов она глубоко вздохнула и утихла. за окном всё еще злилась вьюга. в печке, в трубе, за всеми стенами что-то плакало, а савелию казалось, что это у него внутри и в ушах плачет. сегодняшним вечером он окончательно убедился в своих предположениях относительно жены. что жена его при помощи нечистой силы распоряжалась ветрами и почтовыми тропками, в этом уж он более не сомневался. но, к сугубому горю его, эта таинственность, эта сверхъестественная, дикая сила придавали лежавшей около него женщине особую, непонятную прелесть, какой он и не замечал ранее. оттого, что он по глупости, сам того не замечая, опоэтизировал ее, она стала как будто белее, глаже, неприступнее...\n",
      "— ведьма! — негодовал он. — тьфу, противная!\n",
      "а между тем, дождавшись, когда она утихла и стала ровно дышать, он коснулся пальцем ее затылка... подержал в руке ее толстую косу. она не слышала... тогда он стал смелее и погладил ее по шее.\n",
      "— отстань! — крикнула она и так стукнула его локтем в переносицу, что из глаз его посыпались искры.\n",
      "боль в переносице скоро прошла, но пытка всё еще продолжалась.\n"
     ]
    }
   ],
   "source": [
    "text_new = open('texts/vedma.txt', \"r\", encoding=\"utf-8\").read().lower()\n",
    "print(text_new)"
   ]
  },
  {
   "cell_type": "code",
   "execution_count": 12,
   "metadata": {},
   "outputs": [
    {
     "name": "stdout",
     "output_type": "stream",
     "text": [
      "len(inputs_new) = 3449\n",
      "len(labels_new) = 3449\n"
     ]
    }
   ],
   "source": [
    "words_new = [word for word in re.split('[ »\\—«\\-\\n\\t\\r,\\.\\?!:;\\*\\'\\\"“”\\[\\]\\(\\)/]', text_new) if word != '']\n",
    "tokens_new = set(words_new)\n",
    "\n",
    "inputs_new = []\n",
    "labels_new = []\n",
    "for i in range(0, len(words_new) - SEQLEN, STEP):\n",
    "    inputs_new.append(words_new[i:i + SEQLEN])\n",
    "    labels_new.append(words_new[i + SEQLEN])\n",
    "    \n",
    "print('len(inputs_new) =', len(inputs_new))\n",
    "print('len(labels_new) =', len(labels_new))"
   ]
  },
  {
   "cell_type": "code",
   "execution_count": 13,
   "metadata": {
    "collapsed": true
   },
   "outputs": [],
   "source": [
    "import math\n",
    "def perplexity(probs): # на новых данных\n",
    "    logsum = 0\n",
    "    for prob in probs:\n",
    "        log_prob = math.log2(prob)\n",
    "        logsum += log_prob\n",
    "    l = logsum/len(probs)\n",
    "    perplex = math.pow(2, -l)\n",
    "    return perplex"
   ]
  },
  {
   "cell_type": "code",
   "execution_count": 16,
   "metadata": {
    "collapsed": true
   },
   "outputs": [],
   "source": [
    "def eval_model(model):\n",
    "    probs = []\n",
    "    for i in range(len(inputs_new)): #для каждой последовательности в тестовой выборке\n",
    "        input_new, label_new = inputs_new[i], labels_new[i]\n",
    "        tensor_new = np.zeros((1, SEQLEN, nb_chars))\n",
    "    \n",
    "        for j, t in enumerate(input_new):\n",
    "            if t in char2index:  \n",
    "                tensor_new[0, j, char2index[t]] = 1    # формируем тензор\n",
    "        pred = model.predict(tensor_new, verbose=0)[0]\n",
    "        if label_new in char2index:\n",
    "            prob = pred[char2index[label_new]]\n",
    "            probs.append(prob)\n",
    "    prplx = perplexity(probs)\n",
    "    return prplx"
   ]
  },
  {
   "cell_type": "code",
   "execution_count": 17,
   "metadata": {},
   "outputs": [
    {
     "name": "stdout",
     "output_type": "stream",
     "text": [
      "2271.6384614109697\n"
     ]
    }
   ],
   "source": [
    "print(eval_model(model)) # подсчёт перплексии"
   ]
  }
 ],
 "metadata": {
  "kernelspec": {
   "display_name": "Python 3",
   "language": "python",
   "name": "python3"
  },
  "language_info": {
   "codemirror_mode": {
    "name": "ipython",
    "version": 3
   },
   "file_extension": ".py",
   "mimetype": "text/x-python",
   "name": "python",
   "nbconvert_exporter": "python",
   "pygments_lexer": "ipython3",
   "version": "3.6.6"
  }
 },
 "nbformat": 4,
 "nbformat_minor": 2
}
