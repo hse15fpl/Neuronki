{
 "cells": [
  {
   "cell_type": "markdown",
   "metadata": {},
   "source": [
    "# Лабораторная работа #1: Рекуррентные нейронные сети\n",
    "\n",
    "## Задача 1: PoS-tagging"
   ]
  },
  {
   "cell_type": "markdown",
   "metadata": {},
   "source": [
    "В данной лабораторной работе будут использоваться корпуса проекта Universal Dependencies: http://universaldependencies.org/\n",
    "\n",
    "- Ukranian - https://github.com/UniversalDependencies/UD_Ukrainian-IU/tree/master\n",
    "- Galician - https://github.com/UniversalDependencies/UD_Galician-CTG/tree/master\n",
    "\n",
    "ГАЛЛЬСКИЙ ЯЗЫК\n",
    "\n",
    "Категория - Языки Евразии;\n",
    "Индоевропейская семья;\n",
    "Кельтская ветвь.\n",
    "\n",
    "Письменность - италийские алфавиты, греческий алфавит, латиница\n",
    "\n",
    "Это мёртвый кельтский язык, широко распространённый в Галлии в доримский период , до того, когда был окончательно вытеснен народной латынью. Согласно одной из двух основных классификаций кельтских языков, галльский и ряд других мёртвых языков — кельтиберский и лепонтийский — объединяют в так называемые «континентальные кельтские языки». Другая классификация, делящая кельтские языки на Q-кельтские и P-кельтские, относит галльский ко второй ветви."
   ]
  },
  {
   "cell_type": "markdown",
   "metadata": {},
   "source": [
    "### Часть I Работа с корпусом CoNLL\n",
    "Предварительная обработка, чтение и парсинг корпуса, а также определение размера словаря.\n",
    "Необходимо получить следущие статистики:\n",
    "\n",
    "* Число предложений / уникальных словоформ;\n",
    "* Число уникальных PoS-тегов;\n",
    "* Максимальное и минимальное число слов в предложении;\n",
    "* Математическое ожидание и медиана числа слов в предложении;\n",
    "* Доля новых (не встречавшихся в тренировочной выборке) слов в тестовой выборке"
   ]
  },
  {
   "cell_type": "code",
   "execution_count": 1,
   "metadata": {},
   "outputs": [],
   "source": [
    "%matplotlib inline\n",
    "from conllu import parse, parse_tree\n",
    "from collections import Counter\n",
    "import numpy as np\n",
    "\n",
    "from tensorflow.keras.models import Sequential\n",
    "from tensorflow.keras.layers import Activation, Dense, RepeatVector, Embedding, GRU, LSTM, SimpleRNN, TimeDistributed, Bidirectional\n",
    "from tensorflow.keras.optimizers import Adam\n",
    "from tensorflow.keras.metrics import top_k_categorical_accuracy\n",
    "\n",
    "from tensorflow.keras.preprocessing import sequence\n",
    "\n",
    "from tensorflow.keras import utils\n",
    "\n",
    "import matplotlib.pyplot as plt\n",
    "import seaborn as sns\n",
    "sns.set()\n",
    "\n",
    "import warnings\n",
    "warnings.filterwarnings(\"ignore\")\n",
    "warnings.simplefilter(action='ignore', category=FutureWarning)\n",
    "\n",
    "CUSTOM_SEED = 42\n",
    "np.random.seed(CUSTOM_SEED)"
   ]
  },
  {
   "cell_type": "markdown",
   "metadata": {},
   "source": [
    "**Имена файлов с тренировочным и тестовым наборами:**"
   ]
  },
  {
   "cell_type": "code",
   "execution_count": 2,
   "metadata": {},
   "outputs": [],
   "source": [
    "train_conll_fname = 'gl_ctg-ud-train.conllu'\n",
    "test_conll_fname = 'gl_ctg-ud-test.conllu'       "
   ]
  },
  {
   "cell_type": "markdown",
   "metadata": {},
   "source": [
    "Функция \n",
    "    parsed_sentences\n",
    "читает conll файл, и проводит его обработку, подсчитывая:\n",
    "* sents_word - список списков словоформ (внешний список - предложения, внутренний список - слова в этом предложении);\n",
    "* word_frequencies - коллекция типа Counter для подсчета частоты словоформ\n",
    "* sents_pos - список списов PoS тегов (соответствующих словам из sents_word);\n",
    "* pos_frequencies - коллекция типа Counter для подсчета частоты PoS-тегов."
   ]
  },
  {
   "cell_type": "code",
   "execution_count": 3,
   "metadata": {},
   "outputs": [],
   "source": [
    "def parsed_sentences(conll_fname):\n",
    "    conll_file = open(conll_fname, 'r', encoding='utf-8')\n",
    "    conll_data = conll_file.read()\n",
    "    conll_file.close()\n",
    "    \n",
    "    sents_word = []\n",
    "    word_frequencies = Counter()\n",
    "    \n",
    "    sents_pos = []\n",
    "    pos_frequencies = Counter()\n",
    "\n",
    "    for current_parsed_sentence in parse(conll_data):\n",
    "        current_sentence_words = []\n",
    "        current_sentence_pos = []        \n",
    "        for separated_parsed_words in current_parsed_sentence:\n",
    "            current_sentence_words.append(separated_parsed_words['form'])\n",
    "            word_frequencies[separated_parsed_words['form']] += 1\n",
    "            current_sentence_pos.append(separated_parsed_words['upostag'])\n",
    "            pos_frequencies[separated_parsed_words['upostag']] += 1\n",
    "        \n",
    "        sents_word.append(current_sentence_words)\n",
    "        sents_pos.append(current_sentence_pos)\n",
    "\n",
    "    return (sents_word, word_frequencies,\n",
    "           sents_pos, pos_frequencies)\n"
   ]
  },
  {
   "cell_type": "markdown",
   "metadata": {},
   "source": [
    "Считываем файлы тренировочной и тестовой выборки, и формируем (для каждого свою) наборы \n",
    "* sents_word\n",
    "* word_frequencies\n",
    "* sents_pos\n",
    "* pos_frequencies"
   ]
  },
  {
   "cell_type": "code",
   "execution_count": 4,
   "metadata": {},
   "outputs": [],
   "source": [
    "sents_word, word_frequencies, sents_pos, pos_frequencies = parsed_sentences(train_conll_fname)\n",
    "test_sents_word, test_word_frequencies, test_sents_pos, test_pos_frequencies = parsed_sentences(test_conll_fname)"
   ]
  },
  {
   "cell_type": "markdown",
   "metadata": {},
   "source": [
    "Выведете статистику, для тренировочной и тестовой выборки\n",
    "Статистика должна отражать:\n",
    "* Число предложений;\n",
    "* Число словоформ;\n",
    "* Число уникальных PoS тегов;\n",
    "* Максимальное число слов в предложении;\n",
    "* Минимальное число слов в предложении;\n",
    "* Среднее арифметическое и среднее медианное число слов в предложении;\n",
    "* Доля уникальных слов в тестовой выборке;"
   ]
  },
  {
   "cell_type": "code",
   "execution_count": 5,
   "metadata": {},
   "outputs": [
    {
     "name": "stdout",
     "output_type": "stream",
     "text": [
      "Stats: \n",
      "Train set: \n",
      "\tCount sentences: 2272 \n",
      "\tUnique words: 13236\n",
      "\tUnique PoS tags: 17\n",
      "\tMax count words in sentences: 91\n",
      "\tMin count words in sentence: 3\n",
      "\tMiddle count words in sentence: 38.149647887323944\n",
      "\tMedian count words in sentence: 37.0\n",
      "\tPercent of unique PoS tags in test: 16.949152542372886\n"
     ]
    }
   ],
   "source": [
    "print(\"Stats: \")\n",
    "\n",
    "train_length_of_sentences_list = np.array([len(current_sentence) for current_sentence in sents_word])\n",
    "test_length_of_sentences_list = np.array([len(current_sentence) for current_sentence in test_sents_word])\n",
    "\n",
    "print(\"Train set: \\n\\tCount sentences: {} \\n\\tUnique words: {}\".format(len(sents_word), len(word_frequencies)))\n",
    "print(\"\\tUnique PoS tags: {}\".format(len(pos_frequencies)))\n",
    "print(\"\\tMax count words in sentences: {}\".format(np.max(train_length_of_sentences_list)))\n",
    "print(\"\\tMin count words in sentence: {}\".format(np.min(train_length_of_sentences_list)))\n",
    "print(\"\\tMiddle count words in sentence: {}\".format(np.mean(train_length_of_sentences_list)))\n",
    "print(\"\\tMedian count words in sentence: {}\".format(np.median(train_length_of_sentences_list)))\n",
    "print(\"\\tPercent of unique PoS tags in test: {}\".format(100 - len(set(train_length_of_sentences_list)&set(test_length_of_sentences_list))/ \n",
    "len(set(train_length_of_sentences_list))*100))"
   ]
  },
  {
   "cell_type": "markdown",
   "metadata": {},
   "source": [
    "На основании полученных статистик, задаем параметры для нейронных сетей:\n",
    "* Максимальная длина последовательности (MAX_SEQLEN);\n",
    "* Максимальное количество атрибутов (S_MAX_FEATURES);\n",
    "* Максимальное количество тегов (T_MAX_FEATURES);\n",
    "\n",
    "**Замечание**: *MAX_SEQLEN* не обязательно должна равна максимальному числу слов в предложении, особенно если встречается всего 1 такое предложение."
   ]
  },
  {
   "cell_type": "code",
   "execution_count": 6,
   "metadata": {},
   "outputs": [],
   "source": [
    "MAX_SEQLEN = 38\n",
    "S_MAX_FEATURES = 13236\n",
    "T_MAX_FEATURES = 17"
   ]
  },
  {
   "cell_type": "markdown",
   "metadata": {},
   "source": [
    "Объясните свой выбор целевых параметров:\n",
    "* MAX_SEQLEN - выбрано среднее значение числа слов в предложении  \n",
    "* S_MAX_FEATURES - выбрано количество уникальных слов во всем тексте, для максмального\n",
    "* T_MAX_FEATURES "
   ]
  },
  {
   "cell_type": "markdown",
   "metadata": {},
   "source": [
    "Задаем параметры для числа нейронов в скрытом слое, объема пространства погружения и размера пакета."
   ]
  },
  {
   "cell_type": "code",
   "execution_count": 37,
   "metadata": {},
   "outputs": [],
   "source": [
    "EMBED_SIZE = 100\n",
    "HIDDEN_SIZE = 200\n",
    "\n",
    "BATCH_SIZE = 64"
   ]
  },
  {
   "cell_type": "markdown",
   "metadata": {},
   "source": [
    "Задаем число эпох и итераций:"
   ]
  },
  {
   "cell_type": "code",
   "execution_count": 38,
   "metadata": {},
   "outputs": [],
   "source": [
    "NUM_EPOCHS = 5\n",
    "NUM_ITERATIONS = 10"
   ]
  },
  {
   "cell_type": "markdown",
   "metadata": {},
   "source": [
    "Как и в большинстве других задач глубокого обучения, каждая строчка должна быть закодирована индексами слов. Кроме того, выход (PoS-теги) должны быть последовательностями индексов PoS-тегов.\n",
    "Поэтомк, мы создаем табличцы для перевода слов/PoS-тегов в соответствующие индексы.\n",
    "Словарь словоформ должен иметь 2 дополнительных метки:\n",
    "* PAD - для заполнения (характеризует пустоту), когда размер предложения меньше, чем MAX_SEQLEN\n",
    "* UNK - для неизвестных словоформ.\n",
    "\n",
    "Кроме того, захотим проиллюстрировать PoS-теггер, поэтому нужно составить таблицы для поиска словоформ и частеречевых тегов.\n",
    "Ниже показано задание таблиц."
   ]
  },
  {
   "cell_type": "markdown",
   "metadata": {},
   "source": [
    "Составляем таблицу поиска для словоформ:"
   ]
  },
  {
   "cell_type": "code",
   "execution_count": 39,
   "metadata": {},
   "outputs": [],
   "source": [
    "s_vocabsize = min(len(word_frequencies), S_MAX_FEATURES) + 2\n",
    "s_word2index = {x[0]:i+2 for i, x in \n",
    "    enumerate(word_frequencies.most_common(S_MAX_FEATURES))}\n",
    "s_word2index[\"PAD\"] = 0 # Для заполнения, когда размер предлложения меньше, чем MAX_SEQ\n",
    "s_word2index[\"UNK\"] = 1 # Для неизвестных словоформ, которые могут встретиться\n",
    "s_index2word = {v:k for k, v in s_word2index.items()}"
   ]
  },
  {
   "cell_type": "markdown",
   "metadata": {},
   "source": [
    "**Замечание: ** для PoS-тегов элемент UNK не нужен, поскольку список частей речи уже известен. Элемент PAD нужен."
   ]
  },
  {
   "cell_type": "code",
   "execution_count": 40,
   "metadata": {},
   "outputs": [],
   "source": [
    "t_vocabsize = min(len(pos_frequencies), T_MAX_FEATURES) + 1\n",
    "t_word2index = {x[0]:i+1 for i, x in \n",
    "    enumerate(pos_frequencies.most_common(T_MAX_FEATURES))}\n",
    "\n",
    "t_word2index[\"PAD\"] = 0\n",
    "t_index2word = {v:k for k, v in t_word2index.items()}"
   ]
  },
  {
   "cell_type": "markdown",
   "metadata": {},
   "source": [
    "### Описание задания и работы используемых нейронных сетей\n",
    "\n",
    "Составляем целевую нейронную сеть, которая и будет выполнять частеречную разметку.\n",
    "\n",
    "Коротко об архитектуре нейронной сети:\n",
    "Как и в других задачах, считаем, что входом в нейросеть является трехмерный тензор, элементами которого являются индексы слов, длины MAX_SEQLEN;\n",
    "\n",
    "Это проходит через слой погружения (Embedding), которому явно указывается размер словаря и размерность погружения, поэтому результат прохождения входного тензора через слой погружения будет тензор сл. формата:\n",
    "(None, MAX_SEQLEN, EMBED_SIZE);\n",
    "\n",
    "Далее этот тензор передается encoder'у - представляющий собой слой рекуррентной нейронной сети с размером выхода HIDDEN_SIZE. LSTM настроен на возврат единственного контекстного вектора (return_sequences=False - по умолчанию) после обработки последовательности длины MAX_SEQLEN, поэтому тензор LSTM слоя имеет форму (None, HIDDEN_SIZE).\n",
    "\n",
    "Этот контекстный вектор далее реплицируется слоем \n",
    "    RepeatVector\n",
    "в тензор формы (None, MAX_SEQLEN, t_vocab_size). В качестве функции активации в плотном слое используется softmax.\n",
    "\n",
    "\n",
    "**Рассмотрим 4 архитектуры для нейронных сетей**:\n",
    "* LSTM\n",
    "* Bidirectional LSTM\n",
    "* GRU\n",
    "* SimpleRNN"
   ]
  },
  {
   "cell_type": "markdown",
   "metadata": {},
   "source": [
    "*Дополнительная функция для визуализации результатов:*"
   ]
  },
  {
   "cell_type": "code",
   "execution_count": 41,
   "metadata": {},
   "outputs": [],
   "source": [
    "def plot_model_performance(train_loss, train_acc, train_val_loss, train_val_acc):\n",
    "    \"\"\" Plot model loss and accuracy through epochs. \"\"\"\n",
    "    blue= '#34495E'\n",
    "    green = '#2ECC71'\n",
    "    orange = '#E23B13'\n",
    "    # plot model loss\n",
    "    fig, (ax1, ax2) = plt.subplots(2, figsize=(12, 8))\n",
    "    ax1.plot(range(1, len(train_loss) + 1), train_loss, blue, linewidth=3, label='training')\n",
    "    ax1.plot(range(1, len(train_val_loss) + 1), train_val_loss, green, linewidth=3, label='validation')\n",
    "    ax1.set_ylabel('loss')\n",
    "    ax1.tick_params('y')\n",
    "    ax1.legend(loc='upper right', shadow=False)\n",
    "    ax1.set_title('Model loss through #epochs', color=orange, fontweight='bold')\n",
    "    # plot model accuracy\n",
    "    ax2.plot(range(1, len(train_acc) + 1), train_acc, blue, linewidth=3, label='training')\n",
    "    ax2.plot(range(1, len(train_val_acc) + 1), train_val_acc, green, linewidth=3, label='validation')\n",
    "    ax2.set_xlabel('# epoch')\n",
    "    ax2.set_ylabel('accuracy')\n",
    "    ax2.tick_params('y')\n",
    "    ax2.legend(loc='lower right', shadow=False)\n",
    "    ax2.set_title('Model accuracy through #epochs', color=orange, fontweight='bold')"
   ]
  },
  {
   "cell_type": "markdown",
   "metadata": {},
   "source": [
    "В качестве потерь мы используем категориальную энтропию, т.к. решаем задачу Multi-Class Classification\n",
    "    "
   ]
  },
  {
   "cell_type": "markdown",
   "metadata": {},
   "source": [
    "### LSTM Architecture"
   ]
  },
  {
   "cell_type": "code",
   "execution_count": 42,
   "metadata": {},
   "outputs": [
    {
     "name": "stdout",
     "output_type": "stream",
     "text": [
      "_________________________________________________________________\n",
      "Layer (type)                 Output Shape              Param #   \n",
      "=================================================================\n",
      "embedding_5 (Embedding)      (None, 38, 100)           1323800   \n",
      "_________________________________________________________________\n",
      "lstm_4 (LSTM)                (None, 200)               240800    \n",
      "_________________________________________________________________\n",
      "repeat_vector_5 (RepeatVecto (None, 38, 200)           0         \n",
      "_________________________________________________________________\n",
      "lstm_5 (LSTM)                (None, 38, 200)           320800    \n",
      "_________________________________________________________________\n",
      "time_distributed_5 (TimeDist (None, 38, 18)            3618      \n",
      "_________________________________________________________________\n",
      "activation_5 (Activation)    (None, 38, 18)            0         \n",
      "=================================================================\n",
      "Total params: 1,889,018\n",
      "Trainable params: 1,889,018\n",
      "Non-trainable params: 0\n",
      "_________________________________________________________________\n"
     ]
    }
   ],
   "source": [
    "def build_pos_tagger_LSTM():\n",
    "    model = Sequential()\n",
    "    model.add(Embedding(s_vocabsize, EMBED_SIZE,\n",
    "                    input_length=MAX_SEQLEN,\n",
    "                    embeddings_initializer=\"glorot_uniform\"))\n",
    "    \n",
    "    model.add(LSTM(HIDDEN_SIZE))\n",
    "    model.add(RepeatVector(MAX_SEQLEN))\n",
    "    \n",
    "    model.add(LSTM(HIDDEN_SIZE, return_sequences=True))\n",
    "    model.add(TimeDistributed(Dense(t_vocabsize)))\n",
    "    model.add(Activation(\"softmax\"))\n",
    "    model.compile(loss=\"categorical_crossentropy\", optimizer=\"adam\",\n",
    "              metrics=[\"accuracy\"])\n",
    "    return model\n",
    "\n",
    "LSTM_POS_TAGGER = build_pos_tagger_LSTM()\n",
    "LSTM_POS_TAGGER.summary()"
   ]
  },
  {
   "cell_type": "markdown",
   "metadata": {},
   "source": [
    "### Biderectional LSTM Architecture"
   ]
  },
  {
   "cell_type": "code",
   "execution_count": 43,
   "metadata": {},
   "outputs": [
    {
     "name": "stdout",
     "output_type": "stream",
     "text": [
      "_________________________________________________________________\n",
      "Layer (type)                 Output Shape              Param #   \n",
      "=================================================================\n",
      "embedding_6 (Embedding)      (None, 38, 100)           1323800   \n",
      "_________________________________________________________________\n",
      "bidirectional_2 (Bidirection (None, 400)               481600    \n",
      "_________________________________________________________________\n",
      "repeat_vector_6 (RepeatVecto (None, 38, 400)           0         \n",
      "_________________________________________________________________\n",
      "bidirectional_3 (Bidirection (None, 38, 400)           961600    \n",
      "_________________________________________________________________\n",
      "time_distributed_6 (TimeDist (None, 38, 18)            7218      \n",
      "_________________________________________________________________\n",
      "activation_6 (Activation)    (None, 38, 18)            0         \n",
      "=================================================================\n",
      "Total params: 2,774,218\n",
      "Trainable params: 2,774,218\n",
      "Non-trainable params: 0\n",
      "_________________________________________________________________\n"
     ]
    }
   ],
   "source": [
    "def build_pos_tagger_Bidirectional():\n",
    "    model = Sequential()\n",
    "    model.add(Embedding(s_vocabsize, EMBED_SIZE,\n",
    "                    input_length=MAX_SEQLEN,\n",
    "                    embeddings_initializer=\"glorot_uniform\"))\n",
    "    \n",
    "    model.add(Bidirectional(LSTM(HIDDEN_SIZE))) \n",
    "    model.add(RepeatVector(MAX_SEQLEN)) \n",
    "    model.add(Bidirectional(LSTM(HIDDEN_SIZE, return_sequences=True))) \n",
    "    model.add(TimeDistributed(Dense(t_vocabsize))) \n",
    "    model.add(Activation(\"softmax\")) \n",
    "    model.compile(loss=\"categorical_crossentropy\", optimizer=\"adam\",\n",
    "              metrics=[\"accuracy\"])\n",
    "    return model\n",
    "\n",
    "Bidirectional_POS_TAGGER = build_pos_tagger_Bidirectional()\n",
    "Bidirectional_POS_TAGGER.summary()\n"
   ]
  },
  {
   "cell_type": "markdown",
   "metadata": {},
   "source": [
    "### GRU Architecture"
   ]
  },
  {
   "cell_type": "code",
   "execution_count": 44,
   "metadata": {},
   "outputs": [
    {
     "name": "stdout",
     "output_type": "stream",
     "text": [
      "_________________________________________________________________\n",
      "Layer (type)                 Output Shape              Param #   \n",
      "=================================================================\n",
      "embedding_7 (Embedding)      (None, 38, 100)           1323800   \n",
      "_________________________________________________________________\n",
      "gru_4 (GRU)                  (None, 200)               180600    \n",
      "_________________________________________________________________\n",
      "repeat_vector_7 (RepeatVecto (None, 38, 200)           0         \n",
      "_________________________________________________________________\n",
      "gru_5 (GRU)                  (None, 38, 200)           240600    \n",
      "_________________________________________________________________\n",
      "time_distributed_7 (TimeDist (None, 38, 18)            3618      \n",
      "_________________________________________________________________\n",
      "activation_7 (Activation)    (None, 38, 18)            0         \n",
      "=================================================================\n",
      "Total params: 1,748,618\n",
      "Trainable params: 1,748,618\n",
      "Non-trainable params: 0\n",
      "_________________________________________________________________\n"
     ]
    }
   ],
   "source": [
    "def build_pos_tagger_GRU():\n",
    "    model = Sequential()\n",
    "    model.add(Embedding(s_vocabsize, EMBED_SIZE,\n",
    "                    input_length=MAX_SEQLEN,\n",
    "                    embeddings_initializer=\"glorot_uniform\"))\n",
    "    \n",
    "    model.add(GRU(HIDDEN_SIZE))\n",
    "    model.add(RepeatVector(MAX_SEQLEN))\n",
    "    \n",
    "    model.add(GRU(HIDDEN_SIZE, return_sequences=True))\n",
    "    model.add(TimeDistributed(Dense(t_vocabsize)))\n",
    "    model.add(Activation(\"softmax\"))\n",
    "    model.compile(loss=\"categorical_crossentropy\", optimizer=\"adam\",\n",
    "              metrics=[\"accuracy\"])\n",
    "    return model\n",
    "\n",
    "GRU_POS_TAGGER = build_pos_tagger_GRU()\n",
    "GRU_POS_TAGGER.summary()"
   ]
  },
  {
   "cell_type": "markdown",
   "metadata": {},
   "source": [
    "### SimpleRNN Architecture"
   ]
  },
  {
   "cell_type": "code",
   "execution_count": 45,
   "metadata": {},
   "outputs": [
    {
     "name": "stdout",
     "output_type": "stream",
     "text": [
      "_________________________________________________________________\n",
      "Layer (type)                 Output Shape              Param #   \n",
      "=================================================================\n",
      "embedding_8 (Embedding)      (None, 38, 100)           1323800   \n",
      "_________________________________________________________________\n",
      "simple_rnn_2 (SimpleRNN)     (None, 200)               60200     \n",
      "_________________________________________________________________\n",
      "repeat_vector_8 (RepeatVecto (None, 38, 200)           0         \n",
      "_________________________________________________________________\n",
      "simple_rnn_3 (SimpleRNN)     (None, 38, 200)           80200     \n",
      "_________________________________________________________________\n",
      "time_distributed_8 (TimeDist (None, 38, 18)            3618      \n",
      "_________________________________________________________________\n",
      "activation_8 (Activation)    (None, 38, 18)            0         \n",
      "=================================================================\n",
      "Total params: 1,467,818\n",
      "Trainable params: 1,467,818\n",
      "Non-trainable params: 0\n",
      "_________________________________________________________________\n"
     ]
    }
   ],
   "source": [
    "def build_pos_tagger_SimpleRNN():\n",
    "    model = Sequential()\n",
    "    model.add(Embedding(s_vocabsize, EMBED_SIZE,\n",
    "                    input_length=MAX_SEQLEN,\n",
    "                    embeddings_initializer=\"glorot_uniform\"))\n",
    "    \n",
    "    model.add(SimpleRNN(HIDDEN_SIZE))\n",
    "    model.add(RepeatVector(MAX_SEQLEN))\n",
    "    \n",
    "    model.add(SimpleRNN(HIDDEN_SIZE, return_sequences=True))\n",
    "    model.add(TimeDistributed(Dense(t_vocabsize)))\n",
    "    model.add(Activation(\"softmax\"))\n",
    "    model.compile(loss=\"categorical_crossentropy\", optimizer=\"adam\",\n",
    "              metrics=[\"accuracy\"])\n",
    "    return model\n",
    "\n",
    "SimpleRNN_POS_TAGGER = build_pos_tagger_SimpleRNN()\n",
    "SimpleRNN_POS_TAGGER.summary()"
   ]
  },
  {
   "cell_type": "markdown",
   "metadata": {},
   "source": [
    "## Обучаем модели и посчитываем статистики"
   ]
  },
  {
   "cell_type": "markdown",
   "metadata": {},
   "source": [
    "Подсчитаем объем количества батчей для тренировочной и тестовой выборки, кроме того, сделаем функцию для получения генератора батчей."
   ]
  },
  {
   "cell_type": "code",
   "execution_count": 46,
   "metadata": {},
   "outputs": [
    {
     "name": "stdout",
     "output_type": "stream",
     "text": [
      "\tV of train samples: 35\n",
      "\tV of test samples: 13\n"
     ]
    }
   ],
   "source": [
    "num_train_samples = len(sents_word) // BATCH_SIZE\n",
    "num_test_samples = len(test_sents_word) // BATCH_SIZE\n",
    "\n",
    "print(\"\\tV of train samples: {}\".format(num_train_samples))\n",
    "print(\"\\tV of test samples: {}\".format(num_test_samples))\n",
    "\n",
    "def get_or_else(dictionary, key, default_value):\n",
    "    try:\n",
    "        return dictionary[key]\n",
    "    except KeyError:\n",
    "        return default_value\n",
    "\n",
    "def generate_batch(\n",
    "    s_sents,  # sentences_train\n",
    "    s_word2index, # word to index dictionary\n",
    "    t_sents, # \n",
    "    t_word2index, \n",
    "    batch_size, \n",
    "    maxlen\n",
    "):\n",
    "    while True:\n",
    "        # shuffle the input\n",
    "        indices = np.random.permutation(np.arange(len(s_sents)))\n",
    "        ss_sents = [s_sents[ix] for ix in indices]\n",
    "        ts_sents = [t_sents[ix] for ix in indices]\n",
    "        # convert to word indices\n",
    "        si_sents = [[get_or_else(s_word2index, word, s_word2index[\"UNK\"]) \n",
    "                    for word in sent] \n",
    "                    for sent in ss_sents]\n",
    "        ti_sents = [[t_word2index[word] for word in sent]\n",
    "                    for sent in ts_sents]\n",
    "        # inner loop should run for an epoch\n",
    "        num_batches = len(s_sents) // batch_size\n",
    "        for i in range(num_batches):\n",
    "            s_batch = si_sents[i * batch_size : (i + 1) * batch_size]\n",
    "            t_batch = ti_sents[i * batch_size : (i + 1) * batch_size]\n",
    "            sp_batch = sequence.pad_sequences(s_batch, maxlen=maxlen)\n",
    "            tp_batch = sequence.pad_sequences(t_batch, maxlen=maxlen)\n",
    "            tpc_batch = utils.to_categorical(tp_batch.reshape(-1, 1), \n",
    "                num_classes=len(t_word2index)).reshape(batch_size, \n",
    "                -1, len(t_word2index))\n",
    "            yield sp_batch, tpc_batch"
   ]
  },
  {
   "cell_type": "markdown",
   "metadata": {},
   "source": [
    "## 1. LSTM"
   ]
  },
  {
   "cell_type": "markdown",
   "metadata": {},
   "source": [
    "Инициализируем генераторы для тренировочной и тестовой выборки. "
   ]
  },
  {
   "cell_type": "code",
   "execution_count": 47,
   "metadata": {},
   "outputs": [],
   "source": [
    "train_gen = generate_batch(sents_word, s_word2index, sents_pos,\n",
    "                           t_word2index, BATCH_SIZE, MAX_SEQLEN)\n",
    "test_gen = generate_batch(test_sents_word, s_word2index, test_sents_pos,\n",
    "                          t_word2index, BATCH_SIZE, MAX_SEQLEN)"
   ]
  },
  {
   "cell_type": "markdown",
   "metadata": {},
   "source": [
    "Обновляем списки с историями для точности, функции потерь на тренировочной и тестовой выборках:"
   ]
  },
  {
   "cell_type": "code",
   "execution_count": 48,
   "metadata": {},
   "outputs": [],
   "source": [
    "hist_acc, hist_val_acc, hist_loss, hist_val_loss = [], [], [], []\n"
   ]
  },
  {
   "cell_type": "code",
   "execution_count": 49,
   "metadata": {
    "scrolled": true
   },
   "outputs": [
    {
     "name": "stdout",
     "output_type": "stream",
     "text": [
      "Epoch 1/5\n",
      "35/35 [==============================] - 14s 401ms/step - loss: 2.4723 - acc: 0.2032 - val_loss: 2.3071 - val_acc: 0.2422\n",
      "Epoch 2/5\n",
      "35/35 [==============================] - 8s 242ms/step - loss: 2.2543 - acc: 0.2505 - val_loss: 2.1521 - val_acc: 0.2748\n",
      "Epoch 3/5\n",
      "35/35 [==============================] - 9s 257ms/step - loss: 2.1693 - acc: 0.2670 - val_loss: 2.1398 - val_acc: 0.2819\n",
      "Epoch 4/5\n",
      "35/35 [==============================] - 9s 247ms/step - loss: 2.1370 - acc: 0.2744 - val_loss: 2.1118 - val_acc: 0.2882\n",
      "Epoch 5/5\n",
      "35/35 [==============================] - 9s 245ms/step - loss: 2.1213 - acc: 0.2777 - val_loss: 2.0857 - val_acc: 0.2930\n",
      "================================================================================\n",
      "Iteration # 1\n",
      "--------------------------------------------------------------------------------\n",
      "label:     o//DET UNK//NOUN non//PART técnico//ADJ UNK//_ incluirán//VERB se//PRON todas//DET as//DET indicacións//NOUN do//_ de//ADP o//DET proxecto//NOUN básico//ADJ ,//PUNCT así//ADV como//SCONJ do//_ de//ADP o//DET resto//NOUN dos//_ de//ADP os//DET documentos//NOUN UNK//VERB na//_ en//ADP a//DET solicitude//NOUN da//_ de//ADP a//DET autorización//NOUN ambiental//ADJ integrada//VERB .//PUNCT\n",
      "predicted: o//PAD UNK//NOUN non//NOUN técnico//NOUN UNK//NOUN incluirán//NOUN se//NOUN todas//NOUN as//NOUN indicacións//NOUN do//NOUN de//NOUN o//NOUN proxecto//NOUN básico//NOUN ,//NOUN así//NOUN como//NOUN do//NOUN de//NOUN o//NOUN resto//NOUN dos//NOUN de//NOUN os//NOUN documentos//NOUN UNK//NOUN na//NOUN en//NOUN a//NOUN solicitude//NOUN da//NOUN de//NOUN a//NOUN autorización//NOUN ambiental//NOUN integrada//NOUN .//NOUN\n",
      "--------------------------------------------------------------------------------\n",
      "label:     Na//_ En//ADP a//DET dita//VERB data//NOUN debe//VERB UNK//_ acordar//VERB se//PRON un//DET novo//ADJ sistema//NOUN de//ADP financiamento//NOUN sanitario//ADJ e//CCONJ unha//DET reforma//NOUN do//_ de//ADP o//DET sistema//NOUN xeral//ADJ de//ADP financiamento//NOUN ,//PUNCT dos//_ de//ADP os//DET cales//PRON UNK//VERB a//DET futura//ADJ configuración//NOUN de//ADP recursos//NOUN .//PUNCT\n",
      "predicted: Na//PAD En//PAD a//PAD dita//PAD data//DET debe//NOUN UNK//NOUN acordar//NOUN se//NOUN un//NOUN novo//NOUN sistema//NOUN de//NOUN financiamento//NOUN sanitario//NOUN e//NOUN unha//NOUN reforma//NOUN do//NOUN de//NOUN o//NOUN sistema//NOUN xeral//NOUN de//NOUN financiamento//NOUN ,//NOUN dos//NOUN de//NOUN os//NOUN cales//NOUN UNK//NOUN a//NOUN futura//NOUN configuración//NOUN de//NOUN recursos//NOUN .//NOUN\n",
      "--------------------------------------------------------------------------------\n",
      "label:     O//DET presente//ADJ estatuto//NOUN é//AUX de//ADP aplicación//NOUN a//ADP todos//DET os//DET colexiados//VERB desta//_ de//ADP esta//DET UNK//NOUN ,//PUNCT así//ADV como//SCONJ a//ADP todos//DET aqueles//DET avogados//NOUN que//PRON exerzan//VERB no//_ en//ADP o//DET seu//DET ámbito//NOUN territorial//ADJ .//PUNCT\n",
      "predicted: O//PAD presente//PAD estatuto//PAD é//PAD de//PAD aplicación//PAD a//NOUN todos//NOUN os//NOUN colexiados//NOUN desta//NOUN de//NOUN esta//NOUN UNK//NOUN ,//NOUN así//NOUN como//NOUN a//NOUN todos//NOUN aqueles//NOUN avogados//NOUN que//NOUN exerzan//NOUN no//NOUN en//NOUN o//NOUN seu//NOUN ámbito//NOUN territorial//NOUN .//NOUN\n",
      "--------------------------------------------------------------------------------\n",
      "label:     Os//DET veciños//NOUN UNK//_ UNK//VERB o//PRON con//ADP UNK//NOUN da//_ de//ADP a//DET súa//DET saúde//NOUN e//CCONJ UNK//NOUN da//_ de//ADP a//DET confianza//NOUN nas//_ en//ADP as//DET institucións//NOUN democráticas//ADJ .//PUNCT\n",
      "predicted: Os//PAD veciños//PAD UNK//PAD UNK//PAD o//NOUN con//NOUN UNK//NOUN da//NOUN de//NOUN a//NOUN súa//NOUN saúde//NOUN e//NOUN UNK//NOUN da//NOUN de//NOUN a//NOUN confianza//NOUN nas//NOUN en//NOUN as//NOUN institucións//NOUN democráticas//NOUN .//NOUN\n",
      "--------------------------------------------------------------------------------\n",
      "label:     día//NOUN de//ADP hoxe//ADV ,//PUNCT a//DET saúde//NOUN ambiental//ADJ da//_ de//ADP a//DET que//PRON falamos//VERB atópase//_ atopa//VERB se//PRON nun//_ en//ADP un//DET UNK//ADJ estado//NOUN ,//PUNCT mesmo//ADV ao//_ a//ADP o//DET límite//NOUN da//_ de//ADP a//DET capacidade//NOUN de//ADP carga//NOUN do//_ de//ADP o//DET propio//DET ecosistema//NOUN .//PUNCT\n",
      "predicted: día//PAD de//NOUN hoxe//NOUN ,//NOUN a//NOUN saúde//NOUN ambiental//NOUN da//NOUN de//NOUN a//NOUN que//NOUN falamos//NOUN atópase//NOUN atopa//NOUN se//NOUN nun//NOUN en//NOUN un//NOUN UNK//NOUN estado//NOUN ,//NOUN mesmo//NOUN ao//NOUN a//NOUN o//NOUN límite//NOUN da//NOUN de//NOUN a//NOUN capacidade//NOUN de//NOUN carga//NOUN do//NOUN de//NOUN o//NOUN propio//NOUN ecosistema//NOUN .//NOUN\n",
      "--------------------------------------------------------------------------------\n",
      "Epoch 1/5\n",
      "35/35 [==============================] - 9s 261ms/step - loss: 2.1004 - acc: 0.2831 - val_loss: 2.0595 - val_acc: 0.2993\n",
      "Epoch 2/5\n",
      "35/35 [==============================] - 10s 273ms/step - loss: 2.0749 - acc: 0.2873 - val_loss: 2.1104 - val_acc: 0.2862\n",
      "Epoch 3/5\n",
      "35/35 [==============================] - 9s 261ms/step - loss: 2.0731 - acc: 0.2887 - val_loss: 2.0325 - val_acc: 0.3102\n",
      "Epoch 4/5\n",
      "35/35 [==============================] - 9s 256ms/step - loss: 2.0640 - acc: 0.2889 - val_loss: 2.0623 - val_acc: 0.2997\n",
      "Epoch 5/5\n",
      "35/35 [==============================] - 9s 261ms/step - loss: 2.0354 - acc: 0.2947 - val_loss: 2.0199 - val_acc: 0.3103\n",
      "================================================================================\n",
      "Iteration # 2\n",
      "--------------------------------------------------------------------------------\n",
      "label:     OMS//PROPN está//VERB a//ADP colaborar//VERB cos//_ con//ADP os//DET ministerios//NOUN de//ADP saúde//NOUN e//CCONJ certas//DET organizacións//NOUN sanitarias//ADJ para//ADP axudar//VERB aos//_ a//ADP os//DET países//NOUN na//_ en//ADP a//DET vixilancia//NOUN das//_ de//ADP as//DET cepas//NOUN dos//_ de//ADP os//DET virus//NOUN da//_ de//ADP a//DET gripe//NOUN UNK//ADJ .//PUNCT\n",
      "predicted: OMS//NOUN está//NOUN a//NOUN colaborar//NOUN cos//NOUN con//NOUN os//NOUN ministerios//NOUN de//NOUN saúde//NOUN e//NOUN certas//NOUN organizacións//NOUN sanitarias//NOUN para//NOUN axudar//NOUN aos//NOUN a//NOUN os//NOUN países//NOUN na//NOUN en//NOUN a//NOUN vixilancia//NOUN das//NOUN de//NOUN as//NOUN cepas//NOUN dos//NOUN de//NOUN os//NOUN virus//NOUN da//NOUN de//NOUN a//NOUN gripe//NOUN UNK//NOUN .//NOUN\n",
      "--------------------------------------------------------------------------------\n",
      "label:     En//ADP España//PROPN había//VERB eses//DET xéneros//NOUN que//PRON UNK//VERB a//DET UNK//NOUN da//_ de//ADP a//DET miña//DET UNK//NOUN para//ADP que//SCONJ lles//PRON fixese//VERB UNK//VERB a//ADP unhas//DET netas//ADJ que//PRON non//PART UNK//VERB .//PUNCT\n",
      "predicted: En//DET España//NOUN había//NOUN eses//NOUN xéneros//NOUN que//NOUN UNK//NOUN a//NOUN UNK//NOUN da//NOUN de//NOUN a//NOUN miña//NOUN UNK//NOUN para//NOUN que//NOUN lles//NOUN fixese//NOUN UNK//NOUN a//NOUN unhas//NOUN netas//NOUN que//NOUN non//NOUN UNK//PUNCT .//PUNCT\n",
      "--------------------------------------------------------------------------------\n",
      "label:     estrutura//NOUN de//ADP mercado//NOUN pode//VERB resumirse//_ resumir//VERB se//PRON na//_ en//ADP a//DET redución//NOUN dos//_ de//ADP os//DET custos//NOUN de//ADP UNK//NOUN ,//PUNCT a//DET través//NOUN dos//_ de//ADP os//DET seus//DET dous//NOUN principais//ADJ compoñentes//NOUN ://PUNCT os//DET custos//NOUN de//ADP coordinación//NOUN e//CCONJ os//DET custos//NOUN de//ADP motivación//NOUN .//PUNCT\n",
      "predicted: estrutura//NOUN de//NOUN mercado//NOUN pode//NOUN resumirse//NOUN resumir//NOUN se//NOUN na//NOUN en//NOUN a//NOUN redución//NOUN dos//NOUN de//NOUN os//NOUN custos//NOUN de//NOUN UNK//NOUN ,//NOUN a//NOUN través//NOUN dos//NOUN de//NOUN os//NOUN seus//NOUN dous//NOUN principais//NOUN compoñentes//NOUN ://NOUN os//NOUN custos//NOUN de//NOUN coordinación//NOUN e//NOUN os//NOUN custos//NOUN de//NOUN motivación//NOUN .//NOUN\n",
      "--------------------------------------------------------------------------------\n",
      "label:     ,//PUNCT froito//NOUN dunha//_ de//ADP unha//DET necesidade//NOUN detectada//VERB no//_ en//ADP o//DET estudo//NOUN piloto//VERB desenvolvido//VERB na//_ en//ADP a//DET UNK//NOUN de//ADP Saúde//NOUN de//ADP Lugo//PROPN ,//PUNCT creouse//_ creou//VERB se//PRON tamén//ADV un//DET comité//NOUN de//ADP asesoramento//NOUN para//ADP asuntos//NOUN legais//ADJ ,//PUNCT laborais//ADJ e//CCONJ UNK//ADJ .//PUNCT\n",
      "predicted: ,//NOUN froito//NOUN dunha//NOUN de//NOUN unha//NOUN necesidade//NOUN detectada//NOUN no//NOUN en//NOUN o//NOUN estudo//NOUN piloto//NOUN desenvolvido//NOUN na//NOUN en//NOUN a//NOUN UNK//NOUN de//NOUN Saúde//NOUN de//NOUN Lugo//NOUN ,//NOUN creouse//NOUN creou//NOUN se//NOUN tamén//NOUN un//NOUN comité//NOUN de//NOUN asesoramento//NOUN para//NOUN asuntos//NOUN legais//NOUN ,//NOUN laborais//NOUN e//NOUN UNK//PUNCT .//PUNCT\n",
      "--------------------------------------------------------------------------------\n",
      "label:     ser//VERB considerado//VERB como//PRON proposta//NOUN de//ADP resolución//NOUN cos//_ con//ADP os//DET efectos//NOUN previstos//VERB nos//_ en//ADP os//DET artigos//NOUN 18//NUM e//CCONJ 19//NUM do//_ de//ADP o//DET Real//ADJ decreto//NOUN UNK//NUM ,//PUNCT UNK//_ determinando//VERB se//PRON para//ADP estes//DET efectos//NOUN o//DET importe//NOUN da//_ de//ADP a//DET sanción//NOUN .//PUNCT\n",
      "predicted: ser//NOUN considerado//NOUN como//NOUN proposta//NOUN de//NOUN resolución//NOUN cos//NOUN con//NOUN os//NOUN efectos//NOUN previstos//NOUN nos//NOUN en//NOUN os//NOUN artigos//NOUN 18//NOUN e//NOUN 19//NOUN do//NOUN de//NOUN o//NOUN Real//NOUN decreto//NOUN UNK//NOUN ,//NOUN UNK//NOUN determinando//NOUN se//NOUN para//NOUN estes//NOUN efectos//NOUN o//NOUN importe//NOUN da//NOUN de//NOUN a//NOUN sanción//NOUN .//NOUN\n",
      "--------------------------------------------------------------------------------\n",
      "Epoch 1/5\n"
     ]
    },
    {
     "name": "stdout",
     "output_type": "stream",
     "text": [
      "35/35 [==============================] - 9s 264ms/step - loss: 2.0384 - acc: 0.2902 - val_loss: 2.0194 - val_acc: 0.3115\n",
      "Epoch 2/5\n",
      "35/35 [==============================] - 9s 258ms/step - loss: 2.0166 - acc: 0.2985 - val_loss: 1.9980 - val_acc: 0.3158\n",
      "Epoch 3/5\n",
      "35/35 [==============================] - 9s 247ms/step - loss: 2.0075 - acc: 0.2986 - val_loss: 2.0091 - val_acc: 0.3051\n",
      "Epoch 4/5\n",
      "35/35 [==============================] - 8s 241ms/step - loss: 1.9939 - acc: 0.3014 - val_loss: 2.0091 - val_acc: 0.3110\n",
      "Epoch 5/5\n",
      "35/35 [==============================] - 8s 240ms/step - loss: 1.9950 - acc: 0.2992 - val_loss: 2.0046 - val_acc: 0.3032\n",
      "================================================================================\n",
      "Iteration # 3\n",
      "--------------------------------------------------------------------------------\n",
      "label:     o//DET noso//DET equipo//NOUN de//ADP investigación//NOUN se//PRON dedica//VERB precisamente//ADV á//_ a//ADP a//DET tarefa//NOUN da//_ de//ADP a//DET construción//NOUN ,//PUNCT UNK//NOUN e//CCONJ difusión//NOUN do//_ de//ADP o//DET coñecemento//NOUN sobre//ADP a//DET temática//NOUN que//PRON nos//PRON ocupa//VERB aquí//ADV dende//ADP fai//VERB máis//ADV de//ADP 15//NUM anos//NOUN .//PUNCT\n",
      "predicted: o//NOUN noso//NOUN equipo//NOUN de//NOUN investigación//NOUN se//NOUN dedica//NOUN precisamente//NOUN á//NOUN a//NOUN a//NOUN tarefa//NOUN da//NOUN de//NOUN a//NOUN construción//NOUN ,//NOUN UNK//DET e//DET difusión//DET do//DET de//DET o//DET coñecemento//DET sobre//DET a//DET temática//DET que//DET nos//DET ocupa//DET aquí//NOUN dende//NOUN fai//NOUN máis//NOUN de//PUNCT 15//PUNCT anos//PUNCT .//PUNCT\n",
      "--------------------------------------------------------------------------------\n",
      "label:     dando//VERB cobertura//NOUN UNK//ADJ á//_ a//ADP a//DET totalidade//NOUN da//_ de//ADP a//DET Comunidade//NOUN Autónoma//ADJ de//ADP Galicia//PROPN ,//PUNCT tanto//ADV nos//_ en//ADP os//DET centros//NOUN públicos//ADJ como//PRON nos//PRON privados//ADJ ,//PUNCT UNK//ADJ e//CCONJ os//DET dependentes//ADJ do//_ de//ADP o//DET Ministerio//NOUN de//ADP UNK//NOUN mediante//ADP convenios//NOUN .//PUNCT\n",
      "predicted: dando//NOUN cobertura//NOUN UNK//NOUN á//NOUN a//NOUN a//NOUN totalidade//NOUN da//NOUN de//NOUN a//NOUN Comunidade//NOUN Autónoma//NOUN de//NOUN Galicia//NOUN ,//NOUN tanto//NOUN nos//NOUN en//NOUN os//NOUN centros//NOUN públicos//NOUN como//NOUN nos//NOUN privados//NOUN ,//NOUN UNK//NOUN e//NOUN os//NOUN dependentes//NOUN do//NOUN de//NOUN o//NOUN Ministerio//NOUN de//NOUN UNK//NOUN mediante//NOUN convenios//PUNCT .//PUNCT\n",
      "--------------------------------------------------------------------------------\n",
      "label:     unha//DET análise//NOUN UNK//ADJ dos//_ de//ADP os//DET datos//NOUN de//ADP acordo//NOUN coa//_ con//ADP a//DET UNK//ADJ división//NOUN en//ADP persoa//NOUN ,//PUNCT lugar//NOUN e//CCONJ tempo//NOUN e//CCONJ por//ADP outra//DET parte//NOUN fíxose//_ fixo//VERB se//PRON unha//DET breve//ADJ análise//NOUN segundo//ADP as//DET causas//NOUN de//ADP mortalidade//NOUN máis//ADV importantes//ADJ .//PUNCT\n",
      "predicted: unha//PAD análise//DET UNK//DET dos//NOUN de//NOUN os//NOUN datos//NOUN de//NOUN acordo//NOUN coa//NOUN con//NOUN a//NOUN UNK//NOUN división//NOUN en//NOUN persoa//NOUN ,//NOUN lugar//NOUN e//NOUN tempo//NOUN e//NOUN por//NOUN outra//NOUN parte//NOUN fíxose//NOUN fixo//NOUN se//NOUN unha//NOUN breve//NOUN análise//NOUN segundo//NOUN as//NOUN causas//NOUN de//NOUN mortalidade//PUNCT máis//PUNCT importantes//PUNCT .//PUNCT\n",
      "--------------------------------------------------------------------------------\n",
      "label:     A//DET UNK//ADJ presión//NOUN UNK//ADJ do//_ de//ADP o//DET UNK//NOUN Popular//ADJ ten//VERB sen//ADP dúbida//NOUN razóns//NOUN diversas//ADJ ,//PUNCT a//DET principal//ADJ a//DET recuperación//NOUN do//_ de//ADP o//DET goberno//NOUN .//PUNCT\n",
      "predicted: A//NOUN UNK//NOUN presión//NOUN UNK//NOUN do//NOUN de//NOUN o//NOUN UNK//NOUN Popular//NOUN ten//NOUN sen//NOUN dúbida//NOUN razóns//NOUN diversas//NOUN ,//NOUN a//NOUN principal//NOUN a//NOUN recuperación//NOUN do//NOUN de//PUNCT o//PUNCT goberno//PUNCT .//PUNCT\n",
      "--------------------------------------------------------------------------------\n",
      "label:     Un//DET dato//NOUN importante//ADJ é//AUX que//SCONJ un//DET UNK//NUM %//SYM das//_ de//ADP as//DET explotacións//NOUN agrarias//ADJ familiares//ADJ cooperativistas//NOUN incrementaron//VERB o//DET número//NOUN de//ADP cabezas//NOUN de//ADP gando//NOUN nos//_ en//ADP os//DET últimos//ADJ cinco//NOUN anos//NOUN ,//PUNCT amosando//VERB unha//DET UNK//ADJ UNK//NOUN social//ADJ e//CCONJ económica//ADJ .//PUNCT\n",
      "predicted: Un//PAD dato//DET importante//NOUN é//NOUN que//NOUN un//NOUN UNK//NOUN %//NOUN das//NOUN de//NOUN as//NOUN explotacións//NOUN agrarias//NOUN familiares//NOUN cooperativistas//NOUN incrementaron//NOUN o//NOUN número//NOUN de//NOUN cabezas//NOUN de//NOUN gando//NOUN nos//NOUN en//NOUN os//NOUN últimos//NOUN cinco//NOUN anos//NOUN ,//NOUN amosando//NOUN unha//NOUN UNK//NOUN UNK//PUNCT social//PUNCT e//PUNCT económica//PUNCT .//PUNCT\n",
      "--------------------------------------------------------------------------------\n",
      "Epoch 1/5\n",
      "35/35 [==============================] - 8s 242ms/step - loss: 1.9775 - acc: 0.3029 - val_loss: 1.9950 - val_acc: 0.3055\n",
      "Epoch 2/5\n",
      "35/35 [==============================] - 9s 248ms/step - loss: 1.9596 - acc: 0.3079 - val_loss: 1.9879 - val_acc: 0.3079\n",
      "Epoch 3/5\n",
      "35/35 [==============================] - 8s 242ms/step - loss: 1.9584 - acc: 0.3073 - val_loss: 1.9714 - val_acc: 0.3095\n",
      "Epoch 4/5\n",
      "35/35 [==============================] - 8s 242ms/step - loss: 1.9570 - acc: 0.3044 - val_loss: 1.9701 - val_acc: 0.3192\n",
      "Epoch 5/5\n",
      "35/35 [==============================] - 9s 244ms/step - loss: 1.9817 - acc: 0.3010 - val_loss: 1.9705 - val_acc: 0.3159\n",
      "================================================================================\n",
      "Iteration # 4\n",
      "--------------------------------------------------------------------------------\n",
      "label:     UNK//NOUN de//ADP audiencia//NOUN previa//ADJ na//_ en//ADP a//DET forma//NOUN que//PRON máis//ADV adiante//ADV se//PRON regula//VERB ,//PUNCT en//ADP UNK//NOUN co//_ con//ADP o//DET previsto//VERB no//_ en//ADP o//DET Convenio//NOUN UNK//NUM de//ADP UNK//NOUN .//PUNCT\n",
      "predicted: UNK//NOUN de//NOUN audiencia//NOUN previa//NOUN na//NOUN en//NOUN a//NOUN forma//NOUN que//NOUN máis//NOUN adiante//NOUN se//NOUN regula//NOUN ,//NOUN en//NOUN UNK//NOUN co//NOUN con//NOUN o//ADP previsto//ADP no//ADP en//ADP o//ADP Convenio//ADP UNK//NOUN de//NOUN UNK//PUNCT .//PUNCT\n",
      "--------------------------------------------------------------------------------\n",
      "label:     Cabe//VERB destacar//VERB no//_ en//ADP o//DET UNK//ADJ 2004//NUM a//DET súa//DET importante//ADJ colaboración//NOUN ,//PUNCT ó//INTJ igual//ADV que//SCONJ nos//_ en//ADP os//DET anos//NOUN 1993//NUM e//CCONJ 1999//NUM ,//PUNCT en//ADP apoio//NOUN dos//_ de//ADP os//DET UNK//NOUN nas//_ en//ADP as//DET distintas//ADJ rutas//NOUN UNK//ADJ .//PUNCT\n",
      "predicted: Cabe//NOUN destacar//NOUN no//NOUN en//NOUN o//NOUN UNK//NOUN 2004//NOUN a//NOUN súa//NOUN importante//NOUN colaboración//NOUN ,//NOUN ó//NOUN igual//NOUN que//NOUN nos//NOUN en//NOUN os//NOUN anos//NOUN 1993//NOUN e//NOUN 1999//NOUN ,//NOUN en//NOUN apoio//NOUN dos//NOUN de//NOUN os//ADP UNK//ADP nas//ADP en//ADP as//ADP distintas//ADP rutas//ADP UNK//NOUN .//NOUN\n",
      "--------------------------------------------------------------------------------\n",
      "label:     eses//DET fillos//NOUN ,//PUNCT unha//DET vez//NOUN que//PRON UNK//VERB ,//PUNCT sexan//AUX realmente//ADV UNK//VERB e//CCONJ UNK//VERB por//ADP si//ADV mesmos//DET ,//PUNCT e//CCONJ iso//PRON ocorre//VERB na//_ en//ADP a//DET gran//ADJ maior//ADJ UNK//NOUN dos//_ de//ADP os//DET casos//NOUN independentemente//ADV das//_ de//ADP as//DET motivacións//NOUN de//ADP partida//NOUN .//PUNCT\n",
      "predicted: eses//NOUN fillos//NOUN ,//NOUN unha//NOUN vez//NOUN que//NOUN UNK//NOUN ,//NOUN sexan//NOUN realmente//NOUN UNK//NOUN e//NOUN UNK//NOUN por//NOUN si//NOUN mesmos//NOUN ,//NOUN e//NOUN iso//NOUN ocorre//NOUN na//NOUN en//NOUN a//NOUN gran//NOUN maior//NOUN UNK//NOUN dos//NOUN de//NOUN os//ADP casos//ADP independentemente//ADP das//ADP de//ADP as//ADP motivacións//NOUN de//NOUN partida//NOUN .//PUNCT\n",
      "--------------------------------------------------------------------------------\n",
      "label:     fachada//NOUN occidental//ADJ (//PUNCT Atlántica//ADJ e//CCONJ Rías//NOUN Baixas//ADJ )//PUNCT a//DET parte//NOUN interna//ADJ e//CCONJ media//NOUN da//_ de//ADP a//DET plataforma//NOUN está//AUX UNK//VERB por//ADP unha//DET UNK//ADJ capa//NOUN de//ADP UNK//NOUN procedente//ADJ dos//_ de//ADP os//DET numerosos//ADJ canles//NOUN fluviais//ADJ que//PRON UNK//VERB nela//_ en//ADP ela//PRON .//PUNCT\n",
      "predicted: fachada//NOUN occidental//NOUN (//NOUN Atlántica//NOUN e//NOUN Rías//NOUN Baixas//NOUN )//NOUN a//NOUN parte//NOUN interna//NOUN e//NOUN media//NOUN da//NOUN de//NOUN a//NOUN plataforma//NOUN está//NOUN UNK//NOUN por//NOUN unha//NOUN UNK//NOUN capa//DET de//DET UNK//DET procedente//DET dos//DET de//DET os//DET numerosos//DET canles//ADP fluviais//ADP que//ADP UNK//ADP nela//ADP en//NOUN ela//NOUN .//NOUN\n",
      "--------------------------------------------------------------------------------\n",
      "label:     Estes//DET axentes//NOUN tamén//ADV se//PRON consideran//VERB como//SCONJ carcinóxenos//ADV ,//PUNCT pero//CCONJ nestes//_ en//ADP estes//DET casos//NOUN se//PRON UNK//VERB carcinóxenos//ADV UNK//ADJ (//PUNCT tamén//ADV UNK//VERB promotores//NOUN )//PUNCT .//PUNCT\n",
      "predicted: Estes//NOUN axentes//NOUN tamén//NOUN se//NOUN consideran//NOUN como//NOUN carcinóxenos//NOUN ,//NOUN pero//NOUN nestes//NOUN en//NOUN estes//NOUN casos//NOUN se//NOUN UNK//NOUN carcinóxenos//NOUN UNK//NOUN (//NOUN tamén//NOUN UNK//PUNCT promotores//PUNCT )//PUNCT .//PUNCT\n",
      "--------------------------------------------------------------------------------\n",
      "Epoch 1/5\n"
     ]
    },
    {
     "name": "stdout",
     "output_type": "stream",
     "text": [
      "35/35 [==============================] - 8s 241ms/step - loss: 1.9352 - acc: 0.3119 - val_loss: 1.9368 - val_acc: 0.3182\n",
      "Epoch 2/5\n",
      "35/35 [==============================] - 9s 247ms/step - loss: 1.9511 - acc: 0.3048 - val_loss: 1.9509 - val_acc: 0.3146\n",
      "Epoch 3/5\n",
      "35/35 [==============================] - 8s 241ms/step - loss: 1.9381 - acc: 0.3066 - val_loss: 1.9773 - val_acc: 0.3126\n",
      "Epoch 4/5\n",
      "35/35 [==============================] - 8s 241ms/step - loss: 1.9174 - acc: 0.3135 - val_loss: 1.9490 - val_acc: 0.3139\n",
      "Epoch 5/5\n",
      "35/35 [==============================] - 8s 240ms/step - loss: 1.9139 - acc: 0.3121 - val_loss: 1.9372 - val_acc: 0.3245\n",
      "================================================================================\n",
      "Iteration # 5\n",
      "--------------------------------------------------------------------------------\n",
      "label:     As//DET emisións//NOUN de//ADP CH4//NUM UNK//_ obteñen//VERB se//PRON a//ADP partir//VERB dos//_ de//ADP os//DET valores//NOUN de//ADP emisións//NOUN de//ADP COV//PROPN ,//PUNCT tomando//VERB o//DET valor//NOUN UNK//VERB para//ADP o//DET Inventario//NOUN de//ADP Emisións//NOUN UNK//ADJ e//CCONJ UNK//NOUN UNK//NOUN (//PUNCT EPER//ADJ )//PUNCT .//PUNCT\n",
      "predicted: As//DET emisións//NOUN de//NOUN CH4//NOUN UNK//NOUN obteñen//NOUN se//NOUN a//NOUN partir//NOUN dos//NOUN de//NOUN os//NOUN valores//NOUN de//NOUN emisións//NOUN de//NOUN COV//NOUN ,//NOUN tomando//NOUN o//NOUN valor//NOUN UNK//NOUN para//NOUN o//NOUN Inventario//NOUN de//NOUN Emisións//NOUN UNK//NOUN e//NOUN UNK//NOUN UNK//NOUN (//PUNCT EPER//PUNCT )//PUNCT .//PUNCT\n",
      "--------------------------------------------------------------------------------\n",
      "label:     A//DET segunda//ADJ é//VERB que//SCONJ a//DET variedade//NOUN de//ADP impactos//NOUN ambientais//ADJ é//AUX moito//ADV maior//ADJ có//_ ca//SCONJ o//DET tempo//NOUN ou//CCONJ ca//SCONJ outros//DET bens//NOUN semellantes//ADJ ,//PUNCT polo//_ por//ADP o//DET tanto//ADV resulta//VERB difícil//ADJ establecer//VERB UNK//NOUN .//PUNCT\n",
      "predicted: A//PAD segunda//DET é//NOUN que//NOUN a//NOUN variedade//NOUN de//NOUN impactos//NOUN ambientais//NOUN é//NOUN moito//NOUN maior//NOUN có//NOUN ca//NOUN o//NOUN tempo//NOUN ou//NOUN ca//NOUN outros//NOUN bens//VERB semellantes//VERB ,//VERB polo//VERB por//VERB o//VERB tanto//NOUN resulta//NOUN difícil//NOUN establecer//NOUN UNK//NOUN .//PUNCT\n",
      "--------------------------------------------------------------------------------\n",
      "label:     A//DET súa//DET duración//NOUN establécese//_ establece//VERB se//PRON en//ADP dous//NOUN anos//NOUN ,//PUNCT 2004//NUM e//CCONJ 2005//NUM ,//PUNCT e//CCONJ os//DET seus//DET efectos//NOUN económicos//ADJ UNK//_ UNK//VERB se//PRON UNK//VERB ao//_ a//ADP o//DET día//NOUN 1//NUM de//ADP xaneiro//NOUN de//ADP 2004//NUM .//PUNCT\n",
      "predicted: A//DET súa//NOUN duración//NOUN establécese//NOUN establece//NOUN se//NOUN en//NOUN dous//NOUN anos//NOUN ,//NOUN 2004//NOUN e//NOUN 2005//NOUN ,//NOUN e//NOUN os//NOUN seus//NOUN efectos//NOUN económicos//NOUN UNK//NOUN UNK//NOUN se//NOUN UNK//NOUN ao//ADP a//ADP o//ADP día//ADP 1//ADP de//ADP xaneiro//NOUN de//NOUN 2004//PUNCT .//PUNCT\n",
      "--------------------------------------------------------------------------------\n",
      "label:     Trala//_ Tras//ADP a//DET UNK//NOUN UNK//ADJ tódolos//_ todos//DET os//DET concellos//NOUN ://PUNCT UNK//VERB a//DET fracción//NOUN seca//ADJ dos//_ de//ADP os//DET RSU//VERB nas//_ en//ADP as//DET instalacións//NOUN de//ADP selección//NOUN ou//CCONJ nas//_ en//ADP as//DET estacións//NOUN de//ADP transferencia//NOUN .//PUNCT\n",
      "predicted: Trala//PAD Tras//DET a//NOUN UNK//NOUN UNK//NOUN tódolos//NOUN todos//NOUN os//NOUN concellos//NOUN ://NOUN UNK//NOUN a//NOUN fracción//NOUN seca//NOUN dos//NOUN de//NOUN os//NOUN RSU//NOUN nas//NOUN en//NOUN as//NOUN instalacións//NOUN de//ADP selección//ADP ou//ADP nas//ADP en//ADP as//ADP estacións//ADP de//NOUN transferencia//NOUN .//PUNCT\n",
      "--------------------------------------------------------------------------------\n",
      "label:     o//DET UNK//NOUN do//_ de//ADP o//DET dito//VERB departamento//NOUN designar//VERB os//DET funcionarios//NOUN que//PRON deben//VERB realizar//VERB o//DET exame//NOUN da//_ de//ADP a//DET documentación//NOUN referida//VERB nos//_ en//ADP os//DET artigos//NOUN 19//NUM e//CCONJ 20//NUM deste//_ de//ADP este//DET regulamento//NOUN e//CCONJ formular//VERB a//DET proposta//NOUN de//ADP resolución//NOUN .//PUNCT\n",
      "predicted: o//NOUN UNK//NOUN do//NOUN de//NOUN o//NOUN dito//NOUN departamento//NOUN designar//NOUN os//NOUN funcionarios//NOUN que//NOUN deben//NOUN realizar//NOUN o//NOUN exame//NOUN da//NOUN de//NOUN a//NOUN documentación//NOUN referida//NOUN nos//NOUN en//NOUN os//NOUN artigos//NOUN 19//NOUN e//NOUN 20//ADP deste//ADP de//ADP este//ADP regulamento//ADP e//ADP formular//ADP a//ADP proposta//ADP de//NOUN resolución//NOUN .//PUNCT\n",
      "--------------------------------------------------------------------------------\n",
      "Epoch 1/5\n",
      "35/35 [==============================] - 8s 242ms/step - loss: 1.9028 - acc: 0.3139 - val_loss: 1.9581 - val_acc: 0.3217\n",
      "Epoch 2/5\n",
      "35/35 [==============================] - 8s 242ms/step - loss: 1.8831 - acc: 0.3188 - val_loss: 1.9498 - val_acc: 0.3183\n",
      "Epoch 3/5\n",
      "35/35 [==============================] - 9s 243ms/step - loss: 1.8718 - acc: 0.3221 - val_loss: 1.9476 - val_acc: 0.3165\n",
      "Epoch 4/5\n",
      "35/35 [==============================] - 10s 279ms/step - loss: 1.8871 - acc: 0.3167 - val_loss: 1.9340 - val_acc: 0.3118\n",
      "Epoch 5/5\n",
      "35/35 [==============================] - 9s 246ms/step - loss: 1.8616 - acc: 0.3236 - val_loss: 1.9329 - val_acc: 0.3118\n",
      "================================================================================\n",
      "Iteration # 6\n",
      "--------------------------------------------------------------------------------\n",
      "label:     A//DET disposición//NOUN de//ADP determinados//ADJ bens//NOUN e//CCONJ servicios//NOUN da//_ de//ADP a//DET a//DET medida//NOUN da//_ de//ADP a//DET súa//DET adecuación//NOUN ós//_ a//ADP os//DET niveis//NOUN de//ADP UNK//NOUN UNK//VERB como//PRON normais//ADJ .//PUNCT\n",
      "predicted: A//DET disposición//NOUN de//NOUN determinados//NOUN bens//NOUN e//NOUN servicios//DET da//DET de//NOUN a//NOUN a//NOUN medida//NOUN da//NOUN de//NOUN a//NOUN súa//NOUN adecuación//NOUN ós//NOUN a//NOUN os//NOUN niveis//ADP de//ADP UNK//ADP UNK//NOUN como//NOUN normais//PUNCT .//PUNCT\n",
      "--------------------------------------------------------------------------------\n",
      "label:     diferentes//ADJ UNK//NOUN da//_ de//ADP a//DET UNK//PROPN ,//PUNCT e//CCONJ dicir//VERB ,//PUNCT ao//_ a//ADP o//DET finalizar//VERB o//DET embarazo//NOUN ,//PUNCT con//ADP UNK//NOUN ao//_ a//ADP o//DET parto//NOUN ,//PUNCT e//CCONJ cando//PRON o//DET neno//NOUN UNK//VERB 3//NUM meses//NOUN ,//PUNCT 6//NUM meses//NOUN e//CCONJ 1//NUM ano//NOUN .//PUNCT\n",
      "predicted: diferentes//NOUN UNK//NOUN da//NOUN de//NOUN a//NOUN UNK//NOUN ,//NOUN e//NOUN dicir//NOUN ,//NOUN ao//NOUN a//NOUN o//NOUN finalizar//NOUN o//NOUN embarazo//NOUN ,//NOUN con//NOUN UNK//NOUN ao//PUNCT a//PUNCT o//PUNCT parto//PUNCT ,//PUNCT e//PUNCT cando//PUNCT o//NOUN neno//NOUN UNK//NOUN 3//NOUN meses//ADP ,//ADP 6//ADP meses//NOUN e//NOUN 1//NOUN ano//PUNCT .//PUNCT\n",
      "--------------------------------------------------------------------------------\n",
      "label:     ,//PUNCT o//DET número//NOUN de//ADP UNK//NOUN de//ADP regulación//NOUN de//ADP emprego//NOUN autorizados//VERB en//ADP Galicia//PROPN no//_ en//ADP o//DET ano//NOUN 2005//NUM medrou//VERB nun//_ en//ADP un//DET UNK//NUM %//SYM ,//PUNCT acadando//VERB os//DET UNK//NUM UNK//NOUN ,//PUNCT 48//NUM máis//ADV que//SCONJ no//_ en//ADP o//DET ano//NOUN UNK//ADJ .//PUNCT\n",
      "predicted: ,//NOUN o//ADP número//ADP de//ADP UNK//ADP de//ADP regulación//ADP de//ADP emprego//ADP autorizados//ADP en//ADP Galicia//ADP no//ADP en//ADP o//ADP ano//ADP 2005//ADP medrou//ADP nun//ADP en//ADP un//ADP UNK//PUNCT %//PUNCT ,//PUNCT acadando//PUNCT os//PUNCT UNK//DET UNK//DET ,//DET 48//VERB máis//VERB que//VERB no//DET en//DET o//DET ano//NOUN UNK//PUNCT .//PUNCT\n",
      "--------------------------------------------------------------------------------\n",
      "label:     a//ADP pesar//VERB das//_ de//ADP as//DET relativamente//ADV boas//ADJ UNK//NOUN na//_ en//ADP a//DET actividade//NOUN ,//PUNCT UNK//VERB sobre//ADP o//DET UNK//NOUN de//ADP idade//NOUN comprendido//VERB entre//ADP 20//NUM e//CCONJ 24//NUM anos//NOUN ,//PUNCT polo//NOUN xeral//ADJ UNK//VERB polos//_ por//ADP os//DET traballadores//NOUN de//ADP máis//ADV baixa//ADJ cualificación//NOUN .//PUNCT\n",
      "predicted: a//NOUN pesar//ADP das//ADP de//DET as//DET relativamente//DET boas//DET UNK//NOUN na//NOUN en//NOUN a//NOUN actividade//NOUN ,//NOUN UNK//NOUN sobre//ADP o//ADP UNK//ADP de//ADP idade//NOUN comprendido//PUNCT entre//PUNCT 20//PUNCT e//PUNCT 24//PUNCT anos//PUNCT ,//PUNCT polo//NOUN xeral//NOUN UNK//NOUN polos//ADP por//ADP os//ADP traballadores//ADP de//ADP máis//DET baixa//NOUN cualificación//PUNCT .//PUNCT\n",
      "--------------------------------------------------------------------------------\n",
      "label:     Pobo//NOUN ,//PUNCT o//DET Director//NOUN Xeral//ADJ de//ADP Obras//NOUN Públicas//ADJ volveu//VERB convocar//VERB a//DET Xunta//NOUN de//ADP Goberno//NOUN ,//PUNCT UNK//_ UNK//VERB se//PRON dúas//NOUN reunións//NOUN no//_ en//ADP o//DET ano//NOUN 2000//NUM ,//PUNCT unha//DET delas//_ de//ADP elas//PRON para//ADP aprobar//VERB o//DET Plano//NOUN Hidrolóxico//ADJ de//ADP UNK//PROPN .//PUNCT\n",
      "predicted: Pobo//NOUN ,//NOUN o//NOUN Director//NOUN Xeral//NOUN de//DET Obras//DET Públicas//DET volveu//DET convocar//NOUN a//NOUN Xunta//NOUN de//NOUN Goberno//NOUN ,//NOUN UNK//NOUN UNK//NOUN se//NOUN dúas//NOUN reunións//NOUN no//NOUN en//DET o//DET ano//DET 2000//DET ,//VERB unha//VERB delas//VERB de//VERB elas//VERB para//ADP aprobar//ADP o//ADP Plano//ADP Hidrolóxico//NOUN de//NOUN UNK//PUNCT .//PUNCT\n",
      "--------------------------------------------------------------------------------\n"
     ]
    }
   ],
   "source": [
    "for i in range(NUM_ITERATIONS):    \n",
    "    history = LSTM_POS_TAGGER.fit_generator(train_gen, \n",
    "                                  steps_per_epoch=num_train_samples, \n",
    "                                  epochs=NUM_EPOCHS,\n",
    "                                  validation_data=test_gen, \n",
    "                                  validation_steps=num_test_samples)\n",
    "    # save off history data\n",
    "    hist_acc.extend(history.history[\"acc\"])\n",
    "    hist_val_acc.extend(history.history[\"val_acc\"])\n",
    "    hist_loss.extend(history.history[\"loss\"])\n",
    "    hist_val_loss.extend(history.history[\"val_loss\"])\n",
    "    \n",
    "    # Проиллюстрируем некоторые примеры разметки\n",
    "    \n",
    "    Xtest, Ytest = next(test_gen)\n",
    "    Ytest_ = LSTM_POS_TAGGER.predict(Xtest)\n",
    "    ytest = np.argmax(Ytest, axis=2)\n",
    "    ytest_ = np.argmax(Ytest_, axis=2)\n",
    "    \n",
    "    print(\"=\" * 80)\n",
    "    print(\"Iteration # {:d}\".format(i + 1))\n",
    "    print(\"-\" * 80)\n",
    "    for i in range(min(5, Ytest.shape[0])):\n",
    "        sent_ids = Xtest[i]\n",
    "        sent_words = [s_index2word[x] for x in sent_ids.tolist()]\n",
    "        pos_labels = [t_index2word[x] for x in ytest[i].tolist()]\n",
    "        pos_preds = [t_index2word[x] for x in ytest_[i].tolist()]\n",
    "        triples = [x for x in zip(sent_words, pos_labels, pos_preds)\n",
    "            if x[0] != \"PAD\"]\n",
    "        print(\"label:     \" + \" \".join([x[0] +\"//\"+x[1].upper() \n",
    "            for x in triples]))\n",
    "        print(\"predicted: \" + \" \".join([x[0] +\"//\"+x[2].upper() \n",
    "            for x in triples]))\n",
    "        print(\"-\" * 80)"
   ]
  },
  {
   "cell_type": "code",
   "execution_count": 50,
   "metadata": {
    "scrolled": true
   },
   "outputs": [
    {
     "data": {
      "image/png": "[encoded data removed]",
      "text/plain": [
       "<Figure size 864x576 with 2 Axes>"
      ]
     },
     "metadata": {
      "needs_background": "light"
     },
     "output_type": "display_data"
    }
   ],
   "source": [
    "# plot loss and accuracy\n",
    "plot_model_performance(history.history[\"loss\"], history.history[\"acc\"], history.history[\"val_loss\"], history.history[\"val_acc\"])"
   ]
  },
  {
   "cell_type": "markdown",
   "metadata": {},
   "source": [
    "## 2. Biderectional LSTM"
   ]
  },
  {
   "cell_type": "code",
   "execution_count": 21,
   "metadata": {},
   "outputs": [],
   "source": [
    "train_gen = generate_batch(sents_word, s_word2index, sents_pos,\n",
    "                           t_word2index, BATCH_SIZE, MAX_SEQLEN)\n",
    "test_gen = generate_batch(test_sents_word, s_word2index, test_sents_pos,\n",
    "                          t_word2index, BATCH_SIZE, MAX_SEQLEN)"
   ]
  },
  {
   "cell_type": "code",
   "execution_count": 22,
   "metadata": {},
   "outputs": [],
   "source": [
    "sents_word, word_frequencies, sents_pos, pos_frequencies = parsed_sentences(train_conll_fname)\n",
    "test_sents_word, test_word_frequencies, test_sents_pos, test_pos_frequencies = parsed_sentences(test_conll_fname)"
   ]
  },
  {
   "cell_type": "code",
   "execution_count": 23,
   "metadata": {},
   "outputs": [],
   "source": [
    "hist_acc, hist_val_acc, hist_loss, hist_val_loss = [], [], [], []"
   ]
  },
  {
   "cell_type": "code",
   "execution_count": 24,
   "metadata": {},
   "outputs": [
    {
     "name": "stdout",
     "output_type": "stream",
     "text": [
      "Epoch 1/5\n",
      "35/35 [==============================] - 19s 548ms/step - loss: 2.3902 - acc: 0.2352 - val_loss: 2.1010 - val_acc: 0.3055\n",
      "Epoch 2/5\n",
      "35/35 [==============================] - 10s 293ms/step - loss: 2.0855 - acc: 0.3004 - val_loss: 2.0038 - val_acc: 0.3262\n",
      "Epoch 3/5\n",
      "35/35 [==============================] - 10s 292ms/step - loss: 2.0333 - acc: 0.3067 - val_loss: 1.9803 - val_acc: 0.3268\n",
      "Epoch 4/5\n",
      "35/35 [==============================] - 10s 299ms/step - loss: 2.0028 - acc: 0.3099 - val_loss: 1.9772 - val_acc: 0.3265\n",
      "Epoch 5/5\n",
      "35/35 [==============================] - 10s 297ms/step - loss: 1.9761 - acc: 0.3137 - val_loss: 1.9380 - val_acc: 0.3334\n",
      "================================================================================\n",
      "Iteration # 1\n",
      "--------------------------------------------------------------------------------\n",
      "label:     os//DET feitos//NOUN UNK//ADJ polos//_ por//ADP os//DET UNK//NOUN da//_ de//ADP a//DET Comisión//NOUN Europea//ADJ coma//SCONJ as//DET deficiencias//NOUN dos//_ de//ADP os//DET sistemas//NOUN de//ADP control//NOUN e//CCONJ vixilancia//NOUN dun//_ de//ADP un//DET Estado//NOUN membro//NOUN sexan//AUX mellor//ADV coñecidas//ADJ polos//_ por//ADP os//DET outros//DET Estados//NOUN membros//NOUN .//PUNCT\n",
      "predicted: os//DET feitos//NOUN UNK//NOUN polos//NOUN por//NOUN os//NOUN UNK//NOUN da//NOUN de//NOUN a//NOUN Comisión//NOUN Europea//NOUN coma//NOUN as//NOUN deficiencias//NOUN dos//NOUN de//NOUN os//NOUN sistemas//NOUN de//NOUN control//NOUN e//NOUN vixilancia//NOUN dun//NOUN de//NOUN un//NOUN Estado//NOUN membro//NOUN sexan//NOUN mellor//NOUN coñecidas//NOUN polos//ADP por//ADP os//ADP outros//NOUN Estados//NOUN membros//NOUN .//PUNCT\n",
      "--------------------------------------------------------------------------------\n",
      "label:     UNK//ADV UNK//VERB para//ADP detectar//VERB tumores//NOUN en//ADP pacientes//NOUN con//ADP risco//NOUN alto//ADJ de//ADP cancro//NOUN de//ADP mama//NOUN ,//PUNCT polo//_ por//ADP o//DET elevado//ADJ número//NOUN de//ADP UNK//ADJ positivos//ADJ que//PRON presenta//VERB .//PUNCT\n",
      "predicted: UNK//DET UNK//DET para//NOUN detectar//NOUN tumores//NOUN en//NOUN pacientes//NOUN con//NOUN risco//NOUN alto//NOUN de//NOUN cancro//NOUN de//NOUN mama//NOUN ,//NOUN polo//NOUN por//NOUN o//NOUN elevado//NOUN número//NOUN de//NOUN UNK//NOUN positivos//NOUN que//NOUN presenta//NOUN .//PUNCT\n",
      "--------------------------------------------------------------------------------\n",
      "label:     Invernada//NOUN forte//ADJ e//CCONJ en//ADP aumento//NOUN pois//SCONJ leva//VERB catro//NOUN anos//NOUN de//ADP máximos//NOUN UNK//ADJ ,//PUNCT pasando//VERB das//_ de//ADP as//DET UNK//NUM aves//NOUN de//ADP UNK//NUM ás//NOUN 39//NUM aves//NOUN de//ADP 2001//NUM .//PUNCT\n",
      "predicted: Invernada//DET forte//NOUN e//NOUN en//NOUN aumento//NOUN pois//NOUN leva//NOUN catro//NOUN anos//NOUN de//NOUN máximos//NOUN UNK//NOUN ,//NOUN pasando//NOUN das//NOUN de//NOUN as//NOUN UNK//NOUN aves//NOUN de//NOUN UNK//NOUN ás//NOUN 39//NOUN aves//NOUN de//NOUN 2001//NOUN .//PUNCT\n",
      "--------------------------------------------------------------------------------\n",
      "label:     Os//DET sucesivos//ADJ fillos//NOUN UNK//VERB dereito//NOUN a//ADP un//DET novo//ADJ período//NOUN de//ADP UNK//NOUN que//PRON ,//PUNCT se//SCONJ é//AUX o//DET caso//NOUN ,//PUNCT porá//VERB fin//NOUN ao//_ a//ADP o//DET que//SCONJ UNK//VERB UNK//VERB .//PUNCT\n",
      "predicted: Os//DET sucesivos//DET fillos//NOUN UNK//NOUN dereito//NOUN a//NOUN un//NOUN novo//NOUN período//NOUN de//NOUN UNK//NOUN que//NOUN ,//NOUN se//NOUN é//NOUN o//NOUN caso//NOUN ,//NOUN porá//NOUN fin//NOUN ao//NOUN a//NOUN o//ADP que//NOUN UNK//NOUN UNK//NOUN .//PUNCT\n",
      "--------------------------------------------------------------------------------\n",
      "label:     O//DET UNK//NOUN reflicte//VERB fundamentalmente//ADV a//DET cantidade//NOUN que//PRON hai//VERB que//SCONJ servir//VERB de//ADP cada//DET un//PRON dos//_ de//ADP os//DET productos//NOUN UNK//VERB e//CCONJ o//DET prazo//NOUN de//ADP entrega//NOUN (//PUNCT non//PART sempre//ADV )//PUNCT .//PUNCT\n",
      "predicted: O//DET UNK//NOUN reflicte//NOUN fundamentalmente//NOUN a//NOUN cantidade//NOUN que//NOUN hai//NOUN que//NOUN servir//NOUN de//NOUN cada//NOUN un//NOUN dos//NOUN de//NOUN os//NOUN productos//NOUN UNK//NOUN e//NOUN o//NOUN prazo//NOUN de//NOUN entrega//NOUN (//NOUN non//NOUN sempre//NOUN )//NOUN .//PUNCT\n",
      "--------------------------------------------------------------------------------\n",
      "Epoch 1/5\n",
      "35/35 [==============================] - 11s 307ms/step - loss: 1.9511 - acc: 0.3168 - val_loss: 1.9582 - val_acc: 0.3264\n",
      "Epoch 2/5\n",
      "35/35 [==============================] - 10s 298ms/step - loss: 1.9326 - acc: 0.3184 - val_loss: 1.8976 - val_acc: 0.3384\n",
      "Epoch 3/5\n",
      "35/35 [==============================] - 10s 298ms/step - loss: 1.9034 - acc: 0.3248 - val_loss: 1.8947 - val_acc: 0.3336\n",
      "Epoch 4/5\n",
      "35/35 [==============================] - 10s 298ms/step - loss: 1.8724 - acc: 0.3320 - val_loss: 1.8897 - val_acc: 0.3386\n",
      "Epoch 5/5\n",
      "35/35 [==============================] - 11s 301ms/step - loss: 1.8611 - acc: 0.3327 - val_loss: 1.8645 - val_acc: 0.3454\n",
      "================================================================================\n",
      "Iteration # 2\n",
      "--------------------------------------------------------------------------------\n",
      "label:     Para//ADP eles//PRON os//DET UNK//NOUN non//PART UNK//VERB o//DET mesmo//DET ,//PUNCT os//DET UNK//ADJ asasinos//ADJ son//VERB os//DET UNK//NOUN israelís//ADJ mentres//ADV que//SCONJ da//_ de//ADP a//DET outra//DET beira//NOUN só//ADV hai//VERB UNK//NOUN pola//_ por//ADP a//DET liberdade//NOUN e//CCONJ a//DET paz//NOUN .//PUNCT\n",
      "predicted: Para//DET eles//DET os//DET UNK//NOUN non//NOUN UNK//NOUN o//NOUN mesmo//NOUN ,//NOUN os//NOUN UNK//NOUN asasinos//NOUN son//NOUN os//NOUN UNK//NOUN israelís//NOUN mentres//DET que//DET da//DET de//DET a//DET outra//NOUN beira//NOUN só//NOUN hai//NOUN UNK//NOUN pola//NOUN por//NOUN a//ADP liberdade//ADP e//ADP a//NOUN paz//NOUN .//PUNCT\n",
      "--------------------------------------------------------------------------------\n",
      "label:     Non//PART obstante//ADJ ,//PUNCT poderase//_ poderá//VERB se//PRON prescindir//VERB desta//_ de//ADP esta//DET información//NOUN pública//ADJ cando//PRON se//PRON denegue//VERB a//DET autorización//NOUN por//ADP non//PART reunir//VERB os//DET requisitos//NOUN legalmente//ADV exixibles//ADJ para//ADP a//DET cesión//NOUN .//PUNCT\n",
      "predicted: Non//DET obstante//DET ,//NOUN poderase//NOUN poderá//NOUN se//NOUN prescindir//NOUN desta//NOUN de//NOUN esta//NOUN información//NOUN pública//NOUN cando//NOUN se//NOUN denegue//DET a//DET autorización//DET por//DET non//DET reunir//DET os//DET requisitos//NOUN legalmente//NOUN exixibles//ADP para//ADP a//NOUN cesión//NOUN .//PUNCT\n",
      "--------------------------------------------------------------------------------\n",
      "label:     a//ADP o//DET xuro//NOUN legal//ADJ do//_ de//ADP o//DET diñeiro//NOUN ,//PUNCT no//_ en//ADP o//DET caso//NOUN de//ADP realizar//VERB contribucións//NOUN para//ADP a//DET constitución//NOUN do//_ de//ADP o//DET fondo//NOUN UNK//ADJ ,//PUNCT así//ADV como//SCONJ o//DET retorno//NOUN correspondente//ADJ ao//_ a//ADP o//DET resultado//NOUN de//ADP cada//DET exercicio//NOUN .//PUNCT\n",
      "predicted: a//DET o//DET xuro//DET legal//DET do//DET de//DET o//DET diñeiro//DET ,//DET no//NOUN en//NOUN o//NOUN caso//NOUN de//NOUN realizar//NOUN contribucións//NOUN para//NOUN a//NOUN constitución//NOUN do//NOUN de//NOUN o//NOUN fondo//NOUN UNK//NOUN ,//NOUN así//NOUN como//NOUN o//NOUN retorno//DET correspondente//DET ao//DET a//NOUN o//NOUN resultado//_ de//DET cada//DET exercicio//NOUN .//PUNCT\n",
      "--------------------------------------------------------------------------------\n",
      "label:     a//DET UNK//PROPN ,//PUNCT UNK//VERB os//DET mesmos//DET obxectivos//NOUN e//CCONJ pretende//VERB continuar//VERB a//DET estreita//ADJ e//CCONJ UNK//ADJ relación//NOUN do//_ de//ADP o//DET home//NOUN e//CCONJ o//DET mar//NOUN ,//PUNCT UNK//VERB á//_ a//ADP a//DET poboación//NOUN os//DET estudios//NOUN científicos//ADJ UNK//NOUN mediante//ADP a//DET UNK//NOUN e//CCONJ educación//NOUN .//PUNCT\n",
      "predicted: a//DET UNK//NOUN ,//NOUN UNK//NOUN os//NOUN mesmos//NOUN obxectivos//NOUN e//NOUN pretende//NOUN continuar//NOUN a//NOUN estreita//NOUN e//NOUN UNK//NOUN relación//NOUN do//NOUN de//NOUN o//NOUN home//NOUN e//NOUN o//NOUN mar//NOUN ,//NOUN UNK//NOUN á//NOUN a//NOUN a//NOUN poboación//NOUN os//NOUN estudios//NOUN científicos//NOUN UNK//NOUN mediante//NOUN a//NOUN UNK//DET e//NOUN educación//NOUN .//PUNCT\n",
      "--------------------------------------------------------------------------------\n",
      "label:     como//PRON a//DET UNK//NOUN dos//_ de//ADP os//DET centros//NOUN históricos//ADJ ,//PUNCT a//DET oferta//NOUN cultural//ADJ ,//PUNCT a//DET promoción//NOUN común//ADJ de//ADP grandes//ADJ eventos//NOUN e//CCONJ a//DET integración//NOUN do//_ de//ADP o//DET turismo//NOUN urbano//ADJ na//_ en//ADP a//DET rexión//NOUN da//_ de//ADP a//DET que//PRON son//AUX centro//NOUN .//PUNCT\n",
      "predicted: como//DET a//NOUN UNK//NOUN dos//NOUN de//NOUN os//NOUN centros//NOUN históricos//NOUN ,//NOUN a//NOUN oferta//NOUN cultural//NOUN ,//NOUN a//NOUN promoción//NOUN común//NOUN de//NOUN grandes//NOUN eventos//NOUN e//NOUN a//NOUN integración//NOUN do//NOUN de//NOUN o//NOUN turismo//NOUN urbano//NOUN na//NOUN en//NOUN a//NOUN rexión//NOUN da//NOUN de//_ a//ADP que//DET son//NOUN centro//NOUN .//PUNCT\n",
      "--------------------------------------------------------------------------------\n",
      "Epoch 1/5\n"
     ]
    },
    {
     "name": "stdout",
     "output_type": "stream",
     "text": [
      "35/35 [==============================] - 11s 311ms/step - loss: 1.8514 - acc: 0.3359 - val_loss: 1.8633 - val_acc: 0.3437\n",
      "Epoch 2/5\n",
      "35/35 [==============================] - 10s 285ms/step - loss: 1.8073 - acc: 0.3501 - val_loss: 1.8414 - val_acc: 0.3517\n",
      "Epoch 3/5\n",
      "35/35 [==============================] - 10s 285ms/step - loss: 1.7932 - acc: 0.3542 - val_loss: 1.8442 - val_acc: 0.3474\n",
      "Epoch 4/5\n",
      "35/35 [==============================] - 10s 285ms/step - loss: 1.7670 - acc: 0.3609 - val_loss: 1.8349 - val_acc: 0.3502\n",
      "Epoch 5/5\n",
      "35/35 [==============================] - 10s 284ms/step - loss: 1.7381 - acc: 0.3693 - val_loss: 1.8281 - val_acc: 0.3489\n",
      "================================================================================\n",
      "Iteration # 3\n",
      "--------------------------------------------------------------------------------\n",
      "label:     a//DET pensión//NOUN non//PART UNK//ADJ ,//PUNCT e//CCONJ que//PRON se//PRON UNK//_ lle//PRON as//PRON UNK//VERB segundo//ADP a//DET evolución//NOUN do//_ de//ADP o//DET UNK//PROPN ,//PUNCT á//_ a//ADP a//DET hora//NOUN de//ADP UNK//_ fixar//VERB a//DET UNK//NOUN mensual//ADJ da//_ de//ADP a//DET axuda//NOUN básica//ADJ a//ADP percibir//VERB .//PUNCT\n",
      "predicted: a//DET pensión//PUNCT non//PUNCT UNK//PUNCT ,//PUNCT e//VERB que//VERB se//VERB UNK//DET lle//DET as//DET UNK//DET segundo//DET a//DET evolución//DET do//DET de//DET o//DET UNK//DET ,//DET á//DET a//DET a//DET hora//DET de//DET UNK//DET fixar//DET a//DET UNK//DET mensual//ADP da//DET de//DET a//NOUN axuda//_ básica//ADP a//DET percibir//NOUN .//PUNCT\n",
      "--------------------------------------------------------------------------------\n",
      "label:     Este//DET proxecto//NOUN implica//VERB a//DET cinco//NOUN equipos//NOUN de//ADP investigación//NOUN correspondentes//ADJ a//DET cinco//NOUN países//NOUN europeos//ADJ ://PUNCT Galicia//PROPN ,//PUNCT UNK//NOUN ,//PUNCT Irlanda//PROPN ,//PUNCT Francia//PROPN e//CCONJ Holanda//NOUN .//PUNCT\n",
      "predicted: Este//PAD proxecto//DET implica//NOUN a//NOUN cinco//NOUN equipos//NOUN de//NOUN investigación//NOUN correspondentes//NOUN a//NOUN cinco//NOUN países//NOUN europeos//NOUN ://NOUN Galicia//PUNCT ,//PUNCT UNK//PUNCT ,//PUNCT Irlanda//PUNCT ,//PUNCT Francia//CCONJ e//CCONJ Holanda//PUNCT .//PUNCT\n",
      "--------------------------------------------------------------------------------\n",
      "label:     Desde//ADP outra//DET perspectiva//NOUN ,//PUNCT outra//DET liña//NOUN UNK//ADJ é//AUX a//DET que//PRON se//PRON centra//VERB nas//_ en//ADP as//DET políticas//NOUN de//ADP actuación//NOUN vixentes//ADJ que//PRON inciden//VERB na//_ en//ADP a//DET situación//NOUN da//_ de//ADP a//DET poboación//NOUN UNK//ADJ .//PUNCT\n",
      "predicted: Desde//PAD outra//DET perspectiva//NOUN ,//NOUN outra//NOUN liña//NOUN UNK//NOUN é//NOUN a//NOUN que//NOUN se//NOUN centra//DET nas//DET en//NOUN as//NOUN políticas//DET de//DET actuación//NOUN vixentes//VERB que//VERB inciden//VERB na//NOUN en//_ a//ADP situación//DET da//NOUN de//_ a//ADP poboación//DET UNK//NOUN .//PUNCT\n",
      "--------------------------------------------------------------------------------\n",
      "label:     do//_ de//ADP o//DET UNK//NUM Informe//NOUN do//_ de//ADP o//DET UNK//NOUN Español//ADJ sobre//ADP UNK//NOUN e//CCONJ do//_ de//ADP o//DET UNK//NOUN de//ADP Saúde//NOUN e//CCONJ Xuventude//NOUN do//_ de//ADP o//DET Consello//NOUN da//_ de//ADP a//DET Xuventude//NOUN de//ADP España//PROPN ,//PUNCT podemos//VERB observar//VERB as//DET seguintes//ADJ tendencias//NOUN ://PUNCT\n",
      "predicted: do//DET de//DET o//NOUN UNK//ADP Informe//ADP do//ADP de//ADP o//ADP UNK//ADP Español//ADP sobre//ADP UNK//NOUN e//NOUN do//NOUN de//NOUN o//NOUN UNK//NOUN de//NOUN Saúde//NOUN e//NOUN Xuventude//NOUN do//NOUN de//NOUN o//NOUN Consello//NOUN da//NOUN de//NOUN a//NOUN Xuventude//NOUN de//NOUN España//NOUN ,//NOUN podemos//NOUN observar//NOUN as//ADP seguintes//NOUN tendencias//NOUN ://PUNCT\n",
      "--------------------------------------------------------------------------------\n",
      "label:     Na//_ En//ADP a//DET empresa//NOUN pública//ADJ ,//PUNCT o//DET proceso//NOUN UNK//VERB UNK//NOUN ,//PUNCT que//PRON se//PRON define//VERB UNK//ADV como//SCONJ o//DET beneficio//NOUN neto//ADJ non//PART UNK//VERB máis//ADV UNK//NOUN (//PUNCT beneficio//NOUN -//PUNCT impostos//NOUN -//PUNCT UNK//NOUN +//SYM UNK//NOUN )//PUNCT ,//PUNCT é//AUX UNK//ADV inexistente//ADJ .//PUNCT\n",
      "predicted: Na//PAD En//DET a//NOUN empresa//NOUN pública//NOUN ,//NOUN o//NOUN proceso//NOUN UNK//NOUN UNK//NOUN ,//PUNCT que//PUNCT se//PUNCT define//PUNCT UNK//PUNCT como//PUNCT o//PUNCT beneficio//PUNCT neto//PUNCT non//PUNCT UNK//PUNCT máis//PUNCT UNK//PUNCT (//PUNCT beneficio//PUNCT -//PUNCT impostos//PUNCT -//PUNCT UNK//PUNCT +//PUNCT UNK//PUNCT )//PUNCT ,//PUNCT é//PUNCT UNK//PUNCT inexistente//PUNCT .//PUNCT\n",
      "--------------------------------------------------------------------------------\n",
      "Epoch 1/5\n",
      "35/35 [==============================] - 10s 286ms/step - loss: 1.7156 - acc: 0.3762 - val_loss: 1.8391 - val_acc: 0.3510\n",
      "Epoch 2/5\n",
      "35/35 [==============================] - 11s 300ms/step - loss: 1.7031 - acc: 0.3785 - val_loss: 1.8178 - val_acc: 0.3552\n",
      "Epoch 3/5\n",
      "35/35 [==============================] - 10s 295ms/step - loss: 1.6797 - acc: 0.3854 - val_loss: 1.8371 - val_acc: 0.3508\n",
      "Epoch 4/5\n",
      "35/35 [==============================] - 11s 304ms/step - loss: 1.6569 - acc: 0.3914 - val_loss: 1.8085 - val_acc: 0.3557\n",
      "Epoch 5/5\n",
      "35/35 [==============================] - 10s 289ms/step - loss: 1.6369 - acc: 0.3990 - val_loss: 1.8237 - val_acc: 0.3562\n",
      "================================================================================\n",
      "Iteration # 4\n",
      "--------------------------------------------------------------------------------\n",
      "label:     A//DET complexidade//NOUN do//_ de//ADP o//DET noso//DET contorno//NOUN é//VERB tal//DET que//SCONJ este//DET coñecemento//NOUN resulta//VERB UNK//ADJ para//ADP a//DET preparación//NOUN de//ADP políticas//NOUN efectivas//ADJ .//PUNCT\n",
      "predicted: A//NOUN complexidade//NOUN do//NOUN de//NOUN o//NOUN noso//NOUN contorno//NOUN é//PUNCT tal//NOUN que//VERB este//VERB coñecemento//VERB resulta//ADP UNK//NOUN para//NOUN a//ADP preparación//ADP de//NOUN políticas//NOUN efectivas//ADJ .//PUNCT\n",
      "--------------------------------------------------------------------------------\n",
      "label:     O//DET suxeito//NOUN pasivo//ADJ UNK//NOUN do//_ de//ADP o//DET contribuínte//NOUN poderá//VERB solicita-la//_ solicitar//VERB a//DET devolución//NOUN do//_ de//ADP o//DET imposto//NOUN UNK//VERB cando//PRON non//PART sexa//AUX posible//ADJ a//ADP realización//NOUN do//_ de//ADP o//DET xogo//NOUN do//_ de//ADP o//DET UNK//NOUN .//PUNCT\n",
      "predicted: O//DET suxeito//NOUN pasivo//NOUN UNK//NOUN do//NOUN de//NOUN o//NOUN contribuínte//NOUN poderá//NOUN solicita-la//NOUN solicitar//NOUN a//NOUN devolución//NOUN do//NOUN de//NOUN o//NOUN imposto//NOUN UNK//NOUN cando//VERB non//VERB sexa//VERB posible//DET a//NOUN realización//_ do//ADP de//DET o//NOUN xogo//NOUN do//_ de//ADP o//DET UNK//NOUN .//PUNCT\n",
      "--------------------------------------------------------------------------------\n",
      "label:     sendo//AUX os//DET fumadores//NOUN de//ADP 20//NUM e//CCONJ máis//ADV UNK//NOUN dun//_ de//ADP un//DET UNK//NUM %//SYM en//ADP Italia//PROPN ,//PUNCT dun//_ de//ADP un//DET 18//NUM %//SYM no//_ en//ADP o//DET Reino//NOUN Unido//ADJ e//CCONJ dun//_ de//ADP un//DET 13//NUM %//SYM nos//_ en//ADP os//DET Estados//NOUN Unidos//ADJ .//PUNCT\n",
      "predicted: sendo//DET os//NOUN fumadores//NOUN de//NOUN 20//NOUN e//NOUN máis//NOUN UNK//NOUN dun//NOUN de//NOUN un//NOUN UNK//NOUN %//NOUN en//NOUN Italia//NOUN ,//NOUN dun//NOUN de//NOUN un//NOUN 18//NOUN %//NOUN no//NOUN en//_ o//_ Reino//ADP Unido//DET e//NOUN dun//SYM de//_ un//ADP 13//DET %//NOUN nos//_ en//_ os//ADP Estados//DET Unidos//NOUN .//PUNCT\n",
      "--------------------------------------------------------------------------------\n",
      "label:     UNK//NOUN UNK//ADJ que//PRON lle//PRON proporciona//VERB o//DET MA//_ ME//PRON A//PRON ós//_ a//ADP os//DET visitantes//NOUN e//CCONJ valor//NOUN de//ADP conservación//NOUN para//ADP usuarios//NOUN e//CCONJ non//PART usuarios//NOUN para//ADP as//DET UNK//PROPN )//PUNCT correspondentes//ADJ ó//_ a//ADP o//DET excedente//NOUN equivalente//ADJ (//PUNCT Johansson//PROPN ,//PUNCT 1987//NUM )//PUNCT .//PUNCT\n",
      "predicted: UNK//DET UNK//VERB que//VERB lle//NOUN proporciona//NOUN o//NOUN MA//NOUN ME//NOUN A//NOUN ós//NOUN a//NOUN os//NOUN visitantes//NOUN e//NOUN valor//NOUN de//NOUN conservación//NOUN para//NOUN usuarios//NOUN e//NOUN non//NOUN usuarios//NOUN para//NOUN as//NOUN UNK//NOUN )//NOUN correspondentes//NOUN ó//_ a//ADP o//ADP excedente//NOUN equivalente//NOUN (//PUNCT Johansson//PUNCT ,//PUNCT 1987//PUNCT )//PUNCT .//PUNCT\n",
      "--------------------------------------------------------------------------------\n",
      "label:     Unha//DET comunidade//NOUN con//ADP recursos//NOUN e//CCONJ con//ADP sensación//NOUN de//ADP poder//VERB decidir//VERB sobre//ADP os//DET seus//DET problemas//NOUN é//AUX ,//PUNCT en//ADP principio//NOUN ,//PUNCT unha//DET comunidade//NOUN cunha//_ con//ADP unha//DET UNK//NOUN alta//ADJ .//PUNCT\n",
      "predicted: Unha//NOUN comunidade//NOUN con//NOUN recursos//NOUN e//NOUN con//NOUN sensación//NOUN de//NOUN poder//NOUN decidir//NOUN sobre//ADJ os//ADJ seus//ADJ problemas//ADJ é//ADJ ,//ADJ en//PUNCT principio//PUNCT ,//ADJ unha//ADJ comunidade//ADJ cunha//_ con//ADP unha//DET UNK//NOUN alta//ADJ .//PUNCT\n",
      "--------------------------------------------------------------------------------\n",
      "Epoch 1/5\n"
     ]
    },
    {
     "name": "stdout",
     "output_type": "stream",
     "text": [
      "35/35 [==============================] - 10s 291ms/step - loss: 1.6178 - acc: 0.4043 - val_loss: 1.8067 - val_acc: 0.3675\n",
      "Epoch 2/5\n",
      "35/35 [==============================] - 10s 288ms/step - loss: 1.5922 - acc: 0.4132 - val_loss: 1.8251 - val_acc: 0.3574\n",
      "Epoch 3/5\n",
      "35/35 [==============================] - 10s 284ms/step - loss: 1.5740 - acc: 0.4180 - val_loss: 1.8468 - val_acc: 0.3544\n",
      "Epoch 4/5\n",
      "35/35 [==============================] - 10s 284ms/step - loss: 1.5565 - acc: 0.4233 - val_loss: 1.8520 - val_acc: 0.3588\n",
      "Epoch 5/5\n",
      "35/35 [==============================] - 10s 284ms/step - loss: 1.5432 - acc: 0.4309 - val_loss: 1.8660 - val_acc: 0.3502\n",
      "================================================================================\n",
      "Iteration # 5\n",
      "--------------------------------------------------------------------------------\n",
      "label:     diferentes//ADJ UNK//NOUN da//_ de//ADP a//DET UNK//PROPN ,//PUNCT e//CCONJ dicir//VERB ,//PUNCT ao//_ a//ADP o//DET finalizar//VERB o//DET embarazo//NOUN ,//PUNCT con//ADP UNK//NOUN ao//_ a//ADP o//DET parto//NOUN ,//PUNCT e//CCONJ cando//PRON o//DET neno//NOUN UNK//VERB 3//NUM meses//NOUN ,//PUNCT 6//NUM meses//NOUN e//CCONJ 1//NUM ano//NOUN .//PUNCT\n",
      "predicted: diferentes//ADP UNK//ADP da//ADP de//NOUN a//NOUN UNK//NOUN ,//NOUN e//NOUN dicir//DET ,//DET ao//NOUN a//NOUN o//NOUN finalizar//NOUN o//NOUN embarazo//NOUN ,//NOUN con//NOUN UNK//NOUN ao//NOUN a//NOUN o//ADP parto//NOUN ,//NOUN e//PUNCT cando//PUNCT o//PUNCT neno//ADP UNK//DET 3//NOUN meses//PUNCT ,//PUNCT 6//PUNCT meses//CCONJ e//CCONJ 1//CCONJ ano//NUM .//PUNCT\n",
      "--------------------------------------------------------------------------------\n",
      "label:     O//DET coeficiente//NOUN de//ADP variación//NOUN de//ADP UNK//PROPN evidencia//VERB que//SCONJ a//DET dispersión//NOUN relativa//ADJ no//_ en//ADP o//DET crecemento//NOUN rexional//ADJ (//PUNCT UNK//PROPN )//PUNCT é//AUX maior//ADJ que//SCONJ a//DET dispersión//NOUN no//_ en//ADP o//DET ámbito//NOUN nacional//ADJ (//PUNCT UNK//NUM )//PUNCT .//PUNCT\n",
      "predicted: O//DET coeficiente//NOUN de//NOUN variación//NOUN de//NOUN UNK//NOUN evidencia//NOUN que//NOUN a//NOUN dispersión//NOUN relativa//ADP no//ADP en//NOUN o//NOUN crecemento//NOUN rexional//NOUN (//NOUN UNK//PUNCT )//PUNCT é//PUNCT maior//PUNCT que//PUNCT a//NOUN dispersión//ADJ no//_ en//ADP o//DET ámbito//NOUN nacional//NOUN (//NUM UNK//NUM )//PUNCT .//PUNCT\n",
      "--------------------------------------------------------------------------------\n",
      "label:     UNK//_ UNK//VERB a//DET adaptación//NOUN da//_ de//ADP a//DET Política//NOUN de//ADP productos//NOUN integrada//VERB proposta//NOUN pola//_ por//ADP a//DET Comisión//NOUN á//_ a//ADP a//DET realidade//NOUN galega//ADJ mediante//ADP a//DET creación//NOUN dunha//_ de//ADP unha//DET estratexia//NOUN ad//PROPN UNK//PROPN .//PUNCT\n",
      "predicted: UNK//DET UNK//DET a//NOUN adaptación//NOUN da//NOUN de//ADP a//ADP Política//ADP de//ADP productos//ADP integrada//ADP proposta//ADP pola//ADP por//ADP a//NOUN Comisión//NOUN á//DET a//NOUN a//_ realidade//ADP galega//DET mediante//DET a//NOUN creación//ADP dunha//DET de//DET unha//ADP estratexia//ADP ad//NOUN UNK//ADJ .//PUNCT\n",
      "--------------------------------------------------------------------------------\n",
      "label:     Así//ADV mesmo//ADV ,//PUNCT tamén//ADV se//PRON ha//VERB de//ADP incluír//VERB calquera//DET outro//DET tipo//NOUN de//ADP actividade//NOUN que//PRON se//PRON leve//VERB a//DET cabo//NOUN dentro//ADV da//_ de//ADP a//DET instalación//NOUN .//PUNCT\n",
      "predicted: Así//ADV mesmo//ADV ,//VERB tamén//NOUN se//NOUN ha//NOUN de//NOUN incluír//NOUN calquera//NOUN outro//NOUN tipo//DET de//DET actividade//DET que//DET se//ADV leve//ADV a//ADV cabo//ADV dentro//NOUN da//_ de//ADP a//DET instalación//NOUN .//PUNCT\n",
      "--------------------------------------------------------------------------------\n",
      "label:     Tecnoloxías//NOUN e//CCONJ prácticas//NOUN que//PRON UNK//VERB a//DET nosa//DET capacidade//NOUN de//ADP produción//NOUN UNK//ADJ no//_ en//ADP o//DET futuro//NOUN ,//PUNCT UNK//VERB o//DET UNK//NOUN e//CCONJ poñen//VERB en//ADP perigo//NOUN nosa//DET saúde//NOUN .//PUNCT\n",
      "predicted: Tecnoloxías//DET e//VERB prácticas//VERB que//VERB UNK//VERB a//VERB nosa//NOUN capacidade//NOUN de//NOUN produción//VERB UNK//VERB no//ADP en//DET o//NOUN futuro//_ ,//ADP UNK//DET o//NOUN UNK//PUNCT e//CCONJ poñen//CCONJ en//CCONJ perigo//DET nosa//DET saúde//NOUN .//PUNCT\n",
      "--------------------------------------------------------------------------------\n",
      "Epoch 1/5\n",
      "35/35 [==============================] - 10s 285ms/step - loss: 1.5230 - acc: 0.4352 - val_loss: 1.8475 - val_acc: 0.3617\n",
      "Epoch 2/5\n",
      "35/35 [==============================] - 10s 285ms/step - loss: 1.5120 - acc: 0.4399 - val_loss: 1.8617 - val_acc: 0.3513\n",
      "Epoch 3/5\n",
      "35/35 [==============================] - 10s 293ms/step - loss: 1.4903 - acc: 0.4470 - val_loss: 1.8590 - val_acc: 0.3600\n",
      "Epoch 4/5\n",
      "35/35 [==============================] - 11s 309ms/step - loss: 1.4715 - acc: 0.4543 - val_loss: 1.8765 - val_acc: 0.3626\n",
      "Epoch 5/5\n",
      "35/35 [==============================] - 10s 295ms/step - loss: 1.4495 - acc: 0.4625 - val_loss: 1.9223 - val_acc: 0.3514\n",
      "================================================================================\n",
      "Iteration # 6\n",
      "--------------------------------------------------------------------------------\n",
      "label:     historia//NOUN de//ADP Galicia//PROPN UNK//VERB co//_ con//ADP o//DET asentamento//NOUN dos//_ de//ADP os//DET UNK//NOUN ,//PUNCT \"//PUNCT UNK//NOUN y//NOUN UNK//NOUN de//ADP una//VERB población//NOUN que//PRON UNK//VERB UNK//NOUN UNK//ADJ en//ADP el//PRON UNK//NOUN las//NOUN UNK//NOUN UNK//ADJ de//ADP la//NOUN raza//NOUN á//NOUN que//PRON UNK//VERB \"//PUNCT .//PUNCT\n",
      "predicted: historia//NOUN de//NOUN Galicia//NOUN UNK//ADP co//ADP con//ADP o//ADP asentamento//ADP dos//ADP de//ADP os//ADP UNK//ADP ,//ADP \"//NOUN UNK//NOUN y//NOUN UNK//NOUN de//NOUN una//NOUN población//NOUN que//VERB UNK//VERB UNK//VERB UNK//VERB en//ADP el//ADP UNK//DET las//NOUN UNK//_ UNK//_ de//ADP la//DET raza//NOUN á//VERB que//VERB UNK//NOUN \"//ADJ .//PUNCT\n",
      "--------------------------------------------------------------------------------\n",
      "label:     Estes//DET criterios//NOUN -//PUNCT UNK//ADJ e//CCONJ UNK//ADJ UNK//_ UNK//VERB se//PRON na//_ en//ADP a//DET UNK//NOUN da//_ de//ADP a//DET comisión//NOUN para//ADP concesión//NOUN da//_ de//ADP a//DET UNK//NOUN ecolóxica//ADJ comunitaria//ADJ aos//_ a//ADP os//DET servizos//NOUN de//ADP aloxamento//NOUN turístico//ADJ .//PUNCT\n",
      "predicted: Estes//PAD criterios//PUNCT -//PUNCT UNK//PUNCT e//ADJ UNK//VERB UNK//VERB UNK//DET se//DET na//DET en//_ a//_ UNK//_ da//DET de//DET a//NOUN comisión//NOUN para//_ concesión//_ da//DET de//DET a//NOUN UNK//_ ecolóxica//_ comunitaria//ADP aos//DET a//NOUN os//_ servizos//ADP de//DET aloxamento//NOUN turístico//ADJ .//PUNCT\n",
      "--------------------------------------------------------------------------------\n",
      "label:     ,//PUNCT De//ADP UNK//PROPN di//VERB Marco//NOUN _//SYM e//CCONJ UNK//ADJ _//SYM UNK//PROPN e//CCONJ UNK//PROPN _//SYM UNK//VERB xa//ADV a//DET cuestión//NOUN ,//PUNCT que//PRON alcanzou//VERB _//SYM a//DET formulación//NOUN máis//ADV UNK//ADJ _//SYM (//PUNCT UNK//PROPN ,//PUNCT UNK//PROPN ,//PUNCT p//NOUN .//PUNCT UNK//NUM )//PUNCT con//ADP UNK//PROPN .//PUNCT\n",
      "predicted: ,//NOUN De//NOUN UNK//NOUN di//PUNCT Marco//PUNCT _//PUNCT e//NOUN UNK//NOUN _//NOUN UNK//NOUN e//NOUN UNK//NOUN _//NOUN UNK//NOUN xa//NOUN a//PUNCT cuestión//PUNCT ,//PUNCT que//PUNCT alcanzou//PUNCT _//PUNCT a//PUNCT formulación//PUNCT máis//PUNCT UNK//PUNCT _//PUNCT (//PUNCT UNK//PUNCT ,//PUNCT UNK//PUNCT ,//PUNCT p//PUNCT .//PUNCT UNK//PUNCT )//ADP con//NOUN UNK//PUNCT .//PUNCT\n",
      "--------------------------------------------------------------------------------\n",
      "label:     o//DET Valedor//NOUN do//_ de//ADP o//DET Pobo//NOUN a//ADP extracción//NOUN de//ADP pedra//NOUN dos//_ de//ADP os//DET montes//NOUN de//ADP UNK//NOUN e//CCONJ UNK//NOUN ,//PUNCT que//PRON finalmente//ADV se//PRON UNK//VERB gracias//NOUN á//_ a//ADP a//DET UNK//PROPN do//_ de//ADP o//DET colectivo//NOUN social//ADJ da//_ de//ADP a//DET comarca//NOUN .//PUNCT\n",
      "predicted: o//NOUN Valedor//NOUN do//NOUN de//ADP o//ADP Pobo//ADP a//ADP extracción//ADP de//NOUN pedra//NOUN dos//NOUN de//NOUN os//NOUN montes//ADP de//ADP UNK//NOUN e//NOUN UNK//NOUN ,//PRON que//PRON finalmente//PRON se//PRON UNK//VERB gracias//NOUN á//ADP a//DET a//NOUN UNK//_ do//ADP de//DET o//NOUN colectivo//NOUN social//_ da//ADP de//DET a//NOUN comarca//NOUN .//PUNCT\n",
      "--------------------------------------------------------------------------------\n",
      "label:     UNK//NOUN UNK//PROPN ,//PUNCT unha//DET aérea//ADJ e//CCONJ outra//DET UNK//ADJ ,//PUNCT de//ADP UNK//NUM m//NOUN e//CCONJ 30//NUM m//NOUN de//ADP lonxitude//NOUN respectivamente//ADV ,//PUNCT ambas//DET con//ADP orixe//NOUN no//_ en//ADP o//DET UNK//PROPN proxectado//VERB .//PUNCT\n",
      "predicted: UNK//PAD UNK//ADP ,//PUNCT unha//PUNCT aérea//VERB e//VERB outra//VERB UNK//VERB ,//NOUN de//NOUN UNK//NOUN m//ADP e//ADP 30//NOUN m//NOUN de//PUNCT lonxitude//ADP respectivamente//ADP ,//NOUN ambas//ADP con//ADP orixe//NOUN no//_ en//ADP o//DET UNK//NOUN proxectado//NOUN .//PUNCT\n",
      "--------------------------------------------------------------------------------\n"
     ]
    }
   ],
   "source": [
    "for i in range(NUM_ITERATIONS):    \n",
    "    history = Bidirectional_POS_TAGGER.fit_generator(train_gen, \n",
    "                                  steps_per_epoch=num_train_samples, \n",
    "                                  epochs=NUM_EPOCHS,\n",
    "                                  validation_data=test_gen, \n",
    "                                  validation_steps=num_test_samples)\n",
    "    # save off history data\n",
    "    hist_acc.extend(history.history[\"acc\"])\n",
    "    hist_val_acc.extend(history.history[\"val_acc\"])\n",
    "    hist_loss.extend(history.history[\"loss\"])\n",
    "    hist_val_loss.extend(history.history[\"val_loss\"])\n",
    "    \n",
    "    # Проиллюстрируем некоторые примеры разметки\n",
    "    \n",
    "    Xtest, Ytest = next(test_gen)\n",
    "    Ytest_ = Bidirectional_POS_TAGGER.predict(Xtest)\n",
    "    ytest = np.argmax(Ytest, axis=2)\n",
    "    ytest_ = np.argmax(Ytest_, axis=2)\n",
    "    \n",
    "    print(\"=\" * 80)\n",
    "    print(\"Iteration # {:d}\".format(i + 1))\n",
    "    print(\"-\" * 80)\n",
    "    for i in range(min(5, Ytest.shape[0])):\n",
    "        sent_ids = Xtest[i]\n",
    "        sent_words = [s_index2word[x] for x in sent_ids.tolist()]\n",
    "        pos_labels = [t_index2word[x] for x in ytest[i].tolist()]\n",
    "        pos_preds = [t_index2word[x] for x in ytest_[i].tolist()]\n",
    "        triples = [x for x in zip(sent_words, pos_labels, pos_preds)\n",
    "            if x[0] != \"PAD\"]\n",
    "        print(\"label:     \" + \" \".join([x[0] +\"//\"+x[1].upper() \n",
    "            for x in triples]))\n",
    "        print(\"predicted: \" + \" \".join([x[0] +\"//\"+x[2].upper() \n",
    "            for x in triples]))\n",
    "        print(\"-\" * 80)"
   ]
  },
  {
   "cell_type": "code",
   "execution_count": 25,
   "metadata": {},
   "outputs": [
    {
     "data": {
      "image/png": "[encoded data removed]",
      "text/plain": [
       "<Figure size 864x576 with 2 Axes>"
      ]
     },
     "metadata": {
      "needs_background": "light"
     },
     "output_type": "display_data"
    }
   ],
   "source": [
    "# plot loss and accuracy\n",
    "plot_model_performance(history.history[\"loss\"], history.history[\"acc\"], history.history[\"val_loss\"], history.history[\"val_acc\"])"
   ]
  },
  {
   "cell_type": "markdown",
   "metadata": {},
   "source": [
    "## 3. GRU"
   ]
  },
  {
   "cell_type": "code",
   "execution_count": 26,
   "metadata": {},
   "outputs": [],
   "source": [
    "train_gen = generate_batch(sents_word, s_word2index, sents_pos,\n",
    "                           t_word2index, BATCH_SIZE, MAX_SEQLEN)\n",
    "test_gen = generate_batch(test_sents_word, s_word2index, test_sents_pos,\n",
    "                          t_word2index, BATCH_SIZE, MAX_SEQLEN)"
   ]
  },
  {
   "cell_type": "code",
   "execution_count": 27,
   "metadata": {},
   "outputs": [],
   "source": [
    "sents_word, word_frequencies, sents_pos, pos_frequencies = parsed_sentences(train_conll_fname)\n",
    "test_sents_word, test_word_frequencies, test_sents_pos, test_pos_frequencies = parsed_sentences(test_conll_fname)"
   ]
  },
  {
   "cell_type": "code",
   "execution_count": 28,
   "metadata": {},
   "outputs": [],
   "source": [
    "hist_acc, hist_val_acc, hist_loss, hist_val_loss = [], [], [], []"
   ]
  },
  {
   "cell_type": "code",
   "execution_count": 29,
   "metadata": {},
   "outputs": [],
   "source": [
    "GRU_POS_TAGGER = build_pos_tagger_GRU()"
   ]
  },
  {
   "cell_type": "code",
   "execution_count": 30,
   "metadata": {},
   "outputs": [
    {
     "name": "stdout",
     "output_type": "stream",
     "text": [
      "Epoch 1/5\n",
      "35/35 [==============================] - 10s 294ms/step - loss: 2.5450 - acc: 0.1841 - val_loss: 2.3718 - val_acc: 0.2190\n",
      "Epoch 2/5\n",
      "35/35 [==============================] - 6s 175ms/step - loss: 2.3191 - acc: 0.2348 - val_loss: 2.2798 - val_acc: 0.2433\n",
      "Epoch 3/5\n",
      "35/35 [==============================] - 7s 190ms/step - loss: 2.2225 - acc: 0.2574 - val_loss: 2.1876 - val_acc: 0.2718\n",
      "Epoch 4/5\n",
      "35/35 [==============================] - 6s 178ms/step - loss: 2.1415 - acc: 0.2761 - val_loss: 2.0967 - val_acc: 0.2945\n",
      "Epoch 5/5\n",
      "35/35 [==============================] - 6s 170ms/step - loss: 2.0989 - acc: 0.2837 - val_loss: 2.0522 - val_acc: 0.3054\n",
      "================================================================================\n",
      "Iteration # 1\n",
      "--------------------------------------------------------------------------------\n",
      "label:     UNK//_ UNK//VERB a//DET adaptación//NOUN da//_ de//ADP a//DET Política//NOUN de//ADP productos//NOUN integrada//VERB proposta//NOUN pola//_ por//ADP a//DET Comisión//NOUN á//_ a//ADP a//DET realidade//NOUN galega//ADJ mediante//ADP a//DET creación//NOUN dunha//_ de//ADP unha//DET estratexia//NOUN ad//PROPN UNK//PROPN .//PUNCT\n",
      "predicted: UNK//NOUN UNK//NOUN a//NOUN adaptación//NOUN da//NOUN de//NOUN a//NOUN Política//NOUN de//NOUN productos//NOUN integrada//NOUN proposta//NOUN pola//NOUN por//NOUN a//NOUN Comisión//NOUN á//NOUN a//NOUN a//NOUN realidade//NOUN galega//NOUN mediante//NOUN a//NOUN creación//NOUN dunha//NOUN de//NOUN unha//NOUN estratexia//NOUN ad//NOUN UNK//NOUN .//NOUN\n",
      "--------------------------------------------------------------------------------\n",
      "label:     Os//DET pacientes//NOUN foron//AUX maioritariamente//ADV homes//NOUN (//PUNCT 64//NUM %//SYM )//PUNCT de//ADP idade//NOUN media//ADJ 57//NUM anos//NOUN [//PUNCT UNK//NUM ]//PUNCT e//CCONJ só//ADV en//ADP catro//NOUN deles//_ de//ADP eles//PRON figuran//VERB antecedentes//NOUN de//ADP trastornos//NOUN UNK//ADJ asociados//VERB a//ADP UNK//PROPN .//PUNCT\n",
      "predicted: Os//NOUN pacientes//NOUN foron//NOUN maioritariamente//NOUN homes//NOUN (//NOUN 64//NOUN %//NOUN )//NOUN de//NOUN idade//NOUN media//NOUN 57//NOUN anos//NOUN [//NOUN UNK//NOUN ]//NOUN e//NOUN só//NOUN en//NOUN catro//NOUN deles//NOUN de//NOUN eles//NOUN figuran//NOUN antecedentes//NOUN de//NOUN trastornos//NOUN UNK//NOUN asociados//NOUN a//NOUN UNK//NOUN .//NOUN\n",
      "--------------------------------------------------------------------------------\n",
      "label:     que//SCONJ fosen//VERB UNK//VERB deste//_ de//ADP este//DET cargo//NOUN dentro//ADV dos//_ de//ADP os//DET dous//NOUN anos//NOUN anteriores//ADJ ,//PUNCT nin//CCONJ os//DET que//PRON se//PRON encontren//VERB UNK//VERB ,//PUNCT conforme//ADV o//DET artigo//NOUN UNK//NUM ,//PUNCT por//ADP sentencia//NOUN UNK//ADJ de//ADP UNK//NOUN de//ADP contas//NOUN en//ADP concurso//NOUN anterior//ADJ .//PUNCT\n",
      "predicted: que//DET fosen//NOUN UNK//NOUN deste//NOUN de//NOUN este//NOUN cargo//NOUN dentro//NOUN dos//NOUN de//NOUN os//NOUN dous//NOUN anos//NOUN anteriores//NOUN ,//NOUN nin//NOUN os//NOUN que//NOUN se//NOUN encontren//NOUN UNK//NOUN ,//NOUN conforme//NOUN o//NOUN artigo//NOUN UNK//NOUN ,//NOUN por//NOUN sentencia//NOUN UNK//NOUN de//NOUN UNK//NOUN de//NOUN contas//NOUN en//NOUN concurso//NOUN anterior//NOUN .//NOUN\n",
      "--------------------------------------------------------------------------------\n",
      "label:     que//SCONJ UNK//VERB que//SCONJ ,//PUNCT como//PRON xa//ADV apuntamos//VERB antes//ADV ,//PUNCT a//DET UNK//NOUN como//PRON fenómeno//NOUN social//ADJ prodúcese//_ produce//VERB se//PRON pola//_ por//ADP a//DET combinación//NOUN de//ADP tres//NOUN factores//NOUN ://PUNCT baixa//ADJ taxa//NOUN de//ADP natalidade//NOUN ,//PUNCT baixa//ADJ taxa//NOUN de//ADP mortalidade//NOUN e//CCONJ movementos//NOUN migratorios//ADJ .//PUNCT\n",
      "predicted: que//PAD UNK//PAD que//NOUN ,//NOUN como//NOUN xa//NOUN apuntamos//NOUN antes//NOUN ,//NOUN a//NOUN UNK//NOUN como//NOUN fenómeno//NOUN social//NOUN prodúcese//NOUN produce//NOUN se//NOUN pola//NOUN por//NOUN a//NOUN combinación//NOUN de//NOUN tres//NOUN factores//NOUN ://NOUN baixa//NOUN taxa//NOUN de//NOUN natalidade//NOUN ,//NOUN baixa//NOUN taxa//NOUN de//NOUN mortalidade//NOUN e//NOUN movementos//NOUN migratorios//NOUN .//NOUN\n",
      "--------------------------------------------------------------------------------\n",
      "label:     a//DET lexislación//NOUN en//ADP vigor//NOUN e//CCONJ lograr//VERB a//DET integración//NOUN dos//_ de//ADP os//DET obxectivos//NOUN comunitarios//ADJ de//ADP calidade//NOUN da//_ de//ADP a//DET auga//NOUN nas//_ en//ADP as//DET demais//DET políticas//NOUN sectoriais//ADJ ,//PUNCT tais//NOUN como//PRON a//DET agricultura//NOUN ,//PUNCT a//DET industria//NOUN e//CCONJ a//DET política//NOUN rexional//ADJ .//PUNCT\n",
      "predicted: a//NOUN lexislación//NOUN en//NOUN vigor//NOUN e//NOUN lograr//NOUN a//NOUN integración//NOUN dos//NOUN de//NOUN os//NOUN obxectivos//NOUN comunitarios//NOUN de//NOUN calidade//NOUN da//NOUN de//NOUN a//NOUN auga//NOUN nas//NOUN en//NOUN as//NOUN demais//NOUN políticas//NOUN sectoriais//NOUN ,//NOUN tais//NOUN como//NOUN a//NOUN agricultura//NOUN ,//NOUN a//NOUN industria//NOUN e//NOUN a//NOUN política//NOUN rexional//NOUN .//NOUN\n",
      "--------------------------------------------------------------------------------\n",
      "Epoch 1/5\n",
      "35/35 [==============================] - 6s 165ms/step - loss: 2.0703 - acc: 0.2871 - val_loss: 2.0364 - val_acc: 0.3027\n",
      "Epoch 2/5\n",
      "35/35 [==============================] - 6s 171ms/step - loss: 2.0545 - acc: 0.2892 - val_loss: 2.0438 - val_acc: 0.3008\n",
      "Epoch 3/5\n",
      "35/35 [==============================] - 6s 170ms/step - loss: 2.0400 - acc: 0.2900 - val_loss: 2.0235 - val_acc: 0.3050\n",
      "Epoch 4/5\n",
      "35/35 [==============================] - 6s 164ms/step - loss: 2.0232 - acc: 0.2935 - val_loss: 2.0290 - val_acc: 0.3054\n",
      "Epoch 5/5\n",
      "35/35 [==============================] - 6s 171ms/step - loss: 2.0321 - acc: 0.2895 - val_loss: 2.0094 - val_acc: 0.3107\n",
      "================================================================================\n",
      "Iteration # 2\n",
      "--------------------------------------------------------------------------------\n",
      "label:     UNK//NOUN UNK//VERB en//ADP instalacións//NOUN UNK//ADJ ,//PUNCT a//DET través//NOUN do//_ de//ADP o//DET Rexistro//NOUN de//ADP UNK//NOUN UNK//ADJ de//ADP Galicia//PROPN (//PUNCT UNK//NOUN provinciais//ADJ da//_ de//ADP a//DET Consellería//NOUN de//ADP UNK//NOUN e//CCONJ Comercio//NOUN )//PUNCT e//CCONJ das//_ de//ADP as//DET propias//DET instalacións//NOUN .//PUNCT\n",
      "predicted: UNK//NOUN UNK//NOUN en//NOUN instalacións//NOUN UNK//NOUN ,//NOUN a//NOUN través//NOUN do//NOUN de//NOUN o//NOUN Rexistro//NOUN de//NOUN UNK//NOUN UNK//NOUN de//NOUN Galicia//NOUN (//NOUN UNK//NOUN provinciais//NOUN da//NOUN de//NOUN a//NOUN Consellería//NOUN de//NOUN UNK//NOUN e//NOUN Comercio//NOUN )//NOUN e//NOUN das//NOUN de//NOUN as//NOUN propias//NOUN instalacións//NOUN .//NOUN\n",
      "--------------------------------------------------------------------------------\n",
      "label:     radiación//NOUN de//ADP UNK//NOUN curta//ADJ ,//PUNCT a//DET terra//NOUN UNK//VERB o//DET espacio//NOUN radiación//NOUN de//ADP UNK//NOUN longa//ADJ ou//CCONJ UNK//ADJ ,//PUNCT principalmente//ADV en//ADP UNK//NOUN comprendidas//VERB entre//ADP os//DET 5//NUM e//CCONJ os//DET 80//NUM UNK//PROPN ,//PUNCT co//_ con//ADP o//DET seu//DET máximo//NOUN a//ADP 10//NUM UNK//PROPN .//PUNCT\n",
      "predicted: radiación//NOUN de//NOUN UNK//NOUN curta//NOUN ,//NOUN a//NOUN terra//NOUN UNK//NOUN o//NOUN espacio//NOUN radiación//NOUN de//NOUN UNK//NOUN longa//NOUN ou//NOUN UNK//NOUN ,//NOUN principalmente//NOUN en//NOUN UNK//NOUN comprendidas//NOUN entre//NOUN os//NOUN 5//NOUN e//NOUN os//NOUN 80//NOUN UNK//NOUN ,//NOUN co//NOUN con//NOUN o//NOUN seu//NOUN máximo//NOUN a//NOUN 10//NOUN UNK//NOUN .//NOUN\n",
      "--------------------------------------------------------------------------------\n",
      "label:     Cando//PRON se//PRON fala//VERB de//ADP patróns//NOUN de//ADP uso//NOUN de//ADP servizos//NOUN entre//ADP os//DET internautas//NOUN ,//PUNCT como//PRON xa//ADV quedou//VERB de//ADP manifesto//NOUN para//ADP os//DET servizos//NOUN básicos//ADJ ou//CCONJ o//DET comercio//NOUN electrónico//ADJ ,//PUNCT existen//VERB moi//ADV leves//ADJ diferenzas//NOUN entre//ADP as//DET diferentes//ADJ comunidades//NOUN autónomas//ADJ .//PUNCT\n",
      "predicted: Cando//PAD se//NOUN fala//NOUN de//NOUN patróns//NOUN de//NOUN uso//NOUN de//NOUN servizos//NOUN entre//NOUN os//NOUN internautas//NOUN ,//NOUN como//NOUN xa//NOUN quedou//NOUN de//NOUN manifesto//NOUN para//NOUN os//NOUN servizos//NOUN básicos//NOUN ou//NOUN o//NOUN comercio//NOUN electrónico//NOUN ,//NOUN existen//NOUN moi//NOUN leves//NOUN diferenzas//NOUN entre//NOUN as//NOUN diferentes//NOUN comunidades//NOUN autónomas//NOUN .//NOUN\n",
      "--------------------------------------------------------------------------------\n",
      "label:     en//ADP que//SCONJ ata//ADP 1989//NUM se//PRON dá//VERB un//DET comportamento//NOUN relativamente//ADV UNK//ADJ nas//_ en//ADP as//DET políticas//NOUN de//ADP endebedamento//NOUN das//_ de//ADP as//DET CC.//NOUN AA.//ADJ ,//PUNCT UNK//_ producindo//VERB se//PRON de//ADP novo//ADP unha//DET certa//DET converxencia//NOUN a//ADP partir//VERB do//_ de//ADP o//DET ano//NOUN 1992//NUM .//PUNCT\n",
      "predicted: en//PAD que//DET ata//DET 1989//NOUN se//NOUN dá//NOUN un//NOUN comportamento//NOUN relativamente//NOUN UNK//NOUN nas//ADP en//ADP as//ADP políticas//ADP de//ADP endebedamento//ADP das//ADP de//ADP as//ADP CC.//ADP AA.//ADP ,//ADP UNK//ADP producindo//ADP se//ADP de//ADP novo//ADP unha//ADP certa//ADP converxencia//ADP a//ADP partir//ADP do//ADP de//ADP o//ADP ano//ADP 1992//ADP .//ADP\n",
      "--------------------------------------------------------------------------------\n",
      "label:     vez//NOUN UNK//VERB a//DET correspondente//ADJ proposta//NOUN mediante//ADP UNK//NOUN motivada//VERB ,//PUNCT UNK//_ UNK//VERB se//PRON ao//_ a//ADP o//DET UNK//NOUN xeral//ADJ ,//PUNCT quen//PRON elevará//VERB proposta//NOUN de//ADP resolución//NOUN ao//_ a//ADP o//DET conselleiro//NOUN de//ADP Xustiza//NOUN ,//PUNCT Interior//ADJ e//CCONJ Administración//NOUN Local//ADJ ,//PUNCT quen//PRON resolverá//VERB .//PUNCT\n",
      "predicted: vez//NOUN UNK//NOUN a//NOUN correspondente//NOUN proposta//NOUN mediante//NOUN UNK//NOUN motivada//NOUN ,//NOUN UNK//NOUN UNK//NOUN se//NOUN ao//NOUN a//NOUN o//NOUN UNK//NOUN xeral//NOUN ,//NOUN quen//NOUN elevará//NOUN proposta//NOUN de//NOUN resolución//NOUN ao//NOUN a//PUNCT o//PUNCT conselleiro//PUNCT de//PUNCT Xustiza//PUNCT ,//PUNCT Interior//PUNCT e//PUNCT Administración//PUNCT Local//PUNCT ,//PUNCT quen//PUNCT resolverá//PUNCT .//PUNCT\n",
      "--------------------------------------------------------------------------------\n",
      "Epoch 1/5\n"
     ]
    },
    {
     "name": "stdout",
     "output_type": "stream",
     "text": [
      "35/35 [==============================] - 6s 175ms/step - loss: 2.0065 - acc: 0.2950 - val_loss: 2.0155 - val_acc: 0.3047\n",
      "Epoch 2/5\n",
      "35/35 [==============================] - 6s 164ms/step - loss: 2.0121 - acc: 0.2935 - val_loss: 2.0327 - val_acc: 0.3010\n",
      "Epoch 3/5\n",
      "35/35 [==============================] - 6s 159ms/step - loss: 1.9999 - acc: 0.2969 - val_loss: 1.9913 - val_acc: 0.3123\n",
      "Epoch 4/5\n",
      "35/35 [==============================] - 6s 162ms/step - loss: 1.9917 - acc: 0.2978 - val_loss: 2.0052 - val_acc: 0.3101\n",
      "Epoch 5/5\n",
      "35/35 [==============================] - 5s 155ms/step - loss: 1.9825 - acc: 0.3003 - val_loss: 2.0152 - val_acc: 0.3005\n",
      "================================================================================\n",
      "Iteration # 3\n",
      "--------------------------------------------------------------------------------\n",
      "label:     lei//NOUN mantén//VERB os//DET criterios//NOUN xerais//ADJ para//ADP a//DET atribución//NOUN da//_ de//ADP a//DET competencia//NOUN territorial//ADJ ,//PUNCT sen//ADP UNK//VERB UNK//ADV os//DET UNK//NOUN especiais//ADJ por//ADP razón//NOUN da//_ de//ADP a//DET materia//NOUN e//CCONJ sen//ADP converter//VERB todas//DET esas//DET regras//NOUN en//ADP disposicións//NOUN de//ADP aplicación//NOUN necesaria//ADJ .//PUNCT\n",
      "predicted: lei//PAD mantén//DET os//NOUN criterios//NOUN xerais//NOUN para//NOUN a//NOUN atribución//NOUN da//NOUN de//NOUN a//NOUN competencia//NOUN territorial//NOUN ,//NOUN sen//NOUN UNK//NOUN UNK//NOUN os//NOUN UNK//NOUN especiais//NOUN por//NOUN razón//NOUN da//NOUN de//NOUN a//NOUN materia//NOUN e//NOUN sen//NOUN converter//NOUN todas//NOUN esas//NOUN regras//NOUN en//NOUN disposicións//NOUN de//NOUN aplicación//NOUN necesaria//NOUN .//NOUN\n",
      "--------------------------------------------------------------------------------\n",
      "label:     A//DET vacinación//NOUN consiste//VERB nunha//_ en//ADP unha//DET soa//ADJ dose//NOUN no//_ en//ADP o//DET momento//NOUN elixido//VERB ,//PUNCT logo//ADV do//_ de//ADP o//DET estudio//NOUN UNK//ADJ dos//_ de//ADP os//DET anticorpos//NOUN para//ADP comprobar//VERB que//SCONJ a//DET interesada//NOUN non//PART UNK//VERB a//DET enfermidade//NOUN .//PUNCT\n",
      "predicted: A//DET vacinación//DET consiste//NOUN nunha//NOUN en//NOUN unha//NOUN soa//NOUN dose//NOUN no//NOUN en//NOUN o//NOUN momento//NOUN elixido//NOUN ,//NOUN logo//NOUN do//NOUN de//NOUN o//NOUN estudio//NOUN UNK//NOUN dos//NOUN de//NOUN os//NOUN anticorpos//NOUN para//NOUN comprobar//NOUN que//NOUN a//NOUN interesada//NOUN non//NOUN UNK//NOUN a//PUNCT enfermidade//PUNCT .//PUNCT\n",
      "--------------------------------------------------------------------------------\n",
      "label:     a//DET traballadora//NOUN ten//VERB dereito//NOUN a//ADP solicitar//VERB o//DET UNK//NOUN á//_ a//ADP a//DET situación//NOUN de//ADP suspensión//NOUN do//_ de//ADP o//DET contrato//NOUN de//ADP traballo//NOUN por//ADP risco//NOUN durante//ADP o//DET embarazo//NOUN prevista//VERB no//_ en//ADP o//DET art.//NOUN UNK//NUM d//NOUN )//PUNCT do//_ de//ADP o//DET UNK//PROPN .//PUNCT\n",
      "predicted: a//NOUN traballadora//NOUN ten//NOUN dereito//NOUN a//NOUN solicitar//NOUN o//NOUN UNK//NOUN á//NOUN a//NOUN a//NOUN situación//NOUN de//NOUN suspensión//NOUN do//NOUN de//NOUN o//NOUN contrato//ADP de//ADP traballo//ADP por//ADP risco//ADP durante//ADP o//ADP embarazo//NOUN prevista//NOUN no//NOUN en//NOUN o//NOUN art.//NOUN UNK//NOUN d//NOUN )//NOUN do//NOUN de//NOUN o//PUNCT UNK//PUNCT .//PUNCT\n",
      "--------------------------------------------------------------------------------\n",
      "label:     Os//DET recursos//NOUN forestais//ADJ teñen//VERB unha//DET especial//ADJ importancia//NOUN en//ADP Galicia//PROPN ,//PUNCT polo//_ por//ADP o//DET que//PRON a//PRON teñen//VERB igualmente//ADV os//DET recursos//NOUN UNK//ADJ implicados//VERB no//_ en//ADP o//DET UNK//NOUN do//_ de//ADP o//DET conxunto//NOUN do//_ de//ADP o//DET sector//NOUN forestal//ADJ .//PUNCT\n",
      "predicted: Os//DET recursos//DET forestais//NOUN teñen//NOUN unha//NOUN especial//NOUN importancia//NOUN en//NOUN Galicia//NOUN ,//NOUN polo//NOUN por//ADP o//ADP que//ADP a//ADP teñen//ADP igualmente//ADP os//ADP recursos//ADP UNK//ADP implicados//ADP no//ADP en//ADP o//ADP UNK//NOUN do//NOUN de//NOUN o//NOUN conxunto//NOUN do//NOUN de//NOUN o//PUNCT sector//PUNCT forestal//PUNCT .//PUNCT\n",
      "--------------------------------------------------------------------------------\n",
      "label:     Tamén//ADV a//DET forma//NOUN de//ADP executar//VERB estas//DET accións//NOUN de//ADP mellora//NOUN pode//VERB ser//AUX moi//ADV variable//ADJ ,//PUNCT xa//ADV que//SCONJ UNK//VERB da//_ de//ADP a//DET súa//DET UNK//NOUN e//CCONJ ,//PUNCT en//ADP boa//ADJ medida//NOUN ,//PUNCT do//_ de//ADP o//DET grao//NOUN de//ADP compromiso//NOUN que//PRON supoñan//VERB .//PUNCT\n",
      "predicted: Tamén//DET a//DET forma//NOUN de//NOUN executar//NOUN estas//NOUN accións//NOUN de//NOUN mellora//NOUN pode//NOUN ser//NOUN moi//NOUN variable//NOUN ,//NOUN xa//NOUN que//NOUN UNK//NOUN da//NOUN de//NOUN a//NOUN súa//NOUN UNK//NOUN e//NOUN ,//NOUN en//NOUN boa//NOUN medida//NOUN ,//NOUN do//NOUN de//NOUN o//NOUN grao//NOUN de//NOUN compromiso//PUNCT que//PUNCT supoñan//PUNCT .//PUNCT\n",
      "--------------------------------------------------------------------------------\n",
      "Epoch 1/5\n",
      "35/35 [==============================] - 5s 155ms/step - loss: 1.9692 - acc: 0.3021 - val_loss: 2.0052 - val_acc: 0.3095\n",
      "Epoch 2/5\n",
      "35/35 [==============================] - 6s 168ms/step - loss: 1.9756 - acc: 0.2994 - val_loss: 2.0016 - val_acc: 0.3073\n",
      "Epoch 3/5\n",
      "35/35 [==============================] - 5s 151ms/step - loss: 1.9546 - acc: 0.3053 - val_loss: 2.0253 - val_acc: 0.3013\n",
      "Epoch 4/5\n",
      "35/35 [==============================] - 6s 163ms/step - loss: 1.9534 - acc: 0.3042 - val_loss: 1.9881 - val_acc: 0.3144\n",
      "Epoch 5/5\n",
      "35/35 [==============================] - 6s 162ms/step - loss: 1.9313 - acc: 0.3101 - val_loss: 1.9953 - val_acc: 0.3109\n",
      "================================================================================\n",
      "Iteration # 4\n",
      "--------------------------------------------------------------------------------\n",
      "label:     Todo//DET o//DET persoal//NOUN ten//VERB que//SCONJ recibir//VERB dúas//NOUN UNK//NOUN ou//CCONJ UNK//NOUN ao//_ a//ADP o//DET entrar//VERB na//_ en//ADP a//DET empresa//NOUN por//ADP primeira//ADJ vez//NOUN e//CCONJ unha//DET peza//NOUN de//ADP roupa//NOUN máis//ADV cada//DET seis//NOUN meses//NOUN .//PUNCT\n",
      "predicted: Todo//DET o//NOUN persoal//NOUN ten//NOUN que//NOUN recibir//NOUN dúas//NOUN UNK//NOUN ou//NOUN UNK//NOUN ao//NOUN a//NOUN o//NOUN entrar//NOUN na//NOUN en//NOUN a//NOUN empresa//NOUN por//NOUN primeira//NOUN vez//NOUN e//NOUN unha//NOUN peza//NOUN de//NOUN roupa//NOUN máis//NOUN cada//NOUN seis//NOUN meses//NOUN .//PUNCT\n",
      "--------------------------------------------------------------------------------\n",
      "label:     Pola//_ Por//ADP a//DET súa//DET banda//NOUN ,//PUNCT Aragón//PROPN permite//VERB que//SCONJ os//DET menores//NOUN de//ADP idade//NOUN que//PRON teñan//VERB cargas//NOUN familiares//ADJ podan//VERB UNK//_ solicitar//VERB o//DET ingreso//NOUN UNK//ADJ de//ADP inserción//NOUN .//PUNCT\n",
      "predicted: Pola//DET Por//NOUN a//NOUN súa//NOUN banda//NOUN ,//NOUN Aragón//NOUN permite//NOUN que//NOUN os//NOUN menores//NOUN de//NOUN idade//NOUN que//NOUN teñan//NOUN cargas//NOUN familiares//NOUN podan//NOUN UNK//NOUN solicitar//NOUN o//NOUN ingreso//NOUN UNK//NOUN de//NOUN inserción//NOUN .//NOUN\n",
      "--------------------------------------------------------------------------------\n",
      "label:     UNK//ADJ anos//NOUN ,//PUNCT está//AUX UNK//ADJ maioritariamente//ADV no//_ en//ADP o//DET sistema//NOUN público//ADJ de//ADP I+D//PROPN e//CCONJ en//ADP particular//NOUN nas//_ en//ADP as//DET universidades//NOUN ,//PUNCT que//PRON teñen//VERB ademais//ADV a//DET responsabilidade//NOUN dunha//_ de//ADP unha//DET gran//ADJ parte//NOUN do//_ de//ADP o//DET capital//NOUN UNK//ADJ necesario//ADJ .//PUNCT\n",
      "predicted: UNK//NOUN anos//NOUN ,//NOUN está//NOUN UNK//NOUN maioritariamente//NOUN no//NOUN en//NOUN o//NOUN sistema//NOUN público//NOUN de//NOUN I+D//NOUN e//NOUN en//NOUN particular//NOUN nas//NOUN en//NOUN as//NOUN universidades//NOUN ,//NOUN que//NOUN teñen//NOUN ademais//NOUN a//NOUN responsabilidade//NOUN dunha//NOUN de//NOUN unha//NOUN gran//NOUN parte//NOUN do//NOUN de//NOUN o//NOUN capital//PUNCT UNK//PUNCT necesario//PUNCT .//PUNCT\n",
      "--------------------------------------------------------------------------------\n",
      "label:     a//DET traballadora//NOUN ten//VERB dereito//NOUN a//ADP solicitar//VERB o//DET UNK//NOUN á//_ a//ADP a//DET situación//NOUN de//ADP suspensión//NOUN do//_ de//ADP o//DET contrato//NOUN de//ADP traballo//NOUN por//ADP risco//NOUN durante//ADP o//DET embarazo//NOUN prevista//VERB no//_ en//ADP o//DET art.//NOUN UNK//NUM d//NOUN )//PUNCT do//_ de//ADP o//DET UNK//PROPN .//PUNCT\n",
      "predicted: a//NOUN traballadora//DET ten//NOUN dereito//NOUN a//NOUN solicitar//NOUN o//NOUN UNK//NOUN á//NOUN a//NOUN a//NOUN situación//NOUN de//NOUN suspensión//NOUN do//NOUN de//NOUN o//NOUN contrato//NOUN de//NOUN traballo//NOUN por//NOUN risco//NOUN durante//NOUN o//NOUN embarazo//NOUN prevista//NOUN no//NOUN en//NOUN o//NOUN art.//NOUN UNK//NOUN d//NOUN )//NOUN do//NOUN de//PUNCT o//PUNCT UNK//PUNCT .//PUNCT\n",
      "--------------------------------------------------------------------------------\n",
      "label:     A//ADP esta//DET demanda//NOUN tamén//ADV responde//VERB a//DET celebración//NOUN en//ADP curso//NOUN (//PUNCT Xenebra//NOUN 2003//NUM -//PUNCT UNK//PROPN 2005//NUM )//PUNCT do//_ de//ADP o//DET Cumio//NOUN Mundial//ADJ da//_ de//ADP a//DET Sociedade//NOUN da//_ de//ADP a//DET Información//NOUN (//PUNCT UNK//PROPN )//PUNCT 5//NUM .//PUNCT\n",
      "predicted: A//DET esta//NOUN demanda//NOUN tamén//NOUN responde//NOUN a//NOUN celebración//NOUN en//NOUN curso//NOUN (//NOUN Xenebra//NOUN 2003//NOUN -//NOUN UNK//NOUN 2005//NOUN )//NOUN do//NOUN de//NOUN o//NOUN Cumio//NOUN Mundial//NOUN da//NOUN de//ADP a//ADP Sociedade//ADP da//ADP de//NOUN a//NOUN Información//NOUN (//NOUN UNK//NOUN )//PUNCT 5//PUNCT .//PUNCT\n",
      "--------------------------------------------------------------------------------\n",
      "Epoch 1/5\n"
     ]
    },
    {
     "name": "stdout",
     "output_type": "stream",
     "text": [
      "35/35 [==============================] - 6s 166ms/step - loss: 1.9295 - acc: 0.3093 - val_loss: 1.9895 - val_acc: 0.3106\n",
      "Epoch 2/5\n",
      "35/35 [==============================] - 6s 172ms/step - loss: 1.9234 - acc: 0.3101 - val_loss: 1.9932 - val_acc: 0.3107\n",
      "Epoch 3/5\n",
      "35/35 [==============================] - 6s 160ms/step - loss: 1.9117 - acc: 0.3127 - val_loss: 1.9727 - val_acc: 0.3136\n",
      "Epoch 4/5\n",
      "35/35 [==============================] - 5s 156ms/step - loss: 1.8930 - acc: 0.3179 - val_loss: 1.9939 - val_acc: 0.3086\n",
      "Epoch 5/5\n",
      "35/35 [==============================] - 5s 153ms/step - loss: 1.8931 - acc: 0.3162 - val_loss: 1.9856 - val_acc: 0.3100\n",
      "================================================================================\n",
      "Iteration # 5\n",
      "--------------------------------------------------------------------------------\n",
      "label:     un//DET elevado//ADJ grao//NOUN de//ADP especialización//NOUN en//ADP Irlanda//PROPN na//_ en//ADP a//DET industria//NOUN da//_ de//ADP a//DET alimentación//NOUN e//CCONJ en//ADP industrias//NOUN intensivas//ADJ en//ADP capital//NOUN humano//ADJ ,//PUNCT fundamentalmente//ADV nas//_ en//ADP as//DET industrias//NOUN de//ADP productos//NOUN químicos//ADJ ,//PUNCT maquinaria//NOUN eléctrica//ADJ e//CCONJ equipo//NOUN profesional//ADJ .//PUNCT\n",
      "predicted: un//NOUN elevado//ADJ grao//ADJ de//ADJ especialización//ADJ en//ADJ Irlanda//ADJ na//ADJ en//ADJ a//ADJ industria//ADJ da//ADJ de//ADJ a//ADJ alimentación//ADJ e//ADJ en//ADJ industrias//ADJ intensivas//ADJ en//ADJ capital//ADJ humano//ADJ ,//ADJ fundamentalmente//ADJ nas//ADJ en//ADJ as//ADJ industrias//ADJ de//ADJ productos//ADJ químicos//ADJ ,//ADJ maquinaria//ADJ eléctrica//ADJ e//ADJ equipo//PUNCT profesional//PUNCT .//PUNCT\n",
      "--------------------------------------------------------------------------------\n",
      "label:     En//ADP toda//DET historia//NOUN clínica//ADJ de//ADP persoas//NOUN de//ADP 14//NUM ou//CCONJ máis//ADV anos//NOUN de//ADP idade//NOUN que//PRON UNK//VERB a//DET consulta//NOUN no//_ en//ADP o//DET último//ADJ ano//NOUN ,//PUNCT quedará//VERB rexistrado//VERB .//PUNCT\n",
      "predicted: En//NOUN toda//NOUN historia//NOUN clínica//NOUN de//NOUN persoas//NOUN de//NOUN 14//NOUN ou//NOUN máis//NOUN anos//NOUN de//NOUN idade//NOUN que//NOUN UNK//NOUN a//NOUN consulta//NOUN no//NOUN en//NOUN o//NOUN último//NOUN ano//NOUN ,//NOUN quedará//NOUN rexistrado//PUNCT .//PUNCT\n",
      "--------------------------------------------------------------------------------\n",
      "label:     reparto//VERB espacial//ADJ das//_ de//ADP as//DET precipitacións//NOUN queda//VERB UNK//VERB polas//_ por//ADP as//DET formas//NOUN UNK//ADJ provocando//VERB rexistros//NOUN elevados//ADJ nas//_ en//ADP as//DET UNK//NOUN a//ADP UNK//NOUN dos//_ de//ADP os//DET UNK//NOUN das//_ de//ADP as//DET Rías//NOUN Baixas//ADJ e//CCONJ da//_ de//ADP a//DET UNK//ADJ Galega//ADJ .//PUNCT\n",
      "predicted: reparto//NOUN espacial//NOUN das//NOUN de//ADP as//ADP precipitacións//ADP queda//ADP UNK//ADP polas//ADP por//ADP as//ADP formas//ADP UNK//ADP provocando//ADP rexistros//ADP elevados//ADP nas//ADP en//ADP as//ADP UNK//ADP a//ADP UNK//ADP dos//ADP de//ADP os//ADP UNK//ADP das//ADP de//ADP as//ADP Rías//ADP Baixas//ADP e//ADP da//NOUN de//NOUN a//NOUN UNK//NOUN Galega//PUNCT .//PUNCT\n",
      "--------------------------------------------------------------------------------\n",
      "label:     Algúns//DET dos//_ de//ADP os//DET informes//NOUN UNK//VERB do//_ de//ADP o//DET Concello//NOUN de//ADP UNK//PROPN parecen//VERB ofrecer//VERB a//DET clave//NOUN ou//CCONJ unha//DET das//_ de//ADP as//DET UNK//NOUN do//_ de//ADP o//DET problema//NOUN UNK//VERB nesta//_ en//ADP esta//DET queixa//NOUN .//PUNCT\n",
      "predicted: Algúns//DET dos//NOUN de//NOUN os//NOUN informes//NOUN UNK//NOUN do//NOUN de//NOUN o//NOUN Concello//NOUN de//NOUN UNK//NOUN parecen//NOUN ofrecer//NOUN a//NOUN clave//NOUN ou//NOUN unha//NOUN das//NOUN de//DET as//DET UNK//DET do//ADP de//ADP o//ADP problema//ADP UNK//ADP nesta//ADP en//DET esta//NOUN queixa//NOUN .//PUNCT\n",
      "--------------------------------------------------------------------------------\n",
      "label:     UNK//NOUN ,//PUNCT a//DET UNK//NUM ,//PUNCT que//PRON foi//VERB detectada//VERB por//ADP vez//NOUN primeira//ADJ en//ADP Galicia//PROPN na//_ en//ADP a//DET tempada//NOUN UNK//NUM e//CCONJ dende//ADP a//DET tempada//NOUN UNK//NUM e//CCONJ a//DET única//ADJ do//_ de//ADP o//DET serogrupo//PROPN C//NOUN UNK//VERB nos//_ en//ADP os//DET illados//VERB UNK//VERB .//PUNCT\n",
      "predicted: UNK//NOUN ,//NOUN a//NOUN UNK//NOUN ,//ADP que//ADP foi//ADP detectada//ADP por//ADP vez//ADP primeira//ADP en//ADP Galicia//NOUN na//NOUN en//NOUN a//NOUN tempada//NOUN UNK//NOUN e//NOUN dende//NOUN a//NOUN tempada//NOUN UNK//NOUN e//NOUN a//NOUN única//NOUN do//ADP de//ADP o//DET serogrupo//DET C//DET UNK//DET nos//DET en//NOUN os//NOUN illados//NOUN UNK//PUNCT .//PUNCT\n",
      "--------------------------------------------------------------------------------\n",
      "Epoch 1/5\n",
      "35/35 [==============================] - 5s 153ms/step - loss: 1.8935 - acc: 0.3158 - val_loss: 1.9637 - val_acc: 0.3188\n",
      "Epoch 2/5\n",
      "35/35 [==============================] - 5s 156ms/step - loss: 1.8935 - acc: 0.3154 - val_loss: 1.9886 - val_acc: 0.3073\n",
      "Epoch 3/5\n",
      "35/35 [==============================] - 6s 160ms/step - loss: 1.8761 - acc: 0.3185 - val_loss: 1.9541 - val_acc: 0.3253\n",
      "Epoch 4/5\n",
      "35/35 [==============================] - 5s 152ms/step - loss: 1.8627 - acc: 0.3239 - val_loss: 1.9647 - val_acc: 0.3146\n",
      "Epoch 5/5\n",
      "35/35 [==============================] - 6s 167ms/step - loss: 1.8666 - acc: 0.3200 - val_loss: 1.9536 - val_acc: 0.3225\n",
      "================================================================================\n",
      "Iteration # 6\n",
      "--------------------------------------------------------------------------------\n",
      "label:     UNK//NOUN UNK//VERB en//ADP instalacións//NOUN UNK//ADJ ,//PUNCT a//DET través//NOUN do//_ de//ADP o//DET Rexistro//NOUN de//ADP UNK//NOUN UNK//ADJ de//ADP Galicia//PROPN (//PUNCT UNK//NOUN provinciais//ADJ da//_ de//ADP a//DET Consellería//NOUN de//ADP UNK//NOUN e//CCONJ Comercio//NOUN )//PUNCT e//CCONJ das//_ de//ADP as//DET propias//DET instalacións//NOUN .//PUNCT\n",
      "predicted: UNK//DET UNK//NOUN en//NOUN instalacións//NOUN UNK//NOUN ,//NOUN a//NOUN través//NOUN do//NOUN de//NOUN o//NOUN Rexistro//NOUN de//NOUN UNK//NOUN UNK//NOUN de//NOUN Galicia//NOUN (//NOUN UNK//NOUN provinciais//NOUN da//NOUN de//NOUN a//NOUN Consellería//NOUN de//ADP UNK//ADP e//ADP Comercio//ADP )//ADP e//ADP das//ADP de//ADP as//ADP propias//NOUN instalacións//NOUN .//PUNCT\n",
      "--------------------------------------------------------------------------------\n",
      "label:     UNK//NOUN UNK//VERB UNK//NOUN galegos//ADJ da//_ de//ADP a//DET emigración//NOUN a//ADP Europa//PROPN e//CCONJ América//PROPN ,//PUNCT UNK//NOUN de//ADP titulados//NOUN UNK//ADJ UNK//VERB na//_ en//ADP a//DET procura//NOUN do//_ de//ADP o//DET seu//DET primeiro//ADJ emprego//NOUN .//PUNCT\n",
      "predicted: UNK//DET UNK//NOUN UNK//NOUN galegos//NOUN da//NOUN de//NOUN a//NOUN emigración//NOUN a//NOUN Europa//NOUN e//NOUN América//NOUN ,//NOUN UNK//NOUN de//NOUN titulados//NOUN UNK//NOUN UNK//NOUN na//NOUN en//NOUN a//NOUN procura//NOUN do//NOUN de//ADP o//NOUN seu//NOUN primeiro//NOUN emprego//NOUN .//PUNCT\n",
      "--------------------------------------------------------------------------------\n",
      "label:     Este//DET sistema//NOUN UNK//VERB UNK//VERB un//DET novo//ADJ modelo//NOUN de//ADP aprendizaxe//NOUN baseada//VERB na//_ en//ADP a//DET aprendizaxe//NOUN do//_ de//ADP o//DET UNK//NOUN e//CCONJ non//PART nas//_ en//ADP as//DET horas//NOUN UNK//ADJ ou//CCONJ docentes//ADJ como//PRON se//PRON fai//VERB agora//ADV .//PUNCT\n",
      "predicted: Este//DET sistema//DET UNK//NOUN UNK//NOUN un//NOUN novo//NOUN modelo//DET de//DET aprendizaxe//DET baseada//DET na//DET en//DET a//DET aprendizaxe//DET do//DET de//NOUN o//NOUN UNK//NOUN e//NOUN non//NOUN nas//NOUN en//VERB as//VERB horas//VERB UNK//VERB ou//DET docentes//DET como//DET se//NOUN fai//NOUN agora//NOUN .//PUNCT\n",
      "--------------------------------------------------------------------------------\n",
      "label:     Os//DET lodos//NOUN UNK//ADJ procedentes//ADJ do//_ de//ADP o//DET tratamento//NOUN UNK//ADJ das//_ de//ADP as//DET correntes//NOUN residuais//ADJ da//_ de//ADP a//DET instalación//NOUN UNK//_ UNK//VERB se//PRON en//ADP contedores//NOUN específicos//ADJ .//PUNCT\n",
      "predicted: Os//DET lodos//NOUN UNK//NOUN procedentes//NOUN do//NOUN de//NOUN o//NOUN tratamento//NOUN UNK//NOUN das//NOUN de//NOUN as//NOUN correntes//NOUN residuais//NOUN da//NOUN de//NOUN a//NOUN instalación//ADP UNK//ADP UNK//ADP se//ADP en//NOUN contedores//NOUN específicos//NOUN .//PUNCT\n",
      "--------------------------------------------------------------------------------\n",
      "label:     De//ADP UNK//VERB o//DET dito//VERB día//NOUN en//ADP UNK//NOUN ou//CCONJ UNK//ADJ o//DET prazo//NOUN para//ADP a//DET presentación//NOUN das//_ de//ADP as//DET propostas//NOUN UNK//VERB o//DET primeiro//ADJ día//NOUN UNK//ADJ seguinte//ADJ .//PUNCT\n",
      "predicted: De//DET UNK//NOUN o//NOUN dito//NOUN día//NOUN en//NOUN UNK//NOUN ou//NOUN UNK//NOUN o//NOUN prazo//NOUN para//NOUN a//NOUN presentación//NOUN das//NOUN de//NOUN as//NOUN propostas//NOUN UNK//NOUN o//NOUN primeiro//NOUN día//NOUN UNK//NOUN seguinte//NOUN .//PUNCT\n",
      "--------------------------------------------------------------------------------\n"
     ]
    }
   ],
   "source": [
    "for i in range(NUM_ITERATIONS):    \n",
    "    history = GRU_POS_TAGGER.fit_generator(train_gen, \n",
    "                                  steps_per_epoch=num_train_samples, \n",
    "                                  epochs=NUM_EPOCHS,\n",
    "                                  validation_data=test_gen, \n",
    "                                  validation_steps=num_test_samples)\n",
    "    # save off history data\n",
    "    hist_acc.extend(history.history[\"acc\"])\n",
    "    hist_val_acc.extend(history.history[\"val_acc\"])\n",
    "    hist_loss.extend(history.history[\"loss\"])\n",
    "    hist_val_loss.extend(history.history[\"val_loss\"])\n",
    "    \n",
    "    # Проиллюстрируем некоторые примеры разметки\n",
    "    \n",
    "    Xtest, Ytest = next(test_gen)\n",
    "    Ytest_ = GRU_POS_TAGGER.predict(Xtest)\n",
    "    ytest = np.argmax(Ytest, axis=2)\n",
    "    ytest_ = np.argmax(Ytest_, axis=2)\n",
    "    \n",
    "    print(\"=\" * 80)\n",
    "    print(\"Iteration # {:d}\".format(i + 1))\n",
    "    print(\"-\" * 80)\n",
    "    for i in range(min(5, Ytest.shape[0])):\n",
    "        sent_ids = Xtest[i]\n",
    "        sent_words = [s_index2word[x] for x in sent_ids.tolist()]\n",
    "        pos_labels = [t_index2word[x] for x in ytest[i].tolist()]\n",
    "        pos_preds = [t_index2word[x] for x in ytest_[i].tolist()]\n",
    "        triples = [x for x in zip(sent_words, pos_labels, pos_preds)\n",
    "            if x[0] != \"PAD\"]\n",
    "        print(\"label:     \" + \" \".join([x[0] +\"//\"+x[1].upper() \n",
    "            for x in triples]))\n",
    "        print(\"predicted: \" + \" \".join([x[0] +\"//\"+x[2].upper() \n",
    "            for x in triples]))\n",
    "        print(\"-\" * 80)"
   ]
  },
  {
   "cell_type": "code",
   "execution_count": 31,
   "metadata": {},
   "outputs": [
    {
     "data": {
      "image/png": "[encoded data removed]",
      "text/plain": [
       "<Figure size 864x576 with 2 Axes>"
      ]
     },
     "metadata": {
      "needs_background": "light"
     },
     "output_type": "display_data"
    }
   ],
   "source": [
    "# plot loss and accuracy\n",
    "plot_model_performance(history.history[\"loss\"], history.history[\"acc\"], history.history[\"val_loss\"], history.history[\"val_acc\"])"
   ]
  },
  {
   "cell_type": "markdown",
   "metadata": {},
   "source": [
    "## 4. SimpleRNN"
   ]
  },
  {
   "cell_type": "code",
   "execution_count": 32,
   "metadata": {},
   "outputs": [],
   "source": [
    "train_gen = generate_batch(sents_word, s_word2index, sents_pos,\n",
    "                           t_word2index, BATCH_SIZE, MAX_SEQLEN)\n",
    "test_gen = generate_batch(test_sents_word, s_word2index, test_sents_pos,\n",
    "                          t_word2index, BATCH_SIZE, MAX_SEQLEN)"
   ]
  },
  {
   "cell_type": "code",
   "execution_count": 33,
   "metadata": {},
   "outputs": [],
   "source": [
    "sents_word, word_frequencies, sents_pos, pos_frequencies = parsed_sentences(train_conll_fname)\n",
    "test_sents_word, test_word_frequencies, test_sents_pos, test_pos_frequencies = parsed_sentences(test_conll_fname)"
   ]
  },
  {
   "cell_type": "code",
   "execution_count": 34,
   "metadata": {},
   "outputs": [],
   "source": [
    "hist_acc, hist_val_acc, hist_loss, hist_val_loss = [], [], [], []"
   ]
  },
  {
   "cell_type": "code",
   "execution_count": 35,
   "metadata": {},
   "outputs": [
    {
     "name": "stdout",
     "output_type": "stream",
     "text": [
      "Epoch 1/5\n",
      "35/35 [==============================] - 7s 191ms/step - loss: 2.3361 - acc: 0.2380 - val_loss: 2.1227 - val_acc: 0.2911\n",
      "Epoch 2/5\n",
      "35/35 [==============================] - 3s 93ms/step - loss: 2.1293 - acc: 0.2806 - val_loss: 2.0790 - val_acc: 0.2954\n",
      "Epoch 3/5\n",
      "35/35 [==============================] - 3s 82ms/step - loss: 2.0967 - acc: 0.2841 - val_loss: 2.0687 - val_acc: 0.2964\n",
      "Epoch 4/5\n",
      "35/35 [==============================] - 3s 85ms/step - loss: 2.0803 - acc: 0.2859 - val_loss: 2.0688 - val_acc: 0.2953\n",
      "Epoch 5/5\n",
      "35/35 [==============================] - 3s 85ms/step - loss: 2.0556 - acc: 0.2894 - val_loss: 2.0549 - val_acc: 0.2981\n",
      "================================================================================\n",
      "Iteration # 1\n",
      "--------------------------------------------------------------------------------\n",
      "label:     A//DET porcentaxe//NOUN de//ADP hospitalizacións//NOUN UNK//VERB por//ADP UNK//NOUN procedentes//ADJ de//ADP fóra//ADV de//ADP Galicia//PROPN con//ADP problemas//NOUN do//_ de//ADP o//DET aparello//NOUN UNK//ADJ foi//AUX de//ADP UNK//NUM ;//PUNCT sendo//VERB en//ADP 1997//NUM e//CCONJ 1998//NUM de//ADP UNK//NUM (//PUNCT ver//VERB anexo//NOUN II//PROPN )//PUNCT .//PUNCT\n",
      "predicted: A//NOUN porcentaxe//NOUN de//NOUN hospitalizacións//NOUN UNK//NOUN por//NOUN UNK//NOUN procedentes//NOUN de//NOUN fóra//NOUN de//NOUN Galicia//NOUN con//NOUN problemas//NOUN do//NOUN de//NOUN o//NOUN aparello//NOUN UNK//NOUN foi//NOUN de//NOUN UNK//NOUN ;//NOUN sendo//NOUN en//NOUN 1997//NOUN e//NOUN 1998//NOUN de//NOUN UNK//NOUN (//NOUN ver//NOUN anexo//NOUN II//NOUN )//NOUN .//NOUN\n",
      "--------------------------------------------------------------------------------\n",
      "label:     loitar//VERB en//ADP ambas//DET frontes//NOUN ,//PUNCT é//AUX dicir//VERB acadar//VERB unha//DET mellor//ADJ e//CCONJ máis//ADV eficaz//ADJ xestión//NOUN dos//_ de//ADP os//DET procesos//NOUN crónicos//ADJ e//CCONJ ó//_ a//ADP o//DET mesmo//DET tempo//NOUN xerar//VERB unha//DET mellor//ADJ calidade//NOUN do//_ de//ADP o//DET seguimento//NOUN do//_ de//ADP o//DET paciente//NOUN .//PUNCT\n",
      "predicted: loitar//DET en//DET ambas//DET frontes//DET ,//NOUN é//NOUN dicir//NOUN acadar//NOUN unha//NOUN mellor//NOUN e//NOUN máis//NOUN eficaz//NOUN xestión//NOUN dos//NOUN de//NOUN os//NOUN procesos//NOUN crónicos//NOUN e//NOUN ó//NOUN a//NOUN o//NOUN mesmo//NOUN tempo//NOUN xerar//NOUN unha//NOUN mellor//NOUN calidade//NOUN do//NOUN de//NOUN o//NOUN seguimento//NOUN do//NOUN de//NOUN o//NOUN paciente//NOUN .//NOUN\n",
      "--------------------------------------------------------------------------------\n",
      "label:     UNK//VERB o//DET ///PUNCT a//DET UNK//ADJ ///PUNCT a//DET da//_ de//ADP a//DET unidade//NOUN de//ADP cribado//NOUN ou//CCONJ o//DET médico//NOUN asociado//VERB UNK//ADJ para//ADP que//SCONJ informe//NOUN a//ADP familia//NOUN ,//PUNCT UNK//_ UNK//VERB lle//PRON a//DET carta//NOUN de//ADP UNK//NOUN .//PUNCT\n",
      "predicted: UNK//PAD o//DET ///NOUN a//NOUN UNK//NOUN ///NOUN a//NOUN da//NOUN de//NOUN a//NOUN unidade//NOUN de//NOUN cribado//NOUN ou//NOUN o//NOUN médico//NOUN asociado//NOUN UNK//NOUN para//NOUN que//NOUN informe//NOUN a//NOUN familia//NOUN ,//NOUN UNK//NOUN UNK//NOUN lle//NOUN a//NOUN carta//NOUN de//NOUN UNK//NOUN .//NOUN\n",
      "--------------------------------------------------------------------------------\n",
      "label:     os//DET UNK//NOUN de//ADP enerxía//NOUN eléctrica//ADJ que//PRON se//PRON producen//VERB na//_ en//ADP a//DET instalación//NOUN ,//PUNCT tendo//VERB en//ADP conta//NOUN os//DET UNK//NOUN de//ADP enerxía//NOUN que//PRON se//PRON mostran//VERB no//_ en//ADP o//DET apartado//NOUN UNK//NUM do//_ de//ADP o//DET capítulo//NOUN 5//NUM deste//_ de//ADP este//DET documento//NOUN .//PUNCT\n",
      "predicted: os//DET UNK//DET de//NOUN enerxía//DET eléctrica//ADP que//NOUN se//NOUN producen//NOUN na//NOUN en//NOUN a//NOUN instalación//NOUN ,//NOUN tendo//NOUN en//NOUN conta//NOUN os//NOUN UNK//NOUN de//NOUN enerxía//NOUN que//NOUN se//NOUN mostran//NOUN no//NOUN en//NOUN o//NOUN apartado//NOUN UNK//NOUN do//NOUN de//NOUN o//NOUN capítulo//NOUN 5//NOUN deste//NOUN de//NOUN este//NOUN documento//NOUN .//NOUN\n",
      "--------------------------------------------------------------------------------\n",
      "label:     Para//ADP a//DET avaliación//NOUN da//_ de//ADP a//DET colocación//NOUN e//CCONJ dispoñibilidade//NOUN do//_ de//ADP o//DET material//NOUN UNK//_ UNK//VERB se//PRON a//DET existencia//NOUN do//_ de//ADP o//DET mesmo//DET ,//PUNCT necesaria//ADJ para//ADP poder//VERB cumprir//VERB as//DET medidas//NOUN de//ADP barreira//NOUN á//_ a//ADP a//DET transmisión//NOUN .//PUNCT\n",
      "predicted: Para//DET a//NOUN avaliación//NOUN da//NOUN de//NOUN a//NOUN colocación//NOUN e//NOUN dispoñibilidade//NOUN do//NOUN de//NOUN o//NOUN material//NOUN UNK//NOUN UNK//NOUN se//NOUN a//NOUN existencia//NOUN do//NOUN de//NOUN o//NOUN mesmo//NOUN ,//NOUN necesaria//NOUN para//NOUN poder//NOUN cumprir//NOUN as//NOUN medidas//NOUN de//NOUN barreira//NOUN á//NOUN a//NOUN a//NOUN transmisión//NOUN .//NOUN\n",
      "--------------------------------------------------------------------------------\n",
      "Epoch 1/5\n",
      "35/35 [==============================] - 3s 96ms/step - loss: 2.0136 - acc: 0.2972 - val_loss: 2.0605 - val_acc: 0.2958\n",
      "Epoch 2/5\n",
      "35/35 [==============================] - 3s 94ms/step - loss: 1.9966 - acc: 0.2975 - val_loss: 2.0630 - val_acc: 0.2909\n",
      "Epoch 3/5\n",
      "35/35 [==============================] - 3s 84ms/step - loss: 1.9905 - acc: 0.2955 - val_loss: 2.0720 - val_acc: 0.2958\n",
      "Epoch 4/5\n",
      "35/35 [==============================] - 3s 98ms/step - loss: 1.9912 - acc: 0.2949 - val_loss: 2.0857 - val_acc: 0.2875\n",
      "Epoch 5/5\n",
      "35/35 [==============================] - 3s 86ms/step - loss: 1.9754 - acc: 0.2991 - val_loss: 2.0669 - val_acc: 0.2928\n",
      "================================================================================\n",
      "Iteration # 2\n",
      "--------------------------------------------------------------------------------\n",
      "label:     Deste//_ De//ADP este//DET xeito//NOUN ,//PUNCT o//DET obxectivo//NOUN principal//ADJ desta//_ de//ADP esta//DET análise//NOUN é//AUX obter//VERB información//NOUN que//PRON UNK//VERB unha//DET orde//NOUN de//ADP magnitude//NOUN sobre//ADP os//DET impactos//NOUN que//PRON o//DET produto//NOUN en//ADP cuestión//NOUN produce//VERB sobre//ADP o//DET medio//ADJ ambiente//NOUN .//PUNCT\n",
      "predicted: Deste//PAD De//DET este//NOUN xeito//NOUN ,//NOUN o//NOUN obxectivo//NOUN principal//NOUN desta//NOUN de//NOUN esta//NOUN análise//NOUN é//NOUN obter//NOUN información//NOUN que//NOUN UNK//NOUN unha//NOUN orde//NOUN de//NOUN magnitude//NOUN sobre//NOUN os//NOUN impactos//NOUN que//NOUN o//NOUN produto//NOUN en//NOUN cuestión//NOUN produce//NOUN sobre//NOUN o//NOUN medio//NOUN ambiente//NOUN .//NOUN\n",
      "--------------------------------------------------------------------------------\n",
      "label:     UNK//NOUN UNK//VERB en//ADP que//SCONJ se//PRON UNK//VERB a//DET súa//DET UNK//NOUN e//CCONJ necesidade//NOUN ,//PUNCT e//CCONJ ,//PUNCT en//ADP todo//DET caso//NOUN ,//PUNCT con//ADP intervención//NOUN do//_ de//ADP o//DET Ministerio//NOUN Fiscal//ADJ e//CCONJ respecto//NOUN dos//_ de//ADP os//DET principios//NOUN de//ADP contradición//NOUN ,//PUNCT audiencia//NOUN e//CCONJ defensa//NOUN .//PUNCT\n",
      "predicted: UNK//NOUN UNK//DET en//DET que//NOUN se//ADP UNK//NOUN a//NOUN súa//NOUN UNK//NOUN e//NOUN necesidade//NOUN ,//NOUN e//NOUN ,//NOUN en//NOUN todo//NOUN caso//NOUN ,//NOUN con//NOUN intervención//NOUN do//NOUN de//NOUN o//NOUN Ministerio//NOUN Fiscal//NOUN e//NOUN respecto//NOUN dos//NOUN de//NOUN os//NOUN principios//NOUN de//NOUN contradición//NOUN ,//NOUN audiencia//NOUN e//NOUN defensa//NOUN .//NOUN\n",
      "--------------------------------------------------------------------------------\n",
      "label:     a//DET vida//NOUN dos//_ de//ADP os//DET individuos//NOUN ,//PUNCT e//CCONJ sobre//ADP todo//DET a//DET consecución//NOUN dunha//_ de//ADP unha//DET calidade//NOUN de//ADP vida//NOUN UNK//ADJ ,//PUNCT debe//VERB UNK//VERB unha//DET das//_ de//ADP as//DET dimensións//NOUN fundamentais//ADJ da//_ de//ADP a//DET loita//NOUN polo//_ por//ADP o//DET progreso//NOUN social//ADJ .//PUNCT\n",
      "predicted: a//NOUN vida//DET dos//NOUN de//NOUN os//NOUN individuos//NOUN ,//NOUN e//NOUN sobre//NOUN todo//NOUN a//NOUN consecución//NOUN dunha//NOUN de//NOUN unha//NOUN calidade//NOUN de//NOUN vida//NOUN UNK//NOUN ,//NOUN debe//NOUN UNK//NOUN unha//NOUN das//NOUN de//NOUN as//NOUN dimensións//NOUN fundamentais//NOUN da//NOUN de//NOUN a//NOUN loita//NOUN polo//NOUN por//NOUN o//NOUN progreso//NOUN social//NOUN .//NOUN\n",
      "--------------------------------------------------------------------------------\n",
      "label:     UNK//VERB me//PRON os//PRON ,//PUNCT por//ADP exemplo//NOUN ,//PUNCT comparar//VERB UNK//NOUN e//CCONJ confederación//NOUN ,//PUNCT aínda//ADV que//SCONJ hoxe//ADV en//ADP día//NOUN esta//DET última//ADJ só//ADV sexa//AUX apreciable//ADJ na//_ en//ADP a//DET perspectiva//NOUN histórica//ADJ ,//PUNCT xa//ADV que//SCONJ apenas//ADV UNK//VERB nos//_ en//ADP os//DET estados//NOUN UNK//ADJ .//PUNCT\n",
      "predicted: UNK//NOUN me//NOUN os//NOUN ,//NOUN por//NOUN exemplo//NOUN ,//NOUN comparar//NOUN UNK//NOUN e//NOUN confederación//NOUN ,//NOUN aínda//NOUN que//NOUN hoxe//NOUN en//NOUN día//NOUN esta//NOUN última//NOUN só//NOUN sexa//NOUN apreciable//NOUN na//NOUN en//NOUN a//NOUN perspectiva//NOUN histórica//NOUN ,//NOUN xa//NOUN que//NOUN apenas//NOUN UNK//NOUN nos//NOUN en//NOUN os//NOUN estados//NOUN UNK//NOUN .//NOUN\n",
      "--------------------------------------------------------------------------------\n",
      "label:     A//ADP pesar//VERB de//ADP existir//VERB unha//DET evidente//ADJ relación//NOUN co//_ con//ADP o//DET número//NOUN de//ADP ganglios//NOUN con//ADP metástases//NOUN (//PUNCT o//DET seu//DET UNK//NOUN )//PUNCT ,//PUNCT ámbalas//_ ambas//DET as//DET dúas//NOUN manteñen//VERB valor//NOUN prognóstico//NOUN independente//ADJ .//PUNCT\n",
      "predicted: A//PAD pesar//DET de//NOUN existir//NOUN unha//NOUN evidente//NOUN relación//NOUN co//NOUN con//NOUN o//NOUN número//NOUN de//NOUN ganglios//NOUN con//NOUN metástases//NOUN (//NOUN o//NOUN seu//NOUN UNK//NOUN )//NOUN ,//NOUN ámbalas//NOUN ambas//NOUN as//NOUN dúas//NOUN manteñen//NOUN valor//NOUN prognóstico//NOUN independente//NOUN .//NOUN\n",
      "--------------------------------------------------------------------------------\n",
      "Epoch 1/5\n"
     ]
    },
    {
     "name": "stdout",
     "output_type": "stream",
     "text": [
      "35/35 [==============================] - 3s 85ms/step - loss: 1.9562 - acc: 0.3000 - val_loss: 2.0659 - val_acc: 0.2955\n",
      "Epoch 2/5\n",
      "35/35 [==============================] - 3s 90ms/step - loss: 1.9376 - acc: 0.3048 - val_loss: 2.0800 - val_acc: 0.2921\n",
      "Epoch 3/5\n",
      "35/35 [==============================] - 3s 86ms/step - loss: 1.9089 - acc: 0.3122 - val_loss: 2.0918 - val_acc: 0.2857\n",
      "Epoch 4/5\n",
      "35/35 [==============================] - 3s 82ms/step - loss: 1.9129 - acc: 0.3092 - val_loss: 2.0743 - val_acc: 0.2950\n",
      "Epoch 5/5\n",
      "35/35 [==============================] - 3s 84ms/step - loss: 1.8996 - acc: 0.3148 - val_loss: 2.0946 - val_acc: 0.2852\n",
      "================================================================================\n",
      "Iteration # 3\n",
      "--------------------------------------------------------------------------------\n",
      "label:     Consellería//NOUN de//ADP Economía//NOUN e//CCONJ Facenda//NOUN os//DET clientes//NOUN das//_ de//ADP as//DET caixas//NOUN de//ADP aforros//NOUN galegas//ADJ poderán//VERB presentar//VERB as//DET súas//DET queixas//NOUN referidas//VERB ao//_ a//ADP o//DET incumprimento//NOUN por//ADP parte//NOUN daquelas//_ de//ADP aquelas//DET de//ADP calquera//DET das//_ de//ADP as//DET normas//NOUN de//ADP disciplina//NOUN .//PUNCT\n",
      "predicted: Consellería//DET de//ADP Economía//DET e//DET Facenda//ADP os//ADP clientes//ADP das//ADP de//ADP as//ADP caixas//DET de//DET aforros//DET galegas//DET poderán//DET presentar//ADP as//ADP súas//ADP queixas//ADP referidas//ADP ao//ADP a//ADP o//ADP incumprimento//ADP por//ADP parte//ADP daquelas//ADP de//ADP aquelas//ADP de//ADP calquera//ADP das//ADP de//ADP as//ADP normas//ADP de//ADP disciplina//ADP .//ADP\n",
      "--------------------------------------------------------------------------------\n",
      "label:     forma//NOUN ,//PUNCT a//DET incapacidade//NOUN de//ADP UNK//VERB unha//DET política//NOUN internacional//ADJ común//ADJ é//AUX principalmente//ADV resultado//NOUN dos//_ de//ADP os//DET fenómenos//NOUN UNK//ADJ no//_ en//ADP o//DET interior//ADJ da//_ de//ADP a//DET UE//PROPN ,//PUNCT a//DET cal//PRON deu//VERB prioridade//NOUN aos//_ a//ADP os//DET temas//NOUN de//ADP integración//NOUN .//PUNCT\n",
      "predicted: forma//NOUN ,//NOUN a//NOUN incapacidade//DET de//DET UNK//ADP unha//ADP política//ADP internacional//DET común//DET é//DET principalmente//DET resultado//DET dos//DET de//DET os//DET fenómenos//DET UNK//DET no//DET en//DET o//DET interior//DET da//DET de//DET a//DET UE//DET ,//DET a//DET cal//DET deu//DET prioridade//DET aos//DET a//DET os//DET temas//DET de//DET integración//DET .//DET\n",
      "--------------------------------------------------------------------------------\n",
      "label:     agricultura//NOUN UNK//_ acha//VERB se//PRON UNK//VERB debido//VERB fundamentalmente//ADV á//_ a//ADP a//DET marcha//NOUN dos//_ de//ADP os//DET mozos//NOUN ás//NOUN zonas//NOUN urbanas//ADJ ,//PUNCT e//CCONJ á//_ a//ADP a//DET falta//NOUN de//ADP posibilidades//NOUN para//ADP que//SCONJ estes//DET últimos//ADJ se//PRON UNK//VERB cargo//NOUN das//_ de//ADP as//DET explotacións//NOUN .//PUNCT\n",
      "predicted: agricultura//DET UNK//ADP acha//NOUN se//NOUN UNK//NOUN debido//NOUN fundamentalmente//NOUN á//NOUN a//NOUN a//NOUN marcha//NOUN dos//NOUN de//NOUN os//NOUN mozos//NOUN ás//NOUN zonas//NOUN urbanas//NOUN ,//DET e//DET á//DET a//DET a//DET falta//NOUN de//NOUN posibilidades//NOUN para//NOUN que//NOUN estes//NOUN últimos//NOUN se//NOUN UNK//NOUN cargo//NOUN das//NOUN de//NOUN as//NOUN explotacións//NOUN .//NOUN\n",
      "--------------------------------------------------------------------------------\n",
      "label:     Sen//ADP embargo//NOUN ,//PUNCT os//DET últimos//ADJ estudios//NOUN realizados//VERB UNK//VERB que//SCONJ a//DET producción//NOUN de//ADP residuos//NOUN aumentou//VERB un//DET 17//NUM %//SYM entre//ADP 1994//NUM e//CCONJ 2000//NUM e//CCONJ que//PRON UNK//VERB outro//DET 27//NUM %//SYM ata//ADP UNK//NUM .//PUNCT\n",
      "predicted: Sen//PAD embargo//DET ,//NOUN os//NOUN últimos//NOUN estudios//NOUN realizados//NOUN UNK//NOUN que//NOUN a//NOUN producción//NOUN de//NOUN residuos//NOUN aumentou//NOUN un//NOUN 17//NOUN %//NOUN entre//NOUN 1994//NOUN e//NOUN 2000//NOUN e//NOUN que//NOUN UNK//NOUN outro//NOUN 27//NOUN %//NOUN ata//NOUN UNK//NOUN .//NOUN\n",
      "--------------------------------------------------------------------------------\n",
      "label:     que//PRON fose//AUX o//DET número//NOUN de//ADP contratos//NOUN de//ADP seguros//NOUN de//ADP vida//NOUN dos//_ de//ADP os//DET que//SCONJ sexa//AUX beneficiario//ADJ ,//PUNCT e//CCONJ non//PART será//AUX aplicable//ADJ cando//PRON este//DET teña//VERB dereito//NOUN á//NOUN establecida//VERB na//_ en//ADP a//DET disposición//NOUN transitoria//ADJ cuarta//NOUN desta//_ de//ADP esta//DET lei//NOUN .//PUNCT\n",
      "predicted: que//DET fose//ADP o//DET número//DET de//NOUN contratos//NOUN de//NOUN seguros//NOUN de//NOUN vida//NOUN dos//NOUN de//NOUN os//NOUN que//NOUN sexa//NOUN beneficiario//NOUN ,//NOUN e//NOUN non//NOUN será//NOUN aplicable//NOUN cando//NOUN este//NOUN teña//NOUN dereito//NOUN á//NOUN establecida//NOUN na//NOUN en//NOUN a//NOUN disposición//NOUN transitoria//NOUN cuarta//NOUN desta//NOUN de//NOUN esta//NOUN lei//NOUN .//NOUN\n",
      "--------------------------------------------------------------------------------\n",
      "Epoch 1/5\n",
      "35/35 [==============================] - 3s 84ms/step - loss: 1.9017 - acc: 0.3142 - val_loss: 2.1012 - val_acc: 0.2868\n",
      "Epoch 2/5\n",
      "35/35 [==============================] - 3s 84ms/step - loss: 1.8992 - acc: 0.3158 - val_loss: 2.1249 - val_acc: 0.2662\n",
      "Epoch 3/5\n",
      "35/35 [==============================] - 3s 82ms/step - loss: 1.8809 - acc: 0.3206 - val_loss: 2.1190 - val_acc: 0.2867\n",
      "Epoch 4/5\n",
      "35/35 [==============================] - 3s 88ms/step - loss: 1.8519 - acc: 0.3296 - val_loss: 2.1209 - val_acc: 0.2844\n",
      "Epoch 5/5\n",
      "35/35 [==============================] - 3s 83ms/step - loss: 1.8320 - acc: 0.3341 - val_loss: 2.1400 - val_acc: 0.2795\n",
      "================================================================================\n",
      "Iteration # 4\n",
      "--------------------------------------------------------------------------------\n",
      "label:     de//ADP augas//NOUN UNK//ADJ procedentes//ADJ do//_ de//ADP o//DET lavado//NOUN dos//_ de//ADP os//DET gases//NOUN poden//VERB favorecer//VERB a//DET UNK//NOUN de//ADP substancias//NOUN e//CCONJ a//DET UNK//NOUN de//ADP metais//NOUN pesados//ADJ que//PRON estean//AUX nos//_ en//ADP os//DET UNK//NOUN ,//PUNCT afectando//VERB á//_ a//ADP a//DET vida//NOUN UNK//ADJ .//PUNCT\n",
      "predicted: de//DET augas//DET UNK//DET procedentes//DET do//ADP de//NOUN o//NOUN lavado//NOUN dos//NOUN de//DET os//DET gases//DET poden//DET favorecer//DET a//DET UNK//DET de//DET substancias//DET e//DET a//DET UNK//NOUN de//NOUN metais//NOUN pesados//NOUN que//NOUN estean//NOUN nos//NOUN en//NOUN os//NOUN UNK//NOUN ,//NOUN afectando//NOUN á//NOUN a//NOUN a//NOUN vida//NOUN UNK//NOUN .//NOUN\n",
      "--------------------------------------------------------------------------------\n",
      "label:     lei//NOUN mantén//VERB os//DET criterios//NOUN xerais//ADJ para//ADP a//DET atribución//NOUN da//_ de//ADP a//DET competencia//NOUN territorial//ADJ ,//PUNCT sen//ADP UNK//VERB UNK//ADV os//DET UNK//NOUN especiais//ADJ por//ADP razón//NOUN da//_ de//ADP a//DET materia//NOUN e//CCONJ sen//ADP converter//VERB todas//DET esas//DET regras//NOUN en//ADP disposicións//NOUN de//ADP aplicación//NOUN necesaria//ADJ .//PUNCT\n",
      "predicted: lei//NOUN mantén//NOUN os//ADP criterios//ADP xerais//DET para//NOUN a//NOUN atribución//ADP da//NOUN de//NOUN a//NOUN competencia//NOUN territorial//NOUN ,//NOUN sen//NOUN UNK//NOUN UNK//NOUN os//NOUN UNK//NOUN especiais//NOUN por//NOUN razón//NOUN da//NOUN de//NOUN a//NOUN materia//NOUN e//NOUN sen//NOUN converter//NOUN todas//NOUN esas//NOUN regras//NOUN en//NOUN disposicións//NOUN de//NOUN aplicación//NOUN necesaria//NOUN .//NOUN\n",
      "--------------------------------------------------------------------------------\n",
      "label:     o//DET sector//NOUN UNK//VERB UNK//PROPN UNK//VERB polas//_ por//ADP as//DET altas//ADJ serras//NOUN do//_ de//ADP o//DET UNK//NOUN e//CCONJ Ancares//NOUN na//_ en//ADP a//DET provincia//NOUN de//ADP Lugo//PROPN e//CCONJ máis//ADV a//DET UNK//NOUN do//_ de//ADP o//DET río//NOUN UNK//PROPN ,//PUNCT onde//PRON aparecen//VERB especies//NOUN UNK//ADV UNK//ADJ .//PUNCT\n",
      "predicted: o//ADP sector//ADP UNK//NOUN UNK//PUNCT UNK//VERB polas//VERB por//NOUN as//NOUN altas//DET serras//DET do//NOUN de//NOUN o//NOUN UNK//NOUN e//NOUN Ancares//NOUN na//NOUN en//NOUN a//NOUN provincia//NOUN de//NOUN Lugo//NOUN e//NOUN máis//NOUN a//NOUN UNK//NOUN do//NOUN de//NOUN o//NOUN río//NOUN UNK//NOUN ,//NOUN onde//NOUN aparecen//NOUN especies//NOUN UNK//NOUN UNK//NOUN .//NOUN\n",
      "--------------------------------------------------------------------------------\n",
      "label:     o//DET UNK//NOUN do//_ de//ADP o//DET dito//VERB departamento//NOUN designar//VERB os//DET funcionarios//NOUN que//PRON deben//VERB realizar//VERB o//DET exame//NOUN da//_ de//ADP a//DET documentación//NOUN referida//VERB nos//_ en//ADP os//DET artigos//NOUN 19//NUM e//CCONJ 20//NUM deste//_ de//ADP este//DET regulamento//NOUN e//CCONJ formular//VERB a//DET proposta//NOUN de//ADP resolución//NOUN .//PUNCT\n",
      "predicted: o//NOUN UNK//NOUN do//ADP de//ADP o//ADP dito//NOUN departamento//NOUN designar//NOUN os//NOUN funcionarios//NOUN que//NOUN deben//NOUN realizar//NOUN o//NOUN exame//NOUN da//NOUN de//NOUN a//NOUN documentación//NOUN referida//NOUN nos//NOUN en//NOUN os//NOUN artigos//NOUN 19//NOUN e//NOUN 20//NOUN deste//NOUN de//NOUN este//NOUN regulamento//NOUN e//NOUN formular//NOUN a//NOUN proposta//NOUN de//NOUN resolución//NOUN .//NOUN\n",
      "--------------------------------------------------------------------------------\n",
      "label:     Unha//DET lixeira//ADJ UNK//NOUN é//AUX UNK//ADJ na//_ en//ADP a//DET fabricación//NOUN de//ADP ladrillos//NOUN UNK//ADJ ,//PUNCT pero//CCONJ pode//VERB causar//VERB problemas//NOUN de//ADP UNK//NOUN en//ADP ladrillos//NOUN cara//ADJ vista//NOUN .//PUNCT\n",
      "predicted: Unha//NOUN lixeira//NOUN UNK//NOUN é//NOUN UNK//NOUN na//NOUN en//NOUN a//NOUN fabricación//NOUN de//NOUN ladrillos//NOUN UNK//NOUN ,//NOUN pero//NOUN pode//NOUN causar//NOUN problemas//NOUN de//NOUN UNK//NOUN en//NOUN ladrillos//NOUN cara//NOUN vista//NOUN .//PUNCT\n",
      "--------------------------------------------------------------------------------\n",
      "Epoch 1/5\n"
     ]
    },
    {
     "name": "stdout",
     "output_type": "stream",
     "text": [
      "35/35 [==============================] - 3s 83ms/step - loss: 1.8186 - acc: 0.3402 - val_loss: 2.1586 - val_acc: 0.2691\n",
      "Epoch 2/5\n",
      "35/35 [==============================] - 3s 86ms/step - loss: 1.8143 - acc: 0.3421 - val_loss: 2.1427 - val_acc: 0.2791\n",
      "Epoch 3/5\n",
      "35/35 [==============================] - 3s 93ms/step - loss: 1.7924 - acc: 0.3504 - val_loss: 2.1788 - val_acc: 0.2712\n",
      "Epoch 4/5\n",
      "35/35 [==============================] - 3s 87ms/step - loss: 1.7798 - acc: 0.3543 - val_loss: 2.1767 - val_acc: 0.2755\n",
      "Epoch 5/5\n",
      "35/35 [==============================] - 3s 85ms/step - loss: 1.7443 - acc: 0.3668 - val_loss: 2.1950 - val_acc: 0.2796\n",
      "================================================================================\n",
      "Iteration # 5\n",
      "--------------------------------------------------------------------------------\n",
      "label:     UNK//NUM UNK//NOUN )//PUNCT e//CCONJ por//ADP último//ADJ ,//PUNCT como//PRON especies//NOUN UNK//ADJ se//PRON atopan//VERB a//DET UNK//NOUN verde//ADJ (//PUNCT UNK//PROPN UNK//VERB )//PUNCT ,//PUNCT a//DET UNK//NOUN UNK//PROPN (//PUNCT UNK//NUM UNK//NOUN )//PUNCT e//CCONJ a//DET UNK//NOUN UNK//PROPN ou//CCONJ UNK//NOUN (//PUNCT UNK//NOUN UNK//NUM )//PUNCT .//PUNCT\n",
      "predicted: UNK//NOUN UNK//ADP )//ADP e//NOUN por//PUNCT último//PUNCT ,//ADP como//ADP especies//NOUN UNK//NOUN se//ADP atopan//ADP a//NOUN UNK//NOUN verde//NOUN (//NOUN UNK//NOUN UNK//NOUN )//NOUN ,//NOUN a//NOUN UNK//NOUN UNK//NOUN (//NOUN UNK//NOUN UNK//NOUN )//NOUN e//NOUN a//NOUN UNK//NOUN UNK//NOUN ou//NOUN UNK//NOUN (//PUNCT UNK//PUNCT UNK//PUNCT )//PUNCT .//PUNCT\n",
      "--------------------------------------------------------------------------------\n",
      "label:     UNK//ADV UNK//VERB para//ADP detectar//VERB tumores//NOUN en//ADP pacientes//NOUN con//ADP risco//NOUN alto//ADJ de//ADP cancro//NOUN de//ADP mama//NOUN ,//PUNCT polo//_ por//ADP o//DET elevado//ADJ número//NOUN de//ADP UNK//ADJ positivos//ADJ que//PRON presenta//VERB .//PUNCT\n",
      "predicted: UNK//PAD UNK//NOUN para//NOUN detectar//ADP tumores//NOUN en//NOUN pacientes//NOUN con//NOUN risco//NOUN alto//NOUN de//NOUN cancro//ADP de//ADP mama//NOUN ,//NOUN polo//NOUN por//NOUN o//NOUN elevado//NOUN número//NOUN de//NOUN UNK//NOUN positivos//NOUN que//NOUN presenta//NOUN .//NOUN\n",
      "--------------------------------------------------------------------------------\n",
      "label:     A//DET UNK//NOUN supón//VERB ,//PUNCT xa//ADV que//SCONJ logo//ADV ,//PUNCT o//DET contrapunto//NOUN da//_ de//ADP a//DET substitución//NOUN lingüística//ADJ ,//PUNCT e//CCONJ ámbolos//_ ambos//DET os//DET procesos//NOUN constitúen//VERB os//DET resultados//NOUN posibles//ADJ do//_ de//ADP o//DET conflicto//NOUN UNK//ADJ (//PUNCT cfr//PROPN .//PUNCT §//SYM UNK//NUM )//PUNCT .//PUNCT\n",
      "predicted: A//PAD UNK//NOUN supón//ADP ,//ADP xa//ADP que//NOUN logo//NOUN ,//NOUN o//NOUN contrapunto//VERB da//VERB de//VERB a//NOUN substitución//NOUN lingüística//NOUN ,//NOUN e//NOUN ámbolos//NOUN ambos//NOUN os//NOUN procesos//NOUN constitúen//NOUN os//NOUN resultados//NOUN posibles//NOUN do//NOUN de//NOUN o//NOUN conflicto//NOUN UNK//NOUN (//NOUN cfr//NOUN .//NOUN §//NOUN UNK//NOUN )//NOUN .//NOUN\n",
      "--------------------------------------------------------------------------------\n",
      "label:     Para//ADP a//DET implantación//NOUN desta//_ de//ADP esta//DET técnica//NOUN cómpre//VERB seguir//VERB estas//DET liñas//NOUN de//ADP actuación//NOUN ://PUNCT UNK//VERB a//DET calidade//NOUN de//ADP auga//NOUN requirida//VERB para//ADP cada//DET operación//NOUN .//PUNCT\n",
      "predicted: Para//PAD a//VERB implantación//NOUN desta//NOUN de//NOUN esta//NOUN técnica//NOUN cómpre//NOUN seguir//ADP estas//ADP liñas//NOUN de//NOUN actuación//NOUN ://NOUN UNK//NOUN a//NOUN calidade//NOUN de//NOUN auga//NOUN requirida//NOUN para//NOUN cada//NOUN operación//NOUN .//NOUN\n",
      "--------------------------------------------------------------------------------\n",
      "label:     loitar//VERB en//ADP ambas//DET frontes//NOUN ,//PUNCT é//AUX dicir//VERB acadar//VERB unha//DET mellor//ADJ e//CCONJ máis//ADV eficaz//ADJ xestión//NOUN dos//_ de//ADP os//DET procesos//NOUN crónicos//ADJ e//CCONJ ó//_ a//ADP o//DET mesmo//DET tempo//NOUN xerar//VERB unha//DET mellor//ADJ calidade//NOUN do//_ de//ADP o//DET seguimento//NOUN do//_ de//ADP o//DET paciente//NOUN .//PUNCT\n",
      "predicted: loitar//_ en//ADP ambas//DET frontes//NOUN ,//ADJ é//_ dicir//VERB acadar//PRON unha//NOUN mellor//ADP e//ADP máis//DET eficaz//NOUN xestión//ADJ dos//_ de//ADP os//ADP procesos//ADP crónicos//ADP e//ADP ó//ADP a//ADP o//ADP mesmo//ADP tempo//ADP xerar//ADP unha//ADP mellor//ADP calidade//ADP do//ADP de//ADP o//ADP seguimento//ADP do//ADP de//ADP o//ADP paciente//ADP .//ADP\n",
      "--------------------------------------------------------------------------------\n",
      "Epoch 1/5\n",
      "35/35 [==============================] - 3s 83ms/step - loss: 1.7221 - acc: 0.3766 - val_loss: 2.2144 - val_acc: 0.2766\n",
      "Epoch 2/5\n",
      "35/35 [==============================] - 3s 83ms/step - loss: 1.7275 - acc: 0.3757 - val_loss: 2.2534 - val_acc: 0.2724\n",
      "Epoch 3/5\n",
      "35/35 [==============================] - 3s 83ms/step - loss: 1.7394 - acc: 0.3762 - val_loss: 2.2509 - val_acc: 0.2678\n",
      "Epoch 4/5\n",
      "35/35 [==============================] - 3s 83ms/step - loss: 1.7042 - acc: 0.3862 - val_loss: 2.2451 - val_acc: 0.2755\n",
      "Epoch 5/5\n",
      "35/35 [==============================] - 3s 83ms/step - loss: 1.6895 - acc: 0.3907 - val_loss: 2.3083 - val_acc: 0.2661\n",
      "================================================================================\n",
      "Iteration # 6\n",
      "--------------------------------------------------------------------------------\n",
      "label:     a//ADP os//DET nosos//DET pacientes//NOUN rexistran//VERB mellor//ADJ puntuación//NOUN as//DET mulleres//NOUN ca//SCONJ os//DET homes//NOUN ,//PUNCT pero//CCONJ UNK//VERB que//SCONJ era//VERB porque//SCONJ nos//_ en//ADP os//DET cuestionarios//NOUN de//ADP actividades//NOUN UNK//ADJ figuran//VERB preguntas//NOUN relativas//ADJ a//DET tarefas//NOUN UNK//ADJ que//SCONJ os//DET homes//NOUN non//PART UNK//VERB nunca//ADV ?//PUNCT\n",
      "predicted: a//NOUN os//VERB nosos//PRON pacientes//VERB rexistran//ADP mellor//NOUN puntuación//NOUN as//ADP mulleres//ADP ca//NOUN os//NOUN homes//PUNCT ,//VERB pero//VERB UNK//VERB que//ADP era//DET porque//NOUN nos//NOUN en//VERB os//VERB cuestionarios//NOUN de//NOUN actividades//NOUN UNK//NOUN figuran//NOUN preguntas//NOUN relativas//NOUN a//NOUN tarefas//NOUN UNK//NOUN que//NOUN os//NOUN homes//NOUN non//NOUN UNK//NOUN nunca//NOUN ?//NOUN\n",
      "--------------------------------------------------------------------------------\n",
      "label:     2//NUM e//CCONJ 3//NUM acerca//VERB dos//_ de//ADP os//DET créditos//NOUN dos//_ de//ADP os//DET traballadores//NOUN UNK//VERB unicamente//ADV á//_ a//ADP a//DET parte//NOUN destes//_ de//ADP estes//DET créditos//NOUN que//PRON exceda//VERB daquela//ADV que//SCONJ lle//PRON corresponde//VERB aboar//VERB ó//_ a//ADP o//DET Fondo//NOUN de//ADP UNK//NOUN UNK//ADJ .//PUNCT \"//PUNCT\n",
      "predicted: 2//NOUN e//DET 3//NOUN acerca//_ dos//ADP de//DET os//NOUN créditos//_ dos//ADP de//NOUN os//NOUN traballadores//_ UNK//NOUN unicamente//NOUN á//_ a//_ a//_ parte//_ destes//_ de//_ estes//ADP créditos//ADP que//NOUN exceda//NOUN daquela//NOUN que//NOUN lle//NOUN corresponde//NOUN aboar//NOUN ó//NOUN a//NOUN o//NOUN Fondo//NOUN de//NOUN UNK//NOUN UNK//NOUN .//NOUN \"//NOUN\n",
      "--------------------------------------------------------------------------------\n",
      "label:     A//DET maior//ADJ parte//NOUN dos//_ de//ADP os//DET dispositivos//NOUN que//PRON están//AUX no//_ en//ADP o//DET mercado//NOUN posúen//VERB unha//DET superficie//NOUN de//ADP cobre//NOUN superior//ADJ a//ADP UNK//NUM UNK//NOUN e//CCONJ son//AUX considerados//VERB de//ADP alta//ADJ carga//NOUN .//PUNCT\n",
      "predicted: A//DET maior//DET parte//DET dos//DET de//NOUN os//NOUN dispositivos//NOUN que//NOUN están//NOUN no//NOUN en//NOUN o//NOUN mercado//NOUN posúen//DET unha//DET superficie//NOUN de//NOUN cobre//NOUN superior//NOUN a//NOUN UNK//NOUN UNK//NOUN e//NOUN son//NOUN considerados//NOUN de//NOUN alta//NOUN carga//NOUN .//NOUN\n",
      "--------------------------------------------------------------------------------\n",
      "label:     á//_ a//ADP a//DET conclusión//NOUN de//ADP que//SCONJ certas//DET UNK//NOUN presentes//ADJ nos//_ en//ADP os//DET montes//NOUN UNK//ADJ ,//PUNCT en//ADP Francia//PROPN ,//PUNCT UNK//VERB en//ADP realidade//NOUN dos//_ de//ADP os//DET UNK//NOUN ,//PUNCT e//CCONJ foran//VERB UNK//VERB alí//ADV por//ADP extensos//ADJ UNK//NOUN no//_ en//ADP o//DET pasado//ADJ .//PUNCT\n",
      "predicted: á//DET a//NOUN a//NOUN conclusión//VERB de//DET que//NOUN certas//_ UNK//ADP presentes//DET nos//DET en//NOUN os//CCONJ montes//VERB UNK//DET ,//NOUN en//NOUN Francia//_ ,//DET UNK//DET en//NOUN realidade//NOUN dos//DET de//DET os//NOUN UNK//NOUN ,//NOUN e//DET foran//NOUN UNK//NOUN alí//NOUN por//NOUN extensos//NOUN UNK//NOUN no//NOUN en//NOUN o//NOUN pasado//NOUN .//NOUN\n",
      "--------------------------------------------------------------------------------\n",
      "label:     Os//DET primeiros//ADJ resultados//NOUN da//_ de//ADP a//DET Enquisa//NOUN de//ADP condicións//NOUN de//ADP vida//NOUN das//_ de//ADP as//DET familias//NOUN realizada//VERB polo//_ por//ADP o//DET IGE//PROPN en//ADP 1999//NUM mostran//VERB que//SCONJ o//DET número//NOUN medio//ADJ por//ADP vivenda//NOUN é//AUX de//ADP 3,2//NUM persoas//NOUN .//PUNCT\n",
      "predicted: Os//PAD primeiros//ADP resultados//ADP da//NOUN de//NOUN a//VERB Enquisa//DET de//DET condicións//NOUN de//ADP vida//DET das//NOUN de//_ as//_ familias//ADP realizada//DET polo//DET por//NOUN o//PUNCT IGE//VERB en//VERB 1999//VERB mostran//DET que//NOUN o//NOUN número//NOUN medio//NOUN por//NOUN vivenda//NOUN é//ADP de//NOUN 3,2//NOUN persoas//NOUN .//NOUN\n",
      "--------------------------------------------------------------------------------\n"
     ]
    }
   ],
   "source": [
    "for i in range(NUM_ITERATIONS):    \n",
    "    history = SimpleRNN_POS_TAGGER.fit_generator(train_gen, \n",
    "                                  steps_per_epoch=num_train_samples, \n",
    "                                  epochs=NUM_EPOCHS,\n",
    "                                  validation_data=test_gen, \n",
    "                                  validation_steps=num_test_samples)\n",
    "    # save off history data\n",
    "    hist_acc.extend(history.history[\"acc\"])\n",
    "    hist_val_acc.extend(history.history[\"val_acc\"])\n",
    "    hist_loss.extend(history.history[\"loss\"])\n",
    "    hist_val_loss.extend(history.history[\"val_loss\"])\n",
    "    \n",
    "    # Проиллюстрируем некоторые примеры разметки\n",
    "    \n",
    "    Xtest, Ytest = next(test_gen)\n",
    "    Ytest_ = SimpleRNN_POS_TAGGER.predict(Xtest)\n",
    "    ytest = np.argmax(Ytest, axis=2)\n",
    "    ytest_ = np.argmax(Ytest_, axis=2)\n",
    "    \n",
    "    print(\"=\" * 80)\n",
    "    print(\"Iteration # {:d}\".format(i + 1))\n",
    "    print(\"-\" * 80)\n",
    "    for i in range(min(5, Ytest.shape[0])):\n",
    "        sent_ids = Xtest[i]\n",
    "        sent_words = [s_index2word[x] for x in sent_ids.tolist()]\n",
    "        pos_labels = [t_index2word[x] for x in ytest[i].tolist()]\n",
    "        pos_preds = [t_index2word[x] for x in ytest_[i].tolist()]\n",
    "        triples = [x for x in zip(sent_words, pos_labels, pos_preds)\n",
    "            if x[0] != \"PAD\"]\n",
    "        print(\"label:     \" + \" \".join([x[0] +\"//\"+x[1].upper() \n",
    "            for x in triples]))\n",
    "        print(\"predicted: \" + \" \".join([x[0] +\"//\"+x[2].upper() \n",
    "            for x in triples]))\n",
    "        print(\"-\" * 80)"
   ]
  },
  {
   "cell_type": "code",
   "execution_count": 36,
   "metadata": {},
   "outputs": [
    {
     "data": {
      "image/png": "[encoded data removed]",
      "text/plain": [
       "<Figure size 864x576 with 2 Axes>"
      ]
     },
     "metadata": {
      "needs_background": "light"
     },
     "output_type": "display_data"
    }
   ],
   "source": [
    "# plot loss and accuracy\n",
    "plot_model_performance(history.history[\"loss\"], history.history[\"acc\"], history.history[\"val_loss\"], history.history[\"val_acc\"])"
   ]
  },
  {
   "cell_type": "markdown",
   "metadata": {},
   "source": [
    "## Результаты\n",
    "\n",
    "Наилучший показатель accuracy показывает Bidirectional LSTM - 0.35, что ожидаемо, т.к. данная архитектура лучше всего использует контекст данных для предсказания.\n",
    "\n",
    "Наихудший показатель accuracy показывает SimpleRNN - 0.26, т.к. нет механизма для запоминания результатов, и она теряет градиенты."
   ]
  }
 ],
 "metadata": {
  "kernelspec": {
   "display_name": "Python 3",
   "language": "python",
   "name": "python3"
  },
  "language_info": {
   "codemirror_mode": {
    "name": "ipython",
    "version": 3
   },
   "file_extension": ".py",
   "mimetype": "text/x-python",
   "name": "python",
   "nbconvert_exporter": "python",
   "pygments_lexer": "ipython3",
   "version": "3.6.5"
  }
 },
 "nbformat": 4,
 "nbformat_minor": 2
}
