{
 "cells": [
  {
   "cell_type": "markdown",
   "metadata": {},
   "source": [
    "# Лабораторная работа #1: Рекуррентные нейронные сети\n",
    "\n",
    "## Задача 1: PoS-tagging"
   ]
  },
  {
   "cell_type": "markdown",
   "metadata": {},
   "source": [
    "В данной лабораторной работе будут использоваться корпуса проекта Universal Dependencies: http://universaldependencies.org/\n",
    "\n",
    "Ukranian - https://github.com/UniversalDependencies/UD_Ukrainian-IU/tree/master\n",
    "\n",
    "УКРАИНСКИЙ ЯЗЫК \n",
    "\n",
    "Индоевропейская семья; Славянская ветвь\n",
    "\n",
    "-Восточнославянская группа\n",
    "Родственные языки: белорусский, русский"
   ]
  },
  {
   "cell_type": "markdown",
   "metadata": {},
   "source": [
    "### Часть I Работа с корпусом CoNLL\n",
    "Предварительная обработка, чтение и парсинг корпуса, а также определение размера словаря.\n",
    "Необходимо получить следущие статистики:\n",
    "\n",
    "* Число предложений / уникальных словоформ;\n",
    "* Число уникальных PoS-тегов;\n",
    "* Максимальное и минимальное число слов в предложении;\n",
    "* Математическое ожидание и медиана числа слов в предложении;\n",
    "* Доля новых (не встречавшихся в тренировочной выборке) слов в тестовой выборке"
   ]
  },
  {
   "cell_type": "code",
   "execution_count": 3,
   "metadata": {},
   "outputs": [],
   "source": [
    "%matplotlib inline\n",
    "from conllu import parse, parse_tree\n",
    "from collections import Counter\n",
    "import numpy as np\n",
    "\n",
    "from tensorflow.keras.models import Sequential\n",
    "from tensorflow.keras.layers import Activation, Dense, RepeatVector, Embedding, GRU, LSTM, SimpleRNN, TimeDistributed, Bidirectional\n",
    "from tensorflow.keras.optimizers import Adam\n",
    "from tensorflow.keras.metrics import top_k_categorical_accuracy\n",
    "\n",
    "from tensorflow.keras.preprocessing import sequence\n",
    "\n",
    "from tensorflow.keras import utils\n",
    "\n",
    "import matplotlib.pyplot as plt\n",
    "import seaborn as sns\n",
    "sns.set()\n",
    "\n",
    "import warnings\n",
    "warnings.filterwarnings(\"ignore\")\n",
    "warnings.simplefilter(action='ignore', category=FutureWarning)\n",
    "\n",
    "CUSTOM_SEED = 42\n",
    "np.random.seed(CUSTOM_SEED)"
   ]
  },
  {
   "cell_type": "markdown",
   "metadata": {},
   "source": [
    "**Имена файлов с тренировочным и тестовым наборами:**"
   ]
  },
  {
   "cell_type": "code",
   "execution_count": 4,
   "metadata": {},
   "outputs": [],
   "source": [
    "train_conll_fname = 'uk_iu-ud-train.conllu'\n",
    "test_conll_fname = 'uk_iu-ud-test.conllu'       "
   ]
  },
  {
   "cell_type": "markdown",
   "metadata": {},
   "source": [
    "Функция \n",
    "    parsed_sentences\n",
    "читает conll файл, и проводит его обработку, подсчитывая:\n",
    "* sents_word - список списков словоформ (внешний список - предложения, внутренний список - слова в этом предложении);\n",
    "* word_frequencies - коллекция типа Counter для подсчета частоты словоформ\n",
    "* sents_pos - список списов PoS тегов (соответствующих словам из sents_word);\n",
    "* pos_frequencies - коллекция типа Counter для подсчета частоты PoS-тегов."
   ]
  },
  {
   "cell_type": "code",
   "execution_count": 5,
   "metadata": {},
   "outputs": [],
   "source": [
    "def parsed_sentences(conll_fname):\n",
    "    conll_file = open(conll_fname, 'r', encoding='utf-8')\n",
    "    conll_data = conll_file.read()\n",
    "    conll_file.close()\n",
    "    \n",
    "    sents_word = []\n",
    "    word_frequencies = Counter()\n",
    "    \n",
    "    sents_pos = []\n",
    "    pos_frequencies = Counter()\n",
    "\n",
    "    for current_parsed_sentence in parse(conll_data):\n",
    "        current_sentence_words = []\n",
    "        current_sentence_pos = []        \n",
    "        for separated_parsed_words in current_parsed_sentence:\n",
    "            current_sentence_words.append(separated_parsed_words['form'])\n",
    "            word_frequencies[separated_parsed_words['form']] += 1\n",
    "            current_sentence_pos.append(separated_parsed_words['upostag'])\n",
    "            pos_frequencies[separated_parsed_words['upostag']] += 1\n",
    "        \n",
    "        sents_word.append(current_sentence_words)\n",
    "        sents_pos.append(current_sentence_pos)\n",
    "\n",
    "    return (sents_word, word_frequencies,\n",
    "           sents_pos, pos_frequencies)\n"
   ]
  },
  {
   "cell_type": "markdown",
   "metadata": {},
   "source": [
    "Считываем файлы тренировочной и тестовой выборки, и формируем (для каждого свою) наборы \n",
    "* sents_word\n",
    "* word_frequencies\n",
    "* sents_pos\n",
    "* pos_frequencies"
   ]
  },
  {
   "cell_type": "code",
   "execution_count": 6,
   "metadata": {},
   "outputs": [],
   "source": [
    "sents_word, word_frequencies, sents_pos, pos_frequencies = parsed_sentences(train_conll_fname)\n",
    "test_sents_word, test_word_frequencies, test_sents_pos, test_pos_frequencies = parsed_sentences(test_conll_fname)"
   ]
  },
  {
   "cell_type": "markdown",
   "metadata": {},
   "source": [
    "Выведете статистику, для тренировочной и тестовой выборки\n",
    "Статистика должна отражать:\n",
    "* Число предложений;\n",
    "* Число словоформ;\n",
    "* Число уникальных PoS тегов;\n",
    "* Максимальное число слов в предложении;\n",
    "* Минимальное число слов в предложении;\n",
    "* Среднее арифметическое и среднее медианное число слов в предложении;\n",
    "* Доля уникальных слов в тестовой выборке;"
   ]
  },
  {
   "cell_type": "code",
   "execution_count": 7,
   "metadata": {},
   "outputs": [
    {
     "name": "stdout",
     "output_type": "stream",
     "text": [
      "Stats: \n",
      "Train set: \n",
      "\tCount sentences: 5496 \n",
      "\tUnique words: 27410\n",
      "\tUnique PoS tags: 18\n",
      "\tMax count words in sentences: 197\n",
      "\tMin count words in sentence: 1\n",
      "\tMiddle count words in sentence: 16.855349344978166\n",
      "\tMedian count words in sentence: 14.0\n",
      "\tPercent of unique PoS tags in test: 25.80645161290323\n"
     ]
    }
   ],
   "source": [
    "print(\"Stats: \")\n",
    "\n",
    "train_length_of_sentences_list = np.array([len(current_sentence) for current_sentence in sents_word])\n",
    "test_length_of_sentences_list = np.array([len(current_sentence) for current_sentence in test_sents_word])\n",
    "\n",
    "print(\"Train set: \\n\\tCount sentences: {} \\n\\tUnique words: {}\".format(len(sents_word), len(word_frequencies)))\n",
    "print(\"\\tUnique PoS tags: {}\".format(len(pos_frequencies)))\n",
    "print(\"\\tMax count words in sentences: {}\".format(np.max(train_length_of_sentences_list)))\n",
    "print(\"\\tMin count words in sentence: {}\".format(np.min(train_length_of_sentences_list)))\n",
    "print(\"\\tMiddle count words in sentence: {}\".format(np.mean(train_length_of_sentences_list)))\n",
    "print(\"\\tMedian count words in sentence: {}\".format(np.median(train_length_of_sentences_list)))\n",
    "print(\"\\tPercent of unique PoS tags in test: {}\".format(100 - len(set(train_length_of_sentences_list)&set(test_length_of_sentences_list))/ \n",
    "len(set(train_length_of_sentences_list))*100))"
   ]
  },
  {
   "cell_type": "markdown",
   "metadata": {},
   "source": [
    "На основании полученных статистик, задаем параметры для нейронных сетей:\n",
    "* Максимальная длина последовательности (MAX_SEQLEN);\n",
    "* Максимальное количество атрибутов (S_MAX_FEATURES);\n",
    "* Максимальное количество тегов (T_MAX_FEATURES);\n",
    "\n",
    "**Замечание**: *MAX_SEQLEN* не обязательно должна равна максимальному числу слов в предложении, особенно если встречается всего 1 такое предложение."
   ]
  },
  {
   "cell_type": "code",
   "execution_count": 8,
   "metadata": {},
   "outputs": [],
   "source": [
    "MAX_SEQLEN = 17\n",
    "S_MAX_FEATURES = 27410\n",
    "T_MAX_FEATURES = 18"
   ]
  },
  {
   "cell_type": "markdown",
   "metadata": {},
   "source": [
    "Объясните свой выбор целевых параметров:\n",
    "* MAX_SEQLEN - выбрано среднее значение числа слов в предложении  \n",
    "* S_MAX_FEATURES - выбрано количество уникальных слов во всем тексте, для максмального\n",
    "* T_MAX_FEATURES "
   ]
  },
  {
   "cell_type": "markdown",
   "metadata": {},
   "source": [
    "Задаем параметры для числа нейронов в скрытом слое, объема пространства погружения и размера пакета."
   ]
  },
  {
   "cell_type": "code",
   "execution_count": 9,
   "metadata": {},
   "outputs": [],
   "source": [
    "EMBED_SIZE = 300\n",
    "HIDDEN_SIZE = 100\n",
    "\n",
    "BATCH_SIZE = 64"
   ]
  },
  {
   "cell_type": "markdown",
   "metadata": {},
   "source": [
    "Задаем число эпох и итераций:"
   ]
  },
  {
   "cell_type": "code",
   "execution_count": 10,
   "metadata": {},
   "outputs": [],
   "source": [
    "NUM_EPOCHS = 5\n",
    "NUM_ITERATIONS = 6"
   ]
  },
  {
   "cell_type": "markdown",
   "metadata": {},
   "source": [
    "Как и в большинстве других задач глубокого обучения, каждая строчка должна быть закодирована индексами слов. Кроме того, выход (PoS-теги) должны быть последовательностями индексов PoS-тегов.\n",
    "Поэтомк, мы создаем табличцы для перевода слов/PoS-тегов в соответствующие индексы.\n",
    "Словарь словоформ должен иметь 2 дополнительных метки:\n",
    "* PAD - для заполнения (характеризует пустоту), когда размер предложения меньше, чем MAX_SEQLEN\n",
    "* UNK - для неизвестных словоформ.\n",
    "\n",
    "Кроме того, захотим проиллюстрировать PoS-теггер, поэтому нужно составить таблицы для поиска словоформ и частеречевых тегов.\n",
    "Ниже показано задание таблиц."
   ]
  },
  {
   "cell_type": "markdown",
   "metadata": {},
   "source": [
    "Составляем таблицу поиска для словоформ:"
   ]
  },
  {
   "cell_type": "code",
   "execution_count": 11,
   "metadata": {},
   "outputs": [],
   "source": [
    "s_vocabsize = min(len(word_frequencies), S_MAX_FEATURES) + 2\n",
    "s_word2index = {x[0]:i+2 for i, x in \n",
    "    enumerate(word_frequencies.most_common(S_MAX_FEATURES))}\n",
    "s_word2index[\"PAD\"] = 0 # Для заполнения, когда размер предлложения меньше, чем MAX_SEQ\n",
    "s_word2index[\"UNK\"] = 1 # Для неизвестных словоформ, которые могут встретиться\n",
    "s_index2word = {v:k for k, v in s_word2index.items()}"
   ]
  },
  {
   "cell_type": "markdown",
   "metadata": {},
   "source": [
    "**Замечание: ** для PoS-тегов элемент UNK не нужен, поскольку список частей речи уже известен. Элемент PAD нужен."
   ]
  },
  {
   "cell_type": "code",
   "execution_count": 12,
   "metadata": {},
   "outputs": [],
   "source": [
    "t_vocabsize = min(len(pos_frequencies), T_MAX_FEATURES) + 1\n",
    "t_word2index = {x[0]:i+1 for i, x in \n",
    "    enumerate(pos_frequencies.most_common(T_MAX_FEATURES))}\n",
    "\n",
    "t_word2index[\"PAD\"] = 0\n",
    "t_index2word = {v:k for k, v in t_word2index.items()}"
   ]
  },
  {
   "cell_type": "markdown",
   "metadata": {},
   "source": [
    "### Описание задания и работы используемых нейронных сетей\n",
    "\n",
    "Составляем целевую нейронную сеть, которая и будет выполнять частеречную разметку.\n",
    "\n",
    "Коротко об архитектуре нейронной сети:\n",
    "Как и в других задачах, считаем, что входом в нейросеть является трехмерный тензор, элементами которого являются индексы слов, длины MAX_SEQLEN;\n",
    "\n",
    "Это проходит через слой погружения (Embedding), которому явно указывается размер словаря и размерность погружения, поэтому результат прохождения входного тензора через слой погружения будет тензор сл. формата:\n",
    "(None, MAX_SEQLEN, EMBED_SIZE);\n",
    "\n",
    "Далее этот тензор передается encoder'у - представляющий собой слой рекуррентной нейронной сети с размером выхода HIDDEN_SIZE. LSTM настроен на возврат единственного контекстного вектора (return_sequences=False - по умолчанию) после обработки последовательности длины MAX_SEQLEN, поэтому тензор LSTM слоя имеет форму (None, HIDDEN_SIZE).\n",
    "\n",
    "Этот контекстный вектор далее реплицируется слоем \n",
    "    RepeatVector\n",
    "в тензор формы (None, MAX_SEQLEN, t_vocab_size). В качестве функции активации в плотном слое используется softmax.\n",
    "\n",
    "\n",
    "**Рассмотрим 4 архитектуры для нейронных сетей**:\n",
    "* LSTM\n",
    "* Bidirectional LSTM\n",
    "* GRU\n",
    "* SimpleRNN"
   ]
  },
  {
   "cell_type": "markdown",
   "metadata": {},
   "source": [
    "*Дополнительная функция для визуализации результатов:*"
   ]
  },
  {
   "cell_type": "code",
   "execution_count": 13,
   "metadata": {},
   "outputs": [],
   "source": [
    "def plot_model_performance(train_loss, train_acc, train_val_loss, train_val_acc):\n",
    "    \"\"\" Plot model loss and accuracy through epochs. \"\"\"\n",
    "    blue= '#34495E'\n",
    "    green = '#2ECC71'\n",
    "    orange = '#E23B13'\n",
    "    # plot model loss\n",
    "    fig, (ax1, ax2) = plt.subplots(2, figsize=(12, 8))\n",
    "    ax1.plot(range(1, len(train_loss) + 1), train_loss, blue, linewidth=3, label='training')\n",
    "    ax1.plot(range(1, len(train_val_loss) + 1), train_val_loss, green, linewidth=3, label='validation')\n",
    "    ax1.set_ylabel('loss')\n",
    "    ax1.tick_params('y')\n",
    "    ax1.legend(loc='upper right', shadow=False)\n",
    "    ax1.set_title('Model loss through #epochs', color=orange, fontweight='bold')\n",
    "    # plot model accuracy\n",
    "    ax2.plot(range(1, len(train_acc) + 1), train_acc, blue, linewidth=3, label='training')\n",
    "    ax2.plot(range(1, len(train_val_acc) + 1), train_val_acc, green, linewidth=3, label='validation')\n",
    "    ax2.set_xlabel('# epoch')\n",
    "    ax2.set_ylabel('accuracy')\n",
    "    ax2.tick_params('y')\n",
    "    ax2.legend(loc='lower right', shadow=False)\n",
    "    ax2.set_title('Model accuracy through #epochs', color=orange, fontweight='bold')"
   ]
  },
  {
   "cell_type": "markdown",
   "metadata": {},
   "source": [
    "В качестве потерь мы используем категориальную энтропию, т.к. решаем задачу Multi-Class Classification\n",
    "    "
   ]
  },
  {
   "cell_type": "markdown",
   "metadata": {},
   "source": [
    "### LSTM Architecture"
   ]
  },
  {
   "cell_type": "code",
   "execution_count": 14,
   "metadata": {},
   "outputs": [
    {
     "name": "stdout",
     "output_type": "stream",
     "text": [
      "_________________________________________________________________\n",
      "Layer (type)                 Output Shape              Param #   \n",
      "=================================================================\n",
      "embedding (Embedding)        (None, 17, 300)           8223600   \n",
      "_________________________________________________________________\n",
      "lstm (LSTM)                  (None, 100)               160400    \n",
      "_________________________________________________________________\n",
      "repeat_vector (RepeatVector) (None, 17, 100)           0         \n",
      "_________________________________________________________________\n",
      "lstm_1 (LSTM)                (None, 17, 100)           80400     \n",
      "_________________________________________________________________\n",
      "time_distributed (TimeDistri (None, 17, 19)            1919      \n",
      "_________________________________________________________________\n",
      "activation (Activation)      (None, 17, 19)            0         \n",
      "=================================================================\n",
      "Total params: 8,466,319\n",
      "Trainable params: 8,466,319\n",
      "Non-trainable params: 0\n",
      "_________________________________________________________________\n"
     ]
    }
   ],
   "source": [
    "def build_pos_tagger_LSTM():\n",
    "    model = Sequential()\n",
    "    model.add(Embedding(s_vocabsize, EMBED_SIZE,\n",
    "                    input_length=MAX_SEQLEN,\n",
    "                    embeddings_initializer=\"glorot_uniform\"))\n",
    "    \n",
    "    model.add(LSTM(HIDDEN_SIZE))\n",
    "    model.add(RepeatVector(MAX_SEQLEN))\n",
    "    \n",
    "    model.add(LSTM(HIDDEN_SIZE, return_sequences=True))\n",
    "    model.add(TimeDistributed(Dense(t_vocabsize)))\n",
    "    model.add(Activation(\"softmax\"))\n",
    "    model.compile(loss=\"categorical_crossentropy\", optimizer=\"adam\",\n",
    "              metrics=[\"accuracy\"])\n",
    "    return model\n",
    "\n",
    "LSTM_POS_TAGGER = build_pos_tagger_LSTM()\n",
    "LSTM_POS_TAGGER.summary()"
   ]
  },
  {
   "cell_type": "markdown",
   "metadata": {},
   "source": [
    "### Biderectional LSTM Architecture"
   ]
  },
  {
   "cell_type": "code",
   "execution_count": 15,
   "metadata": {},
   "outputs": [
    {
     "name": "stdout",
     "output_type": "stream",
     "text": [
      "_________________________________________________________________\n",
      "Layer (type)                 Output Shape              Param #   \n",
      "=================================================================\n",
      "embedding_1 (Embedding)      (None, 17, 300)           8223600   \n",
      "_________________________________________________________________\n",
      "bidirectional (Bidirectional (None, 200)               320800    \n",
      "_________________________________________________________________\n",
      "repeat_vector_1 (RepeatVecto (None, 17, 200)           0         \n",
      "_________________________________________________________________\n",
      "bidirectional_1 (Bidirection (None, 17, 200)           240800    \n",
      "_________________________________________________________________\n",
      "time_distributed_1 (TimeDist (None, 17, 19)            3819      \n",
      "_________________________________________________________________\n",
      "activation_1 (Activation)    (None, 17, 19)            0         \n",
      "=================================================================\n",
      "Total params: 8,789,019\n",
      "Trainable params: 8,789,019\n",
      "Non-trainable params: 0\n",
      "_________________________________________________________________\n"
     ]
    }
   ],
   "source": [
    "def build_pos_tagger_Bidirectional():\n",
    "    model = Sequential()\n",
    "    model.add(Embedding(s_vocabsize, EMBED_SIZE,\n",
    "                    input_length=MAX_SEQLEN,\n",
    "                    embeddings_initializer=\"glorot_uniform\"))\n",
    "    \n",
    "    model.add(Bidirectional(LSTM(HIDDEN_SIZE))) \n",
    "    model.add(RepeatVector(MAX_SEQLEN)) \n",
    "    model.add(Bidirectional(LSTM(HIDDEN_SIZE, return_sequences=True))) \n",
    "    model.add(TimeDistributed(Dense(t_vocabsize))) \n",
    "    model.add(Activation(\"softmax\")) \n",
    "    model.compile(loss=\"categorical_crossentropy\", optimizer=\"adam\",\n",
    "              metrics=[\"accuracy\"])\n",
    "    return model\n",
    "\n",
    "Bidirectional_POS_TAGGER = build_pos_tagger_Bidirectional()\n",
    "Bidirectional_POS_TAGGER.summary()\n"
   ]
  },
  {
   "cell_type": "markdown",
   "metadata": {},
   "source": [
    "### GRU Architecture"
   ]
  },
  {
   "cell_type": "code",
   "execution_count": 16,
   "metadata": {},
   "outputs": [
    {
     "name": "stdout",
     "output_type": "stream",
     "text": [
      "_________________________________________________________________\n",
      "Layer (type)                 Output Shape              Param #   \n",
      "=================================================================\n",
      "embedding_2 (Embedding)      (None, 17, 300)           8223600   \n",
      "_________________________________________________________________\n",
      "gru (GRU)                    (None, 100)               120300    \n",
      "_________________________________________________________________\n",
      "repeat_vector_2 (RepeatVecto (None, 17, 100)           0         \n",
      "_________________________________________________________________\n",
      "gru_1 (GRU)                  (None, 17, 100)           60300     \n",
      "_________________________________________________________________\n",
      "time_distributed_2 (TimeDist (None, 17, 19)            1919      \n",
      "_________________________________________________________________\n",
      "activation_2 (Activation)    (None, 17, 19)            0         \n",
      "=================================================================\n",
      "Total params: 8,406,119\n",
      "Trainable params: 8,406,119\n",
      "Non-trainable params: 0\n",
      "_________________________________________________________________\n"
     ]
    }
   ],
   "source": [
    "def build_pos_tagger_GRU():\n",
    "    model = Sequential()\n",
    "    model.add(Embedding(s_vocabsize, EMBED_SIZE,\n",
    "                    input_length=MAX_SEQLEN,\n",
    "                    embeddings_initializer=\"glorot_uniform\"))\n",
    "    \n",
    "    model.add(GRU(HIDDEN_SIZE))\n",
    "    model.add(RepeatVector(MAX_SEQLEN))\n",
    "    \n",
    "    model.add(GRU(HIDDEN_SIZE, return_sequences=True))\n",
    "    model.add(TimeDistributed(Dense(t_vocabsize)))\n",
    "    model.add(Activation(\"softmax\"))\n",
    "    model.compile(loss=\"categorical_crossentropy\", optimizer=\"adam\",\n",
    "              metrics=[\"accuracy\"])\n",
    "    return model\n",
    "\n",
    "GRU_POS_TAGGER = build_pos_tagger_GRU()\n",
    "GRU_POS_TAGGER.summary()"
   ]
  },
  {
   "cell_type": "markdown",
   "metadata": {},
   "source": [
    "### SimpleRNN Architecture"
   ]
  },
  {
   "cell_type": "code",
   "execution_count": 17,
   "metadata": {},
   "outputs": [
    {
     "name": "stdout",
     "output_type": "stream",
     "text": [
      "_________________________________________________________________\n",
      "Layer (type)                 Output Shape              Param #   \n",
      "=================================================================\n",
      "embedding_3 (Embedding)      (None, 17, 300)           8223600   \n",
      "_________________________________________________________________\n",
      "simple_rnn (SimpleRNN)       (None, 100)               40100     \n",
      "_________________________________________________________________\n",
      "repeat_vector_3 (RepeatVecto (None, 17, 100)           0         \n",
      "_________________________________________________________________\n",
      "simple_rnn_1 (SimpleRNN)     (None, 17, 100)           20100     \n",
      "_________________________________________________________________\n",
      "time_distributed_3 (TimeDist (None, 17, 19)            1919      \n",
      "_________________________________________________________________\n",
      "activation_3 (Activation)    (None, 17, 19)            0         \n",
      "=================================================================\n",
      "Total params: 8,285,719\n",
      "Trainable params: 8,285,719\n",
      "Non-trainable params: 0\n",
      "_________________________________________________________________\n"
     ]
    }
   ],
   "source": [
    "def build_pos_tagger_SimpleRNN():\n",
    "    model = Sequential()\n",
    "    model.add(Embedding(s_vocabsize, EMBED_SIZE,\n",
    "                    input_length=MAX_SEQLEN,\n",
    "                    embeddings_initializer=\"glorot_uniform\"))\n",
    "    \n",
    "    model.add(SimpleRNN(HIDDEN_SIZE))\n",
    "    model.add(RepeatVector(MAX_SEQLEN))\n",
    "    \n",
    "    model.add(SimpleRNN(HIDDEN_SIZE, return_sequences=True))\n",
    "    model.add(TimeDistributed(Dense(t_vocabsize)))\n",
    "    model.add(Activation(\"softmax\"))\n",
    "    model.compile(loss=\"categorical_crossentropy\", optimizer=\"adam\",\n",
    "              metrics=[\"accuracy\"])\n",
    "    return model\n",
    "\n",
    "SimpleRNN_POS_TAGGER = build_pos_tagger_SimpleRNN()\n",
    "SimpleRNN_POS_TAGGER.summary()"
   ]
  },
  {
   "cell_type": "markdown",
   "metadata": {},
   "source": [
    "## Обучаем модели и посчитываем статистики"
   ]
  },
  {
   "cell_type": "markdown",
   "metadata": {},
   "source": [
    "Подсчитаем объем количества батчей для тренировочной и тестовой выборки, кроме того, сделаем функцию для получения генератора батчей."
   ]
  },
  {
   "cell_type": "code",
   "execution_count": 18,
   "metadata": {},
   "outputs": [
    {
     "name": "stdout",
     "output_type": "stream",
     "text": [
      "\tV of train samples: 85\n",
      "\tV of test samples: 13\n"
     ]
    }
   ],
   "source": [
    "num_train_samples = len(sents_word) // BATCH_SIZE\n",
    "num_test_samples = len(test_sents_word) // BATCH_SIZE\n",
    "\n",
    "print(\"\\tV of train samples: {}\".format(num_train_samples))\n",
    "print(\"\\tV of test samples: {}\".format(num_test_samples))\n",
    "\n",
    "def get_or_else(dictionary, key, default_value):\n",
    "    try:\n",
    "        return dictionary[key]\n",
    "    except KeyError:\n",
    "        return default_value\n",
    "\n",
    "def generate_batch(\n",
    "    s_sents,  # sentences_train\n",
    "    s_word2index, # word to index dictionary\n",
    "    t_sents, # \n",
    "    t_word2index, \n",
    "    batch_size, \n",
    "    maxlen\n",
    "):\n",
    "    while True:\n",
    "        # shuffle the input\n",
    "        indices = np.random.permutation(np.arange(len(s_sents)))\n",
    "        ss_sents = [s_sents[ix] for ix in indices]\n",
    "        ts_sents = [t_sents[ix] for ix in indices]\n",
    "        # convert to word indices\n",
    "        si_sents = [[get_or_else(s_word2index, word, s_word2index[\"UNK\"]) \n",
    "                    for word in sent] \n",
    "                    for sent in ss_sents]\n",
    "        ti_sents = [[t_word2index[word] for word in sent]\n",
    "                    for sent in ts_sents]\n",
    "        # inner loop should run for an epoch\n",
    "        num_batches = len(s_sents) // batch_size\n",
    "        for i in range(num_batches):\n",
    "            s_batch = si_sents[i * batch_size : (i + 1) * batch_size]\n",
    "            t_batch = ti_sents[i * batch_size : (i + 1) * batch_size]\n",
    "            sp_batch = sequence.pad_sequences(s_batch, maxlen=maxlen)\n",
    "            tp_batch = sequence.pad_sequences(t_batch, maxlen=maxlen)\n",
    "            tpc_batch = utils.to_categorical(tp_batch.reshape(-1, 1), \n",
    "                num_classes=len(t_word2index)).reshape(batch_size, \n",
    "                -1, len(t_word2index))\n",
    "            yield sp_batch, tpc_batch"
   ]
  },
  {
   "cell_type": "markdown",
   "metadata": {},
   "source": [
    "## 1. LSTM"
   ]
  },
  {
   "cell_type": "markdown",
   "metadata": {},
   "source": [
    "Инициализируем генераторы для тренировочной и тестовой выборки. "
   ]
  },
  {
   "cell_type": "code",
   "execution_count": 33,
   "metadata": {},
   "outputs": [],
   "source": [
    "train_gen = generate_batch(sents_word, s_word2index, sents_pos,\n",
    "                           t_word2index, BATCH_SIZE, MAX_SEQLEN)\n",
    "test_gen = generate_batch(test_sents_word, s_word2index, test_sents_pos,\n",
    "                          t_word2index, BATCH_SIZE, MAX_SEQLEN)"
   ]
  },
  {
   "cell_type": "markdown",
   "metadata": {},
   "source": [
    "Обновляем списки с историями для точности, функции потерь на тренировочной и тестовой выборках:"
   ]
  },
  {
   "cell_type": "code",
   "execution_count": 34,
   "metadata": {},
   "outputs": [],
   "source": [
    "hist_acc, hist_val_acc, hist_loss, hist_val_loss = [], [], [], []\n"
   ]
  },
  {
   "cell_type": "code",
   "execution_count": 35,
   "metadata": {
    "scrolled": true
   },
   "outputs": [
    {
     "name": "stdout",
     "output_type": "stream",
     "text": [
      "Epoch 1/5\n",
      "85/85 [==============================] - 13s 156ms/step - loss: 0.7579 - acc: 0.7138 - val_loss: 1.6254 - val_acc: 0.5259\n",
      "Epoch 2/5\n",
      "85/85 [==============================] - 13s 157ms/step - loss: 0.7265 - acc: 0.7249 - val_loss: 1.6316 - val_acc: 0.5286\n",
      "Epoch 3/5\n",
      "85/85 [==============================] - 15s 172ms/step - loss: 0.7031 - acc: 0.7348 - val_loss: 1.6755 - val_acc: 0.5211\n",
      "Epoch 4/5\n",
      "85/85 [==============================] - 14s 161ms/step - loss: 0.6799 - acc: 0.7433 - val_loss: 1.6899 - val_acc: 0.5235\n",
      "Epoch 5/5\n",
      "85/85 [==============================] - 13s 155ms/step - loss: 0.6626 - acc: 0.7511 - val_loss: 1.7404 - val_acc: 0.5169\n",
      "================================================================================\n",
      "Iteration # 1\n",
      "--------------------------------------------------------------------------------\n",
      "label:     Всі//DET UNK//ADJ вище//ADV UNK//NOUN ТЕС//NOUN станом//NOUN на//ADP 1//NUM березня//NOUN 2017//ADJ року//NOUN UNK//VERB .//PUNCT\n",
      "predicted: Всі//PAD UNK//NOUN вище//VERB UNK//ADJ ТЕС//ADP станом//ADJ на//NOUN 1//NOUN березня//NOUN 2017//ADJ року//ADJ UNK//NOUN .//PUNCT\n",
      "--------------------------------------------------------------------------------\n",
      "label:     Вам//PRON пощастило//VERB жити//VERB і//CCONJ працювати//VERB в//ADP одному//DET з//ADP UNK//ADJ UNK//ADJ центрів//NOUN України//PROPN .//PUNCT\n",
      "predicted: Вам//ADV пощастило//ADV жити//VERB і//NOUN працювати//NOUN в//NOUN одному//NOUN з//NOUN UNK//ADP UNK//ADP центрів//NOUN України//NOUN .//PUNCT\n",
      "--------------------------------------------------------------------------------\n",
      "label:     і//CCONJ про//ADP факти//NOUN переходу//NOUN на//ADP наш//DET бік//NOUN UNK//NOUN і//CCONJ старшин//NOUN UNK//PROPN ,//PUNCT їхнє//DET сприяння//NOUN нашим//DET UNK//NOUN .//PUNCT\n",
      "predicted: і//ADP про//ADP факти//ADP переходу//NOUN на//NOUN наш//NOUN бік//NOUN UNK//NOUN і//NOUN старшин//PUNCT UNK//PUNCT ,//PUNCT їхнє//VERB сприяння//ADP нашим//NOUN UNK//NOUN .//PUNCT\n",
      "--------------------------------------------------------------------------------\n",
      "label:     UNK//NOUN UNK//VERB (//PUNCT убрання//NOUN ,//PUNCT взуття//NOUN ,//PUNCT UNK//NOUN )//PUNCT по//ADP UNK//NOUN UNK//ADV UNK//ADV .//PUNCT\n",
      "predicted: UNK//NOUN UNK//NOUN (//NOUN убрання//NOUN ,//NOUN взуття//PUNCT ,//PUNCT UNK//PUNCT )//PUNCT по//VERB UNK//VERB UNK//ADJ UNK//NOUN .//PUNCT\n",
      "--------------------------------------------------------------------------------\n",
      "label:     підставою//NOUN реальної//ADJ оборонної//ADJ системи//NOUN UNK//ADJ та//CCONJ всіх//DET інших//DET UNK//ADJ народів//NOUN UNK//ADJ Европи//PROPN перед//ADP UNK//NOUN UNK//ADJ UNK//NOUN .//PUNCT\n",
      "predicted: підставою//NOUN реальної//NOUN оборонної//NOUN системи//ADJ UNK//ADJ та//ADJ всіх//ADJ інших//NOUN UNK//NOUN народів//NOUN UNK//NOUN Европи//VERB перед//ADP UNK//ADJ UNK//NOUN UNK//NOUN .//PUNCT\n",
      "--------------------------------------------------------------------------------\n",
      "Epoch 1/5\n",
      "85/85 [==============================] - 13s 158ms/step - loss: 0.6349 - acc: 0.7617 - val_loss: 1.7082 - val_acc: 0.5311\n",
      "Epoch 2/5\n",
      "85/85 [==============================] - 13s 157ms/step - loss: 0.6340 - acc: 0.7602 - val_loss: 1.7786 - val_acc: 0.5245\n",
      "Epoch 3/5\n",
      "85/85 [==============================] - 14s 169ms/step - loss: 0.6065 - acc: 0.7727 - val_loss: 1.7689 - val_acc: 0.5320\n",
      "Epoch 4/5\n",
      "85/85 [==============================] - 14s 163ms/step - loss: 0.5817 - acc: 0.7835 - val_loss: 1.8799 - val_acc: 0.5093\n",
      "Epoch 5/5\n",
      "85/85 [==============================] - 13s 155ms/step - loss: 0.5463 - acc: 0.8010 - val_loss: 1.8355 - val_acc: 0.5235\n",
      "================================================================================\n",
      "Iteration # 2\n",
      "--------------------------------------------------------------------------------\n",
      "label:     5//NUM до//ADP 9//NUM %//NOUN за//ADP UNK//ADJ період//NOUN UNK//VERB експорт//NOUN із//ADP UNK//ADJ ,//PUNCT Сумської//ADJ та//CCONJ UNK//ADJ областей//NOUN .//PUNCT\n",
      "predicted: 5//ADP до//ADP 9//ADP %//NOUN за//NOUN UNK//ADP період//ADP UNK//NOUN експорт//NOUN із//PUNCT UNK//PUNCT ,//NOUN Сумської//ADJ та//ADJ UNK//NOUN областей//NOUN .//PUNCT\n",
      "--------------------------------------------------------------------------------\n",
      "label:     3//NUM млрд//NOUN грн//NOUN ,//PUNCT що//PRON нижче//ADV від//ADP UNK//ADJ UNK//NOUN на//ADP рівні//NOUN UNK//NUM ,//PUNCT 2//NUM млрд//NOUN грн//NOUN .//PUNCT\n",
      "predicted: 3//PUNCT млрд//NOUN грн//NOUN ,//NOUN що//PUNCT нижче//NOUN від//ADP UNK//VERB UNK//NOUN на//NOUN рівні//NOUN UNK//PUNCT ,//PUNCT 2//NUM млрд//NOUN грн//PUNCT .//PUNCT\n",
      "--------------------------------------------------------------------------------\n",
      "label:     UNK//NOUN ,//PUNCT як//SCONJ UNK//NOUN ,//PUNCT завжди//ADV попереджали//VERB свій//DET клас//NOUN і//CCONJ ніколи//ADV не//PART йшли//VERB з//ADP ним//PRON UNK//ADV .//PUNCT\n",
      "predicted: UNK//PUNCT ,//PUNCT як//PART UNK//PART ,//PUNCT завжди//PUNCT попереджали//CCONJ свій//NOUN клас//NOUN і//PUNCT ніколи//PART не//PART йшли//PART з//ADP ним//DET UNK//VERB .//PUNCT\n",
      "--------------------------------------------------------------------------------\n",
      "label:     UNK//NOUN з//ADP головою//NOUN правління//NOUN UNK//ADJ UNK//ADJ товариства//NOUN \"//PUNCT Українська//ADJ UNK//NOUN \"//PUNCT від//ADP 6//ADJ червня//NOUN 2016//ADJ року//NOUN .//PUNCT\n",
      "predicted: UNK//VERB з//ADJ головою//NOUN правління//NOUN UNK//PUNCT UNK//VERB товариства//VERB \"//ADJ Українська//NOUN UNK//PUNCT \"//PUNCT від//ADP 6//ADP червня//NOUN 2016//NOUN року//PUNCT .//PUNCT\n",
      "--------------------------------------------------------------------------------\n",
      "label:     Ой//INTJ мав//VERB я//PRON жінку//NOUN UNK//PROPN ...//PUNCT\n",
      "predicted: Ой//VERB мав//VERB я//VERB жінку//VERB UNK//NOUN ...//PUNCT\n",
      "--------------------------------------------------------------------------------\n",
      "Epoch 1/5\n",
      "85/85 [==============================] - 13s 148ms/step - loss: 0.5317 - acc: 0.8056 - val_loss: 1.8635 - val_acc: 0.5209\n",
      "Epoch 2/5\n",
      "85/85 [==============================] - 13s 156ms/step - loss: 0.5790 - acc: 0.7830 - val_loss: 1.9536 - val_acc: 0.5122\n",
      "Epoch 3/5\n",
      "85/85 [==============================] - 13s 157ms/step - loss: 0.5370 - acc: 0.8011 - val_loss: 1.8520 - val_acc: 0.5224\n",
      "Epoch 4/5\n",
      "85/85 [==============================] - 14s 165ms/step - loss: 0.5186 - acc: 0.8095 - val_loss: 1.9413 - val_acc: 0.5224\n",
      "Epoch 5/5\n",
      "85/85 [==============================] - 14s 168ms/step - loss: 0.4713 - acc: 0.8324 - val_loss: 1.9537 - val_acc: 0.5187\n",
      "================================================================================\n",
      "Iteration # 3\n",
      "--------------------------------------------------------------------------------\n",
      "label:     ,//PUNCT UNK//NOUN будівель//NOUN ,//PUNCT виду//NOUN будівельних//ADJ робіт//NOUN (//PUNCT нове//ADJ будівництво//NOUN ,//PUNCT UNK//NOUN ,//PUNCT UNK//ADJ ремонт//NOUN )//PUNCT .//PUNCT\n",
      "predicted: ,//NOUN UNK//PUNCT будівель//PUNCT ,//ADJ виду//NOUN будівельних//NOUN робіт//PUNCT (//NOUN нове//NOUN будівництво//NOUN ,//NOUN UNK//PUNCT ,//PUNCT UNK//PUNCT ремонт//NOUN )//PUNCT .//PUNCT\n",
      "--------------------------------------------------------------------------------\n",
      "label:     UNK//VERB від//ADP UNK//NOUN свята//NOUN Першого//ADJ UNK//NOUN або//CCONJ були//AUX максимально//ADV UNK//ADJ »//PUNCT ,//PUNCT -//PUNCT розповів//VERB UNK//PROPN UNK//PROPN .//PUNCT\n",
      "predicted: UNK//NOUN від//NOUN UNK//NOUN свята//NOUN Першого//VERB UNK//NOUN або//NOUN були//NOUN максимально//ADJ UNK//NOUN »//PUNCT ,//PUNCT -//PUNCT розповів//VERB UNK//ADJ UNK//NOUN .//PUNCT\n",
      "--------------------------------------------------------------------------------\n",
      "label:     UNK//ADJ ,//PUNCT що//SCONJ навіть//PART агенти//NOUN ФСБ//PROPN ,//PUNCT які//DET знаходились//VERB в//ADP оточенні//NOUN UNK//PROPN про//ADP неї//PRON не//PART знали//VERB .//PUNCT\n",
      "predicted: UNK//PUNCT ,//PUNCT що//PUNCT навіть//PUNCT агенти//ADP ФСБ//PUNCT ,//PUNCT які//PART знаходились//DET в//DET оточенні//PUNCT UNK//PART про//PART неї//PRON не//PRON знали//VERB .//PUNCT\n",
      "--------------------------------------------------------------------------------\n",
      "label:     ТОВ//NOUN UNK//ADJ UNK//ADJ системи//NOUN України//PROPN було//AUX UNK//VERB в//ADP селі//NOUN UNK//PROPN Миколаївської//ADJ області//NOUN в//ADP серпні//NOUN 2015//ADJ року//NOUN .//PUNCT\n",
      "predicted: ТОВ//NOUN UNK//NOUN UNK//NOUN системи//NOUN України//NOUN було//NOUN UNK//ADJ в//ADJ селі//NOUN UNK//PUNCT Миколаївської//ADP області//ADP в//NOUN серпні//ADP 2015//NOUN року//NOUN .//PUNCT\n",
      "--------------------------------------------------------------------------------\n",
      "label:     UNK//VERB UNK//NOUN усе//PRON так//ADV ,//PUNCT щоб//SCONJ воно//PRON само//DET охоче//ADV UNK//VERB .//PUNCT\n",
      "predicted: UNK//PUNCT UNK//VERB усе//PRON так//PRON ,//PUNCT щоб//PUNCT воно//ADV само//VERB охоче//VERB UNK//NOUN .//PUNCT\n",
      "--------------------------------------------------------------------------------\n",
      "Epoch 1/5\n"
     ]
    },
    {
     "name": "stdout",
     "output_type": "stream",
     "text": [
      "85/85 [==============================] - 14s 165ms/step - loss: 0.4305 - acc: 0.8517 - val_loss: 1.9944 - val_acc: 0.5242\n",
      "Epoch 2/5\n",
      "85/85 [==============================] - 14s 165ms/step - loss: 0.4157 - acc: 0.8578 - val_loss: 2.0694 - val_acc: 0.5237\n",
      "Epoch 3/5\n",
      "85/85 [==============================] - 14s 165ms/step - loss: 0.4027 - acc: 0.8623 - val_loss: 2.0733 - val_acc: 0.5229\n",
      "Epoch 4/5\n",
      "85/85 [==============================] - 14s 169ms/step - loss: 0.3880 - acc: 0.8690 - val_loss: 2.1092 - val_acc: 0.5264\n",
      "Epoch 5/5\n",
      "85/85 [==============================] - 14s 162ms/step - loss: 0.3786 - acc: 0.8708 - val_loss: 2.1854 - val_acc: 0.5118\n",
      "================================================================================\n",
      "Iteration # 4\n",
      "--------------------------------------------------------------------------------\n",
      "label:     подасть//VERB її//DET UNK//NOUN ,//PUNCT то//PART для//ADP реального//ADJ критика//NOUN се//PRON буде//AUX UNK//ADJ від//ADP UNK//NOUN Гоголя//PROPN або//CCONJ UNK//PROPN .//PUNCT\n",
      "predicted: подасть//PRON її//PRON UNK//VERB ,//ADP то//ADP для//ADP реального//ADP критика//ADJ се//NOUN буде//PUNCT UNK//CCONJ від//VERB UNK//NOUN Гоголя//NOUN або//ADP UNK//NOUN .//PUNCT\n",
      "--------------------------------------------------------------------------------\n",
      "label:     В//ADP UNK//NOUN пішли//VERB UNK//ADJ досі//ADV герої//NOUN UNK//PROPN .//PUNCT\n",
      "predicted: В//ADP UNK//ADP пішли//PRON UNK//VERB досі//CCONJ герої//CCONJ UNK//NOUN .//PUNCT\n",
      "--------------------------------------------------------------------------------\n",
      "label:     UNK//VERB старе//NOUN ,//PUNCT треба//ADV будувати//VERB нове//NOUN !//PUNCT\n",
      "predicted: UNK//VERB старе//VERB ,//PUNCT треба//CCONJ будувати//VERB нове//NOUN !//PUNCT\n",
      "--------------------------------------------------------------------------------\n",
      "label:     10//NUM .//PUNCT\n",
      "predicted: 10//NUM .//PUNCT\n",
      "--------------------------------------------------------------------------------\n",
      "label:     2//NUM .//PUNCT\n",
      "predicted: 2//NUM .//PUNCT\n",
      "--------------------------------------------------------------------------------\n",
      "Epoch 1/5\n",
      "85/85 [==============================] - 13s 155ms/step - loss: 0.4054 - acc: 0.8576 - val_loss: 2.1232 - val_acc: 0.5210\n",
      "Epoch 2/5\n",
      "85/85 [==============================] - 14s 166ms/step - loss: 0.3970 - acc: 0.8604 - val_loss: 2.1846 - val_acc: 0.5194\n",
      "Epoch 3/5\n",
      "85/85 [==============================] - 14s 164ms/step - loss: 0.3840 - acc: 0.8673 - val_loss: 2.2496 - val_acc: 0.5138\n",
      "Epoch 4/5\n",
      "85/85 [==============================] - 14s 164ms/step - loss: 0.3444 - acc: 0.8852 - val_loss: 2.2540 - val_acc: 0.5206\n",
      "Epoch 5/5\n",
      "85/85 [==============================] - 14s 164ms/step - loss: 0.3168 - acc: 0.8988 - val_loss: 2.3351 - val_acc: 0.5186\n",
      "================================================================================\n",
      "Iteration # 5\n",
      "--------------------------------------------------------------------------------\n",
      "label:     10//NUM .//PUNCT\n",
      "predicted: 10//NUM .//PUNCT\n",
      "--------------------------------------------------------------------------------\n",
      "label:     UNK//ADJ UNK//PROPN і//CCONJ UNK//PROPN придбали//VERB UNK//ADJ UNK//PROPN UNK//NOUN нові//ADJ лави//NOUN союзників//NOUN із//ADP числа//NOUN поляків//NOUN і//CCONJ UNK//NOUN .//PUNCT\n",
      "predicted: UNK//NOUN UNK//NOUN і//NOUN UNK//NOUN придбали//NOUN UNK//NOUN UNK//ADJ UNK//ADJ нові//NOUN лави//CCONJ союзників//CCONJ із//NOUN числа//ADP поляків//ADP і//ADJ UNK//NOUN .//PUNCT\n",
      "--------------------------------------------------------------------------------\n",
      "label:     UNK//NOUN один//DET за//ADP одним//DET проходили//VERB UNK//NOUN ,//PUNCT часом//ADV тільки//ADV UNK//VERB ,//PUNCT часом//ADV UNK//VERB на//ADP довший//ADJ час//NOUN .//PUNCT\n",
      "predicted: UNK//ADP один//ADP за//NOUN одним//VERB проходили//PUNCT UNK//PUNCT ,//ADJ часом//ADJ тільки//PUNCT UNK//PUNCT ,//PUNCT часом//ADP UNK//ADP на//NOUN довший//ADJ час//NOUN .//PUNCT\n",
      "--------------------------------------------------------------------------------\n",
      "label:     UNK//VERB !//PUNCT\n",
      "predicted: UNK//PAD !//PUNCT\n",
      "--------------------------------------------------------------------------------\n",
      "label:     найбільший//ADJ UNK//NOUN -//PUNCT UNK//NOUN ,//PUNCT UNK//NOUN і//CCONJ UNK//ADJ \"//PUNCT ну//PART шо//PRON вам//PRON ще//ADV не//PART подобається//VERB \"//PUNCT )//SYM\n",
      "predicted: найбільший//PUNCT UNK//PUNCT -//PUNCT UNK//ADV ,//PUNCT UNK//PUNCT і//PUNCT UNK//DET \"//DET ну//PART шо//PART вам//PART ще//VERB не//VERB подобається//VERB \"//PUNCT )//PUNCT\n",
      "--------------------------------------------------------------------------------\n",
      "Epoch 1/5\n",
      "85/85 [==============================] - 14s 165ms/step - loss: 0.3003 - acc: 0.9051 - val_loss: 2.2656 - val_acc: 0.5356\n",
      "Epoch 2/5\n",
      "85/85 [==============================] - 14s 164ms/step - loss: 0.2881 - acc: 0.9099 - val_loss: 2.3626 - val_acc: 0.5249\n",
      "Epoch 3/5\n",
      "85/85 [==============================] - 14s 165ms/step - loss: 0.2806 - acc: 0.9128 - val_loss: 2.4416 - val_acc: 0.5115\n",
      "Epoch 4/5\n",
      "85/85 [==============================] - 14s 164ms/step - loss: 0.2749 - acc: 0.9136 - val_loss: 2.4627 - val_acc: 0.5114\n",
      "Epoch 5/5\n",
      "85/85 [==============================] - 13s 158ms/step - loss: 0.2767 - acc: 0.9124 - val_loss: 2.5051 - val_acc: 0.5162\n",
      "================================================================================\n",
      "Iteration # 6\n",
      "--------------------------------------------------------------------------------\n",
      "label:     що//SCONJ йде//VERB від//ADP телефону//NOUN на//ADP UNK//NOUN ,//PUNCT фіксував//VERB точні//ADJ UNK//NOUN UNK//NOUN і//CCONJ UNK//VERB їх//PRON UNK//ADJ авіації//NOUN .//PUNCT\n",
      "predicted: що//ADP йде//ADP від//NOUN телефону//PUNCT на//ADP UNK//NOUN ,//NOUN фіксував//ADJ точні//PUNCT UNK//PUNCT UNK//CCONJ і//VERB UNK//VERB їх//ADP UNK//ADJ авіації//NOUN .//PUNCT\n",
      "--------------------------------------------------------------------------------\n",
      "label:     до//ADP складу//NOUN UNK//ADJ UNK//ADJ ради//NOUN UNK//ADJ району//NOUN UNK//ADJ області//NOUN входить//VERB \"//PUNCT UNK//NOUN міського//ADJ типу//NOUN UNK//PROPN \"//PUNCT .//PUNCT\n",
      "predicted: до//NOUN складу//VERB UNK//ADP UNK//NOUN ради//NOUN UNK//NOUN району//NOUN UNK//ADJ області//NOUN входить//NOUN \"//PUNCT UNK//PUNCT міського//VERB типу//ADJ UNK//NOUN \"//PUNCT .//PUNCT\n",
      "--------------------------------------------------------------------------------\n",
      "label:     UNK//NUM ,//PUNCT зареєстрованого//ADJ у//ADP Міністерстві//NOUN юстиції//NOUN України//PROPN 24//ADJ квітня//NOUN 2017//ADJ року//NOUN за//ADP №//NOUN UNK//NUM ///PUNCT UNK//NUM .//PUNCT\n",
      "predicted: UNK//NOUN ,//PUNCT зареєстрованого//ADP у//ADP Міністерстві//NOUN юстиції//NOUN України//NOUN 24//NOUN квітня//NOUN 2017//NOUN року//NOUN за//NOUN №//PUNCT UNK//NUM ///NOUN UNK//NOUN .//PUNCT\n",
      "--------------------------------------------------------------------------------\n",
      "label:     А//CCONJ UNK//VERB УПА//NOUN цих//DET UNK//NOUN у//ADP таких//DET UNK//NOUN ,//PUNCT яких//DET дотепер//ADV не//PART знала//VERB історія//NOUN людства//NOUN .//PUNCT\n",
      "predicted: А//PAD UNK//NOUN УПА//NOUN цих//PUNCT UNK//ADP у//NOUN таких//NOUN UNK//NOUN ,//PUNCT яких//PUNCT дотепер//PUNCT не//PART знала//VERB історія//ADJ людства//NOUN .//PUNCT\n",
      "--------------------------------------------------------------------------------\n",
      "label:     між//ADP UNK//NOUN UNK//VERB ,//PUNCT а//CCONJ Платон//PROPN UNK//PROPN UNK//VERB до//ADP батька//NOUN ://PUNCT «//PUNCT Андрію//PROPN ,//PUNCT ти//PRON UNK//VERB !//PUNCT\n",
      "predicted: між//NOUN UNK//NOUN UNK//PUNCT ,//NOUN а//NOUN Платон//NOUN UNK//NOUN UNK//ADP до//NOUN батька//NOUN ://PUNCT «//PUNCT Андрію//PUNCT ,//PUNCT ти//VERB UNK//NOUN !//PUNCT\n",
      "--------------------------------------------------------------------------------\n"
     ]
    }
   ],
   "source": [
    "for i in range(NUM_ITERATIONS):    \n",
    "    history = LSTM_POS_TAGGER.fit_generator(train_gen, \n",
    "                                  steps_per_epoch=num_train_samples, \n",
    "                                  epochs=NUM_EPOCHS,\n",
    "                                  validation_data=test_gen, \n",
    "                                  validation_steps=num_test_samples)\n",
    "    # save off history data\n",
    "    hist_acc.extend(history.history[\"acc\"])\n",
    "    hist_val_acc.extend(history.history[\"val_acc\"])\n",
    "    hist_loss.extend(history.history[\"loss\"])\n",
    "    hist_val_loss.extend(history.history[\"val_loss\"])\n",
    "    \n",
    "    # Проиллюстрируем некоторые примеры разметки\n",
    "    \n",
    "    Xtest, Ytest = next(test_gen)\n",
    "    Ytest_ = LSTM_POS_TAGGER.predict(Xtest)\n",
    "    ytest = np.argmax(Ytest, axis=2)\n",
    "    ytest_ = np.argmax(Ytest_, axis=2)\n",
    "    \n",
    "    print(\"=\" * 80)\n",
    "    print(\"Iteration # {:d}\".format(i + 1))\n",
    "    print(\"-\" * 80)\n",
    "    for i in range(min(5, Ytest.shape[0])):\n",
    "        sent_ids = Xtest[i]\n",
    "        sent_words = [s_index2word[x] for x in sent_ids.tolist()]\n",
    "        pos_labels = [t_index2word[x] for x in ytest[i].tolist()]\n",
    "        pos_preds = [t_index2word[x] for x in ytest_[i].tolist()]\n",
    "        triples = [x for x in zip(sent_words, pos_labels, pos_preds)\n",
    "            if x[0] != \"PAD\"]\n",
    "        print(\"label:     \" + \" \".join([x[0] +\"//\"+x[1].upper() \n",
    "            for x in triples]))\n",
    "        print(\"predicted: \" + \" \".join([x[0] +\"//\"+x[2].upper() \n",
    "            for x in triples]))\n",
    "        print(\"-\" * 80)"
   ]
  },
  {
   "cell_type": "markdown",
   "metadata": {},
   "source": [
    "Постройте и выведите графики функции потерь и точности на тренировочной и тестовой выборке.\n",
    "Можете воспользоваться заготовкой ниже - заполнив недостающие элементы (с примером), или написать свою"
   ]
  },
  {
   "cell_type": "code",
   "execution_count": 36,
   "metadata": {
    "scrolled": true
   },
   "outputs": [
    {
     "data": {
      "image/png": "[encoded data removed]",
      "text/plain": [
       "<Figure size 864x576 with 2 Axes>"
      ]
     },
     "metadata": {
      "needs_background": "light"
     },
     "output_type": "display_data"
    }
   ],
   "source": [
    "# plot loss and accuracy\n",
    "plot_model_performance(history.history[\"loss\"], history.history[\"acc\"], history.history[\"val_loss\"], history.history[\"val_acc\"])"
   ]
  },
  {
   "cell_type": "markdown",
   "metadata": {},
   "source": [
    "## 2. Biderectional LSTM"
   ]
  },
  {
   "cell_type": "code",
   "execution_count": 37,
   "metadata": {},
   "outputs": [],
   "source": [
    "train_gen = generate_batch(sents_word, s_word2index, sents_pos,\n",
    "                           t_word2index, BATCH_SIZE, MAX_SEQLEN)\n",
    "test_gen = generate_batch(test_sents_word, s_word2index, test_sents_pos,\n",
    "                          t_word2index, BATCH_SIZE, MAX_SEQLEN)"
   ]
  },
  {
   "cell_type": "code",
   "execution_count": 38,
   "metadata": {},
   "outputs": [],
   "source": [
    "sents_word, word_frequencies, sents_pos, pos_frequencies = parsed_sentences(train_conll_fname)\n",
    "test_sents_word, test_word_frequencies, test_sents_pos, test_pos_frequencies = parsed_sentences(test_conll_fname)"
   ]
  },
  {
   "cell_type": "code",
   "execution_count": 39,
   "metadata": {},
   "outputs": [],
   "source": [
    "hist_acc, hist_val_acc, hist_loss, hist_val_loss = [], [], [], []"
   ]
  },
  {
   "cell_type": "code",
   "execution_count": 40,
   "metadata": {},
   "outputs": [
    {
     "name": "stdout",
     "output_type": "stream",
     "text": [
      "Epoch 1/5\n",
      "85/85 [==============================] - 17s 200ms/step - loss: 0.3356 - acc: 0.8826 - val_loss: 1.5704 - val_acc: 0.5879\n",
      "Epoch 2/5\n",
      "85/85 [==============================] - 17s 198ms/step - loss: 0.3131 - acc: 0.8930 - val_loss: 1.6271 - val_acc: 0.5880\n",
      "Epoch 3/5\n",
      "85/85 [==============================] - 17s 200ms/step - loss: 0.3157 - acc: 0.8901 - val_loss: 1.6494 - val_acc: 0.5860\n",
      "Epoch 4/5\n",
      "85/85 [==============================] - 17s 201ms/step - loss: 0.2946 - acc: 0.8998 - val_loss: 1.7493 - val_acc: 0.5720\n",
      "Epoch 5/5\n",
      "85/85 [==============================] - 17s 201ms/step - loss: 0.2749 - acc: 0.9071 - val_loss: 1.7256 - val_acc: 0.5870\n",
      "================================================================================\n",
      "Iteration # 1\n",
      "--------------------------------------------------------------------------------\n",
      "label:     При//ADP цій//DET UNK//NOUN вести//VERB в//ADP кожній//DET хаті//NOUN нашу//DET UNK//NOUN .//PUNCT\n",
      "predicted: При//PAD цій//DET UNK//DET вести//DET в//VERB кожній//VERB хаті//NOUN нашу//NUM UNK//NOUN .//PUNCT\n",
      "--------------------------------------------------------------------------------\n",
      "label:     США//PROPN на//ADP 2017//ADJ рік//NOUN ,//PUNCT згідно//ADV з//ADP яким//DET на//ADP UNK//ADJ допомогу//NOUN Україні//PROPN UNK//VERB $//NOUN 350//NUM млн//NOUN .//PUNCT\n",
      "predicted: США//NOUN на//NOUN 2017//ADJ рік//NOUN ,//NOUN згідно//PROPN з//ADP яким//ADP на//ADP UNK//NOUN допомогу//ADP Україні//NOUN UNK//NOUN $//NUM 350//NUM млн//PROPN .//PUNCT\n",
      "--------------------------------------------------------------------------------\n",
      "label:     2011//ADJ році//NOUN міський//ADJ UNK//NOUN культури//NOUN подає//VERB в//ADP суд//NOUN на//ADP UNK//NOUN за//ADP UNK//NOUN забезпечити//VERB нормальний//ADJ будівельний//ADJ процес//NOUN .//PUNCT\n",
      "predicted: 2011//NOUN році//NOUN міський//ADJ UNK//NOUN культури//VERB подає//ADP в//ADP суд//ADP на//ADP UNK//NOUN за//NOUN UNK//ADJ забезпечити//NOUN нормальний//ADJ будівельний//ADJ процес//NOUN .//PUNCT\n",
      "--------------------------------------------------------------------------------\n",
      "label:     З//ADP того//DET часу//NOUN не//PART стало//VERB на//ADP землі//NOUN UNK//ADJ спокою//NOUN ,//PUNCT UNK//VERB блискуча//ADJ божа//ADJ мрія//NOUN .//PUNCT\n",
      "predicted: З//DET того//DET часу//PRON не//VERB стало//ADP на//NOUN землі//NOUN UNK//NOUN спокою//NOUN ,//PUNCT UNK//VERB блискуча//NOUN божа//ADJ мрія//NOUN .//PUNCT\n",
      "--------------------------------------------------------------------------------\n",
      "label:     Не//PART UNK//VERB UNK//NOUN .//PUNCT\n",
      "predicted: Не//PART UNK//PART UNK//NOUN .//PUNCT\n",
      "--------------------------------------------------------------------------------\n",
      "Epoch 1/5\n",
      "85/85 [==============================] - 17s 204ms/step - loss: 0.2636 - acc: 0.9129 - val_loss: 1.6959 - val_acc: 0.5998\n",
      "Epoch 2/5\n",
      "85/85 [==============================] - 17s 204ms/step - loss: 0.2380 - acc: 0.9223 - val_loss: 1.7647 - val_acc: 0.5964\n",
      "Epoch 3/5\n",
      "85/85 [==============================] - 17s 203ms/step - loss: 0.2238 - acc: 0.9285 - val_loss: 1.8151 - val_acc: 0.5819\n",
      "Epoch 4/5\n",
      "85/85 [==============================] - 17s 203ms/step - loss: 0.2093 - acc: 0.9334 - val_loss: 1.8033 - val_acc: 0.5936\n",
      "Epoch 5/5\n",
      "85/85 [==============================] - 17s 203ms/step - loss: 0.2007 - acc: 0.9371 - val_loss: 1.8561 - val_acc: 0.5913\n",
      "================================================================================\n",
      "Iteration # 2\n",
      "--------------------------------------------------------------------------------\n",
      "label:     не//PART давати//VERB їм//PRON ні//PART стрічки//NOUN »//PUNCT ,//PUNCT UNK//VERB ,//PUNCT писати//VERB для//ADP себе//PRON ,//PUNCT аніж//SCONJ терпіти//VERB UNK//NOUN .//PUNCT\n",
      "predicted: не//PART давати//PART їм//VERB ні//VERB стрічки//PUNCT »//PUNCT ,//CCONJ UNK//PUNCT ,//PUNCT писати//VERB для//PRON себе//VERB ,//PUNCT аніж//SCONJ терпіти//PRON UNK//VERB .//PUNCT\n",
      "--------------------------------------------------------------------------------\n",
      "label:     Там//ADV була//VERB група//NOUN ,//PUNCT яка//DET займалася//VERB UNK//NOUN UNK//NOUN .//PUNCT\n",
      "predicted: Там//ADV була//DET група//NOUN ,//PUNCT яка//ADV займалася//DET UNK//ADJ UNK//NOUN .//PUNCT\n",
      "--------------------------------------------------------------------------------\n",
      "label:     UNK//VERB UNK//ADJ пояснення//NOUN воякам//NOUN і//CCONJ UNK//NOUN відносно//ADP політично//ADJ -//PUNCT UNK//ADJ і//CCONJ боєвої//ADJ UNK//NOUN UNK//ADP рейду//NOUN .//PUNCT\n",
      "predicted: UNK//PAD UNK//VERB пояснення//VERB воякам//NOUN і//NOUN UNK//NOUN відносно//ADJ політично//NOUN -//PUNCT UNK//CCONJ і//ADJ боєвої//NOUN UNK//ADJ UNK//ADJ рейду//NOUN .//PUNCT\n",
      "--------------------------------------------------------------------------------\n",
      "label:     UNK//ADJ компанії//NOUN вперше//ADV дозволили//VERB видобувати//VERB уран//NOUN в//ADP Україні//PROPN\n",
      "predicted: UNK//PAD компанії//NOUN вперше//PART дозволили//PART видобувати//VERB уран//ADP в//NOUN Україні//PUNCT\n",
      "--------------------------------------------------------------------------------\n",
      "label:     «//PUNCT А//PROPN -//PUNCT 50//NUM »//PUNCT UNK//VERB UNK//NOUN і//CCONJ передав//VERB UNK//NOUN на//ADP «//PUNCT UNK//NOUN -//PUNCT 24//NUM »//PUNCT .//PUNCT\n",
      "predicted: «//PUNCT А//PUNCT -//PUNCT 50//PUNCT »//PROPN UNK//PUNCT UNK//CCONJ і//ADJ передав//NOUN UNK//NOUN на//ADP «//ADP UNK//NOUN -//PUNCT 24//PUNCT »//PUNCT .//PUNCT\n",
      "--------------------------------------------------------------------------------\n",
      "Epoch 1/5\n",
      "85/85 [==============================] - 17s 204ms/step - loss: 0.1933 - acc: 0.9405 - val_loss: 1.9254 - val_acc: 0.5833\n",
      "Epoch 2/5\n",
      "85/85 [==============================] - 17s 203ms/step - loss: 0.1878 - acc: 0.9424 - val_loss: 1.8992 - val_acc: 0.5913\n",
      "Epoch 3/5\n",
      "85/85 [==============================] - 17s 203ms/step - loss: 0.1742 - acc: 0.9473 - val_loss: 1.9318 - val_acc: 0.5856\n",
      "Epoch 4/5\n",
      "85/85 [==============================] - 17s 204ms/step - loss: 0.1686 - acc: 0.9496 - val_loss: 1.9259 - val_acc: 0.6024\n",
      "Epoch 5/5\n",
      "85/85 [==============================] - 17s 205ms/step - loss: 0.1570 - acc: 0.9538 - val_loss: 1.9639 - val_acc: 0.5877\n",
      "================================================================================\n",
      "Iteration # 3\n",
      "--------------------------------------------------------------------------------\n",
      "label:     UNK//VERB UNK//NOUN і//CCONJ порається//VERB коло//ADP печі//NOUN ,//PUNCT так//ADV ,//PUNCT аби//SCONJ UNK//VERB ,//PUNCT що//SCONJ вона//PRON UNK//VERB .//PUNCT )//PUNCT\n",
      "predicted: UNK//NOUN UNK//CCONJ і//VERB порається//VERB коло//PUNCT печі//ADJ ,//NOUN так//PUNCT ,//PART аби//VERB UNK//VERB ,//PUNCT що//SCONJ вона//PRON UNK//NOUN .//PUNCT )//PUNCT\n",
      "--------------------------------------------------------------------------------\n",
      "label:     –//PUNCT UNK//ADJ обставин//NOUN є//AUX документ//NOUN ,//PUNCT UNK//ADJ UNK//ADJ -//PUNCT UNK//ADJ UNK//NOUN України//PROPN або//CCONJ UNK//ADJ UNK//ADJ UNK//NOUN .//PUNCT\n",
      "predicted: –//PUNCT UNK//PUNCT обставин//PUNCT є//VERB документ//PUNCT ,//PUNCT UNK//PUNCT UNK//ADJ -//NOUN UNK//PUNCT UNK//VERB України//NOUN або//NOUN UNK//CCONJ UNK//NUM UNK//NOUN .//PUNCT\n",
      "--------------------------------------------------------------------------------\n",
      "label:     (//PUNCT UNK//VERB .//PUNCT )//PUNCT\n",
      "predicted: (//PUNCT UNK//PUNCT .//PUNCT )//PUNCT\n",
      "--------------------------------------------------------------------------------\n",
      "label:     Про//ADP це//PRON йдеться//VERB в//ADP UNK//NOUN UNK//PROPN №//NOUN UNK//NUM -//PUNCT 95//NUM від//ADP 28//ADJ лютого//NOUN ,//PUNCT пише//VERB UNK//PROPN .//PUNCT\n",
      "predicted: Про//ADP це//ADP йдеться//ADP в//NOUN UNK//VERB UNK//ADP №//NOUN UNK//NOUN -//NOUN 95//NOUN від//NOUN 28//NOUN лютого//NOUN ,//PUNCT пише//NUM UNK//NUM .//PUNCT\n",
      "--------------------------------------------------------------------------------\n",
      "label:     пункті//NOUN 2//NUM цього//DET UNK//NOUN ,//PUNCT самостійно//ADV забезпечують//VERB виготовлення//NOUN UNK//NOUN паспортів//NOUN на//ADP UNK//ADJ музичний//ADJ інструмент//NOUN і//CCONJ UNK//NOUN .//PUNCT\n",
      "predicted: пункті//DET 2//NOUN цього//NOUN UNK//DET ,//NOUN самостійно//PUNCT забезпечують//NOUN виготовлення//NOUN UNK//NOUN паспортів//ADP на//NOUN UNK//ADJ музичний//NOUN інструмент//CCONJ і//CCONJ UNK//NOUN .//PUNCT\n",
      "--------------------------------------------------------------------------------\n",
      "Epoch 1/5\n"
     ]
    },
    {
     "name": "stdout",
     "output_type": "stream",
     "text": [
      "85/85 [==============================] - 17s 202ms/step - loss: 0.1445 - acc: 0.9595 - val_loss: 1.9794 - val_acc: 0.5899\n",
      "Epoch 2/5\n",
      "85/85 [==============================] - 17s 198ms/step - loss: 0.1306 - acc: 0.9643 - val_loss: 2.0118 - val_acc: 0.5942\n",
      "Epoch 3/5\n",
      "85/85 [==============================] - 17s 198ms/step - loss: 0.1287 - acc: 0.9650 - val_loss: 2.1354 - val_acc: 0.5847\n",
      "Epoch 4/5\n",
      "85/85 [==============================] - 17s 200ms/step - loss: 0.1272 - acc: 0.9645 - val_loss: 2.0877 - val_acc: 0.5894\n",
      "Epoch 5/5\n",
      "85/85 [==============================] - 17s 199ms/step - loss: 0.1303 - acc: 0.9632 - val_loss: 2.0966 - val_acc: 0.5959\n",
      "================================================================================\n",
      "Iteration # 4\n",
      "--------------------------------------------------------------------------------\n",
      "label:     UNK//PROPN ,//PUNCT обласній//ADJ UNK//ADJ адміністрації//NOUN для//ADP надання//NOUN висновку//NOUN щодо//ADP UNK//NOUN цього//DET проекту//NOUN Конституції//NOUN та//CCONJ UNK//NOUN України//PROPN .//PUNCT\n",
      "predicted: UNK//NOUN ,//PUNCT обласній//PROPN UNK//PROPN адміністрації//VERB для//ADP надання//ADP висновку//ADP щодо//NOUN UNK//NOUN цього//ADJ проекту//ADJ Конституції//CCONJ та//CCONJ UNK//ADJ України//NOUN .//PUNCT\n",
      "--------------------------------------------------------------------------------\n",
      "label:     Є//VERB в//ADP ньому//PRON —//PUNCT UNK//NOUN ,//PUNCT що//SCONJ дає//VERB відповідь//NOUN на//ADP всякі//DET питання//NOUN .//PUNCT\n",
      "predicted: Є//VERB в//ADP ньому//ADP —//PUNCT UNK//NOUN ,//PUNCT що//SCONJ дає//VERB відповідь//NOUN на//ADP всякі//DET питання//NOUN .//PUNCT\n",
      "--------------------------------------------------------------------------------\n",
      "label:     »//PUNCT ,//PUNCT який//DET UNK//ADV з//ADP UNK//NOUN розвитку//NOUN класу//NOUN –//PUNCT UNK//NOUN зумів//VERB дати//VERB UNK//NOUN корисний//ADJ твір//NOUN »//PUNCT .//PUNCT\n",
      "predicted: »//PUNCT ,//PUNCT який//ADP UNK//NOUN з//ADP UNK//ADJ розвитку//NOUN класу//NOUN –//PUNCT UNK//VERB зумів//ADJ дати//NOUN UNK//ADJ корисний//ADJ твір//NOUN »//PUNCT .//PUNCT\n",
      "--------------------------------------------------------------------------------\n",
      "label:     UNK//ADJ ,//PUNCT як//SCONJ UNK//NOUN ,//PUNCT сиджу//VERB —//PUNCT UNK//VERB неможливо//ADV ,//PUNCT що//SCONJ я//PRON людина//NOUN .//PUNCT\n",
      "predicted: UNK//ADV ,//PUNCT як//PUNCT UNK//PUNCT ,//PUNCT сиджу//PUNCT —//NOUN UNK//NOUN неможливо//VERB ,//PUNCT що//SCONJ я//PRON людина//PRON .//PUNCT\n",
      "--------------------------------------------------------------------------------\n",
      "label:     важливо//ADV ,//PUNCT щоб//SCONJ наші//DET UNK//ADJ UNK//NOUN чітко//ADV розуміли//VERB про//ADP те//PRON ,//PUNCT які//DET зміни//NOUN відбуваються//VERB в//ADP Україні//PROPN .//PUNCT\n",
      "predicted: важливо//PUNCT ,//ADV щоб//VERB наші//SCONJ UNK//VERB UNK//ADP чітко//NOUN розуміли//ADP про//ADJ те//PROPN ,//SCONJ які//AUX зміни//VERB відбуваються//ADP в//ADJ Україні//NOUN .//PUNCT\n",
      "--------------------------------------------------------------------------------\n",
      "Epoch 1/5\n",
      "85/85 [==============================] - 17s 201ms/step - loss: 0.1840 - acc: 0.9417 - val_loss: 2.0672 - val_acc: 0.5961\n",
      "Epoch 2/5\n",
      "85/85 [==============================] - 17s 200ms/step - loss: 0.1627 - acc: 0.9503 - val_loss: 2.0800 - val_acc: 0.5976\n",
      "Epoch 3/5\n",
      "85/85 [==============================] - 17s 200ms/step - loss: 0.1536 - acc: 0.9527 - val_loss: 2.1149 - val_acc: 0.5892\n",
      "Epoch 4/5\n",
      "85/85 [==============================] - 17s 199ms/step - loss: 0.1338 - acc: 0.9606 - val_loss: 2.1166 - val_acc: 0.5899\n",
      "Epoch 5/5\n",
      "85/85 [==============================] - 17s 200ms/step - loss: 0.1170 - acc: 0.9674 - val_loss: 2.2135 - val_acc: 0.5897\n",
      "================================================================================\n",
      "Iteration # 5\n",
      "--------------------------------------------------------------------------------\n",
      "label:     Зокрема//ADV господині//NOUN UNK//VERB UNK//NOUN .//PUNCT\n",
      "predicted: Зокрема//ADV господині//VERB UNK//ADJ UNK//NOUN .//PUNCT\n",
      "--------------------------------------------------------------------------------\n",
      "label:     всі//DET боки//NOUN і//CCONJ UNK//VERB ,//PUNCT замість//ADP струнко//ADV йти//VERB до//ADP UNK//NOUN чи//CCONJ хоч//PART до//ADP якогось//DET художнього//ADJ ефекту//NOUN !//PUNCT\n",
      "predicted: всі//NOUN боки//NOUN і//VERB UNK//NOUN ,//NOUN замість//PUNCT струнко//CCONJ йти//CCONJ до//NOUN UNK//NOUN чи//VERB хоч//ADP до//NOUN якогось//ADJ художнього//NOUN ефекту//NOUN !//PUNCT\n",
      "--------------------------------------------------------------------------------\n",
      "label:     UNK//NOUN будівель//NOUN встановлюються//VERB центральним//ADJ органом//NOUN виконавчої//ADJ влади//NOUN ,//PUNCT що//SCONJ забезпечує//VERB формування//NOUN державної//ADJ політики//NOUN у//ADP сфері//NOUN будівництва//NOUN .//PUNCT\n",
      "predicted: UNK//VERB будівель//VERB встановлюються//ADJ центральним//NOUN органом//NOUN виконавчої//ADJ влади//NOUN ,//PUNCT що//SCONJ забезпечує//VERB формування//ADP державної//NOUN політики//ADP у//NOUN сфері//ADJ будівництва//NOUN .//PUNCT\n",
      "--------------------------------------------------------------------------------\n",
      "label:     Але//CCONJ UNK//ADJ значення//NOUN це//PRON не//PART має//VERB .//PUNCT\n",
      "predicted: Але//PAD UNK//PART значення//NOUN це//NOUN не//PART має//VERB .//PUNCT\n",
      "--------------------------------------------------------------------------------\n",
      "label:     через//ADP одних//DET UNK//NOUN до//ADP других//DET ,//PUNCT їхніх//DET UNK//NOUN ,//PUNCT -//PUNCT туди//ADV ,//PUNCT куди//ADV пошта//NOUN не//PART сприяє//VERB .//PUNCT\n",
      "predicted: через//ADP одних//NOUN UNK//ADP до//ADP других//NOUN ,//ADV їхніх//NOUN UNK//PUNCT ,//ADV -//ADV туди//VERB ,//PUNCT куди//ADV пошта//NOUN не//PART сприяє//VERB .//PUNCT\n",
      "--------------------------------------------------------------------------------\n",
      "Epoch 1/5\n",
      "85/85 [==============================] - 17s 201ms/step - loss: 0.0957 - acc: 0.9765 - val_loss: 2.1730 - val_acc: 0.5901\n",
      "Epoch 2/5\n",
      "85/85 [==============================] - 17s 200ms/step - loss: 0.0830 - acc: 0.9814 - val_loss: 2.1390 - val_acc: 0.6009\n",
      "Epoch 3/5\n",
      "85/85 [==============================] - 17s 201ms/step - loss: 0.0642 - acc: 0.9870 - val_loss: 2.2535 - val_acc: 0.5910\n",
      "Epoch 4/5\n",
      "85/85 [==============================] - 17s 201ms/step - loss: 0.0583 - acc: 0.9893 - val_loss: 2.2977 - val_acc: 0.5927\n",
      "Epoch 5/5\n",
      "85/85 [==============================] - 17s 202ms/step - loss: 0.0501 - acc: 0.9914 - val_loss: 2.3189 - val_acc: 0.5904\n",
      "================================================================================\n",
      "Iteration # 6\n",
      "--------------------------------------------------------------------------------\n",
      "label:     музикою//NOUN ,//PUNCT а//CCONJ актори//NOUN UNK//VERB в//ADP ролі//NOUN живих//ADJ моделей//NOUN UNK//ADJ «//PUNCT соціально//ADJ -//PUNCT UNK//ADJ UNK//NOUN »//PUNCT .//PUNCT\n",
      "predicted: музикою//NOUN ,//PUNCT а//CCONJ актори//PUNCT UNK//ADP в//NOUN ролі//NOUN живих//NOUN моделей//NOUN UNK//NOUN «//PUNCT соціально//NOUN -//PUNCT UNK//PUNCT UNK//NOUN »//PUNCT .//PUNCT\n",
      "--------------------------------------------------------------------------------\n",
      "label:     UNK//X UNK//X ,//PUNCT що//SCONJ б//PART Ви//PRON могли//VERB UNK//VERB кожен//DET етап//NOUN Вашого//DET замовлення//NOUN в//ADP режимі//NOUN реального//ADJ часу//NOUN .//PUNCT\n",
      "predicted: UNK//NOUN UNK//ADJ ,//PUNCT що//SCONJ б//SCONJ Ви//SCONJ могли//DET UNK//DET кожен//NOUN етап//NOUN Вашого//NOUN замовлення//ADJ в//NOUN режимі//ADJ реального//ADJ часу//NOUN .//PUNCT\n",
      "--------------------------------------------------------------------------------\n",
      "label:     Окрім//ADP UNK//NOUN ,//PUNCT за//ADP яку//DET нарешті//ADV взялися//VERB ,//PUNCT UNK//ADJ ще//ADV й//PART UNK//NOUN .//PUNCT\n",
      "predicted: Окрім//ADP UNK//NOUN ,//NOUN за//NOUN яку//PUNCT нарешті//PUNCT взялися//ADV ,//PUNCT UNK//ADV ще//ADV й//PART UNK//VERB .//PUNCT\n",
      "--------------------------------------------------------------------------------\n",
      "label:     Він//PRON теж//ADV UNK//NOUN .//PUNCT\n",
      "predicted: Він//ADV теж//ADV UNK//VERB .//PUNCT\n",
      "--------------------------------------------------------------------------------\n",
      "label:     США//PROPN на//ADP 2017//ADJ рік//NOUN ,//PUNCT згідно//ADV з//ADP яким//DET на//ADP UNK//ADJ допомогу//NOUN Україні//PROPN UNK//VERB $//NOUN 350//NUM млн//NOUN .//PUNCT\n",
      "predicted: США//VERB на//ADP 2017//ADP рік//NOUN ,//NOUN згідно//ADP з//ADP яким//NOUN на//ADP UNK//ADP допомогу//PRON Україні//ADJ UNK//NOUN $//NUM 350//NUM млн//PROPN .//PUNCT\n",
      "--------------------------------------------------------------------------------\n"
     ]
    }
   ],
   "source": [
    "for i in range(NUM_ITERATIONS):    \n",
    "    history = Bidirectional_POS_TAGGER.fit_generator(train_gen, \n",
    "                                  steps_per_epoch=num_train_samples, \n",
    "                                  epochs=NUM_EPOCHS,\n",
    "                                  validation_data=test_gen, \n",
    "                                  validation_steps=num_test_samples)\n",
    "    # save off history data\n",
    "    hist_acc.extend(history.history[\"acc\"])\n",
    "    hist_val_acc.extend(history.history[\"val_acc\"])\n",
    "    hist_loss.extend(history.history[\"loss\"])\n",
    "    hist_val_loss.extend(history.history[\"val_loss\"])\n",
    "    \n",
    "    # Проиллюстрируем некоторые примеры разметки\n",
    "    \n",
    "    Xtest, Ytest = next(test_gen)\n",
    "    Ytest_ = Bidirectional_POS_TAGGER.predict(Xtest)\n",
    "    ytest = np.argmax(Ytest, axis=2)\n",
    "    ytest_ = np.argmax(Ytest_, axis=2)\n",
    "    \n",
    "    print(\"=\" * 80)\n",
    "    print(\"Iteration # {:d}\".format(i + 1))\n",
    "    print(\"-\" * 80)\n",
    "    for i in range(min(5, Ytest.shape[0])):\n",
    "        sent_ids = Xtest[i]\n",
    "        sent_words = [s_index2word[x] for x in sent_ids.tolist()]\n",
    "        pos_labels = [t_index2word[x] for x in ytest[i].tolist()]\n",
    "        pos_preds = [t_index2word[x] for x in ytest_[i].tolist()]\n",
    "        triples = [x for x in zip(sent_words, pos_labels, pos_preds)\n",
    "            if x[0] != \"PAD\"]\n",
    "        print(\"label:     \" + \" \".join([x[0] +\"//\"+x[1].upper() \n",
    "            for x in triples]))\n",
    "        print(\"predicted: \" + \" \".join([x[0] +\"//\"+x[2].upper() \n",
    "            for x in triples]))\n",
    "        print(\"-\" * 80)"
   ]
  },
  {
   "cell_type": "code",
   "execution_count": 42,
   "metadata": {},
   "outputs": [
    {
     "data": {
      "image/png": "[encoded data removed]",
      "text/plain": [
       "<Figure size 864x576 with 2 Axes>"
      ]
     },
     "metadata": {
      "needs_background": "light"
     },
     "output_type": "display_data"
    }
   ],
   "source": [
    "# plot loss and accuracy\n",
    "plot_model_performance(history.history[\"loss\"], history.history[\"acc\"], history.history[\"val_loss\"], history.history[\"val_acc\"])"
   ]
  },
  {
   "cell_type": "markdown",
   "metadata": {},
   "source": [
    "## 3. GRU"
   ]
  },
  {
   "cell_type": "code",
   "execution_count": 43,
   "metadata": {},
   "outputs": [],
   "source": [
    "train_gen = generate_batch(sents_word, s_word2index, sents_pos,\n",
    "                           t_word2index, BATCH_SIZE, MAX_SEQLEN)\n",
    "test_gen = generate_batch(test_sents_word, s_word2index, test_sents_pos,\n",
    "                          t_word2index, BATCH_SIZE, MAX_SEQLEN)"
   ]
  },
  {
   "cell_type": "code",
   "execution_count": 44,
   "metadata": {},
   "outputs": [],
   "source": [
    "sents_word, word_frequencies, sents_pos, pos_frequencies = parsed_sentences(train_conll_fname)\n",
    "test_sents_word, test_word_frequencies, test_sents_pos, test_pos_frequencies = parsed_sentences(test_conll_fname)"
   ]
  },
  {
   "cell_type": "code",
   "execution_count": 45,
   "metadata": {},
   "outputs": [],
   "source": [
    "hist_acc, hist_val_acc, hist_loss, hist_val_loss = [], [], [], []"
   ]
  },
  {
   "cell_type": "code",
   "execution_count": 46,
   "metadata": {},
   "outputs": [],
   "source": [
    "GRU_POS_TAGGER = build_pos_tagger_GRU()"
   ]
  },
  {
   "cell_type": "code",
   "execution_count": 47,
   "metadata": {},
   "outputs": [
    {
     "name": "stdout",
     "output_type": "stream",
     "text": [
      "Epoch 1/5\n",
      "85/85 [==============================] - 18s 213ms/step - loss: 2.0800 - acc: 0.3630 - val_loss: 1.7346 - val_acc: 0.4440\n",
      "Epoch 2/5\n",
      "85/85 [==============================] - 12s 146ms/step - loss: 1.7029 - acc: 0.4462 - val_loss: 1.6997 - val_acc: 0.4584\n",
      "Epoch 3/5\n",
      "85/85 [==============================] - 12s 139ms/step - loss: 1.6307 - acc: 0.4631 - val_loss: 1.6319 - val_acc: 0.4778\n",
      "Epoch 4/5\n",
      "85/85 [==============================] - 13s 148ms/step - loss: 1.5607 - acc: 0.4832 - val_loss: 1.6007 - val_acc: 0.4862\n",
      "Epoch 5/5\n",
      "85/85 [==============================] - 13s 152ms/step - loss: 1.4933 - acc: 0.5019 - val_loss: 1.5398 - val_acc: 0.4897\n",
      "================================================================================\n",
      "Iteration # 1\n",
      "--------------------------------------------------------------------------------\n",
      "label:     UNK//NOUN та//CCONJ владі//NOUN Києва//PROPN за//ADP UNK//ADJ і//CCONJ UNK//ADJ UNK//NOUN у//ADP питаннях//NOUN підготовки//NOUN до//ADP UNK//ADJ UNK//ADJ UNK//NOUN .//PUNCT\n",
      "predicted: UNK//NOUN та//NOUN владі//NOUN Києва//NOUN за//NOUN UNK//NOUN і//NOUN UNK//NOUN UNK//NOUN у//NOUN питаннях//NOUN підготовки//NOUN до//NOUN UNK//NOUN UNK//NOUN UNK//PUNCT .//PUNCT\n",
      "--------------------------------------------------------------------------------\n",
      "label:     Коли//ADV всі//DET корені//NOUN різні//ADJ ,//PUNCT ми//PRON маємо//VERB UNK//X різних//ADJ UNK//NOUN UNK//ADJ UNK//NOUN .//PUNCT\n",
      "predicted: Коли//PAD всі//NOUN корені//NOUN різні//NOUN ,//NOUN ми//NOUN маємо//NOUN UNK//NOUN різних//NOUN UNK//NOUN UNK//NOUN UNK//NOUN .//PUNCT\n",
      "--------------------------------------------------------------------------------\n",
      "label:     школи//NOUN працювали//VERB над//ADP UNK//NOUN свята//NOUN Першого//ADJ UNK//NOUN в//ADP новому//ADJ форматі//NOUN ,//PUNCT без//ADP UNK//ADJ звітів//NOUN та//CCONJ промов//NOUN .//PUNCT\n",
      "predicted: школи//NOUN працювали//NOUN над//NOUN UNK//NOUN свята//NOUN Першого//NOUN UNK//NOUN в//NOUN новому//NOUN форматі//NOUN ,//NOUN без//NOUN UNK//NOUN звітів//NOUN та//NOUN промов//PUNCT .//PUNCT\n",
      "--------------------------------------------------------------------------------\n",
      "label:     UNK//VERB UNK//ADJ пояснення//NOUN воякам//NOUN і//CCONJ UNK//NOUN відносно//ADP політично//ADJ -//PUNCT UNK//ADJ і//CCONJ боєвої//ADJ UNK//NOUN UNK//ADP рейду//NOUN .//PUNCT\n",
      "predicted: UNK//NOUN UNK//NOUN пояснення//NOUN воякам//NOUN і//NOUN UNK//NOUN відносно//NOUN політично//NOUN -//NOUN UNK//NOUN і//NOUN боєвої//NOUN UNK//NOUN UNK//NOUN рейду//PUNCT .//PUNCT\n",
      "--------------------------------------------------------------------------------\n",
      "label:     5//NUM .//PUNCT\n",
      "predicted: 5//PAD .//PUNCT\n",
      "--------------------------------------------------------------------------------\n",
      "Epoch 1/5\n",
      "85/85 [==============================] - 12s 146ms/step - loss: 1.4490 - acc: 0.5122 - val_loss: 1.5143 - val_acc: 0.5090\n",
      "Epoch 2/5\n",
      "85/85 [==============================] - 12s 146ms/step - loss: 1.4240 - acc: 0.5202 - val_loss: 1.4663 - val_acc: 0.5194\n",
      "Epoch 3/5\n",
      "85/85 [==============================] - 12s 145ms/step - loss: 1.3924 - acc: 0.5255 - val_loss: 1.5028 - val_acc: 0.5083\n",
      "Epoch 4/5\n",
      "85/85 [==============================] - 13s 156ms/step - loss: 1.3656 - acc: 0.5329 - val_loss: 1.4638 - val_acc: 0.5192\n",
      "Epoch 5/5\n",
      "85/85 [==============================] - 13s 158ms/step - loss: 1.3349 - acc: 0.5407 - val_loss: 1.4526 - val_acc: 0.5210\n",
      "================================================================================\n",
      "Iteration # 2\n",
      "--------------------------------------------------------------------------------\n",
      "label:     UNK//NOUN акцій//NOUN ,//PUNCT що//SCONJ належить//VERB державі//NOUN у//ADP UNK//ADJ UNK//NOUN приватного//ADJ UNK//ADJ товариства//NOUN “//PUNCT UNK//ADJ UNK//NOUN ”//PUNCT .//PUNCT\n",
      "predicted: UNK//NOUN акцій//NOUN ,//NOUN що//NOUN належить//NOUN державі//NOUN у//NOUN UNK//NOUN UNK//NOUN приватного//PUNCT UNK//PUNCT товариства//NOUN “//NOUN UNK//NOUN UNK//NOUN ”//PUNCT .//PUNCT\n",
      "--------------------------------------------------------------------------------\n",
      "label:     Але//CCONJ UNK//VERB UNK//VERB з//ADP UNK//NOUN ,//PUNCT бо//SCONJ самому//DET йому//PRON було//AUX важко//ADV .//PUNCT\n",
      "predicted: Але//ADV UNK//VERB UNK//NOUN з//NOUN UNK//NOUN ,//PUNCT бо//PUNCT самому//VERB йому//VERB було//VERB важко//NOUN .//PUNCT\n",
      "--------------------------------------------------------------------------------\n",
      "label:     цікаве//ADJ UNK//NOUN .//PUNCT\n",
      "predicted: цікаве//NOUN UNK//NOUN .//PUNCT\n",
      "--------------------------------------------------------------------------------\n",
      "label:     до//ADP складу//NOUN UNK//ADJ UNK//ADJ ради//NOUN UNK//ADJ району//NOUN UNK//ADJ області//NOUN входить//VERB \"//PUNCT UNK//NOUN міського//ADJ типу//NOUN UNK//PROPN \"//PUNCT .//PUNCT\n",
      "predicted: до//NOUN складу//NOUN UNK//NOUN UNK//NOUN ради//NOUN UNK//NOUN району//NOUN UNK//NOUN області//NOUN входить//NOUN \"//NOUN UNK//NOUN міського//NOUN типу//NOUN UNK//NOUN \"//PUNCT .//PUNCT\n",
      "--------------------------------------------------------------------------------\n",
      "label:     Шановні//ADJ UNK//NOUN !//PUNCT\n",
      "predicted: Шановні//NOUN UNK//NOUN !//PUNCT\n",
      "--------------------------------------------------------------------------------\n",
      "Epoch 1/5\n",
      "85/85 [==============================] - 11s 135ms/step - loss: 1.3057 - acc: 0.5505 - val_loss: 1.4621 - val_acc: 0.5154\n",
      "Epoch 2/5\n",
      "85/85 [==============================] - 11s 132ms/step - loss: 1.2850 - acc: 0.5543 - val_loss: 1.4992 - val_acc: 0.5073\n",
      "Epoch 3/5\n",
      "85/85 [==============================] - 11s 132ms/step - loss: 1.2565 - acc: 0.5630 - val_loss: 1.4793 - val_acc: 0.5148\n",
      "Epoch 4/5\n",
      "85/85 [==============================] - 11s 132ms/step - loss: 1.2235 - acc: 0.5735 - val_loss: 1.4304 - val_acc: 0.5308\n",
      "Epoch 5/5\n",
      "85/85 [==============================] - 13s 149ms/step - loss: 1.1850 - acc: 0.5836 - val_loss: 1.4698 - val_acc: 0.5169\n",
      "================================================================================\n",
      "Iteration # 3\n",
      "--------------------------------------------------------------------------------\n",
      "label:     UNK//NOUN )//PUNCT ,//PUNCT UNK//NOUN UNK//PROPN і//CCONJ UNK//PROPN ,//PUNCT UNK//ADJ UNK//NOUN і//CCONJ UNK//ADJ UNK//NOUN партії//NOUN в//ADP Америці//PROPN .//PUNCT\n",
      "predicted: UNK//NOUN )//NOUN ,//NOUN UNK//PUNCT UNK//PUNCT і//NOUN UNK//NOUN ,//NOUN UNK//NOUN UNK//NOUN і//NOUN UNK//NOUN UNK//NOUN партії//ADP в//ADP Америці//NOUN .//PUNCT\n",
      "--------------------------------------------------------------------------------\n",
      "label:     ціль//NOUN –//PUNCT вони//PRON мають//VERB бути//AUX розташовані//ADJ по//ADP всій//DET UNK//ADJ території//NOUN »//PUNCT ,//PUNCT -//PUNCT сказав//VERB Петро//PROPN Порошенко//PROPN .//PUNCT\n",
      "predicted: ціль//PUNCT –//PUNCT вони//PUNCT мають//PUNCT бути//PUNCT розташовані//PUNCT по//PUNCT всій//PUNCT UNK//PUNCT території//PUNCT »//PUNCT ,//PUNCT -//PUNCT сказав//PUNCT Петро//ADJ Порошенко//NOUN .//PUNCT\n",
      "--------------------------------------------------------------------------------\n",
      "label:     Мій//DET батько//NOUN був//AUX великим//ADJ UNK//NOUN .//PUNCT\n",
      "predicted: Мій//PAD батько//NOUN був//NOUN великим//ADJ UNK//NOUN .//PUNCT\n",
      "--------------------------------------------------------------------------------\n",
      "label:     коли//SCONJ п’ять//NUM лідерів//NOUN своїх//DET країн//NOUN UNK//VERB одним//DET UNK//NOUN на//ADP територію//NOUN чужої//ADJ країни//NOUN ,//PUNCT де//ADV відбувається//VERB війна//NOUN .//PUNCT\n",
      "predicted: коли//PUNCT п’ять//PUNCT лідерів//PUNCT своїх//PUNCT країн//PUNCT UNK//PUNCT одним//NOUN UNK//NOUN на//NOUN територію//PUNCT чужої//PUNCT країни//PUNCT ,//PUNCT де//VERB відбувається//VERB війна//VERB .//PUNCT\n",
      "--------------------------------------------------------------------------------\n",
      "label:     UNK//VERB до//ADP речей//NOUN UNK//ADJ і//CCONJ UNK//ADJ нашому//DET UNK//NOUN ,//PUNCT –//PUNCT моя//DET UNK//NOUN .//PUNCT\n",
      "predicted: UNK//ADV до//NOUN речей//NOUN UNK//NOUN і//NOUN UNK//NOUN нашому//NOUN UNK//PUNCT ,//PUNCT –//PUNCT моя//VERB UNK//NOUN .//PUNCT\n",
      "--------------------------------------------------------------------------------\n",
      "Epoch 1/5\n",
      "85/85 [==============================] - 14s 163ms/step - loss: 1.1676 - acc: 0.5870 - val_loss: 1.4673 - val_acc: 0.5205\n"
     ]
    },
    {
     "name": "stdout",
     "output_type": "stream",
     "text": [
      "Epoch 2/5\n",
      "85/85 [==============================] - 13s 151ms/step - loss: 1.1478 - acc: 0.5903 - val_loss: 1.4435 - val_acc: 0.5366\n",
      "Epoch 3/5\n",
      "85/85 [==============================] - 12s 140ms/step - loss: 1.1057 - acc: 0.6047 - val_loss: 1.4624 - val_acc: 0.5281\n",
      "Epoch 4/5\n",
      "85/85 [==============================] - 13s 155ms/step - loss: 1.0827 - acc: 0.6123 - val_loss: 1.4749 - val_acc: 0.5271\n",
      "Epoch 5/5\n",
      "85/85 [==============================] - 13s 154ms/step - loss: 1.0520 - acc: 0.6216 - val_loss: 1.4990 - val_acc: 0.5238\n",
      "================================================================================\n",
      "Iteration # 4\n",
      "--------------------------------------------------------------------------------\n",
      "label:     UNK//ADJ ,//PUNCT туди//ADV буде//AUX їхати//VERB більше//ADV UNK//NOUN і//CCONJ вони//PRON UNK//VERB за//ADP UNK//ADJ UNK//NOUN до//ADP нашого//DET магазину//NOUN .//PUNCT\n",
      "predicted: UNK//VERB ,//VERB туди//VERB буде//VERB їхати//VERB більше//VERB UNK//NOUN і//NOUN вони//NOUN UNK//NOUN за//VERB UNK//ADV UNK//VERB до//ADP нашого//ADP магазину//NOUN .//PUNCT\n",
      "--------------------------------------------------------------------------------\n",
      "label:     Батько//NOUN ,//PUNCT не//PART чекаючи//VERB ,//PUNCT UNK//VERB на//ADP UNK//NOUN і//CCONJ так//ADV потрапляє//VERB у//ADP розташування//NOUN UNK//ADJ частини//NOUN .//PUNCT\n",
      "predicted: Батько//NOUN ,//VERB не//VERB чекаючи//VERB ,//VERB UNK//NOUN на//NOUN UNK//NOUN і//NOUN так//PUNCT потрапляє//VERB у//VERB розташування//ADP UNK//ADJ частини//NOUN .//PUNCT\n",
      "--------------------------------------------------------------------------------\n",
      "label:     «//PUNCT UNK//NOUN »//PUNCT ,//PUNCT зі//ADP UNK//PROPN ,//PUNCT лежить//VERB UNK//ADJ шлях//NOUN до//ADP школи//NOUN ,//PUNCT у//ADP центр//NOUN села//NOUN .//PUNCT\n",
      "predicted: «//NOUN UNK//NOUN »//NOUN ,//PUNCT зі//PUNCT UNK//PUNCT ,//NOUN лежить//NOUN UNK//NOUN шлях//NOUN до//NOUN школи//NOUN ,//NOUN у//NOUN центр//ADJ села//NOUN .//PUNCT\n",
      "--------------------------------------------------------------------------------\n",
      "label:     За//ADP попередніми//ADJ оцінками//NOUN ,//PUNCT схожа//ADJ кількість//NOUN гостей//NOUN UNK//VERB й//PART наступного//ADJ року//NOUN до//ADP Києва//PROPN .//PUNCT\n",
      "predicted: За//ADV попередніми//NOUN оцінками//NOUN ,//NOUN схожа//NOUN кількість//ADP гостей//NOUN UNK//NOUN й//NOUN наступного//NOUN року//CCONJ до//ADJ Києва//NOUN .//PUNCT\n",
      "--------------------------------------------------------------------------------\n",
      "label:     UNK//NOUN з//ADP UNK//NOUN UNK//NOUN не//PART проводилися//VERB .//PUNCT\n",
      "predicted: UNK//PAD з//NOUN UNK//NOUN UNK//NOUN не//VERB проводилися//VERB .//PUNCT\n",
      "--------------------------------------------------------------------------------\n",
      "Epoch 1/5\n",
      "85/85 [==============================] - 13s 153ms/step - loss: 1.0417 - acc: 0.6236 - val_loss: 1.4933 - val_acc: 0.5257\n",
      "Epoch 2/5\n",
      "85/85 [==============================] - 13s 154ms/step - loss: 1.0136 - acc: 0.6323 - val_loss: 1.5285 - val_acc: 0.5204\n",
      "Epoch 3/5\n",
      "85/85 [==============================] - 13s 156ms/step - loss: 0.9962 - acc: 0.6371 - val_loss: 1.5052 - val_acc: 0.5279\n",
      "Epoch 4/5\n",
      "85/85 [==============================] - 13s 153ms/step - loss: 0.9762 - acc: 0.6447 - val_loss: 1.5368 - val_acc: 0.5285\n",
      "Epoch 5/5\n",
      "85/85 [==============================] - 13s 154ms/step - loss: 0.9488 - acc: 0.6532 - val_loss: 1.5510 - val_acc: 0.5282\n",
      "================================================================================\n",
      "Iteration # 5\n",
      "--------------------------------------------------------------------------------\n",
      "label:     його//DET UNK//ADJ ,//PUNCT багатий//ADJ на//ADP UNK//ADJ та//CCONJ UNK//ADJ друзів//NOUN ,//PUNCT UNK//ADJ UNK//ADJ здобутки//NOUN UNK//ADJ період//NOUN життя//NOUN .//PUNCT\n",
      "predicted: його//NOUN UNK//NOUN ,//NOUN багатий//NOUN на//NOUN UNK//NOUN та//NOUN UNK//NOUN друзів//NOUN ,//NOUN UNK//PUNCT UNK//VERB здобутки//VERB UNK//ADJ період//ADJ життя//NOUN .//PUNCT\n",
      "--------------------------------------------------------------------------------\n",
      "label:     Крім//ADP того//PRON ,//PUNCT під//ADP UNK//ADJ вогнем//NOUN опинились//VERB українські//ADJ позиції//NOUN у//ADP районі//NOUN UNK//PROPN ,//PUNCT UNK//PROPN ,//PUNCT UNK//PROPN .//PUNCT\n",
      "predicted: Крім//NOUN того//NOUN ,//NOUN під//NOUN UNK//VERB вогнем//VERB опинились//VERB українські//NOUN позиції//NOUN у//NOUN районі//NOUN UNK//PUNCT ,//PUNCT UNK//PUNCT ,//VERB UNK//PUNCT .//PUNCT\n",
      "--------------------------------------------------------------------------------\n",
      "label:     UNK//NOUN в//ADP більшості//NOUN купувати//VERB .//PUNCT\n",
      "predicted: UNK//NOUN в//NOUN більшості//VERB купувати//NOUN .//PUNCT\n",
      "--------------------------------------------------------------------------------\n",
      "label:     UNK//NOUN UNK//VERB усі//DET очікування//NOUN .//PUNCT\n",
      "predicted: UNK//DET UNK//VERB усі//DET очікування//NOUN .//PUNCT\n",
      "--------------------------------------------------------------------------------\n",
      "label:     UNK//NOUN і//CCONJ UNK//NOUN УПА//NOUN !//PUNCT\n",
      "predicted: UNK//NOUN і//NOUN UNK//CCONJ УПА//VERB !//PUNCT\n",
      "--------------------------------------------------------------------------------\n",
      "Epoch 1/5\n",
      "85/85 [==============================] - 13s 154ms/step - loss: 0.9587 - acc: 0.6479 - val_loss: 1.5761 - val_acc: 0.5238\n",
      "Epoch 2/5\n",
      "85/85 [==============================] - 13s 157ms/step - loss: 0.9079 - acc: 0.6663 - val_loss: 1.5774 - val_acc: 0.5336\n",
      "Epoch 3/5\n",
      "85/85 [==============================] - 14s 162ms/step - loss: 0.8967 - acc: 0.6699 - val_loss: 1.5991 - val_acc: 0.5289\n",
      "Epoch 4/5\n",
      "85/85 [==============================] - 14s 166ms/step - loss: 0.8584 - acc: 0.6839 - val_loss: 1.6090 - val_acc: 0.5344\n",
      "Epoch 5/5\n",
      "85/85 [==============================] - 13s 153ms/step - loss: 0.8620 - acc: 0.6822 - val_loss: 1.6629 - val_acc: 0.5206\n",
      "================================================================================\n",
      "Iteration # 6\n",
      "--------------------------------------------------------------------------------\n",
      "label:     (//PUNCT секторів//NOUN )//PUNCT ;//PUNCT —//PUNCT UNK//NOUN і//CCONJ державних//ADJ UNK//NOUN UNK//NOUN ;//PUNCT —//PUNCT UNK//NOUN прес//ADJ -//PUNCT карт//NOUN .//PUNCT\n",
      "predicted: (//PUNCT секторів//PUNCT )//PUNCT ;//PUNCT —//PUNCT UNK//PUNCT і//PUNCT державних//PUNCT UNK//VERB UNK//VERB ;//NOUN —//NOUN UNK//PUNCT прес//PUNCT -//PUNCT карт//NOUN .//PUNCT\n",
      "--------------------------------------------------------------------------------\n",
      "label:     UNK//VERB ,//PUNCT UNK//VERB трохи//ADV UNK//NOUN на//ADP UNK//NOUN й//CCONJ UNK//VERB UNK//ADJ UNK//NOUN жовті//ADJ UNK//ADJ спалахи//NOUN у//ADP UNK//NOUN .//PUNCT\n",
      "predicted: UNK//NOUN ,//NOUN UNK//NOUN трохи//ADP UNK//ADP на//ADP UNK//NOUN й//NOUN UNK//NOUN UNK//NOUN UNK//NOUN жовті//NOUN UNK//VERB спалахи//ADP у//ADP UNK//NOUN .//PUNCT\n",
      "--------------------------------------------------------------------------------\n",
      "label:     у//ADP черговий//ADJ раз//NOUN довести//VERB UNK//ADJ UNK//NOUN не//PART випадковість//NOUN своїх//DET UNK//NOUN бути//AUX UNK//ADJ членом//NOUN Європейського//ADJ UNK//NOUN »//PUNCT .//PUNCT\n",
      "predicted: у//NOUN черговий//NOUN раз//NOUN довести//NOUN UNK//NOUN UNK//ADV не//ADV випадковість//NOUN своїх//NOUN UNK//NOUN бути//PUNCT UNK//VERB членом//ADP Європейського//ADJ UNK//NOUN »//PUNCT .//PUNCT\n",
      "--------------------------------------------------------------------------------\n",
      "label:     При//ADP цьому//PRON частка//NOUN UNK//ADJ підприємств//NOUN у//ADP UNK//ADJ обсязі//NOUN виробництва//NOUN UNK//NOUN UNK//ADJ ґрунту//NOUN не//PART перевищує//VERB 3//NUM %//NOUN .//PUNCT\n",
      "predicted: При//PART цьому//PART частка//PART UNK//ADJ підприємств//ADJ у//ADJ UNK//ADJ обсязі//ADJ виробництва//ADJ UNK//NOUN UNK//NOUN ґрунту//PART не//PART перевищує//AUX 3//NUM %//NOUN .//PUNCT\n",
      "--------------------------------------------------------------------------------\n",
      "label:     Фейсбук//PROPN ,//PUNCT UNK//ADV Фейсбук//PROPN .//PUNCT\n",
      "predicted: Фейсбук//NOUN ,//PUNCT UNK//VERB Фейсбук//NOUN .//PUNCT\n",
      "--------------------------------------------------------------------------------\n"
     ]
    }
   ],
   "source": [
    "for i in range(NUM_ITERATIONS):    \n",
    "    history = GRU_POS_TAGGER.fit_generator(train_gen, \n",
    "                                  steps_per_epoch=num_train_samples, \n",
    "                                  epochs=NUM_EPOCHS,\n",
    "                                  validation_data=test_gen, \n",
    "                                  validation_steps=num_test_samples)\n",
    "    # save off history data\n",
    "    hist_acc.extend(history.history[\"acc\"])\n",
    "    hist_val_acc.extend(history.history[\"val_acc\"])\n",
    "    hist_loss.extend(history.history[\"loss\"])\n",
    "    hist_val_loss.extend(history.history[\"val_loss\"])\n",
    "    \n",
    "    # Проиллюстрируем некоторые примеры разметки\n",
    "    \n",
    "    Xtest, Ytest = next(test_gen)\n",
    "    Ytest_ = GRU_POS_TAGGER.predict(Xtest)\n",
    "    ytest = np.argmax(Ytest, axis=2)\n",
    "    ytest_ = np.argmax(Ytest_, axis=2)\n",
    "    \n",
    "    print(\"=\" * 80)\n",
    "    print(\"Iteration # {:d}\".format(i + 1))\n",
    "    print(\"-\" * 80)\n",
    "    for i in range(min(5, Ytest.shape[0])):\n",
    "        sent_ids = Xtest[i]\n",
    "        sent_words = [s_index2word[x] for x in sent_ids.tolist()]\n",
    "        pos_labels = [t_index2word[x] for x in ytest[i].tolist()]\n",
    "        pos_preds = [t_index2word[x] for x in ytest_[i].tolist()]\n",
    "        triples = [x for x in zip(sent_words, pos_labels, pos_preds)\n",
    "            if x[0] != \"PAD\"]\n",
    "        print(\"label:     \" + \" \".join([x[0] +\"//\"+x[1].upper() \n",
    "            for x in triples]))\n",
    "        print(\"predicted: \" + \" \".join([x[0] +\"//\"+x[2].upper() \n",
    "            for x in triples]))\n",
    "        print(\"-\" * 80)"
   ]
  },
  {
   "cell_type": "code",
   "execution_count": 48,
   "metadata": {},
   "outputs": [
    {
     "data": {
      "image/png": "[encoded data removed]",
      "text/plain": [
       "<Figure size 864x576 with 2 Axes>"
      ]
     },
     "metadata": {
      "needs_background": "light"
     },
     "output_type": "display_data"
    }
   ],
   "source": [
    "# plot loss and accuracy\n",
    "plot_model_performance(history.history[\"loss\"], history.history[\"acc\"], history.history[\"val_loss\"], history.history[\"val_acc\"])"
   ]
  },
  {
   "cell_type": "markdown",
   "metadata": {},
   "source": [
    "## 4. SimpleRNN"
   ]
  },
  {
   "cell_type": "code",
   "execution_count": 49,
   "metadata": {},
   "outputs": [],
   "source": [
    "train_gen = generate_batch(sents_word, s_word2index, sents_pos,\n",
    "                           t_word2index, BATCH_SIZE, MAX_SEQLEN)\n",
    "test_gen = generate_batch(test_sents_word, s_word2index, test_sents_pos,\n",
    "                          t_word2index, BATCH_SIZE, MAX_SEQLEN)"
   ]
  },
  {
   "cell_type": "code",
   "execution_count": 50,
   "metadata": {},
   "outputs": [],
   "source": [
    "sents_word, word_frequencies, sents_pos, pos_frequencies = parsed_sentences(train_conll_fname)\n",
    "test_sents_word, test_word_frequencies, test_sents_pos, test_pos_frequencies = parsed_sentences(test_conll_fname)"
   ]
  },
  {
   "cell_type": "code",
   "execution_count": 51,
   "metadata": {},
   "outputs": [],
   "source": [
    "hist_acc, hist_val_acc, hist_loss, hist_val_loss = [], [], [], []"
   ]
  },
  {
   "cell_type": "code",
   "execution_count": 52,
   "metadata": {},
   "outputs": [
    {
     "name": "stdout",
     "output_type": "stream",
     "text": [
      "Epoch 1/5\n",
      "85/85 [==============================] - 13s 158ms/step - loss: 1.8273 - acc: 0.4220 - val_loss: 1.6959 - val_acc: 0.4593\n",
      "Epoch 2/5\n",
      "85/85 [==============================] - 9s 110ms/step - loss: 1.6411 - acc: 0.4667 - val_loss: 1.6175 - val_acc: 0.4747\n",
      "Epoch 3/5\n",
      "85/85 [==============================] - 9s 102ms/step - loss: 1.5320 - acc: 0.4858 - val_loss: 1.5893 - val_acc: 0.4857\n",
      "Epoch 4/5\n",
      "85/85 [==============================] - 8s 91ms/step - loss: 1.4420 - acc: 0.5026 - val_loss: 1.5804 - val_acc: 0.4880\n",
      "Epoch 5/5\n",
      "85/85 [==============================] - 7s 84ms/step - loss: 1.3580 - acc: 0.5215 - val_loss: 1.5568 - val_acc: 0.4934\n",
      "================================================================================\n",
      "Iteration # 1\n",
      "--------------------------------------------------------------------------------\n",
      "label:     UNK//INTJ ))//SYM\n",
      "predicted: UNK//PAD ))//PAD\n",
      "--------------------------------------------------------------------------------\n",
      "label:     Сьогодні//ADV ,//PUNCT на//ADP відміну//NOUN від//ADP минулої//ADJ доби//NOUN ,//PUNCT найбільша//ADJ UNK//NOUN UNK//NOUN UNK//VERB на//ADP Луганському//ADJ напрямку//NOUN .//PUNCT\n",
      "predicted: Сьогодні//PAD ,//NOUN на//NOUN відміну//NOUN від//NOUN минулої//NOUN доби//NOUN ,//NOUN найбільша//NOUN UNK//NOUN UNK//NOUN UNK//NOUN на//NOUN Луганському//NOUN напрямку//NOUN .//PUNCT\n",
      "--------------------------------------------------------------------------------\n",
      "label:     31//ADJ січня//NOUN два//NUM UNK//NOUN 11-ї//ADJ UNK//ADJ -//PUNCT UNK//ADJ дивізії//NOUN зробили//VERB UNK//NOUN та//CCONJ захопили//VERB мости//NOUN навколо//ADP UNK//PROPN .//PUNCT\n",
      "predicted: 31//NOUN січня//NOUN два//NOUN UNK//NOUN 11-ї//NOUN UNK//NOUN -//NOUN UNK//NOUN дивізії//NOUN зробили//NOUN UNK//NOUN та//NOUN захопили//NOUN мости//NOUN навколо//NOUN UNK//PUNCT .//PUNCT\n",
      "--------------------------------------------------------------------------------\n",
      "label:     UNK//NOUN та//CCONJ владі//NOUN Києва//PROPN за//ADP UNK//ADJ і//CCONJ UNK//ADJ UNK//NOUN у//ADP питаннях//NOUN підготовки//NOUN до//ADP UNK//ADJ UNK//ADJ UNK//NOUN .//PUNCT\n",
      "predicted: UNK//NOUN та//NOUN владі//NOUN Києва//NOUN за//NOUN UNK//NOUN і//NOUN UNK//NOUN UNK//NOUN у//NOUN питаннях//NOUN підготовки//NOUN до//NOUN UNK//NOUN UNK//NOUN UNK//NOUN .//PUNCT\n",
      "--------------------------------------------------------------------------------\n",
      "label:     Там//ADV у//ADP батька//NOUN з’явився//VERB новий//ADJ номер//NOUN —//PUNCT UNK//NUM .//PUNCT\n",
      "predicted: Там//NOUN у//NOUN батька//NOUN з’явився//NOUN новий//NOUN номер//NOUN —//NOUN UNK//NOUN .//PUNCT\n",
      "--------------------------------------------------------------------------------\n",
      "Epoch 1/5\n",
      "85/85 [==============================] - 7s 82ms/step - loss: 1.2881 - acc: 0.5401 - val_loss: 1.5945 - val_acc: 0.4900\n",
      "Epoch 2/5\n",
      "85/85 [==============================] - 7s 88ms/step - loss: 1.2244 - acc: 0.5578 - val_loss: 1.5340 - val_acc: 0.5074\n",
      "Epoch 3/5\n",
      "85/85 [==============================] - 8s 90ms/step - loss: 1.1701 - acc: 0.5724 - val_loss: 1.5983 - val_acc: 0.4873\n",
      "Epoch 4/5\n",
      "85/85 [==============================] - 7s 83ms/step - loss: 1.1097 - acc: 0.5905 - val_loss: 1.5705 - val_acc: 0.5043\n",
      "Epoch 5/5\n",
      "85/85 [==============================] - 7s 86ms/step - loss: 1.0537 - acc: 0.6101 - val_loss: 1.6134 - val_acc: 0.4930\n",
      "================================================================================\n",
      "Iteration # 2\n",
      "--------------------------------------------------------------------------------\n",
      "label:     не//PART UNK//VERB UNK//ADJ слави//NOUN ,//PUNCT як//SCONJ не//PART UNK//VERB її//PRON ті//DET ,//PUNCT що//SCONJ вже//ADV від//ADP нас//PRON відійшли//VERB .//PUNCT\n",
      "predicted: не//PRON UNK//ADP UNK//NOUN слави//NOUN ,//PUNCT як//VERB не//PRON UNK//PRON її//PUNCT ті//PART ,//PART що//PART вже//VERB від//ADP нас//ADP відійшли//NOUN .//PUNCT\n",
      "--------------------------------------------------------------------------------\n",
      "label:     Від//ADP UNK//ADJ весни//NOUN до//ADP пізньої//ADJ осені//NOUN верби//NOUN UNK//VERB у//ADP ньому//PRON свої//DET UNK//ADJ коси//NOUN .//PUNCT\n",
      "predicted: Від//PAD UNK//NOUN весни//VERB до//VERB пізньої//VERB осені//NOUN верби//NOUN UNK//NOUN у//NOUN ньому//ADP свої//ADP UNK//NOUN коси//NOUN .//PUNCT\n",
      "--------------------------------------------------------------------------------\n",
      "label:     кількість//NOUN пропагандистів//NOUN ,//PUNCT добрих//ADJ ,//PUNCT головно//ADV таких//DET ,//PUNCT що//SCONJ знають//VERB чеську//ADJ ,//PUNCT UNK//ADJ та//CCONJ інші//DET мови//NOUN .//PUNCT\n",
      "predicted: кількість//PUNCT пропагандистів//NOUN ,//PUNCT добрих//PUNCT ,//PUNCT головно//PUNCT таких//PUNCT ,//PUNCT що//PUNCT знають//PUNCT чеську//PUNCT ,//NOUN UNK//NOUN та//ADJ інші//NOUN мови//NOUN .//PUNCT\n",
      "--------------------------------------------------------------------------------\n",
      "label:     UNK//VERB від//ADP UNK//NOUN свята//NOUN Першого//ADJ UNK//NOUN або//CCONJ були//AUX максимально//ADV UNK//ADJ »//PUNCT ,//PUNCT -//PUNCT розповів//VERB UNK//PROPN UNK//PROPN .//PUNCT\n",
      "predicted: UNK//NOUN від//NOUN UNK//NOUN свята//NOUN Першого//PUNCT UNK//PUNCT або//PUNCT були//PUNCT максимально//NOUN UNK//NOUN »//NOUN ,//NOUN -//NOUN розповів//NOUN UNK//NOUN UNK//NOUN .//PUNCT\n",
      "--------------------------------------------------------------------------------\n",
      "label:     UNK//NOUN вільних//ADJ ,//PUNCT самостійних//ADJ держав//NOUN усіх//DET UNK//ADJ і//CCONJ UNK//ADJ -//PUNCT UNK//ADJ народів//NOUN та//CCONJ UNK//ADJ -//PUNCT UNK//ADJ .//PUNCT\n",
      "predicted: UNK//NOUN вільних//NOUN ,//PUNCT самостійних//PUNCT держав//PUNCT усіх//PUNCT UNK//PUNCT і//PUNCT UNK//PUNCT -//PUNCT UNK//NOUN народів//NOUN та//VERB UNK//ADJ -//NOUN UNK//NOUN .//PUNCT\n",
      "--------------------------------------------------------------------------------\n",
      "Epoch 1/5\n",
      "85/85 [==============================] - 7s 86ms/step - loss: 1.0047 - acc: 0.6273 - val_loss: 1.6085 - val_acc: 0.5004\n",
      "Epoch 2/5\n",
      "85/85 [==============================] - 7s 85ms/step - loss: 0.9743 - acc: 0.6378 - val_loss: 1.5798 - val_acc: 0.5149\n",
      "Epoch 3/5\n",
      "85/85 [==============================] - 8s 91ms/step - loss: 0.9093 - acc: 0.6603 - val_loss: 1.6498 - val_acc: 0.5076\n",
      "Epoch 4/5\n",
      "85/85 [==============================] - 7s 84ms/step - loss: 0.8659 - acc: 0.6779 - val_loss: 1.6675 - val_acc: 0.5004\n",
      "Epoch 5/5\n",
      "85/85 [==============================] - 8s 95ms/step - loss: 0.8341 - acc: 0.6901 - val_loss: 1.7007 - val_acc: 0.5049\n",
      "================================================================================\n",
      "Iteration # 3\n",
      "--------------------------------------------------------------------------------\n",
      "label:     з//ADP порушеннями//NOUN -//PUNCT вона//PRON була//AUX UNK//ADJ в//ADP декларації//NOUN за//ADP UNK//ADJ рік//NOUN ,//PUNCT хоча//CCONJ UNK//ADJ у//ADP UNK//ADJ .//PUNCT\n",
      "predicted: з//ADP порушеннями//ADJ -//NOUN вона//PUNCT була//ADP UNK//ADP в//NOUN декларації//NOUN за//ADP UNK//ADP рік//ADP ,//ADP хоча//ADP UNK//ADP у//ADP UNK//NOUN .//PUNCT\n",
      "--------------------------------------------------------------------------------\n",
      "label:     ,//PUNCT UNK//NOUN \"//PUNCT UNK//ADJ українським//ADJ UNK//NOUN \"//PUNCT UNK//PROPN ,//PUNCT чи//CCONJ UNK//NOUN міністра//NOUN збройних//ADJ сил//NOUN Польщі//PROPN UNK//PROPN .//PUNCT\n",
      "predicted: ,//NOUN UNK//NOUN \"//ADV UNK//PUNCT українським//PUNCT UNK//PUNCT \"//PUNCT UNK//PUNCT ,//PUNCT чи//PUNCT UNK//NOUN міністра//NOUN збройних//VERB сил//NOUN Польщі//NOUN UNK//PUNCT .//PUNCT\n",
      "--------------------------------------------------------------------------------\n",
      "label:     Військові//ADJ втрати//NOUN склали//VERB UNK//NUM американських//ADJ військовослужбовців//NOUN ,//PUNCT UNK//NUM UNK//NOUN та//CCONJ UNK//NUM японських//ADJ військових//NOUN .//PUNCT\n",
      "predicted: Військові//PAD втрати//NOUN склали//VERB UNK//NOUN американських//NOUN військовослужбовців//NOUN ,//NOUN UNK//NOUN UNK//NOUN та//VERB UNK//VERB японських//NOUN військових//NOUN .//PUNCT\n",
      "--------------------------------------------------------------------------------\n",
      "label:     UNK//VERB UNK//NOUN Верховної//ADJ Ради//PROPN України//PROPN забезпечити//VERB в//ADP установленому//ADJ порядку//NOUN UNK//ADJ UNK//NOUN UNK//ADJ UNK//NOUN .//PUNCT\n",
      "predicted: UNK//PAD UNK//VERB Верховної//VERB Ради//NOUN України//NOUN забезпечити//NOUN в//NOUN установленому//NOUN порядку//NOUN UNK//NOUN UNK//ADP UNK//ADP UNK//NOUN .//PUNCT\n",
      "--------------------------------------------------------------------------------\n",
      "label:     Там//ADV утворилася//VERB UNK//NOUN таких//DET ,//PUNCT як//SCONJ він//PRON ,//PUNCT малих//ADJ UNK//NOUN .//PUNCT\n",
      "predicted: Там//PAD утворилася//ADV UNK//VERB таких//VERB ,//PUNCT як//PUNCT він//PUNCT ,//PART малих//VERB UNK//NOUN .//PUNCT\n",
      "--------------------------------------------------------------------------------\n",
      "Epoch 1/5\n"
     ]
    },
    {
     "name": "stdout",
     "output_type": "stream",
     "text": [
      "85/85 [==============================] - 7s 83ms/step - loss: 0.7863 - acc: 0.7066 - val_loss: 1.7111 - val_acc: 0.5069\n",
      "Epoch 2/5\n",
      "85/85 [==============================] - 7s 83ms/step - loss: 0.7563 - acc: 0.7199 - val_loss: 1.7373 - val_acc: 0.5004\n",
      "Epoch 3/5\n",
      "85/85 [==============================] - 7s 84ms/step - loss: 0.7207 - acc: 0.7330 - val_loss: 1.7521 - val_acc: 0.5074\n",
      "Epoch 4/5\n",
      "85/85 [==============================] - 7s 82ms/step - loss: 0.6784 - acc: 0.7505 - val_loss: 1.8463 - val_acc: 0.4963\n",
      "Epoch 5/5\n",
      "85/85 [==============================] - 7s 82ms/step - loss: 0.6618 - acc: 0.7572 - val_loss: 1.8707 - val_acc: 0.4915\n",
      "================================================================================\n",
      "Iteration # 4\n",
      "--------------------------------------------------------------------------------\n",
      "label:     UNK//NOUN UNK//X не//PART UNK//VERB на//ADP UNK//ADJ UNK//NOUN UNK//X в//ADP UNK//X .//PUNCT\n",
      "predicted: UNK//ADP UNK//VERB не//VERB UNK//VERB на//ADP UNK//NOUN UNK//NOUN UNK//ADP в//ADP UNK//NOUN .//PUNCT\n",
      "--------------------------------------------------------------------------------\n",
      "label:     Може//ADV ,//PUNCT UNK//NOUN UNK//VERB .//PUNCT\n",
      "predicted: Може//PUNCT ,//NOUN UNK//NOUN UNK//PUNCT .//PUNCT\n",
      "--------------------------------------------------------------------------------\n",
      "label:     UNK//NOUN й//CCONJ злочин//NOUN .//PUNCT\n",
      "predicted: UNK//VERB й//VERB злочин//NOUN .//PUNCT\n",
      "--------------------------------------------------------------------------------\n",
      "label:     Першого//ADJ сина//NOUN вона//PRON UNK//VERB в//ADP лікарні//NOUN .//PUNCT\n",
      "predicted: Першого//PRON сина//NOUN вона//NOUN UNK//NUM в//NOUN лікарні//NOUN .//PUNCT\n",
      "--------------------------------------------------------------------------------\n",
      "label:     3//NUM .//PUNCT\n",
      "predicted: 3//PUNCT .//PUNCT\n",
      "--------------------------------------------------------------------------------\n",
      "Epoch 1/5\n",
      "85/85 [==============================] - 7s 87ms/step - loss: 0.6297 - acc: 0.7685 - val_loss: 1.9021 - val_acc: 0.4996\n",
      "Epoch 2/5\n",
      "85/85 [==============================] - 7s 83ms/step - loss: 0.5959 - acc: 0.7844 - val_loss: 1.8957 - val_acc: 0.5031\n",
      "Epoch 3/5\n",
      "85/85 [==============================] - 7s 87ms/step - loss: 0.5603 - acc: 0.8004 - val_loss: 1.9566 - val_acc: 0.5047\n",
      "Epoch 4/5\n",
      "85/85 [==============================] - 8s 89ms/step - loss: 0.5222 - acc: 0.8152 - val_loss: 1.9767 - val_acc: 0.4993\n",
      "Epoch 5/5\n",
      "85/85 [==============================] - 7s 86ms/step - loss: 0.5006 - acc: 0.8255 - val_loss: 2.0326 - val_acc: 0.5023\n",
      "================================================================================\n",
      "Iteration # 5\n",
      "--------------------------------------------------------------------------------\n",
      "label:     осіб//NOUN ,//PUNCT UNK//ADJ у//ADP UNK//ADJ UNK//NOUN ,//PUNCT або//CCONJ вірність//NOUN і//CCONJ UNK//NOUN UNK//NOUN ,//PUNCT UNK//ADJ в//ADP UNK//NOUN .//PUNCT\n",
      "predicted: осіб//NOUN ,//PUNCT UNK//VERB у//NOUN UNK//NOUN UNK//PUNCT ,//PUNCT або//PUNCT вірність//PUNCT і//PUNCT UNK//PUNCT UNK//NOUN ,//NOUN UNK//VERB в//NOUN UNK//NOUN .//PUNCT\n",
      "--------------------------------------------------------------------------------\n",
      "label:     Десь//ADV там//ADV стояв//VERB і//PART мій//DET батько//NOUN .//PUNCT\n",
      "predicted: Десь//PRON там//NOUN стояв//NOUN і//NOUN мій//NOUN батько//NOUN .//PUNCT\n",
      "--------------------------------------------------------------------------------\n",
      "label:     UNK//ADJ .//PUNCT\n",
      "predicted: UNK//VERB .//PUNCT\n",
      "--------------------------------------------------------------------------------\n",
      "label:     7//NUM .//PUNCT\n",
      "predicted: 7//NUM .//PUNCT\n",
      "--------------------------------------------------------------------------------\n",
      "label:     .//PUNCT UNK//X UNK//X UNK//X )//PUNCT або//CCONJ Національна//ADJ UNK//ADJ комісія//NOUN (//PUNCT UNK//ADJ .//PUNCT UNK//X UNK//X UNK//X )//PUNCT .//PUNCT\n",
      "predicted: .//NOUN UNK//PUNCT UNK//NOUN UNK//PUNCT )//PUNCT або//ADP Національна//ADP UNK//NOUN комісія//PUNCT (//PUNCT UNK//PUNCT .//PUNCT UNK//NOUN UNK//NOUN UNK//NOUN )//PUNCT .//PUNCT\n",
      "--------------------------------------------------------------------------------\n",
      "Epoch 1/5\n",
      "85/85 [==============================] - 10s 122ms/step - loss: 0.4828 - acc: 0.8315 - val_loss: 2.1292 - val_acc: 0.4873\n",
      "Epoch 2/5\n",
      "85/85 [==============================] - 10s 121ms/step - loss: 0.4827 - acc: 0.8298 - val_loss: 2.1616 - val_acc: 0.4925\n",
      "Epoch 3/5\n",
      "85/85 [==============================] - 10s 119ms/step - loss: 0.4515 - acc: 0.8439 - val_loss: 2.2294 - val_acc: 0.4815\n",
      "Epoch 4/5\n",
      "85/85 [==============================] - 9s 108ms/step - loss: 0.4339 - acc: 0.8497 - val_loss: 2.3045 - val_acc: 0.4767\n",
      "Epoch 5/5\n",
      "85/85 [==============================] - 10s 115ms/step - loss: 0.3951 - acc: 0.8660 - val_loss: 2.3728 - val_acc: 0.4773\n",
      "================================================================================\n",
      "Iteration # 6\n",
      "--------------------------------------------------------------------------------\n",
      "label:     значить//VERB ,//PUNCT що//SCONJ той//DET ,//PUNCT хто//PRON UNK//VERB червону//ADJ «//PUNCT UNK//NOUN в//ADP бочці//NOUN »//PUNCT ,//PUNCT буде//AUX UNK//NOUN .//PUNCT\n",
      "predicted: значить//NOUN ,//PUNCT що//PUNCT той//SCONJ ,//NOUN хто//PUNCT UNK//PRON червону//VERB «//VERB UNK//NOUN в//NOUN бочці//NOUN »//NOUN ,//CCONJ буде//NOUN UNK//PUNCT .//PUNCT\n",
      "--------------------------------------------------------------------------------\n",
      "label:     й//PART приємно//ADV ,//PUNCT що//SCONJ думали//VERB ми//PRON самостійно//ADV ,//PUNCT а//CCONJ сама//DET UNK//NOUN й//CCONJ висновки//NOUN мають//VERB стільки//DET UNK//NOUN .//PUNCT\n",
      "predicted: й//NOUN приємно//VERB ,//NOUN що//PUNCT думали//VERB ми//DET самостійно//NOUN ,//PUNCT а//PART сама//PART UNK//NOUN й//VERB висновки//VERB мають//NOUN стільки//NOUN UNK//PUNCT .//PUNCT\n",
      "--------------------------------------------------------------------------------\n",
      "label:     UNK//PROPN шукає//VERB в//ADP UNK//NOUN людей//NOUN ,//PUNCT картин//NOUN і//CCONJ подій//NOUN .//PUNCT\n",
      "predicted: UNK//ADV шукає//VERB в//VERB UNK//PUNCT людей//ADJ ,//NOUN картин//PUNCT і//VERB подій//NOUN .//PUNCT\n",
      "--------------------------------------------------------------------------------\n",
      "label:     ще//ADV й//PART у//ADP дискусії//NOUN середини//NOUN двадцятих//ADJ років//NOUN ,//PUNCT це//PRON важлива//ADJ UNK//NOUN статей//NOUN Хвильового//PROPN й//CCONJ UNK//PROPN .//PUNCT )//PUNCT\n",
      "predicted: ще//VERB й//ADJ у//ADJ дискусії//NOUN середини//ADJ двадцятих//ADJ років//PUNCT ,//PUNCT це//PUNCT важлива//SCONJ UNK//NOUN статей//PUNCT Хвильового//PART й//PART UNK//ADJ .//PUNCT )//PUNCT\n",
      "--------------------------------------------------------------------------------\n",
      "label:     UNK//NOUN були//AUX дуже//ADV UNK//ADJ ,//PUNCT тому//ADV надалі//ADV UNK//VERB UNK//VERB по//ADP допомогу//NOUN до//ADP медиків//NOUN .//PUNCT\n",
      "predicted: UNK//PAD були//PRON дуже//VERB UNK//VERB ,//PUNCT тому//PUNCT надалі//PUNCT UNK//VERB UNK//ADP по//ADP допомогу//ADP до//NOUN медиків//PUNCT .//PUNCT\n",
      "--------------------------------------------------------------------------------\n"
     ]
    }
   ],
   "source": [
    "for i in range(NUM_ITERATIONS):    \n",
    "    history = SimpleRNN_POS_TAGGER.fit_generator(train_gen, \n",
    "                                  steps_per_epoch=num_train_samples, \n",
    "                                  epochs=NUM_EPOCHS,\n",
    "                                  validation_data=test_gen, \n",
    "                                  validation_steps=num_test_samples)\n",
    "    # save off history data\n",
    "    hist_acc.extend(history.history[\"acc\"])\n",
    "    hist_val_acc.extend(history.history[\"val_acc\"])\n",
    "    hist_loss.extend(history.history[\"loss\"])\n",
    "    hist_val_loss.extend(history.history[\"val_loss\"])\n",
    "    \n",
    "    # Проиллюстрируем некоторые примеры разметки\n",
    "    \n",
    "    Xtest, Ytest = next(test_gen)\n",
    "    Ytest_ = SimpleRNN_POS_TAGGER.predict(Xtest)\n",
    "    ytest = np.argmax(Ytest, axis=2)\n",
    "    ytest_ = np.argmax(Ytest_, axis=2)\n",
    "    \n",
    "    print(\"=\" * 80)\n",
    "    print(\"Iteration # {:d}\".format(i + 1))\n",
    "    print(\"-\" * 80)\n",
    "    for i in range(min(5, Ytest.shape[0])):\n",
    "        sent_ids = Xtest[i]\n",
    "        sent_words = [s_index2word[x] for x in sent_ids.tolist()]\n",
    "        pos_labels = [t_index2word[x] for x in ytest[i].tolist()]\n",
    "        pos_preds = [t_index2word[x] for x in ytest_[i].tolist()]\n",
    "        triples = [x for x in zip(sent_words, pos_labels, pos_preds)\n",
    "            if x[0] != \"PAD\"]\n",
    "        print(\"label:     \" + \" \".join([x[0] +\"//\"+x[1].upper() \n",
    "            for x in triples]))\n",
    "        print(\"predicted: \" + \" \".join([x[0] +\"//\"+x[2].upper() \n",
    "            for x in triples]))\n",
    "        print(\"-\" * 80)"
   ]
  },
  {
   "cell_type": "code",
   "execution_count": 53,
   "metadata": {},
   "outputs": [
    {
     "data": {
      "image/png": "[encoded data removed]",
      "text/plain": [
       "<Figure size 864x576 with 2 Axes>"
      ]
     },
     "metadata": {
      "needs_background": "light"
     },
     "output_type": "display_data"
    }
   ],
   "source": [
    "# plot loss and accuracy\n",
    "plot_model_performance(history.history[\"loss\"], history.history[\"acc\"], history.history[\"val_loss\"], history.history[\"val_acc\"])"
   ]
  },
  {
   "cell_type": "markdown",
   "metadata": {},
   "source": [
    "## Результаты\n",
    "\n",
    "Наилучший показатель accuracy показывает Bidirectional LSTM - 0.59, что ожидаемо, т.к. данная архитектура лучше всего использует контекст данных для предсказания.\n",
    "\n",
    "Наихудший показатель accuracy показывает SimpleRNN - 0.47,т.к. нет механизма для запоминания результатов, и она теряет градиенты.\n"
   ]
  },
  {
   "cell_type": "markdown",
   "metadata": {
    "collapsed": true
   },
   "source": [
    "### Проверка размера Embedding"
   ]
  },
  {
   "cell_type": "markdown",
   "metadata": {},
   "source": [
    "Изменений в качестве предсказаний не было замечено. Скорее всего проблема заключается в малом размере данных."
   ]
  }
 ],
 "metadata": {
  "kernelspec": {
   "display_name": "Python 3",
   "language": "python",
   "name": "python3"
  },
  "language_info": {
   "codemirror_mode": {
    "name": "ipython",
    "version": 3
   },
   "file_extension": ".py",
   "mimetype": "text/x-python",
   "name": "python",
   "nbconvert_exporter": "python",
   "pygments_lexer": "ipython3",
   "version": "3.6.5"
  }
 },
 "nbformat": 4,
 "nbformat_minor": 2
}
