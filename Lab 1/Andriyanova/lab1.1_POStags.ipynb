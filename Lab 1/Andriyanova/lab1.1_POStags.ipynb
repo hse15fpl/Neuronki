{
 "cells": [
  {
   "cell_type": "markdown",
   "metadata": {},
   "source": [
    "## Типология языка\n",
    "\n",
    "* **Древнегреческий**: Индоевропейская семья -> Палеобалканская ветвь -> Греческая группа; синтетический, флективный по морфологии: грамматическое значение выражается внутри слова - окончания, *общая характеристика греческого предложения: свободный порядок слов, частая эллипсность, наличие частиц-коннекторов в начале предложения.*\n",
    "* **Норвежский**: Индоевропейская семья -> Германская ветвь -> Скандинавская группа -> Континентальная подгруппа; флективный по морфологии; развитие аналитизма; порядок слов фиксирован, но место глагола может меняться"
   ]
  },
  {
   "cell_type": "code",
   "execution_count": 1,
   "metadata": {},
   "outputs": [],
   "source": [
    "import conllu\n",
    "from statistics import mean, median\n",
    "from collections import Counter\n",
    "import numpy as np\n",
    "import operator"
   ]
  },
  {
   "cell_type": "code",
   "execution_count": 2,
   "metadata": {},
   "outputs": [],
   "source": [
    "from io import open\n",
    "from conllu import parse_incr, parse"
   ]
  },
  {
   "cell_type": "code",
   "execution_count": 3,
   "metadata": {},
   "outputs": [
    {
     "name": "stderr",
     "output_type": "stream",
     "text": [
      "C:\\programs\\anaconda\\lib\\site-packages\\h5py\\__init__.py:36: FutureWarning: Conversion of the second argument of issubdtype from `float` to `np.floating` is deprecated. In future, it will be treated as `np.float64 == np.dtype(float).type`.\n",
      "  from ._conv import register_converters as _register_converters\n",
      "Using TensorFlow backend.\n"
     ]
    }
   ],
   "source": [
    "from keras.preprocessing.sequence import pad_sequences\n",
    "from keras.utils.np_utils import to_categorical\n",
    "from sklearn.model_selection import train_test_split\n",
    "from keras.callbacks import ModelCheckpoint"
   ]
  },
  {
   "cell_type": "code",
   "execution_count": 4,
   "metadata": {},
   "outputs": [],
   "source": [
    "from tqdm import tqdm_notebook as tqdm"
   ]
  },
  {
   "cell_type": "code",
   "execution_count": 5,
   "metadata": {},
   "outputs": [],
   "source": [
    "import matplotlib.pyplot as plt"
   ]
  },
  {
   "cell_type": "code",
   "execution_count": 6,
   "metadata": {},
   "outputs": [],
   "source": [
    "from keras.layers import Activation, Dense, Dropout, Embedding, LSTM, SimpleRNN, Bidirectional, GRU, TimeDistributed\n",
    "from keras.models import Sequential\n",
    "from keras.preprocessing import sequence\n",
    "from sklearn.model_selection import train_test_split"
   ]
  },
  {
   "cell_type": "markdown",
   "metadata": {},
   "source": [
    "Читаем и парсим conllu файлы для каждого языка:"
   ]
  },
  {
   "cell_type": "code",
   "execution_count": 7,
   "metadata": {},
   "outputs": [],
   "source": [
    "data_file = open(\"UD_Ancient_Greek-Perseus/grc_perseus-ud-train.conllu\", \"r\", encoding=\"utf-8\")\n",
    "greek = list(parse_incr(data_file))\n",
    "\n",
    "data_file_test = open(\"UD_Ancient_Greek-Perseus/grc_perseus-ud-test.conllu\", \"r\", encoding=\"utf-8\")\n",
    "greek_test = list(parse_incr(data_file_test))"
   ]
  },
  {
   "cell_type": "code",
   "execution_count": 8,
   "metadata": {},
   "outputs": [],
   "source": [
    "data_file = open(\"UD_Norwegian-Bokmaal/no_bokmaal-ud-train.conllu\", \"r\", encoding=\"utf-8\")\n",
    "norv = list(parse_incr(data_file))\n",
    "\n",
    "data_file_test = open(\"UD_Norwegian-Bokmaal/no_bokmaal-ud-test.conllu\", \"r\", encoding=\"utf-8\")\n",
    "norv_test = list(parse_incr(data_file_test))"
   ]
  },
  {
   "cell_type": "markdown",
   "metadata": {},
   "source": [
    "Посчитаем статистику:"
   ]
  },
  {
   "cell_type": "code",
   "execution_count": 9,
   "metadata": {},
   "outputs": [],
   "source": [
    "def stats(lang):\n",
    "    len_sent = len(lang) #количество предложений\n",
    "    words = Counter() #подсчет слов (уникальных)\n",
    "    pos_tags = Counter() #подсчет тегов\n",
    "    for sent in lang:\n",
    "        for word in sent:\n",
    "            words[word['form']]+=1 #\n",
    "            pos_tags[word['upostag']]+=1\n",
    "    #words = set([word['form'] for sent in lang for word in sent])\n",
    "    #pos_tags = len(set([meta['upostag'] for sent in lang for meta in sent]))\n",
    "    sents = [len(sent) for sent in lang] #длина каждого предложения\n",
    "    max_w = max(sents) #длина максимального предложения\n",
    "    min_w = min(sents) #длина минимального предложения\n",
    "    mean_w = mean(sents) #средняя длина предложения\n",
    "    median_w = median(sents) #медиана\n",
    "    return {'len_sent':len_sent, 'words':words, 'pos_tags':pos_tags, 'max':max_w, 'min':min_w, 'mean':mean_w, 'median':median_w, 'sents': sents}"
   ]
  },
  {
   "cell_type": "code",
   "execution_count": 10,
   "metadata": {},
   "outputs": [],
   "source": [
    "stats_train_g = stats(greek)\n",
    "stats_test_g = stats(greek_test)\n",
    "\n",
    "stats_train_n = stats(norv)\n",
    "stats_test_n = stats(norv_test)\n"
   ]
  },
  {
   "cell_type": "code",
   "execution_count": 11,
   "metadata": {},
   "outputs": [
    {
     "name": "stdout",
     "output_type": "stream",
     "text": [
      "For Ancient Greek Train:\n",
      "\tSentences: 11476\n",
      "\tWords: 33237\n",
      "\tPOS-tags: 14\n",
      "\tWords Max: 159\n",
      "\tWords Min: 2\n",
      "\tWords Mean: 13.93299058905542\n",
      "\tWords Median: 12.0\n",
      "--------------------\n",
      "For Ancient Greek Test:\n",
      "\tSentences: 1306\n",
      "\tWords: 7314\n",
      "\tPOS-tags: 13\n",
      "\tWords Max: 79\n",
      "\tWords Min: 2\n",
      "\tWords Mean: 16.04823889739663\n",
      "\tWords Median: 14.0\n",
      "--------------------\n",
      "For Norvegian Train:\n",
      "\tSentences: 15696\n",
      "\tWords: 30072\n",
      "\tPOS-tags: 17\n",
      "\tWords Max: 91\n",
      "\tWords Min: 1\n",
      "\tWords Mean: 15.5381625891947\n",
      "\tWords Median: 14.0\n",
      "--------------------\n",
      "For Norvegian Test:\n",
      "\tSentences: 1939\n",
      "\tWords: 6616\n",
      "\tPOS-tags: 17\n",
      "\tWords Max: 66\n",
      "\tWords Min: 1\n",
      "\tWords Mean: 15.45435791645178\n",
      "\tWords Median: 14\n"
     ]
    }
   ],
   "source": [
    "print(\"For Ancient Greek Train:\\n\\tSentences: {0}\\n\\tWords: {1}\\n\\tPOS-tags: {2}\\n\\tWords Max: {3}\\n\\tWords Min: {4}\\n\\tWords Mean: {5}\\n\\tWords Median: {6}\".format(stats_train_g['len_sent'], len(stats_train_g['words']), len(stats_train_g['pos_tags']), stats_train_g['max'], stats_train_g['min'], stats_train_g['mean'], stats_train_g['median']))\n",
    "print('-'*20)\n",
    "print(\"For Ancient Greek Test:\\n\\tSentences: {0}\\n\\tWords: {1}\\n\\tPOS-tags: {2}\\n\\tWords Max: {3}\\n\\tWords Min: {4}\\n\\tWords Mean: {5}\\n\\tWords Median: {6}\".format(stats_test_g['len_sent'], len(stats_test_g['words']), len(stats_test_g['pos_tags']), stats_test_g['max'], stats_test_g['min'], stats_test_g['mean'], stats_test_g['median']))\n",
    "print('-'*20)\n",
    "print(\"For Norvegian Train:\\n\\tSentences: {0}\\n\\tWords: {1}\\n\\tPOS-tags: {2}\\n\\tWords Max: {3}\\n\\tWords Min: {4}\\n\\tWords Mean: {5}\\n\\tWords Median: {6}\".format(stats_train_n['len_sent'], len(stats_train_n['words']), len(stats_train_n['pos_tags']), stats_train_n['max'], stats_train_n['min'], stats_train_n['mean'], stats_train_n['median']))\n",
    "print('-'*20)\n",
    "print(\"For Norvegian Test:\\n\\tSentences: {0}\\n\\tWords: {1}\\n\\tPOS-tags: {2}\\n\\tWords Max: {3}\\n\\tWords Min: {4}\\n\\tWords Mean: {5}\\n\\tWords Median: {6}\".format(stats_test_n['len_sent'], len(stats_test_n['words']), len(stats_test_n['pos_tags']), stats_test_n['max'], stats_test_n['min'], stats_test_n['mean'], stats_test_n['median']))"
   ]
  },
  {
   "cell_type": "code",
   "execution_count": null,
   "metadata": {},
   "outputs": [],
   "source": []
  },
  {
   "cell_type": "markdown",
   "metadata": {},
   "source": [
    "Сравним слова в тренировочной и тестовой:"
   ]
  },
  {
   "cell_type": "code",
   "execution_count": 12,
   "metadata": {},
   "outputs": [
    {
     "name": "stdout",
     "output_type": "stream",
     "text": [
      "New words in Ancient Greek Test: 63%\n"
     ]
    }
   ],
   "source": [
    "# for greek:\n",
    "words_test_g = set(stats_test_g['words'].keys())\n",
    "words_test_g.difference_update(set(stats_train_g['words'].keys()))\n",
    "print(\"New words in Ancient Greek Test: {}%\".format(round(len(words_test_g)/len(stats_test_g['words'])*100)))"
   ]
  },
  {
   "cell_type": "code",
   "execution_count": 13,
   "metadata": {},
   "outputs": [
    {
     "name": "stdout",
     "output_type": "stream",
     "text": [
      "New words in Norvegian Test: 37%\n"
     ]
    }
   ],
   "source": [
    "# for norvegian:\n",
    "words_test_n = set(stats_test_n['words'].keys())\n",
    "words_test_n.difference_update(set(stats_train_n['words'].keys()))\n",
    "print(\"New words in Norvegian Test: {}%\".format(round(len(words_test_n)/len(stats_test_n['words'])*100)))"
   ]
  },
  {
   "cell_type": "markdown",
   "metadata": {},
   "source": [
    "Разделим исходные текстовые данные на предложения и тэги, чтобы было удобнее перевести в численные представления:"
   ]
  },
  {
   "cell_type": "code",
   "execution_count": 14,
   "metadata": {},
   "outputs": [],
   "source": [
    "def separate(data):\n",
    "    new = []\n",
    "    for sent in data:\n",
    "        new.append([(w['form'], w['upostag']) for w in sent])\n",
    "    sents, tags =[], [] \n",
    "    for tagged in new:\n",
    "        sent, tag = zip(*tagged)\n",
    "        sents.append(np.array(sent))\n",
    "        tags.append(np.array(tag))\n",
    "    return sents,tags"
   ]
  },
  {
   "cell_type": "code",
   "execution_count": 15,
   "metadata": {},
   "outputs": [
    {
     "data": {
      "text/plain": [
       "([array(['ἐρᾷ', 'μὲν', 'ἁγνὸς', 'οὐρανὸς', 'τρῶσαι', 'χθόνα', ',', 'ἔρως',\n",
       "         'δὲ', 'γαῖαν', 'λαμβάνει', 'γάμου', 'τυχεῖν', '·'], dtype='<U8'),\n",
       "  array(['ὄμβρος', 'δ̓', 'ἀπ̓', 'εὐνάοντος', 'οὐρανοῦ', 'πεσὼν', 'ἔκυσε',\n",
       "         'γαῖαν', '·'], dtype='<U9'),\n",
       "  array(['ἡ', 'δὲ', 'τίκτεται', 'βροτοῖς', 'μήλων', 'τε', 'βοσκὰς', 'καὶ',\n",
       "         'βίον', 'Δημήτριον', '·'], dtype='<U9')],\n",
       " [array(['VERB', 'ADV', 'ADJ', 'NOUN', 'VERB', 'NOUN', 'PUNCT', 'NOUN',\n",
       "         'CCONJ', 'NOUN', 'VERB', 'NOUN', 'VERB', 'PUNCT'], dtype='<U5'),\n",
       "  array(['NOUN', 'ADV', 'ADP', 'ADJ', 'NOUN', 'VERB', 'VERB', 'NOUN',\n",
       "         'PUNCT'], dtype='<U5'),\n",
       "  array(['DET', 'ADV', 'VERB', 'NOUN', 'NOUN', 'ADV', 'NOUN', 'CCONJ',\n",
       "         'NOUN', 'ADJ', 'PUNCT'], dtype='<U5')])"
      ]
     },
     "execution_count": 15,
     "metadata": {},
     "output_type": "execute_result"
    }
   ],
   "source": [
    "sent_train_g, tag_train_g = separate(greek)\n",
    "sent_test_g, tag_test_g = separate(greek_test)\n",
    "\n",
    "sent_train_g[:3], tag_train_g[:3]"
   ]
  },
  {
   "cell_type": "code",
   "execution_count": 16,
   "metadata": {},
   "outputs": [
    {
     "data": {
      "text/plain": [
       "([array(['Lam', 'og', 'piggvar', 'på', 'bryllupsmenyen'], dtype='<U14'),\n",
       "  array(['Kamskjell', ',', 'piggvar', 'og', 'lammefilet', 'sto', 'på',\n",
       "         'menyen', 'under', 'den', 'kongelige', 'gallamiddagen', '.'],\n",
       "        dtype='<U13'),\n",
       "  array(['Og', 'til', 'dessert', ':', 'Parfait', 'à', 'la', 'Mette-Marit',\n",
       "         '.'], dtype='<U11')],\n",
       " [array(['NOUN', 'CCONJ', 'NOUN', 'SCONJ', 'NOUN'], dtype='<U5'),\n",
       "  array(['NOUN', 'PUNCT', 'NOUN', 'CCONJ', 'NOUN', 'VERB', 'ADP', 'NOUN',\n",
       "         'ADP', 'DET', 'ADJ', 'NOUN', 'PUNCT'], dtype='<U5'),\n",
       "  array(['CCONJ', 'ADP', 'NOUN', 'PUNCT', 'PROPN', 'X', 'X', 'PROPN',\n",
       "         'PUNCT'], dtype='<U5')])"
      ]
     },
     "execution_count": 16,
     "metadata": {},
     "output_type": "execute_result"
    }
   ],
   "source": [
    "sent_train_n, tag_train_n = separate(norv)\n",
    "sent_test_n, tag_test_n = separate(norv_test)\n",
    "\n",
    "sent_train_n[:3], tag_train_n[:3]"
   ]
  },
  {
   "cell_type": "markdown",
   "metadata": {},
   "source": [
    "Создадим lookup-таблицу для перевода данных в вектора:"
   ]
  },
  {
   "cell_type": "code",
   "execution_count": 17,
   "metadata": {},
   "outputs": [],
   "source": [
    "def to_index(stats_train):\n",
    "    word2index = {w: i + 2 for i, w in enumerate(list(stats_train['words']))}\n",
    "    word2index['PAD'] = 0\n",
    "    word2index['OOV'] = 1\n",
    "\n",
    "    tag2index = {t: i + 2 for i, t in enumerate(list(stats_train['pos_tags']))}\n",
    "    tag2index['PAD'] = 0\n",
    "    tag2index['OOV'] = 1\n",
    "    return word2index, tag2index"
   ]
  },
  {
   "cell_type": "code",
   "execution_count": 18,
   "metadata": {},
   "outputs": [],
   "source": [
    "word2index_g, tag2index_g = to_index(stats_train_g)\n",
    "word2index_n, tag2index_n = to_index(stats_train_n)"
   ]
  },
  {
   "cell_type": "code",
   "execution_count": 19,
   "metadata": {},
   "outputs": [
    {
     "data": {
      "text/plain": [
       "{'ADJ': 4,\n",
       " 'ADP': 8,\n",
       " 'ADV': 3,\n",
       " 'CCONJ': 7,\n",
       " 'DET': 9,\n",
       " 'INTJ': 12,\n",
       " 'NOUN': 5,\n",
       " 'NUM': 13,\n",
       " 'OOV': 1,\n",
       " 'PAD': 0,\n",
       " 'PART': 15,\n",
       " 'PRON': 10,\n",
       " 'PUNCT': 6,\n",
       " 'SCONJ': 11,\n",
       " 'VERB': 2,\n",
       " 'X': 14}"
      ]
     },
     "execution_count": 19,
     "metadata": {},
     "output_type": "execute_result"
    }
   ],
   "source": [
    "tag2index_g"
   ]
  },
  {
   "cell_type": "markdown",
   "metadata": {},
   "source": [
    "Зададим параметры для модели:"
   ]
  },
  {
   "cell_type": "markdown",
   "metadata": {},
   "source": [
    "Для того, чтобы подобрать MAX_SEQLEN, возьмем такую длину, чтобы количество предложений этой длины составляло хотя бы 1% от всего корпуса (~100-150 предложений). 1% был выведем из расчета на то, в корпусе могут быть тексты художественные (в частности, для древнегреческого - \"The treebank contains most of the New Testament plus selections from Herodotus' Histories.\"(с)Readme из репозитория, то есть состоит из классических текстов, в которых часто могут использоваться длинные предложения). Если брать меньший процент, то максимальная длина сокращается ~до среднего - 10-15, что, на мой взгляд, достаточно короткие предложения"
   ]
  },
  {
   "cell_type": "code",
   "execution_count": 20,
   "metadata": {},
   "outputs": [],
   "source": [
    "MAX_SEQLEN_g = 0\n",
    "for i, k in sorted(Counter(stats_train_g['sents']).items()):\n",
    "    if i<10:\n",
    "        continue\n",
    "    if k/len(stats_train_g['sents'])>0.01:\n",
    "        MAX_SEQLEN_g = i\n",
    "    else:\n",
    "        break"
   ]
  },
  {
   "cell_type": "code",
   "execution_count": 21,
   "metadata": {},
   "outputs": [],
   "source": [
    "MAX_SEQLEN_n = 0\n",
    "for i, k in sorted(Counter(stats_train_n['sents']).items()):\n",
    "    if i<10:\n",
    "        continue\n",
    "    if k/len(stats_train_n['sents'])>0.01:\n",
    "        MAX_SEQLEN_n = i\n",
    "    else:\n",
    "        break"
   ]
  },
  {
   "cell_type": "code",
   "execution_count": 22,
   "metadata": {},
   "outputs": [
    {
     "data": {
      "text/plain": [
       "(26, 30)"
      ]
     },
     "execution_count": 22,
     "metadata": {},
     "output_type": "execute_result"
    }
   ],
   "source": [
    "MAX_SEQLEN_g, MAX_SEQLEN_n"
   ]
  },
  {
   "cell_type": "markdown",
   "metadata": {},
   "source": [
    "Интересно, что 1 проценту в греческом соответствуют более короткие предложения, чем в норвежском. Полагаю, это связано с тем, что норвеский больше тяготеет к аналитизму, а греческий - к синтетизму"
   ]
  },
  {
   "cell_type": "markdown",
   "metadata": {},
   "source": [
    "Определяем остальные параметры. Основные критерии выбора параметров для сети - хорошие результаты, но щадяще для компьютера "
   ]
  },
  {
   "cell_type": "code",
   "execution_count": 23,
   "metadata": {},
   "outputs": [],
   "source": [
    "NUM_EPOCHS = 15\n",
    "EMB_SIZE = 150\n",
    "HIDDEN_SIZE = 64\n",
    "BATCH_SIZE = 264\n",
    "\n",
    "S_MAX_FEATURES_g = len(word2index_g)\n",
    "T_MAX_FEATURES_g = len(tag2index_g)\n",
    "\n",
    "S_MAX_FEATURES_n = len(word2index_n)\n",
    "T_MAX_FEATURES_n = len(tag2index_n)"
   ]
  },
  {
   "cell_type": "code",
   "execution_count": 24,
   "metadata": {},
   "outputs": [
    {
     "name": "stdout",
     "output_type": "stream",
     "text": [
      "Parameters for Greek:  26 33239 16\n",
      "Parameters for Norvegian:  30 30074 19\n"
     ]
    }
   ],
   "source": [
    "print(\"Parameters for Greek: \", MAX_SEQLEN_g, S_MAX_FEATURES_g, T_MAX_FEATURES_g)\n",
    "print(\"Parameters for Norvegian: \", MAX_SEQLEN_n, S_MAX_FEATURES_n, T_MAX_FEATURES_n)"
   ]
  },
  {
   "cell_type": "markdown",
   "metadata": {},
   "source": [
    "Переводим предложения в векторное представление, ссылаясь на lookup, заполняем паддинги. Для out-of-vocabulary слов записываем 1"
   ]
  },
  {
   "cell_type": "code",
   "execution_count": 25,
   "metadata": {},
   "outputs": [],
   "source": [
    "def to_num(data, lookup):\n",
    "    nums = []\n",
    "    for i in data:\n",
    "        nums.append([lookup.get(w,1) for w in i])\n",
    "    return nums"
   ]
  },
  {
   "cell_type": "code",
   "execution_count": 26,
   "metadata": {},
   "outputs": [],
   "source": [
    "def padding(data, MAX_SEQLEN):\n",
    "    return pad_sequences(data, maxlen=MAX_SEQLEN, padding='post', truncating=\"post\")"
   ]
  },
  {
   "cell_type": "code",
   "execution_count": 27,
   "metadata": {},
   "outputs": [],
   "source": [
    "s_train_g, t_train_g = to_num(sent_train_g, word2index_g), to_num(tag_train_g, tag2index_g)\n",
    "s_test_g, t_test_g = to_num(sent_test_g, word2index_g), to_num(tag_test_g, tag2index_g)\n",
    "\n",
    "X_train_g, Y_train_g, X_test_g, Y_test_g = padding(s_train_g, MAX_SEQLEN_g), padding(t_train_g, MAX_SEQLEN_g), padding(s_test_g, MAX_SEQLEN_g), padding(t_test_g, MAX_SEQLEN_g)"
   ]
  },
  {
   "cell_type": "code",
   "execution_count": 28,
   "metadata": {},
   "outputs": [],
   "source": [
    "s_train_n, t_train_n = to_num(sent_train_n, word2index_n), to_num(tag_train_n, tag2index_n)\n",
    "s_test_n, t_test_n = to_num(sent_test_n, word2index_n), to_num(tag_test_n, tag2index_n)\n",
    "\n",
    "X_train_n, Y_train_n, X_test_n, Y_test_n = padding(s_train_n, MAX_SEQLEN_n), padding(t_train_n, MAX_SEQLEN_n), padding(s_test_n, MAX_SEQLEN_n), padding(t_test_n, MAX_SEQLEN_n)"
   ]
  },
  {
   "cell_type": "markdown",
   "metadata": {},
   "source": [
    "Разделим тренировочные данные на тренировочные и валидационные для обучения модели:"
   ]
  },
  {
   "cell_type": "code",
   "execution_count": 29,
   "metadata": {},
   "outputs": [],
   "source": [
    "X_train_g, X_val_g, Y_train_g, Y_val_g = train_test_split(X_train_g, Y_train_g, test_size=0.2, random_state=42)\n",
    "X_train_n, X_val_n, Y_train_n, Y_val_n = train_test_split(X_train_n, Y_train_n, test_size=0.2, random_state=42)"
   ]
  },
  {
   "cell_type": "markdown",
   "metadata": {},
   "source": [
    "Предобработка данных и перевод их в векторное представление закончены  "
   ]
  },
  {
   "cell_type": "markdown",
   "metadata": {},
   "source": [
    "Построим графики распределения частей речи в тестовой выборке для каждого из языков:"
   ]
  },
  {
   "cell_type": "code",
   "execution_count": 30,
   "metadata": {},
   "outputs": [],
   "source": [
    "from matplotlib import colors"
   ]
  },
  {
   "cell_type": "code",
   "execution_count": 31,
   "metadata": {},
   "outputs": [
    {
     "name": "stdout",
     "output_type": "stream",
     "text": [
      "[('PAD', 0), ('OOV', 1), ('VERB', 2), ('ADV', 3), ('ADJ', 4), ('NOUN', 5), ('PUNCT', 6), ('CCONJ', 7), ('ADP', 8), ('DET', 9), ('PRON', 10), ('SCONJ', 11), ('INTJ', 12), ('NUM', 13), ('X', 14), ('PART', 15)]\n"
     ]
    },
    {
     "data": {
      "image/png": "[encoded data removed]",
      "text/plain": [
       "<matplotlib.figure.Figure at 0x3bf793a390>"
      ]
     },
     "metadata": {},
     "output_type": "display_data"
    }
   ],
   "source": [
    "tags_g = [p for sent in Y_train_g for p in sent if p!=0]\n",
    "print(sorted(tag2index_g.items(), key=operator.itemgetter(1)))\n",
    "#print(tags_g.count())\n",
    "num_bins = len(tag2index_g)\n",
    "#N, bins, patches = plt.hist(tags_g, num_bins, facecolor='blue', alpha=0.5)\n",
    "labels, counts = np.unique(tags_g, return_counts=True)\n",
    "plt.bar(labels, counts, align='center')\n",
    "plt.gca().set_xticks(labels)\n",
    "\n",
    "x1,x2,y1,y2 = plt.axis()\n",
    "plt.axis([0, num_bins,y1,y2])\n",
    "plt.title(\"POS-tags for Ancien Greek\")\n",
    "plt.xlabel(\"PoS-tag\")\n",
    "plt.ylabel(\"number\")\n",
    "plt.xticks([i for i in range(num_bins)])\n",
    "\n",
    "plt.show()"
   ]
  },
  {
   "cell_type": "markdown",
   "metadata": {},
   "source": [
    "В **древнегреческом** преобладают существительные, глаголы, (пунктуация) и прилагательные"
   ]
  },
  {
   "cell_type": "code",
   "execution_count": 32,
   "metadata": {},
   "outputs": [
    {
     "name": "stdout",
     "output_type": "stream",
     "text": [
      "[('PAD', 0), ('OOV', 1), ('NOUN', 2), ('CCONJ', 3), ('SCONJ', 4), ('PUNCT', 5), ('VERB', 6), ('ADP', 7), ('DET', 8), ('ADJ', 9), ('PROPN', 10), ('X', 11), ('PRON', 12), ('AUX', 13), ('ADV', 14), ('NUM', 15), ('PART', 16), ('SYM', 17), ('INTJ', 18)]\n"
     ]
    },
    {
     "data": {
      "image/png": "[encoded data removed]",
      "text/plain": [
       "<matplotlib.figure.Figure at 0x3bf81aedd8>"
      ]
     },
     "metadata": {},
     "output_type": "display_data"
    }
   ],
   "source": [
    "tags_n = [p for sent in Y_train_n for p in sent if p!=0]\n",
    "print(sorted(tag2index_n.items(), key=operator.itemgetter(1)))\n",
    "\n",
    "#print(tags_g.count())\n",
    "num_bins = len(tag2index_n)\n",
    "#N, bins, patches = plt.hist(tags_g, num_bins, facecolor='blue', alpha=0.5)\n",
    "labels, counts = np.unique(tags_n, return_counts=True)\n",
    "plt.bar(labels, counts, align='center')\n",
    "plt.gca().set_xticks(labels)\n",
    "\n",
    "x1,x2,y1,y2 = plt.axis()\n",
    "plt.axis([0, num_bins,y1,y2])\n",
    "plt.title(\"POS-tags for Norvegian\")\n",
    "plt.xlabel(\"PoS-tag\")\n",
    "plt.ylabel(\"number\")\n",
    "plt.xticks([i for i in range(num_bins)])\n",
    "\n",
    "plt.show()"
   ]
  },
  {
   "cell_type": "markdown",
   "metadata": {},
   "source": [
    "В **норвежском** существительных намного больше, чем других частей речи, затем пунктуация, адпозиции (маркеры синтаксических ролей и связей в препозиции и постпозиции), и только затем глаголы"
   ]
  },
  {
   "cell_type": "markdown",
   "metadata": {},
   "source": [
    "То, что в норвежском существительных намного больше, чем глаголов, а в древнегреческом они почти на одинаковом уровне, может быть связано с тем, что в древнегреческом глаголы изменяются по лицам => возможен пропуск подлежащего, так как форма глагола на него указывает, тогда как в норвежском глаголы по лицам не изменяются, а значит, наличие подлежащего/субъекта в предложении обязательно  \n",
    "\n",
    "При этом, хотя это и не отражено на графике, паддингов намного больше, чем существительных в каждом из языков - может доходить ~250 тысяч. Они были искючены из графика, чтобы более наглядно рассмотреть распределение других частей речи"
   ]
  },
  {
   "cell_type": "markdown",
   "metadata": {},
   "source": [
    "Напишем функции, чтобы быстро строить модель и обрабатывать результаты, не копируя каждый раз:"
   ]
  },
  {
   "cell_type": "code",
   "execution_count": 33,
   "metadata": {},
   "outputs": [],
   "source": [
    "# построим модель с вариативностью слоя для разных случаев\n",
    "def make_model(S_MAX_FEATURES, T_MAX_FEATURES, MAX_SEQLEN, LSTM_flag = False, GRU_flag = False, LSTM_Bi = False, Simple = False, EMBEDDING_SIZE = EMB_SIZE):\n",
    "    global HIDDEN_SIZE\n",
    "    model = Sequential()\n",
    "    model.add(Embedding(S_MAX_FEATURES, EMBEDDING_SIZE, input_length=MAX_SEQLEN))\n",
    "    if LSTM_flag == True:\n",
    "        model.add(LSTM(HIDDEN_SIZE, dropout=0.2, recurrent_dropout=0.2, return_sequences=True))\n",
    "        model.add(Dense(T_MAX_FEATURES))\n",
    "    elif GRU_flag == True:\n",
    "        model.add(GRU(HIDDEN_SIZE, dropout=0.2, recurrent_dropout=0.2, return_sequences=True))\n",
    "        model.add(Dense(T_MAX_FEATURES))\n",
    "    elif LSTM_Bi == True:\n",
    "        model.add(Bidirectional(LSTM(HIDDEN_SIZE, dropout=0.2, recurrent_dropout=0.2, return_sequences=True)))\n",
    "        model.add(TimeDistributed(Dense(T_MAX_FEATURES)))\n",
    "    elif Simple == True:\n",
    "        model.add(SimpleRNN(HIDDEN_SIZE, \n",
    "                    input_shape=(MAX_SEQLEN, S_MAX_FEATURES),\n",
    "                    unroll=True, dropout=0.2, recurrent_dropout=0.2, return_sequences=True))\n",
    "        model.add(Dense(T_MAX_FEATURES))\n",
    "        \n",
    "    #model.add(Dense(T_MAX_FEATURES))\n",
    "    model.add(Activation(\"softmax\"))\n",
    "\n",
    "    model.compile(loss=\"categorical_crossentropy\", optimizer=\"adam\", \n",
    "                  metrics=[\"acc\"])\n",
    "\n",
    "    print(model.summary())\n",
    "    return model"
   ]
  },
  {
   "cell_type": "code",
   "execution_count": 34,
   "metadata": {},
   "outputs": [],
   "source": [
    "# график изменения точности и потери\n",
    "def plotting(history):\n",
    "    plt.subplot(211)\n",
    "    plt.title(\"Accuracy\")\n",
    "    plt.plot(history.history[\"acc\"], color=\"r\", label=\"Train\")\n",
    "    plt.plot(history.history[\"val_acc\"], color=\"b\", label=\"Val\")\n",
    "    plt.legend(loc=\"best\")\n",
    "\n",
    "    plt.subplot(212)\n",
    "    plt.title(\"Loss\")\n",
    "    plt.plot(history.history[\"loss\"], color=\"r\", label=\"Train\")\n",
    "    plt.plot(history.history[\"val_loss\"], color=\"b\", label=\"Val\")\n",
    "    plt.legend(loc=\"best\")\n",
    "\n",
    "    plt.tight_layout()\n",
    "    plt.show()"
   ]
  },
  {
   "cell_type": "code",
   "execution_count": 35,
   "metadata": {},
   "outputs": [],
   "source": [
    "# предсказание модели на тестовой выборке\n",
    "\n",
    "def predict(X_test, Y_test, MAX_SEQLEN, tag2index, model):\n",
    "    preds = []\n",
    "    for idx in tqdm(range(len(X_test))):\n",
    "        #idx = np.random.randint(len(X_test))\n",
    "        xtest = X_test[idx].reshape(1, MAX_SEQLEN)\n",
    "        ylabel = Y_test[idx]\n",
    "        predict = model.predict_classes(xtest)[0] # предскажем теги для одного предложения\n",
    "        #predict = [np.argmax(k, axis=None, out=None) for k in pred]\n",
    "        tags_pred = [] # для более наглядного представления переведем числа обратно в теги, исключая паддинги\n",
    "        tags_ans = [] # и распределим по двум спискам - настоящих ответов и предсказанных моделью\n",
    "        for p in predict: \n",
    "            tags_pred.extend([k for k,v in tag2index.items() if v == p and k!=\"PAD\"]) \n",
    "        for t in ylabel:\n",
    "            tags_ans.extend([k for k,v in tag2index.items() if v == t and k!=\"PAD\"])\n",
    "        preds.append([pair for pair in zip(tags_ans, tags_pred)]) # спарим правильный ответ с его предсказанием и добавим в общий список предсказаний\n",
    "    return preds"
   ]
  },
  {
   "cell_type": "code",
   "execution_count": 36,
   "metadata": {},
   "outputs": [],
   "source": [
    "# так как из-за паддингов результаты точности, подсчитанные керасом, не отражают реальную производительность \n",
    "# и точность модели, подсчитаем ее вручную. Ради эксперимента - подсчитаем точность общую и по предложениям (среднюю), \n",
    "\n",
    "def acc_manual(pred):\n",
    "    acc_total = 0\n",
    "    acc = []\n",
    "    lens = 0\n",
    "    for sent in tqdm(pred):\n",
    "        acc_sent = 0\n",
    "        for pair in sent:\n",
    "            if len(set(pair)) == 1:\n",
    "                acc_sent+=1\n",
    "                acc_total +=1\n",
    "\n",
    "        acc_sent = acc_sent/len(sent)\n",
    "        lens+=len(sent)\n",
    "        acc.append(acc_sent)\n",
    "\n",
    "    by_sent = mean(acc)\n",
    "    print(\"By sent: \", by_sent*100, \"\\nTotal: \", acc_total/lens*100)\n",
    "    return by_sent"
   ]
  },
  {
   "cell_type": "code",
   "execution_count": 37,
   "metadata": {},
   "outputs": [],
   "source": [
    "scores = {}"
   ]
  },
  {
   "cell_type": "code",
   "execution_count": 38,
   "metadata": {},
   "outputs": [
    {
     "data": {
      "text/plain": [
       "((9180, 26), (9180, 26))"
      ]
     },
     "execution_count": 38,
     "metadata": {},
     "output_type": "execute_result"
    }
   ],
   "source": [
    "X_train_g.shape, Y_train_g.shape"
   ]
  },
  {
   "cell_type": "code",
   "execution_count": 39,
   "metadata": {},
   "outputs": [],
   "source": [
    "Y_train_g = to_categorical(Y_train_g)\n",
    "Y_val_g = to_categorical(Y_val_g)\n",
    "\n",
    "Y_train_n = to_categorical(Y_train_n)\n",
    "Y_val_n = to_categorical(Y_val_n)"
   ]
  },
  {
   "cell_type": "markdown",
   "metadata": {},
   "source": [
    "### LSTM"
   ]
  },
  {
   "cell_type": "markdown",
   "metadata": {},
   "source": [
    "Для древнегреческого:"
   ]
  },
  {
   "cell_type": "code",
   "execution_count": 40,
   "metadata": {},
   "outputs": [
    {
     "name": "stdout",
     "output_type": "stream",
     "text": [
      "_________________________________________________________________\n",
      "Layer (type)                 Output Shape              Param #   \n",
      "=================================================================\n",
      "embedding_1 (Embedding)      (None, 26, 150)           4985850   \n",
      "_________________________________________________________________\n",
      "lstm_1 (LSTM)                (None, 26, 64)            55040     \n",
      "_________________________________________________________________\n",
      "dense_1 (Dense)              (None, 26, 16)            1040      \n",
      "_________________________________________________________________\n",
      "activation_1 (Activation)    (None, 26, 16)            0         \n",
      "=================================================================\n",
      "Total params: 5,041,930\n",
      "Trainable params: 5,041,930\n",
      "Non-trainable params: 0\n",
      "_________________________________________________________________\n",
      "None\n",
      "Train on 9180 samples, validate on 2296 samples\n",
      "Epoch 1/15\n",
      " - 14s - loss: 2.0413 - acc: 0.4715 - val_loss: 1.4721 - val_acc: 0.4906\n",
      "\n",
      "Epoch 00001: saving model to lstm\\lstm_g-1.h5\n",
      "Epoch 2/15\n",
      " - 12s - loss: 1.3961 - acc: 0.5198 - val_loss: 1.3286 - val_acc: 0.5262\n",
      "\n",
      "Epoch 00002: saving model to lstm\\lstm_g-2.h5\n",
      "Epoch 3/15\n",
      " - 11s - loss: 1.2478 - acc: 0.5818 - val_loss: 1.1712 - val_acc: 0.6341\n",
      "\n",
      "Epoch 00003: saving model to lstm\\lstm_g-3.h5\n",
      "Epoch 4/15\n",
      " - 11s - loss: 1.0893 - acc: 0.6633 - val_loss: 1.0075 - val_acc: 0.6965\n",
      "\n",
      "Epoch 00004: saving model to lstm\\lstm_g-4.h5\n",
      "Epoch 5/15\n",
      " - 11s - loss: 0.9042 - acc: 0.7268 - val_loss: 0.7901 - val_acc: 0.7561\n",
      "\n",
      "Epoch 00005: saving model to lstm\\lstm_g-5.h5\n",
      "Epoch 6/15\n",
      " - 11s - loss: 0.6635 - acc: 0.8025 - val_loss: 0.5477 - val_acc: 0.8470\n",
      "\n",
      "Epoch 00006: saving model to lstm\\lstm_g-6.h5\n",
      "Epoch 7/15\n",
      " - 12s - loss: 0.4260 - acc: 0.9004 - val_loss: 0.3681 - val_acc: 0.9078\n",
      "\n",
      "Epoch 00007: saving model to lstm\\lstm_g-7.h5\n",
      "Epoch 8/15\n",
      " - 11s - loss: 0.2672 - acc: 0.9445 - val_loss: 0.2806 - val_acc: 0.9214\n",
      "\n",
      "Epoch 00008: saving model to lstm\\lstm_g-8.h5\n",
      "Epoch 9/15\n",
      " - 11s - loss: 0.1845 - acc: 0.9602 - val_loss: 0.2415 - val_acc: 0.9270\n",
      "\n",
      "Epoch 00009: saving model to lstm\\lstm_g-9.h5\n",
      "Epoch 10/15\n",
      " - 11s - loss: 0.1426 - acc: 0.9660 - val_loss: 0.2214 - val_acc: 0.9296\n",
      "\n",
      "Epoch 00010: saving model to lstm\\lstm_g-10.h5\n",
      "Epoch 11/15\n",
      " - 11s - loss: 0.1194 - acc: 0.9684 - val_loss: 0.2100 - val_acc: 0.9308\n",
      "\n",
      "Epoch 00011: saving model to lstm\\lstm_g-11.h5\n",
      "Epoch 12/15\n",
      " - 11s - loss: 0.1048 - acc: 0.9698 - val_loss: 0.2022 - val_acc: 0.9319\n",
      "\n",
      "Epoch 00012: saving model to lstm\\lstm_g-12.h5\n",
      "Epoch 13/15\n",
      " - 11s - loss: 0.0942 - acc: 0.9710 - val_loss: 0.1969 - val_acc: 0.9327\n",
      "\n",
      "Epoch 00013: saving model to lstm\\lstm_g-13.h5\n",
      "Epoch 14/15\n",
      " - 11s - loss: 0.0856 - acc: 0.9722 - val_loss: 0.1933 - val_acc: 0.9328\n",
      "\n",
      "Epoch 00014: saving model to lstm\\lstm_g-14.h5\n",
      "Epoch 15/15\n",
      " - 11s - loss: 0.0786 - acc: 0.9740 - val_loss: 0.1905 - val_acc: 0.9336\n",
      "\n",
      "Epoch 00015: saving model to lstm\\lstm_g-15.h5\n"
     ]
    }
   ],
   "source": [
    "model_g_lstm = make_model(S_MAX_FEATURES_g, T_MAX_FEATURES_g, MAX_SEQLEN_g, LSTM_flag = True)\n",
    "checkpoint = ModelCheckpoint('lstm\\\\lstm_g-{epoch}.h5', verbose=1, save_best_only=False, save_weights_only=True)\n",
    "history_g_lstm = model_g_lstm.fit(X_train_g, Y_train_g, batch_size=BATCH_SIZE, \n",
    "                    epochs=NUM_EPOCHS,\n",
    "                    validation_data=(X_val_g, Y_val_g), verbose = 2, callbacks = [checkpoint])"
   ]
  },
  {
   "cell_type": "code",
   "execution_count": 41,
   "metadata": {},
   "outputs": [
    {
     "data": {
      "image/png": "[encoded data removed]",
      "text/plain": [
       "<matplotlib.figure.Figure at 0x3bf81ae240>"
      ]
     },
     "metadata": {},
     "output_type": "display_data"
    }
   ],
   "source": [
    "plotting(history_g_lstm)"
   ]
  },
  {
   "cell_type": "markdown",
   "metadata": {},
   "source": [
    "По графику видно, что переобучение на древнегреческом начинается с 7-й эпохи (6й по графику) (валидационная точнсть перестает увеличиваться  становится меньше тренировочной)"
   ]
  },
  {
   "cell_type": "code",
   "execution_count": 42,
   "metadata": {},
   "outputs": [],
   "source": [
    "model_g_lstm.load_weights('lstm\\\\lstm_g-7.h5')"
   ]
  },
  {
   "cell_type": "code",
   "execution_count": 43,
   "metadata": {},
   "outputs": [
    {
     "name": "stdout",
     "output_type": "stream",
     "text": [
      "1306/1306 [==============================] - ETA:  - ETA:  - ETA:  - ETA:  - ETA:  - ETA:  - ETA:  - ETA:  - 0s 323us/step\n"
     ]
    }
   ],
   "source": [
    "score, acc = model_g_lstm.evaluate(X_test_g, to_categorical(Y_test_g, num_classes=T_MAX_FEATURES_g), verbose = 1)"
   ]
  },
  {
   "cell_type": "code",
   "execution_count": 44,
   "metadata": {},
   "outputs": [
    {
     "name": "stdout",
     "output_type": "stream",
     "text": [
      "Test score: 0.521, accuracy: 83.879\n"
     ]
    }
   ],
   "source": [
    "print(\"Test score: %.3f, accuracy: %.3f\" % (score, acc*100))"
   ]
  },
  {
   "cell_type": "code",
   "execution_count": 45,
   "metadata": {},
   "outputs": [
    {
     "data": {
      "application/vnd.jupyter.widget-view+json": {
       "model_id": "784e33cc9a8449cdbd1f9aee1e6960ff",
       "version_major": 2,
       "version_minor": 0
      },
      "text/html": [
       "<p>Failed to display Jupyter Widget of type <code>HBox</code>.</p>\n",
       "<p>\n",
       "  If you're reading this message in the Jupyter Notebook or JupyterLab Notebook, it may mean\n",
       "  that the widgets JavaScript is still loading. If this message persists, it\n",
       "  likely means that the widgets JavaScript library is either not installed or\n",
       "  not enabled. See the <a href=\"https://ipywidgets.readthedocs.io/en/stable/user_install.html\">Jupyter\n",
       "  Widgets Documentation</a> for setup instructions.\n",
       "</p>\n",
       "<p>\n",
       "  If you're reading this message in another frontend (for example, a static\n",
       "  rendering on GitHub or <a href=\"https://nbviewer.jupyter.org/\">NBViewer</a>),\n",
       "  it may mean that your frontend doesn't currently support widgets.\n",
       "</p>\n"
      ],
      "text/plain": [
       "HBox(children=(IntProgress(value=0, max=1306), HTML(value='')))"
      ]
     },
     "metadata": {},
     "output_type": "display_data"
    },
    {
     "name": "stdout",
     "output_type": "stream",
     "text": [
      "\n"
     ]
    }
   ],
   "source": [
    "pred_g = predict(X_test_g, Y_test_g, MAX_SEQLEN_g, tag2index_g, model_g_lstm)"
   ]
  },
  {
   "cell_type": "code",
   "execution_count": 46,
   "metadata": {},
   "outputs": [
    {
     "name": "stdout",
     "output_type": "stream",
     "text": [
      "Accuracy without paddings: \n"
     ]
    },
    {
     "data": {
      "application/vnd.jupyter.widget-view+json": {
       "model_id": "bbb960c92fa0473ab63c0f76257b910f",
       "version_major": 2,
       "version_minor": 0
      },
      "text/html": [
       "<p>Failed to display Jupyter Widget of type <code>HBox</code>.</p>\n",
       "<p>\n",
       "  If you're reading this message in the Jupyter Notebook or JupyterLab Notebook, it may mean\n",
       "  that the widgets JavaScript is still loading. If this message persists, it\n",
       "  likely means that the widgets JavaScript library is either not installed or\n",
       "  not enabled. See the <a href=\"https://ipywidgets.readthedocs.io/en/stable/user_install.html\">Jupyter\n",
       "  Widgets Documentation</a> for setup instructions.\n",
       "</p>\n",
       "<p>\n",
       "  If you're reading this message in another frontend (for example, a static\n",
       "  rendering on GitHub or <a href=\"https://nbviewer.jupyter.org/\">NBViewer</a>),\n",
       "  it may mean that your frontend doesn't currently support widgets.\n",
       "</p>\n"
      ],
      "text/plain": [
       "HBox(children=(IntProgress(value=0, max=1306), HTML(value='')))"
      ]
     },
     "metadata": {},
     "output_type": "display_data"
    },
    {
     "name": "stdout",
     "output_type": "stream",
     "text": [
      "\n",
      "By sent:  72.02862398418273 \n",
      "Total:  71.94196657438738\n"
     ]
    }
   ],
   "source": [
    "print(\"Accuracy without paddings: \")\n",
    "acc_g = acc_manual(pred_g)"
   ]
  },
  {
   "cell_type": "code",
   "execution_count": 47,
   "metadata": {},
   "outputs": [
    {
     "name": "stdout",
     "output_type": "stream",
     "text": [
      "Random Sent 1:\n",
      "('VERB', 'NOUN')\n",
      "('ADV', 'PART')\n",
      "('ADV', 'ADV')\n",
      "('PRON', 'PRON')\n",
      "('DET', 'DET')\n",
      "('PRON', 'ADJ')\n",
      "('NOUN', 'NOUN')\n",
      "('DET', 'DET')\n",
      "('VERB', 'NOUN')\n",
      "('PUNCT', 'PUNCT')\n",
      "('NOUN', 'VERB')\n",
      "('DET', 'DET')\n",
      "('ADJ', 'ADJ')\n",
      "('VERB', 'VERB')\n",
      "('CCONJ', 'CCONJ')\n",
      "('VERB', 'VERB')\n",
      "('DET', 'DET')\n",
      "('NOUN', 'NOUN')\n",
      "('ADJ', 'ADJ')\n",
      "('PUNCT', 'PUNCT')\n",
      "__________\n",
      "Random Sent 2:\n",
      "('PRON', 'PRON')\n",
      "('ADV', 'PART')\n",
      "('ADJ', 'VERB')\n",
      "('VERB', 'VERB')\n",
      "('NOUN', 'VERB')\n",
      "('ADV', 'ADV')\n",
      "('ADJ', 'ADJ')\n",
      "('PRON', 'PRON')\n",
      "('ADP', 'ADP')\n",
      "('DET', 'DET')\n",
      "('ADJ', 'NOUN')\n",
      "('PRON', 'PRON')\n",
      "('VERB', 'VERB')\n",
      "('PUNCT', 'PUNCT')\n",
      "('CCONJ', 'ADV')\n",
      "('ADV', 'ADV')\n",
      "('VERB', 'VERB')\n",
      "('VERB', 'VERB')\n",
      "('PUNCT', 'PUNCT')\n",
      "__________\n",
      "Random Sent 3:\n",
      "('ADJ', 'NOUN')\n",
      "('ADV', 'PART')\n",
      "('ADV', 'ADV')\n",
      "('PRON', 'PRON')\n",
      "('ADP', 'ADP')\n",
      "('PRON', 'PRON')\n",
      "('VERB', 'VERB')\n",
      "('PUNCT', 'PUNCT')\n",
      "__________\n"
     ]
    }
   ],
   "source": [
    "for i, s in enumerate(pred_g[:3]):\n",
    "    print(\"Random Sent {}:\". format(i+1), *s, sep=\"\\n\", end=\"\\n__________\\n\")"
   ]
  },
  {
   "cell_type": "markdown",
   "metadata": {},
   "source": [
    "Для норвежского:"
   ]
  },
  {
   "cell_type": "code",
   "execution_count": 48,
   "metadata": {},
   "outputs": [
    {
     "name": "stdout",
     "output_type": "stream",
     "text": [
      "_________________________________________________________________\n",
      "Layer (type)                 Output Shape              Param #   \n",
      "=================================================================\n",
      "embedding_2 (Embedding)      (None, 30, 150)           4511100   \n",
      "_________________________________________________________________\n",
      "lstm_2 (LSTM)                (None, 30, 64)            55040     \n",
      "_________________________________________________________________\n",
      "dense_2 (Dense)              (None, 30, 19)            1235      \n",
      "_________________________________________________________________\n",
      "activation_2 (Activation)    (None, 30, 19)            0         \n",
      "=================================================================\n",
      "Total params: 4,567,375\n",
      "Trainable params: 4,567,375\n",
      "Non-trainable params: 0\n",
      "_________________________________________________________________\n",
      "None\n",
      "Train on 12556 samples, validate on 3140 samples\n",
      "Epoch 1/15\n",
      " - 19s - loss: 1.9924 - acc: 0.4935 - val_loss: 1.4691 - val_acc: 0.5303\n",
      "\n",
      "Epoch 00001: saving model to lstm\\lstm_n-1.h5\n",
      "Epoch 2/15\n",
      " - 16s - loss: 1.4038 - acc: 0.5454 - val_loss: 1.3084 - val_acc: 0.5927\n",
      "\n",
      "Epoch 00002: saving model to lstm\\lstm_n-2.h5\n",
      "Epoch 3/15\n",
      " - 16s - loss: 1.2320 - acc: 0.6270 - val_loss: 1.1282 - val_acc: 0.6750\n",
      "\n",
      "Epoch 00003: saving model to lstm\\lstm_n-3.h5\n",
      "Epoch 4/15\n",
      " - 16s - loss: 1.0077 - acc: 0.7218 - val_loss: 0.8298 - val_acc: 0.7700\n",
      "\n",
      "Epoch 00004: saving model to lstm\\lstm_n-4.h5\n",
      "Epoch 5/15\n",
      " - 17s - loss: 0.6483 - acc: 0.8274 - val_loss: 0.4676 - val_acc: 0.8890\n",
      "\n",
      "Epoch 00005: saving model to lstm\\lstm_n-5.h5\n",
      "Epoch 6/15\n",
      " - 16s - loss: 0.3495 - acc: 0.9230 - val_loss: 0.2746 - val_acc: 0.9366\n",
      "\n",
      "Epoch 00006: saving model to lstm\\lstm_n-6.h5\n",
      "Epoch 7/15\n",
      " - 18s - loss: 0.2039 - acc: 0.9581 - val_loss: 0.2031 - val_acc: 0.9495\n",
      "\n",
      "Epoch 00007: saving model to lstm\\lstm_n-7.h5\n",
      "Epoch 8/15\n",
      " - 19s - loss: 0.1434 - acc: 0.9675 - val_loss: 0.1737 - val_acc: 0.9526\n",
      "\n",
      "Epoch 00008: saving model to lstm\\lstm_n-8.h5\n",
      "Epoch 9/15\n",
      " - 18s - loss: 0.1150 - acc: 0.9704 - val_loss: 0.1597 - val_acc: 0.9539\n",
      "\n",
      "Epoch 00009: saving model to lstm\\lstm_n-9.h5\n",
      "Epoch 10/15\n",
      " - 17s - loss: 0.0990 - acc: 0.9721 - val_loss: 0.1512 - val_acc: 0.9547\n",
      "\n",
      "Epoch 00010: saving model to lstm\\lstm_n-10.h5\n",
      "Epoch 11/15\n",
      " - 17s - loss: 0.0887 - acc: 0.9731 - val_loss: 0.1460 - val_acc: 0.9553\n",
      "\n",
      "Epoch 00011: saving model to lstm\\lstm_n-11.h5\n",
      "Epoch 12/15\n",
      " - 18s - loss: 0.0811 - acc: 0.9744 - val_loss: 0.1425 - val_acc: 0.9557\n",
      "\n",
      "Epoch 00012: saving model to lstm\\lstm_n-12.h5\n",
      "Epoch 13/15\n",
      " - 16s - loss: 0.0752 - acc: 0.9754 - val_loss: 0.1406 - val_acc: 0.9557\n",
      "\n",
      "Epoch 00013: saving model to lstm\\lstm_n-13.h5\n",
      "Epoch 14/15\n",
      " - 18s - loss: 0.0706 - acc: 0.9764 - val_loss: 0.1391 - val_acc: 0.9559\n",
      "\n",
      "Epoch 00014: saving model to lstm\\lstm_n-14.h5\n",
      "Epoch 15/15\n",
      " - 16s - loss: 0.0664 - acc: 0.9777 - val_loss: 0.1387 - val_acc: 0.9555\n",
      "\n",
      "Epoch 00015: saving model to lstm\\lstm_n-15.h5\n"
     ]
    }
   ],
   "source": [
    "model_n_lstm = make_model(S_MAX_FEATURES_n, T_MAX_FEATURES_n, MAX_SEQLEN_n, LSTM_flag = True)\n",
    "checkpoint = ModelCheckpoint('lstm\\\\lstm_n-{epoch}.h5', verbose=1, save_best_only=False, save_weights_only=True)\n",
    "\n",
    "history_n = model_n_lstm.fit(X_train_n, Y_train_n, batch_size=BATCH_SIZE, \n",
    "                    epochs=NUM_EPOCHS,\n",
    "                    validation_data=(X_val_n, Y_val_n), verbose = 2, callbacks = [checkpoint])"
   ]
  },
  {
   "cell_type": "markdown",
   "metadata": {},
   "source": [
    "Построим графики изменения точности и потерь:"
   ]
  },
  {
   "cell_type": "code",
   "execution_count": 49,
   "metadata": {},
   "outputs": [
    {
     "data": {
      "image/png": "[encoded data removed]",
      "text/plain": [
       "<matplotlib.figure.Figure at 0x3bfdc9b710>"
      ]
     },
     "metadata": {},
     "output_type": "display_data"
    }
   ],
   "source": [
    "plotting(history_n)"
   ]
  },
  {
   "cell_type": "markdown",
   "metadata": {},
   "source": [
    "Для норвежского языка, переобучение начинается на 6-й эпохе (5я по графику) (валидационная точность перестает увеличиваться и становится ниже тренировочной)"
   ]
  },
  {
   "cell_type": "code",
   "execution_count": 50,
   "metadata": {},
   "outputs": [
    {
     "name": "stdout",
     "output_type": "stream",
     "text": [
      "1939/1939 [==============================] - ETA:  - ETA:  - ETA:  - ETA:  - ETA:  - ETA:  - ETA:  - ETA:  - ETA:  - ETA:  - ETA:  - ETA:  - ETA:  - ETA:  - 1s 386us/step\n"
     ]
    }
   ],
   "source": [
    "model_n_lstm.load_weights('lstm\\\\lstm_n-6.h5')\n",
    "score, acc = model_n_lstm.evaluate(X_test_n, to_categorical(Y_test_n))"
   ]
  },
  {
   "cell_type": "code",
   "execution_count": 51,
   "metadata": {},
   "outputs": [
    {
     "name": "stdout",
     "output_type": "stream",
     "text": [
      "Test score: 0.295, accuracy: 93.139\n"
     ]
    }
   ],
   "source": [
    "print(\"Test score: %.3f, accuracy: %.3f\" % (score, acc*100))"
   ]
  },
  {
   "cell_type": "markdown",
   "metadata": {},
   "source": [
    "Из-за большого количества паддингов в данных, модель оценивает результаты предсказаний хорошо, так как паддинги предсказать легко. Попробуем предсказать результаты на тестовой выборке и посчитать точность на получившихся предсказаниях, исключив паддинги"
   ]
  },
  {
   "cell_type": "code",
   "execution_count": 52,
   "metadata": {},
   "outputs": [
    {
     "data": {
      "application/vnd.jupyter.widget-view+json": {
       "model_id": "74f3867c0c074c8985c2e6ead7c8f954",
       "version_major": 2,
       "version_minor": 0
      },
      "text/html": [
       "<p>Failed to display Jupyter Widget of type <code>HBox</code>.</p>\n",
       "<p>\n",
       "  If you're reading this message in the Jupyter Notebook or JupyterLab Notebook, it may mean\n",
       "  that the widgets JavaScript is still loading. If this message persists, it\n",
       "  likely means that the widgets JavaScript library is either not installed or\n",
       "  not enabled. See the <a href=\"https://ipywidgets.readthedocs.io/en/stable/user_install.html\">Jupyter\n",
       "  Widgets Documentation</a> for setup instructions.\n",
       "</p>\n",
       "<p>\n",
       "  If you're reading this message in another frontend (for example, a static\n",
       "  rendering on GitHub or <a href=\"https://nbviewer.jupyter.org/\">NBViewer</a>),\n",
       "  it may mean that your frontend doesn't currently support widgets.\n",
       "</p>\n"
      ],
      "text/plain": [
       "HBox(children=(IntProgress(value=0, max=1939), HTML(value='')))"
      ]
     },
     "metadata": {},
     "output_type": "display_data"
    },
    {
     "name": "stdout",
     "output_type": "stream",
     "text": [
      "\n"
     ]
    }
   ],
   "source": [
    "pred_n = predict(X_test_n, Y_test_n, MAX_SEQLEN_n, tag2index_n, model_n_lstm)"
   ]
  },
  {
   "cell_type": "code",
   "execution_count": 53,
   "metadata": {},
   "outputs": [
    {
     "name": "stdout",
     "output_type": "stream",
     "text": [
      "Random Sent 1:\n",
      "('NOUN', 'NOUN')\n",
      "('AUX', 'AUX')\n",
      "('PUNCT', 'PUNCT')\n",
      "('ADJ', 'ADJ')\n",
      "('NOUN', 'NOUN')\n",
      "('PUNCT', 'PUNCT')\n",
      "('PUNCT', 'PUNCT')\n",
      "('PUNCT', 'PUNCT')\n",
      "('NOUN', 'PROPN')\n",
      "('PUNCT', 'PUNCT')\n",
      "('CCONJ', 'CCONJ')\n",
      "('PUNCT', 'PUNCT')\n",
      "('ADJ', 'NOUN')\n",
      "('NOUN', 'NOUN')\n",
      "('PUNCT', 'PUNCT')\n",
      "('PUNCT', 'PUNCT')\n",
      "__________\n",
      "Random Sent 2:\n",
      "('PRON', 'PRON')\n",
      "('VERB', 'VERB')\n",
      "('DET', 'DET')\n",
      "('NOUN', 'NOUN')\n",
      "('PRON', 'PRON')\n",
      "('AUX', 'AUX')\n",
      "('ADJ', 'VERB')\n",
      "('CCONJ', 'CCONJ')\n",
      "('ADP', 'ADP')\n",
      "('NOUN', 'NOUN')\n",
      "('PUNCT', 'PUNCT')\n",
      "__________\n",
      "Random Sent 3:\n",
      "('ADP', 'VERB')\n",
      "('ADJ', 'ADJ')\n",
      "('VERB', 'ADJ')\n",
      "('PRON', 'PRON')\n",
      "('NOUN', 'NOUN')\n",
      "('PUNCT', 'PUNCT')\n",
      "__________\n"
     ]
    }
   ],
   "source": [
    "for i, s in enumerate(pred_n[:3]):\n",
    "    print(\"Random Sent {}:\". format(i+1), *s, sep=\"\\n\", end=\"\\n__________\\n\")"
   ]
  },
  {
   "cell_type": "code",
   "execution_count": 54,
   "metadata": {},
   "outputs": [
    {
     "data": {
      "application/vnd.jupyter.widget-view+json": {
       "model_id": "050a1d801ef4444e9f2911cdeaeab238",
       "version_major": 2,
       "version_minor": 0
      },
      "text/html": [
       "<p>Failed to display Jupyter Widget of type <code>HBox</code>.</p>\n",
       "<p>\n",
       "  If you're reading this message in the Jupyter Notebook or JupyterLab Notebook, it may mean\n",
       "  that the widgets JavaScript is still loading. If this message persists, it\n",
       "  likely means that the widgets JavaScript library is either not installed or\n",
       "  not enabled. See the <a href=\"https://ipywidgets.readthedocs.io/en/stable/user_install.html\">Jupyter\n",
       "  Widgets Documentation</a> for setup instructions.\n",
       "</p>\n",
       "<p>\n",
       "  If you're reading this message in another frontend (for example, a static\n",
       "  rendering on GitHub or <a href=\"https://nbviewer.jupyter.org/\">NBViewer</a>),\n",
       "  it may mean that your frontend doesn't currently support widgets.\n",
       "</p>\n"
      ],
      "text/plain": [
       "HBox(children=(IntProgress(value=0, max=1939), HTML(value='')))"
      ]
     },
     "metadata": {},
     "output_type": "display_data"
    },
    {
     "name": "stdout",
     "output_type": "stream",
     "text": [
      "\n",
      "By sent:  85.54091858210367 \n",
      "Total:  86.17841219368887\n"
     ]
    }
   ],
   "source": [
    "acc_n = acc_manual(pred_n)"
   ]
  },
  {
   "cell_type": "markdown",
   "metadata": {},
   "source": [
    "По графикам, модель начинает переобучаться после 6й эпохи => результаты этой эпохи можно считать наиболее оптимальными, поэтому мы загружаем веса данной эпохи в модель и оценивает результаты по ней. Это будем делать для всех моделей"
   ]
  },
  {
   "cell_type": "code",
   "execution_count": 55,
   "metadata": {},
   "outputs": [],
   "source": [
    "scores[\"lstm_g\"] = acc_g\n",
    "scores[\"lstm_n\"] = acc_n"
   ]
  },
  {
   "cell_type": "code",
   "execution_count": 56,
   "metadata": {},
   "outputs": [
    {
     "data": {
      "text/plain": [
       "{'lstm_g': 0.7202862398418273, 'lstm_n': 0.8554091858210366}"
      ]
     },
     "execution_count": 56,
     "metadata": {},
     "output_type": "execute_result"
    }
   ],
   "source": [
    "scores"
   ]
  },
  {
   "cell_type": "markdown",
   "metadata": {},
   "source": [
    "### SimpleRNN"
   ]
  },
  {
   "cell_type": "code",
   "execution_count": 57,
   "metadata": {},
   "outputs": [
    {
     "name": "stdout",
     "output_type": "stream",
     "text": [
      "_________________________________________________________________\n",
      "Layer (type)                 Output Shape              Param #   \n",
      "=================================================================\n",
      "embedding_3 (Embedding)      (None, 26, 150)           4985850   \n",
      "_________________________________________________________________\n",
      "simple_rnn_1 (SimpleRNN)     (None, 26, 64)            13760     \n",
      "_________________________________________________________________\n",
      "dense_3 (Dense)              (None, 26, 16)            1040      \n",
      "_________________________________________________________________\n",
      "activation_3 (Activation)    (None, 26, 16)            0         \n",
      "=================================================================\n",
      "Total params: 5,000,650\n",
      "Trainable params: 5,000,650\n",
      "Non-trainable params: 0\n",
      "_________________________________________________________________\n",
      "None\n",
      "Train on 9180 samples, validate on 2296 samples\n",
      "Epoch 1/15\n",
      " - 11s - loss: 1.9402 - acc: 0.4509 - val_loss: 1.4031 - val_acc: 0.5579\n",
      "\n",
      "Epoch 00001: saving model to simple\\simple_g-1.h5\n",
      "Epoch 2/15\n",
      " - 8s - loss: 1.2555 - acc: 0.6391 - val_loss: 1.0720 - val_acc: 0.7167\n",
      "\n",
      "Epoch 00002: saving model to simple\\simple_g-2.h5\n",
      "Epoch 3/15\n",
      " - 8s - loss: 0.9939 - acc: 0.7347 - val_loss: 0.8716 - val_acc: 0.7600\n",
      "\n",
      "Epoch 00003: saving model to simple\\simple_g-3.h5\n",
      "Epoch 4/15\n",
      " - 8s - loss: 0.8005 - acc: 0.7842 - val_loss: 0.6974 - val_acc: 0.8054\n",
      "\n",
      "Epoch 00004: saving model to simple\\simple_g-4.h5\n",
      "Epoch 5/15\n",
      " - 9s - loss: 0.6139 - acc: 0.8481 - val_loss: 0.5187 - val_acc: 0.8653\n",
      "\n",
      "Epoch 00005: saving model to simple\\simple_g-5.h5\n",
      "Epoch 6/15\n",
      " - 9s - loss: 0.4244 - acc: 0.9079 - val_loss: 0.3706 - val_acc: 0.9054\n",
      "\n",
      "Epoch 00006: saving model to simple\\simple_g-6.h5\n",
      "Epoch 7/15\n",
      " - 9s - loss: 0.2774 - acc: 0.9459 - val_loss: 0.2822 - val_acc: 0.9218\n",
      "\n",
      "Epoch 00007: saving model to simple\\simple_g-7.h5\n",
      "Epoch 8/15\n",
      " - 8s - loss: 0.1897 - acc: 0.9612 - val_loss: 0.2401 - val_acc: 0.9255\n",
      "\n",
      "Epoch 00008: saving model to simple\\simple_g-8.h5\n",
      "Epoch 9/15\n",
      " - 9s - loss: 0.1427 - acc: 0.9659 - val_loss: 0.2194 - val_acc: 0.9285\n",
      "\n",
      "Epoch 00009: saving model to simple\\simple_g-9.h5\n",
      "Epoch 10/15\n",
      " - 9s - loss: 0.1168 - acc: 0.9689 - val_loss: 0.2084 - val_acc: 0.9298\n",
      "\n",
      "Epoch 00010: saving model to simple\\simple_g-10.h5\n",
      "Epoch 11/15\n",
      " - 10s - loss: 0.1012 - acc: 0.9707 - val_loss: 0.2013 - val_acc: 0.9306\n",
      "\n",
      "Epoch 00011: saving model to simple\\simple_g-11.h5\n",
      "Epoch 12/15\n",
      " - 9s - loss: 0.0906 - acc: 0.9722 - val_loss: 0.1968 - val_acc: 0.9307\n",
      "\n",
      "Epoch 00012: saving model to simple\\simple_g-12.h5\n",
      "Epoch 13/15\n",
      " - 8s - loss: 0.0827 - acc: 0.9734 - val_loss: 0.1937 - val_acc: 0.9325\n",
      "\n",
      "Epoch 00013: saving model to simple\\simple_g-13.h5\n",
      "Epoch 14/15\n",
      " - 9s - loss: 0.0769 - acc: 0.9751 - val_loss: 0.1918 - val_acc: 0.9326\n",
      "\n",
      "Epoch 00014: saving model to simple\\simple_g-14.h5\n",
      "Epoch 15/15\n",
      " - 8s - loss: 0.0714 - acc: 0.9762 - val_loss: 0.1906 - val_acc: 0.9327\n",
      "\n",
      "Epoch 00015: saving model to simple\\simple_g-15.h5\n"
     ]
    }
   ],
   "source": [
    "# ancient greek\n",
    "model_simple_g = make_model(S_MAX_FEATURES_g, T_MAX_FEATURES_g, MAX_SEQLEN_g, Simple = True)\n",
    "checkpoint = ModelCheckpoint('simple\\\\simple_g-{epoch}.h5', verbose=1, save_best_only=False, save_weights_only=True)\n",
    "history_simple_g = model_simple_g.fit(X_train_g, Y_train_g, batch_size=BATCH_SIZE, \n",
    "                    epochs=NUM_EPOCHS,\n",
    "                    validation_data=(X_val_g, Y_val_g), verbose = 2, callbacks=[checkpoint])"
   ]
  },
  {
   "cell_type": "code",
   "execution_count": 58,
   "metadata": {},
   "outputs": [
    {
     "name": "stdout",
     "output_type": "stream",
     "text": [
      "_________________________________________________________________\n",
      "Layer (type)                 Output Shape              Param #   \n",
      "=================================================================\n",
      "embedding_4 (Embedding)      (None, 30, 150)           4511100   \n",
      "_________________________________________________________________\n",
      "simple_rnn_2 (SimpleRNN)     (None, 30, 64)            13760     \n",
      "_________________________________________________________________\n",
      "dense_4 (Dense)              (None, 30, 19)            1235      \n",
      "_________________________________________________________________\n",
      "activation_4 (Activation)    (None, 30, 19)            0         \n",
      "=================================================================\n",
      "Total params: 4,526,095\n",
      "Trainable params: 4,526,095\n",
      "Non-trainable params: 0\n",
      "_________________________________________________________________\n",
      "None\n",
      "Train on 12556 samples, validate on 3140 samples\n",
      "Epoch 1/15\n",
      " - 14s - loss: 1.8713 - acc: 0.4983 - val_loss: 1.3647 - val_acc: 0.6074\n",
      "\n",
      "Epoch 00001: saving model to simple\\simple_n-1.h5\n",
      "Epoch 2/15\n",
      " - 11s - loss: 1.2611 - acc: 0.6685 - val_loss: 1.0587 - val_acc: 0.7409\n",
      "\n",
      "Epoch 00002: saving model to simple\\simple_n-2.h5\n",
      "Epoch 3/15\n",
      " - 11s - loss: 0.9593 - acc: 0.7700 - val_loss: 0.7877 - val_acc: 0.8051\n",
      "\n",
      "Epoch 00003: saving model to simple\\simple_n-3.h5\n",
      "Epoch 4/15\n",
      " - 11s - loss: 0.6916 - acc: 0.8391 - val_loss: 0.5431 - val_acc: 0.8692\n",
      "\n",
      "Epoch 00004: saving model to simple\\simple_n-4.h5\n",
      "Epoch 5/15\n",
      " - 12s - loss: 0.4670 - acc: 0.8933 - val_loss: 0.3714 - val_acc: 0.9110\n",
      "\n",
      "Epoch 00005: saving model to simple\\simple_n-5.h5\n",
      "Epoch 6/15\n",
      " - 12s - loss: 0.3143 - acc: 0.9324 - val_loss: 0.2663 - val_acc: 0.9370\n",
      "\n",
      "Epoch 00006: saving model to simple\\simple_n-6.h5\n",
      "Epoch 7/15\n",
      " - 11s - loss: 0.2159 - acc: 0.9548 - val_loss: 0.2063 - val_acc: 0.9476\n",
      "\n",
      "Epoch 00007: saving model to simple\\simple_n-7.h5\n",
      "Epoch 8/15\n",
      " - 12s - loss: 0.1566 - acc: 0.9652 - val_loss: 0.1746 - val_acc: 0.9520\n",
      "\n",
      "Epoch 00008: saving model to simple\\simple_n-8.h5\n",
      "Epoch 9/15\n",
      " - 11s - loss: 0.1233 - acc: 0.9693 - val_loss: 0.1580 - val_acc: 0.9541\n",
      "\n",
      "Epoch 00009: saving model to simple\\simple_n-9.h5\n",
      "Epoch 10/15\n",
      " - 11s - loss: 0.1036 - acc: 0.9717 - val_loss: 0.1484 - val_acc: 0.9548\n",
      "\n",
      "Epoch 00010: saving model to simple\\simple_n-10.h5\n",
      "Epoch 11/15\n",
      " - 11s - loss: 0.0922 - acc: 0.9727 - val_loss: 0.1429 - val_acc: 0.9554\n",
      "\n",
      "Epoch 00011: saving model to simple\\simple_n-11.h5\n",
      "Epoch 12/15\n",
      " - 11s - loss: 0.0846 - acc: 0.9737 - val_loss: 0.1394 - val_acc: 0.9557\n",
      "\n",
      "Epoch 00012: saving model to simple\\simple_n-12.h5\n",
      "Epoch 13/15\n",
      " - 11s - loss: 0.0788 - acc: 0.9743 - val_loss: 0.1369 - val_acc: 0.9560\n",
      "\n",
      "Epoch 00013: saving model to simple\\simple_n-13.h5\n",
      "Epoch 14/15\n",
      " - 11s - loss: 0.0747 - acc: 0.9748 - val_loss: 0.1352 - val_acc: 0.9560\n",
      "\n",
      "Epoch 00014: saving model to simple\\simple_n-14.h5\n",
      "Epoch 15/15\n",
      " - 11s - loss: 0.0712 - acc: 0.9758 - val_loss: 0.1339 - val_acc: 0.9561\n",
      "\n",
      "Epoch 00015: saving model to simple\\simple_n-15.h5\n"
     ]
    }
   ],
   "source": [
    "# norvegian\n",
    "model_simple_n = make_model(S_MAX_FEATURES_n, T_MAX_FEATURES_n, MAX_SEQLEN_n, Simple = True)\n",
    "checkpoint = ModelCheckpoint('simple\\\\simple_n-{epoch}.h5', verbose=1, save_best_only=False, save_weights_only=True)\n",
    "history_simple_n = model_simple_n.fit(X_train_n, Y_train_n, batch_size=BATCH_SIZE, \n",
    "                    epochs=NUM_EPOCHS,\n",
    "                    validation_data=(X_val_n, Y_val_n), verbose = 2, callbacks = [checkpoint])"
   ]
  },
  {
   "cell_type": "code",
   "execution_count": 59,
   "metadata": {},
   "outputs": [
    {
     "data": {
      "image/png": "[encoded data removed]",
      "text/plain": [
       "<matplotlib.figure.Figure at 0x3b8cec1ef0>"
      ]
     },
     "metadata": {},
     "output_type": "display_data"
    }
   ],
   "source": [
    "# AG\n",
    "plotting(history_simple_g)"
   ]
  },
  {
   "cell_type": "code",
   "execution_count": 60,
   "metadata": {},
   "outputs": [
    {
     "data": {
      "image/png": "[encoded data removed]",
      "text/plain": [
       "<matplotlib.figure.Figure at 0x3ba4101be0>"
      ]
     },
     "metadata": {},
     "output_type": "display_data"
    }
   ],
   "source": [
    "# Norv\n",
    "plotting(history_simple_n)"
   ]
  },
  {
   "cell_type": "markdown",
   "metadata": {},
   "source": [
    "По данным графиков: \n",
    "* Для древнегреческого, переобучение начинается на 6й (5й по графику) эпохе\n",
    "* Для норвежского, переобучение начинается на 6й (5й по графику) эпохе"
   ]
  },
  {
   "cell_type": "code",
   "execution_count": 61,
   "metadata": {},
   "outputs": [
    {
     "name": "stdout",
     "output_type": "stream",
     "text": [
      "1306/1306 [==============================] - ETA:  - ETA:  - ETA:  - ETA:  - ETA:  - 0s 203us/step\n"
     ]
    }
   ],
   "source": [
    "model_simple_g.load_weights('simple\\\\simple_g-6.h5')\n",
    "score, acc = model_simple_g.evaluate(X_test_g, to_categorical(Y_test_g, num_classes=len(tag2index_g)))"
   ]
  },
  {
   "cell_type": "code",
   "execution_count": 62,
   "metadata": {},
   "outputs": [
    {
     "name": "stdout",
     "output_type": "stream",
     "text": [
      "Test score: 0.555, accuracy: 83.004\n"
     ]
    }
   ],
   "source": [
    "print(\"Test score: %.3f, accuracy: %.3f\" % (score, acc*100))"
   ]
  },
  {
   "cell_type": "code",
   "execution_count": 63,
   "metadata": {},
   "outputs": [
    {
     "name": "stdout",
     "output_type": "stream",
     "text": [
      "1939/1939 [==============================] - ETA:  - ETA:  - ETA:  - ETA:  - ETA:  - ETA:  - ETA:  - ETA:  - ETA:  - 0s 237us/step\n"
     ]
    }
   ],
   "source": [
    "model_simple_n.load_weights('simple\\\\simple_n-6.h5')\n",
    "score, acc = model_simple_n.evaluate(X_test_n, to_categorical(Y_test_n, num_classes=len(tag2index_n)))"
   ]
  },
  {
   "cell_type": "code",
   "execution_count": 64,
   "metadata": {},
   "outputs": [
    {
     "name": "stdout",
     "output_type": "stream",
     "text": [
      "Test score: 0.285, accuracy: 92.847\n"
     ]
    }
   ],
   "source": [
    "print(\"Test score: %.3f, accuracy: %.3f\" % (score, acc*100))"
   ]
  },
  {
   "cell_type": "code",
   "execution_count": 65,
   "metadata": {},
   "outputs": [
    {
     "data": {
      "application/vnd.jupyter.widget-view+json": {
       "model_id": "ff71becb53c3417da8002c98f89c5f82",
       "version_major": 2,
       "version_minor": 0
      },
      "text/html": [
       "<p>Failed to display Jupyter Widget of type <code>HBox</code>.</p>\n",
       "<p>\n",
       "  If you're reading this message in the Jupyter Notebook or JupyterLab Notebook, it may mean\n",
       "  that the widgets JavaScript is still loading. If this message persists, it\n",
       "  likely means that the widgets JavaScript library is either not installed or\n",
       "  not enabled. See the <a href=\"https://ipywidgets.readthedocs.io/en/stable/user_install.html\">Jupyter\n",
       "  Widgets Documentation</a> for setup instructions.\n",
       "</p>\n",
       "<p>\n",
       "  If you're reading this message in another frontend (for example, a static\n",
       "  rendering on GitHub or <a href=\"https://nbviewer.jupyter.org/\">NBViewer</a>),\n",
       "  it may mean that your frontend doesn't currently support widgets.\n",
       "</p>\n"
      ],
      "text/plain": [
       "HBox(children=(IntProgress(value=0, max=1306), HTML(value='')))"
      ]
     },
     "metadata": {},
     "output_type": "display_data"
    },
    {
     "name": "stdout",
     "output_type": "stream",
     "text": [
      "\n"
     ]
    }
   ],
   "source": [
    "pred_g = predict(X_test_g, Y_test_g, MAX_SEQLEN_g, tag2index_g, model_simple_g)"
   ]
  },
  {
   "cell_type": "code",
   "execution_count": 66,
   "metadata": {},
   "outputs": [
    {
     "name": "stdout",
     "output_type": "stream",
     "text": [
      "Random Sent 1:\n",
      "('VERB', 'NOUN')\n",
      "('ADV', 'PART')\n",
      "('ADV', 'ADV')\n",
      "('PRON', 'PRON')\n",
      "('DET', 'PRON')\n",
      "('PRON', 'ADJ')\n",
      "('NOUN', 'NOUN')\n",
      "('DET', 'DET')\n",
      "('VERB', 'NOUN')\n",
      "('PUNCT', 'PUNCT')\n",
      "('NOUN', 'VERB')\n",
      "('DET', 'DET')\n",
      "('ADJ', 'ADJ')\n",
      "('VERB', 'VERB')\n",
      "('CCONJ', 'CCONJ')\n",
      "('VERB', 'NOUN')\n",
      "('DET', 'VERB')\n",
      "('NOUN', 'NOUN')\n",
      "('ADJ', 'ADJ')\n",
      "('PUNCT', 'PUNCT')\n",
      "__________\n",
      "Random Sent 2:\n",
      "('PRON', 'ADJ')\n",
      "('ADV', 'PART')\n",
      "('ADJ', 'VERB')\n",
      "('VERB', 'VERB')\n",
      "('NOUN', 'ADJ')\n",
      "('ADV', 'ADV')\n",
      "('ADJ', 'ADJ')\n",
      "('PRON', 'VERB')\n",
      "('ADP', 'ADP')\n",
      "('DET', 'DET')\n",
      "('ADJ', 'ADJ')\n",
      "('PRON', 'PRON')\n",
      "('VERB', 'VERB')\n",
      "('PUNCT', 'PUNCT')\n",
      "('CCONJ', 'ADV')\n",
      "('ADV', 'ADV')\n",
      "('VERB', 'VERB')\n",
      "('VERB', 'NOUN')\n",
      "('PUNCT', 'PUNCT')\n",
      "__________\n",
      "Random Sent 3:\n",
      "('ADJ', 'NOUN')\n",
      "('ADV', 'PART')\n",
      "('ADV', 'ADV')\n",
      "('PRON', 'PRON')\n",
      "('ADP', 'ADP')\n",
      "('PRON', 'NOUN')\n",
      "('VERB', 'VERB')\n",
      "('PUNCT', 'PUNCT')\n",
      "__________\n"
     ]
    }
   ],
   "source": [
    "for i, s in enumerate(pred_g[:3]):\n",
    "    print(\"Random Sent {}:\". format(i+1), *s, sep=\"\\n\", end=\"\\n__________\\n\")"
   ]
  },
  {
   "cell_type": "code",
   "execution_count": 67,
   "metadata": {},
   "outputs": [
    {
     "data": {
      "application/vnd.jupyter.widget-view+json": {
       "model_id": "e4a247a4a0594389b0867b303567a757",
       "version_major": 2,
       "version_minor": 0
      },
      "text/html": [
       "<p>Failed to display Jupyter Widget of type <code>HBox</code>.</p>\n",
       "<p>\n",
       "  If you're reading this message in the Jupyter Notebook or JupyterLab Notebook, it may mean\n",
       "  that the widgets JavaScript is still loading. If this message persists, it\n",
       "  likely means that the widgets JavaScript library is either not installed or\n",
       "  not enabled. See the <a href=\"https://ipywidgets.readthedocs.io/en/stable/user_install.html\">Jupyter\n",
       "  Widgets Documentation</a> for setup instructions.\n",
       "</p>\n",
       "<p>\n",
       "  If you're reading this message in another frontend (for example, a static\n",
       "  rendering on GitHub or <a href=\"https://nbviewer.jupyter.org/\">NBViewer</a>),\n",
       "  it may mean that your frontend doesn't currently support widgets.\n",
       "</p>\n"
      ],
      "text/plain": [
       "HBox(children=(IntProgress(value=0, max=1939), HTML(value='')))"
      ]
     },
     "metadata": {},
     "output_type": "display_data"
    },
    {
     "name": "stdout",
     "output_type": "stream",
     "text": [
      "\n"
     ]
    }
   ],
   "source": [
    "pred_n = predict(X_test_n, Y_test_n, MAX_SEQLEN_n, tag2index_n, model_simple_n)"
   ]
  },
  {
   "cell_type": "code",
   "execution_count": 68,
   "metadata": {},
   "outputs": [
    {
     "name": "stdout",
     "output_type": "stream",
     "text": [
      "Random Sent 1:\n",
      "('NOUN', 'ADJ')\n",
      "('AUX', 'AUX')\n",
      "('PUNCT', 'PUNCT')\n",
      "('ADJ', 'NOUN')\n",
      "('NOUN', 'PROPN')\n",
      "('PUNCT', 'PUNCT')\n",
      "('PUNCT', 'PUNCT')\n",
      "('PUNCT', 'PUNCT')\n",
      "('NOUN', 'PROPN')\n",
      "('PUNCT', 'PUNCT')\n",
      "('CCONJ', 'CCONJ')\n",
      "('PUNCT', 'PUNCT')\n",
      "('ADJ', 'PROPN')\n",
      "('NOUN', 'NOUN')\n",
      "('PUNCT', 'PUNCT')\n",
      "('PUNCT', 'PUNCT')\n",
      "__________\n",
      "Random Sent 2:\n",
      "('PRON', 'PRON')\n",
      "('VERB', 'VERB')\n",
      "('DET', 'DET')\n",
      "('NOUN', 'NOUN')\n",
      "('PRON', 'PRON')\n",
      "('AUX', 'AUX')\n",
      "('ADJ', 'ADJ')\n",
      "('CCONJ', 'CCONJ')\n",
      "('ADP', 'ADP')\n",
      "('NOUN', 'NOUN')\n",
      "('PUNCT', 'PUNCT')\n",
      "__________\n",
      "Random Sent 3:\n",
      "('ADP', 'VERB')\n",
      "('ADJ', 'ADJ')\n",
      "('VERB', 'NOUN')\n",
      "('PRON', 'PRON')\n",
      "('NOUN', 'NOUN')\n",
      "('PUNCT', 'PUNCT')\n",
      "__________\n"
     ]
    }
   ],
   "source": [
    "for i, s in enumerate(pred_n[:3]):\n",
    "    print(\"Random Sent {}:\". format(i+1), *s, sep=\"\\n\", end=\"\\n__________\\n\")"
   ]
  },
  {
   "cell_type": "code",
   "execution_count": 69,
   "metadata": {},
   "outputs": [
    {
     "data": {
      "application/vnd.jupyter.widget-view+json": {
       "model_id": "4c3b432203144bc1ac22e841d93239be",
       "version_major": 2,
       "version_minor": 0
      },
      "text/html": [
       "<p>Failed to display Jupyter Widget of type <code>HBox</code>.</p>\n",
       "<p>\n",
       "  If you're reading this message in the Jupyter Notebook or JupyterLab Notebook, it may mean\n",
       "  that the widgets JavaScript is still loading. If this message persists, it\n",
       "  likely means that the widgets JavaScript library is either not installed or\n",
       "  not enabled. See the <a href=\"https://ipywidgets.readthedocs.io/en/stable/user_install.html\">Jupyter\n",
       "  Widgets Documentation</a> for setup instructions.\n",
       "</p>\n",
       "<p>\n",
       "  If you're reading this message in another frontend (for example, a static\n",
       "  rendering on GitHub or <a href=\"https://nbviewer.jupyter.org/\">NBViewer</a>),\n",
       "  it may mean that your frontend doesn't currently support widgets.\n",
       "</p>\n"
      ],
      "text/plain": [
       "HBox(children=(IntProgress(value=0, max=1306), HTML(value='')))"
      ]
     },
     "metadata": {},
     "output_type": "display_data"
    },
    {
     "name": "stdout",
     "output_type": "stream",
     "text": [
      "\n",
      "By sent:  70.71963497300916 \n",
      "Total:  70.41726471191306\n"
     ]
    },
    {
     "data": {
      "application/vnd.jupyter.widget-view+json": {
       "model_id": "70c837abe82040edb6b4cfb2026b54f4",
       "version_major": 2,
       "version_minor": 0
      },
      "text/html": [
       "<p>Failed to display Jupyter Widget of type <code>HBox</code>.</p>\n",
       "<p>\n",
       "  If you're reading this message in the Jupyter Notebook or JupyterLab Notebook, it may mean\n",
       "  that the widgets JavaScript is still loading. If this message persists, it\n",
       "  likely means that the widgets JavaScript library is either not installed or\n",
       "  not enabled. See the <a href=\"https://ipywidgets.readthedocs.io/en/stable/user_install.html\">Jupyter\n",
       "  Widgets Documentation</a> for setup instructions.\n",
       "</p>\n",
       "<p>\n",
       "  If you're reading this message in another frontend (for example, a static\n",
       "  rendering on GitHub or <a href=\"https://nbviewer.jupyter.org/\">NBViewer</a>),\n",
       "  it may mean that your frontend doesn't currently support widgets.\n",
       "</p>\n"
      ],
      "text/plain": [
       "HBox(children=(IntProgress(value=0, max=1939), HTML(value='')))"
      ]
     },
     "metadata": {},
     "output_type": "display_data"
    },
    {
     "name": "stdout",
     "output_type": "stream",
     "text": [
      "\n",
      "By sent:  84.48598653695497 \n",
      "Total:  85.37302081172648\n"
     ]
    }
   ],
   "source": [
    "acc_g = acc_manual(pred_g)\n",
    "acc_n = acc_manual(pred_n)"
   ]
  },
  {
   "cell_type": "code",
   "execution_count": 70,
   "metadata": {},
   "outputs": [],
   "source": [
    "scores[\"simple_g\"] = acc_g\n",
    "scores[\"simple_n\"] = acc_n"
   ]
  },
  {
   "cell_type": "code",
   "execution_count": 71,
   "metadata": {},
   "outputs": [
    {
     "data": {
      "text/plain": [
       "{'lstm_g': 0.7202862398418273,\n",
       " 'lstm_n': 0.8554091858210366,\n",
       " 'simple_g': 0.7071963497300916,\n",
       " 'simple_n': 0.8448598653695497}"
      ]
     },
     "execution_count": 71,
     "metadata": {},
     "output_type": "execute_result"
    }
   ],
   "source": [
    "scores"
   ]
  },
  {
   "cell_type": "markdown",
   "metadata": {},
   "source": [
    "### Bidirectional"
   ]
  },
  {
   "cell_type": "code",
   "execution_count": 72,
   "metadata": {},
   "outputs": [
    {
     "name": "stdout",
     "output_type": "stream",
     "text": [
      "_________________________________________________________________\n",
      "Layer (type)                 Output Shape              Param #   \n",
      "=================================================================\n",
      "embedding_5 (Embedding)      (None, 26, 150)           4985850   \n",
      "_________________________________________________________________\n",
      "bidirectional_1 (Bidirection (None, 26, 128)           110080    \n",
      "_________________________________________________________________\n",
      "time_distributed_1 (TimeDist (None, 26, 16)            2064      \n",
      "_________________________________________________________________\n",
      "activation_5 (Activation)    (None, 26, 16)            0         \n",
      "=================================================================\n",
      "Total params: 5,097,994\n",
      "Trainable params: 5,097,994\n",
      "Non-trainable params: 0\n",
      "_________________________________________________________________\n",
      "None\n",
      "Train on 9180 samples, validate on 2296 samples\n",
      "Epoch 1/15\n",
      " - 24s - loss: 1.9089 - acc: 0.4913 - val_loss: 1.3291 - val_acc: 0.5874\n",
      "\n",
      "Epoch 00001: saving model to bi\\bi_g-1.h5\n",
      "Epoch 2/15\n",
      " - 21s - loss: 1.2061 - acc: 0.5997 - val_loss: 1.1110 - val_acc: 0.6069\n",
      "\n",
      "Epoch 00002: saving model to bi\\bi_g-2.h5\n",
      "Epoch 3/15\n",
      " - 21s - loss: 1.0512 - acc: 0.6350 - val_loss: 0.9776 - val_acc: 0.6809\n",
      "\n",
      "Epoch 00003: saving model to bi\\bi_g-3.h5\n",
      "Epoch 4/15\n",
      " - 21s - loss: 0.8775 - acc: 0.7222 - val_loss: 0.7603 - val_acc: 0.7584\n",
      "\n",
      "Epoch 00004: saving model to bi\\bi_g-4.h5\n",
      "Epoch 5/15\n",
      " - 21s - loss: 0.6329 - acc: 0.8154 - val_loss: 0.5048 - val_acc: 0.8703\n",
      "\n",
      "Epoch 00005: saving model to bi\\bi_g-5.h5\n",
      "Epoch 6/15\n",
      " - 21s - loss: 0.3713 - acc: 0.9148 - val_loss: 0.3031 - val_acc: 0.9160\n",
      "\n",
      "Epoch 00006: saving model to bi\\bi_g-6.h5\n",
      "Epoch 7/15\n",
      " - 21s - loss: 0.2015 - acc: 0.9561 - val_loss: 0.2247 - val_acc: 0.9282\n",
      "\n",
      "Epoch 00007: saving model to bi\\bi_g-7.h5\n",
      "Epoch 8/15\n",
      " - 21s - loss: 0.1277 - acc: 0.9681 - val_loss: 0.1967 - val_acc: 0.9329\n",
      "\n",
      "Epoch 00008: saving model to bi\\bi_g-8.h5\n",
      "Epoch 9/15\n",
      " - 21s - loss: 0.0969 - acc: 0.9727 - val_loss: 0.1832 - val_acc: 0.9359\n",
      "\n",
      "Epoch 00009: saving model to bi\\bi_g-9.h5\n",
      "Epoch 10/15\n",
      " - 23s - loss: 0.0802 - acc: 0.9764 - val_loss: 0.1744 - val_acc: 0.9384\n",
      "\n",
      "Epoch 00010: saving model to bi\\bi_g-10.h5\n",
      "Epoch 11/15\n",
      " - 22s - loss: 0.0689 - acc: 0.9790 - val_loss: 0.1695 - val_acc: 0.9401\n",
      "\n",
      "Epoch 00011: saving model to bi\\bi_g-11.h5\n",
      "Epoch 12/15\n",
      " - 23s - loss: 0.0607 - acc: 0.9812 - val_loss: 0.1667 - val_acc: 0.9410\n",
      "\n",
      "Epoch 00012: saving model to bi\\bi_g-12.h5\n",
      "Epoch 13/15\n",
      " - 26s - loss: 0.0537 - acc: 0.9830 - val_loss: 0.1650 - val_acc: 0.9412\n",
      "\n",
      "Epoch 00013: saving model to bi\\bi_g-13.h5\n",
      "Epoch 14/15\n",
      " - 23s - loss: 0.0481 - acc: 0.9850 - val_loss: 0.1643 - val_acc: 0.9414\n",
      "\n",
      "Epoch 00014: saving model to bi\\bi_g-14.h5\n",
      "Epoch 15/15\n",
      " - 21s - loss: 0.0430 - acc: 0.9868 - val_loss: 0.1640 - val_acc: 0.9417\n",
      "\n",
      "Epoch 00015: saving model to bi\\bi_g-15.h5\n"
     ]
    }
   ],
   "source": [
    "model_bi_g = make_model(S_MAX_FEATURES_g, T_MAX_FEATURES_g, MAX_SEQLEN_g, LSTM_Bi = True)\n",
    "checkpoint = ModelCheckpoint('bi\\\\bi_g-{epoch}.h5', verbose=1, save_best_only=False, save_weights_only=True)\n",
    "\n",
    "history_bi_g = model_bi_g.fit(X_train_g, Y_train_g, batch_size=BATCH_SIZE, \n",
    "                    epochs=NUM_EPOCHS,\n",
    "                    validation_data=(X_val_g, Y_val_g), verbose=2, callbacks = [checkpoint])"
   ]
  },
  {
   "cell_type": "code",
   "execution_count": 73,
   "metadata": {},
   "outputs": [
    {
     "name": "stdout",
     "output_type": "stream",
     "text": [
      "_________________________________________________________________\n",
      "Layer (type)                 Output Shape              Param #   \n",
      "=================================================================\n",
      "embedding_6 (Embedding)      (None, 30, 150)           4511100   \n",
      "_________________________________________________________________\n",
      "bidirectional_2 (Bidirection (None, 30, 128)           110080    \n",
      "_________________________________________________________________\n",
      "time_distributed_2 (TimeDist (None, 30, 19)            2451      \n",
      "_________________________________________________________________\n",
      "activation_6 (Activation)    (None, 30, 19)            0         \n",
      "=================================================================\n",
      "Total params: 4,623,631\n",
      "Trainable params: 4,623,631\n",
      "Non-trainable params: 0\n",
      "_________________________________________________________________\n",
      "None\n",
      "Train on 12556 samples, validate on 3140 samples\n",
      "Epoch 1/15\n",
      " - 45s - loss: 1.8353 - acc: 0.5280 - val_loss: 1.3237 - val_acc: 0.5677\n",
      "\n",
      "Epoch 00001: saving model to bi\\bi_n-1.h5\n",
      "Epoch 2/15\n",
      " - 42s - loss: 1.2345 - acc: 0.5971 - val_loss: 1.1372 - val_acc: 0.6159\n",
      "\n",
      "Epoch 00002: saving model to bi\\bi_n-2.h5\n",
      "Epoch 3/15\n",
      " - 42s - loss: 1.0175 - acc: 0.6986 - val_loss: 0.8061 - val_acc: 0.7825\n",
      "\n",
      "Epoch 00003: saving model to bi\\bi_n-3.h5\n",
      "Epoch 4/15\n",
      " - 43s - loss: 0.6001 - acc: 0.8473 - val_loss: 0.3918 - val_acc: 0.9091\n",
      "\n",
      "Epoch 00004: saving model to bi\\bi_n-4.h5\n",
      "Epoch 5/15\n",
      " - 43s - loss: 0.2693 - acc: 0.9400 - val_loss: 0.1997 - val_acc: 0.9500\n",
      "\n",
      "Epoch 00005: saving model to bi\\bi_n-5.h5\n",
      "Epoch 6/15\n",
      " - 43s - loss: 0.1376 - acc: 0.9692 - val_loss: 0.1443 - val_acc: 0.9620\n",
      "\n",
      "Epoch 00006: saving model to bi\\bi_n-6.h5\n",
      "Epoch 7/15\n",
      " - 43s - loss: 0.0910 - acc: 0.9793 - val_loss: 0.1237 - val_acc: 0.9661\n",
      "\n",
      "Epoch 00007: saving model to bi\\bi_n-7.h5\n",
      "Epoch 8/15\n",
      " - 44s - loss: 0.0706 - acc: 0.9826 - val_loss: 0.1125 - val_acc: 0.9681\n",
      "\n",
      "Epoch 00008: saving model to bi\\bi_n-8.h5\n",
      "Epoch 9/15\n",
      " - 44s - loss: 0.0588 - acc: 0.9847 - val_loss: 0.1057 - val_acc: 0.9692\n",
      "\n",
      "Epoch 00009: saving model to bi\\bi_n-9.h5\n",
      "Epoch 10/15\n",
      " - 44s - loss: 0.0508 - acc: 0.9863 - val_loss: 0.1009 - val_acc: 0.9701\n",
      "\n",
      "Epoch 00010: saving model to bi\\bi_n-10.h5\n",
      "Epoch 11/15\n",
      " - 44s - loss: 0.0443 - acc: 0.9879 - val_loss: 0.0977 - val_acc: 0.9707\n",
      "\n",
      "Epoch 00011: saving model to bi\\bi_n-11.h5\n",
      "Epoch 12/15\n",
      " - 43s - loss: 0.0393 - acc: 0.9892 - val_loss: 0.0957 - val_acc: 0.9713\n",
      "\n",
      "Epoch 00012: saving model to bi\\bi_n-12.h5\n",
      "Epoch 13/15\n",
      " - 43s - loss: 0.0353 - acc: 0.9901 - val_loss: 0.0941 - val_acc: 0.9717\n",
      "\n",
      "Epoch 00013: saving model to bi\\bi_n-13.h5\n",
      "Epoch 14/15\n",
      " - 43s - loss: 0.0318 - acc: 0.9911 - val_loss: 0.0928 - val_acc: 0.9721\n",
      "\n",
      "Epoch 00014: saving model to bi\\bi_n-14.h5\n",
      "Epoch 15/15\n",
      " - 44s - loss: 0.0289 - acc: 0.9918 - val_loss: 0.0918 - val_acc: 0.9724\n",
      "\n",
      "Epoch 00015: saving model to bi\\bi_n-15.h5\n"
     ]
    }
   ],
   "source": [
    "model_bi_n = make_model(S_MAX_FEATURES_n, T_MAX_FEATURES_n, MAX_SEQLEN_n, LSTM_Bi = True)\n",
    "checkpoint = ModelCheckpoint('bi\\\\bi_n-{epoch}.h5', verbose=1, save_best_only=False, save_weights_only=True)\n",
    "\n",
    "history_bi_n = model_bi_n.fit(X_train_n, Y_train_n, batch_size=BATCH_SIZE, \n",
    "                    epochs=NUM_EPOCHS,\n",
    "                    validation_data=(X_val_n, Y_val_n), verbose=2, callbacks = [checkpoint])"
   ]
  },
  {
   "cell_type": "code",
   "execution_count": 74,
   "metadata": {},
   "outputs": [
    {
     "data": {
      "image/png": "[encoded data removed]",
      "text/plain": [
       "<matplotlib.figure.Figure at 0x3b913f8390>"
      ]
     },
     "metadata": {},
     "output_type": "display_data"
    }
   ],
   "source": [
    "plotting(history_bi_g)"
   ]
  },
  {
   "cell_type": "code",
   "execution_count": 75,
   "metadata": {},
   "outputs": [
    {
     "data": {
      "image/png": "[encoded data removed]",
      "text/plain": [
       "<matplotlib.figure.Figure at 0x3ba4211630>"
      ]
     },
     "metadata": {},
     "output_type": "display_data"
    }
   ],
   "source": [
    "plotting(history_bi_n)"
   ]
  },
  {
   "cell_type": "markdown",
   "metadata": {},
   "source": [
    "Переобучение начинается:\n",
    "* Древнегреческий - 6я (5я по графику) эпоха\n",
    "* Норвежский - 5я (4я по графику) эпоха"
   ]
  },
  {
   "cell_type": "code",
   "execution_count": 76,
   "metadata": {},
   "outputs": [
    {
     "name": "stdout",
     "output_type": "stream",
     "text": [
      "1306/1306 [==============================] - ETA:  - ETA:  - ETA:  - ETA:  - ETA:  - ETA:  - ETA:  - ETA:  - ETA:  - ETA:  - ETA:  - ETA:  - ETA:  - ETA:  - 1s 637us/step\n"
     ]
    }
   ],
   "source": [
    "model_bi_g.load_weights(\"bi\\\\bi_g-6.h5\")\n",
    "score, acc = model_bi_g.evaluate(X_test_g, to_categorical(Y_test_g, num_classes=len(tag2index_g)))"
   ]
  },
  {
   "cell_type": "code",
   "execution_count": 77,
   "metadata": {},
   "outputs": [
    {
     "name": "stdout",
     "output_type": "stream",
     "text": [
      "Test score: 0.483, accuracy: 82.636\n"
     ]
    }
   ],
   "source": [
    "print(\"Test score: %.3f, accuracy: %.3f\" % (score, acc*100))"
   ]
  },
  {
   "cell_type": "code",
   "execution_count": 78,
   "metadata": {},
   "outputs": [
    {
     "name": "stdout",
     "output_type": "stream",
     "text": [
      "1939/1939 [==============================] - ETA:  - ETA:  - ETA:  - ETA:  - ETA:  - ETA:  - ETA:  - ETA:  - ETA:  - ETA:  - ETA:  - ETA:  - ETA:  - ETA:  - ETA:  - ETA:  - ETA:  - ETA:  - ETA:  - ETA:  - ETA:  - ETA:  - 1s 702us/step\n"
     ]
    }
   ],
   "source": [
    "model_bi_n.load_weights(\"bi\\\\bi_n-5.h5\")\n",
    "score, acc = model_bi_n.evaluate(X_test_n, to_categorical(Y_test_n, num_classes=len(tag2index_n)))"
   ]
  },
  {
   "cell_type": "code",
   "execution_count": 79,
   "metadata": {},
   "outputs": [
    {
     "name": "stdout",
     "output_type": "stream",
     "text": [
      "Test score: 0.225, accuracy: 94.045\n"
     ]
    }
   ],
   "source": [
    "print(\"Test score: %.3f, accuracy: %.3f\" % (score, acc*100))"
   ]
  },
  {
   "cell_type": "code",
   "execution_count": 80,
   "metadata": {},
   "outputs": [
    {
     "data": {
      "application/vnd.jupyter.widget-view+json": {
       "model_id": "dfcfe71728224d898cfcc8fa0683865c",
       "version_major": 2,
       "version_minor": 0
      },
      "text/html": [
       "<p>Failed to display Jupyter Widget of type <code>HBox</code>.</p>\n",
       "<p>\n",
       "  If you're reading this message in the Jupyter Notebook or JupyterLab Notebook, it may mean\n",
       "  that the widgets JavaScript is still loading. If this message persists, it\n",
       "  likely means that the widgets JavaScript library is either not installed or\n",
       "  not enabled. See the <a href=\"https://ipywidgets.readthedocs.io/en/stable/user_install.html\">Jupyter\n",
       "  Widgets Documentation</a> for setup instructions.\n",
       "</p>\n",
       "<p>\n",
       "  If you're reading this message in another frontend (for example, a static\n",
       "  rendering on GitHub or <a href=\"https://nbviewer.jupyter.org/\">NBViewer</a>),\n",
       "  it may mean that your frontend doesn't currently support widgets.\n",
       "</p>\n"
      ],
      "text/plain": [
       "HBox(children=(IntProgress(value=0, max=1306), HTML(value='')))"
      ]
     },
     "metadata": {},
     "output_type": "display_data"
    },
    {
     "name": "stdout",
     "output_type": "stream",
     "text": [
      "\n"
     ]
    }
   ],
   "source": [
    "pred_g = predict(X_test_g, Y_test_g, MAX_SEQLEN_g, tag2index_g, model_bi_g)"
   ]
  },
  {
   "cell_type": "code",
   "execution_count": 81,
   "metadata": {},
   "outputs": [
    {
     "name": "stdout",
     "output_type": "stream",
     "text": [
      "Random Sent 1:\n",
      "('VERB', 'VERB')\n",
      "('ADV', 'PART')\n",
      "('ADV', 'ADV')\n",
      "('PRON', 'PRON')\n",
      "('DET', 'DET')\n",
      "('PRON', 'ADJ')\n",
      "('NOUN', 'NOUN')\n",
      "('DET', 'DET')\n",
      "('VERB', 'VERB')\n",
      "('PUNCT', 'PUNCT')\n",
      "('NOUN', 'VERB')\n",
      "('DET', 'DET')\n",
      "('ADJ', 'ADJ')\n",
      "('VERB', 'VERB')\n",
      "('CCONJ', 'CCONJ')\n",
      "('VERB', 'VERB')\n",
      "('DET', 'DET')\n",
      "('NOUN', 'NOUN')\n",
      "('ADJ', 'VERB')\n",
      "('PUNCT', 'PUNCT')\n",
      "__________\n",
      "Random Sent 2:\n",
      "('PRON', 'PRON')\n",
      "('ADV', 'PART')\n",
      "('ADJ', 'VERB')\n",
      "('VERB', 'VERB')\n",
      "('NOUN', 'VERB')\n",
      "('ADV', 'ADV')\n",
      "('ADJ', 'ADJ')\n",
      "('PRON', 'ADJ')\n",
      "('ADP', 'ADP')\n",
      "('DET', 'DET')\n",
      "('ADJ', 'ADJ')\n",
      "('PRON', 'PRON')\n",
      "('VERB', 'VERB')\n",
      "('PUNCT', 'PUNCT')\n",
      "('CCONJ', 'ADV')\n",
      "('ADV', 'ADV')\n",
      "('VERB', 'VERB')\n",
      "('VERB', 'VERB')\n",
      "('PUNCT', 'PUNCT')\n",
      "__________\n",
      "Random Sent 3:\n",
      "('ADJ', 'VERB')\n",
      "('ADV', 'PART')\n",
      "('ADV', 'ADV')\n",
      "('PRON', 'PRON')\n",
      "('ADP', 'ADP')\n",
      "('PRON', 'PRON')\n",
      "('VERB', 'VERB')\n",
      "('PUNCT', 'PUNCT')\n",
      "__________\n"
     ]
    }
   ],
   "source": [
    "for i, s in enumerate(pred_g[:3]):\n",
    "    print(\"Random Sent {}:\". format(i+1), *s, sep=\"\\n\", end=\"\\n__________\\n\")"
   ]
  },
  {
   "cell_type": "code",
   "execution_count": 82,
   "metadata": {},
   "outputs": [
    {
     "data": {
      "application/vnd.jupyter.widget-view+json": {
       "model_id": "e3345279cc8d407495c7dc4e8b3aeeff",
       "version_major": 2,
       "version_minor": 0
      },
      "text/html": [
       "<p>Failed to display Jupyter Widget of type <code>HBox</code>.</p>\n",
       "<p>\n",
       "  If you're reading this message in the Jupyter Notebook or JupyterLab Notebook, it may mean\n",
       "  that the widgets JavaScript is still loading. If this message persists, it\n",
       "  likely means that the widgets JavaScript library is either not installed or\n",
       "  not enabled. See the <a href=\"https://ipywidgets.readthedocs.io/en/stable/user_install.html\">Jupyter\n",
       "  Widgets Documentation</a> for setup instructions.\n",
       "</p>\n",
       "<p>\n",
       "  If you're reading this message in another frontend (for example, a static\n",
       "  rendering on GitHub or <a href=\"https://nbviewer.jupyter.org/\">NBViewer</a>),\n",
       "  it may mean that your frontend doesn't currently support widgets.\n",
       "</p>\n"
      ],
      "text/plain": [
       "HBox(children=(IntProgress(value=0, max=1939), HTML(value='')))"
      ]
     },
     "metadata": {},
     "output_type": "display_data"
    },
    {
     "name": "stdout",
     "output_type": "stream",
     "text": [
      "\n"
     ]
    }
   ],
   "source": [
    "pred_n = predict(X_test_n, Y_test_n, MAX_SEQLEN_n, tag2index_n, model_bi_n)"
   ]
  },
  {
   "cell_type": "code",
   "execution_count": 83,
   "metadata": {},
   "outputs": [
    {
     "name": "stdout",
     "output_type": "stream",
     "text": [
      "Random Sent 1:\n",
      "('NOUN', 'NOUN')\n",
      "('AUX', 'AUX')\n",
      "('PUNCT', 'PUNCT')\n",
      "('ADJ', 'ADJ')\n",
      "('NOUN', 'NOUN')\n",
      "('PUNCT', 'PUNCT')\n",
      "('PUNCT', 'PUNCT')\n",
      "('PUNCT', 'PUNCT')\n",
      "('NOUN', 'PROPN')\n",
      "('PUNCT', 'PUNCT')\n",
      "('CCONJ', 'CCONJ')\n",
      "('PUNCT', 'PUNCT')\n",
      "('ADJ', 'ADJ')\n",
      "('NOUN', 'NOUN')\n",
      "('PUNCT', 'PUNCT')\n",
      "('PUNCT', 'PUNCT')\n",
      "__________\n",
      "Random Sent 2:\n",
      "('PRON', 'PRON')\n",
      "('VERB', 'VERB')\n",
      "('DET', 'DET')\n",
      "('NOUN', 'NOUN')\n",
      "('PRON', 'PRON')\n",
      "('AUX', 'AUX')\n",
      "('ADJ', 'ADJ')\n",
      "('CCONJ', 'CCONJ')\n",
      "('ADP', 'ADP')\n",
      "('NOUN', 'NOUN')\n",
      "('PUNCT', 'PUNCT')\n",
      "__________\n",
      "Random Sent 3:\n",
      "('ADP', 'NOUN')\n",
      "('ADJ', 'ADJ')\n",
      "('VERB', 'VERB')\n",
      "('PRON', 'PRON')\n",
      "('NOUN', 'NOUN')\n",
      "('PUNCT', 'PUNCT')\n",
      "__________\n"
     ]
    }
   ],
   "source": [
    "for i, s in enumerate(pred_n[:3]):\n",
    "    print(\"Random Sent {}:\". format(i+1), *s, sep=\"\\n\", end=\"\\n__________\\n\")"
   ]
  },
  {
   "cell_type": "code",
   "execution_count": 84,
   "metadata": {},
   "outputs": [
    {
     "data": {
      "application/vnd.jupyter.widget-view+json": {
       "model_id": "2778f35607fd448a8c2d0a07195696aa",
       "version_major": 2,
       "version_minor": 0
      },
      "text/html": [
       "<p>Failed to display Jupyter Widget of type <code>HBox</code>.</p>\n",
       "<p>\n",
       "  If you're reading this message in the Jupyter Notebook or JupyterLab Notebook, it may mean\n",
       "  that the widgets JavaScript is still loading. If this message persists, it\n",
       "  likely means that the widgets JavaScript library is either not installed or\n",
       "  not enabled. See the <a href=\"https://ipywidgets.readthedocs.io/en/stable/user_install.html\">Jupyter\n",
       "  Widgets Documentation</a> for setup instructions.\n",
       "</p>\n",
       "<p>\n",
       "  If you're reading this message in another frontend (for example, a static\n",
       "  rendering on GitHub or <a href=\"https://nbviewer.jupyter.org/\">NBViewer</a>),\n",
       "  it may mean that your frontend doesn't currently support widgets.\n",
       "</p>\n"
      ],
      "text/plain": [
       "HBox(children=(IntProgress(value=0, max=1306), HTML(value='')))"
      ]
     },
     "metadata": {},
     "output_type": "display_data"
    },
    {
     "name": "stdout",
     "output_type": "stream",
     "text": [
      "\n",
      "By sent:  69.91575530395838 \n",
      "Total:  69.78317699523296\n"
     ]
    },
    {
     "data": {
      "application/vnd.jupyter.widget-view+json": {
       "model_id": "2e4b1a3bb4a147eaab330ee8ecfe8c83",
       "version_major": 2,
       "version_minor": 0
      },
      "text/html": [
       "<p>Failed to display Jupyter Widget of type <code>HBox</code>.</p>\n",
       "<p>\n",
       "  If you're reading this message in the Jupyter Notebook or JupyterLab Notebook, it may mean\n",
       "  that the widgets JavaScript is still loading. If this message persists, it\n",
       "  likely means that the widgets JavaScript library is either not installed or\n",
       "  not enabled. See the <a href=\"https://ipywidgets.readthedocs.io/en/stable/user_install.html\">Jupyter\n",
       "  Widgets Documentation</a> for setup instructions.\n",
       "</p>\n",
       "<p>\n",
       "  If you're reading this message in another frontend (for example, a static\n",
       "  rendering on GitHub or <a href=\"https://nbviewer.jupyter.org/\">NBViewer</a>),\n",
       "  it may mean that your frontend doesn't currently support widgets.\n",
       "</p>\n"
      ],
      "text/plain": [
       "HBox(children=(IntProgress(value=0, max=1939), HTML(value='')))"
      ]
     },
     "metadata": {},
     "output_type": "display_data"
    },
    {
     "name": "stdout",
     "output_type": "stream",
     "text": [
      "\n",
      "By sent:  87.43860769196615 \n",
      "Total:  88.04103768696675\n"
     ]
    }
   ],
   "source": [
    "acc_g = acc_manual(pred_g)\n",
    "acc_n = acc_manual(pred_n)"
   ]
  },
  {
   "cell_type": "code",
   "execution_count": 85,
   "metadata": {},
   "outputs": [],
   "source": [
    "scores[\"bi_g\"] = acc_g\n",
    "scores[\"bi_n\"] = acc_n"
   ]
  },
  {
   "cell_type": "code",
   "execution_count": 86,
   "metadata": {},
   "outputs": [
    {
     "data": {
      "text/plain": [
       "{'bi_g': 0.6991575530395837,\n",
       " 'bi_n': 0.8743860769196615,\n",
       " 'lstm_g': 0.7202862398418273,\n",
       " 'lstm_n': 0.8554091858210366,\n",
       " 'simple_g': 0.7071963497300916,\n",
       " 'simple_n': 0.8448598653695497}"
      ]
     },
     "execution_count": 86,
     "metadata": {},
     "output_type": "execute_result"
    }
   ],
   "source": [
    "scores"
   ]
  },
  {
   "cell_type": "markdown",
   "metadata": {},
   "source": [
    "### GRU"
   ]
  },
  {
   "cell_type": "code",
   "execution_count": 87,
   "metadata": {},
   "outputs": [
    {
     "name": "stdout",
     "output_type": "stream",
     "text": [
      "_________________________________________________________________\n",
      "Layer (type)                 Output Shape              Param #   \n",
      "=================================================================\n",
      "embedding_7 (Embedding)      (None, 26, 150)           4985850   \n",
      "_________________________________________________________________\n",
      "gru_1 (GRU)                  (None, 26, 64)            41280     \n",
      "_________________________________________________________________\n",
      "dense_7 (Dense)              (None, 26, 16)            1040      \n",
      "_________________________________________________________________\n",
      "activation_7 (Activation)    (None, 26, 16)            0         \n",
      "=================================================================\n",
      "Total params: 5,028,170\n",
      "Trainable params: 5,028,170\n",
      "Non-trainable params: 0\n",
      "_________________________________________________________________\n",
      "None\n",
      "Train on 9180 samples, validate on 2296 samples\n",
      "Epoch 1/15\n",
      " - 18s - loss: 2.0489 - acc: 0.4854 - val_loss: 1.3880 - val_acc: 0.5989\n",
      "\n",
      "Epoch 00001: saving model to gru\\gru_g-1.h5\n",
      "Epoch 2/15\n",
      " - 16s - loss: 1.2900 - acc: 0.6851 - val_loss: 1.1697 - val_acc: 0.7169\n",
      "\n",
      "Epoch 00002: saving model to gru\\gru_g-2.h5\n",
      "Epoch 3/15\n",
      " - 17s - loss: 0.9909 - acc: 0.7481 - val_loss: 0.8206 - val_acc: 0.7732\n",
      "\n",
      "Epoch 00003: saving model to gru\\gru_g-3.h5\n",
      "Epoch 4/15\n",
      " - 16s - loss: 0.6432 - acc: 0.8498 - val_loss: 0.4946 - val_acc: 0.8942\n",
      "\n",
      "Epoch 00004: saving model to gru\\gru_g-4.h5\n",
      "Epoch 5/15\n",
      " - 15s - loss: 0.3597 - acc: 0.9324 - val_loss: 0.3106 - val_acc: 0.9224\n",
      "\n",
      "Epoch 00005: saving model to gru\\gru_g-5.h5\n",
      "Epoch 6/15\n",
      " - 15s - loss: 0.2088 - acc: 0.9597 - val_loss: 0.2404 - val_acc: 0.9288\n",
      "\n",
      "Epoch 00006: saving model to gru\\gru_g-6.h5\n",
      "Epoch 7/15\n",
      " - 15s - loss: 0.1436 - acc: 0.9657 - val_loss: 0.2130 - val_acc: 0.9300\n",
      "\n",
      "Epoch 00007: saving model to gru\\gru_g-7.h5\n",
      "Epoch 8/15\n",
      " - 15s - loss: 0.1137 - acc: 0.9681 - val_loss: 0.2001 - val_acc: 0.9318\n",
      "\n",
      "Epoch 00008: saving model to gru\\gru_g-8.h5\n",
      "Epoch 9/15\n",
      " - 15s - loss: 0.0983 - acc: 0.9694 - val_loss: 0.1930 - val_acc: 0.9319\n",
      "\n",
      "Epoch 00009: saving model to gru\\gru_g-9.h5\n",
      "Epoch 10/15\n",
      " - 15s - loss: 0.0890 - acc: 0.9701 - val_loss: 0.1888 - val_acc: 0.9331\n",
      "\n",
      "Epoch 00010: saving model to gru\\gru_g-10.h5\n",
      "Epoch 11/15\n",
      " - 15s - loss: 0.0829 - acc: 0.9709 - val_loss: 0.1857 - val_acc: 0.9339\n",
      "\n",
      "Epoch 00011: saving model to gru\\gru_g-11.h5\n",
      "Epoch 12/15\n",
      " - 15s - loss: 0.0780 - acc: 0.9721 - val_loss: 0.1839 - val_acc: 0.9342\n",
      "\n",
      "Epoch 00012: saving model to gru\\gru_g-12.h5\n",
      "Epoch 13/15\n",
      " - 15s - loss: 0.0735 - acc: 0.9732 - val_loss: 0.1822 - val_acc: 0.9345\n",
      "\n",
      "Epoch 00013: saving model to gru\\gru_g-13.h5\n",
      "Epoch 14/15\n",
      " - 15s - loss: 0.0699 - acc: 0.9742 - val_loss: 0.1815 - val_acc: 0.9343\n",
      "\n",
      "Epoch 00014: saving model to gru\\gru_g-14.h5\n",
      "Epoch 15/15\n",
      " - 15s - loss: 0.0660 - acc: 0.9756 - val_loss: 0.1808 - val_acc: 0.9341\n",
      "\n",
      "Epoch 00015: saving model to gru\\gru_g-15.h5\n"
     ]
    }
   ],
   "source": [
    "model_gru_g = make_model(S_MAX_FEATURES_g, T_MAX_FEATURES_g, MAX_SEQLEN_g, GRU_flag = True)\n",
    "checkpoint = ModelCheckpoint('gru\\\\gru_g-{epoch}.h5', verbose=1, save_best_only=False, save_weights_only=True)\n",
    "history_gru_g = model_gru_g.fit(X_train_g, Y_train_g, batch_size=BATCH_SIZE, \n",
    "                    epochs=NUM_EPOCHS,\n",
    "                    validation_data=(X_val_g, Y_val_g), verbose=2, callbacks=[checkpoint])"
   ]
  },
  {
   "cell_type": "code",
   "execution_count": 88,
   "metadata": {},
   "outputs": [
    {
     "name": "stdout",
     "output_type": "stream",
     "text": [
      "_________________________________________________________________\n",
      "Layer (type)                 Output Shape              Param #   \n",
      "=================================================================\n",
      "embedding_8 (Embedding)      (None, 30, 150)           4511100   \n",
      "_________________________________________________________________\n",
      "gru_2 (GRU)                  (None, 30, 64)            41280     \n",
      "_________________________________________________________________\n",
      "dense_8 (Dense)              (None, 30, 19)            1235      \n",
      "_________________________________________________________________\n",
      "activation_8 (Activation)    (None, 30, 19)            0         \n",
      "=================================================================\n",
      "Total params: 4,553,615\n",
      "Trainable params: 4,553,615\n",
      "Non-trainable params: 0\n",
      "_________________________________________________________________\n",
      "None\n",
      "Train on 12556 samples, validate on 3140 samples\n",
      "Epoch 1/15\n",
      " - 25s - loss: 1.9588 - acc: 0.5784 - val_loss: 1.3563 - val_acc: 0.7295\n",
      "\n",
      "Epoch 00001: saving model to gru\\gru_n-1.h5\n",
      "Epoch 2/15\n",
      " - 22s - loss: 1.1825 - acc: 0.7345 - val_loss: 0.9216 - val_acc: 0.7661\n",
      "\n",
      "Epoch 00002: saving model to gru\\gru_n-2.h5\n",
      "Epoch 3/15\n",
      " - 22s - loss: 0.6546 - acc: 0.8516 - val_loss: 0.4189 - val_acc: 0.9100\n",
      "\n",
      "Epoch 00003: saving model to gru\\gru_n-3.h5\n",
      "Epoch 4/15\n",
      " - 22s - loss: 0.3028 - acc: 0.9350 - val_loss: 0.2421 - val_acc: 0.9417\n",
      "\n",
      "Epoch 00004: saving model to gru\\gru_n-4.h5\n",
      "Epoch 5/15\n",
      " - 22s - loss: 0.1792 - acc: 0.9600 - val_loss: 0.1848 - val_acc: 0.9505\n",
      "\n",
      "Epoch 00005: saving model to gru\\gru_n-5.h5\n",
      "Epoch 6/15\n",
      " - 22s - loss: 0.1285 - acc: 0.9677 - val_loss: 0.1609 - val_acc: 0.9535\n",
      "\n",
      "Epoch 00006: saving model to gru\\gru_n-6.h5\n",
      "Epoch 7/15\n",
      " - 22s - loss: 0.1043 - acc: 0.9701 - val_loss: 0.1497 - val_acc: 0.9543\n",
      "\n",
      "Epoch 00007: saving model to gru\\gru_n-7.h5\n",
      "Epoch 8/15\n",
      " - 22s - loss: 0.0917 - acc: 0.9712 - val_loss: 0.1433 - val_acc: 0.9551\n",
      "\n",
      "Epoch 00008: saving model to gru\\gru_n-8.h5\n",
      "Epoch 9/15\n",
      " - 22s - loss: 0.0840 - acc: 0.9720 - val_loss: 0.1395 - val_acc: 0.9554\n",
      "\n",
      "Epoch 00009: saving model to gru\\gru_n-9.h5\n",
      "Epoch 10/15\n",
      " - 22s - loss: 0.0789 - acc: 0.9727 - val_loss: 0.1368 - val_acc: 0.9552\n",
      "\n",
      "Epoch 00010: saving model to gru\\gru_n-10.h5\n",
      "Epoch 11/15\n",
      " - 22s - loss: 0.0747 - acc: 0.9733 - val_loss: 0.1348 - val_acc: 0.9556\n",
      "\n",
      "Epoch 00011: saving model to gru\\gru_n-11.h5\n",
      "Epoch 12/15\n",
      " - 22s - loss: 0.0711 - acc: 0.9742 - val_loss: 0.1336 - val_acc: 0.9560\n",
      "\n",
      "Epoch 00012: saving model to gru\\gru_n-12.h5\n",
      "Epoch 13/15\n",
      " - 22s - loss: 0.0682 - acc: 0.9749 - val_loss: 0.1320 - val_acc: 0.9558\n",
      "\n",
      "Epoch 00013: saving model to gru\\gru_n-13.h5\n",
      "Epoch 14/15\n",
      " - 22s - loss: 0.0647 - acc: 0.9762 - val_loss: 0.1318 - val_acc: 0.9556\n",
      "\n",
      "Epoch 00014: saving model to gru\\gru_n-14.h5\n",
      "Epoch 15/15\n",
      " - 22s - loss: 0.0618 - acc: 0.9772 - val_loss: 0.1313 - val_acc: 0.9557\n",
      "\n",
      "Epoch 00015: saving model to gru\\gru_n-15.h5\n"
     ]
    }
   ],
   "source": [
    "model_gru_n = make_model(S_MAX_FEATURES_n, T_MAX_FEATURES_n, MAX_SEQLEN_n, GRU_flag = True)\n",
    "checkpoint = ModelCheckpoint('gru\\\\gru_n-{epoch}.h5', verbose=1, save_best_only=False, save_weights_only=True)\n",
    "\n",
    "history_gru_n = model_gru_n.fit(X_train_n, Y_train_n, batch_size=BATCH_SIZE, \n",
    "                    epochs=NUM_EPOCHS,\n",
    "                    validation_data=(X_val_n, Y_val_n), verbose=2, callbacks = [checkpoint])"
   ]
  },
  {
   "cell_type": "code",
   "execution_count": 89,
   "metadata": {},
   "outputs": [
    {
     "data": {
      "image/png": "[encoded data removed]",
      "text/plain": [
       "<matplotlib.figure.Figure at 0x3b8bf682e8>"
      ]
     },
     "metadata": {},
     "output_type": "display_data"
    }
   ],
   "source": [
    "plotting(history_gru_g)"
   ]
  },
  {
   "cell_type": "code",
   "execution_count": 90,
   "metadata": {},
   "outputs": [
    {
     "data": {
      "image/png": "[encoded data removed]",
      "text/plain": [
       "<matplotlib.figure.Figure at 0x3bb064cc50>"
      ]
     },
     "metadata": {},
     "output_type": "display_data"
    }
   ],
   "source": [
    "plotting(history_gru_n)"
   ]
  },
  {
   "cell_type": "markdown",
   "metadata": {},
   "source": [
    "Переобучение:\n",
    "* Древнегреческий - 4я (3я по графику) эпоха\n",
    "* Норвежский - 3я (2я по графику) эпоха"
   ]
  },
  {
   "cell_type": "code",
   "execution_count": 91,
   "metadata": {},
   "outputs": [
    {
     "name": "stdout",
     "output_type": "stream",
     "text": [
      "1306/1306 [==============================] - ETA:  - ETA:  - ETA:  - ETA:  - ETA:  - ETA:  - ETA:  - ETA:  - ETA:  - 0s 370us/step\n"
     ]
    }
   ],
   "source": [
    "model_gru_g.load_weights(\"gru\\\\gru_g-4.h5\")\n",
    "score, acc = model_gru_g.evaluate(X_test_g, to_categorical(Y_test_g, num_classes=len(tag2index_g)))"
   ]
  },
  {
   "cell_type": "code",
   "execution_count": 92,
   "metadata": {},
   "outputs": [
    {
     "name": "stdout",
     "output_type": "stream",
     "text": [
      "Test score: 0.697, accuracy: 82.012\n"
     ]
    }
   ],
   "source": [
    "print(\"Test score: %.3f, accuracy: %.3f\" % (score, acc*100))"
   ]
  },
  {
   "cell_type": "code",
   "execution_count": 93,
   "metadata": {},
   "outputs": [
    {
     "name": "stdout",
     "output_type": "stream",
     "text": [
      "1939/1939 [==============================] - ETA:  - ETA:  - ETA:  - ETA:  - ETA:  - ETA:  - ETA:  - ETA:  - ETA:  - ETA:  - ETA:  - ETA:  - ETA:  - ETA:  - ETA:  - 1s 439us/step\n"
     ]
    }
   ],
   "source": [
    "model_gru_n.load_weights(\"gru\\\\gru_n-3.h5\")\n",
    "score, acc = model_gru_n.evaluate(X_test_n, to_categorical(Y_test_n))"
   ]
  },
  {
   "cell_type": "code",
   "execution_count": 94,
   "metadata": {},
   "outputs": [
    {
     "name": "stdout",
     "output_type": "stream",
     "text": [
      "Test score: 0.433, accuracy: 90.395\n"
     ]
    }
   ],
   "source": [
    "print(\"Test score: %.3f, accuracy: %.3f\" % (score, acc*100))"
   ]
  },
  {
   "cell_type": "code",
   "execution_count": 95,
   "metadata": {},
   "outputs": [
    {
     "data": {
      "application/vnd.jupyter.widget-view+json": {
       "model_id": "5422c72051e3400eb439a346f97932f2",
       "version_major": 2,
       "version_minor": 0
      },
      "text/html": [
       "<p>Failed to display Jupyter Widget of type <code>HBox</code>.</p>\n",
       "<p>\n",
       "  If you're reading this message in the Jupyter Notebook or JupyterLab Notebook, it may mean\n",
       "  that the widgets JavaScript is still loading. If this message persists, it\n",
       "  likely means that the widgets JavaScript library is either not installed or\n",
       "  not enabled. See the <a href=\"https://ipywidgets.readthedocs.io/en/stable/user_install.html\">Jupyter\n",
       "  Widgets Documentation</a> for setup instructions.\n",
       "</p>\n",
       "<p>\n",
       "  If you're reading this message in another frontend (for example, a static\n",
       "  rendering on GitHub or <a href=\"https://nbviewer.jupyter.org/\">NBViewer</a>),\n",
       "  it may mean that your frontend doesn't currently support widgets.\n",
       "</p>\n"
      ],
      "text/plain": [
       "HBox(children=(IntProgress(value=0, max=1306), HTML(value='')))"
      ]
     },
     "metadata": {},
     "output_type": "display_data"
    },
    {
     "name": "stdout",
     "output_type": "stream",
     "text": [
      "\n"
     ]
    }
   ],
   "source": [
    "pred_g = predict(X_test_g, Y_test_g, MAX_SEQLEN_g, tag2index_g, model_gru_g)"
   ]
  },
  {
   "cell_type": "code",
   "execution_count": 96,
   "metadata": {},
   "outputs": [
    {
     "name": "stdout",
     "output_type": "stream",
     "text": [
      "Random Sent 1:\n",
      "('VERB', 'VERB')\n",
      "('ADV', 'PART')\n",
      "('ADV', 'ADV')\n",
      "('PRON', 'PRON')\n",
      "('DET', 'DET')\n",
      "('PRON', 'ADJ')\n",
      "('NOUN', 'NOUN')\n",
      "('DET', 'DET')\n",
      "('VERB', 'NOUN')\n",
      "('PUNCT', 'PUNCT')\n",
      "('NOUN', 'VERB')\n",
      "('DET', 'DET')\n",
      "('ADJ', 'ADJ')\n",
      "('VERB', 'VERB')\n",
      "('CCONJ', 'CCONJ')\n",
      "('VERB', 'NOUN')\n",
      "('DET', 'DET')\n",
      "('NOUN', 'NOUN')\n",
      "('ADJ', 'VERB')\n",
      "('PUNCT', 'PUNCT')\n",
      "__________\n",
      "Random Sent 2:\n",
      "('PRON', 'ADJ')\n",
      "('ADV', 'PART')\n",
      "('ADJ', 'VERB')\n",
      "('VERB', 'VERB')\n",
      "('NOUN', 'VERB')\n",
      "('ADV', 'ADV')\n",
      "('ADJ', 'ADJ')\n",
      "('PRON', 'ADJ')\n",
      "('ADP', 'ADP')\n",
      "('DET', 'PRON')\n",
      "('ADJ', 'NOUN')\n",
      "('PRON', 'PRON')\n",
      "('VERB', 'VERB')\n",
      "('PUNCT', 'PUNCT')\n",
      "('CCONJ', 'ADV')\n",
      "('ADV', 'NOUN')\n",
      "('VERB', 'VERB')\n",
      "('VERB', 'VERB')\n",
      "('PUNCT', 'PUNCT')\n",
      "__________\n",
      "Random Sent 3:\n",
      "('ADJ', 'VERB')\n",
      "('ADV', 'PART')\n",
      "('ADV', 'ADV')\n",
      "('PRON', 'ADJ')\n",
      "('ADP', 'ADP')\n",
      "('PRON', 'NOUN')\n",
      "('VERB', 'VERB')\n",
      "('PUNCT', 'PUNCT')\n",
      "__________\n"
     ]
    }
   ],
   "source": [
    "for i, s in enumerate(pred_g[:3]):\n",
    "    print(\"Random Sent {}:\". format(i+1), *s, sep=\"\\n\", end=\"\\n__________\\n\")"
   ]
  },
  {
   "cell_type": "code",
   "execution_count": 97,
   "metadata": {},
   "outputs": [
    {
     "data": {
      "application/vnd.jupyter.widget-view+json": {
       "model_id": "9ec4983dd7c64b8681532f47c319879c",
       "version_major": 2,
       "version_minor": 0
      },
      "text/html": [
       "<p>Failed to display Jupyter Widget of type <code>HBox</code>.</p>\n",
       "<p>\n",
       "  If you're reading this message in the Jupyter Notebook or JupyterLab Notebook, it may mean\n",
       "  that the widgets JavaScript is still loading. If this message persists, it\n",
       "  likely means that the widgets JavaScript library is either not installed or\n",
       "  not enabled. See the <a href=\"https://ipywidgets.readthedocs.io/en/stable/user_install.html\">Jupyter\n",
       "  Widgets Documentation</a> for setup instructions.\n",
       "</p>\n",
       "<p>\n",
       "  If you're reading this message in another frontend (for example, a static\n",
       "  rendering on GitHub or <a href=\"https://nbviewer.jupyter.org/\">NBViewer</a>),\n",
       "  it may mean that your frontend doesn't currently support widgets.\n",
       "</p>\n"
      ],
      "text/plain": [
       "HBox(children=(IntProgress(value=0, max=1939), HTML(value='')))"
      ]
     },
     "metadata": {},
     "output_type": "display_data"
    },
    {
     "name": "stdout",
     "output_type": "stream",
     "text": [
      "\n"
     ]
    }
   ],
   "source": [
    "pred_n = predict(X_test_n, Y_test_n, MAX_SEQLEN_n, tag2index_n, model_gru_n)"
   ]
  },
  {
   "cell_type": "code",
   "execution_count": 98,
   "metadata": {},
   "outputs": [
    {
     "name": "stdout",
     "output_type": "stream",
     "text": [
      "Random Sent 1:\n",
      "('NOUN', 'ADJ')\n",
      "('AUX', 'AUX')\n",
      "('PUNCT', 'PUNCT')\n",
      "('ADJ', 'NOUN')\n",
      "('NOUN', 'NOUN')\n",
      "('PUNCT', 'PUNCT')\n",
      "('PUNCT', 'PUNCT')\n",
      "('PUNCT', 'PUNCT')\n",
      "('NOUN', 'NOUN')\n",
      "('PUNCT', 'PUNCT')\n",
      "('CCONJ', 'CCONJ')\n",
      "('PUNCT', 'PUNCT')\n",
      "('ADJ', 'NOUN')\n",
      "('NOUN', 'NOUN')\n",
      "('PUNCT', 'PUNCT')\n",
      "('PUNCT', 'PUNCT')\n",
      "__________\n",
      "Random Sent 2:\n",
      "('PRON', 'PRON')\n",
      "('VERB', 'VERB')\n",
      "('DET', 'DET')\n",
      "('NOUN', 'NOUN')\n",
      "('PRON', 'PRON')\n",
      "('AUX', 'AUX')\n",
      "('ADJ', 'VERB')\n",
      "('CCONJ', 'CCONJ')\n",
      "('ADP', 'ADP')\n",
      "('NOUN', 'NOUN')\n",
      "('PUNCT', 'PUNCT')\n",
      "__________\n",
      "Random Sent 3:\n",
      "('ADP', 'NOUN')\n",
      "('ADJ', 'ADJ')\n",
      "('VERB', 'ADJ')\n",
      "('PRON', 'PRON')\n",
      "('NOUN', 'NOUN')\n",
      "('PUNCT', 'PUNCT')\n",
      "__________\n"
     ]
    }
   ],
   "source": [
    "for i, s in enumerate(pred_n[:3]):\n",
    "    print(\"Random Sent {}:\". format(i+1), *s, sep=\"\\n\", end=\"\\n__________\\n\")"
   ]
  },
  {
   "cell_type": "code",
   "execution_count": 99,
   "metadata": {},
   "outputs": [
    {
     "data": {
      "application/vnd.jupyter.widget-view+json": {
       "model_id": "a55fb1325de94a22b17e44575aa0c133",
       "version_major": 2,
       "version_minor": 0
      },
      "text/html": [
       "<p>Failed to display Jupyter Widget of type <code>HBox</code>.</p>\n",
       "<p>\n",
       "  If you're reading this message in the Jupyter Notebook or JupyterLab Notebook, it may mean\n",
       "  that the widgets JavaScript is still loading. If this message persists, it\n",
       "  likely means that the widgets JavaScript library is either not installed or\n",
       "  not enabled. See the <a href=\"https://ipywidgets.readthedocs.io/en/stable/user_install.html\">Jupyter\n",
       "  Widgets Documentation</a> for setup instructions.\n",
       "</p>\n",
       "<p>\n",
       "  If you're reading this message in another frontend (for example, a static\n",
       "  rendering on GitHub or <a href=\"https://nbviewer.jupyter.org/\">NBViewer</a>),\n",
       "  it may mean that your frontend doesn't currently support widgets.\n",
       "</p>\n"
      ],
      "text/plain": [
       "HBox(children=(IntProgress(value=0, max=1306), HTML(value='')))"
      ]
     },
     "metadata": {},
     "output_type": "display_data"
    },
    {
     "name": "stdout",
     "output_type": "stream",
     "text": [
      "\n",
      "By sent:  68.89414970120427 \n",
      "Total:  68.70706449297653\n"
     ]
    },
    {
     "data": {
      "application/vnd.jupyter.widget-view+json": {
       "model_id": "9109f511999f48ffa780bc9be7e1c431",
       "version_major": 2,
       "version_minor": 0
      },
      "text/html": [
       "<p>Failed to display Jupyter Widget of type <code>HBox</code>.</p>\n",
       "<p>\n",
       "  If you're reading this message in the Jupyter Notebook or JupyterLab Notebook, it may mean\n",
       "  that the widgets JavaScript is still loading. If this message persists, it\n",
       "  likely means that the widgets JavaScript library is either not installed or\n",
       "  not enabled. See the <a href=\"https://ipywidgets.readthedocs.io/en/stable/user_install.html\">Jupyter\n",
       "  Widgets Documentation</a> for setup instructions.\n",
       "</p>\n",
       "<p>\n",
       "  If you're reading this message in another frontend (for example, a static\n",
       "  rendering on GitHub or <a href=\"https://nbviewer.jupyter.org/\">NBViewer</a>),\n",
       "  it may mean that your frontend doesn't currently support widgets.\n",
       "</p>\n"
      ],
      "text/plain": [
       "HBox(children=(IntProgress(value=0, max=1939), HTML(value='')))"
      ]
     },
     "metadata": {},
     "output_type": "display_data"
    },
    {
     "name": "stdout",
     "output_type": "stream",
     "text": [
      "\n",
      "By sent:  78.5635765802608 \n",
      "Total:  79.58596296553159\n"
     ]
    }
   ],
   "source": [
    "acc_g = acc_manual(pred_g)\n",
    "acc_n = acc_manual(pred_n)"
   ]
  },
  {
   "cell_type": "code",
   "execution_count": 100,
   "metadata": {},
   "outputs": [],
   "source": [
    "scores[\"gru_g\"] = acc_g\n",
    "scores[\"gru_n\"] = acc_n"
   ]
  },
  {
   "cell_type": "code",
   "execution_count": 101,
   "metadata": {},
   "outputs": [
    {
     "data": {
      "text/plain": [
       "{'bi_g': 0.6991575530395837,\n",
       " 'bi_n': 0.8743860769196615,\n",
       " 'gru_g': 0.6889414970120427,\n",
       " 'gru_n': 0.785635765802608,\n",
       " 'lstm_g': 0.7202862398418273,\n",
       " 'lstm_n': 0.8554091858210366,\n",
       " 'simple_g': 0.7071963497300916,\n",
       " 'simple_n': 0.8448598653695497}"
      ]
     },
     "execution_count": 101,
     "metadata": {},
     "output_type": "execute_result"
    }
   ],
   "source": [
    "scores"
   ]
  },
  {
   "cell_type": "markdown",
   "metadata": {},
   "source": [
    "### Выводы и анализ"
   ]
  },
  {
   "cell_type": "code",
   "execution_count": 102,
   "metadata": {},
   "outputs": [],
   "source": [
    "scores_g = {k : round(v*100,3) for k,v in scores.items() if \"_g\" in k}"
   ]
  },
  {
   "cell_type": "code",
   "execution_count": 103,
   "metadata": {},
   "outputs": [],
   "source": [
    "scores_n = {k : round(v*100,3) for k,v in scores.items() if \"_n\" in k}"
   ]
  },
  {
   "cell_type": "code",
   "execution_count": 104,
   "metadata": {},
   "outputs": [
    {
     "data": {
      "text/plain": [
       "({'bi_g': 69.916, 'gru_g': 68.894, 'lstm_g': 72.029, 'simple_g': 70.72},\n",
       " {'bi_n': 87.439, 'gru_n': 78.564, 'lstm_n': 85.541, 'simple_n': 84.486})"
      ]
     },
     "execution_count": 104,
     "metadata": {},
     "output_type": "execute_result"
    }
   ],
   "source": [
    "scores_g, scores_n"
   ]
  },
  {
   "cell_type": "code",
   "execution_count": 105,
   "metadata": {},
   "outputs": [
    {
     "name": "stdout",
     "output_type": "stream",
     "text": [
      "Точности для древнегреческого языка:\n",
      "\t gru_g : 68.894\n",
      "\t bi_g : 69.916\n",
      "\t simple_g : 70.72\n",
      "\t lstm_g : 72.029\n"
     ]
    }
   ],
   "source": [
    "print(\"Точности для древнегреческого языка:\")\n",
    "for k, v in sorted(scores_g.items(), key=operator.itemgetter(1)):\n",
    "    print(\"\\t\",k, \":\",v)"
   ]
  },
  {
   "cell_type": "markdown",
   "metadata": {},
   "source": [
    "**Выводы по разметке древнегреческого языка:**\n",
    "\n",
    "* Все модели показали примерно одинаковую точность - от 68 до 72%. Древнегреческия достаточно сложный для разметки - у каждой части речи большое количество различных возможных форм; формы выражаются флексиями, интерфиксами, etc., то есть внутри слова, сложная словоизменительная система - большое количество разных вариаций слов относится к одной части речи, но при помоци флексий образовываются и другие части речи; свободный порядок слов (хотя есть и определенные првила, напр. сказуемое чаще всего в конце, но они свободно нарушаются, и по большей частии сложные (зависят от формы) и вариативные). \n",
    "* Лучше всего (очень близкие результаты с разницей в сотые доли) с разметкой справилась простая lstm - как уже было сказано, порядок слов хоть и свободный, но есть небольшое количество правил + стандартно, есть определенные типичные сочетания частей речи (напр., существительное + прилагательное, которое к нему относится, существительное + артиклиь и тд), и зависимость есть, судя по всему, именно от предыдущего контекста. И судя по результату двунаправленной, \"будущее состояние\" контекста, которое учитывается в двунаправленной lstm, только ухудшает результат.\n",
    "* Самые низкие результаты - у gru. Согласно теории, в отличие от lstm, есть только фильтр обновления и фильтр забывания. Возможно, отсутствие \"постоянного состояния ячейки\" приводит к тому, что слишком много информации модель выбрасывает. Поэтому даже простая рекуррентная сеть, хотя и не способна моделировать дальний контекст, показывает лучшие результаты - видимо, определяя правила сочетаемости"
   ]
  },
  {
   "cell_type": "code",
   "execution_count": 106,
   "metadata": {},
   "outputs": [
    {
     "name": "stdout",
     "output_type": "stream",
     "text": [
      "Точности для норвежского языка:\n",
      "\t gru_n : 78.564\n",
      "\t simple_n : 84.486\n",
      "\t lstm_n : 85.541\n",
      "\t bi_n : 87.439\n"
     ]
    }
   ],
   "source": [
    "print(\"Точности для норвежского языка:\")\n",
    "for k, v in sorted(scores_n.items(), key=operator.itemgetter(1)):\n",
    "    print(\"\\t\",k, \":\",v)"
   ]
  },
  {
   "cell_type": "markdown",
   "metadata": {},
   "source": [
    "**Выводы по разметке древнегреческого языка:**\n",
    "* Показател различаются сильнее, чем для греческого, что связано с тем, что норвежский более аналитичный и более определенный по морфологии.\n",
    "* Лучше всего справилась двунаправленная lstm, учитывающая контекст в обе стороны. Норвежский язык более аналитичен, у частей речи меньше форм, они яснее определены, порядок слов фиксированный за редким исключением, когда его изменение продиктовано стилистическими требованиями, у членов предложения есть определенное место. Поэтому учитывая и предыдущий, и будущий широкий контекст предложения модель может более менее точно построить его структуру, так как она фиксирована.\n",
    "* При этом результаты простой ЛСТМ и простой рекуррентной сети оказались примерно одинаковыми и не намного ниже результатов двунаправленной. Опять же, аналитичность языка и фиксированный порядок слов в предложениях намного упрощают разметку текста (в отличие от древнегреческого)\n",
    "* Хуже всего результаты у GRU. Возможно, по той же причине, что и у древнегреческого - слишком много информации выбрасывается, и учитывая достаточно большую разницу, возможно, меньше внимания уделяется ближайшему контексту."
   ]
  },
  {
   "cell_type": "markdown",
   "metadata": {},
   "source": [
    "**Общие выводы**:\n",
    "* Для частеречной разметки древнегреческого языка важен предыдущий дальний контекст, который моделируется слоем lstm. Для норвежского контекст так же важен, так как он позволяет выявить структуру типичного предложения, но при этом вполне может игнорироваться с небольшой потерей точности.\n",
    "* Норвежский язык проще размечать автоматически, чем древнегреческий по причине его аналитичности и фиксированного порядка слов, поэтому точность у него в целом выше\n",
    "* По большей части, норвежский переобучается быстрее, чем древнегреческий, по причине, указанной в предыдущем пункте"
   ]
  },
  {
   "cell_type": "markdown",
   "metadata": {},
   "source": [
    "### Embedding Size"
   ]
  },
  {
   "cell_type": "markdown",
   "metadata": {},
   "source": [
    "Сравним, как повлияет изменение размера эмбеддинга для разных моделей на примере древнегреческого языка как более сложного для разметки"
   ]
  },
  {
   "cell_type": "markdown",
   "metadata": {},
   "source": [
    "#### LSTM"
   ]
  },
  {
   "cell_type": "code",
   "execution_count": 397,
   "metadata": {},
   "outputs": [
    {
     "name": "stdout",
     "output_type": "stream",
     "text": [
      "_________________________________________________________________\n",
      "Layer (type)                 Output Shape              Param #   \n",
      "=================================================================\n",
      "embedding_34 (Embedding)     (None, 26, 100)           3323900   \n",
      "_________________________________________________________________\n",
      "lstm_18 (LSTM)               (None, 26, 64)            42240     \n",
      "_________________________________________________________________\n",
      "dense_34 (Dense)             (None, 26, 16)            1040      \n",
      "_________________________________________________________________\n",
      "activation_34 (Activation)   (None, 26, 16)            0         \n",
      "=================================================================\n",
      "Total params: 3,367,180\n",
      "Trainable params: 3,367,180\n",
      "Non-trainable params: 0\n",
      "_________________________________________________________________\n",
      "None\n"
     ]
    }
   ],
   "source": [
    "model_lstm = make_model(S_MAX_FEATURES_g, T_MAX_FEATURES_g, MAX_SEQLEN_g, LSTM_flag = True, EMBEDDING_SIZE = 100)"
   ]
  },
  {
   "cell_type": "code",
   "execution_count": 398,
   "metadata": {},
   "outputs": [
    {
     "name": "stdout",
     "output_type": "stream",
     "text": [
      "Train on 9180 samples, validate on 2296 samples\n",
      "Epoch 1/10\n",
      " - 41s - loss: 2.1145 - acc: 0.4684 - val_loss: 1.5371 - val_acc: 0.4889\n",
      "Epoch 2/10\n",
      " - 34s - loss: 1.4384 - acc: 0.5111 - val_loss: 1.3616 - val_acc: 0.5265\n",
      "Epoch 3/10\n",
      " - 36s - loss: 1.2834 - acc: 0.5706 - val_loss: 1.2138 - val_acc: 0.6131\n",
      "Epoch 4/10\n",
      " - 34s - loss: 1.1508 - acc: 0.6276 - val_loss: 1.0945 - val_acc: 0.6498\n",
      "Epoch 5/10\n",
      " - 32s - loss: 1.0392 - acc: 0.6618 - val_loss: 0.9831 - val_acc: 0.6933\n",
      "Epoch 6/10\n",
      " - 32s - loss: 0.9049 - acc: 0.7224 - val_loss: 0.8199 - val_acc: 0.7441\n",
      "Epoch 7/10\n",
      " - 33s - loss: 0.7275 - acc: 0.7736 - val_loss: 0.6436 - val_acc: 0.7961\n",
      "Epoch 8/10\n",
      " - 33s - loss: 0.5428 - acc: 0.8524 - val_loss: 0.4785 - val_acc: 0.8794\n",
      "Epoch 9/10\n",
      " - 34s - loss: 0.3750 - acc: 0.9230 - val_loss: 0.3583 - val_acc: 0.9108\n",
      "Epoch 10/10\n",
      " - 33s - loss: 0.2575 - acc: 0.9521 - val_loss: 0.2914 - val_acc: 0.9178\n"
     ]
    },
    {
     "data": {
      "text/plain": [
       "<keras.callbacks.History at 0x6c0f2152b0>"
      ]
     },
     "execution_count": 398,
     "metadata": {},
     "output_type": "execute_result"
    }
   ],
   "source": [
    "model_lstm.fit(X_train_g, Y_train_g, batch_size=BATCH_SIZE, \n",
    "                    epochs=NUM_EPOCHS,\n",
    "                    validation_data=(X_val_g, Y_val_g), verbose = 2)"
   ]
  },
  {
   "cell_type": "code",
   "execution_count": 399,
   "metadata": {},
   "outputs": [
    {
     "name": "stdout",
     "output_type": "stream",
     "text": [
      "1306/1306 [==============================] - ETA:  - ETA:  - ETA:  - ETA:  - ETA:  - ETA:  - ETA:  - ETA:  - ETA:  - ETA:  - 1s 473us/step\n"
     ]
    }
   ],
   "source": [
    "score, acc = model_lstm.evaluate(X_test_g, to_categorical(Y_test_g, num_classes=len(tag2index_g)))"
   ]
  },
  {
   "cell_type": "code",
   "execution_count": 400,
   "metadata": {},
   "outputs": [
    {
     "name": "stdout",
     "output_type": "stream",
     "text": [
      "Test score: 0.517, accuracy: 82.551\n"
     ]
    }
   ],
   "source": [
    "print(\"Test score: %.3f, accuracy: %.3f\" % (score, acc*100))"
   ]
  },
  {
   "cell_type": "code",
   "execution_count": 401,
   "metadata": {},
   "outputs": [],
   "source": [
    "acc_lstm = {}"
   ]
  },
  {
   "cell_type": "code",
   "execution_count": 402,
   "metadata": {},
   "outputs": [
    {
     "data": {
      "application/vnd.jupyter.widget-view+json": {
       "model_id": "b143ff251d5748db9845910d01d07c2e",
       "version_major": 2,
       "version_minor": 0
      },
      "text/html": [
       "<p>Failed to display Jupyter Widget of type <code>HBox</code>.</p>\n",
       "<p>\n",
       "  If you're reading this message in the Jupyter Notebook or JupyterLab Notebook, it may mean\n",
       "  that the widgets JavaScript is still loading. If this message persists, it\n",
       "  likely means that the widgets JavaScript library is either not installed or\n",
       "  not enabled. See the <a href=\"https://ipywidgets.readthedocs.io/en/stable/user_install.html\">Jupyter\n",
       "  Widgets Documentation</a> for setup instructions.\n",
       "</p>\n",
       "<p>\n",
       "  If you're reading this message in another frontend (for example, a static\n",
       "  rendering on GitHub or <a href=\"https://nbviewer.jupyter.org/\">NBViewer</a>),\n",
       "  it may mean that your frontend doesn't currently support widgets.\n",
       "</p>\n"
      ],
      "text/plain": [
       "HBox(children=(IntProgress(value=0, max=1306), HTML(value='')))"
      ]
     },
     "metadata": {},
     "output_type": "display_data"
    },
    {
     "name": "stdout",
     "output_type": "stream",
     "text": [
      "\n"
     ]
    },
    {
     "data": {
      "application/vnd.jupyter.widget-view+json": {
       "model_id": "bdf28cbf18b24ae1be85167b956fae23",
       "version_major": 2,
       "version_minor": 0
      },
      "text/html": [
       "<p>Failed to display Jupyter Widget of type <code>HBox</code>.</p>\n",
       "<p>\n",
       "  If you're reading this message in the Jupyter Notebook or JupyterLab Notebook, it may mean\n",
       "  that the widgets JavaScript is still loading. If this message persists, it\n",
       "  likely means that the widgets JavaScript library is either not installed or\n",
       "  not enabled. See the <a href=\"https://ipywidgets.readthedocs.io/en/stable/user_install.html\">Jupyter\n",
       "  Widgets Documentation</a> for setup instructions.\n",
       "</p>\n",
       "<p>\n",
       "  If you're reading this message in another frontend (for example, a static\n",
       "  rendering on GitHub or <a href=\"https://nbviewer.jupyter.org/\">NBViewer</a>),\n",
       "  it may mean that your frontend doesn't currently support widgets.\n",
       "</p>\n"
      ],
      "text/plain": [
       "HBox(children=(IntProgress(value=0, max=1306), HTML(value='')))"
      ]
     },
     "metadata": {},
     "output_type": "display_data"
    },
    {
     "name": "stdout",
     "output_type": "stream",
     "text": [
      "\n",
      "By sent:  69.45967818588312 \n",
      "Total:  69.5904034449172\n"
     ]
    }
   ],
   "source": [
    "pred_g = predict(X_test_g, Y_test_g, MAX_SEQLEN_g, tag2index_g, model_lstm)\n",
    "acc_lstm[100] = acc_manual(pred_g)"
   ]
  },
  {
   "cell_type": "code",
   "execution_count": 404,
   "metadata": {},
   "outputs": [
    {
     "name": "stdout",
     "output_type": "stream",
     "text": [
      "_________________________________________________________________\n",
      "Layer (type)                 Output Shape              Param #   \n",
      "=================================================================\n",
      "embedding_35 (Embedding)     (None, 26, 200)           6647800   \n",
      "_________________________________________________________________\n",
      "lstm_19 (LSTM)               (None, 26, 64)            67840     \n",
      "_________________________________________________________________\n",
      "dense_35 (Dense)             (None, 26, 16)            1040      \n",
      "_________________________________________________________________\n",
      "activation_35 (Activation)   (None, 26, 16)            0         \n",
      "=================================================================\n",
      "Total params: 6,716,680\n",
      "Trainable params: 6,716,680\n",
      "Non-trainable params: 0\n",
      "_________________________________________________________________\n",
      "None\n"
     ]
    }
   ],
   "source": [
    "model_lstm = make_model(S_MAX_FEATURES_g, T_MAX_FEATURES_g, MAX_SEQLEN_g, LSTM_flag = True, EMBEDDING_SIZE = 200)"
   ]
  },
  {
   "cell_type": "code",
   "execution_count": 405,
   "metadata": {},
   "outputs": [
    {
     "name": "stdout",
     "output_type": "stream",
     "text": [
      "Train on 9180 samples, validate on 2296 samples\n",
      "Epoch 1/10\n",
      " - 46s - loss: 1.9374 - acc: 0.4811 - val_loss: 1.4606 - val_acc: 0.5123\n",
      "Epoch 2/10\n",
      " - 39s - loss: 1.3873 - acc: 0.5274 - val_loss: 1.3215 - val_acc: 0.5223\n",
      "Epoch 3/10\n",
      " - 37s - loss: 1.2273 - acc: 0.5790 - val_loss: 1.1345 - val_acc: 0.6318\n",
      "Epoch 4/10\n",
      " - 39s - loss: 1.0413 - acc: 0.6680 - val_loss: 0.9447 - val_acc: 0.7108\n",
      "Epoch 5/10\n",
      " - 38s - loss: 0.8227 - acc: 0.7523 - val_loss: 0.7033 - val_acc: 0.7972\n",
      "Epoch 6/10\n",
      " - 40s - loss: 0.5667 - acc: 0.8576 - val_loss: 0.4680 - val_acc: 0.8870\n",
      "Epoch 7/10\n",
      " - 38s - loss: 0.3442 - acc: 0.9334 - val_loss: 0.3245 - val_acc: 0.9183\n",
      "Epoch 8/10\n",
      " - 38s - loss: 0.2157 - acc: 0.9593 - val_loss: 0.2614 - val_acc: 0.9255\n",
      "Epoch 9/10\n",
      " - 38s - loss: 0.1548 - acc: 0.9660 - val_loss: 0.2316 - val_acc: 0.9286\n",
      "Epoch 10/10\n",
      " - 37s - loss: 0.1239 - acc: 0.9685 - val_loss: 0.2157 - val_acc: 0.9295\n"
     ]
    },
    {
     "data": {
      "text/plain": [
       "<keras.callbacks.History at 0x6c25f2b4a8>"
      ]
     },
     "execution_count": 405,
     "metadata": {},
     "output_type": "execute_result"
    }
   ],
   "source": [
    "model_lstm.fit(X_train_g, Y_train_g, batch_size=BATCH_SIZE, \n",
    "                    epochs=NUM_EPOCHS,\n",
    "                    validation_data=(X_val_g, Y_val_g), verbose=2)"
   ]
  },
  {
   "cell_type": "code",
   "execution_count": 406,
   "metadata": {},
   "outputs": [
    {
     "name": "stdout",
     "output_type": "stream",
     "text": [
      "1306/1306 [==============================] - ETA:  - ETA:  - ETA:  - ETA:  - ETA:  - ETA:  - ETA:  - ETA:  - ETA:  - ETA:  - ETA:  - ETA:  - ETA:  - ETA:  - ETA:  - ETA:  - ETA:  - ETA:  - ETA:  - ETA:  - 1s 1000us/step\n"
     ]
    }
   ],
   "source": [
    "score, acc = model_lstm.evaluate(X_test_g, to_categorical(Y_test_g, num_classes = len(tag2index_g)))"
   ]
  },
  {
   "cell_type": "code",
   "execution_count": 407,
   "metadata": {},
   "outputs": [
    {
     "name": "stdout",
     "output_type": "stream",
     "text": [
      "Test score: 0.402, accuracy: 85.210\n"
     ]
    }
   ],
   "source": [
    "print(\"Test score: %.3f, accuracy: %.3f\" % (score, acc*100))"
   ]
  },
  {
   "cell_type": "code",
   "execution_count": 408,
   "metadata": {},
   "outputs": [
    {
     "data": {
      "application/vnd.jupyter.widget-view+json": {
       "model_id": "3235e3a4e7904a0cb6fee3141ec90c5d",
       "version_major": 2,
       "version_minor": 0
      },
      "text/html": [
       "<p>Failed to display Jupyter Widget of type <code>HBox</code>.</p>\n",
       "<p>\n",
       "  If you're reading this message in the Jupyter Notebook or JupyterLab Notebook, it may mean\n",
       "  that the widgets JavaScript is still loading. If this message persists, it\n",
       "  likely means that the widgets JavaScript library is either not installed or\n",
       "  not enabled. See the <a href=\"https://ipywidgets.readthedocs.io/en/stable/user_install.html\">Jupyter\n",
       "  Widgets Documentation</a> for setup instructions.\n",
       "</p>\n",
       "<p>\n",
       "  If you're reading this message in another frontend (for example, a static\n",
       "  rendering on GitHub or <a href=\"https://nbviewer.jupyter.org/\">NBViewer</a>),\n",
       "  it may mean that your frontend doesn't currently support widgets.\n",
       "</p>\n"
      ],
      "text/plain": [
       "HBox(children=(IntProgress(value=0, max=1306), HTML(value='')))"
      ]
     },
     "metadata": {},
     "output_type": "display_data"
    },
    {
     "name": "stdout",
     "output_type": "stream",
     "text": [
      "\n"
     ]
    },
    {
     "data": {
      "application/vnd.jupyter.widget-view+json": {
       "model_id": "06f75c025615457894e29a580ea92ed3",
       "version_major": 2,
       "version_minor": 0
      },
      "text/html": [
       "<p>Failed to display Jupyter Widget of type <code>HBox</code>.</p>\n",
       "<p>\n",
       "  If you're reading this message in the Jupyter Notebook or JupyterLab Notebook, it may mean\n",
       "  that the widgets JavaScript is still loading. If this message persists, it\n",
       "  likely means that the widgets JavaScript library is either not installed or\n",
       "  not enabled. See the <a href=\"https://ipywidgets.readthedocs.io/en/stable/user_install.html\">Jupyter\n",
       "  Widgets Documentation</a> for setup instructions.\n",
       "</p>\n",
       "<p>\n",
       "  If you're reading this message in another frontend (for example, a static\n",
       "  rendering on GitHub or <a href=\"https://nbviewer.jupyter.org/\">NBViewer</a>),\n",
       "  it may mean that your frontend doesn't currently support widgets.\n",
       "</p>\n"
      ],
      "text/plain": [
       "HBox(children=(IntProgress(value=0, max=1306), HTML(value='')))"
      ]
     },
     "metadata": {},
     "output_type": "display_data"
    },
    {
     "name": "stdout",
     "output_type": "stream",
     "text": [
      "\n",
      "By sent:  74.22765934338975 \n",
      "Total:  74.21570637687103\n"
     ]
    }
   ],
   "source": [
    "pred_g = predict(X_test_g, Y_test_g, MAX_SEQLEN_g, tag2index_g, model_lstm)\n",
    "acc_lstm[200] = acc_manual(pred_g)"
   ]
  },
  {
   "cell_type": "code",
   "execution_count": null,
   "metadata": {},
   "outputs": [],
   "source": []
  },
  {
   "cell_type": "code",
   "execution_count": 409,
   "metadata": {},
   "outputs": [
    {
     "name": "stdout",
     "output_type": "stream",
     "text": [
      "_________________________________________________________________\n",
      "Layer (type)                 Output Shape              Param #   \n",
      "=================================================================\n",
      "embedding_36 (Embedding)     (None, 26, 300)           9971700   \n",
      "_________________________________________________________________\n",
      "lstm_20 (LSTM)               (None, 26, 64)            93440     \n",
      "_________________________________________________________________\n",
      "dense_36 (Dense)             (None, 26, 16)            1040      \n",
      "_________________________________________________________________\n",
      "activation_36 (Activation)   (None, 26, 16)            0         \n",
      "=================================================================\n",
      "Total params: 10,066,180\n",
      "Trainable params: 10,066,180\n",
      "Non-trainable params: 0\n",
      "_________________________________________________________________\n",
      "None\n"
     ]
    }
   ],
   "source": [
    "model_lstm = make_model(S_MAX_FEATURES_g, T_MAX_FEATURES_g, MAX_SEQLEN_g, LSTM_flag = True, EMBEDDING_SIZE = 300)"
   ]
  },
  {
   "cell_type": "code",
   "execution_count": 411,
   "metadata": {},
   "outputs": [
    {
     "name": "stdout",
     "output_type": "stream",
     "text": [
      "Train on 9180 samples, validate on 2296 samples\n",
      "Epoch 1/10\n",
      " - 46s - loss: 1.4984 - acc: 0.5202 - val_loss: 1.3553 - val_acc: 0.5331\n",
      "Epoch 2/10\n",
      " - 45s - loss: 1.2586 - acc: 0.5758 - val_loss: 1.1606 - val_acc: 0.6393\n",
      "Epoch 3/10\n",
      " - 45s - loss: 1.0580 - acc: 0.6747 - val_loss: 0.9477 - val_acc: 0.7161\n",
      "Epoch 4/10\n",
      " - 45s - loss: 0.8116 - acc: 0.7522 - val_loss: 0.6768 - val_acc: 0.8043\n",
      "Epoch 5/10\n",
      " - 45s - loss: 0.5264 - acc: 0.8778 - val_loss: 0.4214 - val_acc: 0.9023\n",
      "Epoch 6/10\n",
      " - 45s - loss: 0.2963 - acc: 0.9436 - val_loss: 0.2858 - val_acc: 0.9231\n",
      "Epoch 7/10\n",
      " - 45s - loss: 0.1795 - acc: 0.9628 - val_loss: 0.2356 - val_acc: 0.9273\n",
      "Epoch 8/10\n",
      " - 45s - loss: 0.1300 - acc: 0.9674 - val_loss: 0.2145 - val_acc: 0.9291\n",
      "Epoch 9/10\n",
      " - 45s - loss: 0.1067 - acc: 0.9699 - val_loss: 0.2031 - val_acc: 0.9314\n",
      "Epoch 10/10\n",
      " - 45s - loss: 0.0923 - acc: 0.9715 - val_loss: 0.1962 - val_acc: 0.9325\n"
     ]
    },
    {
     "data": {
      "text/plain": [
       "<keras.callbacks.History at 0x6c1387cac8>"
      ]
     },
     "execution_count": 411,
     "metadata": {},
     "output_type": "execute_result"
    }
   ],
   "source": [
    "model_lstm.fit(X_train_g, Y_train_g, batch_size=BATCH_SIZE, \n",
    "                    epochs=NUM_EPOCHS,\n",
    "                    validation_data=(X_val_g, Y_val_g), verbose=2)"
   ]
  },
  {
   "cell_type": "code",
   "execution_count": 413,
   "metadata": {},
   "outputs": [
    {
     "name": "stdout",
     "output_type": "stream",
     "text": [
      "1306/1306 [==============================] - ETA:  - ETA:  - ETA:  - ETA:  - ETA:  - ETA:  - ETA:  - ETA:  - ETA:  - ETA:  - ETA:  - ETA:  - ETA:  - ETA:  - ETA:  - ETA:  - ETA:  - ETA:  - ETA:  - ETA:  - ETA:  - ETA:  - ETA:  - ETA:  - ETA:  - ETA:  - ETA:  - ETA:  - ETA:  - ETA:  - ETA:  - ETA:  - ETA:  - ETA:  - ETA:  - ETA:  - ETA:  - ETA:  - ETA:  - ETA:  - 4s 3ms/step\n"
     ]
    }
   ],
   "source": [
    "score, acc = model_lstm.evaluate(X_test_g, to_categorical(Y_test_g, num_classes=len(tag2index_g)))"
   ]
  },
  {
   "cell_type": "code",
   "execution_count": 414,
   "metadata": {},
   "outputs": [
    {
     "name": "stdout",
     "output_type": "stream",
     "text": [
      "Test score: 0.386, accuracy: 86.017\n"
     ]
    }
   ],
   "source": [
    "print(\"Test score: %.3f, accuracy: %.3f\" % (score, acc*100))"
   ]
  },
  {
   "cell_type": "code",
   "execution_count": 415,
   "metadata": {},
   "outputs": [
    {
     "data": {
      "application/vnd.jupyter.widget-view+json": {
       "model_id": "e7557bfd52824800ad807fc582a302e9",
       "version_major": 2,
       "version_minor": 0
      },
      "text/html": [
       "<p>Failed to display Jupyter Widget of type <code>HBox</code>.</p>\n",
       "<p>\n",
       "  If you're reading this message in the Jupyter Notebook or JupyterLab Notebook, it may mean\n",
       "  that the widgets JavaScript is still loading. If this message persists, it\n",
       "  likely means that the widgets JavaScript library is either not installed or\n",
       "  not enabled. See the <a href=\"https://ipywidgets.readthedocs.io/en/stable/user_install.html\">Jupyter\n",
       "  Widgets Documentation</a> for setup instructions.\n",
       "</p>\n",
       "<p>\n",
       "  If you're reading this message in another frontend (for example, a static\n",
       "  rendering on GitHub or <a href=\"https://nbviewer.jupyter.org/\">NBViewer</a>),\n",
       "  it may mean that your frontend doesn't currently support widgets.\n",
       "</p>\n"
      ],
      "text/plain": [
       "HBox(children=(IntProgress(value=0, max=1306), HTML(value='')))"
      ]
     },
     "metadata": {},
     "output_type": "display_data"
    },
    {
     "name": "stdout",
     "output_type": "stream",
     "text": [
      "\n"
     ]
    },
    {
     "data": {
      "application/vnd.jupyter.widget-view+json": {
       "model_id": "24404bd3198a403b8b0b3129e763d664",
       "version_major": 2,
       "version_minor": 0
      },
      "text/html": [
       "<p>Failed to display Jupyter Widget of type <code>HBox</code>.</p>\n",
       "<p>\n",
       "  If you're reading this message in the Jupyter Notebook or JupyterLab Notebook, it may mean\n",
       "  that the widgets JavaScript is still loading. If this message persists, it\n",
       "  likely means that the widgets JavaScript library is either not installed or\n",
       "  not enabled. See the <a href=\"https://ipywidgets.readthedocs.io/en/stable/user_install.html\">Jupyter\n",
       "  Widgets Documentation</a> for setup instructions.\n",
       "</p>\n",
       "<p>\n",
       "  If you're reading this message in another frontend (for example, a static\n",
       "  rendering on GitHub or <a href=\"https://nbviewer.jupyter.org/\">NBViewer</a>),\n",
       "  it may mean that your frontend doesn't currently support widgets.\n",
       "</p>\n"
      ],
      "text/plain": [
       "HBox(children=(IntProgress(value=0, max=1306), HTML(value='')))"
      ]
     },
     "metadata": {},
     "output_type": "display_data"
    },
    {
     "name": "stdout",
     "output_type": "stream",
     "text": [
      "\n",
      "By sent:  75.48620169260356 \n",
      "Total:  75.67276641550053\n"
     ]
    }
   ],
   "source": [
    "pred_g = predict(X_test_g, Y_test_g, MAX_SEQLEN_g, tag2index_g, model_lstm)\n",
    "acc_lstm[300] = acc_manual(pred_g)"
   ]
  },
  {
   "cell_type": "markdown",
   "metadata": {},
   "source": [
    "#### SimpleRNN"
   ]
  },
  {
   "cell_type": "code",
   "execution_count": 419,
   "metadata": {},
   "outputs": [],
   "source": [
    "acc_simp = {}"
   ]
  },
  {
   "cell_type": "code",
   "execution_count": 420,
   "metadata": {},
   "outputs": [
    {
     "name": "stdout",
     "output_type": "stream",
     "text": [
      "_________________________________________________________________\n",
      "Layer (type)                 Output Shape              Param #   \n",
      "=================================================================\n",
      "embedding_37 (Embedding)     (None, 26, 100)           3323900   \n",
      "_________________________________________________________________\n",
      "simple_rnn_13 (SimpleRNN)    (None, 26, 64)            10560     \n",
      "_________________________________________________________________\n",
      "dense_37 (Dense)             (None, 26, 16)            1040      \n",
      "_________________________________________________________________\n",
      "activation_37 (Activation)   (None, 26, 16)            0         \n",
      "=================================================================\n",
      "Total params: 3,335,500\n",
      "Trainable params: 3,335,500\n",
      "Non-trainable params: 0\n",
      "_________________________________________________________________\n",
      "None\n"
     ]
    }
   ],
   "source": [
    "model_simple = make_model(S_MAX_FEATURES_g, T_MAX_FEATURES_g, MAX_SEQLEN_g, Simple = True, EMBEDDING_SIZE = 100)"
   ]
  },
  {
   "cell_type": "code",
   "execution_count": 422,
   "metadata": {},
   "outputs": [
    {
     "name": "stdout",
     "output_type": "stream",
     "text": [
      "Train on 9180 samples, validate on 2296 samples\n",
      "Epoch 1/10\n",
      " - 12s - loss: 1.6397 - acc: 0.5188 - val_loss: 1.3437 - val_acc: 0.5311\n",
      "Epoch 2/10\n",
      " - 11s - loss: 1.2604 - acc: 0.6058 - val_loss: 1.0976 - val_acc: 0.6878\n",
      "Epoch 3/10\n",
      " - 11s - loss: 1.0320 - acc: 0.7057 - val_loss: 0.9142 - val_acc: 0.7432\n",
      "Epoch 4/10\n",
      " - 10s - loss: 0.8391 - acc: 0.7660 - val_loss: 0.7303 - val_acc: 0.7924\n",
      "Epoch 5/10\n",
      " - 11s - loss: 0.6523 - acc: 0.8268 - val_loss: 0.5575 - val_acc: 0.8452\n",
      "Epoch 6/10\n",
      " - 10s - loss: 0.4787 - acc: 0.8843 - val_loss: 0.4147 - val_acc: 0.8882\n",
      "Epoch 7/10\n",
      " - 10s - loss: 0.3374 - acc: 0.9271 - val_loss: 0.3173 - val_acc: 0.9141\n",
      "Epoch 8/10\n",
      " - 10s - loss: 0.2358 - acc: 0.9520 - val_loss: 0.2596 - val_acc: 0.9234\n",
      "Epoch 9/10\n",
      " - 10s - loss: 0.1734 - acc: 0.9619 - val_loss: 0.2281 - val_acc: 0.9272\n",
      "Epoch 10/10\n",
      " - 10s - loss: 0.1361 - acc: 0.9661 - val_loss: 0.2117 - val_acc: 0.9297\n"
     ]
    },
    {
     "data": {
      "text/plain": [
       "<keras.callbacks.History at 0x6c15cf4470>"
      ]
     },
     "execution_count": 422,
     "metadata": {},
     "output_type": "execute_result"
    }
   ],
   "source": [
    "model_simple.fit(X_train_g, Y_train_g, batch_size=BATCH_SIZE, \n",
    "                    epochs=NUM_EPOCHS,\n",
    "                    validation_data=(X_val_g, Y_val_g), verbose=2)"
   ]
  },
  {
   "cell_type": "code",
   "execution_count": 424,
   "metadata": {},
   "outputs": [
    {
     "name": "stdout",
     "output_type": "stream",
     "text": [
      "1306/1306 [==============================] - ETA:  - ETA:  - ETA:  - ETA:  - ETA:  - ETA:  - ETA:  - ETA:  - 0s 331us/step\n"
     ]
    }
   ],
   "source": [
    "score, acc = model_simple.evaluate(X_test_g, to_categorical(Y_test_g, num_classes=len(tag2index_g)))"
   ]
  },
  {
   "cell_type": "code",
   "execution_count": 425,
   "metadata": {},
   "outputs": [
    {
     "name": "stdout",
     "output_type": "stream",
     "text": [
      "Test score: 0.418, accuracy: 84.880\n"
     ]
    }
   ],
   "source": [
    "print(\"Test score: %.3f, accuracy: %.3f\" % (score, acc*100))"
   ]
  },
  {
   "cell_type": "code",
   "execution_count": 429,
   "metadata": {},
   "outputs": [
    {
     "data": {
      "application/vnd.jupyter.widget-view+json": {
       "model_id": "380249e048a34b888e2d2972f982081e",
       "version_major": 2,
       "version_minor": 0
      },
      "text/html": [
       "<p>Failed to display Jupyter Widget of type <code>HBox</code>.</p>\n",
       "<p>\n",
       "  If you're reading this message in the Jupyter Notebook or JupyterLab Notebook, it may mean\n",
       "  that the widgets JavaScript is still loading. If this message persists, it\n",
       "  likely means that the widgets JavaScript library is either not installed or\n",
       "  not enabled. See the <a href=\"https://ipywidgets.readthedocs.io/en/stable/user_install.html\">Jupyter\n",
       "  Widgets Documentation</a> for setup instructions.\n",
       "</p>\n",
       "<p>\n",
       "  If you're reading this message in another frontend (for example, a static\n",
       "  rendering on GitHub or <a href=\"https://nbviewer.jupyter.org/\">NBViewer</a>),\n",
       "  it may mean that your frontend doesn't currently support widgets.\n",
       "</p>\n"
      ],
      "text/plain": [
       "HBox(children=(IntProgress(value=0, max=1306), HTML(value='')))"
      ]
     },
     "metadata": {},
     "output_type": "display_data"
    },
    {
     "name": "stdout",
     "output_type": "stream",
     "text": [
      "\n"
     ]
    },
    {
     "data": {
      "application/vnd.jupyter.widget-view+json": {
       "model_id": "736336ac0ecf41429a9a0ac4d8a1b113",
       "version_major": 2,
       "version_minor": 0
      },
      "text/html": [
       "<p>Failed to display Jupyter Widget of type <code>HBox</code>.</p>\n",
       "<p>\n",
       "  If you're reading this message in the Jupyter Notebook or JupyterLab Notebook, it may mean\n",
       "  that the widgets JavaScript is still loading. If this message persists, it\n",
       "  likely means that the widgets JavaScript library is either not installed or\n",
       "  not enabled. See the <a href=\"https://ipywidgets.readthedocs.io/en/stable/user_install.html\">Jupyter\n",
       "  Widgets Documentation</a> for setup instructions.\n",
       "</p>\n",
       "<p>\n",
       "  If you're reading this message in another frontend (for example, a static\n",
       "  rendering on GitHub or <a href=\"https://nbviewer.jupyter.org/\">NBViewer</a>),\n",
       "  it may mean that your frontend doesn't currently support widgets.\n",
       "</p>\n"
      ],
      "text/plain": [
       "HBox(children=(IntProgress(value=0, max=1306), HTML(value='')))"
      ]
     },
     "metadata": {},
     "output_type": "display_data"
    },
    {
     "name": "stdout",
     "output_type": "stream",
     "text": [
      "\n",
      "By sent:  72.97772838262233 \n",
      "Total:  73.57435897435897\n"
     ]
    }
   ],
   "source": [
    "pred_g = predict(X_test_g, Y_test_g, MAX_SEQLEN_g, tag2index_g, model_simple)\n",
    "acc_simp[100] = acc_manual(pred_g)"
   ]
  },
  {
   "cell_type": "code",
   "execution_count": null,
   "metadata": {},
   "outputs": [],
   "source": []
  },
  {
   "cell_type": "code",
   "execution_count": 434,
   "metadata": {},
   "outputs": [
    {
     "name": "stdout",
     "output_type": "stream",
     "text": [
      "_________________________________________________________________\n",
      "Layer (type)                 Output Shape              Param #   \n",
      "=================================================================\n",
      "embedding_39 (Embedding)     (None, 26, 200)           6647800   \n",
      "_________________________________________________________________\n",
      "simple_rnn_15 (SimpleRNN)    (None, 26, 64)            16960     \n",
      "_________________________________________________________________\n",
      "dense_39 (Dense)             (None, 26, 16)            1040      \n",
      "_________________________________________________________________\n",
      "activation_39 (Activation)   (None, 26, 16)            0         \n",
      "=================================================================\n",
      "Total params: 6,665,800\n",
      "Trainable params: 6,665,800\n",
      "Non-trainable params: 0\n",
      "_________________________________________________________________\n",
      "None\n"
     ]
    }
   ],
   "source": [
    "model_simple = make_model(S_MAX_FEATURES_g, T_MAX_FEATURES_g, MAX_SEQLEN_g, Simple = True, EMBEDDING_SIZE = 200)"
   ]
  },
  {
   "cell_type": "code",
   "execution_count": 435,
   "metadata": {},
   "outputs": [
    {
     "name": "stdout",
     "output_type": "stream",
     "text": [
      "Train on 9180 samples, validate on 2296 samples\n",
      "Epoch 1/10\n",
      " - 23s - loss: 1.8687 - acc: 0.4697 - val_loss: 1.3813 - val_acc: 0.5616\n",
      "Epoch 2/10\n",
      " - 15s - loss: 1.2596 - acc: 0.6400 - val_loss: 1.0671 - val_acc: 0.7118\n",
      "Epoch 3/10\n",
      " - 16s - loss: 0.9778 - acc: 0.7340 - val_loss: 0.8548 - val_acc: 0.7558\n",
      "Epoch 4/10\n",
      " - 15s - loss: 0.7854 - acc: 0.7837 - val_loss: 0.6876 - val_acc: 0.8059\n",
      "Epoch 5/10\n",
      " - 15s - loss: 0.6021 - acc: 0.8491 - val_loss: 0.5126 - val_acc: 0.8689\n",
      "Epoch 6/10\n",
      " - 15s - loss: 0.4160 - acc: 0.9094 - val_loss: 0.3649 - val_acc: 0.9087\n",
      "Epoch 7/10\n",
      " - 15s - loss: 0.2721 - acc: 0.9465 - val_loss: 0.2769 - val_acc: 0.9235\n",
      "Epoch 8/10\n",
      " - 15s - loss: 0.1842 - acc: 0.9614 - val_loss: 0.2340 - val_acc: 0.9274\n",
      "Epoch 9/10\n",
      " - 15s - loss: 0.1378 - acc: 0.9666 - val_loss: 0.2136 - val_acc: 0.9301\n",
      "Epoch 10/10\n",
      " - 15s - loss: 0.1134 - acc: 0.9687 - val_loss: 0.2033 - val_acc: 0.9307\n"
     ]
    },
    {
     "data": {
      "text/plain": [
       "<keras.callbacks.History at 0x6c17acf3c8>"
      ]
     },
     "execution_count": 435,
     "metadata": {},
     "output_type": "execute_result"
    }
   ],
   "source": [
    "model_simple.fit(X_train_g, Y_train_g, batch_size=BATCH_SIZE, \n",
    "                    epochs=NUM_EPOCHS,\n",
    "                    validation_data=(X_val_g, Y_val_g), verbose=2)"
   ]
  },
  {
   "cell_type": "code",
   "execution_count": 437,
   "metadata": {},
   "outputs": [
    {
     "name": "stdout",
     "output_type": "stream",
     "text": [
      "1306/1306 [==============================] - ETA:  - ETA:  - ETA:  - ETA:  - ETA:  - ETA:  - ETA:  - ETA:  - ETA:  - ETA:  - ETA:  - ETA:  - ETA:  - ETA:  - 1s 580us/step\n"
     ]
    }
   ],
   "source": [
    "score, acc = model_simple.evaluate(X_test_g, to_categorical(Y_test_g, num_classes=len(tag2index_g)))"
   ]
  },
  {
   "cell_type": "code",
   "execution_count": 438,
   "metadata": {},
   "outputs": [
    {
     "name": "stdout",
     "output_type": "stream",
     "text": [
      "Test score: 0.381, accuracy: 85.319\n"
     ]
    }
   ],
   "source": [
    "print(\"Test score: %.3f, accuracy: %.3f\" % (score, acc*100))"
   ]
  },
  {
   "cell_type": "code",
   "execution_count": 439,
   "metadata": {},
   "outputs": [
    {
     "data": {
      "application/vnd.jupyter.widget-view+json": {
       "model_id": "7271f3afa1cb4bc9adfa9bf49adc3adb",
       "version_major": 2,
       "version_minor": 0
      },
      "text/html": [
       "<p>Failed to display Jupyter Widget of type <code>HBox</code>.</p>\n",
       "<p>\n",
       "  If you're reading this message in the Jupyter Notebook or JupyterLab Notebook, it may mean\n",
       "  that the widgets JavaScript is still loading. If this message persists, it\n",
       "  likely means that the widgets JavaScript library is either not installed or\n",
       "  not enabled. See the <a href=\"https://ipywidgets.readthedocs.io/en/stable/user_install.html\">Jupyter\n",
       "  Widgets Documentation</a> for setup instructions.\n",
       "</p>\n",
       "<p>\n",
       "  If you're reading this message in another frontend (for example, a static\n",
       "  rendering on GitHub or <a href=\"https://nbviewer.jupyter.org/\">NBViewer</a>),\n",
       "  it may mean that your frontend doesn't currently support widgets.\n",
       "</p>\n"
      ],
      "text/plain": [
       "HBox(children=(IntProgress(value=0, max=1306), HTML(value='')))"
      ]
     },
     "metadata": {},
     "output_type": "display_data"
    },
    {
     "name": "stdout",
     "output_type": "stream",
     "text": [
      "\n"
     ]
    },
    {
     "data": {
      "application/vnd.jupyter.widget-view+json": {
       "model_id": "76ad8860a53f42b995ae459350d93ff5",
       "version_major": 2,
       "version_minor": 0
      },
      "text/html": [
       "<p>Failed to display Jupyter Widget of type <code>HBox</code>.</p>\n",
       "<p>\n",
       "  If you're reading this message in the Jupyter Notebook or JupyterLab Notebook, it may mean\n",
       "  that the widgets JavaScript is still loading. If this message persists, it\n",
       "  likely means that the widgets JavaScript library is either not installed or\n",
       "  not enabled. See the <a href=\"https://ipywidgets.readthedocs.io/en/stable/user_install.html\">Jupyter\n",
       "  Widgets Documentation</a> for setup instructions.\n",
       "</p>\n",
       "<p>\n",
       "  If you're reading this message in another frontend (for example, a static\n",
       "  rendering on GitHub or <a href=\"https://nbviewer.jupyter.org/\">NBViewer</a>),\n",
       "  it may mean that your frontend doesn't currently support widgets.\n",
       "</p>\n"
      ],
      "text/plain": [
       "HBox(children=(IntProgress(value=0, max=1306), HTML(value='')))"
      ]
     },
     "metadata": {},
     "output_type": "display_data"
    },
    {
     "name": "stdout",
     "output_type": "stream",
     "text": [
      "\n",
      "By sent:  73.89856415463399 \n",
      "Total:  74.3100441161383\n"
     ]
    }
   ],
   "source": [
    "pred_g = predict(X_test_g, Y_test_g, MAX_SEQLEN_g, tag2index_g, model_simple)\n",
    "acc_simp[200] = acc_manual(pred_g)"
   ]
  },
  {
   "cell_type": "code",
   "execution_count": null,
   "metadata": {},
   "outputs": [],
   "source": []
  },
  {
   "cell_type": "code",
   "execution_count": 440,
   "metadata": {},
   "outputs": [
    {
     "name": "stdout",
     "output_type": "stream",
     "text": [
      "_________________________________________________________________\n",
      "Layer (type)                 Output Shape              Param #   \n",
      "=================================================================\n",
      "embedding_40 (Embedding)     (None, 26, 300)           9971700   \n",
      "_________________________________________________________________\n",
      "simple_rnn_16 (SimpleRNN)    (None, 26, 64)            23360     \n",
      "_________________________________________________________________\n",
      "dense_40 (Dense)             (None, 26, 16)            1040      \n",
      "_________________________________________________________________\n",
      "activation_40 (Activation)   (None, 26, 16)            0         \n",
      "=================================================================\n",
      "Total params: 9,996,100\n",
      "Trainable params: 9,996,100\n",
      "Non-trainable params: 0\n",
      "_________________________________________________________________\n",
      "None\n"
     ]
    }
   ],
   "source": [
    "model_simple = make_model(S_MAX_FEATURES_g, T_MAX_FEATURES_g, MAX_SEQLEN_g, Simple = True, EMBEDDING_SIZE = 300)"
   ]
  },
  {
   "cell_type": "code",
   "execution_count": 442,
   "metadata": {},
   "outputs": [
    {
     "name": "stdout",
     "output_type": "stream",
     "text": [
      "Train on 9180 samples, validate on 2296 samples\n",
      "Epoch 1/10\n",
      " - 21s - loss: 1.4889 - acc: 0.5782 - val_loss: 1.1566 - val_acc: 0.7075\n",
      "Epoch 2/10\n",
      " - 20s - loss: 1.0504 - acc: 0.7140 - val_loss: 0.8957 - val_acc: 0.7506\n",
      "Epoch 3/10\n",
      " - 19s - loss: 0.7987 - acc: 0.7903 - val_loss: 0.6766 - val_acc: 0.8195\n",
      "Epoch 4/10\n",
      " - 20s - loss: 0.5633 - acc: 0.8760 - val_loss: 0.4565 - val_acc: 0.8928\n",
      "Epoch 5/10\n",
      " - 21s - loss: 0.3433 - acc: 0.9365 - val_loss: 0.3091 - val_acc: 0.9204\n",
      "Epoch 6/10\n",
      " - 21s - loss: 0.2079 - acc: 0.9592 - val_loss: 0.2455 - val_acc: 0.9269\n",
      "Epoch 7/10\n",
      " - 20s - loss: 0.1438 - acc: 0.9661 - val_loss: 0.2189 - val_acc: 0.9297\n",
      "Epoch 8/10\n",
      " - 20s - loss: 0.1134 - acc: 0.9691 - val_loss: 0.2069 - val_acc: 0.9321\n",
      "Epoch 9/10\n",
      " - 20s - loss: 0.0971 - acc: 0.9709 - val_loss: 0.1996 - val_acc: 0.9326\n",
      "Epoch 10/10\n",
      " - 21s - loss: 0.0865 - acc: 0.9724 - val_loss: 0.1959 - val_acc: 0.9332\n"
     ]
    },
    {
     "data": {
      "text/plain": [
       "<keras.callbacks.History at 0x6c1ae5af28>"
      ]
     },
     "execution_count": 442,
     "metadata": {},
     "output_type": "execute_result"
    }
   ],
   "source": [
    "model_simple.fit(X_train_g, Y_train_g, batch_size=BATCH_SIZE, \n",
    "                    epochs=NUM_EPOCHS,\n",
    "                    validation_data=(X_val_g, Y_val_g), verbose=2)"
   ]
  },
  {
   "cell_type": "code",
   "execution_count": 443,
   "metadata": {},
   "outputs": [
    {
     "name": "stdout",
     "output_type": "stream",
     "text": [
      "1306/1306 [==============================] - ETA:  - ETA:  - ETA:  - ETA:  - ETA:  - ETA:  - ETA:  - ETA:  - ETA:  - ETA:  - ETA:  - ETA:  - ETA:  - ETA:  - ETA:  - ETA:  - ETA:  - ETA:  - ETA:  - ETA:  - 2s 1ms/step\n"
     ]
    }
   ],
   "source": [
    "score, acc = model_simple.evaluate(X_test_g, to_categorical(Y_test_g, num_classes=len(tag2index_g)))"
   ]
  },
  {
   "cell_type": "code",
   "execution_count": 444,
   "metadata": {},
   "outputs": [
    {
     "name": "stdout",
     "output_type": "stream",
     "text": [
      "Test score: 0.391, accuracy: 85.770\n"
     ]
    }
   ],
   "source": [
    "print(\"Test score: %.3f, accuracy: %.3f\" % (score, acc*100))"
   ]
  },
  {
   "cell_type": "code",
   "execution_count": 445,
   "metadata": {},
   "outputs": [
    {
     "data": {
      "application/vnd.jupyter.widget-view+json": {
       "model_id": "f11ac032f7e34490a9aaf2c009d00f85",
       "version_major": 2,
       "version_minor": 0
      },
      "text/html": [
       "<p>Failed to display Jupyter Widget of type <code>HBox</code>.</p>\n",
       "<p>\n",
       "  If you're reading this message in the Jupyter Notebook or JupyterLab Notebook, it may mean\n",
       "  that the widgets JavaScript is still loading. If this message persists, it\n",
       "  likely means that the widgets JavaScript library is either not installed or\n",
       "  not enabled. See the <a href=\"https://ipywidgets.readthedocs.io/en/stable/user_install.html\">Jupyter\n",
       "  Widgets Documentation</a> for setup instructions.\n",
       "</p>\n",
       "<p>\n",
       "  If you're reading this message in another frontend (for example, a static\n",
       "  rendering on GitHub or <a href=\"https://nbviewer.jupyter.org/\">NBViewer</a>),\n",
       "  it may mean that your frontend doesn't currently support widgets.\n",
       "</p>\n"
      ],
      "text/plain": [
       "HBox(children=(IntProgress(value=0, max=1306), HTML(value='')))"
      ]
     },
     "metadata": {},
     "output_type": "display_data"
    },
    {
     "name": "stdout",
     "output_type": "stream",
     "text": [
      "\n"
     ]
    },
    {
     "data": {
      "application/vnd.jupyter.widget-view+json": {
       "model_id": "49ea2f19f3fb44c0a94cadcd5f4095de",
       "version_major": 2,
       "version_minor": 0
      },
      "text/html": [
       "<p>Failed to display Jupyter Widget of type <code>HBox</code>.</p>\n",
       "<p>\n",
       "  If you're reading this message in the Jupyter Notebook or JupyterLab Notebook, it may mean\n",
       "  that the widgets JavaScript is still loading. If this message persists, it\n",
       "  likely means that the widgets JavaScript library is either not installed or\n",
       "  not enabled. See the <a href=\"https://ipywidgets.readthedocs.io/en/stable/user_install.html\">Jupyter\n",
       "  Widgets Documentation</a> for setup instructions.\n",
       "</p>\n",
       "<p>\n",
       "  If you're reading this message in another frontend (for example, a static\n",
       "  rendering on GitHub or <a href=\"https://nbviewer.jupyter.org/\">NBViewer</a>),\n",
       "  it may mean that your frontend doesn't currently support widgets.\n",
       "</p>\n"
      ],
      "text/plain": [
       "HBox(children=(IntProgress(value=0, max=1306), HTML(value='')))"
      ]
     },
     "metadata": {},
     "output_type": "display_data"
    },
    {
     "name": "stdout",
     "output_type": "stream",
     "text": [
      "\n",
      "By sent:  74.56628610989655 \n",
      "Total:  74.8729792147806\n"
     ]
    }
   ],
   "source": [
    "pred_g = predict(X_test_g, Y_test_g, MAX_SEQLEN_g, tag2index_g, model_simple)\n",
    "acc_simp[300] = acc_manual(pred_g)"
   ]
  },
  {
   "cell_type": "markdown",
   "metadata": {},
   "source": [
    "#### Bidirectional"
   ]
  },
  {
   "cell_type": "code",
   "execution_count": 57,
   "metadata": {},
   "outputs": [],
   "source": [
    "acc_bi = {}"
   ]
  },
  {
   "cell_type": "code",
   "execution_count": 58,
   "metadata": {},
   "outputs": [
    {
     "name": "stdout",
     "output_type": "stream",
     "text": [
      "_________________________________________________________________\n",
      "Layer (type)                 Output Shape              Param #   \n",
      "=================================================================\n",
      "embedding_4 (Embedding)      (None, 26, 100)           3323900   \n",
      "_________________________________________________________________\n",
      "bidirectional_1 (Bidirection (None, 26, 128)           84480     \n",
      "_________________________________________________________________\n",
      "time_distributed_1 (TimeDist (None, 26, 16)            2064      \n",
      "_________________________________________________________________\n",
      "activation_4 (Activation)    (None, 26, 16)            0         \n",
      "=================================================================\n",
      "Total params: 3,410,444\n",
      "Trainable params: 3,410,444\n",
      "Non-trainable params: 0\n",
      "_________________________________________________________________\n",
      "None\n"
     ]
    }
   ],
   "source": [
    "model_bi = make_model(S_MAX_FEATURES_g, T_MAX_FEATURES_g, MAX_SEQLEN_g, LSTM_Bi = True, EMBEDDING_SIZE = 100)"
   ]
  },
  {
   "cell_type": "code",
   "execution_count": 59,
   "metadata": {},
   "outputs": [
    {
     "name": "stdout",
     "output_type": "stream",
     "text": [
      "Train on 9180 samples, validate on 2296 samples\n",
      "Epoch 1/10\n",
      " - 18s - loss: 2.0259 - acc: 0.4687 - val_loss: 1.3997 - val_acc: 0.5517\n",
      "Epoch 2/10\n",
      " - 14s - loss: 1.2678 - acc: 0.5811 - val_loss: 1.1644 - val_acc: 0.6081\n",
      "Epoch 3/10\n",
      " - 15s - loss: 1.1136 - acc: 0.6111 - val_loss: 1.0673 - val_acc: 0.6251\n",
      "Epoch 4/10\n",
      " - 14s - loss: 1.0159 - acc: 0.6470 - val_loss: 0.9467 - val_acc: 0.6991\n",
      "Epoch 5/10\n",
      " - 15s - loss: 0.8538 - acc: 0.7304 - val_loss: 0.7497 - val_acc: 0.7687\n",
      "Epoch 6/10\n",
      " - 17s - loss: 0.6416 - acc: 0.8168 - val_loss: 0.5372 - val_acc: 0.8571\n",
      "Epoch 7/10\n",
      " - 18s - loss: 0.4279 - acc: 0.8992 - val_loss: 0.3616 - val_acc: 0.9048\n",
      "Epoch 8/10\n",
      " - 16s - loss: 0.2603 - acc: 0.9482 - val_loss: 0.2581 - val_acc: 0.9217\n",
      "Epoch 9/10\n",
      " - 16s - loss: 0.1624 - acc: 0.9656 - val_loss: 0.2140 - val_acc: 0.9282\n",
      "Epoch 10/10\n",
      " - 16s - loss: 0.1176 - acc: 0.9714 - val_loss: 0.1947 - val_acc: 0.9301\n"
     ]
    },
    {
     "data": {
      "text/plain": [
       "<keras.callbacks.History at 0x1f183dfd68>"
      ]
     },
     "execution_count": 59,
     "metadata": {},
     "output_type": "execute_result"
    }
   ],
   "source": [
    "model_bi.fit(X_train_g, Y_train_g, batch_size=BATCH_SIZE, \n",
    "                    epochs=NUM_EPOCHS,\n",
    "                    validation_data=(X_val_g, Y_val_g), verbose=2)"
   ]
  },
  {
   "cell_type": "code",
   "execution_count": 60,
   "metadata": {},
   "outputs": [
    {
     "name": "stdout",
     "output_type": "stream",
     "text": [
      "1306/1306 [==============================] - ETA:  - ETA:  - ETA:  - ETA:  - ETA:  - ETA:  - ETA:  - ETA:  - ETA:  - ETA:  - ETA:  - ETA:  - ETA:  - ETA:  - 1s 584us/step\n"
     ]
    }
   ],
   "source": [
    "score, acc = model_bi.evaluate(X_test_g, to_categorical(Y_test_g, num_classes=len(tag2index_g)))"
   ]
  },
  {
   "cell_type": "code",
   "execution_count": 61,
   "metadata": {},
   "outputs": [
    {
     "name": "stdout",
     "output_type": "stream",
     "text": [
      "Test score: 0.390, accuracy: 83.844\n"
     ]
    }
   ],
   "source": [
    "print(\"Test score: %.3f, accuracy: %.3f\" % (score, acc*100))"
   ]
  },
  {
   "cell_type": "code",
   "execution_count": 62,
   "metadata": {},
   "outputs": [
    {
     "data": {
      "application/vnd.jupyter.widget-view+json": {
       "model_id": "280fefdff94a462ca7f11e9a47940042",
       "version_major": 2,
       "version_minor": 0
      },
      "text/html": [
       "<p>Failed to display Jupyter Widget of type <code>HBox</code>.</p>\n",
       "<p>\n",
       "  If you're reading this message in the Jupyter Notebook or JupyterLab Notebook, it may mean\n",
       "  that the widgets JavaScript is still loading. If this message persists, it\n",
       "  likely means that the widgets JavaScript library is either not installed or\n",
       "  not enabled. See the <a href=\"https://ipywidgets.readthedocs.io/en/stable/user_install.html\">Jupyter\n",
       "  Widgets Documentation</a> for setup instructions.\n",
       "</p>\n",
       "<p>\n",
       "  If you're reading this message in another frontend (for example, a static\n",
       "  rendering on GitHub or <a href=\"https://nbviewer.jupyter.org/\">NBViewer</a>),\n",
       "  it may mean that your frontend doesn't currently support widgets.\n",
       "</p>\n"
      ],
      "text/plain": [
       "HBox(children=(IntProgress(value=0, max=1306), HTML(value='')))"
      ]
     },
     "metadata": {},
     "output_type": "display_data"
    },
    {
     "name": "stdout",
     "output_type": "stream",
     "text": [
      "\n"
     ]
    },
    {
     "data": {
      "application/vnd.jupyter.widget-view+json": {
       "model_id": "bca5e10f9b1440429e1300d596f11007",
       "version_major": 2,
       "version_minor": 0
      },
      "text/html": [
       "<p>Failed to display Jupyter Widget of type <code>HBox</code>.</p>\n",
       "<p>\n",
       "  If you're reading this message in the Jupyter Notebook or JupyterLab Notebook, it may mean\n",
       "  that the widgets JavaScript is still loading. If this message persists, it\n",
       "  likely means that the widgets JavaScript library is either not installed or\n",
       "  not enabled. See the <a href=\"https://ipywidgets.readthedocs.io/en/stable/user_install.html\">Jupyter\n",
       "  Widgets Documentation</a> for setup instructions.\n",
       "</p>\n",
       "<p>\n",
       "  If you're reading this message in another frontend (for example, a static\n",
       "  rendering on GitHub or <a href=\"https://nbviewer.jupyter.org/\">NBViewer</a>),\n",
       "  it may mean that your frontend doesn't currently support widgets.\n",
       "</p>\n"
      ],
      "text/plain": [
       "HBox(children=(IntProgress(value=0, max=1306), HTML(value='')))"
      ]
     },
     "metadata": {},
     "output_type": "display_data"
    },
    {
     "name": "stdout",
     "output_type": "stream",
     "text": [
      "\n",
      "By sent:  71.52516861219344 \n",
      "Total:  71.91040032805371\n"
     ]
    }
   ],
   "source": [
    "pred_g = predict(X_test_g, Y_test_g, MAX_SEQLEN_g, tag2index_g, model_bi)\n",
    "acc_bi[100] = acc_manual(pred_g)"
   ]
  },
  {
   "cell_type": "code",
   "execution_count": null,
   "metadata": {},
   "outputs": [],
   "source": []
  },
  {
   "cell_type": "code",
   "execution_count": null,
   "metadata": {},
   "outputs": [],
   "source": []
  },
  {
   "cell_type": "code",
   "execution_count": 63,
   "metadata": {},
   "outputs": [
    {
     "name": "stdout",
     "output_type": "stream",
     "text": [
      "_________________________________________________________________\n",
      "Layer (type)                 Output Shape              Param #   \n",
      "=================================================================\n",
      "embedding_5 (Embedding)      (None, 26, 200)           6647800   \n",
      "_________________________________________________________________\n",
      "bidirectional_2 (Bidirection (None, 26, 128)           135680    \n",
      "_________________________________________________________________\n",
      "time_distributed_2 (TimeDist (None, 26, 16)            2064      \n",
      "_________________________________________________________________\n",
      "activation_5 (Activation)    (None, 26, 16)            0         \n",
      "=================================================================\n",
      "Total params: 6,785,544\n",
      "Trainable params: 6,785,544\n",
      "Non-trainable params: 0\n",
      "_________________________________________________________________\n",
      "None\n"
     ]
    }
   ],
   "source": [
    "model_bi = make_model(S_MAX_FEATURES_g, T_MAX_FEATURES_g, MAX_SEQLEN_g, LSTM_Bi = True, EMBEDDING_SIZE = 200)"
   ]
  },
  {
   "cell_type": "code",
   "execution_count": 64,
   "metadata": {},
   "outputs": [
    {
     "name": "stdout",
     "output_type": "stream",
     "text": [
      "Train on 9180 samples, validate on 2296 samples\n",
      "Epoch 1/10\n",
      " - 29s - loss: 1.8590 - acc: 0.5000 - val_loss: 1.2954 - val_acc: 0.5972\n",
      "Epoch 2/10\n",
      " - 24s - loss: 1.1719 - acc: 0.6121 - val_loss: 1.0727 - val_acc: 0.6416\n",
      "Epoch 3/10\n",
      " - 24s - loss: 0.9895 - acc: 0.6776 - val_loss: 0.8775 - val_acc: 0.7408\n",
      "Epoch 4/10\n",
      " - 25s - loss: 0.7478 - acc: 0.7848 - val_loss: 0.6028 - val_acc: 0.8384\n",
      "Epoch 5/10\n",
      " - 26s - loss: 0.4483 - acc: 0.8963 - val_loss: 0.3500 - val_acc: 0.9059\n",
      "Epoch 6/10\n",
      " - 26s - loss: 0.2338 - acc: 0.9510 - val_loss: 0.2388 - val_acc: 0.9254\n",
      "Epoch 7/10\n",
      " - 26s - loss: 0.1352 - acc: 0.9700 - val_loss: 0.1994 - val_acc: 0.9298\n",
      "Epoch 8/10\n",
      " - 26s - loss: 0.0956 - acc: 0.9748 - val_loss: 0.1828 - val_acc: 0.9330\n",
      "Epoch 9/10\n",
      " - 27s - loss: 0.0768 - acc: 0.9780 - val_loss: 0.1744 - val_acc: 0.9349\n",
      "Epoch 10/10\n",
      " - 27s - loss: 0.0656 - acc: 0.9805 - val_loss: 0.1691 - val_acc: 0.9369\n"
     ]
    },
    {
     "data": {
      "text/plain": [
       "<keras.callbacks.History at 0x1f1f40ad30>"
      ]
     },
     "execution_count": 64,
     "metadata": {},
     "output_type": "execute_result"
    }
   ],
   "source": [
    "model_bi.fit(X_train_g, Y_train_g, batch_size=BATCH_SIZE, \n",
    "                    epochs=NUM_EPOCHS,\n",
    "                    validation_data=(X_val_g, Y_val_g), verbose=2)"
   ]
  },
  {
   "cell_type": "code",
   "execution_count": 65,
   "metadata": {},
   "outputs": [
    {
     "name": "stdout",
     "output_type": "stream",
     "text": [
      "1306/1306 [==============================] - ETA:  - ETA:  - ETA:  - ETA:  - ETA:  - ETA:  - ETA:  - ETA:  - ETA:  - ETA:  - ETA:  - ETA:  - ETA:  - ETA:  - ETA:  - ETA:  - ETA:  - ETA:  - ETA:  - 1s 795us/step\n"
     ]
    }
   ],
   "source": [
    "score, acc = model_bi.evaluate(X_test_g, to_categorical(Y_test_g, num_classes=len(tag2index_g)))"
   ]
  },
  {
   "cell_type": "code",
   "execution_count": 66,
   "metadata": {},
   "outputs": [
    {
     "name": "stdout",
     "output_type": "stream",
     "text": [
      "Test score: 0.354, accuracy: 85.687\n"
     ]
    }
   ],
   "source": [
    "print(\"Test score: %.3f, accuracy: %.3f\" % (score, acc*100))"
   ]
  },
  {
   "cell_type": "code",
   "execution_count": 67,
   "metadata": {},
   "outputs": [
    {
     "data": {
      "application/vnd.jupyter.widget-view+json": {
       "model_id": "219966227c8048dc959fac34edddf4a3",
       "version_major": 2,
       "version_minor": 0
      },
      "text/html": [
       "<p>Failed to display Jupyter Widget of type <code>HBox</code>.</p>\n",
       "<p>\n",
       "  If you're reading this message in the Jupyter Notebook or JupyterLab Notebook, it may mean\n",
       "  that the widgets JavaScript is still loading. If this message persists, it\n",
       "  likely means that the widgets JavaScript library is either not installed or\n",
       "  not enabled. See the <a href=\"https://ipywidgets.readthedocs.io/en/stable/user_install.html\">Jupyter\n",
       "  Widgets Documentation</a> for setup instructions.\n",
       "</p>\n",
       "<p>\n",
       "  If you're reading this message in another frontend (for example, a static\n",
       "  rendering on GitHub or <a href=\"https://nbviewer.jupyter.org/\">NBViewer</a>),\n",
       "  it may mean that your frontend doesn't currently support widgets.\n",
       "</p>\n"
      ],
      "text/plain": [
       "HBox(children=(IntProgress(value=0, max=1306), HTML(value='')))"
      ]
     },
     "metadata": {},
     "output_type": "display_data"
    },
    {
     "name": "stdout",
     "output_type": "stream",
     "text": [
      "\n"
     ]
    },
    {
     "data": {
      "application/vnd.jupyter.widget-view+json": {
       "model_id": "39416623e7e44c87a467fec4b0c208b2",
       "version_major": 2,
       "version_minor": 0
      },
      "text/html": [
       "<p>Failed to display Jupyter Widget of type <code>HBox</code>.</p>\n",
       "<p>\n",
       "  If you're reading this message in the Jupyter Notebook or JupyterLab Notebook, it may mean\n",
       "  that the widgets JavaScript is still loading. If this message persists, it\n",
       "  likely means that the widgets JavaScript library is either not installed or\n",
       "  not enabled. See the <a href=\"https://ipywidgets.readthedocs.io/en/stable/user_install.html\">Jupyter\n",
       "  Widgets Documentation</a> for setup instructions.\n",
       "</p>\n",
       "<p>\n",
       "  If you're reading this message in another frontend (for example, a static\n",
       "  rendering on GitHub or <a href=\"https://nbviewer.jupyter.org/\">NBViewer</a>),\n",
       "  it may mean that your frontend doesn't currently support widgets.\n",
       "</p>\n"
      ],
      "text/plain": [
       "HBox(children=(IntProgress(value=0, max=1306), HTML(value='')))"
      ]
     },
     "metadata": {},
     "output_type": "display_data"
    },
    {
     "name": "stdout",
     "output_type": "stream",
     "text": [
      "\n",
      "By sent:  74.4698081895281 \n",
      "Total:  75.1345808766983\n"
     ]
    }
   ],
   "source": [
    "pred_g = predict(X_test_g, Y_test_g, MAX_SEQLEN_g, tag2index_g, model_bi)\n",
    "acc_bi[200] = acc_manual(pred_g)"
   ]
  },
  {
   "cell_type": "code",
   "execution_count": null,
   "metadata": {},
   "outputs": [],
   "source": []
  },
  {
   "cell_type": "code",
   "execution_count": null,
   "metadata": {},
   "outputs": [],
   "source": []
  },
  {
   "cell_type": "code",
   "execution_count": 68,
   "metadata": {},
   "outputs": [
    {
     "name": "stdout",
     "output_type": "stream",
     "text": [
      "_________________________________________________________________\n",
      "Layer (type)                 Output Shape              Param #   \n",
      "=================================================================\n",
      "embedding_6 (Embedding)      (None, 26, 300)           9971700   \n",
      "_________________________________________________________________\n",
      "bidirectional_3 (Bidirection (None, 26, 128)           186880    \n",
      "_________________________________________________________________\n",
      "time_distributed_3 (TimeDist (None, 26, 16)            2064      \n",
      "_________________________________________________________________\n",
      "activation_6 (Activation)    (None, 26, 16)            0         \n",
      "=================================================================\n",
      "Total params: 10,160,644\n",
      "Trainable params: 10,160,644\n",
      "Non-trainable params: 0\n",
      "_________________________________________________________________\n",
      "None\n"
     ]
    }
   ],
   "source": [
    "model_bi = make_model(S_MAX_FEATURES_g, T_MAX_FEATURES_g, MAX_SEQLEN_g, LSTM_Bi = True, EMBEDDING_SIZE = 300)"
   ]
  },
  {
   "cell_type": "code",
   "execution_count": 69,
   "metadata": {},
   "outputs": [
    {
     "name": "stdout",
     "output_type": "stream",
     "text": [
      "Train on 9180 samples, validate on 2296 samples\n",
      "Epoch 1/10\n",
      " - 40s - loss: 1.8147 - acc: 0.4977 - val_loss: 1.2643 - val_acc: 0.6203\n",
      "Epoch 2/10\n",
      " - 36s - loss: 1.1223 - acc: 0.6365 - val_loss: 0.9955 - val_acc: 0.6776\n",
      "Epoch 3/10\n",
      " - 36s - loss: 0.8628 - acc: 0.7347 - val_loss: 0.7030 - val_acc: 0.7968\n",
      "Epoch 4/10\n",
      " - 36s - loss: 0.5192 - acc: 0.8666 - val_loss: 0.3674 - val_acc: 0.9026\n",
      "Epoch 5/10\n",
      " - 36s - loss: 0.2345 - acc: 0.9492 - val_loss: 0.2269 - val_acc: 0.9281\n",
      "Epoch 6/10\n",
      " - 37s - loss: 0.1261 - acc: 0.9690 - val_loss: 0.1896 - val_acc: 0.9336\n",
      "Epoch 7/10\n",
      " - 36s - loss: 0.0904 - acc: 0.9743 - val_loss: 0.1757 - val_acc: 0.9368\n",
      "Epoch 8/10\n",
      " - 37s - loss: 0.0738 - acc: 0.9774 - val_loss: 0.1690 - val_acc: 0.9383\n",
      "Epoch 9/10\n",
      " - 38s - loss: 0.0628 - acc: 0.9806 - val_loss: 0.1647 - val_acc: 0.9398\n",
      "Epoch 10/10\n",
      " - 37s - loss: 0.0547 - acc: 0.9826 - val_loss: 0.1618 - val_acc: 0.9406\n"
     ]
    },
    {
     "data": {
      "text/plain": [
       "<keras.callbacks.History at 0x1f186be630>"
      ]
     },
     "execution_count": 69,
     "metadata": {},
     "output_type": "execute_result"
    }
   ],
   "source": [
    "model_bi.fit(X_train_g, Y_train_g, batch_size=BATCH_SIZE, \n",
    "                    epochs=NUM_EPOCHS,\n",
    "                    validation_data=(X_val_g, Y_val_g), verbose=2)"
   ]
  },
  {
   "cell_type": "code",
   "execution_count": 70,
   "metadata": {},
   "outputs": [
    {
     "name": "stdout",
     "output_type": "stream",
     "text": [
      "1306/1306 [==============================] - ETA:  - ETA:  - ETA:  - ETA:  - ETA:  - ETA:  - ETA:  - ETA:  - ETA:  - ETA:  - ETA:  - ETA:  - ETA:  - ETA:  - ETA:  - ETA:  - ETA:  - ETA:  - ETA:  - ETA:  - ETA:  - ETA:  - ETA:  - ETA:  - ETA:  - ETA:  - ETA:  - ETA:  - ETA:  - ETA:  - ETA:  - ETA:  - ETA:  - ETA:  - ETA:  - ETA:  - ETA:  - ETA:  - ETA:  - ETA:  - 3s 2ms/step\n"
     ]
    }
   ],
   "source": [
    "score, acc = model_bi.evaluate(X_test_g, to_categorical(Y_test_g, num_classes=len(tag2index_g)))"
   ]
  },
  {
   "cell_type": "code",
   "execution_count": 71,
   "metadata": {},
   "outputs": [
    {
     "name": "stdout",
     "output_type": "stream",
     "text": [
      "Test score: 0.336, accuracy: 87.737\n"
     ]
    }
   ],
   "source": [
    "print(\"Test score: %.3f, accuracy: %.3f\" % (score, acc*100))"
   ]
  },
  {
   "cell_type": "code",
   "execution_count": 73,
   "metadata": {},
   "outputs": [
    {
     "data": {
      "application/vnd.jupyter.widget-view+json": {
       "model_id": "6151e93ee43645a1ae30644d77202dc0",
       "version_major": 2,
       "version_minor": 0
      },
      "text/html": [
       "<p>Failed to display Jupyter Widget of type <code>HBox</code>.</p>\n",
       "<p>\n",
       "  If you're reading this message in the Jupyter Notebook or JupyterLab Notebook, it may mean\n",
       "  that the widgets JavaScript is still loading. If this message persists, it\n",
       "  likely means that the widgets JavaScript library is either not installed or\n",
       "  not enabled. See the <a href=\"https://ipywidgets.readthedocs.io/en/stable/user_install.html\">Jupyter\n",
       "  Widgets Documentation</a> for setup instructions.\n",
       "</p>\n",
       "<p>\n",
       "  If you're reading this message in another frontend (for example, a static\n",
       "  rendering on GitHub or <a href=\"https://nbviewer.jupyter.org/\">NBViewer</a>),\n",
       "  it may mean that your frontend doesn't currently support widgets.\n",
       "</p>\n"
      ],
      "text/plain": [
       "HBox(children=(IntProgress(value=0, max=1306), HTML(value='')))"
      ]
     },
     "metadata": {},
     "output_type": "display_data"
    },
    {
     "name": "stdout",
     "output_type": "stream",
     "text": [
      "\n"
     ]
    },
    {
     "data": {
      "application/vnd.jupyter.widget-view+json": {
       "model_id": "c4e8ec39a0944bd7adbd909a25c14a58",
       "version_major": 2,
       "version_minor": 0
      },
      "text/html": [
       "<p>Failed to display Jupyter Widget of type <code>HBox</code>.</p>\n",
       "<p>\n",
       "  If you're reading this message in the Jupyter Notebook or JupyterLab Notebook, it may mean\n",
       "  that the widgets JavaScript is still loading. If this message persists, it\n",
       "  likely means that the widgets JavaScript library is either not installed or\n",
       "  not enabled. See the <a href=\"https://ipywidgets.readthedocs.io/en/stable/user_install.html\">Jupyter\n",
       "  Widgets Documentation</a> for setup instructions.\n",
       "</p>\n",
       "<p>\n",
       "  If you're reading this message in another frontend (for example, a static\n",
       "  rendering on GitHub or <a href=\"https://nbviewer.jupyter.org/\">NBViewer</a>),\n",
       "  it may mean that your frontend doesn't currently support widgets.\n",
       "</p>\n"
      ],
      "text/plain": [
       "HBox(children=(IntProgress(value=0, max=1306), HTML(value='')))"
      ]
     },
     "metadata": {},
     "output_type": "display_data"
    },
    {
     "name": "stdout",
     "output_type": "stream",
     "text": [
      "\n",
      "By sent:  78.1361812268994 \n",
      "Total:  78.65709892362891\n"
     ]
    }
   ],
   "source": [
    "pred_g = predict(X_test_g, Y_test_g, MAX_SEQLEN_g, tag2index_g, model_bi)\n",
    "acc_bi[300] = acc_manual(pred_g)"
   ]
  },
  {
   "cell_type": "code",
   "execution_count": null,
   "metadata": {},
   "outputs": [],
   "source": []
  },
  {
   "cell_type": "code",
   "execution_count": null,
   "metadata": {},
   "outputs": [],
   "source": []
  },
  {
   "cell_type": "markdown",
   "metadata": {},
   "source": [
    "#### GRU"
   ]
  },
  {
   "cell_type": "code",
   "execution_count": 37,
   "metadata": {},
   "outputs": [],
   "source": [
    "acc_gru = {}"
   ]
  },
  {
   "cell_type": "code",
   "execution_count": 39,
   "metadata": {},
   "outputs": [
    {
     "name": "stdout",
     "output_type": "stream",
     "text": [
      "_________________________________________________________________\n",
      "Layer (type)                 Output Shape              Param #   \n",
      "=================================================================\n",
      "embedding_1 (Embedding)      (None, 26, 100)           3323900   \n",
      "_________________________________________________________________\n",
      "gru_1 (GRU)                  (None, 26, 64)            31680     \n",
      "_________________________________________________________________\n",
      "dense_1 (Dense)              (None, 26, 16)            1040      \n",
      "_________________________________________________________________\n",
      "activation_1 (Activation)    (None, 26, 16)            0         \n",
      "=================================================================\n",
      "Total params: 3,356,620\n",
      "Trainable params: 3,356,620\n",
      "Non-trainable params: 0\n",
      "_________________________________________________________________\n",
      "None\n"
     ]
    }
   ],
   "source": [
    "model_gru = make_model(S_MAX_FEATURES_g, T_MAX_FEATURES_g, MAX_SEQLEN_g, GRU_flag = True, EMBEDDING_SIZE = 100)"
   ]
  },
  {
   "cell_type": "code",
   "execution_count": 42,
   "metadata": {},
   "outputs": [
    {
     "name": "stdout",
     "output_type": "stream",
     "text": [
      "Train on 9180 samples, validate on 2296 samples\n",
      "Epoch 1/10\n",
      " - 9s - loss: 2.0659 - acc: 0.4821 - val_loss: 1.4210 - val_acc: 0.5118\n",
      "Epoch 2/10\n",
      " - 7s - loss: 1.3483 - acc: 0.6257 - val_loss: 1.2846 - val_acc: 0.6156\n",
      "Epoch 3/10\n",
      " - 7s - loss: 1.1606 - acc: 0.6615 - val_loss: 1.0022 - val_acc: 0.6951\n",
      "Epoch 4/10\n",
      " - 7s - loss: 0.8362 - acc: 0.7611 - val_loss: 0.6769 - val_acc: 0.8156\n",
      "Epoch 5/10\n",
      " - 7s - loss: 0.5389 - acc: 0.8825 - val_loss: 0.4375 - val_acc: 0.9034\n",
      "Epoch 6/10\n",
      " - 7s - loss: 0.3283 - acc: 0.9371 - val_loss: 0.3069 - val_acc: 0.9215\n",
      "Epoch 7/10\n",
      " - 7s - loss: 0.2117 - acc: 0.9579 - val_loss: 0.2481 - val_acc: 0.9285\n",
      "Epoch 8/10\n",
      " - 7s - loss: 0.1519 - acc: 0.9648 - val_loss: 0.2207 - val_acc: 0.9299\n",
      "Epoch 9/10\n",
      " - 7s - loss: 0.1208 - acc: 0.9674 - val_loss: 0.2070 - val_acc: 0.9307\n",
      "Epoch 10/10\n",
      " - 7s - loss: 0.1042 - acc: 0.9684 - val_loss: 0.1993 - val_acc: 0.9314\n"
     ]
    },
    {
     "data": {
      "text/plain": [
       "<keras.callbacks.History at 0x1f6df52ac8>"
      ]
     },
     "execution_count": 42,
     "metadata": {},
     "output_type": "execute_result"
    }
   ],
   "source": [
    "model_gru.fit(X_train_g, Y_train_g, batch_size=BATCH_SIZE, \n",
    "                    epochs=NUM_EPOCHS,\n",
    "                    validation_data=(X_val_g, Y_val_g), verbose=2)"
   ]
  },
  {
   "cell_type": "code",
   "execution_count": 43,
   "metadata": {},
   "outputs": [
    {
     "name": "stdout",
     "output_type": "stream",
     "text": [
      "1306/1306 [==============================] - ETA:  - ETA:  - ETA:  - ETA:  - ETA:  - ETA:  - 0s 253us/step\n"
     ]
    }
   ],
   "source": [
    "score, acc = model_gru.evaluate(X_test_g, to_categorical(Y_test_g, num_classes=len(tag2index_g)))"
   ]
  },
  {
   "cell_type": "code",
   "execution_count": 44,
   "metadata": {},
   "outputs": [
    {
     "name": "stdout",
     "output_type": "stream",
     "text": [
      "Test score: 0.397, accuracy: 84.957\n"
     ]
    }
   ],
   "source": [
    "print(\"Test score: %.3f, accuracy: %.3f\" % (score, acc*100))"
   ]
  },
  {
   "cell_type": "code",
   "execution_count": 45,
   "metadata": {},
   "outputs": [
    {
     "data": {
      "application/vnd.jupyter.widget-view+json": {
       "model_id": "0278807addad4ae7ae8a668d3f146849",
       "version_major": 2,
       "version_minor": 0
      },
      "text/html": [
       "<p>Failed to display Jupyter Widget of type <code>HBox</code>.</p>\n",
       "<p>\n",
       "  If you're reading this message in the Jupyter Notebook or JupyterLab Notebook, it may mean\n",
       "  that the widgets JavaScript is still loading. If this message persists, it\n",
       "  likely means that the widgets JavaScript library is either not installed or\n",
       "  not enabled. See the <a href=\"https://ipywidgets.readthedocs.io/en/stable/user_install.html\">Jupyter\n",
       "  Widgets Documentation</a> for setup instructions.\n",
       "</p>\n",
       "<p>\n",
       "  If you're reading this message in another frontend (for example, a static\n",
       "  rendering on GitHub or <a href=\"https://nbviewer.jupyter.org/\">NBViewer</a>),\n",
       "  it may mean that your frontend doesn't currently support widgets.\n",
       "</p>\n"
      ],
      "text/plain": [
       "HBox(children=(IntProgress(value=0, max=1306), HTML(value='')))"
      ]
     },
     "metadata": {},
     "output_type": "display_data"
    },
    {
     "name": "stdout",
     "output_type": "stream",
     "text": [
      "\n"
     ]
    },
    {
     "data": {
      "application/vnd.jupyter.widget-view+json": {
       "model_id": "2186484b3b624a86a2b22f43df5cb08a",
       "version_major": 2,
       "version_minor": 0
      },
      "text/html": [
       "<p>Failed to display Jupyter Widget of type <code>HBox</code>.</p>\n",
       "<p>\n",
       "  If you're reading this message in the Jupyter Notebook or JupyterLab Notebook, it may mean\n",
       "  that the widgets JavaScript is still loading. If this message persists, it\n",
       "  likely means that the widgets JavaScript library is either not installed or\n",
       "  not enabled. See the <a href=\"https://ipywidgets.readthedocs.io/en/stable/user_install.html\">Jupyter\n",
       "  Widgets Documentation</a> for setup instructions.\n",
       "</p>\n",
       "<p>\n",
       "  If you're reading this message in another frontend (for example, a static\n",
       "  rendering on GitHub or <a href=\"https://nbviewer.jupyter.org/\">NBViewer</a>),\n",
       "  it may mean that your frontend doesn't currently support widgets.\n",
       "</p>\n"
      ],
      "text/plain": [
       "HBox(children=(IntProgress(value=0, max=1306), HTML(value='')))"
      ]
     },
     "metadata": {},
     "output_type": "display_data"
    },
    {
     "name": "stdout",
     "output_type": "stream",
     "text": [
      "\n",
      "By sent:  73.1416779686592 \n",
      "Total:  73.6974358974359\n"
     ]
    }
   ],
   "source": [
    "pred_g = predict(X_test_g, Y_test_g, MAX_SEQLEN_g, tag2index_g, model_gru)\n",
    "acc_gru[100] = acc_manual(pred_g)"
   ]
  },
  {
   "cell_type": "code",
   "execution_count": null,
   "metadata": {},
   "outputs": [],
   "source": []
  },
  {
   "cell_type": "code",
   "execution_count": null,
   "metadata": {},
   "outputs": [],
   "source": []
  },
  {
   "cell_type": "code",
   "execution_count": 46,
   "metadata": {},
   "outputs": [
    {
     "name": "stdout",
     "output_type": "stream",
     "text": [
      "_________________________________________________________________\n",
      "Layer (type)                 Output Shape              Param #   \n",
      "=================================================================\n",
      "embedding_2 (Embedding)      (None, 26, 200)           6647800   \n",
      "_________________________________________________________________\n",
      "gru_2 (GRU)                  (None, 26, 64)            50880     \n",
      "_________________________________________________________________\n",
      "dense_2 (Dense)              (None, 26, 16)            1040      \n",
      "_________________________________________________________________\n",
      "activation_2 (Activation)    (None, 26, 16)            0         \n",
      "=================================================================\n",
      "Total params: 6,699,720\n",
      "Trainable params: 6,699,720\n",
      "Non-trainable params: 0\n",
      "_________________________________________________________________\n",
      "None\n"
     ]
    }
   ],
   "source": [
    "model_gru = make_model(S_MAX_FEATURES_g, T_MAX_FEATURES_g, MAX_SEQLEN_g, GRU_flag = True, EMBEDDING_SIZE = 200)"
   ]
  },
  {
   "cell_type": "code",
   "execution_count": 47,
   "metadata": {},
   "outputs": [
    {
     "name": "stdout",
     "output_type": "stream",
     "text": [
      "Train on 9180 samples, validate on 2296 samples\n",
      "Epoch 1/10\n",
      " - 14s - loss: 1.9474 - acc: 0.5207 - val_loss: 1.3594 - val_acc: 0.6595\n",
      "Epoch 2/10\n",
      " - 13s - loss: 1.2466 - acc: 0.6942 - val_loss: 1.0860 - val_acc: 0.6932\n",
      "Epoch 3/10\n",
      " - 12s - loss: 0.8504 - acc: 0.7577 - val_loss: 0.6344 - val_acc: 0.8358\n",
      "Epoch 4/10\n",
      " - 14s - loss: 0.4515 - acc: 0.9008 - val_loss: 0.3470 - val_acc: 0.9123\n",
      "Epoch 5/10\n",
      " - 15s - loss: 0.2380 - acc: 0.9493 - val_loss: 0.2474 - val_acc: 0.9281\n",
      "Epoch 6/10\n",
      " - 13s - loss: 0.1500 - acc: 0.9649 - val_loss: 0.2127 - val_acc: 0.9301\n",
      "Epoch 7/10\n",
      " - 14s - loss: 0.1122 - acc: 0.9679 - val_loss: 0.1983 - val_acc: 0.9310\n",
      "Epoch 8/10\n",
      " - 14s - loss: 0.0945 - acc: 0.9693 - val_loss: 0.1919 - val_acc: 0.9326\n",
      "Epoch 9/10\n",
      " - 14s - loss: 0.0845 - acc: 0.9709 - val_loss: 0.1874 - val_acc: 0.9334\n",
      "Epoch 10/10\n",
      " - 14s - loss: 0.0781 - acc: 0.9722 - val_loss: 0.1847 - val_acc: 0.9343\n"
     ]
    },
    {
     "data": {
      "text/plain": [
       "<keras.callbacks.History at 0x1f00479390>"
      ]
     },
     "execution_count": 47,
     "metadata": {},
     "output_type": "execute_result"
    }
   ],
   "source": [
    "model_gru.fit(X_train_g, Y_train_g, batch_size=BATCH_SIZE, \n",
    "                    epochs=NUM_EPOCHS,\n",
    "                    validation_data=(X_val_g, Y_val_g), verbose=2)"
   ]
  },
  {
   "cell_type": "code",
   "execution_count": 48,
   "metadata": {},
   "outputs": [
    {
     "name": "stdout",
     "output_type": "stream",
     "text": [
      "1306/1306 [==============================] - ETA:  - ETA:  - ETA:  - ETA:  - ETA:  - ETA:  - ETA:  - ETA:  - 0s 349us/step\n"
     ]
    }
   ],
   "source": [
    "score, acc = model_gru.evaluate(X_test_g, to_categorical(Y_test_g, num_classes=len(tag2index_g)))"
   ]
  },
  {
   "cell_type": "code",
   "execution_count": 49,
   "metadata": {},
   "outputs": [
    {
     "name": "stdout",
     "output_type": "stream",
     "text": [
      "Test score: 0.367, accuracy: 85.372\n"
     ]
    }
   ],
   "source": [
    "print(\"Test score: %.3f, accuracy: %.3f\" % (score, acc*100))"
   ]
  },
  {
   "cell_type": "code",
   "execution_count": 50,
   "metadata": {},
   "outputs": [
    {
     "data": {
      "application/vnd.jupyter.widget-view+json": {
       "model_id": "71fe189453104f98986b2dac364af707",
       "version_major": 2,
       "version_minor": 0
      },
      "text/html": [
       "<p>Failed to display Jupyter Widget of type <code>HBox</code>.</p>\n",
       "<p>\n",
       "  If you're reading this message in the Jupyter Notebook or JupyterLab Notebook, it may mean\n",
       "  that the widgets JavaScript is still loading. If this message persists, it\n",
       "  likely means that the widgets JavaScript library is either not installed or\n",
       "  not enabled. See the <a href=\"https://ipywidgets.readthedocs.io/en/stable/user_install.html\">Jupyter\n",
       "  Widgets Documentation</a> for setup instructions.\n",
       "</p>\n",
       "<p>\n",
       "  If you're reading this message in another frontend (for example, a static\n",
       "  rendering on GitHub or <a href=\"https://nbviewer.jupyter.org/\">NBViewer</a>),\n",
       "  it may mean that your frontend doesn't currently support widgets.\n",
       "</p>\n"
      ],
      "text/plain": [
       "HBox(children=(IntProgress(value=0, max=1306), HTML(value='')))"
      ]
     },
     "metadata": {},
     "output_type": "display_data"
    },
    {
     "name": "stdout",
     "output_type": "stream",
     "text": [
      "\n"
     ]
    },
    {
     "data": {
      "application/vnd.jupyter.widget-view+json": {
       "model_id": "5b9f5eb328af42058f6c41211d70b040",
       "version_major": 2,
       "version_minor": 0
      },
      "text/html": [
       "<p>Failed to display Jupyter Widget of type <code>HBox</code>.</p>\n",
       "<p>\n",
       "  If you're reading this message in the Jupyter Notebook or JupyterLab Notebook, it may mean\n",
       "  that the widgets JavaScript is still loading. If this message persists, it\n",
       "  likely means that the widgets JavaScript library is either not installed or\n",
       "  not enabled. See the <a href=\"https://ipywidgets.readthedocs.io/en/stable/user_install.html\">Jupyter\n",
       "  Widgets Documentation</a> for setup instructions.\n",
       "</p>\n",
       "<p>\n",
       "  If you're reading this message in another frontend (for example, a static\n",
       "  rendering on GitHub or <a href=\"https://nbviewer.jupyter.org/\">NBViewer</a>),\n",
       "  it may mean that your frontend doesn't currently support widgets.\n",
       "</p>\n"
      ],
      "text/plain": [
       "HBox(children=(IntProgress(value=0, max=1306), HTML(value='')))"
      ]
     },
     "metadata": {},
     "output_type": "display_data"
    },
    {
     "name": "stdout",
     "output_type": "stream",
     "text": [
      "\n",
      "By sent:  73.9443593963835 \n",
      "Total:  74.49492359757973\n"
     ]
    }
   ],
   "source": [
    "pred_g = predict(X_test_g, Y_test_g, MAX_SEQLEN_g, tag2index_g, model_gru)\n",
    "acc_gru[200] = acc_manual(pred_g)"
   ]
  },
  {
   "cell_type": "code",
   "execution_count": null,
   "metadata": {},
   "outputs": [],
   "source": []
  },
  {
   "cell_type": "code",
   "execution_count": null,
   "metadata": {},
   "outputs": [],
   "source": []
  },
  {
   "cell_type": "code",
   "execution_count": 51,
   "metadata": {},
   "outputs": [
    {
     "name": "stdout",
     "output_type": "stream",
     "text": [
      "_________________________________________________________________\n",
      "Layer (type)                 Output Shape              Param #   \n",
      "=================================================================\n",
      "embedding_3 (Embedding)      (None, 26, 300)           9971700   \n",
      "_________________________________________________________________\n",
      "gru_3 (GRU)                  (None, 26, 64)            70080     \n",
      "_________________________________________________________________\n",
      "dense_3 (Dense)              (None, 26, 16)            1040      \n",
      "_________________________________________________________________\n",
      "activation_3 (Activation)    (None, 26, 16)            0         \n",
      "=================================================================\n",
      "Total params: 10,042,820\n",
      "Trainable params: 10,042,820\n",
      "Non-trainable params: 0\n",
      "_________________________________________________________________\n",
      "None\n"
     ]
    }
   ],
   "source": [
    "model_gru = make_model(S_MAX_FEATURES_g, T_MAX_FEATURES_g, MAX_SEQLEN_g, GRU_flag = True, EMBEDDING_SIZE = 300)"
   ]
  },
  {
   "cell_type": "code",
   "execution_count": 52,
   "metadata": {},
   "outputs": [
    {
     "name": "stdout",
     "output_type": "stream",
     "text": [
      "Train on 9180 samples, validate on 2296 samples\n",
      "Epoch 1/10\n",
      " - 21s - loss: 1.7995 - acc: 0.5439 - val_loss: 1.3186 - val_acc: 0.7058\n",
      "Epoch 2/10\n",
      " - 19s - loss: 1.1711 - acc: 0.7384 - val_loss: 0.9684 - val_acc: 0.7664\n",
      "Epoch 3/10\n",
      " - 18s - loss: 0.7133 - acc: 0.8265 - val_loss: 0.4955 - val_acc: 0.8791\n",
      "Epoch 4/10\n",
      " - 19s - loss: 0.3307 - acc: 0.9327 - val_loss: 0.2823 - val_acc: 0.9232\n",
      "Epoch 5/10\n",
      " - 19s - loss: 0.1761 - acc: 0.9618 - val_loss: 0.2241 - val_acc: 0.9293\n",
      "Epoch 6/10\n",
      " - 22s - loss: 0.1200 - acc: 0.9672 - val_loss: 0.2039 - val_acc: 0.9312\n",
      "Epoch 7/10\n",
      " - 21s - loss: 0.0975 - acc: 0.9690 - val_loss: 0.1949 - val_acc: 0.9324\n",
      "Epoch 8/10\n",
      " - 19s - loss: 0.0864 - acc: 0.9706 - val_loss: 0.1900 - val_acc: 0.9337\n",
      "Epoch 9/10\n",
      " - 22s - loss: 0.0790 - acc: 0.9716 - val_loss: 0.1870 - val_acc: 0.9344\n",
      "Epoch 10/10\n",
      " - 21s - loss: 0.0737 - acc: 0.9730 - val_loss: 0.1846 - val_acc: 0.9343\n"
     ]
    },
    {
     "data": {
      "text/plain": [
       "<keras.callbacks.History at 0x1f0785ec88>"
      ]
     },
     "execution_count": 52,
     "metadata": {},
     "output_type": "execute_result"
    }
   ],
   "source": [
    "model_gru.fit(X_train_g, Y_train_g, batch_size=BATCH_SIZE, \n",
    "                    epochs=NUM_EPOCHS,\n",
    "                    validation_data=(X_val_g, Y_val_g), verbose=2)"
   ]
  },
  {
   "cell_type": "code",
   "execution_count": 53,
   "metadata": {},
   "outputs": [
    {
     "name": "stdout",
     "output_type": "stream",
     "text": [
      "1306/1306 [==============================] - ETA:  - ETA:  - ETA:  - ETA:  - ETA:  - ETA:  - ETA:  - ETA:  - ETA:  - ETA:  - 1s 426us/step\n"
     ]
    }
   ],
   "source": [
    "score, acc = model_gru.evaluate(X_test_g, to_categorical(Y_test_g, num_classes=len(tag2index_g)))"
   ]
  },
  {
   "cell_type": "code",
   "execution_count": 54,
   "metadata": {},
   "outputs": [
    {
     "name": "stdout",
     "output_type": "stream",
     "text": [
      "Test score: 0.366, accuracy: 86.212\n"
     ]
    }
   ],
   "source": [
    "print(\"Test score: %.3f, accuracy: %.3f\" % (score, acc*100))"
   ]
  },
  {
   "cell_type": "code",
   "execution_count": 55,
   "metadata": {},
   "outputs": [
    {
     "data": {
      "application/vnd.jupyter.widget-view+json": {
       "model_id": "989e76f9c9f244b596b7d9bc75bc8540",
       "version_major": 2,
       "version_minor": 0
      },
      "text/html": [
       "<p>Failed to display Jupyter Widget of type <code>HBox</code>.</p>\n",
       "<p>\n",
       "  If you're reading this message in the Jupyter Notebook or JupyterLab Notebook, it may mean\n",
       "  that the widgets JavaScript is still loading. If this message persists, it\n",
       "  likely means that the widgets JavaScript library is either not installed or\n",
       "  not enabled. See the <a href=\"https://ipywidgets.readthedocs.io/en/stable/user_install.html\">Jupyter\n",
       "  Widgets Documentation</a> for setup instructions.\n",
       "</p>\n",
       "<p>\n",
       "  If you're reading this message in another frontend (for example, a static\n",
       "  rendering on GitHub or <a href=\"https://nbviewer.jupyter.org/\">NBViewer</a>),\n",
       "  it may mean that your frontend doesn't currently support widgets.\n",
       "</p>\n"
      ],
      "text/plain": [
       "HBox(children=(IntProgress(value=0, max=1306), HTML(value='')))"
      ]
     },
     "metadata": {},
     "output_type": "display_data"
    },
    {
     "name": "stdout",
     "output_type": "stream",
     "text": [
      "\n"
     ]
    },
    {
     "data": {
      "application/vnd.jupyter.widget-view+json": {
       "model_id": "beb20108922f4ac3b463f52ce4face86",
       "version_major": 2,
       "version_minor": 0
      },
      "text/html": [
       "<p>Failed to display Jupyter Widget of type <code>HBox</code>.</p>\n",
       "<p>\n",
       "  If you're reading this message in the Jupyter Notebook or JupyterLab Notebook, it may mean\n",
       "  that the widgets JavaScript is still loading. If this message persists, it\n",
       "  likely means that the widgets JavaScript library is either not installed or\n",
       "  not enabled. See the <a href=\"https://ipywidgets.readthedocs.io/en/stable/user_install.html\">Jupyter\n",
       "  Widgets Documentation</a> for setup instructions.\n",
       "</p>\n",
       "<p>\n",
       "  If you're reading this message in another frontend (for example, a static\n",
       "  rendering on GitHub or <a href=\"https://nbviewer.jupyter.org/\">NBViewer</a>),\n",
       "  it may mean that your frontend doesn't currently support widgets.\n",
       "</p>\n"
      ],
      "text/plain": [
       "HBox(children=(IntProgress(value=0, max=1306), HTML(value='')))"
      ]
     },
     "metadata": {},
     "output_type": "display_data"
    },
    {
     "name": "stdout",
     "output_type": "stream",
     "text": [
      "\n",
      "By sent:  75.79919188046448 \n",
      "Total:  76.00594597365318\n"
     ]
    }
   ],
   "source": [
    "pred_g = predict(X_test_g, Y_test_g, MAX_SEQLEN_g, tag2index_g, model_gru)\n",
    "acc_gru[300] = acc_manual(pred_g)"
   ]
  },
  {
   "cell_type": "code",
   "execution_count": 446,
   "metadata": {},
   "outputs": [
    {
     "name": "stdout",
     "output_type": "stream",
     "text": [
      "SimpleRNN Embedding 100 : 0.7297772838262233\n",
      "SimpleRNN Embedding 200 : 0.7389856415463399\n",
      "SimpleRNN Embedding 300 : 0.7456628610989655\n"
     ]
    }
   ],
   "source": [
    "for k, v in acc_simp.items():\n",
    "    print(\"SimpleRNN Embedding\", k, \":\", v)"
   ]
  },
  {
   "cell_type": "code",
   "execution_count": 418,
   "metadata": {},
   "outputs": [
    {
     "name": "stdout",
     "output_type": "stream",
     "text": [
      "LSTM Embedding 100 : 0.6945967818588312\n",
      "LSTM Embedding 200 : 0.7422765934338974\n",
      "LSTM Embedding 300 : 0.7548620169260356\n"
     ]
    }
   ],
   "source": [
    "for k, v in acc_lstm.items():\n",
    "    print(\"LSTM Embedding\", k, \":\", v)"
   ]
  },
  {
   "cell_type": "code",
   "execution_count": 56,
   "metadata": {},
   "outputs": [
    {
     "name": "stdout",
     "output_type": "stream",
     "text": [
      "GRU Embedding 100 : 0.731416779686592\n",
      "GRU Embedding 200 : 0.7394435939638351\n",
      "GRU Embedding 300 : 0.7579919188046448\n"
     ]
    }
   ],
   "source": [
    "for k, v in acc_gru.items():\n",
    "    print(\"GRU Embedding\", k, \":\", v)"
   ]
  },
  {
   "cell_type": "code",
   "execution_count": 74,
   "metadata": {},
   "outputs": [
    {
     "name": "stdout",
     "output_type": "stream",
     "text": [
      "Bi LSTM Embedding 100 : 0.7152516861219345\n",
      "Bi LSTM Embedding 200 : 0.744698081895281\n",
      "Bi LSTM Embedding 300 : 0.7813618122689939\n"
     ]
    }
   ],
   "source": [
    "for k, v in acc_bi.items():\n",
    "    print(\"Bi LSTM Embedding\", k, \":\", v)"
   ]
  },
  {
   "cell_type": "markdown",
   "metadata": {},
   "source": [
    "С увеличением размера векторов эмбеддингов точность растет, так как мы сохраняем все больше информации о данных. Причем сильнее всего увеличение эмбеддингов влияет на LSTM-like модели: простую LSTM (100->200) и двунаправленную (100->200->300), так как позволяет получить больше информации о контексте/информацию о более далеком контексте, и сложность модели, размер эмбеддинга и точность прямо пропорциональны: так, на результаты простой LSTM сильно повлияло увеличение со 100 до 200, но 300 принесло меньше полезной информации => меньше точность, а точность двунаправленной растет все больше с увеличением эмбеддингов. Справедливо предположить, что увеличение размера эмбеддингов до 400 и, возможно, до 500, приведет к улучшению результатов двунаправленной модели"
   ]
  },
  {
   "cell_type": "code",
   "execution_count": null,
   "metadata": {},
   "outputs": [],
   "source": []
  }
 ],
 "metadata": {
  "kernelspec": {
   "display_name": "Python 3",
   "language": "python",
   "name": "python3"
  },
  "language_info": {
   "codemirror_mode": {
    "name": "ipython",
    "version": 3
   },
   "file_extension": ".py",
   "mimetype": "text/x-python",
   "name": "python",
   "nbconvert_exporter": "python",
   "pygments_lexer": "ipython3",
   "version": "3.6.4"
  }
 },
 "nbformat": 4,
 "nbformat_minor": 2
}
