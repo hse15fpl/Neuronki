{
 "cells": [
  {
   "cell_type": "code",
   "execution_count": 38,
   "metadata": {},
   "outputs": [],
   "source": [
    "from keras.layers.recurrent import LSTM, GRU\n",
    "from keras.models import Sequential, load_model\n",
    "from keras.layers import Dense, Activation, Embedding, Bidirectional\n",
    "from keras.callbacks import ModelCheckpoint\n",
    "import numpy as np\n",
    "import math\n",
    "import random\n",
    "import nltk\n",
    "from pickle import dump, load\n",
    "from os import makedirs\n",
    "from datetime import datetime\n",
    "import matplotlib.pyplot as plt"
   ]
  },
  {
   "cell_type": "markdown",
   "metadata": {},
   "source": [
    "* [Предобработка текстов](#prep)\n",
    "* [Подготовка и векторизация данных](#vec)\n",
    "* [Создание и обучение моделей](#train)\n",
    "    * [LSTM](#lstm)\n",
    "    * [BiLSTM](#bilstm)\n",
    "    * [GRU](#gru)\n",
    "* [Оценка моделей, подсчёт перплексии](#eval)\n",
    "* [Эксперименты с размерностью эмбеддингов](#embed)"
   ]
  },
  {
   "cell_type": "markdown",
   "metadata": {},
   "source": [
    "# Предобработка текстов <a id=\"prep\"></a>"
   ]
  },
  {
   "cell_type": "markdown",
   "metadata": {},
   "source": [
    "Генерить так генерить, так что соханим некоторые знаки препинания (запятые,, двоеточия, знаки конца предложения) и не будем лемматизировать текст."
   ]
  },
  {
   "cell_type": "code",
   "execution_count": 6,
   "metadata": {},
   "outputs": [],
   "source": [
    "def clean(text): \n",
    "    text = text.replace('\\n',' . ') # всякие заголовки пусть считаются отдельными предложениями\n",
    "    \n",
    "    text = text.replace('—', '')\n",
    "    text = text.replace('(','')\n",
    "    text = text.replace(')','')\n",
    "    text = text.replace('[','')\n",
    "    text = text.replace(']','')\n",
    "    text = text.replace('/','')\n",
    "    text = text.replace('«', '')\n",
    "    text = text.replace('»', '')\n",
    "    text = text.replace('\"','')\n",
    "    text = text.replace('*','')\n",
    "    \n",
    "    # оставим запятые, двоеточия, дефисы. Запяточия превратим в точки -- всё равно они ближке к ним.\n",
    "    text = text.replace('?..','?')\n",
    "    text = text.replace('!..','!')\n",
    "    text = text.replace('...','.')\n",
    "    text = text.replace(';','.')\n",
    "    \n",
    "    return text"
   ]
  },
  {
   "cell_type": "code",
   "execution_count": 7,
   "metadata": {},
   "outputs": [],
   "source": [
    "def divide(text):\n",
    "    tokens = []\n",
    "    for sentence in nltk.sent_tokenize(text):\n",
    "        #print(sentence)\n",
    "        toks = nltk.word_tokenize(sentence)\n",
    "        #print(toks)\n",
    "        if len(toks) == 1 and toks[0] == '.': # попадаются, если было несколько \\n подряд\n",
    "            continue\n",
    "        else:\n",
    "            tokens.extend(toks)\n",
    "    return tokens"
   ]
  },
  {
   "cell_type": "code",
   "execution_count": 8,
   "metadata": {},
   "outputs": [],
   "source": [
    "def get_data(filename):\n",
    "    raw = open('{}.txt'.format(filename), encoding='utf-8').read().lower()\n",
    "    text = clean(raw)\n",
    "    tokens = divide(text)\n",
    "    dump(tokens, open('{}.pkl'.format(filename), 'wb'))\n",
    "    return tokens"
   ]
  },
  {
   "cell_type": "code",
   "execution_count": 9,
   "metadata": {},
   "outputs": [
    {
     "data": {
      "text/plain": [
       "100000"
      ]
     },
     "execution_count": 9,
     "metadata": {},
     "output_type": "execute_result"
    }
   ],
   "source": [
    "train = get_data('Эрагон')[:100000] # они длиннющие, и так хватит\n",
    "len(train)"
   ]
  },
  {
   "cell_type": "code",
   "execution_count": 10,
   "metadata": {},
   "outputs": [
    {
     "data": {
      "text/plain": [
       "10000"
      ]
     },
     "execution_count": 10,
     "metadata": {},
     "output_type": "execute_result"
    }
   ],
   "source": [
    "test = get_data('Возвращение')[:10000] # тем более на оценку 260+ тысяч не надо\n",
    "len(test)"
   ]
  },
  {
   "cell_type": "markdown",
   "metadata": {},
   "source": [
    "# Подготовка и векторизация данных <a id=\"vec\"></a>"
   ]
  },
  {
   "cell_type": "code",
   "execution_count": 11,
   "metadata": {},
   "outputs": [
    {
     "name": "stdout",
     "output_type": "stream",
     "text": [
      "16497\n"
     ]
    }
   ],
   "source": [
    "train_words = set(train)\n",
    "train_vocab = len(train_words)\n",
    "train2index = {w: i for i, w in enumerate(train_words)}\n",
    "index2train = {i: w for i, w in enumerate(train_words)}\n",
    "print(train_vocab)"
   ]
  },
  {
   "cell_type": "markdown",
   "metadata": {},
   "source": [
    "Удалим из тестового корпуса все слова, которые не сможем предсказать. Местами стало не сильно связно, правда, но это ерунда по сравнению с тем, что наш новый тестовый корпус состоит всего из 2 с хвостиком тысяч слов."
   ]
  },
  {
   "cell_type": "code",
   "execution_count": 37,
   "metadata": {},
   "outputs": [
    {
     "name": "stdout",
     "output_type": "stream",
     "text": [
      "2087\n",
      "8512\n",
      "['кристофер', 'паолини', '.', 'эрагон', '.', '.', 'беда', '.', 'песни', 'мертвых', 'это', 'живых', 'так', 'думал', 'эрагон', ',', 'через', ',', 'тела', 'ургалов', 'и', 'слушая', 'женщин', ',', 'которые', 'убитых', 'с', 'кровью', 'земли', '.', 'сапфира', 'шла', 'рядом', ',', 'стараясь', 'не', 'на', 'мертвецов', '.', 'сверкающая', 'чешуя', 'драконихи', 'была', ',', 'казалось', ',', 'единственным', ',', 'что', 'свет', 'во', ',', 'внутри', 'горы', '.', 'три', 'дня', 'с', 'тех', 'пор', ',', 'как', 'вардены', 'и', 'гномы', 'с', 'ургалами', 'за', ',', 'невероятным', 'городом', ',', 'гномами', 'внутри', 'горы', ',', 'в', 'самом', 'сердце', ',', 'но', 'поле', 'все', 'еще', 'следы', '.', 'мертвых', 'оказалось', 'так', 'много', ',', 'что', 'не', 'хватало', 'сил', 'похоронить', 'их', 'всех', 'вовремя', '.']\n"
     ]
    }
   ],
   "source": [
    "test_clean = [w for w in test if w in train_words]\n",
    "print(len(set(test_clean)))\n",
    "print(len(test_clean))\n",
    "print(test_clean[:100])"
   ]
  },
  {
   "cell_type": "code",
   "execution_count": 13,
   "metadata": {},
   "outputs": [],
   "source": [
    "seqlen = 5 # будем смотреть на 5 предыдущих слов\n",
    "batch_size = 64"
   ]
  },
  {
   "cell_type": "markdown",
   "metadata": {},
   "source": [
    "Превратим наши коропуса в последовательности слов с метками и закодируем"
   ]
  },
  {
   "cell_type": "code",
   "execution_count": 14,
   "metadata": {},
   "outputs": [],
   "source": [
    "train_inputs = []\n",
    "train_labels = []\n",
    "for i in range(0, len(train) - seqlen):\n",
    "    train_inputs.append(train[i:i + seqlen])\n",
    "    train_labels.append(train[i + seqlen])"
   ]
  },
  {
   "cell_type": "code",
   "execution_count": 15,
   "metadata": {},
   "outputs": [],
   "source": [
    "test_inputs = []\n",
    "test_labels = []\n",
    "for i in range(0, len(test_clean) - seqlen):\n",
    "    test_inputs.append(test_clean[i:i + seqlen])\n",
    "    test_labels.append(test_clean[i + seqlen])"
   ]
  },
  {
   "cell_type": "code",
   "execution_count": 16,
   "metadata": {
    "scrolled": true
   },
   "outputs": [
    {
     "name": "stdout",
     "output_type": "stream",
     "text": [
      "['кристофер', 'паолини', '.', 'эрагон', '.'] пролог\n",
      "['паолини', '.', 'эрагон', '.', 'пролог'] .\n",
      "['.', 'эрагон', '.', 'пролог', '.'] тень\n",
      "['эрагон', '.', 'пролог', '.', 'тень'] страха\n",
      "['.', 'пролог', '.', 'тень', 'страха'] .\n",
      "['пролог', '.', 'тень', 'страха', '.'] ветер\n",
      "['.', 'тень', 'страха', '.', 'ветер'] выл\n",
      "['тень', 'страха', '.', 'ветер', 'выл'] в\n",
      "['страха', '.', 'ветер', 'выл', 'в'] ночи\n",
      "['.', 'ветер', 'выл', 'в', 'ночи'] ,\n"
     ]
    }
   ],
   "source": [
    "for i in range(10):\n",
    "    print(train_inputs[i], train_labels[i])"
   ]
  },
  {
   "cell_type": "code",
   "execution_count": 17,
   "metadata": {},
   "outputs": [],
   "source": [
    "def encode_input(inputs):\n",
    "    enc_inputs = np.zeros((len(inputs), seqlen))\n",
    "    for i, inpt in enumerate(inputs):\n",
    "        for w, word in enumerate(inpt):\n",
    "            #print('word', word)\n",
    "            #print(train2index[word])\n",
    "            enc_inputs[i, w] = train2index[word]\n",
    "    return enc_inputs"
   ]
  },
  {
   "cell_type": "code",
   "execution_count": 18,
   "metadata": {},
   "outputs": [],
   "source": [
    "def onehot_label(labels):\n",
    "    enc_labels = np.zeros((len(labels), train_vocab))\n",
    "    for i, label in enumerate(labels):\n",
    "        enc_labels[i, train2index[label]] = 1\n",
    "    return enc_labels"
   ]
  },
  {
   "cell_type": "code",
   "execution_count": 19,
   "metadata": {},
   "outputs": [
    {
     "name": "stdout",
     "output_type": "stream",
     "text": [
      "(2, 5)\n",
      "(2, 16497)\n",
      "['кристофер', 'паолини', '.', 'эрагон', '.']\n",
      "[10412.  8969.  3153. 13700.  3153.]\n",
      "пролог\n",
      "[0. 0. 0. ... 0. 0. 0.]\n",
      "\n",
      "['паолини', '.', 'эрагон', '.', 'пролог']\n",
      "[ 8969.  3153. 13700.  3153. 12992.]\n",
      ".\n",
      "[0. 0. 0. ... 0. 0. 0.]\n",
      "\n"
     ]
    }
   ],
   "source": [
    "# проверим, как работает\n",
    "es = encode_input(train_inputs[:2])\n",
    "print(es.shape)\n",
    "et = onehot_label(train_labels[:2])\n",
    "print(et.shape)\n",
    "\n",
    "for i in range(2):\n",
    "    print(train_inputs[i]),\n",
    "    print(es[i]),\n",
    "    print(train_labels[i]),\n",
    "    print(et[i]),\n",
    "    print()"
   ]
  },
  {
   "cell_type": "code",
   "execution_count": 20,
   "metadata": {},
   "outputs": [],
   "source": [
    "# снова воспользуемся генератором\n",
    "def gen_batch(inputs, labels, batch_size):\n",
    "    i = 0\n",
    "    all_inputs  = len(inputs) # всего последовательностей\n",
    "    n_inputs = batch_size * int(all_inputs / batch_size)  #сколько у нас влезет (батч * кол-во батчей)\n",
    "    #print(n_inputs)\n",
    "    while True:\n",
    "        #print(i)\n",
    "        i = i % n_inputs # считаем текущий индекс (где новое)\n",
    "        # берём кусочки\n",
    "        sub_inputs = inputs[i: i+batch_size]\n",
    "        sub_labels = labels[i: i+batch_size]\n",
    "\n",
    "        # кодируем кусочки\n",
    "        sub_inputs = encode_input(sub_inputs)\n",
    "        sub_labels = onehot_label(sub_labels)\n",
    "        \n",
    "        # обновляем текущий индекс\n",
    "        i += batch_size\n",
    "        #print(i)\n",
    "        \n",
    "        yield sub_inputs, sub_labels # возвращаем наши кусочки"
   ]
  },
  {
   "cell_type": "markdown",
   "metadata": {},
   "source": [
    "# Создание и обучение моделей <a id=\"train\"></a>"
   ]
  },
  {
   "cell_type": "code",
   "execution_count": 21,
   "metadata": {},
   "outputs": [
    {
     "name": "stdout",
     "output_type": "stream",
     "text": [
      "1562\n",
      "132\n"
     ]
    }
   ],
   "source": [
    "embed_size = 100\n",
    "hidden_size = 128\n",
    "iters = 15\n",
    "epochs = 1\n",
    "steps = int(len(train_inputs)/batch_size)\n",
    "print(steps)\n",
    "test_steps = int(len(test_inputs)/batch_size)\n",
    "print(test_steps)\n",
    "epoch_preds = 5"
   ]
  },
  {
   "cell_type": "markdown",
   "metadata": {},
   "source": [
    "По ходу обучения мы будем после каждой итерации (фактически после каждой эпохи) генерировать продолжение для случайной последовательности тренировочного корпуса"
   ]
  },
  {
   "cell_type": "code",
   "execution_count": 22,
   "metadata": {},
   "outputs": [],
   "source": [
    "def train_model(model, model_type):\n",
    "    try:\n",
    "        makedirs('{}'.format(model_type))\n",
    "    except OSError:\n",
    "        pass\n",
    "    \n",
    "    for it in range(iters):\n",
    "        print('=' * 50)\n",
    "        print('Iteration {}'.format(it+1))\n",
    "        model.fit_generator(gen_batch(train_inputs, train_labels, batch_size), epochs=epochs, steps_per_epoch=steps)\n",
    "\n",
    "        test_input = random.choice(train_inputs)\n",
    "        print(' '.join(test_input), end = ' -> ')\n",
    "        for i in range(epoch_preds):\n",
    "            test_seq = np.zeros((1, seqlen)) # кодируем эту последовательность, чтобы по ней предсказать\n",
    "            for w, word in enumerate(test_input):\n",
    "                test_seq[0, w] = train2index[word]\n",
    "            pred = model.predict(test_seq, verbose=0)[0]\n",
    "            pred_w = index2train[np.argmax(pred)]\n",
    "            print(pred_w, end=\" \")\n",
    "            # move forward with test_chars + ypred\n",
    "            test_input = test_input[1:] + [pred_w]\n",
    "        print()\n",
    "        model.save('{}\\\\LM-{}.h5'.format(model_type, it+1))"
   ]
  },
  {
   "cell_type": "markdown",
   "metadata": {},
   "source": [
    "Применим LSTM, GRU и посмотрим, как сработает BiLSTM. По идее, при генерации текста у нас нет возможности заглянуть вперёд, поэтому обучать бинаправленную модель не имеет смысла, наверное, но эксперимента ради"
   ]
  },
  {
   "cell_type": "markdown",
   "metadata": {},
   "source": [
    "# LSTM <a id=\"lstm\"></a>"
   ]
  },
  {
   "cell_type": "code",
   "execution_count": 29,
   "metadata": {
    "scrolled": true
   },
   "outputs": [
    {
     "name": "stdout",
     "output_type": "stream",
     "text": [
      "_________________________________________________________________\n",
      "Layer (type)                 Output Shape              Param #   \n",
      "=================================================================\n",
      "embedding_1 (Embedding)      (None, 5, 100)            1649700   \n",
      "_________________________________________________________________\n",
      "lstm_1 (LSTM)                (None, 128)               117248    \n",
      "_________________________________________________________________\n",
      "dense_1 (Dense)              (None, 16497)             2128113   \n",
      "=================================================================\n",
      "Total params: 3,895,061\n",
      "Trainable params: 3,895,061\n",
      "Non-trainable params: 0\n",
      "_________________________________________________________________\n"
     ]
    }
   ],
   "source": [
    "lstm_model = Sequential()\n",
    "lstm_model.add(Embedding(train_vocab, embed_size, input_length=seqlen))\n",
    "lstm_model.add(LSTM(hidden_size, return_sequences=False, unroll=True))\n",
    "lstm_model.add(Dense(train_vocab, activation=\"softmax\"))\n",
    "\n",
    "lstm_model.compile(loss=\"categorical_crossentropy\", optimizer=\"rmsprop\")\n",
    "lstm_model.summary()"
   ]
  },
  {
   "cell_type": "code",
   "execution_count": 30,
   "metadata": {
    "scrolled": true
   },
   "outputs": [
    {
     "name": "stdout",
     "output_type": "stream",
     "text": [
      "==================================================\n",
      "Iteration 1\n",
      "Epoch 1/1\n",
      "1562/1562 [==============================] - 394s 252ms/step - loss: 7.1210\n",
      "ветка , и шейд сердито -> , что , что , \n",
      "==================================================\n",
      "Iteration 2\n",
      "Epoch 1/1\n",
      "1562/1562 [==============================] - 367s 235ms/step - loss: 6.7679\n",
      "теплым одеялом . его израненные -> , что ты , что \n",
      "==================================================\n",
      "Iteration 3\n",
      "Epoch 1/1\n",
      "1562/1562 [==============================] - 365s 234ms/step - loss: 6.5462\n",
      "из последних шатров . он -> , но он не ней \n",
      "==================================================\n",
      "Iteration 4\n",
      "Epoch 1/1\n",
      "1562/1562 [==============================] - 361s 231ms/step - loss: 6.3197\n",
      "аруфс стоит слишком на отшибе -> , но он уже не \n",
      "==================================================\n",
      "Iteration 5\n",
      "Epoch 1/1\n",
      "1562/1562 [==============================] - 360s 230ms/step - loss: 6.1404\n",
      "внутреннее зрение : драумр копа -> , что ты не не \n",
      "==================================================\n",
      "Iteration 6\n",
      "Epoch 1/1\n",
      "1562/1562 [==============================] - 362s 232ms/step - loss: 5.9817\n",
      "с тихим ворчанием попрятались и -> гораздо стрелы . а ты \n",
      "==================================================\n",
      "Iteration 7\n",
      "Epoch 1/1\n",
      "1562/1562 [==============================] - 360s 231ms/step - loss: 5.8328\n",
      "с всадниками . значит , -> что же , что ты \n",
      "==================================================\n",
      "Iteration 8\n",
      "Epoch 1/1\n",
      "1562/1562 [==============================] - 360s 231ms/step - loss: 5.7019\n",
      "это не оружие , а -> они в нем , потому \n",
      "==================================================\n",
      "Iteration 9\n",
      "Epoch 1/1\n",
      "1562/1562 [==============================] - 348s 223ms/step - loss: 5.5946\n",
      "рассказывай , куда собрался ? -> эрагон спросил : . а \n",
      "==================================================\n",
      "Iteration 10\n",
      "Epoch 1/1\n",
      "1562/1562 [==============================] - 311s 199ms/step - loss: 5.5411\n",
      "не было ! тут же -> меча . удивился эрагон , \n",
      "==================================================\n",
      "Iteration 11\n",
      "Epoch 1/1\n",
      "1562/1562 [==============================] - 310s 199ms/step - loss: 5.4766\n",
      "трещины лопались и на губах -> берегу берегу берегу берегу свете \n",
      "==================================================\n",
      "Iteration 12\n",
      "Epoch 1/1\n",
      "1562/1562 [==============================] - 314s 201ms/step - loss: 5.4500\n",
      "оседлали коней и двинулись в -> ней было ней помощью свете \n",
      "==================================================\n",
      "Iteration 13\n",
      "Epoch 1/1\n",
      "1562/1562 [==============================] - 301s 193ms/step - loss: 5.5099\n",
      "связаны с землей неведомыми нам -> бы берегу берегу свете , \n",
      "==================================================\n",
      "Iteration 14\n",
      "Epoch 1/1\n",
      "1562/1562 [==============================] - 302s 194ms/step - loss: 5.6298\n",
      "через год… ты только представь -> , что в этом воздухе \n",
      "==================================================\n",
      "Iteration 15\n",
      "Epoch 1/1\n",
      "1562/1562 [==============================] - 304s 195ms/step - loss: 5.8027\n",
      "котяра был гладкий , с -> помощью время , что на \n"
     ]
    }
   ],
   "source": [
    "train_model(lstm_model, 'lstm')"
   ]
  },
  {
   "cell_type": "markdown",
   "metadata": {},
   "source": [
    "# BiLSTM <a id=\"bilstm\"></a>"
   ]
  },
  {
   "cell_type": "code",
   "execution_count": 31,
   "metadata": {
    "scrolled": true
   },
   "outputs": [
    {
     "name": "stdout",
     "output_type": "stream",
     "text": [
      "_________________________________________________________________\n",
      "Layer (type)                 Output Shape              Param #   \n",
      "=================================================================\n",
      "embedding_2 (Embedding)      (None, 5, 100)            1649700   \n",
      "_________________________________________________________________\n",
      "bidirectional_1 (Bidirection (None, 256)               234496    \n",
      "_________________________________________________________________\n",
      "dense_2 (Dense)              (None, 16497)             4239729   \n",
      "=================================================================\n",
      "Total params: 6,123,925\n",
      "Trainable params: 6,123,925\n",
      "Non-trainable params: 0\n",
      "_________________________________________________________________\n"
     ]
    }
   ],
   "source": [
    "bilstm_model = Sequential()\n",
    "bilstm_model.add(Embedding(train_vocab, embed_size, input_length=seqlen))\n",
    "bilstm_model.add(Bidirectional(LSTM(hidden_size, return_sequences=False, unroll=True)))\n",
    "bilstm_model.add(Dense(train_vocab, activation=\"softmax\"))\n",
    "\n",
    "bilstm_model.compile(loss=\"categorical_crossentropy\", optimizer=\"rmsprop\")\n",
    "bilstm_model.summary()"
   ]
  },
  {
   "cell_type": "code",
   "execution_count": 32,
   "metadata": {
    "scrolled": true
   },
   "outputs": [
    {
     "name": "stdout",
     "output_type": "stream",
     "text": [
      "==================================================\n",
      "Iteration 1\n",
      "Epoch 1/1\n",
      "1562/1562 [==============================] - 381s 244ms/step - loss: 7.0712\n",
      "перчатки , если они у -> него . и , что \n",
      "==================================================\n",
      "Iteration 2\n",
      "Epoch 1/1\n",
      "1562/1562 [==============================] - 382s 244ms/step - loss: 6.6541\n",
      "нашим далеким предкам понадобилось целых -> . а ты же не \n",
      "==================================================\n",
      "Iteration 3\n",
      "Epoch 1/1\n",
      "1562/1562 [==============================] - 383s 245ms/step - loss: 6.3766\n",
      "срезав их с колючих вьющихся -> . а ты бы не \n",
      "==================================================\n",
      "Iteration 4\n",
      "Epoch 1/1\n",
      "1562/1562 [==============================] - 381s 244ms/step - loss: 6.1345\n",
      "издает долгий , исполненный страдания -> , и в камень , \n",
      "==================================================\n",
      "Iteration 5\n",
      "Epoch 1/1\n",
      "1562/1562 [==============================] - 392s 251ms/step - loss: 5.9502\n",
      "рассмеялся эрагон . я и -> не смогу магии , что \n",
      "==================================================\n",
      "Iteration 6\n",
      "Epoch 1/1\n",
      "1562/1562 [==============================] - 391s 250ms/step - loss: 5.7999\n",
      "в этом уверен , загадочно -> сказала эрагон , но в \n",
      "==================================================\n",
      "Iteration 7\n",
      "Epoch 1/1\n",
      "1562/1562 [==============================] - 393s 252ms/step - loss: 5.6621\n",
      "давать советы такому великому человеку -> , что ты , конечно \n",
      "==================================================\n",
      "Iteration 8\n",
      "Epoch 1/1\n",
      "1562/1562 [==============================] - 386s 247ms/step - loss: 5.5278\n",
      "то ли погибли , то -> и что , если бы \n",
      "==================================================\n",
      "Iteration 9\n",
      "Epoch 1/1\n",
      "1562/1562 [==============================] - 380s 243ms/step - loss: 5.4073\n",
      "скорей разберется , какая муха -> его итоге с бромом ее \n",
      "==================================================\n",
      "Iteration 10\n",
      "Epoch 1/1\n",
      "1562/1562 [==============================] - 384s 246ms/step - loss: 5.3464\n",
      "к подножию невысокого заросшего мохом -> своим удар помощью время . \n",
      "==================================================\n",
      "Iteration 11\n",
      "Epoch 1/1\n",
      "1562/1562 [==============================] - 384s 246ms/step - loss: 5.2817\n",
      "бром совсем помрачнел , когда -> же нем в нем , \n",
      "==================================================\n",
      "Iteration 12\n",
      "Epoch 1/1\n",
      "1562/1562 [==============================] - 377s 241ms/step - loss: 5.2468\n",
      "в ответ сапфира . опять -> ним , с ним нем \n",
      "==================================================\n",
      "Iteration 13\n",
      "Epoch 1/1\n",
      "1562/1562 [==============================] - 383s 245ms/step - loss: 5.2728\n",
      ", и часто усаживался на -> нем , с ним , \n",
      "==================================================\n",
      "Iteration 14\n",
      "Epoch 1/1\n",
      "1562/1562 [==============================] - 379s 242ms/step - loss: 5.3914\n",
      "ней блеснуло золотое кольцо с -> помощью магии , если бы \n",
      "==================================================\n",
      "Iteration 15\n",
      "Epoch 1/1\n",
      "1562/1562 [==============================] - 387s 248ms/step - loss: 5.5180\n",
      ", сказал , обращаясь к -> , но , в , \n"
     ]
    }
   ],
   "source": [
    "train_model(bilstm_model, 'bilstm')"
   ]
  },
  {
   "cell_type": "markdown",
   "metadata": {},
   "source": [
    "# GRU <a id=\"gru\"></a>"
   ]
  },
  {
   "cell_type": "code",
   "execution_count": 33,
   "metadata": {},
   "outputs": [
    {
     "name": "stdout",
     "output_type": "stream",
     "text": [
      "_________________________________________________________________\n",
      "Layer (type)                 Output Shape              Param #   \n",
      "=================================================================\n",
      "embedding_3 (Embedding)      (None, 5, 100)            1649700   \n",
      "_________________________________________________________________\n",
      "gru_1 (GRU)                  (None, 128)               87936     \n",
      "_________________________________________________________________\n",
      "dense_3 (Dense)              (None, 16497)             2128113   \n",
      "=================================================================\n",
      "Total params: 3,865,749\n",
      "Trainable params: 3,865,749\n",
      "Non-trainable params: 0\n",
      "_________________________________________________________________\n"
     ]
    }
   ],
   "source": [
    "gru_model = Sequential()\n",
    "gru_model.add(Embedding(train_vocab, embed_size, input_length=seqlen))\n",
    "gru_model.add(GRU(hidden_size, return_sequences=False, unroll=True))\n",
    "gru_model.add(Dense(train_vocab, activation=\"softmax\"))\n",
    "\n",
    "gru_model.compile(loss=\"categorical_crossentropy\", optimizer=\"rmsprop\")\n",
    "gru_model.summary()"
   ]
  },
  {
   "cell_type": "code",
   "execution_count": 34,
   "metadata": {
    "scrolled": true
   },
   "outputs": [
    {
     "name": "stdout",
     "output_type": "stream",
     "text": [
      "==================================================\n",
      "Iteration 1\n",
      "Epoch 1/1\n",
      "1562/1562 [==============================] - 305s 195ms/step - loss: 7.0502\n",
      "всего второго этажа . водосточные -> , что ты не него \n",
      "==================================================\n",
      "Iteration 2\n",
      "Epoch 1/1\n",
      "1562/1562 [==============================] - 306s 196ms/step - loss: 6.6281s - loss: 6\n",
      "подвал и торжественно пообещали мне -> не него . эрагон , \n",
      "==================================================\n",
      "Iteration 3\n",
      "Epoch 1/1\n",
      "1562/1562 [==============================] - 291s 186ms/step - loss: 6.3588\n",
      "не думаю , что раззаки -> , что ты не не \n",
      "==================================================\n",
      "Iteration 4\n",
      "Epoch 1/1\n",
      "1562/1562 [==============================] - 292s 187ms/step - loss: 6.1556\n",
      "не вернемся . может , -> что ты не просто не \n",
      "==================================================\n",
      "Iteration 5\n",
      "Epoch 1/1\n",
      "1562/1562 [==============================] - 290s 186ms/step - loss: 6.0005\n",
      "потом повернулся к хелен и -> стал , что он не \n",
      "==================================================\n",
      "Iteration 6\n",
      "Epoch 1/1\n",
      "1562/1562 [==============================] - 291s 186ms/step - loss: 5.8768\n",
      "головы ! охладил его пыл -> . эрагон , и эрагон \n",
      "==================================================\n",
      "Iteration 7\n",
      "Epoch 1/1\n",
      "1562/1562 [==============================] - 293s 188ms/step - loss: 5.7836\n",
      "эрагона . резко повернувшись в -> меч , но в сторону \n",
      "==================================================\n",
      "Iteration 8\n",
      "Epoch 1/1\n",
      "1562/1562 [==============================] - 292s 187ms/step - loss: 5.6871s - loss: 5.\n",
      "потом ноги у него подкосились -> , и эрагон , как \n",
      "==================================================\n",
      "Iteration 9\n",
      "Epoch 1/1\n",
      "1562/1562 [==============================] - 292s 187ms/step - loss: 5.5776\n",
      "я ответил на твой вопрос -> . я , конечно , \n",
      "==================================================\n",
      "Iteration 10\n",
      "Epoch 1/1\n",
      "1562/1562 [==============================] - 293s 187ms/step - loss: 5.5622s - loss: \n",
      "почтенным старцем ! время , -> если ты , что он \n",
      "==================================================\n",
      "Iteration 11\n",
      "Epoch 1/1\n",
      "1562/1562 [==============================] - 292s 187ms/step - loss: 5.8598\n",
      "то , ради чего затеяли -> из него было бы ни \n",
      "==================================================\n",
      "Iteration 12\n",
      "Epoch 1/1\n",
      "1562/1562 [==============================] - 295s 189ms/step - loss: 6.0020s - lo\n",
      "трав , теперь , правда -> , и в этом не \n",
      "==================================================\n",
      "Iteration 13\n",
      "Epoch 1/1\n",
      "1562/1562 [==============================] - 295s 189ms/step - loss: 6.0739\n",
      "том пятне на ладони , -> и эрагон , как и \n",
      "==================================================\n",
      "Iteration 14\n",
      "Epoch 1/1\n",
      "1562/1562 [==============================] - 303s 194ms/step - loss: 6.0605\n",
      ". не знаю , правда -> , я и не в \n",
      "==================================================\n",
      "Iteration 15\n",
      "Epoch 1/1\n",
      "1562/1562 [==============================] - 307s 197ms/step - loss: 6.0431\n",
      "не позволит слоану обижать ни -> в , но он не \n"
     ]
    }
   ],
   "source": [
    "train_model(gru_model, 'gru')"
   ]
  },
  {
   "cell_type": "markdown",
   "metadata": {},
   "source": [
    "Все три модели к 15 итерации порождают довольно неплохие кусочки текста"
   ]
  },
  {
   "cell_type": "markdown",
   "metadata": {},
   "source": [
    "# Оценка моделей, подсчёт перплексии <a id=\"eval\"></a>"
   ]
  },
  {
   "cell_type": "markdown",
   "metadata": {},
   "source": [
    "Посчитаем перплексию моделей на тестовом тексте"
   ]
  },
  {
   "cell_type": "code",
   "execution_count": 23,
   "metadata": {},
   "outputs": [],
   "source": [
    "def perplexity(probs):\n",
    "    logsum = 0\n",
    "    for prob in probs:\n",
    "        log_prob = math.log2(prob)\n",
    "        #print(log_prob)\n",
    "        logsum += log_prob\n",
    "        #print(logsum)\n",
    "        #print()\n",
    "    l = logsum/len(probs)\n",
    "    #print(l)\n",
    "    perplex = math.pow(2, -l)\n",
    "    #print(perplex)\n",
    "    return perplex"
   ]
  },
  {
   "cell_type": "code",
   "execution_count": 24,
   "metadata": {},
   "outputs": [],
   "source": [
    "def eval_model(model):\n",
    "    probs = []\n",
    "    for i in range(len(test_inputs)): # для каждой последовательности в тестовой выборке\n",
    "        #print(\"Iteration {}\".format(i+1))\n",
    "        test_input = test_inputs[i]\n",
    "        test_label = test_labels[i]\n",
    "        #print(test_input, test_label, sep=' -> ', end=' ')\n",
    "        test_seq = np.zeros((1, seqlen)) # кодируем эту последовательность, чтобы по ней предсказать\n",
    "        for w, word in enumerate(test_input):\n",
    "            test_seq[0, w] = train2index[word]\n",
    "        pred = model.predict(test_seq, verbose=0)[0]\n",
    "        #print(len(pred), pred)\n",
    "        prob = pred[train2index[test_label]] # берём вероятность с нужного индекса \n",
    "        probs.append(prob)\n",
    "        #print(prob)\n",
    "    perplex = perplexity(probs)\n",
    "    #print('\\nPerplexity: {}'.format(perplex))\n",
    "    return perplex"
   ]
  },
  {
   "cell_type": "code",
   "execution_count": 37,
   "metadata": {},
   "outputs": [
    {
     "name": "stdout",
     "output_type": "stream",
     "text": [
      "2019-01-15 08:28:53.520043\n",
      "2019-01-15 08:29:23.411906\n",
      "2019-01-15 08:30:02.573542\n",
      "2019-01-15 08:30:31.480971\n"
     ]
    }
   ],
   "source": [
    "print(datetime.now())\n",
    "lstm_perplex = eval_model(lstm_model)\n",
    "print(datetime.now())\n",
    "bilstm_perplex = eval_model(bilstm_model)\n",
    "print(datetime.now())\n",
    "gru_perplex = eval_model(gru_model)\n",
    "print(datetime.now())"
   ]
  },
  {
   "cell_type": "code",
   "execution_count": 38,
   "metadata": {},
   "outputs": [
    {
     "name": "stdout",
     "output_type": "stream",
     "text": [
      "\n",
      "LSTM:\t1770.162\n",
      "BiLSTM:\t1707.516\n",
      "GRU:\t1624.744\n"
     ]
    }
   ],
   "source": [
    "print('''\n",
    "LSTM:\\t{}\n",
    "BiLSTM:\\t{}\n",
    "GRU:\\t{}'''.format(round(lstm_perplex, 3), round(bilstm_perplex, 3), round(gru_perplex, 3)))"
   ]
  },
  {
   "cell_type": "markdown",
   "metadata": {},
   "source": [
    "Кажется, это не очень хорошие результаты, хотя они и объяснимы тем, что у нас и слов-то в тестовом корпусе не осталось толком :с А BiLSTM показала перплексию ниже, чем обычная LSTM. Посмотрим, как переплексия моделей менялась с течением времени."
   ]
  },
  {
   "cell_type": "code",
   "execution_count": 25,
   "metadata": {},
   "outputs": [],
   "source": [
    "def history(model_type):\n",
    "    model_history = []\n",
    "    for it in range(iters):\n",
    "        model = load_model('{}\\\\LM-{}.h5'.format(model_type, it+1))\n",
    "        print('Оцениваю модель {}-{}'.format(model_type, it+1))\n",
    "        perplex = eval_model(model)\n",
    "        print(datetime.now())\n",
    "        model_history.append(perplex)\n",
    "    return model_history"
   ]
  },
  {
   "cell_type": "code",
   "execution_count": 40,
   "metadata": {
    "scrolled": true
   },
   "outputs": [
    {
     "name": "stdout",
     "output_type": "stream",
     "text": [
      "2019-01-15 08:30:31.947817\n",
      "Оцениваю модель lstm-1\n",
      "2019-01-15 08:31:10.291050\n",
      "Оцениваю модель lstm-2\n",
      "2019-01-15 08:31:47.112981\n",
      "Оцениваю модель lstm-3\n",
      "2019-01-15 08:32:25.554944\n",
      "Оцениваю модель lstm-4\n",
      "2019-01-15 08:33:06.452502\n",
      "Оцениваю модель lstm-5\n",
      "2019-01-15 08:33:50.890789\n",
      "Оцениваю модель lstm-6\n",
      "2019-01-15 08:34:35.251202\n",
      "Оцениваю модель lstm-7\n",
      "2019-01-15 08:35:19.250822\n",
      "Оцениваю модель lstm-8\n",
      "2019-01-15 08:36:05.349399\n",
      "Оцениваю модель lstm-9\n",
      "2019-01-15 08:36:51.749819\n",
      "Оцениваю модель lstm-10\n",
      "2019-01-15 08:37:39.743308\n",
      "Оцениваю модель lstm-11\n",
      "2019-01-15 08:38:29.751127\n",
      "Оцениваю модель lstm-12\n",
      "2019-01-15 08:39:21.287718\n",
      "Оцениваю модель lstm-13\n",
      "2019-01-15 08:40:09.776948\n",
      "Оцениваю модель lstm-14\n",
      "2019-01-15 08:41:02.213890\n",
      "Оцениваю модель lstm-15\n",
      "2019-01-15 08:41:55.308554\n"
     ]
    }
   ],
   "source": [
    "print(datetime.now())\n",
    "lstm_history = history('lstm')"
   ]
  },
  {
   "cell_type": "code",
   "execution_count": 41,
   "metadata": {
    "scrolled": true
   },
   "outputs": [
    {
     "name": "stdout",
     "output_type": "stream",
     "text": [
      "2019-01-15 08:41:55.366523\n",
      "Оцениваю модель bilstm-1\n",
      "2019-01-15 08:43:02.427474\n",
      "Оцениваю модель bilstm-2\n",
      "2019-01-15 08:44:12.470324\n",
      "Оцениваю модель bilstm-3\n",
      "2019-01-15 08:45:26.365622\n",
      "Оцениваю модель bilstm-4\n",
      "2019-01-15 08:46:46.314368\n",
      "Оцениваю модель bilstm-5\n",
      "2019-01-15 08:48:06.426901\n",
      "Оцениваю модель bilstm-6\n",
      "2019-01-15 08:49:29.728032\n",
      "Оцениваю модель bilstm-7\n",
      "2019-01-15 08:50:57.721389\n",
      "Оцениваю модель bilstm-8\n",
      "2019-01-15 08:52:30.085440\n",
      "Оцениваю модель bilstm-9\n",
      "2019-01-15 08:54:07.723006\n",
      "Оцениваю модель bilstm-10\n",
      "2019-01-15 08:55:43.972943\n",
      "Оцениваю модель bilstm-11\n",
      "2019-01-15 08:57:29.948372\n",
      "Оцениваю модель bilstm-12\n",
      "2019-01-15 08:59:15.146255\n",
      "Оцениваю модель bilstm-13\n",
      "2019-01-15 09:01:05.509387\n",
      "Оцениваю модель bilstm-14\n",
      "2019-01-15 09:03:08.956070\n",
      "Оцениваю модель bilstm-15\n",
      "2019-01-15 09:05:05.541615\n"
     ]
    }
   ],
   "source": [
    "print(datetime.now())\n",
    "bilstm_history = history('bilstm')"
   ]
  },
  {
   "cell_type": "code",
   "execution_count": 42,
   "metadata": {
    "scrolled": true
   },
   "outputs": [
    {
     "name": "stdout",
     "output_type": "stream",
     "text": [
      "2019-01-15 09:05:05.558586\n",
      "Оцениваю модель gru-1\n",
      "2019-01-15 09:06:39.432915\n",
      "Оцениваю модель gru-2\n",
      "2019-01-15 09:08:08.187999\n",
      "Оцениваю модель gru-3\n",
      "2019-01-15 09:09:42.779461\n",
      "Оцениваю модель gru-4\n",
      "2019-01-15 09:11:16.636730\n",
      "Оцениваю модель gru-5\n",
      "2019-01-15 09:12:54.690997\n",
      "Оцениваю модель gru-6\n",
      "2019-01-15 09:14:29.980435\n",
      "Оцениваю модель gru-7\n",
      "2019-01-15 09:16:08.255676\n",
      "Оцениваю модель gru-8\n",
      "2019-01-15 09:17:50.251782\n",
      "Оцениваю модель gru-9\n",
      "2019-01-15 09:19:29.243488\n",
      "Оцениваю модель gru-10\n",
      "2019-01-15 09:21:10.808935\n",
      "Оцениваю модель gru-11\n",
      "2019-01-15 09:23:07.069445\n",
      "Оцениваю модель gru-12\n",
      "2019-01-15 09:24:52.177151\n",
      "Оцениваю модель gru-13\n",
      "2019-01-15 09:26:49.077365\n",
      "Оцениваю модель gru-14\n",
      "2019-01-15 09:28:34.738468\n",
      "Оцениваю модель gru-15\n",
      "2019-01-15 09:30:23.555363\n"
     ]
    }
   ],
   "source": [
    "print(datetime.now())\n",
    "gru_history = history('gru')"
   ]
  },
  {
   "cell_type": "code",
   "execution_count": 26,
   "metadata": {},
   "outputs": [],
   "source": [
    "def vis_perplexity(model_history, model_type):\n",
    "    perplexity = model_history\n",
    "    epochs = [e+1 for e in range(iters)]\n",
    "\n",
    "    plt.plot(epochs, perplexity, 'b')\n",
    "    plt.title(model_type)\n",
    "    plt.xlabel('Epochs')\n",
    "    plt.ylabel('Perplexity')\n",
    "\n",
    "    plt.show()"
   ]
  },
  {
   "cell_type": "code",
   "execution_count": 44,
   "metadata": {
    "scrolled": false
   },
   "outputs": [
    {
     "data": {
      "image/png": "[encoded data removed]",
      "text/plain": [
       "<Figure size 432x288 with 1 Axes>"
      ]
     },
     "metadata": {
      "needs_background": "light"
     },
     "output_type": "display_data"
    }
   ],
   "source": [
    "vis_perplexity(lstm_history, 'LSTM')"
   ]
  },
  {
   "cell_type": "code",
   "execution_count": 45,
   "metadata": {
    "scrolled": true
   },
   "outputs": [
    {
     "data": {
      "image/png": "[encoded data removed]",
      "text/plain": [
       "<Figure size 432x288 with 1 Axes>"
      ]
     },
     "metadata": {
      "needs_background": "light"
     },
     "output_type": "display_data"
    }
   ],
   "source": [
    "vis_perplexity(bilstm_history, 'BiLSTM')"
   ]
  },
  {
   "cell_type": "code",
   "execution_count": 46,
   "metadata": {},
   "outputs": [
    {
     "data": {
      "image/png": "[encoded data removed]",
      "text/plain": [
       "<Figure size 432x288 with 1 Axes>"
      ]
     },
     "metadata": {
      "needs_background": "light"
     },
     "output_type": "display_data"
    }
   ],
   "source": [
    "vis_perplexity(gru_history, 'GRU')"
   ]
  },
  {
   "cell_type": "markdown",
   "metadata": {},
   "source": [
    "Поначалу перплексия относительно низкая, но со временем растёт всё быстрей, а затем снова начинает уменьшаться"
   ]
  },
  {
   "cell_type": "markdown",
   "metadata": {},
   "source": [
    "Теперь попробуем сгенерировать текст, начиная со случайной последовательности тестовой выборки"
   ]
  },
  {
   "cell_type": "code",
   "execution_count": 51,
   "metadata": {
    "scrolled": true
   },
   "outputs": [
    {
     "name": "stdout",
     "output_type": "stream",
     "text": [
      "3351\n",
      "['доброе', 'ли', '?', 'он', 'посмотрел']\n"
     ]
    }
   ],
   "source": [
    "gen_len = 300 # предскажем 300 слов\n",
    "start_idx = random.randint(0, len(test_inputs))# начнём с последовательности тестового текста и продолжим, но для удобства сравнения случайная последовательность будет для всех моделей общая\n",
    "print(start_idx)\n",
    "print(test_inputs[start_idx])"
   ]
  },
  {
   "cell_type": "code",
   "execution_count": 27,
   "metadata": {},
   "outputs": [],
   "source": [
    "def inference(model):\n",
    "    test_input = test_inputs[start_idx] # начнём с последовательности тестового текста и продолжим\n",
    "    print(' '.join(test_input), end = ' -> ')\n",
    "    for step in range(gen_len):\n",
    "        test_seq = np.zeros((1, seqlen)) # кодируем эту последовательность, чтобы по ней предсказать\n",
    "        for w, word in enumerate(test_input):\n",
    "            test_seq[0, w] = train2index[word]\n",
    "        pred = model.predict(test_seq, verbose=0)[0]\n",
    "        variants = [] # варианты будущего слова\n",
    "        for i in range(3):\n",
    "            max_idx = np.argmax(pred)\n",
    "            pred_w = index2train[max_idx]\n",
    "            variants.append(pred_w)\n",
    "            pred[max_idx] = 0 # обнуляем текущий максимум и выбираем снова\n",
    "        #print(variants)\n",
    "        new_w = random.choice(variants)\n",
    "        print(new_w, end=\" \")\n",
    "        test_input = test_input[1:] + [new_w]\n",
    "    print()"
   ]
  },
  {
   "cell_type": "code",
   "execution_count": 53,
   "metadata": {
    "scrolled": true
   },
   "outputs": [
    {
     "name": "stdout",
     "output_type": "stream",
     "text": [
      "доброе ли ? он посмотрел -> в ней : не только в этом не помощью тебя и не по свете было бы , как в же с ней не так и не было бы не в этом свете ни о них и тебе не в этом свете тебе не в этом и тебе в ней не в руке ? было быть ! ты не так ты не в нем с на него не было всех всех него не всех ни о нем помощью тебя не было в свете . в случае так не было в этом случае . в этом свете не в этом него не было него помощью в свете ни в том , как ты на него и гораздо без время всех этом или в том и с бромом на этом не к всех этом ней , как в же сторону не было , а что и не на него так не него было в сторону и не было бы в ней . он с помощью бы в помощью этом свете , как на свете , и в сторону , но я просто не помощью того ? тебе быть бы тебя и ни было из помощью него ни ее и не помощью всех ни бы не было в сторону и с помощью свете . я с не в помощью случае , или в этом так что ? в эрагон с не помощью было помощью его не было бы в сторону и с ней , не к ней его не было . эрагон с помощью из этом помощью этом свете не в этом не в него этом не этом ? эрагон с бромом . на этом не на него этом с головой ней в этом сторону с ней не было в помощью случае , ни к ней в ней , ни к ней не в \n"
     ]
    }
   ],
   "source": [
    "inference(lstm_model)"
   ]
  },
  {
   "cell_type": "code",
   "execution_count": 54,
   "metadata": {
    "scrolled": true
   },
   "outputs": [
    {
     "name": "stdout",
     "output_type": "stream",
     "text": [
      "доброе ли ? он посмотрел -> в и , с помощью и в и к к с бромом , но , . ты и не только на берегу , в свете . в и ты не , и он не в руке с таких , но в , на свете , с , если ты , в , в , на на берегу он с , : ты , с помощью , из свете , с бромом , он не смогу , но в , он и , в , в и в , с и , в и в , с и таких в и , из и эрагон , с и нем с , пока он с не на него , и в воздухе что на берегу . в и ты не с и , в , на к тебя . и в воздухе , к а до с в , в , с , всех с ними . на тебя , но в свете . в , с таких на в с бромом , не , и , с бромом . но с помощью : из к не свете . и на к к к к не , с бромом к к себе , в воздухе ты . к тому и в , , если ты и не в , и он не на к к не , . в воздухе что , тебя в том , что в нем , из свете к бромом . эрагон , . он с помощью и и , в руке . к бромом . он не к а на таких таких , в свете . и , если в , с на к к себе , и , с в и , в на к а потом и в , в воздухе что , с таких \n"
     ]
    }
   ],
   "source": [
    "inference(bilstm_model)"
   ]
  },
  {
   "cell_type": "code",
   "execution_count": 55,
   "metadata": {},
   "outputs": [
    {
     "name": "stdout",
     "output_type": "stream",
     "text": [
      "доброе ли ? он посмотрел -> на него , но с помощью несколько и , с ним не было в , и эрагон не в : . в , не в или же ты с из всего в или в ? . эрагон и не в . , и , . он , , , , эрагон и , как , и с ним не и с помощью . он было , как он , как , , , и он , и в , . он , и в . не , не , и он , как только на , и он , с помощью в или было бы в о чем он ни в , чтобы эрагон , как в из , он не было в или же не в , . ты и , не в или было не в , но , , эрагон , не , и . в или было не на или , . эрагон не в или же , не на или , , эрагон и с из , , эрагон , , и эрагон не на , и эрагон . в или было , как можно было , чтобы эрагон не было бы с помощью . но с была не и , , чтобы , , эрагон , не было , и эрагон не на , . эрагон , не , и . с ним не было не , , и эрагон . в или было , как бы эрагон не в , и он с из не и в : . в или не , , он . с помощью несколько в , и он с из , он не было в или , не в ? не и с ним , не было бы и , не было бы , что эрагон , как \n"
     ]
    }
   ],
   "source": [
    "inference(gru_model)"
   ]
  },
  {
   "cell_type": "markdown",
   "metadata": {},
   "source": [
    "Забавно, что bilstm научилась предсказывать по большей части союзы, предлогии знаки препинания. Все тексты отвратительны, но у lstm это хотя бы на текст визуально похже"
   ]
  },
  {
   "cell_type": "markdown",
   "metadata": {},
   "source": [
    "# Эксперименты с размерностью эмбеддингов <a id=\"embed\"></a>"
   ]
  },
  {
   "cell_type": "markdown",
   "metadata": {},
   "source": [
    "Для экспериментов выберем lstm. Интересно, повлияет ли на языковую модель размерность эмбеддингов "
   ]
  },
  {
   "cell_type": "code",
   "execution_count": 33,
   "metadata": {},
   "outputs": [],
   "source": [
    "# пришлось переопределить, чтобы включать в назания файлов размерность эмбеддингов\n",
    "def train_model(model, model_type, name):\n",
    "    for it in range(iters):\n",
    "        print('=' * 50)\n",
    "        print('Iteration {}'.format(it+1))\n",
    "        model.fit_generator(gen_batch(train_inputs, train_labels, batch_size), epochs=epochs, steps_per_epoch=steps)\n",
    "\n",
    "        # testing model\n",
    "        # randomly choose a row from input_chars, then use it to \n",
    "        # generate text from model for next 100 chars\n",
    "        test_input = random.choice(train_inputs)\n",
    "        print(' '.join(test_input), end = ' -> ')\n",
    "        for i in range(epoch_preds):\n",
    "            test_seq = np.zeros((1, seqlen)) # кодируем эту последовательность, чтобы по ней предсказать\n",
    "            for w, word in enumerate(test_input):\n",
    "                test_seq[0, w] = train2index[word]\n",
    "            pred = model.predict(test_seq, verbose=0)[0]\n",
    "            pred_w = index2train[np.argmax(pred)]\n",
    "            print(pred_w, end=\" \")\n",
    "            # move forward with test_chars + ypred\n",
    "            test_input = test_input[1:] + [pred_w]\n",
    "        print()\n",
    "        model.save('{}\\\\{}-{}.h5'.format(model_type, name, it+1))"
   ]
  },
  {
   "cell_type": "code",
   "execution_count": 34,
   "metadata": {},
   "outputs": [],
   "source": [
    "def history(model_type, name):\n",
    "    model_history = []\n",
    "    for it in range(iters):\n",
    "        model = load_model('{}\\\\{}-{}.h5'.format(model_type, name, it+1))\n",
    "        print('Оцениваю модель {}-{}'.format(name, it+1))\n",
    "        perplex = eval_model(model)\n",
    "        print(datetime.now())\n",
    "        model_history.append(perplex)\n",
    "    return model_history"
   ]
  },
  {
   "cell_type": "markdown",
   "metadata": {},
   "source": [
    "### 50"
   ]
  },
  {
   "cell_type": "code",
   "execution_count": 46,
   "metadata": {
    "scrolled": true
   },
   "outputs": [
    {
     "name": "stdout",
     "output_type": "stream",
     "text": [
      "_________________________________________________________________\n",
      "Layer (type)                 Output Shape              Param #   \n",
      "=================================================================\n",
      "embedding_3 (Embedding)      (None, 5, 50)             824850    \n",
      "_________________________________________________________________\n",
      "lstm_3 (LSTM)                (None, 128)               91648     \n",
      "_________________________________________________________________\n",
      "dense_3 (Dense)              (None, 16497)             2128113   \n",
      "=================================================================\n",
      "Total params: 3,044,611\n",
      "Trainable params: 3,044,611\n",
      "Non-trainable params: 0\n",
      "_________________________________________________________________\n"
     ]
    }
   ],
   "source": [
    "lstm_50 = Sequential()\n",
    "lstm_50.add(Embedding(train_vocab, 50, input_length=seqlen))\n",
    "lstm_50.add(LSTM(hidden_size, return_sequences=False, unroll=True))\n",
    "lstm_50.add(Dense(train_vocab, activation=\"softmax\"))\n",
    "\n",
    "lstm_50.compile(loss=\"categorical_crossentropy\", optimizer=\"rmsprop\")\n",
    "lstm_50.summary()"
   ]
  },
  {
   "cell_type": "code",
   "execution_count": 65,
   "metadata": {
    "scrolled": true
   },
   "outputs": [
    {
     "name": "stdout",
     "output_type": "stream",
     "text": [
      "==================================================\n",
      "Iteration 1\n",
      "Epoch 1/1\n",
      "1562/1562 [==============================] - 524s 335ms/step - loss: 7.1341\n",
      "отмахнуться . вот только захочет -> , , , , , \n",
      "==================================================\n",
      "Iteration 2\n",
      "Epoch 1/1\n",
      "1562/1562 [==============================] - 452s 290ms/step - loss: 6.8043\n",
      ". вот бром хороший человек -> , но ты , что \n",
      "==================================================\n",
      "Iteration 3\n",
      "Epoch 1/1\n",
      "1562/1562 [==============================] - 467s 299ms/step - loss: 6.5971\n",
      "что во всем есть доля -> , но он , что \n",
      "==================================================\n",
      "Iteration 4\n",
      "Epoch 1/1\n",
      "1562/1562 [==============================] - 473s 303ms/step - loss: 6.3852\n",
      "встал во весь рост и -> ургалы , что ты не \n",
      "==================================================\n",
      "Iteration 5\n",
      "Epoch 1/1\n",
      "1562/1562 [==============================] - 476s 305ms/step - loss: 6.2110\n",
      "говорил медленно , четко произнося -> , но он , но \n",
      "==================================================\n",
      "Iteration 6\n",
      "Epoch 1/1\n",
      "1562/1562 [==============================] - 475s 304ms/step - loss: 6.0764\n",
      "сил и высокая самодисциплина . -> а ты не не не \n",
      "==================================================\n",
      "Iteration 7\n",
      "Epoch 1/1\n",
      "1562/1562 [==============================] - 492s 315ms/step - loss: 5.9658\n",
      "хребта в поисках перевала . -> а ты не не этом \n",
      "==================================================\n",
      "Iteration 8\n",
      "Epoch 1/1\n",
      "1562/1562 [==============================] - 485s 310ms/step - loss: 5.8695\n",
      "или закопать в снег весьма -> самые шейд , но он \n",
      "==================================================\n",
      "Iteration 9\n",
      "Epoch 1/1\n",
      "1562/1562 [==============================] - 512s 328ms/step - loss: 5.7794\n",
      "у первого же дома , -> но он не вода , \n",
      "==================================================\n",
      "Iteration 10\n",
      "Epoch 1/1\n",
      "1562/1562 [==============================] - 433s 277ms/step - loss: 5.7041\n",
      "выжить в такие холода , -> которые ли ты бы бы \n",
      "==================================================\n",
      "Iteration 11\n",
      "Epoch 1/1\n",
      "1562/1562 [==============================] - 441s 283ms/step - loss: 5.6686\n",
      "хриплые вопли , а потом -> , чем он , но \n",
      "==================================================\n",
      "Iteration 12\n",
      "Epoch 1/1\n",
      "1562/1562 [==============================] - 461s 295ms/step - loss: 5.7083\n",
      "они приобретают определенный опыт , -> берегу гор в берегу берегу \n",
      "==================================================\n",
      "Iteration 13\n",
      "Epoch 1/1\n",
      "1562/1562 [==============================] - 481s 308ms/step - loss: 5.8005\n",
      ". спасибо тебе , хорст -> , случае в нем не \n",
      "==================================================\n",
      "Iteration 14\n",
      "Epoch 1/1\n",
      "1562/1562 [==============================] - 435s 279ms/step - loss: 5.7576\n",
      ". ему очень хотелось сменить -> всю время в нем время \n",
      "==================================================\n",
      "Iteration 15\n",
      "Epoch 1/1\n",
      "1562/1562 [==============================] - 460s 294ms/step - loss: 5.8118\n",
      "заговорили о том , как -> бы в воздухе , чтобы \n"
     ]
    }
   ],
   "source": [
    "train_model(lstm_50, 'lstm', 'lstm_50')"
   ]
  },
  {
   "cell_type": "markdown",
   "metadata": {},
   "source": [
    "На тренировочном корпусе текст генерируется средненько"
   ]
  },
  {
   "cell_type": "markdown",
   "metadata": {},
   "source": [
    "### 150"
   ]
  },
  {
   "cell_type": "code",
   "execution_count": 31,
   "metadata": {
    "scrolled": true
   },
   "outputs": [
    {
     "name": "stdout",
     "output_type": "stream",
     "text": [
      "_________________________________________________________________\n",
      "Layer (type)                 Output Shape              Param #   \n",
      "=================================================================\n",
      "embedding_2 (Embedding)      (None, 5, 150)            2474550   \n",
      "_________________________________________________________________\n",
      "lstm_2 (LSTM)                (None, 128)               142848    \n",
      "_________________________________________________________________\n",
      "dense_2 (Dense)              (None, 16497)             2128113   \n",
      "=================================================================\n",
      "Total params: 4,745,511\n",
      "Trainable params: 4,745,511\n",
      "Non-trainable params: 0\n",
      "_________________________________________________________________\n"
     ]
    }
   ],
   "source": [
    "lstm_150 = Sequential()\n",
    "lstm_150.add(Embedding(train_vocab, 150, input_length=seqlen))\n",
    "lstm_150.add(LSTM(hidden_size, return_sequences=False, unroll=True))\n",
    "lstm_150.add(Dense(train_vocab, activation=\"softmax\"))\n",
    "\n",
    "lstm_150.compile(loss=\"categorical_crossentropy\", optimizer=\"rmsprop\")\n",
    "lstm_150.summary()"
   ]
  },
  {
   "cell_type": "code",
   "execution_count": 35,
   "metadata": {
    "scrolled": true
   },
   "outputs": [
    {
     "name": "stdout",
     "output_type": "stream",
     "text": [
      "==================================================\n",
      "Iteration 1\n",
      "Epoch 1/1\n",
      "1562/1562 [==============================] - 340s 217ms/step - loss: 7.0859\n",
      "опухоль , которая вроде бы -> , что , что , \n",
      "==================================================\n",
      "Iteration 2\n",
      "Epoch 1/1\n",
      "1562/1562 [==============================] - 327s 209ms/step - loss: 6.7013\n",
      "взять небольшой камень и бросить -> , что ты не , \n",
      "==================================================\n",
      "Iteration 3\n",
      "Epoch 1/1\n",
      "1562/1562 [==============================] - 373s 239ms/step - loss: 6.4514\n",
      "такие эти чужаки ? может -> , что ты не не \n",
      "==================================================\n",
      "Iteration 4\n",
      "Epoch 1/1\n",
      "1562/1562 [==============================] - 348s 223ms/step - loss: 6.2209\n",
      ". он здесь с первых -> ургалов , но не прочим \n",
      "==================================================\n",
      "Iteration 5\n",
      "Epoch 1/1\n",
      "1562/1562 [==============================] - 336s 215ms/step - loss: 6.0377\n",
      ": хелгринд ! ах да -> , что ты не не \n",
      "==================================================\n",
      "Iteration 6\n",
      "Epoch 1/1\n",
      "1562/1562 [==============================] - 337s 216ms/step - loss: 5.8724\n",
      "на кадоке ? честно говоря -> , что ты не не \n",
      "==================================================\n",
      "Iteration 7\n",
      "Epoch 1/1\n",
      "1562/1562 [==============================] - 334s 214ms/step - loss: 5.7246\n",
      "кто они , эти коты-оборотни -> в том , что ты \n",
      "==================================================\n",
      "Iteration 8\n",
      "Epoch 1/1\n",
      "1562/1562 [==============================] - 334s 214ms/step - loss: 5.6083\n",
      "на сегодня хватит . но -> , если ты не смогу \n",
      "==================================================\n",
      "Iteration 9\n",
      "Epoch 1/1\n",
      "1562/1562 [==============================] - 335s 215ms/step - loss: 5.5133\n",
      "факты… казалось , бром , -> что ты , а что \n",
      "==================================================\n",
      "Iteration 10\n",
      "Epoch 1/1\n",
      "1562/1562 [==============================] - 333s 213ms/step - loss: 5.4663\n",
      "и тут они выехали на -> наверняка она которые ты не \n",
      "==================================================\n",
      "Iteration 11\n",
      "Epoch 1/1\n",
      "  95/1562 [>.............................] - ETA: 5:21 - loss: 5.6732"
     ]
    },
    {
     "ename": "KeyboardInterrupt",
     "evalue": "",
     "output_type": "error",
     "traceback": [
      "\u001b[1;31m---------------------------------------------------------------------------\u001b[0m",
      "\u001b[1;31mKeyboardInterrupt\u001b[0m                         Traceback (most recent call last)",
      "\u001b[1;32m<ipython-input-35-a69c3b3f3d95>\u001b[0m in \u001b[0;36m<module>\u001b[1;34m()\u001b[0m\n\u001b[1;32m----> 1\u001b[1;33m \u001b[0mtrain_model\u001b[0m\u001b[1;33m(\u001b[0m\u001b[0mlstm_150\u001b[0m\u001b[1;33m,\u001b[0m \u001b[1;34m'lstm'\u001b[0m\u001b[1;33m,\u001b[0m \u001b[1;34m'lstm_150'\u001b[0m\u001b[1;33m)\u001b[0m\u001b[1;33m\u001b[0m\u001b[0m\n\u001b[0m",
      "\u001b[1;32m<ipython-input-33-245b00394ee7>\u001b[0m in \u001b[0;36mtrain_model\u001b[1;34m(model, model_type, name)\u001b[0m\n\u001b[0;32m      4\u001b[0m         \u001b[0mprint\u001b[0m\u001b[1;33m(\u001b[0m\u001b[1;34m'='\u001b[0m \u001b[1;33m*\u001b[0m \u001b[1;36m50\u001b[0m\u001b[1;33m)\u001b[0m\u001b[1;33m\u001b[0m\u001b[0m\n\u001b[0;32m      5\u001b[0m         \u001b[0mprint\u001b[0m\u001b[1;33m(\u001b[0m\u001b[1;34m'Iteration {}'\u001b[0m\u001b[1;33m.\u001b[0m\u001b[0mformat\u001b[0m\u001b[1;33m(\u001b[0m\u001b[0mit\u001b[0m\u001b[1;33m+\u001b[0m\u001b[1;36m1\u001b[0m\u001b[1;33m)\u001b[0m\u001b[1;33m)\u001b[0m\u001b[1;33m\u001b[0m\u001b[0m\n\u001b[1;32m----> 6\u001b[1;33m         \u001b[0mmodel\u001b[0m\u001b[1;33m.\u001b[0m\u001b[0mfit_generator\u001b[0m\u001b[1;33m(\u001b[0m\u001b[0mgen_batch\u001b[0m\u001b[1;33m(\u001b[0m\u001b[0mtrain_inputs\u001b[0m\u001b[1;33m,\u001b[0m \u001b[0mtrain_labels\u001b[0m\u001b[1;33m,\u001b[0m \u001b[0mbatch_size\u001b[0m\u001b[1;33m)\u001b[0m\u001b[1;33m,\u001b[0m \u001b[0mepochs\u001b[0m\u001b[1;33m=\u001b[0m\u001b[0mepochs\u001b[0m\u001b[1;33m,\u001b[0m \u001b[0msteps_per_epoch\u001b[0m\u001b[1;33m=\u001b[0m\u001b[0msteps\u001b[0m\u001b[1;33m)\u001b[0m\u001b[1;33m\u001b[0m\u001b[0m\n\u001b[0m\u001b[0;32m      7\u001b[0m \u001b[1;33m\u001b[0m\u001b[0m\n\u001b[0;32m      8\u001b[0m         \u001b[1;31m# testing model\u001b[0m\u001b[1;33m\u001b[0m\u001b[1;33m\u001b[0m\u001b[0m\n",
      "\u001b[1;32mc:\\program files\\python36\\lib\\site-packages\\keras\\legacy\\interfaces.py\u001b[0m in \u001b[0;36mwrapper\u001b[1;34m(*args, **kwargs)\u001b[0m\n\u001b[0;32m     89\u001b[0m                 warnings.warn('Update your `' + object_name +\n\u001b[0;32m     90\u001b[0m                               '` call to the Keras 2 API: ' + signature, stacklevel=2)\n\u001b[1;32m---> 91\u001b[1;33m             \u001b[1;32mreturn\u001b[0m \u001b[0mfunc\u001b[0m\u001b[1;33m(\u001b[0m\u001b[1;33m*\u001b[0m\u001b[0margs\u001b[0m\u001b[1;33m,\u001b[0m \u001b[1;33m**\u001b[0m\u001b[0mkwargs\u001b[0m\u001b[1;33m)\u001b[0m\u001b[1;33m\u001b[0m\u001b[0m\n\u001b[0m\u001b[0;32m     92\u001b[0m         \u001b[0mwrapper\u001b[0m\u001b[1;33m.\u001b[0m\u001b[0m_original_function\u001b[0m \u001b[1;33m=\u001b[0m \u001b[0mfunc\u001b[0m\u001b[1;33m\u001b[0m\u001b[0m\n\u001b[0;32m     93\u001b[0m         \u001b[1;32mreturn\u001b[0m \u001b[0mwrapper\u001b[0m\u001b[1;33m\u001b[0m\u001b[0m\n",
      "\u001b[1;32mc:\\program files\\python36\\lib\\site-packages\\keras\\engine\\training.py\u001b[0m in \u001b[0;36mfit_generator\u001b[1;34m(self, generator, steps_per_epoch, epochs, verbose, callbacks, validation_data, validation_steps, class_weight, max_queue_size, workers, use_multiprocessing, shuffle, initial_epoch)\u001b[0m\n\u001b[0;32m   1413\u001b[0m             \u001b[0muse_multiprocessing\u001b[0m\u001b[1;33m=\u001b[0m\u001b[0muse_multiprocessing\u001b[0m\u001b[1;33m,\u001b[0m\u001b[1;33m\u001b[0m\u001b[0m\n\u001b[0;32m   1414\u001b[0m             \u001b[0mshuffle\u001b[0m\u001b[1;33m=\u001b[0m\u001b[0mshuffle\u001b[0m\u001b[1;33m,\u001b[0m\u001b[1;33m\u001b[0m\u001b[0m\n\u001b[1;32m-> 1415\u001b[1;33m             initial_epoch=initial_epoch)\n\u001b[0m\u001b[0;32m   1416\u001b[0m \u001b[1;33m\u001b[0m\u001b[0m\n\u001b[0;32m   1417\u001b[0m     \u001b[1;33m@\u001b[0m\u001b[0minterfaces\u001b[0m\u001b[1;33m.\u001b[0m\u001b[0mlegacy_generator_methods_support\u001b[0m\u001b[1;33m\u001b[0m\u001b[0m\n",
      "\u001b[1;32mc:\\program files\\python36\\lib\\site-packages\\keras\\engine\\training_generator.py\u001b[0m in \u001b[0;36mfit_generator\u001b[1;34m(model, generator, steps_per_epoch, epochs, verbose, callbacks, validation_data, validation_steps, class_weight, max_queue_size, workers, use_multiprocessing, shuffle, initial_epoch)\u001b[0m\n\u001b[0;32m    211\u001b[0m                 outs = model.train_on_batch(x, y,\n\u001b[0;32m    212\u001b[0m                                             \u001b[0msample_weight\u001b[0m\u001b[1;33m=\u001b[0m\u001b[0msample_weight\u001b[0m\u001b[1;33m,\u001b[0m\u001b[1;33m\u001b[0m\u001b[0m\n\u001b[1;32m--> 213\u001b[1;33m                                             class_weight=class_weight)\n\u001b[0m\u001b[0;32m    214\u001b[0m \u001b[1;33m\u001b[0m\u001b[0m\n\u001b[0;32m    215\u001b[0m                 \u001b[0mouts\u001b[0m \u001b[1;33m=\u001b[0m \u001b[0mto_list\u001b[0m\u001b[1;33m(\u001b[0m\u001b[0mouts\u001b[0m\u001b[1;33m)\u001b[0m\u001b[1;33m\u001b[0m\u001b[0m\n",
      "\u001b[1;32mc:\\program files\\python36\\lib\\site-packages\\keras\\engine\\training.py\u001b[0m in \u001b[0;36mtrain_on_batch\u001b[1;34m(self, x, y, sample_weight, class_weight)\u001b[0m\n\u001b[0;32m   1213\u001b[0m             \u001b[0mins\u001b[0m \u001b[1;33m=\u001b[0m \u001b[0mx\u001b[0m \u001b[1;33m+\u001b[0m \u001b[0my\u001b[0m \u001b[1;33m+\u001b[0m \u001b[0msample_weights\u001b[0m\u001b[1;33m\u001b[0m\u001b[0m\n\u001b[0;32m   1214\u001b[0m         \u001b[0mself\u001b[0m\u001b[1;33m.\u001b[0m\u001b[0m_make_train_function\u001b[0m\u001b[1;33m(\u001b[0m\u001b[1;33m)\u001b[0m\u001b[1;33m\u001b[0m\u001b[0m\n\u001b[1;32m-> 1215\u001b[1;33m         \u001b[0moutputs\u001b[0m \u001b[1;33m=\u001b[0m \u001b[0mself\u001b[0m\u001b[1;33m.\u001b[0m\u001b[0mtrain_function\u001b[0m\u001b[1;33m(\u001b[0m\u001b[0mins\u001b[0m\u001b[1;33m)\u001b[0m\u001b[1;33m\u001b[0m\u001b[0m\n\u001b[0m\u001b[0;32m   1216\u001b[0m         \u001b[1;32mreturn\u001b[0m \u001b[0munpack_singleton\u001b[0m\u001b[1;33m(\u001b[0m\u001b[0moutputs\u001b[0m\u001b[1;33m)\u001b[0m\u001b[1;33m\u001b[0m\u001b[0m\n\u001b[0;32m   1217\u001b[0m \u001b[1;33m\u001b[0m\u001b[0m\n",
      "\u001b[1;32mc:\\program files\\python36\\lib\\site-packages\\keras\\backend\\tensorflow_backend.py\u001b[0m in \u001b[0;36m__call__\u001b[1;34m(self, inputs)\u001b[0m\n\u001b[0;32m   2664\u001b[0m                 \u001b[1;32mreturn\u001b[0m \u001b[0mself\u001b[0m\u001b[1;33m.\u001b[0m\u001b[0m_legacy_call\u001b[0m\u001b[1;33m(\u001b[0m\u001b[0minputs\u001b[0m\u001b[1;33m)\u001b[0m\u001b[1;33m\u001b[0m\u001b[0m\n\u001b[0;32m   2665\u001b[0m \u001b[1;33m\u001b[0m\u001b[0m\n\u001b[1;32m-> 2666\u001b[1;33m             \u001b[1;32mreturn\u001b[0m \u001b[0mself\u001b[0m\u001b[1;33m.\u001b[0m\u001b[0m_call\u001b[0m\u001b[1;33m(\u001b[0m\u001b[0minputs\u001b[0m\u001b[1;33m)\u001b[0m\u001b[1;33m\u001b[0m\u001b[0m\n\u001b[0m\u001b[0;32m   2667\u001b[0m         \u001b[1;32melse\u001b[0m\u001b[1;33m:\u001b[0m\u001b[1;33m\u001b[0m\u001b[0m\n\u001b[0;32m   2668\u001b[0m             \u001b[1;32mif\u001b[0m \u001b[0mpy_any\u001b[0m\u001b[1;33m(\u001b[0m\u001b[0mis_tensor\u001b[0m\u001b[1;33m(\u001b[0m\u001b[0mx\u001b[0m\u001b[1;33m)\u001b[0m \u001b[1;32mfor\u001b[0m \u001b[0mx\u001b[0m \u001b[1;32min\u001b[0m \u001b[0minputs\u001b[0m\u001b[1;33m)\u001b[0m\u001b[1;33m:\u001b[0m\u001b[1;33m\u001b[0m\u001b[0m\n",
      "\u001b[1;32mc:\\program files\\python36\\lib\\site-packages\\keras\\backend\\tensorflow_backend.py\u001b[0m in \u001b[0;36m_call\u001b[1;34m(self, inputs)\u001b[0m\n\u001b[0;32m   2634\u001b[0m                                 \u001b[0msymbol_vals\u001b[0m\u001b[1;33m,\u001b[0m\u001b[1;33m\u001b[0m\u001b[0m\n\u001b[0;32m   2635\u001b[0m                                 session)\n\u001b[1;32m-> 2636\u001b[1;33m         \u001b[0mfetched\u001b[0m \u001b[1;33m=\u001b[0m \u001b[0mself\u001b[0m\u001b[1;33m.\u001b[0m\u001b[0m_callable_fn\u001b[0m\u001b[1;33m(\u001b[0m\u001b[1;33m*\u001b[0m\u001b[0marray_vals\u001b[0m\u001b[1;33m)\u001b[0m\u001b[1;33m\u001b[0m\u001b[0m\n\u001b[0m\u001b[0;32m   2637\u001b[0m         \u001b[1;32mreturn\u001b[0m \u001b[0mfetched\u001b[0m\u001b[1;33m[\u001b[0m\u001b[1;33m:\u001b[0m\u001b[0mlen\u001b[0m\u001b[1;33m(\u001b[0m\u001b[0mself\u001b[0m\u001b[1;33m.\u001b[0m\u001b[0moutputs\u001b[0m\u001b[1;33m)\u001b[0m\u001b[1;33m]\u001b[0m\u001b[1;33m\u001b[0m\u001b[0m\n\u001b[0;32m   2638\u001b[0m \u001b[1;33m\u001b[0m\u001b[0m\n",
      "\u001b[1;32mc:\\program files\\python36\\lib\\site-packages\\tensorflow\\python\\client\\session.py\u001b[0m in \u001b[0;36m__call__\u001b[1;34m(self, *args, **kwargs)\u001b[0m\n\u001b[0;32m   1380\u001b[0m           ret = tf_session.TF_SessionRunCallable(\n\u001b[0;32m   1381\u001b[0m               \u001b[0mself\u001b[0m\u001b[1;33m.\u001b[0m\u001b[0m_session\u001b[0m\u001b[1;33m.\u001b[0m\u001b[0m_session\u001b[0m\u001b[1;33m,\u001b[0m \u001b[0mself\u001b[0m\u001b[1;33m.\u001b[0m\u001b[0m_handle\u001b[0m\u001b[1;33m,\u001b[0m \u001b[0margs\u001b[0m\u001b[1;33m,\u001b[0m \u001b[0mstatus\u001b[0m\u001b[1;33m,\u001b[0m\u001b[1;33m\u001b[0m\u001b[0m\n\u001b[1;32m-> 1382\u001b[1;33m               run_metadata_ptr)\n\u001b[0m\u001b[0;32m   1383\u001b[0m         \u001b[1;32mif\u001b[0m \u001b[0mrun_metadata\u001b[0m\u001b[1;33m:\u001b[0m\u001b[1;33m\u001b[0m\u001b[0m\n\u001b[0;32m   1384\u001b[0m           \u001b[0mproto_data\u001b[0m \u001b[1;33m=\u001b[0m \u001b[0mtf_session\u001b[0m\u001b[1;33m.\u001b[0m\u001b[0mTF_GetBuffer\u001b[0m\u001b[1;33m(\u001b[0m\u001b[0mrun_metadata_ptr\u001b[0m\u001b[1;33m)\u001b[0m\u001b[1;33m\u001b[0m\u001b[0m\n",
      "\u001b[1;31mKeyboardInterrupt\u001b[0m: "
     ]
    }
   ],
   "source": [
    "train_model(lstm_150, 'lstm', 'lstm_150') # остановида на 10 эпохах"
   ]
  },
  {
   "cell_type": "code",
   "execution_count": 68,
   "metadata": {
    "scrolled": true
   },
   "outputs": [
    {
     "name": "stdout",
     "output_type": "stream",
     "text": [
      "2019-01-15 20:40:40.763932\n",
      "Оцениваю модель lstm_50-1\n",
      "2019-01-15 20:43:45.205296\n",
      "Оцениваю модель lstm_50-2\n",
      "2019-01-15 20:46:41.947252\n",
      "Оцениваю модель lstm_50-3\n",
      "2019-01-15 20:49:48.530500\n",
      "Оцениваю модель lstm_50-4\n",
      "2019-01-15 20:52:44.009078\n",
      "Оцениваю модель lstm_50-5\n",
      "2019-01-15 20:55:46.756672\n",
      "Оцениваю модель lstm_50-6\n",
      "2019-01-15 20:58:43.243354\n",
      "Оцениваю модель lstm_50-7\n",
      "2019-01-15 21:01:48.939013\n",
      "Оцениваю модель lstm_50-8\n",
      "2019-01-15 21:04:56.049335\n",
      "Оцениваю модель lstm_50-9\n",
      "2019-01-15 21:08:07.209410\n",
      "Оцениваю модель lstm_50-10\n",
      "2019-01-15 21:12:02.362753\n",
      "Оцениваю модель lstm_50-11\n",
      "2019-01-15 21:15:17.103532\n",
      "Оцениваю модель lstm_50-12\n",
      "2019-01-15 21:18:31.939577\n",
      "Оцениваю модель lstm_50-13\n",
      "2019-01-15 21:21:50.450785\n",
      "Оцениваю модель lstm_50-14\n",
      "2019-01-15 21:25:08.335878\n",
      "Оцениваю модель lstm_50-15\n",
      "2019-01-15 21:28:30.561996\n"
     ]
    }
   ],
   "source": [
    "print(datetime.now())\n",
    "lstm_50_history = history('lstm', 'lstm_50')"
   ]
  },
  {
   "cell_type": "code",
   "execution_count": 70,
   "metadata": {},
   "outputs": [
    {
     "data": {
      "image/png": "[encoded data removed]",
      "text/plain": [
       "<Figure size 432x288 with 1 Axes>"
      ]
     },
     "metadata": {
      "needs_background": "light"
     },
     "output_type": "display_data"
    }
   ],
   "source": [
    "vis_perplexity(lstm_50_history, 'LSTM-50')"
   ]
  },
  {
   "cell_type": "markdown",
   "metadata": {},
   "source": [
    "А график похож на то, что мы видели у предыдущих моделей"
   ]
  },
  {
   "cell_type": "code",
   "execution_count": 71,
   "metadata": {},
   "outputs": [
    {
     "name": "stdout",
     "output_type": "stream",
     "text": [
      "доброе ли ? он посмотрел -> в том , что в нем из нем время же , но же берегу из них не ни не пришлось в нем в этом случае ли же же не было из том в том , но и его в том в нем в этом в воздухе время ты не всего ни в этом том в том . и в воздухе , но же же же с ним в воздухе ! а это было время , чтобы его из нем из том в том и , глаза в случае же бы не так , что же бы в воздухе случае , которые в нем время не хватит ! но ведь , если бы в бромом из том на берегу в воздухе , которые я не нем , чтобы он не бы не плечами в этом ты бы в том в том и в воздухе из время время в том , и наконец в берегу него с помощью всех ли в том , но на него из том в том на эрагона , но и не ни на нем из них время же же в воздухе . он гальбаторикс из время , если я просто бы не было ни в том в этом . которые ургалов с не было , которые это бы не было в нем время берегу из время же воздухе тебя с бромом , ни в нем не могу и с том , как на воздухе берегу ли бы бы бы в воздухе случае ли же не было из нем случае , если бы в воздухе из этом не воздухе , но эрагон , которые же ты не нем , чтобы берегу в воздухе не раз ты с ней не ни в нем на берегу случае , которые он не всего в нем в этом случае же не могу \n"
     ]
    }
   ],
   "source": [
    "inference(lstm_50)"
   ]
  },
  {
   "cell_type": "code",
   "execution_count": 53,
   "metadata": {
    "scrolled": true
   },
   "outputs": [
    {
     "name": "stdout",
     "output_type": "stream",
     "text": [
      "доброе ли ? он посмотрел -> в ней : не только в этом не помощью тебя и не по свете было бы , как в же с ней не так и не было бы не в этом свете ни о них и тебе не в этом свете тебе не в этом и тебе в ней не в руке ? было быть ! ты не так ты не в нем с на него не было всех всех него не всех ни о нем помощью тебя не было в свете . в случае так не было в этом случае . в этом свете не в этом него не было него помощью в свете ни в том , как ты на него и гораздо без время всех этом или в том и с бромом на этом не к всех этом ней , как в же сторону не было , а что и не на него так не него было в сторону и не было бы в ней . он с помощью бы в помощью этом свете , как на свете , и в сторону , но я просто не помощью того ? тебе быть бы тебя и ни было из помощью него ни ее и не помощью всех ни бы не было в сторону и с помощью свете . я с не в помощью случае , или в этом так что ? в эрагон с не помощью было помощью его не было бы в сторону и с ней , не к ней его не было . эрагон с помощью из этом помощью этом свете не в этом не в него этом не этом ? эрагон с бромом . на этом не на него этом с головой ней в этом сторону с ней не было в помощью случае , ни к ней в ней , ни к ней не в \n"
     ]
    }
   ],
   "source": [
    "# старое\n",
    "inference(lstm_model)"
   ]
  },
  {
   "cell_type": "markdown",
   "metadata": {},
   "source": [
    "Я, честно говоря, даже затрудняюсь сказать, какой текст бессвязнее"
   ]
  },
  {
   "cell_type": "code",
   "execution_count": 42,
   "metadata": {
    "scrolled": false
   },
   "outputs": [
    {
     "name": "stdout",
     "output_type": "stream",
     "text": [
      "доброе ли ? он посмотрел -> на него : а если ты еще бы и он не хотелось бы в он не мог бы ты не хочу ! эрагон с стороны с не горах ! но если ты и что с не гэрроу и гэрроу . а ты что не было , чтобы я не хотелось гэрроу и что в он с ним гэрроу , а что ты не хотелось бы в что ты с тобой , что ты купцы и если бы ты не хотелось в что они когда я уже не было в карвахолл . но вот уж и , но я не хотелось , как бы гэрроу . и эрагон , если ты не что не было , а когда когда он тут в алагейзии , когда я что на камень камень и купцы не мог бы ты бы и , что ты не нашел ! эрагон с ним ее гэрроу , а а что он не было бы бы с а я не мог бы гэрроу , но , а на я не нашел ! но он гэрроу и с тобой с ним не а , если они правда в камень , роран и на камень гэрроу , а не было и роран , когда я не могу , чтобы гэрроу и в гэрроу . когда они правда , не роран . я не хочу , но он совершенно не мог бы бы , если я не что в эрагон с камень с ним на него , но не когда они они что а если ты и , что они на что ты , если бы он не хотелось бы , но , что он не мог гэрроу с ним на камень и гэрроу и с ним , когда он даже не зато уж когда он так что это ? спросил эрагон \n"
     ]
    }
   ],
   "source": [
    "inference(lstm_150)"
   ]
  },
  {
   "cell_type": "markdown",
   "metadata": {},
   "source": [
    "Ну, это уже куда ни шло) На 10 эпохе, не на 15, как предыдущие"
   ]
  },
  {
   "cell_type": "code",
   "execution_count": 44,
   "metadata": {},
   "outputs": [],
   "source": [
    "perplex_150 = eval_model(lstm_150)"
   ]
  },
  {
   "cell_type": "code",
   "execution_count": 48,
   "metadata": {},
   "outputs": [],
   "source": [
    "from keras.models import load_model # у меня всё упало, так что пришлось перезагружать\n",
    "lstm_50 = load_model('lstm\\\\lstm_50-15.h5')"
   ]
  },
  {
   "cell_type": "code",
   "execution_count": 50,
   "metadata": {},
   "outputs": [],
   "source": [
    "lstm_100 = load_model('lstm\\\\LM-15.h5')"
   ]
  },
  {
   "cell_type": "code",
   "execution_count": 49,
   "metadata": {},
   "outputs": [],
   "source": [
    "perplex_50 = eval_model(lstm_50)"
   ]
  },
  {
   "cell_type": "code",
   "execution_count": 51,
   "metadata": {},
   "outputs": [],
   "source": [
    "perplex_100 = eval_model(lstm_100)"
   ]
  },
  {
   "cell_type": "code",
   "execution_count": 52,
   "metadata": {},
   "outputs": [
    {
     "name": "stdout",
     "output_type": "stream",
     "text": [
      "\n",
      "50:\t61877890.33\n",
      "100:\t736563063.204\n",
      "150:\t1469.721\n"
     ]
    }
   ],
   "source": [
    "print('''\n",
    "50:\\t{}\n",
    "100:\\t{}\n",
    "150:\\t{}'''.format(round(perplex_50, 3), round(perplex_100, 3), round(perplex_150, 3)))"
   ]
  },
  {
   "cell_type": "code",
   "execution_count": null,
   "metadata": {},
   "outputs": [],
   "source": [
    "# Кажется, я накосячила с чекпойнтами :с Но у эмбеддингов 100 была перплексия 1770, а у 150 поменьше вс равно"
   ]
  },
  {
   "cell_type": "code",
   "execution_count": 38,
   "metadata": {},
   "outputs": [
    {
     "name": "stdout",
     "output_type": "stream",
     "text": [
      "\n",
      "LSTM:\t1770.162\n",
      "BiLSTM:\t1707.516\n",
      "GRU:\t1624.744\n"
     ]
    }
   ],
   "source": [
    "print('''\n",
    "LSTM:\\t{}\n",
    "BiLSTM:\\t{}\n",
    "GRU:\\t{}'''.format(round(lstm_perplex, 3), round(bilstm_perplex, 3), round(gru_perplex, 3)))"
   ]
  }
 ],
 "metadata": {
  "kernelspec": {
   "display_name": "Python 3",
   "language": "python",
   "name": "python3"
  },
  "language_info": {
   "codemirror_mode": {
    "name": "ipython",
    "version": 3
   },
   "file_extension": ".py",
   "mimetype": "text/x-python",
   "name": "python",
   "nbconvert_exporter": "python",
   "pygments_lexer": "ipython3",
   "version": "3.6.6"
  }
 },
 "nbformat": 4,
 "nbformat_minor": 2
}
