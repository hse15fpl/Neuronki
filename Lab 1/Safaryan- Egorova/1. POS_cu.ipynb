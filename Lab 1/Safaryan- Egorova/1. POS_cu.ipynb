{
 "cells": [
  {
   "cell_type": "markdown",
   "metadata": {},
   "source": [
    "# Сафарян Анна, Егорова Алина\n",
    "## Старославянский"
   ]
  },
  {
   "cell_type": "markdown",
   "metadata": {},
   "source": [
    "* [**Типология языков**](#typology)\n",
    "* [**Чтение данных**](#data)\n",
    "* [**Дескриптивная статистика и задание параметров корпуса**](#ststs)\n",
    "* [**Кодирование последовательностей и создание генератора**](#encode)\n",
    "* [**Создание и обучение моделей**](#train)\n",
    "    * [SimpleRNN](#simple)\n",
    "    * [LSTM](#lstm)\n",
    "    * [BiLSTM](#bilstm)\n",
    "    * [GRU](#gru)\n",
    "* [Построение графиков и определение переобучения](#graphs)\n",
    "* [Оценка и сравнение моделей](#choose)\n",
    "* [**Создание и обучение упрощённых моделей**](#easy-train)\n",
    "    * [SimpleRNN](#easy-simple)\n",
    "    * [LSTM](#easy-lstm)\n",
    "    * [BiLSTM](#easi-bilstm)\n",
    "    * [GRU](#easy-gru)\n",
    "* [Построение графиков и определение переобучения для упрощённых моделей](#easy-graphs)\n",
    "* [Оценка и сравнение упрощённых моделей](#easy-choose)\n",
    "* [**Эксперименты с размерностью скрытого слоя**](#hid)\n",
    "* [**Эксперименты с эмбеддингами**](#embed)"
   ]
  },
  {
   "cell_type": "code",
   "execution_count": 1,
   "metadata": {},
   "outputs": [
    {
     "name": "stderr",
     "output_type": "stream",
     "text": [
      "Using TensorFlow backend.\n"
     ]
    }
   ],
   "source": [
    "import conllu\n",
    "import numpy as np\n",
    "from keras.layers.recurrent import SimpleRNN, LSTM, GRU\n",
    "from keras.models import Sequential, load_model\n",
    "from keras.layers.core import Dense, Activation, RepeatVector\n",
    "from keras.layers.embeddings import Embedding\n",
    "from keras.layers.wrappers import TimeDistributed, Bidirectional\n",
    "from keras.callbacks import ModelCheckpoint\n",
    "from keras.preprocessing.sequence import pad_sequences\n",
    "from keras.utils import to_categorical\n",
    "from sklearn.model_selection import train_test_split\n",
    "from os import makedirs\n",
    "import matplotlib.pyplot as plt\n",
    "from json import dump, load\n",
    "from collections import defaultdict\n",
    "from nltk.translate.bleu_score import sentence_bleu, SmoothingFunction"
   ]
  },
  {
   "cell_type": "markdown",
   "metadata": {},
   "source": [
    "## Типология языков <a id=\"typology\"></a>\n",
    "\n",
    "| Типология | Старославянский | Финский |\n",
    "|------------- |---------------|-------------|\n",
    "| **Генеалогическая: семья**  | Индоевропейская | Уральская | \n",
    "| **Генеалогическая: ветвь** | Славянские | Финно-угорские |\n",
    "| **Морфологическая** | Синтетический (флективный) | Синтетический (агглютинативный) |\n",
    "| **Морфосинтаксическая** | Номинативный | Номинативный |\n",
    "| **Порядок слов: ветвление** | SVO, левое | SVO, левое |\n",
    "| **Порядок слов: свобода** | свободный | относительно свободный |\n"
   ]
  },
  {
   "cell_type": "markdown",
   "metadata": {},
   "source": [
    "Во всём, что определяет порядок слов (а значит и тегов), разницы нет. Разве что может быть разница в самих тегах."
   ]
  },
  {
   "cell_type": "markdown",
   "metadata": {},
   "source": [
    "## Чтение данных <a id=\"вфеф\"></a>"
   ]
  },
  {
   "cell_type": "markdown",
   "metadata": {},
   "source": [
    "Нам милостиво предоставили тестовую и тренировочную выборки -- их и возьмём."
   ]
  },
  {
   "cell_type": "code",
   "execution_count": 2,
   "metadata": {
    "scrolled": false
   },
   "outputs": [
    {
     "name": "stdout",
     "output_type": "stream",
     "text": [
      "4123\n",
      "1141\n"
     ]
    }
   ],
   "source": [
    "train_raw = open('cu\\\\cu-train.conllu', 'r', encoding='utf-8').read().lower()\n",
    "train_data = conllu.parse(train_raw)\n",
    "print(len(train_data))\n",
    "test_raw = open('cu\\\\cu-test.conllu', 'r', encoding='utf-8').read().lower()\n",
    "test_data = conllu.parse(test_raw)\n",
    "print(len(test_data))"
   ]
  },
  {
   "cell_type": "markdown",
   "metadata": {},
   "source": [
    "Вряд ли где-то можно найти морфологический анализатор старославянских текстов, так что лемматизацию проводить не будем, хотя в случае омоформ (\"пила\", например) она могла бы снять неоднозначность."
   ]
  },
  {
   "cell_type": "code",
   "execution_count": 3,
   "metadata": {},
   "outputs": [],
   "source": [
    "def get_data(data):\n",
    "    sents = [] # список списков токенов\n",
    "    tags = [] # список списков тегов\n",
    "    word_vocab = set() # множество уникальных токенов\n",
    "    pos_vocab = set() # множество уникальных \n",
    "    pos_freq = defaultdict(int) # частота встречаемости pos-тегов\n",
    "    for l in data:\n",
    "        #print(l)\n",
    "        sent = []\n",
    "        tag = []\n",
    "        for tok in l:\n",
    "            #print(tok)\n",
    "            sent.append(tok['form'])\n",
    "            tag.append(tok['upostag'])\n",
    "            word_vocab.add(tok['form'])\n",
    "            pos_vocab.add(tok['upostag'])\n",
    "            pos_freq[tok['upostag']] += 1\n",
    "        sents.append(sent)\n",
    "        tags.append(tag)\n",
    "    return sents, tags, word_vocab, pos_vocab, dict(pos_freq)"
   ]
  },
  {
   "cell_type": "code",
   "execution_count": 4,
   "metadata": {},
   "outputs": [],
   "source": [
    "train_sents, train_tags, train_word_vocab, train_pos_vocab, train_pos_freq = get_data(train_data)\n",
    "test_sents, test_tags, test_word_vocab, test_pos_vocab, test_pos_freq = get_data(test_data)"
   ]
  },
  {
   "cell_type": "code",
   "execution_count": 5,
   "metadata": {
    "scrolled": true
   },
   "outputs": [
    {
     "name": "stdout",
     "output_type": "stream",
     "text": [
      "['ꙇ', 'вьлѣзъ', 'въ', 'корабь', 'и҃съ', 'прѣѣде', 'ꙇ', 'приде', 'въ', 'свои', 'градъ']\n",
      "['cconj', 'verb', 'adp', 'noun', 'propn', 'verb', 'cconj', 'verb', 'adp', 'adj', 'noun']\n",
      "\n",
      "['ꙇ', 'се', 'принѣсѧ', 'емоу', 'ослабленъ', 'жилами', 'на', 'одрѣ', 'лежѧщъ']\n",
      "['cconj', 'intj', 'verb', 'pron', 'verb', 'noun', 'adp', 'noun', 'verb']\n",
      "\n",
      "['ꙇ', 'видѣвъ', 'и҃съ', 'вѣрѫ', 'ихъ', 'рече', 'ослабленоуемоу']\n",
      "['cconj', 'verb', 'propn', 'noun', 'pron', 'verb', 'verb']\n",
      "\n",
      "{'intj', 'aux', 'adv', 'adj', 'sconj', 'verb', 'det', 'num', 'propn', 'pron', 'noun', 'cconj', 'x', 'adp'}\n"
     ]
    }
   ],
   "source": [
    "for s, t in zip(train_sents[:3], train_tags[:3]):\n",
    "    print(s)\n",
    "    print(t)\n",
    "    print()\n",
    "print(train_pos_vocab)\n",
    "#print(train_word_vocab)"
   ]
  },
  {
   "cell_type": "code",
   "execution_count": 6,
   "metadata": {
    "scrolled": true
   },
   "outputs": [
    {
     "name": "stdout",
     "output_type": "stream",
     "text": [
      "{'pad': 0, 'intj': 1, 'aux': 2, 'adv': 3, 'adj': 4, 'sconj': 5, 'verb': 6, 'det': 7, 'num': 8, 'propn': 9, 'pron': 10, 'noun': 11, 'cconj': 12, 'x': 13, 'adp': 14}\n"
     ]
    }
   ],
   "source": [
    "# словари соответствий строим по тренировочной выборке\n",
    "w2i = {'pad':0, 'unk':1} # за 0 закреплены слова pad, за 1 -- unk, т.е. слова тестовой, которых нет в тренировочной\n",
    "i2w = {0:'pad', 1:'unk'}\n",
    "\n",
    "for i, w in enumerate(train_word_vocab):\n",
    "   w2i[w] = i+2 # прибавляем 2, т.к. добавили 2 своих слова\n",
    "   i2w[i+2] = w\n",
    "    \n",
    "t2i = {'pad':0} # теги для незнакомых слов попробуем предсказывать тоже\n",
    "i2t = {0:'pad'}\n",
    "for i, t in enumerate(train_pos_vocab):\n",
    "   t2i[t] = i+1\n",
    "   i2t[i+1] = t\n",
    "\n",
    "print(t2i)"
   ]
  },
  {
   "cell_type": "code",
   "execution_count": 7,
   "metadata": {},
   "outputs": [
    {
     "name": "stdout",
     "output_type": "stream",
     "text": [
      "10031\n",
      "1380\n",
      "[['не', 'осѫждаите', 'да', 'не', 'unk', 'бѫдете'], ['ꙇмъже', 'бо', 'unk', 'сѫдите', 'сѫдѧтъ', 'вамъ', 'ꙇ', 'въ', 'нѭже', 'мѣрѫ', 'мѣрите', 'вьзмѣритъ', 'сѧ', 'вамъ'], ['что', 'же', 'видиши', 'сѫчецъ', 'въ', 'оцѣ', 'братра', 'твоего', 'а', 'бръвъна', 'еже', 'естъ', 'въ', 'оцѣ', 'твоемь', 'не', 'чюеши', 'ли', 'како', 'речеши', 'братроу', 'твоемоу'], ['остави', 'и', 'изъмѫ', 'сѫчецъ', 'из', 'очесе', 'твоего'], ['ꙇ', 'се', 'бръвъно', 'въ', 'оцѣ', 'твоемь'], ['лицемѣре', 'unk', 'пръвѣе', 'бръвъно', 'из', 'очесе', 'твоего', 'ꙇ҅', 'тогда', 'оузьриши', 'изѧти', 'сѫчецъ', 'из', 'очесе', 'братра', 'твоего'], ['не', 'дадите', 'unk', 'псомъ', 'ни', 'unk', 'бисьръ', 'вашихъ', 'прѣдъ', 'unk', 'да', 'не', 'unk', 'ихъ', 'unk', 'своими', 'ꙇ҅', 'unk', 'сѧ', 'unk', 'вꙑ'], ['просите', 'и', 'дастъ', 'сѧ', 'вамъ'], ['unk', 'и', 'обрѧщете'], ['unk', 'и', 'отвръзетъ', 'сѧ', 'вамъ']]\n"
     ]
    }
   ],
   "source": [
    "# заменяем все незнакомые слова в тестовой выборке на unk\n",
    "test_sents_clean = test_sents[:]\n",
    "count_test_words = 0\n",
    "count_unk = 0\n",
    "for s, sent in enumerate(test_sents):\n",
    "    for w, word in enumerate(sent):\n",
    "        count_test_words+=1\n",
    "        if word not in train_word_vocab: # если слова нет в словаре тренировочной выборки\n",
    "            test_sents_clean[s][w] = 'unk' # заменяем слово в \"чистой\" тестовой выборке\n",
    "            count_unk+=1\n",
    "print(count_test_words)\n",
    "print(count_unk)\n",
    "print(test_sents_clean[:10])"
   ]
  },
  {
   "cell_type": "markdown",
   "metadata": {},
   "source": [
    "## Дескриптивная статистика <a id=\"stats\"></a>\n",
    "* Число предложений / уникальных словоформ;\n",
    "* Число уникальных PoS-тегов;\n",
    "* Максимальное и минимальное число слов в предложении;\n",
    "* Математическое ожидание и медиана числа слов в предложении;\n",
    "* Доля новых (не встречавшихся в тренировочной выборке) слов в тестовой выборке\n",
    "* Гистограммы распределения частей речи в тренировочном и тестовом корпусе"
   ]
  },
  {
   "cell_type": "code",
   "execution_count": 8,
   "metadata": {
    "scrolled": false
   },
   "outputs": [
    {
     "name": "stdout",
     "output_type": "stream",
     "text": [
      "[11, 9, 7, 1, 5, 8, 2, 6, 7, 11, 2, 12, 3, 9, 12, 15, 3, 5, 20, 6]\n",
      "[6, 14, 22, 7, 6, 16, 21, 5, 3, 5, 11, 16, 8, 23, 14, 6, 3, 9, 5, 9]\n",
      "\n",
      "\t\tTrain\tTest\n",
      "n_sents:\t4123\t1141\n",
      "n_words:\t7595\t3193\n",
      "n_tags: \t15\t15\n",
      "max_len:\t92\t43\n",
      "min_len:\t1\t1\n",
      "mean_len:\t9.1\t8.8\n",
      "med_len:\t7.0\t7.0\n",
      "37.86% тестового словаря нет в тренировочном. Это 13.76% тестового корпуса.\n",
      "\n"
     ]
    }
   ],
   "source": [
    "train_lens = [len(i) for i in train_sents]\n",
    "print(train_lens[:20])\n",
    "test_lens = [len(i) for i in test_sents_clean]\n",
    "print(test_lens[:20])\n",
    "dif = len(test_word_vocab-train_word_vocab)*100/(len(test_word_vocab)+2) # сколько есть \"незнакомых\" слов в словаре тестовой выборки\n",
    "pr = count_unk*100/count_test_words # сколько процентов такие слова составляют от тестового корпуса \n",
    "\n",
    "print('''\n",
    "\\t\\tTrain\\tTest\n",
    "n_sents:\\t{}\\t{}\n",
    "n_words:\\t{}\\t{}\n",
    "n_tags: \\t{}\\t{}\n",
    "max_len:\\t{}\\t{}\n",
    "min_len:\\t{}\\t{}\n",
    "mean_len:\\t{}\\t{}\n",
    "med_len:\\t{}\\t{}\n",
    "{}% тестового словаря нет в тренировочном. Это {}% тестового корпуса.\n",
    "'''.format(\n",
    "    len(train_lens), len(test_lens),\n",
    "    len(train_word_vocab)+2, len(test_word_vocab)+2, # нормальные слова + pad, unk \n",
    "    len(train_pos_vocab)+1, len(test_pos_vocab)+1, # нормальные теги + pad\n",
    "    np.max(train_lens), np.max(test_lens), \n",
    "    np.min(train_lens), np.min(test_lens), \n",
    "    round(np.mean(train_lens), 1), round(np.mean(test_lens), 1), \n",
    "    round(np.median(train_lens), 1), round(np.median(test_lens), 1),\n",
    "    round(dif,2), round(pr,2)))"
   ]
  },
  {
   "cell_type": "code",
   "execution_count": 13,
   "metadata": {},
   "outputs": [],
   "source": [
    "# Для гистограммы словари абсолютных частот переведём в словари относительных \n",
    "train_pos_rel = {pos: freq/np.sum(train_lens) for pos, freq in zip(train_pos_freq.keys(), train_pos_freq.values())}\n",
    "test_pos_rel = {pos: freq/np.sum(test_lens) for pos, freq in zip(test_pos_freq.keys(), test_pos_freq.values())}"
   ]
  },
  {
   "cell_type": "code",
   "execution_count": 14,
   "metadata": {},
   "outputs": [
    {
     "data": {
      "image/png": "[encoded data removed]",
      "text/plain": [
       "<Figure size 720x504 with 1 Axes>"
      ]
     },
     "metadata": {
      "needs_background": "light"
     },
     "output_type": "display_data"
    }
   ],
   "source": [
    "plt.subplots(figsize=(10, 7))\n",
    "\n",
    "plt.bar(np.arange(14)-0.2, list(train_pos_rel.values()), 0.4, label = 'Train')\n",
    "plt.bar(np.arange(14)+0.2, list(test_pos_rel.values()), 0.4, label = 'Test')\n",
    "plt.xlabel('POS')\n",
    "plt.ylabel('Freq')\n",
    "plt.title('Распределение POS-тегов')\n",
    "plt.xticks(np.arange(14), list(train_pos_rel.keys()))\n",
    "plt.legend()\n",
    "plt.show()"
   ]
  },
  {
   "cell_type": "markdown",
   "metadata": {},
   "source": [
    "В тренировочном корпусе больше всего глаголов и существительных, что логично, а вот в тестовом внезапно преобладают, помимо глаголов, имена собственные. Ожидаемо по чуть-чуть всяких странных слов без частей речи (тег \"х\"), но почему-то мало наречий, в то время как в тренировочном корпусе количество наречий соспоставимо с количеством местоимений и прилагательных. Почему-то в тестовом корпусе больше междометий, вспомогательных глаголов и детерминативов. А ещё в тренировочном корпусе больше сочинительных союзов, а в тестовом -- подчинительных."
   ]
  },
  {
   "cell_type": "markdown",
   "metadata": {},
   "source": [
    "Учитывая то, что медианная длина предложения в тренировочном корпусе = 7, мы могли бы взять гораздо меньшуу длину последовательности. Однако сокращение максимальной длины до 30 внезапно привело к ухудшению предсказаний без паддингов (bleu упала). Возможно, там обрезались какие-то слова и последовательности, которые не встретились (или мало встречались) в уцелевших последовательностях, поэтому мы стали распознавать их хуже."
   ]
  },
  {
   "cell_type": "code",
   "execution_count": 48,
   "metadata": {},
   "outputs": [],
   "source": [
    "max_len = np.max(train_lens) \n",
    "n_words = len(train_word_vocab)+2\n",
    "n_tags = len(train_pos_vocab)+1\n",
    "batch_size = 64"
   ]
  },
  {
   "cell_type": "markdown",
   "metadata": {},
   "source": [
    "## Кодирование последовательностей и создание генератора <a id=\"encode\"></a>"
   ]
  },
  {
   "cell_type": "code",
   "execution_count": 49,
   "metadata": {},
   "outputs": [],
   "source": [
    "# кодируем последовательности и дополняем их нулями до максимальной длины\n",
    "def encode_sequences(sequences, dict2index, maxlen=max_len):\n",
    "    enc_seqs = [[dict2index[word] for word in seq[:maxlen]] for seq in sequences] # предложение урезаем до максимальной длины в тренировочной выборке\n",
    "    enc_seqs = pad_sequences(enc_seqs, maxlen, padding='post')\n",
    "    return enc_seqs"
   ]
  },
  {
   "cell_type": "code",
   "execution_count": 50,
   "metadata": {},
   "outputs": [],
   "source": [
    "# унитарно кодируем метки (принимаем уже закодированные на предыдущем шаге последователности)\n",
    "def onehot_sequences(sequences):\n",
    "    enc_seqs = []\n",
    "    for sequence in sequences: \n",
    "        encoded = to_categorical(sequence, num_classes=n_tags) \n",
    "        enc_seqs.append(encoded)\n",
    "    enc_seqs = np.array(enc_seqs)\n",
    "    return enc_seqs"
   ]
  },
  {
   "cell_type": "code",
   "execution_count": 51,
   "metadata": {
    "scrolled": true
   },
   "outputs": [
    {
     "name": "stdout",
     "output_type": "stream",
     "text": [
      "(2, 10)\n",
      "(2, 10, 15)\n",
      "['не', 'осѫждаите', 'да', 'не', 'unk', 'бѫдете']\n",
      "[3049  445  202 3049    1 1456    0    0    0    0] 10\n",
      "['adv', 'verb', 'sconj', 'adv', 'verb', 'verb']\n",
      "[[0. 0. 0. 1. 0. 0. 0. 0. 0. 0. 0. 0. 0. 0. 0.]\n",
      " [0. 0. 0. 0. 0. 0. 0. 1. 0. 0. 0. 0. 0. 0. 0.]\n",
      " [0. 0. 0. 0. 0. 0. 0. 0. 0. 1. 0. 0. 0. 0. 0.]\n",
      " [0. 0. 0. 1. 0. 0. 0. 0. 0. 0. 0. 0. 0. 0. 0.]\n",
      " [0. 0. 0. 0. 0. 0. 0. 1. 0. 0. 0. 0. 0. 0. 0.]\n",
      " [0. 0. 0. 0. 0. 0. 0. 1. 0. 0. 0. 0. 0. 0. 0.]\n",
      " [1. 0. 0. 0. 0. 0. 0. 0. 0. 0. 0. 0. 0. 0. 0.]\n",
      " [1. 0. 0. 0. 0. 0. 0. 0. 0. 0. 0. 0. 0. 0. 0.]\n",
      " [1. 0. 0. 0. 0. 0. 0. 0. 0. 0. 0. 0. 0. 0. 0.]\n",
      " [1. 0. 0. 0. 0. 0. 0. 0. 0. 0. 0. 0. 0. 0. 0.]] 10\n",
      "\n",
      "['ꙇмъже', 'бо', 'unk', 'сѫдите', 'сѫдѧтъ', 'вамъ', 'ꙇ', 'въ', 'нѭже', 'мѣрѫ', 'мѣрите', 'вьзмѣритъ', 'сѧ', 'вамъ']\n",
      "[5995 6717    1 6904 5241 2626 4142 1980 2766 6755] 10\n",
      "['pron', 'adv', 'noun', 'verb', 'verb', 'pron', 'cconj', 'adp', 'pron', 'noun', 'verb', 'verb', 'aux', 'pron']\n",
      "[[0. 0. 0. 0. 0. 0. 1. 0. 0. 0. 0. 0. 0. 0. 0.]\n",
      " [0. 0. 0. 1. 0. 0. 0. 0. 0. 0. 0. 0. 0. 0. 0.]\n",
      " [0. 0. 0. 0. 0. 0. 0. 0. 1. 0. 0. 0. 0. 0. 0.]\n",
      " [0. 0. 0. 0. 0. 0. 0. 1. 0. 0. 0. 0. 0. 0. 0.]\n",
      " [0. 0. 0. 0. 0. 0. 0. 1. 0. 0. 0. 0. 0. 0. 0.]\n",
      " [0. 0. 0. 0. 0. 0. 1. 0. 0. 0. 0. 0. 0. 0. 0.]\n",
      " [0. 0. 0. 0. 0. 1. 0. 0. 0. 0. 0. 0. 0. 0. 0.]\n",
      " [0. 0. 0. 0. 1. 0. 0. 0. 0. 0. 0. 0. 0. 0. 0.]\n",
      " [0. 0. 0. 0. 0. 0. 1. 0. 0. 0. 0. 0. 0. 0. 0.]\n",
      " [0. 0. 0. 0. 0. 0. 0. 0. 1. 0. 0. 0. 0. 0. 0.]] 10\n",
      "\n"
     ]
    }
   ],
   "source": [
    "# проверим, как работает\n",
    "# возьмём последовательность не 92, а 10, чтобы нормально отобразились матрицы, а то они иначе сжимаются посередине\n",
    "es = encode_sequences(test_sents_clean[:2], dict2index=w2i, maxlen=10) \n",
    "et = encode_sequences(test_tags[:2], dict2index=t2i, maxlen=10)\n",
    "print(es.shape)\n",
    "et = onehot_sequences(et) \n",
    "print(et.shape)\n",
    "for i in range(2):\n",
    "    print(test_sents[i]),\n",
    "    print(es[i], len(es[i])),\n",
    "    print(test_tags[i]),\n",
    "    print(et[i], len(et[i])),\n",
    "    print()\n",
    "# видно, что короткие дополняются, длинные обрезаются"
   ]
  },
  {
   "cell_type": "code",
   "execution_count": 52,
   "metadata": {},
   "outputs": [],
   "source": [
    "# чтобы избавиться от MemoryError, воспользуемся генератором батчей\n",
    "def gen_batch(sents, tags, batch_size):\n",
    "    i = 0\n",
    "    all_sents  = len(sents) # всего последовательностей\n",
    "    n_sents = batch_size * int(all_sents / batch_size)  #сколько у нас влезет (батч * кол-во батчей)\n",
    "    #print(n_sents)\n",
    "    while True:\n",
    "        #print(i)\n",
    "        i = i % n_sents # считаем текущий индекс (где новое)\n",
    "        # берём кусочки\n",
    "        sub_sents = sents[i: i+batch_size]\n",
    "        sub_tags = tags[i: i+batch_size]\n",
    "\n",
    "        # кодируем кусочки\n",
    "        sub_sents = encode_sequences(sub_sents, dict2index=w2i, maxlen=max_len)\n",
    "        sub_tags = encode_sequences(sub_tags, dict2index=t2i, maxlen=max_len)\n",
    "        sub_tags = onehot_sequences(sub_tags)\n",
    "        \n",
    "        # обновляем текущий индекс\n",
    "        i += batch_size\n",
    "        #print(i)\n",
    "        \n",
    "        yield sub_sents, sub_tags # возвращаем наши кусочки"
   ]
  },
  {
   "cell_type": "markdown",
   "metadata": {},
   "source": [
    "Так как проводить валидацию на тестовой выборке всё-таки не очень хорошо, тренировочную выборку поделим на собственно тренировочную и валидационную. \n"
   ]
  },
  {
   "cell_type": "code",
   "execution_count": 53,
   "metadata": {},
   "outputs": [
    {
     "name": "stdout",
     "output_type": "stream",
     "text": [
      "3298\n",
      "825\n"
     ]
    }
   ],
   "source": [
    "train_sents, val_sents, train_tags, val_tags = train_test_split(train_sents, train_tags, test_size=0.2, shuffle=True)\n",
    "print(len(train_sents))\n",
    "print(len(val_sents))"
   ]
  },
  {
   "cell_type": "code",
   "execution_count": 54,
   "metadata": {},
   "outputs": [
    {
     "name": "stdout",
     "output_type": "stream",
     "text": [
      "51\n",
      "12\n",
      "17\n"
     ]
    }
   ],
   "source": [
    "epochs = 20\n",
    "steps = int(len(train_sents)/batch_size) # считаем шаги для генератора\n",
    "print(steps)\n",
    "val_steps = int(len(val_sents)/batch_size)\n",
    "print(val_steps)\n",
    "test_steps = int(len(test_sents)/batch_size)\n",
    "print(test_steps)\n",
    "n_hidden = 128 # возьмём средненькое, чтобы можно было вверх и вниз менять\n",
    "embed_size = 100"
   ]
  },
  {
   "cell_type": "code",
   "execution_count": 55,
   "metadata": {},
   "outputs": [],
   "source": [
    "for model_type in ['simple', 'lstm', 'bilstm', 'gru']: # создадим папки для хранения чекпойнтов моделей\n",
    "    try:\n",
    "        makedirs('cu\\\\{}'.format(model_type))\n",
    "    except OSError:\n",
    "        pass"
   ]
  },
  {
   "cell_type": "markdown",
   "metadata": {},
   "source": [
    "## Создание и обучение моделей <a id=\"train\"></a>"
   ]
  },
  {
   "cell_type": "markdown",
   "metadata": {},
   "source": [
    "Поначалу мы взяли более сложные архитектуры, но оказалось, что они очень плохо работают для такой простой задачи -- им подавай два языка на перевод, а не вот это вот всё) После всё то же самое будет проведено для архитектурок попроще"
   ]
  },
  {
   "cell_type": "markdown",
   "metadata": {},
   "source": [
    "### SimpleRNN <a id=\"simple\"></a>"
   ]
  },
  {
   "cell_type": "code",
   "execution_count": 81,
   "metadata": {
    "scrolled": true
   },
   "outputs": [
    {
     "name": "stdout",
     "output_type": "stream",
     "text": [
      "_________________________________________________________________\n",
      "Layer (type)                 Output Shape              Param #   \n",
      "=================================================================\n",
      "embedding_4 (Embedding)      (None, 92, 100)           759500    \n",
      "_________________________________________________________________\n",
      "simple_rnn_4 (SimpleRNN)     (None, 128)               29312     \n",
      "_________________________________________________________________\n",
      "repeat_vector_3 (RepeatVecto (None, 92, 128)           0         \n",
      "_________________________________________________________________\n",
      "simple_rnn_5 (SimpleRNN)     (None, 92, 128)           32896     \n",
      "_________________________________________________________________\n",
      "time_distributed_3 (TimeDist (None, 92, 15)            1935      \n",
      "_________________________________________________________________\n",
      "activation_4 (Activation)    (None, 92, 15)            0         \n",
      "=================================================================\n",
      "Total params: 823,643\n",
      "Trainable params: 823,643\n",
      "Non-trainable params: 0\n",
      "_________________________________________________________________\n"
     ]
    }
   ],
   "source": [
    "simple_model = Sequential()\n",
    "simple_model.add(Embedding(n_words, embed_size, input_length=max_len))\n",
    "simple_model.add(SimpleRNN(n_hidden, unroll=True))\n",
    "simple_model.add(RepeatVector(max_len))\n",
    "simple_model.add(SimpleRNN(n_hidden, return_sequences=True, unroll=True))\n",
    "simple_model.add(TimeDistributed(Dense(n_tags)))\n",
    "simple_model.add(Activation(\"softmax\"))\n",
    "\n",
    "simple_model.compile(loss=\"categorical_crossentropy\", optimizer=\"adam\", metrics=['acc'])\n",
    "simple_model.summary()"
   ]
  },
  {
   "cell_type": "code",
   "execution_count": 83,
   "metadata": {
    "scrolled": true
   },
   "outputs": [
    {
     "name": "stdout",
     "output_type": "stream",
     "text": [
      "Epoch 1/20\n",
      "51/51 [==============================] - 13s 259ms/step - loss: 0.4865 - acc: 0.9049 - val_loss: 0.4910 - val_acc: 0.8998\n",
      "\n",
      "Epoch 00001: saving model to cu\\simple\\cu-simple_model-01.h5\n",
      "Epoch 2/20\n",
      "51/51 [==============================] - 12s 242ms/step - loss: 0.4533 - acc: 0.9055 - val_loss: 0.4457 - val_acc: 0.9034\n",
      "\n",
      "Epoch 00002: saving model to cu\\simple\\cu-simple_model-02.h5\n",
      "Epoch 3/20\n",
      "51/51 [==============================] - 15s 299ms/step - loss: 0.3738 - acc: 0.9105 - val_loss: 0.3878 - val_acc: 0.9064\n",
      "\n",
      "Epoch 00003: saving model to cu\\simple\\cu-simple_model-03.h5\n",
      "Epoch 4/20\n",
      "51/51 [==============================] - 15s 288ms/step - loss: 0.3388 - acc: 0.9112 - val_loss: 0.3513 - val_acc: 0.9063\n",
      "\n",
      "Epoch 00004: saving model to cu\\simple\\cu-simple_model-04.h5\n",
      "Epoch 5/20\n",
      "51/51 [==============================] - 13s 262ms/step - loss: 0.3295 - acc: 0.9111 - val_loss: 0.3706 - val_acc: 0.9066\n",
      "\n",
      "Epoch 00005: saving model to cu\\simple\\cu-simple_model-05.h5\n",
      "Epoch 6/20\n",
      "51/51 [==============================] - 11s 222ms/step - loss: 0.3323 - acc: 0.9111 - val_loss: 0.3451 - val_acc: 0.9066\n",
      "\n",
      "Epoch 00006: saving model to cu\\simple\\cu-simple_model-06.h5\n",
      "Epoch 7/20\n",
      "51/51 [==============================] - 11s 218ms/step - loss: 0.3270 - acc: 0.9113 - val_loss: 0.3457 - val_acc: 0.9066\n",
      "\n",
      "Epoch 00007: saving model to cu\\simple\\cu-simple_model-07.h5\n",
      "Epoch 8/20\n",
      "51/51 [==============================] - 11s 224ms/step - loss: 0.3265 - acc: 0.9114 - val_loss: 0.3487 - val_acc: 0.9066\n",
      "\n",
      "Epoch 00008: saving model to cu\\simple\\cu-simple_model-08.h5\n",
      "Epoch 9/20\n",
      "51/51 [==============================] - 11s 222ms/step - loss: 0.3273 - acc: 0.9115 - val_loss: 0.3444 - val_acc: 0.9066\n",
      "\n",
      "Epoch 00009: saving model to cu\\simple\\cu-simple_model-09.h5\n",
      "Epoch 10/20\n",
      "51/51 [==============================] - 11s 214ms/step - loss: 0.3261 - acc: 0.9114 - val_loss: 0.3443 - val_acc: 0.9066\n",
      "\n",
      "Epoch 00010: saving model to cu\\simple\\cu-simple_model-10.h5\n",
      "Epoch 11/20\n",
      "51/51 [==============================] - 11s 212ms/step - loss: 0.3260 - acc: 0.9114 - val_loss: 0.3442 - val_acc: 0.9066\n",
      "\n",
      "Epoch 00011: saving model to cu\\simple\\cu-simple_model-11.h5\n",
      "Epoch 12/20\n",
      "51/51 [==============================] - 11s 209ms/step - loss: 0.3258 - acc: 0.9114 - val_loss: 0.3436 - val_acc: 0.9066\n",
      "\n",
      "Epoch 00012: saving model to cu\\simple\\cu-simple_model-12.h5\n",
      "Epoch 13/20\n",
      "51/51 [==============================] - 11s 211ms/step - loss: 0.3254 - acc: 0.9114 - val_loss: 0.3432 - val_acc: 0.9066\n",
      "\n",
      "Epoch 00013: saving model to cu\\simple\\cu-simple_model-13.h5\n",
      "Epoch 14/20\n",
      "51/51 [==============================] - 11s 208ms/step - loss: 0.3249 - acc: 0.9114 - val_loss: 0.3436 - val_acc: 0.9070\n",
      "\n",
      "Epoch 00014: saving model to cu\\simple\\cu-simple_model-14.h5\n",
      "Epoch 15/20\n",
      "51/51 [==============================] - 11s 221ms/step - loss: 0.3246 - acc: 0.9115 - val_loss: 0.3448 - val_acc: 0.9070\n",
      "\n",
      "Epoch 00015: saving model to cu\\simple\\cu-simple_model-15.h5\n",
      "Epoch 16/20\n",
      "51/51 [==============================] - 11s 217ms/step - loss: 0.3246 - acc: 0.9115 - val_loss: 0.3439 - val_acc: 0.9070\n",
      "\n",
      "Epoch 00016: saving model to cu\\simple\\cu-simple_model-16.h5\n",
      "Epoch 17/20\n",
      "51/51 [==============================] - 11s 216ms/step - loss: 0.3242 - acc: 0.9115 - val_loss: 0.3447 - val_acc: 0.9070\n",
      "\n",
      "Epoch 00017: saving model to cu\\simple\\cu-simple_model-17.h5\n",
      "Epoch 18/20\n",
      "51/51 [==============================] - 11s 212ms/step - loss: 0.3242 - acc: 0.9115 - val_loss: 0.3433 - val_acc: 0.9070\n",
      "\n",
      "Epoch 00018: saving model to cu\\simple\\cu-simple_model-18.h5\n",
      "Epoch 19/20\n",
      "51/51 [==============================] - 11s 212ms/step - loss: 0.3239 - acc: 0.9115 - val_loss: 0.3441 - val_acc: 0.9070\n",
      "\n",
      "Epoch 00019: saving model to cu\\simple\\cu-simple_model-19.h5\n",
      "Epoch 20/20\n",
      "51/51 [==============================] - 11s 211ms/step - loss: 0.3240 - acc: 0.9115 - val_loss: 0.3429 - val_acc: 0.90700s - loss: 0.3249 - acc: 0\n",
      "\n",
      "Epoch 00020: saving model to cu\\simple\\cu-simple_model-20.h5\n"
     ]
    }
   ],
   "source": [
    "checkpoint = ModelCheckpoint('cu\\\\simple\\\\cu-simple_model-{epoch:02d}.h5', verbose=1, save_best_only=False)\n",
    "simple_history = simple_model.fit_generator(\n",
    "    generator=gen_batch(train_sents, train_tags, batch_size), \n",
    "    steps_per_epoch=steps,\n",
    "    validation_data=gen_batch(val_sents, val_tags, batch_size),\n",
    "    validation_steps=val_steps,\n",
    "    epochs=epochs, verbose=1, callbacks=[checkpoint])\n",
    "dump(simple_history.history, open('cu\\\\simple\\\\cu-simple_model-history.json','w', encoding='utf-8'))"
   ]
  },
  {
   "cell_type": "markdown",
   "metadata": {},
   "source": [
    "### LSTM <a id=\"lstm\"></a>"
   ]
  },
  {
   "cell_type": "code",
   "execution_count": 27,
   "metadata": {},
   "outputs": [
    {
     "name": "stdout",
     "output_type": "stream",
     "text": [
      "_________________________________________________________________\n",
      "Layer (type)                 Output Shape              Param #   \n",
      "=================================================================\n",
      "embedding_2 (Embedding)      (None, 30, 100)           759500    \n",
      "_________________________________________________________________\n",
      "lstm_1 (LSTM)                (None, 128)               117248    \n",
      "_________________________________________________________________\n",
      "repeat_vector_1 (RepeatVecto (None, 30, 128)           0         \n",
      "_________________________________________________________________\n",
      "lstm_2 (LSTM)                (None, 30, 128)           131584    \n",
      "_________________________________________________________________\n",
      "time_distributed_1 (TimeDist (None, 30, 15)            1935      \n",
      "_________________________________________________________________\n",
      "activation_1 (Activation)    (None, 30, 15)            0         \n",
      "=================================================================\n",
      "Total params: 1,010,267\n",
      "Trainable params: 1,010,267\n",
      "Non-trainable params: 0\n",
      "_________________________________________________________________\n"
     ]
    }
   ],
   "source": [
    "lstm_model = Sequential()\n",
    "lstm_model.add(Embedding(n_words, embed_size, input_length=max_len))\n",
    "lstm_model.add(LSTM(n_hidden, unroll=True))\n",
    "lstm_model.add(RepeatVector(max_len))\n",
    "lstm_model.add(LSTM(n_hidden, return_sequences=True, unroll=True))\n",
    "lstm_model.add(TimeDistributed(Dense(n_tags)))\n",
    "lstm_model.add(Activation(\"softmax\"))\n",
    "\n",
    "lstm_model.compile(loss=\"categorical_crossentropy\", optimizer=\"adam\", metrics=['acc'])\n",
    "lstm_model.summary()"
   ]
  },
  {
   "cell_type": "code",
   "execution_count": 29,
   "metadata": {
    "scrolled": true
   },
   "outputs": [
    {
     "name": "stdout",
     "output_type": "stream",
     "text": [
      "Epoch 1/10\n",
      "51/51 [==============================] - 26s 518ms/step - loss: 1.2735 - acc: 0.6910 - val_loss: 0.9705 - val_acc: 0.7072\n",
      "\n",
      "Epoch 00001: saving model to cu\\lstm\\cu-lstm_model-01.h5\n",
      "Epoch 2/10\n",
      "51/51 [==============================] - 9s 186ms/step - loss: 0.8049 - acc: 0.7448 - val_loss: 0.7633 - val_acc: 0.7483\n",
      "\n",
      "Epoch 00002: saving model to cu\\lstm\\cu-lstm_model-02.h5\n",
      "Epoch 3/10\n",
      "51/51 [==============================] - 10s 188ms/step - loss: 0.7086 - acc: 0.7660 - val_loss: 0.7455 - val_acc: 0.7507\n",
      "\n",
      "Epoch 00003: saving model to cu\\lstm\\cu-lstm_model-03.h5\n",
      "Epoch 4/10\n",
      "51/51 [==============================] - 9s 184ms/step - loss: 0.6987 - acc: 0.7662 - val_loss: 0.7291 - val_acc: 0.7559\n",
      "\n",
      "Epoch 00004: saving model to cu\\lstm\\cu-lstm_model-04.h5\n",
      "Epoch 5/10\n",
      "51/51 [==============================] - 9s 182ms/step - loss: 0.6685 - acc: 0.7711 - val_loss: 0.6964 - val_acc: 0.7604\n",
      "\n",
      "Epoch 00005: saving model to cu\\lstm\\cu-lstm_model-05.h5\n",
      "Epoch 6/10\n",
      "51/51 [==============================] - 10s 197ms/step - loss: 0.6656 - acc: 0.7711 - val_loss: 0.7441 - val_acc: 0.7425\n",
      "\n",
      "Epoch 00006: saving model to cu\\lstm\\cu-lstm_model-06.h5\n",
      "Epoch 7/10\n",
      "51/51 [==============================] - 10s 195ms/step - loss: 0.6890 - acc: 0.7659 - val_loss: 0.7018 - val_acc: 0.7550\n",
      "\n",
      "Epoch 00007: saving model to cu\\lstm\\cu-lstm_model-07.h5\n",
      "Epoch 8/10\n",
      "51/51 [==============================] - 10s 188ms/step - loss: 0.6675 - acc: 0.7700 - val_loss: 0.6877 - val_acc: 0.7602\n",
      "\n",
      "Epoch 00008: saving model to cu\\lstm\\cu-lstm_model-08.h5\n",
      "Epoch 9/10\n",
      "51/51 [==============================] - 10s 191ms/step - loss: 0.6508 - acc: 0.7727 - val_loss: 0.6944 - val_acc: 0.7607\n",
      "\n",
      "Epoch 00009: saving model to cu\\lstm\\cu-lstm_model-09.h5\n",
      "Epoch 10/10\n",
      "51/51 [==============================] - 10s 197ms/step - loss: 0.6829 - acc: 0.7663 - val_loss: 0.7051 - val_acc: 0.7579\n",
      "\n",
      "Epoch 00010: saving model to cu\\lstm\\cu-lstm_model-10.h5\n"
     ]
    }
   ],
   "source": [
    "checkpoint = ModelCheckpoint('cu\\\\lstm\\\\cu-lstm_model-{epoch:02d}.h5', verbose=1, save_best_only=False, save_weights_only=True)\n",
    "lstm_history = lstm_model.fit_generator(\n",
    "    generator=gen_batch(train_sents, train_tags, batch_size), \n",
    "    steps_per_epoch=steps,\n",
    "    validation_data=gen_batch(val_sents, val_tags, batch_size),\n",
    "    validation_steps=val_steps,\n",
    "    epochs=epochs, verbose=1, callbacks=[checkpoint])\n",
    "dump(lstm_history.history, open('cu\\\\lstm\\\\cu-lstm_model-history.json','w', encoding='utf-8'))"
   ]
  },
  {
   "cell_type": "markdown",
   "metadata": {},
   "source": [
    "### BiLSTM <a id=\"bilstm\"></a>"
   ]
  },
  {
   "cell_type": "code",
   "execution_count": 86,
   "metadata": {},
   "outputs": [
    {
     "name": "stdout",
     "output_type": "stream",
     "text": [
      "_________________________________________________________________\n",
      "Layer (type)                 Output Shape              Param #   \n",
      "=================================================================\n",
      "embedding_6 (Embedding)      (None, 92, 100)           759500    \n",
      "_________________________________________________________________\n",
      "bidirectional_1 (Bidirection (None, 256)               234496    \n",
      "_________________________________________________________________\n",
      "repeat_vector_5 (RepeatVecto (None, 92, 256)           0         \n",
      "_________________________________________________________________\n",
      "bidirectional_2 (Bidirection (None, 92, 256)           394240    \n",
      "_________________________________________________________________\n",
      "time_distributed_5 (TimeDist (None, 92, 15)            3855      \n",
      "_________________________________________________________________\n",
      "activation_6 (Activation)    (None, 92, 15)            0         \n",
      "=================================================================\n",
      "Total params: 1,392,091\n",
      "Trainable params: 1,392,091\n",
      "Non-trainable params: 0\n",
      "_________________________________________________________________\n"
     ]
    }
   ],
   "source": [
    "bilstm_model = Sequential()\n",
    "bilstm_model.add(Embedding(n_words, embed_size, input_length=max_len))\n",
    "bilstm_model.add(Bidirectional(LSTM(n_hidden, unroll=True)))\n",
    "bilstm_model.add(RepeatVector(max_len))\n",
    "bilstm_model.add(Bidirectional(LSTM(n_hidden, return_sequences=True, unroll=True)))\n",
    "bilstm_model.add(TimeDistributed(Dense(n_tags)))\n",
    "bilstm_model.add(Activation(\"softmax\"))\n",
    "\n",
    "bilstm_model.compile(loss=\"categorical_crossentropy\", optimizer=\"adam\", metrics=['acc'])\n",
    "bilstm_model.summary()"
   ]
  },
  {
   "cell_type": "code",
   "execution_count": 87,
   "metadata": {
    "scrolled": true
   },
   "outputs": [
    {
     "name": "stdout",
     "output_type": "stream",
     "text": [
      "Epoch 1/20\n",
      "51/51 [==============================] - 652s 13s/step - loss: 0.6595 - acc: 0.8850 - val_loss: 0.3010 - val_acc: 0.9056\n",
      "\n",
      "Epoch 00001: saving model to cu\\bilstm\\cu-bilstm_model-01.h5\n",
      "Epoch 2/20\n",
      "51/51 [==============================] - 596s 12s/step - loss: 0.2798 - acc: 0.9144 - val_loss: 0.2661 - val_acc: 0.9157\n",
      "\n",
      "Epoch 00002: saving model to cu\\bilstm\\cu-bilstm_model-02.h5\n",
      "Epoch 3/20\n",
      "51/51 [==============================] - 609s 12s/step - loss: 0.2542 - acc: 0.9197 - val_loss: 0.2655 - val_acc: 0.9168\n",
      "\n",
      "Epoch 00003: saving model to cu\\bilstm\\cu-bilstm_model-03.h5\n",
      "Epoch 4/20\n",
      "51/51 [==============================] - 803s 16s/step - loss: 0.2567 - acc: 0.9193 - val_loss: 0.2621 - val_acc: 0.9162\n",
      "\n",
      "Epoch 00004: saving model to cu\\bilstm\\cu-bilstm_model-04.h5\n",
      "Epoch 5/20\n",
      "51/51 [==============================] - 665s 13s/step - loss: 0.2496 - acc: 0.9205 - val_loss: 0.2526 - val_acc: 0.9179\n",
      "\n",
      "Epoch 00005: saving model to cu\\bilstm\\cu-bilstm_model-05.h5\n",
      "Epoch 6/20\n",
      "51/51 [==============================] - 644s 13s/step - loss: 0.2341 - acc: 0.9225 - val_loss: 0.2601 - val_acc: 0.9172\n",
      "\n",
      "Epoch 00006: saving model to cu\\bilstm\\cu-bilstm_model-06.h5\n",
      "Epoch 7/20\n",
      "51/51 [==============================] - 628s 12s/step - loss: 0.2502 - acc: 0.9200 - val_loss: 0.2717 - val_acc: 0.9159\n",
      "\n",
      "Epoch 00007: saving model to cu\\bilstm\\cu-bilstm_model-07.h5\n",
      "Epoch 8/20\n",
      "51/51 [==============================] - 601s 12s/step - loss: 0.2571 - acc: 0.9193 - val_loss: 0.3154 - val_acc: 0.9118\n",
      "\n",
      "Epoch 00008: saving model to cu\\bilstm\\cu-bilstm_model-08.h5\n",
      "Epoch 9/20\n",
      "51/51 [==============================] - 649s 13s/step - loss: 0.2467 - acc: 0.9203 - val_loss: 0.2718 - val_acc: 0.9171\n",
      "\n",
      "Epoch 00009: saving model to cu\\bilstm\\cu-bilstm_model-09.h5\n",
      "Epoch 10/20\n",
      "51/51 [==============================] - 620s 12s/step - loss: 0.2400 - acc: 0.9217 - val_loss: 0.2604 - val_acc: 0.9188\n",
      "\n",
      "Epoch 00010: saving model to cu\\bilstm\\cu-bilstm_model-10.h5\n",
      "Epoch 11/20\n",
      "51/51 [==============================] - 711s 14s/step - loss: 0.2383 - acc: 0.9217 - val_loss: 0.2796 - val_acc: 0.9122\n",
      "\n",
      "Epoch 00011: saving model to cu\\bilstm\\cu-bilstm_model-11.h5\n",
      "Epoch 12/20\n",
      "51/51 [==============================] - 816s 16s/step - loss: 0.2508 - acc: 0.9199 - val_loss: 0.2825 - val_acc: 0.9101\n",
      "\n",
      "Epoch 00012: saving model to cu\\bilstm\\cu-bilstm_model-12.h5\n",
      "Epoch 13/20\n",
      "51/51 [==============================] - 591s 12s/step - loss: 0.2500 - acc: 0.9199 - val_loss: 0.2488 - val_acc: 0.9202\n",
      "\n",
      "Epoch 00013: saving model to cu\\bilstm\\cu-bilstm_model-13.h5\n",
      "Epoch 14/20\n",
      "51/51 [==============================] - 757s 15s/step - loss: 0.2342 - acc: 0.9225 - val_loss: 0.2483 - val_acc: 0.9187\n",
      "\n",
      "Epoch 00014: saving model to cu\\bilstm\\cu-bilstm_model-14.h5\n",
      "Epoch 15/20\n",
      "51/51 [==============================] - 843s 17s/step - loss: 0.2290 - acc: 0.9227 - val_loss: 0.2444 - val_acc: 0.9193\n",
      "\n",
      "Epoch 00015: saving model to cu\\bilstm\\cu-bilstm_model-15.h5\n",
      "Epoch 16/20\n",
      "51/51 [==============================] - 899s 18s/step - loss: 0.2204 - acc: 0.9243 - val_loss: 0.2417 - val_acc: 0.9207\n",
      "\n",
      "Epoch 00016: saving model to cu\\bilstm\\cu-bilstm_model-16.h5\n",
      "Epoch 17/20\n",
      "51/51 [==============================] - 988s 19s/step - loss: 0.2172 - acc: 0.9249 - val_loss: 0.2418 - val_acc: 0.9207\n",
      "\n",
      "Epoch 00017: saving model to cu\\bilstm\\cu-bilstm_model-17.h5\n",
      "Epoch 18/20\n",
      "51/51 [==============================] - 1065s 21s/step - loss: 0.2165 - acc: 0.9250 - val_loss: 0.2447 - val_acc: 0.9209\n",
      "\n",
      "Epoch 00018: saving model to cu\\bilstm\\cu-bilstm_model-18.h5\n",
      "Epoch 19/20\n",
      "51/51 [==============================] - 1019s 20s/step - loss: 0.2385 - acc: 0.9216 - val_loss: 0.3252 - val_acc: 0.9022\n",
      "\n",
      "Epoch 00019: saving model to cu\\bilstm\\cu-bilstm_model-19.h5\n",
      "Epoch 20/20\n",
      "51/51 [==============================] - 844s 17s/step - loss: 0.2704 - acc: 0.9160 - val_loss: 0.2582 - val_acc: 0.9160\n",
      "\n",
      "Epoch 00020: saving model to cu\\bilstm\\cu-bilstm_model-20.h5\n"
     ]
    }
   ],
   "source": [
    "checkpoint = ModelCheckpoint('cu\\\\bilstm\\\\cu-bilstm_model-{epoch:02d}.h5', verbose=1, save_best_only=False)\n",
    "bilstm_history = bilstm_model.fit_generator(\n",
    "    generator=gen_batch(train_sents, train_tags, batch_size), \n",
    "    steps_per_epoch=steps,\n",
    "    validation_data=gen_batch(val_sents, val_tags, batch_size),\n",
    "    validation_steps=val_steps,\n",
    "    epochs=epochs, verbose=1, callbacks=[checkpoint], workers=-1)\n",
    "dump(bilstm_history.history, open('cu\\\\bilstm\\\\cu-bilstm_model-history.json','w', encoding='utf-8'))"
   ]
  },
  {
   "cell_type": "markdown",
   "metadata": {},
   "source": [
    "### GRU <a id=\"gru\"></a>"
   ]
  },
  {
   "cell_type": "code",
   "execution_count": 90,
   "metadata": {
    "scrolled": true
   },
   "outputs": [
    {
     "name": "stdout",
     "output_type": "stream",
     "text": [
      "_________________________________________________________________\n",
      "Layer (type)                 Output Shape              Param #   \n",
      "=================================================================\n",
      "embedding_8 (Embedding)      (None, 92, 100)           759500    \n",
      "_________________________________________________________________\n",
      "gru_3 (GRU)                  (None, 128)               87936     \n",
      "_________________________________________________________________\n",
      "repeat_vector_7 (RepeatVecto (None, 92, 128)           0         \n",
      "_________________________________________________________________\n",
      "gru_4 (GRU)                  (None, 92, 128)           98688     \n",
      "_________________________________________________________________\n",
      "time_distributed_7 (TimeDist (None, 92, 15)            1935      \n",
      "_________________________________________________________________\n",
      "activation_8 (Activation)    (None, 92, 15)            0         \n",
      "=================================================================\n",
      "Total params: 948,059\n",
      "Trainable params: 948,059\n",
      "Non-trainable params: 0\n",
      "_________________________________________________________________\n"
     ]
    }
   ],
   "source": [
    "gru_model = Sequential()\n",
    "gru_model.add(Embedding(n_words, embed_size, input_length=max_len))\n",
    "gru_model.add(GRU(n_hidden, unroll=True))\n",
    "gru_model.add(RepeatVector(max_len))\n",
    "gru_model.add(GRU(n_hidden, return_sequences=True, unroll=True))\n",
    "gru_model.add(TimeDistributed(Dense(n_tags)))\n",
    "gru_model.add(Activation(\"softmax\"))\n",
    "\n",
    "gru_model.compile(loss=\"categorical_crossentropy\", optimizer=\"adam\", metrics=['acc'])\n",
    "gru_model.summary()"
   ]
  },
  {
   "cell_type": "code",
   "execution_count": 91,
   "metadata": {
    "scrolled": true
   },
   "outputs": [
    {
     "name": "stdout",
     "output_type": "stream",
     "text": [
      "Epoch 1/20\n",
      "51/51 [==============================] - 440s 9s/step - loss: 0.7956 - acc: 0.8843 - val_loss: 0.4000 - val_acc: 0.8971\n",
      "\n",
      "Epoch 00001: saving model to cu\\gru\\cu-gru_model-01.h5\n",
      "Epoch 2/20\n",
      "51/51 [==============================] - 364s 7s/step - loss: 0.3552 - acc: 0.9031 - val_loss: 0.3585 - val_acc: 0.9054\n",
      "\n",
      "Epoch 00002: saving model to cu\\gru\\cu-gru_model-02.h5\n",
      "Epoch 3/20\n",
      "51/51 [==============================] - 337s 7s/step - loss: 0.3379 - acc: 0.9107 - val_loss: 0.3526 - val_acc: 0.9063\n",
      "\n",
      "Epoch 00003: saving model to cu\\gru\\cu-gru_model-03.h5\n",
      "Epoch 4/20\n",
      "51/51 [==============================] - 370s 7s/step - loss: 0.3339 - acc: 0.9110 - val_loss: 0.3503 - val_acc: 0.9063\n",
      "\n",
      "Epoch 00004: saving model to cu\\gru\\cu-gru_model-04.h5\n",
      "Epoch 5/20\n",
      "51/51 [==============================] - 347s 7s/step - loss: 0.3318 - acc: 0.9109 - val_loss: 0.3489 - val_acc: 0.9063\n",
      "\n",
      "Epoch 00005: saving model to cu\\gru\\cu-gru_model-05.h5\n",
      "Epoch 6/20\n",
      "51/51 [==============================] - 332s 7s/step - loss: 0.3301 - acc: 0.9109 - val_loss: 0.3471 - val_acc: 0.9063\n",
      "\n",
      "Epoch 00006: saving model to cu\\gru\\cu-gru_model-06.h5\n",
      "Epoch 7/20\n",
      "51/51 [==============================] - 328s 6s/step - loss: 0.3291 - acc: 0.9111 - val_loss: 0.3461 - val_acc: 0.9063\n",
      "\n",
      "Epoch 00007: saving model to cu\\gru\\cu-gru_model-07.h5\n",
      "Epoch 8/20\n",
      "51/51 [==============================] - 301s 6s/step - loss: 0.3282 - acc: 0.9112 - val_loss: 0.3452 - val_acc: 0.9063\n",
      "\n",
      "Epoch 00008: saving model to cu\\gru\\cu-gru_model-08.h5\n",
      "Epoch 9/20\n",
      "51/51 [==============================] - 291s 6s/step - loss: 0.3273 - acc: 0.9112 - val_loss: 0.3443 - val_acc: 0.9063\n",
      "\n",
      "Epoch 00009: saving model to cu\\gru\\cu-gru_model-09.h5\n",
      "Epoch 10/20\n",
      "51/51 [==============================] - 293s 6s/step - loss: 0.3264 - acc: 0.9112 - val_loss: 0.3434 - val_acc: 0.9063\n",
      "\n",
      "Epoch 00010: saving model to cu\\gru\\cu-gru_model-10.h5\n",
      "Epoch 11/20\n",
      "51/51 [==============================] - 399s 8s/step - loss: 0.3255 - acc: 0.9112 - val_loss: 0.3427 - val_acc: 0.9063\n",
      "\n",
      "Epoch 00011: saving model to cu\\gru\\cu-gru_model-11.h5\n",
      "Epoch 12/20\n",
      "51/51 [==============================] - 426s 8s/step - loss: 0.3249 - acc: 0.9113 - val_loss: 0.3422 - val_acc: 0.9063\n",
      "\n",
      "Epoch 00012: saving model to cu\\gru\\cu-gru_model-12.h5\n",
      "Epoch 13/20\n",
      "51/51 [==============================] - 433s 8s/step - loss: 0.3244 - acc: 0.9115 - val_loss: 0.3420 - val_acc: 0.9067\n",
      "\n",
      "Epoch 00013: saving model to cu\\gru\\cu-gru_model-13.h5\n",
      "Epoch 14/20\n",
      "51/51 [==============================] - 433s 8s/step - loss: 0.3241 - acc: 0.9116 - val_loss: 0.3419 - val_acc: 0.9067\n",
      "\n",
      "Epoch 00014: saving model to cu\\gru\\cu-gru_model-14.h5\n",
      "Epoch 15/20\n",
      "51/51 [==============================] - 438s 9s/step - loss: 0.3239 - acc: 0.9116 - val_loss: 0.3419 - val_acc: 0.9067\n",
      "\n",
      "Epoch 00015: saving model to cu\\gru\\cu-gru_model-15.h5\n",
      "Epoch 16/20\n",
      "51/51 [==============================] - 435s 9s/step - loss: 0.3237 - acc: 0.9116 - val_loss: 0.3418 - val_acc: 0.9067\n",
      "\n",
      "Epoch 00016: saving model to cu\\gru\\cu-gru_model-16.h5\n",
      "Epoch 17/20\n",
      "51/51 [==============================] - 433s 8s/step - loss: 0.3236 - acc: 0.9116 - val_loss: 0.3418 - val_acc: 0.9067\n",
      "\n",
      "Epoch 00017: saving model to cu\\gru\\cu-gru_model-17.h5\n",
      "Epoch 18/20\n",
      "51/51 [==============================] - 433s 8s/step - loss: 0.3235 - acc: 0.9116 - val_loss: 0.3419 - val_acc: 0.9070\n",
      "\n",
      "Epoch 00018: saving model to cu\\gru\\cu-gru_model-18.h5\n",
      "Epoch 19/20\n",
      "51/51 [==============================] - 436s 9s/step - loss: 0.3234 - acc: 0.9116 - val_loss: 0.3419 - val_acc: 0.9070\n",
      "\n",
      "Epoch 00019: saving model to cu\\gru\\cu-gru_model-19.h5\n",
      "Epoch 20/20\n",
      "51/51 [==============================] - 435s 9s/step - loss: 0.3234 - acc: 0.9115 - val_loss: 0.3419 - val_acc: 0.9070\n",
      "\n",
      "Epoch 00020: saving model to cu\\gru\\cu-gru_model-20.h5\n"
     ]
    }
   ],
   "source": [
    "checkpoint = ModelCheckpoint('cu\\\\gru\\\\cu-gru_model-{epoch:02d}.h5', verbose=1, save_best_only=False)\n",
    "gru_history = gru_model.fit_generator(\n",
    "    generator=gen_batch(train_sents, train_tags, batch_size), \n",
    "    steps_per_epoch=steps,\n",
    "    validation_data=gen_batch(val_sents, val_tags, batch_size),\n",
    "    validation_steps=val_steps,\n",
    "    epochs=epochs, verbose=1, callbacks=[checkpoint], workers=-1)\n",
    "dump(gru_history.history, open('cu\\\\gru\\\\cu-gru_model-history.json','w', encoding='utf-8'))"
   ]
  },
  {
   "cell_type": "markdown",
   "metadata": {},
   "source": [
    "В теории GRU вроде как должен быть шустрее LSTM, потому что производит меньше вычислений, но у LSTM 1 секунда на шаг, а тут 7... Ладно, спишем это на постороннюю загрузку компа."
   ]
  },
  {
   "cell_type": "markdown",
   "metadata": {},
   "source": [
    "## Построение графиков и определение переобучения <a id=\"graphs\"></a>"
   ]
  },
  {
   "cell_type": "code",
   "execution_count": 36,
   "metadata": {},
   "outputs": [],
   "source": [
    "# функции для визуализации красоты\n",
    "\n",
    "def vis_loss(history):\n",
    "    history_dict = history.history\n",
    "    loss_values = history_dict['loss']\n",
    "    val_loss_values = history_dict['val_loss']\n",
    "\n",
    "    epochs = range(1, len(history_dict['acc']) + 1)\n",
    "\n",
    "    plt.plot(epochs, loss_values, 'bo', label='Training loss') # пришлось делать точечками, а не линиями, потому что иначе не чётко видно эпохи на графике\n",
    "    plt.plot(epochs, val_loss_values, 'ro', label='Validation loss')\n",
    "    plt.title('Training and validation loss')\n",
    "    plt.xlabel('Epochs')\n",
    "    plt.ylabel('Loss')\n",
    "    plt.legend()\n",
    "\n",
    "    plt.show()\n",
    "    \n",
    "def vis_acc(history):\n",
    "    history_dict = history.history\n",
    "    acc_values = history_dict['acc']\n",
    "    val_acc_values = history_dict['val_acc']\n",
    "\n",
    "    epochs = range(1, len(history_dict['acc']) + 1)\n",
    "\n",
    "    plt.plot(epochs, acc_values, 'bo', label='Training acc')\n",
    "    plt.plot(epochs, val_acc_values, 'ro', label='Validation acc')\n",
    "    plt.title('Training and validation accuracy')\n",
    "    plt.xlabel('Epochs')\n",
    "    plt.ylabel('Accuracy')\n",
    "    plt.legend()\n",
    "\n",
    "    plt.show()"
   ]
  },
  {
   "cell_type": "code",
   "execution_count": 95,
   "metadata": {
    "scrolled": false
   },
   "outputs": [
    {
     "data": {
      "image/png": "[encoded data removed]",
      "text/plain": [
       "<Figure size 432x288 with 1 Axes>"
      ]
     },
     "metadata": {
      "needs_background": "light"
     },
     "output_type": "display_data"
    },
    {
     "data": {
      "image/png": "[encoded data removed]",
      "text/plain": [
       "<Figure size 432x288 with 1 Axes>"
      ]
     },
     "metadata": {
      "needs_background": "light"
     },
     "output_type": "display_data"
    }
   ],
   "source": [
    "vis_loss(simple_history)\n",
    "vis_acc(simple_history)"
   ]
  },
  {
   "cell_type": "code",
   "execution_count": 20,
   "metadata": {},
   "outputs": [],
   "source": [
    "n_simple = 14  #лучшее количество эпох для модели, дальше точность на валидационном корпусе стабилизировалось (а время на обучение зря потратили :с)"
   ]
  },
  {
   "cell_type": "code",
   "execution_count": 97,
   "metadata": {},
   "outputs": [
    {
     "data": {
      "image/png": "[encoded data removed]",
      "text/plain": [
       "<Figure size 432x288 with 1 Axes>"
      ]
     },
     "metadata": {
      "needs_background": "light"
     },
     "output_type": "display_data"
    },
    {
     "data": {
      "image/png": "[encoded data removed]",
      "text/plain": [
       "<Figure size 432x288 with 1 Axes>"
      ]
     },
     "metadata": {
      "needs_background": "light"
     },
     "output_type": "display_data"
    }
   ],
   "source": [
    "vis_loss(lstm_history)\n",
    "vis_acc(lstm_history)"
   ]
  },
  {
   "cell_type": "code",
   "execution_count": 21,
   "metadata": {},
   "outputs": [],
   "source": [
    "n_lstm = 15 # дальше тоже стабилизировалась"
   ]
  },
  {
   "cell_type": "code",
   "execution_count": 99,
   "metadata": {
    "scrolled": false
   },
   "outputs": [
    {
     "data": {
      "image/png": "[encoded data removed]",
      "text/plain": [
       "<Figure size 432x288 with 1 Axes>"
      ]
     },
     "metadata": {
      "needs_background": "light"
     },
     "output_type": "display_data"
    },
    {
     "data": {
      "image/png": "[encoded data removed]",
      "text/plain": [
       "<Figure size 432x288 with 1 Axes>"
      ]
     },
     "metadata": {
      "needs_background": "light"
     },
     "output_type": "display_data"
    }
   ],
   "source": [
    "vis_loss(bilstm_history)\n",
    "vis_acc(bilstm_history)"
   ]
  },
  {
   "cell_type": "code",
   "execution_count": 22,
   "metadata": {},
   "outputs": [],
   "source": [
    "n_bilstm = 18 # Это какое-то не совсем переобучение, потому что я не очень понимаю, почему тренировочная точность тоже поползла вниз, но оно тут всё колеблется, так что был шанс, что дальше точность вернётся вверх"
   ]
  },
  {
   "cell_type": "code",
   "execution_count": 101,
   "metadata": {},
   "outputs": [
    {
     "data": {
      "image/png": "[encoded data removed]",
      "text/plain": [
       "<Figure size 432x288 with 1 Axes>"
      ]
     },
     "metadata": {
      "needs_background": "light"
     },
     "output_type": "display_data"
    },
    {
     "data": {
      "image/png": "[encoded data removed]",
      "text/plain": [
       "<Figure size 432x288 with 1 Axes>"
      ]
     },
     "metadata": {
      "needs_background": "light"
     },
     "output_type": "display_data"
    }
   ],
   "source": [
    "vis_loss(gru_history)\n",
    "vis_acc(gru_history)"
   ]
  },
  {
   "cell_type": "code",
   "execution_count": 23,
   "metadata": {},
   "outputs": [],
   "source": [
    "n_gru = 18 # дальше стабилизировалась"
   ]
  },
  {
   "cell_type": "markdown",
   "metadata": {},
   "source": [
    "Переобучиться мы так нигде и не переобучились, но после определённого числа эпох некоторые модели показывали стабильно один и тот же результат."
   ]
  },
  {
   "cell_type": "markdown",
   "metadata": {},
   "source": [
    "## Оценка и сравнение моделей <a id=\"choose\"></a>"
   ]
  },
  {
   "cell_type": "markdown",
   "metadata": {},
   "source": [
    "Подгружаем лучшие модели и оцениваем на тестовой выборке"
   ]
  },
  {
   "cell_type": "code",
   "execution_count": 26,
   "metadata": {},
   "outputs": [],
   "source": [
    "best_simple = load_model('cu\\\\simple\\\\cu-simple_model-{}.h5'.format(n_simple))\n",
    "simple_evals = best_simple.evaluate_generator(gen_batch(test_sents, test_tags, batch_size), steps=test_steps, max_queue_size=max_len)"
   ]
  },
  {
   "cell_type": "code",
   "execution_count": 27,
   "metadata": {},
   "outputs": [],
   "source": [
    "best_lstm = load_model('cu\\\\lstm\\\\cu-lstm_model-{}.h5'.format(n_lstm))\n",
    "lstm_evals = best_lstm.evaluate_generator(gen_batch(test_sents, test_tags, batch_size), steps=test_steps, max_queue_size=max_len)"
   ]
  },
  {
   "cell_type": "code",
   "execution_count": 28,
   "metadata": {},
   "outputs": [],
   "source": [
    "best_bilstm = load_model('cu\\\\bilstm\\\\cu-bilstm_model-{}.h5'.format(n_bilstm))\n",
    "bilstm_evals = best_bilstm.evaluate_generator(gen_batch(test_sents, test_tags, batch_size), steps=test_steps, max_queue_size=max_len)"
   ]
  },
  {
   "cell_type": "code",
   "execution_count": 29,
   "metadata": {},
   "outputs": [],
   "source": [
    "best_gru = load_model('cu\\\\gru\\\\cu-gru_model-{}.h5'.format(n_gru))\n",
    "gru_evals = best_gru.evaluate_generator(gen_batch(test_sents, test_tags, batch_size), steps=test_steps, max_queue_size=max_len)"
   ]
  },
  {
   "cell_type": "code",
   "execution_count": 30,
   "metadata": {},
   "outputs": [
    {
     "name": "stdout",
     "output_type": "stream",
     "text": [
      "\n",
      "\tLoss\tAcc\n",
      "Simple:\t0.42369\t0.90663\n",
      "LSTM:\t0.42352\t0.90411\n",
      "BiLSTM:\t0.35282\t0.90947\n",
      "GRU:\t0.42277\t0.90663\n"
     ]
    }
   ],
   "source": [
    "print('''\n",
    "\\tLoss\\tAcc\n",
    "Simple:\\t{}\\t{}\n",
    "LSTM:\\t{}\\t{}\n",
    "BiLSTM:\\t{}\\t{}\n",
    "GRU:\\t{}\\t{}'''.format(\n",
    "    round(simple_evals[0], 5), round(simple_evals[1], 5),\n",
    "    round(lstm_evals[0], 5), round(lstm_evals[1], 5),\n",
    "    round(bilstm_evals[0], 5), round(bilstm_evals[1], 5), \n",
    "    round(gru_evals[0], 5), round(gru_evals[1], 5)))"
   ]
  },
  {
   "cell_type": "markdown",
   "metadata": {},
   "source": [
    "Модели показывают примерно одинаковые результаты, но это довольно формальная оценка, потому что паддинги, которые составляют большую часть всех текстов, предсказывать просто. Попробуем раскодировать последовательности тегов обратно и посчитать BLEU -- она как раз для того и нужна."
   ]
  },
  {
   "cell_type": "code",
   "execution_count": 35,
   "metadata": {},
   "outputs": [],
   "source": [
    "def decode_sequences(preds): \n",
    "    dec_tags = []\n",
    "    dec_seqs = []\n",
    "    for i, pred in enumerate(preds):\n",
    "        #print(i, pred.shape)\n",
    "        dec_seq = []\n",
    "        for vector in pred:\n",
    "            #print(vector.shape, vector)\n",
    "            max_idx = np.argmax(vector)\n",
    "            #print(max_idx, np.max(vector))\n",
    "            #print()\n",
    "            dec_seq.append(max_idx)\n",
    "            #print(i, dec_seq)\n",
    "        dec_seqs.append(dec_seq)\n",
    "        \n",
    "        decoded = [i2t[idx] for idx in dec_seq if idx != 0] # обрубаем маддинги\n",
    "        #print(decoded)\n",
    "        dec_tags.append(decoded)\n",
    "        #print('+'*50)\n",
    "    return dec_seqs, dec_tags"
   ]
  },
  {
   "cell_type": "code",
   "execution_count": 122,
   "metadata": {},
   "outputs": [
    {
     "name": "stdout",
     "output_type": "stream",
     "text": [
      "['adv', 'verb', 'sconj', 'adv', 'verb', 'verb']\n",
      "['adp', 'noun', 'adp', 'adp']\n",
      "\n",
      "['pron', 'adv', 'noun', 'verb', 'verb', 'pron', 'cconj', 'adp', 'pron', 'noun', 'verb', 'verb', 'aux', 'pron']\n",
      "['adp', 'noun', 'adp', 'adp']\n",
      "\n",
      "['pron', 'adv', 'verb', 'noun', 'adp', 'noun', 'noun', 'adj', 'cconj', 'noun', 'pron', 'verb', 'adp', 'noun', 'adj', 'adv', 'verb', 'cconj', 'adv', 'verb', 'noun', 'adj']\n",
      "['adp', 'noun', 'adp', 'adp']\n",
      "\n"
     ]
    }
   ],
   "source": [
    "lstm_preds = best_lstm.predict_generator(gen_batch(test_sents_clean, test_tags, batch_size), steps=int(len(test_sents_clean)/batch_size))\n",
    "lstm_dec_seqs, lstm_dec_tags = decode_sequences(lstm_preds)\n",
    "for i in range(3):\n",
    "    print(test_tags[i])\n",
    "    #print(lstm_dec_seqs[i])\n",
    "    print(lstm_dec_tags[i])\n",
    "    print()"
   ]
  },
  {
   "cell_type": "code",
   "execution_count": 123,
   "metadata": {},
   "outputs": [
    {
     "name": "stdout",
     "output_type": "stream",
     "text": [
      "['adv', 'verb', 'sconj', 'adv', 'verb', 'verb']\n",
      "['adp', 'adp', 'adp', 'adp', 'adp', 'adp']\n",
      "\n",
      "['pron', 'adv', 'noun', 'verb', 'verb', 'pron', 'cconj', 'adp', 'pron', 'noun', 'verb', 'verb', 'aux', 'pron']\n",
      "['adp', 'adp', 'adp', 'adp', 'adp', 'adp', 'adp', 'adp', 'adp', 'adp']\n",
      "\n",
      "['pron', 'adv', 'verb', 'noun', 'adp', 'noun', 'noun', 'adj', 'cconj', 'noun', 'pron', 'verb', 'adp', 'noun', 'adj', 'adv', 'verb', 'cconj', 'adv', 'verb', 'noun', 'adj']\n",
      "['adp', 'adp', 'adp', 'adp', 'adp', 'adp', 'adp', 'adp', 'adp', 'adp', 'adp', 'adp', 'adp', 'adp', 'adp', 'adp', 'adp']\n",
      "\n"
     ]
    }
   ],
   "source": [
    "bilstm_preds = best_bilstm.predict_generator(gen_batch(test_sents_clean, test_tags, batch_size), steps=int(len(test_sents_clean)/batch_size))\n",
    "bilstm_dec_seqs, bilstm_dec_tags = decode_sequences(bilstm_preds)\n",
    "for i in range(3):\n",
    "    print(test_tags[i])\n",
    "    #print(bilstm_dec_seqs[i])\n",
    "    print(bilstm_dec_tags[i])\n",
    "    print()"
   ]
  },
  {
   "cell_type": "code",
   "execution_count": 124,
   "metadata": {
    "scrolled": false
   },
   "outputs": [
    {
     "name": "stdout",
     "output_type": "stream",
     "text": [
      "['adv', 'verb', 'sconj', 'adv', 'verb', 'verb']\n",
      "['adp', 'adp', 'adp', 'adp', 'adp', 'adp']\n",
      "\n",
      "['pron', 'adv', 'noun', 'verb', 'verb', 'pron', 'cconj', 'adp', 'pron', 'noun', 'verb', 'verb', 'aux', 'pron']\n",
      "['adp', 'adp', 'adp', 'adp', 'adp', 'adp', 'adp', 'adp', 'adp', 'adp']\n",
      "\n",
      "['pron', 'adv', 'verb', 'noun', 'adp', 'noun', 'noun', 'adj', 'cconj', 'noun', 'pron', 'verb', 'adp', 'noun', 'adj', 'adv', 'verb', 'cconj', 'adv', 'verb', 'noun', 'adj']\n",
      "['adp', 'adp', 'adp', 'adp', 'adp', 'adp', 'adp', 'adp', 'adp', 'adp', 'adp', 'adp', 'adp', 'adp', 'adp', 'adp', 'adp']\n",
      "\n"
     ]
    }
   ],
   "source": [
    "gru_preds = best_gru.predict_generator(gen_batch(test_sents_clean, test_tags, batch_size), steps=int(len(test_sents_clean)/batch_size))\n",
    "gru_dec_seqs, gru_dec_tags = decode_sequences(bilstm_preds)\n",
    "for i in range(3):\n",
    "    print(test_tags[i])\n",
    "    #print(gru_dec_seqs[i])\n",
    "    print(gru_dec_tags[i])\n",
    "    print()"
   ]
  },
  {
   "cell_type": "markdown",
   "metadata": {},
   "source": [
    "Но всё оказалось настолько плохо, что даже считать что-то стало бессмысленным :с"
   ]
  },
  {
   "cell_type": "markdown",
   "metadata": {},
   "source": [
    "## Упрощение модели <a id=\"easy\"></a>"
   ]
  },
  {
   "cell_type": "markdown",
   "metadata": {},
   "source": [
    "Как уже было сказано, мы решили перейти от сложных архитектур с мудрёными слоями к простым."
   ]
  },
  {
   "cell_type": "code",
   "execution_count": 64,
   "metadata": {},
   "outputs": [],
   "source": [
    "# показатели довольно быстро более-менее стабилизируются, а обучаются всё-таки долго, заразы, поэтому \n",
    "epochs = 10"
   ]
  },
  {
   "cell_type": "code",
   "execution_count": 57,
   "metadata": {},
   "outputs": [],
   "source": [
    "for model_type in ['simple', 'lstm', 'bilstm', 'gru']:\n",
    "    try:\n",
    "        makedirs('cu\\\\easy-{}'.format(model_type))\n",
    "    except OSError:\n",
    "        pass"
   ]
  },
  {
   "cell_type": "markdown",
   "metadata": {},
   "source": [
    "### SimpleRNN"
   ]
  },
  {
   "cell_type": "code",
   "execution_count": 58,
   "metadata": {
    "scrolled": true
   },
   "outputs": [
    {
     "name": "stdout",
     "output_type": "stream",
     "text": [
      "_________________________________________________________________\n",
      "Layer (type)                 Output Shape              Param #   \n",
      "=================================================================\n",
      "embedding_4 (Embedding)      (None, 92, 100)           759500    \n",
      "_________________________________________________________________\n",
      "simple_rnn_3 (SimpleRNN)     (None, 92, 128)           29312     \n",
      "_________________________________________________________________\n",
      "dense_4 (Dense)              (None, 92, 15)            1935      \n",
      "=================================================================\n",
      "Total params: 790,747\n",
      "Trainable params: 790,747\n",
      "Non-trainable params: 0\n",
      "_________________________________________________________________\n"
     ]
    }
   ],
   "source": [
    "easy_simple = Sequential()\n",
    "easy_simple.add(Embedding(n_words, embed_size, input_length=max_len))\n",
    "easy_simple.add(SimpleRNN(n_hidden, return_sequences=True, unroll=True))\n",
    "easy_simple.add(Dense(n_tags, activation=\"softmax\"))\n",
    "\n",
    "easy_simple.compile(loss=\"categorical_crossentropy\", optimizer=\"adam\", metrics=['acc'])\n",
    "easy_simple.summary()"
   ]
  },
  {
   "cell_type": "code",
   "execution_count": 59,
   "metadata": {
    "scrolled": true
   },
   "outputs": [
    {
     "name": "stdout",
     "output_type": "stream",
     "text": [
      "Epoch 1/10\n",
      "51/51 [==============================] - 13s 252ms/step - loss: 0.5590 - acc: 0.8899 - val_loss: 0.3590 - val_acc: 0.9074\n",
      "\n",
      "Epoch 00001: saving model to cu\\easy-simple\\cu-easy_model-1.h5\n",
      "Epoch 2/10\n",
      "51/51 [==============================] - 8s 156ms/step - loss: 0.2860 - acc: 0.9201 - val_loss: 0.2726 - val_acc: 0.9221\n",
      "\n",
      "Epoch 00002: saving model to cu\\easy-simple\\cu-easy_model-2.h5\n",
      "Epoch 3/10\n",
      "51/51 [==============================] - 8s 161ms/step - loss: 0.2390 - acc: 0.9351 - val_loss: 0.2518 - val_acc: 0.9288\n",
      "\n",
      "Epoch 00003: saving model to cu\\easy-simple\\cu-easy_model-3.h5\n",
      "Epoch 4/10\n",
      "51/51 [==============================] - 8s 157ms/step - loss: 0.2104 - acc: 0.9445 - val_loss: 0.2197 - val_acc: 0.9425\n",
      "\n",
      "Epoch 00004: saving model to cu\\easy-simple\\cu-easy_model-4.h5\n",
      "Epoch 5/10\n",
      "51/51 [==============================] - 8s 154ms/step - loss: 0.1753 - acc: 0.9590 - val_loss: 0.1828 - val_acc: 0.9571\n",
      "\n",
      "Epoch 00005: saving model to cu\\easy-simple\\cu-easy_model-5.h5\n",
      "Epoch 6/10\n",
      "51/51 [==============================] - 8s 155ms/step - loss: 0.1343 - acc: 0.9721 - val_loss: 0.1408 - val_acc: 0.9681\n",
      "\n",
      "Epoch 00006: saving model to cu\\easy-simple\\cu-easy_model-6.h5\n",
      "Epoch 7/10\n",
      "51/51 [==============================] - 8s 158ms/step - loss: 0.0971 - acc: 0.9814 - val_loss: 0.1074 - val_acc: 0.9752\n",
      "\n",
      "Epoch 00007: saving model to cu\\easy-simple\\cu-easy_model-7.h5\n",
      "Epoch 8/10\n",
      "51/51 [==============================] - 8s 158ms/step - loss: 0.0681 - acc: 0.9875 - val_loss: 0.0862 - val_acc: 0.9793\n",
      "\n",
      "Epoch 00008: saving model to cu\\easy-simple\\cu-easy_model-8.h5\n",
      "Epoch 9/10\n",
      "51/51 [==============================] - 8s 157ms/step - loss: 0.0490 - acc: 0.9909 - val_loss: 0.0744 - val_acc: 0.9813\n",
      "\n",
      "Epoch 00009: saving model to cu\\easy-simple\\cu-easy_model-9.h5\n",
      "Epoch 10/10\n",
      "51/51 [==============================] - 8s 155ms/step - loss: 0.0367 - acc: 0.9932 - val_loss: 0.0659 - val_acc: 0.9833\n",
      "\n",
      "Epoch 00010: saving model to cu\\easy-simple\\cu-easy_model-10.h5\n"
     ]
    }
   ],
   "source": [
    "checkpoint = ModelCheckpoint('cu\\\\easy-simple\\\\cu-easy_model-{epoch}.h5', verbose=1, save_best_only=False, save_weights_only=True)\n",
    "easy_simple_history = easy_simple.fit_generator(\n",
    "    generator=gen_batch(train_sents, train_tags, batch_size), \n",
    "    steps_per_epoch=steps,\n",
    "    validation_data=gen_batch(val_sents, val_tags, batch_size),\n",
    "    validation_steps=val_steps,\n",
    "    epochs=epochs, verbose=1, callbacks=[checkpoint])\n",
    "dump(easy_simple_history.history, open('cu\\\\easy-simple\\\\cu-easy_model-history.json','w', encoding='utf-8'))"
   ]
  },
  {
   "cell_type": "markdown",
   "metadata": {},
   "source": [
    "### LSTM"
   ]
  },
  {
   "cell_type": "code",
   "execution_count": 65,
   "metadata": {
    "scrolled": true
   },
   "outputs": [
    {
     "name": "stdout",
     "output_type": "stream",
     "text": [
      "_________________________________________________________________\n",
      "Layer (type)                 Output Shape              Param #   \n",
      "=================================================================\n",
      "embedding_5 (Embedding)      (None, 92, 100)           759500    \n",
      "_________________________________________________________________\n",
      "lstm_3 (LSTM)                (None, 92, 128)           117248    \n",
      "_________________________________________________________________\n",
      "dense_5 (Dense)              (None, 92, 15)            1935      \n",
      "=================================================================\n",
      "Total params: 878,683\n",
      "Trainable params: 878,683\n",
      "Non-trainable params: 0\n",
      "_________________________________________________________________\n"
     ]
    }
   ],
   "source": [
    "easy_lstm = Sequential()\n",
    "easy_lstm.add(Embedding(n_words, embed_size, input_length=max_len))\n",
    "easy_lstm.add(LSTM(n_hidden, return_sequences=True, unroll=True))\n",
    "easy_lstm.add(Dense(n_tags, activation=\"softmax\"))\n",
    "\n",
    "easy_lstm.compile(loss=\"categorical_crossentropy\", optimizer=\"adam\", metrics=['acc'])\n",
    "easy_lstm.summary()"
   ]
  },
  {
   "cell_type": "code",
   "execution_count": 66,
   "metadata": {
    "scrolled": true
   },
   "outputs": [
    {
     "name": "stdout",
     "output_type": "stream",
     "text": [
      "Epoch 1/10\n",
      "51/51 [==============================] - 70s 1s/step - loss: 0.7704 - acc: 0.8843 - val_loss: 0.3485 - val_acc: 0.8987\n",
      "\n",
      "Epoch 00001: saving model to cu\\easy-lstm\\cu-easy_model-1.h5\n",
      "Epoch 2/10\n",
      "51/51 [==============================] - 27s 521ms/step - loss: 0.3054 - acc: 0.9047 - val_loss: 0.3242 - val_acc: 0.9004\n",
      "\n",
      "Epoch 00002: saving model to cu\\easy-lstm\\cu-easy_model-2.h5\n",
      "Epoch 3/10\n",
      "51/51 [==============================] - 28s 555ms/step - loss: 0.2781 - acc: 0.9057 - val_loss: 0.2874 - val_acc: 0.9008\n",
      "\n",
      "Epoch 00003: saving model to cu\\easy-lstm\\cu-easy_model-3.h5\n",
      "Epoch 4/10\n",
      "51/51 [==============================] - 31s 615ms/step - loss: 0.2588 - acc: 0.9084 - val_loss: 0.2810 - val_acc: 0.9084\n",
      "\n",
      "Epoch 00004: saving model to cu\\easy-lstm\\cu-easy_model-4.h5\n",
      "Epoch 5/10\n",
      "51/51 [==============================] - 26s 506ms/step - loss: 0.2429 - acc: 0.9162 - val_loss: 0.2845 - val_acc: 0.9159\n",
      "\n",
      "Epoch 00005: saving model to cu\\easy-lstm\\cu-easy_model-5.h5\n",
      "Epoch 6/10\n",
      "51/51 [==============================] - 31s 600ms/step - loss: 0.2321 - acc: 0.9220 - val_loss: 0.2682 - val_acc: 0.9182\n",
      "\n",
      "Epoch 00006: saving model to cu\\easy-lstm\\cu-easy_model-6.h5\n",
      "Epoch 7/10\n",
      "51/51 [==============================] - 29s 571ms/step - loss: 0.2185 - acc: 0.9279 - val_loss: 0.2510 - val_acc: 0.9247\n",
      "\n",
      "Epoch 00007: saving model to cu\\easy-lstm\\cu-easy_model-7.h5\n",
      "Epoch 8/10\n",
      "51/51 [==============================] - 25s 494ms/step - loss: 0.2013 - acc: 0.9332 - val_loss: 0.2066 - val_acc: 0.9325\n",
      "\n",
      "Epoch 00008: saving model to cu\\easy-lstm\\cu-easy_model-8.h5\n",
      "Epoch 9/10\n",
      "51/51 [==============================] - 26s 501ms/step - loss: 0.1750 - acc: 0.9458 - val_loss: 0.1875 - val_acc: 0.9497\n",
      "\n",
      "Epoch 00009: saving model to cu\\easy-lstm\\cu-easy_model-9.h5\n",
      "Epoch 10/10\n",
      "51/51 [==============================] - 26s 500ms/step - loss: 0.1380 - acc: 0.9664 - val_loss: 0.1543 - val_acc: 0.9652\n",
      "\n",
      "Epoch 00010: saving model to cu\\easy-lstm\\cu-easy_model-10.h5\n"
     ]
    }
   ],
   "source": [
    "checkpoint = ModelCheckpoint('cu\\\\easy-lstm\\\\cu-easy_model-{epoch}.h5', verbose=1, save_best_only=False, save_weights_only=True)\n",
    "easy_lstm_history = easy_lstm.fit_generator(\n",
    "    generator=gen_batch(train_sents, train_tags, batch_size), \n",
    "    steps_per_epoch=steps,\n",
    "    validation_data=gen_batch(val_sents, val_tags, batch_size),\n",
    "    validation_steps=val_steps,\n",
    "    epochs=epochs, verbose=1, callbacks=[checkpoint])\n",
    "dump(easy_lstm_history.history, open('cu\\\\easy-lstm\\\\cu-easy_model-history.json','w', encoding='utf-8'))"
   ]
  },
  {
   "cell_type": "markdown",
   "metadata": {},
   "source": [
    "### BiLSTM"
   ]
  },
  {
   "cell_type": "code",
   "execution_count": 67,
   "metadata": {
    "scrolled": false
   },
   "outputs": [
    {
     "name": "stdout",
     "output_type": "stream",
     "text": [
      "_________________________________________________________________\n",
      "Layer (type)                 Output Shape              Param #   \n",
      "=================================================================\n",
      "embedding_6 (Embedding)      (None, 92, 100)           759500    \n",
      "_________________________________________________________________\n",
      "bidirectional_1 (Bidirection (None, 92, 256)           234496    \n",
      "_________________________________________________________________\n",
      "dense_6 (Dense)              (None, 92, 15)            3855      \n",
      "=================================================================\n",
      "Total params: 997,851\n",
      "Trainable params: 997,851\n",
      "Non-trainable params: 0\n",
      "_________________________________________________________________\n"
     ]
    }
   ],
   "source": [
    "easy_bilstm = Sequential()\n",
    "easy_bilstm.add(Embedding(n_words, embed_size, input_length=max_len))\n",
    "easy_bilstm.add(Bidirectional(LSTM(n_hidden, return_sequences=True, unroll=True)))\n",
    "easy_bilstm.add(Dense(n_tags, activation=\"softmax\"))\n",
    "\n",
    "easy_bilstm.compile(loss=\"categorical_crossentropy\", optimizer=\"adam\", metrics=['acc'])\n",
    "easy_bilstm.summary()"
   ]
  },
  {
   "cell_type": "code",
   "execution_count": 68,
   "metadata": {
    "scrolled": true
   },
   "outputs": [
    {
     "name": "stdout",
     "output_type": "stream",
     "text": [
      "Epoch 1/10\n",
      "51/51 [==============================] - 238s 5s/step - loss: 0.6639 - acc: 0.8859 - val_loss: 0.2944 - val_acc: 0.9029\n",
      "\n",
      "Epoch 00001: saving model to cu\\easy-bilstm\\cu-easy_model-1.h5\n",
      "Epoch 2/10\n",
      "51/51 [==============================] - 150s 3s/step - loss: 0.2582 - acc: 0.9172 - val_loss: 0.2588 - val_acc: 0.9204\n",
      "\n",
      "Epoch 00002: saving model to cu\\easy-bilstm\\cu-easy_model-2.h5\n",
      "Epoch 3/10\n",
      "51/51 [==============================] - 150s 3s/step - loss: 0.2313 - acc: 0.9241 - val_loss: 0.2333 - val_acc: 0.9217\n",
      "\n",
      "Epoch 00003: saving model to cu\\easy-bilstm\\cu-easy_model-3.h5\n",
      "Epoch 4/10\n",
      "51/51 [==============================] - 156s 3s/step - loss: 0.2173 - acc: 0.9257 - val_loss: 0.2276 - val_acc: 0.9224\n",
      "\n",
      "Epoch 00004: saving model to cu\\easy-bilstm\\cu-easy_model-4.h5\n",
      "Epoch 5/10\n",
      "51/51 [==============================] - 153s 3s/step - loss: 0.2044 - acc: 0.9283 - val_loss: 0.2086 - val_acc: 0.9330\n",
      "\n",
      "Epoch 00005: saving model to cu\\easy-bilstm\\cu-easy_model-5.h5\n",
      "Epoch 6/10\n",
      "51/51 [==============================] - 151s 3s/step - loss: 0.1783 - acc: 0.9449 - val_loss: 0.1700 - val_acc: 0.9520\n",
      "\n",
      "Epoch 00006: saving model to cu\\easy-bilstm\\cu-easy_model-6.h5\n",
      "Epoch 7/10\n",
      "51/51 [==============================] - 149s 3s/step - loss: 0.1354 - acc: 0.9654 - val_loss: 0.1244 - val_acc: 0.9670\n",
      "\n",
      "Epoch 00007: saving model to cu\\easy-bilstm\\cu-easy_model-7.h5\n",
      "Epoch 8/10\n",
      "51/51 [==============================] - 152s 3s/step - loss: 0.0896 - acc: 0.9788 - val_loss: 0.0861 - val_acc: 0.9769\n",
      "\n",
      "Epoch 00008: saving model to cu\\easy-bilstm\\cu-easy_model-8.h5\n",
      "Epoch 9/10\n",
      "51/51 [==============================] - 154s 3s/step - loss: 0.0556 - acc: 0.9876 - val_loss: 0.0714 - val_acc: 0.9820\n",
      "\n",
      "Epoch 00009: saving model to cu\\easy-bilstm\\cu-easy_model-9.h5\n",
      "Epoch 10/10\n",
      "51/51 [==============================] - 152s 3s/step - loss: 0.0362 - acc: 0.9919 - val_loss: 0.0528 - val_acc: 0.9852\n",
      "\n",
      "Epoch 00010: saving model to cu\\easy-bilstm\\cu-easy_model-10.h5\n"
     ]
    }
   ],
   "source": [
    "checkpoint = ModelCheckpoint('cu\\\\easy-bilstm\\\\cu-easy_model-{epoch}.h5', verbose=1, save_best_only=False, save_weights_only=True)\n",
    "easy_bilstm_history = easy_bilstm.fit_generator(\n",
    "    generator=gen_batch(train_sents, train_tags, batch_size), \n",
    "    steps_per_epoch=steps,\n",
    "    validation_data=gen_batch(val_sents, val_tags, batch_size),\n",
    "    validation_steps=val_steps,\n",
    "    epochs=epochs, verbose=1, callbacks=[checkpoint])\n",
    "dump(easy_bilstm_history.history, open('cu\\\\easy-bilstm\\\\cu-easy_model-history.json','w', encoding='utf-8'))"
   ]
  },
  {
   "cell_type": "markdown",
   "metadata": {},
   "source": [
    "### GRU"
   ]
  },
  {
   "cell_type": "code",
   "execution_count": 70,
   "metadata": {
    "scrolled": false
   },
   "outputs": [
    {
     "name": "stdout",
     "output_type": "stream",
     "text": [
      "_________________________________________________________________\n",
      "Layer (type)                 Output Shape              Param #   \n",
      "=================================================================\n",
      "embedding_8 (Embedding)      (None, 92, 100)           759500    \n",
      "_________________________________________________________________\n",
      "gru_2 (GRU)                  (None, 92, 128)           87936     \n",
      "_________________________________________________________________\n",
      "dense_8 (Dense)              (None, 92, 15)            1935      \n",
      "=================================================================\n",
      "Total params: 849,371\n",
      "Trainable params: 849,371\n",
      "Non-trainable params: 0\n",
      "_________________________________________________________________\n"
     ]
    }
   ],
   "source": [
    "easy_gru = Sequential()\n",
    "easy_gru.add(Embedding(n_words, embed_size, input_length=max_len))\n",
    "easy_gru.add(GRU(n_hidden, return_sequences=True, unroll=True))\n",
    "easy_gru.add(Dense(n_tags, activation=\"softmax\"))\n",
    "\n",
    "easy_gru.compile(loss=\"categorical_crossentropy\", optimizer=\"adam\", metrics=['acc'])\n",
    "easy_gru.summary()"
   ]
  },
  {
   "cell_type": "code",
   "execution_count": 71,
   "metadata": {
    "scrolled": true
   },
   "outputs": [
    {
     "name": "stdout",
     "output_type": "stream",
     "text": [
      "Epoch 1/10\n",
      "51/51 [==============================] - 127s 2s/step - loss: 0.8253 - acc: 0.8714 - val_loss: 0.3062 - val_acc: 0.9143\n",
      "\n",
      "Epoch 00001: saving model to cu\\easy-gru\\cu-easy_model-1.h5\n",
      "Epoch 2/10\n",
      "51/51 [==============================] - 86s 2s/step - loss: 0.2786 - acc: 0.9154 - val_loss: 0.2895 - val_acc: 0.9075\n",
      "\n",
      "Epoch 00002: saving model to cu\\easy-gru\\cu-easy_model-2.h5\n",
      "Epoch 3/10\n",
      "51/51 [==============================] - 85s 2s/step - loss: 0.2652 - acc: 0.9176 - val_loss: 0.2779 - val_acc: 0.9061\n",
      "\n",
      "Epoch 00003: saving model to cu\\easy-gru\\cu-easy_model-3.h5\n",
      "Epoch 4/10\n",
      "51/51 [==============================] - 86s 2s/step - loss: 0.2501 - acc: 0.9187 - val_loss: 0.2596 - val_acc: 0.9150\n",
      "\n",
      "Epoch 00004: saving model to cu\\easy-gru\\cu-easy_model-4.h5\n",
      "Epoch 5/10\n",
      "51/51 [==============================] - 87s 2s/step - loss: 0.2214 - acc: 0.9302 - val_loss: 0.2199 - val_acc: 0.9354\n",
      "\n",
      "Epoch 00005: saving model to cu\\easy-gru\\cu-easy_model-5.h5\n",
      "Epoch 6/10\n",
      "51/51 [==============================] - 86s 2s/step - loss: 0.1754 - acc: 0.9541 - val_loss: 0.1635 - val_acc: 0.9619\n",
      "\n",
      "Epoch 00006: saving model to cu\\easy-gru\\cu-easy_model-6.h5\n",
      "Epoch 7/10\n",
      "51/51 [==============================] - 85s 2s/step - loss: 0.1158 - acc: 0.9737 - val_loss: 0.1092 - val_acc: 0.9730\n",
      "\n",
      "Epoch 00007: saving model to cu\\easy-gru\\cu-easy_model-7.h5\n",
      "Epoch 8/10\n",
      "51/51 [==============================] - 87s 2s/step - loss: 0.0736 - acc: 0.9844 - val_loss: 0.0803 - val_acc: 0.9792\n",
      "\n",
      "Epoch 00008: saving model to cu\\easy-gru\\cu-easy_model-8.h5\n",
      "Epoch 9/10\n",
      "51/51 [==============================] - 88s 2s/step - loss: 0.0488 - acc: 0.9900 - val_loss: 0.0636 - val_acc: 0.9828\n",
      "\n",
      "Epoch 00009: saving model to cu\\easy-gru\\cu-easy_model-9.h5\n",
      "Epoch 10/10\n",
      "51/51 [==============================] - 87s 2s/step - loss: 0.0342 - acc: 0.9929 - val_loss: 0.0544 - val_acc: 0.9846\n",
      "\n",
      "Epoch 00010: saving model to cu\\easy-gru\\cu-easy_model-10.h5\n"
     ]
    }
   ],
   "source": [
    "checkpoint = ModelCheckpoint('cu\\\\easy-gru\\\\cu-easy_model-{epoch}.h5', verbose=1, save_best_only=False, save_weights_only=True)\n",
    "easy_gru_history = easy_gru.fit_generator(\n",
    "    generator=gen_batch(train_sents, train_tags, batch_size), \n",
    "    steps_per_epoch=steps,\n",
    "    validation_data=gen_batch(val_sents, val_tags, batch_size),\n",
    "    validation_steps=val_steps,\n",
    "    epochs=epochs, verbose=1, callbacks=[checkpoint])\n",
    "dump(easy_gru_history.history, open('cu\\\\easy-gru\\\\cu-easy_model-history.json','w', encoding='utf-8'))"
   ]
  },
  {
   "cell_type": "markdown",
   "metadata": {},
   "source": [
    "## Графики"
   ]
  },
  {
   "cell_type": "code",
   "execution_count": 72,
   "metadata": {
    "scrolled": false
   },
   "outputs": [
    {
     "data": {
      "image/png": "[encoded data removed]",
      "text/plain": [
       "<Figure size 432x288 with 1 Axes>"
      ]
     },
     "metadata": {
      "needs_background": "light"
     },
     "output_type": "display_data"
    },
    {
     "data": {
      "image/png": "[encoded data removed]",
      "text/plain": [
       "<Figure size 432x288 with 1 Axes>"
      ]
     },
     "metadata": {
      "needs_background": "light"
     },
     "output_type": "display_data"
    }
   ],
   "source": [
    "vis_loss(easy_simple_history)\n",
    "vis_acc(easy_simple_history)"
   ]
  },
  {
   "cell_type": "code",
   "execution_count": 73,
   "metadata": {
    "scrolled": false
   },
   "outputs": [
    {
     "data": {
      "image/png": "[encoded data removed]",
      "text/plain": [
       "<Figure size 432x288 with 1 Axes>"
      ]
     },
     "metadata": {
      "needs_background": "light"
     },
     "output_type": "display_data"
    },
    {
     "data": {
      "image/png": "[encoded data removed]",
      "text/plain": [
       "<Figure size 432x288 with 1 Axes>"
      ]
     },
     "metadata": {
      "needs_background": "light"
     },
     "output_type": "display_data"
    }
   ],
   "source": [
    "vis_loss(easy_lstm_history)\n",
    "vis_acc(easy_lstm_history)"
   ]
  },
  {
   "cell_type": "code",
   "execution_count": 74,
   "metadata": {
    "scrolled": false
   },
   "outputs": [
    {
     "data": {
      "image/png": "[encoded data removed]",
      "text/plain": [
       "<Figure size 432x288 with 1 Axes>"
      ]
     },
     "metadata": {
      "needs_background": "light"
     },
     "output_type": "display_data"
    },
    {
     "data": {
      "image/png": "[encoded data removed]",
      "text/plain": [
       "<Figure size 432x288 with 1 Axes>"
      ]
     },
     "metadata": {
      "needs_background": "light"
     },
     "output_type": "display_data"
    }
   ],
   "source": [
    "vis_loss(easy_bilstm_history)\n",
    "vis_acc(easy_bilstm_history)"
   ]
  },
  {
   "cell_type": "code",
   "execution_count": 75,
   "metadata": {
    "scrolled": false
   },
   "outputs": [
    {
     "data": {
      "image/png": "[encoded data removed]",
      "text/plain": [
       "<Figure size 432x288 with 1 Axes>"
      ]
     },
     "metadata": {
      "needs_background": "light"
     },
     "output_type": "display_data"
    },
    {
     "data": {
      "image/png": "[encoded data removed]",
      "text/plain": [
       "<Figure size 432x288 with 1 Axes>"
      ]
     },
     "metadata": {
      "needs_background": "light"
     },
     "output_type": "display_data"
    }
   ],
   "source": [
    "vis_loss(easy_gru_history)\n",
    "vis_acc(easy_gru_history)"
   ]
  },
  {
   "cell_type": "markdown",
   "metadata": {},
   "source": [
    "Переобучения нигде не было, как и стабилизации точности, поэтому мы будем использовать последние полученные модели, не подгружая \"лучшие\""
   ]
  },
  {
   "cell_type": "markdown",
   "metadata": {},
   "source": [
    "## Оценка"
   ]
  },
  {
   "cell_type": "code",
   "execution_count": 76,
   "metadata": {},
   "outputs": [],
   "source": [
    "easy_simple_evals = easy_simple.evaluate_generator(gen_batch(test_sents, test_tags, batch_size), steps=test_steps, max_queue_size=max_len)"
   ]
  },
  {
   "cell_type": "code",
   "execution_count": 77,
   "metadata": {},
   "outputs": [],
   "source": [
    "easy_lstm_evals = easy_lstm.evaluate_generator(gen_batch(test_sents, test_tags, batch_size), steps=test_steps, max_queue_size=max_len)"
   ]
  },
  {
   "cell_type": "code",
   "execution_count": 78,
   "metadata": {},
   "outputs": [],
   "source": [
    "easy_bilstm_evals = easy_bilstm.evaluate_generator(gen_batch(test_sents, test_tags, batch_size), steps=test_steps, max_queue_size=max_len)"
   ]
  },
  {
   "cell_type": "code",
   "execution_count": 79,
   "metadata": {},
   "outputs": [],
   "source": [
    "easy_gru_evals = easy_gru.evaluate_generator(gen_batch(test_sents, test_tags, batch_size), steps=test_steps, max_queue_size=max_len)"
   ]
  },
  {
   "cell_type": "code",
   "execution_count": 80,
   "metadata": {},
   "outputs": [
    {
     "name": "stdout",
     "output_type": "stream",
     "text": [
      "\n",
      "\tLoss\tAcc\n",
      "Simple:\t0.06297\t0.98336\n",
      "LSTM:\t0.13294\t0.96778\n",
      "BiLSTM:\t0.05132\t0.98555\n",
      "GRU:\t0.05012\t0.98714\n"
     ]
    }
   ],
   "source": [
    "print('''\n",
    "\\tLoss\\tAcc\n",
    "Simple:\\t{}\\t{}\n",
    "LSTM:\\t{}\\t{}\n",
    "BiLSTM:\\t{}\\t{}\n",
    "GRU:\\t{}\\t{}'''.format(\n",
    "    round(easy_simple_evals[0], 5), round(easy_simple_evals[1], 5),\n",
    "    round(easy_lstm_evals[0], 5), round(easy_lstm_evals[1], 5),\n",
    "    round(easy_bilstm_evals[0], 5), round(easy_bilstm_evals[1], 5), \n",
    "    round(easy_gru_evals[0], 5), round(easy_gru_evals[1], 5)))"
   ]
  },
  {
   "cell_type": "markdown",
   "metadata": {},
   "source": [
    "У трёх моделей снова примерно одинаковые результаты, хотя и намного лучше, чем прошлые. А вот LSTM показала себя чуть хуже, чем другие архитектуры, уступив даже простому рекуррентному слою."
   ]
  },
  {
   "cell_type": "code",
   "execution_count": 96,
   "metadata": {
    "scrolled": false
   },
   "outputs": [
    {
     "name": "stdout",
     "output_type": "stream",
     "text": [
      "(1088, 92, 15)\n",
      "['adv', 'verb', 'sconj', 'adv', 'verb', 'verb']\n",
      "['adv', 'verb', 'sconj', 'adv', 'verb', 'verb']\n",
      "\n",
      "['pron', 'adv', 'noun', 'verb', 'verb', 'pron', 'cconj', 'adp', 'pron', 'noun', 'verb', 'verb', 'aux', 'pron']\n",
      "['pron', 'adv', 'verb', 'verb', 'verb', 'pron', 'cconj', 'adp', 'pron', 'noun', 'noun', 'noun', 'aux', 'pron']\n",
      "\n",
      "['pron', 'adv', 'verb', 'noun', 'adp', 'noun', 'noun', 'adj', 'cconj', 'noun', 'pron', 'verb', 'adp', 'noun', 'adj', 'adv', 'verb', 'cconj', 'adv', 'verb', 'noun', 'adj']\n",
      "['pron', 'adv', 'verb', 'noun', 'adp', 'noun', 'noun', 'adj', 'cconj', 'noun', 'pron', 'verb', 'adp', 'noun', 'adj', 'adv', 'verb', 'adv', 'verb']\n",
      "\n"
     ]
    }
   ],
   "source": [
    "easy_simple_pred = easy_simple.predict_generator(gen_batch(test_sents_clean, test_tags, batch_size), steps=int(len(test_sents_clean)/batch_size))\n",
    "print(easy_simple_pred.shape)\n",
    "easy_simple_seqs, easy_simple_tags = decode_sequences(easy_simple_pred)\n",
    "for i in range(3):\n",
    "    print(test_tags[i])\n",
    "    #print(dec_seqs[i])\n",
    "    print(easy_simple_tags[i])\n",
    "    print()"
   ]
  },
  {
   "cell_type": "code",
   "execution_count": 98,
   "metadata": {
    "scrolled": true
   },
   "outputs": [
    {
     "name": "stdout",
     "output_type": "stream",
     "text": [
      "(1088, 92, 15)\n",
      "['adv', 'verb', 'sconj', 'adv', 'verb', 'verb']\n",
      "['adv', 'verb', 'adv', 'adv', 'verb', 'verb']\n",
      "\n",
      "['pron', 'adv', 'noun', 'verb', 'verb', 'pron', 'cconj', 'adp', 'pron', 'noun', 'verb', 'verb', 'aux', 'pron']\n",
      "['verb', 'adv', 'verb', 'verb', 'pron', 'cconj', 'adp', 'pron']\n",
      "\n",
      "['pron', 'adv', 'verb', 'noun', 'adp', 'noun', 'noun', 'adj', 'cconj', 'noun', 'pron', 'verb', 'adp', 'noun', 'adj', 'adv', 'verb', 'cconj', 'adv', 'verb', 'noun', 'adj']\n",
      "['pron', 'adv', 'verb', 'noun', 'adp', 'noun', 'noun', 'adj', 'cconj', 'noun', 'pron', 'verb', 'adp', 'noun', 'adj', 'adv', 'verb', 'pron', 'verb', 'verb', 'noun', 'noun']\n",
      "\n"
     ]
    }
   ],
   "source": [
    "easy_lstm_pred = easy_lstm.predict_generator(gen_batch(test_sents_clean, test_tags, batch_size), steps=int(len(test_sents_clean)/batch_size))\n",
    "print(easy_lstm_pred.shape)\n",
    "easy_lstm_seqs, easy_lstm_tags = decode_sequences(easy_lstm_pred)\n",
    "for i in range(3):\n",
    "    print(test_tags[i])\n",
    "    #print(dec_seqs[i])\n",
    "    print(easy_lstm_tags[i])\n",
    "    print()"
   ]
  },
  {
   "cell_type": "code",
   "execution_count": 99,
   "metadata": {
    "scrolled": true
   },
   "outputs": [
    {
     "name": "stdout",
     "output_type": "stream",
     "text": [
      "(1088, 92, 15)\n",
      "['adv', 'verb', 'sconj', 'adv', 'verb', 'verb']\n",
      "['adv', 'verb', 'adv', 'adv', 'verb', 'verb']\n",
      "\n",
      "['pron', 'adv', 'noun', 'verb', 'verb', 'pron', 'cconj', 'adp', 'pron', 'noun', 'verb', 'verb', 'aux', 'pron']\n",
      "['adj', 'adv', 'verb', 'verb', 'verb', 'pron', 'cconj', 'adp', 'pron', 'noun', 'adj', 'verb', 'aux', 'pron']\n",
      "\n",
      "['pron', 'adv', 'verb', 'noun', 'adp', 'noun', 'noun', 'adj', 'cconj', 'noun', 'pron', 'verb', 'adp', 'noun', 'adj', 'adv', 'verb', 'cconj', 'adv', 'verb', 'noun', 'adj']\n",
      "['pron', 'adv', 'verb', 'noun', 'adp', 'noun', 'noun', 'adj', 'cconj', 'noun', 'pron', 'verb', 'adp', 'noun', 'adj', 'adv', 'verb', 'adv', 'adv', 'verb', 'noun', 'adj']\n",
      "\n"
     ]
    }
   ],
   "source": [
    "easy_bilstm_pred = easy_bilstm.predict_generator(gen_batch(test_sents_clean, test_tags, batch_size), steps=int(len(test_sents_clean)/batch_size))\n",
    "print(easy_bilstm_pred.shape)\n",
    "easy_bilstm_seqs, easy_bilstm_tags = decode_sequences(easy_bilstm_pred)\n",
    "for i in range(3):\n",
    "    print(test_tags[i])\n",
    "    #print(dec_seqs[i])\n",
    "    print(easy_bilstm_tags[i])\n",
    "    print()"
   ]
  },
  {
   "cell_type": "code",
   "execution_count": 102,
   "metadata": {
    "scrolled": false
   },
   "outputs": [
    {
     "name": "stdout",
     "output_type": "stream",
     "text": [
      "(1088, 92, 15)\n",
      "['adv', 'verb', 'sconj', 'adv', 'verb', 'verb']\n",
      "['adv', 'verb', 'sconj', 'adv', 'verb', 'verb']\n",
      "\n",
      "['pron', 'adv', 'noun', 'verb', 'verb', 'pron', 'cconj', 'adp', 'pron', 'noun', 'verb', 'verb', 'aux', 'pron']\n",
      "['adv', 'adv', 'verb', 'verb', 'pron', 'cconj', 'adp', 'pron', 'noun', 'noun', 'noun', 'aux', 'pron']\n",
      "\n",
      "['pron', 'adv', 'verb', 'noun', 'adp', 'noun', 'noun', 'adj', 'cconj', 'noun', 'pron', 'verb', 'adp', 'noun', 'adj', 'adv', 'verb', 'cconj', 'adv', 'verb', 'noun', 'adj']\n",
      "['pron', 'adv', 'verb', 'noun', 'adp', 'noun', 'noun', 'adj', 'cconj', 'noun', 'pron', 'verb', 'adp', 'noun', 'adj', 'adv', 'verb', 'adv', 'adv', 'verb', 'noun', 'adj']\n",
      "\n"
     ]
    }
   ],
   "source": [
    "easy_gru_pred = easy_gru.predict_generator(gen_batch(test_sents_clean, test_tags, batch_size), steps=int(len(test_sents_clean)/batch_size))\n",
    "print(easy_gru_pred.shape)\n",
    "easy_gru_seqs, easy_gru_tags = decode_sequences(easy_gru_pred)\n",
    "for i in range(3):\n",
    "    print(test_tags[i])\n",
    "    #print(dec_seqs[i])\n",
    "    print(easy_gru_tags[i])\n",
    "    print()"
   ]
  },
  {
   "cell_type": "markdown",
   "metadata": {},
   "source": [
    "Не все предсказания верны, но в целом выглядит неплохо."
   ]
  },
  {
   "cell_type": "code",
   "execution_count": 191,
   "metadata": {
    "scrolled": true
   },
   "outputs": [],
   "source": [
    "def bleu_eval(target, predicted):\n",
    "    bleu_1, bleu_2, bleu_3, bleu_4 = 0, 0, 0, 0 \n",
    "    sm = SmoothingFunction()\n",
    "    for t, p in zip(target, predicted):\n",
    "        bleu_1 += sentence_bleu([t], p, weights=(1.0, 0, 0, 0), smoothing_function=sm.method1) # поюсуем эпсилон\n",
    "        bleu_2 += sentence_bleu([t], p, weights=(0.5, 0.5, 0, 0), smoothing_function=sm.method1)\n",
    "        bleu_3 += sentence_bleu([t], p, weights=(0.3, 0.3, 0.3, 0), smoothing_function=sm.method1)\n",
    "        bleu_4 += sentence_bleu([t], p, weights=(0.25, 0.25, 0.25, 0.25), smoothing_function=sm.method1)\n",
    "    bleu_1 = bleu_1/len(target)\n",
    "    bleu_2 = bleu_2/len(target)\n",
    "    bleu_3 = bleu_3/len(target)\n",
    "    bleu_4 = bleu_4/len(target)\n",
    "    return bleu_1, bleu_2, bleu_3, bleu_4"
   ]
  },
  {
   "cell_type": "code",
   "execution_count": 192,
   "metadata": {},
   "outputs": [],
   "source": [
    "simple_bleu_1, simple_bleu_2, simple_bleu_3, simple_bleu_4 = bleu_eval(test_tags[:1088], easy_simple_tags)"
   ]
  },
  {
   "cell_type": "code",
   "execution_count": 193,
   "metadata": {},
   "outputs": [],
   "source": [
    "lstm_bleu_1, lstm_bleu_2, lstm_bleu_3, lstm_bleu_4 = bleu_eval(test_tags[:1088], easy_lstm_tags)"
   ]
  },
  {
   "cell_type": "code",
   "execution_count": 194,
   "metadata": {},
   "outputs": [],
   "source": [
    "bilstm_bleu_1, bilstm_bleu_2, bilstm_bleu_3, bilstm_bleu_4 = bleu_eval(test_tags[:1088], easy_bilstm_tags)"
   ]
  },
  {
   "cell_type": "code",
   "execution_count": 195,
   "metadata": {},
   "outputs": [],
   "source": [
    "gru_bleu_1, gru_bleu_2, gru_bleu_3, gru_bleu_4 = bleu_eval(test_tags[:1088], easy_gru_tags)"
   ]
  },
  {
   "cell_type": "code",
   "execution_count": 198,
   "metadata": {},
   "outputs": [
    {
     "name": "stdout",
     "output_type": "stream",
     "text": [
      "\n",
      "\t\tBLEU-1\tBLEU-2\tBLEU-3\tBLEU-4\n",
      "SimpleRNN:\t0.862\t0.791\t0.729\t0.625\n",
      "LSTM\t\t0.721\t0.58\t0.58\t0.333\n",
      "BiLSTM:\t\t0.87\t0.798\t0.798\t0.635\n",
      "GRU:\t\t0.884\t0.821\t0.766\t0.669\n",
      "\n"
     ]
    }
   ],
   "source": [
    "print('''\n",
    "\\t\\tBLEU-1\\tBLEU-2\\tBLEU-3\\tBLEU-4\n",
    "SimpleRNN:\\t{}\\t{}\\t{}\\t{}\n",
    "LSTM\\t\\t{}\\t{}\\t{}\\t{}\n",
    "BiLSTM:\\t\\t{}\\t{}\\t{}\\t{}\n",
    "GRU:\\t\\t{}\\t{}\\t{}\\t{}\n",
    "'''.format(round(simple_bleu_1, 3), round(simple_bleu_2, 3), round(simple_bleu_3, 3), round(simple_bleu_4, 3),\n",
    "           round(lstm_bleu_1, 3), round(lstm_bleu_2, 3), round(lstm_bleu_2, 3), round(lstm_bleu_4, 3),\n",
    "           round(bilstm_bleu_1, 3), round(bilstm_bleu_2, 3), round(bilstm_bleu_2, 3), round(bilstm_bleu_4, 3),\n",
    "           round(gru_bleu_1, 3), round(gru_bleu_2, 3), round(gru_bleu_3, 3), round(gru_bleu_4, 3)))"
   ]
  },
  {
   "cell_type": "markdown",
   "metadata": {},
   "source": [
    "GRU и BiLSTM показали хорошие результаты. Если высокий результат двунаправленной LSTM объясним тем, что для предсказания тега может быть важно не только предыдущее слово, но и последующее, то то, что Simple сработала лучше LSTM, странновато. Попробуем заставить LSTM показать сопоставимый результат"
   ]
  },
  {
   "cell_type": "markdown",
   "metadata": {},
   "source": [
    "# Эксперименты с размерностью"
   ]
  },
  {
   "cell_type": "markdown",
   "metadata": {},
   "source": [
    "Для начала попробуем поменять количество нейронов на скрытом слое, оставляя другие гиперпараметры неизменными"
   ]
  },
  {
   "cell_type": "markdown",
   "metadata": {},
   "source": [
    "### 64"
   ]
  },
  {
   "cell_type": "code",
   "execution_count": 203,
   "metadata": {
    "scrolled": true
   },
   "outputs": [
    {
     "name": "stdout",
     "output_type": "stream",
     "text": [
      "_________________________________________________________________\n",
      "Layer (type)                 Output Shape              Param #   \n",
      "=================================================================\n",
      "embedding_10 (Embedding)     (None, 92, 100)           759500    \n",
      "_________________________________________________________________\n",
      "lstm_6 (LSTM)                (None, 92, 64)            42240     \n",
      "_________________________________________________________________\n",
      "dense_9 (Dense)              (None, 92, 15)            975       \n",
      "=================================================================\n",
      "Total params: 802,715\n",
      "Trainable params: 802,715\n",
      "Non-trainable params: 0\n",
      "_________________________________________________________________\n"
     ]
    }
   ],
   "source": [
    "lstm_64 = Sequential()\n",
    "lstm_64.add(Embedding(n_words, embed_size, input_length=max_len))\n",
    "lstm_64.add(LSTM(64, return_sequences=True, unroll=True))\n",
    "lstm_64.add(Dense(n_tags, activation=\"softmax\"))\n",
    "\n",
    "lstm_64.compile(loss=\"categorical_crossentropy\", optimizer=\"adam\", metrics=['acc'])\n",
    "lstm_64.summary()"
   ]
  },
  {
   "cell_type": "code",
   "execution_count": 204,
   "metadata": {
    "scrolled": true
   },
   "outputs": [
    {
     "name": "stdout",
     "output_type": "stream",
     "text": [
      "Epoch 1/10\n",
      "51/51 [==============================] - 83s 2s/step - loss: 0.9814 - acc: 0.8670 - val_loss: 0.3476 - val_acc: 0.8979\n",
      "\n",
      "Epoch 00001: saving model to cu\\easy-lstm\\cu-64_model-1.h5\n",
      "Epoch 2/10\n",
      "51/51 [==============================] - 19s 382ms/step - loss: 0.3024 - acc: 0.9061 - val_loss: 0.3288 - val_acc: 0.8994\n",
      "\n",
      "Epoch 00002: saving model to cu\\easy-lstm\\cu-64_model-2.h5\n",
      "Epoch 3/10\n",
      "51/51 [==============================] - 20s 390ms/step - loss: 0.2835 - acc: 0.9076 - val_loss: 0.3187 - val_acc: 0.9005\n",
      "\n",
      "Epoch 00003: saving model to cu\\easy-lstm\\cu-64_model-3.h5\n",
      "Epoch 4/10\n",
      "51/51 [==============================] - 20s 394ms/step - loss: 0.2693 - acc: 0.9082 - val_loss: 0.2982 - val_acc: 0.9038\n",
      "\n",
      "Epoch 00004: saving model to cu\\easy-lstm\\cu-64_model-4.h5\n",
      "Epoch 5/10\n",
      "51/51 [==============================] - 20s 382ms/step - loss: 0.2566 - acc: 0.9114 - val_loss: 0.2748 - val_acc: 0.9114\n",
      "\n",
      "Epoch 00005: saving model to cu\\easy-lstm\\cu-64_model-5.h5\n",
      "Epoch 6/10\n",
      "51/51 [==============================] - 20s 389ms/step - loss: 0.2406 - acc: 0.9193 - val_loss: 0.2575 - val_acc: 0.9182\n",
      "\n",
      "Epoch 00006: saving model to cu\\easy-lstm\\cu-64_model-6.h5\n",
      "Epoch 7/10\n",
      "51/51 [==============================] - 20s 392ms/step - loss: 0.2246 - acc: 0.9249 - val_loss: 0.2478 - val_acc: 0.9235\n",
      "\n",
      "Epoch 00007: saving model to cu\\easy-lstm\\cu-64_model-7.h5\n",
      "Epoch 8/10\n",
      "51/51 [==============================] - 20s 383ms/step - loss: 0.2074 - acc: 0.9312 - val_loss: 0.2336 - val_acc: 0.9306\n",
      "\n",
      "Epoch 00008: saving model to cu\\easy-lstm\\cu-64_model-8.h5\n",
      "Epoch 9/10\n",
      "51/51 [==============================] - 20s 402ms/step - loss: 0.1852 - acc: 0.9423 - val_loss: 0.2093 - val_acc: 0.9425\n",
      "\n",
      "Epoch 00009: saving model to cu\\easy-lstm\\cu-64_model-9.h5\n",
      "Epoch 10/10\n",
      "51/51 [==============================] - 20s 383ms/step - loss: 0.1562 - acc: 0.9554 - val_loss: 0.1785 - val_acc: 0.9529\n",
      "\n",
      "Epoch 00010: saving model to cu\\easy-lstm\\cu-64_model-10.h5\n"
     ]
    }
   ],
   "source": [
    "checkpoint = ModelCheckpoint('cu\\\\easy-lstm\\\\cu-64_model-{epoch}.h5', verbose=1, save_best_only=False, save_weights_only=True)\n",
    "lstm_64_history = lstm_64.fit_generator(\n",
    "    generator=gen_batch(train_sents, train_tags, batch_size), \n",
    "    steps_per_epoch=steps,\n",
    "    validation_data=gen_batch(val_sents, val_tags, batch_size),\n",
    "    validation_steps=val_steps,\n",
    "    epochs=epochs, verbose=1, callbacks=[checkpoint])\n",
    "dump(lstm_64_history.history, open('cu\\\\easy-lstm\\\\cu-64_model-history.json','w', encoding='utf-8'))"
   ]
  },
  {
   "cell_type": "markdown",
   "metadata": {},
   "source": [
    "### 256"
   ]
  },
  {
   "cell_type": "code",
   "execution_count": 205,
   "metadata": {
    "scrolled": true
   },
   "outputs": [
    {
     "name": "stdout",
     "output_type": "stream",
     "text": [
      "_________________________________________________________________\n",
      "Layer (type)                 Output Shape              Param #   \n",
      "=================================================================\n",
      "embedding_11 (Embedding)     (None, 92, 100)           759500    \n",
      "_________________________________________________________________\n",
      "lstm_7 (LSTM)                (None, 92, 256)           365568    \n",
      "_________________________________________________________________\n",
      "dense_10 (Dense)             (None, 92, 15)            3855      \n",
      "=================================================================\n",
      "Total params: 1,128,923\n",
      "Trainable params: 1,128,923\n",
      "Non-trainable params: 0\n",
      "_________________________________________________________________\n"
     ]
    }
   ],
   "source": [
    "lstm_256 = Sequential()\n",
    "lstm_256.add(Embedding(n_words, embed_size, input_length=max_len))\n",
    "lstm_256.add(LSTM(256, return_sequences=True, unroll=True))\n",
    "lstm_256.add(Dense(n_tags, activation=\"softmax\"))\n",
    "\n",
    "lstm_256.compile(loss=\"categorical_crossentropy\", optimizer=\"adam\", metrics=['acc'])\n",
    "lstm_256.summary()"
   ]
  },
  {
   "cell_type": "code",
   "execution_count": 206,
   "metadata": {
    "scrolled": true
   },
   "outputs": [
    {
     "name": "stdout",
     "output_type": "stream",
     "text": [
      "Epoch 1/10\n",
      "51/51 [==============================] - 311s 6s/step - loss: 0.6454 - acc: 0.8829 - val_loss: 0.3505 - val_acc: 0.8981\n",
      "\n",
      "Epoch 00001: saving model to cu\\easy-lstm\\cu-256_model-1.h5\n",
      "Epoch 2/10\n",
      "51/51 [==============================] - 270s 5s/step - loss: 0.2993 - acc: 0.9033 - val_loss: 0.2968 - val_acc: 0.8989\n",
      "\n",
      "Epoch 00002: saving model to cu\\easy-lstm\\cu-256_model-2.h5\n",
      "Epoch 3/10\n",
      "51/51 [==============================] - 318s 6s/step - loss: 0.2725 - acc: 0.9048 - val_loss: 0.2751 - val_acc: 0.9013\n",
      "\n",
      "Epoch 00003: saving model to cu\\easy-lstm\\cu-256_model-3.h5\n",
      "Epoch 4/10\n",
      "51/51 [==============================] - 428s 8s/step - loss: 0.2544 - acc: 0.9092 - val_loss: 0.2632 - val_acc: 0.9097\n",
      "\n",
      "Epoch 00004: saving model to cu\\easy-lstm\\cu-256_model-4.h5\n",
      "Epoch 5/10\n",
      "51/51 [==============================] - 440s 9s/step - loss: 0.2425 - acc: 0.9157 - val_loss: 0.2527 - val_acc: 0.9168\n",
      "\n",
      "Epoch 00005: saving model to cu\\easy-lstm\\cu-256_model-5.h5\n",
      "Epoch 6/10\n",
      "51/51 [==============================] - 438s 9s/step - loss: 0.2324 - acc: 0.9210 - val_loss: 0.2434 - val_acc: 0.9203\n",
      "\n",
      "Epoch 00006: saving model to cu\\easy-lstm\\cu-256_model-6.h5\n",
      "Epoch 7/10\n",
      "51/51 [==============================] - 441s 9s/step - loss: 0.2225 - acc: 0.9248 - val_loss: 0.2308 - val_acc: 0.9242\n",
      "\n",
      "Epoch 00007: saving model to cu\\easy-lstm\\cu-256_model-7.h5\n",
      "Epoch 8/10\n",
      "51/51 [==============================] - 443s 9s/step - loss: 0.2080 - acc: 0.9336 - val_loss: 0.2123 - val_acc: 0.9339\n",
      "\n",
      "Epoch 00008: saving model to cu\\easy-lstm\\cu-256_model-8.h5\n",
      "Epoch 9/10\n",
      "51/51 [==============================] - 441s 9s/step - loss: 0.1821 - acc: 0.9423 - val_loss: 0.1808 - val_acc: 0.9451\n",
      "\n",
      "Epoch 00009: saving model to cu\\easy-lstm\\cu-256_model-9.h5\n",
      "Epoch 10/10\n",
      "51/51 [==============================] - 441s 9s/step - loss: 0.1449 - acc: 0.9589 - val_loss: 0.1383 - val_acc: 0.9625\n",
      "\n",
      "Epoch 00010: saving model to cu\\easy-lstm\\cu-256_model-10.h5\n"
     ]
    }
   ],
   "source": [
    "checkpoint = ModelCheckpoint('cu\\\\easy-lstm\\\\cu-256_model-{epoch}.h5', verbose=1, save_best_only=False, save_weights_only=True)\n",
    "lstm_256_history = lstm_256.fit_generator(\n",
    "    generator=gen_batch(train_sents, train_tags, batch_size), \n",
    "    steps_per_epoch=steps,\n",
    "    validation_data=gen_batch(val_sents, val_tags, batch_size),\n",
    "    validation_steps=val_steps,\n",
    "    epochs=epochs, verbose=1, callbacks=[checkpoint])\n",
    "dump(lstm_256_history.history, open('cu\\\\easy-lstm\\\\cu-256_model-history.json','w', encoding='utf-8'))"
   ]
  },
  {
   "cell_type": "code",
   "execution_count": 208,
   "metadata": {
    "scrolled": false
   },
   "outputs": [
    {
     "data": {
      "image/png": "[encoded data removed]",
      "text/plain": [
       "<Figure size 432x288 with 1 Axes>"
      ]
     },
     "metadata": {
      "needs_background": "light"
     },
     "output_type": "display_data"
    },
    {
     "data": {
      "image/png": "[encoded data removed]",
      "text/plain": [
       "<Figure size 432x288 with 1 Axes>"
      ]
     },
     "metadata": {
      "needs_background": "light"
     },
     "output_type": "display_data"
    }
   ],
   "source": [
    "vis_loss(lstm_64.history)\n",
    "vis_acc(lstm_64.history)"
   ]
  },
  {
   "cell_type": "code",
   "execution_count": 209,
   "metadata": {
    "scrolled": false
   },
   "outputs": [
    {
     "data": {
      "image/png": "[encoded data removed]",
      "text/plain": [
       "<Figure size 432x288 with 1 Axes>"
      ]
     },
     "metadata": {
      "needs_background": "light"
     },
     "output_type": "display_data"
    },
    {
     "data": {
      "image/png": "[encoded data removed]",
      "text/plain": [
       "<Figure size 432x288 with 1 Axes>"
      ]
     },
     "metadata": {
      "needs_background": "light"
     },
     "output_type": "display_data"
    }
   ],
   "source": [
    "vis_loss(lstm_256.history)\n",
    "vis_acc(lstm_256.history)"
   ]
  },
  {
   "cell_type": "markdown",
   "metadata": {},
   "source": [
    "Переобучения не произошло"
   ]
  },
  {
   "cell_type": "code",
   "execution_count": 210,
   "metadata": {},
   "outputs": [],
   "source": [
    "evals_64 = lstm_64.evaluate_generator(gen_batch(test_sents, test_tags, batch_size), steps=test_steps, max_queue_size=max_len)"
   ]
  },
  {
   "cell_type": "code",
   "execution_count": 212,
   "metadata": {},
   "outputs": [],
   "source": [
    "evals_256 = lstm_256.evaluate_generator(gen_batch(test_sents, test_tags, batch_size), steps=test_steps, max_queue_size=max_len)"
   ]
  },
  {
   "cell_type": "code",
   "execution_count": 213,
   "metadata": {},
   "outputs": [
    {
     "name": "stdout",
     "output_type": "stream",
     "text": [
      "\n",
      "\tLoss\tAcc\n",
      "64:\t0.15499\t0.9576\n",
      "128:\t0.13294\t0.96778\n",
      "256:\t0.13268\t0.96457\n"
     ]
    }
   ],
   "source": [
    "print('''\n",
    "\\tLoss\\tAcc\n",
    "64:\\t{}\\t{}\n",
    "128:\\t{}\\t{}\n",
    "256:\\t{}\\t{}'''.format(\n",
    "    round(evals_64[0], 5), round(evals_64[1], 5),\n",
    "    round(easy_lstm_evals[0], 5), round(easy_lstm_evals[1], 5),\n",
    "    round(evals_256[0], 5), round(evals_256[1], 5)))"
   ]
  },
  {
   "cell_type": "code",
   "execution_count": 215,
   "metadata": {
    "scrolled": false
   },
   "outputs": [
    {
     "name": "stdout",
     "output_type": "stream",
     "text": [
      "['adv', 'verb', 'sconj', 'adv', 'verb', 'verb']\n",
      "['adv', 'verb', 'adv', 'adv', 'verb', 'verb']\n",
      "\n",
      "['pron', 'adv', 'noun', 'verb', 'verb', 'pron', 'cconj', 'adp', 'pron', 'noun', 'verb', 'verb', 'aux', 'pron']\n",
      "['adv', 'adv', 'verb', 'verb', 'cconj', 'cconj', 'noun', 'noun']\n",
      "\n",
      "['pron', 'adv', 'verb', 'noun', 'adp', 'noun', 'noun', 'adj', 'cconj', 'noun', 'pron', 'verb', 'adp', 'noun', 'adj', 'adv', 'verb', 'cconj', 'adv', 'verb', 'noun', 'adj']\n",
      "['verb', 'adv', 'verb', 'verb', 'adp', 'noun', 'noun', 'noun', 'cconj', 'noun', 'verb', 'verb', 'adp', 'noun', 'noun', 'verb', 'verb', 'verb', 'verb', 'verb', 'noun', 'noun']\n",
      "\n"
     ]
    }
   ],
   "source": [
    "pred_64 = lstm_64.predict_generator(gen_batch(test_sents_clean, test_tags, batch_size), steps=int(len(test_sents_clean)/batch_size))\n",
    "seqs_64, tags_64 = decode_sequences(pred_64)\n",
    "for i in range(3):\n",
    "    print(test_tags[i])\n",
    "    #print(dec_seqs[i])\n",
    "    print(tags_64[i])\n",
    "    print()"
   ]
  },
  {
   "cell_type": "markdown",
   "metadata": {},
   "source": [
    "Результаты как-то не очент радуют. Интересно, что модели умудляются предсказывать последовательности короче, т.е. предсказывают лишние паддинги -- кажется, их просто слишком много было."
   ]
  },
  {
   "cell_type": "code",
   "execution_count": 98,
   "metadata": {
    "scrolled": true
   },
   "outputs": [
    {
     "name": "stdout",
     "output_type": "stream",
     "text": [
      "(1088, 92, 15)\n",
      "['adv', 'verb', 'sconj', 'adv', 'verb', 'verb']\n",
      "['adv', 'verb', 'adv', 'adv', 'verb', 'verb']\n",
      "\n",
      "['pron', 'adv', 'noun', 'verb', 'verb', 'pron', 'cconj', 'adp', 'pron', 'noun', 'verb', 'verb', 'aux', 'pron']\n",
      "['verb', 'adv', 'verb', 'verb', 'pron', 'cconj', 'adp', 'pron']\n",
      "\n",
      "['pron', 'adv', 'verb', 'noun', 'adp', 'noun', 'noun', 'adj', 'cconj', 'noun', 'pron', 'verb', 'adp', 'noun', 'adj', 'adv', 'verb', 'cconj', 'adv', 'verb', 'noun', 'adj']\n",
      "['pron', 'adv', 'verb', 'noun', 'adp', 'noun', 'noun', 'adj', 'cconj', 'noun', 'pron', 'verb', 'adp', 'noun', 'adj', 'adv', 'verb', 'pron', 'verb', 'verb', 'noun', 'noun']\n",
      "\n"
     ]
    }
   ],
   "source": [
    "# это старая модель, с которой сравниваем\n",
    "easy_lstm_pred = easy_lstm.predict_generator(gen_batch(test_sents_clean, test_tags, batch_size), steps=int(len(test_sents_clean)/batch_size))\n",
    "print(easy_lstm_pred.shape)\n",
    "easy_lstm_seqs, easy_lstm_tags = decode_sequences(easy_lstm_pred)\n",
    "for i in range(3):\n",
    "    print(test_tags[i])\n",
    "    #print(dec_seqs[i])\n",
    "    print(easy_lstm_tags[i])\n",
    "    print()"
   ]
  },
  {
   "cell_type": "code",
   "execution_count": 216,
   "metadata": {
    "scrolled": false
   },
   "outputs": [
    {
     "name": "stdout",
     "output_type": "stream",
     "text": [
      "['adv', 'verb', 'sconj', 'adv', 'verb', 'verb']\n",
      "['adv', 'verb', 'verb', 'verb', 'verb', 'verb']\n",
      "\n",
      "['pron', 'adv', 'noun', 'verb', 'verb', 'pron', 'cconj', 'adp', 'pron', 'noun', 'verb', 'verb', 'aux', 'pron']\n",
      "['verb', 'adv', 'verb', 'verb', 'verb', 'pron', 'cconj', 'adp', 'noun', 'verb', 'verb', 'noun', 'noun', 'pron']\n",
      "\n",
      "['pron', 'adv', 'verb', 'noun', 'adp', 'noun', 'noun', 'adj', 'cconj', 'noun', 'pron', 'verb', 'adp', 'noun', 'adj', 'adv', 'verb', 'cconj', 'adv', 'verb', 'noun', 'adj']\n",
      "['verb', 'adv', 'verb', 'noun', 'adp', 'noun', 'noun', 'adj', 'cconj', 'noun', 'pron', 'verb', 'adp', 'noun', 'adj', 'verb', 'verb', 'verb', 'verb', 'verb', 'noun', 'noun']\n",
      "\n"
     ]
    }
   ],
   "source": [
    "pred_256 = lstm_256.predict_generator(gen_batch(test_sents_clean, test_tags, batch_size), steps=int(len(test_sents_clean)/batch_size))\n",
    "seqs_256, tags_256 = decode_sequences(pred_256)\n",
    "for i in range(3):\n",
    "    print(test_tags[i])\n",
    "    #print(dec_seqs[i])\n",
    "    print(tags_256[i])\n",
    "    print()"
   ]
  },
  {
   "cell_type": "code",
   "execution_count": 219,
   "metadata": {},
   "outputs": [],
   "source": [
    "bleu_64_1, bleu_64_2, bleu_64_3, bleu_64_4 = bleu_eval(test_tags[:1088], tags_64)"
   ]
  },
  {
   "cell_type": "code",
   "execution_count": 217,
   "metadata": {},
   "outputs": [],
   "source": [
    "bleu_256_1, bleu_256_2, bleu_256_3, bleu_256_4 = bleu_eval(test_tags[:1088], tags_256)"
   ]
  },
  {
   "cell_type": "code",
   "execution_count": 247,
   "metadata": {},
   "outputs": [
    {
     "name": "stdout",
     "output_type": "stream",
     "text": [
      "\n",
      "\tBLEU-1\tBLEU-2\tBLEU-3\tBLEU-4\n",
      "64:\t0.64\t0.465\t0.349\t0.223\n",
      "128\t0.721\t0.58\t0.58\t0.333\n",
      "256:\t0.689\t0.532\t0.532\t0.289\n",
      "\n"
     ]
    }
   ],
   "source": [
    "print('''\n",
    "\\tBLEU-1\\tBLEU-2\\tBLEU-3\\tBLEU-4\n",
    "64:\\t{}\\t{}\\t{}\\t{}\n",
    "128\\t{}\\t{}\\t{}\\t{}\n",
    "256:\\t{}\\t{}\\t{}\\t{}\n",
    "'''.format(round(bleu_64_1, 3), round(bleu_64_2, 3), round(bleu_64_3, 3), round(bleu_64_4, 3),\n",
    "           round(lstm_bleu_1, 3), round(lstm_bleu_2, 3), round(lstm_bleu_2, 3), round(lstm_bleu_4, 3),\n",
    "           round(bleu_256_1, 3), round(bleu_256_2, 3), round(bleu_256_2, 3), round(bleu_256_4, 3)))"
   ]
  },
  {
   "cell_type": "markdown",
   "metadata": {},
   "source": [
    "Мда. Кажется, размерность нам не поможет: 64 нейрона оказалось слишком мало, а 256 -- слишком сложно."
   ]
  },
  {
   "cell_type": "markdown",
   "metadata": {},
   "source": [
    "# Эксперименты с эмбеддингами"
   ]
  },
  {
   "cell_type": "markdown",
   "metadata": {},
   "source": [
    "Теперь посмотрим, как  повлияет на точность изменение размерности эмбеддинга."
   ]
  },
  {
   "cell_type": "markdown",
   "metadata": {},
   "source": [
    "### 50"
   ]
  },
  {
   "cell_type": "code",
   "execution_count": 221,
   "metadata": {
    "scrolled": true
   },
   "outputs": [
    {
     "name": "stdout",
     "output_type": "stream",
     "text": [
      "_________________________________________________________________\n",
      "Layer (type)                 Output Shape              Param #   \n",
      "=================================================================\n",
      "embedding_12 (Embedding)     (None, 92, 50)            379750    \n",
      "_________________________________________________________________\n",
      "lstm_8 (LSTM)                (None, 92, 128)           91648     \n",
      "_________________________________________________________________\n",
      "dense_11 (Dense)             (None, 92, 15)            1935      \n",
      "=================================================================\n",
      "Total params: 473,333\n",
      "Trainable params: 473,333\n",
      "Non-trainable params: 0\n",
      "_________________________________________________________________\n"
     ]
    }
   ],
   "source": [
    "lstm_50 = Sequential()\n",
    "lstm_50.add(Embedding(n_words, 50, input_length=max_len))\n",
    "lstm_50.add(LSTM(n_hidden, return_sequences=True, unroll=True))\n",
    "lstm_50.add(Dense(n_tags, activation=\"softmax\"))\n",
    "\n",
    "lstm_50.compile(loss=\"categorical_crossentropy\", optimizer=\"adam\", metrics=['acc'])\n",
    "lstm_50.summary()"
   ]
  },
  {
   "cell_type": "code",
   "execution_count": 222,
   "metadata": {
    "scrolled": true
   },
   "outputs": [
    {
     "name": "stdout",
     "output_type": "stream",
     "text": [
      "Epoch 1/10\n",
      "51/51 [==============================] - 267s 5s/step - loss: 0.7933 - acc: 0.8848 - val_loss: 0.3670 - val_acc: 0.8977\n",
      "\n",
      "Epoch 00001: saving model to cu\\easy-lstm\\cu-50_model-1.h5\n",
      "Epoch 2/10\n",
      "51/51 [==============================] - 175s 3s/step - loss: 0.3228 - acc: 0.9033 - val_loss: 0.3389 - val_acc: 0.8992\n",
      "\n",
      "Epoch 00002: saving model to cu\\easy-lstm\\cu-50_model-2.h5\n",
      "Epoch 3/10\n",
      "51/51 [==============================] - 172s 3s/step - loss: 0.2887 - acc: 0.9044 - val_loss: 0.3036 - val_acc: 0.8998\n",
      "\n",
      "Epoch 00003: saving model to cu\\easy-lstm\\cu-50_model-3.h5\n",
      "Epoch 4/10\n",
      "51/51 [==============================] - 174s 3s/step - loss: 0.2691 - acc: 0.9053 - val_loss: 0.2920 - val_acc: 0.9022\n",
      "\n",
      "Epoch 00004: saving model to cu\\easy-lstm\\cu-50_model-4.h5\n",
      "Epoch 5/10\n",
      "51/51 [==============================] - 169s 3s/step - loss: 0.2562 - acc: 0.9102 - val_loss: 0.2959 - val_acc: 0.9078\n",
      "\n",
      "Epoch 00005: saving model to cu\\easy-lstm\\cu-50_model-5.h5\n",
      "Epoch 6/10\n",
      "51/51 [==============================] - 171s 3s/step - loss: 0.2458 - acc: 0.9161 - val_loss: 0.2897 - val_acc: 0.9135\n",
      "\n",
      "Epoch 00006: saving model to cu\\easy-lstm\\cu-50_model-6.h5\n",
      "Epoch 7/10\n",
      "51/51 [==============================] - 162s 3s/step - loss: 0.2383 - acc: 0.9201 - val_loss: 0.2582 - val_acc: 0.9181\n",
      "\n",
      "Epoch 00007: saving model to cu\\easy-lstm\\cu-50_model-7.h5\n",
      "Epoch 8/10\n",
      "51/51 [==============================] - 168s 3s/step - loss: 0.2314 - acc: 0.9223 - val_loss: 0.2471 - val_acc: 0.9186\n",
      "\n",
      "Epoch 00008: saving model to cu\\easy-lstm\\cu-50_model-8.h5\n",
      "Epoch 9/10\n",
      "51/51 [==============================] - 168s 3s/step - loss: 0.2230 - acc: 0.9249 - val_loss: 0.2365 - val_acc: 0.9210\n",
      "\n",
      "Epoch 00009: saving model to cu\\easy-lstm\\cu-50_model-9.h5\n",
      "Epoch 10/10\n",
      "51/51 [==============================] - 171s 3s/step - loss: 0.2139 - acc: 0.9274 - val_loss: 0.2234 - val_acc: 0.9251\n",
      "\n",
      "Epoch 00010: saving model to cu\\easy-lstm\\cu-50_model-10.h5\n"
     ]
    }
   ],
   "source": [
    "checkpoint = ModelCheckpoint('cu\\\\easy-lstm\\\\cu-50_model-{epoch}.h5', verbose=1, save_best_only=False, save_weights_only=True)\n",
    "lstm_50_history = lstm_50.fit_generator(\n",
    "    generator=gen_batch(train_sents, train_tags, batch_size), \n",
    "    steps_per_epoch=steps,\n",
    "    validation_data=gen_batch(val_sents, val_tags, batch_size),\n",
    "    validation_steps=val_steps,\n",
    "    epochs=epochs, verbose=1, callbacks=[checkpoint])\n",
    "dump(lstm_50_history.history, open('cu\\\\easy-lstm\\\\cu-50_model-history.json','w', encoding='utf-8'))"
   ]
  },
  {
   "cell_type": "markdown",
   "metadata": {},
   "source": [
    "### 150"
   ]
  },
  {
   "cell_type": "code",
   "execution_count": 229,
   "metadata": {
    "scrolled": true
   },
   "outputs": [
    {
     "name": "stdout",
     "output_type": "stream",
     "text": [
      "_________________________________________________________________\n",
      "Layer (type)                 Output Shape              Param #   \n",
      "=================================================================\n",
      "embedding_14 (Embedding)     (None, 92, 100)           759500    \n",
      "_________________________________________________________________\n",
      "lstm_10 (LSTM)               (None, 92, 256)           365568    \n",
      "_________________________________________________________________\n",
      "dense_13 (Dense)             (None, 92, 15)            3855      \n",
      "=================================================================\n",
      "Total params: 1,128,923\n",
      "Trainable params: 1,128,923\n",
      "Non-trainable params: 0\n",
      "_________________________________________________________________\n"
     ]
    }
   ],
   "source": [
    "lstm_150 = Sequential()\n",
    "lstm_150.add(Embedding(n_words, embed_size, input_length=max_len))\n",
    "lstm_150.add(LSTM(256, return_sequences=True, unroll=True))\n",
    "lstm_150.add(Dense(n_tags, activation=\"softmax\"))\n",
    "\n",
    "lstm_150.compile(loss=\"categorical_crossentropy\", optimizer=\"adam\", metrics=['acc'])\n",
    "lstm_150.summary()"
   ]
  },
  {
   "cell_type": "code",
   "execution_count": 230,
   "metadata": {
    "scrolled": true
   },
   "outputs": [
    {
     "name": "stdout",
     "output_type": "stream",
     "text": [
      "Epoch 1/10\n",
      "51/51 [==============================] - 825s 16s/step - loss: 0.6201 - acc: 0.8843 - val_loss: 0.3454 - val_acc: 0.8985\n",
      "\n",
      "Epoch 00001: saving model to cu\\easy-lstm\\cu-150_model-1.h5\n",
      "Epoch 2/10\n",
      "51/51 [==============================] - 620s 12s/step - loss: 0.2948 - acc: 0.9040 - val_loss: 0.3065 - val_acc: 0.8987\n",
      "\n",
      "Epoch 00002: saving model to cu\\easy-lstm\\cu-150_model-2.h5\n",
      "Epoch 3/10\n",
      "51/51 [==============================] - 637s 12s/step - loss: 0.2665 - acc: 0.9048 - val_loss: 0.2755 - val_acc: 0.9014\n",
      "\n",
      "Epoch 00003: saving model to cu\\easy-lstm\\cu-150_model-3.h5\n",
      "Epoch 4/10\n",
      "51/51 [==============================] - 645s 13s/step - loss: 0.2507 - acc: 0.9104 - val_loss: 0.2783 - val_acc: 0.9100\n",
      "\n",
      "Epoch 00004: saving model to cu\\easy-lstm\\cu-150_model-4.h5\n",
      "Epoch 5/10\n",
      "51/51 [==============================] - 652s 13s/step - loss: 0.2384 - acc: 0.9173 - val_loss: 0.2699 - val_acc: 0.9164\n",
      "\n",
      "Epoch 00005: saving model to cu\\easy-lstm\\cu-150_model-5.h5\n",
      "Epoch 6/10\n",
      "51/51 [==============================] - 674s 13s/step - loss: 0.2260 - acc: 0.9226 - val_loss: 0.2466 - val_acc: 0.9218\n",
      "\n",
      "Epoch 00006: saving model to cu\\easy-lstm\\cu-150_model-6.h5\n",
      "Epoch 7/10\n",
      "51/51 [==============================] - 585s 11s/step - loss: 0.2106 - acc: 0.9291 - val_loss: 0.2203 - val_acc: 0.9313\n",
      "\n",
      "Epoch 00007: saving model to cu\\easy-lstm\\cu-150_model-7.h5\n",
      "Epoch 8/10\n",
      "51/51 [==============================] - 613s 12s/step - loss: 0.1830 - acc: 0.9447 - val_loss: 0.1832 - val_acc: 0.9487\n",
      "\n",
      "Epoch 00008: saving model to cu\\easy-lstm\\cu-150_model-8.h5\n",
      "Epoch 9/10\n",
      "51/51 [==============================] - 632s 12s/step - loss: 0.1372 - acc: 0.9638 - val_loss: 0.1288 - val_acc: 0.9646\n",
      "\n",
      "Epoch 00009: saving model to cu\\easy-lstm\\cu-150_model-9.h5\n",
      "Epoch 10/10\n",
      "51/51 [==============================] - 597s 12s/step - loss: 0.0942 - acc: 0.9769 - val_loss: 0.0967 - val_acc: 0.9747\n",
      "\n",
      "Epoch 00010: saving model to cu\\easy-lstm\\cu-150_model-10.h5\n"
     ]
    }
   ],
   "source": [
    "checkpoint = ModelCheckpoint('cu\\\\easy-lstm\\\\cu-150_model-{epoch}.h5', verbose=1, save_best_only=False, save_weights_only=True)\n",
    "lstm_150_history = lstm_150.fit_generator(\n",
    "    generator=gen_batch(train_sents, train_tags, batch_size), \n",
    "    steps_per_epoch=steps,\n",
    "    validation_data=gen_batch(val_sents, val_tags, batch_size),\n",
    "    validation_steps=val_steps,\n",
    "    epochs=epochs, verbose=1, callbacks=[checkpoint])\n",
    "dump(lstm_150_history.history, open('cu\\\\easy-lstm\\\\cu-150_model-history.json','w', encoding='utf-8'))"
   ]
  },
  {
   "cell_type": "code",
   "execution_count": 223,
   "metadata": {
    "scrolled": false
   },
   "outputs": [
    {
     "data": {
      "image/png": "[encoded data removed]",
      "text/plain": [
       "<Figure size 432x288 with 1 Axes>"
      ]
     },
     "metadata": {
      "needs_background": "light"
     },
     "output_type": "display_data"
    },
    {
     "data": {
      "image/png": "[encoded data removed]",
      "text/plain": [
       "<Figure size 432x288 with 1 Axes>"
      ]
     },
     "metadata": {
      "needs_background": "light"
     },
     "output_type": "display_data"
    }
   ],
   "source": [
    "vis_loss(lstm_50.history)\n",
    "vis_acc(lstm_50.history)"
   ]
  },
  {
   "cell_type": "code",
   "execution_count": 232,
   "metadata": {
    "scrolled": false
   },
   "outputs": [
    {
     "data": {
      "image/png": "[encoded data removed]",
      "text/plain": [
       "<Figure size 432x288 with 1 Axes>"
      ]
     },
     "metadata": {
      "needs_background": "light"
     },
     "output_type": "display_data"
    },
    {
     "data": {
      "image/png": "[encoded data removed]",
      "text/plain": [
       "<Figure size 432x288 with 1 Axes>"
      ]
     },
     "metadata": {
      "needs_background": "light"
     },
     "output_type": "display_data"
    }
   ],
   "source": [
    "vis_loss(lstm_150.history)\n",
    "vis_acc(lstm_150.history)"
   ]
  },
  {
   "cell_type": "markdown",
   "metadata": {},
   "source": [
    "Переобучения нет, а красивые графики -- есть)"
   ]
  },
  {
   "cell_type": "code",
   "execution_count": 224,
   "metadata": {},
   "outputs": [],
   "source": [
    "evals_50 = lstm_50.evaluate_generator(gen_batch(test_sents, test_tags, batch_size), steps=test_steps, max_queue_size=max_len)"
   ]
  },
  {
   "cell_type": "code",
   "execution_count": 233,
   "metadata": {},
   "outputs": [],
   "source": [
    "evals_150 = lstm_150.evaluate_generator(gen_batch(test_sents, test_tags, batch_size), steps=test_steps, max_queue_size=max_len)"
   ]
  },
  {
   "cell_type": "code",
   "execution_count": 234,
   "metadata": {},
   "outputs": [
    {
     "name": "stdout",
     "output_type": "stream",
     "text": [
      "\n",
      "\tLoss\tAcc\n",
      "50:\t0.21183\t0.9293\n",
      "100:\t0.13294\t0.96778\n",
      "150:\t0.09277\t0.97617\n"
     ]
    }
   ],
   "source": [
    "print('''\n",
    "\\tLoss\\tAcc\n",
    "50:\\t{}\\t{}\n",
    "100:\\t{}\\t{}\n",
    "150:\\t{}\\t{}'''.format(\n",
    "    round(evals_50[0], 5), round(evals_50[1], 5),\n",
    "    round(easy_lstm_evals[0], 5), round(easy_lstm_evals[1], 5),\n",
    "    round(evals_150[0], 5), round(evals_150[1], 5)))"
   ]
  },
  {
   "cell_type": "code",
   "execution_count": 226,
   "metadata": {
    "scrolled": false
   },
   "outputs": [
    {
     "name": "stdout",
     "output_type": "stream",
     "text": [
      "['adv', 'verb', 'sconj', 'adv', 'verb', 'verb']\n",
      "['adv', 'verb', 'adv', 'adv', 'verb', 'verb']\n",
      "\n",
      "['pron', 'adv', 'noun', 'verb', 'verb', 'pron', 'cconj', 'adp', 'pron', 'noun', 'verb', 'verb', 'aux', 'pron']\n",
      "['adv', 'adv', 'verb', 'verb', 'cconj', 'cconj', 'noun', 'noun']\n",
      "\n",
      "['pron', 'adv', 'verb', 'noun', 'adp', 'noun', 'noun', 'adj', 'cconj', 'noun', 'pron', 'verb', 'adp', 'noun', 'adj', 'adv', 'verb', 'cconj', 'adv', 'verb', 'noun', 'adj']\n",
      "['verb', 'adv', 'verb', 'verb', 'adp', 'noun', 'noun', 'noun', 'cconj', 'noun', 'verb', 'verb', 'adp', 'noun', 'noun', 'verb', 'verb', 'verb', 'verb', 'verb', 'noun', 'noun']\n",
      "\n"
     ]
    }
   ],
   "source": [
    "pred_50 = lstm_50.predict_generator(gen_batch(test_sents_clean, test_tags, batch_size), steps=int(len(test_sents_clean)/batch_size))\n",
    "seqs_50, tags_50 = decode_sequences(pred_50)\n",
    "for i in range(3):\n",
    "    print(test_tags[i])\n",
    "    #print(dec_seqs[i])\n",
    "    print(tags_64[i])\n",
    "    print()"
   ]
  },
  {
   "cell_type": "code",
   "execution_count": 98,
   "metadata": {
    "scrolled": true
   },
   "outputs": [
    {
     "name": "stdout",
     "output_type": "stream",
     "text": [
      "(1088, 92, 15)\n",
      "['adv', 'verb', 'sconj', 'adv', 'verb', 'verb']\n",
      "['adv', 'verb', 'adv', 'adv', 'verb', 'verb']\n",
      "\n",
      "['pron', 'adv', 'noun', 'verb', 'verb', 'pron', 'cconj', 'adp', 'pron', 'noun', 'verb', 'verb', 'aux', 'pron']\n",
      "['verb', 'adv', 'verb', 'verb', 'pron', 'cconj', 'adp', 'pron']\n",
      "\n",
      "['pron', 'adv', 'verb', 'noun', 'adp', 'noun', 'noun', 'adj', 'cconj', 'noun', 'pron', 'verb', 'adp', 'noun', 'adj', 'adv', 'verb', 'cconj', 'adv', 'verb', 'noun', 'adj']\n",
      "['pron', 'adv', 'verb', 'noun', 'adp', 'noun', 'noun', 'adj', 'cconj', 'noun', 'pron', 'verb', 'adp', 'noun', 'adj', 'adv', 'verb', 'pron', 'verb', 'verb', 'noun', 'noun']\n",
      "\n"
     ]
    }
   ],
   "source": [
    "# это старое\n",
    "easy_lstm_pred = easy_lstm.predict_generator(gen_batch(test_sents_clean, test_tags, batch_size), steps=int(len(test_sents_clean)/batch_size))\n",
    "print(easy_lstm_pred.shape)\n",
    "easy_lstm_seqs, easy_lstm_tags = decode_sequences(easy_lstm_pred)\n",
    "for i in range(3):\n",
    "    print(test_tags[i])\n",
    "    #print(dec_seqs[i])\n",
    "    print(easy_lstm_tags[i])\n",
    "    print()"
   ]
  },
  {
   "cell_type": "code",
   "execution_count": 243,
   "metadata": {
    "scrolled": false
   },
   "outputs": [
    {
     "name": "stdout",
     "output_type": "stream",
     "text": [
      "['adv', 'verb', 'sconj', 'adv', 'verb', 'verb']\n",
      "['adv', 'verb', 'adv', 'adv', 'verb', 'verb']\n",
      "\n",
      "['pron', 'adv', 'noun', 'verb', 'verb', 'pron', 'cconj', 'adp', 'pron', 'noun', 'verb', 'verb', 'aux', 'pron']\n",
      "['adv', 'adv', 'verb', 'verb', 'verb', 'pron', 'cconj', 'noun', 'pron', 'verb', 'noun', 'noun', 'aux', 'pron']\n",
      "\n",
      "['pron', 'adv', 'verb', 'noun', 'adp', 'noun', 'noun', 'adj', 'cconj', 'noun', 'pron', 'verb', 'adp', 'noun', 'adj', 'adv', 'verb', 'cconj', 'adv', 'verb', 'noun', 'adj']\n",
      "['pron', 'adv', 'verb', 'noun', 'adp', 'noun', 'noun', 'adj', 'cconj', 'noun', 'pron', 'verb', 'adp', 'noun', 'adj', 'adv', 'verb', 'adv', 'adv', 'verb', 'noun', 'verb']\n",
      "\n"
     ]
    }
   ],
   "source": [
    "pred_150 = lstm_150.predict_generator(gen_batch(test_sents_clean, test_tags, batch_size), steps=int(len(test_sents_clean)/batch_size))\n",
    "seqs_150, tags_150 = decode_sequences(pred_150)\n",
    "for i in range(3):\n",
    "    print(test_tags[i])\n",
    "    #print(dec_seqs[i])\n",
    "    print(tags_150[i])\n",
    "    print()"
   ]
  },
  {
   "cell_type": "code",
   "execution_count": 240,
   "metadata": {},
   "outputs": [],
   "source": [
    "bleu_50_1, bleu_50_2, bleu_50_3, bleu_50_4 = bleu_eval(test_tags[:1088], tags_50)"
   ]
  },
  {
   "cell_type": "code",
   "execution_count": 244,
   "metadata": {},
   "outputs": [],
   "source": [
    "bleu_150_1, bleu_150_2, bleu_150_3, bleu_150_4 = bleu_eval(test_tags[:1088], tags_150)"
   ]
  },
  {
   "cell_type": "code",
   "execution_count": 245,
   "metadata": {},
   "outputs": [
    {
     "name": "stdout",
     "output_type": "stream",
     "text": [
      "\n",
      "\tBLEU-1\tBLEU-2\tBLEU-3\tBLEU-4\n",
      "64:\t0.36\t0.161\t0.112\t0.067\n",
      "128\t0.721\t0.58\t0.58\t0.333\n",
      "150:\t0.782\t0.67\t0.67\t0.458\n",
      "\n"
     ]
    }
   ],
   "source": [
    "print('''\n",
    "\\tBLEU-1\\tBLEU-2\\tBLEU-3\\tBLEU-4\n",
    "64:\\t{}\\t{}\\t{}\\t{} \n",
    "128\\t{}\\t{}\\t{}\\t{}\n",
    "150:\\t{}\\t{}\\t{}\\t{}\n",
    "'''.format(round(bleu_50_1, 3), round(bleu_50_2, 3), round(bleu_50_3, 3), round(bleu_50_4, 3),\n",
    "           round(lstm_bleu_1, 3), round(lstm_bleu_2, 3), round(lstm_bleu_2, 3), round(lstm_bleu_4, 3),\n",
    "           round(bleu_150_1, 3), round(bleu_150_2, 3), round(bleu_150_2, 3), round(bleu_150_4, 3)))"
   ]
  },
  {
   "cell_type": "markdown",
   "metadata": {},
   "source": [
    "О, а вот эмбеддинги творят магию) Чем больше информации удаётся сохранить о словах, тем лучше работает моделька. Только я забыла поменять числа и слишком поздно это заметила :с Тут 50, 100 и 150"
   ]
  },
  {
   "cell_type": "markdown",
   "metadata": {},
   "source": [
    "Мы хотели посмотреть, получится и lstm \"догнать\" собратьев. Сравним, что в итоге вышло:"
   ]
  },
  {
   "cell_type": "code",
   "execution_count": 246,
   "metadata": {},
   "outputs": [
    {
     "name": "stdout",
     "output_type": "stream",
     "text": [
      "\n",
      "\t\tBLEU-1\tBLEU-2\tBLEU-3\tBLEU-4\n",
      "SimpleRNN:\t0.862\t0.791\t0.729\t0.625\n",
      "LSTM:\t\t0.721\t0.58\t0.58\t0.333\n",
      "LSTM-150:\t0.782\t0.67\t0.67\t0.458\n",
      "BiLSTM:\t\t0.87\t0.798\t0.798\t0.635\n",
      "GRU:\t\t0.884\t0.821\t0.766\t0.669\n",
      "\n"
     ]
    }
   ],
   "source": [
    "print('''\n",
    "\\t\\tBLEU-1\\tBLEU-2\\tBLEU-3\\tBLEU-4\n",
    "SimpleRNN:\\t{}\\t{}\\t{}\\t{}\n",
    "LSTM:\\t\\t{}\\t{}\\t{}\\t{}\n",
    "LSTM-150:\\t{}\\t{}\\t{}\\t{}\n",
    "BiLSTM:\\t\\t{}\\t{}\\t{}\\t{}\n",
    "GRU:\\t\\t{}\\t{}\\t{}\\t{}\n",
    "'''.format(round(simple_bleu_1, 3), round(simple_bleu_2, 3), round(simple_bleu_3, 3), round(simple_bleu_4, 3),\n",
    "           round(lstm_bleu_1, 3), round(lstm_bleu_2, 3), round(lstm_bleu_2, 3), round(lstm_bleu_4, 3),\n",
    "           round(bleu_150_1, 3), round(bleu_150_2, 3), round(bleu_150_2, 3), round(bleu_150_4, 3),\n",
    "           round(bilstm_bleu_1, 3), round(bilstm_bleu_2, 3), round(bilstm_bleu_2, 3), round(bilstm_bleu_4, 3),\n",
    "           round(gru_bleu_1, 3), round(gru_bleu_2, 3), round(gru_bleu_3, 3), round(gru_bleu_4, 3)))"
   ]
  },
  {
   "cell_type": "markdown",
   "metadata": {},
   "source": [
    "Собратьев мы не догнали, но качество предсказаний всё равно повысили, ура! "
   ]
  },
  {
   "cell_type": "markdown",
   "metadata": {},
   "source": [
    "Итак, важный вывод -- вовсе не всегда что-то сложное рабоает лучше, чем простое. Слишком сложные модели могут строить слишком сложные гипотезы -- может быть, проблема нашей LSTM была как раз в том, что она уловила какие-то несуществующие долгосрочные зависимости. Ну и, конечно же, важно, сколько информации о слове мы сможем сохранить в эмбеддингах. "
   ]
  },
  {
   "cell_type": "code",
   "execution_count": null,
   "metadata": {},
   "outputs": [],
   "source": []
  }
 ],
 "metadata": {
  "kernelspec": {
   "display_name": "Python 3",
   "language": "python",
   "name": "python3"
  },
  "language_info": {
   "codemirror_mode": {
    "name": "ipython",
    "version": 3
   },
   "file_extension": ".py",
   "mimetype": "text/x-python",
   "name": "python",
   "nbconvert_exporter": "python",
   "pygments_lexer": "ipython3",
   "version": "3.6.6"
  }
 },
 "nbformat": 4,
 "nbformat_minor": 2
}
