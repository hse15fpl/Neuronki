{
 "cells": [
  {
   "cell_type": "markdown",
   "metadata": {},
   "source": [
    "# Сафарян Анна, Егорова Алина\n",
    "## Финский"
   ]
  },
  {
   "cell_type": "markdown",
   "metadata": {},
   "source": [
    "* [**Типология языков**](#typology)\n",
    "* [**Чтение данных**](#data)\n",
    "* [**Дескриптивная статистика и задание параметров корпуса**](#ststs)\n",
    "* [**Кодирование последовательностей и создание генератора**](#encode)\n",
    "* [**Создание и обучение упрощённых моделей**](#easy-train)\n",
    "    * [SimpleRNN](#easy-simple)\n",
    "    * [LSTM](#easy-lstm)\n",
    "    * [BiLSTM](#easi-bilstm)\n",
    "    * [GRU](#easy-gru)\n",
    "* [Построение графиков и определение переобучения для упрощённых моделей](#easy-graphs)\n",
    "* [Оценка и сравнение упрощённых моделей](#easy-choose)\n",
    "* [**Эксперименты с эмбеддингами**](#embed)"
   ]
  },
  {
   "cell_type": "code",
   "execution_count": 1,
   "metadata": {},
   "outputs": [
    {
     "name": "stderr",
     "output_type": "stream",
     "text": [
      "Using TensorFlow backend.\n"
     ]
    }
   ],
   "source": [
    "import conllu\n",
    "import numpy as np\n",
    "from keras.layers.recurrent import SimpleRNN, LSTM, GRU\n",
    "from keras.models import Sequential, load_model\n",
    "from keras.layers.core import Dense, Activation, RepeatVector\n",
    "from keras.layers.embeddings import Embedding\n",
    "from keras.layers.wrappers import TimeDistributed, Bidirectional\n",
    "from keras.callbacks import ModelCheckpoint\n",
    "from keras.preprocessing.sequence import pad_sequences\n",
    "from keras.utils import to_categorical\n",
    "from sklearn.utils import shuffle\n",
    "from sklearn.model_selection import train_test_split\n",
    "from os import makedirs\n",
    "import matplotlib.pyplot as plt\n",
    "from json import dump, load\n",
    "from collections import defaultdict\n",
    "from nltk.translate.bleu_score import sentence_bleu, SmoothingFunction"
   ]
  },
  {
   "cell_type": "markdown",
   "metadata": {},
   "source": [
    "## Типология языков <a id=\"typology\"></a>\n",
    "\n",
    "| Типология | Старославянский | Финский |\n",
    "|------------- |---------------|-------------|\n",
    "| **Генеалогическая: семья**  | Индоевропейская | Уральская | \n",
    "| **Генеалогическая: ветвь** | Славянские | Финно-угорские |\n",
    "| **Морфологическая** | Синтетический (флективный) | Синтетический (агглютинативный) |\n",
    "| **Морфосинтаксическая** | Номинативный | Номинативный |\n",
    "| **Порядок слов: ветвление** | SVO, левое | SVO, левое |\n",
    "| **Порядок слов: свобода** | свободный | относительно свободный |\n"
   ]
  },
  {
   "cell_type": "markdown",
   "metadata": {},
   "source": [
    "Код в точности повторяет аналогичный для старославянского, так что его, наверное, особо комментировать смысла нет"
   ]
  },
  {
   "cell_type": "markdown",
   "metadata": {},
   "source": [
    "## Чтение данных <a id=\"вфеф\"></a>"
   ]
  },
  {
   "cell_type": "code",
   "execution_count": 2,
   "metadata": {
    "scrolled": true
   },
   "outputs": [
    {
     "name": "stdout",
     "output_type": "stream",
     "text": [
      "14981\n",
      "1867\n"
     ]
    }
   ],
   "source": [
    "train_raw = open('fi\\\\fi-train.conllu', 'r', encoding='utf-8').read().lower()\n",
    "train_data = conllu.parse(train_raw)\n",
    "print(len(train_data))\n",
    "test_raw = open('fi\\\\fi-test.conllu', 'r', encoding='utf-8').read().lower()\n",
    "test_data = conllu.parse(test_raw)\n",
    "print(len(test_data))"
   ]
  },
  {
   "cell_type": "markdown",
   "metadata": {},
   "source": [
    "Пусть текстов будет примерно столько же, сколько и для старославянского. Перемешаем корпуса (позже я подмала, что неплохо бы использовать тут StratifiedShuffleSplit, но уже слишком поздно)"
   ]
  },
  {
   "cell_type": "code",
   "execution_count": 3,
   "metadata": {},
   "outputs": [],
   "source": [
    "train_data = shuffle(train_data)[:4000]\n",
    "test_data = shuffle(test_data)[:1000]"
   ]
  },
  {
   "cell_type": "markdown",
   "metadata": {},
   "source": [
    "Для старославянскго тексты не лемматизировали, так что и для финского не будем"
   ]
  },
  {
   "cell_type": "code",
   "execution_count": 4,
   "metadata": {},
   "outputs": [],
   "source": [
    "def get_data(data):\n",
    "    sents = [] # список списков токенов\n",
    "    tags = [] # список списков тегов\n",
    "    word_vocab = set() # множество уникальных токенов\n",
    "    pos_vocab = set() # множество уникальных \n",
    "    pos_freq = defaultdict(int) # частота встречаемостиpos-тегов\n",
    "    for l in data:\n",
    "        sent = []\n",
    "        tag = []\n",
    "        for tok in l:\n",
    "            #print(tok)\n",
    "            sent.append(tok['form'])\n",
    "            tag.append(tok['upostag'])\n",
    "            word_vocab.add(tok['form'])\n",
    "            pos_vocab.add(tok['upostag'])\n",
    "            pos_freq[tok['upostag']] += 1\n",
    "        sents.append(sent)\n",
    "        tags.append(tag)\n",
    "    return sents, tags, word_vocab, pos_vocab, dict(pos_freq)"
   ]
  },
  {
   "cell_type": "code",
   "execution_count": 5,
   "metadata": {},
   "outputs": [],
   "source": [
    "train_sents, train_tags, train_word_vocab, train_pos_vocab, train_pos_freq = get_data(train_data)\n",
    "test_sents, test_tags, test_word_vocab, test_pos_vocab, test_pos_freq = get_data(test_data)"
   ]
  },
  {
   "cell_type": "code",
   "execution_count": 6,
   "metadata": {
    "scrolled": true
   },
   "outputs": [
    {
     "name": "stdout",
     "output_type": "stream",
     "text": [
      "['pankit', 'ovat', 'pitäneet', 'tiedotustilaisuutensa', 'ja', 'kertoneet', 'uusista', 'sijoitus-', ',', 'määräaikais-', ',', 'tuotto-', 'ja', 'voittotileistään', '.']\n",
      "['noun', 'verb', 'verb', 'noun', 'cconj', 'verb', 'adj', 'x', 'punct', 'x', 'punct', 'x', 'cconj', 'noun', 'punct']\n",
      "\n",
      "['ootte', 'te', 'mahtavia', 'jätkiä', '.']\n",
      "['aux', 'pron', 'adj', 'noun', 'punct']\n",
      "\n",
      "['sipuli', 'kypsyy', 'pannulla']\n",
      "['noun', 'verb', 'noun']\n",
      "\n",
      "{'verb', 'pron', 'noun', 'adv', 'intj', 'det', 'propn', 'cconj', 'sym', '_', 'aux', 'sconj', 'num', 'adp', 'punct', 'adj', 'part', 'x'}\n"
     ]
    }
   ],
   "source": [
    "for s, t in zip(train_sents[:3], train_tags[:3]):\n",
    "    print(s)\n",
    "    print(t)\n",
    "    print()\n",
    "print(train_pos_vocab)\n",
    "#print(train_word_vocab)"
   ]
  },
  {
   "cell_type": "code",
   "execution_count": 7,
   "metadata": {
    "scrolled": true
   },
   "outputs": [
    {
     "name": "stdout",
     "output_type": "stream",
     "text": [
      "{'pad': 0, 'verb': 1, 'pron': 2, 'noun': 3, 'adv': 4, 'intj': 5, 'det': 6, 'propn': 7, 'cconj': 8, 'sym': 9, '_': 10, 'aux': 11, 'sconj': 12, 'num': 13, 'adp': 14, 'punct': 15, 'adj': 16, 'part': 17, 'x': 18}\n"
     ]
    }
   ],
   "source": [
    "# словари соответствий строим по тренировочной выборке\n",
    "w2i = {'pad':0, 'unk':1} # за 0 закреплены слова pad, за 1 -- unk, т.е. слова тестовой, которых нет в тренировочной\n",
    "i2w = {0:'pad', 1:'unk'}\n",
    "\n",
    "for i, w in enumerate(train_word_vocab):\n",
    "   w2i[w] = i+2 # прибавляем 2, т.к. добавили 2 своих слова\n",
    "   i2w[i+2] = w\n",
    "    \n",
    "t2i = {'pad':0} # теги для незнакомых слов попробуем предсказывать тоже\n",
    "i2t = {0:'pad'}\n",
    "for i, t in enumerate(train_pos_vocab):\n",
    "   t2i[t] = i+1\n",
    "   i2t[i+1] = t\n",
    "\n",
    "print(t2i)"
   ]
  },
  {
   "cell_type": "code",
   "execution_count": 8,
   "metadata": {},
   "outputs": [
    {
     "name": "stdout",
     "output_type": "stream",
     "text": [
      "8822\n",
      "2894\n",
      "[['vasta', 'syksyllä', 'kun', 'unk', 'unk', 'unk', ',', 'meidän', 'on', 'unk', 'töihin', 'unk'], ['unk', 'unk', 'unk', 'unk', 'unk', 'unk', 'unk', 'unk', '.'], ['voi', 'kun', 'olisi', 'edes', '100', 'unk', 'enemmän', 'ari', 'unk', 'unk', '.'], ['ja', 'kuitenkin', 'tiesin', ',', 'että', 'unk', 'ei', 'voinut', ',', 'ei', 'tästä', 'unk', ',', 'ei', 'enää', '.'], ['abdi', 'sanoi', 'että', 'hän', 'voi', 'kantaa', 'unk', 'pöydän', 'ja', 'pari', 'unk', 'unk', 'jos', 'olut', 'viedään', 'itse', '.'], ['unk', 'on', 'vanha', 'unk', ',', 'joka', 'unk', 'tulla', 'unk', 'unk', 'unk', '.'], ['tiesin', ',', 'milloin', 'unk', 'unk', 'unk', 'unk', '.'], ['unk', 'näytti', 'siltä', 'kuin', 'ei', 'olisi', 'ikinä', 'kuullut', 'koko', 'sanaa', '.'], ['unk', 'on', 'paikka', ',', 'missä', 'unk', 'unk', 'miehet', 'tai', 'naiset', 'unk', 'unk', '.'], ['runsas', 'viikko', 'unk', 'unk', 'unk', 'hengiltä', 'unk', 'unk']]\n"
     ]
    }
   ],
   "source": [
    "# заменяем все незнакомые слова в тестовой выборке на unk\n",
    "test_sents_clean = test_sents[:]\n",
    "count_test_words = 0\n",
    "count_unk = 0\n",
    "for s, sent in enumerate(test_sents):\n",
    "    for w, word in enumerate(sent):\n",
    "        count_test_words+=1\n",
    "        if word not in train_word_vocab: # если слова нет в словаре тренировочной выборки\n",
    "            test_sents_clean[s][w] = 'unk' # заменяем слово в \"чистой\" тестовой выборке\n",
    "            count_unk+=1\n",
    "print(count_test_words)\n",
    "print(count_unk)\n",
    "print(test_sents_clean[:10])"
   ]
  },
  {
   "cell_type": "markdown",
   "metadata": {},
   "source": [
    "## Дескриптивная статистика <a id=\"stats\"></a>\n",
    "* Число предложений / уникальных словоформ;\n",
    "* Число уникальных PoS-тегов;\n",
    "* Максимальное и минимальное число слов в предложении;\n",
    "* Математическое ожидание и медиана числа слов в предложении;\n",
    "* Доля новых (не встречавшихся в тренировочной выборке) слов в тестовой выборке"
   ]
  },
  {
   "cell_type": "code",
   "execution_count": 9,
   "metadata": {
    "scrolled": false
   },
   "outputs": [
    {
     "name": "stdout",
     "output_type": "stream",
     "text": [
      "[15, 5, 3, 3, 15, 4, 8, 8, 6, 9, 3, 16, 5, 20, 5, 7, 8, 5, 4, 12]\n",
      "[12, 9, 11, 16, 17, 12, 8, 11, 13, 8, 15, 4, 4, 18, 16, 11, 9, 6, 7, 13]\n",
      "\n",
      "\t\tTrain\tTest\n",
      "n_sents:\t4000\t1000\n",
      "n_words:\t13809\t4630\n",
      "n_tags: \t19\t18\n",
      "max_len:\t68\t33\n",
      "min_len:\t1\t1\n",
      "mean_len:\t8.5\t8.8\n",
      "med_len:\t7.0\t8.0\n",
      "60.35% тестового словаря нет в тренировочном. Это 32.8% тестового корпуса.\n",
      "\n"
     ]
    }
   ],
   "source": [
    "train_lens = [len(i) for i in train_sents]\n",
    "print(train_lens[:20])\n",
    "test_lens = [len(i) for i in test_sents_clean]\n",
    "print(test_lens[:20])\n",
    "dif = len(test_word_vocab-train_word_vocab)*100/(len(test_word_vocab)+2) # сколько есть \"незнакомых\" слов в словаре тестовой выборки\n",
    "pr = count_unk*100/count_test_words # сколько процентов такие слова составляют от тестового корпуса \n",
    "\n",
    "print('''\n",
    "\\t\\tTrain\\tTest\n",
    "n_sents:\\t{}\\t{}\n",
    "n_words:\\t{}\\t{}\n",
    "n_tags: \\t{}\\t{}\n",
    "max_len:\\t{}\\t{}\n",
    "min_len:\\t{}\\t{}\n",
    "mean_len:\\t{}\\t{}\n",
    "med_len:\\t{}\\t{}\n",
    "{}% тестового словаря нет в тренировочном. Это {}% тестового корпуса.\n",
    "'''.format(\n",
    "    len(train_lens), len(test_lens),\n",
    "    len(train_word_vocab)+2, len(test_word_vocab)+2, # нормальные слова + pad, unk \n",
    "    len(train_pos_vocab)+1, len(test_pos_vocab)+1, # нормальные теги + pad\n",
    "    np.max(train_lens), np.max(test_lens), \n",
    "    np.min(train_lens), np.min(test_lens), \n",
    "    round(np.mean(train_lens), 1), round(np.mean(test_lens), 1), \n",
    "    round(np.median(train_lens), 1), round(np.median(test_lens), 1),\n",
    "    round(dif,2), round(pr,2)))"
   ]
  },
  {
   "cell_type": "code",
   "execution_count": 10,
   "metadata": {},
   "outputs": [
    {
     "name": "stdout",
     "output_type": "stream",
     "text": [
      "sym\n"
     ]
    }
   ],
   "source": [
    "# какой-то из редких тегов не попался в тестовой выборке, добавим его в словарь частот вручную, чтобы не было проблем с гистограммой\n",
    "rare = list(train_pos_vocab-test_pos_vocab)[0]\n",
    "print(rare)\n",
    "test_pos_freq[rare] = 0"
   ]
  },
  {
   "cell_type": "code",
   "execution_count": 14,
   "metadata": {
    "scrolled": false
   },
   "outputs": [
    {
     "data": {
      "image/png": "[encoded data removed]",
      "text/plain": [
       "<Figure size 1080x504 with 1 Axes>"
      ]
     },
     "metadata": {
      "needs_background": "light"
     },
     "output_type": "display_data"
    }
   ],
   "source": [
    "plt.subplots(figsize=(15, 7))\n",
    "\n",
    "plt.bar(np.arange(18)-0.2, list(train_pos_freq.values()), 0.4, label = 'Train')\n",
    "plt.bar(np.arange(18)+0.2, list(test_pos_freq.values()), 0.4, label = 'Test')\n",
    "plt.xlabel('POS')\n",
    "plt.ylabel('Freq')\n",
    "plt.title('Распределение POS-тегов')\n",
    "plt.xticks(np.arange(18), list(train_pos_freq.keys()))\n",
    "plt.legend()\n",
    "plt.show()"
   ]
  },
  {
   "cell_type": "code",
   "execution_count": 15,
   "metadata": {},
   "outputs": [],
   "source": [
    "max_len = np.max(train_lens) \n",
    "n_words = len(train_word_vocab)+2\n",
    "n_tags = len(train_pos_vocab)+1\n",
    "batch_size = 64"
   ]
  },
  {
   "cell_type": "markdown",
   "metadata": {},
   "source": [
    "## Кодирование последовательностей и создание генератора <a id=\"encode\"></a>"
   ]
  },
  {
   "cell_type": "code",
   "execution_count": 16,
   "metadata": {},
   "outputs": [],
   "source": [
    "# кодируем последовательности и дополняем их нулями до максимальной длины\n",
    "def encode_sequences(sequences, dict2index, maxlen=max_len):\n",
    "    enc_seqs = [[dict2index[word] for word in seq[:maxlen]] for seq in sequences] # предложение урезаем до максимальной длины в тренировочной выборке\n",
    "    enc_seqs = pad_sequences(enc_seqs, maxlen, padding='post')\n",
    "    return enc_seqs"
   ]
  },
  {
   "cell_type": "code",
   "execution_count": 17,
   "metadata": {},
   "outputs": [],
   "source": [
    "# унитарно кодируем метки (принимаем уже закодированные на предыдущем шаге последователности)\n",
    "def onehot_sequences(sequences):\n",
    "    enc_seqs = []\n",
    "    for sequence in sequences: \n",
    "        encoded = to_categorical(sequence, num_classes=n_tags) \n",
    "        enc_seqs.append(encoded)\n",
    "    enc_seqs = np.array(enc_seqs)\n",
    "    return enc_seqs"
   ]
  },
  {
   "cell_type": "code",
   "execution_count": 18,
   "metadata": {
    "scrolled": true
   },
   "outputs": [
    {
     "name": "stdout",
     "output_type": "stream",
     "text": [
      "(2, 10)\n",
      "(2, 10, 19)\n",
      "['vasta', 'syksyllä', 'kun', 'unk', 'unk', 'unk', ',', 'meidän', 'on', 'unk', 'töihin', 'unk']\n",
      "[   46  8365  4152     1     1     1  6951  8992 10779     1] 10\n",
      "['part', 'noun', 'sconj', 'noun', 'verb', 'noun', 'punct', 'pron', 'verb', 'verb', 'noun', 'num']\n",
      "[[0. 0. 0. 0. 0. 0. 0. 0. 0. 0. 0. 0. 0. 0. 0. 0. 0. 1. 0.]\n",
      " [0. 0. 0. 1. 0. 0. 0. 0. 0. 0. 0. 0. 0. 0. 0. 0. 0. 0. 0.]\n",
      " [0. 0. 0. 0. 0. 0. 0. 0. 0. 0. 0. 0. 1. 0. 0. 0. 0. 0. 0.]\n",
      " [0. 0. 0. 1. 0. 0. 0. 0. 0. 0. 0. 0. 0. 0. 0. 0. 0. 0. 0.]\n",
      " [0. 1. 0. 0. 0. 0. 0. 0. 0. 0. 0. 0. 0. 0. 0. 0. 0. 0. 0.]\n",
      " [0. 0. 0. 1. 0. 0. 0. 0. 0. 0. 0. 0. 0. 0. 0. 0. 0. 0. 0.]\n",
      " [0. 0. 0. 0. 0. 0. 0. 0. 0. 0. 0. 0. 0. 0. 0. 1. 0. 0. 0.]\n",
      " [0. 0. 1. 0. 0. 0. 0. 0. 0. 0. 0. 0. 0. 0. 0. 0. 0. 0. 0.]\n",
      " [0. 1. 0. 0. 0. 0. 0. 0. 0. 0. 0. 0. 0. 0. 0. 0. 0. 0. 0.]\n",
      " [0. 1. 0. 0. 0. 0. 0. 0. 0. 0. 0. 0. 0. 0. 0. 0. 0. 0. 0.]] 10\n",
      "\n",
      "['unk', 'unk', 'unk', 'unk', 'unk', 'unk', 'unk', 'unk', '.']\n",
      "[    1     1     1     1     1     1     1     1 13627     0] 10\n",
      "['noun', 'verb', 'verb', 'noun', 'noun', 'noun', 'verb', 'noun', 'punct']\n",
      "[[0. 0. 0. 1. 0. 0. 0. 0. 0. 0. 0. 0. 0. 0. 0. 0. 0. 0. 0.]\n",
      " [0. 1. 0. 0. 0. 0. 0. 0. 0. 0. 0. 0. 0. 0. 0. 0. 0. 0. 0.]\n",
      " [0. 1. 0. 0. 0. 0. 0. 0. 0. 0. 0. 0. 0. 0. 0. 0. 0. 0. 0.]\n",
      " [0. 0. 0. 1. 0. 0. 0. 0. 0. 0. 0. 0. 0. 0. 0. 0. 0. 0. 0.]\n",
      " [0. 0. 0. 1. 0. 0. 0. 0. 0. 0. 0. 0. 0. 0. 0. 0. 0. 0. 0.]\n",
      " [0. 0. 0. 1. 0. 0. 0. 0. 0. 0. 0. 0. 0. 0. 0. 0. 0. 0. 0.]\n",
      " [0. 1. 0. 0. 0. 0. 0. 0. 0. 0. 0. 0. 0. 0. 0. 0. 0. 0. 0.]\n",
      " [0. 0. 0. 1. 0. 0. 0. 0. 0. 0. 0. 0. 0. 0. 0. 0. 0. 0. 0.]\n",
      " [0. 0. 0. 0. 0. 0. 0. 0. 0. 0. 0. 0. 0. 0. 0. 1. 0. 0. 0.]\n",
      " [1. 0. 0. 0. 0. 0. 0. 0. 0. 0. 0. 0. 0. 0. 0. 0. 0. 0. 0.]] 10\n",
      "\n"
     ]
    }
   ],
   "source": [
    "# проверим, как работает\n",
    "es = encode_sequences(test_sents_clean[:2], dict2index=w2i, maxlen=10) # возьмём не 92, а 10, чтобы нормально отобразились матрицы, а то они иначе сжимаются посередине\n",
    "et = encode_sequences(test_tags[:2], dict2index=t2i, maxlen=10)\n",
    "print(es.shape)\n",
    "et = onehot_sequences(et) \n",
    "print(et.shape)\n",
    "for i in range(2):\n",
    "    print(test_sents[i]),\n",
    "    print(es[i], len(es[i])),\n",
    "    print(test_tags[i]),\n",
    "    print(et[i], len(et[i])),\n",
    "    print()\n",
    "# видно, что короткие дополняются, длинные обрезаются"
   ]
  },
  {
   "cell_type": "code",
   "execution_count": 19,
   "metadata": {},
   "outputs": [],
   "source": [
    "# генератор батчей\n",
    "def gen_batch(sents, tags, batch_size):\n",
    "    i = 0\n",
    "    all_sents  = len(sents) # всего последовательностей\n",
    "    n_sents = batch_size * int(all_sents / batch_size)  #сколько у нас влезет (батч * кол-во батчей)\n",
    "    #print(n_sents)\n",
    "    while True:\n",
    "        #print(i)\n",
    "        i = i % n_sents # считаем текущий индекс (где новое) \\\\ПОЧЕМУ ЮЕЗ ЭТОЙ СТРОЧКИ КОНЧАЮТСЯ ДАННЫЕ?\n",
    "        # берём кусочки\n",
    "        sub_sents = sents[i: i+batch_size]\n",
    "        sub_tags = tags[i: i+batch_size]\n",
    "\n",
    "        # кодируем кусочки\n",
    "        sub_sents = encode_sequences(sub_sents, dict2index=w2i, maxlen=max_len)\n",
    "        sub_tags = encode_sequences(sub_tags, dict2index=t2i, maxlen=max_len)\n",
    "        sub_tags = onehot_sequences(sub_tags)\n",
    "        \n",
    "        # обновляем текущий индекс\n",
    "        i += batch_size\n",
    "        #print(i)\n",
    "        \n",
    "        yield sub_sents, sub_tags # возвращаем наши кусочки"
   ]
  },
  {
   "cell_type": "code",
   "execution_count": 20,
   "metadata": {},
   "outputs": [
    {
     "name": "stdout",
     "output_type": "stream",
     "text": [
      "3200\n",
      "800\n"
     ]
    }
   ],
   "source": [
    "# тренировочную выборку поделим на собственно тренировочную и валидационную. Проводить валидацию на тестовой выборке всё-таки не очень хорошо\n",
    "train_sents, val_sents, train_tags, val_tags = train_test_split(train_sents, train_tags, test_size=0.2, shuffle=True)\n",
    "print(len(train_sents))\n",
    "print(len(val_sents))"
   ]
  },
  {
   "cell_type": "code",
   "execution_count": 21,
   "metadata": {},
   "outputs": [
    {
     "name": "stdout",
     "output_type": "stream",
     "text": [
      "50\n",
      "12\n",
      "15\n"
     ]
    }
   ],
   "source": [
    "epochs = 10\n",
    "steps = int(len(train_sents)/batch_size) # считаем шаги для генератора\n",
    "print(steps)\n",
    "val_steps = int(len(val_sents)/batch_size)\n",
    "print(val_steps)\n",
    "test_steps = int(len(test_sents)/batch_size)\n",
    "print(test_steps)\n",
    "n_hidden = 128 # возьмём средненькое, чтобы можно было вверх и вниз менять\n",
    "embed_size = 100"
   ]
  },
  {
   "cell_type": "markdown",
   "metadata": {},
   "source": [
    "## Создание и обучение моделей <a id=\"train\"></a>"
   ]
  },
  {
   "cell_type": "markdown",
   "metadata": {},
   "source": [
    "Раз более сложные архитектуры работают плохо, то сразу перейдём к упрощённым моделям"
   ]
  },
  {
   "cell_type": "code",
   "execution_count": 23,
   "metadata": {},
   "outputs": [],
   "source": [
    "for model_type in ['simple', 'lstm', 'bilstm', 'gru']:\n",
    "    try:\n",
    "        makedirs('fi\\\\easy-{}'.format(model_type))\n",
    "    except OSError:\n",
    "        pass"
   ]
  },
  {
   "cell_type": "markdown",
   "metadata": {},
   "source": [
    "### SimpleRNN"
   ]
  },
  {
   "cell_type": "code",
   "execution_count": 24,
   "metadata": {
    "scrolled": false
   },
   "outputs": [
    {
     "name": "stdout",
     "output_type": "stream",
     "text": [
      "_________________________________________________________________\n",
      "Layer (type)                 Output Shape              Param #   \n",
      "=================================================================\n",
      "embedding_1 (Embedding)      (None, 68, 100)           1380900   \n",
      "_________________________________________________________________\n",
      "simple_rnn_1 (SimpleRNN)     (None, 68, 128)           29312     \n",
      "_________________________________________________________________\n",
      "dense_1 (Dense)              (None, 68, 19)            2451      \n",
      "=================================================================\n",
      "Total params: 1,412,663\n",
      "Trainable params: 1,412,663\n",
      "Non-trainable params: 0\n",
      "_________________________________________________________________\n"
     ]
    }
   ],
   "source": [
    "easy_simple = Sequential()\n",
    "easy_simple.add(Embedding(n_words, embed_size, input_length=max_len))\n",
    "easy_simple.add(SimpleRNN(n_hidden, return_sequences=True, unroll=True))\n",
    "easy_simple.add(Dense(n_tags, activation=\"softmax\"))\n",
    "\n",
    "easy_simple.compile(loss=\"categorical_crossentropy\", optimizer=\"adam\", metrics=['acc'])\n",
    "easy_simple.summary()"
   ]
  },
  {
   "cell_type": "code",
   "execution_count": 25,
   "metadata": {
    "scrolled": true
   },
   "outputs": [
    {
     "name": "stdout",
     "output_type": "stream",
     "text": [
      "Epoch 1/10\n",
      "50/50 [==============================] - 14s 275ms/step - loss: 0.6576 - acc: 0.8562 - val_loss: 0.4389 - val_acc: 0.8825\n",
      "\n",
      "Epoch 00001: saving model to fi\\easy-simple\\fi-easy_model-1.h5\n",
      "Epoch 2/10\n",
      "50/50 [==============================] - 8s 155ms/step - loss: 0.3757 - acc: 0.8960 - val_loss: 0.3483 - val_acc: 0.8965\n",
      "\n",
      "Epoch 00002: saving model to fi\\easy-simple\\fi-easy_model-2.h5\n",
      "Epoch 3/10\n",
      "50/50 [==============================] - 8s 158ms/step - loss: 0.3081 - acc: 0.9202 - val_loss: 0.3008 - val_acc: 0.9223\n",
      "\n",
      "Epoch 00003: saving model to fi\\easy-simple\\fi-easy_model-3.h5\n",
      "Epoch 4/10\n",
      "50/50 [==============================] - 8s 154ms/step - loss: 0.2647 - acc: 0.9354 - val_loss: 0.2700 - val_acc: 0.9303\n",
      "\n",
      "Epoch 00004: saving model to fi\\easy-simple\\fi-easy_model-4.h5\n",
      "Epoch 5/10\n",
      "50/50 [==============================] - 8s 164ms/step - loss: 0.2323 - acc: 0.9427 - val_loss: 0.2454 - val_acc: 0.9342\n",
      "\n",
      "Epoch 00005: saving model to fi\\easy-simple\\fi-easy_model-5.h5\n",
      "Epoch 6/10\n",
      "50/50 [==============================] - 7s 145ms/step - loss: 0.1986 - acc: 0.9507 - val_loss: 0.2196 - val_acc: 0.9404\n",
      "\n",
      "Epoch 00006: saving model to fi\\easy-simple\\fi-easy_model-6.h5\n",
      "Epoch 7/10\n",
      "50/50 [==============================] - 8s 154ms/step - loss: 0.1650 - acc: 0.9590 - val_loss: 0.1975 - val_acc: 0.9460\n",
      "\n",
      "Epoch 00007: saving model to fi\\easy-simple\\fi-easy_model-7.h5\n",
      "Epoch 8/10\n",
      "50/50 [==============================] - 8s 151ms/step - loss: 0.1322 - acc: 0.9686 - val_loss: 0.1776 - val_acc: 0.9523\n",
      "\n",
      "Epoch 00008: saving model to fi\\easy-simple\\fi-easy_model-8.h5\n",
      "Epoch 9/10\n",
      "50/50 [==============================] - 8s 156ms/step - loss: 0.1020 - acc: 0.9771 - val_loss: 0.1617 - val_acc: 0.9563\n",
      "\n",
      "Epoch 00009: saving model to fi\\easy-simple\\fi-easy_model-9.h5\n",
      "Epoch 10/10\n",
      "50/50 [==============================] - 9s 182ms/step - loss: 0.0766 - acc: 0.9842 - val_loss: 0.1453 - val_acc: 0.9594\n",
      "\n",
      "Epoch 00010: saving model to fi\\easy-simple\\fi-easy_model-10.h5\n"
     ]
    }
   ],
   "source": [
    "checkpoint = ModelCheckpoint('fi\\\\easy-simple\\\\fi-easy_model-{epoch}.h5', verbose=1, save_best_only=False, save_weights_only=True)\n",
    "easy_simple_history = easy_simple.fit_generator(\n",
    "    generator=gen_batch(train_sents, train_tags, batch_size), \n",
    "    steps_per_epoch=steps,\n",
    "    validation_data=gen_batch(val_sents, val_tags, batch_size),\n",
    "    validation_steps=val_steps,\n",
    "    epochs=epochs, verbose=1, callbacks=[checkpoint])\n",
    "dump(easy_simple_history.history, open('fi\\\\easy-simple\\\\fi-easy_model-history.json','w', encoding='utf-8'))"
   ]
  },
  {
   "cell_type": "markdown",
   "metadata": {},
   "source": [
    "### LSTM"
   ]
  },
  {
   "cell_type": "code",
   "execution_count": 26,
   "metadata": {
    "scrolled": true
   },
   "outputs": [
    {
     "name": "stdout",
     "output_type": "stream",
     "text": [
      "_________________________________________________________________\n",
      "Layer (type)                 Output Shape              Param #   \n",
      "=================================================================\n",
      "embedding_2 (Embedding)      (None, 68, 100)           1380900   \n",
      "_________________________________________________________________\n",
      "lstm_1 (LSTM)                (None, 68, 128)           117248    \n",
      "_________________________________________________________________\n",
      "dense_2 (Dense)              (None, 68, 19)            2451      \n",
      "=================================================================\n",
      "Total params: 1,500,599\n",
      "Trainable params: 1,500,599\n",
      "Non-trainable params: 0\n",
      "_________________________________________________________________\n"
     ]
    }
   ],
   "source": [
    "easy_lstm = Sequential()\n",
    "easy_lstm.add(Embedding(n_words, embed_size, input_length=max_len))\n",
    "easy_lstm.add(LSTM(n_hidden, return_sequences=True, unroll=True))\n",
    "easy_lstm.add(Dense(n_tags, activation=\"softmax\"))\n",
    "\n",
    "easy_lstm.compile(loss=\"categorical_crossentropy\", optimizer=\"adam\", metrics=['acc'])\n",
    "easy_lstm.summary()"
   ]
  },
  {
   "cell_type": "code",
   "execution_count": 27,
   "metadata": {
    "scrolled": true
   },
   "outputs": [
    {
     "name": "stdout",
     "output_type": "stream",
     "text": [
      "Epoch 1/10\n",
      "50/50 [==============================] - 51s 1s/step - loss: 0.8805 - acc: 0.8579 - val_loss: 0.4370 - val_acc: 0.8751\n",
      "\n",
      "Epoch 00001: saving model to fi\\easy-lstm\\fi-easy_model-1.h5\n",
      "Epoch 2/10\n",
      "50/50 [==============================] - 14s 281ms/step - loss: 0.4044 - acc: 0.8776 - val_loss: 0.3997 - val_acc: 0.8761\n",
      "\n",
      "Epoch 00002: saving model to fi\\easy-lstm\\fi-easy_model-2.h5\n",
      "Epoch 3/10\n",
      "50/50 [==============================] - 17s 335ms/step - loss: 0.3660 - acc: 0.8793 - val_loss: 0.3783 - val_acc: 0.8789\n",
      "\n",
      "Epoch 00003: saving model to fi\\easy-lstm\\fi-easy_model-3.h5\n",
      "Epoch 4/10\n",
      "50/50 [==============================] - 16s 315ms/step - loss: 0.3380 - acc: 0.8865 - val_loss: 0.3487 - val_acc: 0.8950\n",
      "\n",
      "Epoch 00004: saving model to fi\\easy-lstm\\fi-easy_model-4.h5\n",
      "Epoch 5/10\n",
      "50/50 [==============================] - 15s 301ms/step - loss: 0.3134 - acc: 0.9011 - val_loss: 0.3178 - val_acc: 0.9115\n",
      "\n",
      "Epoch 00005: saving model to fi\\easy-lstm\\fi-easy_model-5.h5\n",
      "Epoch 6/10\n",
      "50/50 [==============================] - 15s 297ms/step - loss: 0.2914 - acc: 0.9136 - val_loss: 0.2976 - val_acc: 0.9137\n",
      "\n",
      "Epoch 00006: saving model to fi\\easy-lstm\\fi-easy_model-6.h5\n",
      "Epoch 7/10\n",
      "50/50 [==============================] - 15s 296ms/step - loss: 0.2758 - acc: 0.9170 - val_loss: 0.2891 - val_acc: 0.9157\n",
      "\n",
      "Epoch 00007: saving model to fi\\easy-lstm\\fi-easy_model-7.h5\n",
      "Epoch 8/10\n",
      "50/50 [==============================] - 15s 294ms/step - loss: 0.2626 - acc: 0.9222 - val_loss: 0.2767 - val_acc: 0.9196\n",
      "\n",
      "Epoch 00008: saving model to fi\\easy-lstm\\fi-easy_model-8.h5\n",
      "Epoch 9/10\n",
      "50/50 [==============================] - 15s 292ms/step - loss: 0.2467 - acc: 0.9310 - val_loss: 0.2617 - val_acc: 0.9265\n",
      "\n",
      "Epoch 00009: saving model to fi\\easy-lstm\\fi-easy_model-9.h5\n",
      "Epoch 10/10\n",
      "50/50 [==============================] - 15s 295ms/step - loss: 0.2255 - acc: 0.9360 - val_loss: 0.2437 - val_acc: 0.9291\n",
      "\n",
      "Epoch 00010: saving model to fi\\easy-lstm\\fi-easy_model-10.h5\n"
     ]
    }
   ],
   "source": [
    "checkpoint = ModelCheckpoint('fi\\\\easy-lstm\\\\fi-easy_model-{epoch}.h5', verbose=1, save_best_only=False, save_weights_only=True)\n",
    "easy_lstm_history = easy_lstm.fit_generator(\n",
    "    generator=gen_batch(train_sents, train_tags, batch_size), \n",
    "    steps_per_epoch=steps,\n",
    "    validation_data=gen_batch(val_sents, val_tags, batch_size),\n",
    "    validation_steps=val_steps,\n",
    "    epochs=epochs, verbose=1, callbacks=[checkpoint])\n",
    "dump(easy_lstm_history.history, open('fi\\\\easy-lstm\\\\fi-easy_model-history.json','w', encoding='utf-8'))"
   ]
  },
  {
   "cell_type": "markdown",
   "metadata": {},
   "source": [
    "### BiLSTM"
   ]
  },
  {
   "cell_type": "code",
   "execution_count": 28,
   "metadata": {
    "scrolled": false
   },
   "outputs": [
    {
     "name": "stdout",
     "output_type": "stream",
     "text": [
      "_________________________________________________________________\n",
      "Layer (type)                 Output Shape              Param #   \n",
      "=================================================================\n",
      "embedding_3 (Embedding)      (None, 68, 100)           1380900   \n",
      "_________________________________________________________________\n",
      "bidirectional_1 (Bidirection (None, 68, 256)           234496    \n",
      "_________________________________________________________________\n",
      "dense_3 (Dense)              (None, 68, 19)            4883      \n",
      "=================================================================\n",
      "Total params: 1,620,279\n",
      "Trainable params: 1,620,279\n",
      "Non-trainable params: 0\n",
      "_________________________________________________________________\n"
     ]
    }
   ],
   "source": [
    "easy_bilstm = Sequential()\n",
    "easy_bilstm.add(Embedding(n_words, embed_size, input_length=max_len))\n",
    "easy_bilstm.add(Bidirectional(LSTM(n_hidden, return_sequences=True, unroll=True)))\n",
    "easy_bilstm.add(Dense(n_tags, activation=\"softmax\"))\n",
    "\n",
    "easy_bilstm.compile(loss=\"categorical_crossentropy\", optimizer=\"adam\", metrics=['acc'])\n",
    "easy_bilstm.summary()"
   ]
  },
  {
   "cell_type": "code",
   "execution_count": 29,
   "metadata": {
    "scrolled": true
   },
   "outputs": [
    {
     "name": "stdout",
     "output_type": "stream",
     "text": [
      "Epoch 1/10\n",
      "50/50 [==============================] - 143s 3s/step - loss: 0.8106 - acc: 0.8667 - val_loss: 0.3602 - val_acc: 0.8955\n",
      "\n",
      "Epoch 00001: saving model to fi\\easy-bilstm\\fi-easy_model-1.h5\n",
      "Epoch 2/10\n",
      "50/50 [==============================] - 44s 883ms/step - loss: 0.3328 - acc: 0.8985 - val_loss: 0.3167 - val_acc: 0.9030\n",
      "\n",
      "Epoch 00002: saving model to fi\\easy-bilstm\\fi-easy_model-2.h5\n",
      "Epoch 3/10\n",
      "50/50 [==============================] - 43s 855ms/step - loss: 0.2990 - acc: 0.9051 - val_loss: 0.2942 - val_acc: 0.9113\n",
      "\n",
      "Epoch 00003: saving model to fi\\easy-bilstm\\fi-easy_model-3.h5\n",
      "Epoch 4/10\n",
      "50/50 [==============================] - 47s 932ms/step - loss: 0.2755 - acc: 0.9163 - val_loss: 0.2779 - val_acc: 0.9137\n",
      "\n",
      "Epoch 00004: saving model to fi\\easy-bilstm\\fi-easy_model-4.h5\n",
      "Epoch 5/10\n",
      "50/50 [==============================] - 50s 1s/step - loss: 0.2570 - acc: 0.9198 - val_loss: 0.2619 - val_acc: 0.9176\n",
      "\n",
      "Epoch 00005: saving model to fi\\easy-bilstm\\fi-easy_model-5.h5\n",
      "Epoch 6/10\n",
      "50/50 [==============================] - 47s 940ms/step - loss: 0.2412 - acc: 0.9266 - val_loss: 0.2442 - val_acc: 0.9228\n",
      "\n",
      "Epoch 00006: saving model to fi\\easy-bilstm\\fi-easy_model-6.h5\n",
      "Epoch 7/10\n",
      "50/50 [==============================] - 47s 947ms/step - loss: 0.2254 - acc: 0.9312 - val_loss: 0.2265 - val_acc: 0.9266\n",
      "\n",
      "Epoch 00007: saving model to fi\\easy-bilstm\\fi-easy_model-7.h5\n",
      "Epoch 8/10\n",
      "50/50 [==============================] - 48s 966ms/step - loss: 0.2032 - acc: 0.9404 - val_loss: 0.2062 - val_acc: 0.9347\n",
      "\n",
      "Epoch 00008: saving model to fi\\easy-bilstm\\fi-easy_model-8.h5\n",
      "Epoch 9/10\n",
      "50/50 [==============================] - 48s 953ms/step - loss: 0.1669 - acc: 0.9536 - val_loss: 0.1790 - val_acc: 0.9444\n",
      "\n",
      "Epoch 00009: saving model to fi\\easy-bilstm\\fi-easy_model-9.h5\n",
      "Epoch 10/10\n",
      "50/50 [==============================] - 45s 895ms/step - loss: 0.1253 - acc: 0.9642 - val_loss: 0.1532 - val_acc: 0.9501\n",
      "\n",
      "Epoch 00010: saving model to fi\\easy-bilstm\\fi-easy_model-10.h5\n"
     ]
    }
   ],
   "source": [
    "checkpoint = ModelCheckpoint('fi\\\\easy-bilstm\\\\fi-easy_model-{epoch}.h5', verbose=1, save_best_only=False, save_weights_only=True)\n",
    "easy_bilstm_history = easy_bilstm.fit_generator(\n",
    "    generator=gen_batch(train_sents, train_tags, batch_size), \n",
    "    steps_per_epoch=steps,\n",
    "    validation_data=gen_batch(val_sents, val_tags, batch_size),\n",
    "    validation_steps=val_steps,\n",
    "    epochs=epochs, verbose=1, callbacks=[checkpoint])\n",
    "dump(easy_bilstm_history.history, open('fi\\\\easy-bilstm\\\\fi-easy_model-history.json','w', encoding='utf-8'))"
   ]
  },
  {
   "cell_type": "markdown",
   "metadata": {},
   "source": [
    "### GRU"
   ]
  },
  {
   "cell_type": "code",
   "execution_count": 30,
   "metadata": {
    "scrolled": false
   },
   "outputs": [
    {
     "name": "stdout",
     "output_type": "stream",
     "text": [
      "_________________________________________________________________\n",
      "Layer (type)                 Output Shape              Param #   \n",
      "=================================================================\n",
      "embedding_4 (Embedding)      (None, 68, 100)           1380900   \n",
      "_________________________________________________________________\n",
      "gru_1 (GRU)                  (None, 68, 128)           87936     \n",
      "_________________________________________________________________\n",
      "dense_4 (Dense)              (None, 68, 19)            2451      \n",
      "=================================================================\n",
      "Total params: 1,471,287\n",
      "Trainable params: 1,471,287\n",
      "Non-trainable params: 0\n",
      "_________________________________________________________________\n"
     ]
    }
   ],
   "source": [
    "easy_gru = Sequential()\n",
    "easy_gru.add(Embedding(n_words, embed_size, input_length=max_len))\n",
    "easy_gru.add(GRU(n_hidden, return_sequences=True, unroll=True))\n",
    "easy_gru.add(Dense(n_tags, activation=\"softmax\"))\n",
    "\n",
    "easy_gru.compile(loss=\"categorical_crossentropy\", optimizer=\"adam\", metrics=['acc'])\n",
    "easy_gru.summary()"
   ]
  },
  {
   "cell_type": "code",
   "execution_count": 31,
   "metadata": {
    "scrolled": true
   },
   "outputs": [
    {
     "name": "stdout",
     "output_type": "stream",
     "text": [
      "Epoch 1/10\n",
      "50/50 [==============================] - 67s 1s/step - loss: 0.9476 - acc: 0.8599 - val_loss: 0.3929 - val_acc: 0.8823\n",
      "\n",
      "Epoch 00001: saving model to fi\\easy-gru\\fi-easy_model-1.h5\n",
      "Epoch 2/10\n",
      "50/50 [==============================] - 28s 555ms/step - loss: 0.3753 - acc: 0.8856 - val_loss: 0.3663 - val_acc: 0.8829\n",
      "\n",
      "Epoch 00002: saving model to fi\\easy-gru\\fi-easy_model-2.h5\n",
      "Epoch 3/10\n",
      "50/50 [==============================] - 30s 591ms/step - loss: 0.3507 - acc: 0.8917 - val_loss: 0.3419 - val_acc: 0.8913\n",
      "\n",
      "Epoch 00003: saving model to fi\\easy-gru\\fi-easy_model-3.h5\n",
      "Epoch 4/10\n",
      "50/50 [==============================] - 28s 559ms/step - loss: 0.3197 - acc: 0.9066 - val_loss: 0.3105 - val_acc: 0.9117\n",
      "\n",
      "Epoch 00004: saving model to fi\\easy-gru\\fi-easy_model-4.h5\n",
      "Epoch 5/10\n",
      "50/50 [==============================] - 28s 552ms/step - loss: 0.2802 - acc: 0.9197 - val_loss: 0.2722 - val_acc: 0.9233\n",
      "\n",
      "Epoch 00005: saving model to fi\\easy-gru\\fi-easy_model-5.h5\n",
      "Epoch 6/10\n",
      "50/50 [==============================] - 30s 593ms/step - loss: 0.2404 - acc: 0.9338 - val_loss: 0.2407 - val_acc: 0.9303\n",
      "\n",
      "Epoch 00006: saving model to fi\\easy-gru\\fi-easy_model-6.h5\n",
      "Epoch 7/10\n",
      "50/50 [==============================] - 29s 581ms/step - loss: 0.1981 - acc: 0.9417 - val_loss: 0.2079 - val_acc: 0.9410\n",
      "\n",
      "Epoch 00007: saving model to fi\\easy-gru\\fi-easy_model-7.h5\n",
      "Epoch 8/10\n",
      "50/50 [==============================] - 29s 586ms/step - loss: 0.1526 - acc: 0.9589 - val_loss: 0.1787 - val_acc: 0.9517\n",
      "\n",
      "Epoch 00008: saving model to fi\\easy-gru\\fi-easy_model-8.h5\n",
      "Epoch 9/10\n",
      "50/50 [==============================] - 29s 578ms/step - loss: 0.1103 - acc: 0.9730 - val_loss: 0.1568 - val_acc: 0.9571\n",
      "\n",
      "Epoch 00009: saving model to fi\\easy-gru\\fi-easy_model-9.h5\n",
      "Epoch 10/10\n",
      "50/50 [==============================] - 29s 573ms/step - loss: 0.0775 - acc: 0.9827 - val_loss: 0.1403 - val_acc: 0.9602\n",
      "\n",
      "Epoch 00010: saving model to fi\\easy-gru\\fi-easy_model-10.h5\n"
     ]
    }
   ],
   "source": [
    "checkpoint = ModelCheckpoint('fi\\\\easy-gru\\\\fi-easy_model-{epoch}.h5', verbose=1, save_best_only=False, save_weights_only=True)\n",
    "easy_gru_history = easy_gru.fit_generator(\n",
    "    generator=gen_batch(train_sents, train_tags, batch_size), \n",
    "    steps_per_epoch=steps,\n",
    "    validation_data=gen_batch(val_sents, val_tags, batch_size),\n",
    "    validation_steps=val_steps,\n",
    "    epochs=epochs, verbose=1, callbacks=[checkpoint])\n",
    "dump(easy_gru_history.history, open('fi\\\\easy-gru\\\\fi-easy_model-history.json','w', encoding='utf-8'))"
   ]
  },
  {
   "cell_type": "markdown",
   "metadata": {},
   "source": [
    "На финском керас стал какой-то скоростной. Кажется, это из-за максимальной длины последовательности -- здесь она в два раза короче."
   ]
  },
  {
   "cell_type": "markdown",
   "metadata": {},
   "source": [
    "## Графики"
   ]
  },
  {
   "cell_type": "code",
   "execution_count": 33,
   "metadata": {},
   "outputs": [],
   "source": [
    "# функции для визуализации красоты\n",
    "\n",
    "def vis_loss(history):\n",
    "    history_dict = history.history\n",
    "    loss_values = history_dict['loss']\n",
    "    val_loss_values = history_dict['val_loss']\n",
    "\n",
    "    epochs = range(1, len(history_dict['acc']) + 1)\n",
    "\n",
    "    plt.plot(epochs, loss_values, 'bo', label='Training loss') # пришлось делать точечками, а не линиями, потому что иначе не чётко видно эпохи на графике\n",
    "    plt.plot(epochs, val_loss_values, 'ro', label='Validation loss')\n",
    "    plt.title('Training and validation loss')\n",
    "    plt.xlabel('Epochs')\n",
    "    plt.ylabel('Loss')\n",
    "    plt.legend()\n",
    "\n",
    "    plt.show()\n",
    "    \n",
    "def vis_acc(history):\n",
    "    history_dict = history.history\n",
    "    acc_values = history_dict['acc']\n",
    "    val_acc_values = history_dict['val_acc']\n",
    "\n",
    "    epochs = range(1, len(history_dict['acc']) + 1)\n",
    "\n",
    "    plt.plot(epochs, acc_values, 'bo', label='Training acc')\n",
    "    plt.plot(epochs, val_acc_values, 'ro', label='Validation acc')\n",
    "    plt.title('Training and validation accuracy')\n",
    "    plt.xlabel('Epochs')\n",
    "    plt.ylabel('Accuracy')\n",
    "    plt.legend()\n",
    "\n",
    "    plt.show()"
   ]
  },
  {
   "cell_type": "code",
   "execution_count": 34,
   "metadata": {
    "scrolled": false
   },
   "outputs": [
    {
     "data": {
      "image/png": "[encoded data removed]",
      "text/plain": [
       "<Figure size 432x288 with 1 Axes>"
      ]
     },
     "metadata": {
      "needs_background": "light"
     },
     "output_type": "display_data"
    },
    {
     "data": {
      "image/png": "[encoded data removed]",
      "text/plain": [
       "<Figure size 432x288 with 1 Axes>"
      ]
     },
     "metadata": {
      "needs_background": "light"
     },
     "output_type": "display_data"
    }
   ],
   "source": [
    "vis_loss(easy_simple_history)\n",
    "vis_acc(easy_simple_history)"
   ]
  },
  {
   "cell_type": "code",
   "execution_count": 35,
   "metadata": {
    "scrolled": false
   },
   "outputs": [
    {
     "data": {
      "image/png": "[encoded data removed]",
      "text/plain": [
       "<Figure size 432x288 with 1 Axes>"
      ]
     },
     "metadata": {
      "needs_background": "light"
     },
     "output_type": "display_data"
    },
    {
     "data": {
      "image/png": "[encoded data removed]",
      "text/plain": [
       "<Figure size 432x288 with 1 Axes>"
      ]
     },
     "metadata": {
      "needs_background": "light"
     },
     "output_type": "display_data"
    }
   ],
   "source": [
    "vis_loss(easy_lstm_history)\n",
    "vis_acc(easy_lstm_history)"
   ]
  },
  {
   "cell_type": "code",
   "execution_count": 36,
   "metadata": {
    "scrolled": false
   },
   "outputs": [
    {
     "data": {
      "image/png": "[encoded data removed]",
      "text/plain": [
       "<Figure size 432x288 with 1 Axes>"
      ]
     },
     "metadata": {
      "needs_background": "light"
     },
     "output_type": "display_data"
    },
    {
     "data": {
      "image/png": "[encoded data removed]",
      "text/plain": [
       "<Figure size 432x288 with 1 Axes>"
      ]
     },
     "metadata": {
      "needs_background": "light"
     },
     "output_type": "display_data"
    }
   ],
   "source": [
    "vis_loss(easy_bilstm_history)\n",
    "vis_acc(easy_bilstm_history)"
   ]
  },
  {
   "cell_type": "code",
   "execution_count": 37,
   "metadata": {
    "scrolled": false
   },
   "outputs": [
    {
     "data": {
      "image/png": "[encoded data removed]",
      "text/plain": [
       "<Figure size 432x288 with 1 Axes>"
      ]
     },
     "metadata": {
      "needs_background": "light"
     },
     "output_type": "display_data"
    },
    {
     "data": {
      "image/png": "[encoded data removed]",
      "text/plain": [
       "<Figure size 432x288 with 1 Axes>"
      ]
     },
     "metadata": {
      "needs_background": "light"
     },
     "output_type": "display_data"
    }
   ],
   "source": [
    "vis_loss(easy_gru_history)\n",
    "vis_acc(easy_gru_history)"
   ]
  },
  {
   "cell_type": "code",
   "execution_count": 38,
   "metadata": {},
   "outputs": [],
   "source": [
    "# нигде снова не переобучились, ура-ура"
   ]
  },
  {
   "cell_type": "markdown",
   "metadata": {},
   "source": [
    "## Оценка"
   ]
  },
  {
   "cell_type": "code",
   "execution_count": 39,
   "metadata": {},
   "outputs": [],
   "source": [
    "# последняя, не будем подгружать\n",
    "easy_simple_evals = easy_simple.evaluate_generator(gen_batch(test_sents, test_tags, batch_size), steps=test_steps, max_queue_size=max_len)"
   ]
  },
  {
   "cell_type": "code",
   "execution_count": 40,
   "metadata": {},
   "outputs": [],
   "source": [
    "easy_lstm_evals = easy_lstm.evaluate_generator(gen_batch(test_sents, test_tags, batch_size), steps=test_steps, max_queue_size=max_len)"
   ]
  },
  {
   "cell_type": "code",
   "execution_count": 41,
   "metadata": {},
   "outputs": [],
   "source": [
    "easy_bilstm_evals = easy_bilstm.evaluate_generator(gen_batch(test_sents, test_tags, batch_size), steps=test_steps, max_queue_size=max_len)"
   ]
  },
  {
   "cell_type": "code",
   "execution_count": 42,
   "metadata": {},
   "outputs": [],
   "source": [
    "easy_gru_evals = easy_gru.evaluate_generator(gen_batch(test_sents, test_tags, batch_size), steps=test_steps, max_queue_size=max_len)"
   ]
  },
  {
   "cell_type": "code",
   "execution_count": 43,
   "metadata": {},
   "outputs": [
    {
     "name": "stdout",
     "output_type": "stream",
     "text": [
      "\n",
      "\tLoss\tAcc\n",
      "Simple:\t0.14977\t0.95957\n",
      "LSTM:\t0.25046\t0.92684\n",
      "BiLSTM:\t0.16054\t0.94833\n",
      "GRU:\t0.13954\t0.96071\n"
     ]
    }
   ],
   "source": [
    "print('''\n",
    "\\tLoss\\tAcc\n",
    "Simple:\\t{}\\t{}\n",
    "LSTM:\\t{}\\t{}\n",
    "BiLSTM:\\t{}\\t{}\n",
    "GRU:\\t{}\\t{}'''.format(\n",
    "    round(easy_simple_evals[0], 5), round(easy_simple_evals[1], 5),\n",
    "    round(easy_lstm_evals[0], 5), round(easy_lstm_evals[1], 5),\n",
    "    round(easy_bilstm_evals[0], 5), round(easy_bilstm_evals[1], 5), \n",
    "    round(easy_gru_evals[0], 5), round(easy_gru_evals[1], 5)))"
   ]
  },
  {
   "cell_type": "code",
   "execution_count": 45,
   "metadata": {},
   "outputs": [],
   "source": [
    "def decode_sequences(preds): \n",
    "    dec_tags = []\n",
    "    dec_seqs = []\n",
    "    for i, pred in enumerate(preds):\n",
    "        #print(i, pred.shape)\n",
    "        dec_seq = []\n",
    "        for vector in pred:\n",
    "            #print(vector.shape, vector)\n",
    "            max_idx = np.argmax(vector)\n",
    "            #print(max_idx, np.max(vector))\n",
    "            #print()\n",
    "            dec_seq.append(max_idx)\n",
    "            #print(i, dec_seq)\n",
    "        dec_seqs.append(dec_seq)\n",
    "        \n",
    "        decoded = [i2t[idx] for idx in dec_seq if idx != 0] # обрубаем маддинги\n",
    "        #print(decoded)\n",
    "        dec_tags.append(decoded)\n",
    "        #print('+'*50)\n",
    "    return dec_seqs, dec_tags"
   ]
  },
  {
   "cell_type": "code",
   "execution_count": 46,
   "metadata": {
    "scrolled": false
   },
   "outputs": [
    {
     "name": "stdout",
     "output_type": "stream",
     "text": [
      "(960, 68, 19)\n",
      "['part', 'noun', 'sconj', 'noun', 'verb', 'noun', 'punct', 'pron', 'verb', 'verb', 'noun', 'num']\n",
      "['part', 'noun', 'sconj', 'verb', 'noun', 'noun', 'punct', 'pron', 'verb', 'noun', 'noun', 'adj', 'noun']\n",
      "\n",
      "['noun', 'verb', 'verb', 'noun', 'noun', 'noun', 'verb', 'noun', 'punct']\n",
      "['noun', 'noun', 'noun', 'noun', 'noun', 'noun', 'noun', 'noun', 'punct']\n",
      "\n",
      "['intj', 'sconj', 'verb', 'part', 'num', 'noun', 'adv', 'propn', 'propn', 'verb', 'punct']\n",
      "['verb', 'sconj', 'verb', 'part', 'noun', 'noun', 'adv', 'noun', 'noun', 'noun', 'punct']\n",
      "\n"
     ]
    }
   ],
   "source": [
    "easy_simple_pred = easy_simple.predict_generator(gen_batch(test_sents_clean, test_tags, batch_size), steps=int(len(test_sents_clean)/batch_size))\n",
    "print(easy_simple_pred.shape)\n",
    "easy_simple_seqs, easy_simple_tags = decode_sequences(easy_simple_pred)\n",
    "for i in range(3):\n",
    "    print(test_tags[i])\n",
    "    #print(dec_seqs[i])\n",
    "    print(easy_simple_tags[i])\n",
    "    print()"
   ]
  },
  {
   "cell_type": "code",
   "execution_count": 47,
   "metadata": {
    "scrolled": true
   },
   "outputs": [
    {
     "name": "stdout",
     "output_type": "stream",
     "text": [
      "(960, 68, 19)\n",
      "['part', 'noun', 'sconj', 'noun', 'verb', 'noun', 'punct', 'pron', 'verb', 'verb', 'noun', 'num']\n",
      "['noun', 'noun', 'noun', 'noun', 'noun', 'noun', 'punct', 'noun', 'verb', 'noun', 'noun', 'noun', 'noun']\n",
      "\n",
      "['noun', 'verb', 'verb', 'noun', 'noun', 'noun', 'verb', 'noun', 'punct']\n",
      "['verb', 'verb', 'verb', 'noun', 'noun', 'noun', 'noun', 'noun', 'punct']\n",
      "\n",
      "['intj', 'sconj', 'verb', 'part', 'num', 'noun', 'adv', 'propn', 'propn', 'verb', 'punct']\n",
      "['verb', 'verb', 'verb', 'verb', 'noun', 'noun', 'noun', 'noun', 'noun', 'noun', 'punct']\n",
      "\n"
     ]
    }
   ],
   "source": [
    "easy_lstm_pred = easy_lstm.predict_generator(gen_batch(test_sents_clean, test_tags, batch_size), steps=int(len(test_sents_clean)/batch_size))\n",
    "print(easy_lstm_pred.shape)\n",
    "easy_lstm_seqs, easy_lstm_tags = decode_sequences(easy_lstm_pred)\n",
    "for i in range(3):\n",
    "    print(test_tags[i])\n",
    "    #print(dec_seqs[i])\n",
    "    print(easy_lstm_tags[i])\n",
    "    print()"
   ]
  },
  {
   "cell_type": "code",
   "execution_count": 48,
   "metadata": {
    "scrolled": true
   },
   "outputs": [
    {
     "name": "stdout",
     "output_type": "stream",
     "text": [
      "(960, 68, 19)\n",
      "['part', 'noun', 'sconj', 'noun', 'verb', 'noun', 'punct', 'pron', 'verb', 'verb', 'noun', 'num']\n",
      "['adv', 'noun', 'verb', 'noun', 'noun', 'noun', 'punct', 'pron', 'verb', 'verb', 'noun', 'adj']\n",
      "\n",
      "['noun', 'verb', 'verb', 'noun', 'noun', 'noun', 'verb', 'noun', 'punct']\n",
      "['noun', 'noun', 'noun', 'noun', 'noun', 'verb', 'verb', 'noun', 'punct']\n",
      "\n",
      "['intj', 'sconj', 'verb', 'part', 'num', 'noun', 'adv', 'propn', 'propn', 'verb', 'punct']\n",
      "['verb', 'verb', 'verb', 'verb', 'noun', 'verb', 'adv', 'noun', 'verb', 'noun', 'punct']\n",
      "\n"
     ]
    }
   ],
   "source": [
    "easy_bilstm_pred = easy_bilstm.predict_generator(gen_batch(test_sents_clean, test_tags, batch_size), steps=int(len(test_sents_clean)/batch_size))\n",
    "print(easy_bilstm_pred.shape)\n",
    "easy_bilstm_seqs, easy_bilstm_tags = decode_sequences(easy_bilstm_pred)\n",
    "for i in range(3):\n",
    "    print(test_tags[i])\n",
    "    #print(dec_seqs[i])\n",
    "    print(easy_bilstm_tags[i])\n",
    "    print()"
   ]
  },
  {
   "cell_type": "code",
   "execution_count": 49,
   "metadata": {
    "scrolled": true
   },
   "outputs": [
    {
     "name": "stdout",
     "output_type": "stream",
     "text": [
      "(960, 68, 19)\n",
      "['part', 'noun', 'sconj', 'noun', 'verb', 'noun', 'punct', 'pron', 'verb', 'verb', 'noun', 'num']\n",
      "['part', 'noun', 'sconj', 'noun', 'noun', 'noun', 'punct', 'pron', 'verb', 'noun', 'noun', 'noun', 'noun']\n",
      "\n",
      "['noun', 'verb', 'verb', 'noun', 'noun', 'noun', 'verb', 'noun', 'punct']\n",
      "['noun', 'noun', 'noun', 'noun', 'noun', 'noun', 'noun', 'noun', 'punct']\n",
      "\n",
      "['intj', 'sconj', 'verb', 'part', 'num', 'noun', 'adv', 'propn', 'propn', 'verb', 'punct']\n",
      "['verb', 'sconj', 'verb', 'part', 'propn', 'adj', 'adv', 'propn', 'noun', 'noun', 'punct']\n",
      "\n"
     ]
    }
   ],
   "source": [
    "easy_gru_pred = easy_gru.predict_generator(gen_batch(test_sents_clean, test_tags, batch_size), steps=int(len(test_sents_clean)/batch_size))\n",
    "print(easy_gru_pred.shape)\n",
    "easy_gru_seqs, easy_gru_tags = decode_sequences(easy_gru_pred)\n",
    "for i in range(3):\n",
    "    print(test_tags[i])\n",
    "    #print(dec_seqs[i])\n",
    "    print(easy_gru_tags[i])\n",
    "    print()"
   ]
  },
  {
   "cell_type": "code",
   "execution_count": 50,
   "metadata": {
    "scrolled": true
   },
   "outputs": [],
   "source": [
    "def bleu_eval(target, predicted):\n",
    "    bleu_1, bleu_2, bleu_3, bleu_4 = 0, 0, 0, 0 \n",
    "    sm = SmoothingFunction()\n",
    "    for t, p in zip(target, predicted):\n",
    "        bleu_1 += sentence_bleu([t], p, weights=(1.0, 0, 0, 0), smoothing_function=sm.method1) # поюсуем эпсилон\n",
    "        bleu_2 += sentence_bleu([t], p, weights=(0.5, 0.5, 0, 0), smoothing_function=sm.method1)\n",
    "        bleu_3 += sentence_bleu([t], p, weights=(0.3, 0.3, 0.3, 0), smoothing_function=sm.method1)\n",
    "        bleu_4 += sentence_bleu([t], p, weights=(0.25, 0.25, 0.25, 0.25), smoothing_function=sm.method1)\n",
    "    bleu_1 = bleu_1/len(target)\n",
    "    bleu_2 = bleu_2/len(target)\n",
    "    bleu_3 = bleu_3/len(target)\n",
    "    bleu_4 = bleu_4/len(target)\n",
    "    return bleu_1, bleu_2, bleu_3, bleu_4"
   ]
  },
  {
   "cell_type": "code",
   "execution_count": 51,
   "metadata": {},
   "outputs": [],
   "source": [
    "simple_bleu_1, simple_bleu_2, simple_bleu_3, simple_bleu_4 = bleu_eval(test_tags[:1088], easy_simple_tags)"
   ]
  },
  {
   "cell_type": "code",
   "execution_count": 52,
   "metadata": {},
   "outputs": [],
   "source": [
    "lstm_bleu_1, lstm_bleu_2, lstm_bleu_3, lstm_bleu_4 = bleu_eval(test_tags[:1088], easy_lstm_tags)"
   ]
  },
  {
   "cell_type": "code",
   "execution_count": 53,
   "metadata": {},
   "outputs": [],
   "source": [
    "bilstm_bleu_1, bilstm_bleu_2, bilstm_bleu_3, bilstm_bleu_4 = bleu_eval(test_tags[:1088], easy_bilstm_tags)"
   ]
  },
  {
   "cell_type": "code",
   "execution_count": 54,
   "metadata": {},
   "outputs": [],
   "source": [
    "gru_bleu_1, gru_bleu_2, gru_bleu_3, gru_bleu_4 = bleu_eval(test_tags[:1088], easy_gru_tags)"
   ]
  },
  {
   "cell_type": "code",
   "execution_count": 55,
   "metadata": {},
   "outputs": [
    {
     "name": "stdout",
     "output_type": "stream",
     "text": [
      "\n",
      "\t\tBLEU-1\tBLEU-2\tBLEU-3\tBLEU-4\n",
      "SimpleRNN:\t0.711\t0.569\t0.465\t0.343\n",
      "LSTM\t\t0.51\t0.319\t0.319\t0.125\n",
      "BiLSTM:\t\t0.651\t0.487\t0.487\t0.26\n",
      "GRU:\t\t0.692\t0.559\t0.465\t0.346\n",
      "\n"
     ]
    }
   ],
   "source": [
    "print('''\n",
    "\\t\\tBLEU-1\\tBLEU-2\\tBLEU-3\\tBLEU-4\n",
    "SimpleRNN:\\t{}\\t{}\\t{}\\t{}\n",
    "LSTM\\t\\t{}\\t{}\\t{}\\t{}\n",
    "BiLSTM:\\t\\t{}\\t{}\\t{}\\t{}\n",
    "GRU:\\t\\t{}\\t{}\\t{}\\t{}\n",
    "'''.format(round(simple_bleu_1, 3), round(simple_bleu_2, 3), round(simple_bleu_3, 3), round(simple_bleu_4, 3),\n",
    "           round(lstm_bleu_1, 3), round(lstm_bleu_2, 3), round(lstm_bleu_2, 3), round(lstm_bleu_4, 3),\n",
    "           round(bilstm_bleu_1, 3), round(bilstm_bleu_2, 3), round(bilstm_bleu_2, 3), round(bilstm_bleu_4, 3),\n",
    "           round(gru_bleu_1, 3), round(gru_bleu_2, 3), round(gru_bleu_3, 3), round(gru_bleu_4, 3)))"
   ]
  },
  {
   "cell_type": "markdown",
   "metadata": {},
   "source": [
    "LSTM снова хуже всех, но и в целом у всех моделей результаты не ахти. Но у нас 60% тестовых слов не было в тренировочном корпусе, а тегов довольно много. Снова поигремся с LSTM"
   ]
  },
  {
   "cell_type": "markdown",
   "metadata": {},
   "source": [
    "# Эксперименты с размерностью"
   ]
  },
  {
   "cell_type": "markdown",
   "metadata": {},
   "source": [
    "### 64"
   ]
  },
  {
   "cell_type": "code",
   "execution_count": 56,
   "metadata": {
    "scrolled": true
   },
   "outputs": [
    {
     "name": "stdout",
     "output_type": "stream",
     "text": [
      "_________________________________________________________________\n",
      "Layer (type)                 Output Shape              Param #   \n",
      "=================================================================\n",
      "embedding_5 (Embedding)      (None, 68, 100)           1380900   \n",
      "_________________________________________________________________\n",
      "lstm_3 (LSTM)                (None, 68, 64)            42240     \n",
      "_________________________________________________________________\n",
      "dense_5 (Dense)              (None, 68, 19)            1235      \n",
      "=================================================================\n",
      "Total params: 1,424,375\n",
      "Trainable params: 1,424,375\n",
      "Non-trainable params: 0\n",
      "_________________________________________________________________\n"
     ]
    }
   ],
   "source": [
    "lstm_64 = Sequential()\n",
    "lstm_64.add(Embedding(n_words, embed_size, input_length=max_len))\n",
    "lstm_64.add(LSTM(64, return_sequences=True, unroll=True))\n",
    "lstm_64.add(Dense(n_tags, activation=\"softmax\"))\n",
    "\n",
    "lstm_64.compile(loss=\"categorical_crossentropy\", optimizer=\"adam\", metrics=['acc'])\n",
    "lstm_64.summary()"
   ]
  },
  {
   "cell_type": "code",
   "execution_count": 57,
   "metadata": {
    "scrolled": true
   },
   "outputs": [
    {
     "name": "stdout",
     "output_type": "stream",
     "text": [
      "Epoch 1/10\n",
      "50/50 [==============================] - 59s 1s/step - loss: 1.1437 - acc: 0.8580 - val_loss: 0.4482 - val_acc: 0.8738\n",
      "\n",
      "Epoch 00001: saving model to fi\\easy-lstm\\fi-64_model-1.h5\n",
      "Epoch 2/10\n",
      "50/50 [==============================] - 14s 276ms/step - loss: 0.4066 - acc: 0.8775 - val_loss: 0.4019 - val_acc: 0.8748\n",
      "\n",
      "Epoch 00002: saving model to fi\\easy-lstm\\fi-64_model-2.h5\n",
      "Epoch 3/10\n",
      "50/50 [==============================] - 13s 270ms/step - loss: 0.3717 - acc: 0.8809 - val_loss: 0.3703 - val_acc: 0.8825\n",
      "\n",
      "Epoch 00003: saving model to fi\\easy-lstm\\fi-64_model-3.h5\n",
      "Epoch 4/10\n",
      "50/50 [==============================] - 15s 295ms/step - loss: 0.3448 - acc: 0.8860 - val_loss: 0.3407 - val_acc: 0.8997\n",
      "\n",
      "Epoch 00004: saving model to fi\\easy-lstm\\fi-64_model-4.h5\n",
      "Epoch 5/10\n",
      "50/50 [==============================] - 13s 268ms/step - loss: 0.3164 - acc: 0.9032 - val_loss: 0.3155 - val_acc: 0.9182\n",
      "\n",
      "Epoch 00005: saving model to fi\\easy-lstm\\fi-64_model-5.h5\n",
      "Epoch 6/10\n",
      "50/50 [==============================] - 13s 269ms/step - loss: 0.2919 - acc: 0.9208 - val_loss: 0.2957 - val_acc: 0.9218\n",
      "\n",
      "Epoch 00006: saving model to fi\\easy-lstm\\fi-64_model-6.h5\n",
      "Epoch 7/10\n",
      "50/50 [==============================] - 15s 291ms/step - loss: 0.2706 - acc: 0.9233 - val_loss: 0.2776 - val_acc: 0.9236\n",
      "\n",
      "Epoch 00007: saving model to fi\\easy-lstm\\fi-64_model-7.h5\n",
      "Epoch 8/10\n",
      "50/50 [==============================] - 16s 310ms/step - loss: 0.2497 - acc: 0.9286 - val_loss: 0.2596 - val_acc: 0.9283\n",
      "\n",
      "Epoch 00008: saving model to fi\\easy-lstm\\fi-64_model-8.h5\n",
      "Epoch 9/10\n",
      "50/50 [==============================] - 15s 305ms/step - loss: 0.2282 - acc: 0.9331 - val_loss: 0.2440 - val_acc: 0.9301\n",
      "\n",
      "Epoch 00009: saving model to fi\\easy-lstm\\fi-64_model-9.h5\n",
      "Epoch 10/10\n",
      "50/50 [==============================] - 14s 279ms/step - loss: 0.2066 - acc: 0.9376 - val_loss: 0.2253 - val_acc: 0.9331\n",
      "\n",
      "Epoch 00010: saving model to fi\\easy-lstm\\fi-64_model-10.h5\n"
     ]
    }
   ],
   "source": [
    "checkpoint = ModelCheckpoint('fi\\\\easy-lstm\\\\fi-64_model-{epoch}.h5', verbose=1, save_best_only=False, save_weights_only=True)\n",
    "lstm_64_history = lstm_64.fit_generator(\n",
    "    generator=gen_batch(train_sents, train_tags, batch_size), \n",
    "    steps_per_epoch=steps,\n",
    "    validation_data=gen_batch(val_sents, val_tags, batch_size),\n",
    "    validation_steps=val_steps,\n",
    "    epochs=epochs, verbose=1, callbacks=[checkpoint])\n",
    "dump(lstm_64_history.history, open('fi\\\\easy-lstm\\\\fi-64_model-history.json','w', encoding='utf-8'))"
   ]
  },
  {
   "cell_type": "markdown",
   "metadata": {},
   "source": [
    "### 256"
   ]
  },
  {
   "cell_type": "code",
   "execution_count": 58,
   "metadata": {
    "scrolled": true
   },
   "outputs": [
    {
     "name": "stdout",
     "output_type": "stream",
     "text": [
      "_________________________________________________________________\n",
      "Layer (type)                 Output Shape              Param #   \n",
      "=================================================================\n",
      "embedding_6 (Embedding)      (None, 68, 100)           1380900   \n",
      "_________________________________________________________________\n",
      "lstm_4 (LSTM)                (None, 68, 256)           365568    \n",
      "_________________________________________________________________\n",
      "dense_6 (Dense)              (None, 68, 19)            4883      \n",
      "=================================================================\n",
      "Total params: 1,751,351\n",
      "Trainable params: 1,751,351\n",
      "Non-trainable params: 0\n",
      "_________________________________________________________________\n"
     ]
    }
   ],
   "source": [
    "lstm_256 = Sequential()\n",
    "lstm_256.add(Embedding(n_words, embed_size, input_length=max_len))\n",
    "lstm_256.add(LSTM(256, return_sequences=True, unroll=True))\n",
    "lstm_256.add(Dense(n_tags, activation=\"softmax\"))\n",
    "\n",
    "lstm_256.compile(loss=\"categorical_crossentropy\", optimizer=\"adam\", metrics=['acc'])\n",
    "lstm_256.summary()"
   ]
  },
  {
   "cell_type": "code",
   "execution_count": 59,
   "metadata": {
    "scrolled": true
   },
   "outputs": [
    {
     "name": "stdout",
     "output_type": "stream",
     "text": [
      "Epoch 1/10\n",
      "50/50 [==============================] - 148s 3s/step - loss: 0.7608 - acc: 0.8741 - val_loss: 0.4247 - val_acc: 0.8742\n",
      "\n",
      "Epoch 00001: saving model to fi\\easy-lstm\\fi-256_model-1.h5\n",
      "Epoch 2/10\n",
      "50/50 [==============================] - 106s 2s/step - loss: 0.3911 - acc: 0.8755 - val_loss: 0.3681 - val_acc: 0.8748\n",
      "\n",
      "Epoch 00002: saving model to fi\\easy-lstm\\fi-256_model-2.h5\n",
      "Epoch 3/10\n",
      "50/50 [==============================] - 104s 2s/step - loss: 0.3522 - acc: 0.8781 - val_loss: 0.3492 - val_acc: 0.8821\n",
      "\n",
      "Epoch 00003: saving model to fi\\easy-lstm\\fi-256_model-3.h5\n",
      "Epoch 4/10\n",
      "50/50 [==============================] - 106s 2s/step - loss: 0.3337 - acc: 0.8869 - val_loss: 0.3409 - val_acc: 0.8996\n",
      "\n",
      "Epoch 00004: saving model to fi\\easy-lstm\\fi-256_model-4.h5\n",
      "Epoch 5/10\n",
      "50/50 [==============================] - 105s 2s/step - loss: 0.3160 - acc: 0.8972 - val_loss: 0.3180 - val_acc: 0.9082\n",
      "\n",
      "Epoch 00005: saving model to fi\\easy-lstm\\fi-256_model-5.h5\n",
      "Epoch 6/10\n",
      "50/50 [==============================] - 107s 2s/step - loss: 0.2946 - acc: 0.9099 - val_loss: 0.3010 - val_acc: 0.9135\n",
      "\n",
      "Epoch 00006: saving model to fi\\easy-lstm\\fi-256_model-6.h5\n",
      "Epoch 7/10\n",
      "50/50 [==============================] - 119s 2s/step - loss: 0.2787 - acc: 0.9146 - val_loss: 0.2899 - val_acc: 0.9148\n",
      "\n",
      "Epoch 00007: saving model to fi\\easy-lstm\\fi-256_model-7.h5\n",
      "Epoch 8/10\n",
      "50/50 [==============================] - 119s 2s/step - loss: 0.2678 - acc: 0.9185 - val_loss: 0.2849 - val_acc: 0.9148\n",
      "\n",
      "Epoch 00008: saving model to fi\\easy-lstm\\fi-256_model-8.h5\n",
      "Epoch 9/10\n",
      "50/50 [==============================] - 115s 2s/step - loss: 0.2578 - acc: 0.9214 - val_loss: 0.2800 - val_acc: 0.9159\n",
      "\n",
      "Epoch 00009: saving model to fi\\easy-lstm\\fi-256_model-9.h5\n",
      "Epoch 10/10\n",
      "50/50 [==============================] - 116s 2s/step - loss: 0.2448 - acc: 0.9262 - val_loss: 0.2697 - val_acc: 0.9200\n",
      "\n",
      "Epoch 00010: saving model to fi\\easy-lstm\\fi-256_model-10.h5\n"
     ]
    }
   ],
   "source": [
    "checkpoint = ModelCheckpoint('fi\\\\easy-lstm\\\\fi-256_model-{epoch}.h5', verbose=1, save_best_only=False, save_weights_only=True)\n",
    "lstm_256_history = lstm_256.fit_generator(\n",
    "    generator=gen_batch(train_sents, train_tags, batch_size), \n",
    "    steps_per_epoch=steps,\n",
    "    validation_data=gen_batch(val_sents, val_tags, batch_size),\n",
    "    validation_steps=val_steps,\n",
    "    epochs=epochs, verbose=1, callbacks=[checkpoint])\n",
    "dump(lstm_256_history.history, open('fi\\\\easy-lstm\\\\fi-256_model-history.json','w', encoding='utf-8'))"
   ]
  },
  {
   "cell_type": "code",
   "execution_count": 60,
   "metadata": {
    "scrolled": false
   },
   "outputs": [
    {
     "data": {
      "image/png": "[encoded data removed]",
      "text/plain": [
       "<Figure size 432x288 with 1 Axes>"
      ]
     },
     "metadata": {
      "needs_background": "light"
     },
     "output_type": "display_data"
    },
    {
     "data": {
      "image/png": "[encoded data removed]",
      "text/plain": [
       "<Figure size 432x288 with 1 Axes>"
      ]
     },
     "metadata": {
      "needs_background": "light"
     },
     "output_type": "display_data"
    }
   ],
   "source": [
    "vis_loss(lstm_64.history)\n",
    "vis_acc(lstm_64.history)"
   ]
  },
  {
   "cell_type": "code",
   "execution_count": 61,
   "metadata": {
    "scrolled": false
   },
   "outputs": [
    {
     "data": {
      "image/png": "[encoded data removed]",
      "text/plain": [
       "<Figure size 432x288 with 1 Axes>"
      ]
     },
     "metadata": {
      "needs_background": "light"
     },
     "output_type": "display_data"
    },
    {
     "data": {
      "image/png": "[encoded data removed]",
      "text/plain": [
       "<Figure size 432x288 with 1 Axes>"
      ]
     },
     "metadata": {
      "needs_background": "light"
     },
     "output_type": "display_data"
    }
   ],
   "source": [
    "vis_loss(lstm_256.history)\n",
    "vis_acc(lstm_256.history)"
   ]
  },
  {
   "cell_type": "markdown",
   "metadata": {},
   "source": [
    "Это похоже на цепочку ДНК)"
   ]
  },
  {
   "cell_type": "code",
   "execution_count": 62,
   "metadata": {},
   "outputs": [],
   "source": [
    "evals_64 = lstm_64.evaluate_generator(gen_batch(test_sents, test_tags, batch_size), steps=test_steps, max_queue_size=max_len)"
   ]
  },
  {
   "cell_type": "code",
   "execution_count": 63,
   "metadata": {},
   "outputs": [],
   "source": [
    "evals_256 = lstm_256.evaluate_generator(gen_batch(test_sents, test_tags, batch_size), steps=test_steps, max_queue_size=max_len)"
   ]
  },
  {
   "cell_type": "code",
   "execution_count": 64,
   "metadata": {},
   "outputs": [
    {
     "name": "stdout",
     "output_type": "stream",
     "text": [
      "\n",
      "\tLoss\tAcc\n",
      "64:\t0.23225\t0.9315\n",
      "128:\t0.25046\t0.92684\n",
      "256:\t0.27986\t0.91906\n"
     ]
    }
   ],
   "source": [
    "print('''\n",
    "\\tLoss\\tAcc\n",
    "64:\\t{}\\t{}\n",
    "128:\\t{}\\t{}\n",
    "256:\\t{}\\t{}'''.format(\n",
    "    round(evals_64[0], 5), round(evals_64[1], 5),\n",
    "    round(easy_lstm_evals[0], 5), round(easy_lstm_evals[1], 5),\n",
    "    round(evals_256[0], 5), round(evals_256[1], 5)))"
   ]
  },
  {
   "cell_type": "code",
   "execution_count": 65,
   "metadata": {
    "scrolled": false
   },
   "outputs": [
    {
     "name": "stdout",
     "output_type": "stream",
     "text": [
      "['part', 'noun', 'sconj', 'noun', 'verb', 'noun', 'punct', 'pron', 'verb', 'verb', 'noun', 'num']\n",
      "['noun', 'noun', 'noun', 'noun', 'noun', 'noun', 'punct', 'noun', 'verb', 'noun', 'noun', 'noun', 'noun']\n",
      "\n",
      "['noun', 'verb', 'verb', 'noun', 'noun', 'noun', 'verb', 'noun', 'punct']\n",
      "['noun', 'noun', 'noun', 'noun', 'noun', 'noun', 'noun', 'noun', 'punct']\n",
      "\n",
      "['intj', 'sconj', 'verb', 'part', 'num', 'noun', 'adv', 'propn', 'propn', 'verb', 'punct']\n",
      "['verb', 'verb', 'verb', 'noun', 'noun', 'noun', 'noun', 'noun', 'noun', 'noun', 'punct']\n",
      "\n"
     ]
    }
   ],
   "source": [
    "pred_64 = lstm_64.predict_generator(gen_batch(test_sents_clean, test_tags, batch_size), steps=int(len(test_sents_clean)/batch_size))\n",
    "seqs_64, tags_64 = decode_sequences(pred_64)\n",
    "for i in range(3):\n",
    "    print(test_tags[i])\n",
    "    #print(dec_seqs[i])\n",
    "    print(tags_64[i])\n",
    "    print()"
   ]
  },
  {
   "cell_type": "code",
   "execution_count": 66,
   "metadata": {},
   "outputs": [],
   "source": [
    "# хотя эо модель с лучшей точностью из трёх, всё равно как-то не очень"
   ]
  },
  {
   "cell_type": "code",
   "execution_count": 67,
   "metadata": {
    "scrolled": true
   },
   "outputs": [
    {
     "name": "stdout",
     "output_type": "stream",
     "text": [
      "(960, 68, 19)\n",
      "['part', 'noun', 'sconj', 'noun', 'verb', 'noun', 'punct', 'pron', 'verb', 'verb', 'noun', 'num']\n",
      "['noun', 'noun', 'noun', 'noun', 'noun', 'noun', 'punct', 'noun', 'verb', 'noun', 'noun', 'noun', 'noun']\n",
      "\n",
      "['noun', 'verb', 'verb', 'noun', 'noun', 'noun', 'verb', 'noun', 'punct']\n",
      "['verb', 'verb', 'verb', 'noun', 'noun', 'noun', 'noun', 'noun', 'punct']\n",
      "\n",
      "['intj', 'sconj', 'verb', 'part', 'num', 'noun', 'adv', 'propn', 'propn', 'verb', 'punct']\n",
      "['verb', 'verb', 'verb', 'verb', 'noun', 'noun', 'noun', 'noun', 'noun', 'noun', 'punct']\n",
      "\n"
     ]
    }
   ],
   "source": [
    "# это старое\n",
    "easy_lstm_pred = easy_lstm.predict_generator(gen_batch(test_sents_clean, test_tags, batch_size), steps=int(len(test_sents_clean)/batch_size))\n",
    "print(easy_lstm_pred.shape)\n",
    "easy_lstm_seqs, easy_lstm_tags = decode_sequences(easy_lstm_pred)\n",
    "for i in range(3):\n",
    "    print(test_tags[i])\n",
    "    #print(dec_seqs[i])\n",
    "    print(easy_lstm_tags[i])\n",
    "    print()"
   ]
  },
  {
   "cell_type": "code",
   "execution_count": 68,
   "metadata": {
    "scrolled": false
   },
   "outputs": [
    {
     "name": "stdout",
     "output_type": "stream",
     "text": [
      "['part', 'noun', 'sconj', 'noun', 'verb', 'noun', 'punct', 'pron', 'verb', 'verb', 'noun', 'num']\n",
      "['verb', 'verb', 'verb', 'verb', 'verb', 'noun', 'noun', 'verb', 'verb', 'noun', 'noun', 'noun', 'punct']\n",
      "\n",
      "['noun', 'verb', 'verb', 'noun', 'noun', 'noun', 'verb', 'noun', 'punct']\n",
      "['verb', 'verb', 'verb', 'noun', 'noun', 'noun', 'noun', 'noun', 'punct']\n",
      "\n",
      "['intj', 'sconj', 'verb', 'part', 'num', 'noun', 'adv', 'propn', 'propn', 'verb', 'punct']\n",
      "['verb', 'verb', 'verb', 'verb', 'verb', 'verb', 'verb', 'verb', 'noun', 'noun', 'punct']\n",
      "\n"
     ]
    }
   ],
   "source": [
    "pred_256 = lstm_256.predict_generator(gen_batch(test_sents_clean, test_tags, batch_size), steps=int(len(test_sents_clean)/batch_size))\n",
    "seqs_256, tags_256 = decode_sequences(pred_256)\n",
    "for i in range(3):\n",
    "    print(test_tags[i])\n",
    "    #print(dec_seqs[i])\n",
    "    print(tags_256[i])\n",
    "    print()"
   ]
  },
  {
   "cell_type": "code",
   "execution_count": 69,
   "metadata": {},
   "outputs": [],
   "source": [
    "bleu_64_1, bleu_64_2, bleu_64_3, bleu_64_4 = bleu_eval(test_tags[:1088], tags_64)"
   ]
  },
  {
   "cell_type": "code",
   "execution_count": 70,
   "metadata": {},
   "outputs": [],
   "source": [
    "bleu_256_1, bleu_256_2, bleu_256_3, bleu_256_4 = bleu_eval(test_tags[:1088], tags_256)"
   ]
  },
  {
   "cell_type": "code",
   "execution_count": 71,
   "metadata": {},
   "outputs": [
    {
     "name": "stdout",
     "output_type": "stream",
     "text": [
      "\n",
      "\tBLEU-1\tBLEU-2\tBLEU-3\tBLEU-4\n",
      "64:\t0.523\t0.341\t0.235\t0.138\n",
      "128\t0.51\t0.319\t0.319\t0.125\n",
      "256:\t0.469\t0.289\t0.289\t0.112\n",
      "\n"
     ]
    }
   ],
   "source": [
    "print('''\n",
    "\\tBLEU-1\\tBLEU-2\\tBLEU-3\\tBLEU-4\n",
    "64:\\t{}\\t{}\\t{}\\t{}\n",
    "128\\t{}\\t{}\\t{}\\t{}\n",
    "256:\\t{}\\t{}\\t{}\\t{}\n",
    "'''.format(round(bleu_64_1, 3), round(bleu_64_2, 3), round(bleu_64_3, 3), round(bleu_64_4, 3),\n",
    "           round(lstm_bleu_1, 3), round(lstm_bleu_2, 3), round(lstm_bleu_2, 3), round(lstm_bleu_4, 3),\n",
    "           round(bleu_256_1, 3), round(bleu_256_2, 3), round(bleu_256_2, 3), round(bleu_256_4, 3)))"
   ]
  },
  {
   "cell_type": "code",
   "execution_count": 73,
   "metadata": {},
   "outputs": [],
   "source": [
    "# 64 капельку лучше на 1, 2 и 4 но зато сильно хуже на триграммах, так что его мы не возьмём"
   ]
  },
  {
   "cell_type": "markdown",
   "metadata": {},
   "source": [
    "# Эксперименты с эмбеддингами"
   ]
  },
  {
   "cell_type": "markdown",
   "metadata": {},
   "source": [
    "### 50"
   ]
  },
  {
   "cell_type": "code",
   "execution_count": 74,
   "metadata": {
    "scrolled": true
   },
   "outputs": [
    {
     "name": "stdout",
     "output_type": "stream",
     "text": [
      "_________________________________________________________________\n",
      "Layer (type)                 Output Shape              Param #   \n",
      "=================================================================\n",
      "embedding_7 (Embedding)      (None, 68, 50)            690450    \n",
      "_________________________________________________________________\n",
      "lstm_5 (LSTM)                (None, 68, 128)           91648     \n",
      "_________________________________________________________________\n",
      "dense_7 (Dense)              (None, 68, 19)            2451      \n",
      "=================================================================\n",
      "Total params: 784,549\n",
      "Trainable params: 784,549\n",
      "Non-trainable params: 0\n",
      "_________________________________________________________________\n"
     ]
    }
   ],
   "source": [
    "lstm_50 = Sequential()\n",
    "lstm_50.add(Embedding(n_words, 50, input_length=max_len))\n",
    "lstm_50.add(LSTM(n_hidden, return_sequences=True, unroll=True))\n",
    "lstm_50.add(Dense(n_tags, activation=\"softmax\"))\n",
    "\n",
    "lstm_50.compile(loss=\"categorical_crossentropy\", optimizer=\"adam\", metrics=['acc'])\n",
    "lstm_50.summary()"
   ]
  },
  {
   "cell_type": "code",
   "execution_count": 75,
   "metadata": {
    "scrolled": true
   },
   "outputs": [
    {
     "name": "stdout",
     "output_type": "stream",
     "text": [
      "Epoch 1/10\n",
      "50/50 [==============================] - 104s 2s/step - loss: 0.9956 - acc: 0.8405 - val_loss: 0.4695 - val_acc: 0.8738\n",
      "\n",
      "Epoch 00001: saving model to fi\\easy-lstm\\fi-50_model-1.h5\n",
      "Epoch 2/10\n",
      "50/50 [==============================] - 61s 1s/step - loss: 0.4291 - acc: 0.8755 - val_loss: 0.4244 - val_acc: 0.8751\n",
      "\n",
      "Epoch 00002: saving model to fi\\easy-lstm\\fi-50_model-2.h5\n",
      "Epoch 3/10\n",
      "50/50 [==============================] - 61s 1s/step - loss: 0.3793 - acc: 0.8778 - val_loss: 0.3886 - val_acc: 0.8780\n",
      "\n",
      "Epoch 00003: saving model to fi\\easy-lstm\\fi-50_model-3.h5\n",
      "Epoch 4/10\n",
      "50/50 [==============================] - 57s 1s/step - loss: 0.3514 - acc: 0.8812 - val_loss: 0.3687 - val_acc: 0.8843\n",
      "\n",
      "Epoch 00004: saving model to fi\\easy-lstm\\fi-50_model-4.h5\n",
      "Epoch 5/10\n",
      "50/50 [==============================] - 57s 1s/step - loss: 0.3280 - acc: 0.8926 - val_loss: 0.3820 - val_acc: 0.8957\n",
      "\n",
      "Epoch 00005: saving model to fi\\easy-lstm\\fi-50_model-5.h5\n",
      "Epoch 6/10\n",
      "50/50 [==============================] - 61s 1s/step - loss: 0.3086 - acc: 0.9054 - val_loss: 0.3181 - val_acc: 0.9109\n",
      "\n",
      "Epoch 00006: saving model to fi\\easy-lstm\\fi-50_model-6.h5\n",
      "Epoch 7/10\n",
      "50/50 [==============================] - 61s 1s/step - loss: 0.2923 - acc: 0.9119 - val_loss: 0.3039 - val_acc: 0.9111\n",
      "\n",
      "Epoch 00007: saving model to fi\\easy-lstm\\fi-50_model-7.h5\n",
      "Epoch 8/10\n",
      "50/50 [==============================] - 62s 1s/step - loss: 0.2804 - acc: 0.9140 - val_loss: 0.2994 - val_acc: 0.9111\n",
      "\n",
      "Epoch 00008: saving model to fi\\easy-lstm\\fi-50_model-8.h5\n",
      "Epoch 9/10\n",
      "50/50 [==============================] - 61s 1s/step - loss: 0.2719 - acc: 0.9160 - val_loss: 0.2898 - val_acc: 0.9127\n",
      "\n",
      "Epoch 00009: saving model to fi\\easy-lstm\\fi-50_model-9.h5\n",
      "Epoch 10/10\n",
      "50/50 [==============================] - 68s 1s/step - loss: 0.2637 - acc: 0.9183 - val_loss: 0.2827 - val_acc: 0.9140\n",
      "\n",
      "Epoch 00010: saving model to fi\\easy-lstm\\fi-50_model-10.h5\n"
     ]
    }
   ],
   "source": [
    "checkpoint = ModelCheckpoint('fi\\\\easy-lstm\\\\fi-50_model-{epoch}.h5', verbose=1, save_best_only=False, save_weights_only=True)\n",
    "lstm_50_history = lstm_50.fit_generator(\n",
    "    generator=gen_batch(train_sents, train_tags, batch_size), \n",
    "    steps_per_epoch=steps,\n",
    "    validation_data=gen_batch(val_sents, val_tags, batch_size),\n",
    "    validation_steps=val_steps,\n",
    "    epochs=epochs, verbose=1, callbacks=[checkpoint])\n",
    "dump(lstm_50_history.history, open('fi\\\\easy-lstm\\\\fi-50_model-history.json','w', encoding='utf-8'))"
   ]
  },
  {
   "cell_type": "markdown",
   "metadata": {},
   "source": [
    "### 150"
   ]
  },
  {
   "cell_type": "code",
   "execution_count": 76,
   "metadata": {
    "scrolled": true
   },
   "outputs": [
    {
     "name": "stdout",
     "output_type": "stream",
     "text": [
      "_________________________________________________________________\n",
      "Layer (type)                 Output Shape              Param #   \n",
      "=================================================================\n",
      "embedding_8 (Embedding)      (None, 68, 100)           1380900   \n",
      "_________________________________________________________________\n",
      "lstm_6 (LSTM)                (None, 68, 256)           365568    \n",
      "_________________________________________________________________\n",
      "dense_8 (Dense)              (None, 68, 19)            4883      \n",
      "=================================================================\n",
      "Total params: 1,751,351\n",
      "Trainable params: 1,751,351\n",
      "Non-trainable params: 0\n",
      "_________________________________________________________________\n"
     ]
    }
   ],
   "source": [
    "lstm_150 = Sequential()\n",
    "lstm_150.add(Embedding(n_words, embed_size, input_length=max_len))\n",
    "lstm_150.add(LSTM(256, return_sequences=True, unroll=True))\n",
    "lstm_150.add(Dense(n_tags, activation=\"softmax\"))\n",
    "\n",
    "lstm_150.compile(loss=\"categorical_crossentropy\", optimizer=\"adam\", metrics=['acc'])\n",
    "lstm_150.summary()"
   ]
  },
  {
   "cell_type": "code",
   "execution_count": 77,
   "metadata": {
    "scrolled": true
   },
   "outputs": [
    {
     "name": "stdout",
     "output_type": "stream",
     "text": [
      "Epoch 1/10\n",
      "50/50 [==============================] - 213s 4s/step - loss: 0.7601 - acc: 0.8576 - val_loss: 0.4319 - val_acc: 0.8752\n",
      "\n",
      "Epoch 00001: saving model to fi\\easy-lstm\\fi-150_model-1.h5\n",
      "Epoch 2/10\n",
      "50/50 [==============================] - 175s 3s/step - loss: 0.3912 - acc: 0.8797 - val_loss: 0.3648 - val_acc: 0.8776\n",
      "\n",
      "Epoch 00002: saving model to fi\\easy-lstm\\fi-150_model-2.h5\n",
      "Epoch 3/10\n",
      "50/50 [==============================] - 177s 4s/step - loss: 0.3454 - acc: 0.8831 - val_loss: 0.3364 - val_acc: 0.8930\n",
      "\n",
      "Epoch 00003: saving model to fi\\easy-lstm\\fi-150_model-3.h5\n",
      "Epoch 4/10\n",
      "50/50 [==============================] - 168s 3s/step - loss: 0.3142 - acc: 0.8993 - val_loss: 0.3177 - val_acc: 0.9098\n",
      "\n",
      "Epoch 00004: saving model to fi\\easy-lstm\\fi-150_model-4.h5\n",
      "Epoch 5/10\n",
      "50/50 [==============================] - 164s 3s/step - loss: 0.2887 - acc: 0.9121 - val_loss: 0.2936 - val_acc: 0.9134\n",
      "\n",
      "Epoch 00005: saving model to fi\\easy-lstm\\fi-150_model-5.h5\n",
      "Epoch 6/10\n",
      "50/50 [==============================] - 170s 3s/step - loss: 0.2739 - acc: 0.9168 - val_loss: 0.2845 - val_acc: 0.9163\n",
      "\n",
      "Epoch 00006: saving model to fi\\easy-lstm\\fi-150_model-6.h5\n",
      "Epoch 7/10\n",
      "50/50 [==============================] - 169s 3s/step - loss: 0.2604 - acc: 0.9214 - val_loss: 0.2736 - val_acc: 0.9196\n",
      "\n",
      "Epoch 00007: saving model to fi\\easy-lstm\\fi-150_model-7.h5\n",
      "Epoch 8/10\n",
      "50/50 [==============================] - 159s 3s/step - loss: 0.2449 - acc: 0.9264 - val_loss: 0.2543 - val_acc: 0.9241\n",
      "\n",
      "Epoch 00008: saving model to fi\\easy-lstm\\fi-150_model-8.h5\n",
      "Epoch 9/10\n",
      "50/50 [==============================] - 164s 3s/step - loss: 0.2230 - acc: 0.9320 - val_loss: 0.2362 - val_acc: 0.9296\n",
      "\n",
      "Epoch 00009: saving model to fi\\easy-lstm\\fi-150_model-9.h5\n",
      "Epoch 10/10\n",
      "50/50 [==============================] - 157s 3s/step - loss: 0.1959 - acc: 0.9390 - val_loss: 0.2179 - val_acc: 0.9337\n",
      "\n",
      "Epoch 00010: saving model to fi\\easy-lstm\\fi-150_model-10.h5\n"
     ]
    }
   ],
   "source": [
    "checkpoint = ModelCheckpoint('fi\\\\easy-lstm\\\\fi-150_model-{epoch}.h5', verbose=1, save_best_only=False, save_weights_only=True)\n",
    "lstm_150_history = lstm_150.fit_generator(\n",
    "    generator=gen_batch(train_sents, train_tags, batch_size), \n",
    "    steps_per_epoch=steps,\n",
    "    validation_data=gen_batch(val_sents, val_tags, batch_size),\n",
    "    validation_steps=val_steps,\n",
    "    epochs=epochs, verbose=1, callbacks=[checkpoint])\n",
    "dump(lstm_150_history.history, open('fi\\\\easy-lstm\\\\fi-150_model-history.json','w', encoding='utf-8'))"
   ]
  },
  {
   "cell_type": "code",
   "execution_count": 78,
   "metadata": {
    "scrolled": false
   },
   "outputs": [
    {
     "data": {
      "image/png": "[encoded data removed]",
      "text/plain": [
       "<Figure size 432x288 with 1 Axes>"
      ]
     },
     "metadata": {
      "needs_background": "light"
     },
     "output_type": "display_data"
    },
    {
     "data": {
      "image/png": "[encoded data removed]",
      "text/plain": [
       "<Figure size 432x288 with 1 Axes>"
      ]
     },
     "metadata": {
      "needs_background": "light"
     },
     "output_type": "display_data"
    }
   ],
   "source": [
    "vis_loss(lstm_50.history)\n",
    "vis_acc(lstm_50.history)"
   ]
  },
  {
   "cell_type": "code",
   "execution_count": 79,
   "metadata": {
    "scrolled": false
   },
   "outputs": [
    {
     "data": {
      "image/png": "[encoded data removed]",
      "text/plain": [
       "<Figure size 432x288 with 1 Axes>"
      ]
     },
     "metadata": {
      "needs_background": "light"
     },
     "output_type": "display_data"
    },
    {
     "data": {
      "image/png": "[encoded data removed]",
      "text/plain": [
       "<Figure size 432x288 with 1 Axes>"
      ]
     },
     "metadata": {
      "needs_background": "light"
     },
     "output_type": "display_data"
    }
   ],
   "source": [
    "vis_loss(lstm_150.history)\n",
    "vis_acc(lstm_150.history)"
   ]
  },
  {
   "cell_type": "code",
   "execution_count": 80,
   "metadata": {},
   "outputs": [],
   "source": [
    "evals_50 = lstm_50.evaluate_generator(gen_batch(test_sents, test_tags, batch_size), steps=test_steps, max_queue_size=max_len)"
   ]
  },
  {
   "cell_type": "code",
   "execution_count": 81,
   "metadata": {},
   "outputs": [],
   "source": [
    "evals_150 = lstm_150.evaluate_generator(gen_batch(test_sents, test_tags, batch_size), steps=test_steps, max_queue_size=max_len)"
   ]
  },
  {
   "cell_type": "code",
   "execution_count": 82,
   "metadata": {},
   "outputs": [
    {
     "name": "stdout",
     "output_type": "stream",
     "text": [
      "\n",
      "\tLoss\tAcc\n",
      "50:\t0.29219\t0.91144\n",
      "100:\t0.25046\t0.92684\n",
      "150:\t0.22627\t0.9322\n"
     ]
    }
   ],
   "source": [
    "print('''\n",
    "\\tLoss\\tAcc\n",
    "50:\\t{}\\t{}\n",
    "100:\\t{}\\t{}\n",
    "150:\\t{}\\t{}'''.format(\n",
    "    round(evals_50[0], 5), round(evals_50[1], 5),\n",
    "    round(easy_lstm_evals[0], 5), round(easy_lstm_evals[1], 5),\n",
    "    round(evals_150[0], 5), round(evals_150[1], 5)))"
   ]
  },
  {
   "cell_type": "code",
   "execution_count": 83,
   "metadata": {
    "scrolled": false
   },
   "outputs": [
    {
     "name": "stdout",
     "output_type": "stream",
     "text": [
      "['part', 'noun', 'sconj', 'noun', 'verb', 'noun', 'punct', 'pron', 'verb', 'verb', 'noun', 'num']\n",
      "['noun', 'noun', 'noun', 'noun', 'noun', 'noun', 'punct', 'noun', 'verb', 'noun', 'noun', 'noun', 'noun']\n",
      "\n",
      "['noun', 'verb', 'verb', 'noun', 'noun', 'noun', 'verb', 'noun', 'punct']\n",
      "['noun', 'noun', 'noun', 'noun', 'noun', 'noun', 'noun', 'noun', 'punct']\n",
      "\n",
      "['intj', 'sconj', 'verb', 'part', 'num', 'noun', 'adv', 'propn', 'propn', 'verb', 'punct']\n",
      "['verb', 'verb', 'verb', 'noun', 'noun', 'noun', 'noun', 'noun', 'noun', 'noun', 'punct']\n",
      "\n"
     ]
    }
   ],
   "source": [
    "pred_50 = lstm_50.predict_generator(gen_batch(test_sents_clean, test_tags, batch_size), steps=int(len(test_sents_clean)/batch_size))\n",
    "seqs_50, tags_50 = decode_sequences(pred_50)\n",
    "for i in range(3):\n",
    "    print(test_tags[i])\n",
    "    #print(dec_seqs[i])\n",
    "    print(tags_64[i])\n",
    "    print()"
   ]
  },
  {
   "cell_type": "code",
   "execution_count": 85,
   "metadata": {
    "scrolled": true
   },
   "outputs": [
    {
     "name": "stdout",
     "output_type": "stream",
     "text": [
      "(960, 68, 19)\n",
      "['part', 'noun', 'sconj', 'noun', 'verb', 'noun', 'punct', 'pron', 'verb', 'verb', 'noun', 'num']\n",
      "['noun', 'noun', 'noun', 'noun', 'noun', 'noun', 'punct', 'noun', 'verb', 'noun', 'noun', 'noun', 'noun']\n",
      "\n",
      "['noun', 'verb', 'verb', 'noun', 'noun', 'noun', 'verb', 'noun', 'punct']\n",
      "['verb', 'verb', 'verb', 'noun', 'noun', 'noun', 'noun', 'noun', 'punct']\n",
      "\n",
      "['intj', 'sconj', 'verb', 'part', 'num', 'noun', 'adv', 'propn', 'propn', 'verb', 'punct']\n",
      "['verb', 'verb', 'verb', 'verb', 'noun', 'noun', 'noun', 'noun', 'noun', 'noun', 'punct']\n",
      "\n"
     ]
    }
   ],
   "source": [
    "# это старое\n",
    "easy_lstm_pred = easy_lstm.predict_generator(gen_batch(test_sents_clean, test_tags, batch_size), steps=int(len(test_sents_clean)/batch_size))\n",
    "print(easy_lstm_pred.shape)\n",
    "easy_lstm_seqs, easy_lstm_tags = decode_sequences(easy_lstm_pred)\n",
    "for i in range(3):\n",
    "    print(test_tags[i])\n",
    "    #print(dec_seqs[i])\n",
    "    print(easy_lstm_tags[i])\n",
    "    print()"
   ]
  },
  {
   "cell_type": "code",
   "execution_count": 86,
   "metadata": {
    "scrolled": false
   },
   "outputs": [
    {
     "name": "stdout",
     "output_type": "stream",
     "text": [
      "['part', 'noun', 'sconj', 'noun', 'verb', 'noun', 'punct', 'pron', 'verb', 'verb', 'noun', 'num']\n",
      "['cconj', 'noun', 'verb', 'noun', 'noun', 'noun', 'punct', 'sconj', 'verb', 'noun', 'noun', 'noun', 'noun']\n",
      "\n",
      "['noun', 'verb', 'verb', 'noun', 'noun', 'noun', 'verb', 'noun', 'punct']\n",
      "['verb', 'verb', 'noun', 'noun', 'noun', 'noun', 'noun', 'noun', 'punct']\n",
      "\n",
      "['intj', 'sconj', 'verb', 'part', 'num', 'noun', 'adv', 'propn', 'propn', 'verb', 'punct']\n",
      "['verb', 'verb', 'verb', 'verb', 'noun', 'noun', 'noun', 'noun', 'noun', 'noun', 'punct']\n",
      "\n"
     ]
    }
   ],
   "source": [
    "pred_150 = lstm_150.predict_generator(gen_batch(test_sents_clean, test_tags, batch_size), steps=int(len(test_sents_clean)/batch_size))\n",
    "seqs_150, tags_150 = decode_sequences(pred_150)\n",
    "for i in range(3):\n",
    "    print(test_tags[i])\n",
    "    #print(dec_seqs[i])\n",
    "    print(tags_150[i])\n",
    "    print()"
   ]
  },
  {
   "cell_type": "code",
   "execution_count": 87,
   "metadata": {},
   "outputs": [],
   "source": [
    "bleu_50_1, bleu_50_2, bleu_50_3, bleu_50_4 = bleu_eval(test_tags[:1088], tags_50)"
   ]
  },
  {
   "cell_type": "code",
   "execution_count": 88,
   "metadata": {},
   "outputs": [],
   "source": [
    "bleu_150_1, bleu_150_2, bleu_150_3, bleu_150_4 = bleu_eval(test_tags[:1088], tags_150)"
   ]
  },
  {
   "cell_type": "code",
   "execution_count": 89,
   "metadata": {},
   "outputs": [
    {
     "name": "stdout",
     "output_type": "stream",
     "text": [
      "\n",
      "\tBLEU-1\tBLEU-2\tBLEU-3\tBLEU-4\n",
      "64:\t0.449\t0.26\t0.172\t0.098\n",
      "128\t0.51\t0.319\t0.319\t0.125\n",
      "150:\t0.546\t0.354\t0.354\t0.148\n",
      "\n"
     ]
    }
   ],
   "source": [
    "print('''\n",
    "\\tBLEU-1\\tBLEU-2\\tBLEU-3\\tBLEU-4\n",
    "64:\\t{}\\t{}\\t{}\\t{}\n",
    "128\\t{}\\t{}\\t{}\\t{}\n",
    "150:\\t{}\\t{}\\t{}\\t{}\n",
    "'''.format(round(bleu_50_1, 3), round(bleu_50_2, 3), round(bleu_50_3, 3), round(bleu_50_4, 3),\n",
    "           round(lstm_bleu_1, 3), round(lstm_bleu_2, 3), round(lstm_bleu_2, 3), round(lstm_bleu_4, 3),\n",
    "           round(bleu_150_1, 3), round(bleu_150_2, 3), round(bleu_150_2, 3), round(bleu_150_4, 3)))"
   ]
  },
  {
   "cell_type": "markdown",
   "metadata": {},
   "source": [
    "Иииии эмбеддинги снова всё улучшили)"
   ]
  },
  {
   "cell_type": "code",
   "execution_count": 91,
   "metadata": {},
   "outputs": [
    {
     "name": "stdout",
     "output_type": "stream",
     "text": [
      "\n",
      "\t\tBLEU-1\tBLEU-2\tBLEU-3\tBLEU-4\n",
      "SimpleRNN:\t0.711\t0.569\t0.465\t0.343\n",
      "LSTM:\t\t0.51\t0.319\t0.319\t0.125\n",
      "LSTM-150:\t0.546\t0.354\t0.354\t0.148\n",
      "BiLSTM:\t\t0.651\t0.487\t0.487\t0.26\n",
      "GRU:\t\t0.692\t0.559\t0.465\t0.346\n",
      "\n"
     ]
    }
   ],
   "source": [
    "print('''\n",
    "\\t\\tBLEU-1\\tBLEU-2\\tBLEU-3\\tBLEU-4\n",
    "SimpleRNN:\\t{}\\t{}\\t{}\\t{}\n",
    "LSTM:\\t\\t{}\\t{}\\t{}\\t{}\n",
    "LSTM-150:\\t{}\\t{}\\t{}\\t{}\n",
    "BiLSTM:\\t\\t{}\\t{}\\t{}\\t{}\n",
    "GRU:\\t\\t{}\\t{}\\t{}\\t{}\n",
    "'''.format(round(simple_bleu_1, 3), round(simple_bleu_2, 3), round(simple_bleu_3, 3), round(simple_bleu_4, 3),\n",
    "           round(lstm_bleu_1, 3), round(lstm_bleu_2, 3), round(lstm_bleu_2, 3), round(lstm_bleu_4, 3),\n",
    "           round(bleu_150_1, 3), round(bleu_150_2, 3), round(bleu_150_2, 3), round(bleu_150_4, 3),\n",
    "           round(bilstm_bleu_1, 3), round(bilstm_bleu_2, 3), round(bilstm_bleu_2, 3), round(bilstm_bleu_4, 3),\n",
    "           round(gru_bleu_1, 3), round(gru_bleu_2, 3), round(gru_bleu_3, 3), round(gru_bleu_4, 3)))"
   ]
  },
  {
   "cell_type": "code",
   "execution_count": 92,
   "metadata": {},
   "outputs": [],
   "source": [
    "# собратьев не догнали, но точность всё равно повысили. Видимо, эмбеддинги размерностью 100 недостаточно информации о слове сохраняли."
   ]
  },
  {
   "cell_type": "code",
   "execution_count": null,
   "metadata": {},
   "outputs": [],
   "source": []
  }
 ],
 "metadata": {
  "kernelspec": {
   "display_name": "Python 3",
   "language": "python",
   "name": "python3"
  },
  "language_info": {
   "codemirror_mode": {
    "name": "ipython",
    "version": 3
   },
   "file_extension": ".py",
   "mimetype": "text/x-python",
   "name": "python",
   "nbconvert_exporter": "python",
   "pygments_lexer": "ipython3",
   "version": "3.6.6"
  }
 },
 "nbformat": 4,
 "nbformat_minor": 2
}
