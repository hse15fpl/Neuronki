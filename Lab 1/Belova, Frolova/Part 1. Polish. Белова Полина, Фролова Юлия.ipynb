{
 "cells": [
  {
   "cell_type": "markdown",
   "metadata": {},
   "source": [
    "# Лабораторная 1\n",
    "### Белова Полина, Фролова Юлия\n",
    "\n",
    "### POS - tagger (Polish)"
   ]
  },
  {
   "cell_type": "markdown",
   "metadata": {},
   "source": [
    "## Польский\n",
    "Язык флективного строя, синтетический тип\n",
    "### Генеалогическая классификация:\n",
    "- Индоевропейские языки\n",
    "- Славянская ветвь\n",
    "- Западнославянская группа\n",
    "- Лехитская подгруппа\n",
    "Порядок слов в предложении свободный, грамматически не обусловлен, отсутствует определенная фиксированная последовательность членов предложения. И все же наиболее приемлемым порядком слов в польском предложении принято считать такой: подлежащее — сказуемое — дополнение."
   ]
  },
  {
   "cell_type": "code",
   "execution_count": 1,
   "metadata": {},
   "outputs": [],
   "source": [
    "from conllu import parse_incr\n",
    "import numpy as np\n",
    "import pandas as pd\n",
    "import string"
   ]
  },
  {
   "cell_type": "markdown",
   "metadata": {},
   "source": [
    "Функция считывает файлы и создает список списков токенов(all_sent) и список соответствующих им тегов (all_tag)\n",
    "- тег ['form'] это конкретная словоформа, ['upostag'] соответствующий этой словоформе тег"
   ]
  },
  {
   "cell_type": "code",
   "execution_count": 2,
   "metadata": {},
   "outputs": [],
   "source": [
    "def read_and_enjoy(filename):\n",
    "    all_sent = []\n",
    "    all_tag =[]\n",
    "    data = open(filename, 'r', encoding='utf-8')\n",
    "    for sentences in parse_incr(data): #парсим корпусы\n",
    "        new_tag = []\n",
    "        sent=[]\n",
    "        for word in sentences:\n",
    "            sent.append(word['form'].lower()) #список слов в одном предложении\n",
    "            new_tag.append(word['upostag']) #список соответствующих им тегов\n",
    "        all_sent.append(sent) #список списков всех слов\n",
    "        all_tag.append(new_tag) #список списков всех тегов\n",
    "    return all_sent, all_tag"
   ]
  },
  {
   "cell_type": "code",
   "execution_count": 4,
   "metadata": {},
   "outputs": [],
   "source": [
    "pol_train_sents, pol_train_tags = read_and_enjoy(\"pl_lfg-ud-train.conllu\")\n",
    "pol_test_sents, pol_test_tags = read_and_enjoy(\"pl_lfg-ud-test.conllu\")"
   ]
  },
  {
   "cell_type": "code",
   "execution_count": 5,
   "metadata": {},
   "outputs": [
    {
     "name": "stderr",
     "output_type": "stream",
     "text": [
      "D:\\Anaconda\\lib\\site-packages\\h5py\\__init__.py:36: FutureWarning: Conversion of the second argument of issubdtype from `float` to `np.floating` is deprecated. In future, it will be treated as `np.float64 == np.dtype(float).type`.\n",
      "  from ._conv import register_converters as _register_converters\n",
      "Using TensorFlow backend.\n"
     ]
    }
   ],
   "source": [
    "from keras.layers.core import Activation, Dense\n",
    "from keras.layers.embeddings import Embedding\n",
    "from keras.layers.recurrent import GRU\n",
    "from keras.layers.wrappers import TimeDistributed\n",
    "from keras.models import Sequential\n",
    "from keras.preprocessing import sequence\n",
    "from keras.utils import np_utils\n",
    "import matplotlib.pyplot as plt\n",
    "from sklearn.model_selection import train_test_split\n",
    "from keras.callbacks import ModelCheckpoint\n",
    "import os"
   ]
  },
  {
   "cell_type": "markdown",
   "metadata": {},
   "source": [
    "Функция для сбора статистики \n",
    "- word_freqs - это словарь всех токенов с частотой их встречаемости\n",
    "- maxlen - максимальная длина предложения в корпусе\n",
    "- minlen - минимальная длина предложения в корпусе\n",
    "- num_sent - количество предложений в корпусе\n",
    "- median - медиана числа слов в предложении\n",
    "- mean - математическое ожидание\n",
    "- tags_freqs - словарь всех тегов с их частотностью\n",
    "- wordtags - просто словарик слов и соответствующих им тегов (на всякий случай)"
   ]
  },
  {
   "cell_type": "code",
   "execution_count": 6,
   "metadata": {},
   "outputs": [],
   "source": [
    "import collections\n",
    "def parse_sentences(corpus, corpus1):\n",
    "    word_freqs = collections.Counter() \n",
    "    tags_freqs = collections.Counter() \n",
    "    num_sent, maxlen = 0, 0\n",
    "    wordtags = {}\n",
    "    lengths = []\n",
    "    tags = {}\n",
    "    minlen = 50\n",
    "    median, mean = 0, 0\n",
    "    for line in range(len(corpus)):\n",
    "        for i in range(len(corpus[line])):\n",
    "            word_freqs[corpus[line][i]] += 1 #собираем все токены с их частотностью\n",
    "            tags_freqs[corpus1[line][i]] +=1 #все теги с их частотностью\n",
    "            wordtags[corpus[line][i]] = corpus1[line][i] #словарь токенов и соответствующих им тегов\n",
    "        if len(corpus[line]) > maxlen:\n",
    "            maxlen = len(corpus[line]) #вычисляем максимальную длину предложения\n",
    "        if len(corpus[line]) < minlen:\n",
    "            minlen = len(corpus[line]) #вычисляем минимальную длину предложения\n",
    "        lengths.append(len(corpus[line])) #собираем длины всех предложений в список для вычисления медианы и мат ожидания\n",
    "        num_sent +=1 #вычисляем кол-во предложения\n",
    "    \n",
    "    median = np.median(np.array(lengths)) #медиана\n",
    "    mean = np.mean(np.array(lengths)) #мат ожидание\n",
    "    return word_freqs, maxlen, minlen, num_sent, median, mean, tags_freqs, wordtags\n",
    "pol_freqs, pol_max, pol_min, pol_num, pol_median, pol_mean, pol_tags, pol_wordtags = parse_sentences(pol_train_sents, pol_train_tags)\n",
    "pol_test_freqs, pol_test_max, pol_test_min, pol_test_num, pol_test_median, pol_test_mean, pol_t_tags, pol_test_wordtags = parse_sentences(pol_test_sents, pol_test_tags)"
   ]
  },
  {
   "cell_type": "markdown",
   "metadata": {},
   "source": [
    "функция вычисления доли новых слов в тестовом корпусе"
   ]
  },
  {
   "cell_type": "code",
   "execution_count": 7,
   "metadata": {},
   "outputs": [],
   "source": [
    "def new_words(corpus, freqs, freqs1):\n",
    "    all_words = collections.Counter(freqs + freqs1) # объединяем все слова \n",
    "    dolya = round(1 - len(freqs)/len(all_words), 6) # делим кол-во всех знакомых слов на кол-во всех слов и вычитаем из 1\n",
    "    return dolya, all_words\n",
    "pol_dolya, pol_all = new_words(pol_test_sents, pol_freqs, pol_test_freqs)"
   ]
  },
  {
   "cell_type": "code",
   "execution_count": 8,
   "metadata": {},
   "outputs": [
    {
     "name": "stdout",
     "output_type": "stream",
     "text": [
      "Число предложений: 13774\n",
      "Число уникальных словоформ: 25558\n",
      "Число уникальных PoS-тегов: 15\n",
      "Макс слов:27\n",
      "Мин слов:2\n",
      "Мат ожидание:7.604908\n",
      "Медиана:7.000000\n",
      "Доля новых слов:0.076562\n"
     ]
    }
   ],
   "source": [
    "print ('Число предложений: %d\\nЧисло уникальных словоформ: %d\\nЧисло уникальных PoS-тегов: %d\\nМакс слов:%d\\nМин слов:%d\\nМат ожидание:%f\\nМедиана:%f\\nДоля новых слов:%f' % (pol_num, len(pol_freqs), len(pol_tags), pol_max, pol_min, pol_mean, pol_median, pol_dolya))"
   ]
  },
  {
   "cell_type": "markdown",
   "metadata": {},
   "source": [
    "### Гистограмма тегов тренировочного корпуса"
   ]
  },
  {
   "cell_type": "code",
   "execution_count": 9,
   "metadata": {},
   "outputs": [
    {
     "data": {
      "text/plain": [
       "<Container object of 15 artists>"
      ]
     },
     "execution_count": 9,
     "metadata": {},
     "output_type": "execute_result"
    },
    {
     "data": {
      "image/png": "[encoded data removed]",
      "text/plain": [
       "<matplotlib.figure.Figure at 0x187d57812b0>"
      ]
     },
     "metadata": {},
     "output_type": "display_data"
    }
   ],
   "source": [
    "dictionary = dict(pol_tags)\n",
    "plt.bar(list(dictionary.keys()), dictionary.values(), 'g', align='center')"
   ]
  },
  {
   "cell_type": "markdown",
   "metadata": {},
   "source": [
    "### Гистограмма тегов тестового корпуса"
   ]
  },
  {
   "cell_type": "code",
   "execution_count": 10,
   "metadata": {},
   "outputs": [
    {
     "data": {
      "text/plain": [
       "<Container object of 15 artists>"
      ]
     },
     "execution_count": 10,
     "metadata": {},
     "output_type": "execute_result"
    },
    {
     "data": {
      "image/png": "[encoded data removed]",
      "text/plain": [
       "<matplotlib.figure.Figure at 0x187d5ab95c0>"
      ]
     },
     "metadata": {},
     "output_type": "display_data"
    }
   ],
   "source": [
    "dictionary = dict(pol_t_tags)\n",
    "plt.bar(list(dictionary.keys()), dictionary.values(), 'g', align='center')"
   ]
  },
  {
   "cell_type": "markdown",
   "metadata": {},
   "source": [
    "тут не все так ужасно с длиной предложения, как в немецком, поэтому здесь мы решили взять максимальную длину предложения. Токены мы также взяли все, т.к. по сравнению с немецким, их тут намнооооого меньше"
   ]
  },
  {
   "cell_type": "code",
   "execution_count": 11,
   "metadata": {},
   "outputs": [],
   "source": [
    "MAX_SEQLEN = 27\n",
    "S_MAX_FEATURES = len(pol_freqs)\n",
    "T_MAX_FEATURES = 15"
   ]
  },
  {
   "cell_type": "markdown",
   "metadata": {},
   "source": [
    "кодируем слова и теги уникальным числом, а также добавляем в словари слово для паддингов и незнакомых токенов"
   ]
  },
  {
   "cell_type": "code",
   "execution_count": 12,
   "metadata": {},
   "outputs": [],
   "source": [
    "pol_word2index = {w[0]: i + 2 for i,w in enumerate(pol_freqs.most_common(S_MAX_FEATURES))}\n",
    "pol_word2index['PAD'] = 0\n",
    "pol_word2index['UNK'] = 1\n",
    "pol_tag2index = {t: i + 1 for i,t in enumerate(pol_tags)}\n",
    "pol_tag2index['PAD'] = 0"
   ]
  },
  {
   "cell_type": "code",
   "execution_count": 13,
   "metadata": {},
   "outputs": [],
   "source": [
    "S_MAX_FEATURES += 2 # добавляем к длине токенов 2 (паддинг и незнакомый токен)\n",
    "T_MAX_FEATURES += 1 # добавляем к длине тегов 1 (паддинг)"
   ]
  },
  {
   "cell_type": "code",
   "execution_count": 14,
   "metadata": {},
   "outputs": [],
   "source": [
    "NUM_EPOCHS = 8"
   ]
  },
  {
   "cell_type": "code",
   "execution_count": 15,
   "metadata": {},
   "outputs": [],
   "source": [
    "def build_tensor(sents, numsents, toindex, maxlen):\n",
    "    data = np.empty((numsents, ), dtype=list)\n",
    "    i = 0\n",
    "    for line in sents:\n",
    "        wids = []\n",
    "        for word in line:\n",
    "            if word in toindex:\n",
    "                wids.append(toindex[word]) # список индексов слов в предложении\n",
    "            else:\n",
    "                wids.append(toindex['UNK']) # если не знаем, то записываем индекс 1 (незнакомое слово)\n",
    "        data[i] = wids\n",
    "        i += 1\n",
    "    pdata = sequence.pad_sequences(data, maxlen=maxlen, padding='post', truncating=\"post\") # добавляем паддинги до MAX_SEQLEN\n",
    "    return pdata\n",
    "X = build_tensor(pol_train_sents, pol_num, pol_word2index, MAX_SEQLEN)\n",
    "Xtest = build_tensor(pol_test_sents, pol_test_num, pol_word2index, MAX_SEQLEN)\n",
    "Y = build_tensor(pol_train_tags, pol_num, pol_tag2index, MAX_SEQLEN)\n",
    "Ytest = build_tensor(pol_test_tags, pol_test_num, pol_tag2index, MAX_SEQLEN)\n",
    "Xtrain, Xval, Ytrain, Yval = train_test_split(X, Y, test_size = 0.2, random_state=42) # из тренировочную корпуса берем часть на валидацию"
   ]
  },
  {
   "cell_type": "markdown",
   "metadata": {},
   "source": [
    "функция, которая оценивает работу модели без паддингов"
   ]
  },
  {
   "cell_type": "code",
   "execution_count": 16,
   "metadata": {},
   "outputs": [],
   "source": [
    "# y - correct answers - tags\n",
    "# h - predictions\n",
    "def evaluate(y, h, test_tags):\n",
    "    new_y = []\n",
    "    new_h = []\n",
    "    for line in y:\n",
    "        k = 0\n",
    "        for i in range(len(test_tags[k])):\n",
    "            new_y.append(line[i])\n",
    "        k+=1\n",
    "    for line in h:\n",
    "        k = 0\n",
    "        for i in range(len(test_tags[k])):\n",
    "            new_h.append(line[i])\n",
    "        k+=1\n",
    "    \n",
    "        \n",
    "    classes = set(new_y)\n",
    "    len_new_y = len(new_y)\n",
    "\n",
    "    results = {'accuracy w/o paddings': 0}\n",
    "    class_dist = {c: new_y.count(c) / len_new_y for c in classes}\n",
    "\n",
    "    for c in classes:\n",
    "        tp = set()\n",
    "        fp = set()\n",
    "        tn = set()\n",
    "        fn = set()\n",
    "\n",
    "        for i, h_i in enumerate(new_h):\n",
    "            y_i = new_y[i]\n",
    "            if h_i == y_i:\n",
    "                if h_i == c:\n",
    "                    tp.add((i, h_i))\n",
    "                else:\n",
    "                    tn.add((i, h_i))\n",
    "        acc = len(tp | tn) / len(new_h) # так как мы в метриках оценивания используем только точность, то и здесь подсчитаем только ее\n",
    "\n",
    "        results['accuracy w/o paddings']  += acc * class_dist[c]\n",
    "    return results"
   ]
  },
  {
   "cell_type": "markdown",
   "metadata": {},
   "source": [
    "### SimpleRNN"
   ]
  },
  {
   "cell_type": "markdown",
   "metadata": {},
   "source": [
    "во всех моделях \n",
    "- batch_size=64\n",
    "- hidden_layer=64\n",
    "- размеры эмбеддингов для моделей: 64, 100, 200\n",
    "- activation - softmax, loss - categorical_crossentropy, потому что это задача классификации\n",
    "- оптимизатор adam, т.к. с ним еще не работали, но он в принципе похож на rmsprop"
   ]
  },
  {
   "cell_type": "code",
   "execution_count": 17,
   "metadata": {},
   "outputs": [],
   "source": [
    "from keras.layers import SimpleRNN"
   ]
  },
  {
   "cell_type": "code",
   "execution_count": 18,
   "metadata": {},
   "outputs": [
    {
     "name": "stdout",
     "output_type": "stream",
     "text": [
      "_________________________________________________________________\n",
      "Layer (type)                 Output Shape              Param #   \n",
      "=================================================================\n",
      "embedding_1 (Embedding)      (None, 27, 64)            1635840   \n",
      "_________________________________________________________________\n",
      "simple_rnn_1 (SimpleRNN)     (None, 27, 64)            8256      \n",
      "_________________________________________________________________\n",
      "dense_1 (Dense)              (None, 27, 16)            1040      \n",
      "_________________________________________________________________\n",
      "activation_1 (Activation)    (None, 27, 16)            0         \n",
      "=================================================================\n",
      "Total params: 1,645,136\n",
      "Trainable params: 1,645,136\n",
      "Non-trainable params: 0\n",
      "_________________________________________________________________\n"
     ]
    }
   ],
   "source": [
    "rnn_model = Sequential()\n",
    "rnn_model.add(Embedding(S_MAX_FEATURES, 64, input_length=MAX_SEQLEN))\n",
    "rnn_model.add(SimpleRNN(64, input_shape=(MAX_SEQLEN, S_MAX_FEATURES), unroll=True, dropout=0.2, recurrent_dropout=0.2, return_sequences=True))\n",
    "rnn_model.add(Dense(T_MAX_FEATURES))\n",
    "rnn_model.add(Activation(\"softmax\"))\n",
    "\n",
    "rnn_model.compile(loss=\"categorical_crossentropy\", optimizer=\"adam\", metrics=['acc'])\n",
    "rnn_model.summary()"
   ]
  },
  {
   "cell_type": "code",
   "execution_count": null,
   "metadata": {},
   "outputs": [],
   "source": [
    "import os\n",
    "os.makedirs('cu\\\\rnn_model\\\\cu-easy_model-{epoch}.h5')\n",
    "os.makedirs('cu\\\\rnn_model\\\\cu-easy_model-history.json')\n",
    "os.makedirs('cu\\\\lstm_model\\\\cu-easy_model-{epoch}.h5')\n",
    "os.makedirs('cu\\\\lstm_model\\\\cu-easy_model-history.json')\n",
    "os.makedirs('cu\\\\bilstm_model\\\\cu-easy_model-{epoch}.h5')\n",
    "os.makedirs('cu\\\\bilstm_model\\\\cu-easy_model-history.json')\n",
    "os.makedirs('cu\\\\gru_model\\\\cu-easy_model-{epoch}.h5')\n",
    "os.makedirs('cu\\\\gru_model\\\\cu-easy_model-history.json')"
   ]
  },
  {
   "cell_type": "markdown",
   "metadata": {},
   "source": [
    "сохраняем веса для каждой эпохи, что потом по эпохе до переобучения сделать предсказания и посчитать точность модели без паддингов"
   ]
  },
  {
   "cell_type": "code",
   "execution_count": 19,
   "metadata": {},
   "outputs": [
    {
     "name": "stdout",
     "output_type": "stream",
     "text": [
      "Train on 11019 samples, validate on 2755 samples\n",
      "Epoch 1/8\n",
      "11019/11019 [==============================] - 8s 742us/step - loss: 0.9427 - acc: 0.7401 - val_loss: 0.5860 - val_acc: 0.8445\n",
      "\n",
      "Epoch 00001: saving model to cu\\rnn_model\\cu-easy_model-1.h5\n",
      "Epoch 2/8\n",
      "11019/11019 [==============================] - 6s 551us/step - loss: 0.4726 - acc: 0.8813 - val_loss: 0.3525 - val_acc: 0.9090\n",
      "\n",
      "Epoch 00002: saving model to cu\\rnn_model\\cu-easy_model-2.h5\n",
      "Epoch 3/8\n",
      "11019/11019 [==============================] - 7s 677us/step - loss: 0.2688 - acc: 0.9334 - val_loss: 0.2005 - val_acc: 0.9466\n",
      "\n",
      "Epoch 00003: saving model to cu\\rnn_model\\cu-easy_model-3.h5\n",
      "Epoch 4/8\n",
      "11019/11019 [==============================] - 7s 679us/step - loss: 0.1398 - acc: 0.9667 - val_loss: 0.1338 - val_acc: 0.9607\n",
      "\n",
      "Epoch 00004: saving model to cu\\rnn_model\\cu-easy_model-4.h5\n",
      "Epoch 5/8\n",
      "11019/11019 [==============================] - 7s 651us/step - loss: 0.0731 - acc: 0.9843 - val_loss: 0.1104 - val_acc: 0.9649\n",
      "\n",
      "Epoch 00005: saving model to cu\\rnn_model\\cu-easy_model-5.h5\n",
      "Epoch 6/8\n",
      "11019/11019 [==============================] - 7s 650us/step - loss: 0.0416 - acc: 0.9921 - val_loss: 0.1026 - val_acc: 0.9659\n",
      "\n",
      "Epoch 00006: saving model to cu\\rnn_model\\cu-easy_model-6.h5\n",
      "Epoch 7/8\n",
      "11019/11019 [==============================] - 7s 647us/step - loss: 0.0275 - acc: 0.9942 - val_loss: 0.1005 - val_acc: 0.9661\n",
      "\n",
      "Epoch 00007: saving model to cu\\rnn_model\\cu-easy_model-7.h5\n",
      "Epoch 8/8\n",
      "11019/11019 [==============================] - 7s 645us/step - loss: 0.0212 - acc: 0.9948 - val_loss: 0.1003 - val_acc: 0.9662\n",
      "\n",
      "Epoch 00008: saving model to cu\\rnn_model\\cu-easy_model-8.h5\n"
     ]
    }
   ],
   "source": [
    "checkpoint = ModelCheckpoint('cu\\\\rnn_model\\\\cu-easy_model-{epoch}.h5', verbose=1, save_best_only=False, save_weights_only=True)\n",
    "rnn_history = rnn_model.fit(Xtrain, np_utils.to_categorical(Ytrain, num_classes=T_MAX_FEATURES), batch_size=64, epochs=NUM_EPOCHS, validation_data=[Xval, np_utils.to_categorical(Yval, num_classes=T_MAX_FEATURES)], verbose=1, callbacks=[checkpoint])"
   ]
  },
  {
   "cell_type": "markdown",
   "metadata": {},
   "source": [
    "т.к. валидационная точность растет на протяжении всех эпох, то переобучения нет"
   ]
  },
  {
   "cell_type": "code",
   "execution_count": 21,
   "metadata": {},
   "outputs": [
    {
     "name": "stdout",
     "output_type": "stream",
     "text": [
      "1727/1727 [==============================] - 0s 62us/step\n",
      "0.968560336501735\n",
      "{'accuracy w/o paddings': 0.9157176864183235}\n"
     ]
    }
   ],
   "source": [
    "rnn_model.load_weights('cu\\\\rnn_model\\\\cu-easy_model-8.h5') #вызываем веса для лучше эпохи\n",
    "score, acc = rnn_model.evaluate(Xtest, np_utils.to_categorical(Ytest, num_classes=T_MAX_FEATURES), batch_size=64) \n",
    "print(acc) #подсчитываем точность на тестовой выборке\n",
    "prediction = rnn_model.predict_classes(Xtest)\n",
    "prediction_rnn = evaluate(Ytest, prediction, pol_test_tags)\n",
    "print(prediction_rnn)"
   ]
  },
  {
   "cell_type": "markdown",
   "metadata": {},
   "source": [
    "строим графики"
   ]
  },
  {
   "cell_type": "code",
   "execution_count": 22,
   "metadata": {},
   "outputs": [
    {
     "data": {
      "image/png": "[encoded data removed]",
      "text/plain": [
       "<matplotlib.figure.Figure at 0x187dad0dda0>"
      ]
     },
     "metadata": {},
     "output_type": "display_data"
    }
   ],
   "source": [
    "plt.subplot(211)\n",
    "plt.title(\"Accuracy\")\n",
    "plt.plot(rnn_history.history[\"acc\"], color=\"g\", label=\"Train\")\n",
    "plt.plot(rnn_history.history[\"val_acc\"], color=\"b\", label=\"Validation\")\n",
    "plt.legend(loc=\"best\")\n",
    "\n",
    "plt.subplot(212)\n",
    "plt.title(\"Loss\")\n",
    "plt.plot(rnn_history.history[\"loss\"], color=\"g\", label=\"Train\")\n",
    "plt.plot(rnn_history.history[\"val_loss\"], color=\"b\", label=\"Validation\")\n",
    "plt.legend(loc=\"best\")\n",
    "\n",
    "plt.tight_layout()\n",
    "plt.show()"
   ]
  },
  {
   "cell_type": "markdown",
   "metadata": {},
   "source": [
    "Размер эмбеддинга 100"
   ]
  },
  {
   "cell_type": "code",
   "execution_count": 23,
   "metadata": {},
   "outputs": [
    {
     "name": "stdout",
     "output_type": "stream",
     "text": [
      "_________________________________________________________________\n",
      "Layer (type)                 Output Shape              Param #   \n",
      "=================================================================\n",
      "embedding_2 (Embedding)      (None, 27, 100)           2556000   \n",
      "_________________________________________________________________\n",
      "simple_rnn_2 (SimpleRNN)     (None, 27, 64)            10560     \n",
      "_________________________________________________________________\n",
      "dense_2 (Dense)              (None, 27, 16)            1040      \n",
      "_________________________________________________________________\n",
      "activation_2 (Activation)    (None, 27, 16)            0         \n",
      "=================================================================\n",
      "Total params: 2,567,600\n",
      "Trainable params: 2,567,600\n",
      "Non-trainable params: 0\n",
      "_________________________________________________________________\n",
      "Train on 11019 samples, validate on 2755 samples\n",
      "Epoch 1/8\n",
      "11019/11019 [==============================] - 11s 985us/step - loss: 0.8600 - acc: 0.7732 - val_loss: 0.5329 - val_acc: 0.8619\n",
      "\n",
      "Epoch 00001: saving model to cu\\rnn_model\\cu-easy_model-1.h5\n",
      "Epoch 2/8\n",
      "11019/11019 [==============================] - 10s 923us/step - loss: 0.4166 - acc: 0.8972 - val_loss: 0.2953 - val_acc: 0.9244\n",
      "\n",
      "Epoch 00002: saving model to cu\\rnn_model\\cu-easy_model-2.h5\n",
      "Epoch 3/8\n",
      "11019/11019 [==============================] - 10s 947us/step - loss: 0.2170 - acc: 0.9449 - val_loss: 0.1669 - val_acc: 0.9538\n",
      "\n",
      "Epoch 00003: saving model to cu\\rnn_model\\cu-easy_model-3.h5\n",
      "Epoch 4/8\n",
      "11019/11019 [==============================] - 10s 942us/step - loss: 0.1038 - acc: 0.9756 - val_loss: 0.1170 - val_acc: 0.9646\n",
      "\n",
      "Epoch 00004: saving model to cu\\rnn_model\\cu-easy_model-4.h5\n",
      "Epoch 5/8\n",
      "11019/11019 [==============================] - 10s 933us/step - loss: 0.0509 - acc: 0.9897 - val_loss: 0.1016 - val_acc: 0.9671\n",
      "\n",
      "Epoch 00005: saving model to cu\\rnn_model\\cu-easy_model-5.h5\n",
      "Epoch 6/8\n",
      "11019/11019 [==============================] - 10s 931us/step - loss: 0.0288 - acc: 0.9942 - val_loss: 0.0974 - val_acc: 0.9675\n",
      "\n",
      "Epoch 00006: saving model to cu\\rnn_model\\cu-easy_model-6.h5\n",
      "Epoch 7/8\n",
      "11019/11019 [==============================] - 10s 939us/step - loss: 0.0205 - acc: 0.9950 - val_loss: 0.0970 - val_acc: 0.9678\n",
      "\n",
      "Epoch 00007: saving model to cu\\rnn_model\\cu-easy_model-7.h5\n",
      "Epoch 8/8\n",
      "11019/11019 [==============================] - 10s 925us/step - loss: 0.0168 - acc: 0.9954 - val_loss: 0.0970 - val_acc: 0.9675\n",
      "\n",
      "Epoch 00008: saving model to cu\\rnn_model\\cu-easy_model-8.h5\n"
     ]
    }
   ],
   "source": [
    "rnn_model = Sequential()\n",
    "rnn_model.add(Embedding(S_MAX_FEATURES, 100, input_length=MAX_SEQLEN))\n",
    "rnn_model.add(SimpleRNN(64, input_shape=(MAX_SEQLEN, S_MAX_FEATURES), unroll=True, dropout=0.2, recurrent_dropout=0.2, return_sequences=True))\n",
    "rnn_model.add(Dense(T_MAX_FEATURES))\n",
    "rnn_model.add(Activation(\"softmax\"))\n",
    "\n",
    "rnn_model.compile(loss=\"categorical_crossentropy\", optimizer=\"adam\", metrics=['acc'])\n",
    "rnn_model.summary()\n",
    "checkpoint = ModelCheckpoint('cu\\\\rnn_model\\\\cu-easy_model-{epoch}.h5', verbose=1, save_best_only=False, save_weights_only=True)\n",
    "rnn_history = rnn_model.fit(Xtrain, np_utils.to_categorical(Ytrain, num_classes=T_MAX_FEATURES), batch_size=64, epochs=NUM_EPOCHS, validation_data=[Xval, np_utils.to_categorical(Yval, num_classes=T_MAX_FEATURES)], verbose=1, callbacks=[checkpoint])"
   ]
  },
  {
   "cell_type": "markdown",
   "metadata": {},
   "source": [
    "переобучение на 8 эпохе, т.к. валидационная точность начинает падать"
   ]
  },
  {
   "cell_type": "code",
   "execution_count": 24,
   "metadata": {},
   "outputs": [
    {
     "name": "stdout",
     "output_type": "stream",
     "text": [
      "1727/1727 [==============================] - 0s 78us/step\n",
      "0.9687962449556426\n",
      "{'accuracy w/o paddings': 0.9163610628578781}\n"
     ]
    }
   ],
   "source": [
    "rnn_model.load_weights('cu\\\\rnn_model\\\\cu-easy_model-7.h5')\n",
    "score, acc = rnn_model.evaluate(Xtest, np_utils.to_categorical(Ytest, num_classes=T_MAX_FEATURES), batch_size=64)\n",
    "print(acc)\n",
    "prediction = rnn_model.predict_classes(Xtest)\n",
    "prediction_rnn = evaluate(Ytest, prediction, pol_test_tags)\n",
    "print(prediction_rnn)"
   ]
  },
  {
   "cell_type": "markdown",
   "metadata": {},
   "source": [
    "строим графики"
   ]
  },
  {
   "cell_type": "code",
   "execution_count": 25,
   "metadata": {},
   "outputs": [
    {
     "data": {
      "image/png": "[encoded data removed]",
      "text/plain": [
       "<matplotlib.figure.Figure at 0x187d8d0fa20>"
      ]
     },
     "metadata": {},
     "output_type": "display_data"
    }
   ],
   "source": [
    "plt.subplot(211)\n",
    "plt.title(\"Accuracy\")\n",
    "plt.plot(rnn_history.history[\"acc\"], color=\"g\", label=\"Train\")\n",
    "plt.plot(rnn_history.history[\"val_acc\"], color=\"b\", label=\"Validation\")\n",
    "plt.legend(loc=\"best\")\n",
    "\n",
    "plt.subplot(212)\n",
    "plt.title(\"Loss\")\n",
    "plt.plot(rnn_history.history[\"loss\"], color=\"g\", label=\"Train\")\n",
    "plt.plot(rnn_history.history[\"val_loss\"], color=\"b\", label=\"Validation\")\n",
    "plt.legend(loc=\"best\")\n",
    "\n",
    "plt.tight_layout()\n",
    "plt.show()"
   ]
  },
  {
   "cell_type": "markdown",
   "metadata": {},
   "source": [
    "Размер эмбеддинга 200"
   ]
  },
  {
   "cell_type": "code",
   "execution_count": 26,
   "metadata": {},
   "outputs": [
    {
     "name": "stdout",
     "output_type": "stream",
     "text": [
      "_________________________________________________________________\n",
      "Layer (type)                 Output Shape              Param #   \n",
      "=================================================================\n",
      "embedding_3 (Embedding)      (None, 27, 200)           5112000   \n",
      "_________________________________________________________________\n",
      "simple_rnn_3 (SimpleRNN)     (None, 27, 64)            16960     \n",
      "_________________________________________________________________\n",
      "dense_3 (Dense)              (None, 27, 16)            1040      \n",
      "_________________________________________________________________\n",
      "activation_3 (Activation)    (None, 27, 16)            0         \n",
      "=================================================================\n",
      "Total params: 5,130,000\n",
      "Trainable params: 5,130,000\n",
      "Non-trainable params: 0\n",
      "_________________________________________________________________\n",
      "Train on 11019 samples, validate on 2755 samples\n",
      "Epoch 1/8\n",
      "11019/11019 [==============================] - 22s 2ms/step - loss: 0.8117 - acc: 0.7867 - val_loss: 0.4927 - val_acc: 0.8731\n",
      "\n",
      "Epoch 00001: saving model to cu\\rnn_model\\cu-easy_model-1.h5\n",
      "Epoch 2/8\n",
      "11019/11019 [==============================] - 18s 2ms/step - loss: 0.3718 - acc: 0.9058 - val_loss: 0.2555 - val_acc: 0.9359\n",
      "\n",
      "Epoch 00002: saving model to cu\\rnn_model\\cu-easy_model-2.h5\n",
      "Epoch 3/8\n",
      "11019/11019 [==============================] - 19s 2ms/step - loss: 0.1677 - acc: 0.9607 - val_loss: 0.1413 - val_acc: 0.9601\n",
      "\n",
      "Epoch 00003: saving model to cu\\rnn_model\\cu-easy_model-3.h5\n",
      "Epoch 4/8\n",
      "11019/11019 [==============================] - 18s 2ms/step - loss: 0.0733 - acc: 0.9851 - val_loss: 0.1112 - val_acc: 0.9644\n",
      "\n",
      "Epoch 00004: saving model to cu\\rnn_model\\cu-easy_model-4.h5\n",
      "Epoch 5/8\n",
      "11019/11019 [==============================] - 18s 2ms/step - loss: 0.0373 - acc: 0.9932 - val_loss: 0.1022 - val_acc: 0.9651\n",
      "\n",
      "Epoch 00005: saving model to cu\\rnn_model\\cu-easy_model-5.h5\n",
      "Epoch 6/8\n",
      "11019/11019 [==============================] - 18s 2ms/step - loss: 0.0230 - acc: 0.9949 - val_loss: 0.0993 - val_acc: 0.9655\n",
      "\n",
      "Epoch 00006: saving model to cu\\rnn_model\\cu-easy_model-6.h5\n",
      "Epoch 7/8\n",
      "11019/11019 [==============================] - 18s 2ms/step - loss: 0.0176 - acc: 0.9953 - val_loss: 0.0994 - val_acc: 0.9661\n",
      "\n",
      "Epoch 00007: saving model to cu\\rnn_model\\cu-easy_model-7.h5\n",
      "Epoch 8/8\n",
      "11019/11019 [==============================] - 18s 2ms/step - loss: 0.0148 - acc: 0.9958 - val_loss: 0.0994 - val_acc: 0.9658\n",
      "\n",
      "Epoch 00008: saving model to cu\\rnn_model\\cu-easy_model-8.h5\n"
     ]
    }
   ],
   "source": [
    "rnn_model = Sequential()\n",
    "rnn_model.add(Embedding(S_MAX_FEATURES, 200, input_length=MAX_SEQLEN))\n",
    "rnn_model.add(SimpleRNN(64, input_shape=(MAX_SEQLEN, S_MAX_FEATURES), unroll=True, dropout=0.2, recurrent_dropout=0.2, return_sequences=True))\n",
    "rnn_model.add(Dense(T_MAX_FEATURES))\n",
    "rnn_model.add(Activation(\"softmax\"))\n",
    "\n",
    "rnn_model.compile(loss=\"categorical_crossentropy\", optimizer=\"adam\", metrics=['acc'])\n",
    "rnn_model.summary()\n",
    "checkpoint = ModelCheckpoint('cu\\\\rnn_model\\\\cu-easy_model-{epoch}.h5', verbose=1, save_best_only=False, save_weights_only=True)\n",
    "rnn_history = rnn_model.fit(Xtrain, np_utils.to_categorical(Ytrain, num_classes=T_MAX_FEATURES), batch_size=64, epochs=NUM_EPOCHS, validation_data=[Xval, np_utils.to_categorical(Yval, num_classes=T_MAX_FEATURES)], verbose=1, callbacks=[checkpoint])"
   ]
  },
  {
   "cell_type": "markdown",
   "metadata": {},
   "source": [
    "переобучение на 8 эпохе, т.к. валидационная точность начинает падать"
   ]
  },
  {
   "cell_type": "code",
   "execution_count": 27,
   "metadata": {},
   "outputs": [
    {
     "name": "stdout",
     "output_type": "stream",
     "text": [
      "1727/1727 [==============================] - 0s 110us/step\n",
      "0.9630058584837259\n",
      "{'accuracy w/o paddings': 0.9001479765810978}\n"
     ]
    }
   ],
   "source": [
    "rnn_model.load_weights('cu\\\\rnn_model\\\\cu-easy_model-7.h5')\n",
    "score, acc = rnn_model.evaluate(Xtest, np_utils.to_categorical(Ytest, num_classes=T_MAX_FEATURES), batch_size=64)\n",
    "print(acc)\n",
    "prediction = rnn_model.predict_classes(Xtest)\n",
    "prediction_rnn = evaluate(Ytest, prediction, pol_test_tags)\n",
    "print(prediction_rnn)"
   ]
  },
  {
   "cell_type": "markdown",
   "metadata": {},
   "source": [
    "строим графики"
   ]
  },
  {
   "cell_type": "code",
   "execution_count": 28,
   "metadata": {},
   "outputs": [
    {
     "data": {
      "image/png": "[encoded data removed]",
      "text/plain": [
       "<matplotlib.figure.Figure at 0x187d8cfa828>"
      ]
     },
     "metadata": {},
     "output_type": "display_data"
    }
   ],
   "source": [
    "plt.subplot(211)\n",
    "plt.title(\"Accuracy\")\n",
    "plt.plot(rnn_history.history[\"acc\"], color=\"g\", label=\"Train\")\n",
    "plt.plot(rnn_history.history[\"val_acc\"], color=\"b\", label=\"Validation\")\n",
    "plt.legend(loc=\"best\")\n",
    "\n",
    "plt.subplot(212)\n",
    "plt.title(\"Loss\")\n",
    "plt.plot(rnn_history.history[\"loss\"], color=\"g\", label=\"Train\")\n",
    "plt.plot(rnn_history.history[\"val_loss\"], color=\"b\", label=\"Validation\")\n",
    "plt.legend(loc=\"best\")\n",
    "\n",
    "plt.tight_layout()\n",
    "plt.show()"
   ]
  },
  {
   "cell_type": "markdown",
   "metadata": {},
   "source": [
    "| RNN | Размер эмбеддинга | Переобучение на эпохе | test_acc | Best val_acc | val_loss | Acc w/o paddings |\n",
    "|-----|-------------------|-------------|-----------------------|----------|-----------|------------------|\n",
    "| **1 модель** | 64 | нет | 0.9685 | 0.9662 | 0.1003 | 0.9157176864183235 |\n",
    "| **2 модель** | 100 | 8 | 0.9687 | 0.9678 | 0.097 | 0.9163610628578781 |\n",
    "| **3 модель** | 200 | 8 | 0.963 | 0.9661 | 0.0994 | 0.9001479765810978 | "
   ]
  },
  {
   "cell_type": "markdown",
   "metadata": {},
   "source": [
    "пока гипотезы и заметки по работе моделей:\n",
    "- чем больше размер эмбеддинга, тем быстрее происходит переобучение(но это не точно, может, будут какие-то случаи, где такого не происходило)\n",
    "- чем больше размер эмбеддинга, тем, возможно, больше тестовая, валидационная точности и точность без паддингов, а также меньше потери, что логично, т.к. в модель поступает больше параметров\n",
    "- лучше всего на rnn показала себя модель с размером эмбеддинга 100. Возможно, это произошло из-за того, что модель с эмбеддингом 200 больше переобучилась и показывает данные немного хуже.\n",
    "- что, в принципе, тоже логично, но проверять мы этого не стали: при увеличении нейронов на скрытом слое, в модель поступает больше параметров -> модель, возможно, будет переобучаться намного раньше, а показатели также увеличатся (хотя, может, только на доли сотых)\n",
    "- модель предсказывает теги без паддингов вполне хорошо и даже отлично. Это следует из того, что мы взяли весь словарб токенов и впихнули его в модель, а так доля новых слов небольшая, то и предсказывать теги в тестовом корпусе модель будет очень даже хорошо на основе имеющихся уже данных"
   ]
  },
  {
   "cell_type": "markdown",
   "metadata": {},
   "source": [
    "повторяем те же действия с другими сетями"
   ]
  },
  {
   "cell_type": "markdown",
   "metadata": {},
   "source": [
    "### LSTM"
   ]
  },
  {
   "cell_type": "code",
   "execution_count": 29,
   "metadata": {},
   "outputs": [],
   "source": [
    "from keras.layers.recurrent import LSTM"
   ]
  },
  {
   "cell_type": "code",
   "execution_count": 30,
   "metadata": {},
   "outputs": [
    {
     "name": "stdout",
     "output_type": "stream",
     "text": [
      "_________________________________________________________________\n",
      "Layer (type)                 Output Shape              Param #   \n",
      "=================================================================\n",
      "embedding_4 (Embedding)      (None, 27, 64)            1635840   \n",
      "_________________________________________________________________\n",
      "lstm_1 (LSTM)                (None, 27, 64)            33024     \n",
      "_________________________________________________________________\n",
      "dense_4 (Dense)              (None, 27, 16)            1040      \n",
      "_________________________________________________________________\n",
      "activation_4 (Activation)    (None, 27, 16)            0         \n",
      "=================================================================\n",
      "Total params: 1,669,904\n",
      "Trainable params: 1,669,904\n",
      "Non-trainable params: 0\n",
      "_________________________________________________________________\n"
     ]
    }
   ],
   "source": [
    "lstm_model = Sequential()\n",
    "lstm_model.add(Embedding(S_MAX_FEATURES, 64, input_length=MAX_SEQLEN))\n",
    "lstm_model.add(LSTM(64, input_shape=(MAX_SEQLEN, S_MAX_FEATURES), unroll=True, dropout=0.2, recurrent_dropout=0.2, return_sequences=True))\n",
    "lstm_model.add(Dense(T_MAX_FEATURES))\n",
    "lstm_model.add(Activation(\"softmax\"))\n",
    "\n",
    "lstm_model.compile(loss=\"categorical_crossentropy\", optimizer=\"adam\", metrics=['acc'])\n",
    "lstm_model.summary()"
   ]
  },
  {
   "cell_type": "code",
   "execution_count": 31,
   "metadata": {},
   "outputs": [
    {
     "name": "stdout",
     "output_type": "stream",
     "text": [
      "Train on 11019 samples, validate on 2755 samples\n",
      "Epoch 1/8\n",
      "11019/11019 [==============================] - 19s 2ms/step - loss: 1.0027 - acc: 0.7248 - val_loss: 0.6861 - val_acc: 0.7721\n",
      "\n",
      "Epoch 00001: saving model to cu\\lstm_model\\cu-easy_model-1.h5\n",
      "Epoch 2/8\n",
      "11019/11019 [==============================] - 10s 907us/step - loss: 0.6052 - acc: 0.8128 - val_loss: 0.5359 - val_acc: 0.8356\n",
      "\n",
      "Epoch 00002: saving model to cu\\lstm_model\\cu-easy_model-2.h5\n",
      "Epoch 3/8\n",
      "11019/11019 [==============================] - 10s 912us/step - loss: 0.4430 - acc: 0.8677 - val_loss: 0.3428 - val_acc: 0.9021\n",
      "\n",
      "Epoch 00003: saving model to cu\\lstm_model\\cu-easy_model-3.h5\n",
      "Epoch 4/8\n",
      "11019/11019 [==============================] - 10s 893us/step - loss: 0.2498 - acc: 0.9306 - val_loss: 0.1963 - val_acc: 0.9449\n",
      "\n",
      "Epoch 00004: saving model to cu\\lstm_model\\cu-easy_model-4.h5\n",
      "Epoch 5/8\n",
      "11019/11019 [==============================] - 10s 890us/step - loss: 0.1245 - acc: 0.9702 - val_loss: 0.1372 - val_acc: 0.9560\n",
      "\n",
      "Epoch 00005: saving model to cu\\lstm_model\\cu-easy_model-5.h5\n",
      "Epoch 6/8\n",
      "11019/11019 [==============================] - 10s 889us/step - loss: 0.0669 - acc: 0.9853 - val_loss: 0.1187 - val_acc: 0.9597\n",
      "\n",
      "Epoch 00006: saving model to cu\\lstm_model\\cu-easy_model-6.h5\n",
      "Epoch 7/8\n",
      "11019/11019 [==============================] - 10s 895us/step - loss: 0.0432 - acc: 0.9902 - val_loss: 0.1127 - val_acc: 0.9599\n",
      "\n",
      "Epoch 00007: saving model to cu\\lstm_model\\cu-easy_model-7.h5\n",
      "Epoch 8/8\n",
      "11019/11019 [==============================] - 10s 895us/step - loss: 0.0317 - acc: 0.9929 - val_loss: 0.1085 - val_acc: 0.9616\n",
      "\n",
      "Epoch 00008: saving model to cu\\lstm_model\\cu-easy_model-8.h5\n"
     ]
    }
   ],
   "source": [
    "checkpoint = ModelCheckpoint('cu\\\\lstm_model\\\\cu-easy_model-{epoch}.h5', verbose=1, save_best_only=False, save_weights_only=True)\n",
    "lstm_history = lstm_model.fit(Xtrain, np_utils.to_categorical(Ytrain, num_classes=T_MAX_FEATURES), batch_size=64, epochs=NUM_EPOCHS, validation_data=[Xval, np_utils.to_categorical(Yval, num_classes=T_MAX_FEATURES)], verbose=1, callbacks=[checkpoint])"
   ]
  },
  {
   "cell_type": "markdown",
   "metadata": {},
   "source": [
    "т.к. валидационная точность растет на протяжении всех эпох, то переобучения нет"
   ]
  },
  {
   "cell_type": "code",
   "execution_count": 32,
   "metadata": {},
   "outputs": [
    {
     "name": "stdout",
     "output_type": "stream",
     "text": [
      "1727/1727 [==============================] - 0s 121us/step\n",
      "0.9576443860347242\n",
      "{'accuracy w/o paddings': 0.8861223701988035}\n"
     ]
    }
   ],
   "source": [
    "lstm_model.load_weights('cu\\\\lstm_model\\\\cu-easy_model-8.h5')\n",
    "score, acc = lstm_model.evaluate(Xtest, np_utils.to_categorical(Ytest, num_classes=T_MAX_FEATURES), batch_size=64)\n",
    "print(acc)\n",
    "prediction = lstm_model.predict_classes(Xtest)\n",
    "prediction_lstm = evaluate(Ytest, prediction, pol_test_tags)\n",
    "print(prediction_lstm)"
   ]
  },
  {
   "cell_type": "code",
   "execution_count": 33,
   "metadata": {},
   "outputs": [
    {
     "data": {
      "image/png": "[encoded data removed]",
      "text/plain": [
       "<matplotlib.figure.Figure at 0x187f0439828>"
      ]
     },
     "metadata": {},
     "output_type": "display_data"
    }
   ],
   "source": [
    "plt.subplot(211)\n",
    "plt.title(\"Accuracy\")\n",
    "plt.plot(lstm_history.history[\"acc\"], color=\"g\", label=\"Train\")\n",
    "plt.plot(lstm_history.history[\"val_acc\"], color=\"b\", label=\"Validation\")\n",
    "plt.legend(loc=\"best\")\n",
    "\n",
    "plt.subplot(212)\n",
    "plt.title(\"Loss\")\n",
    "plt.plot(lstm_history.history[\"loss\"], color=\"g\", label=\"Train\")\n",
    "plt.plot(lstm_history.history[\"val_loss\"], color=\"b\", label=\"Validation\")\n",
    "plt.legend(loc=\"best\")\n",
    "\n",
    "plt.tight_layout()\n",
    "plt.show()"
   ]
  },
  {
   "cell_type": "markdown",
   "metadata": {},
   "source": [
    "Размер эмбеддинга 100"
   ]
  },
  {
   "cell_type": "code",
   "execution_count": 34,
   "metadata": {},
   "outputs": [
    {
     "name": "stdout",
     "output_type": "stream",
     "text": [
      "_________________________________________________________________\n",
      "Layer (type)                 Output Shape              Param #   \n",
      "=================================================================\n",
      "embedding_5 (Embedding)      (None, 27, 100)           2556000   \n",
      "_________________________________________________________________\n",
      "lstm_2 (LSTM)                (None, 27, 64)            42240     \n",
      "_________________________________________________________________\n",
      "dense_5 (Dense)              (None, 27, 16)            1040      \n",
      "_________________________________________________________________\n",
      "activation_5 (Activation)    (None, 27, 16)            0         \n",
      "=================================================================\n",
      "Total params: 2,599,280\n",
      "Trainable params: 2,599,280\n",
      "Non-trainable params: 0\n",
      "_________________________________________________________________\n",
      "Train on 11019 samples, validate on 2755 samples\n",
      "Epoch 1/8\n",
      "11019/11019 [==============================] - 23s 2ms/step - loss: 0.9536 - acc: 0.7252 - val_loss: 0.6612 - val_acc: 0.8015\n",
      "\n",
      "Epoch 00001: saving model to cu\\lstm_model\\cu-easy_model-1.h5\n",
      "Epoch 2/8\n",
      "11019/11019 [==============================] - 13s 1ms/step - loss: 0.5564 - acc: 0.8368 - val_loss: 0.4508 - val_acc: 0.8764\n",
      "\n",
      "Epoch 00002: saving model to cu\\lstm_model\\cu-easy_model-2.h5\n",
      "Epoch 3/8\n",
      "11019/11019 [==============================] - 13s 1ms/step - loss: 0.3344 - acc: 0.9089 - val_loss: 0.2486 - val_acc: 0.9318\n",
      "\n",
      "Epoch 00003: saving model to cu\\lstm_model\\cu-easy_model-3.h5\n",
      "Epoch 4/8\n",
      "11019/11019 [==============================] - 13s 1ms/step - loss: 0.1655 - acc: 0.9583 - val_loss: 0.1508 - val_acc: 0.9568\n",
      "\n",
      "Epoch 00004: saving model to cu\\lstm_model\\cu-easy_model-4.h5\n",
      "Epoch 5/8\n",
      "11019/11019 [==============================] - 13s 1ms/step - loss: 0.0767 - acc: 0.9838 - val_loss: 0.1213 - val_acc: 0.9611\n",
      "\n",
      "Epoch 00005: saving model to cu\\lstm_model\\cu-easy_model-5.h5\n",
      "Epoch 6/8\n",
      "11019/11019 [==============================] - 13s 1ms/step - loss: 0.0433 - acc: 0.9913 - val_loss: 0.1108 - val_acc: 0.9638\n",
      "\n",
      "Epoch 00006: saving model to cu\\lstm_model\\cu-easy_model-6.h5\n",
      "Epoch 7/8\n",
      "11019/11019 [==============================] - 14s 1ms/step - loss: 0.0299 - acc: 0.9941 - val_loss: 0.1073 - val_acc: 0.9646\n",
      "\n",
      "Epoch 00007: saving model to cu\\lstm_model\\cu-easy_model-7.h5\n",
      "Epoch 8/8\n",
      "11019/11019 [==============================] - 13s 1ms/step - loss: 0.0231 - acc: 0.9949 - val_loss: 0.1050 - val_acc: 0.9652\n",
      "\n",
      "Epoch 00008: saving model to cu\\lstm_model\\cu-easy_model-8.h5\n"
     ]
    }
   ],
   "source": [
    "lstm_model = Sequential()\n",
    "lstm_model.add(Embedding(S_MAX_FEATURES, 100, input_length=MAX_SEQLEN))\n",
    "lstm_model.add(LSTM(64, input_shape=(MAX_SEQLEN, S_MAX_FEATURES), unroll=True, dropout=0.2, recurrent_dropout=0.2, return_sequences=True))\n",
    "lstm_model.add(Dense(T_MAX_FEATURES))\n",
    "lstm_model.add(Activation(\"softmax\"))\n",
    "\n",
    "lstm_model.compile(loss=\"categorical_crossentropy\", optimizer=\"adam\", metrics=['acc'])\n",
    "lstm_model.summary()\n",
    "checkpoint = ModelCheckpoint('cu\\\\lstm_model\\\\cu-easy_model-{epoch}.h5', verbose=1, save_best_only=False, save_weights_only=True)\n",
    "lstm_history = lstm_model.fit(Xtrain, np_utils.to_categorical(Ytrain, num_classes=T_MAX_FEATURES), batch_size=64, epochs=NUM_EPOCHS, validation_data=[Xval, np_utils.to_categorical(Yval, num_classes=T_MAX_FEATURES)], verbose=1, callbacks=[checkpoint])"
   ]
  },
  {
   "cell_type": "markdown",
   "metadata": {},
   "source": [
    "т.к. валидационная точность растет на протяжении всех эпох, то переобучения нет"
   ]
  },
  {
   "cell_type": "code",
   "execution_count": 35,
   "metadata": {},
   "outputs": [
    {
     "name": "stdout",
     "output_type": "stream",
     "text": [
      "1727/1727 [==============================] - 0s 139us/step\n",
      "0.9645928518235096\n",
      "{'accuracy w/o paddings': 0.9044585987261147}\n"
     ]
    }
   ],
   "source": [
    "lstm_model.load_weights('cu\\\\lstm_model\\\\cu-easy_model-8.h5')\n",
    "score, acc = lstm_model.evaluate(Xtest, np_utils.to_categorical(Ytest, num_classes=T_MAX_FEATURES), batch_size=64)\n",
    "print(acc)\n",
    "prediction = lstm_model.predict_classes(Xtest)\n",
    "prediction_lstm = evaluate(Ytest, prediction, pol_test_tags)\n",
    "print(prediction_lstm)"
   ]
  },
  {
   "cell_type": "code",
   "execution_count": 36,
   "metadata": {},
   "outputs": [
    {
     "data": {
      "image/png": "[encoded data removed]",
      "text/plain": [
       "<matplotlib.figure.Figure at 0x18782e37588>"
      ]
     },
     "metadata": {},
     "output_type": "display_data"
    }
   ],
   "source": [
    "plt.subplot(211)\n",
    "plt.title(\"Accuracy\")\n",
    "plt.plot(lstm_history.history[\"acc\"], color=\"g\", label=\"Train\")\n",
    "plt.plot(lstm_history.history[\"val_acc\"], color=\"b\", label=\"Validation\")\n",
    "plt.legend(loc=\"best\")\n",
    "\n",
    "plt.subplot(212)\n",
    "plt.title(\"Loss\")\n",
    "plt.plot(lstm_history.history[\"loss\"], color=\"g\", label=\"Train\")\n",
    "plt.plot(lstm_history.history[\"val_loss\"], color=\"b\", label=\"Validation\")\n",
    "plt.legend(loc=\"best\")\n",
    "\n",
    "plt.tight_layout()\n",
    "plt.show()"
   ]
  },
  {
   "cell_type": "markdown",
   "metadata": {},
   "source": [
    "Размер эмбеддинга 200"
   ]
  },
  {
   "cell_type": "code",
   "execution_count": 37,
   "metadata": {},
   "outputs": [
    {
     "name": "stdout",
     "output_type": "stream",
     "text": [
      "_________________________________________________________________\n",
      "Layer (type)                 Output Shape              Param #   \n",
      "=================================================================\n",
      "embedding_6 (Embedding)      (None, 27, 200)           5112000   \n",
      "_________________________________________________________________\n",
      "lstm_3 (LSTM)                (None, 27, 64)            67840     \n",
      "_________________________________________________________________\n",
      "dense_6 (Dense)              (None, 27, 16)            1040      \n",
      "_________________________________________________________________\n",
      "activation_6 (Activation)    (None, 27, 16)            0         \n",
      "=================================================================\n",
      "Total params: 5,180,880\n",
      "Trainable params: 5,180,880\n",
      "Non-trainable params: 0\n",
      "_________________________________________________________________\n",
      "Train on 11019 samples, validate on 2755 samples\n",
      "Epoch 1/8\n",
      "11019/11019 [==============================] - 37s 3ms/step - loss: 0.8767 - acc: 0.7475 - val_loss: 0.5796 - val_acc: 0.8274\n",
      "\n",
      "Epoch 00001: saving model to cu\\lstm_model\\cu-easy_model-1.h5\n",
      "Epoch 2/8\n",
      "11019/11019 [==============================] - 22s 2ms/step - loss: 0.4348 - acc: 0.8809 - val_loss: 0.2964 - val_acc: 0.9206\n",
      "\n",
      "Epoch 00002: saving model to cu\\lstm_model\\cu-easy_model-2.h5\n",
      "Epoch 3/8\n",
      "11019/11019 [==============================] - 22s 2ms/step - loss: 0.1895 - acc: 0.9484 - val_loss: 0.1512 - val_acc: 0.9565\n",
      "\n",
      "Epoch 00003: saving model to cu\\lstm_model\\cu-easy_model-3.h5\n",
      "Epoch 4/8\n",
      "11019/11019 [==============================] - 22s 2ms/step - loss: 0.0711 - acc: 0.9849 - val_loss: 0.1162 - val_acc: 0.9628\n",
      "\n",
      "Epoch 00004: saving model to cu\\lstm_model\\cu-easy_model-4.h5\n",
      "Epoch 5/8\n",
      "11019/11019 [==============================] - 22s 2ms/step - loss: 0.0340 - acc: 0.9933 - val_loss: 0.1087 - val_acc: 0.9641\n",
      "\n",
      "Epoch 00005: saving model to cu\\lstm_model\\cu-easy_model-5.h5\n",
      "Epoch 6/8\n",
      "11019/11019 [==============================] - 23s 2ms/step - loss: 0.0224 - acc: 0.9951 - val_loss: 0.1058 - val_acc: 0.9639\n",
      "\n",
      "Epoch 00006: saving model to cu\\lstm_model\\cu-easy_model-6.h5\n",
      "Epoch 7/8\n",
      "11019/11019 [==============================] - 23s 2ms/step - loss: 0.0174 - acc: 0.9954 - val_loss: 0.1043 - val_acc: 0.9656\n",
      "\n",
      "Epoch 00007: saving model to cu\\lstm_model\\cu-easy_model-7.h5\n",
      "Epoch 8/8\n",
      "11019/11019 [==============================] - 23s 2ms/step - loss: 0.0144 - acc: 0.9959 - val_loss: 0.1041 - val_acc: 0.9650\n",
      "\n",
      "Epoch 00008: saving model to cu\\lstm_model\\cu-easy_model-8.h5\n"
     ]
    }
   ],
   "source": [
    "lstm_model = Sequential()\n",
    "lstm_model.add(Embedding(S_MAX_FEATURES, 200, input_length=MAX_SEQLEN))\n",
    "lstm_model.add(LSTM(64, input_shape=(MAX_SEQLEN, S_MAX_FEATURES), unroll=True, dropout=0.2, recurrent_dropout=0.2, return_sequences=True))\n",
    "lstm_model.add(Dense(T_MAX_FEATURES))\n",
    "lstm_model.add(Activation(\"softmax\"))\n",
    "\n",
    "lstm_model.compile(loss=\"categorical_crossentropy\", optimizer=\"adam\", metrics=['acc'])\n",
    "lstm_model.summary()\n",
    "checkpoint = ModelCheckpoint('cu\\\\lstm_model\\\\cu-easy_model-{epoch}.h5', verbose=1, save_best_only=False, save_weights_only=True)\n",
    "lstm_history = lstm_model.fit(Xtrain, np_utils.to_categorical(Ytrain, num_classes=T_MAX_FEATURES), batch_size=64, epochs=NUM_EPOCHS, validation_data=[Xval, np_utils.to_categorical(Yval, num_classes=T_MAX_FEATURES)], verbose=1, callbacks=[checkpoint])"
   ]
  },
  {
   "cell_type": "markdown",
   "metadata": {},
   "source": [
    "переобучение на 6 эпохе, т.к. валидационная точность начинает давать сбои"
   ]
  },
  {
   "cell_type": "code",
   "execution_count": 38,
   "metadata": {},
   "outputs": [
    {
     "name": "stdout",
     "output_type": "stream",
     "text": [
      "1727/1727 [==============================] - 0s 177us/step\n",
      "0.96193355746399\n",
      "{'accuracy w/o paddings': 0.898346522550344}\n"
     ]
    }
   ],
   "source": [
    "lstm_model.load_weights('cu\\\\lstm_model\\\\cu-easy_model-5.h5')\n",
    "score, acc = lstm_model.evaluate(Xtest, np_utils.to_categorical(Ytest, num_classes=T_MAX_FEATURES), batch_size=64)\n",
    "print(acc)\n",
    "prediction = lstm_model.predict_classes(Xtest)\n",
    "prediction_lstm = evaluate(Ytest, prediction, pol_test_tags)\n",
    "print(prediction_lstm)"
   ]
  },
  {
   "cell_type": "code",
   "execution_count": 39,
   "metadata": {},
   "outputs": [
    {
     "data": {
      "image/png": "[encoded data removed]",
      "text/plain": [
       "<matplotlib.figure.Figure at 0x187946f7470>"
      ]
     },
     "metadata": {},
     "output_type": "display_data"
    }
   ],
   "source": [
    "plt.subplot(211)\n",
    "plt.title(\"Accuracy\")\n",
    "plt.plot(lstm_history.history[\"acc\"], color=\"g\", label=\"Train\")\n",
    "plt.plot(lstm_history.history[\"val_acc\"], color=\"b\", label=\"Validation\")\n",
    "plt.legend(loc=\"best\")\n",
    "\n",
    "plt.subplot(212)\n",
    "plt.title(\"Loss\")\n",
    "plt.plot(lstm_history.history[\"loss\"], color=\"g\", label=\"Train\")\n",
    "plt.plot(lstm_history.history[\"val_loss\"], color=\"b\", label=\"Validation\")\n",
    "plt.legend(loc=\"best\")\n",
    "\n",
    "plt.tight_layout()\n",
    "plt.show()"
   ]
  },
  {
   "cell_type": "markdown",
   "metadata": {},
   "source": [
    "| LSTM | Размер эмбеддинга | Переобучение на эпохе | test_acc | Best val_acc | val_loss | Acc w/o paddings |\n",
    "|-----|-------------------|-------------|-----------------------|----------|-----------|------------------|\n",
    "| **1 модель** | 64 | нет | 0.9576 | 0.9616 | 0.1085 | 0.8861223701988035 |\n",
    "| **2 модель** | 100 | нет | 0.9646 | 0.9652 | 0.1050 | 0.9044585987261147 |\n",
    "| **3 модель** | 200 | 8 | 0.9619 | 0.9641 | 0.1087 | 0.898346522550344 | "
   ]
  },
  {
   "cell_type": "markdown",
   "metadata": {},
   "source": [
    "заметки по работе моделей:\n",
    "- действительно, чем больше размер эмбеддинга тем раньше происходит переобучение\n",
    "- в lstm лучше рекомендует себя модель с размером эмбеддинга 100: у нее лучше показатели по тестовой и валидационной точностям, точности без паддингов, а также по потерям. Однако, если бы в модели с размером эмбеддинга 200 не переобучилась на 8 эпохе, возможно, ее показатели были бы лучше, т.к. в модель подается в два раза больше параметров. Ну, и разница в показателях всего лишь в долях тысячных.\n",
    "- Стоит снова упомянуть, что для польского языка мы подали в модель все токены тренировочной модели, а доля незнакомых слов довольно маленькая, поэтому модель так хорошо предсказывает теги для тестовой выборки без паддингов"
   ]
  },
  {
   "cell_type": "markdown",
   "metadata": {},
   "source": [
    "### Bidirectional LSTM"
   ]
  },
  {
   "cell_type": "code",
   "execution_count": 40,
   "metadata": {},
   "outputs": [
    {
     "name": "stdout",
     "output_type": "stream",
     "text": [
      "_________________________________________________________________\n",
      "Layer (type)                 Output Shape              Param #   \n",
      "=================================================================\n",
      "embedding_7 (Embedding)      (None, 27, 64)            1635840   \n",
      "_________________________________________________________________\n",
      "bidirectional_1 (Bidirection (None, 27, 128)           66048     \n",
      "_________________________________________________________________\n",
      "dense_7 (Dense)              (None, 27, 16)            2064      \n",
      "_________________________________________________________________\n",
      "activation_7 (Activation)    (None, 27, 16)            0         \n",
      "=================================================================\n",
      "Total params: 1,703,952\n",
      "Trainable params: 1,703,952\n",
      "Non-trainable params: 0\n",
      "_________________________________________________________________\n"
     ]
    }
   ],
   "source": [
    "from keras.layers.wrappers import Bidirectional\n",
    "bilstm_model = Sequential()\n",
    "bilstm_model.add(Embedding(S_MAX_FEATURES, 64, input_length=MAX_SEQLEN))\n",
    "bilstm_model.add(Bidirectional(LSTM(64, input_shape=(MAX_SEQLEN, S_MAX_FEATURES), unroll=True, dropout=0.2, recurrent_dropout=0.2, return_sequences=True)))\n",
    "bilstm_model.add(Dense(T_MAX_FEATURES))\n",
    "bilstm_model.add(Activation(\"softmax\"))\n",
    "\n",
    "bilstm_model.compile(loss=\"categorical_crossentropy\", optimizer=\"adam\", metrics=['acc'])\n",
    "bilstm_model.summary()"
   ]
  },
  {
   "cell_type": "code",
   "execution_count": 41,
   "metadata": {},
   "outputs": [
    {
     "name": "stdout",
     "output_type": "stream",
     "text": [
      "Train on 11019 samples, validate on 2755 samples\n",
      "Epoch 1/8\n",
      "11019/11019 [==============================] - 41s 4ms/step - loss: 0.8810 - acc: 0.7570 - val_loss: 0.5941 - val_acc: 0.8118\n",
      "\n",
      "Epoch 00001: saving model to cu\\bilstm_model\\cu-easy_model-1.h5\n",
      "Epoch 2/8\n",
      "11019/11019 [==============================] - 20s 2ms/step - loss: 0.4967 - acc: 0.8439 - val_loss: 0.3728 - val_acc: 0.8839\n",
      "\n",
      "Epoch 00002: saving model to cu\\bilstm_model\\cu-easy_model-2.h5\n",
      "Epoch 3/8\n",
      "11019/11019 [==============================] - 23s 2ms/step - loss: 0.2816 - acc: 0.9112 - val_loss: 0.2079 - val_acc: 0.9361\n",
      "\n",
      "Epoch 00003: saving model to cu\\bilstm_model\\cu-easy_model-3.h5\n",
      "Epoch 4/8\n",
      "11019/11019 [==============================] - 23s 2ms/step - loss: 0.1392 - acc: 0.9610 - val_loss: 0.1217 - val_acc: 0.9624\n",
      "\n",
      "Epoch 00004: saving model to cu\\bilstm_model\\cu-easy_model-4.h5\n",
      "Epoch 5/8\n",
      "11019/11019 [==============================] - 23s 2ms/step - loss: 0.0575 - acc: 0.9884 - val_loss: 0.0988 - val_acc: 0.9664\n",
      "\n",
      "Epoch 00005: saving model to cu\\bilstm_model\\cu-easy_model-5.h5\n",
      "Epoch 6/8\n",
      "11019/11019 [==============================] - 23s 2ms/step - loss: 0.0300 - acc: 0.9941 - val_loss: 0.0915 - val_acc: 0.9673\n",
      "\n",
      "Epoch 00006: saving model to cu\\bilstm_model\\cu-easy_model-6.h5\n",
      "Epoch 7/8\n",
      "11019/11019 [==============================] - 23s 2ms/step - loss: 0.0206 - acc: 0.9953 - val_loss: 0.0899 - val_acc: 0.9677\n",
      "\n",
      "Epoch 00007: saving model to cu\\bilstm_model\\cu-easy_model-7.h5\n",
      "Epoch 8/8\n",
      "11019/11019 [==============================] - 23s 2ms/step - loss: 0.0162 - acc: 0.9957 - val_loss: 0.0890 - val_acc: 0.9684\n",
      "\n",
      "Epoch 00008: saving model to cu\\bilstm_model\\cu-easy_model-8.h5\n"
     ]
    }
   ],
   "source": [
    "checkpoint = ModelCheckpoint('cu\\\\bilstm_model\\\\cu-easy_model-{epoch}.h5', verbose=1, save_best_only=False, save_weights_only=True)\n",
    "bilstm_history = bilstm_model.fit(Xtrain, np_utils.to_categorical(Ytrain, num_classes=T_MAX_FEATURES), batch_size=64, epochs=NUM_EPOCHS, validation_data=[Xval, np_utils.to_categorical(Yval, num_classes=T_MAX_FEATURES)], verbose=1, callbacks=[checkpoint])"
   ]
  },
  {
   "cell_type": "markdown",
   "metadata": {},
   "source": [
    "т.к. валидационная точность растет на протяжении всех эпох, то переобучения нет"
   ]
  },
  {
   "cell_type": "code",
   "execution_count": 42,
   "metadata": {},
   "outputs": [
    {
     "name": "stdout",
     "output_type": "stream",
     "text": [
      "1727/1727 [==============================] - 2s 997us/step\n",
      "0.9683244337080252\n",
      "{'accuracy w/o paddings': 0.9152673229106352}\n"
     ]
    }
   ],
   "source": [
    "bilstm_model.load_weights('cu\\\\bilstm_model\\\\cu-easy_model-8.h5')\n",
    "score, acc = bilstm_model.evaluate(Xtest, np_utils.to_categorical(Ytest, num_classes=T_MAX_FEATURES), batch_size=64)\n",
    "print(acc)\n",
    "prediction = bilstm_model.predict_classes(Xtest)\n",
    "prediction_bilstm = evaluate(Ytest, prediction, pol_test_tags)\n",
    "print(prediction_bilstm)"
   ]
  },
  {
   "cell_type": "code",
   "execution_count": 43,
   "metadata": {},
   "outputs": [
    {
     "data": {
      "image/png": "[encoded data removed]",
      "text/plain": [
       "<matplotlib.figure.Figure at 0x187aa23df28>"
      ]
     },
     "metadata": {},
     "output_type": "display_data"
    }
   ],
   "source": [
    "plt.subplot(211)\n",
    "plt.title(\"Accuracy\")\n",
    "plt.plot(bilstm_history.history[\"acc\"], color=\"g\", label=\"Train\")\n",
    "plt.plot(bilstm_history.history[\"val_acc\"], color=\"b\", label=\"Validation\")\n",
    "plt.legend(loc=\"best\")\n",
    "\n",
    "plt.subplot(212)\n",
    "plt.title(\"Loss\")\n",
    "plt.plot(bilstm_history.history[\"loss\"], color=\"g\", label=\"Train\")\n",
    "plt.plot(bilstm_history.history[\"val_loss\"], color=\"b\", label=\"Validation\")\n",
    "plt.legend(loc=\"best\")\n",
    "\n",
    "plt.tight_layout()\n",
    "plt.show()"
   ]
  },
  {
   "cell_type": "markdown",
   "metadata": {},
   "source": [
    "Размер эмбеддинга 100"
   ]
  },
  {
   "cell_type": "code",
   "execution_count": 44,
   "metadata": {},
   "outputs": [
    {
     "name": "stdout",
     "output_type": "stream",
     "text": [
      "_________________________________________________________________\n",
      "Layer (type)                 Output Shape              Param #   \n",
      "=================================================================\n",
      "embedding_8 (Embedding)      (None, 27, 100)           2556000   \n",
      "_________________________________________________________________\n",
      "bidirectional_2 (Bidirection (None, 27, 128)           84480     \n",
      "_________________________________________________________________\n",
      "dense_8 (Dense)              (None, 27, 16)            2064      \n",
      "_________________________________________________________________\n",
      "activation_8 (Activation)    (None, 27, 16)            0         \n",
      "=================================================================\n",
      "Total params: 2,642,544\n",
      "Trainable params: 2,642,544\n",
      "Non-trainable params: 0\n",
      "_________________________________________________________________\n",
      "Train on 11019 samples, validate on 2755 samples\n",
      "Epoch 1/8\n",
      "11019/11019 [==============================] - 62s 6ms/step - loss: 0.8571 - acc: 0.7684 - val_loss: 0.5472 - val_acc: 0.8208\n",
      "\n",
      "Epoch 00001: saving model to cu\\bilstm_model\\cu-easy_model-1.h5\n",
      "Epoch 2/8\n",
      "11019/11019 [==============================] - 49s 4ms/step - loss: 0.4186 - acc: 0.8731 - val_loss: 0.2765 - val_acc: 0.9140\n",
      "\n",
      "Epoch 00002: saving model to cu\\bilstm_model\\cu-easy_model-2.h5\n",
      "Epoch 3/8\n",
      "11019/11019 [==============================] - 61s 5ms/step - loss: 0.1743 - acc: 0.9508 - val_loss: 0.1251 - val_acc: 0.9606\n",
      "\n",
      "Epoch 00003: saving model to cu\\bilstm_model\\cu-easy_model-3.h5\n",
      "Epoch 4/8\n",
      "11019/11019 [==============================] - 40s 4ms/step - loss: 0.0645 - acc: 0.9854 - val_loss: 0.0965 - val_acc: 0.9667\n",
      "\n",
      "Epoch 00004: saving model to cu\\bilstm_model\\cu-easy_model-4.h5\n",
      "Epoch 5/8\n",
      "11019/11019 [==============================] - 34s 3ms/step - loss: 0.0311 - acc: 0.9936 - val_loss: 0.0917 - val_acc: 0.9670\n",
      "\n",
      "Epoch 00005: saving model to cu\\bilstm_model\\cu-easy_model-5.h5\n",
      "Epoch 6/8\n",
      "11019/11019 [==============================] - 61s 6ms/step - loss: 0.0197 - acc: 0.9955 - val_loss: 0.0879 - val_acc: 0.9679\n",
      "\n",
      "Epoch 00006: saving model to cu\\bilstm_model\\cu-easy_model-6.h5\n",
      "Epoch 7/8\n",
      "11019/11019 [==============================] - 64s 6ms/step - loss: 0.0150 - acc: 0.9962 - val_loss: 0.0869 - val_acc: 0.9683\n",
      "\n",
      "Epoch 00007: saving model to cu\\bilstm_model\\cu-easy_model-7.h5\n",
      "Epoch 8/8\n",
      "11019/11019 [==============================] - 65s 6ms/step - loss: 0.0122 - acc: 0.9967 - val_loss: 0.0868 - val_acc: 0.9689\n",
      "\n",
      "Epoch 00008: saving model to cu\\bilstm_model\\cu-easy_model-8.h5\n"
     ]
    }
   ],
   "source": [
    "bilstm_model = Sequential()\n",
    "bilstm_model.add(Embedding(S_MAX_FEATURES, 100, input_length=MAX_SEQLEN))\n",
    "bilstm_model.add(Bidirectional(LSTM(64, input_shape=(MAX_SEQLEN, S_MAX_FEATURES), unroll=True, dropout=0.2, recurrent_dropout=0.2, return_sequences=True)))\n",
    "bilstm_model.add(Dense(T_MAX_FEATURES))\n",
    "bilstm_model.add(Activation(\"softmax\"))\n",
    "\n",
    "bilstm_model.compile(loss=\"categorical_crossentropy\", optimizer=\"adam\", metrics=['acc'])\n",
    "bilstm_model.summary()\n",
    "checkpoint = ModelCheckpoint('cu\\\\bilstm_model\\\\cu-easy_model-{epoch}.h5', verbose=1, save_best_only=False, save_weights_only=True)\n",
    "bilstm_history = bilstm_model.fit(Xtrain, np_utils.to_categorical(Ytrain, num_classes=T_MAX_FEATURES), batch_size=64, epochs=NUM_EPOCHS, validation_data=[Xval, np_utils.to_categorical(Yval, num_classes=T_MAX_FEATURES)], verbose=1, callbacks=[checkpoint])"
   ]
  },
  {
   "cell_type": "markdown",
   "metadata": {},
   "source": [
    "т.к. валидационная точность растет на протяжении всех эпох, то переобучения нет"
   ]
  },
  {
   "cell_type": "code",
   "execution_count": 45,
   "metadata": {},
   "outputs": [
    {
     "name": "stdout",
     "output_type": "stream",
     "text": [
      "1727/1727 [==============================] - 1s 776us/step\n",
      "0.9689034695699854\n",
      "{'accuracy w/o paddings': 0.9162323875699669}\n"
     ]
    }
   ],
   "source": [
    "bilstm_model.load_weights('cu\\\\bilstm_model\\\\cu-easy_model-8.h5')\n",
    "score, acc = bilstm_model.evaluate(Xtest, np_utils.to_categorical(Ytest, num_classes=T_MAX_FEATURES), batch_size=64)\n",
    "print(acc)\n",
    "prediction = bilstm_model.predict_classes(Xtest)\n",
    "prediction_bilstm = evaluate(Ytest, prediction, pol_test_tags)\n",
    "print(prediction_bilstm)"
   ]
  },
  {
   "cell_type": "code",
   "execution_count": 46,
   "metadata": {},
   "outputs": [
    {
     "data": {
      "image/png": "[encoded data removed]",
      "text/plain": [
       "<matplotlib.figure.Figure at 0x187fe136198>"
      ]
     },
     "metadata": {},
     "output_type": "display_data"
    }
   ],
   "source": [
    "plt.subplot(211)\n",
    "plt.title(\"Accuracy\")\n",
    "plt.plot(bilstm_history.history[\"acc\"], color=\"g\", label=\"Train\")\n",
    "plt.plot(bilstm_history.history[\"val_acc\"], color=\"b\", label=\"Validation\")\n",
    "plt.legend(loc=\"best\")\n",
    "\n",
    "plt.subplot(212)\n",
    "plt.title(\"Loss\")\n",
    "plt.plot(bilstm_history.history[\"loss\"], color=\"g\", label=\"Train\")\n",
    "plt.plot(bilstm_history.history[\"val_loss\"], color=\"b\", label=\"Validation\")\n",
    "plt.legend(loc=\"best\")\n",
    "\n",
    "plt.tight_layout()\n",
    "plt.show()"
   ]
  },
  {
   "cell_type": "markdown",
   "metadata": {},
   "source": [
    "Размер эмбеддинга 200"
   ]
  },
  {
   "cell_type": "code",
   "execution_count": 47,
   "metadata": {},
   "outputs": [
    {
     "name": "stdout",
     "output_type": "stream",
     "text": [
      "_________________________________________________________________\n",
      "Layer (type)                 Output Shape              Param #   \n",
      "=================================================================\n",
      "embedding_9 (Embedding)      (None, 27, 200)           5112000   \n",
      "_________________________________________________________________\n",
      "bidirectional_3 (Bidirection (None, 27, 128)           135680    \n",
      "_________________________________________________________________\n",
      "dense_9 (Dense)              (None, 27, 16)            2064      \n",
      "_________________________________________________________________\n",
      "activation_9 (Activation)    (None, 27, 16)            0         \n",
      "=================================================================\n",
      "Total params: 5,249,744\n",
      "Trainable params: 5,249,744\n",
      "Non-trainable params: 0\n",
      "_________________________________________________________________\n",
      "Train on 11019 samples, validate on 2755 samples\n",
      "Epoch 1/8\n",
      "11019/11019 [==============================] - 104s 9ms/step - loss: 0.7651 - acc: 0.7875 - val_loss: 0.4476 - val_acc: 0.8695\n",
      "\n",
      "Epoch 00001: saving model to cu\\bilstm_model\\cu-easy_model-1.h5\n",
      "Epoch 2/8\n",
      "11019/11019 [==============================] - 49s 4ms/step - loss: 0.2785 - acc: 0.9187 - val_loss: 0.1655 - val_acc: 0.9482\n",
      "\n",
      "Epoch 00002: saving model to cu\\bilstm_model\\cu-easy_model-2.h5\n",
      "Epoch 3/8\n",
      "11019/11019 [==============================] - 53s 5ms/step - loss: 0.0962 - acc: 0.9734 - val_loss: 0.0984 - val_acc: 0.9671\n",
      "\n",
      "Epoch 00003: saving model to cu\\bilstm_model\\cu-easy_model-3.h5\n",
      "Epoch 4/8\n",
      "11019/11019 [==============================] - 101s 9ms/step - loss: 0.0326 - acc: 0.9937 - val_loss: 0.0892 - val_acc: 0.9677\n",
      "\n",
      "Epoch 00004: saving model to cu\\bilstm_model\\cu-easy_model-4.h5\n",
      "Epoch 5/8\n",
      "11019/11019 [==============================] - 91s 8ms/step - loss: 0.0179 - acc: 0.9957 - val_loss: 0.0858 - val_acc: 0.9684\n",
      "\n",
      "Epoch 00005: saving model to cu\\bilstm_model\\cu-easy_model-5.h5\n",
      "Epoch 6/8\n",
      "11019/11019 [==============================] - 60s 5ms/step - loss: 0.0131 - acc: 0.9965 - val_loss: 0.0851 - val_acc: 0.9687\n",
      "\n",
      "Epoch 00006: saving model to cu\\bilstm_model\\cu-easy_model-6.h5\n",
      "Epoch 7/8\n",
      "11019/11019 [==============================] - 77s 7ms/step - loss: 0.0103 - acc: 0.9972 - val_loss: 0.0851 - val_acc: 0.9690\n",
      "\n",
      "Epoch 00007: saving model to cu\\bilstm_model\\cu-easy_model-7.h5\n",
      "Epoch 8/8\n",
      "11019/11019 [==============================] - 107s 10ms/step - loss: 0.0083 - acc: 0.9978 - val_loss: 0.0856 - val_acc: 0.9686\n",
      "\n",
      "Epoch 00008: saving model to cu\\bilstm_model\\cu-easy_model-8.h5\n"
     ]
    }
   ],
   "source": [
    "bilstm_model = Sequential()\n",
    "bilstm_model.add(Embedding(S_MAX_FEATURES, 200, input_length=MAX_SEQLEN))\n",
    "bilstm_model.add(Bidirectional(LSTM(64, input_shape=(MAX_SEQLEN, S_MAX_FEATURES), unroll=True, dropout=0.2, recurrent_dropout=0.2, return_sequences=True)))\n",
    "bilstm_model.add(Dense(T_MAX_FEATURES))\n",
    "bilstm_model.add(Activation(\"softmax\"))\n",
    "\n",
    "bilstm_model.compile(loss=\"categorical_crossentropy\", optimizer=\"adam\", metrics=['acc'])\n",
    "bilstm_model.summary()\n",
    "checkpoint = ModelCheckpoint('cu\\\\bilstm_model\\\\cu-easy_model-{epoch}.h5', verbose=1, save_best_only=False, save_weights_only=True)\n",
    "bilstm_history = bilstm_model.fit(Xtrain, np_utils.to_categorical(Ytrain, num_classes=T_MAX_FEATURES), batch_size=64, epochs=NUM_EPOCHS, validation_data=[Xval, np_utils.to_categorical(Yval, num_classes=T_MAX_FEATURES)], verbose=1, callbacks=[checkpoint])"
   ]
  },
  {
   "cell_type": "markdown",
   "metadata": {},
   "source": [
    "переобучение на 8 эпохе, т.к. валидационная точность начинает падать"
   ]
  },
  {
   "cell_type": "code",
   "execution_count": 48,
   "metadata": {},
   "outputs": [
    {
     "name": "stdout",
     "output_type": "stream",
     "text": [
      "1727/1727 [==============================] - 4s 2ms/step\n",
      "0.9699543193716084\n",
      "{'accuracy w/o paddings': 0.9194492697677412}\n"
     ]
    }
   ],
   "source": [
    "bilstm_model.load_weights('cu\\\\bilstm_model\\\\cu-easy_model-7.h5')\n",
    "score, acc = bilstm_model.evaluate(Xtest, np_utils.to_categorical(Ytest, num_classes=T_MAX_FEATURES), batch_size=64)\n",
    "print(acc)\n",
    "prediction = bilstm_model.predict_classes(Xtest)\n",
    "prediction_bilstm = evaluate(Ytest, prediction, pol_test_tags)\n",
    "print(prediction_bilstm)"
   ]
  },
  {
   "cell_type": "code",
   "execution_count": 49,
   "metadata": {},
   "outputs": [
    {
     "data": {
      "image/png": "[encoded data removed]",
      "text/plain": [
       "<matplotlib.figure.Figure at 0x1881cff0588>"
      ]
     },
     "metadata": {},
     "output_type": "display_data"
    }
   ],
   "source": [
    "plt.subplot(211)\n",
    "plt.title(\"Accuracy\")\n",
    "plt.plot(bilstm_history.history[\"acc\"], color=\"g\", label=\"Train\")\n",
    "plt.plot(bilstm_history.history[\"val_acc\"], color=\"b\", label=\"Validation\")\n",
    "plt.legend(loc=\"best\")\n",
    "\n",
    "plt.subplot(212)\n",
    "plt.title(\"Loss\")\n",
    "plt.plot(bilstm_history.history[\"loss\"], color=\"g\", label=\"Train\")\n",
    "plt.plot(bilstm_history.history[\"val_loss\"], color=\"b\", label=\"Validation\")\n",
    "plt.legend(loc=\"best\")\n",
    "\n",
    "plt.tight_layout()\n",
    "plt.show()"
   ]
  },
  {
   "cell_type": "markdown",
   "metadata": {},
   "source": [
    "| biLSTM | Размер эмбеддинга | Переобучение на эпохе | test_acc | Best val_acc | val_loss | Acc w/o paddings |\n",
    "|-----|-------------------|-------------|-----------------------|----------|-----------|------------------|\n",
    "| **1 модель** | 64 | нет | 0.9683 | 0.9684 | 0.089 | 0.9152673229106352 |\n",
    "| **2 модель** | 100 | нет | 0.9689 | 0.9689 | 0.0868 | 0.9162323875699669 |\n",
    "| **3 модель** | 200 | 8 | 0.97 | 0.969 | 0.0851 | 0.9194492697677412 | "
   ]
  },
  {
   "cell_type": "markdown",
   "metadata": {},
   "source": [
    "заметки по работе моделей:\n",
    "- переобучение происходит только при размере эмбеддинга 200\n",
    "- при размере эмбеддинга 200 модель показывает самые лучшие результаты (хотя разница опять в долях тысячных). Делаем вывод для данной сетки, что чем сложнее модель, чем больше параметров мы в нее подаем, тем лучше она будет показывать результаты."
   ]
  },
  {
   "cell_type": "markdown",
   "metadata": {},
   "source": [
    "### GRU"
   ]
  },
  {
   "cell_type": "code",
   "execution_count": 50,
   "metadata": {},
   "outputs": [
    {
     "name": "stdout",
     "output_type": "stream",
     "text": [
      "_________________________________________________________________\n",
      "Layer (type)                 Output Shape              Param #   \n",
      "=================================================================\n",
      "embedding_10 (Embedding)     (None, 27, 64)            1635840   \n",
      "_________________________________________________________________\n",
      "gru_1 (GRU)                  (None, 27, 64)            24768     \n",
      "_________________________________________________________________\n",
      "dense_10 (Dense)             (None, 27, 16)            1040      \n",
      "_________________________________________________________________\n",
      "activation_10 (Activation)   (None, 27, 16)            0         \n",
      "=================================================================\n",
      "Total params: 1,661,648\n",
      "Trainable params: 1,661,648\n",
      "Non-trainable params: 0\n",
      "_________________________________________________________________\n"
     ]
    }
   ],
   "source": [
    "gru_model = Sequential()\n",
    "gru_model.add(Embedding(S_MAX_FEATURES, 64, input_length=MAX_SEQLEN))\n",
    "gru_model.add(GRU(64, input_shape=(MAX_SEQLEN, S_MAX_FEATURES), unroll=True, dropout=0.2, recurrent_dropout=0.2, return_sequences=True))\n",
    "gru_model.add(Dense(T_MAX_FEATURES))\n",
    "gru_model.add(Activation(\"softmax\"))\n",
    "\n",
    "gru_model.compile(loss=\"categorical_crossentropy\", optimizer=\"adam\", metrics=['acc'])\n",
    "gru_model.summary()"
   ]
  },
  {
   "cell_type": "code",
   "execution_count": 51,
   "metadata": {},
   "outputs": [
    {
     "name": "stdout",
     "output_type": "stream",
     "text": [
      "Train on 11019 samples, validate on 2755 samples\n",
      "Epoch 1/8\n",
      "11019/11019 [==============================] - 57s 5ms/step - loss: 0.9559 - acc: 0.7440 - val_loss: 0.6064 - val_acc: 0.8159\n",
      "\n",
      "Epoch 00001: saving model to cu\\gru_model\\cu-easy_model-1.h5\n",
      "Epoch 2/8\n",
      "11019/11019 [==============================] - 26s 2ms/step - loss: 0.4406 - acc: 0.8816 - val_loss: 0.2937 - val_acc: 0.9246\n",
      "\n",
      "Epoch 00002: saving model to cu\\gru_model\\cu-easy_model-2.h5\n",
      "Epoch 3/8\n",
      "11019/11019 [==============================] - 26s 2ms/step - loss: 0.2052 - acc: 0.9457 - val_loss: 0.1628 - val_acc: 0.9506\n",
      "\n",
      "Epoch 00003: saving model to cu\\gru_model\\cu-easy_model-3.h5\n",
      "Epoch 4/8\n",
      "11019/11019 [==============================] - 26s 2ms/step - loss: 0.0988 - acc: 0.9760 - val_loss: 0.1192 - val_acc: 0.9623\n",
      "\n",
      "Epoch 00004: saving model to cu\\gru_model\\cu-easy_model-4.h5\n",
      "Epoch 5/8\n",
      "11019/11019 [==============================] - 33s 3ms/step - loss: 0.0519 - acc: 0.9898 - val_loss: 0.1045 - val_acc: 0.9637\n",
      "\n",
      "Epoch 00005: saving model to cu\\gru_model\\cu-easy_model-5.h5\n",
      "Epoch 6/8\n",
      "11019/11019 [==============================] - 40s 4ms/step - loss: 0.0317 - acc: 0.9935 - val_loss: 0.0986 - val_acc: 0.9651\n",
      "\n",
      "Epoch 00006: saving model to cu\\gru_model\\cu-easy_model-6.h5\n",
      "Epoch 7/8\n",
      "11019/11019 [==============================] - 39s 4ms/step - loss: 0.0230 - acc: 0.9943 - val_loss: 0.0955 - val_acc: 0.9659\n",
      "\n",
      "Epoch 00007: saving model to cu\\gru_model\\cu-easy_model-7.h5\n",
      "Epoch 8/8\n",
      "11019/11019 [==============================] - 39s 4ms/step - loss: 0.0184 - acc: 0.9950 - val_loss: 0.0939 - val_acc: 0.9666\n",
      "\n",
      "Epoch 00008: saving model to cu\\gru_model\\cu-easy_model-8.h5\n"
     ]
    }
   ],
   "source": [
    "checkpoint = ModelCheckpoint('cu\\\\gru_model\\\\cu-easy_model-{epoch}.h5', verbose=1, save_best_only=False, save_weights_only=True)\n",
    "gru_history = gru_model.fit(Xtrain, np_utils.to_categorical(Ytrain, num_classes=T_MAX_FEATURES), batch_size=64, epochs=NUM_EPOCHS, validation_data=[Xval, np_utils.to_categorical(Yval, num_classes=T_MAX_FEATURES)], verbose=1, callbacks=[checkpoint])"
   ]
  },
  {
   "cell_type": "markdown",
   "metadata": {},
   "source": [
    "т.к. валидационная точность растет на протяжении всех эпох, то переобучения нет"
   ]
  },
  {
   "cell_type": "code",
   "execution_count": 52,
   "metadata": {},
   "outputs": [
    {
     "name": "stdout",
     "output_type": "stream",
     "text": [
      "1727/1727 [==============================] - 1s 615us/step\n",
      "0.9670805748515413\n",
      "{'accuracy w/o paddings': 0.9110210384095735}\n"
     ]
    }
   ],
   "source": [
    "gru_model.load_weights('cu\\\\gru_model\\\\cu-easy_model-8.h5')\n",
    "score, acc = gru_model.evaluate(Xtest, np_utils.to_categorical(Ytest, num_classes=T_MAX_FEATURES), batch_size=64)\n",
    "print(acc)\n",
    "prediction = gru_model.predict_classes(Xtest)\n",
    "prediction_gru = evaluate(Ytest, prediction, pol_test_tags)\n",
    "print(prediction_gru)"
   ]
  },
  {
   "cell_type": "code",
   "execution_count": 53,
   "metadata": {},
   "outputs": [
    {
     "data": {
      "image/png": "[encoded data removed]",
      "text/plain": [
       "<matplotlib.figure.Figure at 0x18835709320>"
      ]
     },
     "metadata": {},
     "output_type": "display_data"
    }
   ],
   "source": [
    "plt.subplot(211)\n",
    "plt.title(\"Accuracy\")\n",
    "plt.plot(gru_history.history[\"acc\"], color=\"g\", label=\"Train\")\n",
    "plt.plot(gru_history.history[\"val_acc\"], color=\"b\", label=\"Validation\")\n",
    "plt.legend(loc=\"best\")\n",
    "\n",
    "plt.subplot(212)\n",
    "plt.title(\"Loss\")\n",
    "plt.plot(gru_history.history[\"loss\"], color=\"g\", label=\"Train\")\n",
    "plt.plot(gru_history.history[\"val_loss\"], color=\"b\", label=\"Validation\")\n",
    "plt.legend(loc=\"best\")\n",
    "\n",
    "plt.tight_layout()\n",
    "plt.show()"
   ]
  },
  {
   "cell_type": "markdown",
   "metadata": {},
   "source": [
    "Размер эмбеддинга 100"
   ]
  },
  {
   "cell_type": "code",
   "execution_count": 54,
   "metadata": {},
   "outputs": [
    {
     "name": "stdout",
     "output_type": "stream",
     "text": [
      "_________________________________________________________________\n",
      "Layer (type)                 Output Shape              Param #   \n",
      "=================================================================\n",
      "embedding_11 (Embedding)     (None, 27, 100)           2556000   \n",
      "_________________________________________________________________\n",
      "gru_2 (GRU)                  (None, 27, 64)            31680     \n",
      "_________________________________________________________________\n",
      "dense_11 (Dense)             (None, 27, 16)            1040      \n",
      "_________________________________________________________________\n",
      "activation_11 (Activation)   (None, 27, 16)            0         \n",
      "=================================================================\n",
      "Total params: 2,588,720\n",
      "Trainable params: 2,588,720\n",
      "Non-trainable params: 0\n",
      "_________________________________________________________________\n",
      "Train on 11019 samples, validate on 2755 samples\n",
      "Epoch 1/8\n",
      "11019/11019 [==============================] - 69s 6ms/step - loss: 0.9005 - acc: 0.7786 - val_loss: 0.5209 - val_acc: 0.8674\n",
      "\n",
      "Epoch 00001: saving model to cu\\gru_model\\cu-easy_model-1.h5\n",
      "Epoch 2/8\n",
      "11019/11019 [==============================] - 36s 3ms/step - loss: 0.3469 - acc: 0.9122 - val_loss: 0.2220 - val_acc: 0.9383\n",
      "\n",
      "Epoch 00002: saving model to cu\\gru_model\\cu-easy_model-2.h5\n",
      "Epoch 3/8\n",
      "11019/11019 [==============================] - 44s 4ms/step - loss: 0.1428 - acc: 0.9637 - val_loss: 0.1281 - val_acc: 0.9608\n",
      "\n",
      "Epoch 00003: saving model to cu\\gru_model\\cu-easy_model-3.h5\n",
      "Epoch 4/8\n",
      "11019/11019 [==============================] - 50s 5ms/step - loss: 0.0597 - acc: 0.9878 - val_loss: 0.1056 - val_acc: 0.9640\n",
      "\n",
      "Epoch 00004: saving model to cu\\gru_model\\cu-easy_model-4.h5\n",
      "Epoch 5/8\n",
      "11019/11019 [==============================] - 49s 4ms/step - loss: 0.0309 - acc: 0.9936 - val_loss: 0.0989 - val_acc: 0.9650\n",
      "\n",
      "Epoch 00005: saving model to cu\\gru_model\\cu-easy_model-5.h5\n",
      "Epoch 6/8\n",
      "11019/11019 [==============================] - 48s 4ms/step - loss: 0.0212 - acc: 0.9948 - val_loss: 0.0963 - val_acc: 0.9657\n",
      "\n",
      "Epoch 00006: saving model to cu\\gru_model\\cu-easy_model-6.h5\n",
      "Epoch 7/8\n",
      "11019/11019 [==============================] - 50s 5ms/step - loss: 0.0169 - acc: 0.9954 - val_loss: 0.0951 - val_acc: 0.9663\n",
      "\n",
      "Epoch 00007: saving model to cu\\gru_model\\cu-easy_model-7.h5\n",
      "Epoch 8/8\n",
      "11019/11019 [==============================] - 37s 3ms/step - loss: 0.0147 - acc: 0.9956 - val_loss: 0.0954 - val_acc: 0.9663\n",
      "\n",
      "Epoch 00008: saving model to cu\\gru_model\\cu-easy_model-8.h5\n"
     ]
    }
   ],
   "source": [
    "gru_model = Sequential()\n",
    "gru_model.add(Embedding(S_MAX_FEATURES, 100, input_length=MAX_SEQLEN))\n",
    "gru_model.add(GRU(64, input_shape=(MAX_SEQLEN, S_MAX_FEATURES), unroll=True, dropout=0.2, recurrent_dropout=0.2, return_sequences=True))\n",
    "gru_model.add(Dense(T_MAX_FEATURES))\n",
    "gru_model.add(Activation(\"softmax\"))\n",
    "\n",
    "gru_model.compile(loss=\"categorical_crossentropy\", optimizer=\"adam\", metrics=['acc'])\n",
    "gru_model.summary()\n",
    "checkpoint = ModelCheckpoint('cu\\\\gru_model\\\\cu-easy_model-{epoch}.h5', verbose=1, save_best_only=False, save_weights_only=True)\n",
    "gru_history = gru_model.fit(Xtrain, np_utils.to_categorical(Ytrain, num_classes=T_MAX_FEATURES), batch_size=64, epochs=NUM_EPOCHS, validation_data=[Xval, np_utils.to_categorical(Yval, num_classes=T_MAX_FEATURES)], verbose=1, callbacks=[checkpoint])"
   ]
  },
  {
   "cell_type": "markdown",
   "metadata": {},
   "source": [
    "переобучение на 8 эпохе, т.к. валидационная точность хоть и таже, но потери начинают расти"
   ]
  },
  {
   "cell_type": "code",
   "execution_count": 55,
   "metadata": {},
   "outputs": [
    {
     "name": "stdout",
     "output_type": "stream",
     "text": [
      "1727/1727 [==============================] - 2s 1ms/step\n",
      "0.9648287610367122\n",
      "{'accuracy w/o paddings': 0.9054236633854469}\n"
     ]
    }
   ],
   "source": [
    "gru_model.load_weights('cu\\\\gru_model\\\\cu-easy_model-7.h5')\n",
    "score, acc = gru_model.evaluate(Xtest, np_utils.to_categorical(Ytest, num_classes=T_MAX_FEATURES), batch_size=64)\n",
    "print(acc)\n",
    "prediction = gru_model.predict_classes(Xtest)\n",
    "prediction_gru = evaluate(Ytest, prediction, pol_test_tags)\n",
    "print(prediction_gru)"
   ]
  },
  {
   "cell_type": "code",
   "execution_count": 56,
   "metadata": {},
   "outputs": [
    {
     "data": {
      "image/png": "[encoded data removed]",
      "text/plain": [
       "<matplotlib.figure.Figure at 0x1883571d080>"
      ]
     },
     "metadata": {},
     "output_type": "display_data"
    }
   ],
   "source": [
    "plt.subplot(211)\n",
    "plt.title(\"Accuracy\")\n",
    "plt.plot(gru_history.history[\"acc\"], color=\"g\", label=\"Train\")\n",
    "plt.plot(gru_history.history[\"val_acc\"], color=\"b\", label=\"Validation\")\n",
    "plt.legend(loc=\"best\")\n",
    "\n",
    "plt.subplot(212)\n",
    "plt.title(\"Loss\")\n",
    "plt.plot(gru_history.history[\"loss\"], color=\"g\", label=\"Train\")\n",
    "plt.plot(gru_history.history[\"val_loss\"], color=\"b\", label=\"Validation\")\n",
    "plt.legend(loc=\"best\")\n",
    "\n",
    "plt.tight_layout()\n",
    "plt.show()"
   ]
  },
  {
   "cell_type": "markdown",
   "metadata": {},
   "source": [
    "Размер эмбеддинга 200"
   ]
  },
  {
   "cell_type": "code",
   "execution_count": 57,
   "metadata": {},
   "outputs": [
    {
     "name": "stdout",
     "output_type": "stream",
     "text": [
      "_________________________________________________________________\n",
      "Layer (type)                 Output Shape              Param #   \n",
      "=================================================================\n",
      "embedding_12 (Embedding)     (None, 27, 200)           5112000   \n",
      "_________________________________________________________________\n",
      "gru_3 (GRU)                  (None, 27, 64)            50880     \n",
      "_________________________________________________________________\n",
      "dense_12 (Dense)             (None, 27, 16)            1040      \n",
      "_________________________________________________________________\n",
      "activation_12 (Activation)   (None, 27, 16)            0         \n",
      "=================================================================\n",
      "Total params: 5,163,920\n",
      "Trainable params: 5,163,920\n",
      "Non-trainable params: 0\n",
      "_________________________________________________________________\n",
      "Train on 11019 samples, validate on 2755 samples\n",
      "Epoch 1/8\n",
      "11019/11019 [==============================] - 156s 14ms/step - loss: 0.7844 - acc: 0.8171 - val_loss: 0.3647 - val_acc: 0.9113\n",
      "\n",
      "Epoch 00001: saving model to cu\\gru_model\\cu-easy_model-1.h5\n",
      "Epoch 2/8\n",
      "11019/11019 [==============================] - 67s 6ms/step - loss: 0.2242 - acc: 0.9425 - val_loss: 0.1515 - val_acc: 0.9555\n",
      "\n",
      "Epoch 00002: saving model to cu\\gru_model\\cu-easy_model-2.h5\n",
      "Epoch 3/8\n",
      "11019/11019 [==============================] - 44s 4ms/step - loss: 0.0803 - acc: 0.9818 - val_loss: 0.1072 - val_acc: 0.9647\n",
      "\n",
      "Epoch 00003: saving model to cu\\gru_model\\cu-easy_model-3.h5\n",
      "Epoch 4/8\n",
      "11019/11019 [==============================] - 44s 4ms/step - loss: 0.0325 - acc: 0.9933 - val_loss: 0.0996 - val_acc: 0.9646\n",
      "\n",
      "Epoch 00004: saving model to cu\\gru_model\\cu-easy_model-4.h5\n",
      "Epoch 5/8\n",
      "11019/11019 [==============================] - 45s 4ms/step - loss: 0.0200 - acc: 0.9952 - val_loss: 0.0977 - val_acc: 0.9650\n",
      "\n",
      "Epoch 00005: saving model to cu\\gru_model\\cu-easy_model-5.h5\n",
      "Epoch 6/8\n",
      "11019/11019 [==============================] - 44s 4ms/step - loss: 0.0157 - acc: 0.9954 - val_loss: 0.0972 - val_acc: 0.9649\n",
      "\n",
      "Epoch 00006: saving model to cu\\gru_model\\cu-easy_model-6.h5\n",
      "Epoch 7/8\n",
      "11019/11019 [==============================] - 44s 4ms/step - loss: 0.0136 - acc: 0.9958 - val_loss: 0.0967 - val_acc: 0.9653\n",
      "\n",
      "Epoch 00007: saving model to cu\\gru_model\\cu-easy_model-7.h5\n",
      "Epoch 8/8\n",
      "11019/11019 [==============================] - 44s 4ms/step - loss: 0.0122 - acc: 0.9962 - val_loss: 0.0969 - val_acc: 0.9659\n",
      "\n",
      "Epoch 00008: saving model to cu\\gru_model\\cu-easy_model-8.h5\n"
     ]
    }
   ],
   "source": [
    "gru_model = Sequential()\n",
    "gru_model.add(Embedding(S_MAX_FEATURES, 200, input_length=MAX_SEQLEN))\n",
    "gru_model.add(GRU(64, input_shape=(MAX_SEQLEN, S_MAX_FEATURES), unroll=True, dropout=0.2, recurrent_dropout=0.2, return_sequences=True))\n",
    "gru_model.add(Dense(T_MAX_FEATURES))\n",
    "gru_model.add(Activation(\"softmax\"))\n",
    "\n",
    "gru_model.compile(loss=\"categorical_crossentropy\", optimizer=\"adam\", metrics=['acc'])\n",
    "gru_model.summary()\n",
    "checkpoint = ModelCheckpoint('cu\\\\gru_model\\\\cu-easy_model-{epoch}.h5', verbose=1, save_best_only=False, save_weights_only=True)\n",
    "gru_history = gru_model.fit(Xtrain, np_utils.to_categorical(Ytrain, num_classes=T_MAX_FEATURES), batch_size=64, epochs=NUM_EPOCHS, validation_data=[Xval, np_utils.to_categorical(Yval, num_classes=T_MAX_FEATURES)], verbose=1, callbacks=[checkpoint])"
   ]
  },
  {
   "cell_type": "markdown",
   "metadata": {},
   "source": [
    "т.к. валидационная точность растет на протяжении всех эпох, то переобучения нет"
   ]
  },
  {
   "cell_type": "code",
   "execution_count": 58,
   "metadata": {},
   "outputs": [
    {
     "name": "stdout",
     "output_type": "stream",
     "text": [
      "1727/1727 [==============================] - 1s 767us/step\n",
      "0.9645070730431893\n",
      "{'accuracy w/o paddings': 0.9048446245898474}\n"
     ]
    }
   ],
   "source": [
    "gru_model.load_weights('cu\\\\gru_model\\\\cu-easy_model-8.h5')\n",
    "score, acc = gru_model.evaluate(Xtest, np_utils.to_categorical(Ytest, num_classes=T_MAX_FEATURES), batch_size=64)\n",
    "print(acc)\n",
    "prediction = gru_model.predict_classes(Xtest)\n",
    "prediction_gru = evaluate(Ytest, prediction, pol_test_tags)\n",
    "print(prediction_gru)"
   ]
  },
  {
   "cell_type": "code",
   "execution_count": 59,
   "metadata": {},
   "outputs": [
    {
     "data": {
      "image/png": "[encoded data removed]",
      "text/plain": [
       "<matplotlib.figure.Figure at 0x1883dfa2dd8>"
      ]
     },
     "metadata": {},
     "output_type": "display_data"
    }
   ],
   "source": [
    "plt.subplot(211)\n",
    "plt.title(\"Accuracy\")\n",
    "plt.plot(gru_history.history[\"acc\"], color=\"g\", label=\"Train\")\n",
    "plt.plot(gru_history.history[\"val_acc\"], color=\"b\", label=\"Validation\")\n",
    "plt.legend(loc=\"best\")\n",
    "\n",
    "plt.subplot(212)\n",
    "plt.title(\"Loss\")\n",
    "plt.plot(gru_history.history[\"loss\"], color=\"g\", label=\"Train\")\n",
    "plt.plot(gru_history.history[\"val_loss\"], color=\"b\", label=\"Validation\")\n",
    "plt.legend(loc=\"best\")\n",
    "\n",
    "plt.tight_layout()\n",
    "plt.show()"
   ]
  },
  {
   "cell_type": "markdown",
   "metadata": {},
   "source": [
    "| GRU | Размер эмбеддинга | Переобучение на эпохе | test_acc | Best val_acc | val_loss | Acc w/o paddings |\n",
    "|-----|-------------------|-------------|-----------------------|----------|-----------|------------------|\n",
    "| **1 модель** | 64 | нет | 0.967 | 0.9666 | 0.0939 | 0.9110210384095735 |\n",
    "| **2 модель** | 100 | 8 | 0.9648 | 0.9663 | 0.0951 | 0.9054236633854469 |\n",
    "| **3 модель** | 200 | 8 | 0.9645 | 0.9653 | 0.0969 | 0.9048446245898474 | "
   ]
  },
  {
   "cell_type": "markdown",
   "metadata": {},
   "source": [
    "заметки по работе моделей:\n",
    "- для GRU, видимо, лучше, если в нее подается меньшее кол-во параметров, если размер эмбеддинга меньше, т.к. для размера эмбеддинга 64, сетка показывает результаты лучше, чемм при его увеличении. Это логично, если учесть, что GRU это упрощенная LSTM. Возможно сетка показывает такие результаты из-за степени разнообразности входных данных."
   ]
  },
  {
   "cell_type": "markdown",
   "metadata": {},
   "source": [
    "### Шоу эксперименты\n",
    "Просто меняем размер S_MAX_FEATURES (только SimpleRNN). \n",
    "\n",
    "- Выбрали SimpleRNN, т.к. он быстрее остальных считается.\n",
    "- Решили поиграть с размером S_MAX_FEATURES, чтобы посмотреть, насколько сильно меняется точность предсказаний без паддингов в зависимости от кол-ва токенов, которые подаются в модель\n",
    "- Сравниваем модели при размере эмбеддинга 64"
   ]
  },
  {
   "cell_type": "markdown",
   "metadata": {},
   "source": [
    "Берем только 5000 первых токенов."
   ]
  },
  {
   "cell_type": "code",
   "execution_count": 60,
   "metadata": {},
   "outputs": [],
   "source": [
    "MAX_SEQLEN = 27\n",
    "S_MAX_FEATURES = 5000\n",
    "T_MAX_FEATURES = 15"
   ]
  },
  {
   "cell_type": "code",
   "execution_count": 61,
   "metadata": {},
   "outputs": [],
   "source": [
    "pol_word2index = {w[0]: i + 2 for i,w in enumerate(pol_freqs.most_common(S_MAX_FEATURES))}\n",
    "pol_word2index['PAD'] = 0\n",
    "pol_word2index['UNK'] = 1\n",
    "pol_tag2index = {t: i + 1 for i,t in enumerate(pol_tags)}\n",
    "pol_tag2index['PAD'] = 0"
   ]
  },
  {
   "cell_type": "code",
   "execution_count": 62,
   "metadata": {},
   "outputs": [],
   "source": [
    "S_MAX_FEATURES += 2\n",
    "T_MAX_FEATURES += 1"
   ]
  },
  {
   "cell_type": "code",
   "execution_count": 63,
   "metadata": {},
   "outputs": [],
   "source": [
    "X = build_tensor(pol_train_sents, pol_num, pol_word2index, MAX_SEQLEN)\n",
    "Xtest = build_tensor(pol_test_sents, pol_test_num, pol_word2index, MAX_SEQLEN)\n",
    "Y = build_tensor(pol_train_tags, pol_num, pol_tag2index, MAX_SEQLEN)\n",
    "Ytest = build_tensor(pol_test_tags, pol_test_num, pol_tag2index, MAX_SEQLEN)\n",
    "Xtrain, Xval, Ytrain, Yval = train_test_split(X, Y, test_size = 0.2, random_state=42)"
   ]
  },
  {
   "cell_type": "code",
   "execution_count": 64,
   "metadata": {},
   "outputs": [
    {
     "name": "stdout",
     "output_type": "stream",
     "text": [
      "_________________________________________________________________\n",
      "Layer (type)                 Output Shape              Param #   \n",
      "=================================================================\n",
      "embedding_13 (Embedding)     (None, 27, 64)            320128    \n",
      "_________________________________________________________________\n",
      "simple_rnn_4 (SimpleRNN)     (None, 27, 64)            8256      \n",
      "_________________________________________________________________\n",
      "dense_13 (Dense)             (None, 27, 16)            1040      \n",
      "_________________________________________________________________\n",
      "activation_13 (Activation)   (None, 27, 16)            0         \n",
      "=================================================================\n",
      "Total params: 329,424\n",
      "Trainable params: 329,424\n",
      "Non-trainable params: 0\n",
      "_________________________________________________________________\n",
      "Train on 11019 samples, validate on 2755 samples\n",
      "Epoch 1/8\n",
      "11019/11019 [==============================] - 43s 4ms/step - loss: 0.9393 - acc: 0.7429 - val_loss: 0.5955 - val_acc: 0.8473\n",
      "\n",
      "Epoch 00001: saving model to cu\\rnn_model\\cu-easy_model-1.h5\n",
      "Epoch 2/8\n",
      "11019/11019 [==============================] - 15s 1ms/step - loss: 0.4975 - acc: 0.8712 - val_loss: 0.3760 - val_acc: 0.9000\n",
      "\n",
      "Epoch 00002: saving model to cu\\rnn_model\\cu-easy_model-2.h5\n",
      "Epoch 3/8\n",
      "11019/11019 [==============================] - 15s 1ms/step - loss: 0.3070 - acc: 0.9174 - val_loss: 0.2315 - val_acc: 0.9362\n",
      "\n",
      "Epoch 00003: saving model to cu\\rnn_model\\cu-easy_model-3.h5\n",
      "Epoch 4/8\n",
      "11019/11019 [==============================] - 15s 1ms/step - loss: 0.2002 - acc: 0.9426 - val_loss: 0.1588 - val_acc: 0.9508\n",
      "\n",
      "Epoch 00004: saving model to cu\\rnn_model\\cu-easy_model-4.h5\n",
      "Epoch 5/8\n",
      "11019/11019 [==============================] - 15s 1ms/step - loss: 0.1460 - acc: 0.9539 - val_loss: 0.1255 - val_acc: 0.9578\n",
      "\n",
      "Epoch 00005: saving model to cu\\rnn_model\\cu-easy_model-5.h5\n",
      "Epoch 6/8\n",
      "11019/11019 [==============================] - 15s 1ms/step - loss: 0.1208 - acc: 0.9596 - val_loss: 0.1104 - val_acc: 0.9625\n",
      "\n",
      "Epoch 00006: saving model to cu\\rnn_model\\cu-easy_model-6.h5\n",
      "Epoch 7/8\n",
      "11019/11019 [==============================] - 15s 1ms/step - loss: 0.1077 - acc: 0.9633 - val_loss: 0.1024 - val_acc: 0.9644\n",
      "\n",
      "Epoch 00007: saving model to cu\\rnn_model\\cu-easy_model-7.h5\n",
      "Epoch 8/8\n",
      "11019/11019 [==============================] - 15s 1ms/step - loss: 0.1002 - acc: 0.9650 - val_loss: 0.0981 - val_acc: 0.9652\n",
      "\n",
      "Epoch 00008: saving model to cu\\rnn_model\\cu-easy_model-8.h5\n"
     ]
    }
   ],
   "source": [
    "rnn_model = Sequential()\n",
    "rnn_model.add(Embedding(S_MAX_FEATURES, 64, input_length=MAX_SEQLEN))\n",
    "rnn_model.add(SimpleRNN(64, input_shape=(MAX_SEQLEN, S_MAX_FEATURES), unroll=True, dropout=0.2, recurrent_dropout=0.2, return_sequences=True))\n",
    "rnn_model.add(Dense(T_MAX_FEATURES))\n",
    "rnn_model.add(Activation(\"softmax\"))\n",
    "\n",
    "rnn_model.compile(loss=\"categorical_crossentropy\", optimizer=\"adam\", metrics=['acc'])\n",
    "rnn_model.summary()\n",
    "checkpoint = ModelCheckpoint('cu\\\\rnn_model\\\\cu-easy_model-{epoch}.h5', verbose=1, save_best_only=False, save_weights_only=True)\n",
    "rnn_history = rnn_model.fit(Xtrain, np_utils.to_categorical(Ytrain, num_classes=T_MAX_FEATURES), batch_size=64, epochs=NUM_EPOCHS, validation_data=[Xval, np_utils.to_categorical(Yval, num_classes=T_MAX_FEATURES)], verbose=1, callbacks=[checkpoint])"
   ]
  },
  {
   "cell_type": "markdown",
   "metadata": {},
   "source": [
    "т.к. валидационная точность растет на протяжении всех эпох, то переобучения нет"
   ]
  },
  {
   "cell_type": "code",
   "execution_count": 65,
   "metadata": {},
   "outputs": [
    {
     "name": "stdout",
     "output_type": "stream",
     "text": [
      "1727/1727 [==============================] - 1s 437us/step\n",
      "0.959896200160174\n",
      "{'accuracy w/o paddings': 0.8913980570031527}\n"
     ]
    }
   ],
   "source": [
    "rnn_model.load_weights('cu\\\\rnn_model\\\\cu-easy_model-8.h5')\n",
    "score, acc = rnn_model.evaluate(Xtest, np_utils.to_categorical(Ytest, num_classes=T_MAX_FEATURES), batch_size=64)\n",
    "print(acc)\n",
    "prediction = rnn_model.predict_classes(Xtest)\n",
    "prediction_rnn = evaluate(Ytest, prediction, pol_test_tags)\n",
    "print(prediction_rnn)"
   ]
  },
  {
   "cell_type": "code",
   "execution_count": 66,
   "metadata": {},
   "outputs": [
    {
     "data": {
      "image/png": "[encoded data removed]",
      "text/plain": [
       "<matplotlib.figure.Figure at 0x1884d5c93c8>"
      ]
     },
     "metadata": {},
     "output_type": "display_data"
    }
   ],
   "source": [
    "plt.subplot(211)\n",
    "plt.title(\"Accuracy\")\n",
    "plt.plot(rnn_history.history[\"acc\"], color=\"g\", label=\"Train\")\n",
    "plt.plot(rnn_history.history[\"val_acc\"], color=\"b\", label=\"Validation\")\n",
    "plt.legend(loc=\"best\")\n",
    "\n",
    "plt.subplot(212)\n",
    "plt.title(\"Loss\")\n",
    "plt.plot(rnn_history.history[\"loss\"], color=\"g\", label=\"Train\")\n",
    "plt.plot(rnn_history.history[\"val_loss\"], color=\"b\", label=\"Validation\")\n",
    "plt.legend(loc=\"best\")\n",
    "\n",
    "plt.tight_layout()\n",
    "plt.show()"
   ]
  },
  {
   "cell_type": "markdown",
   "metadata": {},
   "source": [
    "Берем уже 15000 токенов"
   ]
  },
  {
   "cell_type": "code",
   "execution_count": 67,
   "metadata": {},
   "outputs": [],
   "source": [
    "MAX_SEQLEN = 27\n",
    "S_MAX_FEATURES = 15000\n",
    "T_MAX_FEATURES = 15"
   ]
  },
  {
   "cell_type": "code",
   "execution_count": 68,
   "metadata": {},
   "outputs": [],
   "source": [
    "pol_word2index = {w[0]: i + 2 for i,w in enumerate(pol_freqs.most_common(S_MAX_FEATURES))}\n",
    "pol_word2index['PAD'] = 0\n",
    "pol_word2index['UNK'] = 1\n",
    "pol_tag2index = {t: i + 1 for i,t in enumerate(pol_tags)}\n",
    "pol_tag2index['PAD'] = 0"
   ]
  },
  {
   "cell_type": "code",
   "execution_count": 69,
   "metadata": {},
   "outputs": [],
   "source": [
    "S_MAX_FEATURES += 2\n",
    "T_MAX_FEATURES += 1"
   ]
  },
  {
   "cell_type": "code",
   "execution_count": 70,
   "metadata": {},
   "outputs": [],
   "source": [
    "X = build_tensor(pol_train_sents, pol_num, pol_word2index, MAX_SEQLEN)\n",
    "Xtest = build_tensor(pol_test_sents, pol_test_num, pol_word2index, MAX_SEQLEN)\n",
    "Y = build_tensor(pol_train_tags, pol_num, pol_tag2index, MAX_SEQLEN)\n",
    "Ytest = build_tensor(pol_test_tags, pol_test_num, pol_tag2index, MAX_SEQLEN)\n",
    "Xtrain, Xval, Ytrain, Yval = train_test_split(X, Y, test_size = 0.2, random_state=42)"
   ]
  },
  {
   "cell_type": "code",
   "execution_count": 71,
   "metadata": {},
   "outputs": [
    {
     "name": "stdout",
     "output_type": "stream",
     "text": [
      "_________________________________________________________________\n",
      "Layer (type)                 Output Shape              Param #   \n",
      "=================================================================\n",
      "embedding_14 (Embedding)     (None, 27, 64)            960128    \n",
      "_________________________________________________________________\n",
      "simple_rnn_5 (SimpleRNN)     (None, 27, 64)            8256      \n",
      "_________________________________________________________________\n",
      "dense_14 (Dense)             (None, 27, 16)            1040      \n",
      "_________________________________________________________________\n",
      "activation_14 (Activation)   (None, 27, 16)            0         \n",
      "=================================================================\n",
      "Total params: 969,424\n",
      "Trainable params: 969,424\n",
      "Non-trainable params: 0\n",
      "_________________________________________________________________\n",
      "Train on 11019 samples, validate on 2755 samples\n",
      "Epoch 1/8\n",
      "11019/11019 [==============================] - 75s 7ms/step - loss: 0.9173 - acc: 0.7526 - val_loss: 0.5878 - val_acc: 0.8384\n",
      "\n",
      "Epoch 00001: saving model to cu\\rnn_model\\cu-easy_model-1.h5\n",
      "Epoch 2/8\n",
      "11019/11019 [==============================] - 25s 2ms/step - loss: 0.4977 - acc: 0.8676 - val_loss: 0.3887 - val_acc: 0.8961\n",
      "\n",
      "Epoch 00002: saving model to cu\\rnn_model\\cu-easy_model-2.h5\n",
      "Epoch 3/8\n",
      "11019/11019 [==============================] - 19s 2ms/step - loss: 0.3065 - acc: 0.9187 - val_loss: 0.2290 - val_acc: 0.9403\n",
      "\n",
      "Epoch 00003: saving model to cu\\rnn_model\\cu-easy_model-3.h5\n",
      "Epoch 4/8\n",
      "11019/11019 [==============================] - 18s 2ms/step - loss: 0.1743 - acc: 0.9551 - val_loss: 0.1450 - val_acc: 0.9589\n",
      "\n",
      "Epoch 00004: saving model to cu\\rnn_model\\cu-easy_model-4.h5\n",
      "Epoch 5/8\n",
      "11019/11019 [==============================] - 18s 2ms/step - loss: 0.1093 - acc: 0.9704 - val_loss: 0.1145 - val_acc: 0.9646\n",
      "\n",
      "Epoch 00005: saving model to cu\\rnn_model\\cu-easy_model-5.h5\n",
      "Epoch 6/8\n",
      "11019/11019 [==============================] - 19s 2ms/step - loss: 0.0819 - acc: 0.9757 - val_loss: 0.1027 - val_acc: 0.9668\n",
      "\n",
      "Epoch 00006: saving model to cu\\rnn_model\\cu-easy_model-6.h5\n",
      "Epoch 7/8\n",
      "11019/11019 [==============================] - 18s 2ms/step - loss: 0.0679 - acc: 0.9793 - val_loss: 0.0973 - val_acc: 0.9677\n",
      "\n",
      "Epoch 00007: saving model to cu\\rnn_model\\cu-easy_model-7.h5\n",
      "Epoch 8/8\n",
      "11019/11019 [==============================] - 18s 2ms/step - loss: 0.0595 - acc: 0.9816 - val_loss: 0.0936 - val_acc: 0.9683\n",
      "\n",
      "Epoch 00008: saving model to cu\\rnn_model\\cu-easy_model-8.h5\n"
     ]
    }
   ],
   "source": [
    "rnn_model = Sequential()\n",
    "rnn_model.add(Embedding(S_MAX_FEATURES, 64, input_length=MAX_SEQLEN))\n",
    "rnn_model.add(SimpleRNN(64, input_shape=(MAX_SEQLEN, S_MAX_FEATURES), unroll=True, dropout=0.2, recurrent_dropout=0.2, return_sequences=True))\n",
    "rnn_model.add(Dense(T_MAX_FEATURES))\n",
    "rnn_model.add(Activation(\"softmax\"))\n",
    "\n",
    "rnn_model.compile(loss=\"categorical_crossentropy\", optimizer=\"adam\", metrics=['acc'])\n",
    "rnn_model.summary()\n",
    "checkpoint = ModelCheckpoint('cu\\\\rnn_model\\\\cu-easy_model-{epoch}.h5', verbose=1, save_best_only=False, save_weights_only=True)\n",
    "rnn_history = rnn_model.fit(Xtrain, np_utils.to_categorical(Ytrain, num_classes=T_MAX_FEATURES), batch_size=64, epochs=NUM_EPOCHS, validation_data=[Xval, np_utils.to_categorical(Yval, num_classes=T_MAX_FEATURES)], verbose=1, callbacks=[checkpoint])"
   ]
  },
  {
   "cell_type": "markdown",
   "metadata": {},
   "source": [
    "т.к. валидационная точность растет на протяжении всех эпох, то переобучения нет"
   ]
  },
  {
   "cell_type": "code",
   "execution_count": 72,
   "metadata": {},
   "outputs": [
    {
     "name": "stdout",
     "output_type": "stream",
     "text": [
      "1727/1727 [==============================] - 2s 1ms/step\n",
      "0.9652791235511815\n",
      "{'accuracy w/o paddings': 0.9065174033326899}\n"
     ]
    }
   ],
   "source": [
    "rnn_model.load_weights('cu\\\\rnn_model\\\\cu-easy_model-8.h5')\n",
    "score, acc = rnn_model.evaluate(Xtest, np_utils.to_categorical(Ytest, num_classes=T_MAX_FEATURES), batch_size=64)\n",
    "print(acc)\n",
    "prediction = rnn_model.predict_classes(Xtest)\n",
    "prediction_rnn = evaluate(Ytest, prediction, pol_test_tags)\n",
    "print(prediction_rnn)"
   ]
  },
  {
   "cell_type": "code",
   "execution_count": 73,
   "metadata": {},
   "outputs": [
    {
     "data": {
      "image/png": "[encoded data removed]",
      "text/plain": [
       "<matplotlib.figure.Figure at 0x1884d6c6358>"
      ]
     },
     "metadata": {},
     "output_type": "display_data"
    }
   ],
   "source": [
    "plt.subplot(211)\n",
    "plt.title(\"Accuracy\")\n",
    "plt.plot(rnn_history.history[\"acc\"], color=\"g\", label=\"Train\")\n",
    "plt.plot(rnn_history.history[\"val_acc\"], color=\"b\", label=\"Validation\")\n",
    "plt.legend(loc=\"best\")\n",
    "\n",
    "plt.subplot(212)\n",
    "plt.title(\"Loss\")\n",
    "plt.plot(rnn_history.history[\"loss\"], color=\"g\", label=\"Train\")\n",
    "plt.plot(rnn_history.history[\"val_loss\"], color=\"b\", label=\"Validation\")\n",
    "plt.legend(loc=\"best\")\n",
    "\n",
    "plt.tight_layout()\n",
    "plt.show()"
   ]
  },
  {
   "cell_type": "markdown",
   "metadata": {},
   "source": [
    "| RNN | S_MAX_FEATURES | Переобучение на эпохе | test_acc | Best val_acc | val_loss | Acc w/o paddings |\n",
    "|-----|-------------------|-------------|-----------------------|----------|-----------|------------------|\n",
    "| **1 модель** | 5000 | нет | 0.956 | 0.9652 | 0.0981 | 0.8913980570031527 |\n",
    "| **2 модель** | 15000 | нет | 0.9653 | 0.9683 | 0.0936 | 0.9065174033326899 |\n",
    "| **3 модель** | 25558 | нет | 0.9686 | 0.9662 | 0.1003 | 0.9157176864183235 | "
   ]
  },
  {
   "cell_type": "markdown",
   "metadata": {},
   "source": [
    "заметки:\n",
    "- в отличие от немецкого языка, переобучения здесь не возникло. Но это вполне объяснимо: кол-во уникальных токенов здесь намного меньше, чем в немецком, поэтому в модель изначально поступает меньше параметров и она не успевает переобучиться.\n",
    "- лучше показала себя модель с максимальным числом токенов для тестовой точности и точности без паддингов: для немецкого языка ситуация немного другая. Скорей всего, в тестовом корпусе для польского языка, данные были разнообразнее и не повторялись так же часто, как в немецком языке. \n",
    "- для валидационной точности и потери лучше оказалось модель с 15000 токенов: возможно, это снова можно объяснить тем, что тренировочная и валидационная выборки формировались случайно для всех трех моделей (random_state=42)"
   ]
  },
  {
   "cell_type": "markdown",
   "metadata": {},
   "source": [
    "## Итоги по одинаковым размерам эмбеддинга\n",
    "### Embedding 64"
   ]
  },
  {
   "cell_type": "markdown",
   "metadata": {},
   "source": [
    "| модель | Переобучение на эпохе | test_acc | Best val_acc | val_loss | Acc w/o paddings |\n",
    "|-----|-------------|-----------------------|----------|-----------|------------------|\n",
    "| **SimpleRNN** | нет | 0.9685 | 0.9662 | 0.1003 | 0.9157176864183235 |\n",
    "| **LSTM** | нет | 0.9576 | 0.9616 | 0.1085 | 0.8861223701988035 |\n",
    "| **biLSTM** | нет | 0.9683 | 0.9684 | 0.089 | 0.9152673229106352 |\n",
    "| **GRU** | нет | 0.967 | 0.9666 | 0.0939 | 0.9110210384095735 | "
   ]
  },
  {
   "cell_type": "markdown",
   "metadata": {},
   "source": [
    "заметки:\n",
    "- за звание лучшей сетки при этом эмбеддинге борются SimpleRNN и двунаправленная LSTM. Даже, скорей всего, двунаправленная лидирует, т.к. на тестовой точности и на точности без паддингов она хуже SimpleRNN совсем на чуть-чуть, а именно на доли тысячных. Впрочем, она намного мощнее  SimpleRNN, поэтому, возможно, при больших размерах эмбеддинга она покажет результаты еще лучше.\n",
    "- худшие результаты при данном эмбеддинге показывает LSTM"
   ]
  },
  {
   "cell_type": "markdown",
   "metadata": {},
   "source": [
    "### Embedding 100"
   ]
  },
  {
   "cell_type": "markdown",
   "metadata": {},
   "source": [
    "| модель | Переобучение на эпохе | test_acc | Best val_acc | val_loss | Acc w/o paddings |\n",
    "|-----|-------------|-----------------------|----------|-----------|------------------|\n",
    "| **SimpleRNN** | 8 | 0.9687 | 0.9678 | 0.097 | 0.9163610628578781 |\n",
    "| **LSTM** | нет | 0.9646 | 0.9652 | 0.1050 | 0.9044585987261147 |\n",
    "| **biLSTM** | нет | 0.9689 | 0.9689 | 0.0868 | 0.9162323875699669 |\n",
    "| **GRU** | 8 | 0.9648 | 0.9663 | 0.0951 | 0.9054236633854469 |"
   ]
  },
  {
   "cell_type": "markdown",
   "metadata": {},
   "source": [
    "заметки:\n",
    "- лучше всего при эмбеддинге размером 100 работает двунаправленная LSTM, как и предполагалось выше. Она только чуть-чуть уступает SimpleRNNв точности без паддингов\n",
    "- хуже себя показали LSTM и GRU, но это в принципе объяснимо тем, что эти сетки слабее двунаправленной LSTM"
   ]
  },
  {
   "cell_type": "markdown",
   "metadata": {},
   "source": [
    "### Embedding 200"
   ]
  },
  {
   "cell_type": "markdown",
   "metadata": {},
   "source": [
    "| модель | Переобучение на эпохе | test_acc | Best val_acc | val_loss | Acc w/o paddings |\n",
    "|-----|-------------|-----------------------|----------|-----------|------------------|\n",
    "| **SimpleRNN** | 8 | 0.963 | 0.9661 | 0.0994 | 0.9001479765810978 | \n",
    "| **LSTM** | 8 | 0.9619 | 0.9641 | 0.1087 | 0.898346522550344 | \n",
    "| **biLSTM** | 8 | 0.97 | 0.969 | 0.0851 | 0.9194492697677412 | \n",
    "| **GRU** | 8 | 0.9645 | 0.9653 | 0.0969 | 0.9048446245898474 | "
   ]
  },
  {
   "cell_type": "markdown",
   "metadata": {},
   "source": [
    "заметки:\n",
    "- двунаправленная LSTM продолжает улучшать результаты, LSTM снова показывает результаты хуже остальных сеток, н, стоит заметить, что показатели у всех сеток не сильно отличаются друг от друга."
   ]
  },
  {
   "cell_type": "markdown",
   "metadata": {},
   "source": [
    "### Двунаправленная LSTM WINS\n",
    "- все остальные чуть похуже работают, но тоже нормальные результаты показывают\n",
    "- при увеличении эмбеддинга модели быстрее переобучиваются\n",
    "- точность без паддингов не сильно отличается от тестовой и валидационной точностей, т.к.в тестовом корпусе часто встречались известные слова\n",
    "- чем сложнее модель и сама сетка (для SimpleRNN, LSTM - Embedding 100, для двунаправленной LSTM - Embedding 200), которую мы используем, тем лучше показатели. Однако, того же нельзя сказать про GRU - ее показатели наоборот ухудшаются при увеличении размера пространства эмбеддинга\n",
    "- результаты работы сеток довольно сильно зависит от языкового корпуса, который мы используем\n",
    "# THE END"
   ]
  },
  {
   "cell_type": "code",
   "execution_count": null,
   "metadata": {},
   "outputs": [],
   "source": []
  }
 ],
 "metadata": {
  "kernelspec": {
   "display_name": "Python 3",
   "language": "python",
   "name": "python3"
  },
  "language_info": {
   "codemirror_mode": {
    "name": "ipython",
    "version": 3
   },
   "file_extension": ".py",
   "mimetype": "text/x-python",
   "name": "python",
   "nbconvert_exporter": "python",
   "pygments_lexer": "ipython3",
   "version": "3.6.4"
  }
 },
 "nbformat": 4,
 "nbformat_minor": 2
}
