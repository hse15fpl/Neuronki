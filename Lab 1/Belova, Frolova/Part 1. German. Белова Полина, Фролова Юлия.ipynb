{
 "cells": [
  {
   "cell_type": "markdown",
   "metadata": {},
   "source": [
    "# Лабораторная 1\n",
    "### Белова Полина, Фролова Юлия\n",
    "\n",
    "### POS - tagger (German)"
   ]
  },
  {
   "cell_type": "markdown",
   "metadata": {},
   "source": [
    "### Типология языков"
   ]
  },
  {
   "cell_type": "markdown",
   "metadata": {},
   "source": [
    "## Немецкий\n",
    "Язык флективного (или флективно-аналитического) строя, синтетический тип\n",
    "### Генеалогическая классификация:\n",
    "- Индоевропейские языки\n",
    "- Германская ветвь\n",
    "- Западногерманская группа\n",
    "- Верхненемецкие языки\n",
    "Порядок слов в предложении фиксирован. В утвердительном предложении подлежащее на первом месте, сказуемое всегда на втором. "
   ]
  },
  {
   "cell_type": "code",
   "execution_count": 1,
   "metadata": {},
   "outputs": [],
   "source": [
    "from conllu import parse_incr\n",
    "import numpy as np\n",
    "import pandas as pd\n",
    "import string"
   ]
  },
  {
   "cell_type": "markdown",
   "metadata": {},
   "source": [
    "Функция считывает файлы и создает список списков токенов(all_sent) и список соответствующих им тегов (all_tag)\n",
    "- тег ['form'] это конкретная словоформа, ['upostag'] соответствующий этой словоформе тег"
   ]
  },
  {
   "cell_type": "code",
   "execution_count": 2,
   "metadata": {},
   "outputs": [],
   "source": [
    "def read_and_enjoy(filename):\n",
    "    all_sent = []\n",
    "    all_tag =[]\n",
    "    data = open(filename, 'r', encoding='utf-8')\n",
    "    for sentences in parse_incr(data): #парсим корпусы\n",
    "        new_tag = []\n",
    "        sent=[]\n",
    "        for word in sentences:\n",
    "            sent.append(word['form'].lower()) #список слов в одном предложении\n",
    "            new_tag.append(word['upostag']) #список соответствующих им тегов\n",
    "        all_sent.append(sent) #список списков всех слов\n",
    "        all_tag.append(new_tag) #список списков всех тегов\n",
    "    return all_sent, all_tag"
   ]
  },
  {
   "cell_type": "code",
   "execution_count": 4,
   "metadata": {},
   "outputs": [],
   "source": [
    "ger_train_sents, ger_train_tags = read_and_enjoy(\"de_gsd-ud-train.conllu\")\n",
    "ger_test_sents, ger_test_tags = read_and_enjoy(\"de_gsd-ud-test.conllu\")"
   ]
  },
  {
   "cell_type": "code",
   "execution_count": 5,
   "metadata": {},
   "outputs": [
    {
     "name": "stderr",
     "output_type": "stream",
     "text": [
      "D:\\Anaconda\\lib\\site-packages\\h5py\\__init__.py:36: FutureWarning: Conversion of the second argument of issubdtype from `float` to `np.floating` is deprecated. In future, it will be treated as `np.float64 == np.dtype(float).type`.\n",
      "  from ._conv import register_converters as _register_converters\n",
      "Using TensorFlow backend.\n"
     ]
    }
   ],
   "source": [
    "from keras.layers.core import Activation, Dense\n",
    "from keras.layers.embeddings import Embedding\n",
    "from keras.layers.recurrent import GRU\n",
    "from keras.layers.wrappers import TimeDistributed\n",
    "from keras.models import Sequential\n",
    "from keras.preprocessing import sequence\n",
    "from keras.utils import np_utils\n",
    "import matplotlib.pyplot as plt\n",
    "from sklearn.model_selection import train_test_split\n",
    "from keras.callbacks import ModelCheckpoint"
   ]
  },
  {
   "cell_type": "markdown",
   "metadata": {},
   "source": [
    "Функция для сбора статистики\n",
    "- word_freqs - это словарь всех токенов с частотой их встречаемости\n",
    "- maxlen - максимальная длина предложения в корпусе\n",
    "- minlen - минимальная длина предложения в корпусе\n",
    "- num_sent - количество предложений в корпусе\n",
    "- median - медиана числа слов в предложении\n",
    "- mean - математическое ожидание\n",
    "- tags_freqs - словарь всех тегов с их частотностью\n",
    "- wordtags - просто словарик слов и соответствующих им тегов (на всякий случай)"
   ]
  },
  {
   "cell_type": "code",
   "execution_count": 6,
   "metadata": {},
   "outputs": [],
   "source": [
    "import collections\n",
    "def parse_sentences(corpus, corpus1):\n",
    "    word_freqs = collections.Counter() \n",
    "    tags_freqs = collections.Counter() \n",
    "    num_sent, maxlen = 0, 0\n",
    "    wordtags = {}\n",
    "    lengths = []\n",
    "    tags = {}\n",
    "    minlen = 50\n",
    "    median, mean = 0, 0\n",
    "    for line in range(len(corpus)):\n",
    "        for i in range(len(corpus[line])):\n",
    "            word_freqs[corpus[line][i]] += 1 #собираем все токены с их частотностью\n",
    "            tags_freqs[corpus1[line][i]] +=1 #все теги с их частотностью\n",
    "            wordtags[corpus[line][i]] = corpus1[line][i] #словарь токенов и соответствующих им тегов\n",
    "        if len(corpus[line]) > maxlen:\n",
    "            maxlen = len(corpus[line]) #вычисляем максимальную длину предложения\n",
    "        if len(corpus[line]) < minlen:\n",
    "            minlen = len(corpus[line]) #вычисляем минимальную длину предложения\n",
    "        lengths.append(len(corpus[line])) #собираем длины всех предложений в список для вычисления медианы и мат ожидания\n",
    "        num_sent +=1 #вычисляем кол-во предложения\n",
    "    \n",
    "    median = np.median(np.array(lengths)) #медиана\n",
    "    mean = np.mean(np.array(lengths)) #мат ожидание\n",
    "    return word_freqs, maxlen, minlen, num_sent, median, mean, tags_freqs, wordtags\n",
    "ger_freqs, ger_max, ger_min, ger_num, ger_median, ger_mean, ger_tags, ger_wordtags = parse_sentences(ger_train_sents, ger_train_tags)\n",
    "ger_test_freqs, ger_test_max, ger_test_min, ger_test_num, ger_test_median, ger_test_mean, ger_t_tags, ger_test_wordtags = parse_sentences(ger_test_sents, ger_test_tags)"
   ]
  },
  {
   "cell_type": "markdown",
   "metadata": {},
   "source": [
    "функция вычисления доли новых слов в тестовом корпусе"
   ]
  },
  {
   "cell_type": "code",
   "execution_count": 7,
   "metadata": {},
   "outputs": [],
   "source": [
    "def new_words(corpus, freqs, freqs1):\n",
    "    all_words = collections.Counter(freqs + freqs1) # объединяем все слова \n",
    "    dolya = round(1 - len(freqs)/len(all_words), 6) # делим кол-во всех знакомых слов на кол-во всех слов и вычитаем из 1\n",
    "    return dolya, all_words\n",
    "ger_dolya, ger_all = new_words(ger_test_sents, ger_freqs, ger_test_freqs)"
   ]
  },
  {
   "cell_type": "code",
   "execution_count": 8,
   "metadata": {},
   "outputs": [
    {
     "name": "stdout",
     "output_type": "stream",
     "text": [
      "Число предложений: 13814\n",
      "Число уникальных словоформ: 47758\n",
      "Число уникальных PoS-тегов: 17\n",
      "Макс слов:117\n",
      "Мин слов:2\n",
      "Мат ожидание:19.430578\n",
      "Медиана:17.000000\n",
      "Доля новых слов:0.033767\n"
     ]
    }
   ],
   "source": [
    "print ('Число предложений: %d\\nЧисло уникальных словоформ: %d\\nЧисло уникальных PoS-тегов: %d\\nМакс слов:%d\\nМин слов:%d\\nМат ожидание:%f\\nМедиана:%f\\nДоля новых слов:%f' % (ger_num, len(ger_freqs), len(ger_tags), ger_max, ger_min, ger_mean, ger_median, ger_dolya))"
   ]
  },
  {
   "cell_type": "markdown",
   "metadata": {},
   "source": [
    "### Гистограмма тегов тренировочного корпуса"
   ]
  },
  {
   "cell_type": "code",
   "execution_count": 9,
   "metadata": {},
   "outputs": [
    {
     "data": {
      "text/plain": [
       "<Container object of 17 artists>"
      ]
     },
     "execution_count": 9,
     "metadata": {},
     "output_type": "execute_result"
    },
    {
     "data": {
      "image/png": "[encoded data removed]",
      "text/plain": [
       "<matplotlib.figure.Figure at 0x1cca1d7e6d8>"
      ]
     },
     "metadata": {},
     "output_type": "display_data"
    }
   ],
   "source": [
    "dictionary = dict(ger_tags)\n",
    "plt.bar(list(dictionary.keys()), dictionary.values(), 'g', align='center')"
   ]
  },
  {
   "cell_type": "markdown",
   "metadata": {},
   "source": [
    "### Гистограмма тегов тестового корпуса"
   ]
  },
  {
   "cell_type": "code",
   "execution_count": 10,
   "metadata": {},
   "outputs": [
    {
     "data": {
      "text/plain": [
       "<Container object of 16 artists>"
      ]
     },
     "execution_count": 10,
     "metadata": {},
     "output_type": "execute_result"
    },
    {
     "data": {
      "image/png": "[encoded data removed]",
      "text/plain": [
       "<matplotlib.figure.Figure at 0x1cca265eac8>"
      ]
     },
     "metadata": {},
     "output_type": "display_data"
    }
   ],
   "source": [
    "dictionary = dict(ger_t_tags)\n",
    "plt.bar(list(dictionary.keys()), dictionary.values(), 'g', align='center')"
   ]
  },
  {
   "cell_type": "markdown",
   "metadata": {},
   "source": [
    "- за максимальную длину предложения мы взяли значение, чуть большее медианы\n",
    "- решили взять не все токены (надо же все-таки щадить ноутбуки), поэтому взяли 30000 самых встречающихся токенов (потом мы с этим еще поиграемся)"
   ]
  },
  {
   "cell_type": "code",
   "execution_count": 11,
   "metadata": {},
   "outputs": [],
   "source": [
    "MAX_SEQLEN = 20\n",
    "S_MAX_FEATURES = 30000\n",
    "T_MAX_FEATURES = 17"
   ]
  },
  {
   "cell_type": "code",
   "execution_count": 12,
   "metadata": {},
   "outputs": [],
   "source": [
    "NUM_EPOCHS = 8"
   ]
  },
  {
   "cell_type": "markdown",
   "metadata": {},
   "source": [
    "кодируем слова и теги уникальным числом, а также добавляем в словари слово для паддингов и незнакомых токенов"
   ]
  },
  {
   "cell_type": "code",
   "execution_count": 13,
   "metadata": {},
   "outputs": [],
   "source": [
    "ger_word2index = {w[0]: i + 2 for i,w in enumerate(ger_freqs.most_common(S_MAX_FEATURES))}\n",
    "ger_word2index['PAD'] = 0\n",
    "ger_word2index['UNK'] = 1\n",
    "ger_tag2index = {t: i + 1 for i,t in enumerate(ger_tags)}\n",
    "ger_tag2index['PAD'] = 0"
   ]
  },
  {
   "cell_type": "code",
   "execution_count": 14,
   "metadata": {},
   "outputs": [],
   "source": [
    "S_MAX_FEATURES += 2 # добавляем к длине токенов 2 (паддинг и незнакомый токен)\n",
    "T_MAX_FEATURES += 1 # добавляем к длине тегов 1 (паддинг)"
   ]
  },
  {
   "cell_type": "code",
   "execution_count": 15,
   "metadata": {},
   "outputs": [],
   "source": [
    "def build_tensor(sents, numsents, toindex, maxlen):\n",
    "    data = np.empty((numsents, ), dtype=list)\n",
    "    i = 0\n",
    "    for line in sents:\n",
    "        wids = []\n",
    "        for word in line:\n",
    "            if word in toindex:\n",
    "                wids.append(toindex[word]) # список индексов слов в предложении\n",
    "            else:\n",
    "                wids.append(toindex['UNK']) # если не знаем, то записываем индекс 1 (незнакомое слово)\n",
    "        data[i] = wids\n",
    "        i += 1\n",
    "    pdata = sequence.pad_sequences(data, maxlen=maxlen, padding='post', truncating=\"post\") # добавляем паддинги до MAX_SEQLEN\n",
    "    return pdata\n",
    "X = build_tensor(ger_train_sents, ger_num, ger_word2index, MAX_SEQLEN)\n",
    "Xtest = build_tensor(ger_test_sents, ger_test_num, ger_word2index, MAX_SEQLEN)\n",
    "Y = build_tensor(ger_train_tags, ger_num, ger_tag2index, MAX_SEQLEN)\n",
    "Ytest = build_tensor(ger_test_tags, ger_test_num, ger_tag2index, MAX_SEQLEN)\n",
    "Xtrain, Xval, Ytrain, Yval = train_test_split(X, Y, test_size = 0.2, random_state=42) # из тренировочную корпуса берем часть на валидацию"
   ]
  },
  {
   "cell_type": "markdown",
   "metadata": {},
   "source": [
    "### SimpleRNN"
   ]
  },
  {
   "cell_type": "markdown",
   "metadata": {},
   "source": [
    "во всех моделях \n",
    "- batch_size=64\n",
    "- hidden_layer=64\n",
    "- размеры эмбеддингов для моделей: 64, 100, 200\n",
    "- activation - softmax, loss - categorical_crossentropy, потому что это задача классификации\n",
    "- оптимизатор adam, т.к. с ним еще не работали, но он в принципе похож на rmsprop"
   ]
  },
  {
   "cell_type": "code",
   "execution_count": 16,
   "metadata": {},
   "outputs": [],
   "source": [
    "from keras.layers import SimpleRNN"
   ]
  },
  {
   "cell_type": "code",
   "execution_count": 17,
   "metadata": {},
   "outputs": [
    {
     "name": "stdout",
     "output_type": "stream",
     "text": [
      "_________________________________________________________________\n",
      "Layer (type)                 Output Shape              Param #   \n",
      "=================================================================\n",
      "embedding_1 (Embedding)      (None, 20, 64)            1920128   \n",
      "_________________________________________________________________\n",
      "simple_rnn_1 (SimpleRNN)     (None, 20, 64)            8256      \n",
      "_________________________________________________________________\n",
      "dense_1 (Dense)              (None, 20, 18)            1170      \n",
      "_________________________________________________________________\n",
      "activation_1 (Activation)    (None, 20, 18)            0         \n",
      "=================================================================\n",
      "Total params: 1,929,554\n",
      "Trainable params: 1,929,554\n",
      "Non-trainable params: 0\n",
      "_________________________________________________________________\n"
     ]
    }
   ],
   "source": [
    "rnn_model = Sequential()\n",
    "rnn_model.add(Embedding(S_MAX_FEATURES, 64, input_length=MAX_SEQLEN))\n",
    "rnn_model.add(SimpleRNN(64, input_shape=(MAX_SEQLEN, S_MAX_FEATURES), unroll=True, dropout=0.2, recurrent_dropout=0.2, return_sequences=True))\n",
    "rnn_model.add(Dense(T_MAX_FEATURES))\n",
    "rnn_model.add(Activation(\"softmax\"))\n",
    "\n",
    "rnn_model.compile(loss=\"categorical_crossentropy\", optimizer=\"adam\", metrics=['acc'])\n",
    "rnn_model.summary()"
   ]
  },
  {
   "cell_type": "markdown",
   "metadata": {},
   "source": [
    "функция, которая оценивает работу модели без паддингов"
   ]
  },
  {
   "cell_type": "code",
   "execution_count": 18,
   "metadata": {},
   "outputs": [],
   "source": [
    "# y - correct answers - tags\n",
    "# h - predictions\n",
    "def evaluate(y, h, test_tags):\n",
    "    new_y = []\n",
    "    new_h = []\n",
    "    for line in y:\n",
    "        k = 0\n",
    "        for i in range(len(test_tags[k])):\n",
    "            new_y.append(line[i])\n",
    "        k+=1\n",
    "    for line in h:\n",
    "        k = 0\n",
    "        for i in range(len(test_tags[k])):\n",
    "            new_h.append(line[i])\n",
    "        k+=1\n",
    "    \n",
    "        \n",
    "    classes = set(new_y)\n",
    "    len_new_y = len(new_y)\n",
    "\n",
    "    results = {'accuracy w/o paddings': 0}\n",
    "    class_dist = {c: new_y.count(c) / len_new_y for c in classes}\n",
    "\n",
    "    for c in classes:\n",
    "        tp = set()\n",
    "        fp = set()\n",
    "        tn = set()\n",
    "        fn = set()\n",
    "\n",
    "        for i, h_i in enumerate(new_h):\n",
    "            y_i = new_y[i]\n",
    "            if h_i == y_i:\n",
    "                if h_i == c:\n",
    "                    tp.add((i, h_i))\n",
    "                else:\n",
    "                    tn.add((i, h_i))\n",
    "        acc = len(tp | tn) / len(new_h) # так как мы в метриках оценивания используем только точность, то и здесь подсчитаем только ее\n",
    "\n",
    "        results['accuracy w/o paddings']  += acc * class_dist[c]\n",
    "    return results"
   ]
  },
  {
   "cell_type": "code",
   "execution_count": null,
   "metadata": {},
   "outputs": [],
   "source": [
    "import os\n",
    "os.makedirs('cu\\\\rnn_model\\\\cu-easy_model-{epoch}.h5')\n",
    "os.makedirs('cu\\\\rnn_model\\\\cu-easy_model-history.json')"
   ]
  },
  {
   "cell_type": "markdown",
   "metadata": {},
   "source": [
    "сохраняем веса для каждой эпохи, что потом по эпохе до переобучения сделать предсказания и посчитать точность модели без паддингов"
   ]
  },
  {
   "cell_type": "code",
   "execution_count": 19,
   "metadata": {},
   "outputs": [
    {
     "name": "stdout",
     "output_type": "stream",
     "text": [
      "Train on 11051 samples, validate on 2763 samples\n",
      "Epoch 1/8\n",
      "11051/11051 [==============================] - 9s 800us/step - loss: 1.7359 - acc: 0.5143 - val_loss: 0.8899 - val_acc: 0.7280\n",
      "\n",
      "Epoch 00001: saving model to cu\\rnn_model\\cu-easy_model-1.h5\n",
      "Epoch 2/8\n",
      "11051/11051 [==============================] - 7s 597us/step - loss: 0.6321 - acc: 0.8164 - val_loss: 0.4171 - val_acc: 0.8778\n",
      "\n",
      "Epoch 00002: saving model to cu\\rnn_model\\cu-easy_model-2.h5\n",
      "Epoch 3/8\n",
      "11051/11051 [==============================] - 7s 672us/step - loss: 0.3147 - acc: 0.9124 - val_loss: 0.2917 - val_acc: 0.9084\n",
      "\n",
      "Epoch 00003: saving model to cu\\rnn_model\\cu-easy_model-3.h5\n",
      "Epoch 4/8\n",
      "11051/11051 [==============================] - 8s 760us/step - loss: 0.2079 - acc: 0.9386 - val_loss: 0.2704 - val_acc: 0.9106\n",
      "\n",
      "Epoch 00004: saving model to cu\\rnn_model\\cu-easy_model-4.h5\n",
      "Epoch 5/8\n",
      "11051/11051 [==============================] - 8s 755us/step - loss: 0.1725 - acc: 0.9446 - val_loss: 0.2666 - val_acc: 0.9108\n",
      "\n",
      "Epoch 00005: saving model to cu\\rnn_model\\cu-easy_model-5.h5\n",
      "Epoch 6/8\n",
      "11051/11051 [==============================] - 8s 769us/step - loss: 0.1572 - acc: 0.9472 - val_loss: 0.2648 - val_acc: 0.9124\n",
      "\n",
      "Epoch 00006: saving model to cu\\rnn_model\\cu-easy_model-6.h5\n",
      "Epoch 7/8\n",
      "11051/11051 [==============================] - 8s 735us/step - loss: 0.1466 - acc: 0.9496 - val_loss: 0.2684 - val_acc: 0.9122\n",
      "\n",
      "Epoch 00007: saving model to cu\\rnn_model\\cu-easy_model-7.h5\n",
      "Epoch 8/8\n",
      "11051/11051 [==============================] - 8s 739us/step - loss: 0.1401 - acc: 0.9516 - val_loss: 0.2702 - val_acc: 0.9123\n",
      "\n",
      "Epoch 00008: saving model to cu\\rnn_model\\cu-easy_model-8.h5\n"
     ]
    }
   ],
   "source": [
    "checkpoint = ModelCheckpoint('cu\\\\rnn_model\\\\cu-easy_model-{epoch}.h5', verbose=1, save_best_only=False, save_weights_only=True)\n",
    "rnn_history = rnn_model.fit(Xtrain, np_utils.to_categorical(Ytrain, num_classes=T_MAX_FEATURES), batch_size=64, epochs=NUM_EPOCHS, validation_data=[Xval, np_utils.to_categorical(Yval, num_classes=T_MAX_FEATURES)], verbose=1, callbacks=[checkpoint])"
   ]
  },
  {
   "cell_type": "markdown",
   "metadata": {},
   "source": [
    "переобучение на 7 эпохе, т.к. валидационная точность начинает давать сбои, потери растут. Модель начала переобучиваться раньше, чем на польском, возможно, потому что так сформировалась валидационная выборка, либо из-за того, что на немецком языке данных больше (соответственно и параметров в каждой модели)"
   ]
  },
  {
   "cell_type": "code",
   "execution_count": 20,
   "metadata": {},
   "outputs": [],
   "source": [
    "rnn_model.load_weights('cu\\\\rnn_model\\\\cu-easy_model-6.h5')"
   ]
  },
  {
   "cell_type": "code",
   "execution_count": 21,
   "metadata": {},
   "outputs": [
    {
     "name": "stdout",
     "output_type": "stream",
     "text": [
      "977/977 [==============================] - 0s 82us/step\n",
      "0.9018935598394888\n",
      "{'accuracy w/o paddings': 0.879136813374275}\n"
     ]
    }
   ],
   "source": [
    "score, acc = rnn_model.evaluate(Xtest, np_utils.to_categorical(Ytest, num_classes=T_MAX_FEATURES), batch_size=64)\n",
    "print(acc)\n",
    "prediction = rnn_model.predict_classes(Xtest)\n",
    "prediction_rnn = evaluate(Ytest, prediction, ger_test_tags)\n",
    "print(prediction_rnn)"
   ]
  },
  {
   "cell_type": "markdown",
   "metadata": {},
   "source": [
    "строим графики"
   ]
  },
  {
   "cell_type": "code",
   "execution_count": 22,
   "metadata": {},
   "outputs": [
    {
     "data": {
      "image/png": "[encoded data removed]",
      "text/plain": [
       "<matplotlib.figure.Figure at 0x1cca6deeeb8>"
      ]
     },
     "metadata": {},
     "output_type": "display_data"
    }
   ],
   "source": [
    "plt.subplot(211)\n",
    "plt.title(\"Accuracy\")\n",
    "plt.plot(rnn_history.history[\"acc\"], color=\"g\", label=\"Train\")\n",
    "plt.plot(rnn_history.history[\"val_acc\"], color=\"b\", label=\"Validation\")\n",
    "plt.legend(loc=\"best\")\n",
    "\n",
    "plt.subplot(212)\n",
    "plt.title(\"Loss\")\n",
    "plt.plot(rnn_history.history[\"loss\"], color=\"g\", label=\"Train\")\n",
    "plt.plot(rnn_history.history[\"val_loss\"], color=\"b\", label=\"Validation\")\n",
    "plt.legend(loc=\"best\")\n",
    "\n",
    "plt.tight_layout()\n",
    "plt.show()"
   ]
  },
  {
   "cell_type": "markdown",
   "metadata": {},
   "source": [
    "Размер эмбеддинга 100"
   ]
  },
  {
   "cell_type": "code",
   "execution_count": 23,
   "metadata": {},
   "outputs": [
    {
     "name": "stdout",
     "output_type": "stream",
     "text": [
      "_________________________________________________________________\n",
      "Layer (type)                 Output Shape              Param #   \n",
      "=================================================================\n",
      "embedding_2 (Embedding)      (None, 20, 100)           3000200   \n",
      "_________________________________________________________________\n",
      "simple_rnn_2 (SimpleRNN)     (None, 20, 64)            10560     \n",
      "_________________________________________________________________\n",
      "dense_2 (Dense)              (None, 20, 18)            1170      \n",
      "_________________________________________________________________\n",
      "activation_2 (Activation)    (None, 20, 18)            0         \n",
      "=================================================================\n",
      "Total params: 3,011,930\n",
      "Trainable params: 3,011,930\n",
      "Non-trainable params: 0\n",
      "_________________________________________________________________\n",
      "Train on 11051 samples, validate on 2763 samples\n",
      "Epoch 1/8\n",
      "11051/11051 [==============================] - 18s 2ms/step - loss: 1.6457 - acc: 0.5425 - val_loss: 0.8162 - val_acc: 0.7620\n",
      "\n",
      "Epoch 00001: saving model to cu\\rnn_model\\cu-easy_model-1.h5\n",
      "Epoch 2/8\n",
      "11051/11051 [==============================] - 14s 1ms/step - loss: 0.5609 - acc: 0.8410 - val_loss: 0.3679 - val_acc: 0.8906\n",
      "\n",
      "Epoch 00002: saving model to cu\\rnn_model\\cu-easy_model-2.h5\n",
      "Epoch 3/8\n",
      "11051/11051 [==============================] - 14s 1ms/step - loss: 0.2756 - acc: 0.9228 - val_loss: 0.2833 - val_acc: 0.9088\n",
      "\n",
      "Epoch 00003: saving model to cu\\rnn_model\\cu-easy_model-3.h5\n",
      "Epoch 4/8\n",
      "11051/11051 [==============================] - 14s 1ms/step - loss: 0.1914 - acc: 0.9418 - val_loss: 0.2694 - val_acc: 0.9118\n",
      "\n",
      "Epoch 00004: saving model to cu\\rnn_model\\cu-easy_model-4.h5\n",
      "Epoch 5/8\n",
      "11051/11051 [==============================] - 14s 1ms/step - loss: 0.1618 - acc: 0.9468 - val_loss: 0.2681 - val_acc: 0.9135\n",
      "\n",
      "Epoch 00005: saving model to cu\\rnn_model\\cu-easy_model-5.h5\n",
      "Epoch 6/8\n",
      "11051/11051 [==============================] - 14s 1ms/step - loss: 0.1473 - acc: 0.9504 - val_loss: 0.2711 - val_acc: 0.9138\n",
      "\n",
      "Epoch 00006: saving model to cu\\rnn_model\\cu-easy_model-6.h5\n",
      "Epoch 7/8\n",
      "11051/11051 [==============================] - 14s 1ms/step - loss: 0.1376 - acc: 0.9532 - val_loss: 0.2731 - val_acc: 0.9147\n",
      "\n",
      "Epoch 00007: saving model to cu\\rnn_model\\cu-easy_model-7.h5\n",
      "Epoch 8/8\n",
      "11051/11051 [==============================] - 14s 1ms/step - loss: 0.1300 - acc: 0.9553 - val_loss: 0.2768 - val_acc: 0.9135\n",
      "\n",
      "Epoch 00008: saving model to cu\\rnn_model\\cu-easy_model-8.h5\n"
     ]
    }
   ],
   "source": [
    "rnn_model = Sequential()\n",
    "rnn_model.add(Embedding(S_MAX_FEATURES, 100, input_length=MAX_SEQLEN))\n",
    "rnn_model.add(SimpleRNN(64, input_shape=(MAX_SEQLEN, S_MAX_FEATURES), unroll=True, dropout=0.2, recurrent_dropout=0.2, return_sequences=True))\n",
    "rnn_model.add(Dense(T_MAX_FEATURES))\n",
    "rnn_model.add(Activation(\"softmax\"))\n",
    "\n",
    "rnn_model.compile(loss=\"categorical_crossentropy\", optimizer=\"adam\", metrics=['acc'])\n",
    "rnn_model.summary()\n",
    "checkpoint = ModelCheckpoint('cu\\\\rnn_model\\\\cu-easy_model-{epoch}.h5', verbose=1, save_best_only=False, save_weights_only=True)\n",
    "rnn_history = rnn_model.fit(Xtrain, np_utils.to_categorical(Ytrain, num_classes=T_MAX_FEATURES), batch_size=64, epochs=NUM_EPOCHS, validation_data=[Xval, np_utils.to_categorical(Yval, num_classes=T_MAX_FEATURES)], verbose=1, callbacks=[checkpoint])"
   ]
  },
  {
   "cell_type": "markdown",
   "metadata": {},
   "source": [
    "переобучение на 8 эпохе, т.к. валидационная точность начинает падать, а потери растут"
   ]
  },
  {
   "cell_type": "code",
   "execution_count": 24,
   "metadata": {},
   "outputs": [
    {
     "name": "stdout",
     "output_type": "stream",
     "text": [
      "977/977 [==============================] - 0s 96us/step\n",
      "0.9078300908863728\n",
      "{'accuracy w/o paddings': 0.8851074718526101}\n"
     ]
    }
   ],
   "source": [
    "rnn_model.load_weights('cu\\\\rnn_model\\\\cu-easy_model-7.h5')\n",
    "score, acc = rnn_model.evaluate(Xtest, np_utils.to_categorical(Ytest, num_classes=T_MAX_FEATURES), batch_size=64)\n",
    "print(acc)\n",
    "prediction = rnn_model.predict_classes(Xtest)\n",
    "prediction_rnn = evaluate(Ytest, prediction, ger_test_tags)\n",
    "print(prediction_rnn)"
   ]
  },
  {
   "cell_type": "markdown",
   "metadata": {},
   "source": [
    "строим графики"
   ]
  },
  {
   "cell_type": "code",
   "execution_count": 25,
   "metadata": {},
   "outputs": [
    {
     "data": {
      "image/png": "[encoded data removed]",
      "text/plain": [
       "<matplotlib.figure.Figure at 0x1cca50879e8>"
      ]
     },
     "metadata": {},
     "output_type": "display_data"
    }
   ],
   "source": [
    "plt.subplot(211)\n",
    "plt.title(\"Accuracy\")\n",
    "plt.plot(rnn_history.history[\"acc\"], color=\"g\", label=\"Train\")\n",
    "plt.plot(rnn_history.history[\"val_acc\"], color=\"b\", label=\"Validation\")\n",
    "plt.legend(loc=\"best\")\n",
    "\n",
    "plt.subplot(212)\n",
    "plt.title(\"Loss\")\n",
    "plt.plot(rnn_history.history[\"loss\"], color=\"g\", label=\"Train\")\n",
    "plt.plot(rnn_history.history[\"val_loss\"], color=\"b\", label=\"Validation\")\n",
    "plt.legend(loc=\"best\")\n",
    "\n",
    "plt.tight_layout()\n",
    "plt.show()"
   ]
  },
  {
   "cell_type": "markdown",
   "metadata": {},
   "source": [
    "Размер эмбеддинга 200"
   ]
  },
  {
   "cell_type": "code",
   "execution_count": 26,
   "metadata": {},
   "outputs": [
    {
     "name": "stdout",
     "output_type": "stream",
     "text": [
      "_________________________________________________________________\n",
      "Layer (type)                 Output Shape              Param #   \n",
      "=================================================================\n",
      "embedding_3 (Embedding)      (None, 20, 200)           6000400   \n",
      "_________________________________________________________________\n",
      "simple_rnn_3 (SimpleRNN)     (None, 20, 64)            16960     \n",
      "_________________________________________________________________\n",
      "dense_3 (Dense)              (None, 20, 18)            1170      \n",
      "_________________________________________________________________\n",
      "activation_3 (Activation)    (None, 20, 18)            0         \n",
      "=================================================================\n",
      "Total params: 6,018,530\n",
      "Trainable params: 6,018,530\n",
      "Non-trainable params: 0\n",
      "_________________________________________________________________\n",
      "_________________________________________________________________\n",
      "Layer (type)                 Output Shape              Param #   \n",
      "=================================================================\n",
      "embedding_3 (Embedding)      (None, 20, 200)           6000400   \n",
      "_________________________________________________________________\n",
      "simple_rnn_3 (SimpleRNN)     (None, 20, 64)            16960     \n",
      "_________________________________________________________________\n",
      "dense_3 (Dense)              (None, 20, 18)            1170      \n",
      "_________________________________________________________________\n",
      "activation_3 (Activation)    (None, 20, 18)            0         \n",
      "=================================================================\n",
      "Total params: 6,018,530\n",
      "Trainable params: 6,018,530\n",
      "Non-trainable params: 0\n",
      "_________________________________________________________________\n",
      "Train on 11051 samples, validate on 2763 samples\n",
      "Epoch 1/8\n",
      "11051/11051 [==============================] - 29s 3ms/step - loss: 1.4422 - acc: 0.6024 - val_loss: 0.6535 - val_acc: 0.8117\n",
      "\n",
      "Epoch 00001: saving model to cu\\rnn_model\\cu-easy_model-1.h5\n",
      "Epoch 2/8\n",
      "11051/11051 [==============================] - 24s 2ms/step - loss: 0.4404 - acc: 0.8769 - val_loss: 0.3122 - val_acc: 0.9032\n",
      "\n",
      "Epoch 00002: saving model to cu\\rnn_model\\cu-easy_model-2.h5\n",
      "Epoch 3/8\n",
      "11051/11051 [==============================] - 24s 2ms/step - loss: 0.2195 - acc: 0.9366 - val_loss: 0.2711 - val_acc: 0.9121\n",
      "\n",
      "Epoch 00003: saving model to cu\\rnn_model\\cu-easy_model-3.h5\n",
      "Epoch 4/8\n",
      "11051/11051 [==============================] - 24s 2ms/step - loss: 0.1653 - acc: 0.9464 - val_loss: 0.2646 - val_acc: 0.9141\n",
      "\n",
      "Epoch 00004: saving model to cu\\rnn_model\\cu-easy_model-4.h5\n",
      "Epoch 5/8\n",
      "11051/11051 [==============================] - 24s 2ms/step - loss: 0.1468 - acc: 0.9505 - val_loss: 0.2648 - val_acc: 0.9139\n",
      "\n",
      "Epoch 00005: saving model to cu\\rnn_model\\cu-easy_model-5.h5\n",
      "Epoch 6/8\n",
      "11051/11051 [==============================] - 24s 2ms/step - loss: 0.1352 - acc: 0.9532 - val_loss: 0.2707 - val_acc: 0.9131\n",
      "\n",
      "Epoch 00006: saving model to cu\\rnn_model\\cu-easy_model-6.h5\n",
      "Epoch 7/8\n",
      "11051/11051 [==============================] - 24s 2ms/step - loss: 0.1264 - acc: 0.9568 - val_loss: 0.2728 - val_acc: 0.9129\n",
      "\n",
      "Epoch 00007: saving model to cu\\rnn_model\\cu-easy_model-7.h5\n",
      "Epoch 8/8\n",
      "11051/11051 [==============================] - 22s 2ms/step - loss: 0.1184 - acc: 0.9594 - val_loss: 0.2787 - val_acc: 0.9125\n",
      "\n",
      "Epoch 00008: saving model to cu\\rnn_model\\cu-easy_model-8.h5\n"
     ]
    }
   ],
   "source": [
    "rnn_model = Sequential()\n",
    "rnn_model.add(Embedding(S_MAX_FEATURES, 200, input_length=MAX_SEQLEN))\n",
    "rnn_model.add(SimpleRNN(64, input_shape=(MAX_SEQLEN, S_MAX_FEATURES), unroll=True, dropout=0.2, recurrent_dropout=0.2, return_sequences=True))\n",
    "rnn_model.add(Dense(T_MAX_FEATURES))\n",
    "rnn_model.add(Activation(\"softmax\"))\n",
    "\n",
    "rnn_model.compile(loss=\"categorical_crossentropy\", optimizer=\"adam\", metrics=['acc'])\n",
    "rnn_model.summary()\n",
    "rnn_model.compile(loss=\"categorical_crossentropy\", optimizer=\"adam\", metrics=['acc'])\n",
    "rnn_model.summary()\n",
    "checkpoint = ModelCheckpoint('cu\\\\rnn_model\\\\cu-easy_model-{epoch}.h5', verbose=1, save_best_only=False, save_weights_only=True)\n",
    "rnn_history = rnn_model.fit(Xtrain, np_utils.to_categorical(Ytrain, num_classes=T_MAX_FEATURES), batch_size=64, epochs=NUM_EPOCHS, validation_data=[Xval, np_utils.to_categorical(Yval, num_classes=T_MAX_FEATURES)], verbose=1, callbacks=[checkpoint])"
   ]
  },
  {
   "cell_type": "markdown",
   "metadata": {},
   "source": [
    "переобучение на 6 эпохе, т.к. валидационная точность начинает падать, а потери растут"
   ]
  },
  {
   "cell_type": "code",
   "execution_count": 28,
   "metadata": {},
   "outputs": [
    {
     "name": "stdout",
     "output_type": "stream",
     "text": [
      "977/977 [==============================] - 0s 92us/step\n",
      "0.9073695032232981\n",
      "{'accuracy w/o paddings': 0.8853633572159674}\n"
     ]
    }
   ],
   "source": [
    "rnn_model.load_weights('cu\\\\rnn_model\\\\cu-easy_model-4.h5')\n",
    "score, acc = rnn_model.evaluate(Xtest, np_utils.to_categorical(Ytest, num_classes=T_MAX_FEATURES), batch_size=64)\n",
    "print(acc)\n",
    "prediction = rnn_model.predict_classes(Xtest)\n",
    "prediction_rnn = evaluate(Ytest, prediction, ger_test_tags)\n",
    "print(prediction_rnn)"
   ]
  },
  {
   "cell_type": "markdown",
   "metadata": {},
   "source": [
    "строим графики"
   ]
  },
  {
   "cell_type": "code",
   "execution_count": 29,
   "metadata": {},
   "outputs": [
    {
     "data": {
      "image/png": "[encoded data removed]",
      "text/plain": [
       "<matplotlib.figure.Figure at 0x1ccaa7c6a90>"
      ]
     },
     "metadata": {},
     "output_type": "display_data"
    }
   ],
   "source": [
    "plt.subplot(211)\n",
    "plt.title(\"Accuracy\")\n",
    "plt.plot(rnn_history.history[\"acc\"], color=\"g\", label=\"Train\")\n",
    "plt.plot(rnn_history.history[\"val_acc\"], color=\"b\", label=\"Validation\")\n",
    "plt.legend(loc=\"best\")\n",
    "\n",
    "plt.subplot(212)\n",
    "plt.title(\"Loss\")\n",
    "plt.plot(rnn_history.history[\"loss\"], color=\"g\", label=\"Train\")\n",
    "plt.plot(rnn_history.history[\"val_loss\"], color=\"b\", label=\"Validation\")\n",
    "plt.legend(loc=\"best\")\n",
    "\n",
    "plt.tight_layout()\n",
    "plt.show()"
   ]
  },
  {
   "cell_type": "markdown",
   "metadata": {},
   "source": [
    "| RNN | Размер эмбеддинга | Переобучение на эпохе | test_acc | Best val_acc | val_loss | Acc w/o paddings |\n",
    "|-----|-------------------|-------------|-----------------------|----------|-----------|------------------|\n",
    "| **1 модель** | 64 | 7 | 0.9019 | 0.9124 | 0.2648 | 0.879136813374275 |\n",
    "| **2 модель** | 100 | 8 | 0.9078 | 0.9147 | 0.2731 | 0.8851074718526101 |\n",
    "| **3 модель** | 200 | 5 | 0.9073 | 0.9141 | 0.2646 | 0.8853633572159674 | "
   ]
  },
  {
   "cell_type": "markdown",
   "metadata": {},
   "source": [
    "пока гипотезы и заметки по работе моделей:\n",
    "- чем больше размер эмбеддинга, тем, возможно, больше тестовая и валидационная точности и точность без паддингов, а также меньше потери, что логично, т.к. в модель поступает больше параметров\n",
    "- лучшие данные у моделей с размером эмбеддингов в 100 и 200. Есть небольшая разница: например, в моделе с эмбеддингом 200 ненамного лучше точность предсканных тегов без паддингов, а также меньше валидационные потери. Данные по другим показателям отличается только тысячными. \n",
    "- В принципе модели с большим размером эмбеддинга показывают себя лучше"
   ]
  },
  {
   "cell_type": "markdown",
   "metadata": {},
   "source": [
    "повторяем все то же самое для других сеток"
   ]
  },
  {
   "cell_type": "markdown",
   "metadata": {},
   "source": [
    "### LSTM"
   ]
  },
  {
   "cell_type": "code",
   "execution_count": 30,
   "metadata": {},
   "outputs": [
    {
     "name": "stdout",
     "output_type": "stream",
     "text": [
      "_________________________________________________________________\n",
      "Layer (type)                 Output Shape              Param #   \n",
      "=================================================================\n",
      "embedding_4 (Embedding)      (None, 20, 64)            1920128   \n",
      "_________________________________________________________________\n",
      "lstm_1 (LSTM)                (None, 20, 64)            33024     \n",
      "_________________________________________________________________\n",
      "dense_4 (Dense)              (None, 20, 18)            1170      \n",
      "_________________________________________________________________\n",
      "activation_4 (Activation)    (None, 20, 18)            0         \n",
      "=================================================================\n",
      "Total params: 1,954,322\n",
      "Trainable params: 1,954,322\n",
      "Non-trainable params: 0\n",
      "_________________________________________________________________\n"
     ]
    }
   ],
   "source": [
    "from keras.layers.recurrent import LSTM\n",
    "lstm_model = Sequential()\n",
    "lstm_model.add(Embedding(S_MAX_FEATURES, 64, input_length=MAX_SEQLEN))\n",
    "lstm_model.add(LSTM(64, input_shape=(MAX_SEQLEN, S_MAX_FEATURES), unroll=True, dropout=0.2, recurrent_dropout=0.2, return_sequences=True))\n",
    "lstm_model.add(Dense(T_MAX_FEATURES))\n",
    "lstm_model.add(Activation(\"softmax\"))\n",
    "\n",
    "lstm_model.compile(loss=\"categorical_crossentropy\", optimizer=\"adam\", metrics=['acc'])\n",
    "lstm_model.summary()"
   ]
  },
  {
   "cell_type": "code",
   "execution_count": null,
   "metadata": {},
   "outputs": [],
   "source": [
    "os.makedirs('cu\\\\lstm_model\\\\cu-easy_model-{epoch}.h5')\n",
    "os.makedirs('cu\\\\lstm_model\\\\cu-easy_model-history.json')"
   ]
  },
  {
   "cell_type": "code",
   "execution_count": 31,
   "metadata": {},
   "outputs": [
    {
     "name": "stdout",
     "output_type": "stream",
     "text": [
      "Train on 11051 samples, validate on 2763 samples\n",
      "Epoch 1/8\n",
      "11051/11051 [==============================] - 21s 2ms/step - loss: 1.9826 - acc: 0.4042 - val_loss: 1.2492 - val_acc: 0.6328\n",
      "\n",
      "Epoch 00001: saving model to cu\\lstm_model\\cu-easy_model-1.h5\n",
      "Epoch 2/8\n",
      "11051/11051 [==============================] - 10s 882us/step - loss: 0.8106 - acc: 0.7563 - val_loss: 0.5084 - val_acc: 0.8541\n",
      "\n",
      "Epoch 00002: saving model to cu\\lstm_model\\cu-easy_model-2.h5\n",
      "Epoch 3/8\n",
      "11051/11051 [==============================] - 9s 844us/step - loss: 0.3624 - acc: 0.9034 - val_loss: 0.3205 - val_acc: 0.9029\n",
      "\n",
      "Epoch 00003: saving model to cu\\lstm_model\\cu-easy_model-3.h5\n",
      "Epoch 4/8\n",
      "11051/11051 [==============================] - 9s 852us/step - loss: 0.2275 - acc: 0.9366 - val_loss: 0.2864 - val_acc: 0.9095\n",
      "\n",
      "Epoch 00004: saving model to cu\\lstm_model\\cu-easy_model-4.h5\n",
      "Epoch 5/8\n",
      "11051/11051 [==============================] - 9s 850us/step - loss: 0.1837 - acc: 0.9442 - val_loss: 0.2749 - val_acc: 0.9113\n",
      "\n",
      "Epoch 00005: saving model to cu\\lstm_model\\cu-easy_model-5.h5\n",
      "Epoch 6/8\n",
      "11051/11051 [==============================] - 9s 858us/step - loss: 0.1617 - acc: 0.9486 - val_loss: 0.2711 - val_acc: 0.9127\n",
      "\n",
      "Epoch 00006: saving model to cu\\lstm_model\\cu-easy_model-6.h5\n",
      "Epoch 7/8\n",
      "11051/11051 [==============================] - 10s 870us/step - loss: 0.1479 - acc: 0.9512 - val_loss: 0.2735 - val_acc: 0.9113\n",
      "\n",
      "Epoch 00007: saving model to cu\\lstm_model\\cu-easy_model-7.h5\n",
      "Epoch 8/8\n",
      "11051/11051 [==============================] - 9s 852us/step - loss: 0.1371 - acc: 0.9545 - val_loss: 0.2749 - val_acc: 0.9120\n",
      "\n",
      "Epoch 00008: saving model to cu\\lstm_model\\cu-easy_model-8.h5\n"
     ]
    }
   ],
   "source": [
    "checkpoint = ModelCheckpoint('cu\\\\lstm_model\\\\cu-easy_model-{epoch}.h5', verbose=1, save_best_only=False, save_weights_only=True)\n",
    "lstm_history = lstm_model.fit(Xtrain, np_utils.to_categorical(Ytrain, num_classes=T_MAX_FEATURES), batch_size=64, epochs=NUM_EPOCHS, validation_data=[Xval, np_utils.to_categorical(Yval, num_classes=T_MAX_FEATURES)], verbose=1, callbacks=[checkpoint])"
   ]
  },
  {
   "cell_type": "markdown",
   "metadata": {},
   "source": [
    "переобучение на 7 эпохе, т.к. валидационная точность начинает давать сбои, потери растут"
   ]
  },
  {
   "cell_type": "code",
   "execution_count": 32,
   "metadata": {},
   "outputs": [
    {
     "name": "stdout",
     "output_type": "stream",
     "text": [
      "977/977 [==============================] - 0s 157us/step\n",
      "0.9004605963383873\n",
      "{'accuracy w/o paddings': 0.8760661890139883}\n"
     ]
    }
   ],
   "source": [
    "lstm_model.load_weights('cu\\\\lstm_model\\\\cu-easy_model-6.h5')\n",
    "score, acc = lstm_model.evaluate(Xtest, np_utils.to_categorical(Ytest, num_classes=T_MAX_FEATURES), batch_size=64)\n",
    "print(acc)\n",
    "prediction = lstm_model.predict_classes(Xtest)\n",
    "prediction_lstm = evaluate(Ytest, prediction, ger_test_tags)\n",
    "print(prediction_lstm)"
   ]
  },
  {
   "cell_type": "code",
   "execution_count": 33,
   "metadata": {},
   "outputs": [
    {
     "data": {
      "image/png": "[encoded data removed]",
      "text/plain": [
       "<matplotlib.figure.Figure at 0x1ccbb885780>"
      ]
     },
     "metadata": {},
     "output_type": "display_data"
    }
   ],
   "source": [
    "plt.subplot(211)\n",
    "plt.title(\"Accuracy\")\n",
    "plt.plot(lstm_history.history[\"acc\"], color=\"g\", label=\"Train\")\n",
    "plt.plot(lstm_history.history[\"val_acc\"], color=\"b\", label=\"Validation\")\n",
    "plt.legend(loc=\"best\")\n",
    "\n",
    "plt.subplot(212)\n",
    "plt.title(\"Loss\")\n",
    "plt.plot(lstm_history.history[\"loss\"], color=\"g\", label=\"Train\")\n",
    "plt.plot(lstm_history.history[\"val_loss\"], color=\"b\", label=\"Validation\")\n",
    "plt.legend(loc=\"best\")\n",
    "\n",
    "plt.tight_layout()\n",
    "plt.show()"
   ]
  },
  {
   "cell_type": "markdown",
   "metadata": {},
   "source": [
    "Размер эмбеддинга 100"
   ]
  },
  {
   "cell_type": "code",
   "execution_count": 34,
   "metadata": {},
   "outputs": [
    {
     "name": "stdout",
     "output_type": "stream",
     "text": [
      "_________________________________________________________________\n",
      "Layer (type)                 Output Shape              Param #   \n",
      "=================================================================\n",
      "embedding_5 (Embedding)      (None, 20, 100)           3000200   \n",
      "_________________________________________________________________\n",
      "lstm_2 (LSTM)                (None, 20, 64)            42240     \n",
      "_________________________________________________________________\n",
      "dense_5 (Dense)              (None, 20, 18)            1170      \n",
      "_________________________________________________________________\n",
      "activation_5 (Activation)    (None, 20, 18)            0         \n",
      "=================================================================\n",
      "Total params: 3,043,610\n",
      "Trainable params: 3,043,610\n",
      "Non-trainable params: 0\n",
      "_________________________________________________________________\n",
      "Train on 11051 samples, validate on 2763 samples\n",
      "Epoch 1/8\n",
      "11051/11051 [==============================] - 34s 3ms/step - loss: 1.9031 - acc: 0.4401 - val_loss: 1.0356 - val_acc: 0.6811\n",
      "\n",
      "Epoch 00001: saving model to cu\\lstm_model\\cu-easy_model-1.h5\n",
      "Epoch 2/8\n",
      "11051/11051 [==============================] - 21s 2ms/step - loss: 0.6556 - acc: 0.8064 - val_loss: 0.4102 - val_acc: 0.8849\n",
      "\n",
      "Epoch 00002: saving model to cu\\lstm_model\\cu-easy_model-2.h5\n",
      "Epoch 3/8\n",
      "11051/11051 [==============================] - 21s 2ms/step - loss: 0.2958 - acc: 0.9195 - val_loss: 0.2968 - val_acc: 0.9072\n",
      "\n",
      "Epoch 00003: saving model to cu\\lstm_model\\cu-easy_model-3.h5\n",
      "Epoch 4/8\n",
      "11051/11051 [==============================] - 21s 2ms/step - loss: 0.1986 - acc: 0.9418 - val_loss: 0.2802 - val_acc: 0.9109\n",
      "\n",
      "Epoch 00004: saving model to cu\\lstm_model\\cu-easy_model-4.h5\n",
      "Epoch 5/8\n",
      "11051/11051 [==============================] - 21s 2ms/step - loss: 0.1655 - acc: 0.9477 - val_loss: 0.2744 - val_acc: 0.9120\n",
      "\n",
      "Epoch 00005: saving model to cu\\lstm_model\\cu-easy_model-5.h5\n",
      "Epoch 6/8\n",
      "11051/11051 [==============================] - 21s 2ms/step - loss: 0.1473 - acc: 0.9525 - val_loss: 0.2770 - val_acc: 0.9113\n",
      "\n",
      "Epoch 00006: saving model to cu\\lstm_model\\cu-easy_model-6.h5\n",
      "Epoch 7/8\n",
      "11051/11051 [==============================] - 21s 2ms/step - loss: 0.1337 - acc: 0.9556 - val_loss: 0.2774 - val_acc: 0.9116\n",
      "\n",
      "Epoch 00007: saving model to cu\\lstm_model\\cu-easy_model-7.h5\n",
      "Epoch 8/8\n",
      "11051/11051 [==============================] - 21s 2ms/step - loss: 0.1224 - acc: 0.9592 - val_loss: 0.2859 - val_acc: 0.9111\n",
      "\n",
      "Epoch 00008: saving model to cu\\lstm_model\\cu-easy_model-8.h5\n"
     ]
    }
   ],
   "source": [
    "from keras.layers.recurrent import LSTM\n",
    "lstm_model = Sequential()\n",
    "lstm_model.add(Embedding(S_MAX_FEATURES, 100, input_length=MAX_SEQLEN))\n",
    "lstm_model.add(LSTM(64, input_shape=(MAX_SEQLEN, S_MAX_FEATURES), unroll=True, dropout=0.2, recurrent_dropout=0.2, return_sequences=True))\n",
    "lstm_model.add(Dense(T_MAX_FEATURES))\n",
    "lstm_model.add(Activation(\"softmax\"))\n",
    "\n",
    "lstm_model.compile(loss=\"categorical_crossentropy\", optimizer=\"adam\", metrics=['acc'])\n",
    "lstm_model.summary()\n",
    "checkpoint = ModelCheckpoint('cu\\\\lstm_model\\\\cu-easy_model-{epoch}.h5', verbose=1, save_best_only=False, save_weights_only=True)\n",
    "lstm_history = lstm_model.fit(Xtrain, np_utils.to_categorical(Ytrain, num_classes=T_MAX_FEATURES), batch_size=64, epochs=NUM_EPOCHS, validation_data=[Xval, np_utils.to_categorical(Yval, num_classes=T_MAX_FEATURES)], verbose=1, callbacks=[checkpoint])"
   ]
  },
  {
   "cell_type": "markdown",
   "metadata": {},
   "source": [
    "переобучение на 6 эпохе, т.к. валидационная точность начинает давать сбои, потери растут"
   ]
  },
  {
   "cell_type": "code",
   "execution_count": 35,
   "metadata": {},
   "outputs": [
    {
     "name": "stdout",
     "output_type": "stream",
     "text": [
      "977/977 [==============================] - 0s 304us/step\n",
      "0.901740013515937\n",
      "{'accuracy w/o paddings': 0.8784544524053224}\n"
     ]
    }
   ],
   "source": [
    "lstm_model.load_weights('cu\\\\lstm_model\\\\cu-easy_model-5.h5')\n",
    "score, acc = lstm_model.evaluate(Xtest, np_utils.to_categorical(Ytest, num_classes=T_MAX_FEATURES), batch_size=64)\n",
    "print(acc)\n",
    "prediction = lstm_model.predict_classes(Xtest)\n",
    "prediction_lstm = evaluate(Ytest, prediction, ger_test_tags)\n",
    "print(prediction_lstm)"
   ]
  },
  {
   "cell_type": "code",
   "execution_count": 36,
   "metadata": {},
   "outputs": [
    {
     "data": {
      "image/png": "[encoded data removed]",
      "text/plain": [
       "<matplotlib.figure.Figure at 0x1ccca2ef3c8>"
      ]
     },
     "metadata": {},
     "output_type": "display_data"
    }
   ],
   "source": [
    "plt.subplot(211)\n",
    "plt.title(\"Accuracy\")\n",
    "plt.plot(lstm_history.history[\"acc\"], color=\"g\", label=\"Train\")\n",
    "plt.plot(lstm_history.history[\"val_acc\"], color=\"b\", label=\"Validation\")\n",
    "plt.legend(loc=\"best\")\n",
    "\n",
    "plt.subplot(212)\n",
    "plt.title(\"Loss\")\n",
    "plt.plot(lstm_history.history[\"loss\"], color=\"g\", label=\"Train\")\n",
    "plt.plot(lstm_history.history[\"val_loss\"], color=\"b\", label=\"Validation\")\n",
    "plt.legend(loc=\"best\")\n",
    "\n",
    "plt.tight_layout()\n",
    "plt.show()"
   ]
  },
  {
   "cell_type": "markdown",
   "metadata": {},
   "source": [
    "Размер эмбеддинга 200"
   ]
  },
  {
   "cell_type": "code",
   "execution_count": 37,
   "metadata": {},
   "outputs": [
    {
     "name": "stdout",
     "output_type": "stream",
     "text": [
      "_________________________________________________________________\n",
      "Layer (type)                 Output Shape              Param #   \n",
      "=================================================================\n",
      "embedding_6 (Embedding)      (None, 20, 200)           6000400   \n",
      "_________________________________________________________________\n",
      "lstm_3 (LSTM)                (None, 20, 64)            67840     \n",
      "_________________________________________________________________\n",
      "dense_6 (Dense)              (None, 20, 18)            1170      \n",
      "_________________________________________________________________\n",
      "activation_6 (Activation)    (None, 20, 18)            0         \n",
      "=================================================================\n",
      "Total params: 6,069,410\n",
      "Trainable params: 6,069,410\n",
      "Non-trainable params: 0\n",
      "_________________________________________________________________\n",
      "Train on 11051 samples, validate on 2763 samples\n",
      "Epoch 1/8\n",
      "11051/11051 [==============================] - 63s 6ms/step - loss: 1.6671 - acc: 0.5423 - val_loss: 0.7526 - val_acc: 0.7813\n",
      "\n",
      "Epoch 00001: saving model to cu\\lstm_model\\cu-easy_model-1.h5\n",
      "Epoch 2/8\n",
      "11051/11051 [==============================] - 36s 3ms/step - loss: 0.4590 - acc: 0.8735 - val_loss: 0.3247 - val_acc: 0.9042\n",
      "\n",
      "Epoch 00002: saving model to cu\\lstm_model\\cu-easy_model-2.h5\n",
      "Epoch 3/8\n",
      "11051/11051 [==============================] - 36s 3ms/step - loss: 0.2199 - acc: 0.9387 - val_loss: 0.2779 - val_acc: 0.9106\n",
      "\n",
      "Epoch 00003: saving model to cu\\lstm_model\\cu-easy_model-3.h5\n",
      "Epoch 4/8\n",
      "11051/11051 [==============================] - 33s 3ms/step - loss: 0.1675 - acc: 0.9472 - val_loss: 0.2673 - val_acc: 0.9125\n",
      "\n",
      "Epoch 00004: saving model to cu\\lstm_model\\cu-easy_model-4.h5\n",
      "Epoch 5/8\n",
      "11051/11051 [==============================] - 33s 3ms/step - loss: 0.1446 - acc: 0.9519 - val_loss: 0.2676 - val_acc: 0.9138\n",
      "\n",
      "Epoch 00005: saving model to cu\\lstm_model\\cu-easy_model-5.h5\n",
      "Epoch 6/8\n",
      "11051/11051 [==============================] - 33s 3ms/step - loss: 0.1293 - acc: 0.9566 - val_loss: 0.2720 - val_acc: 0.9127\n",
      "\n",
      "Epoch 00006: saving model to cu\\lstm_model\\cu-easy_model-6.h5\n",
      "Epoch 7/8\n",
      "11051/11051 [==============================] - 32s 3ms/step - loss: 0.1183 - acc: 0.9600 - val_loss: 0.2769 - val_acc: 0.9138\n",
      "\n",
      "Epoch 00007: saving model to cu\\lstm_model\\cu-easy_model-7.h5\n",
      "Epoch 8/8\n",
      "11051/11051 [==============================] - 32s 3ms/step - loss: 0.1084 - acc: 0.9633 - val_loss: 0.2834 - val_acc: 0.9127\n",
      "\n",
      "Epoch 00008: saving model to cu\\lstm_model\\cu-easy_model-8.h5\n"
     ]
    }
   ],
   "source": [
    "from keras.layers.recurrent import LSTM\n",
    "lstm_model = Sequential()\n",
    "lstm_model.add(Embedding(S_MAX_FEATURES, 200, input_length=MAX_SEQLEN))\n",
    "lstm_model.add(LSTM(64, input_shape=(MAX_SEQLEN, S_MAX_FEATURES), unroll=True, dropout=0.2, recurrent_dropout=0.2, return_sequences=True))\n",
    "lstm_model.add(Dense(T_MAX_FEATURES))\n",
    "lstm_model.add(Activation(\"softmax\"))\n",
    "\n",
    "lstm_model.compile(loss=\"categorical_crossentropy\", optimizer=\"adam\", metrics=['acc'])\n",
    "lstm_model.summary()\n",
    "checkpoint = ModelCheckpoint('cu\\\\lstm_model\\\\cu-easy_model-{epoch}.h5', verbose=1, save_best_only=False, save_weights_only=True)\n",
    "lstm_history = lstm_model.fit(Xtrain, np_utils.to_categorical(Ytrain, num_classes=T_MAX_FEATURES), batch_size=64, epochs=NUM_EPOCHS, validation_data=[Xval, np_utils.to_categorical(Yval, num_classes=T_MAX_FEATURES)], verbose=1, callbacks=[checkpoint])"
   ]
  },
  {
   "cell_type": "markdown",
   "metadata": {},
   "source": [
    "переобучение на 6 эпохе, т.к. валидационная точность начинает давать сбои, потери растут"
   ]
  },
  {
   "cell_type": "code",
   "execution_count": 38,
   "metadata": {},
   "outputs": [
    {
     "name": "stdout",
     "output_type": "stream",
     "text": [
      "977/977 [==============================] - 0s 324us/step\n",
      "0.9009211967520973\n",
      "{'accuracy w/o paddings': 0.876919140225179}\n"
     ]
    }
   ],
   "source": [
    "lstm_model.load_weights('cu\\\\lstm_model\\\\cu-easy_model-5.h5')\n",
    "score, acc = lstm_model.evaluate(Xtest, np_utils.to_categorical(Ytest, num_classes=T_MAX_FEATURES), batch_size=64)\n",
    "print(acc)\n",
    "prediction = lstm_model.predict_classes(Xtest)\n",
    "prediction_lstm = evaluate(Ytest, prediction, ger_test_tags)\n",
    "print(prediction_lstm)"
   ]
  },
  {
   "cell_type": "code",
   "execution_count": 39,
   "metadata": {},
   "outputs": [
    {
     "data": {
      "image/png": "[encoded data removed]",
      "text/plain": [
       "<matplotlib.figure.Figure at 0x1ccd7b62320>"
      ]
     },
     "metadata": {},
     "output_type": "display_data"
    }
   ],
   "source": [
    "plt.subplot(211)\n",
    "plt.title(\"Accuracy\")\n",
    "plt.plot(lstm_history.history[\"acc\"], color=\"g\", label=\"Train\")\n",
    "plt.plot(lstm_history.history[\"val_acc\"], color=\"b\", label=\"Validation\")\n",
    "plt.legend(loc=\"best\")\n",
    "\n",
    "plt.subplot(212)\n",
    "plt.title(\"Loss\")\n",
    "plt.plot(lstm_history.history[\"loss\"], color=\"g\", label=\"Train\")\n",
    "plt.plot(lstm_history.history[\"val_loss\"], color=\"b\", label=\"Validation\")\n",
    "plt.legend(loc=\"best\")\n",
    "\n",
    "plt.tight_layout()\n",
    "plt.show()"
   ]
  },
  {
   "cell_type": "markdown",
   "metadata": {},
   "source": [
    "| LSTM | Размер эмбеддинга | Переобучение на эпохе | test_acc | Best val_acc | val_loss | Acc w/o paddings |\n",
    "|-----|-------------------|-------------|-----------------------|----------|-----------|------------------|\n",
    "| **1 модель** | 64 | 7 | 0.9005 | 0.9127 | 0.2711 | 0.8760661890139883 |\n",
    "| **2 модель** | 100 | 6 | 0.9017 | 0.9120 | 0.2744 | 0.8784544524053224 |\n",
    "| **3 модель** | 200 | 6 | 0.901 | 0.9138 | 0.2676 | 0.876919140225179 | "
   ]
  },
  {
   "cell_type": "markdown",
   "metadata": {},
   "source": [
    "заметки по работе моделей:\n",
    "- чем больше размер эмбеддинга, тем быстрее модель переобучивается. Это связано с кол-вом параметров, которые в конечном счете подаются в модель\n",
    "- разница показателях снова минимальная, однако, опять же рекомендуют себя лучше модели с размеров эмбеддингов в 100 и 200: у 100 лучше показатели по тестовойо точности и потерям, у 200 - по валидационной точности и точности без паддингов. "
   ]
  },
  {
   "cell_type": "markdown",
   "metadata": {},
   "source": [
    "### Bidirectional LSTM"
   ]
  },
  {
   "cell_type": "code",
   "execution_count": 40,
   "metadata": {},
   "outputs": [
    {
     "name": "stdout",
     "output_type": "stream",
     "text": [
      "_________________________________________________________________\n",
      "Layer (type)                 Output Shape              Param #   \n",
      "=================================================================\n",
      "embedding_7 (Embedding)      (None, 20, 64)            1920128   \n",
      "_________________________________________________________________\n",
      "bidirectional_1 (Bidirection (None, 20, 128)           66048     \n",
      "_________________________________________________________________\n",
      "dense_7 (Dense)              (None, 20, 18)            2322      \n",
      "_________________________________________________________________\n",
      "activation_7 (Activation)    (None, 20, 18)            0         \n",
      "=================================================================\n",
      "Total params: 1,988,498\n",
      "Trainable params: 1,988,498\n",
      "Non-trainable params: 0\n",
      "_________________________________________________________________\n"
     ]
    }
   ],
   "source": [
    "from keras.layers.wrappers import Bidirectional\n",
    "bilstm_model = Sequential()\n",
    "bilstm_model.add(Embedding(S_MAX_FEATURES, 64, input_length=MAX_SEQLEN))\n",
    "bilstm_model.add(Bidirectional(LSTM(64, input_shape=(MAX_SEQLEN, S_MAX_FEATURES), unroll=True, dropout=0.2, recurrent_dropout=0.2, return_sequences=True)))\n",
    "bilstm_model.add(Dense(T_MAX_FEATURES))\n",
    "bilstm_model.add(Activation(\"softmax\"))\n",
    "\n",
    "bilstm_model.compile(loss=\"categorical_crossentropy\", optimizer=\"adam\", metrics=['acc'])\n",
    "bilstm_model.summary()"
   ]
  },
  {
   "cell_type": "code",
   "execution_count": null,
   "metadata": {},
   "outputs": [],
   "source": [
    "os.makedirs('cu\\\\bilstm_model\\\\cu-easy_model-{epoch}.h5')\n",
    "os.makedirs('cu\\\\bilstm_model\\\\cu-easy_model-history.json')"
   ]
  },
  {
   "cell_type": "code",
   "execution_count": 41,
   "metadata": {},
   "outputs": [
    {
     "name": "stdout",
     "output_type": "stream",
     "text": [
      "Train on 11051 samples, validate on 2763 samples\n",
      "Epoch 1/8\n",
      "11051/11051 [==============================] - 63s 6ms/step - loss: 1.8547 - acc: 0.4376 - val_loss: 1.0367 - val_acc: 0.6901\n",
      "\n",
      "Epoch 00001: saving model to cu\\bilstm_model\\cu-easy_model-1.h5\n",
      "Epoch 2/8\n",
      "11051/11051 [==============================] - 21s 2ms/step - loss: 0.6346 - acc: 0.8122 - val_loss: 0.3780 - val_acc: 0.8856\n",
      "\n",
      "Epoch 00002: saving model to cu\\bilstm_model\\cu-easy_model-2.h5\n",
      "Epoch 3/8\n",
      "11051/11051 [==============================] - 20s 2ms/step - loss: 0.2619 - acc: 0.9253 - val_loss: 0.2642 - val_acc: 0.9165\n",
      "\n",
      "Epoch 00003: saving model to cu\\bilstm_model\\cu-easy_model-3.h5\n",
      "Epoch 4/8\n",
      "11051/11051 [==============================] - 21s 2ms/step - loss: 0.1708 - acc: 0.9488 - val_loss: 0.2422 - val_acc: 0.9220\n",
      "\n",
      "Epoch 00004: saving model to cu\\bilstm_model\\cu-easy_model-4.h5\n",
      "Epoch 5/8\n",
      "11051/11051 [==============================] - 20s 2ms/step - loss: 0.1393 - acc: 0.9560 - val_loss: 0.2375 - val_acc: 0.9230\n",
      "\n",
      "Epoch 00005: saving model to cu\\bilstm_model\\cu-easy_model-5.h5\n",
      "Epoch 6/8\n",
      "11051/11051 [==============================] - 21s 2ms/step - loss: 0.1223 - acc: 0.9599 - val_loss: 0.2366 - val_acc: 0.9252\n",
      "\n",
      "Epoch 00006: saving model to cu\\bilstm_model\\cu-easy_model-6.h5\n",
      "Epoch 7/8\n",
      "11051/11051 [==============================] - 19s 2ms/step - loss: 0.1099 - acc: 0.9636 - val_loss: 0.2424 - val_acc: 0.9244\n",
      "\n",
      "Epoch 00007: saving model to cu\\bilstm_model\\cu-easy_model-7.h5\n",
      "Epoch 8/8\n",
      "11051/11051 [==============================] - 16s 1ms/step - loss: 0.0996 - acc: 0.9672 - val_loss: 0.2398 - val_acc: 0.9261\n",
      "\n",
      "Epoch 00008: saving model to cu\\bilstm_model\\cu-easy_model-8.h5\n"
     ]
    }
   ],
   "source": [
    "checkpoint = ModelCheckpoint('cu\\\\bilstm_model\\\\cu-easy_model-{epoch}.h5', verbose=1, save_best_only=False, save_weights_only=True)\n",
    "bilstm_history = bilstm_model.fit(Xtrain, np_utils.to_categorical(Ytrain, num_classes=T_MAX_FEATURES), batch_size=64, epochs=NUM_EPOCHS, validation_data=[Xval, np_utils.to_categorical(Yval, num_classes=T_MAX_FEATURES)], verbose=1, callbacks=[checkpoint])"
   ]
  },
  {
   "cell_type": "markdown",
   "metadata": {},
   "source": [
    "переобучение на 7 эпохе, т.к. валидационная точность начинает давать сбои, потери растут"
   ]
  },
  {
   "cell_type": "code",
   "execution_count": 42,
   "metadata": {},
   "outputs": [
    {
     "name": "stdout",
     "output_type": "stream",
     "text": [
      "977/977 [==============================] - 0s 319us/step\n",
      "0.9158137202140862\n",
      "{'accuracy w/o paddings': 0.8964517229614464}\n"
     ]
    }
   ],
   "source": [
    "bilstm_model.load_weights('cu\\\\bilstm_model\\\\cu-easy_model-6.h5')\n",
    "score, acc = bilstm_model.evaluate(Xtest, np_utils.to_categorical(Ytest, num_classes=T_MAX_FEATURES), batch_size=64)\n",
    "print(acc)\n",
    "prediction = bilstm_model.predict_classes(Xtest)\n",
    "prediction_bilstm = evaluate(Ytest, prediction, ger_test_tags)\n",
    "print(prediction_bilstm)"
   ]
  },
  {
   "cell_type": "code",
   "execution_count": 43,
   "metadata": {},
   "outputs": [
    {
     "data": {
      "image/png": "[encoded data removed]",
      "text/plain": [
       "<matplotlib.figure.Figure at 0x1ccea8a80b8>"
      ]
     },
     "metadata": {},
     "output_type": "display_data"
    }
   ],
   "source": [
    "plt.subplot(211)\n",
    "plt.title(\"Accuracy\")\n",
    "plt.plot(bilstm_history.history[\"acc\"], color=\"g\", label=\"Train\")\n",
    "plt.plot(bilstm_history.history[\"val_acc\"], color=\"b\", label=\"Validation\")\n",
    "plt.legend(loc=\"best\")\n",
    "\n",
    "plt.subplot(212)\n",
    "plt.title(\"Loss\")\n",
    "plt.plot(bilstm_history.history[\"loss\"], color=\"g\", label=\"Train\")\n",
    "plt.plot(bilstm_history.history[\"val_loss\"], color=\"b\", label=\"Validation\")\n",
    "plt.legend(loc=\"best\")\n",
    "\n",
    "plt.tight_layout()\n",
    "plt.show()"
   ]
  },
  {
   "cell_type": "markdown",
   "metadata": {},
   "source": [
    "Размер эмбеддинга 100"
   ]
  },
  {
   "cell_type": "code",
   "execution_count": 44,
   "metadata": {},
   "outputs": [
    {
     "name": "stdout",
     "output_type": "stream",
     "text": [
      "_________________________________________________________________\n",
      "Layer (type)                 Output Shape              Param #   \n",
      "=================================================================\n",
      "embedding_8 (Embedding)      (None, 20, 100)           3000200   \n",
      "_________________________________________________________________\n",
      "bidirectional_2 (Bidirection (None, 20, 128)           84480     \n",
      "_________________________________________________________________\n",
      "dense_8 (Dense)              (None, 20, 18)            2322      \n",
      "_________________________________________________________________\n",
      "activation_8 (Activation)    (None, 20, 18)            0         \n",
      "=================================================================\n",
      "Total params: 3,087,002\n",
      "Trainable params: 3,087,002\n",
      "Non-trainable params: 0\n",
      "_________________________________________________________________\n",
      "Train on 11051 samples, validate on 2763 samples\n",
      "Epoch 1/8\n",
      "11051/11051 [==============================] - 79s 7ms/step - loss: 1.7034 - acc: 0.5003 - val_loss: 0.7876 - val_acc: 0.7665\n",
      "\n",
      "Epoch 00001: saving model to cu\\bilstm_model\\cu-easy_model-1.h5\n",
      "Epoch 2/8\n",
      "11051/11051 [==============================] - 32s 3ms/step - loss: 0.4582 - acc: 0.8668 - val_loss: 0.2945 - val_acc: 0.9096\n",
      "\n",
      "Epoch 00002: saving model to cu\\bilstm_model\\cu-easy_model-2.h5\n",
      "Epoch 3/8\n",
      "11051/11051 [==============================] - 31s 3ms/step - loss: 0.2033 - acc: 0.9419 - val_loss: 0.2439 - val_acc: 0.9217\n",
      "\n",
      "Epoch 00003: saving model to cu\\bilstm_model\\cu-easy_model-3.h5\n",
      "Epoch 4/8\n",
      "11051/11051 [==============================] - 32s 3ms/step - loss: 0.1482 - acc: 0.9541 - val_loss: 0.2348 - val_acc: 0.9250\n",
      "\n",
      "Epoch 00004: saving model to cu\\bilstm_model\\cu-easy_model-4.h5\n",
      "Epoch 5/8\n",
      "11051/11051 [==============================] - 31s 3ms/step - loss: 0.1249 - acc: 0.9593 - val_loss: 0.2332 - val_acc: 0.9257\n",
      "\n",
      "Epoch 00005: saving model to cu\\bilstm_model\\cu-easy_model-5.h5\n",
      "Epoch 6/8\n",
      "11051/11051 [==============================] - 30s 3ms/step - loss: 0.1091 - acc: 0.9644 - val_loss: 0.2322 - val_acc: 0.9267\n",
      "\n",
      "Epoch 00006: saving model to cu\\bilstm_model\\cu-easy_model-6.h5\n",
      "Epoch 7/8\n",
      "11051/11051 [==============================] - 32s 3ms/step - loss: 0.0970 - acc: 0.9682 - val_loss: 0.2375 - val_acc: 0.9265\n",
      "\n",
      "Epoch 00007: saving model to cu\\bilstm_model\\cu-easy_model-7.h5\n",
      "Epoch 8/8\n",
      "11051/11051 [==============================] - 32s 3ms/step - loss: 0.0858 - acc: 0.9722 - val_loss: 0.2383 - val_acc: 0.9270\n",
      "\n",
      "Epoch 00008: saving model to cu\\bilstm_model\\cu-easy_model-8.h5\n"
     ]
    }
   ],
   "source": [
    "bilstm_model = Sequential()\n",
    "bilstm_model.add(Embedding(S_MAX_FEATURES, 100, input_length=MAX_SEQLEN))\n",
    "bilstm_model.add(Bidirectional(LSTM(64, input_shape=(MAX_SEQLEN, S_MAX_FEATURES), unroll=True, dropout=0.2, recurrent_dropout=0.2, return_sequences=True)))\n",
    "bilstm_model.add(Dense(T_MAX_FEATURES))\n",
    "bilstm_model.add(Activation(\"softmax\"))\n",
    "\n",
    "bilstm_model.compile(loss=\"categorical_crossentropy\", optimizer=\"adam\", metrics=['acc'])\n",
    "bilstm_model.summary()\n",
    "checkpoint = ModelCheckpoint('cu\\\\bilstm_model\\\\cu-easy_model-{epoch}.h5', verbose=1, save_best_only=False, save_weights_only=True)\n",
    "bilstm_history = bilstm_model.fit(Xtrain, np_utils.to_categorical(Ytrain, num_classes=T_MAX_FEATURES), batch_size=64, epochs=NUM_EPOCHS, validation_data=[Xval, np_utils.to_categorical(Yval, num_classes=T_MAX_FEATURES)], verbose=1, callbacks=[checkpoint])"
   ]
  },
  {
   "cell_type": "markdown",
   "metadata": {},
   "source": [
    "переобучение на 7 эпохе, т.к. валидационная точность начинает давать сбои, потери растут"
   ]
  },
  {
   "cell_type": "code",
   "execution_count": 45,
   "metadata": {},
   "outputs": [
    {
     "name": "stdout",
     "output_type": "stream",
     "text": [
      "977/977 [==============================] - 1s 594us/step\n",
      "0.9171954850335449\n",
      "{'accuracy w/o paddings': 0.8978164448993519}\n"
     ]
    }
   ],
   "source": [
    "bilstm_model.load_weights('cu\\\\bilstm_model\\\\cu-easy_model-6.h5')\n",
    "score, acc = bilstm_model.evaluate(Xtest, np_utils.to_categorical(Ytest, num_classes=T_MAX_FEATURES), batch_size=64)\n",
    "print(acc)\n",
    "prediction = bilstm_model.predict_classes(Xtest)\n",
    "prediction_bilstm = evaluate(Ytest, prediction, ger_test_tags)\n",
    "print(prediction_bilstm)"
   ]
  },
  {
   "cell_type": "code",
   "execution_count": 46,
   "metadata": {},
   "outputs": [
    {
     "data": {
      "image/png": "[encoded data removed]",
      "text/plain": [
       "<matplotlib.figure.Figure at 0x1cc82b76080>"
      ]
     },
     "metadata": {},
     "output_type": "display_data"
    }
   ],
   "source": [
    "plt.subplot(211)\n",
    "plt.title(\"Accuracy\")\n",
    "plt.plot(bilstm_history.history[\"acc\"], color=\"g\", label=\"Train\")\n",
    "plt.plot(bilstm_history.history[\"val_acc\"], color=\"b\", label=\"Validation\")\n",
    "plt.legend(loc=\"best\")\n",
    "\n",
    "plt.subplot(212)\n",
    "plt.title(\"Loss\")\n",
    "plt.plot(bilstm_history.history[\"loss\"], color=\"g\", label=\"Train\")\n",
    "plt.plot(bilstm_history.history[\"val_loss\"], color=\"b\", label=\"Validation\")\n",
    "plt.legend(loc=\"best\")\n",
    "\n",
    "plt.tight_layout()\n",
    "plt.show()"
   ]
  },
  {
   "cell_type": "markdown",
   "metadata": {},
   "source": [
    "Размер эмбеддинга 200"
   ]
  },
  {
   "cell_type": "code",
   "execution_count": 47,
   "metadata": {},
   "outputs": [
    {
     "name": "stdout",
     "output_type": "stream",
     "text": [
      "_________________________________________________________________\n",
      "Layer (type)                 Output Shape              Param #   \n",
      "=================================================================\n",
      "embedding_9 (Embedding)      (None, 20, 200)           6000400   \n",
      "_________________________________________________________________\n",
      "bidirectional_3 (Bidirection (None, 20, 128)           135680    \n",
      "_________________________________________________________________\n",
      "dense_9 (Dense)              (None, 20, 18)            2322      \n",
      "_________________________________________________________________\n",
      "activation_9 (Activation)    (None, 20, 18)            0         \n",
      "=================================================================\n",
      "Total params: 6,138,402\n",
      "Trainable params: 6,138,402\n",
      "Non-trainable params: 0\n",
      "_________________________________________________________________\n"
     ]
    }
   ],
   "source": [
    "bilstm_model = Sequential()\n",
    "bilstm_model.add(Embedding(S_MAX_FEATURES, 200, input_length=MAX_SEQLEN))\n",
    "bilstm_model.add(Bidirectional(LSTM(64, input_shape=(MAX_SEQLEN, S_MAX_FEATURES), unroll=True, dropout=0.2, recurrent_dropout=0.2, return_sequences=True)))\n",
    "bilstm_model.add(Dense(T_MAX_FEATURES))\n",
    "bilstm_model.add(Activation(\"softmax\"))\n",
    "\n",
    "bilstm_model.compile(loss=\"categorical_crossentropy\", optimizer=\"adam\", metrics=['acc'])\n",
    "bilstm_model.summary()"
   ]
  },
  {
   "cell_type": "code",
   "execution_count": 48,
   "metadata": {},
   "outputs": [
    {
     "name": "stdout",
     "output_type": "stream",
     "text": [
      "Train on 11051 samples, validate on 2763 samples\n",
      "Epoch 1/8\n",
      "11051/11051 [==============================] - 75s 7ms/step - loss: 1.4601 - acc: 0.5655 - val_loss: 0.5223 - val_acc: 0.8375\n",
      "\n",
      "Epoch 00001: saving model to cu\\bilstm_model\\cu-easy_model-1.h5\n",
      "Epoch 2/8\n",
      "11051/11051 [==============================] - 43s 4ms/step - loss: 0.3199 - acc: 0.9053 - val_loss: 0.2537 - val_acc: 0.9190\n",
      "\n",
      "Epoch 00002: saving model to cu\\bilstm_model\\cu-easy_model-2.h5\n",
      "Epoch 3/8\n",
      "11051/11051 [==============================] - 43s 4ms/step - loss: 0.1637 - acc: 0.9505 - val_loss: 0.2323 - val_acc: 0.9251\n",
      "\n",
      "Epoch 00003: saving model to cu\\bilstm_model\\cu-easy_model-3.h5\n",
      "Epoch 4/8\n",
      "11051/11051 [==============================] - 43s 4ms/step - loss: 0.1265 - acc: 0.9592 - val_loss: 0.2283 - val_acc: 0.9263\n",
      "\n",
      "Epoch 00004: saving model to cu\\bilstm_model\\cu-easy_model-4.h5\n",
      "Epoch 5/8\n",
      "11051/11051 [==============================] - 46s 4ms/step - loss: 0.1071 - acc: 0.9650 - val_loss: 0.2296 - val_acc: 0.9273\n",
      "\n",
      "Epoch 00005: saving model to cu\\bilstm_model\\cu-easy_model-5.h5\n",
      "Epoch 6/8\n",
      "11051/11051 [==============================] - 55s 5ms/step - loss: 0.0908 - acc: 0.9701 - val_loss: 0.2359 - val_acc: 0.9274\n",
      "\n",
      "Epoch 00006: saving model to cu\\bilstm_model\\cu-easy_model-6.h5\n",
      "Epoch 7/8\n",
      "11051/11051 [==============================] - 46s 4ms/step - loss: 0.0790 - acc: 0.9744 - val_loss: 0.2471 - val_acc: 0.9256\n",
      "\n",
      "Epoch 00007: saving model to cu\\bilstm_model\\cu-easy_model-7.h5\n",
      "Epoch 8/8\n",
      "11051/11051 [==============================] - 55s 5ms/step - loss: 0.0682 - acc: 0.9782 - val_loss: 0.2576 - val_acc: 0.9261\n",
      "\n",
      "Epoch 00008: saving model to cu\\bilstm_model\\cu-easy_model-8.h5\n"
     ]
    }
   ],
   "source": [
    "checkpoint = ModelCheckpoint('cu\\\\bilstm_model\\\\cu-easy_model-{epoch}.h5', verbose=1, save_best_only=False, save_weights_only=True)\n",
    "bilstm_history = bilstm_model.fit(Xtrain, np_utils.to_categorical(Ytrain, num_classes=T_MAX_FEATURES), batch_size=64, epochs=NUM_EPOCHS, validation_data=[Xval, np_utils.to_categorical(Yval, num_classes=T_MAX_FEATURES)], verbose=1, callbacks=[checkpoint])"
   ]
  },
  {
   "cell_type": "markdown",
   "metadata": {},
   "source": [
    "переобучение, скорей всего, на 6 эпохе: валидационная точность хоть и растет, но, возможно, что на 6 эпохе дело лишь в тысячных + потери растут, начиная с пятой эпохи, но они более серьезные на 6"
   ]
  },
  {
   "cell_type": "code",
   "execution_count": 49,
   "metadata": {},
   "outputs": [
    {
     "name": "stdout",
     "output_type": "stream",
     "text": [
      "977/977 [==============================] - 1s 833us/step\n",
      "0.9136130977555453\n",
      "{'accuracy w/o paddings': 0.8935516888433982}\n"
     ]
    }
   ],
   "source": [
    "bilstm_model.load_weights('cu\\\\bilstm_model\\\\cu-easy_model-5.h5')\n",
    "score, acc = bilstm_model.evaluate(Xtest, np_utils.to_categorical(Ytest, num_classes=T_MAX_FEATURES), batch_size=64)\n",
    "print(acc)\n",
    "prediction = bilstm_model.predict_classes(Xtest)\n",
    "prediction_bilstm = evaluate(Ytest, prediction, ger_test_tags)\n",
    "print(prediction_bilstm)"
   ]
  },
  {
   "cell_type": "code",
   "execution_count": 50,
   "metadata": {},
   "outputs": [
    {
     "data": {
      "image/png": "[encoded data removed]",
      "text/plain": [
       "<matplotlib.figure.Figure at 0x1cd0870b2e8>"
      ]
     },
     "metadata": {},
     "output_type": "display_data"
    }
   ],
   "source": [
    "plt.subplot(211)\n",
    "plt.title(\"Accuracy\")\n",
    "plt.plot(bilstm_history.history[\"acc\"], color=\"g\", label=\"Train\")\n",
    "plt.plot(bilstm_history.history[\"val_acc\"], color=\"b\", label=\"Validation\")\n",
    "plt.legend(loc=\"best\")\n",
    "\n",
    "plt.subplot(212)\n",
    "plt.title(\"Loss\")\n",
    "plt.plot(bilstm_history.history[\"loss\"], color=\"g\", label=\"Train\")\n",
    "plt.plot(bilstm_history.history[\"val_loss\"], color=\"b\", label=\"Validation\")\n",
    "plt.legend(loc=\"best\")\n",
    "\n",
    "plt.tight_layout()\n",
    "plt.show()"
   ]
  },
  {
   "cell_type": "markdown",
   "metadata": {},
   "source": [
    "| biLSTM | Размер эмбеддинга | Переобучение на эпохе | test_acc | Best val_acc | val_loss | Acc w/o paddings |\n",
    "|-----|-------------------|-------------|-----------------------|----------|-----------|------------------|\n",
    "| **1 модель** | 64 | 7 | 0.9158 | 0.9252 | 0.2366 | 0.8964517229614464 |\n",
    "| **2 модель** | 100 | 7 | 0.9172 | 0.9267 | 0.2322 | 0.8978164448993519 |\n",
    "| **3 модель** | 200 | 6 | 0.9136 | 0.9273 | 0.2296 | 0.8935516888433982 | "
   ]
  },
  {
   "cell_type": "markdown",
   "metadata": {},
   "source": [
    "заметки по работе моделей:\n",
    "- как было замечено выше при работе lstm, модель переобучивается раньше, если размер эмбеддинга, а вместе с ними кол-во параметров в модели больше. \n",
    "- опять за звание лучшей модели борются модели с эмбеддингами в 100 и 200: у 100 лучше тестовая точность и точность без паддингов, у 200 - потери и валидационная точность. Стоит заметить, что при размере эмбеддинга 64 точность без паддингов даже лучше той же точности у модели с эмбеддингом 200.\n",
    "- Стоит предположить, что если бы модель с эмбеддингом 200 не переобучилась на 6 эпохе, тогда и ее показатели были бы лучше в конечном счете"
   ]
  },
  {
   "cell_type": "markdown",
   "metadata": {},
   "source": [
    "### GRU"
   ]
  },
  {
   "cell_type": "code",
   "execution_count": 51,
   "metadata": {},
   "outputs": [
    {
     "name": "stdout",
     "output_type": "stream",
     "text": [
      "_________________________________________________________________\n",
      "Layer (type)                 Output Shape              Param #   \n",
      "=================================================================\n",
      "embedding_10 (Embedding)     (None, 20, 64)            1920128   \n",
      "_________________________________________________________________\n",
      "gru_1 (GRU)                  (None, 20, 64)            24768     \n",
      "_________________________________________________________________\n",
      "dense_10 (Dense)             (None, 20, 18)            1170      \n",
      "_________________________________________________________________\n",
      "activation_10 (Activation)   (None, 20, 18)            0         \n",
      "=================================================================\n",
      "Total params: 1,946,066\n",
      "Trainable params: 1,946,066\n",
      "Non-trainable params: 0\n",
      "_________________________________________________________________\n"
     ]
    }
   ],
   "source": [
    "gru_model = Sequential()\n",
    "gru_model.add(Embedding(S_MAX_FEATURES, 64, input_length=MAX_SEQLEN))\n",
    "gru_model.add(GRU(64, input_shape=(MAX_SEQLEN, S_MAX_FEATURES), unroll=True, dropout=0.2, recurrent_dropout=0.2, return_sequences=True))\n",
    "gru_model.add(Dense(T_MAX_FEATURES))\n",
    "gru_model.add(Activation(\"softmax\"))\n",
    "\n",
    "gru_model.compile(loss=\"categorical_crossentropy\", optimizer=\"adam\", metrics=['acc'])\n",
    "gru_model.summary()"
   ]
  },
  {
   "cell_type": "code",
   "execution_count": null,
   "metadata": {},
   "outputs": [],
   "source": [
    "os.makedirs('cu\\\\gru_model\\\\cu-easy_model-{epoch}.h5')\n",
    "os.makedirs('cu\\\\gru_model\\\\cu-easy_model-history.json')"
   ]
  },
  {
   "cell_type": "code",
   "execution_count": 52,
   "metadata": {},
   "outputs": [
    {
     "name": "stdout",
     "output_type": "stream",
     "text": [
      "Train on 11051 samples, validate on 2763 samples\n",
      "Epoch 1/8\n",
      "11051/11051 [==============================] - 41s 4ms/step - loss: 1.7271 - acc: 0.5072 - val_loss: 0.7975 - val_acc: 0.7649\n",
      "\n",
      "Epoch 00001: saving model to cu\\gru_model\\cu-easy_model-1.h5\n",
      "Epoch 2/8\n",
      "11051/11051 [==============================] - 20s 2ms/step - loss: 0.5294 - acc: 0.8488 - val_loss: 0.3646 - val_acc: 0.8933\n",
      "\n",
      "Epoch 00002: saving model to cu\\gru_model\\cu-easy_model-2.h5\n",
      "Epoch 3/8\n",
      "11051/11051 [==============================] - 20s 2ms/step - loss: 0.2703 - acc: 0.9240 - val_loss: 0.2867 - val_acc: 0.9092\n",
      "\n",
      "Epoch 00003: saving model to cu\\gru_model\\cu-easy_model-3.h5\n",
      "Epoch 4/8\n",
      "11051/11051 [==============================] - 20s 2ms/step - loss: 0.1945 - acc: 0.9410 - val_loss: 0.2732 - val_acc: 0.9108\n",
      "\n",
      "Epoch 00004: saving model to cu\\gru_model\\cu-easy_model-4.h5\n",
      "Epoch 5/8\n",
      "11051/11051 [==============================] - 22s 2ms/step - loss: 0.1654 - acc: 0.9462 - val_loss: 0.2702 - val_acc: 0.9118\n",
      "\n",
      "Epoch 00005: saving model to cu\\gru_model\\cu-easy_model-5.h5\n",
      "Epoch 6/8\n",
      "11051/11051 [==============================] - 21s 2ms/step - loss: 0.1499 - acc: 0.9496 - val_loss: 0.2709 - val_acc: 0.9121\n",
      "\n",
      "Epoch 00006: saving model to cu\\gru_model\\cu-easy_model-6.h5\n",
      "Epoch 7/8\n",
      "11051/11051 [==============================] - 22s 2ms/step - loss: 0.1391 - acc: 0.9525 - val_loss: 0.2724 - val_acc: 0.9123\n",
      "\n",
      "Epoch 00007: saving model to cu\\gru_model\\cu-easy_model-7.h5\n",
      "Epoch 8/8\n",
      "11051/11051 [==============================] - 23s 2ms/step - loss: 0.1298 - acc: 0.9557 - val_loss: 0.2786 - val_acc: 0.9128\n",
      "\n",
      "Epoch 00008: saving model to cu\\gru_model\\cu-easy_model-8.h5\n"
     ]
    }
   ],
   "source": [
    "checkpoint = ModelCheckpoint('cu\\\\gru_model\\\\cu-easy_model-{epoch}.h5', verbose=1, save_best_only=False, save_weights_only=True)\n",
    "gru_history = gru_model.fit(Xtrain, np_utils.to_categorical(Ytrain, num_classes=T_MAX_FEATURES), batch_size=64, epochs=NUM_EPOCHS, validation_data=[Xval, np_utils.to_categorical(Yval, num_classes=T_MAX_FEATURES)], verbose=1, callbacks=[checkpoint])"
   ]
  },
  {
   "cell_type": "markdown",
   "metadata": {},
   "source": [
    "т.к. валидационная точность растет на протяжении всех эпох, то переобучения нет"
   ]
  },
  {
   "cell_type": "code",
   "execution_count": 53,
   "metadata": {},
   "outputs": [
    {
     "name": "stdout",
     "output_type": "stream",
     "text": [
      "977/977 [==============================] - 0s 447us/step\n",
      "0.9046571139425436\n",
      "{'accuracy w/o paddings': 0.8812691914022519}\n"
     ]
    }
   ],
   "source": [
    "gru_model.load_weights('cu\\\\gru_model\\\\cu-easy_model-8.h5')\n",
    "score, acc = gru_model.evaluate(Xtest, np_utils.to_categorical(Ytest, num_classes=T_MAX_FEATURES), batch_size=64)\n",
    "print(acc)\n",
    "prediction = gru_model.predict_classes(Xtest)\n",
    "prediction_gru = evaluate(Ytest, prediction, ger_test_tags)\n",
    "print(prediction_gru)"
   ]
  },
  {
   "cell_type": "code",
   "execution_count": 54,
   "metadata": {},
   "outputs": [
    {
     "data": {
      "image/png": "[encoded data removed]",
      "text/plain": [
       "<matplotlib.figure.Figure at 0x1cd0871feb8>"
      ]
     },
     "metadata": {},
     "output_type": "display_data"
    }
   ],
   "source": [
    "plt.subplot(211)\n",
    "plt.title(\"Accuracy\")\n",
    "plt.plot(gru_history.history[\"acc\"], color=\"g\", label=\"Train\")\n",
    "plt.plot(gru_history.history[\"val_acc\"], color=\"b\", label=\"Validation\")\n",
    "plt.legend(loc=\"best\")\n",
    "\n",
    "plt.subplot(212)\n",
    "plt.title(\"Loss\")\n",
    "plt.plot(gru_history.history[\"loss\"], color=\"g\", label=\"Train\")\n",
    "plt.plot(gru_history.history[\"val_loss\"], color=\"b\", label=\"Validation\")\n",
    "plt.legend(loc=\"best\")\n",
    "\n",
    "plt.tight_layout()\n",
    "plt.show()"
   ]
  },
  {
   "cell_type": "markdown",
   "metadata": {},
   "source": [
    "Размер эмбеддинга 100"
   ]
  },
  {
   "cell_type": "code",
   "execution_count": 55,
   "metadata": {},
   "outputs": [
    {
     "name": "stdout",
     "output_type": "stream",
     "text": [
      "_________________________________________________________________\n",
      "Layer (type)                 Output Shape              Param #   \n",
      "=================================================================\n",
      "embedding_11 (Embedding)     (None, 20, 100)           3000200   \n",
      "_________________________________________________________________\n",
      "gru_2 (GRU)                  (None, 20, 64)            31680     \n",
      "_________________________________________________________________\n",
      "dense_11 (Dense)             (None, 20, 18)            1170      \n",
      "_________________________________________________________________\n",
      "activation_11 (Activation)   (None, 20, 18)            0         \n",
      "=================================================================\n",
      "Total params: 3,033,050\n",
      "Trainable params: 3,033,050\n",
      "Non-trainable params: 0\n",
      "_________________________________________________________________\n",
      "Train on 11051 samples, validate on 2763 samples\n",
      "Epoch 1/8\n",
      "11051/11051 [==============================] - 57s 5ms/step - loss: 1.5684 - acc: 0.5639 - val_loss: 0.6545 - val_acc: 0.8142\n",
      "\n",
      "Epoch 00001: saving model to cu\\gru_model\\cu-easy_model-1.h5\n",
      "Epoch 2/8\n",
      "11051/11051 [==============================] - 28s 3ms/step - loss: 0.4264 - acc: 0.8822 - val_loss: 0.3170 - val_acc: 0.9030\n",
      "\n",
      "Epoch 00002: saving model to cu\\gru_model\\cu-easy_model-2.h5\n",
      "Epoch 3/8\n",
      "11051/11051 [==============================] - 28s 3ms/step - loss: 0.2264 - acc: 0.9350 - val_loss: 0.2742 - val_acc: 0.9110\n",
      "\n",
      "Epoch 00003: saving model to cu\\gru_model\\cu-easy_model-3.h5\n",
      "Epoch 4/8\n",
      "11051/11051 [==============================] - 27s 2ms/step - loss: 0.1749 - acc: 0.9440 - val_loss: 0.2654 - val_acc: 0.9130\n",
      "\n",
      "Epoch 00004: saving model to cu\\gru_model\\cu-easy_model-4.h5\n",
      "Epoch 5/8\n",
      "11051/11051 [==============================] - 26s 2ms/step - loss: 0.1542 - acc: 0.9480 - val_loss: 0.2656 - val_acc: 0.9135\n",
      "\n",
      "Epoch 00005: saving model to cu\\gru_model\\cu-easy_model-5.h5\n",
      "Epoch 6/8\n",
      "11051/11051 [==============================] - 26s 2ms/step - loss: 0.1408 - acc: 0.9518 - val_loss: 0.2685 - val_acc: 0.9135\n",
      "\n",
      "Epoch 00006: saving model to cu\\gru_model\\cu-easy_model-6.h5\n",
      "Epoch 7/8\n",
      "11051/11051 [==============================] - 25s 2ms/step - loss: 0.1311 - acc: 0.9545 - val_loss: 0.2706 - val_acc: 0.9141\n",
      "\n",
      "Epoch 00007: saving model to cu\\gru_model\\cu-easy_model-7.h5\n",
      "Epoch 8/8\n",
      "11051/11051 [==============================] - 25s 2ms/step - loss: 0.1233 - acc: 0.9572 - val_loss: 0.2761 - val_acc: 0.9129\n",
      "\n",
      "Epoch 00008: saving model to cu\\gru_model\\cu-easy_model-8.h5\n"
     ]
    }
   ],
   "source": [
    "gru_model = Sequential()\n",
    "gru_model.add(Embedding(S_MAX_FEATURES, 100, input_length=MAX_SEQLEN))\n",
    "gru_model.add(GRU(64, input_shape=(MAX_SEQLEN, S_MAX_FEATURES), unroll=True, dropout=0.2, recurrent_dropout=0.2, return_sequences=True))\n",
    "gru_model.add(Dense(T_MAX_FEATURES))\n",
    "gru_model.add(Activation(\"softmax\"))\n",
    "\n",
    "gru_model.compile(loss=\"categorical_crossentropy\", optimizer=\"adam\", metrics=['acc'])\n",
    "gru_model.summary()\n",
    "checkpoint = ModelCheckpoint('cu\\\\gru_model\\\\cu-easy_model-{epoch}.h5', verbose=1, save_best_only=False, save_weights_only=True)\n",
    "gru_history = gru_model.fit(Xtrain, np_utils.to_categorical(Ytrain, num_classes=T_MAX_FEATURES), batch_size=64, epochs=NUM_EPOCHS, validation_data=[Xval, np_utils.to_categorical(Yval, num_classes=T_MAX_FEATURES)], verbose=1, callbacks=[checkpoint])"
   ]
  },
  {
   "cell_type": "markdown",
   "metadata": {},
   "source": [
    "переобучение на 6 эпохе, т.к. валидационная точность начинает давать сбои (на 5 и 6 она одинаковая, но на 6 потери начинают резко расти)"
   ]
  },
  {
   "cell_type": "code",
   "execution_count": 56,
   "metadata": {},
   "outputs": [
    {
     "name": "stdout",
     "output_type": "stream",
     "text": [
      "977/977 [==============================] - 1s 752us/step\n",
      "0.9049641823695407\n",
      "{'accuracy w/o paddings': 0.8826339133401568}\n"
     ]
    }
   ],
   "source": [
    "gru_model.load_weights('cu\\\\gru_model\\\\cu-easy_model-5.h5')\n",
    "score, acc = gru_model.evaluate(Xtest, np_utils.to_categorical(Ytest, num_classes=T_MAX_FEATURES), batch_size=64)\n",
    "print(acc)\n",
    "prediction = gru_model.predict_classes(Xtest)\n",
    "prediction_gru = evaluate(Ytest, prediction, ger_test_tags)\n",
    "print(prediction_gru)"
   ]
  },
  {
   "cell_type": "code",
   "execution_count": 57,
   "metadata": {},
   "outputs": [
    {
     "data": {
      "image/png": "[encoded data removed]",
      "text/plain": [
       "<matplotlib.figure.Figure at 0x1cd2916c550>"
      ]
     },
     "metadata": {},
     "output_type": "display_data"
    }
   ],
   "source": [
    "plt.subplot(211)\n",
    "plt.title(\"Accuracy\")\n",
    "plt.plot(gru_history.history[\"acc\"], color=\"g\", label=\"Train\")\n",
    "plt.plot(gru_history.history[\"val_acc\"], color=\"b\", label=\"Validation\")\n",
    "plt.legend(loc=\"best\")\n",
    "\n",
    "plt.subplot(212)\n",
    "plt.title(\"Loss\")\n",
    "plt.plot(gru_history.history[\"loss\"], color=\"g\", label=\"Train\")\n",
    "plt.plot(gru_history.history[\"val_loss\"], color=\"b\", label=\"Validation\")\n",
    "plt.legend(loc=\"best\")\n",
    "\n",
    "plt.tight_layout()\n",
    "plt.show()"
   ]
  },
  {
   "cell_type": "markdown",
   "metadata": {},
   "source": [
    "Размер эмбеддинга 200"
   ]
  },
  {
   "cell_type": "code",
   "execution_count": 58,
   "metadata": {},
   "outputs": [
    {
     "name": "stdout",
     "output_type": "stream",
     "text": [
      "_________________________________________________________________\n",
      "Layer (type)                 Output Shape              Param #   \n",
      "=================================================================\n",
      "embedding_12 (Embedding)     (None, 20, 200)           6000400   \n",
      "_________________________________________________________________\n",
      "gru_3 (GRU)                  (None, 20, 64)            50880     \n",
      "_________________________________________________________________\n",
      "dense_12 (Dense)             (None, 20, 18)            1170      \n",
      "_________________________________________________________________\n",
      "activation_12 (Activation)   (None, 20, 18)            0         \n",
      "=================================================================\n",
      "Total params: 6,052,450\n",
      "Trainable params: 6,052,450\n",
      "Non-trainable params: 0\n",
      "_________________________________________________________________\n",
      "Train on 11051 samples, validate on 2763 samples\n",
      "Epoch 1/8\n",
      "11051/11051 [==============================] - 120s 11ms/step - loss: 1.3019 - acc: 0.6652 - val_loss: 0.4743 - val_acc: 0.8617\n",
      "\n",
      "Epoch 00001: saving model to cu\\gru_model\\cu-easy_model-1.h5\n",
      "Epoch 2/8\n",
      "11051/11051 [==============================] - 56s 5ms/step - loss: 0.3173 - acc: 0.9091 - val_loss: 0.2847 - val_acc: 0.9093\n",
      "\n",
      "Epoch 00002: saving model to cu\\gru_model\\cu-easy_model-2.h5\n",
      "Epoch 3/8\n",
      "11051/11051 [==============================] - 58s 5ms/step - loss: 0.1905 - acc: 0.9411 - val_loss: 0.2657 - val_acc: 0.9125\n",
      "\n",
      "Epoch 00003: saving model to cu\\gru_model\\cu-easy_model-3.h5\n",
      "Epoch 4/8\n",
      "11051/11051 [==============================] - 58s 5ms/step - loss: 0.1579 - acc: 0.9464 - val_loss: 0.2625 - val_acc: 0.9134\n",
      "\n",
      "Epoch 00004: saving model to cu\\gru_model\\cu-easy_model-4.h5\n",
      "Epoch 5/8\n",
      "11051/11051 [==============================] - 58s 5ms/step - loss: 0.1423 - acc: 0.9503 - val_loss: 0.2615 - val_acc: 0.9142\n",
      "\n",
      "Epoch 00005: saving model to cu\\gru_model\\cu-easy_model-5.h5\n",
      "Epoch 6/8\n",
      "11051/11051 [==============================] - 58s 5ms/step - loss: 0.1308 - acc: 0.9539 - val_loss: 0.2673 - val_acc: 0.9127\n",
      "\n",
      "Epoch 00006: saving model to cu\\gru_model\\cu-easy_model-6.h5\n",
      "Epoch 7/8\n",
      "11051/11051 [==============================] - 58s 5ms/step - loss: 0.1213 - acc: 0.9571 - val_loss: 0.2721 - val_acc: 0.9137\n",
      "\n",
      "Epoch 00007: saving model to cu\\gru_model\\cu-easy_model-7.h5\n",
      "Epoch 8/8\n",
      "11051/11051 [==============================] - 58s 5ms/step - loss: 0.1127 - acc: 0.9607 - val_loss: 0.2765 - val_acc: 0.9131\n",
      "\n",
      "Epoch 00008: saving model to cu\\gru_model\\cu-easy_model-8.h5\n"
     ]
    }
   ],
   "source": [
    "gru_model = Sequential()\n",
    "gru_model.add(Embedding(S_MAX_FEATURES, 200, input_length=MAX_SEQLEN))\n",
    "gru_model.add(GRU(64, input_shape=(MAX_SEQLEN, S_MAX_FEATURES), unroll=True, dropout=0.2, recurrent_dropout=0.2, return_sequences=True))\n",
    "gru_model.add(Dense(T_MAX_FEATURES))\n",
    "gru_model.add(Activation(\"softmax\"))\n",
    "\n",
    "gru_model.compile(loss=\"categorical_crossentropy\", optimizer=\"adam\", metrics=['acc'])\n",
    "gru_model.summary()\n",
    "checkpoint = ModelCheckpoint('cu\\\\gru_model\\\\cu-easy_model-{epoch}.h5', verbose=1, save_best_only=False, save_weights_only=True)\n",
    "gru_history = gru_model.fit(Xtrain, np_utils.to_categorical(Ytrain, num_classes=T_MAX_FEATURES), batch_size=64, epochs=NUM_EPOCHS, validation_data=[Xval, np_utils.to_categorical(Yval, num_classes=T_MAX_FEATURES)], verbose=1, callbacks=[checkpoint])"
   ]
  },
  {
   "cell_type": "markdown",
   "metadata": {},
   "source": [
    "переобучение на 6 эпохе, т.к. валидационная точность начинает давать сбои, потери растут"
   ]
  },
  {
   "cell_type": "code",
   "execution_count": 59,
   "metadata": {},
   "outputs": [
    {
     "name": "stdout",
     "output_type": "stream",
     "text": [
      "977/977 [==============================] - 1s 831us/step\n",
      "0.9043500463086482\n",
      "{'accuracy w/o paddings': 0.8815250767656089}\n"
     ]
    }
   ],
   "source": [
    "gru_model.load_weights('cu\\\\gru_model\\\\cu-easy_model-5.h5')\n",
    "score, acc = gru_model.evaluate(Xtest, np_utils.to_categorical(Ytest, num_classes=T_MAX_FEATURES), batch_size=64)\n",
    "print(acc)\n",
    "prediction = gru_model.predict_classes(Xtest)\n",
    "prediction_gru = evaluate(Ytest, prediction, ger_test_tags)\n",
    "print(prediction_gru)"
   ]
  },
  {
   "cell_type": "code",
   "execution_count": 60,
   "metadata": {},
   "outputs": [
    {
     "data": {
      "image/png": "[encoded data removed]",
      "text/plain": [
       "<matplotlib.figure.Figure at 0x1cd29188e48>"
      ]
     },
     "metadata": {},
     "output_type": "display_data"
    }
   ],
   "source": [
    "plt.subplot(211)\n",
    "plt.title(\"Accuracy\")\n",
    "plt.plot(gru_history.history[\"acc\"], color=\"g\", label=\"Train\")\n",
    "plt.plot(gru_history.history[\"val_acc\"], color=\"b\", label=\"Validation\")\n",
    "plt.legend(loc=\"best\")\n",
    "\n",
    "plt.subplot(212)\n",
    "plt.title(\"Loss\")\n",
    "plt.plot(gru_history.history[\"loss\"], color=\"g\", label=\"Train\")\n",
    "plt.plot(gru_history.history[\"val_loss\"], color=\"b\", label=\"Validation\")\n",
    "plt.legend(loc=\"best\")\n",
    "\n",
    "plt.tight_layout()\n",
    "plt.show()"
   ]
  },
  {
   "cell_type": "markdown",
   "metadata": {},
   "source": [
    "| GRU | Размер эмбеддинга | Переобучение на эпохе | test_acc | Best val_acc | val_loss | Acc w/o paddings |\n",
    "|-----|-------------------|-------------|-----------------------|----------|-----------|------------------|\n",
    "| **1 модель** | 64 | нет | 0.9047 | 0.9128 | 0.2786 | 0.8812691914022519 |\n",
    "| **2 модель** | 100 | 6 | 0.9049 | 0.9135 | 0.2656 | 0.8826339133401568 |\n",
    "| **3 модель** | 200 | 6 | 0.9044 | 0.9142 | 0.2615 | 0.881525076765089 | "
   ]
  },
  {
   "cell_type": "markdown",
   "metadata": {},
   "source": [
    "заметки по работе моделей:\n",
    "- в gru модель переобучивается раньше с увеличением размера эмбеддинга (кол-во параметров модели)\n",
    "- разница в показателях опять лишь в долях тысячных\n",
    "- точность без паддингов и тестовая точность лучше у модели с размером эмбеддинга 100, валидационная точность и потери - у 200"
   ]
  },
  {
   "cell_type": "markdown",
   "metadata": {},
   "source": [
    "В самом конце ноутбука будут приведены заметки по сравнению моделей с одним и тем же размером эмбеддинга"
   ]
  },
  {
   "cell_type": "markdown",
   "metadata": {},
   "source": [
    "### Шоу эксперименты\n",
    "Просто меняем размер S_MAX_FEATURES (только SimpleRNN). \n",
    "\n",
    "- Выбрали SimpleRNN, т.к. он быстрее остальных считается.\n",
    "- Решили поиграть с размером S_MAX_FEATURES, чтобы посмотреть, насколько сильно меняется точность предсказаний без паддингов в зависимости от кол-ва токенов, которые подаются в модель\n",
    "- Сравниваем модели при размере эмбеддинга 64"
   ]
  },
  {
   "cell_type": "markdown",
   "metadata": {},
   "source": [
    "Берем только 5000 первых токенов."
   ]
  },
  {
   "cell_type": "code",
   "execution_count": 61,
   "metadata": {},
   "outputs": [],
   "source": [
    "MAX_SEQLEN = 20\n",
    "S_MAX_FEATURES = 5000\n",
    "T_MAX_FEATURES = 17"
   ]
  },
  {
   "cell_type": "code",
   "execution_count": 62,
   "metadata": {},
   "outputs": [],
   "source": [
    "ger_word2index = {w[0]: i + 2 for i,w in enumerate(ger_freqs.most_common(S_MAX_FEATURES))}\n",
    "ger_word2index['PAD'] = 0\n",
    "ger_word2index['UNK'] = 1\n",
    "ger_tag2index = {t: i + 1 for i,t in enumerate(ger_tags)}\n",
    "ger_tag2index['PAD'] = 0"
   ]
  },
  {
   "cell_type": "code",
   "execution_count": 63,
   "metadata": {},
   "outputs": [],
   "source": [
    "S_MAX_FEATURES += 2\n",
    "T_MAX_FEATURES += 1"
   ]
  },
  {
   "cell_type": "code",
   "execution_count": 64,
   "metadata": {},
   "outputs": [],
   "source": [
    "X = build_tensor(ger_train_sents, ger_num, ger_word2index, MAX_SEQLEN)\n",
    "Xtest = build_tensor(ger_test_sents, ger_test_num, ger_word2index, MAX_SEQLEN)\n",
    "Y = build_tensor(ger_train_tags, ger_num, ger_tag2index, MAX_SEQLEN)\n",
    "Ytest = build_tensor(ger_test_tags, ger_test_num, ger_tag2index, MAX_SEQLEN)\n",
    "Xtrain, Xval, Ytrain, Yval = train_test_split(X, Y, test_size = 0.2, random_state=42)"
   ]
  },
  {
   "cell_type": "code",
   "execution_count": 65,
   "metadata": {},
   "outputs": [
    {
     "name": "stdout",
     "output_type": "stream",
     "text": [
      "_________________________________________________________________\n",
      "Layer (type)                 Output Shape              Param #   \n",
      "=================================================================\n",
      "embedding_13 (Embedding)     (None, 20, 64)            320128    \n",
      "_________________________________________________________________\n",
      "simple_rnn_4 (SimpleRNN)     (None, 20, 64)            8256      \n",
      "_________________________________________________________________\n",
      "dense_13 (Dense)             (None, 20, 18)            1170      \n",
      "_________________________________________________________________\n",
      "activation_13 (Activation)   (None, 20, 18)            0         \n",
      "=================================================================\n",
      "Total params: 329,554\n",
      "Trainable params: 329,554\n",
      "Non-trainable params: 0\n",
      "_________________________________________________________________\n",
      "Train on 11051 samples, validate on 2763 samples\n",
      "Epoch 1/8\n",
      "11051/11051 [==============================] - 71s 6ms/step - loss: 1.6957 - acc: 0.5176 - val_loss: 0.8293 - val_acc: 0.7650\n",
      "\n",
      "Epoch 00001: saving model to cu\\rnn_model\\cu-easy_model-1.h5\n",
      "Epoch 2/8\n",
      "11051/11051 [==============================] - 17s 2ms/step - loss: 0.6239 - acc: 0.8133 - val_loss: 0.4350 - val_acc: 0.8683\n",
      "\n",
      "Epoch 00002: saving model to cu\\rnn_model\\cu-easy_model-2.h5\n",
      "Epoch 3/8\n",
      "11051/11051 [==============================] - 16s 1ms/step - loss: 0.3872 - acc: 0.8781 - val_loss: 0.3295 - val_acc: 0.8913\n",
      "\n",
      "Epoch 00003: saving model to cu\\rnn_model\\cu-easy_model-3.h5\n",
      "Epoch 4/8\n",
      "11051/11051 [==============================] - 16s 1ms/step - loss: 0.3211 - acc: 0.8914 - val_loss: 0.3054 - val_acc: 0.8939\n",
      "\n",
      "Epoch 00004: saving model to cu\\rnn_model\\cu-easy_model-4.h5\n",
      "Epoch 5/8\n",
      "11051/11051 [==============================] - 17s 1ms/step - loss: 0.2995 - acc: 0.8946 - val_loss: 0.2969 - val_acc: 0.8961\n",
      "\n",
      "Epoch 00005: saving model to cu\\rnn_model\\cu-easy_model-5.h5\n",
      "Epoch 6/8\n",
      "11051/11051 [==============================] - 16s 1ms/step - loss: 0.2870 - acc: 0.8978 - val_loss: 0.2925 - val_acc: 0.8969\n",
      "\n",
      "Epoch 00006: saving model to cu\\rnn_model\\cu-easy_model-6.h5\n",
      "Epoch 7/8\n",
      "11051/11051 [==============================] - 16s 1ms/step - loss: 0.2799 - acc: 0.8992 - val_loss: 0.2909 - val_acc: 0.8971\n",
      "\n",
      "Epoch 00007: saving model to cu\\rnn_model\\cu-easy_model-7.h5\n",
      "Epoch 8/8\n",
      "11051/11051 [==============================] - 16s 1ms/step - loss: 0.2734 - acc: 0.9014 - val_loss: 0.2879 - val_acc: 0.8988\n",
      "\n",
      "Epoch 00008: saving model to cu\\rnn_model\\cu-easy_model-8.h5\n"
     ]
    }
   ],
   "source": [
    "rnn_model = Sequential()\n",
    "rnn_model.add(Embedding(S_MAX_FEATURES, 64, input_length=MAX_SEQLEN))\n",
    "rnn_model.add(SimpleRNN(64, input_shape=(MAX_SEQLEN, S_MAX_FEATURES), unroll=True, dropout=0.2, recurrent_dropout=0.2, return_sequences=True))\n",
    "rnn_model.add(Dense(T_MAX_FEATURES))\n",
    "rnn_model.add(Activation(\"softmax\"))\n",
    "\n",
    "rnn_model.compile(loss=\"categorical_crossentropy\", optimizer=\"adam\", metrics=['acc'])\n",
    "rnn_model.summary()\n",
    "checkpoint = ModelCheckpoint('cu\\\\rnn_model\\\\cu-easy_model-{epoch}.h5', verbose=1, save_best_only=False, save_weights_only=True)\n",
    "rnn_history = rnn_model.fit(Xtrain, np_utils.to_categorical(Ytrain, num_classes=T_MAX_FEATURES), batch_size=64, epochs=NUM_EPOCHS, validation_data=[Xval, np_utils.to_categorical(Yval, num_classes=T_MAX_FEATURES)], verbose=1, callbacks=[checkpoint])"
   ]
  },
  {
   "cell_type": "markdown",
   "metadata": {},
   "source": [
    "т.к. валидационная точность растет на протяжении всех эпох, то переобучения нет"
   ]
  },
  {
   "cell_type": "code",
   "execution_count": 66,
   "metadata": {},
   "outputs": [
    {
     "name": "stdout",
     "output_type": "stream",
     "text": [
      "977/977 [==============================] - 0s 504us/step\n",
      "0.8866939567860708\n",
      "{'accuracy w/o paddings': 0.8608836574547934}\n"
     ]
    }
   ],
   "source": [
    "rnn_model.load_weights('cu\\\\rnn_model\\\\cu-easy_model-8.h5')\n",
    "score, acc = rnn_model.evaluate(Xtest, np_utils.to_categorical(Ytest, num_classes=T_MAX_FEATURES), batch_size=64)\n",
    "print(acc)\n",
    "prediction = rnn_model.predict_classes(Xtest)\n",
    "prediction_rnn = evaluate(Ytest, prediction, ger_test_tags)\n",
    "print(prediction_rnn)"
   ]
  },
  {
   "cell_type": "code",
   "execution_count": 67,
   "metadata": {},
   "outputs": [
    {
     "data": {
      "image/png": "[encoded data removed]",
      "text/plain": [
       "<matplotlib.figure.Figure at 0x1cd29188550>"
      ]
     },
     "metadata": {},
     "output_type": "display_data"
    }
   ],
   "source": [
    "plt.subplot(211)\n",
    "plt.title(\"Accuracy\")\n",
    "plt.plot(rnn_history.history[\"acc\"], color=\"g\", label=\"Train\")\n",
    "plt.plot(rnn_history.history[\"val_acc\"], color=\"b\", label=\"Validation\")\n",
    "plt.legend(loc=\"best\")\n",
    "\n",
    "plt.subplot(212)\n",
    "plt.title(\"Loss\")\n",
    "plt.plot(rnn_history.history[\"loss\"], color=\"g\", label=\"Train\")\n",
    "plt.plot(rnn_history.history[\"val_loss\"], color=\"b\", label=\"Validation\")\n",
    "plt.legend(loc=\"best\")\n",
    "\n",
    "plt.tight_layout()\n",
    "plt.show()"
   ]
  },
  {
   "cell_type": "markdown",
   "metadata": {},
   "source": [
    "Берем уже 15000 токенов"
   ]
  },
  {
   "cell_type": "code",
   "execution_count": 68,
   "metadata": {},
   "outputs": [],
   "source": [
    "MAX_SEQLEN = 20\n",
    "S_MAX_FEATURES = 15000\n",
    "T_MAX_FEATURES = 17"
   ]
  },
  {
   "cell_type": "code",
   "execution_count": 69,
   "metadata": {},
   "outputs": [],
   "source": [
    "ger_word2index = {w[0]: i + 2 for i,w in enumerate(ger_freqs.most_common(S_MAX_FEATURES))}\n",
    "ger_word2index['PAD'] = 0\n",
    "ger_word2index['UNK'] = 1\n",
    "ger_tag2index = {t: i + 1 for i,t in enumerate(ger_tags)}\n",
    "ger_tag2index['PAD'] = 0"
   ]
  },
  {
   "cell_type": "code",
   "execution_count": 70,
   "metadata": {},
   "outputs": [],
   "source": [
    "S_MAX_FEATURES += 2\n",
    "T_MAX_FEATURES += 1"
   ]
  },
  {
   "cell_type": "code",
   "execution_count": 71,
   "metadata": {},
   "outputs": [],
   "source": [
    "X = build_tensor(ger_train_sents, ger_num, ger_word2index, MAX_SEQLEN)\n",
    "Xtest = build_tensor(ger_test_sents, ger_test_num, ger_word2index, MAX_SEQLEN)\n",
    "Y = build_tensor(ger_train_tags, ger_num, ger_tag2index, MAX_SEQLEN)\n",
    "Ytest = build_tensor(ger_test_tags, ger_test_num, ger_tag2index, MAX_SEQLEN)\n",
    "Xtrain, Xval, Ytrain, Yval = train_test_split(X, Y, test_size = 0.2, random_state=42)"
   ]
  },
  {
   "cell_type": "code",
   "execution_count": 72,
   "metadata": {},
   "outputs": [
    {
     "name": "stdout",
     "output_type": "stream",
     "text": [
      "_________________________________________________________________\n",
      "Layer (type)                 Output Shape              Param #   \n",
      "=================================================================\n",
      "embedding_14 (Embedding)     (None, 20, 64)            960128    \n",
      "_________________________________________________________________\n",
      "simple_rnn_5 (SimpleRNN)     (None, 20, 64)            8256      \n",
      "_________________________________________________________________\n",
      "dense_14 (Dense)             (None, 20, 18)            1170      \n",
      "_________________________________________________________________\n",
      "activation_14 (Activation)   (None, 20, 18)            0         \n",
      "=================================================================\n",
      "Total params: 969,554\n",
      "Trainable params: 969,554\n",
      "Non-trainable params: 0\n",
      "_________________________________________________________________\n",
      "Train on 11051 samples, validate on 2763 samples\n",
      "Epoch 1/8\n",
      "11051/11051 [==============================] - 67s 6ms/step - loss: 1.7164 - acc: 0.5128 - val_loss: 0.8596 - val_acc: 0.7470\n",
      "\n",
      "Epoch 00001: saving model to cu\\rnn_model\\cu-easy_model-1.h5\n",
      "Epoch 2/8\n",
      "11051/11051 [==============================] - 21s 2ms/step - loss: 0.6129 - acc: 0.8201 - val_loss: 0.4026 - val_acc: 0.8798\n",
      "\n",
      "Epoch 00002: saving model to cu\\rnn_model\\cu-easy_model-2.h5\n",
      "Epoch 3/8\n",
      "11051/11051 [==============================] - 20s 2ms/step - loss: 0.3252 - acc: 0.9031 - val_loss: 0.2848 - val_acc: 0.9067\n",
      "\n",
      "Epoch 00003: saving model to cu\\rnn_model\\cu-easy_model-3.h5\n",
      "Epoch 4/8\n",
      "11051/11051 [==============================] - 20s 2ms/step - loss: 0.2412 - acc: 0.9221 - val_loss: 0.2617 - val_acc: 0.9131\n",
      "\n",
      "Epoch 00004: saving model to cu\\rnn_model\\cu-easy_model-4.h5\n",
      "Epoch 5/8\n",
      "11051/11051 [==============================] - 22s 2ms/step - loss: 0.2138 - acc: 0.9276 - val_loss: 0.2560 - val_acc: 0.9138\n",
      "\n",
      "Epoch 00005: saving model to cu\\rnn_model\\cu-easy_model-5.h5\n",
      "Epoch 6/8\n",
      "11051/11051 [==============================] - 16s 1ms/step - loss: 0.1998 - acc: 0.9299 - val_loss: 0.2551 - val_acc: 0.9155\n",
      "\n",
      "Epoch 00006: saving model to cu\\rnn_model\\cu-easy_model-6.h5\n",
      "Epoch 7/8\n",
      "11051/11051 [==============================] - 15s 1ms/step - loss: 0.1901 - acc: 0.9328 - val_loss: 0.2556 - val_acc: 0.9159\n",
      "\n",
      "Epoch 00007: saving model to cu\\rnn_model\\cu-easy_model-7.h5\n",
      "Epoch 8/8\n",
      "11051/11051 [==============================] - 15s 1ms/step - loss: 0.1820 - acc: 0.9359 - val_loss: 0.2579 - val_acc: 0.9159\n",
      "\n",
      "Epoch 00008: saving model to cu\\rnn_model\\cu-easy_model-8.h5\n"
     ]
    }
   ],
   "source": [
    "rnn_model = Sequential()\n",
    "rnn_model.add(Embedding(S_MAX_FEATURES, 64, input_length=MAX_SEQLEN))\n",
    "rnn_model.add(SimpleRNN(64, input_shape=(MAX_SEQLEN, S_MAX_FEATURES), unroll=True, dropout=0.2, recurrent_dropout=0.2, return_sequences=True))\n",
    "rnn_model.add(Dense(T_MAX_FEATURES))\n",
    "rnn_model.add(Activation(\"softmax\"))\n",
    "\n",
    "rnn_model.compile(loss=\"categorical_crossentropy\", optimizer=\"adam\", metrics=['acc'])\n",
    "rnn_model.summary()\n",
    "checkpoint = ModelCheckpoint('cu\\\\rnn_model\\\\cu-easy_model-{epoch}.h5', verbose=1, save_best_only=False, save_weights_only=True)\n",
    "rnn_history = rnn_model.fit(Xtrain, np_utils.to_categorical(Ytrain, num_classes=T_MAX_FEATURES), batch_size=64, epochs=NUM_EPOCHS, validation_data=[Xval, np_utils.to_categorical(Yval, num_classes=T_MAX_FEATURES)], verbose=1, callbacks=[checkpoint])"
   ]
  },
  {
   "cell_type": "markdown",
   "metadata": {},
   "source": [
    "переобучение на 8 эпохе, т.к. потери начинают расти"
   ]
  },
  {
   "cell_type": "code",
   "execution_count": 73,
   "metadata": {},
   "outputs": [
    {
     "name": "stdout",
     "output_type": "stream",
     "text": [
      "977/977 [==============================] - 0s 381us/step\n",
      "0.9037359201310234\n",
      "{'accuracy w/o paddings': 0.8806721255544182}\n"
     ]
    }
   ],
   "source": [
    "rnn_model.load_weights('cu\\\\rnn_model\\\\cu-easy_model-7.h5')\n",
    "score, acc = rnn_model.evaluate(Xtest, np_utils.to_categorical(Ytest, num_classes=T_MAX_FEATURES), batch_size=64)\n",
    "print(acc)\n",
    "prediction = rnn_model.predict_classes(Xtest)\n",
    "prediction_rnn = evaluate(Ytest, prediction, ger_test_tags)\n",
    "print(prediction_rnn)"
   ]
  },
  {
   "cell_type": "code",
   "execution_count": 74,
   "metadata": {},
   "outputs": [
    {
     "data": {
      "image/png": "[encoded data removed]",
      "text/plain": [
       "<matplotlib.figure.Figure at 0x1cd32729438>"
      ]
     },
     "metadata": {},
     "output_type": "display_data"
    }
   ],
   "source": [
    "plt.subplot(211)\n",
    "plt.title(\"Accuracy\")\n",
    "plt.plot(rnn_history.history[\"acc\"], color=\"g\", label=\"Train\")\n",
    "plt.plot(rnn_history.history[\"val_acc\"], color=\"b\", label=\"Validation\")\n",
    "plt.legend(loc=\"best\")\n",
    "\n",
    "plt.subplot(212)\n",
    "plt.title(\"Loss\")\n",
    "plt.plot(rnn_history.history[\"loss\"], color=\"g\", label=\"Train\")\n",
    "plt.plot(rnn_history.history[\"val_loss\"], color=\"b\", label=\"Validation\")\n",
    "plt.legend(loc=\"best\")\n",
    "\n",
    "plt.tight_layout()\n",
    "plt.show()"
   ]
  },
  {
   "cell_type": "markdown",
   "metadata": {},
   "source": [
    "| RNN | S_MAX_FEATURES | Переобучение на эпохе | test_acc | Best val_acc | val_loss | Acc w/o paddings |\n",
    "|-----|-------------------|-------------|-----------------------|----------|-----------|------------------|\n",
    "| **1 модель** | 5000 | нет | 0.8867 | 0.8988 | 0.2879 | 0.8608836574547934 |\n",
    "| **2 модель** | 15000 | 8 | 0.9037 | 0.9159 | 0.2556 | 0.8806721255544182 |\n",
    "| **3 модель** | 30000 | 7 | 0.9019 | 0.9124 | 0.2648 | 0.879136813374275 | "
   ]
  },
  {
   "cell_type": "markdown",
   "metadata": {},
   "source": [
    "заметки:\n",
    "- чем больше токенов мы подаем в модель, тем быстрее происходит переобучение, т.к. увеличивается кол-во параметров в модели\n",
    "- лучше всех показала себя модель с 15000 токенами: у нее лучшие показатели по всем параметрам. Это довольно интересно, учитывая, что мы подаем где-то половину всех токенов тренировочного корпуса. Возможно, сыграло роль то, что во всех трех случаях в модель подавались случайно сформированные тренировочная и валидационная выборки (был установлен random_state=42)\n",
    "- в принципе точность без паддингов не сильно отличается. Это можно объяснить тем, что первые токены имеют самую большую частотность в тренировочной корпусе, которые, возможно, также часто встречались в тестовом корпусе. Следовательно, модель можно было не слишком сильно напрягать количеством токенов)"
   ]
  },
  {
   "cell_type": "markdown",
   "metadata": {},
   "source": [
    "## Итоги по одинаковым размерам эмбеддинга\n",
    "### Embedding 64"
   ]
  },
  {
   "cell_type": "markdown",
   "metadata": {},
   "source": [
    "| модель | Переобучение на эпохе | test_acc | Best val_acc | val_loss | Acc w/o paddings |\n",
    "|-----|-------------|-----------------------|----------|-----------|------------------|\n",
    "| **SimpleRNN** | 7 | 0.9019 | 0.9124 | 0.2648 | 0.879136813374275 |\n",
    "| **LSTM** | 7 | 0.9005 | 0.9127 | 0.2711 | 0.8760661890139883 |\n",
    "| **biLSTM** | 7 | 0.9158 | 0.9252 | 0.2366 | 0.8964517229614464 |\n",
    "| **GRU** | нет | 0.9047 | 0.9128 | 0.2786 | 0.8812691914022519 |"
   ]
  },
  {
   "cell_type": "markdown",
   "metadata": {},
   "source": [
    "заметки:\n",
    "- не переобучивается только GRU \n",
    "- лучшие показатели у двунаправленной LSTM: это можно объяснить тем, что она сложнее, учитывает больше вещей, чем все остальные сетки  (в принципе двунаправленная сетка чуть больше параметров принимает)\n",
    "- остальные сетки в принципе сработали нормально, учитывая, что разница в показателях заключается только в долях тысячных, поэтому худшую модель особо не выделишь. У LSTM хуже показатели на тестовой точности и точности без паддингов, у SimpleRNN ненамного хуже показатели по валидационной точности, у GRU хуже показатели по потерям на валидации."
   ]
  },
  {
   "cell_type": "markdown",
   "metadata": {},
   "source": [
    "### Embedding 100"
   ]
  },
  {
   "cell_type": "markdown",
   "metadata": {},
   "source": [
    "| модель | Переобучение на эпохе | test_acc | Best val_acc | val_loss | Acc w/o paddings |\n",
    "|-----|-------------|-----------------------|----------|-----------|------------------|\n",
    "| **SimpleRNN** | 8 | 0.9078 | 0.9147 | 0.2731 | 0.8851074718526101 |\n",
    "| **LSTM** | 6 | 0.9017 | 0.9120 | 0.2744 | 0.8784544524053224 |\n",
    "| **biLSTM** | 7 | 0.9172 | 0.9267 | 0.2322 | 0.8978164448993519 |\n",
    "| **GRU** | 6 | 0.9049 | 0.9135 | 0.2656 | 0.8826339133401568 |"
   ]
  },
  {
   "cell_type": "markdown",
   "metadata": {},
   "source": [
    "заметки:\n",
    "- при большей размерности эмбеддинга происходит немного другая картина. GRU и LSTM переобучиваются раньше остальных\n",
    "-  хуже всех показала себя LSTM: у нее худшие показатели по всем параметрам.\n",
    "- лучшие показатели у двунаправленной LSTM: это можно объяснить тем, что она сложнее, учитывает больше вещей, чем все остальные сетки  (в принципе двунаправленная сетка чуть больше параметров принимает)\n",
    "- в принципе показатели по моделям не сильно отличаются."
   ]
  },
  {
   "cell_type": "markdown",
   "metadata": {},
   "source": [
    "### Embedding 200"
   ]
  },
  {
   "cell_type": "markdown",
   "metadata": {},
   "source": [
    "| модель | Переобучение на эпохе | test_acc | Best val_acc | val_loss | Acc w/o paddings |\n",
    "|-----|-------------|-----------------------|----------|-----------|------------------|\n",
    "| **SimpleRNN** | 5 | 0.9073 | 0.9141 | 0.2646 | 0.8853633572159674 | \n",
    "| **LSTM** | 6 | 0.901 | 0.9138 | 0.2676 | 0.876919140225179 | \n",
    "| **biLSTM** | 6 | 0.9136 | 0.9273 | 0.2296 | 0.8935516888433982 | \n",
    "| **GRU** | 6 | 0.9044 | 0.9142 | 0.2615 | 0.881525076765089 | "
   ]
  },
  {
   "cell_type": "markdown",
   "metadata": {},
   "source": [
    "заметки:\n",
    "- теперь все сетки переобучаются на 5 или 6 эпохе.\n",
    "- лучше всех работает двунаправленная LSTM, т.к. она в принципе сложнее остальных сеток.\n",
    "- худшие показатели у LSTM, хотя ее показатели не особо отличаются от SimpleRNN и GRU"
   ]
  },
  {
   "cell_type": "markdown",
   "metadata": {},
   "source": [
    "### Двунаправленная LSTM WINS\n",
    "- все остальные чуть похуже работают, но тоже нормальные результаты показывают\n",
    "- при увеличении эмбеддинга модели быстрее переобучиваются\n",
    "- точность без паддингов не сильно отличается от тестовой и валидационной точностей, т.к.в тестовом корпусе часто встречались известные слова\n",
    "- чем сложнее модель и сама сетка, которую мы используем, тем лучше показатели\n",
    "- результаты работы сеток довольно сильно зависит от языкового корпуса, который мы используем\n",
    "# THE END"
   ]
  },
  {
   "cell_type": "code",
   "execution_count": null,
   "metadata": {},
   "outputs": [],
   "source": []
  }
 ],
 "metadata": {
  "kernelspec": {
   "display_name": "Python 3",
   "language": "python",
   "name": "python3"
  },
  "language_info": {
   "codemirror_mode": {
    "name": "ipython",
    "version": 3
   },
   "file_extension": ".py",
   "mimetype": "text/x-python",
   "name": "python",
   "nbconvert_exporter": "python",
   "pygments_lexer": "ipython3",
   "version": "3.6.4"
  }
 },
 "nbformat": 4,
 "nbformat_minor": 2
}
