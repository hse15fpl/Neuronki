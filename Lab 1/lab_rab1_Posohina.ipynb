{
 "cells": [
  {
   "cell_type": "markdown",
   "metadata": {},
   "source": [
    "Датский язык\n",
    "\n",
    "Классификация:\n",
    "-Индоевропейская семья\n",
    " -Германская ветвь\n",
    "  -Скандинавская группа\n",
    "   -Восточноскандинавская подгруппа\n",
    "\n",
    "Аналитический язык "
   ]
  },
  {
   "cell_type": "markdown",
   "metadata": {},
   "source": [
    "Румынский язык\n",
    "\n",
    "Классификация:\n",
    " -Индоевропейская семья\n",
    "  -Италийская ветвь\n",
    "   -Романская группа\n",
    "    -Балкано-романская подгруппа    \n",
    "    \n",
    "Аналитический язык      "
   ]
  },
  {
   "cell_type": "code",
   "execution_count": 1,
   "metadata": {},
   "outputs": [
    {
     "name": "stdout",
     "output_type": "stream",
     "text": [
      "8043\n",
      "729\n",
      "4383\n",
      "565\n"
     ]
    }
   ],
   "source": [
    "from conllu import parse\n",
    "\n",
    "rom_train = open(\"ro_rrt-ud-train.conllu\", encoding = 'utf-8').read()\n",
    "sentences_rtr = parse(rom_train)\n",
    "#print(sentences_rtr)\n",
    "\n",
    "rom_test = open(\"ro_rrt-ud-test.conllu\", encoding = 'utf-8').read()\n",
    "sentences_rte = parse(rom_test)\n",
    "#print(sentences_rte)\n",
    "\n",
    "da_train = open(\"da_ddt-ud-train.conllu\", encoding = 'utf-8').read()\n",
    "sentences_datr = parse(da_train)\n",
    "#print(sentences_datr)\n",
    "\n",
    "da_test = open(\"da_ddt-ud-test.conllu\", encoding = 'utf-8').read()\n",
    "sentences_date = parse(da_test)\n",
    "#print(sentences_date)\n",
    "\n",
    "# подсчет кол-ва предложений  \n",
    "print(len(sentences_rtr))\n",
    "print(len(sentences_rte))\n",
    "print(len(sentences_datr))\n",
    "print(len(sentences_date))\n"
   ]
  },
  {
   "cell_type": "code",
   "execution_count": 2,
   "metadata": {},
   "outputs": [],
   "source": [
    "# посчитаем кол-во уникальных словоформ для тренировочной выборки для румынского языка\n",
    "from collections import defaultdict\n",
    "word_counts = defaultdict(int)\n",
    "for w in open('ro_rrt-ud-train.conllu', encoding = 'utf-8').read().split():\n",
    "    word_counts[w.lower()] += 1\n",
    "words = []\n",
    "counts = []\n",
    "for w, c in word_counts.items():\n",
    "    words.append(w)\n",
    "    counts.append(c)\n",
    "#print(words)\n",
    "#print(counts)"
   ]
  },
  {
   "cell_type": "code",
   "execution_count": 3,
   "metadata": {},
   "outputs": [],
   "source": [
    "dictionary = dict(zip(words, counts))\n",
    "#print(dictionary)"
   ]
  },
  {
   "cell_type": "code",
   "execution_count": 4,
   "metadata": {},
   "outputs": [],
   "source": [
    "numbers_rom_tr = []\n",
    "counter = 0\n",
    "for key in dictionary:\n",
    "    if dictionary[key] == 1:\n",
    "        numbers_rom_tr.append('1')\n",
    "    else: \n",
    "        numbers_rom_tr.append('0')\n",
    "counter += 1\n",
    "#print(numbers)    "
   ]
  },
  {
   "cell_type": "code",
   "execution_count": 5,
   "metadata": {},
   "outputs": [
    {
     "data": {
      "text/plain": [
       "24456"
      ]
     },
     "execution_count": 5,
     "metadata": {},
     "output_type": "execute_result"
    }
   ],
   "source": [
    "numbers_rom_tr.count('1')"
   ]
  },
  {
   "cell_type": "code",
   "execution_count": 6,
   "metadata": {},
   "outputs": [],
   "source": [
    "# то же самое для тестовой выборки \n",
    "from collections import defaultdict\n",
    "word_counts = defaultdict(int)\n",
    "for w in open('ro_rrt-ud-test.conllu', encoding = 'utf-8').read().split():\n",
    "    word_counts[w.lower()] += 1\n",
    "words = []\n",
    "counts = []\n",
    "for w, c in word_counts.items():\n",
    "    words.append(w)\n",
    "    counts.append(c)\n",
    "#print(words)\n",
    "#print(counts)"
   ]
  },
  {
   "cell_type": "code",
   "execution_count": 7,
   "metadata": {},
   "outputs": [],
   "source": [
    "dictionary = dict(zip(words, counts))\n",
    "#print(dictionary)"
   ]
  },
  {
   "cell_type": "code",
   "execution_count": 8,
   "metadata": {},
   "outputs": [],
   "source": [
    "numbers_rom_te = []\n",
    "counter = 0\n",
    "for key in dictionary:\n",
    "    if dictionary[key] == 1:\n",
    "        numbers_rom_te.append('1')\n",
    "    else: \n",
    "        numbers_rom_te.append('0')\n",
    "counter += 1\n",
    "#print(numbers)    "
   ]
  },
  {
   "cell_type": "code",
   "execution_count": 9,
   "metadata": {},
   "outputs": [
    {
     "data": {
      "text/plain": [
       "4121"
      ]
     },
     "execution_count": 9,
     "metadata": {},
     "output_type": "execute_result"
    }
   ],
   "source": [
    "numbers_rom_te.count('1')"
   ]
  },
  {
   "cell_type": "code",
   "execution_count": 10,
   "metadata": {},
   "outputs": [],
   "source": [
    "# посчитаем кол-во уникальных словоформ для тренировочной выборки для датского языка\n",
    "from collections import defaultdict\n",
    "word_counts = defaultdict(int)\n",
    "for w in open('da_ddt-ud-train.conllu', encoding = 'utf-8').read().split():\n",
    "    word_counts[w.lower()] += 1\n",
    "words = []\n",
    "counts = []\n",
    "for w, c in word_counts.items():\n",
    "    words.append(w)\n",
    "    counts.append(c)\n",
    "#print(words)\n",
    "#print(counts)"
   ]
  },
  {
   "cell_type": "code",
   "execution_count": 11,
   "metadata": {},
   "outputs": [],
   "source": [
    "dictionary = dict(zip(words, counts))\n",
    "#print(dictionary)"
   ]
  },
  {
   "cell_type": "code",
   "execution_count": 12,
   "metadata": {},
   "outputs": [],
   "source": [
    "numbers_da_tr = []\n",
    "counter = 0\n",
    "for key in dictionary:\n",
    "    if dictionary[key] == 1:\n",
    "        numbers_da_tr.append('1')\n",
    "    else: \n",
    "        numbers_da_tr.append('0')\n",
    "counter += 1\n",
    "#print(numbers)   "
   ]
  },
  {
   "cell_type": "code",
   "execution_count": 13,
   "metadata": {},
   "outputs": [
    {
     "data": {
      "text/plain": [
       "13801"
      ]
     },
     "execution_count": 13,
     "metadata": {},
     "output_type": "execute_result"
    }
   ],
   "source": [
    "numbers_da_tr.count('1')"
   ]
  },
  {
   "cell_type": "code",
   "execution_count": 14,
   "metadata": {},
   "outputs": [],
   "source": [
    "# и то же самое для тестовой \n",
    "from collections import defaultdict\n",
    "word_counts = defaultdict(int)\n",
    "for w in open('da_ddt-ud-test.conllu', encoding = 'utf-8').read().split():\n",
    "    word_counts[w.lower()] += 1\n",
    "words = []\n",
    "counts = []\n",
    "for w, c in word_counts.items():\n",
    "    words.append(w)\n",
    "    counts.append(c)\n",
    "#print(words)\n",
    "#print(counts)"
   ]
  },
  {
   "cell_type": "code",
   "execution_count": 15,
   "metadata": {},
   "outputs": [],
   "source": [
    "dictionary = dict(zip(words, counts))\n",
    "#print(dictionary)"
   ]
  },
  {
   "cell_type": "code",
   "execution_count": 16,
   "metadata": {},
   "outputs": [],
   "source": [
    "numbers_da_te = []\n",
    "counter = 0\n",
    "for key in dictionary:\n",
    "    if dictionary[key] == 1:\n",
    "        numbers_da_te.append('1')\n",
    "    else: \n",
    "        numbers_da_te.append('0')\n",
    "counter += 1\n",
    "#print(numbers)   "
   ]
  },
  {
   "cell_type": "code",
   "execution_count": 17,
   "metadata": {},
   "outputs": [
    {
     "data": {
      "text/plain": [
       "2638"
      ]
     },
     "execution_count": 17,
     "metadata": {},
     "output_type": "execute_result"
    }
   ],
   "source": [
    "numbers_da_te.count('1')"
   ]
  },
  {
   "cell_type": "code",
   "execution_count": 22,
   "metadata": {},
   "outputs": [
    {
     "name": "stdout",
     "output_type": "stream",
     "text": [
      "17\n"
     ]
    }
   ],
   "source": [
    "# посчитаем уникальные POS-tags для тренировочной выборки для румынского языка\n",
    "train_sentences = parse(rom_train)\n",
    "postags = set()\n",
    "for sentence in train_sentences:\n",
    "    postags |= set(tokenlist[\"upostag\"] for tokenlist in sentence)\n",
    "    \n",
    "print(len(postags))"
   ]
  },
  {
   "cell_type": "code",
   "execution_count": 26,
   "metadata": {},
   "outputs": [
    {
     "name": "stdout",
     "output_type": "stream",
     "text": [
      "17\n"
     ]
    }
   ],
   "source": [
    "#для тестовой выборки проделаем то же самое\n",
    "test_sentences = parse(rom_test)\n",
    "postags = set()\n",
    "for sentence in test_sentences:\n",
    "    postags |= set(tokenlist[\"upostag\"] for tokenlist in sentence)\n",
    "    \n",
    "print(len(postags))"
   ]
  },
  {
   "cell_type": "code",
   "execution_count": 27,
   "metadata": {},
   "outputs": [
    {
     "name": "stdout",
     "output_type": "stream",
     "text": [
      "17\n"
     ]
    }
   ],
   "source": [
    "# посчитаем уникальные POS-tags для тренировочной выборки для датского языка\n",
    "train_sentences_da = parse(da_train)\n",
    "postags = set()\n",
    "for sentence in train_sentences_da:\n",
    "    postags |= set(tokenlist[\"upostag\"] for tokenlist in sentence)\n",
    "    \n",
    "print(len(postags))"
   ]
  },
  {
   "cell_type": "code",
   "execution_count": 28,
   "metadata": {},
   "outputs": [
    {
     "name": "stdout",
     "output_type": "stream",
     "text": [
      "17\n"
     ]
    }
   ],
   "source": [
    "# и для тествой\n",
    "test_sentences_da = parse(da_test)\n",
    "postags = set()\n",
    "for sentence in test_sentences_da:\n",
    "    postags |= set(tokenlist[\"upostag\"] for tokenlist in sentence)\n",
    "    \n",
    "print(len(postags))"
   ]
  },
  {
   "cell_type": "code",
   "execution_count": 34,
   "metadata": {},
   "outputs": [
    {
     "name": "stdout",
     "output_type": "stream",
     "text": [
      "75\n",
      "1\n"
     ]
    }
   ],
   "source": [
    "# посчитаем максимальное и минимальное число токенов в тренировочной выборке для румынского языка  \n",
    "length_ro_tr = []\n",
    "for sentence in train_sentences:\n",
    "    length_ro_tr.append(len([tokenlist[\"form\"] for tokenlist in sentence]))\n",
    "\n",
    "print(max(length_ro_tr))\n",
    "print(min(length_ro_tr))    "
   ]
  },
  {
   "cell_type": "code",
   "execution_count": 35,
   "metadata": {},
   "outputs": [
    {
     "name": "stdout",
     "output_type": "stream",
     "text": [
      "130\n",
      "2\n"
     ]
    }
   ],
   "source": [
    "# а теперь в тестовой выборке для румынского языка  \n",
    "length_ro_te = []\n",
    "for sentence in test_sentences:\n",
    "    length_ro_te.append(len([tokenlist[\"form\"] for tokenlist in sentence]))\n",
    "\n",
    "print(max(length_ro_te))\n",
    "print(min(length_ro_te)) "
   ]
  },
  {
   "cell_type": "code",
   "execution_count": 36,
   "metadata": {},
   "outputs": [
    {
     "name": "stdout",
     "output_type": "stream",
     "text": [
      "91\n",
      "1\n"
     ]
    }
   ],
   "source": [
    "# посчитаем максимальное и минимальное число токенов в тренировочной выборке для датского языка  \n",
    "length_da_tr = []\n",
    "for sentence in train_sentences_da:\n",
    "    length_da_tr.append(len([tokenlist[\"form\"] for tokenlist in sentence]))\n",
    "\n",
    "print(max(length_da_tr))\n",
    "print(min(length_da_tr)) "
   ]
  },
  {
   "cell_type": "code",
   "execution_count": 38,
   "metadata": {},
   "outputs": [
    {
     "name": "stdout",
     "output_type": "stream",
     "text": [
      "75\n",
      "1\n"
     ]
    }
   ],
   "source": [
    "# и для тестовой \n",
    "length_da_te = []\n",
    "for sentence in test_sentences_da:\n",
    "    length_da_te.append(len([tokenlist[\"form\"] for tokenlist in sentence]))\n",
    "\n",
    "print(max(length_da_te))\n",
    "print(min(length_da_te)) "
   ]
  },
  {
   "cell_type": "code",
   "execution_count": 41,
   "metadata": {},
   "outputs": [
    {
     "name": "stdout",
     "output_type": "stream",
     "text": [
      "17.73982300884956\n",
      "16\n"
     ]
    }
   ],
   "source": [
    "from statistics import median\n",
    "\n",
    "# Математическое ожидание и медиана числа слов в предложении в тренировочной выборке для румынского языка \n",
    "print(sum(length_ro_tr)/len(length_ro_tr))\n",
    "print(median(length_ro_tr))"
   ]
  },
  {
   "cell_type": "code",
   "execution_count": 42,
   "metadata": {},
   "outputs": [
    {
     "name": "stdout",
     "output_type": "stream",
     "text": [
      "13.748971193415638\n",
      "20\n"
     ]
    }
   ],
   "source": [
    "# в тестовой выборке \n",
    "print(sum(length_ro_tr)/len(length_ro_te))\n",
    "print(median(length_ro_te))"
   ]
  },
  {
   "cell_type": "code",
   "execution_count": 43,
   "metadata": {},
   "outputs": [
    {
     "name": "stdout",
     "output_type": "stream",
     "text": [
      "18.338580880675337\n",
      "16\n"
     ]
    }
   ],
   "source": [
    "# Математическое ожидание и медиана числа слов в предложении в тренировочной выборке для датского языка \n",
    "print(sum(length_da_tr)/len(length_da_tr))\n",
    "print(median(length_da_tr))"
   ]
  },
  {
   "cell_type": "code",
   "execution_count": 44,
   "metadata": {},
   "outputs": [
    {
     "name": "stdout",
     "output_type": "stream",
     "text": [
      "17.73982300884956\n",
      "16\n"
     ]
    }
   ],
   "source": [
    "# И для тестовой выборки\n",
    "print(sum(length_da_te)/len(length_da_te))\n",
    "print(median(length_da_te))"
   ]
  },
  {
   "cell_type": "code",
   "execution_count": 48,
   "metadata": {},
   "outputs": [
    {
     "name": "stdout",
     "output_type": "stream",
     "text": [
      "9.803921568627445\n"
     ]
    }
   ],
   "source": [
    "# Доля новых (не встречавшихся в тренировочной выборке) слов в тестовой выборке для румынского\n",
    "print(100 - len(set(length_ro_tr)&set(length_ro_te))/len(set(length_ro_tr))*100)"
   ]
  },
  {
   "cell_type": "code",
   "execution_count": 49,
   "metadata": {},
   "outputs": [
    {
     "name": "stdout",
     "output_type": "stream",
     "text": [
      "37.5\n"
     ]
    }
   ],
   "source": [
    "# Доля новых (не встречавшихся в тренировочной выборке) слов в тестовой выборке для датского\n",
    "print(100 - len(set(length_da_tr)&set(length_da_te))/len(set(length_da_tr))*100)"
   ]
  }
 ],
 "metadata": {
  "kernelspec": {
   "display_name": "Python 3",
   "language": "python",
   "name": "python3"
  },
  "language_info": {
   "codemirror_mode": {
    "name": "ipython",
    "version": 3
   },
   "file_extension": ".py",
   "mimetype": "text/x-python",
   "name": "python",
   "nbconvert_exporter": "python",
   "pygments_lexer": "ipython3",
   "version": "3.7.0"
  }
 },
 "nbformat": 4,
 "nbformat_minor": 2
}
