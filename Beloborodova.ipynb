{
 "cells": [
  {
   "cell_type": "markdown",
   "metadata": {
    "colab_type": "text",
    "id": "QKzbRANeVNBW",
    "slideshow": {
     "slide_type": "slide"
    }
   },
   "source": [
    "# Getting started with Neural Networks"
   ]
  },
  {
   "cell_type": "markdown",
   "metadata": {
    "colab_type": "text",
    "id": "ig7a_DgPVNCQ",
    "slideshow": {
     "slide_type": "subslide"
    }
   },
   "source": [
    "###  The IMDB dataset\n",
    "\n",
    "You’ll work with the IMDB dataset: a set of 50,000 highly polarized reviews from the Internet Movie Database. They’re split into 25,000 reviews for training and 25,000 reviews for testing, each set consisting of 50% negative and 50% positive reviews.\n",
    "\n"
   ]
  },
  {
   "cell_type": "code",
   "execution_count": 7,
   "metadata": {
    "colab": {},
    "colab_type": "code",
    "collapsed": true,
    "id": "csi7pqmnVNCV",
    "outputId": "4f5f5504-fd10-4955-e01a-f58ba6b1bca4",
    "slideshow": {
     "slide_type": "fragment"
    }
   },
   "outputs": [],
   "source": [
    "from keras.datasets import imdb\n",
    "\n",
    "(train_data, train_labels), (test_data, test_labels) = imdb.load_data(\n",
    "    num_words=10000)"
   ]
  },
  {
   "cell_type": "code",
   "execution_count": 8,
   "metadata": {
    "colab": {},
    "colab_type": "code",
    "collapsed": true,
    "id": "JJ1NPRzGVNCr",
    "outputId": "235c3241-8549-4bbe-ed36-7e0211ba67dd",
    "slideshow": {
     "slide_type": "fragment"
    }
   },
   "outputs": [],
   "source": [
    "word_index = imdb.get_word_index()\n",
    "reverse_word_index = dict(\n",
    "    [(value, key) for (key, value) in word_index.items()])\n",
    "decoded_review = ' '.join(\n",
    "    [reverse_word_index.get(i - 3, '?') for i in train_data[0]])\n"
   ]
  },
  {
   "cell_type": "markdown",
   "metadata": {
    "colab_type": "text",
    "id": "xicv7Xn4VNC4",
    "slideshow": {
     "slide_type": "slide"
    }
   },
   "source": [
    "### Preparing the data"
   ]
  },
  {
   "cell_type": "code",
   "execution_count": 9,
   "metadata": {
    "colab": {},
    "colab_type": "code",
    "collapsed": true,
    "id": "VzF3cL3wVNC7",
    "slideshow": {
     "slide_type": "fragment"
    }
   },
   "outputs": [],
   "source": [
    "import numpy as np\n",
    "\n",
    "def vectorize_sequences(sequences, dimension=10000):\n",
    "    results = np.zeros((len(sequences), dimension))\n",
    "    for i, sequence in enumerate(sequences):\n",
    "        results[i, sequence] = 1.\n",
    "    return results\n",
    "\n",
    "x_train = vectorize_sequences(train_data)\n",
    "x_test = vectorize_sequences(test_data)\n"
   ]
  },
  {
   "cell_type": "code",
   "execution_count": 10,
   "metadata": {
    "colab": {},
    "colab_type": "code",
    "collapsed": true,
    "id": "C0aaOu6pVNDH",
    "slideshow": {
     "slide_type": "fragment"
    }
   },
   "outputs": [],
   "source": [
    "y_train = np.asarray(train_labels).astype('float32')\n",
    "y_test = np.asarray(test_labels).astype('float32')"
   ]
  },
  {
   "cell_type": "code",
   "execution_count": 11,
   "metadata": {
    "colab": {},
    "colab_type": "code",
    "id": "zyXZHpjPVNDL",
    "outputId": "bfd263a6-0953-4f4c-ea84-5923d9d0ecb2",
    "slideshow": {
     "slide_type": "fragment"
    }
   },
   "outputs": [
    {
     "data": {
      "text/plain": [
       "array([1., 0., 0., ..., 0., 1., 0.], dtype=float32)"
      ]
     },
     "execution_count": 11,
     "metadata": {},
     "output_type": "execute_result"
    }
   ],
   "source": [
    "y_train"
   ]
  },
  {
   "cell_type": "markdown",
   "metadata": {
    "colab_type": "text",
    "id": "u5mPcnugVNDP",
    "slideshow": {
     "slide_type": "fragment"
    }
   },
   "source": [
    "Now the data is ready to be fed into a neural network.\n",
    "\n"
   ]
  },
  {
   "cell_type": "markdown",
   "metadata": {
    "colab_type": "text",
    "id": "UBkLzmOwVNDQ",
    "slideshow": {
     "slide_type": "slide"
    }
   },
   "source": [
    "### Building your network"
   ]
  },
  {
   "cell_type": "code",
   "execution_count": 3,
   "metadata": {
    "colab": {},
    "colab_type": "code",
    "id": "9vWjLKPyVNDl",
    "slideshow": {
     "slide_type": "fragment"
    }
   },
   "outputs": [
    {
     "name": "stderr",
     "output_type": "stream",
     "text": [
      "C:\\ProgramData\\Anaconda3\\lib\\site-packages\\h5py\\__init__.py:34: FutureWarning: Conversion of the second argument of issubdtype from `float` to `np.floating` is deprecated. In future, it will be treated as `np.float64 == np.dtype(float).type`.\n",
      "  from ._conv import register_converters as _register_converters\n",
      "Using TensorFlow backend.\n"
     ]
    }
   ],
   "source": [
    "from keras import models\n",
    "from keras import layers\n",
    "\n",
    "model = models.Sequential()\n",
    "model.add(layers.Dense(16, activation='relu', input_shape=(10000,)))\n",
    "model.add(layers.Dense(16, activation='relu'))\n",
    "model.add(layers.Dense(1, activation='sigmoid'))"
   ]
  },
  {
   "cell_type": "code",
   "execution_count": 4,
   "metadata": {
    "colab": {},
    "colab_type": "code",
    "collapsed": true,
    "id": "BSaqnbedVNDv",
    "slideshow": {
     "slide_type": "fragment"
    }
   },
   "outputs": [],
   "source": [
    "model.compile(optimizer='rmsprop',\n",
    "              loss='binary_crossentropy',\n",
    "              metrics=['accuracy'])"
   ]
  },
  {
   "cell_type": "markdown",
   "metadata": {
    "colab_type": "text",
    "id": "5eBZqg8wVND3",
    "slideshow": {
     "slide_type": "slide"
    }
   },
   "source": [
    "### Validating your approach\n",
    "\n",
    "In order to monitor during training the accuracy of the model on data it has never seen before, you’ll create a validation set by setting apart 10,000 samples from the original training data.\n",
    "\n"
   ]
  },
  {
   "cell_type": "code",
   "execution_count": 13,
   "metadata": {
    "colab": {},
    "colab_type": "code",
    "collapsed": true,
    "id": "vX-zMsvRVND4",
    "slideshow": {
     "slide_type": "fragment"
    }
   },
   "outputs": [],
   "source": [
    "x_val = x_train[:10000]\n",
    "partial_x_train = x_train[10000:]\n",
    "y_val = y_train[:10000]\n",
    "partial_y_train = y_train[10000:]"
   ]
  },
  {
   "cell_type": "code",
   "execution_count": 14,
   "metadata": {
    "colab": {},
    "colab_type": "code",
    "id": "JBXmUBSzVND9",
    "outputId": "41e051b5-bd59-49a6-9eeb-a974c7ff83be",
    "scrolled": true,
    "slideshow": {
     "slide_type": "fragment"
    }
   },
   "outputs": [
    {
     "name": "stdout",
     "output_type": "stream",
     "text": [
      "Train on 15000 samples, validate on 10000 samples\n",
      "Epoch 1/20\n",
      "15000/15000 [==============================] - 12s 804us/step - loss: 0.5088 - acc: 0.7881 - val_loss: 0.3937 - val_acc: 0.8660\n",
      "Epoch 2/20\n",
      "15000/15000 [==============================] - 6s 414us/step - loss: 0.3165 - acc: 0.9026 - val_loss: 0.3140 - val_acc: 0.8875\n",
      "Epoch 3/20\n",
      "15000/15000 [==============================] - 7s 437us/step - loss: 0.2355 - acc: 0.9271 - val_loss: 0.3030 - val_acc: 0.8791\n",
      "Epoch 4/20\n",
      "15000/15000 [==============================] - 7s 467us/step - loss: 0.1901 - acc: 0.9404 - val_loss: 0.2776 - val_acc: 0.8887\n",
      "Epoch 5/20\n",
      "15000/15000 [==============================] - 8s 529us/step - loss: 0.1570 - acc: 0.9525 - val_loss: 0.2768 - val_acc: 0.8877\n",
      "Epoch 6/20\n",
      "15000/15000 [==============================] - 7s 445us/step - loss: 0.1314 - acc: 0.9601 - val_loss: 0.3020 - val_acc: 0.8802\n",
      "Epoch 7/20\n",
      "15000/15000 [==============================] - 6s 426us/step - loss: 0.1104 - acc: 0.9677 - val_loss: 0.2929 - val_acc: 0.8855\n",
      "Epoch 8/20\n",
      "15000/15000 [==============================] - 7s 445us/step - loss: 0.0948 - acc: 0.9741 - val_loss: 0.3377 - val_acc: 0.8743\n",
      "Epoch 9/20\n",
      "15000/15000 [==============================] - 7s 446us/step - loss: 0.0798 - acc: 0.9781 - val_loss: 0.3268 - val_acc: 0.8800\n",
      "Epoch 10/20\n",
      "15000/15000 [==============================] - 6s 411us/step - loss: 0.0685 - acc: 0.9831 - val_loss: 0.3441 - val_acc: 0.8804\n",
      "Epoch 11/20\n",
      "15000/15000 [==============================] - 6s 423us/step - loss: 0.0596 - acc: 0.9852 - val_loss: 0.3724 - val_acc: 0.8778\n",
      "Epoch 12/20\n",
      "15000/15000 [==============================] - 7s 434us/step - loss: 0.0492 - acc: 0.9890 - val_loss: 0.4049 - val_acc: 0.8705\n",
      "Epoch 13/20\n",
      "15000/15000 [==============================] - 6s 408us/step - loss: 0.0415 - acc: 0.9909 - val_loss: 0.4127 - val_acc: 0.8740\n",
      "Epoch 14/20\n",
      "15000/15000 [==============================] - 6s 393us/step - loss: 0.0349 - acc: 0.9929 - val_loss: 0.4366 - val_acc: 0.8737\n",
      "Epoch 15/20\n",
      "15000/15000 [==============================] - 6s 367us/step - loss: 0.0297 - acc: 0.9950 - val_loss: 0.4561 - val_acc: 0.8732\n",
      "Epoch 16/20\n",
      "15000/15000 [==============================] - 6s 377us/step - loss: 0.0241 - acc: 0.9965 - val_loss: 0.4862 - val_acc: 0.8719\n",
      "Epoch 17/20\n",
      "15000/15000 [==============================] - 6s 372us/step - loss: 0.0200 - acc: 0.9977 - val_loss: 0.5157 - val_acc: 0.8687\n",
      "Epoch 18/20\n",
      "15000/15000 [==============================] - 6s 375us/step - loss: 0.0171 - acc: 0.9978 - val_loss: 0.5419 - val_acc: 0.8678\n",
      "Epoch 19/20\n",
      "15000/15000 [==============================] - 6s 385us/step - loss: 0.0140 - acc: 0.9981 - val_loss: 0.5708 - val_acc: 0.8656\n",
      "Epoch 20/20\n",
      "15000/15000 [==============================] - 6s 380us/step - loss: 0.0115 - acc: 0.9991 - val_loss: 0.5927 - val_acc: 0.8655\n"
     ]
    }
   ],
   "source": [
    "model.compile(optimizer='rmsprop',\n",
    "              loss='binary_crossentropy',\n",
    "              metrics=['acc'])\n",
    "\n",
    "history = model.fit(partial_x_train,\n",
    "                    partial_y_train,\n",
    "                    epochs=20,\n",
    "                    batch_size=512,\n",
    "                    validation_data=(x_val, y_val))"
   ]
  },
  {
   "cell_type": "code",
   "execution_count": 29,
   "metadata": {
    "colab": {},
    "colab_type": "code",
    "id": "_EInzcWUVNEB",
    "outputId": "cb64a7fe-2072-44fc-faa4-7b15820910f0",
    "slideshow": {
     "slide_type": "fragment"
    }
   },
   "outputs": [
    {
     "data": {
      "text/plain": [
       "dict_keys(['val_loss', 'val_acc', 'loss', 'acc'])"
      ]
     },
     "execution_count": 29,
     "metadata": {},
     "output_type": "execute_result"
    }
   ],
   "source": [
    "history_dict = history.history\n",
    "history_dict.keys()"
   ]
  },
  {
   "cell_type": "code",
   "execution_count": 17,
   "metadata": {
    "colab": {},
    "colab_type": "code",
    "id": "KTWRnF1eVNEF",
    "outputId": "5ac9a395-188d-4c72-f710-27b7c0f95f6f",
    "slideshow": {
     "slide_type": "subslide"
    }
   },
   "outputs": [
    {
     "data": {
      "image/png": "[encoded data removed]",
      "text/plain": [
       "<matplotlib.figure.Figure at 0x1924aa3d7b8>"
      ]
     },
     "metadata": {},
     "output_type": "display_data"
    }
   ],
   "source": [
    "import matplotlib.pyplot as plt\n",
    "\n",
    "history_dict = history.history\n",
    "loss_values = history_dict['loss']\n",
    "val_loss_values = history_dict['val_loss']\n",
    "\n",
    "epochs = range(1, len(history_dict['acc']) + 1)\n",
    "\n",
    "plt.plot(epochs, loss_values, 'bo', label='Training loss')\n",
    "plt.plot(epochs, val_loss_values, 'b', label='Validation loss')\n",
    "plt.title('Training and validation loss')\n",
    "plt.xlabel('Epochs')\n",
    "plt.ylabel('Loss')\n",
    "plt.legend()\n",
    "\n",
    "plt.show()\n"
   ]
  },
  {
   "cell_type": "code",
   "execution_count": 55,
   "metadata": {
    "colab": {},
    "colab_type": "code",
    "id": "2_Q-7ko5VNEI",
    "outputId": "68e87f19-1cd9-4805-d654-1c8b82dda5b6",
    "slideshow": {
     "slide_type": "subslide"
    }
   },
   "outputs": [
    {
     "data": {
      "image/png": "[encoded data removed]",
      "text/plain": [
       "<matplotlib.figure.Figure at 0x265f3c84828>"
      ]
     },
     "metadata": {},
     "output_type": "display_data"
    }
   ],
   "source": [
    "plt.clf()\n",
    "acc_values = history_dict['acc']\n",
    "val_acc_values = history_dict['val_acc']\n",
    "\n",
    "plt.plot(epochs, acc_values, 'bo', label='Training acc')\n",
    "plt.plot(epochs, val_acc_values, 'b', label='Validation acc')\n",
    "plt.title('Training and validation accuracy')\n",
    "plt.xlabel('Epochs')\n",
    "plt.ylabel('Loss')\n",
    "plt.legend()\n",
    "\n",
    "plt.show()\n"
   ]
  },
  {
   "cell_type": "code",
   "execution_count": 32,
   "metadata": {
    "colab": {},
    "colab_type": "code",
    "id": "Hzhq4XzCVNEV",
    "outputId": "e86c8688-9d00-4646-94f0-3b770372d215",
    "slideshow": {
     "slide_type": "fragment"
    }
   },
   "outputs": [
    {
     "name": "stdout",
     "output_type": "stream",
     "text": [
      "Epoch 1/4\n",
      "25000/25000 [==============================] - 13s 528us/step - loss: 0.4747 - acc: 0.8215\n",
      "Epoch 2/4\n",
      "25000/25000 [==============================] - 9s 359us/step - loss: 0.2644 - acc: 0.9098 1s - loss: 0.2673 - acc: \n",
      "Epoch 3/4\n",
      "25000/25000 [==============================] - 8s 335us/step - loss: 0.1985 - acc: 0.9302\n",
      "Epoch 4/4\n",
      "25000/25000 [==============================] - 9s 347us/step - loss: 0.1674 - acc: 0.9402\n",
      "25000/25000 [==============================] - 25s 1ms/step\n"
     ]
    }
   ],
   "source": [
    "model = models.Sequential()\n",
    "model.add(layers.Dense(16, activation='relu', input_shape=(10000,)))\n",
    "model.add(layers.Dense(16, activation='relu'))\n",
    "model.add(layers.Dense(1, activation='sigmoid'))\n",
    "\n",
    "model.compile(optimizer='rmsprop',\n",
    "              loss='binary_crossentropy',\n",
    "              metrics=['accuracy'])\n",
    "\n",
    "model.fit(x_train, y_train, epochs=4, batch_size=512)\n",
    "results = model.evaluate(x_test, y_test)"
   ]
  },
  {
   "cell_type": "code",
   "execution_count": 33,
   "metadata": {
    "colab": {},
    "colab_type": "code",
    "id": "i8UInNYJVNEY",
    "outputId": "b3ba7099-55cf-45be-ff78-2efee920ccd0",
    "slideshow": {
     "slide_type": "subslide"
    }
   },
   "outputs": [
    {
     "data": {
      "text/plain": [
       "[0.3236575030708313, 0.873]"
      ]
     },
     "execution_count": 33,
     "metadata": {},
     "output_type": "execute_result"
    }
   ],
   "source": [
    "results"
   ]
  },
  {
   "cell_type": "markdown",
   "metadata": {
    "colab_type": "text",
    "id": "DpjdgsS6VNEi",
    "slideshow": {
     "slide_type": "slide"
    }
   },
   "source": [
    "### Home Tasks\n",
    "\n",
    "The following experiments will help convince you that the architecture choices you’ve made are all fairly reasonable, although there’s still room for improvement:\n",
    "\n",
    "* You used two hidden layers. Try using one or three hidden layers, and see how doing so affects validation and test accuracy.\n",
    "* Try using layers with more hidden units or fewer hidden units: 32 units, 64 units, and so on.\n",
    "* Try using the ```mse``` loss function instead of ```binary_crossentropy```.\n",
    "* Try using the ```tanh``` activation (an activation that was popular in the early days of neural networks) instead of relu."
   ]
  },
  {
   "cell_type": "markdown",
   "metadata": {},
   "source": [
    "**Один слой**"
   ]
  },
  {
   "cell_type": "code",
   "execution_count": 27,
   "metadata": {
    "colab": {},
    "colab_type": "code",
    "collapsed": true,
    "id": "D6l81vNZVNFK",
    "slideshow": {
     "slide_type": "fragment"
    }
   },
   "outputs": [],
   "source": [
    "#one\n",
    "model_one = models.Sequential()\n",
    "model_one.add(layers.Dense(16, activation='relu', input_shape=(10000,)))\n",
    "model_one.add(layers.Dense(1, activation='sigmoid'))"
   ]
  },
  {
   "cell_type": "code",
   "execution_count": 28,
   "metadata": {
    "scrolled": true
   },
   "outputs": [
    {
     "name": "stdout",
     "output_type": "stream",
     "text": [
      "Train on 15000 samples, validate on 10000 samples\n",
      "Epoch 1/20\n",
      "15000/15000 [==============================] - 9s 631us/step - loss: 0.5098 - acc: 0.8119 - val_loss: 0.4067 - val_acc: 0.8664\n",
      "Epoch 2/20\n",
      "15000/15000 [==============================] - 6s 395us/step - loss: 0.3361 - acc: 0.8961 - val_loss: 0.3446 - val_acc: 0.8692\n",
      "Epoch 3/20\n",
      "15000/15000 [==============================] - 6s 375us/step - loss: 0.2636 - acc: 0.9198 - val_loss: 0.2987 - val_acc: 0.8903\n",
      "Epoch 4/20\n",
      "15000/15000 [==============================] - 6s 393us/step - loss: 0.2162 - acc: 0.9345 - val_loss: 0.2820 - val_acc: 0.8903\n",
      "Epoch 5/20\n",
      "15000/15000 [==============================] - 6s 393us/step - loss: 0.1842 - acc: 0.9445 - val_loss: 0.2793 - val_acc: 0.8880\n",
      "Epoch 6/20\n",
      "15000/15000 [==============================] - 6s 398us/step - loss: 0.1583 - acc: 0.9535 - val_loss: 0.2739 - val_acc: 0.8899\n",
      "Epoch 7/20\n",
      "15000/15000 [==============================] - 6s 385us/step - loss: 0.1379 - acc: 0.9603 - val_loss: 0.2851 - val_acc: 0.8849\n",
      "Epoch 8/20\n",
      "15000/15000 [==============================] - 6s 376us/step - loss: 0.1216 - acc: 0.9647 - val_loss: 0.2830 - val_acc: 0.8894\n",
      "Epoch 9/20\n",
      "15000/15000 [==============================] - 6s 402us/step - loss: 0.1063 - acc: 0.9717 - val_loss: 0.2922 - val_acc: 0.8866\n",
      "Epoch 10/20\n",
      "15000/15000 [==============================] - 6s 382us/step - loss: 0.0950 - acc: 0.9753 - val_loss: 0.3080 - val_acc: 0.8834\n",
      "Epoch 11/20\n",
      "15000/15000 [==============================] - 6s 421us/step - loss: 0.0837 - acc: 0.9790 - val_loss: 0.3128 - val_acc: 0.8822\n",
      "Epoch 12/20\n",
      "15000/15000 [==============================] - 7s 438us/step - loss: 0.0739 - acc: 0.9823 - val_loss: 0.3239 - val_acc: 0.8813\n",
      "Epoch 13/20\n",
      "15000/15000 [==============================] - 6s 370us/step - loss: 0.0663 - acc: 0.9845 - val_loss: 0.3433 - val_acc: 0.8808\n",
      "Epoch 14/20\n",
      "15000/15000 [==============================] - 6s 386us/step - loss: 0.0594 - acc: 0.9867 - val_loss: 0.3539 - val_acc: 0.8792\n",
      "Epoch 15/20\n",
      "15000/15000 [==============================] - 6s 405us/step - loss: 0.0519 - acc: 0.9897 - val_loss: 0.3705 - val_acc: 0.8750\n",
      "Epoch 16/20\n",
      "15000/15000 [==============================] - 6s 400us/step - loss: 0.0458 - acc: 0.9913 - val_loss: 0.3836 - val_acc: 0.8773\n",
      "Epoch 17/20\n",
      "15000/15000 [==============================] - 6s 415us/step - loss: 0.0400 - acc: 0.9933 - val_loss: 0.3962 - val_acc: 0.8757\n",
      "Epoch 18/20\n",
      "15000/15000 [==============================] - 6s 391us/step - loss: 0.0360 - acc: 0.9941 - val_loss: 0.4305 - val_acc: 0.8698\n",
      "Epoch 19/20\n",
      "15000/15000 [==============================] - 6s 423us/step - loss: 0.0306 - acc: 0.9955 - val_loss: 0.4321 - val_acc: 0.8746\n",
      "Epoch 20/20\n",
      "15000/15000 [==============================] - 6s 381us/step - loss: 0.0272 - acc: 0.9961 - val_loss: 0.4454 - val_acc: 0.8722\n"
     ]
    }
   ],
   "source": [
    "model_one.compile(optimizer='rmsprop',\n",
    "              loss='binary_crossentropy',\n",
    "              metrics=['acc'])\n",
    "\n",
    "one_history = model_one.fit(partial_x_train,\n",
    "                    partial_y_train,\n",
    "                    epochs=20,\n",
    "                    batch_size=512,\n",
    "                    validation_data=(x_val, y_val))"
   ]
  },
  {
   "cell_type": "code",
   "execution_count": 30,
   "metadata": {},
   "outputs": [
    {
     "data": {
      "image/png": "[encoded data removed]",
      "text/plain": [
       "<matplotlib.figure.Figure at 0x1bb2853c5f8>"
      ]
     },
     "metadata": {},
     "output_type": "display_data"
    }
   ],
   "source": [
    "one_history_dict = one_history.history\n",
    "loss_values1 = one_history_dict['loss']\n",
    "val_loss_values1 = one_history_dict['val_loss']\n",
    "\n",
    "epochs1 = range(1, len(one_history_dict['acc']) + 1)\n",
    "\n",
    "plt.plot(epochs1, loss_values1, 'bo', label='Training loss')\n",
    "plt.plot(epochs1, val_loss_values1, 'b', label='Validation loss')\n",
    "plt.title('Training and validation loss')\n",
    "plt.xlabel('Epochs')\n",
    "plt.ylabel('Loss')\n",
    "plt.legend()\n",
    "\n",
    "plt.show()"
   ]
  },
  {
   "cell_type": "code",
   "execution_count": 33,
   "metadata": {
    "colab": {},
    "colab_type": "code",
    "id": "2_Q-7ko5VNEI",
    "outputId": "68e87f19-1cd9-4805-d654-1c8b82dda5b6",
    "slideshow": {
     "slide_type": "subslide"
    }
   },
   "outputs": [
    {
     "data": {
      "image/png": "[encoded data removed]",
      "text/plain": [
       "<matplotlib.figure.Figure at 0x1bb2b14f048>"
      ]
     },
     "metadata": {},
     "output_type": "display_data"
    }
   ],
   "source": [
    "plt.clf()\n",
    "acc_values1 = one_history_dict['acc']\n",
    "val_acc_values1 = one_history_dict['val_acc']\n",
    "\n",
    "plt.plot(epochs1, acc_values1, 'bo', label='Training acc')\n",
    "plt.plot(epochs1, val_acc_values1, 'b', label='Validation acc')\n",
    "plt.title('Training and validation accuracy')\n",
    "plt.xlabel('Epochs')\n",
    "plt.ylabel('Accuracy')\n",
    "plt.legend()\n",
    "\n",
    "plt.show()\n"
   ]
  },
  {
   "cell_type": "markdown",
   "metadata": {},
   "source": [
    "** для одного слоя наивысшая Accuracy будет при 3 эпохах **"
   ]
  },
  {
   "cell_type": "code",
   "execution_count": 34,
   "metadata": {},
   "outputs": [
    {
     "name": "stdout",
     "output_type": "stream",
     "text": [
      "Epoch 1/3\n",
      "25000/25000 [==============================] - 6s 258us/step - loss: 0.1844 - acc: 0.9478\n",
      "Epoch 2/3\n",
      "25000/25000 [==============================] - 7s 295us/step - loss: 0.1418 - acc: 0.9573\n",
      "Epoch 3/3\n",
      "25000/25000 [==============================] - 6s 259us/step - loss: 0.1196 - acc: 0.9643\n",
      "25000/25000 [==============================] - 19s 762us/step\n"
     ]
    },
    {
     "data": {
      "text/plain": [
       "[0.4067939993858337, 0.86372]"
      ]
     },
     "execution_count": 34,
     "metadata": {},
     "output_type": "execute_result"
    }
   ],
   "source": [
    "model_one.fit(x_train, y_train, epochs=3, batch_size=512)\n",
    "results = model_one.evaluate(x_test, y_test)\n",
    "results"
   ]
  },
  {
   "cell_type": "markdown",
   "metadata": {},
   "source": [
    "Точность ниже чем на 2 слоях"
   ]
  },
  {
   "cell_type": "markdown",
   "metadata": {},
   "source": [
    "** Три слоя **"
   ]
  },
  {
   "cell_type": "code",
   "execution_count": 35,
   "metadata": {
    "colab": {},
    "colab_type": "code",
    "collapsed": true,
    "id": "D6l81vNZVNFK",
    "slideshow": {
     "slide_type": "fragment"
    }
   },
   "outputs": [],
   "source": [
    "#three\n",
    "model_three = models.Sequential()\n",
    "model_three.add(layers.Dense(16, activation='relu', input_shape=(10000,)))\n",
    "model_three.add(layers.Dense(16, activation='relu'))\n",
    "model_three.add(layers.Dense(16, activation='relu'))\n",
    "model_three.add(layers.Dense(1, activation='sigmoid'))"
   ]
  },
  {
   "cell_type": "code",
   "execution_count": 36,
   "metadata": {
    "scrolled": true
   },
   "outputs": [
    {
     "name": "stdout",
     "output_type": "stream",
     "text": [
      "Train on 15000 samples, validate on 10000 samples\n",
      "Epoch 1/20\n",
      "15000/15000 [==============================] - 11s 738us/step - loss: 0.5934 - acc: 0.6662 - val_loss: 0.5148 - val_acc: 0.7661\n",
      "Epoch 2/20\n",
      "15000/15000 [==============================] - 7s 469us/step - loss: 0.4114 - acc: 0.8811 - val_loss: 0.3827 - val_acc: 0.8577\n",
      "Epoch 3/20\n",
      "15000/15000 [==============================] - 7s 496us/step - loss: 0.2662 - acc: 0.9210 - val_loss: 0.2929 - val_acc: 0.8887\n",
      "Epoch 4/20\n",
      "15000/15000 [==============================] - 6s 424us/step - loss: 0.1903 - acc: 0.9408 - val_loss: 0.2954 - val_acc: 0.8836\n",
      "Epoch 5/20\n",
      "15000/15000 [==============================] - 7s 471us/step - loss: 0.1515 - acc: 0.9523 - val_loss: 0.3083 - val_acc: 0.8806\n",
      "Epoch 6/20\n",
      "15000/15000 [==============================] - 8s 515us/step - loss: 0.1199 - acc: 0.9627 - val_loss: 0.3026 - val_acc: 0.8840\n",
      "Epoch 7/20\n",
      "15000/15000 [==============================] - 7s 445us/step - loss: 0.0984 - acc: 0.9719 - val_loss: 0.3330 - val_acc: 0.8783\n",
      "Epoch 8/20\n",
      "15000/15000 [==============================] - 6s 413us/step - loss: 0.0792 - acc: 0.9783 - val_loss: 0.3482 - val_acc: 0.8802\n",
      "Epoch 9/20\n",
      "15000/15000 [==============================] - 6s 420us/step - loss: 0.0646 - acc: 0.9817 - val_loss: 0.4054 - val_acc: 0.8717\n",
      "Epoch 10/20\n",
      "15000/15000 [==============================] - 6s 422us/step - loss: 0.0511 - acc: 0.9870 - val_loss: 0.5161 - val_acc: 0.8564\n",
      "Epoch 11/20\n",
      "15000/15000 [==============================] - 6s 402us/step - loss: 0.0427 - acc: 0.9888 - val_loss: 0.4609 - val_acc: 0.8701\n",
      "Epoch 12/20\n",
      "15000/15000 [==============================] - 6s 422us/step - loss: 0.0354 - acc: 0.9905 - val_loss: 0.4656 - val_acc: 0.8748\n",
      "Epoch 13/20\n",
      "15000/15000 [==============================] - 7s 473us/step - loss: 0.0218 - acc: 0.9955 - val_loss: 0.5417 - val_acc: 0.8645\n",
      "Epoch 14/20\n",
      "15000/15000 [==============================] - 7s 465us/step - loss: 0.0236 - acc: 0.9939 - val_loss: 0.5655 - val_acc: 0.8663\n",
      "Epoch 15/20\n",
      "15000/15000 [==============================] - 6s 428us/step - loss: 0.0099 - acc: 0.9990 - val_loss: 0.5612 - val_acc: 0.8699\n",
      "Epoch 16/20\n",
      "15000/15000 [==============================] - 7s 455us/step - loss: 0.0185 - acc: 0.9943 - val_loss: 0.5964 - val_acc: 0.8706\n",
      "Epoch 17/20\n",
      "15000/15000 [==============================] - 9s 579us/step - loss: 0.0053 - acc: 0.9997 - val_loss: 0.6332 - val_acc: 0.8693\n",
      "Epoch 18/20\n",
      "15000/15000 [==============================] - 7s 441us/step - loss: 0.0145 - acc: 0.9951 - val_loss: 0.6731 - val_acc: 0.8690\n",
      "Epoch 19/20\n",
      "15000/15000 [==============================] - 6s 417us/step - loss: 0.0028 - acc: 0.9998 - val_loss: 0.6972 - val_acc: 0.8681\n",
      "Epoch 20/20\n",
      "15000/15000 [==============================] - 6s 402us/step - loss: 0.0085 - acc: 0.9978 - val_loss: 0.7456 - val_acc: 0.8670\n"
     ]
    }
   ],
   "source": [
    "model_three.compile(optimizer='rmsprop',\n",
    "              loss='binary_crossentropy',\n",
    "              metrics=['acc'])\n",
    "\n",
    "three_history = model_three.fit(partial_x_train,\n",
    "                    partial_y_train,\n",
    "                    epochs=20,\n",
    "                    batch_size=512,\n",
    "                    validation_data=(x_val, y_val))"
   ]
  },
  {
   "cell_type": "code",
   "execution_count": 37,
   "metadata": {},
   "outputs": [
    {
     "data": {
      "image/png": "[encoded data removed]",
      "text/plain": [
       "<matplotlib.figure.Figure at 0x1bb230a1a90>"
      ]
     },
     "metadata": {},
     "output_type": "display_data"
    }
   ],
   "source": [
    "three_history_dict = three_history.history\n",
    "loss_values3 = three_history_dict['loss']\n",
    "val_loss_values3 = three_history_dict['val_loss']\n",
    "\n",
    "epochs3 = range(1, len(three_history_dict['acc']) + 1)\n",
    "\n",
    "plt.plot(epochs3, loss_values3, 'bo', label='Training loss')\n",
    "plt.plot(epochs3, val_loss_values3, 'b', label='Validation loss')\n",
    "plt.title('Training and validation loss')\n",
    "plt.xlabel('Epochs')\n",
    "plt.ylabel('Loss')\n",
    "plt.legend()\n",
    "\n",
    "plt.show()"
   ]
  },
  {
   "cell_type": "code",
   "execution_count": 38,
   "metadata": {},
   "outputs": [
    {
     "data": {
      "image/png": "[encoded data removed]",
      "text/plain": [
       "<matplotlib.figure.Figure at 0x1bb2af10668>"
      ]
     },
     "metadata": {},
     "output_type": "display_data"
    }
   ],
   "source": [
    "plt.clf()\n",
    "acc_values3 = three_history_dict['acc']\n",
    "val_acc_values3 = three_history_dict['val_acc']\n",
    "\n",
    "plt.plot(epochs3, acc_values3, 'bo', label='Training acc')\n",
    "plt.plot(epochs3, val_acc_values3, 'b', label='Validation acc')\n",
    "plt.title('Training and validation accuracy')\n",
    "plt.xlabel('Epochs')\n",
    "plt.ylabel('Accuracy')\n",
    "plt.legend()\n",
    "\n",
    "plt.show()"
   ]
  },
  {
   "cell_type": "markdown",
   "metadata": {},
   "source": [
    "для трех слоев наивысшая Accuracy также будет при 3 эпохах"
   ]
  },
  {
   "cell_type": "code",
   "execution_count": 39,
   "metadata": {},
   "outputs": [
    {
     "name": "stdout",
     "output_type": "stream",
     "text": [
      "Epoch 1/3\n",
      "25000/25000 [==============================] - 7s 264us/step - loss: 0.2365 - acc: 0.9420\n",
      "Epoch 2/3\n",
      "25000/25000 [==============================] - 6s 251us/step - loss: 0.1420 - acc: 0.9581\n",
      "Epoch 3/3\n",
      "25000/25000 [==============================] - 6s 253us/step - loss: 0.1079 - acc: 0.9674\n",
      "25000/25000 [==============================] - 19s 741us/step\n"
     ]
    },
    {
     "data": {
      "text/plain": [
       "[0.5119369444561005, 0.85788]"
      ]
     },
     "execution_count": 39,
     "metadata": {},
     "output_type": "execute_result"
    }
   ],
   "source": [
    "model_three.fit(x_train, y_train, epochs=3, batch_size=512)\n",
    "results = model_three.evaluate(x_test, y_test)\n",
    "results"
   ]
  },
  {
   "cell_type": "markdown",
   "metadata": {},
   "source": [
    "Точность ниже чем на 1 и 2 слоях"
   ]
  },
  {
   "cell_type": "markdown",
   "metadata": {},
   "source": [
    "** Таким образом, при модель из двух hidden layers показывает бОльшую точность, чем при 1 или 3  \n",
    "максимальная точность: 0.87**"
   ]
  },
  {
   "cell_type": "markdown",
   "metadata": {},
   "source": [
    "*** Изменение количества узлов:   \n",
    "(количество слоев оставим 2 как самое удачное)***"
   ]
  },
  {
   "cell_type": "code",
   "execution_count": 15,
   "metadata": {},
   "outputs": [
    {
     "name": "stdout",
     "output_type": "stream",
     "text": [
      "Train on 15000 samples, validate on 10000 samples\n",
      "Epoch 1/20\n",
      "15000/15000 [==============================] - 8s 565us/step - loss: 0.5598 - acc: 0.7943 - val_loss: 0.4519 - val_acc: 0.8534\n",
      "Epoch 2/20\n",
      "15000/15000 [==============================] - 6s 368us/step - loss: 0.3679 - acc: 0.8920 - val_loss: 0.3443 - val_acc: 0.8825\n",
      "Epoch 3/20\n",
      "15000/15000 [==============================] - 6s 375us/step - loss: 0.2725 - acc: 0.9169 - val_loss: 0.2985 - val_acc: 0.8899\n",
      "Epoch 4/20\n",
      "15000/15000 [==============================] - 7s 458us/step - loss: 0.2146 - acc: 0.9328 - val_loss: 0.2940 - val_acc: 0.8808\n",
      "Epoch 5/20\n",
      "15000/15000 [==============================] - 6s 394us/step - loss: 0.1764 - acc: 0.9441 - val_loss: 0.2739 - val_acc: 0.8897\n",
      "Epoch 6/20\n",
      "15000/15000 [==============================] - 6s 384us/step - loss: 0.1488 - acc: 0.9533 - val_loss: 0.2832 - val_acc: 0.8864\n",
      "Epoch 7/20\n",
      "15000/15000 [==============================] - 7s 436us/step - loss: 0.1263 - acc: 0.9619 - val_loss: 0.2872 - val_acc: 0.8877\n",
      "Epoch 8/20\n",
      "15000/15000 [==============================] - 7s 451us/step - loss: 0.1099 - acc: 0.9658 - val_loss: 0.2933 - val_acc: 0.8860\n",
      "Epoch 9/20\n",
      "15000/15000 [==============================] - 7s 454us/step - loss: 0.0927 - acc: 0.9741 - val_loss: 0.3133 - val_acc: 0.8854\n",
      "Epoch 10/20\n",
      "15000/15000 [==============================] - 7s 437us/step - loss: 0.0786 - acc: 0.9794 - val_loss: 0.3468 - val_acc: 0.8797\n",
      "Epoch 11/20\n",
      "15000/15000 [==============================] - 6s 413us/step - loss: 0.0691 - acc: 0.9817 - val_loss: 0.3432 - val_acc: 0.8833\n",
      "Epoch 12/20\n",
      "15000/15000 [==============================] - 6s 405us/step - loss: 0.0565 - acc: 0.9870 - val_loss: 0.3705 - val_acc: 0.8762\n",
      "Epoch 13/20\n",
      "15000/15000 [==============================] - 6s 389us/step - loss: 0.0490 - acc: 0.9897 - val_loss: 0.3915 - val_acc: 0.8749\n",
      "Epoch 14/20\n",
      "15000/15000 [==============================] - 6s 372us/step - loss: 0.0412 - acc: 0.9907 - val_loss: 0.4102 - val_acc: 0.8772\n",
      "Epoch 15/20\n",
      "15000/15000 [==============================] - 6s 404us/step - loss: 0.0348 - acc: 0.9926 - val_loss: 0.4426 - val_acc: 0.8766\n",
      "Epoch 16/20\n",
      "15000/15000 [==============================] - 6s 397us/step - loss: 0.0277 - acc: 0.9953 - val_loss: 0.4788 - val_acc: 0.8683\n",
      "Epoch 17/20\n",
      "15000/15000 [==============================] - 7s 434us/step - loss: 0.0234 - acc: 0.9956 - val_loss: 0.4913 - val_acc: 0.8719\n",
      "Epoch 18/20\n",
      "15000/15000 [==============================] - 6s 383us/step - loss: 0.0192 - acc: 0.9973 - val_loss: 0.5280 - val_acc: 0.8685\n",
      "Epoch 19/20\n",
      "15000/15000 [==============================] - 6s 406us/step - loss: 0.0145 - acc: 0.9985 - val_loss: 0.5542 - val_acc: 0.8695\n",
      "Epoch 20/20\n",
      "15000/15000 [==============================] - 6s 423us/step - loss: 0.0125 - acc: 0.9987 - val_loss: 0.5876 - val_acc: 0.8675\n"
     ]
    }
   ],
   "source": [
    "model = models.Sequential()\n",
    "model.add(layers.Dense(16, activation='relu', input_shape=(10000,)))\n",
    "model.add(layers.Dense(8, activation='relu'))\n",
    "model.add(layers.Dense(1, activation='sigmoid'))\n",
    "\n",
    "model.compile(optimizer='rmsprop',\n",
    "              loss='binary_crossentropy',\n",
    "              metrics=['acc'])\n",
    "\n",
    "history = model.fit(partial_x_train,\n",
    "                    partial_y_train,\n",
    "                    epochs=20,\n",
    "                    batch_size=512,\n",
    "                    validation_data=(x_val, y_val))"
   ]
  },
  {
   "cell_type": "code",
   "execution_count": 21,
   "metadata": {},
   "outputs": [
    {
     "data": {
      "image/png": "[encoded data removed]",
      "text/plain": [
       "<matplotlib.figure.Figure at 0x19245286e80>"
      ]
     },
     "metadata": {},
     "output_type": "display_data"
    }
   ],
   "source": [
    "history_dict = history.history\n",
    "loss_values = history_dict['loss']\n",
    "val_loss_values = history_dict['val_loss']\n",
    "\n",
    "epochs = range(1, len(history_dict['acc']) + 1)\n",
    "\n",
    "plt.plot(epochs, loss_values, 'bo', label='Training loss')\n",
    "plt.plot(epochs, val_loss_values, 'b', label='Validation loss')\n",
    "plt.title('Training and validation loss')\n",
    "plt.xlabel('Epochs')\n",
    "plt.ylabel('Loss')\n",
    "plt.legend()\n",
    "\n",
    "plt.show()"
   ]
  },
  {
   "cell_type": "code",
   "execution_count": 22,
   "metadata": {},
   "outputs": [
    {
     "data": {
      "image/png": "[encoded data removed]",
      "text/plain": [
       "<matplotlib.figure.Figure at 0x192452bf7b8>"
      ]
     },
     "metadata": {},
     "output_type": "display_data"
    }
   ],
   "source": [
    "plt.clf()\n",
    "acc_values = history_dict['acc']\n",
    "val_acc_values = history_dict['val_acc']\n",
    "\n",
    "plt.plot(epochs, acc_values, 'bo', label='Training acc')\n",
    "plt.plot(epochs, val_acc_values, 'b', label='Validation acc')\n",
    "plt.title('Training and validation accuracy')\n",
    "plt.xlabel('Epochs')\n",
    "plt.ylabel('Accuracy')\n",
    "plt.legend()\n",
    "\n",
    "plt.show()"
   ]
  },
  {
   "cell_type": "code",
   "execution_count": 24,
   "metadata": {},
   "outputs": [
    {
     "name": "stdout",
     "output_type": "stream",
     "text": [
      "Epoch 1/3\n",
      "25000/25000 [==============================] - 6s 259us/step - loss: 0.1000 - acc: 0.9694\n",
      "Epoch 2/3\n",
      "25000/25000 [==============================] - 6s 245us/step - loss: 0.0849 - acc: 0.9745\n",
      "Epoch 3/3\n",
      "25000/25000 [==============================] - 6s 255us/step - loss: 0.0719 - acc: 0.9788\n",
      "25000/25000 [==============================] - 21s 854us/step\n"
     ]
    },
    {
     "data": {
      "text/plain": [
       "[0.5338536053562164, 0.85588]"
      ]
     },
     "execution_count": 24,
     "metadata": {},
     "output_type": "execute_result"
    }
   ],
   "source": [
    "model.fit(x_train, y_train, epochs=3, batch_size=512)\n",
    "results = model.evaluate(x_test, y_test)\n",
    "results"
   ]
  },
  {
   "cell_type": "markdown",
   "metadata": {},
   "source": [
    "** При 2 слоях и количестве нейронов 16 и 8 на 1 и 2 слоях соответственно точность модели понизилась и составила 0.856**"
   ]
  },
  {
   "cell_type": "code",
   "execution_count": 35,
   "metadata": {
    "scrolled": true
   },
   "outputs": [
    {
     "name": "stdout",
     "output_type": "stream",
     "text": [
      "Train on 15000 samples, validate on 10000 samples\n",
      "Epoch 1/20\n",
      "15000/15000 [==============================] - 10s 686us/step - loss: 0.4951 - acc: 0.7753 - val_loss: 0.3435 - val_acc: 0.8804\n",
      "Epoch 2/20\n",
      "15000/15000 [==============================] - 6s 432us/step - loss: 0.2774 - acc: 0.9029 - val_loss: 0.2883 - val_acc: 0.8914\n",
      "Epoch 3/20\n",
      "15000/15000 [==============================] - 7s 438us/step - loss: 0.1954 - acc: 0.9313 - val_loss: 0.2723 - val_acc: 0.8923\n",
      "Epoch 4/20\n",
      "15000/15000 [==============================] - 7s 452us/step - loss: 0.1548 - acc: 0.9478 - val_loss: 0.2809 - val_acc: 0.8889\n",
      "Epoch 5/20\n",
      "15000/15000 [==============================] - 7s 442us/step - loss: 0.1225 - acc: 0.9578 - val_loss: 0.3746 - val_acc: 0.8679\n",
      "Epoch 6/20\n",
      "15000/15000 [==============================] - 7s 436us/step - loss: 0.0951 - acc: 0.9709 - val_loss: 0.3267 - val_acc: 0.8807\n",
      "Epoch 7/20\n",
      "15000/15000 [==============================] - 7s 438us/step - loss: 0.0788 - acc: 0.9753 - val_loss: 0.3515 - val_acc: 0.8803\n",
      "Epoch 8/20\n",
      "15000/15000 [==============================] - 6s 432us/step - loss: 0.0585 - acc: 0.9831 - val_loss: 0.3758 - val_acc: 0.8784\n",
      "Epoch 9/20\n",
      "15000/15000 [==============================] - 6s 412us/step - loss: 0.0474 - acc: 0.9867 - val_loss: 0.4095 - val_acc: 0.8755\n",
      "Epoch 10/20\n",
      "15000/15000 [==============================] - 8s 511us/step - loss: 0.0338 - acc: 0.9919 - val_loss: 0.4544 - val_acc: 0.8743\n",
      "Epoch 11/20\n",
      "15000/15000 [==============================] - 7s 477us/step - loss: 0.0302 - acc: 0.9918 - val_loss: 0.4845 - val_acc: 0.8755\n",
      "Epoch 12/20\n",
      "15000/15000 [==============================] - 6s 433us/step - loss: 0.0264 - acc: 0.9935 - val_loss: 0.5162 - val_acc: 0.8717\n",
      "Epoch 13/20\n",
      "15000/15000 [==============================] - 7s 450us/step - loss: 0.0099 - acc: 0.9990 - val_loss: 0.6615 - val_acc: 0.8506\n",
      "Epoch 14/20\n",
      "15000/15000 [==============================] - 7s 473us/step - loss: 0.0237 - acc: 0.9945 - val_loss: 0.5802 - val_acc: 0.8715\n",
      "Epoch 15/20\n",
      "15000/15000 [==============================] - 8s 525us/step - loss: 0.0051 - acc: 0.9997 - val_loss: 0.6106 - val_acc: 0.8718\n",
      "Epoch 16/20\n",
      "15000/15000 [==============================] - 7s 485us/step - loss: 0.0143 - acc: 0.9960 - val_loss: 0.6432 - val_acc: 0.8702\n",
      "Epoch 17/20\n",
      "15000/15000 [==============================] - 7s 489us/step - loss: 0.0027 - acc: 0.9999 - val_loss: 0.6733 - val_acc: 0.8680\n",
      "Epoch 18/20\n",
      "15000/15000 [==============================] - 8s 539us/step - loss: 0.0116 - acc: 0.9959 - val_loss: 0.7214 - val_acc: 0.8656\n",
      "Epoch 19/20\n",
      "15000/15000 [==============================] - 8s 505us/step - loss: 0.0015 - acc: 1.0000 - val_loss: 0.7335 - val_acc: 0.8683\n",
      "Epoch 20/20\n",
      "15000/15000 [==============================] - 7s 494us/step - loss: 0.0011 - acc: 1.0000 - val_loss: 0.7756 - val_acc: 0.8677\n"
     ]
    }
   ],
   "source": [
    "model = models.Sequential()\n",
    "model.add(layers.Dense(32, activation='relu', input_shape=(10000,)))\n",
    "model.add(layers.Dense(32, activation='relu'))\n",
    "model.add(layers.Dense(1, activation='sigmoid'))\n",
    "\n",
    "model.compile(optimizer='rmsprop',\n",
    "              loss='binary_crossentropy',\n",
    "              metrics=['acc'])\n",
    "\n",
    "history = model.fit(partial_x_train,\n",
    "                    partial_y_train,\n",
    "                    epochs=20,\n",
    "                    batch_size=512,\n",
    "                    validation_data=(x_val, y_val))"
   ]
  },
  {
   "cell_type": "code",
   "execution_count": 36,
   "metadata": {},
   "outputs": [
    {
     "data": {
      "image/png": "[encoded data removed]",
      "text/plain": [
       "<matplotlib.figure.Figure at 0x1924f11c0f0>"
      ]
     },
     "metadata": {},
     "output_type": "display_data"
    }
   ],
   "source": [
    "history_dict = history.history\n",
    "loss_values = history_dict['loss']\n",
    "val_loss_values = history_dict['val_loss']\n",
    "\n",
    "epochs = range(1, len(history_dict['acc']) + 1)\n",
    "\n",
    "plt.plot(epochs, loss_values, 'bo', label='Training loss')\n",
    "plt.plot(epochs, val_loss_values, 'b', label='Validation loss')\n",
    "plt.title('Training and validation loss')\n",
    "plt.xlabel('Epochs')\n",
    "plt.ylabel('Loss')\n",
    "plt.legend()\n",
    "\n",
    "plt.show()"
   ]
  },
  {
   "cell_type": "code",
   "execution_count": 37,
   "metadata": {},
   "outputs": [
    {
     "data": {
      "image/png": "[encoded data removed]",
      "text/plain": [
       "<matplotlib.figure.Figure at 0x1924e8bee10>"
      ]
     },
     "metadata": {},
     "output_type": "display_data"
    }
   ],
   "source": [
    "plt.clf()\n",
    "acc_values = history_dict['acc']\n",
    "val_acc_values = history_dict['val_acc']\n",
    "\n",
    "plt.plot(epochs, acc_values, 'bo', label='Training acc')\n",
    "plt.plot(epochs, val_acc_values, 'b', label='Validation acc')\n",
    "plt.title('Training and validation accuracy')\n",
    "plt.xlabel('Epochs')\n",
    "plt.ylabel('Accuracy')\n",
    "plt.legend()\n",
    "\n",
    "plt.show()"
   ]
  },
  {
   "cell_type": "code",
   "execution_count": 38,
   "metadata": {},
   "outputs": [
    {
     "name": "stdout",
     "output_type": "stream",
     "text": [
      "Epoch 1/3\n",
      "25000/25000 [==============================] - 7s 297us/step - loss: 0.2308 - acc: 0.9465\n",
      "Epoch 2/3\n",
      "25000/25000 [==============================] - 7s 278us/step - loss: 0.1216 - acc: 0.9649\n",
      "Epoch 3/3\n",
      "25000/25000 [==============================] - 7s 272us/step - loss: 0.0892 - acc: 0.9743\n",
      "25000/25000 [==============================] - 20s 817us/step\n"
     ]
    },
    {
     "data": {
      "text/plain": [
       "[0.46586409010410307, 0.86148]"
      ]
     },
     "execution_count": 38,
     "metadata": {},
     "output_type": "execute_result"
    }
   ],
   "source": [
    "model.fit(x_train, y_train, epochs=3, batch_size=512)\n",
    "results = model.evaluate(x_test, y_test)\n",
    "results"
   ]
  },
  {
   "cell_type": "markdown",
   "metadata": {},
   "source": [
    "Точность оставляет желать лучшего  \n",
    "Попробуем упростить"
   ]
  },
  {
   "cell_type": "code",
   "execution_count": 29,
   "metadata": {
    "scrolled": true
   },
   "outputs": [
    {
     "name": "stdout",
     "output_type": "stream",
     "text": [
      "Train on 15000 samples, validate on 10000 samples\n",
      "Epoch 1/20\n",
      "15000/15000 [==============================] - 10s 644us/step - loss: 0.5376 - acc: 0.7903 - val_loss: 0.4396 - val_acc: 0.8471\n",
      "Epoch 2/20\n",
      "15000/15000 [==============================] - 7s 476us/step - loss: 0.3687 - acc: 0.8917 - val_loss: 0.3621 - val_acc: 0.8726\n",
      "Epoch 3/20\n",
      "15000/15000 [==============================] - 7s 477us/step - loss: 0.2942 - acc: 0.9126 - val_loss: 0.3227 - val_acc: 0.8806\n",
      "Epoch 4/20\n",
      "15000/15000 [==============================] - 7s 460us/step - loss: 0.2459 - acc: 0.9267 - val_loss: 0.2946 - val_acc: 0.8878\n",
      "Epoch 5/20\n",
      "15000/15000 [==============================] - 7s 456us/step - loss: 0.2121 - acc: 0.9364 - val_loss: 0.2825 - val_acc: 0.8893\n",
      "Epoch 6/20\n",
      "15000/15000 [==============================] - 6s 432us/step - loss: 0.1860 - acc: 0.9427 - val_loss: 0.2781 - val_acc: 0.8888\n",
      "Epoch 7/20\n",
      "15000/15000 [==============================] - 7s 448us/step - loss: 0.1652 - acc: 0.9509 - val_loss: 0.2741 - val_acc: 0.8912\n",
      "Epoch 8/20\n",
      "15000/15000 [==============================] - 7s 498us/step - loss: 0.1483 - acc: 0.9567 - val_loss: 0.2740 - val_acc: 0.8908\n",
      "Epoch 9/20\n",
      "15000/15000 [==============================] - 6s 423us/step - loss: 0.1337 - acc: 0.9622 - val_loss: 0.2774 - val_acc: 0.8888\n",
      "Epoch 10/20\n",
      "15000/15000 [==============================] - 6s 417us/step - loss: 0.1208 - acc: 0.9664 - val_loss: 0.2828 - val_acc: 0.8869\n",
      "Epoch 11/20\n",
      "15000/15000 [==============================] - 6s 413us/step - loss: 0.1093 - acc: 0.9709 - val_loss: 0.2937 - val_acc: 0.8856\n",
      "Epoch 12/20\n",
      "15000/15000 [==============================] - 6s 415us/step - loss: 0.0995 - acc: 0.9737 - val_loss: 0.2954 - val_acc: 0.8846\n",
      "Epoch 13/20\n",
      "15000/15000 [==============================] - 6s 428us/step - loss: 0.0907 - acc: 0.9775 - val_loss: 0.3052 - val_acc: 0.8856\n",
      "Epoch 14/20\n",
      "15000/15000 [==============================] - 6s 411us/step - loss: 0.0825 - acc: 0.9796 - val_loss: 0.3121 - val_acc: 0.8836\n",
      "Epoch 15/20\n",
      "15000/15000 [==============================] - 6s 415us/step - loss: 0.0753 - acc: 0.9820 - val_loss: 0.3195 - val_acc: 0.8840\n",
      "Epoch 16/20\n",
      "15000/15000 [==============================] - 6s 429us/step - loss: 0.0684 - acc: 0.9850 - val_loss: 0.3287 - val_acc: 0.8812\n",
      "Epoch 17/20\n",
      "15000/15000 [==============================] - 6s 423us/step - loss: 0.0623 - acc: 0.9873 - val_loss: 0.3438 - val_acc: 0.8783\n",
      "Epoch 18/20\n",
      "15000/15000 [==============================] - 6s 420us/step - loss: 0.0569 - acc: 0.9884 - val_loss: 0.3512 - val_acc: 0.8791\n",
      "Epoch 19/20\n",
      "15000/15000 [==============================] - 6s 423us/step - loss: 0.0515 - acc: 0.9892 - val_loss: 0.3647 - val_acc: 0.8769\n",
      "Epoch 20/20\n",
      "15000/15000 [==============================] - 6s 424us/step - loss: 0.0471 - acc: 0.9912 - val_loss: 0.3733 - val_acc: 0.8787\n"
     ]
    }
   ],
   "source": [
    "model = models.Sequential()\n",
    "model.add(layers.Dense(8, activation='relu', input_shape=(10000,)))\n",
    "model.add(layers.Dense(1, activation='sigmoid'))\n",
    "\n",
    "model.compile(optimizer='rmsprop',\n",
    "              loss='binary_crossentropy',\n",
    "              metrics=['acc'])\n",
    "\n",
    "history = model.fit(partial_x_train,\n",
    "                    partial_y_train,\n",
    "                    epochs=20,\n",
    "                    batch_size=512,\n",
    "                    validation_data=(x_val, y_val))"
   ]
  },
  {
   "cell_type": "code",
   "execution_count": 30,
   "metadata": {},
   "outputs": [
    {
     "data": {
      "image/png": "[encoded data removed]",
      "text/plain": [
       "<matplotlib.figure.Figure at 0x1924f0bf160>"
      ]
     },
     "metadata": {},
     "output_type": "display_data"
    }
   ],
   "source": [
    "history_dict = history.history\n",
    "loss_values = history_dict['loss']\n",
    "val_loss_values = history_dict['val_loss']\n",
    "\n",
    "epochs = range(1, len(history_dict['acc']) + 1)\n",
    "\n",
    "plt.plot(epochs, loss_values, 'bo', label='Training loss')\n",
    "plt.plot(epochs, val_loss_values, 'b', label='Validation loss')\n",
    "plt.title('Training and validation loss')\n",
    "plt.xlabel('Epochs')\n",
    "plt.ylabel('Loss')\n",
    "plt.legend()\n",
    "\n",
    "plt.show()"
   ]
  },
  {
   "cell_type": "code",
   "execution_count": 31,
   "metadata": {},
   "outputs": [
    {
     "data": {
      "image/png": "[encoded data removed]",
      "text/plain": [
       "<matplotlib.figure.Figure at 0x192454474a8>"
      ]
     },
     "metadata": {},
     "output_type": "display_data"
    }
   ],
   "source": [
    "plt.clf()\n",
    "acc_values = history_dict['acc']\n",
    "val_acc_values = history_dict['val_acc']\n",
    "\n",
    "plt.plot(epochs, acc_values, 'bo', label='Training acc')\n",
    "plt.plot(epochs, val_acc_values, 'b', label='Validation acc')\n",
    "plt.title('Training and validation accuracy')\n",
    "plt.xlabel('Epochs')\n",
    "plt.ylabel('Accuracy')\n",
    "plt.legend()\n",
    "\n",
    "plt.show()"
   ]
  },
  {
   "cell_type": "code",
   "execution_count": 34,
   "metadata": {},
   "outputs": [
    {
     "name": "stdout",
     "output_type": "stream",
     "text": [
      "Epoch 1/5\n",
      "25000/25000 [==============================] - 8s 301us/step - loss: 0.0589 - acc: 0.9842\n",
      "Epoch 2/5\n",
      "25000/25000 [==============================] - 8s 308us/step - loss: 0.0548 - acc: 0.9863\n",
      "Epoch 3/5\n",
      "25000/25000 [==============================] - 8s 310us/step - loss: 0.0515 - acc: 0.9870\n",
      "Epoch 4/5\n",
      "25000/25000 [==============================] - 8s 317us/step - loss: 0.0480 - acc: 0.9884 4s\n",
      "Epoch 5/5\n",
      "25000/25000 [==============================] - 8s 323us/step - loss: 0.0446 - acc: 0.9892\n",
      "25000/25000 [==============================] - 8s 318us/step\n"
     ]
    },
    {
     "data": {
      "text/plain": [
       "[0.571857354798317, 0.8524]"
      ]
     },
     "execution_count": 34,
     "metadata": {},
     "output_type": "execute_result"
    }
   ],
   "source": [
    "model.fit(x_train, y_train, epochs=5, batch_size=512)\n",
    "results = model.evaluate(x_test, y_test)\n",
    "results"
   ]
  },
  {
   "cell_type": "markdown",
   "metadata": {},
   "source": [
    "Тоже не помогло\n",
    "Пока лучший вариант: два слоя по 16"
   ]
  },
  {
   "cell_type": "markdown",
   "metadata": {},
   "source": [
    "** Использование MSE вместо binary_crossentropy **  \n",
    "***используем самую удачную из моделей: 2 слоя по 16***"
   ]
  },
  {
   "cell_type": "code",
   "execution_count": 42,
   "metadata": {},
   "outputs": [
    {
     "name": "stdout",
     "output_type": "stream",
     "text": [
      "Train on 15000 samples, validate on 10000 samples\n",
      "Epoch 1/4\n",
      "15000/15000 [==============================] - 10s 648us/step - loss: 0.1744 - acc: 0.7794 - val_loss: 0.1208 - val_acc: 0.8720\n",
      "Epoch 2/4\n",
      "15000/15000 [==============================] - 6s 421us/step - loss: 0.0935 - acc: 0.9025 - val_loss: 0.0959 - val_acc: 0.8875\n",
      "Epoch 3/4\n",
      "15000/15000 [==============================] - 7s 437us/step - loss: 0.0676 - acc: 0.9271 - val_loss: 0.0864 - val_acc: 0.8912\n",
      "Epoch 4/4\n",
      "15000/15000 [==============================] - 8s 518us/step - loss: 0.0520 - acc: 0.9455 - val_loss: 0.0872 - val_acc: 0.8838\n",
      "25000/25000 [==============================] - 12s 469us/step\n"
     ]
    },
    {
     "data": {
      "text/plain": [
       "[0.09379273867607117, 0.87416]"
      ]
     },
     "execution_count": 42,
     "metadata": {},
     "output_type": "execute_result"
    }
   ],
   "source": [
    "model = models.Sequential()\n",
    "model.add(layers.Dense(16, activation='relu', input_shape=(10000,)))\n",
    "model.add(layers.Dense(16, activation='relu'))\n",
    "model.add(layers.Dense(1, activation='sigmoid'))\n",
    "\n",
    "model.compile(optimizer='rmsprop',\n",
    "              loss='mean_squared_error',\n",
    "              metrics=['accuracy'])\n",
    "\n",
    "history = model.fit(partial_x_train, partial_y_train, epochs=4, batch_size=512, validation_data=(x_val, y_val))\n",
    "results = model.evaluate(x_test, y_test)\n",
    "results"
   ]
  },
  {
   "cell_type": "markdown",
   "metadata": {},
   "source": [
    "Точность с изменением функции потерь незначительно повысилась  \n",
    "Оба варианта хорошо подходят для задачи\n",
    "MSE - универсальная функция"
   ]
  },
  {
   "cell_type": "markdown",
   "metadata": {},
   "source": [
    "** ИЗменение функции активации на tanh  **"
   ]
  },
  {
   "cell_type": "code",
   "execution_count": 43,
   "metadata": {},
   "outputs": [
    {
     "name": "stdout",
     "output_type": "stream",
     "text": [
      "Train on 15000 samples, validate on 10000 samples\n",
      "Epoch 1/4\n",
      "15000/15000 [==============================] - 9s 614us/step - loss: 0.1707 - acc: 0.7541 - val_loss: 0.1126 - val_acc: 0.8642\n",
      "Epoch 2/4\n",
      "15000/15000 [==============================] - 6s 397us/step - loss: 0.0831 - acc: 0.9004 - val_loss: 0.0959 - val_acc: 0.8688\n",
      "Epoch 3/4\n",
      "15000/15000 [==============================] - 6s 393us/step - loss: 0.0578 - acc: 0.9339 - val_loss: 0.0848 - val_acc: 0.8878\n",
      "Epoch 4/4\n",
      "15000/15000 [==============================] - 6s 369us/step - loss: 0.0428 - acc: 0.9531 - val_loss: 0.0839 - val_acc: 0.8863\n",
      "25000/25000 [==============================] - 19s 765us/step\n"
     ]
    },
    {
     "data": {
      "text/plain": [
       "[0.0902236118888855, 0.8794]"
      ]
     },
     "execution_count": 43,
     "metadata": {},
     "output_type": "execute_result"
    }
   ],
   "source": [
    "model = models.Sequential()\n",
    "model.add(layers.Dense(16, activation='relu', input_shape=(10000,)))\n",
    "model.add(layers.Dense(16, activation='relu'))\n",
    "model.add(layers.Dense(1, activation='tanh'))\n",
    "\n",
    "model.compile(optimizer='rmsprop',\n",
    "              loss='mean_squared_error',\n",
    "              metrics=['accuracy'])\n",
    "\n",
    "history = model.fit(partial_x_train, partial_y_train, epochs=4, batch_size=512, validation_data=(x_val, y_val))\n",
    "results = model.evaluate(x_test, y_test)\n",
    "results"
   ]
  },
  {
   "cell_type": "markdown",
   "metadata": {},
   "source": [
    "Небольшое улучшение - теперь почти 0.88"
   ]
  },
  {
   "cell_type": "markdown",
   "metadata": {
    "colab_type": "text",
    "id": "UwbRQ95OVNEp",
    "slideshow": {
     "slide_type": "slide"
    }
   },
   "source": [
    "## Classifying newswires: a multiclass classification example"
   ]
  },
  {
   "cell_type": "markdown",
   "metadata": {
    "colab_type": "text",
    "id": "O2LU1K56VNEp",
    "slideshow": {
     "slide_type": "slide"
    }
   },
   "source": [
    "### The Reuters dataset\n",
    "\n",
    "You’ll work with the Reuters dataset, a set of short newswires and their topics, published by Reuters in 1986. It’s a simple, widely used toy dataset for text classification. There are 46 different topics; some topics are more represented than others, but each topic has at least 10 examples in the training set.\n",
    "\n",
    "Like IMDB and MNIST, the Reuters dataset comes packaged as part of Keras. Let’s take a look.\n",
    "\n"
   ]
  },
  {
   "cell_type": "code",
   "execution_count": 1,
   "metadata": {
    "colab": {},
    "colab_type": "code",
    "id": "xbo7GK_bVNEr",
    "outputId": "aeee09ad-680b-470b-c7ff-938c1af2d010",
    "slideshow": {
     "slide_type": "fragment"
    }
   },
   "outputs": [
    {
     "name": "stderr",
     "output_type": "stream",
     "text": [
      "C:\\ProgramData\\Anaconda3\\lib\\site-packages\\h5py\\__init__.py:34: FutureWarning: Conversion of the second argument of issubdtype from `float` to `np.floating` is deprecated. In future, it will be treated as `np.float64 == np.dtype(float).type`.\n",
      "  from ._conv import register_converters as _register_converters\n",
      "Using TensorFlow backend.\n"
     ]
    }
   ],
   "source": [
    "from keras.datasets import reuters\n",
    "\n",
    "(train_data, train_labels), (test_data, test_labels) = reuters.load_data(\n",
    "    num_words=10000)"
   ]
  },
  {
   "cell_type": "code",
   "execution_count": 2,
   "metadata": {
    "colab": {},
    "colab_type": "code",
    "id": "BZ04Xa6BVNEv",
    "outputId": "4af7acd1-1b88-46a0-b8c6-6124ca6486f0",
    "slideshow": {
     "slide_type": "fragment"
    }
   },
   "outputs": [
    {
     "name": "stdout",
     "output_type": "stream",
     "text": [
      "Training examples: 8982\n",
      "Test examples: 2246\n"
     ]
    }
   ],
   "source": [
    "print(\"Training examples: {}\".format(len(train_data)))\n",
    "print(\"Test examples: {}\".format(len(test_data)))"
   ]
  },
  {
   "cell_type": "code",
   "execution_count": 4,
   "metadata": {
    "colab": {},
    "colab_type": "code",
    "id": "96_oqKVmVNE1",
    "outputId": "2f7c6875-0a02-49e8-9698-9f78ba8739fa",
    "slideshow": {
     "slide_type": "fragment"
    }
   },
   "outputs": [
    {
     "data": {
      "text/plain": [
       "'? period ended december 31 shr profit 11 cts vs loss 24 cts net profit 224 271 vs loss 511 349 revs 7 258 688 vs 7 200 349 reuter 3'"
      ]
     },
     "execution_count": 4,
     "metadata": {},
     "output_type": "execute_result"
    }
   ],
   "source": [
    "word_index = reuters.get_word_index()\n",
    "reverse_word_index = dict([(value, key) for (key, value) in word_index.items()])\n",
    "decoded_newswire = ' '.join([reverse_word_index.get(i - 3, '?') for i in\n",
    "    train_data[10]])\n",
    "decoded_newswire\n"
   ]
  },
  {
   "cell_type": "markdown",
   "metadata": {
    "colab_type": "text",
    "id": "x3HtOySJVNE6",
    "slideshow": {
     "slide_type": "slide"
    }
   },
   "source": [
    "### Preparing the data\n",
    "\n",
    "You can vectorize the data with the exact same code as in the previous example."
   ]
  },
  {
   "cell_type": "code",
   "execution_count": 6,
   "metadata": {
    "colab": {},
    "colab_type": "code",
    "collapsed": true,
    "id": "gSmC2IbQVNE7",
    "slideshow": {
     "slide_type": "fragment"
    }
   },
   "outputs": [],
   "source": [
    "import numpy as np\n",
    "\n",
    "def vectorize_sequences(sequences, dimension=10000):\n",
    "    results = np.zeros((len(sequences), dimension))\n",
    "    for i, sequence in enumerate(sequences):\n",
    "        results[i, sequence] = 1.\n",
    "    return results\n",
    "\n",
    "x_train = vectorize_sequences(train_data)\n",
    "x_test = vectorize_sequences(test_data)\n"
   ]
  },
  {
   "cell_type": "code",
   "execution_count": 8,
   "metadata": {
    "colab": {},
    "colab_type": "code",
    "collapsed": true,
    "id": "wblPwb9GVNFF",
    "slideshow": {
     "slide_type": "fragment"
    }
   },
   "outputs": [],
   "source": [
    "from keras.utils.np_utils import to_categorical\n",
    "\n",
    "one_hot_train_labels = to_categorical(train_labels)\n",
    "one_hot_test_labels = to_categorical(test_labels)"
   ]
  },
  {
   "cell_type": "code",
   "execution_count": 9,
   "metadata": {
    "colab": {},
    "colab_type": "code",
    "collapsed": true,
    "id": "D6l81vNZVNFK",
    "slideshow": {
     "slide_type": "fragment"
    }
   },
   "outputs": [],
   "source": [
    "from keras import models\n",
    "from keras import layers\n",
    "\n",
    "model = models.Sequential()\n",
    "model.add(layers.Dense(64, activation='relu', input_shape=(10000,)))\n",
    "model.add(layers.Dense(64, activation='relu'))\n",
    "model.add(layers.Dense(46, activation='softmax'))"
   ]
  },
  {
   "cell_type": "code",
   "execution_count": 10,
   "metadata": {
    "colab": {},
    "colab_type": "code",
    "collapsed": true,
    "id": "ybW-gluhVNFQ",
    "slideshow": {
     "slide_type": "fragment"
    }
   },
   "outputs": [],
   "source": [
    "model.compile(optimizer='rmsprop',\n",
    "              loss='categorical_crossentropy',\n",
    "              metrics=['accuracy'])"
   ]
  },
  {
   "cell_type": "code",
   "execution_count": 11,
   "metadata": {
    "colab": {},
    "colab_type": "code",
    "collapsed": true,
    "id": "zqV7ztSrVNFT",
    "slideshow": {
     "slide_type": "fragment"
    }
   },
   "outputs": [],
   "source": [
    "x_val = x_train[:1000]\n",
    "partial_x_train = x_train[1000:]\n",
    "\n",
    "y_val = one_hot_train_labels[:1000]\n",
    "partial_y_train = one_hot_train_labels[1000:]"
   ]
  },
  {
   "cell_type": "code",
   "execution_count": 12,
   "metadata": {
    "colab": {},
    "colab_type": "code",
    "collapsed": true,
    "id": "5ZE9ZsMeVNFX",
    "outputId": "6efb45ee-cf3a-4891-ee18-dce50c9b2229",
    "slideshow": {
     "slide_type": "fragment"
    }
   },
   "outputs": [
    {
     "name": "stdout",
     "output_type": "stream",
     "text": [
      "Train on 7982 samples, validate on 1000 samples\n",
      "Epoch 1/20\n",
      "7982/7982 [==============================] - 7s 912us/step - loss: 2.5305 - acc: 0.4955 - val_loss: 1.7222 - val_acc: 0.6130\n",
      "Epoch 2/20\n",
      "7982/7982 [==============================] - 3s 418us/step - loss: 1.4475 - acc: 0.6872 - val_loss: 1.3482 - val_acc: 0.7070\n",
      "Epoch 3/20\n",
      "7982/7982 [==============================] - 3s 416us/step - loss: 1.0979 - acc: 0.7641 - val_loss: 1.1721 - val_acc: 0.7420\n",
      "Epoch 4/20\n",
      "7982/7982 [==============================] - 4s 468us/step - loss: 0.8715 - acc: 0.8156 - val_loss: 1.0779 - val_acc: 0.7590\n",
      "Epoch 5/20\n",
      "7982/7982 [==============================] - 5s 663us/step - loss: 0.7048 - acc: 0.8478 - val_loss: 0.9843 - val_acc: 0.7770\n",
      "Epoch 6/20\n",
      "7982/7982 [==============================] - 3s 413us/step - loss: 0.5670 - acc: 0.8799 - val_loss: 0.9411 - val_acc: 0.8040\n",
      "Epoch 7/20\n",
      "7982/7982 [==============================] - 3s 364us/step - loss: 0.4585 - acc: 0.9048 - val_loss: 0.9080 - val_acc: 0.8010\n",
      "Epoch 8/20\n",
      "7982/7982 [==============================] - 3s 420us/step - loss: 0.3699 - acc: 0.9236 - val_loss: 0.9380 - val_acc: 0.7880\n",
      "Epoch 9/20\n",
      "7982/7982 [==============================] - 3s 403us/step - loss: 0.3037 - acc: 0.9313 - val_loss: 0.8915 - val_acc: 0.8050\n",
      "Epoch 10/20\n",
      "7982/7982 [==============================] - 4s 457us/step - loss: 0.2544 - acc: 0.9414 - val_loss: 0.9061 - val_acc: 0.8130\n",
      "Epoch 11/20\n",
      "7982/7982 [==============================] - 3s 376us/step - loss: 0.2188 - acc: 0.9476 - val_loss: 0.9173 - val_acc: 0.8130\n",
      "Epoch 12/20\n",
      "7982/7982 [==============================] - 3s 423us/step - loss: 0.1878 - acc: 0.9509 - val_loss: 0.9063 - val_acc: 0.8140\n",
      "Epoch 13/20\n",
      "7982/7982 [==============================] - 4s 463us/step - loss: 0.1704 - acc: 0.9523 - val_loss: 0.9348 - val_acc: 0.8100\n",
      "Epoch 14/20\n",
      "7982/7982 [==============================] - 3s 414us/step - loss: 0.1538 - acc: 0.9553 - val_loss: 0.9657 - val_acc: 0.8070\n",
      "Epoch 15/20\n",
      "7982/7982 [==============================] - 3s 413us/step - loss: 0.1393 - acc: 0.9560 - val_loss: 0.9716 - val_acc: 0.8130\n",
      "Epoch 16/20\n",
      "7982/7982 [==============================] - 3s 408us/step - loss: 0.1317 - acc: 0.9562 - val_loss: 1.0254 - val_acc: 0.8030\n",
      "Epoch 17/20\n",
      "7982/7982 [==============================] - 3s 367us/step - loss: 0.1217 - acc: 0.9580 - val_loss: 1.0271 - val_acc: 0.7990\n",
      "Epoch 18/20\n",
      "7982/7982 [==============================] - 3s 359us/step - loss: 0.1200 - acc: 0.9579 - val_loss: 1.0433 - val_acc: 0.8050\n",
      "Epoch 19/20\n",
      "7982/7982 [==============================] - 3s 353us/step - loss: 0.1141 - acc: 0.9593 - val_loss: 1.1012 - val_acc: 0.7990\n",
      "Epoch 20/20\n",
      "7982/7982 [==============================] - 3s 428us/step - loss: 0.1112 - acc: 0.9590 - val_loss: 1.0729 - val_acc: 0.8010\n"
     ]
    }
   ],
   "source": [
    "history = model.fit(partial_x_train,\n",
    "                    partial_y_train,\n",
    "                    epochs=20,\n",
    "                    batch_size=512,\n",
    "                    validation_data=(x_val, y_val)\n",
    "                   )"
   ]
  },
  {
   "cell_type": "code",
   "execution_count": 13,
   "metadata": {
    "colab": {},
    "colab_type": "code",
    "id": "J97BZfHsVNFb",
    "outputId": "cd433677-d8a1-439b-a315-f09f8c7ea68a",
    "slideshow": {
     "slide_type": "subslide"
    }
   },
   "outputs": [
    {
     "data": {
      "image/png": "[encoded data removed]",
      "text/plain": [
       "<matplotlib.figure.Figure at 0x1ef6940e978>"
      ]
     },
     "metadata": {},
     "output_type": "display_data"
    }
   ],
   "source": [
    "import matplotlib.pyplot as plt\n",
    "\n",
    "loss = history.history['loss']\n",
    "val_loss = history.history['val_loss']\n",
    "\n",
    "epochs = range(1, len(loss) + 1)\n",
    "\n",
    "plt.plot(epochs, loss, 'bo', label='Training loss')\n",
    "plt.plot(epochs, val_loss, 'b', label='Validation loss')\n",
    "plt.title('Training and validation loss')\n",
    "plt.xlabel('Epochs')\n",
    "plt.ylabel('Loss')\n",
    "plt.legend()\n",
    "\n",
    "plt.show()"
   ]
  },
  {
   "cell_type": "code",
   "execution_count": 14,
   "metadata": {
    "colab": {},
    "colab_type": "code",
    "id": "luvMjnbRVNFh",
    "outputId": "24d66a53-d1be-4fe9-f576-b7abf7c7b7b0",
    "slideshow": {
     "slide_type": "subslide"
    }
   },
   "outputs": [
    {
     "data": {
      "image/png": "[encoded data removed]",
      "text/plain": [
       "<matplotlib.figure.Figure at 0x1ef6940e7f0>"
      ]
     },
     "metadata": {},
     "output_type": "display_data"
    }
   ],
   "source": [
    "plt.clf()\n",
    "\n",
    "acc = history.history['acc']\n",
    "val_acc = history.history['val_acc']\n",
    "\n",
    "plt.plot(epochs, acc, 'bo', label='Training acc')\n",
    "plt.plot(epochs, val_acc, 'b', label='Validation acc')\n",
    "plt.title('Training and validation accuracy')\n",
    "plt.xlabel('Epochs')\n",
    "plt.ylabel('Loss')\n",
    "plt.legend()\n",
    "\n",
    "plt.show()\n"
   ]
  },
  {
   "cell_type": "markdown",
   "metadata": {
    "colab_type": "text",
    "id": "yXyG4WzWVNFk",
    "slideshow": {
     "slide_type": "subslide"
    }
   },
   "source": [
    "Let’s train a new network from scratch for nine epochs and then evaluate it on the test set."
   ]
  },
  {
   "cell_type": "code",
   "execution_count": 15,
   "metadata": {
    "colab": {},
    "colab_type": "code",
    "id": "QZbiy4uGVNFn",
    "outputId": "056bf6ff-bfd3-4007-d78f-c3a8c316b547",
    "slideshow": {
     "slide_type": "fragment"
    }
   },
   "outputs": [
    {
     "name": "stdout",
     "output_type": "stream",
     "text": [
      "Train on 7982 samples, validate on 1000 samples\n",
      "Epoch 1/9\n",
      "7982/7982 [==============================] - 7s 845us/step - loss: 2.5391 - acc: 0.5229 - val_loss: 1.6722 - val_acc: 0.6560\n",
      "Epoch 2/9\n",
      "7982/7982 [==============================] - 4s 467us/step - loss: 1.3702 - acc: 0.7122 - val_loss: 1.2740 - val_acc: 0.7240\n",
      "Epoch 3/9\n",
      "7982/7982 [==============================] - 4s 489us/step - loss: 1.0127 - acc: 0.7790 - val_loss: 1.1318 - val_acc: 0.7520\n",
      "Epoch 4/9\n",
      "7982/7982 [==============================] - 4s 522us/step - loss: 0.7975 - acc: 0.8250 - val_loss: 1.0534 - val_acc: 0.7600\n",
      "Epoch 5/9\n",
      "7982/7982 [==============================] - 4s 527us/step - loss: 0.6391 - acc: 0.8634 - val_loss: 0.9740 - val_acc: 0.7930\n",
      "Epoch 6/9\n",
      "7982/7982 [==============================] - 5s 566us/step - loss: 0.5118 - acc: 0.8920 - val_loss: 0.9103 - val_acc: 0.8120\n",
      "Epoch 7/9\n",
      "7982/7982 [==============================] - 3s 354us/step - loss: 0.4119 - acc: 0.9144 - val_loss: 0.8914 - val_acc: 0.8210\n",
      "Epoch 8/9\n",
      "7982/7982 [==============================] - 3s 392us/step - loss: 0.3353 - acc: 0.9288 - val_loss: 0.8722 - val_acc: 0.8290\n",
      "Epoch 9/9\n",
      "7982/7982 [==============================] - 3s 383us/step - loss: 0.2779 - acc: 0.9375 - val_loss: 0.9363 - val_acc: 0.8010\n",
      "2246/2246 [==============================] - 2s 702us/step\n"
     ]
    },
    {
     "data": {
      "text/plain": [
       "[1.0254030081170644, 0.7756010686194165]"
      ]
     },
     "execution_count": 15,
     "metadata": {},
     "output_type": "execute_result"
    }
   ],
   "source": [
    "model = models.Sequential()\n",
    "model.add(layers.Dense(64, activation='relu', input_shape=(10000,)))\n",
    "model.add(layers.Dense(64, activation='relu'))\n",
    "model.add(layers.Dense(46, activation='softmax'))\n",
    "\n",
    "model.compile(optimizer='rmsprop',\n",
    "              loss='categorical_crossentropy',\n",
    "              metrics=['accuracy'])\n",
    "model.fit(partial_x_train,\n",
    "          partial_y_train,\n",
    "          epochs=9,\n",
    "          batch_size=512,\n",
    "          validation_data=(x_val, y_val))\n",
    "results = model.evaluate(x_test, one_hot_test_labels)\n",
    "results"
   ]
  },
  {
   "cell_type": "markdown",
   "metadata": {
    "colab_type": "text",
    "id": "xd_wtN71VNFs",
    "slideshow": {
     "slide_type": "fragment"
    }
   },
   "source": [
    "This approach reaches an accuracy of ~78%. With a balanced binary classification problem, the accuracy reached by a purely random classifier would be 50%. But in this case it’s closer to 19%, so the results seem pretty good."
   ]
  },
  {
   "cell_type": "markdown",
   "metadata": {
    "colab_type": "text",
    "id": "jwDjx8zzVNGE",
    "slideshow": {
     "slide_type": "slide"
    }
   },
   "source": [
    "### Further experiments (Hometask)\n",
    "\n",
    "* Try using larger or smaller layers: 32 units, 128 units, and so on.\n",
    "* You used two hidden layers. Now try using a single hidden layer, or three hidden layers."
   ]
  },
  {
   "cell_type": "code",
   "execution_count": 23,
   "metadata": {},
   "outputs": [
    {
     "name": "stdout",
     "output_type": "stream",
     "text": [
      "Train on 7982 samples, validate on 1000 samples\n",
      "Epoch 1/20\n",
      "7982/7982 [==============================] - 7s 896us/step - loss: 3.0740 - acc: 0.4766 - val_loss: 2.3793 - val_acc: 0.5950\n",
      "Epoch 2/20\n",
      "7982/7982 [==============================] - 4s 496us/step - loss: 2.0120 - acc: 0.6111 - val_loss: 1.7396 - val_acc: 0.6210\n",
      "Epoch 3/20\n",
      "7982/7982 [==============================] - 4s 491us/step - loss: 1.4983 - acc: 0.6756 - val_loss: 1.4267 - val_acc: 0.6790\n",
      "Epoch 4/20\n",
      "7982/7982 [==============================] - 5s 616us/step - loss: 1.2135 - acc: 0.7413 - val_loss: 1.2647 - val_acc: 0.7080\n",
      "Epoch 5/20\n",
      "7982/7982 [==============================] - 4s 486us/step - loss: 1.0281 - acc: 0.7850 - val_loss: 1.1583 - val_acc: 0.7390\n",
      "Epoch 6/20\n",
      "7982/7982 [==============================] - 4s 499us/step - loss: 0.8829 - acc: 0.8191 - val_loss: 1.0864 - val_acc: 0.7600\n",
      "Epoch 7/20\n",
      "7982/7982 [==============================] - 3s 419us/step - loss: 0.7645 - acc: 0.8440 - val_loss: 1.0400 - val_acc: 0.7770\n",
      "Epoch 8/20\n",
      "7982/7982 [==============================] - 3s 429us/step - loss: 0.6618 - acc: 0.8638 - val_loss: 0.9932 - val_acc: 0.7880\n",
      "Epoch 9/20\n",
      "7982/7982 [==============================] - 6s 747us/step - loss: 0.5736 - acc: 0.8831 - val_loss: 0.9710 - val_acc: 0.7890\n",
      "Epoch 10/20\n",
      "7982/7982 [==============================] - 6s 732us/step - loss: 0.4984 - acc: 0.8981 - val_loss: 0.9395 - val_acc: 0.8040\n",
      "Epoch 11/20\n",
      "7982/7982 [==============================] - 5s 662us/step - loss: 0.4340 - acc: 0.9103 - val_loss: 0.9419 - val_acc: 0.7950\n",
      "Epoch 12/20\n",
      "7982/7982 [==============================] - 6s 723us/step - loss: 0.3796 - acc: 0.9204 - val_loss: 0.9058 - val_acc: 0.8110\n",
      "Epoch 13/20\n",
      "7982/7982 [==============================] - 8s 1ms/step - loss: 0.3330 - acc: 0.9272 - val_loss: 0.9144 - val_acc: 0.8080\n",
      "Epoch 14/20\n",
      "7982/7982 [==============================] - 8s 941us/step - loss: 0.2913 - acc: 0.9356 - val_loss: 0.9096 - val_acc: 0.8090\n",
      "Epoch 15/20\n",
      "7982/7982 [==============================] - 6s 736us/step - loss: 0.2614 - acc: 0.9405 - val_loss: 0.9301 - val_acc: 0.8050\n",
      "Epoch 16/20\n",
      "7982/7982 [==============================] - 4s 503us/step - loss: 0.2358 - acc: 0.9440 - val_loss: 0.9111 - val_acc: 0.8100\n",
      "Epoch 17/20\n",
      "7982/7982 [==============================] - 4s 439us/step - loss: 0.2095 - acc: 0.9479 - val_loss: 0.9563 - val_acc: 0.8020\n",
      "Epoch 18/20\n",
      "7982/7982 [==============================] - 3s 402us/step - loss: 0.1949 - acc: 0.9481 - val_loss: 0.9398 - val_acc: 0.8040\n",
      "Epoch 19/20\n",
      "7982/7982 [==============================] - 3s 370us/step - loss: 0.1770 - acc: 0.9509 - val_loss: 0.9529 - val_acc: 0.8060\n",
      "Epoch 20/20\n",
      "7982/7982 [==============================] - 4s 469us/step - loss: 0.1647 - acc: 0.9528 - val_loss: 0.9595 - val_acc: 0.8080\n"
     ]
    }
   ],
   "source": [
    "#32 units\n",
    "model32 = models.Sequential()\n",
    "model32.add(layers.Dense(32, activation='relu', input_shape=(10000,)))\n",
    "model32.add(layers.Dense(32, activation='relu'))\n",
    "model32.add(layers.Dense(46, activation='softmax'))\n",
    "\n",
    "model32.compile(optimizer='rmsprop',\n",
    "              loss='categorical_crossentropy',\n",
    "              metrics=['accuracy'])\n",
    "\n",
    "history32 = model32.fit(partial_x_train,\n",
    "                    partial_y_train,\n",
    "                    epochs=20,\n",
    "                    batch_size=512,\n",
    "                    validation_data=(x_val, y_val)\n",
    "                   )"
   ]
  },
  {
   "cell_type": "code",
   "execution_count": 24,
   "metadata": {},
   "outputs": [
    {
     "data": {
      "image/png": "[encoded data removed]",
      "text/plain": [
       "<matplotlib.figure.Figure at 0x1ef2dae7668>"
      ]
     },
     "metadata": {},
     "output_type": "display_data"
    }
   ],
   "source": [
    "loss32 = history32.history['loss']\n",
    "val_loss32 = history32.history['val_loss']\n",
    "\n",
    "epochs32 = range(1, len(loss32) + 1)\n",
    "\n",
    "plt.plot(epochs32, loss32, 'bo', label='Training loss')\n",
    "plt.plot(epochs32, val_loss32, 'b', label='Validation loss')\n",
    "plt.title('Training and validation loss')\n",
    "plt.xlabel('Epochs')\n",
    "plt.ylabel('Loss')\n",
    "plt.legend()\n",
    "\n",
    "plt.show()"
   ]
  },
  {
   "cell_type": "code",
   "execution_count": 25,
   "metadata": {},
   "outputs": [
    {
     "data": {
      "image/png": "[encoded data removed]",
      "text/plain": [
       "<matplotlib.figure.Figure at 0x1ef2b048630>"
      ]
     },
     "metadata": {},
     "output_type": "display_data"
    }
   ],
   "source": [
    "plt.clf()\n",
    "\n",
    "acc32 = history32.history['acc']\n",
    "val_acc32 = history32.history['val_acc']\n",
    "\n",
    "plt.plot(epochs32, acc32, 'bo', label='Training acc')\n",
    "plt.plot(epochs32, val_acc32, 'b', label='Validation acc')\n",
    "plt.title('Training and validation accuracy')\n",
    "plt.xlabel('Epochs')\n",
    "plt.ylabel('Accuracy')\n",
    "plt.legend()\n",
    "\n",
    "plt.show()"
   ]
  },
  {
   "cell_type": "code",
   "execution_count": 26,
   "metadata": {},
   "outputs": [
    {
     "name": "stdout",
     "output_type": "stream",
     "text": [
      "Train on 7982 samples, validate on 1000 samples\n",
      "Epoch 1/9\n",
      "7982/7982 [==============================] - 4s 553us/step - loss: 0.1505 - acc: 0.9546 - val_loss: 1.0103 - val_acc: 0.7940\n",
      "Epoch 2/9\n",
      "7982/7982 [==============================] - 5s 587us/step - loss: 0.1435 - acc: 0.9559 - val_loss: 0.9976 - val_acc: 0.8030\n",
      "Epoch 3/9\n",
      "7982/7982 [==============================] - 4s 444us/step - loss: 0.1352 - acc: 0.9565 - val_loss: 1.0282 - val_acc: 0.8030\n",
      "Epoch 4/9\n",
      "7982/7982 [==============================] - 4s 504us/step - loss: 0.1311 - acc: 0.9560 - val_loss: 1.0283 - val_acc: 0.8040\n",
      "Epoch 5/9\n",
      "7982/7982 [==============================] - 4s 486us/step - loss: 0.1193 - acc: 0.9573 - val_loss: 1.0341 - val_acc: 0.8000\n",
      "Epoch 6/9\n",
      "7982/7982 [==============================] - 4s 497us/step - loss: 0.1185 - acc: 0.9587 - val_loss: 1.0193 - val_acc: 0.8010\n",
      "Epoch 7/9\n",
      "7982/7982 [==============================] - 3s 346us/step - loss: 0.1138 - acc: 0.9578 - val_loss: 1.0907 - val_acc: 0.7910\n",
      "Epoch 8/9\n",
      "7982/7982 [==============================] - 3s 327us/step - loss: 0.1106 - acc: 0.9588 - val_loss: 1.0457 - val_acc: 0.8000\n",
      "Epoch 9/9\n",
      "7982/7982 [==============================] - 3s 362us/step - loss: 0.1056 - acc: 0.9585 - val_loss: 1.0913 - val_acc: 0.7940\n",
      "2246/2246 [==============================] - 2s 681us/step\n"
     ]
    },
    {
     "data": {
      "text/plain": [
       "[1.2912797772873754, 0.7698130009170101]"
      ]
     },
     "execution_count": 26,
     "metadata": {},
     "output_type": "execute_result"
    }
   ],
   "source": [
    "model32.fit(partial_x_train,\n",
    "          partial_y_train,\n",
    "          epochs=9,\n",
    "          batch_size=512,\n",
    "          validation_data=(x_val, y_val))\n",
    "results = model32.evaluate(x_test, one_hot_test_labels)\n",
    "results"
   ]
  },
  {
   "cell_type": "markdown",
   "metadata": {},
   "source": [
    "Точность при 32 нейронах в слое немного ниже - 77 (при 64 нейронах точность была 78), поэтому попробуем увеличить их количество"
   ]
  },
  {
   "cell_type": "code",
   "execution_count": 27,
   "metadata": {
    "scrolled": true
   },
   "outputs": [
    {
     "name": "stdout",
     "output_type": "stream",
     "text": [
      "Train on 7982 samples, validate on 1000 samples\n",
      "Epoch 1/20\n",
      "7982/7982 [==============================] - 9s 1ms/step - loss: 2.1634 - acc: 0.5392 - val_loss: 1.3592 - val_acc: 0.7050\n",
      "Epoch 2/20\n",
      "7982/7982 [==============================] - 8s 948us/step - loss: 1.1039 - acc: 0.7630 - val_loss: 1.0952 - val_acc: 0.7580\n",
      "Epoch 3/20\n",
      "7982/7982 [==============================] - 5s 604us/step - loss: 0.7795 - acc: 0.8355 - val_loss: 1.0446 - val_acc: 0.7780\n",
      "Epoch 4/20\n",
      "7982/7982 [==============================] - 5s 564us/step - loss: 0.5759 - acc: 0.8779 - val_loss: 0.8969 - val_acc: 0.8230\n",
      "Epoch 5/20\n",
      "7982/7982 [==============================] - 6s 807us/step - loss: 0.4134 - acc: 0.9139 - val_loss: 0.9083 - val_acc: 0.8090\n",
      "Epoch 6/20\n",
      "7982/7982 [==============================] - 7s 921us/step - loss: 0.3261 - acc: 0.9295 - val_loss: 0.8605 - val_acc: 0.8190\n",
      "Epoch 7/20\n",
      "7982/7982 [==============================] - 8s 1ms/step - loss: 0.2471 - acc: 0.9441 - val_loss: 0.9081 - val_acc: 0.8120\n",
      "Epoch 8/20\n",
      "7982/7982 [==============================] - 9s 1ms/step - loss: 0.2160 - acc: 0.9450 - val_loss: 0.9095 - val_acc: 0.8200\n",
      "Epoch 9/20\n",
      "7982/7982 [==============================] - 8s 946us/step - loss: 0.1773 - acc: 0.9539 - val_loss: 0.9540 - val_acc: 0.8010\n",
      "Epoch 10/20\n",
      "7982/7982 [==============================] - 5s 595us/step - loss: 0.1633 - acc: 0.9525 - val_loss: 0.9668 - val_acc: 0.8180\n",
      "Epoch 11/20\n",
      "7982/7982 [==============================] - 4s 501us/step - loss: 0.1431 - acc: 0.9548 - val_loss: 0.9271 - val_acc: 0.8220\n",
      "Epoch 12/20\n",
      "7982/7982 [==============================] - 5s 568us/step - loss: 0.1435 - acc: 0.9564 - val_loss: 0.9967 - val_acc: 0.8030\n",
      "Epoch 13/20\n",
      "7982/7982 [==============================] - 5s 592us/step - loss: 0.1302 - acc: 0.9549 - val_loss: 1.0003 - val_acc: 0.8050\n",
      "Epoch 14/20\n",
      "7982/7982 [==============================] - 4s 543us/step - loss: 0.1272 - acc: 0.9563 - val_loss: 1.0200 - val_acc: 0.7970\n",
      "Epoch 15/20\n",
      "7982/7982 [==============================] - 7s 876us/step - loss: 0.1210 - acc: 0.9574 - val_loss: 0.9734 - val_acc: 0.8140\n",
      "Epoch 16/20\n",
      "7982/7982 [==============================] - 8s 943us/step - loss: 0.1230 - acc: 0.9562 - val_loss: 1.0738 - val_acc: 0.8020\n",
      "Epoch 17/20\n",
      "7982/7982 [==============================] - 5s 684us/step - loss: 0.1155 - acc: 0.9579 - val_loss: 1.0373 - val_acc: 0.8050\n",
      "Epoch 18/20\n",
      "7982/7982 [==============================] - 4s 515us/step - loss: 0.1105 - acc: 0.9579 - val_loss: 1.0399 - val_acc: 0.8000\n",
      "Epoch 19/20\n",
      "7982/7982 [==============================] - 4s 515us/step - loss: 0.1100 - acc: 0.9573 - val_loss: 1.0160 - val_acc: 0.8090\n",
      "Epoch 20/20\n",
      "7982/7982 [==============================] - 4s 533us/step - loss: 0.1060 - acc: 0.9584 - val_loss: 1.0630 - val_acc: 0.7950\n"
     ]
    }
   ],
   "source": [
    "#128 units\n",
    "model128 = models.Sequential()\n",
    "model128.add(layers.Dense(128, activation='relu', input_shape=(10000,)))\n",
    "model128.add(layers.Dense(128, activation='relu'))\n",
    "model128.add(layers.Dense(46, activation='softmax'))\n",
    "\n",
    "model128.compile(optimizer='rmsprop',\n",
    "              loss='categorical_crossentropy',\n",
    "              metrics=['accuracy'])\n",
    "\n",
    "history128 = model128.fit(partial_x_train,\n",
    "                    partial_y_train,\n",
    "                    epochs=20,\n",
    "                    batch_size=512,\n",
    "                    validation_data=(x_val, y_val)\n",
    "                   )"
   ]
  },
  {
   "cell_type": "code",
   "execution_count": 28,
   "metadata": {},
   "outputs": [
    {
     "data": {
      "image/png": "[encoded data removed]",
      "text/plain": [
       "<matplotlib.figure.Figure at 0x1ef2e240eb8>"
      ]
     },
     "metadata": {},
     "output_type": "display_data"
    }
   ],
   "source": [
    "loss128 = history128.history['loss']\n",
    "val_loss128 = history128.history['val_loss']\n",
    "\n",
    "epochs128 = range(1, len(loss128) + 1)\n",
    "\n",
    "plt.plot(epochs128, loss128, 'bo', label='Training loss')\n",
    "plt.plot(epochs128, val_loss128, 'b', label='Validation loss')\n",
    "plt.title('Training and validation loss')\n",
    "plt.xlabel('Epochs')\n",
    "plt.ylabel('Loss')\n",
    "plt.legend()\n",
    "\n",
    "plt.show()"
   ]
  },
  {
   "cell_type": "code",
   "execution_count": 29,
   "metadata": {},
   "outputs": [
    {
     "data": {
      "image/png": "[encoded data removed]",
      "text/plain": [
       "<matplotlib.figure.Figure at 0x1ef2dad68d0>"
      ]
     },
     "metadata": {},
     "output_type": "display_data"
    }
   ],
   "source": [
    "plt.clf()\n",
    "\n",
    "acc128 = history128.history['acc']\n",
    "val_acc128 = history128.history['val_acc']\n",
    "\n",
    "plt.plot(epochs128, acc128, 'bo', label='Training acc')\n",
    "plt.plot(epochs128, val_acc128, 'b', label='Validation acc')\n",
    "plt.title('Training and validation accuracy')\n",
    "plt.xlabel('Epochs')\n",
    "plt.ylabel('Accuracy')\n",
    "plt.legend()\n",
    "\n",
    "plt.show()"
   ]
  },
  {
   "cell_type": "code",
   "execution_count": 30,
   "metadata": {},
   "outputs": [
    {
     "name": "stdout",
     "output_type": "stream",
     "text": [
      "Train on 7982 samples, validate on 1000 samples\n",
      "Epoch 1/4\n",
      "7982/7982 [==============================] - 4s 528us/step - loss: 0.1030 - acc: 0.9564 - val_loss: 1.0601 - val_acc: 0.8120\n",
      "Epoch 2/4\n",
      "7982/7982 [==============================] - 5s 639us/step - loss: 0.1048 - acc: 0.9574 - val_loss: 1.1190 - val_acc: 0.7990\n",
      "Epoch 3/4\n",
      "7982/7982 [==============================] - 4s 532us/step - loss: 0.1016 - acc: 0.9574 - val_loss: 1.2067 - val_acc: 0.7800\n",
      "Epoch 4/4\n",
      "7982/7982 [==============================] - 5s 584us/step - loss: 0.1037 - acc: 0.9553 - val_loss: 1.0737 - val_acc: 0.8050\n",
      "2246/2246 [==============================] - 4s 2ms/step\n"
     ]
    },
    {
     "data": {
      "text/plain": [
       "[1.243984403932933, 0.789848619715401]"
      ]
     },
     "execution_count": 30,
     "metadata": {},
     "output_type": "execute_result"
    }
   ],
   "source": [
    "history128 = model128.fit(partial_x_train,\n",
    "                    partial_y_train,\n",
    "                    epochs=4,\n",
    "                    batch_size=512,\n",
    "                    validation_data=(x_val, y_val)\n",
    "                   )\n",
    "results = model128.evaluate(x_test, one_hot_test_labels)\n",
    "results"
   ]
  },
  {
   "cell_type": "markdown",
   "metadata": {},
   "source": [
    "Точность возрасла до 79%"
   ]
  },
  {
   "cell_type": "code",
   "execution_count": 31,
   "metadata": {
    "scrolled": true
   },
   "outputs": [
    {
     "name": "stdout",
     "output_type": "stream",
     "text": [
      "Train on 7982 samples, validate on 1000 samples\n",
      "Epoch 1/20\n",
      "7982/7982 [==============================] - 9s 1ms/step - loss: 1.9924 - acc: 0.5757 - val_loss: 1.2405 - val_acc: 0.7180\n",
      "Epoch 2/20\n",
      "7982/7982 [==============================] - 6s 795us/step - loss: 0.9620 - acc: 0.7869 - val_loss: 0.9747 - val_acc: 0.8050\n",
      "Epoch 3/20\n",
      "7982/7982 [==============================] - 6s 732us/step - loss: 0.6203 - acc: 0.8602 - val_loss: 0.8977 - val_acc: 0.8230\n",
      "Epoch 4/20\n",
      "7982/7982 [==============================] - 6s 752us/step - loss: 0.4082 - acc: 0.9097 - val_loss: 0.9906 - val_acc: 0.7810\n",
      "Epoch 5/20\n",
      "7982/7982 [==============================] - 6s 710us/step - loss: 0.2805 - acc: 0.9384 - val_loss: 0.8999 - val_acc: 0.8120\n",
      "Epoch 6/20\n",
      "7982/7982 [==============================] - 6s 736us/step - loss: 0.2261 - acc: 0.9432 - val_loss: 0.9170 - val_acc: 0.8150\n",
      "Epoch 7/20\n",
      "7982/7982 [==============================] - 6s 713us/step - loss: 0.1899 - acc: 0.9505 - val_loss: 0.9119 - val_acc: 0.8110\n",
      "Epoch 8/20\n",
      "7982/7982 [==============================] - 6s 736us/step - loss: 0.1637 - acc: 0.9540 - val_loss: 0.9311 - val_acc: 0.8220\n",
      "Epoch 9/20\n",
      "7982/7982 [==============================] - 6s 746us/step - loss: 0.1467 - acc: 0.9555 - val_loss: 0.9198 - val_acc: 0.8160\n",
      "Epoch 10/20\n",
      "7982/7982 [==============================] - 6s 743us/step - loss: 0.1460 - acc: 0.9530 - val_loss: 0.9470 - val_acc: 0.8100\n",
      "Epoch 11/20\n",
      "7982/7982 [==============================] - 7s 850us/step - loss: 0.1274 - acc: 0.9568 - val_loss: 0.9083 - val_acc: 0.8180\n",
      "Epoch 12/20\n",
      "7982/7982 [==============================] - 9s 1ms/step - loss: 0.1227 - acc: 0.9544 - val_loss: 1.0505 - val_acc: 0.7980\n",
      "Epoch 13/20\n",
      "7982/7982 [==============================] - 11s 1ms/step - loss: 0.1163 - acc: 0.9570 - val_loss: 1.0724 - val_acc: 0.7980\n",
      "Epoch 14/20\n",
      "7982/7982 [==============================] - 8s 964us/step - loss: 0.1139 - acc: 0.9559 - val_loss: 1.0182 - val_acc: 0.7970\n",
      "Epoch 15/20\n",
      "7982/7982 [==============================] - 8s 982us/step - loss: 0.1031 - acc: 0.9597 - val_loss: 1.0655 - val_acc: 0.8010\n",
      "Epoch 16/20\n",
      "7982/7982 [==============================] - 8s 994us/step - loss: 0.1054 - acc: 0.9569 - val_loss: 1.0554 - val_acc: 0.8010\n",
      "Epoch 17/20\n",
      "7982/7982 [==============================] - 8s 1ms/step - loss: 0.0992 - acc: 0.9569 - val_loss: 1.0921 - val_acc: 0.8030\n",
      "Epoch 18/20\n",
      "7982/7982 [==============================] - 8s 1ms/step - loss: 0.0962 - acc: 0.9570 - val_loss: 1.1470 - val_acc: 0.7930\n",
      "Epoch 19/20\n",
      "7982/7982 [==============================] - 13s 2ms/step - loss: 0.0956 - acc: 0.9573 - val_loss: 1.0949 - val_acc: 0.7970\n",
      "Epoch 20/20\n",
      "7982/7982 [==============================] - 11s 1ms/step - loss: 0.0928 - acc: 0.9568 - val_loss: 1.1017 - val_acc: 0.8040\n"
     ]
    }
   ],
   "source": [
    "#256 units\n",
    "model256 = models.Sequential()\n",
    "model256.add(layers.Dense(256, activation='relu', input_shape=(10000,)))\n",
    "model256.add(layers.Dense(256, activation='relu'))\n",
    "model256.add(layers.Dense(46, activation='softmax'))\n",
    "\n",
    "model256.compile(optimizer='rmsprop',\n",
    "              loss='categorical_crossentropy',\n",
    "              metrics=['accuracy'])\n",
    "\n",
    "history256 = model256.fit(partial_x_train,\n",
    "                    partial_y_train,\n",
    "                    epochs=20,\n",
    "                    batch_size=512,\n",
    "                    validation_data=(x_val, y_val)\n",
    "                   )"
   ]
  },
  {
   "cell_type": "code",
   "execution_count": 32,
   "metadata": {},
   "outputs": [
    {
     "data": {
      "image/png": "[encoded data removed]",
      "text/plain": [
       "<matplotlib.figure.Figure at 0x1ef2e04bfd0>"
      ]
     },
     "metadata": {},
     "output_type": "display_data"
    }
   ],
   "source": [
    "loss256 = history256.history['loss']\n",
    "val_loss256 = history256.history['val_loss']\n",
    "\n",
    "epochs256 = range(1, len(loss128) + 1)\n",
    "\n",
    "plt.plot(epochs256, loss256, 'bo', label='Training loss')\n",
    "plt.plot(epochs256, val_loss256, 'b', label='Validation loss')\n",
    "plt.title('Training and validation loss')\n",
    "plt.xlabel('Epochs')\n",
    "plt.ylabel('Loss')\n",
    "plt.legend()\n",
    "\n",
    "plt.show()"
   ]
  },
  {
   "cell_type": "code",
   "execution_count": 33,
   "metadata": {},
   "outputs": [
    {
     "data": {
      "image/png": "[encoded data removed]",
      "text/plain": [
       "<matplotlib.figure.Figure at 0x1ef2dfd0d30>"
      ]
     },
     "metadata": {},
     "output_type": "display_data"
    }
   ],
   "source": [
    "plt.clf()\n",
    "\n",
    "acc256 = history256.history['acc']\n",
    "val_acc256 = history256.history['val_acc']\n",
    "\n",
    "plt.plot(epochs256, acc256, 'bo', label='Training acc')\n",
    "plt.plot(epochs256, val_acc256, 'b', label='Validation acc')\n",
    "plt.title('Training and validation accuracy')\n",
    "plt.xlabel('Epochs')\n",
    "plt.ylabel('Accuracy')\n",
    "plt.legend()\n",
    "\n",
    "plt.show()"
   ]
  },
  {
   "cell_type": "code",
   "execution_count": 39,
   "metadata": {},
   "outputs": [
    {
     "name": "stdout",
     "output_type": "stream",
     "text": [
      "Train on 7982 samples, validate on 1000 samples\n",
      "Epoch 1/4\n",
      "7982/7982 [==============================] - 7s 919us/step - loss: 0.0826 - acc: 0.9574 - val_loss: 1.2435 - val_acc: 0.7890\n",
      "Epoch 2/4\n",
      "7982/7982 [==============================] - 7s 922us/step - loss: 0.0809 - acc: 0.9570 - val_loss: 1.2110 - val_acc: 0.7910\n",
      "Epoch 3/4\n",
      "7982/7982 [==============================] - 6s 808us/step - loss: 0.0774 - acc: 0.9587 - val_loss: 1.3916 - val_acc: 0.7870\n",
      "Epoch 4/4\n",
      "7982/7982 [==============================] - 7s 854us/step - loss: 0.0799 - acc: 0.9567 - val_loss: 1.2267 - val_acc: 0.8030\n",
      "2246/2246 [==============================] - 4s 2ms/step\n"
     ]
    },
    {
     "data": {
      "text/plain": [
       "[1.411914731600618, 0.7880676758682101]"
      ]
     },
     "execution_count": 39,
     "metadata": {},
     "output_type": "execute_result"
    }
   ],
   "source": [
    "history256 = model256.fit(partial_x_train,\n",
    "                    partial_y_train,\n",
    "                    epochs=4,\n",
    "                    batch_size=512,\n",
    "                    validation_data=(x_val, y_val)\n",
    "                   )\n",
    "results = model256.evaluate(x_test, one_hot_test_labels)\n",
    "results"
   ]
  },
  {
   "cell_type": "markdown",
   "metadata": {},
   "source": [
    "Точность незначительно уменьшилась, все еще около 79%  \n",
    "Попробуем сочетание"
   ]
  },
  {
   "cell_type": "code",
   "execution_count": 41,
   "metadata": {},
   "outputs": [
    {
     "name": "stdout",
     "output_type": "stream",
     "text": [
      "Train on 7982 samples, validate on 1000 samples\n",
      "Epoch 1/20\n",
      "7982/7982 [==============================] - 10s 1ms/step - loss: 1.9641 - acc: 0.5685 - val_loss: 1.2689 - val_acc: 0.7180\n",
      "Epoch 2/20\n",
      "7982/7982 [==============================] - 6s 745us/step - loss: 0.9361 - acc: 0.7993 - val_loss: 0.9985 - val_acc: 0.7870\n",
      "Epoch 3/20\n",
      "7982/7982 [==============================] - 6s 711us/step - loss: 0.6003 - acc: 0.8695 - val_loss: 0.9028 - val_acc: 0.8120\n",
      "Epoch 4/20\n",
      "7982/7982 [==============================] - 6s 775us/step - loss: 0.4026 - acc: 0.9151 - val_loss: 0.8665 - val_acc: 0.8130\n",
      "Epoch 5/20\n",
      "7982/7982 [==============================] - 7s 911us/step - loss: 0.3053 - acc: 0.9311 - val_loss: 0.8475 - val_acc: 0.8300\n",
      "Epoch 6/20\n",
      "7982/7982 [==============================] - 8s 949us/step - loss: 0.2282 - acc: 0.9465 - val_loss: 0.9069 - val_acc: 0.8120\n",
      "Epoch 7/20\n",
      "7982/7982 [==============================] - 7s 939us/step - loss: 0.1952 - acc: 0.9483 - val_loss: 0.8720 - val_acc: 0.8130\n",
      "Epoch 8/20\n",
      "7982/7982 [==============================] - 7s 856us/step - loss: 0.1723 - acc: 0.9531 - val_loss: 0.9435 - val_acc: 0.8170\n",
      "Epoch 9/20\n",
      "7982/7982 [==============================] - 7s 847us/step - loss: 0.1455 - acc: 0.9549 - val_loss: 0.9440 - val_acc: 0.8210\n",
      "Epoch 10/20\n",
      "7982/7982 [==============================] - 7s 836us/step - loss: 0.1419 - acc: 0.9559 - val_loss: 0.9820 - val_acc: 0.8090\n",
      "Epoch 11/20\n",
      "7982/7982 [==============================] - 7s 876us/step - loss: 0.1388 - acc: 0.9555 - val_loss: 0.9685 - val_acc: 0.8190\n",
      "Epoch 12/20\n",
      "7982/7982 [==============================] - 7s 858us/step - loss: 0.1204 - acc: 0.9567 - val_loss: 1.0547 - val_acc: 0.8020\n",
      "Epoch 13/20\n",
      "7982/7982 [==============================] - 6s 788us/step - loss: 0.1182 - acc: 0.9567 - val_loss: 1.0437 - val_acc: 0.8130\n",
      "Epoch 14/20\n",
      "7982/7982 [==============================] - 7s 825us/step - loss: 0.1174 - acc: 0.9565 - val_loss: 1.0659 - val_acc: 0.8000\n",
      "Epoch 15/20\n",
      "7982/7982 [==============================] - 7s 851us/step - loss: 0.1151 - acc: 0.9577 - val_loss: 1.0144 - val_acc: 0.8070\n",
      "Epoch 16/20\n",
      "7982/7982 [==============================] - 7s 881us/step - loss: 0.1075 - acc: 0.9580 - val_loss: 1.0768 - val_acc: 0.7980\n",
      "Epoch 17/20\n",
      "7982/7982 [==============================] - 7s 897us/step - loss: 0.1059 - acc: 0.9565 - val_loss: 1.0080 - val_acc: 0.8090\n",
      "Epoch 18/20\n",
      "7982/7982 [==============================] - 7s 867us/step - loss: 0.1015 - acc: 0.9570 - val_loss: 1.1444 - val_acc: 0.7920\n",
      "Epoch 19/20\n",
      "7982/7982 [==============================] - 7s 883us/step - loss: 0.0986 - acc: 0.9574 - val_loss: 1.0640 - val_acc: 0.8020\n",
      "Epoch 20/20\n",
      "7982/7982 [==============================] - 7s 824us/step - loss: 0.0946 - acc: 0.9602 - val_loss: 1.1265 - val_acc: 0.7920\n"
     ]
    }
   ],
   "source": [
    "#256+128 units\n",
    "model_2 = models.Sequential()\n",
    "model_2.add(layers.Dense(256, activation='relu', input_shape=(10000,)))\n",
    "model_2.add(layers.Dense(128, activation='relu'))\n",
    "model_2.add(layers.Dense(46, activation='softmax'))\n",
    "\n",
    "model_2.compile(optimizer='rmsprop',\n",
    "              loss='categorical_crossentropy',\n",
    "              metrics=['accuracy'])\n",
    "\n",
    "history = model_2.fit(partial_x_train,\n",
    "                    partial_y_train,\n",
    "                    epochs=20,\n",
    "                    batch_size=512,\n",
    "                    validation_data=(x_val, y_val)\n",
    "                   )"
   ]
  },
  {
   "cell_type": "code",
   "execution_count": 42,
   "metadata": {},
   "outputs": [
    {
     "data": {
      "image/png": "[encoded data removed]",
      "text/plain": [
       "<matplotlib.figure.Figure at 0x25fafd1f470>"
      ]
     },
     "metadata": {},
     "output_type": "display_data"
    }
   ],
   "source": [
    "loss = history.history['loss']\n",
    "val_loss = history.history['val_loss']\n",
    "\n",
    "epochs = range(1, len(loss128) + 1)\n",
    "\n",
    "plt.plot(epochs, loss, 'bo', label='Training loss')\n",
    "plt.plot(epochs, val_loss, 'b', label='Validation loss')\n",
    "plt.title('Training and validation loss')\n",
    "plt.xlabel('Epochs')\n",
    "plt.ylabel('Loss')\n",
    "plt.legend()\n",
    "\n",
    "plt.show()"
   ]
  },
  {
   "cell_type": "code",
   "execution_count": 43,
   "metadata": {},
   "outputs": [
    {
     "data": {
      "image/png": "[encoded data removed]",
      "text/plain": [
       "<matplotlib.figure.Figure at 0x25f8037e278>"
      ]
     },
     "metadata": {},
     "output_type": "display_data"
    }
   ],
   "source": [
    "plt.clf()\n",
    "\n",
    "acc = history.history['acc']\n",
    "val_acc = history.history['val_acc']\n",
    "\n",
    "plt.plot(epochs, acc, 'bo', label='Training acc')\n",
    "plt.plot(epochs, val_acc, 'b', label='Validation acc')\n",
    "plt.title('Training and validation accuracy')\n",
    "plt.xlabel('Epochs')\n",
    "plt.ylabel('Accuracy')\n",
    "plt.legend()\n",
    "\n",
    "plt.show()"
   ]
  },
  {
   "cell_type": "code",
   "execution_count": 44,
   "metadata": {},
   "outputs": [
    {
     "name": "stdout",
     "output_type": "stream",
     "text": [
      "Train on 7982 samples, validate on 1000 samples\n",
      "Epoch 1/5\n",
      "7982/7982 [==============================] - 7s 854us/step - loss: 0.0938 - acc: 0.9567 - val_loss: 1.1597 - val_acc: 0.7900\n",
      "Epoch 2/5\n",
      "7982/7982 [==============================] - 8s 982us/step - loss: 0.0927 - acc: 0.9565 - val_loss: 1.1639 - val_acc: 0.7910\n",
      "Epoch 3/5\n",
      "7982/7982 [==============================] - 7s 930us/step - loss: 0.0927 - acc: 0.9573 - val_loss: 1.1355 - val_acc: 0.7990\n",
      "Epoch 4/5\n",
      "7982/7982 [==============================] - 7s 904us/step - loss: 0.0877 - acc: 0.9584 - val_loss: 1.1604 - val_acc: 0.7970\n",
      "Epoch 5/5\n",
      "7982/7982 [==============================] - 7s 819us/step - loss: 0.0859 - acc: 0.9573 - val_loss: 1.1621 - val_acc: 0.8010\n",
      "2246/2246 [==============================] - 2s 970us/step\n"
     ]
    },
    {
     "data": {
      "text/plain": [
       "[1.3368777634305606, 0.7907390917716871]"
      ]
     },
     "execution_count": 44,
     "metadata": {},
     "output_type": "execute_result"
    }
   ],
   "source": [
    "history = model_2.fit(partial_x_train,\n",
    "                    partial_y_train,\n",
    "                    epochs=5,\n",
    "                    batch_size=512,\n",
    "                    validation_data=(x_val, y_val)\n",
    "                   )\n",
    "results = model_2.evaluate(x_test, one_hot_test_labels)\n",
    "results"
   ]
  },
  {
   "cell_type": "markdown",
   "metadata": {},
   "source": [
    "Значение точности возросло до полных 79%"
   ]
  },
  {
   "cell_type": "code",
   "execution_count": 34,
   "metadata": {},
   "outputs": [
    {
     "name": "stdout",
     "output_type": "stream",
     "text": [
      "Train on 7982 samples, validate on 1000 samples\n",
      "Epoch 1/20\n",
      "7982/7982 [==============================] - 9s 1ms/step - loss: 2.2943 - acc: 0.5542 - val_loss: 1.4951 - val_acc: 0.6800\n",
      "Epoch 2/20\n",
      "7982/7982 [==============================] - 5s 590us/step - loss: 1.1723 - acc: 0.7491 - val_loss: 1.1490 - val_acc: 0.7300\n",
      "Epoch 3/20\n",
      "7982/7982 [==============================] - 4s 540us/step - loss: 0.8412 - acc: 0.8191 - val_loss: 1.0147 - val_acc: 0.7890\n",
      "Epoch 4/20\n",
      "7982/7982 [==============================] - 5s 604us/step - loss: 0.6246 - acc: 0.8708 - val_loss: 0.9640 - val_acc: 0.7930\n",
      "Epoch 5/20\n",
      "7982/7982 [==============================] - 5s 612us/step - loss: 0.4734 - acc: 0.9035 - val_loss: 0.9907 - val_acc: 0.7780\n",
      "Epoch 6/20\n",
      "7982/7982 [==============================] - 5s 626us/step - loss: 0.3564 - acc: 0.9277 - val_loss: 0.8905 - val_acc: 0.8170\n",
      "Epoch 7/20\n",
      "7982/7982 [==============================] - 5s 635us/step - loss: 0.2818 - acc: 0.9369 - val_loss: 1.0109 - val_acc: 0.7800\n",
      "Epoch 8/20\n",
      "7982/7982 [==============================] - 5s 601us/step - loss: 0.2302 - acc: 0.9466 - val_loss: 0.8888 - val_acc: 0.8110\n",
      "Epoch 9/20\n",
      "7982/7982 [==============================] - 5s 632us/step - loss: 0.1960 - acc: 0.9490 - val_loss: 0.9118 - val_acc: 0.8190\n",
      "Epoch 10/20\n",
      "7982/7982 [==============================] - 5s 576us/step - loss: 0.1735 - acc: 0.9529 - val_loss: 0.9377 - val_acc: 0.8200\n",
      "Epoch 11/20\n",
      "7982/7982 [==============================] - 4s 520us/step - loss: 0.1521 - acc: 0.9550 - val_loss: 0.9430 - val_acc: 0.8180\n",
      "Epoch 12/20\n",
      "7982/7982 [==============================] - 5s 609us/step - loss: 0.1459 - acc: 0.9558 - val_loss: 1.0069 - val_acc: 0.8030\n",
      "Epoch 13/20\n",
      "7982/7982 [==============================] - 4s 539us/step - loss: 0.1287 - acc: 0.9564 - val_loss: 0.9799 - val_acc: 0.8190\n",
      "Epoch 14/20\n",
      "7982/7982 [==============================] - 5s 581us/step - loss: 0.1266 - acc: 0.9569 - val_loss: 1.0421 - val_acc: 0.8110\n",
      "Epoch 15/20\n",
      "7982/7982 [==============================] - 5s 586us/step - loss: 0.1205 - acc: 0.9560 - val_loss: 1.0365 - val_acc: 0.8080\n",
      "Epoch 16/20\n",
      "7982/7982 [==============================] - 4s 550us/step - loss: 0.1181 - acc: 0.9568 - val_loss: 1.0241 - val_acc: 0.8210\n",
      "Epoch 17/20\n",
      "7982/7982 [==============================] - 5s 576us/step - loss: 0.1166 - acc: 0.9565 - val_loss: 1.0807 - val_acc: 0.8020\n",
      "Epoch 18/20\n",
      "7982/7982 [==============================] - 5s 577us/step - loss: 0.1096 - acc: 0.9564 - val_loss: 1.0537 - val_acc: 0.8040\n",
      "Epoch 19/20\n",
      "7982/7982 [==============================] - 5s 587us/step - loss: 0.1123 - acc: 0.9558 - val_loss: 1.1133 - val_acc: 0.7990\n",
      "Epoch 20/20\n",
      "7982/7982 [==============================] - 5s 615us/step - loss: 0.1111 - acc: 0.9559 - val_loss: 1.1555 - val_acc: 0.7960\n"
     ]
    }
   ],
   "source": [
    "#128+64 units\n",
    "model_3 = models.Sequential()\n",
    "model_3.add(layers.Dense(128, activation='relu', input_shape=(10000,)))\n",
    "model_3.add(layers.Dense(64, activation='relu'))\n",
    "model_3.add(layers.Dense(46, activation='softmax'))\n",
    "\n",
    "model_3.compile(optimizer='rmsprop',\n",
    "              loss='categorical_crossentropy',\n",
    "              metrics=['accuracy'])\n",
    "\n",
    "history = model_3.fit(partial_x_train,\n",
    "                    partial_y_train,\n",
    "                    epochs=20,\n",
    "                    batch_size=512,\n",
    "                    validation_data=(x_val, y_val)\n",
    "                   )"
   ]
  },
  {
   "cell_type": "code",
   "execution_count": 35,
   "metadata": {
    "scrolled": false
   },
   "outputs": [
    {
     "data": {
      "image/png": "[encoded data removed]",
      "text/plain": [
       "<matplotlib.figure.Figure at 0x1ef34f7d4a8>"
      ]
     },
     "metadata": {},
     "output_type": "display_data"
    }
   ],
   "source": [
    "loss = history.history['loss']\n",
    "val_loss = history.history['val_loss']\n",
    "\n",
    "epochs = range(1, len(loss128) + 1)\n",
    "\n",
    "plt.plot(epochs, loss, 'bo', label='Training loss')\n",
    "plt.plot(epochs, val_loss, 'b', label='Validation loss')\n",
    "plt.title('Training and validation loss')\n",
    "plt.xlabel('Epochs')\n",
    "plt.ylabel('Loss')\n",
    "plt.legend()\n",
    "\n",
    "plt.show()"
   ]
  },
  {
   "cell_type": "code",
   "execution_count": 36,
   "metadata": {},
   "outputs": [
    {
     "data": {
      "image/png": "[encoded data removed]",
      "text/plain": [
       "<matplotlib.figure.Figure at 0x1ef34f9d2e8>"
      ]
     },
     "metadata": {},
     "output_type": "display_data"
    }
   ],
   "source": [
    "plt.clf()\n",
    "\n",
    "acc = history.history['acc']\n",
    "val_acc = history.history['val_acc']\n",
    "\n",
    "plt.plot(epochs, acc, 'bo', label='Training acc')\n",
    "plt.plot(epochs, val_acc, 'b', label='Validation acc')\n",
    "plt.title('Training and validation accuracy')\n",
    "plt.xlabel('Epochs')\n",
    "plt.ylabel('Accuracy')\n",
    "plt.legend()\n",
    "\n",
    "plt.show()"
   ]
  },
  {
   "cell_type": "code",
   "execution_count": 37,
   "metadata": {},
   "outputs": [
    {
     "name": "stdout",
     "output_type": "stream",
     "text": [
      "Train on 7982 samples, validate on 1000 samples\n",
      "Epoch 1/4\n",
      "7982/7982 [==============================] - 4s 563us/step - loss: 0.1047 - acc: 0.9570 - val_loss: 1.0966 - val_acc: 0.8030\n",
      "Epoch 2/4\n",
      "7982/7982 [==============================] - 4s 524us/step - loss: 0.1001 - acc: 0.9593 - val_loss: 1.1101 - val_acc: 0.8050\n",
      "Epoch 3/4\n",
      "7982/7982 [==============================] - 5s 569us/step - loss: 0.1044 - acc: 0.9565 - val_loss: 1.1270 - val_acc: 0.8060\n",
      "Epoch 4/4\n",
      "7982/7982 [==============================] - 5s 587us/step - loss: 0.1048 - acc: 0.9564 - val_loss: 1.1917 - val_acc: 0.7860\n",
      "2246/2246 [==============================] - 5s 2ms/step\n"
     ]
    },
    {
     "data": {
      "text/plain": [
       "[1.3324294725063117, 0.7747105966162066]"
      ]
     },
     "execution_count": 37,
     "metadata": {},
     "output_type": "execute_result"
    }
   ],
   "source": [
    "history = model_3.fit(partial_x_train,\n",
    "                    partial_y_train,\n",
    "                    epochs=4,\n",
    "                    batch_size=512,\n",
    "                    validation_data=(x_val, y_val)\n",
    "                   )\n",
    "results = model_3.evaluate(x_test, one_hot_test_labels)\n",
    "results"
   ]
  },
  {
   "cell_type": "markdown",
   "metadata": {},
   "source": [
    "*** Таким образом, для модели из двух слоев самым удачным оказалось сочетание слоев из 256 и 128 нейронов ***  \n",
    "validation accuracy ~ 0.79"
   ]
  },
  {
   "cell_type": "markdown",
   "metadata": {},
   "source": [
    "** Один слой **"
   ]
  },
  {
   "cell_type": "code",
   "execution_count": 38,
   "metadata": {},
   "outputs": [
    {
     "name": "stdout",
     "output_type": "stream",
     "text": [
      "Train on 7982 samples, validate on 1000 samples\n",
      "Epoch 1/20\n",
      "7982/7982 [==============================] - 7s 887us/step - loss: 2.2101 - acc: 0.5717 - val_loss: 1.4356 - val_acc: 0.7140\n",
      "Epoch 2/20\n",
      "7982/7982 [==============================] - 4s 467us/step - loss: 1.1165 - acc: 0.7767 - val_loss: 1.0934 - val_acc: 0.7850\n",
      "Epoch 3/20\n",
      "7982/7982 [==============================] - 5s 582us/step - loss: 0.7773 - acc: 0.8413 - val_loss: 0.9591 - val_acc: 0.7990\n",
      "Epoch 4/20\n",
      "7982/7982 [==============================] - 5s 583us/step - loss: 0.5742 - acc: 0.8884 - val_loss: 0.8854 - val_acc: 0.8150\n",
      "Epoch 5/20\n",
      "7982/7982 [==============================] - 5s 594us/step - loss: 0.4360 - acc: 0.9136 - val_loss: 0.8320 - val_acc: 0.8230\n",
      "Epoch 6/20\n",
      "7982/7982 [==============================] - 5s 606us/step - loss: 0.3416 - acc: 0.9286 - val_loss: 0.8257 - val_acc: 0.8240\n",
      "Epoch 7/20\n",
      "7982/7982 [==============================] - 4s 493us/step - loss: 0.2756 - acc: 0.9404 - val_loss: 0.8216 - val_acc: 0.8210\n",
      "Epoch 8/20\n",
      "7982/7982 [==============================] - 5s 580us/step - loss: 0.2243 - acc: 0.9478 - val_loss: 0.8429 - val_acc: 0.8220\n",
      "Epoch 9/20\n",
      "7982/7982 [==============================] - 6s 733us/step - loss: 0.1948 - acc: 0.9484 - val_loss: 0.8266 - val_acc: 0.8280\n",
      "Epoch 10/20\n",
      "7982/7982 [==============================] - 5s 646us/step - loss: 0.1675 - acc: 0.9540 - val_loss: 0.8383 - val_acc: 0.8250\n",
      "Epoch 11/20\n",
      "7982/7982 [==============================] - 5s 569us/step - loss: 0.1520 - acc: 0.9541 - val_loss: 0.8961 - val_acc: 0.8120\n",
      "Epoch 12/20\n",
      "7982/7982 [==============================] - 5s 598us/step - loss: 0.1387 - acc: 0.9545 - val_loss: 0.8823 - val_acc: 0.8220\n",
      "Epoch 13/20\n",
      "7982/7982 [==============================] - 5s 606us/step - loss: 0.1290 - acc: 0.9563 - val_loss: 0.8945 - val_acc: 0.8170\n",
      "Epoch 14/20\n",
      "7982/7982 [==============================] - 4s 509us/step - loss: 0.1193 - acc: 0.9557 - val_loss: 0.9073 - val_acc: 0.8110\n",
      "Epoch 15/20\n",
      "7982/7982 [==============================] - 5s 570us/step - loss: 0.1132 - acc: 0.9567 - val_loss: 0.9162 - val_acc: 0.8200\n",
      "Epoch 16/20\n",
      "7982/7982 [==============================] - 5s 580us/step - loss: 0.1119 - acc: 0.9589 - val_loss: 0.9353 - val_acc: 0.8160\n",
      "Epoch 17/20\n",
      "7982/7982 [==============================] - 4s 553us/step - loss: 0.1056 - acc: 0.9575 - val_loss: 0.9509 - val_acc: 0.8150\n",
      "Epoch 18/20\n",
      "7982/7982 [==============================] - 5s 582us/step - loss: 0.1064 - acc: 0.9569 - val_loss: 0.9677 - val_acc: 0.8230\n",
      "Epoch 19/20\n",
      "7982/7982 [==============================] - 5s 675us/step - loss: 0.1007 - acc: 0.9584 - val_loss: 0.9845 - val_acc: 0.8070\n",
      "Epoch 20/20\n",
      "7982/7982 [==============================] - 6s 794us/step - loss: 0.1004 - acc: 0.9559 - val_loss: 1.0301 - val_acc: 0.8030\n"
     ]
    }
   ],
   "source": [
    "#128 units\n",
    "model = models.Sequential()\n",
    "model.add(layers.Dense(128, activation='relu', input_shape=(10000,)))\n",
    "model.add(layers.Dense(46, activation='softmax'))\n",
    "\n",
    "model.compile(optimizer='rmsprop',\n",
    "              loss='categorical_crossentropy',\n",
    "              metrics=['accuracy'])\n",
    "\n",
    "history = model.fit(partial_x_train,\n",
    "                    partial_y_train,\n",
    "                    epochs=20,\n",
    "                    batch_size=512,\n",
    "                    validation_data=(x_val, y_val)\n",
    "                   )"
   ]
  },
  {
   "cell_type": "code",
   "execution_count": 39,
   "metadata": {
    "scrolled": false
   },
   "outputs": [
    {
     "data": {
      "image/png": "[encoded data removed]",
      "text/plain": [
       "<matplotlib.figure.Figure at 0x1ef2db09be0>"
      ]
     },
     "metadata": {},
     "output_type": "display_data"
    }
   ],
   "source": [
    "loss = history.history['loss']\n",
    "val_loss = history.history['val_loss']\n",
    "\n",
    "epochs = range(1, len(loss128) + 1)\n",
    "\n",
    "plt.plot(epochs, loss, 'bo', label='Training loss')\n",
    "plt.plot(epochs, val_loss, 'b', label='Validation loss')\n",
    "plt.title('Training and validation loss')\n",
    "plt.xlabel('Epochs')\n",
    "plt.ylabel('Loss')\n",
    "plt.legend()\n",
    "\n",
    "plt.show()"
   ]
  },
  {
   "cell_type": "code",
   "execution_count": 40,
   "metadata": {
    "scrolled": true
   },
   "outputs": [
    {
     "data": {
      "image/png": "[encoded data removed]",
      "text/plain": [
       "<matplotlib.figure.Figure at 0x1ef6988ff60>"
      ]
     },
     "metadata": {},
     "output_type": "display_data"
    }
   ],
   "source": [
    "plt.clf()\n",
    "\n",
    "acc = history.history['acc']\n",
    "val_acc = history.history['val_acc']\n",
    "\n",
    "plt.plot(epochs, acc, 'bo', label='Training acc')\n",
    "plt.plot(epochs, val_acc, 'b', label='Validation acc')\n",
    "plt.title('Training and validation accuracy')\n",
    "plt.xlabel('Epochs')\n",
    "plt.ylabel('Accuracy')\n",
    "plt.legend()\n",
    "\n",
    "plt.show()"
   ]
  },
  {
   "cell_type": "code",
   "execution_count": 41,
   "metadata": {},
   "outputs": [
    {
     "name": "stdout",
     "output_type": "stream",
     "text": [
      "Train on 7982 samples, validate on 1000 samples\n",
      "Epoch 1/5\n",
      "7982/7982 [==============================] - 5s 629us/step - loss: 0.0986 - acc: 0.9563 - val_loss: 1.0217 - val_acc: 0.8070\n",
      "Epoch 2/5\n",
      "7982/7982 [==============================] - 4s 502us/step - loss: 0.0979 - acc: 0.9555 - val_loss: 1.0336 - val_acc: 0.8070\n",
      "Epoch 3/5\n",
      "7982/7982 [==============================] - 4s 462us/step - loss: 0.0970 - acc: 0.9578 - val_loss: 1.0365 - val_acc: 0.8060\n",
      "Epoch 4/5\n",
      "7982/7982 [==============================] - 5s 587us/step - loss: 0.0967 - acc: 0.9557 - val_loss: 1.0596 - val_acc: 0.8050\n",
      "Epoch 5/5\n",
      "7982/7982 [==============================] - 5s 639us/step - loss: 0.0933 - acc: 0.9580 - val_loss: 1.0780 - val_acc: 0.7990\n",
      "2246/2246 [==============================] - 2s 709us/step\n"
     ]
    },
    {
     "data": {
      "text/plain": [
       "[1.2373399420285587, 0.7880676758682101]"
      ]
     },
     "execution_count": 41,
     "metadata": {},
     "output_type": "execute_result"
    }
   ],
   "source": [
    "history = model.fit(partial_x_train,\n",
    "                    partial_y_train,\n",
    "                    epochs=5,\n",
    "                    batch_size=512,\n",
    "                    validation_data=(x_val, y_val)\n",
    "                   )\n",
    "results = model.evaluate(x_test, one_hot_test_labels)\n",
    "results"
   ]
  },
  {
   "cell_type": "markdown",
   "metadata": {},
   "source": [
    "***Таким образом, на нейросети из двух слоев можно добиться немного более высокой точности, чем на нейросети из одного слоя***"
   ]
  },
  {
   "cell_type": "markdown",
   "metadata": {},
   "source": [
    "** Три слоя **"
   ]
  },
  {
   "cell_type": "code",
   "execution_count": 42,
   "metadata": {},
   "outputs": [
    {
     "name": "stdout",
     "output_type": "stream",
     "text": [
      "Train on 7982 samples, validate on 1000 samples\n",
      "Epoch 1/20\n",
      "7982/7982 [==============================] - 12s 2ms/step - loss: 2.0089 - acc: 0.5739 - val_loss: 1.2328 - val_acc: 0.7160\n",
      "Epoch 2/20\n",
      "7982/7982 [==============================] - 8s 959us/step - loss: 0.9701 - acc: 0.7824 - val_loss: 0.9775 - val_acc: 0.7920\n",
      "Epoch 3/20\n",
      "7982/7982 [==============================] - 8s 994us/step - loss: 0.6193 - acc: 0.8675 - val_loss: 0.9162 - val_acc: 0.8150\n",
      "Epoch 4/20\n",
      "7982/7982 [==============================] - 8s 1ms/step - loss: 0.4315 - acc: 0.9072 - val_loss: 0.8463 - val_acc: 0.8240\n",
      "Epoch 5/20\n",
      "7982/7982 [==============================] - 8s 995us/step - loss: 0.2924 - acc: 0.9360 - val_loss: 0.8763 - val_acc: 0.8140\n",
      "Epoch 6/20\n",
      "7982/7982 [==============================] - 9s 1ms/step - loss: 0.2575 - acc: 0.9361 - val_loss: 0.8867 - val_acc: 0.8090\n",
      "Epoch 7/20\n",
      "7982/7982 [==============================] - 8s 995us/step - loss: 0.1871 - acc: 0.9495 - val_loss: 0.8734 - val_acc: 0.8230\n",
      "Epoch 8/20\n",
      "7982/7982 [==============================] - 9s 1ms/step - loss: 0.1641 - acc: 0.9533 - val_loss: 0.9375 - val_acc: 0.7970\n",
      "Epoch 9/20\n",
      "7982/7982 [==============================] - 9s 1ms/step - loss: 0.1544 - acc: 0.9560 - val_loss: 0.9973 - val_acc: 0.7970\n",
      "Epoch 10/20\n",
      "7982/7982 [==============================] - 8s 1ms/step - loss: 0.1433 - acc: 0.9541 - val_loss: 0.9848 - val_acc: 0.8020\n",
      "Epoch 11/20\n",
      "7982/7982 [==============================] - 7s 898us/step - loss: 0.1291 - acc: 0.9555 - val_loss: 1.0399 - val_acc: 0.7960\n",
      "Epoch 12/20\n",
      "7982/7982 [==============================] - 10s 1ms/step - loss: 0.1270 - acc: 0.9555 - val_loss: 1.0627 - val_acc: 0.7990\n",
      "Epoch 13/20\n",
      "7982/7982 [==============================] - 8s 1ms/step - loss: 0.1217 - acc: 0.9565 - val_loss: 1.0038 - val_acc: 0.8040\n",
      "Epoch 14/20\n",
      "7982/7982 [==============================] - 9s 1ms/step - loss: 0.1197 - acc: 0.9579 - val_loss: 0.9978 - val_acc: 0.8030\n",
      "Epoch 15/20\n",
      "7982/7982 [==============================] - 7s 880us/step - loss: 0.1090 - acc: 0.9584 - val_loss: 1.0860 - val_acc: 0.7980\n",
      "Epoch 16/20\n",
      "7982/7982 [==============================] - 7s 921us/step - loss: 0.1096 - acc: 0.9579 - val_loss: 1.0226 - val_acc: 0.8030\n",
      "Epoch 17/20\n",
      "7982/7982 [==============================] - 8s 966us/step - loss: 0.1072 - acc: 0.9560 - val_loss: 1.1613 - val_acc: 0.7900\n",
      "Epoch 18/20\n",
      "7982/7982 [==============================] - 7s 890us/step - loss: 0.1011 - acc: 0.9558 - val_loss: 1.0143 - val_acc: 0.8090\n",
      "Epoch 19/20\n",
      "7982/7982 [==============================] - 10s 1ms/step - loss: 0.1001 - acc: 0.9578 - val_loss: 1.0652 - val_acc: 0.8050\n",
      "Epoch 20/20\n",
      "7982/7982 [==============================] - 11s 1ms/step - loss: 0.0980 - acc: 0.9564 - val_loss: 1.0715 - val_acc: 0.8040\n"
     ]
    }
   ],
   "source": [
    "#256+128+64 units\n",
    "model = models.Sequential()\n",
    "model.add(layers.Dense(256, activation='relu', input_shape=(10000,)))\n",
    "model.add(layers.Dense(128, activation='relu', input_shape=(10000,)))\n",
    "model.add(layers.Dense(46, activation='softmax'))\n",
    "\n",
    "model.compile(optimizer='rmsprop',\n",
    "              loss='categorical_crossentropy',\n",
    "              metrics=['accuracy'])\n",
    "\n",
    "history = model.fit(partial_x_train,\n",
    "                    partial_y_train,\n",
    "                    epochs=20,\n",
    "                    batch_size=512,\n",
    "                    validation_data=(x_val, y_val)\n",
    "                   )"
   ]
  },
  {
   "cell_type": "code",
   "execution_count": 43,
   "metadata": {
    "scrolled": false
   },
   "outputs": [
    {
     "data": {
      "image/png": "[encoded data removed]",
      "text/plain": [
       "<matplotlib.figure.Figure at 0x1ef3299b438>"
      ]
     },
     "metadata": {},
     "output_type": "display_data"
    }
   ],
   "source": [
    "loss = history.history['loss']\n",
    "val_loss = history.history['val_loss']\n",
    "\n",
    "epochs = range(1, len(loss128) + 1)\n",
    "\n",
    "plt.plot(epochs, loss, 'bo', label='Training loss')\n",
    "plt.plot(epochs, val_loss, 'b', label='Validation loss')\n",
    "plt.title('Training and validation loss')\n",
    "plt.xlabel('Epochs')\n",
    "plt.ylabel('Loss')\n",
    "plt.legend()\n",
    "\n",
    "plt.show()"
   ]
  },
  {
   "cell_type": "code",
   "execution_count": 44,
   "metadata": {
    "scrolled": true
   },
   "outputs": [
    {
     "data": {
      "image/png": "[encoded data removed]",
      "text/plain": [
       "<matplotlib.figure.Figure at 0x1ef34f91c50>"
      ]
     },
     "metadata": {},
     "output_type": "display_data"
    }
   ],
   "source": [
    "plt.clf()\n",
    "\n",
    "acc = history.history['acc']\n",
    "val_acc = history.history['val_acc']\n",
    "\n",
    "plt.plot(epochs, acc, 'bo', label='Training acc')\n",
    "plt.plot(epochs, val_acc, 'b', label='Validation acc')\n",
    "plt.title('Training and validation accuracy')\n",
    "plt.xlabel('Epochs')\n",
    "plt.ylabel('Accuracy')\n",
    "plt.legend()\n",
    "\n",
    "plt.show()"
   ]
  },
  {
   "cell_type": "code",
   "execution_count": 45,
   "metadata": {},
   "outputs": [
    {
     "name": "stdout",
     "output_type": "stream",
     "text": [
      "Train on 7982 samples, validate on 1000 samples\n",
      "Epoch 1/4\n",
      "7982/7982 [==============================] - 7s 824us/step - loss: 0.0957 - acc: 0.9583 - val_loss: 1.1673 - val_acc: 0.7910\n",
      "Epoch 2/4\n",
      "7982/7982 [==============================] - 7s 881us/step - loss: 0.0900 - acc: 0.9568 - val_loss: 1.1331 - val_acc: 0.8000\n",
      "Epoch 3/4\n",
      "7982/7982 [==============================] - 7s 896us/step - loss: 0.0902 - acc: 0.9568 - val_loss: 1.1372 - val_acc: 0.7940\n",
      "Epoch 4/4\n",
      "7982/7982 [==============================] - 6s 804us/step - loss: 0.0882 - acc: 0.9587 - val_loss: 1.2141 - val_acc: 0.7980\n",
      "2246/2246 [==============================] - 5s 2ms/step\n"
     ]
    },
    {
     "data": {
      "text/plain": [
       "[1.4132643125997733, 0.778717720444884]"
      ]
     },
     "execution_count": 45,
     "metadata": {},
     "output_type": "execute_result"
    }
   ],
   "source": [
    "history = model.fit(partial_x_train,\n",
    "                    partial_y_train,\n",
    "                    epochs=4,\n",
    "                    batch_size=512,\n",
    "                    validation_data=(x_val, y_val)\n",
    "                   )\n",
    "results = model.evaluate(x_test, one_hot_test_labels)\n",
    "results"
   ]
  },
  {
   "cell_type": "markdown",
   "metadata": {},
   "source": [
    "**Итак, два слоя для данной задачи - лучшее решение  \n",
    "Точность при трёх слоях немного снижается**"
   ]
  },
  {
   "cell_type": "markdown",
   "metadata": {
    "colab_type": "text",
    "id": "7TO59PYKVNGE",
    "slideshow": {
     "slide_type": "slide"
    }
   },
   "source": [
    "### Wrapping up\n",
    "\n",
    "* If you’re trying to classify data points among N classes, your network should end with a ```Dense``` layer of size N.\n"
   ]
  },
  {
   "cell_type": "markdown",
   "metadata": {
    "colab_type": "text",
    "id": "kpuW92F9VNGF",
    "slideshow": {
     "slide_type": "fragment"
    }
   },
   "source": [
    "* In a single-label, multiclass classification problem, your network should end with a ```softmax``` activation so that it will output a probability distribution over the N output classes.\n"
   ]
  },
  {
   "cell_type": "markdown",
   "metadata": {
    "colab_type": "text",
    "id": "QGpz8IskVNGF",
    "slideshow": {
     "slide_type": "fragment"
    }
   },
   "source": [
    "* Categorical crossentropy is almost always the loss function you should use for such problems. It minimizes the distance between the probability distributions output by the network and the true distribution of the targets.\n"
   ]
  },
  {
   "cell_type": "markdown",
   "metadata": {
    "colab_type": "text",
    "id": "QUE5UlYaVNGG",
    "slideshow": {
     "slide_type": "subslide"
    }
   },
   "source": [
    "* There are two ways to handle labels in multiclass classification:\n",
    "     * Encoding the labels via categorical encoding (also known as one-hot encoding) and using ```categorical_crossentropy``` as a loss function\n",
    "     \n",
    "     * Encoding the labels as integers and using the ```sparse_categorical_crossentropy``` loss function\n"
   ]
  },
  {
   "cell_type": "markdown",
   "metadata": {
    "colab_type": "text",
    "id": "jjUviO9DVNGG",
    "slideshow": {
     "slide_type": "fragment"
    }
   },
   "source": [
    "* If you need to classify data into a large number of categories, you should avoid creating information bottlenecks in your network due to intermediate layers that are too small."
   ]
  },
  {
   "cell_type": "markdown",
   "metadata": {
    "colab_type": "text",
    "id": "V426k-CSVNGH",
    "slideshow": {
     "slide_type": "slide"
    }
   },
   "source": [
    "## Predicting house prices: a regression example\n",
    "\n",
    "The two previous examples were considered classification problems, where the goal was to predict a single discrete label of an input data point. Another common type of machine-learning problem is regression, which consists of predicting a continuous value instead of a discrete label: for instance, predicting the temperature tomorrow, given meteorological data; or predicting the time that a software project will take to complete, given its specifications.\n",
    "\n"
   ]
  },
  {
   "cell_type": "markdown",
   "metadata": {
    "colab_type": "text",
    "id": "B3QoxLMuVNGH",
    "slideshow": {
     "slide_type": "slide"
    }
   },
   "source": [
    "### The Boston Housing Price dataset\n",
    "\n",
    "\n",
    "You’ll attempt to predict the median price of homes in a given Boston suburb in the mid-1970s, given data points about the suburb at the time, such as the crime rate, the local property tax rate, and so on. The dataset you’ll use has an interesting difference from the two previous examples. It has relatively few data points: only 506, split between 404 training samples and 102 test samples. And each feature in the input data (for example, the crime rate) has a different scale. For instance, some values are proportions, which take values between 0 and 1; others take values between 1 and 12, others between 0 and 100, and so on.\n",
    "\n"
   ]
  },
  {
   "cell_type": "code",
   "execution_count": null,
   "metadata": {
    "colab": {},
    "colab_type": "code",
    "collapsed": true,
    "id": "Ed9VqZDMVNGI",
    "slideshow": {
     "slide_type": "subslide"
    }
   },
   "outputs": [],
   "source": [
    "from keras.datasets import boston_housing\n",
    "\n",
    "(train_data, train_targets), (test_data, test_targets) = boston_housing.load_data()"
   ]
  },
  {
   "cell_type": "markdown",
   "metadata": {
    "colab_type": "text",
    "id": "FhKGVPgcVNGK",
    "slideshow": {
     "slide_type": "fragment"
    }
   },
   "source": [
    "Let’s look at the data:"
   ]
  },
  {
   "cell_type": "code",
   "execution_count": null,
   "metadata": {
    "colab": {},
    "colab_type": "code",
    "collapsed": true,
    "id": "T5EWtzt7VNGK",
    "outputId": "9f0425c3-ae69-4426-9bde-2cf2a7143701",
    "slideshow": {
     "slide_type": "fragment"
    }
   },
   "outputs": [],
   "source": [
    "print('Shape of train data: {}'.format(train_data.shape))\n",
    "print('Shape of test data: {}'.format(test_data.shape))"
   ]
  },
  {
   "cell_type": "markdown",
   "metadata": {
    "colab_type": "text",
    "id": "MF2GDPoTVNGM",
    "slideshow": {
     "slide_type": "fragment"
    }
   },
   "source": [
    "The targets are the median values of owner-occupied homes, in thousands of dollars:\n",
    "\n"
   ]
  },
  {
   "cell_type": "code",
   "execution_count": null,
   "metadata": {
    "colab": {},
    "colab_type": "code",
    "collapsed": true,
    "id": "GDLKtZ1RVNGM",
    "outputId": "16f69aac-68a6-4433-e5e4-a78d10c90e9e",
    "slideshow": {
     "slide_type": "fragment"
    }
   },
   "outputs": [],
   "source": [
    "train_targets[:10]"
   ]
  },
  {
   "cell_type": "markdown",
   "metadata": {
    "colab_type": "text",
    "id": "pVPvzozlVNGP",
    "slideshow": {
     "slide_type": "fragment"
    }
   },
   "source": [
    "The prices are typically between \\$10,000 and \\$50,000. If that sounds cheap, remember that this was the mid-1970s, and these prices aren’t adjusted for inflation."
   ]
  },
  {
   "cell_type": "markdown",
   "metadata": {
    "colab_type": "text",
    "id": "k_bAy0vQVNGQ",
    "slideshow": {
     "slide_type": "slide"
    }
   },
   "source": [
    "###  Preparing the data\n",
    "\n",
    "It would be problematic to feed into a neural network values that all take wildly different ranges. The network might be able to automatically adapt to such heterogeneous data, but it would definitely make learning more difficult. A widespread best practice to deal with such data is to do feature-wise normalization: for each feature in the input data (a column in the input data matrix), you subtract the mean of the feature and divide by the standard deviation, so that the feature is centered around 0 and has a unit standard deviation. This is easily done in Numpy.\n",
    "\n"
   ]
  },
  {
   "cell_type": "code",
   "execution_count": null,
   "metadata": {
    "colab": {},
    "colab_type": "code",
    "collapsed": true,
    "id": "fK_8A2prVNGQ",
    "slideshow": {
     "slide_type": "fragment"
    }
   },
   "outputs": [],
   "source": [
    "mean = train_data.mean(axis=0)\n",
    "train_data -= mean\n",
    "std = train_data.std(axis=0)\n",
    "train_data /= std\n",
    "\n",
    "test_data -= mean\n",
    "test_data /= std"
   ]
  },
  {
   "cell_type": "markdown",
   "metadata": {
    "colab_type": "text",
    "id": "LkZw4O__VNGS",
    "slideshow": {
     "slide_type": "fragment"
    }
   },
   "source": [
    "Note that the quantities used for normalizing the test data are computed using the training data. You should never use in your workflow any quantity computed on the test data, even for something as simple as data normalization.\n",
    "\n"
   ]
  },
  {
   "cell_type": "markdown",
   "metadata": {
    "colab_type": "text",
    "id": "bOPePtHXVNGT",
    "slideshow": {
     "slide_type": "slide"
    }
   },
   "source": [
    "### Building your network\n",
    "\n",
    "Because so few samples are available, you’ll use a very small network with two hidden layers, each with 64 units. In general, the less training data you have, the worse overfitting will be, and using a small network is one way to mitigate overfitting."
   ]
  },
  {
   "cell_type": "code",
   "execution_count": null,
   "metadata": {
    "colab": {},
    "colab_type": "code",
    "collapsed": true,
    "id": "3-e7HqphVNGU",
    "slideshow": {
     "slide_type": "fragment"
    }
   },
   "outputs": [],
   "source": [
    "from keras import models\n",
    "from keras import layers\n",
    "\n",
    "def build_model():\n",
    "    model = models.Sequential()\n",
    "    model.add(layers.Dense(64, activation='relu',\n",
    "                           input_shape=(train_data.shape[1],)))\n",
    "    model.add(layers.Dense(64, activation='relu'))\n",
    "    model.add(layers.Dense(1))\n",
    "    model.compile(optimizer='rmsprop', loss='mse', metrics=['mae'])\n",
    "    return model\n"
   ]
  },
  {
   "cell_type": "markdown",
   "metadata": {
    "colab_type": "text",
    "id": "xlsUNyM6VNGW",
    "slideshow": {
     "slide_type": "subslide"
    }
   },
   "source": [
    "The network ends with a single unit and no activation (it will be a linear layer). This is a typical setup for scalar regression (a regression where you’re trying to predict a single continuous value). Applying an activation function would constrain the range the output can take; for instance, if you applied a ```sigmoid``` activation function to the last layer, the network could only learn to predict values between 0 and 1. Here, because the last layer is purely linear, the network is free to learn to predict values in any range.\n",
    "\n"
   ]
  },
  {
   "cell_type": "markdown",
   "metadata": {
    "colab_type": "text",
    "id": "jVVvzqU3VNGW",
    "slideshow": {
     "slide_type": "fragment"
    }
   },
   "source": [
    "Note that you compile the network with the ```mse``` loss function—**mean squared error**, the square of the difference between the predictions and the targets. This is a widely used loss function for regression problems.\n",
    "\n",
    "You’re also monitoring a new metric during training: **mean absolute error (MAE)**. It’s the absolute value of the difference between the predictions and the targets. For instance, an MAE of 0.5 on this problem would mean your predictions are off by \\$500 on average.\n",
    "\n"
   ]
  },
  {
   "cell_type": "markdown",
   "metadata": {
    "colab_type": "text",
    "id": "8-3dK5FNVNGX",
    "slideshow": {
     "slide_type": "slide"
    }
   },
   "source": [
    "### Validating your approach using K-fold validation\n",
    "\n",
    "To evaluate your network while you keep adjusting its parameters (such as the number of epochs used for training), you could split the data into a training set and a validation set, as you did in the previous examples. But because you have so few data points, the validation set would end up being very small (for instance, about 100 examples). As a consequence, the validation scores might change a lot depending on which data points you chose to use for validation and which you chose for training: the validation scores might have a high variance with regard to the validation split. This would prevent you from reliably evaluating your model.\n",
    "\n"
   ]
  },
  {
   "cell_type": "markdown",
   "metadata": {
    "colab_type": "text",
    "id": "_X14K0owVNGX",
    "slideshow": {
     "slide_type": "subslide"
    }
   },
   "source": [
    "The best practice in such situations is to use **K-fold cross-validation**. It consists of splitting the available data into **K** partitions (typically K = 4 or 5), instantiating K identical models, and training each one on K – 1 partitions while evaluating on the remaining partition. The validation score for the model used is then the average of the K validation scores obtained. In terms of code, this is straightforward.\n",
    "\n",
    "![](https://dpzbhybb2pdcj.cloudfront.net/chollet/Figures/03fig11_alt.jpg)"
   ]
  },
  {
   "cell_type": "code",
   "execution_count": null,
   "metadata": {
    "colab": {},
    "colab_type": "code",
    "collapsed": true,
    "id": "is5VfNYAVNGX",
    "outputId": "72bb6bb8-dfb6-4faf-f8c1-ea7a39f71a52",
    "slideshow": {
     "slide_type": "subslide"
    }
   },
   "outputs": [],
   "source": [
    "import numpy as np\n",
    "\n",
    "k = 4\n",
    "num_val_samples = len(train_data) // k\n",
    "num_epochs = 100\n",
    "all_scores = []\n",
    "for i in range(k):\n",
    "    print('processing fold #', i)\n",
    "    val_data = train_data[i * num_val_samples: (i + 1) * num_val_samples]\n",
    "    val_targets = train_targets[i * num_val_samples: (i + 1) * num_val_samples]\n",
    "\n",
    "    partial_train_data = np.concatenate(\n",
    "        [train_data[:i * num_val_samples],\n",
    "         train_data[(i + 1) * num_val_samples:]],\n",
    "        axis=0)\n",
    "    partial_train_targets = np.concatenate(\n",
    "        [train_targets[:i * num_val_samples],\n",
    "         train_targets[(i + 1) * num_val_samples:]],\n",
    "        axis=0)\n",
    "\n",
    "    model = build_model()\n",
    "    model.fit(partial_train_data, partial_train_targets,\n",
    "              epochs=num_epochs, batch_size=1, verbose=0)\n",
    "    val_mse, val_mae = model.evaluate(val_data, val_targets, verbose=0)\n",
    "    all_scores.append(val_mae)\n"
   ]
  },
  {
   "cell_type": "markdown",
   "metadata": {
    "colab_type": "text",
    "id": "XxHY4mzNVNGa",
    "slideshow": {
     "slide_type": "subslide"
    }
   },
   "source": [
    "Running this with num_epochs = 100 yields the following results:\n",
    "\n"
   ]
  },
  {
   "cell_type": "code",
   "execution_count": null,
   "metadata": {
    "colab": {},
    "colab_type": "code",
    "collapsed": true,
    "id": "H8Czl9QRVNGa",
    "outputId": "4caf749d-0ca4-44c2-e856-9b1e095d19c4",
    "slideshow": {
     "slide_type": "fragment"
    }
   },
   "outputs": [],
   "source": [
    "print(all_scores)\n",
    "print(np.mean(all_scores))"
   ]
  },
  {
   "cell_type": "markdown",
   "metadata": {
    "colab_type": "text",
    "id": "xcYdih1EVNGh",
    "slideshow": {
     "slide_type": "fragment"
    }
   },
   "source": [
    "The different runs do indeed show rather different validation scores, from 2.08 to 2.96. The average (3.0) is a much more reliable metric than any single score—that’s the entire point of K-fold cross-validation. In this case, you’re off by \\$3,000 on average, which is significant considering that the prices range from \\$10,000 to \\$50,000.\n",
    "\n"
   ]
  },
  {
   "cell_type": "markdown",
   "metadata": {
    "colab_type": "text",
    "id": "g6zoVvfuVNGl",
    "slideshow": {
     "slide_type": "subslide"
    }
   },
   "source": [
    "Let’s try training the network a bit longer: 500 epochs. To keep a record of how well the model does at each epoch, you’ll modify the training loop to save the per-epoch validation score log."
   ]
  },
  {
   "cell_type": "code",
   "execution_count": null,
   "metadata": {
    "colab": {},
    "colab_type": "code",
    "collapsed": true,
    "id": "Nw4fLehxVNGm",
    "outputId": "f3ee1e08-b401-40bc-b27a-7f39e29dedb0",
    "slideshow": {
     "slide_type": "fragment"
    }
   },
   "outputs": [],
   "source": [
    "num_epochs = 500\n",
    "all_mae_histories = []\n",
    "for i in range(k):\n",
    "    print('processing fold #', i)\n",
    "    val_data = train_data[i * num_val_samples: (i + 1) * num_val_samples]\n",
    "    val_targets = train_targets[i * num_val_samples: (i + 1) * num_val_samples]\n",
    "    partial_train_data = np.concatenate(\n",
    "        [train_data[:i * num_val_samples],\n",
    "         train_data[(i + 1) * num_val_samples:]],\n",
    "        axis=0)\n",
    "    partial_train_targets = np.concatenate(\n",
    "        [train_targets[:i * num_val_samples],\n",
    "         train_targets[(i + 1) * num_val_samples:]],\n",
    "        axis=0)\n",
    "\n",
    "    model = build_model()\n",
    "    history = model.fit(partial_train_data, partial_train_targets,\n",
    "                        validation_data=(val_data, val_targets),\n",
    "                        epochs=num_epochs, batch_size=1, verbose=0)\n",
    "    mae_history = history.history['val_mean_absolute_error']\n",
    "    all_mae_histories.append(mae_history)\n",
    "    "
   ]
  },
  {
   "cell_type": "markdown",
   "metadata": {
    "colab_type": "text",
    "id": "M34R4GNGVNGp",
    "slideshow": {
     "slide_type": "subslide"
    }
   },
   "source": [
    "You can then compute the average of the per-epoch MAE scores for all folds.\n",
    "\n"
   ]
  },
  {
   "cell_type": "code",
   "execution_count": null,
   "metadata": {
    "colab": {},
    "colab_type": "code",
    "collapsed": true,
    "id": "Fcu0Qa-MVNGq",
    "outputId": "fb561ebf-e00c-4551-e8da-cd4117f434fa",
    "slideshow": {
     "slide_type": "fragment"
    }
   },
   "outputs": [],
   "source": [
    "average_mae_history = [\n",
    "    np.mean([x[i] for x in all_mae_histories]) for i in range(num_epochs)]\n",
    "\n",
    "import matplotlib.pyplot as plt\n",
    "\n",
    "plt.plot(range(1, len(average_mae_history) + 1), average_mae_history)\n",
    "plt.xlabel('Epochs')\n",
    "plt.ylabel('Validation MAE')\n",
    "plt.show()"
   ]
  },
  {
   "cell_type": "markdown",
   "metadata": {
    "colab_type": "text",
    "id": "Tubb3u4rVNGt",
    "slideshow": {
     "slide_type": "fragment"
    }
   },
   "source": [
    "It may be a little difficult to see the plot, due to scaling issues and relatively high variance. "
   ]
  },
  {
   "cell_type": "markdown",
   "metadata": {
    "colab_type": "text",
    "id": "aBKKPnb0VNGu",
    "slideshow": {
     "slide_type": "subslide"
    }
   },
   "source": [
    "Let’s do the following:\n",
    "\n",
    "Omit the first 10 data points, which are on a different scale than the rest of the curve.\n",
    "Replace each point with an exponential moving average of the previous points, to obtain a smooth curve."
   ]
  },
  {
   "cell_type": "code",
   "execution_count": null,
   "metadata": {
    "colab": {},
    "colab_type": "code",
    "collapsed": true,
    "id": "k_MbicsjVNGu",
    "outputId": "ea1c86d5-297d-493a-d911-a97e7ecb8720",
    "slideshow": {
     "slide_type": "fragment"
    }
   },
   "outputs": [],
   "source": [
    "def smooth_curve(points, factor=0.9):\n",
    "    smoothed_points = []\n",
    "    for point in points:\n",
    "        if smoothed_points:\n",
    "            previous = smoothed_points[-1]\n",
    "            smoothed_points.append(previous * factor + point * (1 - factor))\n",
    "        else:\n",
    "            smoothed_points.append(point)\n",
    "    return smoothed_points\n",
    "\n",
    "smooth_mae_history = smooth_curve(average_mae_history[10:])\n",
    "\n",
    "plt.plot(range(1, len(smooth_mae_history) + 1), smooth_mae_history)\n",
    "plt.xlabel('Epochs')\n",
    "plt.ylabel('Validation MAE')\n",
    "plt.show()"
   ]
  },
  {
   "cell_type": "markdown",
   "metadata": {
    "colab_type": "text",
    "id": "LZobjJMFVNGw",
    "slideshow": {
     "slide_type": "subslide"
    }
   },
   "source": [
    "According to this plot, validation MAE stops improving significantly after 80 epochs. Past that point, you start overfitting.\n",
    "\n"
   ]
  },
  {
   "cell_type": "markdown",
   "metadata": {
    "colab_type": "text",
    "id": "fbFdJweGVNGx",
    "slideshow": {
     "slide_type": "fragment"
    }
   },
   "source": [
    "Once you’re finished tuning other parameters of the model (in addition to the number of epochs, you could also adjust the size of the hidden layers), you can train a final production model on all of the training data, with the best parameters, and then look at its performance on the test data.\n",
    "\n"
   ]
  },
  {
   "cell_type": "code",
   "execution_count": null,
   "metadata": {
    "colab": {},
    "colab_type": "code",
    "collapsed": true,
    "id": "FbeNoB34VNGx",
    "slideshow": {
     "slide_type": "fragment"
    }
   },
   "outputs": [],
   "source": [
    "model = build_model()\n",
    "model.fit(train_data, train_targets,\n",
    "          epochs=80, batch_size=16, verbose=0)\n",
    "test_mse_score, test_mae_score = model.evaluate(test_data, test_targets)\n"
   ]
  },
  {
   "cell_type": "markdown",
   "metadata": {
    "colab_type": "text",
    "id": "_b5eA9gLVNG4",
    "slideshow": {
     "slide_type": "fragment"
    }
   },
   "source": [
    "Here’s the final result:"
   ]
  },
  {
   "cell_type": "code",
   "execution_count": null,
   "metadata": {
    "colab": {
     "base_uri": "https://localhost:8080/",
     "height": 163
    },
    "colab_type": "code",
    "collapsed": true,
    "executionInfo": {
     "elapsed": 686,
     "status": "error",
     "timestamp": 1541848725975,
     "user": {
      "displayName": "Лингвисты 4 курс 15ФПЛ",
      "photoUrl": "",
      "userId": "07722014738513937459"
     },
     "user_tz": -120
    },
    "id": "2tw3TpG9VNG8",
    "outputId": "f116bf95-5545-417d-9528-d23bb64f19e5",
    "slideshow": {
     "slide_type": "fragment"
    }
   },
   "outputs": [],
   "source": [
    "test_mae_score"
   ]
  },
  {
   "cell_type": "markdown",
   "metadata": {
    "colab_type": "text",
    "id": "kwOOqnFeVNG_",
    "slideshow": {
     "slide_type": "fragment"
    }
   },
   "source": [
    "You’re still off by about \\$2,550.\n",
    "\n"
   ]
  },
  {
   "cell_type": "markdown",
   "metadata": {
    "colab_type": "text",
    "id": "bte08ubnVNHA",
    "slideshow": {
     "slide_type": "slide"
    }
   },
   "source": [
    "### Wrapping up\n",
    "\n",
    "* Regression is done using different loss functions than what we used for classification. Mean squared error (MSE) is a loss function commonly used for regression.\n"
   ]
  },
  {
   "cell_type": "markdown",
   "metadata": {
    "colab_type": "text",
    "id": "YFZXXbacVNHA",
    "slideshow": {
     "slide_type": "fragment"
    }
   },
   "source": [
    "* Similarly, evaluation metrics to be used for regression differ from those used for classification; naturally, the concept of accuracy doesn’t apply for regression. A common regression metric is mean absolute error (MAE).\n"
   ]
  },
  {
   "cell_type": "markdown",
   "metadata": {
    "colab_type": "text",
    "id": "KxfRjf54VNHB",
    "slideshow": {
     "slide_type": "fragment"
    }
   },
   "source": [
    "* When features in the input data have values in different ranges, each feature should be scaled independently as a preprocessing step.\n"
   ]
  },
  {
   "cell_type": "markdown",
   "metadata": {
    "colab_type": "text",
    "id": "zuA0pHKjVNHC",
    "slideshow": {
     "slide_type": "fragment"
    }
   },
   "source": [
    "* When there is little data available, using K-fold validation is a great way to reliably evaluate a model.\n"
   ]
  },
  {
   "cell_type": "markdown",
   "metadata": {
    "colab_type": "text",
    "id": "jHNDlVxDVNHH",
    "slideshow": {
     "slide_type": "fragment"
    }
   },
   "source": [
    "* When little training data is available, it’s preferable to use a small network with few hidden layers (typically only one or two), in order to avoid severe overfitting."
   ]
  },
  {
   "cell_type": "code",
   "execution_count": null,
   "metadata": {
    "colab": {},
    "colab_type": "code",
    "collapsed": true,
    "id": "LvrXIvMDVNHI"
   },
   "outputs": [],
   "source": []
  }
 ],
 "metadata": {
  "colab": {
   "name": "Lecture2(NN).ipynb",
   "provenance": [],
   "version": "0.3.2"
  },
  "kernelspec": {
   "display_name": "Python 3",
   "language": "python",
   "name": "python3"
  },
  "language_info": {
   "codemirror_mode": {
    "name": "ipython",
    "version": 3
   },
   "file_extension": ".py",
   "mimetype": "text/x-python",
   "name": "python",
   "nbconvert_exporter": "python",
   "pygments_lexer": "ipython3",
   "version": "3.6.3"
  }
 },
 "nbformat": 4,
 "nbformat_minor": 1
}
